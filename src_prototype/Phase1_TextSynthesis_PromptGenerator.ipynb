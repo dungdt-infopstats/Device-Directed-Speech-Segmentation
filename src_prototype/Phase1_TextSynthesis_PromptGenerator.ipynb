{
  "nbformat": 4,
  "nbformat_minor": 0,
  "metadata": {
    "colab": {
      "provenance": [],
      "authorship_tag": "ABX9TyP/DakInUz6inrKDpr1ktPn",
      "include_colab_link": true
    },
    "kernelspec": {
      "name": "python3",
      "display_name": "Python 3"
    },
    "language_info": {
      "name": "python"
    }
  },
  "cells": [
    {
      "cell_type": "markdown",
      "metadata": {
        "id": "view-in-github",
        "colab_type": "text"
      },
      "source": [
        "<a href=\"https://colab.research.google.com/github/10udCryp7/TV-command-synthesis/blob/main/src_prototype/Phase1_TextSynthesis_PromptGenerator.ipynb\" target=\"_parent\"><img src=\"https://colab.research.google.com/assets/colab-badge.svg\" alt=\"Open In Colab\"/></a>"
      ]
    },
    {
      "cell_type": "code",
      "execution_count": null,
      "metadata": {
        "id": "PjZuSeD6Dz9W"
      },
      "outputs": [],
      "source": [
        "import random\n",
        "\n",
        "class PromptGenerator():\n",
        "  def __init__(self, num_samples_command: int, num_samples_content: int,\n",
        "               chain_length: int, prompt_dir: str, prompt_types: list,\n",
        "               list_corpus: list[list[str]], list_command: list[str],\n",
        "               list_position: list[str], generated_num: int):\n",
        "    self.num_samples_command = num_samples_command\n",
        "    self.num_samples_content = num_samples_content\n",
        "    self.chain_length = chain_length # for chain case\n",
        "    self.prompt_dir = prompt_dir\n",
        "    self.prompt_types = prompt_types\n",
        "    self.list_corpus = list_corpus\n",
        "    self.list_command = list_command\n",
        "    self.list_position = list_position\n",
        "    self.generated_num = generated_num\n",
        "\n",
        "  def content_sample(self):\n",
        "    # corpus = list of list\n",
        "    sample_list = []\n",
        "    # sampling content from each data corpus\n",
        "    for lis_sample in self.list_corpus:\n",
        "      sample_list.append(random.sample(lis_sample, self.num_samples_content))\n",
        "\n",
        "    return sample_list\n",
        "\n",
        "  def command_sample(self):\n",
        "    sample = random.sample(self.list_command, self.num_samples_command)\n",
        "    return sample\n",
        "\n",
        "  def get_prompt(self, prompt_type, sampled_command, sampled_content, command_position = None):\n",
        "    prompt_dict = {} # get from config\n",
        "\n",
        "    prompt_template = prompt_dict[prompt_type]\n",
        "    if command_position is not None:\n",
        "      prompt = prompt_template.format(command_list = sampled_command,\n",
        "                                      content_list = sampled_contents,\n",
        "                                      generated_num = self.generated_num,\n",
        "                                      command_position = command_position)\n",
        "    else:\n",
        "      prompt = prompt_template.format(command_list = sampled_command,\n",
        "                                      content_list = sampled_contents,\n",
        "                                      generated_num = self.generated_num)\n",
        "\n",
        "    return prompt\n",
        "\n",
        "  def position_sample(self)\n",
        "    sample = random.sample(self.list_position, 3)\n",
        "    return sample\n",
        "\n",
        "  def generate_prompt(self):\n",
        "    prompts = {}\n",
        "    for prompt_type in self.prompt_types:\n",
        "      sampled_command = self.command_sample(self.list_command)\n",
        "      sampled_contents = self.content_sample(self.list_corpus)\n",
        "\n",
        "      prompt = self.get_prompt(prompt_name,\n",
        "                              command_list = sampled_command,\n",
        "                              content_list = sampled_contents)\n",
        "\n",
        "      prompts[prompt_type] = prompt\n",
        "    return prompts\n"
      ]
    },
    {
      "cell_type": "code",
      "source": [],
      "metadata": {
        "id": "4OakVP6WHrSo"
      },
      "execution_count": null,
      "outputs": []
    }
  ]
}
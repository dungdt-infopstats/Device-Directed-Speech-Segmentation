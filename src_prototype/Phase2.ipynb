{
  "nbformat": 4,
  "nbformat_minor": 0,
  "metadata": {
    "colab": {
      "provenance": [],
      "gpuType": "T4",
      "machine_shape": "hm",
      "authorship_tag": "ABX9TyPGDLAxuLDn1gLCWTZdyvY2",
      "include_colab_link": true
    },
    "kernelspec": {
      "name": "python3",
      "display_name": "Python 3"
    },
    "language_info": {
      "name": "python"
    },
    "accelerator": "GPU",
    "widgets": {
      "application/vnd.jupyter.widget-state+json": {
        "17782863cc384bc48905ba00679c5c25": {
          "model_module": "@jupyter-widgets/controls",
          "model_name": "HBoxModel",
          "model_module_version": "1.5.0",
          "state": {
            "_dom_classes": [],
            "_model_module": "@jupyter-widgets/controls",
            "_model_module_version": "1.5.0",
            "_model_name": "HBoxModel",
            "_view_count": null,
            "_view_module": "@jupyter-widgets/controls",
            "_view_module_version": "1.5.0",
            "_view_name": "HBoxView",
            "box_style": "",
            "children": [
              "IPY_MODEL_2f00fb9ae4e94c31b1610673f34a1541",
              "IPY_MODEL_31ea7620a02a401ebefeb1cb2b05464a",
              "IPY_MODEL_f2e2ee217b52444f8dcc12da764f88bb"
            ],
            "layout": "IPY_MODEL_55a02f2a37514751a4bf62a93a1591a3"
          }
        },
        "2f00fb9ae4e94c31b1610673f34a1541": {
          "model_module": "@jupyter-widgets/controls",
          "model_name": "HTMLModel",
          "model_module_version": "1.5.0",
          "state": {
            "_dom_classes": [],
            "_model_module": "@jupyter-widgets/controls",
            "_model_module_version": "1.5.0",
            "_model_name": "HTMLModel",
            "_view_count": null,
            "_view_module": "@jupyter-widgets/controls",
            "_view_module_version": "1.5.0",
            "_view_name": "HTMLView",
            "description": "",
            "description_tooltip": null,
            "layout": "IPY_MODEL_d51503b385cd451e89f0cffa846950ef",
            "placeholder": "​",
            "style": "IPY_MODEL_94f93557977142dd92d6d5a6a7b96462",
            "value": "config.yaml: 100%"
          }
        },
        "31ea7620a02a401ebefeb1cb2b05464a": {
          "model_module": "@jupyter-widgets/controls",
          "model_name": "FloatProgressModel",
          "model_module_version": "1.5.0",
          "state": {
            "_dom_classes": [],
            "_model_module": "@jupyter-widgets/controls",
            "_model_module_version": "1.5.0",
            "_model_name": "FloatProgressModel",
            "_view_count": null,
            "_view_module": "@jupyter-widgets/controls",
            "_view_module_version": "1.5.0",
            "_view_name": "ProgressView",
            "bar_style": "success",
            "description": "",
            "description_tooltip": null,
            "layout": "IPY_MODEL_a8444260196548809cb4aa9292aafb71",
            "max": 461,
            "min": 0,
            "orientation": "horizontal",
            "style": "IPY_MODEL_d9a963bcb1044989a273b8c941c1259d",
            "value": 461
          }
        },
        "f2e2ee217b52444f8dcc12da764f88bb": {
          "model_module": "@jupyter-widgets/controls",
          "model_name": "HTMLModel",
          "model_module_version": "1.5.0",
          "state": {
            "_dom_classes": [],
            "_model_module": "@jupyter-widgets/controls",
            "_model_module_version": "1.5.0",
            "_model_name": "HTMLModel",
            "_view_count": null,
            "_view_module": "@jupyter-widgets/controls",
            "_view_module_version": "1.5.0",
            "_view_name": "HTMLView",
            "description": "",
            "description_tooltip": null,
            "layout": "IPY_MODEL_26da520930af4d189b4e88c11f62a820",
            "placeholder": "​",
            "style": "IPY_MODEL_c8541fcfa2b64151ad055a1f913ed96f",
            "value": " 461/461 [00:00&lt;00:00, 46.2kB/s]"
          }
        },
        "55a02f2a37514751a4bf62a93a1591a3": {
          "model_module": "@jupyter-widgets/base",
          "model_name": "LayoutModel",
          "model_module_version": "1.2.0",
          "state": {
            "_model_module": "@jupyter-widgets/base",
            "_model_module_version": "1.2.0",
            "_model_name": "LayoutModel",
            "_view_count": null,
            "_view_module": "@jupyter-widgets/base",
            "_view_module_version": "1.2.0",
            "_view_name": "LayoutView",
            "align_content": null,
            "align_items": null,
            "align_self": null,
            "border": null,
            "bottom": null,
            "display": null,
            "flex": null,
            "flex_flow": null,
            "grid_area": null,
            "grid_auto_columns": null,
            "grid_auto_flow": null,
            "grid_auto_rows": null,
            "grid_column": null,
            "grid_gap": null,
            "grid_row": null,
            "grid_template_areas": null,
            "grid_template_columns": null,
            "grid_template_rows": null,
            "height": null,
            "justify_content": null,
            "justify_items": null,
            "left": null,
            "margin": null,
            "max_height": null,
            "max_width": null,
            "min_height": null,
            "min_width": null,
            "object_fit": null,
            "object_position": null,
            "order": null,
            "overflow": null,
            "overflow_x": null,
            "overflow_y": null,
            "padding": null,
            "right": null,
            "top": null,
            "visibility": null,
            "width": null
          }
        },
        "d51503b385cd451e89f0cffa846950ef": {
          "model_module": "@jupyter-widgets/base",
          "model_name": "LayoutModel",
          "model_module_version": "1.2.0",
          "state": {
            "_model_module": "@jupyter-widgets/base",
            "_model_module_version": "1.2.0",
            "_model_name": "LayoutModel",
            "_view_count": null,
            "_view_module": "@jupyter-widgets/base",
            "_view_module_version": "1.2.0",
            "_view_name": "LayoutView",
            "align_content": null,
            "align_items": null,
            "align_self": null,
            "border": null,
            "bottom": null,
            "display": null,
            "flex": null,
            "flex_flow": null,
            "grid_area": null,
            "grid_auto_columns": null,
            "grid_auto_flow": null,
            "grid_auto_rows": null,
            "grid_column": null,
            "grid_gap": null,
            "grid_row": null,
            "grid_template_areas": null,
            "grid_template_columns": null,
            "grid_template_rows": null,
            "height": null,
            "justify_content": null,
            "justify_items": null,
            "left": null,
            "margin": null,
            "max_height": null,
            "max_width": null,
            "min_height": null,
            "min_width": null,
            "object_fit": null,
            "object_position": null,
            "order": null,
            "overflow": null,
            "overflow_x": null,
            "overflow_y": null,
            "padding": null,
            "right": null,
            "top": null,
            "visibility": null,
            "width": null
          }
        },
        "94f93557977142dd92d6d5a6a7b96462": {
          "model_module": "@jupyter-widgets/controls",
          "model_name": "DescriptionStyleModel",
          "model_module_version": "1.5.0",
          "state": {
            "_model_module": "@jupyter-widgets/controls",
            "_model_module_version": "1.5.0",
            "_model_name": "DescriptionStyleModel",
            "_view_count": null,
            "_view_module": "@jupyter-widgets/base",
            "_view_module_version": "1.2.0",
            "_view_name": "StyleView",
            "description_width": ""
          }
        },
        "a8444260196548809cb4aa9292aafb71": {
          "model_module": "@jupyter-widgets/base",
          "model_name": "LayoutModel",
          "model_module_version": "1.2.0",
          "state": {
            "_model_module": "@jupyter-widgets/base",
            "_model_module_version": "1.2.0",
            "_model_name": "LayoutModel",
            "_view_count": null,
            "_view_module": "@jupyter-widgets/base",
            "_view_module_version": "1.2.0",
            "_view_name": "LayoutView",
            "align_content": null,
            "align_items": null,
            "align_self": null,
            "border": null,
            "bottom": null,
            "display": null,
            "flex": null,
            "flex_flow": null,
            "grid_area": null,
            "grid_auto_columns": null,
            "grid_auto_flow": null,
            "grid_auto_rows": null,
            "grid_column": null,
            "grid_gap": null,
            "grid_row": null,
            "grid_template_areas": null,
            "grid_template_columns": null,
            "grid_template_rows": null,
            "height": null,
            "justify_content": null,
            "justify_items": null,
            "left": null,
            "margin": null,
            "max_height": null,
            "max_width": null,
            "min_height": null,
            "min_width": null,
            "object_fit": null,
            "object_position": null,
            "order": null,
            "overflow": null,
            "overflow_x": null,
            "overflow_y": null,
            "padding": null,
            "right": null,
            "top": null,
            "visibility": null,
            "width": null
          }
        },
        "d9a963bcb1044989a273b8c941c1259d": {
          "model_module": "@jupyter-widgets/controls",
          "model_name": "ProgressStyleModel",
          "model_module_version": "1.5.0",
          "state": {
            "_model_module": "@jupyter-widgets/controls",
            "_model_module_version": "1.5.0",
            "_model_name": "ProgressStyleModel",
            "_view_count": null,
            "_view_module": "@jupyter-widgets/base",
            "_view_module_version": "1.2.0",
            "_view_name": "StyleView",
            "bar_color": null,
            "description_width": ""
          }
        },
        "26da520930af4d189b4e88c11f62a820": {
          "model_module": "@jupyter-widgets/base",
          "model_name": "LayoutModel",
          "model_module_version": "1.2.0",
          "state": {
            "_model_module": "@jupyter-widgets/base",
            "_model_module_version": "1.2.0",
            "_model_name": "LayoutModel",
            "_view_count": null,
            "_view_module": "@jupyter-widgets/base",
            "_view_module_version": "1.2.0",
            "_view_name": "LayoutView",
            "align_content": null,
            "align_items": null,
            "align_self": null,
            "border": null,
            "bottom": null,
            "display": null,
            "flex": null,
            "flex_flow": null,
            "grid_area": null,
            "grid_auto_columns": null,
            "grid_auto_flow": null,
            "grid_auto_rows": null,
            "grid_column": null,
            "grid_gap": null,
            "grid_row": null,
            "grid_template_areas": null,
            "grid_template_columns": null,
            "grid_template_rows": null,
            "height": null,
            "justify_content": null,
            "justify_items": null,
            "left": null,
            "margin": null,
            "max_height": null,
            "max_width": null,
            "min_height": null,
            "min_width": null,
            "object_fit": null,
            "object_position": null,
            "order": null,
            "overflow": null,
            "overflow_x": null,
            "overflow_y": null,
            "padding": null,
            "right": null,
            "top": null,
            "visibility": null,
            "width": null
          }
        },
        "c8541fcfa2b64151ad055a1f913ed96f": {
          "model_module": "@jupyter-widgets/controls",
          "model_name": "DescriptionStyleModel",
          "model_module_version": "1.5.0",
          "state": {
            "_model_module": "@jupyter-widgets/controls",
            "_model_module_version": "1.5.0",
            "_model_name": "DescriptionStyleModel",
            "_view_count": null,
            "_view_module": "@jupyter-widgets/base",
            "_view_module_version": "1.2.0",
            "_view_name": "StyleView",
            "description_width": ""
          }
        },
        "cd6e409be0f14be79c1dba02b611924c": {
          "model_module": "@jupyter-widgets/controls",
          "model_name": "HBoxModel",
          "model_module_version": "1.5.0",
          "state": {
            "_dom_classes": [],
            "_model_module": "@jupyter-widgets/controls",
            "_model_module_version": "1.5.0",
            "_model_name": "HBoxModel",
            "_view_count": null,
            "_view_module": "@jupyter-widgets/controls",
            "_view_module_version": "1.5.0",
            "_view_name": "HBoxView",
            "box_style": "",
            "children": [
              "IPY_MODEL_dc6d424cd24a4155bfec256f029c7605",
              "IPY_MODEL_2abeeb59261d423cb10d8f0fa81a4c25",
              "IPY_MODEL_02ed586d3b7a4fa0833f1951e44995a1"
            ],
            "layout": "IPY_MODEL_1b6475661a3d4188a523f609f96ecee4"
          }
        },
        "dc6d424cd24a4155bfec256f029c7605": {
          "model_module": "@jupyter-widgets/controls",
          "model_name": "HTMLModel",
          "model_module_version": "1.5.0",
          "state": {
            "_dom_classes": [],
            "_model_module": "@jupyter-widgets/controls",
            "_model_module_version": "1.5.0",
            "_model_name": "HTMLModel",
            "_view_count": null,
            "_view_module": "@jupyter-widgets/controls",
            "_view_module_version": "1.5.0",
            "_view_name": "HTMLView",
            "description": "",
            "description_tooltip": null,
            "layout": "IPY_MODEL_ea69f165516f401a8dcf92e50486eb74",
            "placeholder": "​",
            "style": "IPY_MODEL_0e5db7dfdae040d289904284aa35cda1",
            "value": "pytorch_model.bin: 100%"
          }
        },
        "2abeeb59261d423cb10d8f0fa81a4c25": {
          "model_module": "@jupyter-widgets/controls",
          "model_name": "FloatProgressModel",
          "model_module_version": "1.5.0",
          "state": {
            "_dom_classes": [],
            "_model_module": "@jupyter-widgets/controls",
            "_model_module_version": "1.5.0",
            "_model_name": "FloatProgressModel",
            "_view_count": null,
            "_view_module": "@jupyter-widgets/controls",
            "_view_module_version": "1.5.0",
            "_view_name": "ProgressView",
            "bar_style": "success",
            "description": "",
            "description_tooltip": null,
            "layout": "IPY_MODEL_9ccc3209e49244e9967170eff94ca359",
            "max": 54365991,
            "min": 0,
            "orientation": "horizontal",
            "style": "IPY_MODEL_59363dc75b8f494d971f47ade1493287",
            "value": 54365991
          }
        },
        "02ed586d3b7a4fa0833f1951e44995a1": {
          "model_module": "@jupyter-widgets/controls",
          "model_name": "HTMLModel",
          "model_module_version": "1.5.0",
          "state": {
            "_dom_classes": [],
            "_model_module": "@jupyter-widgets/controls",
            "_model_module_version": "1.5.0",
            "_model_name": "HTMLModel",
            "_view_count": null,
            "_view_module": "@jupyter-widgets/controls",
            "_view_module_version": "1.5.0",
            "_view_name": "HTMLView",
            "description": "",
            "description_tooltip": null,
            "layout": "IPY_MODEL_477ac4480f8243c1b0e77aa5c6c89369",
            "placeholder": "​",
            "style": "IPY_MODEL_8cadb242b45c4b13a1f7b14485b0443a",
            "value": " 54.4M/54.4M [00:01&lt;00:00, 43.0MB/s]"
          }
        },
        "1b6475661a3d4188a523f609f96ecee4": {
          "model_module": "@jupyter-widgets/base",
          "model_name": "LayoutModel",
          "model_module_version": "1.2.0",
          "state": {
            "_model_module": "@jupyter-widgets/base",
            "_model_module_version": "1.2.0",
            "_model_name": "LayoutModel",
            "_view_count": null,
            "_view_module": "@jupyter-widgets/base",
            "_view_module_version": "1.2.0",
            "_view_name": "LayoutView",
            "align_content": null,
            "align_items": null,
            "align_self": null,
            "border": null,
            "bottom": null,
            "display": null,
            "flex": null,
            "flex_flow": null,
            "grid_area": null,
            "grid_auto_columns": null,
            "grid_auto_flow": null,
            "grid_auto_rows": null,
            "grid_column": null,
            "grid_gap": null,
            "grid_row": null,
            "grid_template_areas": null,
            "grid_template_columns": null,
            "grid_template_rows": null,
            "height": null,
            "justify_content": null,
            "justify_items": null,
            "left": null,
            "margin": null,
            "max_height": null,
            "max_width": null,
            "min_height": null,
            "min_width": null,
            "object_fit": null,
            "object_position": null,
            "order": null,
            "overflow": null,
            "overflow_x": null,
            "overflow_y": null,
            "padding": null,
            "right": null,
            "top": null,
            "visibility": null,
            "width": null
          }
        },
        "ea69f165516f401a8dcf92e50486eb74": {
          "model_module": "@jupyter-widgets/base",
          "model_name": "LayoutModel",
          "model_module_version": "1.2.0",
          "state": {
            "_model_module": "@jupyter-widgets/base",
            "_model_module_version": "1.2.0",
            "_model_name": "LayoutModel",
            "_view_count": null,
            "_view_module": "@jupyter-widgets/base",
            "_view_module_version": "1.2.0",
            "_view_name": "LayoutView",
            "align_content": null,
            "align_items": null,
            "align_self": null,
            "border": null,
            "bottom": null,
            "display": null,
            "flex": null,
            "flex_flow": null,
            "grid_area": null,
            "grid_auto_columns": null,
            "grid_auto_flow": null,
            "grid_auto_rows": null,
            "grid_column": null,
            "grid_gap": null,
            "grid_row": null,
            "grid_template_areas": null,
            "grid_template_columns": null,
            "grid_template_rows": null,
            "height": null,
            "justify_content": null,
            "justify_items": null,
            "left": null,
            "margin": null,
            "max_height": null,
            "max_width": null,
            "min_height": null,
            "min_width": null,
            "object_fit": null,
            "object_position": null,
            "order": null,
            "overflow": null,
            "overflow_x": null,
            "overflow_y": null,
            "padding": null,
            "right": null,
            "top": null,
            "visibility": null,
            "width": null
          }
        },
        "0e5db7dfdae040d289904284aa35cda1": {
          "model_module": "@jupyter-widgets/controls",
          "model_name": "DescriptionStyleModel",
          "model_module_version": "1.5.0",
          "state": {
            "_model_module": "@jupyter-widgets/controls",
            "_model_module_version": "1.5.0",
            "_model_name": "DescriptionStyleModel",
            "_view_count": null,
            "_view_module": "@jupyter-widgets/base",
            "_view_module_version": "1.2.0",
            "_view_name": "StyleView",
            "description_width": ""
          }
        },
        "9ccc3209e49244e9967170eff94ca359": {
          "model_module": "@jupyter-widgets/base",
          "model_name": "LayoutModel",
          "model_module_version": "1.2.0",
          "state": {
            "_model_module": "@jupyter-widgets/base",
            "_model_module_version": "1.2.0",
            "_model_name": "LayoutModel",
            "_view_count": null,
            "_view_module": "@jupyter-widgets/base",
            "_view_module_version": "1.2.0",
            "_view_name": "LayoutView",
            "align_content": null,
            "align_items": null,
            "align_self": null,
            "border": null,
            "bottom": null,
            "display": null,
            "flex": null,
            "flex_flow": null,
            "grid_area": null,
            "grid_auto_columns": null,
            "grid_auto_flow": null,
            "grid_auto_rows": null,
            "grid_column": null,
            "grid_gap": null,
            "grid_row": null,
            "grid_template_areas": null,
            "grid_template_columns": null,
            "grid_template_rows": null,
            "height": null,
            "justify_content": null,
            "justify_items": null,
            "left": null,
            "margin": null,
            "max_height": null,
            "max_width": null,
            "min_height": null,
            "min_width": null,
            "object_fit": null,
            "object_position": null,
            "order": null,
            "overflow": null,
            "overflow_x": null,
            "overflow_y": null,
            "padding": null,
            "right": null,
            "top": null,
            "visibility": null,
            "width": null
          }
        },
        "59363dc75b8f494d971f47ade1493287": {
          "model_module": "@jupyter-widgets/controls",
          "model_name": "ProgressStyleModel",
          "model_module_version": "1.5.0",
          "state": {
            "_model_module": "@jupyter-widgets/controls",
            "_model_module_version": "1.5.0",
            "_model_name": "ProgressStyleModel",
            "_view_count": null,
            "_view_module": "@jupyter-widgets/base",
            "_view_module_version": "1.2.0",
            "_view_name": "StyleView",
            "bar_color": null,
            "description_width": ""
          }
        },
        "477ac4480f8243c1b0e77aa5c6c89369": {
          "model_module": "@jupyter-widgets/base",
          "model_name": "LayoutModel",
          "model_module_version": "1.2.0",
          "state": {
            "_model_module": "@jupyter-widgets/base",
            "_model_module_version": "1.2.0",
            "_model_name": "LayoutModel",
            "_view_count": null,
            "_view_module": "@jupyter-widgets/base",
            "_view_module_version": "1.2.0",
            "_view_name": "LayoutView",
            "align_content": null,
            "align_items": null,
            "align_self": null,
            "border": null,
            "bottom": null,
            "display": null,
            "flex": null,
            "flex_flow": null,
            "grid_area": null,
            "grid_auto_columns": null,
            "grid_auto_flow": null,
            "grid_auto_rows": null,
            "grid_column": null,
            "grid_gap": null,
            "grid_row": null,
            "grid_template_areas": null,
            "grid_template_columns": null,
            "grid_template_rows": null,
            "height": null,
            "justify_content": null,
            "justify_items": null,
            "left": null,
            "margin": null,
            "max_height": null,
            "max_width": null,
            "min_height": null,
            "min_width": null,
            "object_fit": null,
            "object_position": null,
            "order": null,
            "overflow": null,
            "overflow_x": null,
            "overflow_y": null,
            "padding": null,
            "right": null,
            "top": null,
            "visibility": null,
            "width": null
          }
        },
        "8cadb242b45c4b13a1f7b14485b0443a": {
          "model_module": "@jupyter-widgets/controls",
          "model_name": "DescriptionStyleModel",
          "model_module_version": "1.5.0",
          "state": {
            "_model_module": "@jupyter-widgets/controls",
            "_model_module_version": "1.5.0",
            "_model_name": "DescriptionStyleModel",
            "_view_count": null,
            "_view_module": "@jupyter-widgets/base",
            "_view_module_version": "1.2.0",
            "_view_name": "StyleView",
            "description_width": ""
          }
        },
        "65308f1f96a547ebb5f965cdffa27f7c": {
          "model_module": "@jupyter-widgets/controls",
          "model_name": "HBoxModel",
          "model_module_version": "1.5.0",
          "state": {
            "_dom_classes": [],
            "_model_module": "@jupyter-widgets/controls",
            "_model_module_version": "1.5.0",
            "_model_name": "HBoxModel",
            "_view_count": null,
            "_view_module": "@jupyter-widgets/controls",
            "_view_module_version": "1.5.0",
            "_view_name": "HBoxView",
            "box_style": "",
            "children": [
              "IPY_MODEL_0826a91fed75473eab7e57a3c27274c0",
              "IPY_MODEL_656a2a5376b94b8cb893b0f4cf626c47",
              "IPY_MODEL_db6ca91bf3844d6980b403fe1327ed45"
            ],
            "layout": "IPY_MODEL_895cfd53929c4b3ab5efe7a51f9af1ee"
          }
        },
        "0826a91fed75473eab7e57a3c27274c0": {
          "model_module": "@jupyter-widgets/controls",
          "model_name": "HTMLModel",
          "model_module_version": "1.5.0",
          "state": {
            "_dom_classes": [],
            "_model_module": "@jupyter-widgets/controls",
            "_model_module_version": "1.5.0",
            "_model_name": "HTMLModel",
            "_view_count": null,
            "_view_module": "@jupyter-widgets/controls",
            "_view_module_version": "1.5.0",
            "_view_name": "HTMLView",
            "description": "",
            "description_tooltip": null,
            "layout": "IPY_MODEL_3a97270c0d154f1c84756b9f31712c5a",
            "placeholder": "​",
            "style": "IPY_MODEL_71f2895f5ba742949a627445cce1c7a6",
            "value": "model_1250000.safetensors: 100%"
          }
        },
        "656a2a5376b94b8cb893b0f4cf626c47": {
          "model_module": "@jupyter-widgets/controls",
          "model_name": "FloatProgressModel",
          "model_module_version": "1.5.0",
          "state": {
            "_dom_classes": [],
            "_model_module": "@jupyter-widgets/controls",
            "_model_module_version": "1.5.0",
            "_model_name": "FloatProgressModel",
            "_view_count": null,
            "_view_module": "@jupyter-widgets/controls",
            "_view_module_version": "1.5.0",
            "_view_name": "ProgressView",
            "bar_style": "success",
            "description": "",
            "description_tooltip": null,
            "layout": "IPY_MODEL_bf9e7ec8d1974fa69895537015d03e87",
            "max": 1348435761,
            "min": 0,
            "orientation": "horizontal",
            "style": "IPY_MODEL_7c4a7000897e4f45bf0e30b130d03305",
            "value": 1348435761
          }
        },
        "db6ca91bf3844d6980b403fe1327ed45": {
          "model_module": "@jupyter-widgets/controls",
          "model_name": "HTMLModel",
          "model_module_version": "1.5.0",
          "state": {
            "_dom_classes": [],
            "_model_module": "@jupyter-widgets/controls",
            "_model_module_version": "1.5.0",
            "_model_name": "HTMLModel",
            "_view_count": null,
            "_view_module": "@jupyter-widgets/controls",
            "_view_module_version": "1.5.0",
            "_view_name": "HTMLView",
            "description": "",
            "description_tooltip": null,
            "layout": "IPY_MODEL_427f215924c04d25a086dcb9d9959124",
            "placeholder": "​",
            "style": "IPY_MODEL_17aae98c5139443294b7d8ecb8b6a115",
            "value": " 1.35G/1.35G [00:07&lt;00:00, 191MB/s]"
          }
        },
        "895cfd53929c4b3ab5efe7a51f9af1ee": {
          "model_module": "@jupyter-widgets/base",
          "model_name": "LayoutModel",
          "model_module_version": "1.2.0",
          "state": {
            "_model_module": "@jupyter-widgets/base",
            "_model_module_version": "1.2.0",
            "_model_name": "LayoutModel",
            "_view_count": null,
            "_view_module": "@jupyter-widgets/base",
            "_view_module_version": "1.2.0",
            "_view_name": "LayoutView",
            "align_content": null,
            "align_items": null,
            "align_self": null,
            "border": null,
            "bottom": null,
            "display": null,
            "flex": null,
            "flex_flow": null,
            "grid_area": null,
            "grid_auto_columns": null,
            "grid_auto_flow": null,
            "grid_auto_rows": null,
            "grid_column": null,
            "grid_gap": null,
            "grid_row": null,
            "grid_template_areas": null,
            "grid_template_columns": null,
            "grid_template_rows": null,
            "height": null,
            "justify_content": null,
            "justify_items": null,
            "left": null,
            "margin": null,
            "max_height": null,
            "max_width": null,
            "min_height": null,
            "min_width": null,
            "object_fit": null,
            "object_position": null,
            "order": null,
            "overflow": null,
            "overflow_x": null,
            "overflow_y": null,
            "padding": null,
            "right": null,
            "top": null,
            "visibility": null,
            "width": null
          }
        },
        "3a97270c0d154f1c84756b9f31712c5a": {
          "model_module": "@jupyter-widgets/base",
          "model_name": "LayoutModel",
          "model_module_version": "1.2.0",
          "state": {
            "_model_module": "@jupyter-widgets/base",
            "_model_module_version": "1.2.0",
            "_model_name": "LayoutModel",
            "_view_count": null,
            "_view_module": "@jupyter-widgets/base",
            "_view_module_version": "1.2.0",
            "_view_name": "LayoutView",
            "align_content": null,
            "align_items": null,
            "align_self": null,
            "border": null,
            "bottom": null,
            "display": null,
            "flex": null,
            "flex_flow": null,
            "grid_area": null,
            "grid_auto_columns": null,
            "grid_auto_flow": null,
            "grid_auto_rows": null,
            "grid_column": null,
            "grid_gap": null,
            "grid_row": null,
            "grid_template_areas": null,
            "grid_template_columns": null,
            "grid_template_rows": null,
            "height": null,
            "justify_content": null,
            "justify_items": null,
            "left": null,
            "margin": null,
            "max_height": null,
            "max_width": null,
            "min_height": null,
            "min_width": null,
            "object_fit": null,
            "object_position": null,
            "order": null,
            "overflow": null,
            "overflow_x": null,
            "overflow_y": null,
            "padding": null,
            "right": null,
            "top": null,
            "visibility": null,
            "width": null
          }
        },
        "71f2895f5ba742949a627445cce1c7a6": {
          "model_module": "@jupyter-widgets/controls",
          "model_name": "DescriptionStyleModel",
          "model_module_version": "1.5.0",
          "state": {
            "_model_module": "@jupyter-widgets/controls",
            "_model_module_version": "1.5.0",
            "_model_name": "DescriptionStyleModel",
            "_view_count": null,
            "_view_module": "@jupyter-widgets/base",
            "_view_module_version": "1.2.0",
            "_view_name": "StyleView",
            "description_width": ""
          }
        },
        "bf9e7ec8d1974fa69895537015d03e87": {
          "model_module": "@jupyter-widgets/base",
          "model_name": "LayoutModel",
          "model_module_version": "1.2.0",
          "state": {
            "_model_module": "@jupyter-widgets/base",
            "_model_module_version": "1.2.0",
            "_model_name": "LayoutModel",
            "_view_count": null,
            "_view_module": "@jupyter-widgets/base",
            "_view_module_version": "1.2.0",
            "_view_name": "LayoutView",
            "align_content": null,
            "align_items": null,
            "align_self": null,
            "border": null,
            "bottom": null,
            "display": null,
            "flex": null,
            "flex_flow": null,
            "grid_area": null,
            "grid_auto_columns": null,
            "grid_auto_flow": null,
            "grid_auto_rows": null,
            "grid_column": null,
            "grid_gap": null,
            "grid_row": null,
            "grid_template_areas": null,
            "grid_template_columns": null,
            "grid_template_rows": null,
            "height": null,
            "justify_content": null,
            "justify_items": null,
            "left": null,
            "margin": null,
            "max_height": null,
            "max_width": null,
            "min_height": null,
            "min_width": null,
            "object_fit": null,
            "object_position": null,
            "order": null,
            "overflow": null,
            "overflow_x": null,
            "overflow_y": null,
            "padding": null,
            "right": null,
            "top": null,
            "visibility": null,
            "width": null
          }
        },
        "7c4a7000897e4f45bf0e30b130d03305": {
          "model_module": "@jupyter-widgets/controls",
          "model_name": "ProgressStyleModel",
          "model_module_version": "1.5.0",
          "state": {
            "_model_module": "@jupyter-widgets/controls",
            "_model_module_version": "1.5.0",
            "_model_name": "ProgressStyleModel",
            "_view_count": null,
            "_view_module": "@jupyter-widgets/base",
            "_view_module_version": "1.2.0",
            "_view_name": "StyleView",
            "bar_color": null,
            "description_width": ""
          }
        },
        "427f215924c04d25a086dcb9d9959124": {
          "model_module": "@jupyter-widgets/base",
          "model_name": "LayoutModel",
          "model_module_version": "1.2.0",
          "state": {
            "_model_module": "@jupyter-widgets/base",
            "_model_module_version": "1.2.0",
            "_model_name": "LayoutModel",
            "_view_count": null,
            "_view_module": "@jupyter-widgets/base",
            "_view_module_version": "1.2.0",
            "_view_name": "LayoutView",
            "align_content": null,
            "align_items": null,
            "align_self": null,
            "border": null,
            "bottom": null,
            "display": null,
            "flex": null,
            "flex_flow": null,
            "grid_area": null,
            "grid_auto_columns": null,
            "grid_auto_flow": null,
            "grid_auto_rows": null,
            "grid_column": null,
            "grid_gap": null,
            "grid_row": null,
            "grid_template_areas": null,
            "grid_template_columns": null,
            "grid_template_rows": null,
            "height": null,
            "justify_content": null,
            "justify_items": null,
            "left": null,
            "margin": null,
            "max_height": null,
            "max_width": null,
            "min_height": null,
            "min_width": null,
            "object_fit": null,
            "object_position": null,
            "order": null,
            "overflow": null,
            "overflow_x": null,
            "overflow_y": null,
            "padding": null,
            "right": null,
            "top": null,
            "visibility": null,
            "width": null
          }
        },
        "17aae98c5139443294b7d8ecb8b6a115": {
          "model_module": "@jupyter-widgets/controls",
          "model_name": "DescriptionStyleModel",
          "model_module_version": "1.5.0",
          "state": {
            "_model_module": "@jupyter-widgets/controls",
            "_model_module_version": "1.5.0",
            "_model_name": "DescriptionStyleModel",
            "_view_count": null,
            "_view_module": "@jupyter-widgets/base",
            "_view_module_version": "1.2.0",
            "_view_name": "StyleView",
            "description_width": ""
          }
        }
      }
    }
  },
  "cells": [
    {
      "cell_type": "markdown",
      "metadata": {
        "id": "view-in-github",
        "colab_type": "text"
      },
      "source": [
        "<a href=\"https://colab.research.google.com/github/10udCryp7/TV-command-synthesis/blob/main/src_prototype/Phase2.ipynb\" target=\"_parent\"><img src=\"https://colab.research.google.com/assets/colab-badge.svg\" alt=\"Open In Colab\"/></a>"
      ]
    },
    {
      "cell_type": "code",
      "source": [
        "# F5-TTS\n",
        "!pip install -q f5-tts"
      ],
      "metadata": {
        "id": "oYB69oHn6KrE",
        "colab": {
          "base_uri": "https://localhost:8080/"
        },
        "outputId": "a6b79ec1-b43a-436e-e167-d3908e99958f"
      },
      "execution_count": 1,
      "outputs": [
        {
          "output_type": "stream",
          "name": "stdout",
          "text": [
            "\u001b[?25l     \u001b[90m━━━━━━━━━━━━━━━━━━━━━━━━━━━━━━━━━━━━━━━━\u001b[0m \u001b[32m0.0/61.0 kB\u001b[0m \u001b[31m?\u001b[0m eta \u001b[36m-:--:--\u001b[0m\r\u001b[2K     \u001b[90m━━━━━━━━━━━━━━━━━━━━━━━━━━━━━━━━━━━━━━━━\u001b[0m \u001b[32m61.0/61.0 kB\u001b[0m \u001b[31m4.2 MB/s\u001b[0m eta \u001b[36m0:00:00\u001b[0m\n",
            "\u001b[?25h  Preparing metadata (setup.py) ... \u001b[?25l\u001b[?25hdone\n",
            "\u001b[2K     \u001b[90m━━━━━━━━━━━━━━━━━━━━━━━━━━━━━━━━━━━━━━━━\u001b[0m \u001b[32m90.9/90.9 kB\u001b[0m \u001b[31m8.2 MB/s\u001b[0m eta \u001b[36m0:00:00\u001b[0m\n",
            "\u001b[2K     \u001b[90m━━━━━━━━━━━━━━━━━━━━━━━━━━━━━━━━━━━━━━━━\u001b[0m \u001b[32m3.7/3.7 MB\u001b[0m \u001b[31m78.3 MB/s\u001b[0m eta \u001b[36m0:00:00\u001b[0m\n",
            "\u001b[?25h  Preparing metadata (setup.py) ... \u001b[?25l\u001b[?25hdone\n",
            "\u001b[2K   \u001b[90m━━━━━━━━━━━━━━━━━━━━━━━━━━━━━━━━━━━━━━━━\u001b[0m \u001b[32m1.3/1.3 MB\u001b[0m \u001b[31m68.0 MB/s\u001b[0m eta \u001b[36m0:00:00\u001b[0m\n",
            "\u001b[2K   \u001b[90m━━━━━━━━━━━━━━━━━━━━━━━━━━━━━━━━━━━━━━━━\u001b[0m \u001b[32m61.3/61.3 MB\u001b[0m \u001b[31m29.9 MB/s\u001b[0m eta \u001b[36m0:00:00\u001b[0m\n",
            "\u001b[2K   \u001b[90m━━━━━━━━━━━━━━━━━━━━━━━━━━━━━━━━━━━━━━━━\u001b[0m \u001b[32m54.3/54.3 MB\u001b[0m \u001b[31m42.4 MB/s\u001b[0m eta \u001b[36m0:00:00\u001b[0m\n",
            "\u001b[2K   \u001b[90m━━━━━━━━━━━━━━━━━━━━━━━━━━━━━━━━━━━━━━━━\u001b[0m \u001b[32m323.9/323.9 kB\u001b[0m \u001b[31m25.1 MB/s\u001b[0m eta \u001b[36m0:00:00\u001b[0m\n",
            "\u001b[2K   \u001b[90m━━━━━━━━━━━━━━━━━━━━━━━━━━━━━━━━━━━━━━━━\u001b[0m \u001b[32m154.5/154.5 kB\u001b[0m \u001b[31m13.5 MB/s\u001b[0m eta \u001b[36m0:00:00\u001b[0m\n",
            "\u001b[2K   \u001b[90m━━━━━━━━━━━━━━━━━━━━━━━━━━━━━━━━━━━━━━━━\u001b[0m \u001b[32m18.3/18.3 MB\u001b[0m \u001b[31m118.6 MB/s\u001b[0m eta \u001b[36m0:00:00\u001b[0m\n",
            "\u001b[2K   \u001b[90m━━━━━━━━━━━━━━━━━━━━━━━━━━━━━━━━━━━━━━━━\u001b[0m \u001b[32m431.7/431.7 kB\u001b[0m \u001b[31m32.6 MB/s\u001b[0m eta \u001b[36m0:00:00\u001b[0m\n",
            "\u001b[2K   \u001b[90m━━━━━━━━━━━━━━━━━━━━━━━━━━━━━━━━━━━━━━━━\u001b[0m \u001b[32m2.0/2.0 MB\u001b[0m \u001b[31m84.4 MB/s\u001b[0m eta \u001b[36m0:00:00\u001b[0m\n",
            "\u001b[2K   \u001b[90m━━━━━━━━━━━━━━━━━━━━━━━━━━━━━━━━━━━━━━━━\u001b[0m \u001b[32m363.4/363.4 MB\u001b[0m \u001b[31m3.0 MB/s\u001b[0m eta \u001b[36m0:00:00\u001b[0m\n",
            "\u001b[2K   \u001b[90m━━━━━━━━━━━━━━━━━━━━━━━━━━━━━━━━━━━━━━━━\u001b[0m \u001b[32m13.8/13.8 MB\u001b[0m \u001b[31m120.1 MB/s\u001b[0m eta \u001b[36m0:00:00\u001b[0m\n",
            "\u001b[2K   \u001b[90m━━━━━━━━━━━━━━━━━━━━━━━━━━━━━━━━━━━━━━━━\u001b[0m \u001b[32m24.6/24.6 MB\u001b[0m \u001b[31m51.1 MB/s\u001b[0m eta \u001b[36m0:00:00\u001b[0m\n",
            "\u001b[2K   \u001b[90m━━━━━━━━━━━━━━━━━━━━━━━━━━━━━━━━━━━━━━━━\u001b[0m \u001b[32m883.7/883.7 kB\u001b[0m \u001b[31m54.9 MB/s\u001b[0m eta \u001b[36m0:00:00\u001b[0m\n",
            "\u001b[2K   \u001b[90m━━━━━━━━━━━━━━━━━━━━━━━━━━━━━━━━━━━━━━━━\u001b[0m \u001b[32m664.8/664.8 MB\u001b[0m \u001b[31m2.1 MB/s\u001b[0m eta \u001b[36m0:00:00\u001b[0m\n",
            "\u001b[2K   \u001b[90m━━━━━━━━━━━━━━━━━━━━━━━━━━━━━━━━━━━━━━━━\u001b[0m \u001b[32m211.5/211.5 MB\u001b[0m \u001b[31m5.1 MB/s\u001b[0m eta \u001b[36m0:00:00\u001b[0m\n",
            "\u001b[2K   \u001b[90m━━━━━━━━━━━━━━━━━━━━━━━━━━━━━━━━━━━━━━━━\u001b[0m \u001b[32m56.3/56.3 MB\u001b[0m \u001b[31m42.0 MB/s\u001b[0m eta \u001b[36m0:00:00\u001b[0m\n",
            "\u001b[2K   \u001b[90m━━━━━━━━━━━━━━━━━━━━━━━━━━━━━━━━━━━━━━━━\u001b[0m \u001b[32m127.9/127.9 MB\u001b[0m \u001b[31m19.9 MB/s\u001b[0m eta \u001b[36m0:00:00\u001b[0m\n",
            "\u001b[2K   \u001b[90m━━━━━━━━━━━━━━━━━━━━━━━━━━━━━━━━━━━━━━━━\u001b[0m \u001b[32m207.5/207.5 MB\u001b[0m \u001b[31m4.3 MB/s\u001b[0m eta \u001b[36m0:00:00\u001b[0m\n",
            "\u001b[2K   \u001b[90m━━━━━━━━━━━━━━━━━━━━━━━━━━━━━━━━━━━━━━━━\u001b[0m \u001b[32m188.7/188.7 MB\u001b[0m \u001b[31m6.6 MB/s\u001b[0m eta \u001b[36m0:00:00\u001b[0m\n",
            "\u001b[2K   \u001b[90m━━━━━━━━━━━━━━━━━━━━━━━━━━━━━━━━━━━━━━━━\u001b[0m \u001b[32m21.1/21.1 MB\u001b[0m \u001b[31m104.3 MB/s\u001b[0m eta \u001b[36m0:00:00\u001b[0m\n",
            "\u001b[2K   \u001b[90m━━━━━━━━━━━━━━━━━━━━━━━━━━━━━━━━━━━━━━━━\u001b[0m \u001b[32m91.7/91.7 kB\u001b[0m \u001b[31m8.0 MB/s\u001b[0m eta \u001b[36m0:00:00\u001b[0m\n",
            "\u001b[2K   \u001b[90m━━━━━━━━━━━━━━━━━━━━━━━━━━━━━━━━━━━━━━━━\u001b[0m \u001b[32m840.2/840.2 kB\u001b[0m \u001b[31m52.9 MB/s\u001b[0m eta \u001b[36m0:00:00\u001b[0m\n",
            "\u001b[2K   \u001b[90m━━━━━━━━━━━━━━━━━━━━━━━━━━━━━━━━━━━━━━━━\u001b[0m \u001b[32m236.0/236.0 kB\u001b[0m \u001b[31m21.6 MB/s\u001b[0m eta \u001b[36m0:00:00\u001b[0m\n",
            "\u001b[2K   \u001b[90m━━━━━━━━━━━━━━━━━━━━━━━━━━━━━━━━━━━━━━━━\u001b[0m \u001b[32m235.8/235.8 kB\u001b[0m \u001b[31m18.5 MB/s\u001b[0m eta \u001b[36m0:00:00\u001b[0m\n",
            "\u001b[2K   \u001b[90m━━━━━━━━━━━━━━━━━━━━━━━━━━━━━━━━━━━━━━━━\u001b[0m \u001b[32m140.1/140.1 kB\u001b[0m \u001b[31m12.3 MB/s\u001b[0m eta \u001b[36m0:00:00\u001b[0m\n",
            "\u001b[2K   \u001b[90m━━━━━━━━━━━━━━━━━━━━━━━━━━━━━━━━━━━━━━━━\u001b[0m \u001b[32m103.0/103.0 kB\u001b[0m \u001b[31m9.8 MB/s\u001b[0m eta \u001b[36m0:00:00\u001b[0m\n",
            "\u001b[2K   \u001b[90m━━━━━━━━━━━━━━━━━━━━━━━━━━━━━━━━━━━━━━━━\u001b[0m \u001b[32m61.6/61.6 kB\u001b[0m \u001b[31m5.6 MB/s\u001b[0m eta \u001b[36m0:00:00\u001b[0m\n",
            "\u001b[2K   \u001b[90m━━━━━━━━━━━━━━━━━━━━━━━━━━━━━━━━━━━━━━━━\u001b[0m \u001b[32m14.0/14.0 MB\u001b[0m \u001b[31m108.5 MB/s\u001b[0m eta \u001b[36m0:00:00\u001b[0m\n",
            "\u001b[2K   \u001b[90m━━━━━━━━━━━━━━━━━━━━━━━━━━━━━━━━━━━━━━━━\u001b[0m \u001b[32m85.3/85.3 kB\u001b[0m \u001b[31m7.7 MB/s\u001b[0m eta \u001b[36m0:00:00\u001b[0m\n",
            "\u001b[?25h  Building wheel for transformers_stream_generator (setup.py) ... \u001b[?25l\u001b[?25hdone\n",
            "  Building wheel for encodec (setup.py) ... \u001b[?25l\u001b[?25hdone\n",
            "\u001b[31mERROR: pip's dependency resolver does not currently take into account all the packages that are installed. This behaviour is the source of the following dependency conflicts.\n",
            "thinc 8.3.6 requires numpy<3.0.0,>=2.0.0, but you have numpy 1.26.4 which is incompatible.\n",
            "opencv-python-headless 4.12.0.88 requires numpy<2.3.0,>=2; python_version >= \"3.9\", but you have numpy 1.26.4 which is incompatible.\n",
            "opencv-contrib-python 4.12.0.88 requires numpy<2.3.0,>=2; python_version >= \"3.9\", but you have numpy 1.26.4 which is incompatible.\n",
            "opencv-python 4.12.0.88 requires numpy<2.3.0,>=2; python_version >= \"3.9\", but you have numpy 1.26.4 which is incompatible.\u001b[0m\u001b[31m\n",
            "\u001b[0m"
          ]
        }
      ]
    },
    {
      "cell_type": "code",
      "source": [
        "# Reference Speech\n",
        "!gdown 1uTreohCIiYSlrQTa3fuH1_IQjdeW1SaE --quiet\n",
        "# Reference Meta (including Text)\n",
        "!gdown 1PBs6r3cqhFxWzy9s5wrGpF6-5ZnoOWxE --quiet\n",
        "\n",
        "!unzip -q audio.zip -d audio\n",
        "!unzip -q json.zip -d json"
      ],
      "metadata": {
        "id": "BZbnEWUL9fUD"
      },
      "execution_count": 1,
      "outputs": []
    },
    {
      "cell_type": "code",
      "source": [
        "import os\n",
        "import json\n",
        "import soundfile as sf\n",
        "import pandas as pd\n",
        "import random\n",
        "import ast\n",
        "import numpy as np\n",
        "import uuid\n",
        "from concurrent.futures import ThreadPoolExecutor\n",
        "import multiprocessing as mp\n",
        "from pathlib import Path\n",
        "import time\n",
        "from typing import Any, List\n",
        "from importlib.resources import files\n",
        "from f5_tts.api import F5TTS\n",
        "\n",
        "class ReferenceCache:\n",
        "    def __init__(self, audio_folder_path: str, json_folder_path: str):\n",
        "        self.audio_folder_path = Path(audio_folder_path)\n",
        "        self.json_folder_path = Path(json_folder_path)\n",
        "        self._audio_files = None\n",
        "        self._json_files = None\n",
        "        self._ref_texts = {}\n",
        "\n",
        "    @property\n",
        "    def audio_files(self):\n",
        "        if self._audio_files is None:\n",
        "            self._audio_files = [f for f in self.audio_folder_path.iterdir() if f.is_file()]\n",
        "        return self._audio_files\n",
        "\n",
        "    @property\n",
        "    def json_files(self):\n",
        "        if self._json_files is None:\n",
        "            self._json_files = [f for f in self.json_folder_path.iterdir() if f.suffix == '.json']\n",
        "        return self._json_files\n",
        "\n",
        "    def get_ref_text(self, json_path: Path) -> str:\n",
        "        if str(json_path) not in self._ref_texts:\n",
        "            with open(json_path, 'r', encoding='utf-8') as f:\n",
        "                data = json.load(f)\n",
        "                self._ref_texts[str(json_path)] = data.get('text', '')\n",
        "        return self._ref_texts[str(json_path)]\n",
        "\n",
        "    def sample_reference(self):\n",
        "        audio_file = random.choice(self.audio_files)\n",
        "        json_file = random.choice(self.json_files)\n",
        "        ref_id = json_file.stem\n",
        "        ref_speech_path = str(audio_file)\n",
        "        ref_text = self.get_ref_text(json_file)\n",
        "        return ref_id, ref_speech_path, ref_text"
      ],
      "metadata": {
        "id": "PydQZuRQ_9A9"
      },
      "execution_count": 2,
      "outputs": []
    },
    {
      "cell_type": "code",
      "execution_count": 3,
      "metadata": {
        "id": "sLGEgwVFtfTJ"
      },
      "outputs": [],
      "source": [
        "import os\n",
        "import json\n",
        "import soundfile as sf\n",
        "import pandas as pd\n",
        "import random\n",
        "import ast\n",
        "import numpy as np\n",
        "import uuid\n",
        "from concurrent.futures import ThreadPoolExecutor\n",
        "import multiprocessing as mp\n",
        "from pathlib import Path\n",
        "import time\n",
        "from typing import Any, List\n",
        "from importlib.resources import files\n",
        "from f5_tts.api import F5TTS\n",
        "\n",
        "class SpeechSynthesis:\n",
        "  def __init__(self, ref_folder_path, json_folder_path, num_workers):\n",
        "    self.ref_folder_path = ref_folder_path\n",
        "    self.json_folder_path = json_folder_path\n",
        "    self.num_workers = num_workers\n",
        "\n",
        "  def load_model(self):\n",
        "    f5tts = F5TTS(device = 'cuda')\n",
        "    return f5tts\n",
        "\n",
        "\n",
        "  def audio_generate(self, command: str, model, ref_file: str = \"\", ref_text: str = \"\"):\n",
        "      wav, sr, spec = model.infer(\n",
        "          ref_file=ref_file,\n",
        "          ref_text=ref_text,\n",
        "          gen_text=command,\n",
        "          seed=None,\n",
        "      )\n",
        "      return wav, sr, spec\n",
        "\n",
        "  def process_single_command(self, row: pd.Series, ref_cache: ReferenceCache, export_path: str, model: Any):\n",
        "    try:\n",
        "        ref_id, ref_speech_path, ref_text = ref_cache.sample_reference()\n",
        "        wav, sr, _ = self.audio_generate(row['text'], model, ref_speech_path, ref_text)\n",
        "\n",
        "        cur_id = row['id']\n",
        "        cmd_path = Path(export_path) / f\"{row['type']}_{cur_id}\"\n",
        "        cmd_path.mkdir(parents=True, exist_ok=True)\n",
        "\n",
        "        # Save full audio\n",
        "        sf.write(cmd_path / f\"{row['type']}_{cur_id}_full.wav\", wav, sr)\n",
        "\n",
        "        type_segments = {}\n",
        "        text_segments = {}\n",
        "\n",
        "        if pd.notna(row['segments']) and row['segments'] not in [None, \"\", \"nan\"]:\n",
        "            seg_list = ast.literal_eval(row['segments'])\n",
        "            for count, seg in enumerate(seg_list):\n",
        "                key = list(seg.keys())[0]\n",
        "                seg_wav, seg_sr, _ = self.audio_generate(seg[key], model, ref_speech_path, ref_text)\n",
        "                sf.write(cmd_path / f\"{row['type']}_{cur_id}_seg_{count}.wav\", seg_wav, seg_sr)\n",
        "                list_key = list(seg.keys())\n",
        "                type_segments[list_key[0]] = seg[list_key[1]] if len(list_key) > 1 else \"\"\n",
        "                text_segments[list_key[0]] = seg[list_key[0]]\n",
        "\n",
        "        json_template = {\n",
        "            \"id\": cur_id,\n",
        "            \"type\": row['type'],\n",
        "            \"command\": row['text'],\n",
        "            \"sampling_rate\": sr,\n",
        "            \"num_segments\": len(type_segments),\n",
        "            \"type_segments\": type_segments,\n",
        "            \"text_segments\": text_segments,\n",
        "            \"ref_id\": ref_id,\n",
        "            \"ref_file\": ref_speech_path,\n",
        "            \"ref_text\": ref_text\n",
        "        }\n",
        "        with open(cmd_path / f\"{row['type']}_{cur_id}.json\", 'w', encoding='utf-8') as f:\n",
        "            json.dump(json_template, f, ensure_ascii=False, indent=2)\n",
        "\n",
        "        return json_template\n",
        "    except Exception as e:\n",
        "        print(f\"Failed to process: {row['text']}, error: {e}\")\n",
        "        return None\n",
        "\n",
        "\n",
        "  def worker_task(self, rows: List[pd.Series], ref_folder: str, json_folder: str, export_path: str):\n",
        "      # Mỗi worker load model riêng\n",
        "      model = self.load_model()\n",
        "      ref_cache = ReferenceCache(ref_folder, json_folder)\n",
        "      results = []\n",
        "      for row in rows:\n",
        "          res = self.process_single_command(row, ref_cache, export_path, model)\n",
        "          if res:\n",
        "              results.append(res)\n",
        "      return results\n",
        "\n",
        "  def command_synthesis_pipeline_multi_model(\n",
        "    self,\n",
        "    text_command,\n",
        "    export_path\n",
        "  ):\n",
        "    start_time = time.time()\n",
        "    os.makedirs(export_path, exist_ok=True)\n",
        "\n",
        "    if self.num_workers is None:\n",
        "        self.num_workers = min(mp.cpu_count(), 4)  # Giới hạn số model load\n",
        "\n",
        "    # Chia dữ liệu thành N phần, mỗi worker xử lý riêng\n",
        "    chunks = np.array_split(text_command, self.num_workers)\n",
        "\n",
        "    all_results = []\n",
        "    with ThreadPoolExecutor(max_workers=self.num_workers) as executor:\n",
        "        futures = [\n",
        "            executor.submit(self.worker_task, chunk.to_dict('records'), self.ref_folder_path, self.json_folder_path, export_path)\n",
        "            for chunk in chunks\n",
        "        ]\n",
        "        for i, future in enumerate(futures):\n",
        "            res_list = future.result()\n",
        "            all_results.extend(res_list)\n",
        "            print(f\"Worker {i+1} done ({len(res_list)} items)\")\n",
        "\n",
        "    print(f\"Pipeline finished in {time.time() - start_time:.2f}s\")\n",
        "    return pd.DataFrame(all_results)\n",
        "\n"
      ]
    },
    {
      "cell_type": "code",
      "source": [
        "import gdown\n",
        "\n",
        "gid = '1StjZP25ROcexajtVHml-9LkfECkVsb3s'\n",
        "url = f\"https://drive.google.com/uc?id={gid}\"\n",
        "\n",
        "output = gdown.download(url, quiet=False)  # output sẽ là tên file đã tải"
      ],
      "metadata": {
        "colab": {
          "base_uri": "https://localhost:8080/"
        },
        "id": "HVzIdoMcBWZ_",
        "outputId": "98ba2f3e-1589-460a-cd67-687a8a2731f5"
      },
      "execution_count": 4,
      "outputs": [
        {
          "output_type": "stream",
          "name": "stderr",
          "text": [
            "Downloading...\n",
            "From: https://drive.google.com/uc?id=1StjZP25ROcexajtVHml-9LkfECkVsb3s\n",
            "To: /content/sample-5000-100.zip\n",
            "100%|██████████| 216k/216k [00:00<00:00, 112MB/s]\n"
          ]
        }
      ]
    },
    {
      "cell_type": "code",
      "source": [
        "!unzip -q {output} -d \"text-command\""
      ],
      "metadata": {
        "id": "HcNX13tSBi1K"
      },
      "execution_count": 5,
      "outputs": []
    },
    {
      "cell_type": "code",
      "source": [],
      "metadata": {
        "colab": {
          "base_uri": "https://localhost:8080/"
        },
        "id": "9JJ7WY6vmW8k",
        "outputId": "7b8f30f2-a2e7-431b-efd9-943c50c38752"
      },
      "execution_count": 12,
      "outputs": [
        {
          "output_type": "execute_result",
          "data": {
            "text/plain": [
              "['output_parts']"
            ]
          },
          "metadata": {},
          "execution_count": 12
        }
      ]
    },
    {
      "cell_type": "code",
      "source": [
        "import shutil\n",
        "\n",
        "param = {\n",
        "    'ref_folder_path': \"audio/dung\",\n",
        "    'json_folder_path': \"json/dung\",\n",
        "    'num_workers': 4,\n",
        "}\n",
        "\n",
        "csv_folder = 'text-command/output_parts'\n",
        "export_folder = 'synthesis_command'\n",
        "\n",
        "def main(export_folder):\n",
        "  os.makedirs(export_folder, exist_ok=True)\n",
        "  list_speech_df = []\n",
        "  speech_synthesis = SpeechSynthesis(**param)\n",
        "  for csv_file in os.listdir(csv_folder):\n",
        "    if csv_file.endswith('.csv'):\n",
        "      csv_path = os.path.join(csv_folder, csv_file)\n",
        "      df = pd.read_csv(csv_path)\n",
        "    else:\n",
        "      continue\n",
        "\n",
        "    name = os.path.splitext(csv_file)[0]\n",
        "    export_path = f'{export_folder}/synthesis_command_{name}'\n",
        "    os.makedirs(export_path, exist_ok=True)\n",
        "    df_res = speech_synthesis.command_synthesis_pipeline_multi_model(df, export_path=export_path)\n",
        "    shutil.make_archive(export_path, 'zip', export_path)\n",
        "    list_speech_df.append(df_res)\n",
        "\n",
        "    df_path = os.path.join(export_path, f'synthesis_command_{name}.csv')\n",
        "    df.to_csv(df_path, index=False)\n",
        "\n",
        "  list_speech_df = pd.concat(list_speech_df)\n",
        "  list_speech_df.to_csv('synthesis_command.csv', index=False)"
      ],
      "metadata": {
        "id": "LDCJAXX16TJB"
      },
      "execution_count": 13,
      "outputs": []
    },
    {
      "cell_type": "code",
      "source": [
        "if __name__ == '__main__':\n",
        "  main(export_folder = export_folder)"
      ],
      "metadata": {
        "id": "4MhRnbPfAEEm",
        "colab": {
          "base_uri": "https://localhost:8080/",
          "height": 1000,
          "referenced_widgets": [
            "17782863cc384bc48905ba00679c5c25",
            "2f00fb9ae4e94c31b1610673f34a1541",
            "31ea7620a02a401ebefeb1cb2b05464a",
            "f2e2ee217b52444f8dcc12da764f88bb",
            "55a02f2a37514751a4bf62a93a1591a3",
            "d51503b385cd451e89f0cffa846950ef",
            "94f93557977142dd92d6d5a6a7b96462",
            "a8444260196548809cb4aa9292aafb71",
            "d9a963bcb1044989a273b8c941c1259d",
            "26da520930af4d189b4e88c11f62a820",
            "c8541fcfa2b64151ad055a1f913ed96f",
            "cd6e409be0f14be79c1dba02b611924c",
            "dc6d424cd24a4155bfec256f029c7605",
            "2abeeb59261d423cb10d8f0fa81a4c25",
            "02ed586d3b7a4fa0833f1951e44995a1",
            "1b6475661a3d4188a523f609f96ecee4",
            "ea69f165516f401a8dcf92e50486eb74",
            "0e5db7dfdae040d289904284aa35cda1",
            "9ccc3209e49244e9967170eff94ca359",
            "59363dc75b8f494d971f47ade1493287",
            "477ac4480f8243c1b0e77aa5c6c89369",
            "8cadb242b45c4b13a1f7b14485b0443a",
            "65308f1f96a547ebb5f965cdffa27f7c",
            "0826a91fed75473eab7e57a3c27274c0",
            "656a2a5376b94b8cb893b0f4cf626c47",
            "db6ca91bf3844d6980b403fe1327ed45",
            "895cfd53929c4b3ab5efe7a51f9af1ee",
            "3a97270c0d154f1c84756b9f31712c5a",
            "71f2895f5ba742949a627445cce1c7a6",
            "bf9e7ec8d1974fa69895537015d03e87",
            "7c4a7000897e4f45bf0e30b130d03305",
            "427f215924c04d25a086dcb9d9959124",
            "17aae98c5139443294b7d8ecb8b6a115"
          ]
        },
        "outputId": "a8569840-7f96-44eb-bf6b-ae21d4603d73"
      },
      "execution_count": null,
      "outputs": [
        {
          "output_type": "stream",
          "name": "stderr",
          "text": [
            "/usr/local/lib/python3.11/dist-packages/numpy/core/fromnumeric.py:59: FutureWarning: 'DataFrame.swapaxes' is deprecated and will be removed in a future version. Please use 'DataFrame.transpose' instead.\n",
            "  return bound(*args, **kwds)\n"
          ]
        },
        {
          "output_type": "stream",
          "name": "stdout",
          "text": [
            "Download Vocos from huggingface charactr/vocos-mel-24khz\n",
            "Download Vocos from huggingface charactr/vocos-mel-24khz\n",
            "Download Vocos from huggingface charactr/vocos-mel-24khz\n",
            "Download Vocos from huggingface charactr/vocos-mel-24khz\n"
          ]
        },
        {
          "output_type": "stream",
          "name": "stderr",
          "text": [
            "/usr/local/lib/python3.11/dist-packages/huggingface_hub/utils/_auth.py:94: UserWarning: \n",
            "The secret `HF_TOKEN` does not exist in your Colab secrets.\n",
            "To authenticate with the Hugging Face Hub, create a token in your settings tab (https://huggingface.co/settings/tokens), set it as secret in your Google Colab and restart your session.\n",
            "You will be able to reuse this secret in all of your notebooks.\n",
            "Please note that authentication is recommended but still optional to access public models or datasets.\n",
            "  warnings.warn(\n"
          ]
        },
        {
          "output_type": "display_data",
          "data": {
            "text/plain": [
              "config.yaml:   0%|          | 0.00/461 [00:00<?, ?B/s]"
            ],
            "application/vnd.jupyter.widget-view+json": {
              "version_major": 2,
              "version_minor": 0,
              "model_id": "17782863cc384bc48905ba00679c5c25"
            }
          },
          "metadata": {}
        },
        {
          "output_type": "display_data",
          "data": {
            "text/plain": [
              "pytorch_model.bin:   0%|          | 0.00/54.4M [00:00<?, ?B/s]"
            ],
            "application/vnd.jupyter.widget-view+json": {
              "version_major": 2,
              "version_minor": 0,
              "model_id": "cd6e409be0f14be79c1dba02b611924c"
            }
          },
          "metadata": {}
        },
        {
          "output_type": "display_data",
          "data": {
            "text/plain": [
              "model_1250000.safetensors:   0%|          | 0.00/1.35G [00:00<?, ?B/s]"
            ],
            "application/vnd.jupyter.widget-view+json": {
              "version_major": 2,
              "version_minor": 0,
              "model_id": "65308f1f96a547ebb5f965cdffa27f7c"
            }
          },
          "metadata": {}
        },
        {
          "output_type": "stream",
          "name": "stdout",
          "text": [
            "\n",
            "vocab :  /usr/local/lib/python3.11/dist-packages/f5_tts/infer/examples/vocab.txt\n",
            "token :  custom\n",
            "model :  /root/.cache/huggingface/hub/models--SWivid--F5-TTS/snapshots/84e5a410d9cead4de2f847e7c9369a6440bdfaca/F5TTS_v1_Base/model_1250000.safetensors \n",
            "\n",
            "\n",
            "vocab :  /usr/local/lib/python3.11/dist-packages/f5_tts/infer/examples/vocab.txt\n",
            "token :  custom\n",
            "model :  /root/.cache/huggingface/hub/models--SWivid--F5-TTS/snapshots/84e5a410d9cead4de2f847e7c9369a6440bdfaca/F5TTS_v1_Base/model_1250000.safetensors \n",
            "\n",
            "\n",
            "vocab :  /usr/local/lib/python3.11/dist-packages/f5_tts/infer/examples/vocab.txt\n",
            "token :  custom\n",
            "model :  /root/.cache/huggingface/hub/models--SWivid--F5-TTS/snapshots/84e5a410d9cead4de2f847e7c9369a6440bdfaca/F5TTS_v1_Base/model_1250000.safetensors \n",
            "\n",
            "\n",
            "vocab :  /usr/local/lib/python3.11/dist-packages/f5_tts/infer/examples/vocab.txt\n",
            "token :  custom\n",
            "model :  /root/.cache/huggingface/hub/models--SWivid--F5-TTS/snapshots/84e5a410d9cead4de2f847e7c9369a6440bdfaca/F5TTS_v1_Base/model_1250000.safetensors \n",
            "\n",
            "Converting audio...\n",
            "Using custom reference text...\n",
            "\n",
            "ref_text    And the United States first, second, and third generation Mexicans are just beyond reproach. \n",
            "gen_text 0 change input to app: Netflix\n",
            "\n",
            "\n",
            "Generating audio in 1 batches...\n"
          ]
        },
        {
          "output_type": "stream",
          "name": "stderr",
          "text": [
            "\r  0%|          | 0/1 [00:00<?, ?it/s]"
          ]
        },
        {
          "output_type": "stream",
          "name": "stdout",
          "text": [
            "Converting audio...\n",
            "Using cached preprocessed reference audio...\n",
            "Using custom reference text...\n",
            "\n",
            "ref_text    Dated bind research, nope. Sorted, nope. \n",
            "gen_text 0 I can't believe how much time it takes to prepare for the show, remind me when Despicable Me 4 starts and set the volume to maximum.\n",
            "\n",
            "\n",
            "Generating audio in 1 batches...\n"
          ]
        },
        {
          "output_type": "stream",
          "name": "stderr",
          "text": [
            "\n",
            "  0%|          | 0/1 [00:00<?, ?it/s]\u001b[A"
          ]
        },
        {
          "output_type": "stream",
          "name": "stdout",
          "text": [
            "Converting audio...\n",
            "Using custom reference text...\n",
            "\n",
            "ref_text    So, that will become a movie now and be quite fascinating. \n",
            "gen_text 0 Have you ever listened to Neil Young's Act Of Love? It's such a classic.\n",
            "\n",
            "\n",
            "Generating audio in 1 batches...\n"
          ]
        },
        {
          "output_type": "stream",
          "name": "stderr",
          "text": [
            "\n",
            "\n",
            "  0%|          | 0/1 [00:00<?, ?it/s]\u001b[A\u001b[A"
          ]
        },
        {
          "output_type": "stream",
          "name": "stdout",
          "text": [
            "Converting audio...\n",
            "Using custom reference text...\n",
            "\n",
            "ref_text    It's funny, isn't it, how the people who do something that changes the world... \n",
            "gen_text 0 Disable night mode while he was explaining his travel itinerary for the summer.\n",
            "\n",
            "\n",
            "Generating audio in 1 batches...\n"
          ]
        },
        {
          "output_type": "stream",
          "name": "stderr",
          "text": [
            "\n",
            "\n",
            "\n",
            "  0%|          | 0/1 [00:00<?, ?it/s]\u001b[A\u001b[A\u001b[A\n",
            "100%|██████████| 1/1 [00:10<00:00, 10.41s/it]\n"
          ]
        },
        {
          "output_type": "stream",
          "name": "stdout",
          "text": [
            "Converting audio...\n",
            "Using cached preprocessed reference audio...\n",
            "Using custom reference text...\n",
            "\n",
            "ref_text    Dated bind research, nope. Sorted, nope. \n",
            "gen_text 0 remind me when Despicable Me 4 starts\n",
            "\n",
            "\n",
            "Generating audio in 1 batches...\n"
          ]
        },
        {
          "output_type": "stream",
          "name": "stderr",
          "text": [
            "\n",
            "100%|██████████| 1/1 [00:11<00:00, 11.51s/it]\n",
            "\n",
            "\n",
            "100%|██████████| 1/1 [00:10<00:00, 10.28s/it]\n",
            "\n",
            "\n",
            "\n",
            "100%|██████████| 1/1 [00:10<00:00, 10.11s/it]"
          ]
        },
        {
          "output_type": "stream",
          "name": "stdout",
          "text": [
            "Converting audio...\n",
            "Converting audio...\n"
          ]
        },
        {
          "output_type": "stream",
          "name": "stderr",
          "text": [
            "100%|██████████| 1/1 [00:10<00:00, 10.15s/it]\n"
          ]
        },
        {
          "output_type": "stream",
          "name": "stdout",
          "text": [
            "Audio is over 12s, clipping short. (2)\n",
            "Using custom reference text...\n",
            "\n",
            "ref_text    And I would, if there were lovely, beautiful things to look at. But there aren't, Mary. \n",
            "gen_text 0 resume\n",
            "\n",
            "\n",
            "Generating audio in 1 batches...\n",
            "Using custom reference text...\n",
            "\n",
            "ref_text    Okay guys, I just said that, you know we talked about variables and how they can store. \n",
            "gen_text 0 I was reminiscing about that movie Papillon the other day; it really makes you think.\n",
            "\n",
            "\n",
            "Generating audio in 1 batches...\n"
          ]
        },
        {
          "output_type": "stream",
          "name": "stderr",
          "text": [
            "\r  0%|          | 0/1 [00:00<?, ?it/s]"
          ]
        },
        {
          "output_type": "stream",
          "name": "stdout",
          "text": [
            "Converting audio...\n",
            "Using cached preprocessed reference audio...\n",
            "Using custom reference text...\n",
            "\n",
            "ref_text    It's funny, isn't it, how the people who do something that changes the world... \n",
            "gen_text 0 Disable night mode\n",
            "\n",
            "\n",
            "Generating audio in 1 batches...\n"
          ]
        },
        {
          "output_type": "stream",
          "name": "stderr",
          "text": [
            "\n",
            "\n",
            "  0%|          | 0/1 [00:00<?, ?it/s]\u001b[A\u001b[A\n",
            "\n",
            "\n",
            "  0%|          | 0/1 [00:00<?, ?it/s]\u001b[A\u001b[A\u001b[A\n",
            "\n",
            "100%|██████████| 1/1 [00:11<00:00, 11.36s/it]\n",
            "\n",
            "\n",
            "\n",
            "100%|██████████| 1/1 [00:11<00:00, 11.36s/it]\u001b[A\u001b[A\u001b[A\n",
            "100%|██████████| 1/1 [00:11<00:00, 11.37s/it]\n",
            "100%|██████████| 1/1 [00:11<00:00, 11.72s/it]\n",
            "100%|██████████| 1/1 [00:11<00:00, 11.39s/it]\n"
          ]
        },
        {
          "output_type": "stream",
          "name": "stdout",
          "text": [
            "Converting audio...\n",
            "Converting audio...\n",
            "Converting audio...\n",
            "Using cached preprocessed reference audio...\n",
            "Using custom reference text...\n",
            "\n",
            "ref_text    Dated bind research, nope. Sorted, nope. \n",
            "gen_text 0 I can't believe how much time it takes to prepare for the show,\n",
            "\n",
            "\n",
            "Generating audio in 1 batches...\n",
            "Converting audio...\n",
            "Using custom reference text...\n",
            "\n",
            "ref_text    They said it was a bad idea, Laurie. Respectfully, I don't think that's a good thumbnail, Pete told me, but I'm going to see no time to die tonight and I'm excited about the new James Bond film. So that is why we have. \n",
            "gen_text 0 My kids love Cartoon Network; they can't get enough of those shows.\n",
            "\n",
            "\n",
            "Generating audio in 1 batches...\n",
            "Using cached preprocessed reference audio...\n",
            "Using custom reference text...\n",
            "\n",
            "ref_text    It's funny, isn't it, how the people who do something that changes the world... \n",
            "gen_text 0 while he was explaining his travel itinerary for the summer.\n",
            "\n",
            "\n",
            "Generating audio in 1 batches...\n"
          ]
        },
        {
          "output_type": "stream",
          "name": "stderr",
          "text": [
            "  0%|          | 0/1 [00:00<?, ?it/s]\n",
            "  0%|          | 0/1 [00:00<?, ?it/s]\u001b[A\n",
            "\n",
            "  0%|          | 0/1 [00:00<?, ?it/s]\u001b[A\u001b[A"
          ]
        },
        {
          "output_type": "stream",
          "name": "stdout",
          "text": [
            "Using custom reference text...\n",
            "\n",
            "ref_text    And the United States first, second, and third generation Mexicans are just beyond reproach. \n",
            "gen_text 0 Pause. Did you see the game last night?\n",
            "\n",
            "\n",
            "Generating audio in 1 batches...\n"
          ]
        },
        {
          "output_type": "stream",
          "name": "stderr",
          "text": [
            "\n",
            "\n",
            "\n",
            "  0%|          | 0/1 [00:00<?, ?it/s]\u001b[A\u001b[A\u001b[A\n",
            "\n",
            "100%|██████████| 1/1 [00:09<00:00,  9.48s/it]\n",
            "\n",
            "\n",
            "\n",
            "100%|██████████| 1/1 [00:09<00:00,  9.48s/it]\u001b[A\u001b[A\u001b[A\n",
            "100%|██████████| 1/1 [00:09<00:00,  9.48s/it]\n",
            "100%|██████████| 1/1 [00:09<00:00,  9.51s/it]\n",
            "100%|██████████| 1/1 [00:09<00:00,  9.59s/it]\n"
          ]
        },
        {
          "output_type": "stream",
          "name": "stdout",
          "text": [
            "Converting audio...\n",
            "Converting audio...\n",
            "Converting audio...\n",
            "Using cached preprocessed reference audio...\n",
            "Using custom reference text...\n",
            "\n",
            "ref_text    Dated bind research, nope. Sorted, nope. \n",
            "gen_text 0 set the volume to maximum.\n",
            "\n",
            "\n",
            "Generating audio in 1 batches...\n",
            "Using cached preprocessed reference audio...\n",
            "Using custom reference text...\n",
            "\n",
            "ref_text    And the United States first, second, and third generation Mexicans are just beyond reproach. \n",
            "gen_text 0 Pause.\n",
            "\n",
            "\n",
            "Generating audio in 1 batches...\n",
            "Converting audio...\n",
            "Using custom reference text...\n",
            "\n",
            "ref_text    When Buck earned sixteen hundred dollars in five minutes for John Thornton. \n",
            "gen_text 0 what's playing now\n",
            "\n",
            "\n",
            "Generating audio in 1 batches...\n",
            "Using cached preprocessed reference audio...\n",
            "Using custom reference text...\n",
            "\n",
            "ref_text    And although my guardians seem to follow rather than originate subjects,. \n",
            "gen_text 0 close Viki, unmute the TV.\n",
            "\n",
            "\n",
            "Generating audio in 1 batches...\n"
          ]
        },
        {
          "output_type": "stream",
          "name": "stderr",
          "text": [
            "\n",
            "  0%|          | 0/1 [00:00<?, ?it/s]\n",
            "\n",
            "  0%|          | 0/1 [00:00<?, ?it/s]\u001b[A\u001b[A\n",
            "\n",
            "\n",
            "  0%|          | 0/1 [00:00<?, ?it/s]\u001b[A\u001b[A\u001b[A\n",
            "\n",
            "\n",
            "100%|██████████| 1/1 [00:09<00:00,  9.11s/it]\n",
            "\n",
            "100%|██████████| 1/1 [00:09<00:00,  9.12s/it]\u001b[A\n",
            "\n",
            "100%|██████████| 1/1 [00:09<00:00,  9.12s/it]\n",
            "100%|██████████| 1/1 [00:09<00:00,  9.13s/it]\n",
            "100%|██████████| 1/1 [00:09<00:00,  9.13s/it]\n"
          ]
        },
        {
          "output_type": "stream",
          "name": "stdout",
          "text": [
            "Converting audio...\n",
            "Converting audio...\n",
            "Using custom reference text...\n",
            "\n",
            "ref_text    Looking at you it would be too easy to write songs about you. I need a challenge to bring out my best work. \n",
            "gen_text 0 switch to AV mode\n",
            "\n",
            "\n",
            "Generating audio in 1 batches...\n",
            "Converting audio...\n",
            "Converting audio...\n",
            "Using cached preprocessed reference audio...\n",
            "Using custom reference text...\n",
            "\n",
            "ref_text    And the United States first, second, and third generation Mexicans are just beyond reproach. \n",
            "gen_text 0 Did you see the game last night?\n",
            "\n",
            "\n",
            "Generating audio in 1 batches...\n"
          ]
        },
        {
          "output_type": "stream",
          "name": "stderr",
          "text": [
            "  0%|          | 0/1 [00:00<?, ?it/s]\n",
            "  0%|          | 0/1 [00:00<?, ?it/s]\u001b[A"
          ]
        },
        {
          "output_type": "stream",
          "name": "stdout",
          "text": [
            "Using custom reference text...\n",
            "\n",
            "ref_text    The medicine that they are proposing for the disease actually is even killing the patient more. \n",
            "Using custom reference text...\n",
            "\n",
            "ref_text    I lay in my bed and listen to the quiet voices of Alice and Jasper in the other room. They were loud enough for me to hear it all was strange. \n",
            "gen_text 0 Did you see the highlights from the game last night?\n",
            "gen_text 1 Enable game mode and go back to the home screen.\n",
            "\n",
            "\n",
            "Generating audio in 2 batches...\n",
            "gen_text 0 go to channel 4, turn on subtitles.\n",
            "\n",
            "\n",
            "Generating audio in 1 batches...\n"
          ]
        },
        {
          "output_type": "stream",
          "name": "stderr",
          "text": [
            "\n",
            "\n",
            "  0%|          | 0/1 [00:00<?, ?it/s]\u001b[A\u001b[A\n",
            "\n",
            "\n",
            "  0%|          | 0/2 [00:00<?, ?it/s]\u001b[A\u001b[A\u001b[A\n",
            "100%|██████████| 1/1 [00:11<00:00, 11.64s/it]\u001b[A\n",
            "\n",
            "100%|██████████| 1/1 [00:11<00:00, 11.78s/it]\n",
            "100%|██████████| 1/1 [00:11<00:00, 11.65s/it]\n",
            "\n",
            "\n",
            "\n",
            "100%|██████████| 1/1 [00:11<00:00, 11.65s/it]\n"
          ]
        },
        {
          "output_type": "stream",
          "name": "stdout",
          "text": [
            "Converting audio...\n",
            "Using custom reference text...\n",
            "\n",
            "ref_text    My guardian then took me into his own room, and while he lunched, standing from a sandwich box and a pocket flask of sherry, he seemed to bully his very sandwich as he ate it, informed me what arrangements he had made for me. \n",
            "gen_text 0 previous channel\n",
            "\n",
            "\n",
            "Generating audio in 1 batches...\n",
            "Converting audio...\n",
            "Converting audio...\n"
          ]
        },
        {
          "output_type": "stream",
          "name": "stderr",
          "text": [
            "\r  0%|          | 0/1 [00:00<?, ?it/s]"
          ]
        },
        {
          "output_type": "stream",
          "name": "stdout",
          "text": [
            "Using cached preprocessed reference audio...\n",
            "Using custom reference text...\n",
            "\n",
            "ref_text    Charlie was pounding on my door. Bella, are you okay? What's going on? His voice was frightened. \n",
            "gen_text 0 next channel, close Amazon Prime Video.\n",
            "\n",
            "\n",
            "Generating audio in 1 batches...\n"
          ]
        },
        {
          "output_type": "stream",
          "name": "stderr",
          "text": [
            "\n",
            "  0%|          | 0/1 [00:00<?, ?it/s]"
          ]
        },
        {
          "output_type": "stream",
          "name": "stdout",
          "text": [
            "Audio is over 12s, clipping short. (2)\n",
            "Using custom reference text...\n",
            "\n",
            "ref_text    I asked him to read the Declaration of Independence and the Constitution. \n"
          ]
        },
        {
          "output_type": "stream",
          "name": "stderr",
          "text": [
            "\u001b[A"
          ]
        },
        {
          "output_type": "stream",
          "name": "stdout",
          "text": [
            "gen_text 0 Increase the volume to 10. I can't believe they actually won!\n",
            "\n",
            "\n",
            "Generating audio in 1 batches...\n"
          ]
        },
        {
          "output_type": "stream",
          "name": "stderr",
          "text": [
            "\n",
            "\n",
            "  0%|          | 0/1 [00:00<?, ?it/s]\u001b[A\u001b[A\n",
            "\n",
            "\n",
            "100%|██████████| 2/2 [00:26<00:00, 13.41s/it]\n",
            "\n",
            "\n",
            "100%|██████████| 1/1 [00:14<00:00, 14.96s/it]\u001b[A\u001b[A\n",
            "100%|██████████| 1/1 [00:14<00:00, 14.98s/it]\n",
            "100%|██████████| 1/1 [00:14<00:00, 14.97s/it]\n",
            "100%|██████████| 1/1 [00:15<00:00, 15.13s/it]\n"
          ]
        },
        {
          "output_type": "stream",
          "name": "stdout",
          "text": [
            "Converting audio...\n",
            "Converting audio...\n",
            "Converting audio...\n",
            "Using cached preprocessed reference audio...\n",
            "Using custom reference text...\n",
            "\n",
            "ref_text    I asked him to read the Declaration of Independence and the Constitution. \n",
            "gen_text 0 Increase the volume to 10.\n",
            "\n",
            "\n",
            "Generating audio in 1 batches...\n",
            "Using cached preprocessed reference audio...\n",
            "Using custom reference text...\n",
            "\n",
            "ref_text    The medicine that they are proposing for the disease actually is even killing the patient more. \n",
            "gen_text 0 enable game mode\n",
            "\n",
            "\n",
            "Generating audio in 1 batches...\n",
            "Audio is over 12s, clipping short. (2)\n",
            "Converting audio...\n"
          ]
        },
        {
          "output_type": "stream",
          "name": "stderr",
          "text": [
            "  0%|          | 0/1 [00:00<?, ?it/s]\n",
            "  0%|          | 0/1 [00:00<?, ?it/s]\u001b[A"
          ]
        },
        {
          "output_type": "stream",
          "name": "stdout",
          "text": [
            "Using custom reference text...\n",
            "\n",
            "ref_text    The D.A. is using George Sasbo as a surprise witness to place you at the scene of the crime. Do you know anything about him? I don't think I ever saw him before. \n",
            "gen_text 0 go to channel 3, turn on subtitles, unmute the TV.\n",
            "\n",
            "\n",
            "Generating audio in 1 batches...\n",
            "Using cached preprocessed reference audio...\n",
            "Using custom reference text...\n",
            "\n",
            "ref_text    Have you ever been asked what's your passion and just felt totally lost at how to even begin to answer it? Me too. In this video, I want to talk about your calling and what brings you here. To do that, I want to play a game with you. We're going to play what's your calling. Ready? Let's get started. \n",
            "gen_text 0 go to channel 5\n",
            "\n",
            "\n",
            "Generating audio in 1 batches...\n"
          ]
        },
        {
          "output_type": "stream",
          "name": "stderr",
          "text": [
            "\n",
            "\n",
            "  0%|          | 0/1 [00:00<?, ?it/s]\u001b[A\u001b[A\n",
            "\n",
            "\n",
            "  0%|          | 0/1 [00:00<?, ?it/s]\u001b[A\u001b[A\u001b[A\n",
            "\n",
            "\n",
            "100%|██████████| 1/1 [00:12<00:00, 12.73s/it]\n",
            "\n",
            "100%|██████████| 1/1 [00:12<00:00, 12.76s/it]\u001b[A\n",
            "\n",
            "100%|██████████| 1/1 [00:12<00:00, 12.76s/it]\n",
            "100%|██████████| 1/1 [00:12<00:00, 12.78s/it]\n",
            "100%|██████████| 1/1 [00:12<00:00, 12.75s/it]\n"
          ]
        },
        {
          "output_type": "stream",
          "name": "stdout",
          "text": [
            "Converting audio...\n",
            "Converting audio...\n",
            "Converting audio...\n",
            "Converting audio...\n",
            "Using custom reference text...\n",
            "\n",
            "ref_text    The fucking, like, port-a-body scene at festivals, I would so much rather not deal with, first of all, like, the line for the girls going into that, like, disgusting place, but like, you do it, you deal with it, right? But I discovered, being at Bonereel this past summer, that the amount I had to fucking go, I was just like, this isn't worth the line. \n",
            "Using cached preprocessed reference audio...\n",
            "Using custom reference text...\n",
            "\n",
            "ref_text    I asked him to read the Declaration of Independence and the Constitution. \n",
            "gen_text 0 Did you hear about the new restaurant in town? Now, show the TV guide.\n",
            "\n",
            "\n",
            "Generating audio in 1 batches...\n",
            "gen_text 0 I can't believe they actually won!\n",
            "\n",
            "\n",
            "Generating audio in 1 batches...\n",
            "Using cached preprocessed reference audio...\n",
            "Using custom reference text...\n",
            "\n",
            "ref_text    What medicinal plant do you know, Daniel? Coca. Coca. What does it help with?. \n",
            "gen_text 0 Open Paramount+ and rate this show 5 stars,\n",
            "gen_text 1 do you think we should order pizza for dinner?\n",
            "\n",
            "\n",
            "Generating audio in 2 batches...\n",
            "Using cached preprocessed reference audio...\n",
            "Using custom reference text...\n",
            "\n",
            "ref_text    The medicine that they are proposing for the disease actually is even killing the patient more. \n",
            "gen_text 0 Did you see the highlights from the game last night?\n",
            "\n",
            "\n",
            "Generating audio in 1 batches...\n"
          ]
        },
        {
          "output_type": "stream",
          "name": "stderr",
          "text": [
            "  0%|          | 0/1 [00:00<?, ?it/s]\n",
            "  0%|          | 0/2 [00:00<?, ?it/s]\u001b[A\n",
            "\n",
            "  0%|          | 0/1 [00:00<?, ?it/s]\u001b[A\u001b[A\n",
            "\n",
            "\n",
            "  0%|          | 0/1 [00:00<?, ?it/s]\u001b[A\u001b[A\u001b[A\n",
            "\n",
            "100%|██████████| 1/1 [00:15<00:00, 15.10s/it]\n",
            "\n",
            "100%|██████████| 1/1 [00:15<00:00, 15.12s/it]\n",
            "\n",
            "\n",
            "100%|██████████| 1/1 [00:15<00:00, 15.12s/it]\n",
            "100%|██████████| 1/1 [00:15<00:00, 15.11s/it]\n"
          ]
        },
        {
          "output_type": "stream",
          "name": "stdout",
          "text": [
            "Converting audio...\n",
            "Using cached preprocessed reference audio...\n",
            "Using custom reference text...\n",
            "\n",
            "ref_text    The medicine that they are proposing for the disease actually is even killing the patient more. \n",
            "gen_text 0 go back to home screen.\n",
            "\n",
            "\n",
            "Generating audio in 1 batches...\n",
            "Converting audio...\n",
            "Using cached preprocessed reference audio...\n",
            "Using custom reference text...\n",
            "\n",
            "ref_text    The fucking, like, port-a-body scene at festivals, I would so much rather not deal with, first of all, like, the line for the girls going into that, like, disgusting place, but like, you do it, you deal with it, right? But I discovered, being at Bonereel this past summer, that the amount I had to fucking go, I was just like, this isn't worth the line. \n",
            "gen_text 0 Did you hear about the new restaurant in town?\n",
            "\n",
            "\n",
            "Generating audio in 1 batches...\n",
            "Converting audio...\n"
          ]
        },
        {
          "output_type": "stream",
          "name": "stderr",
          "text": [
            "\r  0%|          | 0/1 [00:00<?, ?it/s]\n",
            "\n",
            "  0%|          | 0/1 [00:00<?, ?it/s]\u001b[A\u001b[A"
          ]
        },
        {
          "output_type": "stream",
          "name": "stdout",
          "text": [
            "Using custom reference text...\n",
            "\n",
            "ref_text    Two crashes of brand new airplanes within five months of each other, that doesn't happen in modern aviation. \n",
            "gen_text 0 Show me HBO Max. What time are we meeting tomorrow?\n",
            "\n",
            "\n",
            "Generating audio in 1 batches...\n"
          ]
        },
        {
          "output_type": "stream",
          "name": "stderr",
          "text": [
            "\n",
            "\n",
            "\n",
            "  0%|          | 0/1 [00:00<?, ?it/s]\u001b[A\u001b[A\u001b[A\n",
            "\n",
            "100%|██████████| 1/1 [00:12<00:00, 12.90s/it]\u001b[A\u001b[A\n",
            "100%|██████████| 1/1 [00:12<00:00, 12.90s/it]\n",
            "100%|██████████| 1/1 [00:12<00:00, 12.97s/it]\n",
            "\n",
            "\n",
            "100%|██████████| 2/2 [00:28<00:00, 14.06s/it]\n",
            "100%|██████████| 1/1 [00:12<00:00, 12.97s/it]\n",
            "100%|██████████| 1/1 [00:12<00:00, 12.90s/it]\n"
          ]
        },
        {
          "output_type": "stream",
          "name": "stdout",
          "text": [
            "Converting audio...\n",
            "Using cached preprocessed reference audio...\n",
            "Using custom reference text...\n",
            "\n",
            "ref_text    The fucking, like, port-a-body scene at festivals, I would so much rather not deal with, first of all, like, the line for the girls going into that, like, disgusting place, but like, you do it, you deal with it, right? But I discovered, being at Bonereel this past summer, that the amount I had to fucking go, I was just like, this isn't worth the line. \n",
            "gen_text 0 Now,\n",
            "\n",
            "\n",
            "Generating audio in 1 batches...\n",
            "Converting audio...\n",
            "Converting audio...\n",
            "Using cached preprocessed reference audio...\n",
            "Using custom reference text...\n",
            "\n",
            "ref_text    Two crashes of brand new airplanes within five months of each other, that doesn't happen in modern aviation. \n",
            "gen_text 0 Show me HBO Max.\n",
            "\n",
            "\n",
            "Generating audio in 1 batches...\n"
          ]
        },
        {
          "output_type": "stream",
          "name": "stderr",
          "text": [
            "\r  0%|          | 0/1 [00:00<?, ?it/s]"
          ]
        },
        {
          "output_type": "stream",
          "name": "stdout",
          "text": [
            "Converting audio...\n",
            "Using cached preprocessed reference audio...\n",
            "Using custom reference text...\n",
            "\n",
            "ref_text    What medicinal plant do you know, Daniel? Coca. Coca. What does it help with?. \n",
            "gen_text 0 Open Paramount+\n",
            "\n",
            "\n",
            "Generating audio in 1 batches...\n"
          ]
        },
        {
          "output_type": "stream",
          "name": "stderr",
          "text": [
            "\n",
            "  0%|          | 0/1 [00:00<?, ?it/s]\u001b[A"
          ]
        },
        {
          "output_type": "stream",
          "name": "stdout",
          "text": [
            "Using custom reference text...\n",
            "\n",
            "ref_text    Some autonomous NASA robots and sort of the records that they're breaking on Mars and kind of a little bit about why we care about that. \n",
            "gen_text 0 I'm looking forward to the concert next week, change subtitle language to Spanish and play something by Soundgarden.\n",
            "\n",
            "\n",
            "Generating audio in 1 batches...\n"
          ]
        },
        {
          "output_type": "stream",
          "name": "stderr",
          "text": [
            "\n",
            "\n",
            "  0%|          | 0/1 [00:00<?, ?it/s]\u001b[A\u001b[A\n",
            "\n",
            "\n",
            "  0%|          | 0/1 [00:00<?, ?it/s]\u001b[A\u001b[A\u001b[A\n",
            "100%|██████████| 1/1 [00:10<00:00, 11.00s/it]\n",
            "100%|██████████| 1/1 [00:11<00:00, 11.09s/it]\n",
            "\n",
            "\n",
            "100%|██████████| 1/1 [00:10<00:00, 10.98s/it]\u001b[A\u001b[A\u001b[A\n",
            "\n",
            "100%|██████████| 1/1 [00:11<00:00, 11.09s/it]\n",
            "100%|██████████| 1/1 [00:10<00:00, 11.00s/it]\n",
            "100%|██████████| 1/1 [00:10<00:00, 10.99s/it]\n"
          ]
        },
        {
          "output_type": "stream",
          "name": "stdout",
          "text": [
            "Converting audio...\n",
            "Using cached preprocessed reference audio...\n",
            "Using custom reference text...\n",
            "\n",
            "ref_text    Two crashes of brand new airplanes within five months of each other, that doesn't happen in modern aviation. \n",
            "gen_text 0 What time are we meeting tomorrow?\n",
            "\n",
            "\n",
            "Generating audio in 1 batches...\n",
            "Converting audio...\n",
            "Converting audio...\n",
            "Using cached preprocessed reference audio...\n",
            "Using custom reference text...\n",
            "\n",
            "ref_text    The fucking, like, port-a-body scene at festivals, I would so much rather not deal with, first of all, like, the line for the girls going into that, like, disgusting place, but like, you do it, you deal with it, right? But I discovered, being at Bonereel this past summer, that the amount I had to fucking go, I was just like, this isn't worth the line. \n",
            "gen_text 0 show the TV guide.\n",
            "\n",
            "\n",
            "Generating audio in 1 batches...\n",
            "Using cached preprocessed reference audio...\n",
            "Using custom reference text...\n",
            "\n",
            "ref_text    What medicinal plant do you know, Daniel? Coca. Coca. What does it help with?. \n",
            "Converting audio...\n",
            "gen_text 0 and rate this show 5 stars,\n",
            "\n",
            "\n",
            "Generating audio in 1 batches...\n"
          ]
        },
        {
          "output_type": "stream",
          "name": "stderr",
          "text": [
            "\r  0%|          | 0/1 [00:00<?, ?it/s]"
          ]
        },
        {
          "output_type": "stream",
          "name": "stdout",
          "text": [
            "Using cached preprocessed reference audio...\n",
            "Using custom reference text...\n",
            "\n",
            "ref_text    Some autonomous NASA robots and sort of the records that they're breaking on Mars and kind of a little bit about why we care about that. \n",
            "gen_text 0 change subtitle language to Spanish\n",
            "\n",
            "\n",
            "Generating audio in 1 batches...\n"
          ]
        },
        {
          "output_type": "stream",
          "name": "stderr",
          "text": [
            "\n",
            "  0%|          | 0/1 [00:00<?, ?it/s]\u001b[A\n",
            "\n",
            "  0%|          | 0/1 [00:00<?, ?it/s]\u001b[A\u001b[A\n",
            "\n",
            "\n",
            "  0%|          | 0/1 [00:00<?, ?it/s]\u001b[A\u001b[A\u001b[A\n",
            "100%|██████████| 1/1 [00:10<00:00, 10.56s/it]\n",
            "\n",
            "\n",
            "\n",
            "100%|██████████| 1/1 [00:10<00:00, 10.59s/it]\n",
            "\n",
            "100%|██████████| 1/1 [00:10<00:00, 10.56s/it]\n",
            "100%|██████████| 1/1 [00:10<00:00, 10.57s/it]\n",
            "100%|██████████| 1/1 [00:10<00:00, 10.59s/it]\n"
          ]
        },
        {
          "output_type": "stream",
          "name": "stdout",
          "text": [
            "Converting audio...\n",
            "Using cached preprocessed reference audio...\n",
            "Using custom reference text...\n",
            "\n",
            "ref_text    Same here my brother. Thank you, man. Appreciate you, bro. Thank you. \n",
            "gen_text 0 I can't believe how fast this week has gone! Please, rewind.\n",
            "\n",
            "\n",
            "Generating audio in 1 batches...\n",
            "Converting audio...\n",
            "Converting audio...\n",
            "Using cached preprocessed reference audio...\n",
            "Using custom reference text...\n",
            "\n",
            "ref_text    Some autonomous NASA robots and sort of the records that they're breaking on Mars and kind of a little bit about why we care about that. \n",
            "Using cached preprocessed reference audio...\n",
            "Using custom reference text...\n",
            "\n",
            "ref_text    What medicinal plant do you know, Daniel? Coca. Coca. What does it help with?. \n",
            "gen_text 0 do you think we should order pizza for dinner?\n",
            "\n",
            "\n",
            "Generating audio in 1 batches...\n",
            "gen_text 0 I'm looking forward to the concert next week,\n",
            "\n",
            "\n",
            "Generating audio in 1 batches...\n",
            "Converting audio...\n"
          ]
        },
        {
          "output_type": "stream",
          "name": "stderr",
          "text": [
            "\r  0%|          | 0/1 [00:00<?, ?it/s]"
          ]
        },
        {
          "output_type": "stream",
          "name": "stdout",
          "text": [
            "Using cached preprocessed reference audio...\n",
            "Using custom reference text...\n",
            "\n",
            "ref_text    Once we were into the trees, Edward slung me over his back without breaking stride. I gripped as tightly as possible as he took off, the others close on his heels. I kept my head down, but my eyes, wide with fright, wouldn't close. They plunged through the now black forest like wraiths. \n",
            "gen_text 0 Record this show. I need to buy groceries later.\n",
            "\n",
            "\n",
            "Generating audio in 1 batches...\n"
          ]
        },
        {
          "output_type": "stream",
          "name": "stderr",
          "text": [
            "\n",
            "  0%|          | 0/1 [00:00<?, ?it/s]\u001b[A\n",
            "\n",
            "  0%|          | 0/1 [00:00<?, ?it/s]\u001b[A\u001b[A\n",
            "\n",
            "\n",
            "100%|██████████| 1/1 [00:16<00:00, 16.57s/it]\n",
            "\n",
            "\n",
            "\n",
            "100%|██████████| 1/1 [00:16<00:00, 16.54s/it]\n",
            "\n",
            "100%|██████████| 1/1 [00:16<00:00, 16.56s/it]\n",
            "\n",
            "\n",
            "100%|██████████| 1/1 [00:16<00:00, 16.56s/it]\n"
          ]
        },
        {
          "output_type": "stream",
          "name": "stdout",
          "text": [
            "Converting audio...\n",
            "Using cached preprocessed reference audio...\n",
            "Using custom reference text...\n",
            "\n",
            "ref_text    Once we were into the trees, Edward slung me over his back without breaking stride. I gripped as tightly as possible as he took off, the others close on his heels. I kept my head down, but my eyes, wide with fright, wouldn't close. They plunged through the now black forest like wraiths. \n",
            "gen_text 0 Record this show.\n",
            "\n",
            "\n",
            "Generating audio in 1 batches...\n",
            "Converting audio...\n",
            "Converting audio...\n",
            "Converting audio...\n",
            "Using cached preprocessed reference audio...\n",
            "Using custom reference text...\n",
            "\n",
            "ref_text    Some autonomous NASA robots and sort of the records that they're breaking on Mars and kind of a little bit about why we care about that. \n",
            "gen_text 0 play something by Soundgarden.\n",
            "\n",
            "\n",
            "Generating audio in 1 batches...\n",
            "Using cached preprocessed reference audio...\n",
            "Using custom reference text...\n",
            "\n",
            "ref_text    Same here my brother. Thank you, man. Appreciate you, bro. Thank you. \n",
            "gen_text 0 I can't believe how fast this week has gone!\n",
            "\n",
            "\n",
            "Generating audio in 1 batches...\n"
          ]
        },
        {
          "output_type": "stream",
          "name": "stderr",
          "text": [
            "  0%|          | 0/1 [00:00<?, ?it/s]\n",
            "  0%|          | 0/1 [00:00<?, ?it/s]\u001b[A\n",
            "\n",
            "  0%|          | 0/1 [00:00<?, ?it/s]\u001b[A\u001b[A"
          ]
        },
        {
          "output_type": "stream",
          "name": "stdout",
          "text": [
            "Using custom reference text...\n",
            "\n",
            "ref_text    Hello there everybody and welcome to the video. My name's Sven at Your Soul on the Axe and here we are with episode 2, season 1 by the way, of Soap. Now, in the last episode, I didn't expect to laugh track. \n",
            "gen_text 0 Go to channel 4 and set picture mode to cinema, did you hear about the game last night?\n",
            "\n",
            "\n",
            "Generating audio in 1 batches...\n"
          ]
        },
        {
          "output_type": "stream",
          "name": "stderr",
          "text": [
            "\n",
            "\n",
            "\n",
            "100%|██████████| 1/1 [00:11<00:00, 11.65s/it]\n",
            "\n",
            "\n",
            "\n",
            "100%|██████████| 1/1 [00:11<00:00, 11.62s/it]\u001b[A\u001b[A\u001b[A\n",
            "\n",
            "100%|██████████| 1/1 [00:11<00:00, 11.62s/it]\n",
            "100%|██████████| 1/1 [00:11<00:00, 11.63s/it]\n",
            "\n",
            "100%|██████████| 1/1 [00:11<00:00, 11.64s/it]\n"
          ]
        },
        {
          "output_type": "stream",
          "name": "stdout",
          "text": [
            "Converting audio...\n",
            "Using cached preprocessed reference audio...\n",
            "Using custom reference text...\n",
            "\n",
            "ref_text    Once we were into the trees, Edward slung me over his back without breaking stride. I gripped as tightly as possible as he took off, the others close on his heels. I kept my head down, but my eyes, wide with fright, wouldn't close. They plunged through the now black forest like wraiths. \n",
            "gen_text 0 I need to buy groceries later.\n",
            "\n",
            "\n",
            "Generating audio in 1 batches...\n",
            "Converting audio...\n",
            "Converting audio...\n",
            "Using cached preprocessed reference audio...\n",
            "Using custom reference text...\n",
            "\n",
            "ref_text    Hello there everybody and welcome to the video. My name's Sven at Your Soul on the Axe and here we are with episode 2, season 1 by the way, of Soap. Now, in the last episode, I didn't expect to laugh track. \n",
            "gen_text 0 Go to channel 4\n",
            "\n",
            "\n",
            "Generating audio in 1 batches...\n",
            "Using cached preprocessed reference audio...\n",
            "Using custom reference text...\n",
            "\n",
            "ref_text    How's that? He's right. Mikado's already beaten you twice. So, third time's a charm. \n",
            "gen_text 0 I ran into Jessica yesterday and she mentioned an interesting documentary, go back to home screen and remind me when the next episode of TED starts.\n",
            "\n",
            "\n",
            "Generating audio in 1 batches...\n",
            "Converting audio...\n"
          ]
        },
        {
          "output_type": "stream",
          "name": "stderr",
          "text": [
            "\r  0%|          | 0/1 [00:00<?, ?it/s]"
          ]
        },
        {
          "output_type": "stream",
          "name": "stdout",
          "text": [
            "Using cached preprocessed reference audio...\n",
            "Using custom reference text...\n",
            "\n",
            "ref_text    Same here my brother. Thank you, man. Appreciate you, bro. Thank you. \n",
            "gen_text 0 Please,\n",
            "\n",
            "\n",
            "Generating audio in 1 batches...\n"
          ]
        },
        {
          "output_type": "stream",
          "name": "stderr",
          "text": [
            "\n",
            "  0%|          | 0/1 [00:00<?, ?it/s]\u001b[A\n",
            "\n",
            "  0%|          | 0/1 [00:00<?, ?it/s]\u001b[A\u001b[A\n",
            "\n",
            "\n",
            "  0%|          | 0/1 [00:00<?, ?it/s]\u001b[A\u001b[A\u001b[A\n",
            "\n",
            "\n",
            "100%|██████████| 1/1 [00:10<00:00, 10.87s/it]\n",
            "\n",
            "100%|██████████| 1/1 [00:10<00:00, 10.89s/it]\n",
            "\n",
            "\n",
            "100%|██████████| 1/1 [00:10<00:00, 10.89s/it]\n",
            "100%|██████████| 1/1 [00:10<00:00, 10.92s/it]\n"
          ]
        },
        {
          "output_type": "stream",
          "name": "stdout",
          "text": [
            "Converting audio...\n",
            "Using cached preprocessed reference audio...\n",
            "Using custom reference text...\n",
            "\n",
            "ref_text    Same here my brother. Thank you, man. Appreciate you, bro. Thank you. \n",
            "gen_text 0 rewind.\n",
            "\n",
            "\n",
            "Generating audio in 1 batches...\n",
            "Converting audio...\n",
            "Using cached preprocessed reference audio...\n",
            "Using custom reference text...\n",
            "\n",
            "ref_text    Hello there everybody and welcome to the video. My name's Sven at Your Soul on the Axe and here we are with episode 2, season 1 by the way, of Soap. Now, in the last episode, I didn't expect to laugh track. \n",
            "gen_text 0 and set picture mode to cinema,\n",
            "\n",
            "\n",
            "Generating audio in 1 batches...\n"
          ]
        },
        {
          "output_type": "stream",
          "name": "stderr",
          "text": [
            "\r  0%|          | 0/1 [00:00<?, ?it/s]"
          ]
        },
        {
          "output_type": "stream",
          "name": "stdout",
          "text": [
            "Converting audio...\n",
            "Converting audio...\n"
          ]
        },
        {
          "output_type": "stream",
          "name": "stderr",
          "text": [
            "\n",
            "  0%|          | 0/1 [00:00<?, ?it/s]\u001b[A"
          ]
        },
        {
          "output_type": "stream",
          "name": "stdout",
          "text": [
            "Using cached preprocessed reference audio...\n",
            "Using custom reference text...\n",
            "\n",
            "ref_text    How's that? He's right. Mikado's already beaten you twice. So, third time's a charm. \n",
            "gen_text 0 go back to home screen\n",
            "\n",
            "\n",
            "Generating audio in 1 batches...\n",
            "Using cached preprocessed reference audio...\n",
            "Using custom reference text...\n",
            "\n",
            "ref_text    What medicinal plant do you know, Daniel? Coca. Coca. What does it help with?. \n",
            "gen_text 0 disable game mode, go to HDMI 1\n",
            "\n",
            "\n",
            "Generating audio in 1 batches...\n"
          ]
        },
        {
          "output_type": "stream",
          "name": "stderr",
          "text": [
            "\n",
            "\n",
            "  0%|          | 0/1 [00:00<?, ?it/s]\u001b[A\u001b[A\n",
            "\n",
            "\n",
            "  0%|          | 0/1 [00:00<?, ?it/s]\u001b[A\u001b[A\u001b[A\n",
            "100%|██████████| 1/1 [00:07<00:00,  7.85s/it]\u001b[A\n",
            "\n",
            "\n",
            "100%|██████████| 1/1 [00:07<00:00,  7.86s/it]\n",
            "100%|██████████| 1/1 [00:07<00:00,  7.84s/it]\n",
            "100%|██████████| 1/1 [00:07<00:00,  7.89s/it]\n",
            "\n",
            "\n",
            "100%|██████████| 1/1 [00:07<00:00,  7.85s/it]\n"
          ]
        },
        {
          "output_type": "stream",
          "name": "stdout",
          "text": [
            "Converting audio...\n",
            "Using cached preprocessed reference audio...\n",
            "Using custom reference text...\n",
            "\n",
            "ref_text    Hello there everybody and welcome to the video. My name's Sven at Your Soul on the Axe and here we are with episode 2, season 1 by the way, of Soap. Now, in the last episode, I didn't expect to laugh track. \n",
            "gen_text 0 did you hear about the game last night?\n",
            "\n",
            "\n",
            "Generating audio in 1 batches...\n",
            "Converting audio...\n",
            "Converting audio...\n",
            "Using cached preprocessed reference audio...\n",
            "Using custom reference text...\n",
            "\n",
            "ref_text    How's that? He's right. Mikado's already beaten you twice. So, third time's a charm. \n",
            "Converting audio...\n",
            "gen_text 0 I ran into Jessica yesterday and she mentioned an interesting documentary,\n",
            "\n",
            "\n",
            "Generating audio in 1 batches...\n",
            "Using cached preprocessed reference audio...\n",
            "Using custom reference text...\n",
            "\n",
            "ref_text    You see like all these mailings of offering, you know. \n",
            "gen_text 0 resume, set the volume to minimum\n",
            "\n",
            "\n",
            "Generating audio in 1 batches...\n"
          ]
        },
        {
          "output_type": "stream",
          "name": "stderr",
          "text": [
            "  0%|          | 0/1 [00:00<?, ?it/s]\n",
            "  0%|          | 0/1 [00:00<?, ?it/s]\u001b[A"
          ]
        },
        {
          "output_type": "stream",
          "name": "stdout",
          "text": [
            "Using custom reference text..."
          ]
        },
        {
          "output_type": "stream",
          "name": "stderr",
          "text": [
            "\n",
            "\n",
            "  0%|          | 0/1 [00:00<?, ?it/s]\u001b[A\u001b[A"
          ]
        },
        {
          "output_type": "stream",
          "name": "stdout",
          "text": [
            "\n",
            "\n",
            "ref_text    I just like the whole concept of YouTube, like if you work at McDonald's, you work eight hours and you get paid a certain amount of money, but if we put eight hours into our YouTube, depending on what we do, you can make, you can like, sky's the limit on what you can do with it. \n",
            "gen_text 0 Have you seen my keys anywhere? Set volume to 20.\n",
            "\n",
            "\n",
            "Generating audio in 1 batches...\n"
          ]
        },
        {
          "output_type": "stream",
          "name": "stderr",
          "text": [
            "\n",
            "\n",
            "\n",
            "100%|██████████| 1/1 [00:09<00:00,  9.47s/it]\n",
            "\n",
            "\n",
            "100%|██████████| 1/1 [00:09<00:00,  9.42s/it]\u001b[A\u001b[A\n",
            "\n",
            "\n",
            "100%|██████████| 1/1 [00:09<00:00,  9.41s/it]\u001b[A\u001b[A\u001b[A\n",
            "100%|██████████| 1/1 [00:09<00:00,  9.42s/it]\n",
            "100%|██████████| 1/1 [00:09<00:00,  9.41s/it]\n",
            "100%|██████████| 1/1 [00:09<00:00,  9.44s/it]\n"
          ]
        },
        {
          "output_type": "stream",
          "name": "stdout",
          "text": [
            "Converting audio...\n",
            "Using cached preprocessed reference audio...\n",
            "Using custom reference text...\n",
            "\n",
            "ref_text    All right, shout out to the fam, man, like I've been saying for some time now. Welcome, welcome, welcome. You're now rocking with the Sportscom with Big Q and the guys, but we have intense, entertaining, educating, and enlightening sports talk from your favorite sports fam. What's poppin fam?. \n",
            "gen_text 0 Rewind to the last scene and open YouTube, what plans do you have for the weekend?\n",
            "\n",
            "\n",
            "Generating audio in 1 batches...\n",
            "Converting audio...\n",
            "Converting audio...\n",
            "Using cached preprocessed reference audio...\n",
            "Using custom reference text...\n",
            "\n",
            "ref_text    I just like the whole concept of YouTube, like if you work at McDonald's, you work eight hours and you get paid a certain amount of money, but if we put eight hours into our YouTube, depending on what we do, you can make, you can like, sky's the limit on what you can do with it. \n",
            "Using cached preprocessed reference audio...\n",
            "Using custom reference text...\n",
            "\n",
            "ref_text    How's that? He's right. Mikado's already beaten you twice. So, third time's a charm. \n",
            "gen_text 0 Have you seen my keys anywhere?\n",
            "\n",
            "\n",
            "Generating audio in 1 batches...\n",
            "gen_text 0 remind me when the next episode of TED starts.\n",
            "\n",
            "\n",
            "Generating audio in 1 batches...\n"
          ]
        },
        {
          "output_type": "stream",
          "name": "stderr",
          "text": [
            "\r  0%|          | 0/1 [00:00<?, ?it/s]"
          ]
        },
        {
          "output_type": "stream",
          "name": "stdout",
          "text": [
            "Converting audio...\n"
          ]
        },
        {
          "output_type": "stream",
          "name": "stderr",
          "text": [
            "\n",
            "  0%|          | 0/1 [00:00<?, ?it/s]\u001b[A\n",
            "\n",
            "  0%|          | 0/1 [00:00<?, ?it/s]\u001b[A\u001b[A"
          ]
        },
        {
          "output_type": "stream",
          "name": "stdout",
          "text": [
            "Using custom reference text...\n",
            "\n",
            "ref_text    On the back you can see some other new cars like Jenny Tolan, Bill Rebs, Vanden Kerr, and Andrew Vrooman, all of which I have reviewed before and I'll put links to some of them in the card suggestion pop-up and the links in the description. \n",
            "gen_text 0 play, go to HDMI 2\n",
            "\n",
            "\n",
            "Generating audio in 1 batches...\n"
          ]
        },
        {
          "output_type": "stream",
          "name": "stderr",
          "text": [
            "\n",
            "\n",
            "\n",
            "  0%|          | 0/1 [00:00<?, ?it/s]\u001b[A\u001b[A\u001b[A\n",
            "\n",
            "100%|██████████| 1/1 [00:07<00:00,  7.15s/it]\n",
            "100%|██████████| 1/1 [00:07<00:00,  7.20s/it]\n",
            "\n",
            "\n",
            "100%|██████████| 1/1 [00:07<00:00,  7.13s/it]\u001b[A\u001b[A\u001b[A\n",
            "100%|██████████| 1/1 [00:07<00:00,  7.21s/it]\n",
            "100%|██████████| 1/1 [00:07<00:00,  7.17s/it]\n",
            "100%|██████████| 1/1 [00:07<00:00,  7.14s/it]\n"
          ]
        },
        {
          "output_type": "stream",
          "name": "stdout",
          "text": [
            "Converting audio...\n",
            "Using cached preprocessed reference audio...\n",
            "Using custom reference text...\n",
            "\n",
            "ref_text    I just like the whole concept of YouTube, like if you work at McDonald's, you work eight hours and you get paid a certain amount of money, but if we put eight hours into our YouTube, depending on what we do, you can make, you can like, sky's the limit on what you can do with it. \n",
            "gen_text 0 Set volume to\n",
            "\n",
            "\n",
            "Generating audio in 1 batches...\n",
            "Converting audio...\n"
          ]
        },
        {
          "output_type": "stream",
          "name": "stderr",
          "text": [
            "\r  0%|          | 0/1 [00:00<?, ?it/s]"
          ]
        },
        {
          "output_type": "stream",
          "name": "stdout",
          "text": [
            "Converting audio...\n",
            "Using cached preprocessed reference audio...\n",
            "Using custom reference text...\n",
            "\n",
            "ref_text    All right, shout out to the fam, man, like I've been saying for some time now. Welcome, welcome, welcome. You're now rocking with the Sportscom with Big Q and the guys, but we have intense, entertaining, educating, and enlightening sports talk from your favorite sports fam. What's poppin fam?. \n",
            "gen_text 0 Rewind to the last scene\n",
            "\n",
            "\n",
            "Generating audio in 1 batches...\n",
            "Converting audio...\n",
            "Using cached preprocessed reference audio...\n",
            "Using custom reference text...\n",
            "\n",
            "ref_text    Then I have to find Mr. Mitchell wherever he is, dead or alive, drunk or sober, and let him know. \n",
            "gen_text 0 set the volume to minimum, resume\n",
            "\n",
            "\n",
            "Generating audio in 1 batches...\n"
          ]
        },
        {
          "output_type": "stream",
          "name": "stderr",
          "text": [
            "\n",
            "  0%|          | 0/1 [00:00<?, ?it/s]\u001b[A\n",
            "\n"
          ]
        },
        {
          "output_type": "stream",
          "name": "stdout",
          "text": [
            "Audio is over 12s, clipping short. (2)\n"
          ]
        },
        {
          "output_type": "stream",
          "name": "stderr",
          "text": [
            "\r  0%|          | 0/1 [00:00<?, ?it/s]\u001b[A\u001b[A"
          ]
        },
        {
          "output_type": "stream",
          "name": "stdout",
          "text": [
            "Using custom reference text...\n",
            "\n",
            "ref_text    Well sure, but that was so we could be a lawyer. Okay, so now we're a lawyer. Come on, I'll shoot you for a dollar. Uh, could you make it fifteen as a sort of a loan? Fifteen. I really need it very bad, boss. \n",
            "gen_text 0 I heard that 'Expelled' is a really funny movie; have you seen it yet?\n",
            "\n",
            "\n",
            "Generating audio in 1 batches...\n"
          ]
        },
        {
          "output_type": "stream",
          "name": "stderr",
          "text": [
            "\n",
            "\n",
            "\n",
            "  0%|          | 0/1 [00:00<?, ?it/s]\u001b[A\u001b[A\u001b[A\n",
            "\n",
            "100%|██████████| 1/1 [00:09<00:00,  9.93s/it]\u001b[A\u001b[A\n",
            "\n",
            "\n",
            "100%|██████████| 1/1 [00:09<00:00,  9.94s/it]\n",
            "100%|██████████| 1/1 [00:09<00:00,  9.93s/it]\n",
            "\n",
            "100%|██████████| 1/1 [00:09<00:00,  9.96s/it]\n",
            "100%|██████████| 1/1 [00:10<00:00, 10.13s/it]\n"
          ]
        },
        {
          "output_type": "stream",
          "name": "stdout",
          "text": [
            "Converting audio...\n",
            "Converting audio...\n",
            "Converting audio...\n",
            "Converting audio...\n",
            "Using cached preprocessed reference audio...\n",
            "Using custom reference text...\n",
            "\n",
            "ref_text    All right, shout out to the fam, man, like I've been saying for some time now. Welcome, welcome, welcome. You're now rocking with the Sportscom with Big Q and the guys, but we have intense, entertaining, educating, and enlightening sports talk from your favorite sports fam. What's poppin fam?. \n",
            "gen_text 0 and open YouTube,\n",
            "\n",
            "\n",
            "Generating audio in 1 batches...\n",
            "Using cached preprocessed reference audio...\n",
            "Using custom reference text...\n",
            "\n",
            "ref_text    I just like the whole concept of YouTube, like if you work at McDonald's, you work eight hours and you get paid a certain amount of money, but if we put eight hours into our YouTube, depending on what we do, you can make, you can like, sky's the limit on what you can do with it. \n",
            "gen_text 0 20.\n",
            "\n",
            "\n",
            "Generating audio in 1 batches...\n",
            "Audio is over 12s, clipping short. (2)\n"
          ]
        },
        {
          "output_type": "stream",
          "name": "stderr",
          "text": [
            "\n",
            "  0%|          | 0/1 [00:00<?, ?it/s]"
          ]
        },
        {
          "output_type": "stream",
          "name": "stdout",
          "text": [
            "Using custom reference text...\n",
            "\n",
            "ref_text    On the back you can see some other new cars like Jenny Tolan, Bill Rebs, Vanden Kerr, and Andrew Vrooman, all of which I have reviewed before and I'll put links to some of them in the card suggestion pop-up and the links in the description. \n",
            "gen_text 0 Go back to previous episode and enable sleep timer for 30 minutes, have you seen the latest episode of that series?\n",
            "\n",
            "\n",
            "Generating audio in 1 batches...\n",
            "Using custom reference text...\n",
            "\n",
            "ref_text    I bring further grave news, Your Grace. It concerns your uncle and his company. And his foul responsibility in the passing of your father. \n",
            "gen_text 0 I’ve been listening to Ella Fitzgerald lately; her song 'A Foggy Day' always puts me in a good mood.\n",
            "\n",
            "\n",
            "Generating audio in 1 batches...\n"
          ]
        },
        {
          "output_type": "stream",
          "name": "stderr",
          "text": [
            "\n",
            "\n",
            "  0%|          | 0/1 [00:00<?, ?it/s]\u001b[A\u001b[A\n",
            "\n",
            "\n",
            "  0%|          | 0/1 [00:00<?, ?it/s]\u001b[A\u001b[A\u001b[A\n",
            "\n",
            "\n",
            "100%|██████████| 1/1 [00:11<00:00, 11.64s/it]\n",
            "100%|██████████| 1/1 [00:11<00:00, 11.66s/it]\n",
            "\n",
            "\n",
            "100%|██████████| 1/1 [00:11<00:00, 11.66s/it]\u001b[A\u001b[A\n",
            "100%|██████████| 1/1 [00:11<00:00, 11.66s/it]\n",
            "100%|██████████| 1/1 [00:11<00:00, 11.69s/it]\n"
          ]
        },
        {
          "output_type": "stream",
          "name": "stdout",
          "text": [
            "Converting audio...\n",
            "Using cached preprocessed reference audio...\n",
            "Using custom reference text...\n",
            "\n",
            "ref_text    All right, shout out to the fam, man, like I've been saying for some time now. Welcome, welcome, welcome. You're now rocking with the Sportscom with Big Q and the guys, but we have intense, entertaining, educating, and enlightening sports talk from your favorite sports fam. What's poppin fam?. \n",
            "gen_text 0 what plans do you have for the weekend?\n",
            "\n",
            "\n",
            "Generating audio in 1 batches...\n",
            "Converting audio...\n",
            "Converting audio...\n",
            "Using cached preprocessed reference audio...\n",
            "Using custom reference text...\n",
            "\n",
            "ref_text    Yeah. No, because I mean, let's be honest. Paul Ryan's never really standing up to Trump, right? Paul Ryan stands up to Trump the same way you stand up to a waiter at a sh-t restaurant. You're all confident when he's not there, like, this food is horrible! What's that? Oh, no, everything's great. Thank you. Thank you. Yeah, yeah. Could I just have all the salt, please? All the salt. Thank you. \n",
            "gen_text 0 Did you catch the last episode on History Channel? I love how they dive into those topics.\n",
            "\n",
            "\n",
            "Generating audio in 1 batches...\n"
          ]
        },
        {
          "output_type": "stream",
          "name": "stderr",
          "text": [
            "\r  0%|          | 0/1 [00:00<?, ?it/s]"
          ]
        },
        {
          "output_type": "stream",
          "name": "stdout",
          "text": [
            "Converting audio...\n",
            "Using cached preprocessed reference audio...\n",
            "Using custom reference text...\n",
            "\n",
            "ref_text    Hey guys, what's up? LDShadowLady here. Welcome back to my testing centre, where I'm going to be showing you another mod today. I'm showing you the Animals Plus mod, which features, among others, that turtle that's spinning around in the background like a crazy thing. \n",
            "gen_text 0 I really enjoyed that movie last night! Now, put the TV in sleep mode.\n",
            "\n",
            "\n",
            "Generating audio in 1 batches...\n",
            "Using cached preprocessed reference audio...\n",
            "Using custom reference text...\n",
            "\n",
            "ref_text    On the back you can see some other new cars like Jenny Tolan, Bill Rebs, Vanden Kerr, and Andrew Vrooman, all of which I have reviewed before and I'll put links to some of them in the card suggestion pop-up and the links in the description. \n"
          ]
        },
        {
          "output_type": "stream",
          "name": "stderr",
          "text": [
            "\n",
            "  0%|          | 0/1 [00:00<?, ?it/s]\u001b[A"
          ]
        },
        {
          "output_type": "stream",
          "name": "stdout",
          "text": [
            "gen_text 0 Go back to previous episode and enable sleep timer for 30 minutes\n",
            "\n",
            "\n",
            "Generating audio in 1 batches...\n"
          ]
        },
        {
          "output_type": "stream",
          "name": "stderr",
          "text": [
            "\n",
            "\n",
            "  0%|          | 0/1 [00:00<?, ?it/s]\u001b[A\u001b[A\n",
            "\n",
            "\n",
            "  0%|          | 0/1 [00:00<?, ?it/s]\u001b[A\u001b[A\u001b[A\n",
            "100%|██████████| 1/1 [00:11<00:00, 11.89s/it]\n",
            "\n",
            "\n",
            "100%|██████████| 1/1 [00:11<00:00, 11.88s/it]\u001b[A\u001b[A\n",
            "\n",
            "\n",
            "100%|██████████| 1/1 [00:11<00:00, 11.88s/it]\n",
            "100%|██████████| 1/1 [00:11<00:00, 11.89s/it]\n",
            "100%|██████████| 1/1 [00:11<00:00, 11.93s/it]\n"
          ]
        },
        {
          "output_type": "stream",
          "name": "stdout",
          "text": [
            "Converting audio...\n",
            "Using cached preprocessed reference audio...\n",
            "Using custom reference text...\n",
            "\n",
            "ref_text    I just like the whole concept of YouTube, like if you work at McDonald's, you work eight hours and you get paid a certain amount of money, but if we put eight hours into our YouTube, depending on what we do, you can make, you can like, sky's the limit on what you can do with it. \n",
            "gen_text 0 I've been meaning to watch something from Popcornflix; they have some interesting titles.\n",
            "\n",
            "\n",
            "Generating audio in 1 batches...\n"
          ]
        },
        {
          "output_type": "stream",
          "name": "stderr",
          "text": [
            "\r  0%|          | 0/1 [00:00<?, ?it/s]"
          ]
        },
        {
          "output_type": "stream",
          "name": "stdout",
          "text": [
            "Converting audio...\n",
            "Converting audio...\n",
            "Converting audio...\n",
            "Using cached preprocessed reference audio...\n",
            "Using custom reference text...\n",
            "\n",
            "ref_text    On the back you can see some other new cars like Jenny Tolan, Bill Rebs, Vanden Kerr, and Andrew Vrooman, all of which I have reviewed before and I'll put links to some of them in the card suggestion pop-up and the links in the description. \n",
            "gen_text 0 have you seen the latest episode of that series?\n",
            "\n",
            "\n",
            "Generating audio in 1 batches...\n",
            "Using cached preprocessed reference audio...\n",
            "Using custom reference text...\n",
            "\n",
            "ref_text    Charlie was pounding on my door. Bella, are you okay? What's going on? His voice was frightened. \n",
            "gen_text 0 Set picture mode to vivid and go to channel Netflix, is it going to rain tomorrow?\n",
            "\n",
            "\n",
            "Generating audio in 1 batches...\n",
            "Using cached preprocessed reference audio...\n",
            "Using custom reference text...\n",
            "\n",
            "ref_text    Hey guys, what's up? LDShadowLady here. Welcome back to my testing centre, where I'm going to be showing you another mod today. I'm showing you the Animals Plus mod, which features, among others, that turtle that's spinning around in the background like a crazy thing. \n",
            "gen_text 0 I really enjoyed that movie last night!\n",
            "\n",
            "\n",
            "Generating audio in 1 batches...\n"
          ]
        },
        {
          "output_type": "stream",
          "name": "stderr",
          "text": [
            "\n",
            "\n",
            "  0%|          | 0/1 [00:00<?, ?it/s]\u001b[A\u001b[A\n",
            "  0%|          | 0/1 [00:00<?, ?it/s]\u001b[A\n",
            "\n",
            "\n",
            "  0%|          | 0/1 [00:00<?, ?it/s]\u001b[A\u001b[A\u001b[A\n",
            "\n",
            "100%|██████████| 1/1 [00:12<00:00, 12.82s/it]\n",
            "\n",
            "100%|██████████| 1/1 [00:12<00:00, 12.82s/it]\u001b[A\n",
            "\n",
            "\n",
            "100%|██████████| 1/1 [00:12<00:00, 12.82s/it]\n",
            "100%|██████████| 1/1 [00:12<00:00, 12.82s/it]\n",
            "100%|██████████| 1/1 [00:12<00:00, 12.88s/it]\n"
          ]
        },
        {
          "output_type": "stream",
          "name": "stdout",
          "text": [
            "Converting audio...\n",
            "Using cached preprocessed reference audio...\n",
            "Using custom reference text...\n",
            "\n",
            "ref_text    Charlie was pounding on my door. Bella, are you okay? What's going on? His voice was frightened. \n",
            "gen_text 0 Set picture mode to vivid\n",
            "\n",
            "\n",
            "Generating audio in 1 batches...\n",
            "Converting audio...\n",
            "Converting audio...\n",
            "Using cached preprocessed reference audio...\n",
            "Using custom reference text...\n",
            "\n",
            "ref_text    Hey guys, what's up? LDShadowLady here. Welcome back to my testing centre, where I'm going to be showing you another mod today. I'm showing you the Animals Plus mod, which features, among others, that turtle that's spinning around in the background like a crazy thing. \n",
            "gen_text 0 Now,\n",
            "\n",
            "\n",
            "Generating audio in 1 batches...\n",
            "Converting audio...\n",
            "Using cached preprocessed reference audio...\n",
            "Using custom reference text...\n",
            "\n",
            "ref_text    Yeah. No, because I mean, let's be honest. Paul Ryan's never really standing up to Trump, right? Paul Ryan stands up to Trump the same way you stand up to a waiter at a sh-t restaurant. You're all confident when he's not there, like, this food is horrible! What's that? Oh, no, everything's great. Thank you. Thank you. Yeah, yeah. Could I just have all the salt, please? All the salt. Thank you. \n",
            "gen_text 0 turn on the TV\n",
            "\n",
            "\n",
            "Generating audio in 1 batches...\n"
          ]
        },
        {
          "output_type": "stream",
          "name": "stderr",
          "text": [
            "\r  0%|          | 0/1 [00:00<?, ?it/s]"
          ]
        },
        {
          "output_type": "stream",
          "name": "stdout",
          "text": [
            "Using cached preprocessed reference audio...\n",
            "Using custom reference text...\n",
            "\n",
            "ref_text    Hare Krishna, Hanuman, Vishnu Maharaj, humble obeisances. Thank you so much for joining once again for the Monks Podcast. \n",
            "gen_text 0 What’s playing now? I can't believe she actually said that during the meeting.\n",
            "\n",
            "\n",
            "Generating audio in 1 batches...\n"
          ]
        },
        {
          "output_type": "stream",
          "name": "stderr",
          "text": [
            "\n",
            "  0%|          | 0/1 [00:00<?, ?it/s]\u001b[A\n",
            "\n",
            "  0%|          | 0/1 [00:00<?, ?it/s]\u001b[A\u001b[A\n",
            "\n",
            "\n",
            "  0%|          | 0/1 [00:00<?, ?it/s]\u001b[A\u001b[A\u001b[A\n",
            "\n",
            "100%|██████████| 1/1 [00:09<00:00,  9.30s/it]\u001b[A\u001b[A\n",
            "100%|██████████| 1/1 [00:09<00:00,  9.31s/it]\n",
            "100%|██████████| 1/1 [00:09<00:00,  9.31s/it]\n",
            "100%|██████████| 1/1 [00:09<00:00,  9.33s/it]\n",
            "\n",
            "\n",
            "\n",
            "100%|██████████| 1/1 [00:09<00:00,  9.31s/it]\n"
          ]
        },
        {
          "output_type": "stream",
          "name": "stdout",
          "text": [
            "Converting audio...\n",
            "Using cached preprocessed reference audio...\n",
            "Using custom reference text...\n",
            "\n",
            "ref_text    Hey guys, what's up? LDShadowLady here. Welcome back to my testing centre, where I'm going to be showing you another mod today. I'm showing you the Animals Plus mod, which features, among others, that turtle that's spinning around in the background like a crazy thing. \n",
            "gen_text 0 put the TV in sleep mode.\n",
            "\n",
            "\n",
            "Generating audio in 1 batches...\n",
            "Converting audio...\n",
            "Converting audio...\n",
            "Using cached preprocessed reference audio...\n",
            "Using custom reference text...\n",
            "\n",
            "ref_text    Hare Krishna, Hanuman, Vishnu Maharaj, humble obeisances. Thank you so much for joining once again for the Monks Podcast. \n",
            "Converting audio...\n",
            "Using cached preprocessed reference audio...\n",
            "Using custom reference text...\n",
            "\n",
            "ref_text    Charlie was pounding on my door. Bella, are you okay? What's going on? His voice was frightened. \n",
            "gen_text 0 and go to channel Netflix,\n",
            "\n",
            "\n",
            "Generating audio in 1 batches...\n",
            "gen_text 0 What’s playing now?\n",
            "\n",
            "\n",
            "Generating audio in 1 batches...\n"
          ]
        },
        {
          "output_type": "stream",
          "name": "stderr",
          "text": [
            "\r  0%|          | 0/1 [00:00<?, ?it/s]"
          ]
        },
        {
          "output_type": "stream",
          "name": "stdout",
          "text": [
            "Using cached preprocessed reference audio...\n",
            "Using custom reference text...\n",
            "\n",
            "ref_text    Keep shining like a light. Remember, loyalty is a lifestyle, not just a word. Beware those who wit you only when you rising to the top of when you winning. \n",
            "gen_text 0 open YouTube\n",
            "\n",
            "\n",
            "Generating audio in 1 batches...\n"
          ]
        },
        {
          "output_type": "stream",
          "name": "stderr",
          "text": [
            "\n",
            "  0%|          | 0/1 [00:00<?, ?it/s]\u001b[A\n",
            "\n",
            "  0%|          | 0/1 [00:00<?, ?it/s]\u001b[A\u001b[A\n",
            "\n",
            "\n",
            "  0%|          | 0/1 [00:00<?, ?it/s]\u001b[A\u001b[A\u001b[A\n",
            "100%|██████████| 1/1 [00:08<00:00,  8.54s/it]\n",
            "100%|██████████| 1/1 [00:08<00:00,  8.55s/it]\n",
            "\n",
            "\n",
            "100%|██████████| 1/1 [00:08<00:00,  8.53s/it]\u001b[A\u001b[A\u001b[A\n",
            "\n",
            "100%|██████████| 1/1 [00:08<00:00,  8.55s/it]\n",
            "100%|██████████| 1/1 [00:08<00:00,  8.53s/it]\n",
            "100%|██████████| 1/1 [00:08<00:00,  8.54s/it]\n"
          ]
        },
        {
          "output_type": "stream",
          "name": "stdout",
          "text": [
            "Converting audio...\n",
            "Using cached preprocessed reference audio...\n",
            "Using custom reference text...\n",
            "\n",
            "ref_text    My guardian then took me into his own room, and while he lunched, standing from a sandwich box and a pocket flask of sherry, he seemed to bully his very sandwich as he ate it, informed me what arrangements he had made for me. \n",
            "gen_text 0 rewind 30 seconds\n",
            "\n",
            "\n",
            "Generating audio in 1 batches...\n",
            "Converting audio...\n",
            "Converting audio...\n"
          ]
        },
        {
          "output_type": "stream",
          "name": "stderr",
          "text": [
            "\r  0%|          | 0/1 [00:00<?, ?it/s]"
          ]
        },
        {
          "output_type": "stream",
          "name": "stdout",
          "text": [
            "Using cached preprocessed reference audio...Converting audio...\n",
            "Using cached preprocessed reference audio...\n",
            "Using custom reference text...\n",
            "\n",
            "ref_text    Charlie was pounding on my door. Bella, are you okay? What's going on? His voice was frightened. \n",
            "\n",
            "Using custom reference text...\n",
            "\n",
            "ref_text    Hare Krishna, Hanuman, Vishnu Maharaj, humble obeisances. Thank you so much for joining once again for the Monks Podcast. \n",
            "gen_text 0 is it going to rain tomorrow?\n",
            "\n",
            "\n",
            "Generating audio in 1 batches...\n",
            "gen_text 0 I can't believe she actually said that during the meeting.\n",
            "\n",
            "\n",
            "Generating audio in 1 batches...\n"
          ]
        },
        {
          "output_type": "stream",
          "name": "stderr",
          "text": [
            "\n"
          ]
        },
        {
          "output_type": "stream",
          "name": "stdout",
          "text": [
            "Using cached preprocessed reference audio...\n",
            "Using custom reference text...\n",
            "\n",
            "ref_text    We're for Tokyo number one colony part 13 and Fushiguro. \n",
            "gen_text 0 decrease the volume, show the TV guide\n",
            "\n",
            "\n",
            "Generating audio in 1 batches...\n"
          ]
        },
        {
          "output_type": "stream",
          "name": "stderr",
          "text": [
            "\r  0%|          | 0/1 [00:00<?, ?it/s]\u001b[A\n",
            "\n",
            "  0%|          | 0/1 [00:00<?, ?it/s]\u001b[A\u001b[A\n",
            "\n",
            "\n",
            "100%|██████████| 1/1 [00:12<00:00, 12.99s/it]\n",
            "100%|██████████| 1/1 [00:12<00:00, 12.99s/it]\n",
            "100%|██████████| 1/1 [00:12<00:00, 12.97s/it]\n",
            "\n",
            "\n",
            "\n",
            "100%|██████████| 1/1 [00:12<00:00, 12.97s/it]\n",
            "\n",
            "\n",
            "100%|██████████| 1/1 [00:12<00:00, 12.98s/it]\n"
          ]
        },
        {
          "output_type": "stream",
          "name": "stdout",
          "text": [
            "Converting audio...\n",
            "Using cached preprocessed reference audio...\n",
            "Using custom reference text...\n",
            "\n",
            "ref_text    Charlie was pounding on my door. Bella, are you okay? What's going on? His voice was frightened. \n",
            "gen_text 0 set sound mode to movie\n",
            "\n",
            "\n",
            "Generating audio in 1 batches...\n",
            "Converting audio...\n",
            "Converting audio...\n",
            "Using cached preprocessed reference audio...\n",
            "Using custom reference text...\n",
            "\n",
            "ref_text    We'll now settle all questions of truth and justice between them under the code of trial by combat. \n",
            "Using cached preprocessed reference audio...\n",
            "Using custom reference text...\n",
            "\n",
            "ref_text    She gave me to understand on the stairs that it was a blow to dear Mrs. Pocket that dear Mr. Pocket should be under the necessity of receiving gentlemen to read with him. \n",
            "gen_text 0 set brightness to 70, what's playing now\n",
            "\n",
            "\n",
            "Generating audio in 1 batches...\n"
          ]
        },
        {
          "output_type": "stream",
          "name": "stderr",
          "text": [
            "\r  0%|          | 0/1 [00:00<?, ?it/s]"
          ]
        },
        {
          "output_type": "stream",
          "name": "stdout",
          "text": [
            "Converting audio...\n",
            "gen_text 0 Have you ever watched 'Mr. Osomatsu the Movie'? I heard it’s hilarious.\n",
            "\n",
            "\n",
            "Generating audio in 1 batches...\n",
            "Using cached preprocessed reference audio...\n",
            "Using custom reference text...\n",
            "\n",
            "ref_text    Ha! You look bored. Hello. \n"
          ]
        },
        {
          "output_type": "stream",
          "name": "stderr",
          "text": [
            "\n",
            "  0%|          | 0/1 [00:00<?, ?it/s]\u001b[A"
          ]
        },
        {
          "output_type": "stream",
          "name": "stdout",
          "text": [
            "gen_text 0 Put the TV in sleep mode and go to channel 5,\n",
            "gen_text 1 did you remember to pick up the groceries?\n",
            "\n",
            "\n",
            "Generating audio in 2 batches...\n"
          ]
        },
        {
          "output_type": "stream",
          "name": "stderr",
          "text": [
            "\n",
            "\n",
            "  0%|          | 0/1 [00:00<?, ?it/s]\u001b[A\u001b[A\n",
            "\n",
            "\n",
            "  0%|          | 0/2 [00:00<?, ?it/s]\u001b[A\u001b[A\u001b[A\n",
            "\n",
            "100%|██████████| 1/1 [00:09<00:00,  9.44s/it]\n",
            "\n",
            "100%|██████████| 1/1 [00:09<00:00,  9.45s/it]\u001b[A\n",
            "\n",
            "\n",
            "100%|██████████| 1/1 [00:09<00:00,  9.47s/it]\n",
            "100%|██████████| 1/1 [00:09<00:00,  9.46s/it]\n"
          ]
        },
        {
          "output_type": "stream",
          "name": "stdout",
          "text": [
            "Converting audio...\n",
            "Using cached preprocessed reference audio...\n",
            "Using custom reference text...\n",
            "\n",
            "ref_text    We're for Tokyo number one colony part 13 and Fushiguro. \n",
            "gen_text 0 I was thinking about listening to some classic rock,\n",
            "gen_text 1 maybe something from The Doors.\n",
            "\n",
            "\n",
            "Generating audio in 2 batches...\n",
            "Converting audio...\n"
          ]
        },
        {
          "output_type": "stream",
          "name": "stderr",
          "text": [
            "\r  0%|          | 0/2 [00:00<?, ?it/s]"
          ]
        },
        {
          "output_type": "stream",
          "name": "stdout",
          "text": [
            "Converting audio...\n",
            "Using cached preprocessed reference audio...\n",
            "Using custom reference text...\n",
            "\n",
            "ref_text    It's funny, isn't it, how the people who do something that changes the world... \n",
            "gen_text 0 turn off the TV, decrease the volume\n",
            "\n",
            "\n",
            "Generating audio in 1 batches...\n",
            "Using custom reference text...\n",
            "\n",
            "ref_text    Politicians care about jobs more than anything else, as you can tell from how often they mention them. \n",
            "gen_text 0 Open settings while I figure out what to cook for dinner.\n",
            "\n",
            "\n",
            "Generating audio in 1 batches...\n"
          ]
        },
        {
          "output_type": "stream",
          "name": "stderr",
          "text": [
            "\n",
            "  0%|          | 0/1 [00:00<?, ?it/s]\u001b[A\n",
            "\n",
            " 50%|█████     | 1/2 [00:15<00:15, 15.00s/it]\n",
            "100%|██████████| 1/1 [00:14<00:00, 14.94s/it]\u001b[A\n",
            "\n",
            "\n",
            "100%|██████████| 2/2 [00:24<00:00, 12.73s/it]\u001b[A\u001b[A\u001b[A\n",
            "\n",
            "100%|██████████| 1/1 [00:14<00:00, 14.95s/it]\n",
            "100%|██████████| 2/2 [00:24<00:00, 12.24s/it]\n",
            "100%|██████████| 1/1 [00:14<00:00, 14.94s/it]\n"
          ]
        },
        {
          "output_type": "stream",
          "name": "stdout",
          "text": [
            "Converting audio...\n",
            "Using cached preprocessed reference audio...\n",
            "Using custom reference text...\n",
            "\n",
            "ref_text    There's more to see than can ever be seen. More to do than can ever be done. \n",
            "gen_text 0 show the TV guide, set brightness to 50\n",
            "\n",
            "\n",
            "Generating audio in 1 batches...\n",
            "Converting audio...\n",
            "Converting audio...\n",
            "Using cached preprocessed reference audio...\n",
            "Using custom reference text...\n",
            "\n",
            "ref_text    Politicians care about jobs more than anything else, as you can tell from how often they mention them. \n",
            "gen_text 0 Open settings\n",
            "\n",
            "\n",
            "Generating audio in 1 batches...\n",
            "Using cached preprocessed reference audio...\n",
            "Using custom reference text...\n",
            "\n",
            "ref_text    Ha! You look bored. Hello. \n",
            "gen_text 0 Put the TV in sleep mode and go to channel 5\n",
            "\n",
            "\n",
            "Generating audio in 1 batches...\n"
          ]
        },
        {
          "output_type": "stream",
          "name": "stderr",
          "text": [
            "\n",
            "  0%|          | 0/1 [00:00<?, ?it/s]\u001b[A\n",
            "\n",
            "\n",
            "  0%|          | 0/1 [00:00<?, ?it/s]\u001b[A\u001b[A\u001b[A\n",
            "\n",
            "  0%|          | 0/1 [00:00<?, ?it/s]\u001b[A\u001b[A\n",
            "100%|██████████| 1/1 [00:15<00:00, 15.36s/it]\u001b[A\n",
            "\n",
            "\n",
            "100%|██████████| 1/1 [00:15<00:00, 15.36s/it]\n",
            "\n",
            "\n",
            "100%|██████████| 2/2 [00:30<00:00, 15.22s/it]\n",
            "100%|██████████| 1/1 [00:15<00:00, 15.35s/it]\n",
            "100%|██████████| 1/1 [00:15<00:00, 15.36s/it]\n"
          ]
        },
        {
          "output_type": "stream",
          "name": "stdout",
          "text": [
            "Converting audio...\n",
            "Using cached preprocessed reference audio...\n",
            "Using custom reference text...\n",
            "\n",
            "ref_text    The mafia knew that having a stolen masterpiece is a get out of jail free card. The feds will deal with you. They'll let you out of jail. \n",
            "gen_text 0 Did you see the game last night? Launch Tubi TV and pause for a moment while I grab a snack.\n",
            "\n",
            "\n",
            "Generating audio in 1 batches...\n",
            "Converting audio...\n",
            "Converting audio...\n",
            "Using cached preprocessed reference audio...\n",
            "Using custom reference text...\n",
            "\n",
            "ref_text    Politicians care about jobs more than anything else, as you can tell from how often they mention them. \n",
            "gen_text 0 while I figure out what to cook for dinner.\n",
            "\n",
            "\n",
            "Generating audio in 1 batches...\n",
            "Using cached preprocessed reference audio...\n",
            "Using custom reference text...\n",
            "\n",
            "ref_text    Ha! You look bored. Hello. \n",
            "gen_text 0 did you remember to pick up the groceries?\n",
            "\n",
            "\n",
            "Generating audio in 1 batches...\n"
          ]
        },
        {
          "output_type": "stream",
          "name": "stderr",
          "text": [
            "\r  0%|          | 0/1 [00:00<?, ?it/s]"
          ]
        },
        {
          "output_type": "stream",
          "name": "stdout",
          "text": [
            "Converting audio..."
          ]
        },
        {
          "output_type": "stream",
          "name": "stderr",
          "text": [
            "\n"
          ]
        },
        {
          "output_type": "stream",
          "name": "stdout",
          "text": [
            "\n",
            "Using cached preprocessed reference audio...\n",
            "Using custom reference text...\n",
            "\n",
            "ref_text    I know that I just can't help it, love. So after all these years, you're finally gonna pop the question, huh?. \n"
          ]
        },
        {
          "output_type": "stream",
          "name": "stderr",
          "text": [
            "\r  0%|          | 0/1 [00:00<?, ?it/s]\u001b[A\n",
            "\n",
            "  0%|          | 0/1 [00:00<?, ?it/s]\u001b[A\u001b[A"
          ]
        },
        {
          "output_type": "stream",
          "name": "stdout",
          "text": [
            "gen_text 0 Did you catch that new show on Cartoon Network? It seems like a lot of fun.\n",
            "\n",
            "\n",
            "Generating audio in 1 batches...\n"
          ]
        },
        {
          "output_type": "stream",
          "name": "stderr",
          "text": [
            "\n",
            "\n",
            "\n",
            "  0%|          | 0/1 [00:00<?, ?it/s]\u001b[A\u001b[A\u001b[A\n",
            "100%|██████████| 1/1 [00:10<00:00, 10.53s/it]\u001b[A\n",
            "\n",
            "100%|██████████| 1/1 [00:10<00:00, 10.53s/it]\u001b[A\u001b[A\n",
            "\n",
            "\n",
            "100%|██████████| 1/1 [00:10<00:00, 10.53s/it]\n",
            "100%|██████████| 1/1 [00:10<00:00, 10.54s/it]\n",
            "100%|██████████| 1/1 [00:10<00:00, 10.53s/it]\n",
            "100%|██████████| 1/1 [00:10<00:00, 10.56s/it]\n"
          ]
        },
        {
          "output_type": "stream",
          "name": "stdout",
          "text": [
            "Converting audio...Converting audio...\n",
            "\n",
            "Using cached preprocessed reference audio...\n",
            "Using custom reference text...\n",
            "\n",
            "ref_text    When Buck earned sixteen hundred dollars in five minutes for John Thornton. \n",
            "gen_text 0 Disable night mode after we finish watching that documentary.\n",
            "\n",
            "\n",
            "Generating audio in 1 batches...\n",
            "Converting audio...\n",
            "Using cached preprocessed reference audio...\n",
            "Using custom reference text...\n",
            "\n",
            "ref_text    The mafia knew that having a stolen masterpiece is a get out of jail free card. The feds will deal with you. They'll let you out of jail. \n",
            "gen_text 0 Did you see the game last night?\n",
            "\n",
            "\n",
            "Generating audio in 1 batches...\n",
            "Converting audio...\n",
            "Using custom reference text...\n",
            "\n",
            "ref_text    There's more to see than can ever be seen. More to do than can ever be done. \n",
            "gen_text 0 Enable sleep timer for 15 minutes, I thought you were going to finish that project today.\n",
            "\n",
            "\n",
            "Generating audio in 1 batches...\n",
            "Using cached preprocessed reference audio...\n",
            "Using custom reference text...\n",
            "\n",
            "ref_text    Yea, yea, it's simple. Yea, it's Ryan Nielsen's defense. \n"
          ]
        },
        {
          "output_type": "stream",
          "name": "stderr",
          "text": [
            "  0%|          | 0/1 [00:00<?, ?it/s]\n",
            "  0%|          | 0/1 [00:00<?, ?it/s]\u001b[A"
          ]
        },
        {
          "output_type": "stream",
          "name": "stdout",
          "text": [
            "gen_text 0 I’ve been curious about 'Her Blue Sky';\n",
            "gen_text 1 I've heard some good things about it.\n",
            "\n",
            "\n",
            "Generating audio in 2 batches...\n"
          ]
        },
        {
          "output_type": "stream",
          "name": "stderr",
          "text": [
            "\n",
            "\n",
            "\n",
            "  0%|          | 0/2 [00:00<?, ?it/s]\u001b[A\u001b[A\u001b[A\n",
            "\n",
            "  0%|          | 0/1 [00:00<?, ?it/s]\u001b[A\u001b[A\n",
            "\n",
            "100%|██████████| 1/1 [00:13<00:00, 13.31s/it]\n",
            "\n",
            "\n",
            "\n",
            " 50%|█████     | 1/2 [00:13<00:13, 13.32s/it]\u001b[A\u001b[A\u001b[A\n",
            "100%|██████████| 1/1 [00:13<00:00, 13.33s/it]\n",
            "100%|██████████| 1/1 [00:13<00:00, 13.34s/it]\n"
          ]
        },
        {
          "output_type": "stream",
          "name": "stdout",
          "text": [
            "Converting audio...\n",
            "Using cached preprocessed reference audio...\n",
            "Using custom reference text...\n",
            "\n",
            "ref_text    There's more to see than can ever be seen. More to do than can ever be done. \n",
            "gen_text 0 Enable sleep timer for 15 minutes\n",
            "\n",
            "\n",
            "Generating audio in 1 batches...\n",
            "Converting audio...\n",
            "Using cached preprocessed reference audio...\n",
            "Using custom reference text...\n",
            "\n",
            "ref_text    The mafia knew that having a stolen masterpiece is a get out of jail free card. The feds will deal with you. They'll let you out of jail. \n",
            "gen_text 0 Launch Tubi TV and pause for a moment while I grab a snack.\n",
            "\n",
            "\n",
            "Generating audio in 1 batches...\n"
          ]
        },
        {
          "output_type": "stream",
          "name": "stderr",
          "text": [
            "  0%|          | 0/1 [00:00<?, ?it/s]\n",
            "  0%|          | 0/1 [00:00<?, ?it/s]\u001b[A"
          ]
        },
        {
          "output_type": "stream",
          "name": "stdout",
          "text": [
            "Converting audio...\n",
            "Using cached preprocessed reference audio...\n",
            "Using custom reference text...\n",
            "\n",
            "ref_text    When Buck earned sixteen hundred dollars in five minutes for John Thornton. \n",
            "gen_text 0 Disable night mode\n",
            "\n",
            "\n",
            "Generating audio in 1 batches...\n"
          ]
        },
        {
          "output_type": "stream",
          "name": "stderr",
          "text": [
            "\n",
            "\n",
            "  0%|          | 0/1 [00:00<?, ?it/s]\u001b[A\u001b[A\n",
            "\n",
            "\n",
            "100%|██████████| 2/2 [00:24<00:00, 12.13s/it]\n",
            "\n",
            "\n",
            "100%|██████████| 1/1 [00:10<00:00, 10.88s/it]\u001b[A\u001b[A\n",
            "100%|██████████| 1/1 [00:10<00:00, 10.89s/it]\n",
            "100%|██████████| 1/1 [00:10<00:00, 10.91s/it]\n",
            "100%|██████████| 1/1 [00:10<00:00, 10.92s/it]\n"
          ]
        },
        {
          "output_type": "stream",
          "name": "stdout",
          "text": [
            "Converting audio...\n",
            "Using cached preprocessed reference audio...\n",
            "Using custom reference text...\n",
            "\n",
            "ref_text    When Buck earned sixteen hundred dollars in five minutes for John Thornton. \n",
            "gen_text 0 after we finish watching that documentary.\n",
            "\n",
            "\n",
            "Generating audio in 1 batches...\n",
            "Converting audio...\n",
            "Converting audio...\n",
            "Using cached preprocessed reference audio...\n",
            "Using custom reference text...\n",
            "\n",
            "ref_text    There's more to see than can ever be seen. More to do than can ever be done. \n",
            "gen_text 0 I thought you were going to finish that project today.\n",
            "\n",
            "\n",
            "Generating audio in 1 batches...\n",
            "Using cached preprocessed reference audio...\n",
            "Using custom reference text...\n",
            "\n",
            "ref_text    So involved was I in my escapist daydreams, I lost all track of the seconds racing by. Hey, what was the number? The cabbie's question punctured my fantasy, letting all the colors run out of my lovely delusions. Fear. \n",
            "Converting audio...\n",
            "gen_text 0 I can't believe how cold it is today. Record this show and search on YouTube Music for my favorite songs.\n",
            "\n",
            "\n",
            "Generating audio in 1 batches...\n",
            "Using cached preprocessed reference audio...\n",
            "Using custom reference text...\n",
            "\n",
            "ref_text    Hey guys, what's up? LDShadowLady here, and welcome to a mod review on a mod called Revenge of the Blocks. As you can see behind me, some of your favourite Minecraft authors have come alive, and they want revenge. For all that mining you did. \n",
            "gen_text 0 resume\n",
            "\n",
            "\n",
            "Generating audio in 1 batches...\n"
          ]
        },
        {
          "output_type": "stream",
          "name": "stderr",
          "text": [
            "  0%|          | 0/1 [00:00<?, ?it/s]\n",
            "  0%|          | 0/1 [00:00<?, ?it/s]\u001b[A\n",
            "\n",
            "  0%|          | 0/1 [00:00<?, ?it/s]\u001b[A\u001b[A\n",
            "\n",
            "\n",
            "  0%|          | 0/1 [00:00<?, ?it/s]\u001b[A\u001b[A\u001b[A\n",
            "100%|██████████| 1/1 [00:10<00:00, 10.82s/it]\n",
            "\n",
            "\n",
            "100%|██████████| 1/1 [00:10<00:00, 10.82s/it]\n",
            "\n",
            "\n",
            "100%|██████████| 1/1 [00:10<00:00, 10.81s/it]\n",
            "100%|██████████| 1/1 [00:10<00:00, 10.83s/it]\n",
            "100%|██████████| 1/1 [00:10<00:00, 10.82s/it]\n"
          ]
        },
        {
          "output_type": "stream",
          "name": "stdout",
          "text": [
            "Converting audio...\n",
            "Using cached preprocessed reference audio...\n",
            "Using custom reference text...\n",
            "\n",
            "ref_text    Well, I think you guys said it exactly right. You guys have hit on all the points. Um, you know, I know the NFL is pushing for a year suspension from what I'm hearing, but you know, I'm thinking it's going to be more six day games, um, you know, somewhere in that range. \n",
            "gen_text 0 I was listening to a great song by Vertical Horizon the other day.\n",
            "\n",
            "\n",
            "Generating audio in 1 batches...\n",
            "Converting audio...\n",
            "Converting audio...\n",
            "Converting audio...\n",
            "Using cached preprocessed reference audio...\n",
            "Using custom reference text...\n",
            "\n",
            "ref_text    So involved was I in my escapist daydreams, I lost all track of the seconds racing by. Hey, what was the number? The cabbie's question punctured my fantasy, letting all the colors run out of my lovely delusions. Fear. \n",
            "gen_text 0 I can't believe how cold it is today.\n",
            "\n",
            "\n",
            "Generating audio in 1 batches...\n",
            "Using cached preprocessed reference audio...\n",
            "Using custom reference text...\n",
            "\n",
            "ref_text    Welcome to our broadcast from the beginning on Elizabeth Fried in Little Italy. Martin Scorsese wanted to make movies. He started before high school by drawing his stories scene by scene. Ten years after making films at NYU, he had Mean Streets, Alice Doesn't Lear Free Anymore, and Taxi Driver on his list of directing credits. \n",
            "Using cached preprocessed reference audio...\n",
            "Using custom reference text...\n",
            "\n",
            "ref_text    There's more to see than can ever be seen. More to do than can ever be done. \n",
            "gen_text 0 go to HDMI 1\n",
            "\n",
            "\n",
            "Generating audio in 1 batches...\n",
            "gen_text 0 Switch to HBO Max because I need to finish that series we started.\n",
            "\n",
            "\n",
            "Generating audio in 1 batches...\n"
          ]
        },
        {
          "output_type": "stream",
          "name": "stderr",
          "text": [
            "  0%|          | 0/1 [00:00<?, ?it/s]\n",
            "  0%|          | 0/1 [00:00<?, ?it/s]\u001b[A\n",
            "\n",
            "\n",
            "  0%|          | 0/1 [00:00<?, ?it/s]\u001b[A\u001b[A\u001b[A\n",
            "\n",
            "100%|██████████| 1/1 [00:12<00:00, 12.39s/it]\n",
            "\n",
            "\n",
            "\n",
            "100%|██████████| 1/1 [00:12<00:00, 12.38s/it]\u001b[A\u001b[A\u001b[A\n",
            "\n",
            "100%|██████████| 1/1 [00:12<00:00, 12.38s/it]\n",
            "100%|██████████| 1/1 [00:12<00:00, 12.37s/it]\n",
            "\n",
            "100%|██████████| 1/1 [00:12<00:00, 12.39s/it]\n"
          ]
        },
        {
          "output_type": "stream",
          "name": "stdout",
          "text": [
            "Converting audio...\n",
            "Using cached preprocessed reference audio...\n",
            "Using custom reference text...\n",
            "\n",
            "ref_text    Hello everyone. My name is Luis Ahoyas. I'm the executive director of the Oceanic Preservation Society and director of a film called The Cove. And I'm here today with producer Craig Foster and co-director James Reed of My Octopus Teacher. It's my great pleasure to meet you both. Congratulations. \n",
            "gen_text 0 Have you seen the movie Alpha Dog? I heard it's really intense.\n",
            "\n",
            "\n",
            "Generating audio in 1 batches...\n",
            "Converting audio...\n",
            "Converting audio...\n",
            "Using cached preprocessed reference audio...\n",
            "Using custom reference text...\n",
            "\n",
            "ref_text    So involved was I in my escapist daydreams, I lost all track of the seconds racing by. Hey, what was the number? The cabbie's question punctured my fantasy, letting all the colors run out of my lovely delusions. Fear. \n",
            "Using cached preprocessed reference audio...\n",
            "Using custom reference text...\n",
            "\n",
            "ref_text    Welcome to our broadcast from the beginning on Elizabeth Fried in Little Italy. Martin Scorsese wanted to make movies. He started before high school by drawing his stories scene by scene. Ten years after making films at NYU, he had Mean Streets, Alice Doesn't Lear Free Anymore, and Taxi Driver on his list of directing credits. \n",
            "gen_text 0 Record this show and search on YouTube Music for my favorite songs.\n",
            "\n",
            "\n",
            "Generating audio in 1 batches...\n",
            "gen_text 0 Switch to HBO Max\n",
            "\n",
            "\n",
            "Generating audio in 1 batches...\n"
          ]
        },
        {
          "output_type": "stream",
          "name": "stderr",
          "text": [
            "  0%|          | 0/1 [00:00<?, ?it/s]\n",
            "  0%|          | 0/1 [00:00<?, ?it/s]\u001b[A\n",
            "\n",
            "  0%|          | 0/1 [00:00<?, ?it/s]\u001b[A\u001b[A"
          ]
        },
        {
          "output_type": "stream",
          "name": "stdout",
          "text": [
            "Converting audio...\n",
            "Using cached preprocessed reference audio...\n",
            "Using custom reference text...\n",
            "\n",
            "ref_text    Hey, I'm Leandro and I'm a machine learning engineer in the open source team at Hugging Face. \n",
            "gen_text 0 increase the volume to 15\n",
            "\n",
            "\n",
            "Generating audio in 1 batches...\n"
          ]
        },
        {
          "output_type": "stream",
          "name": "stderr",
          "text": [
            "\n",
            "\n",
            "\n",
            "  0%|          | 0/1 [00:00<?, ?it/s]\u001b[A\u001b[A\u001b[A\n",
            "\n",
            "\n",
            "100%|██████████| 1/1 [00:13<00:00, 13.45s/it]\n",
            "\n",
            "\n",
            "100%|██████████| 1/1 [00:13<00:00, 13.46s/it]\u001b[A\u001b[A\n",
            "100%|██████████| 1/1 [00:13<00:00, 13.49s/it]\n",
            "100%|██████████| 1/1 [00:13<00:00, 13.47s/it]\n",
            "100%|██████████| 1/1 [00:13<00:00, 13.50s/it]\n"
          ]
        },
        {
          "output_type": "stream",
          "name": "stdout",
          "text": [
            "Converting audio...\n",
            "Using cached preprocessed reference audio...\n",
            "Using custom reference text...\n",
            "\n",
            "ref_text    And, uh, you're? I'm Red Carr. You've heard about me, Doc, haven't you?. \n",
            "gen_text 0 set the volume to maximum\n",
            "\n",
            "\n",
            "Generating audio in 1 batches...\n",
            "Converting audio...\n",
            "Using cached preprocessed reference audio...\n",
            "Using custom reference text...\n",
            "\n",
            "ref_text    Welcome to our broadcast from the beginning on Elizabeth Fried in Little Italy. Martin Scorsese wanted to make movies. He started before high school by drawing his stories scene by scene. Ten years after making films at NYU, he had Mean Streets, Alice Doesn't Lear Free Anymore, and Taxi Driver on his list of directing credits. \n",
            "gen_text 0 because I need to finish that series we started.\n",
            "\n",
            "\n",
            "Generating audio in 1 batches...\n"
          ]
        },
        {
          "output_type": "stream",
          "name": "stderr",
          "text": [
            "\r  0%|          | 0/1 [00:00<?, ?it/s]"
          ]
        },
        {
          "output_type": "stream",
          "name": "stdout",
          "text": [
            "Converting audio...\n",
            "Converting audio...\n",
            "Using cached preprocessed reference audio...\n",
            "Using custom reference text...\n",
            "\n",
            "ref_text    Yet the wealthy customs officer was not altogether the hardened man of the world that he seemed. Beneath the appearance of worldliness and pride. \n",
            "gen_text 0 I can’t get enough of the song I Give You To His Heart by Alison Krauss.\n",
            "\n",
            "\n",
            "Generating audio in 1 batches...\n",
            "Using cached preprocessed reference audio...\n",
            "Using custom reference text...\n",
            "\n",
            "ref_text    Not knowing to communicate certain like constraints just because they were so obvious or like apparent to them and everyone in their domain. \n",
            "gen_text 0 Are you planning to go to the concert next week? What's playing now on NetflixHulu, and can you launch Vevo TV too?\n",
            "\n",
            "\n",
            "Generating audio in 1 batches...\n"
          ]
        },
        {
          "output_type": "stream",
          "name": "stderr",
          "text": [
            "\n",
            "  0%|          | 0/1 [00:00<?, ?it/s]\u001b[A\n",
            "\n",
            "  0%|          | 0/1 [00:00<?, ?it/s]\u001b[A\u001b[A\n",
            "\n",
            "\n",
            "100%|██████████| 1/1 [00:11<00:00, 11.20s/it]\n",
            "\n",
            "\n",
            "100%|██████████| 1/1 [00:11<00:00, 11.18s/it]\u001b[A\u001b[A\n",
            "\n",
            "\n",
            "100%|██████████| 1/1 [00:11<00:00, 11.18s/it]\n",
            "\n",
            "100%|██████████| 1/1 [00:11<00:00, 11.18s/it]\n",
            "100%|██████████| 1/1 [00:11<00:00, 11.20s/it]\n"
          ]
        },
        {
          "output_type": "stream",
          "name": "stdout",
          "text": [
            "Converting audio...\n",
            "Converting audio...\n",
            "Using cached preprocessed reference audio...\n",
            "Using custom reference text...\n",
            "\n",
            "ref_text    When Buck earned sixteen hundred dollars in five minutes for John Thornton. \n",
            "gen_text 0 Open BBC iPlayer, did you hear about the new café that just opened?\n",
            "\n",
            "\n",
            "Generating audio in 1 batches...\n",
            "Using cached preprocessed reference audio...\n",
            "Using custom reference text...\n",
            "\n",
            "ref_text    I bring further grave news, Your Grace. It concerns your uncle and his company. And his foul responsibility in the passing of your father. \n",
            "gen_text 0 Remember when we used to watch PBS Kids together? Those shows were the best!\n",
            "\n",
            "\n",
            "Generating audio in 1 batches...\n",
            "Converting audio...\n",
            "Converting audio...\n",
            "Using cached preprocessed reference audio...\n",
            "Using custom reference text...\n",
            "\n",
            "ref_text    Not knowing to communicate certain like constraints just because they were so obvious or like apparent to them and everyone in their domain. \n",
            "Using cached preprocessed reference audio...\n",
            "Using custom reference text...\n",
            "\n",
            "ref_text    Well sure, but that was so we could be a lawyer. Okay, so now we're a lawyer. Come on, I'll shoot you for a dollar. Uh, could you make it fifteen as a sort of a loan? Fifteen. I really need it very bad, boss. \n",
            "gen_text 0 Are you planning to go to the concert next week?\n",
            "\n",
            "\n",
            "Generating audio in 1 batches...\n",
            "gen_text 0 Enable night mode when we decide on a movie to watch.\n",
            "\n",
            "\n",
            "Generating audio in 1 batches...\n"
          ]
        },
        {
          "output_type": "stream",
          "name": "stderr",
          "text": [
            "  0%|          | 0/1 [00:00<?, ?it/s]\n",
            "  0%|          | 0/1 [00:00<?, ?it/s]\u001b[A\n",
            "\n",
            "  0%|          | 0/1 [00:00<?, ?it/s]\u001b[A\u001b[A\n",
            "\n",
            "\n",
            "  0%|          | 0/1 [00:00<?, ?it/s]\u001b[A\u001b[A\u001b[A\n",
            "\n",
            "\n",
            "100%|██████████| 1/1 [00:12<00:00, 12.21s/it]\n",
            "\n",
            "\n",
            "100%|██████████| 1/1 [00:12<00:00, 12.22s/it]\n",
            "\n",
            "100%|██████████| 1/1 [00:12<00:00, 12.24s/it]\n",
            "100%|██████████| 1/1 [00:12<00:00, 12.24s/it]\n"
          ]
        },
        {
          "output_type": "stream",
          "name": "stdout",
          "text": [
            "Converting audio...\n",
            "Using cached preprocessed reference audio...\n",
            "Using custom reference text...\n",
            "\n",
            "ref_text    Well sure, but that was so we could be a lawyer. Okay, so now we're a lawyer. Come on, I'll shoot you for a dollar. Uh, could you make it fifteen as a sort of a loan? Fifteen. I really need it very bad, boss. \n",
            "gen_text 0 Enable night mode\n",
            "\n",
            "\n",
            "Generating audio in 1 batches...\n",
            "Converting audio...\n",
            "Converting audio...\n",
            "Using cached preprocessed reference audio...\n",
            "Using custom reference text...\n",
            "\n",
            "ref_text    Not knowing to communicate certain like constraints just because they were so obvious or like apparent to them and everyone in their domain. \n",
            "Using cached preprocessed reference audio...\n",
            "Using custom reference text...\n",
            "\n",
            "ref_text    That economic globalisation has progressed with tremendous speed, but politics and the media have remained primary national. \n",
            "gen_text 0 What's playing now on NetflixHulu, and can you launch Vevo TV too?\n",
            "\n",
            "\n",
            "Generating audio in 1 batches...\n",
            "gen_text 0 switch to Vimeo\n",
            "\n",
            "\n",
            "Generating audio in 1 batches...\n"
          ]
        },
        {
          "output_type": "stream",
          "name": "stderr",
          "text": [
            "\r  0%|          | 0/1 [00:00<?, ?it/s]"
          ]
        },
        {
          "output_type": "stream",
          "name": "stdout",
          "text": [
            "Converting audio...\n"
          ]
        },
        {
          "output_type": "stream",
          "name": "stderr",
          "text": [
            "\n",
            "  0%|          | 0/1 [00:00<?, ?it/s]\u001b[A"
          ]
        },
        {
          "output_type": "stream",
          "name": "stdout",
          "text": [
            "Using cached preprocessed reference audio...\n",
            "Using custom reference text...\n",
            "\n",
            "ref_text    When Buck earned sixteen hundred dollars in five minutes for John Thornton. \n",
            "gen_text 0 Open BBC iPlayer,\n",
            "\n",
            "\n",
            "Generating audio in 1 batches...\n"
          ]
        },
        {
          "output_type": "stream",
          "name": "stderr",
          "text": [
            "\n",
            "\n",
            "  0%|          | 0/1 [00:00<?, ?it/s]\u001b[A\u001b[A\n",
            "\n",
            "\n",
            "  0%|          | 0/1 [00:00<?, ?it/s]\u001b[A\u001b[A\u001b[A\n",
            "100%|██████████| 1/1 [00:10<00:00, 10.51s/it]\n",
            "100%|██████████| 1/1 [00:10<00:00, 10.53s/it]\n",
            "\n",
            "\n",
            "100%|██████████| 1/1 [00:10<00:00, 10.51s/it]\u001b[A\u001b[A\n",
            "\n",
            "\n",
            "100%|██████████| 1/1 [00:10<00:00, 10.51s/it]\n",
            "100%|██████████| 1/1 [00:10<00:00, 10.51s/it]\n"
          ]
        },
        {
          "output_type": "stream",
          "name": "stdout",
          "text": [
            "Converting audio...\n",
            "Converting audio...\n",
            "Using cached preprocessed reference audio...\n",
            "Using custom reference text...\n",
            "\n",
            "ref_text    Well sure, but that was so we could be a lawyer. Okay, so now we're a lawyer. Come on, I'll shoot you for a dollar. Uh, could you make it fifteen as a sort of a loan? Fifteen. I really need it very bad, boss. \n",
            "gen_text 0 when we decide on a movie to watch.\n",
            "\n",
            "\n",
            "Generating audio in 1 batches...\n",
            "Converting audio...\n",
            "Converting audio...\n",
            "Using cached preprocessed reference audio...\n",
            "Using custom reference text...\n",
            "\n",
            "ref_text    When Buck earned sixteen hundred dollars in five minutes for John Thornton. \n",
            "gen_text 0 did you hear about the new café that just opened?\n",
            "\n",
            "\n",
            "Generating audio in 1 batches...\n"
          ]
        },
        {
          "output_type": "stream",
          "name": "stderr",
          "text": [
            "\r  0%|          | 0/1 [00:00<?, ?it/s]"
          ]
        },
        {
          "output_type": "stream",
          "name": "stdout",
          "text": [
            "Using custom reference text...\n",
            "\n",
            "ref_text    Hey guys, what's up? LDShadowLady here. Welcome back to my testing centre, where I'm going to be showing you another mod today. I'm showing you the Animals Plus mod, which features, among others, that turtle that's spinning around in the background like a crazy thing. \n",
            "gen_text 0 I just love this song by Harry Connick, Jr. Search on TuneIn Radio for holiday music and record this show.\n",
            "\n",
            "\n",
            "Generating audio in 1 batches...\n"
          ]
        },
        {
          "output_type": "stream",
          "name": "stderr",
          "text": [
            "\n",
            "  0%|          | 0/1 [00:00<?, ?it/s]\u001b[A\n",
            "\n",
            "  0%|          | 0/1 [00:00<?, ?it/s]\u001b[A\u001b[A"
          ]
        },
        {
          "output_type": "stream",
          "name": "stdout",
          "text": [
            "Audio is over 12s, clipping short. (2)\n",
            "Using custom reference text...\n",
            "\n",
            "ref_text    You see like all these mailings of offering, you know. \n",
            "gen_text 0 decrease the volume to 10\n",
            "\n",
            "\n",
            "Generating audio in 1 batches...\n"
          ]
        },
        {
          "output_type": "stream",
          "name": "stderr",
          "text": [
            "\n",
            "\n",
            "\n",
            "  0%|          | 0/1 [00:00<?, ?it/s]\u001b[A\u001b[A\u001b[A\n",
            "100%|██████████| 1/1 [00:16<00:00, 16.37s/it]\n",
            "\n",
            "\n",
            "100%|██████████| 1/1 [00:16<00:00, 16.33s/it]\n",
            "\n",
            "\n",
            "\n",
            "100%|██████████| 1/1 [00:16<00:00, 16.32s/it]\n",
            "100%|██████████| 1/1 [00:16<00:00, 16.50s/it]\n"
          ]
        },
        {
          "output_type": "stream",
          "name": "stdout",
          "text": [
            "Converting audio...\n",
            "Using cached preprocessed reference audio...\n",
            "Using custom reference text...\n",
            "\n",
            "ref_text    And, uh, you're? I'm Red Carr. You've heard about me, Doc, haven't you?. \n",
            "gen_text 0 Decrease the volume to 15, I can’t believe you finished the entire series in one day!\n",
            "\n",
            "\n",
            "Generating audio in 1 batches...\n",
            "Converting audio...\n",
            "Using cached preprocessed reference audio...\n",
            "Using custom reference text...\n",
            "\n",
            "ref_text    Hey guys, what's up? LDShadowLady here. Welcome back to my testing centre, where I'm going to be showing you another mod today. I'm showing you the Animals Plus mod, which features, among others, that turtle that's spinning around in the background like a crazy thing. \n",
            "gen_text 0 I just love this song by Harry Connick, Jr.\n",
            "\n",
            "\n",
            "Generating audio in 1 batches...\n",
            "Converting audio...\n",
            "Converting audio...\n"
          ]
        },
        {
          "output_type": "stream",
          "name": "stderr",
          "text": [
            "\r  0%|          | 0/1 [00:00<?, ?it/s]"
          ]
        },
        {
          "output_type": "stream",
          "name": "stdout",
          "text": [
            "Using cached preprocessed reference audio...\n",
            "Using custom reference text...\n",
            "\n",
            "ref_text    As Drumwell and Startup had each a boat, I resolved to set up mine and to cut them both out. \n",
            "gen_text 0 record this show, change input to Tubi TV\n",
            "\n",
            "\n",
            "Generating audio in 1 batches...\n",
            "Using cached preprocessed reference audio...\n",
            "Using custom reference text...\n",
            "\n",
            "ref_text    Yes. One does still hear dreadful stories. \n",
            "gen_text 0 skip to next episode\n",
            "\n",
            "\n",
            "Generating audio in 1 batches...\n"
          ]
        },
        {
          "output_type": "stream",
          "name": "stderr",
          "text": [
            "\n",
            "  0%|          | 0/1 [00:00<?, ?it/s]\u001b[A\n",
            "\n",
            "  0%|          | 0/1 [00:00<?, ?it/s]\u001b[A\u001b[A\n",
            "\n",
            "\n",
            "  0%|          | 0/1 [00:00<?, ?it/s]\u001b[A\u001b[A\u001b[A\n",
            "100%|██████████| 1/1 [00:11<00:00, 11.14s/it]\n",
            "100%|██████████| 1/1 [00:11<00:00, 11.18s/it]\n",
            "\n",
            "\n",
            "\n",
            "100%|██████████| 1/1 [00:11<00:00, 11.13s/it]\n",
            "\n",
            "\n",
            "100%|██████████| 1/1 [00:11<00:00, 11.14s/it]\n"
          ]
        },
        {
          "output_type": "stream",
          "name": "stdout",
          "text": [
            "Converting audio...\n",
            "Using cached preprocessed reference audio...\n",
            "Using custom reference text...\n",
            "\n",
            "ref_text    Hey guys, what's up? LDShadowLady here. Welcome back to my testing centre, where I'm going to be showing you another mod today. I'm showing you the Animals Plus mod, which features, among others, that turtle that's spinning around in the background like a crazy thing. \n",
            "gen_text 0 Search on TuneIn Radio for holiday music and record this show.\n",
            "\n",
            "\n",
            "Generating audio in 1 batches...\n",
            "Converting audio...\n",
            "Converting audio...\n",
            "Using cached preprocessed reference audio...\n",
            "Using custom reference text...\n",
            "\n",
            "ref_text    And, uh, you're? I'm Red Carr. You've heard about me, Doc, haven't you?. \n",
            "Converting audio...\n",
            "gen_text 0 Decrease the volume to 15,\n",
            "\n",
            "\n",
            "Generating audio in 1 batches...\n",
            "Using cached preprocessed reference audio...\n",
            "Using custom reference text...\n",
            "\n",
            "ref_text    Ha! You look bored. Hello. \n",
            "gen_text 0 increase the volume, previous channel\n",
            "\n",
            "\n",
            "Generating audio in 1 batches...\n",
            "Using cached preprocessed reference audio...\n",
            "Using custom reference text...\n",
            "\n",
            "ref_text    For more on this subject take a look at the playlist. You can also watch this recommended video. \n"
          ]
        },
        {
          "output_type": "stream",
          "name": "stderr",
          "text": [
            "\n",
            "  0%|          | 0/1 [00:00<?, ?it/s]"
          ]
        },
        {
          "output_type": "stream",
          "name": "stdout",
          "text": [
            "gen_text 0 disable game mode\n",
            "\n",
            "\n",
            "Generating audio in 1 batches...\n"
          ]
        },
        {
          "output_type": "stream",
          "name": "stderr",
          "text": [
            "\n",
            "\n",
            "  0%|          | 0/1 [00:00<?, ?it/s]\u001b[A\u001b[A\n",
            "\n",
            "\n",
            "100%|██████████| 1/1 [00:11<00:00, 11.62s/it]\n",
            "\n",
            "\n",
            "\n",
            "100%|██████████| 1/1 [00:11<00:00, 11.61s/it]\n"
          ]
        },
        {
          "output_type": "stream",
          "name": "stdout",
          "text": [
            "Converting audio...\n",
            "Using cached preprocessed reference audio...\n",
            "Using custom reference text...\n",
            "\n",
            "ref_text    He may not be the only honest man in town but he's the only one I know. \n",
            "gen_text 0 Have you ever watched any movies like 'Creepshow' during Halloween?\n",
            "\n",
            "\n",
            "Generating audio in 1 batches...\n",
            "Converting audio...\n"
          ]
        },
        {
          "output_type": "stream",
          "name": "stderr",
          "text": [
            "\n",
            "\n",
            "100%|██████████| 1/1 [00:11<00:00, 11.63s/it]\u001b[A\u001b[A\n",
            "100%|██████████| 1/1 [00:11<00:00, 11.66s/it]\n",
            "100%|██████████| 1/1 [00:11<00:00, 11.67s/it]\n"
          ]
        },
        {
          "output_type": "stream",
          "name": "stdout",
          "text": [
            "Using cached preprocessed reference audio...\n",
            "Using custom reference text...\n",
            "\n",
            "ref_text    Hi guys, this is the first video in the... \n",
            "gen_text 0 Set picture mode to movie:\n",
            "gen_text 1 Stripes while I was telling her about my weekend plans.\n",
            "\n",
            "\n",
            "Generating audio in 2 batches...\n"
          ]
        },
        {
          "output_type": "stream",
          "name": "stderr",
          "text": [
            "\n",
            "  0%|          | 0/2 [00:00<?, ?it/s]\u001b[A"
          ]
        },
        {
          "output_type": "stream",
          "name": "stdout",
          "text": [
            "Converting audio...\n",
            "Using cached preprocessed reference audio...\n",
            "Using custom reference text...\n",
            "\n",
            "ref_text    Hey, it's alright, we put him up on game, it ain't no problem. When I was born in LA, uhm... \n",
            "gen_text 0 select this option, record this show\n",
            "\n",
            "\n",
            "Generating audio in 1 batches...\n",
            "Converting audio...\n",
            "Using cached preprocessed reference audio...\n",
            "Using custom reference text...\n",
            "\n",
            "ref_text    And, uh, you're? I'm Red Carr. You've heard about me, Doc, haven't you?. \n",
            "gen_text 0 I can’t believe you finished the entire series in one day!\n",
            "\n",
            "\n",
            "Generating audio in 1 batches...\n"
          ]
        },
        {
          "output_type": "stream",
          "name": "stderr",
          "text": [
            "\n",
            "\n",
            "  0%|          | 0/1 [00:00<?, ?it/s]\u001b[A\u001b[A\n",
            "\n",
            "\n",
            "  0%|          | 0/1 [00:00<?, ?it/s]\u001b[A\u001b[A\u001b[A\n",
            " 50%|█████     | 1/2 [00:12<00:12, 12.52s/it]\u001b[A\n",
            "\n",
            "100%|██████████| 1/1 [00:12<00:00, 12.49s/it]\u001b[A\u001b[A\n",
            "\n",
            "\n",
            "100%|██████████| 1/1 [00:12<00:00, 12.50s/it]\n",
            "100%|██████████| 1/1 [00:12<00:00, 12.49s/it]\n",
            "100%|██████████| 1/1 [00:12<00:00, 12.55s/it]\n"
          ]
        },
        {
          "output_type": "stream",
          "name": "stdout",
          "text": [
            "Converting audio...\n",
            "Converting audio...\n",
            "Using custom reference text...\n",
            "\n",
            "ref_text    Hello everyone. My name is Luis Ahoyas. I'm the executive director of the Oceanic Preservation Society and director of a film called The Cove. And I'm here today with producer Craig Foster and co-director James Reed of My Octopus Teacher. It's my great pleasure to meet you both. Congratulations. \n",
            "Converting audio...\n",
            "gen_text 0 change input to Disney+, increase the volume\n",
            "\n",
            "\n",
            "Generating audio in 1 batches...\n",
            "Using cached preprocessed reference audio...\n",
            "Using custom reference text...\n",
            "\n",
            "ref_text    Hello everyone. My name is Luis Ahoyas. I'm the executive director of the Oceanic Preservation Society and director of a film called The Cove. And I'm here today with producer Craig Foster and co-director James Reed of My Octopus Teacher. It's my great pleasure to meet you both. Congratulations. \n",
            "Using cached preprocessed reference audio...\n",
            "Using custom reference text...\n",
            "\n",
            "ref_text    Welcome to our broadcast from the beginning on Elizabeth Fried in Little Italy. Martin Scorsese wanted to make movies. He started before high school by drawing his stories scene by scene. Ten years after making films at NYU, he had Mean Streets, Alice Doesn't Lear Free Anymore, and Taxi Driver on his list of directing credits. \n",
            "gen_text 0 I really enjoy listening to 'Here In My Room' by Incubus when I want to relax.\n",
            "\n",
            "\n",
            "Generating audio in 1 batches...\n",
            "gen_text 0 Change audio language to Spanish, how did your meeting go yesterday?\n",
            "\n",
            "\n",
            "Generating audio in 1 batches...\n"
          ]
        },
        {
          "output_type": "stream",
          "name": "stderr",
          "text": [
            "\r  0%|          | 0/1 [00:00<?, ?it/s]\n",
            "\n",
            "  0%|          | 0/1 [00:00<?, ?it/s]\u001b[A\u001b[A\n",
            "\n",
            "\n",
            "  0%|          | 0/1 [00:00<?, ?it/s]\u001b[A\u001b[A\u001b[A\n",
            "\n",
            "100%|██████████| 1/1 [00:16<00:00, 16.10s/it]\n",
            "\n",
            "100%|██████████| 2/2 [00:28<00:00, 14.37s/it]\n",
            "\n",
            "\n",
            "\n",
            "100%|██████████| 1/1 [00:16<00:00, 16.12s/it]\n",
            "100%|██████████| 1/1 [00:16<00:00, 16.11s/it]\n"
          ]
        },
        {
          "output_type": "stream",
          "name": "stdout",
          "text": [
            "Converting audio...\n",
            "Using cached preprocessed reference audio...\n",
            "Using custom reference text...\n",
            "\n",
            "ref_text    Welcome to our broadcast from the beginning on Elizabeth Fried in Little Italy. Martin Scorsese wanted to make movies. He started before high school by drawing his stories scene by scene. Ten years after making films at NYU, he had Mean Streets, Alice Doesn't Lear Free Anymore, and Taxi Driver on his list of directing credits. \n",
            "gen_text 0 Change audio language to Spanish,\n",
            "\n",
            "\n",
            "Generating audio in 1 batches...\n",
            "Converting audio...\n",
            "Using cached preprocessed reference audio...\n",
            "Using custom reference text...\n",
            "\n",
            "ref_text    Miss Sally, I had to see you. I just heard about it. Tell me it ain't true. Mr. Jim ain't dead. \n",
            "gen_text 0 Switch to AV mode, can you believe how quickly the weather changed this week? Now disable night mode.\n",
            "\n",
            "\n",
            "Generating audio in 1 batches...\n"
          ]
        },
        {
          "output_type": "stream",
          "name": "stderr",
          "text": [
            "\r  0%|          | 0/1 [00:00<?, ?it/s]"
          ]
        },
        {
          "output_type": "stream",
          "name": "stdout",
          "text": [
            "Converting audio...\n",
            "Converting audio...\n"
          ]
        },
        {
          "output_type": "stream",
          "name": "stderr",
          "text": [
            "\n",
            "  0%|          | 0/1 [00:00<?, ?it/s]\u001b[A"
          ]
        },
        {
          "output_type": "stream",
          "name": "stdout",
          "text": [
            "Using cached preprocessed reference audio...\n",
            "Using custom reference text...\n",
            "\n",
            "ref_text    Hi guys, this is the first video in the... \n",
            "Using cached preprocessed reference audio...\n",
            "Using custom reference text...\n",
            "\n",
            "ref_text    So involved was I in my escapist daydreams, I lost all track of the seconds racing by. Hey, what was the number? The cabbie's question punctured my fantasy, letting all the colors run out of my lovely delusions. Fear. \n",
            "gen_text 0 Set picture mode to movie: Stripes\n",
            "\n",
            "\n",
            "Generating audio in 1 batches...\n",
            "gen_text 0 Did you know that 'Fox Kids' used to have some great shows back in the '90s?\n",
            "\n",
            "\n",
            "Generating audio in 1 batches...\n"
          ]
        },
        {
          "output_type": "stream",
          "name": "stderr",
          "text": [
            "\n",
            "\n",
            "  0%|          | 0/1 [00:00<?, ?it/s]\u001b[A\u001b[A\n",
            "\n",
            "\n",
            "100%|██████████| 1/1 [00:14<00:00, 14.43s/it]\n",
            "\n",
            "100%|██████████| 1/1 [00:14<00:00, 14.40s/it]\n",
            "\n",
            "\n",
            "100%|██████████| 1/1 [00:14<00:00, 14.39s/it]\u001b[A\u001b[A\n",
            "\n",
            "\n",
            "100%|██████████| 1/1 [00:14<00:00, 14.39s/it]\n",
            "100%|██████████| 1/1 [00:14<00:00, 14.39s/it]\n"
          ]
        },
        {
          "output_type": "stream",
          "name": "stdout",
          "text": [
            "Converting audio...\n",
            "Using cached preprocessed reference audio...\n",
            "Using custom reference text...\n",
            "\n",
            "ref_text    Welcome to our broadcast from the beginning on Elizabeth Fried in Little Italy. Martin Scorsese wanted to make movies. He started before high school by drawing his stories scene by scene. Ten years after making films at NYU, he had Mean Streets, Alice Doesn't Lear Free Anymore, and Taxi Driver on his list of directing credits. \n",
            "gen_text 0 how did your meeting go yesterday?\n",
            "\n",
            "\n",
            "Generating audio in 1 batches...\n",
            "Converting audio...\n",
            "Using cached preprocessed reference audio...\n",
            "Using custom reference text...\n",
            "\n",
            "ref_text    Miss Sally, I had to see you. I just heard about it. Tell me it ain't true. Mr. Jim ain't dead. \n",
            "gen_text 0 Switch to AV mode\n",
            "\n",
            "\n",
            "Generating audio in 1 batches...\n"
          ]
        },
        {
          "output_type": "stream",
          "name": "stderr",
          "text": [
            "\r  0%|          | 0/1 [00:00<?, ?it/s]"
          ]
        },
        {
          "output_type": "stream",
          "name": "stdout",
          "text": [
            "Converting audio...\n",
            "Converting audio...\n"
          ]
        },
        {
          "output_type": "stream",
          "name": "stderr",
          "text": [
            "\n",
            "  0%|          | 0/1 [00:00<?, ?it/s]\u001b[A"
          ]
        },
        {
          "output_type": "stream",
          "name": "stdout",
          "text": [
            "Using cached preprocessed reference audio...\n",
            "Using custom reference text...\n",
            "\n",
            "ref_text    Hi guys, this is the first video in the... \n",
            "gen_text 0 while I was telling her about my weekend plans.\n",
            "\n",
            "\n",
            "Generating audio in 1 batches...\n",
            "Using cached preprocessed reference audio...\n",
            "Using custom reference text...\n",
            "\n",
            "ref_text    Okay, maybe we'll watch a Grombe. Where are you Grombe? Let's see. 21 hours ago, Fortnite memes that make you switch to controller. I gotta see this. \n",
            "gen_text 0 I’ve heard that 'Papa Johnny Road' by Widespread Panic is a great song for road trips.\n",
            "\n",
            "\n",
            "Generating audio in 1 batches...\n"
          ]
        },
        {
          "output_type": "stream",
          "name": "stderr",
          "text": [
            "\n",
            "\n",
            "  0%|          | 0/1 [00:00<?, ?it/s]\u001b[A\u001b[A\n",
            "\n",
            "\n",
            "  0%|          | 0/1 [00:00<?, ?it/s]\u001b[A\u001b[A\u001b[A\n",
            "100%|██████████| 1/1 [00:14<00:00, 14.15s/it]\n",
            "\n",
            "\n",
            "100%|██████████| 1/1 [00:14<00:00, 14.14s/it]\n",
            "100%|██████████| 1/1 [00:14<00:00, 14.18s/it]\n",
            "\n",
            "\n",
            "\n",
            "100%|██████████| 1/1 [00:14<00:00, 14.14s/it]\n"
          ]
        },
        {
          "output_type": "stream",
          "name": "stdout",
          "text": [
            "Converting audio...\n",
            "Using cached preprocessed reference audio...\n",
            "Using custom reference text...\n",
            "\n",
            "ref_text    Miss Sally, I had to see you. I just heard about it. Tell me it ain't true. Mr. Jim ain't dead. \n",
            "gen_text 0 can you believe how quickly the weather changed this week?\n",
            "\n",
            "\n",
            "Generating audio in 1 batches...\n",
            "Converting audio...\n",
            "Converting audio...\n"
          ]
        },
        {
          "output_type": "stream",
          "name": "stderr",
          "text": [
            "\r  0%|          | 0/1 [00:00<?, ?it/s]"
          ]
        },
        {
          "output_type": "stream",
          "name": "stdout",
          "text": [
            "Using cached preprocessed reference audio...\n",
            "Using custom reference text...\n",
            "\n",
            "ref_text    This is the actual last chapter of the book. There are two more chapters that go into a recent and Feyre perspective real quick. \n",
            "Using cached preprocessed reference audio...\n",
            "Using custom reference text...\n",
            "\n",
            "ref_text    Hello there, everyone, and welcome to the video. My name's Serenity Sol on Reacts, and here we are with Soap, series one, episode three season. It is American. I am enjoying this. It is extremely funny. I will be looking to get Benson when that, well, when these shows run out. I just want to say when that comes out, it's already out. \n",
            "gen_text 0 Add this to my watchlist, have you tried the new restaurant downtown yet?\n",
            "\n",
            "\n",
            "Generating audio in 1 batches...\n",
            "gen_text 0 Switch to app: Tubi TV as we discussed our favorite restaurants in the city.\n",
            "\n",
            "\n",
            "Generating audio in 1 batches...\n",
            "Converting audio...\n",
            "Using cached preprocessed reference audio...\n",
            "Using custom reference text...\n",
            "\n",
            "ref_text    Well, I think you guys said it exactly right. You guys have hit on all the points. Um, you know, I know the NFL is pushing for a year suspension from what I'm hearing, but you know, I'm thinking it's going to be more six day games, um, you know, somewhere in that range. \n",
            "gen_text 0 decrease the volume to 5\n",
            "\n",
            "\n",
            "Generating audio in 1 batches...\n"
          ]
        },
        {
          "output_type": "stream",
          "name": "stderr",
          "text": [
            "\n",
            "\n",
            "  0%|          | 0/1 [00:00<?, ?it/s]\u001b[A\u001b[A\n",
            "  0%|          | 0/1 [00:00<?, ?it/s]\u001b[A\n",
            "\n",
            "\n",
            "  0%|          | 0/1 [00:00<?, ?it/s]\u001b[A\u001b[A\u001b[A\n",
            "\n",
            "\n",
            "100%|██████████| 1/1 [00:10<00:00, 10.38s/it]\n",
            "\n",
            "\n",
            "100%|██████████| 1/1 [00:10<00:00, 10.45s/it]\n",
            "100%|██████████| 1/1 [00:10<00:00, 10.46s/it]\n",
            "100%|██████████| 1/1 [00:10<00:00, 10.39s/it]\n",
            "100%|██████████| 1/1 [00:10<00:00, 10.40s/it]\n"
          ]
        },
        {
          "output_type": "stream",
          "name": "stdout",
          "text": [
            "Converting audio...\n",
            "Using cached preprocessed reference audio...\n",
            "Using custom reference text...\n",
            "\n",
            "ref_text    And, uh, you're? I'm Red Carr. You've heard about me, Doc, haven't you?. \n",
            "gen_text 0 pause\n",
            "\n",
            "\n",
            "Generating audio in 1 batches...\n",
            "Converting audio...\n",
            "Converting audio...\n",
            "Using cached preprocessed reference audio...\n",
            "Using custom reference text...\n",
            "\n",
            "ref_text    Miss Sally, I had to see you. I just heard about it. Tell me it ain't true. Mr. Jim ain't dead. \n",
            "gen_text 0 Now disable night mode\n",
            "\n",
            "\n",
            "Generating audio in 1 batches...\n"
          ]
        },
        {
          "output_type": "stream",
          "name": "stderr",
          "text": [
            "\r  0%|          | 0/1 [00:00<?, ?it/s]"
          ]
        },
        {
          "output_type": "stream",
          "name": "stdout",
          "text": [
            "Converting audio...\n",
            "Using cached preprocessed reference audio...\n",
            "Using custom reference text...\n",
            "\n",
            "ref_text    Hello there, everyone, and welcome to the video. My name's Serenity Sol on Reacts, and here we are with Soap, series one, episode three season. It is American. I am enjoying this. It is extremely funny. I will be looking to get Benson when that, well, when these shows run out. I just want to say when that comes out, it's already out. \n",
            "gen_text 0 Switch to app: Tubi TV\n",
            "\n",
            "\n",
            "Generating audio in 1 batches...\n",
            "Using cached preprocessed reference audio...\n",
            "Using custom reference text...\n",
            "\n",
            "ref_text    This is the actual last chapter of the book. There are two more chapters that go into a recent and Feyre perspective real quick. \n",
            "gen_text 0 Add this to my watchlist,\n",
            "\n",
            "\n",
            "Generating audio in 1 batches...\n"
          ]
        },
        {
          "output_type": "stream",
          "name": "stderr",
          "text": [
            "\n",
            "  0%|          | 0/1 [00:00<?, ?it/s]\u001b[A\n",
            "\n",
            "  0%|          | 0/1 [00:00<?, ?it/s]\u001b[A\u001b[A\n",
            "\n",
            "\n",
            "100%|██████████| 1/1 [00:09<00:00,  9.65s/it]\n",
            "100%|██████████| 1/1 [00:09<00:00,  9.66s/it]\n",
            "\n",
            "\n",
            "100%|██████████| 1/1 [00:09<00:00,  9.63s/it]\u001b[A\u001b[A\n",
            "\n",
            "\n",
            "100%|██████████| 1/1 [00:09<00:00,  9.64s/it]\n",
            "100%|██████████| 1/1 [00:09<00:00,  9.64s/it]\n",
            "100%|██████████| 1/1 [00:09<00:00,  9.63s/it]\n"
          ]
        },
        {
          "output_type": "stream",
          "name": "stdout",
          "text": [
            "Worker 1 done (25 items)\n",
            "Converting audio...\n",
            "Converting audio...\n",
            "Using cached preprocessed reference audio...\n",
            "Using custom reference text...\n",
            "\n",
            "ref_text    The mafia knew that having a stolen masterpiece is a get out of jail free card. The feds will deal with you. They'll let you out of jail. \n",
            "Using cached preprocessed reference audio...\n",
            "Using custom reference text...\n",
            "\n",
            "ref_text    Hello there, everyone, and welcome to the video. My name's Serenity Sol on Reacts, and here we are with Soap, series one, episode three season. It is American. I am enjoying this. It is extremely funny. I will be looking to get Benson when that, well, when these shows run out. I just want to say when that comes out, it's already out. \n",
            "gen_text 0 Change input to Apple TV+, did you see that new store opened downtown? And scroll down for the latest movies.\n",
            "\n",
            "\n",
            "Generating audio in 1 batches...\n",
            "gen_text 0 as we discussed our favorite restaurants in the city.\n",
            "\n",
            "\n",
            "Generating audio in 1 batches...\n",
            "Converting audio...\n"
          ]
        },
        {
          "output_type": "stream",
          "name": "stderr",
          "text": [
            "\r  0%|          | 0/1 [00:00<?, ?it/s]"
          ]
        },
        {
          "output_type": "stream",
          "name": "stdout",
          "text": [
            "Using cached preprocessed reference audio...\n",
            "Using custom reference text...\n",
            "\n",
            "ref_text    This is the actual last chapter of the book. There are two more chapters that go into a recent and Feyre perspective real quick. \n",
            "gen_text 0 have you tried the new restaurant downtown yet?\n",
            "\n",
            "\n",
            "Generating audio in 1 batches...\n"
          ]
        },
        {
          "output_type": "stream",
          "name": "stderr",
          "text": [
            "\n",
            "  0%|          | 0/1 [00:00<?, ?it/s]\u001b[A\n",
            "\n",
            "  0%|          | 0/1 [00:00<?, ?it/s]\u001b[A\u001b[A\n",
            "\n",
            "100%|██████████| 1/1 [00:08<00:00,  8.84s/it]\n",
            "\n",
            "100%|██████████| 1/1 [00:08<00:00,  8.85s/it]\n",
            "100%|██████████| 1/1 [00:08<00:00,  8.86s/it]\n"
          ]
        },
        {
          "output_type": "stream",
          "name": "stdout",
          "text": [
            "Converting audio...\n",
            "Using cached preprocessed reference audio...\n",
            "Using custom reference text...\n",
            "\n",
            "ref_text    Particularly among millennials, and I know millennials probably hate being called millennials, I'm sorry, whatever, but the fact. \n",
            "gen_text 0 turn on the TV, select this option.\n",
            "\n",
            "\n",
            "Generating audio in 1 batches...\n",
            "Converting audio...\n",
            "Converting audio...\n",
            "Using cached preprocessed reference audio...\n",
            "Using custom reference text...\n",
            "\n",
            "ref_text    Hello there, everyone, and welcome to the video. My name's Serenity Sol on Reacts, and here we are with Soap, series one, episode three season. It is American. I am enjoying this. It is extremely funny. I will be looking to get Benson when that, well, when these shows run out. I just want to say when that comes out, it's already out. \n",
            "Using cached preprocessed reference audio...\n",
            "Using custom reference text...\n",
            "\n",
            "ref_text    The mafia knew that having a stolen masterpiece is a get out of jail free card. The feds will deal with you. They'll let you out of jail. \n",
            "gen_text 0 Put the TV in sleep mode because I couldn't remember where I parked the car.\n",
            "\n",
            "\n",
            "Generating audio in 1 batches...\n",
            "gen_text 0 Change input to Apple TV+\n",
            "\n",
            "\n",
            "Generating audio in 1 batches...\n"
          ]
        },
        {
          "output_type": "stream",
          "name": "stderr",
          "text": [
            "  0%|          | 0/1 [00:00<?, ?it/s]\n",
            "  0%|          | 0/1 [00:00<?, ?it/s]\u001b[A\n",
            "\n",
            "100%|██████████| 1/1 [00:06<00:00,  6.99s/it]\n",
            "\n",
            "\n",
            "100%|██████████| 1/1 [00:06<00:00,  6.98s/it]\u001b[A\u001b[A\n",
            "100%|██████████| 1/1 [00:06<00:00,  6.99s/it]\n",
            "100%|██████████| 1/1 [00:06<00:00,  6.99s/it]\n"
          ]
        },
        {
          "output_type": "stream",
          "name": "stdout",
          "text": [
            "Converting audio...\n",
            "Using cached preprocessed reference audio...\n",
            "Using custom reference text...\n",
            "\n",
            "ref_text    Yet the wealthy customs officer was not altogether the hardened man of the world that he seemed. Beneath the appearance of worldliness and pride. \n",
            "gen_text 0 enable night mode, record this show.\n",
            "\n",
            "\n",
            "Generating audio in 1 batches...\n",
            "Converting audio...\n",
            "Converting audio...\n",
            "Using cached preprocessed reference audio...\n",
            "Using custom reference text...\n",
            "\n",
            "ref_text    Hello there, everyone, and welcome to the video. My name's Serenity Sol on Reacts, and here we are with Soap, series one, episode three season. It is American. I am enjoying this. It is extremely funny. I will be looking to get Benson when that, well, when these shows run out. I just want to say when that comes out, it's already out. \n",
            "Using cached preprocessed reference audio...\n",
            "Using custom reference text...\n",
            "\n",
            "ref_text    The mafia knew that having a stolen masterpiece is a get out of jail free card. The feds will deal with you. They'll let you out of jail. \n",
            "gen_text 0 Put the TV in sleep mode\n",
            "\n",
            "\n",
            "Generating audio in 1 batches...\n",
            "gen_text 0 did you see that new store opened downtown?\n",
            "\n",
            "\n",
            "Generating audio in 1 batches...\n"
          ]
        },
        {
          "output_type": "stream",
          "name": "stderr",
          "text": [
            "  0%|          | 0/1 [00:00<?, ?it/s]\n",
            "  0%|          | 0/1 [00:00<?, ?it/s]\u001b[A\n",
            "\n",
            "  0%|          | 0/1 [00:00<?, ?it/s]\u001b[A\u001b[A\n",
            "\n",
            "100%|██████████| 1/1 [00:04<00:00,  4.22s/it]\n",
            "100%|██████████| 1/1 [00:04<00:00,  4.24s/it]\n",
            "100%|██████████| 1/1 [00:04<00:00,  4.24s/it]\n",
            "100%|██████████| 1/1 [00:04<00:00,  4.23s/it]\n"
          ]
        },
        {
          "output_type": "stream",
          "name": "stdout",
          "text": [
            "Converting audio...\n",
            "Using cached preprocessed reference audio...\n",
            "Using custom reference text...\n",
            "\n",
            "ref_text    Hello there, everyone, and welcome to the video. My name's Serenity Sol on Reacts, and here we are with Soap, series one, episode three season. It is American. I am enjoying this. It is extremely funny. I will be looking to get Benson when that, well, when these shows run out. I just want to say when that comes out, it's already out. \n",
            "gen_text 0 because I couldn't remember where I parked the car.\n",
            "\n",
            "\n",
            "Generating audio in 1 batches...\n",
            "Converting audio...\n",
            "Converting audio...\n"
          ]
        },
        {
          "output_type": "stream",
          "name": "stderr",
          "text": [
            "\r  0%|          | 0/1 [00:00<?, ?it/s]"
          ]
        },
        {
          "output_type": "stream",
          "name": "stdout",
          "text": [
            "Using cached preprocessed reference audio...\n",
            "Using custom reference text...\n",
            "\n",
            "ref_text    The mafia knew that having a stolen masterpiece is a get out of jail free card. The feds will deal with you. They'll let you out of jail. \n",
            "gen_text 0 And scroll down for the latest movies\n",
            "\n",
            "\n",
            "Generating audio in 1 batches...\n",
            "Using cached preprocessed reference audio...\n",
            "Using custom reference text...\n",
            "\n",
            "ref_text    On the back you can see some other new cars like Jenny Tolan, Bill Rebs, Vanden Kerr, and Andrew Vrooman, all of which I have reviewed before and I'll put links to some of them in the card suggestion pop-up and the links in the description. \n",
            "gen_text 0 previous channel, select this option.\n",
            "\n",
            "\n",
            "Generating audio in 1 batches...\n"
          ]
        },
        {
          "output_type": "stream",
          "name": "stderr",
          "text": [
            "\n",
            "  0%|          | 0/1 [00:00<?, ?it/s]\u001b[A\n",
            "\n",
            "100%|██████████| 1/1 [00:06<00:00,  6.12s/it]\n",
            "\n",
            "100%|██████████| 1/1 [00:06<00:00,  6.10s/it]\u001b[A\n",
            "\n",
            "100%|██████████| 1/1 [00:06<00:00,  6.10s/it]\n",
            "100%|██████████| 1/1 [00:06<00:00,  6.11s/it]\n"
          ]
        },
        {
          "output_type": "stream",
          "name": "stdout",
          "text": [
            "Worker 2 done (25 items)\n",
            "Converting audio...\n",
            "Using cached preprocessed reference audio...\n",
            "Using custom reference text...\n",
            "\n",
            "ref_text    She gave me to understand on the stairs that it was a blow to dear Mrs. Pocket that dear Mr. Pocket should be under the necessity of receiving gentlemen to read with him. \n",
            "gen_text 0 turn on the TV, previous channel.\n",
            "\n",
            "\n",
            "Generating audio in 1 batches...\n",
            "Converting audio...\n",
            "Using cached preprocessed reference audio...\n",
            "Using custom reference text...\n",
            "\n",
            "ref_text    Said Mr. Jaggers, coolly tracing out the sinews with his forefinger. Very few men have the power of wrist that this woman has. \n",
            "gen_text 0 Scroll up to find the best show, I can't believe it's already October! Also, switch to Discovery Family.\n",
            "\n",
            "\n",
            "Generating audio in 1 batches...\n"
          ]
        },
        {
          "output_type": "stream",
          "name": "stderr",
          "text": [
            "  0%|          | 0/1 [00:00<?, ?it/s]\n",
            "100%|██████████| 1/1 [00:06<00:00,  6.42s/it]\n",
            "\n",
            "100%|██████████| 1/1 [00:06<00:00,  6.42s/it]\n"
          ]
        },
        {
          "output_type": "stream",
          "name": "stdout",
          "text": [
            "Worker 3 done (25 items)\n",
            "Converting audio...\n",
            "Using cached preprocessed reference audio...\n",
            "Using custom reference text...\n",
            "\n",
            "ref_text    Said Mr. Jaggers, coolly tracing out the sinews with his forefinger. Very few men have the power of wrist that this woman has. \n",
            "gen_text 0 Scroll up to find the best show\n",
            "\n",
            "\n",
            "Generating audio in 1 batches...\n"
          ]
        },
        {
          "output_type": "stream",
          "name": "stderr",
          "text": [
            "100%|██████████| 1/1 [00:02<00:00,  2.33s/it]\n"
          ]
        },
        {
          "output_type": "stream",
          "name": "stdout",
          "text": [
            "Converting audio...\n",
            "Using cached preprocessed reference audio...\n",
            "Using custom reference text...\n",
            "\n",
            "ref_text    Said Mr. Jaggers, coolly tracing out the sinews with his forefinger. Very few men have the power of wrist that this woman has. \n",
            "gen_text 0 I can't believe it's already October!\n",
            "\n",
            "\n",
            "Generating audio in 1 batches...\n"
          ]
        },
        {
          "output_type": "stream",
          "name": "stderr",
          "text": [
            "100%|██████████| 1/1 [00:02<00:00,  2.37s/it]\n"
          ]
        },
        {
          "output_type": "stream",
          "name": "stdout",
          "text": [
            "Converting audio...\n",
            "Using cached preprocessed reference audio...\n",
            "Using custom reference text...\n",
            "\n",
            "ref_text    Said Mr. Jaggers, coolly tracing out the sinews with his forefinger. Very few men have the power of wrist that this woman has. \n",
            "gen_text 0 Also, switch to Discovery Family\n",
            "\n",
            "\n",
            "Generating audio in 1 batches...\n"
          ]
        },
        {
          "output_type": "stream",
          "name": "stderr",
          "text": [
            "100%|██████████| 1/1 [00:02<00:00,  2.33s/it]\n"
          ]
        },
        {
          "output_type": "stream",
          "name": "stdout",
          "text": [
            "Converting audio...\n",
            "Using cached preprocessed reference audio...\n",
            "Using custom reference text...\n",
            "\n",
            "ref_text    Well, I think you guys said it exactly right. You guys have hit on all the points. Um, you know, I know the NFL is pushing for a year suspension from what I'm hearing, but you know, I'm thinking it's going to be more six day games, um, you know, somewhere in that range. \n",
            "gen_text 0 Disable night mode while I finish this project, who do you think will win the game tonight? Let's change input to TuneIn Radio.\n",
            "\n",
            "\n",
            "Generating audio in 1 batches...\n"
          ]
        },
        {
          "output_type": "stream",
          "name": "stderr",
          "text": [
            "100%|██████████| 1/1 [00:02<00:00,  2.92s/it]\n"
          ]
        },
        {
          "output_type": "stream",
          "name": "stdout",
          "text": [
            "Converting audio...\n",
            "Using cached preprocessed reference audio...\n",
            "Using custom reference text...\n",
            "\n",
            "ref_text    Well, I think you guys said it exactly right. You guys have hit on all the points. Um, you know, I know the NFL is pushing for a year suspension from what I'm hearing, but you know, I'm thinking it's going to be more six day games, um, you know, somewhere in that range. \n",
            "gen_text 0 Disable night mode while I finish this project\n",
            "\n",
            "\n",
            "Generating audio in 1 batches...\n"
          ]
        },
        {
          "output_type": "stream",
          "name": "stderr",
          "text": [
            "100%|██████████| 1/1 [00:02<00:00,  2.29s/it]\n"
          ]
        },
        {
          "output_type": "stream",
          "name": "stdout",
          "text": [
            "Converting audio...\n",
            "Using cached preprocessed reference audio...\n",
            "Using custom reference text...\n",
            "\n",
            "ref_text    Well, I think you guys said it exactly right. You guys have hit on all the points. Um, you know, I know the NFL is pushing for a year suspension from what I'm hearing, but you know, I'm thinking it's going to be more six day games, um, you know, somewhere in that range. \n",
            "gen_text 0 who do you think will win the game tonight?\n",
            "\n",
            "\n",
            "Generating audio in 1 batches...\n"
          ]
        },
        {
          "output_type": "stream",
          "name": "stderr",
          "text": [
            "100%|██████████| 1/1 [00:02<00:00,  2.22s/it]\n"
          ]
        },
        {
          "output_type": "stream",
          "name": "stdout",
          "text": [
            "Converting audio...\n",
            "Using cached preprocessed reference audio...\n",
            "Using custom reference text...\n",
            "\n",
            "ref_text    Well, I think you guys said it exactly right. You guys have hit on all the points. Um, you know, I know the NFL is pushing for a year suspension from what I'm hearing, but you know, I'm thinking it's going to be more six day games, um, you know, somewhere in that range. \n",
            "gen_text 0 Let's change input to TuneIn Radio\n",
            "\n",
            "\n",
            "Generating audio in 1 batches...\n"
          ]
        },
        {
          "output_type": "stream",
          "name": "stderr",
          "text": [
            "100%|██████████| 1/1 [00:02<00:00,  2.18s/it]\n"
          ]
        },
        {
          "output_type": "stream",
          "name": "stdout",
          "text": [
            "Converting audio...\n",
            "Using cached preprocessed reference audio...\n",
            "Using custom reference text...\n",
            "\n",
            "ref_text    So involved was I in my escapist daydreams, I lost all track of the seconds racing by. Hey, what was the number? The cabbie's question punctured my fantasy, letting all the colors run out of my lovely delusions. Fear. \n",
            "gen_text 0 Have you seen The Lion King lately? It's such a classic!\n",
            "\n",
            "\n",
            "Generating audio in 1 batches...\n"
          ]
        },
        {
          "output_type": "stream",
          "name": "stderr",
          "text": [
            "100%|██████████| 1/1 [00:03<00:00,  3.77s/it]\n",
            "/usr/local/lib/python3.11/dist-packages/numpy/core/fromnumeric.py:59: FutureWarning: 'DataFrame.swapaxes' is deprecated and will be removed in a future version. Please use 'DataFrame.transpose' instead.\n",
            "  return bound(*args, **kwds)\n"
          ]
        },
        {
          "output_type": "stream",
          "name": "stdout",
          "text": [
            "Worker 4 done (25 items)\n",
            "Pipeline finished in 615.93s\n",
            "Download Vocos from huggingface charactr/vocos-mel-24khz\n",
            "Download Vocos from huggingface charactr/vocos-mel-24khz\n",
            "Download Vocos from huggingface charactr/vocos-mel-24khz\n",
            "Download Vocos from huggingface charactr/vocos-mel-24khz\n",
            "\n",
            "vocab :  /usr/local/lib/python3.11/dist-packages/f5_tts/infer/examples/vocab.txt\n",
            "token :  custom\n",
            "model :  /root/.cache/huggingface/hub/models--SWivid--F5-TTS/snapshots/84e5a410d9cead4de2f847e7c9369a6440bdfaca/F5TTS_v1_Base/model_1250000.safetensors \n",
            "\n",
            "\n",
            "vocab :  /usr/local/lib/python3.11/dist-packages/f5_tts/infer/examples/vocab.txt\n",
            "token :  custom\n",
            "model :  /root/.cache/huggingface/hub/models--SWivid--F5-TTS/snapshots/84e5a410d9cead4de2f847e7c9369a6440bdfaca/F5TTS_v1_Base/model_1250000.safetensors \n",
            "\n",
            "\n",
            "vocab :  /usr/local/lib/python3.11/dist-packages/f5_tts/infer/examples/vocab.txt\n",
            "token :  custom\n",
            "model :  /root/.cache/huggingface/hub/models--SWivid--F5-TTS/snapshots/84e5a410d9cead4de2f847e7c9369a6440bdfaca/F5TTS_v1_Base/model_1250000.safetensors \n",
            "\n",
            "\n",
            "vocab :  /usr/local/lib/python3.11/dist-packages/f5_tts/infer/examples/vocab.txt\n",
            "token :  custom\n",
            "model :  /root/.cache/huggingface/hub/models--SWivid--F5-TTS/snapshots/84e5a410d9cead4de2f847e7c9369a6440bdfaca/F5TTS_v1_Base/model_1250000.safetensors \n",
            "\n",
            "Converting audio...\n",
            "Using cached preprocessed reference audio...\n",
            "Using custom reference text...\n",
            "\n",
            "ref_text    I know that I just can't help it, love. So after all these years, you're finally gonna pop the question, huh?. \n",
            "gen_text 0 I just watched 'Never Back Down: Revolt' and it was surprisingly good!\n",
            "\n",
            "\n",
            "Generating audio in 1 batches...\n"
          ]
        },
        {
          "output_type": "stream",
          "name": "stderr",
          "text": [
            "\r  0%|          | 0/1 [00:00<?, ?it/s]"
          ]
        },
        {
          "output_type": "stream",
          "name": "stdout",
          "text": [
            "Converting audio...\n",
            "Using cached preprocessed reference audio...\n",
            "Using custom reference text...\n",
            "\n",
            "ref_text    It's funny, isn't it, how the people who do something that changes the world... \n",
            "gen_text 0 show me MTVMax after I finish this book I'm reading.\n",
            "\n",
            "\n",
            "Generating audio in 1 batches...\n"
          ]
        },
        {
          "output_type": "stream",
          "name": "stderr",
          "text": [
            "\n",
            "  0%|          | 0/1 [00:00<?, ?it/s]\u001b[A"
          ]
        },
        {
          "output_type": "stream",
          "name": "stdout",
          "text": [
            "Converting audio...\n",
            "Using cached preprocessed reference audio...\n",
            "Using custom reference text...\n",
            "\n",
            "ref_text    Charlie was pounding on my door. Bella, are you okay? What's going on? His voice was frightened. \n",
            "gen_text 0 set the volume to maximum, enable sleep timer for 30 minutes.\n",
            "\n",
            "\n",
            "Generating audio in 1 batches...\n"
          ]
        },
        {
          "output_type": "stream",
          "name": "stderr",
          "text": [
            "\n",
            "\n",
            "  0%|          | 0/1 [00:00<?, ?it/s]\u001b[A\u001b[A"
          ]
        },
        {
          "output_type": "stream",
          "name": "stdout",
          "text": [
            "Converting audio...\n",
            "Using cached preprocessed reference audio...\n",
            "Using custom reference text...\n",
            "\n",
            "ref_text    Looking at you it would be too easy to write songs about you. I need a challenge to bring out my best work. \n",
            "gen_text 0 close Amazon Music\n",
            "\n",
            "\n",
            "Generating audio in 1 batches...\n"
          ]
        },
        {
          "output_type": "stream",
          "name": "stderr",
          "text": [
            "\n",
            "\n",
            "\n",
            "100%|██████████| 1/1 [00:16<00:00, 16.34s/it]\n"
          ]
        },
        {
          "output_type": "stream",
          "name": "stdout",
          "text": [
            "Converting audio...\n",
            "Using cached preprocessed reference audio...\n",
            "Using custom reference text...\n",
            "\n",
            "ref_text    Well, that Johnny Gargano tells all. \n",
            "gen_text 0 Have you heard Justin Bieber's song 'Home To Mama'?\n",
            "gen_text 1 It's really catchy.\n",
            "\n",
            "\n",
            "Generating audio in 2 batches...\n"
          ]
        },
        {
          "output_type": "stream",
          "name": "stderr",
          "text": [
            "\r  0%|          | 0/2 [00:00<?, ?it/s]\n",
            "\n",
            "100%|██████████| 1/1 [00:15<00:00, 15.16s/it]\n",
            "\n",
            "100%|██████████| 1/1 [00:15<00:00, 15.19s/it]\u001b[A\n",
            "\n",
            "\n",
            "100%|██████████| 1/1 [00:15<00:00, 15.12s/it]\n",
            "100%|██████████| 1/1 [00:15<00:00, 15.20s/it]\n"
          ]
        },
        {
          "output_type": "stream",
          "name": "stdout",
          "text": [
            "Converting audio...\n",
            "Using cached preprocessed reference audio...\n",
            "Using custom reference text...\n",
            "\n",
            "ref_text    I just like the whole concept of YouTube, like if you work at McDonald's, you work eight hours and you get paid a certain amount of money, but if we put eight hours into our YouTube, depending on what we do, you can make, you can like, sky's the limit on what you can do with it. \n",
            "gen_text 0 Did you see the game last night? Mute the TV and rewind the last scene.\n",
            "\n",
            "\n",
            "Generating audio in 1 batches...\n",
            "Converting audio...\n"
          ]
        },
        {
          "output_type": "stream",
          "name": "stderr",
          "text": [
            "\n",
            "  0%|          | 0/1 [00:00<?, ?it/s]\u001b[A"
          ]
        },
        {
          "output_type": "stream",
          "name": "stdout",
          "text": [
            "Converting audio...\n",
            "Using cached preprocessed reference audio...\n",
            "Using custom reference text...\n",
            "\n",
            "ref_text    So involved was I in my escapist daydreams, I lost all track of the seconds racing by. Hey, what was the number? The cabbie's question punctured my fantasy, letting all the colors run out of my lovely delusions. Fear. \n",
            "gen_text 0 decrease the volume\n",
            "\n",
            "\n",
            "Generating audio in 1 batches...\n",
            "Using cached preprocessed reference audio...\n",
            "Using custom reference text...\n",
            "\n",
            "ref_text    It's funny, isn't it, how the people who do something that changes the world... \n",
            "gen_text 0 show me MTVMax\n",
            "\n",
            "\n",
            "Generating audio in 1 batches...\n"
          ]
        },
        {
          "output_type": "stream",
          "name": "stderr",
          "text": [
            "\n",
            "\n",
            "  0%|          | 0/1 [00:00<?, ?it/s]\u001b[A\u001b[A\n",
            "\n",
            "\n",
            " 50%|█████     | 1/2 [00:14<00:14, 14.06s/it]\n",
            "\n",
            "100%|██████████| 1/1 [00:13<00:00, 13.50s/it]\u001b[A\u001b[A\n",
            "100%|██████████| 1/1 [00:13<00:00, 13.51s/it]\n",
            "100%|██████████| 1/1 [00:13<00:00, 13.53s/it]\n"
          ]
        },
        {
          "output_type": "stream",
          "name": "stdout",
          "text": [
            "Converting audio...\n",
            "Using cached preprocessed reference audio...\n",
            "Using custom reference text...\n",
            "\n",
            "ref_text    As Drumwell and Startup had each a boat, I resolved to set up mine and to cut them both out. \n",
            "gen_text 0 set volume to 15\n",
            "\n",
            "\n",
            "Generating audio in 1 batches...\n",
            "Converting audio...\n",
            "Using cached preprocessed reference audio...\n",
            "Using custom reference text...\n",
            "\n",
            "ref_text    I just like the whole concept of YouTube, like if you work at McDonald's, you work eight hours and you get paid a certain amount of money, but if we put eight hours into our YouTube, depending on what we do, you can make, you can like, sky's the limit on what you can do with it. \n",
            "gen_text 0 Mute the TV\n",
            "\n",
            "\n",
            "Generating audio in 1 batches...\n"
          ]
        },
        {
          "output_type": "stream",
          "name": "stderr",
          "text": [
            "\n",
            "  0%|          | 0/1 [00:00<?, ?it/s]\u001b[A\n",
            "\n",
            "  0%|          | 0/1 [00:00<?, ?it/s]\u001b[A\u001b[A\n",
            "\n",
            "\n",
            "100%|██████████| 1/1 [00:13<00:00, 13.86s/it]\n"
          ]
        },
        {
          "output_type": "stream",
          "name": "stdout",
          "text": [
            "Converting audio...\n",
            "Using cached preprocessed reference audio...\n",
            "Using custom reference text...\n",
            "\n",
            "ref_text    It's funny, isn't it, how the people who do something that changes the world... \n",
            "gen_text 0 after I finish this book I'm reading.\n",
            "\n",
            "\n",
            "Generating audio in 1 batches...\n"
          ]
        },
        {
          "output_type": "stream",
          "name": "stderr",
          "text": [
            "\n",
            "\n",
            "\n",
            "100%|██████████| 2/2 [00:26<00:00, 13.13s/it]\n"
          ]
        },
        {
          "output_type": "stream",
          "name": "stdout",
          "text": [
            "Converting audio...\n",
            "Using cached preprocessed reference audio...\n",
            "Using custom reference text...\n",
            "\n",
            "ref_text    Investigate torture allegation, extrajudicial execution and other violations of human rights committed in Guantanamo. \n",
            "gen_text 0 I love the vibe of 'Office Christmas Party'; it always makes me laugh.\n",
            "\n",
            "\n",
            "Generating audio in 1 batches...\n"
          ]
        },
        {
          "output_type": "stream",
          "name": "stderr",
          "text": [
            "\r  0%|          | 0/1 [00:00<?, ?it/s]\n",
            "\n",
            "100%|██████████| 1/1 [00:12<00:00, 12.04s/it]\n",
            "\n",
            "100%|██████████| 1/1 [00:12<00:00, 12.05s/it]\n"
          ]
        },
        {
          "output_type": "stream",
          "name": "stdout",
          "text": [
            "Converting audio...\n",
            "Using cached preprocessed reference audio...\n",
            "Using custom reference text...\n",
            "\n",
            "ref_text    I just like the whole concept of YouTube, like if you work at McDonald's, you work eight hours and you get paid a certain amount of money, but if we put eight hours into our YouTube, depending on what we do, you can make, you can like, sky's the limit on what you can do with it. \n",
            "gen_text 0 Did you see the game last night?\n",
            "\n",
            "\n",
            "Generating audio in 1 batches...\n",
            "Converting audio...\n"
          ]
        },
        {
          "output_type": "stream",
          "name": "stderr",
          "text": [
            "\n",
            "  0%|          | 0/1 [00:00<?, ?it/s]\u001b[A"
          ]
        },
        {
          "output_type": "stream",
          "name": "stdout",
          "text": [
            "Using cached preprocessed reference audio...\n",
            "Using custom reference text...\n",
            "\n",
            "ref_text    Uhm, the dislocated right shoulder and all that stuff that, you know, I thought I may never play again. So that kind of put me on the fast track to a degenerative shoulder and all kinds of arthritic changes and stuff like that. So. \n",
            "gen_text 0 I can't believe you ate the last slice of pizza, set volume to 20.\n",
            "\n",
            "\n",
            "Generating audio in 1 batches...\n"
          ]
        },
        {
          "output_type": "stream",
          "name": "stderr",
          "text": [
            "\n",
            "\n",
            "  0%|          | 0/1 [00:00<?, ?it/s]\u001b[A\u001b[A\n",
            "\n",
            "\n",
            "100%|██████████| 1/1 [00:12<00:00, 12.06s/it]\n"
          ]
        },
        {
          "output_type": "stream",
          "name": "stdout",
          "text": [
            "Converting audio...\n",
            "Using cached preprocessed reference audio...\n",
            "Using custom reference text...\n",
            "\n",
            "ref_text    I like the video introduction. It's a great way to get started on the topic. \n",
            "gen_text 0 scroll down, and can you believe how fast time flies?\n",
            "\n",
            "\n",
            "Generating audio in 1 batches...\n"
          ]
        },
        {
          "output_type": "stream",
          "name": "stderr",
          "text": [
            "\n",
            "\n",
            "\n",
            "100%|██████████| 1/1 [00:10<00:00, 10.77s/it]\n",
            "100%|██████████| 1/1 [00:10<00:00, 10.55s/it]\n",
            "100%|██████████| 1/1 [00:10<00:00, 10.77s/it]\n",
            "\n",
            "\n",
            "100%|██████████| 1/1 [00:10<00:00, 10.54s/it]\n"
          ]
        },
        {
          "output_type": "stream",
          "name": "stdout",
          "text": [
            "Converting audio...\n",
            "Using cached preprocessed reference audio...\n",
            "Using custom reference text...\n",
            "\n",
            "ref_text    I just like the whole concept of YouTube, like if you work at McDonald's, you work eight hours and you get paid a certain amount of money, but if we put eight hours into our YouTube, depending on what we do, you can make, you can like, sky's the limit on what you can do with it. \n",
            "gen_text 0 rewind the last scene.\n",
            "\n",
            "\n",
            "Generating audio in 1 batches...\n",
            "Converting audio...\n",
            "Using cached preprocessed reference audio...\n",
            "Using custom reference text...\n",
            "\n",
            "ref_text    Uhm, the dislocated right shoulder and all that stuff that, you know, I thought I may never play again. So that kind of put me on the fast track to a degenerative shoulder and all kinds of arthritic changes and stuff like that. So. \n",
            "gen_text 0 I can't believe you ate the last slice of pizza,\n",
            "\n",
            "\n",
            "Generating audio in 1 batches...\n",
            "Converting audio...\n"
          ]
        },
        {
          "output_type": "stream",
          "name": "stderr",
          "text": [
            "\r  0%|          | 0/1 [00:00<?, ?it/s]"
          ]
        },
        {
          "output_type": "stream",
          "name": "stdout",
          "text": [
            "Using cached preprocessed reference audio...\n",
            "Using custom reference text...\n",
            "\n",
            "ref_text    Once we were into the trees, Edward slung me over his back without breaking stride. I gripped as tightly as possible as he took off, the others close on his heels. I kept my head down, but my eyes, wide with fright, wouldn't close. They plunged through the now black forest like wraiths. \n",
            "gen_text 0 I was listening to some Planetshakers music earlier today, and it really inspired me.\n",
            "\n",
            "\n",
            "Generating audio in 1 batches...\n"
          ]
        },
        {
          "output_type": "stream",
          "name": "stderr",
          "text": [
            "\n",
            "  0%|          | 0/1 [00:00<?, ?it/s]\u001b[A\n",
            "\n",
            "  0%|          | 0/1 [00:00<?, ?it/s]\u001b[A\u001b[A\n",
            "\n",
            "\n",
            "100%|██████████| 1/1 [00:10<00:00, 10.66s/it]\n"
          ]
        },
        {
          "output_type": "stream",
          "name": "stdout",
          "text": [
            "Converting audio...\n",
            "Using cached preprocessed reference audio...\n",
            "Using custom reference text...\n",
            "\n",
            "ref_text    I like the video introduction. It's a great way to get started on the topic. \n",
            "gen_text 0 scroll down\n",
            "\n",
            "\n",
            "Generating audio in 1 batches...\n"
          ]
        },
        {
          "output_type": "stream",
          "name": "stderr",
          "text": [
            "\n",
            "\n",
            "\n",
            "100%|██████████| 1/1 [00:10<00:00, 10.52s/it]\n",
            "\n",
            "100%|██████████| 1/1 [00:10<00:00, 10.51s/it]\n",
            "\n",
            "\n",
            "100%|██████████| 1/1 [00:10<00:00, 10.50s/it]\n"
          ]
        },
        {
          "output_type": "stream",
          "name": "stdout",
          "text": [
            "Converting audio...\n",
            "Using cached preprocessed reference audio...\n",
            "Using custom reference text...\n",
            "\n",
            "ref_text    Particularly among millennials, and I know millennials probably hate being called millennials, I'm sorry, whatever, but the fact. \n",
            "gen_text 0 I can’t believe she said that! Switch to AV mode and go back to the previous episode.\n",
            "\n",
            "\n",
            "Generating audio in 1 batches...\n",
            "Converting audio...\n",
            "Converting audio...\n",
            "Using cached preprocessed reference audio...\n",
            "Using custom reference text...\n",
            "\n",
            "ref_text    Uhm, the dislocated right shoulder and all that stuff that, you know, I thought I may never play again. So that kind of put me on the fast track to a degenerative shoulder and all kinds of arthritic changes and stuff like that. So. \n",
            "gen_text 0 set volume to 20.\n",
            "\n",
            "\n",
            "Generating audio in 1 batches...\n",
            "Using cached preprocessed reference audio...\n",
            "Using custom reference text...\n",
            "\n",
            "ref_text    Well sure, but that was so we could be a lawyer. Okay, so now we're a lawyer. Come on, I'll shoot you for a dollar. Uh, could you make it fifteen as a sort of a loan? Fifteen. I really need it very bad, boss. \n",
            "gen_text 0 record this show\n",
            "\n",
            "\n",
            "Generating audio in 1 batches...\n"
          ]
        },
        {
          "output_type": "stream",
          "name": "stderr",
          "text": [
            "  0%|          | 0/1 [00:00<?, ?it/s]\n",
            "  0%|          | 0/1 [00:00<?, ?it/s]\u001b[A\n",
            "\n",
            "  0%|          | 0/1 [00:00<?, ?it/s]\u001b[A\u001b[A\n",
            "\n",
            "\n",
            "100%|██████████| 1/1 [00:10<00:00, 10.48s/it]\n"
          ]
        },
        {
          "output_type": "stream",
          "name": "stdout",
          "text": [
            "Converting audio...\n",
            "Using cached preprocessed reference audio...\n",
            "Using custom reference text...\n",
            "\n",
            "ref_text    I like the video introduction. It's a great way to get started on the topic. \n",
            "gen_text 0 and can you believe how fast time flies?\n",
            "\n",
            "\n",
            "Generating audio in 1 batches...\n"
          ]
        },
        {
          "output_type": "stream",
          "name": "stderr",
          "text": [
            "\n",
            "\n",
            "\n",
            "  0%|          | 0/1 [00:00<?, ?it/s]\u001b[A\u001b[A\u001b[A"
          ]
        }
      ]
    },
    {
      "cell_type": "code",
      "source": [
        "!zip synthesis_command_0.zip /content/synthesis_command -r"
      ],
      "metadata": {
        "colab": {
          "base_uri": "https://localhost:8080/"
        },
        "id": "rRwMH8O5CXc-",
        "outputId": "f689add1-921e-4cb2-82df-301bafac9bf4"
      },
      "execution_count": 1,
      "outputs": [
        {
          "output_type": "stream",
          "name": "stdout",
          "text": [
            "  adding: content/synthesis_command/ (stored 0%)\n",
            "  adding: content/synthesis_command/synthesis_command_part_28/ (stored 0%)\n",
            "  adding: content/synthesis_command/synthesis_command_part_28/single_active_d6772e20/ (stored 0%)\n",
            "  adding: content/synthesis_command/synthesis_command_part_28/single_active_d6772e20/single_active_d6772e20_full.wav (deflated 40%)\n",
            "  adding: content/synthesis_command/synthesis_command_part_28/single_active_d6772e20/single_active_d6772e20.json (deflated 41%)\n",
            "  adding: content/synthesis_command/synthesis_command_part_28/non_active_868e673a/ (stored 0%)\n",
            "  adding: content/synthesis_command/synthesis_command_part_28/non_active_868e673a/non_active_868e673a_full.wav (deflated 22%)\n",
            "  adding: content/synthesis_command/synthesis_command_part_28/non_active_868e673a/non_active_868e673a.json (deflated 38%)\n",
            "  adding: content/synthesis_command/synthesis_command_part_28/single_active_e3c5c9ba/ (stored 0%)\n",
            "  adding: content/synthesis_command/synthesis_command_part_28/single_active_e3c5c9ba/single_active_e3c5c9ba_full.wav (deflated 16%)\n",
            "  adding: content/synthesis_command/synthesis_command_part_28/single_active_e3c5c9ba/single_active_e3c5c9ba.json (deflated 37%)\n",
            "  adding: content/synthesis_command/synthesis_command_part_28/chain_active_61726607/ (stored 0%)\n",
            "  adding: content/synthesis_command/synthesis_command_part_28/chain_active_61726607/chain_active_61726607_full.wav (deflated 31%)\n",
            "  adding: content/synthesis_command/synthesis_command_part_28/chain_active_61726607/chain_active_61726607.json (deflated 40%)\n",
            "  adding: content/synthesis_command/synthesis_command_part_28/chain_mix_62f652fb/ (stored 0%)\n",
            "  adding: content/synthesis_command/synthesis_command_part_28/chain_mix_62f652fb/chain_mix_62f652fb.json (deflated 51%)\n",
            "  adding: content/synthesis_command/synthesis_command_part_28/chain_mix_62f652fb/chain_mix_62f652fb_seg_2.wav (deflated 18%)\n",
            "  adding: content/synthesis_command/synthesis_command_part_28/chain_mix_62f652fb/chain_mix_62f652fb_seg_0.wav (deflated 22%)\n",
            "  adding: content/synthesis_command/synthesis_command_part_28/chain_mix_62f652fb/chain_mix_62f652fb_seg_1.wav (deflated 11%)\n",
            "  adding: content/synthesis_command/synthesis_command_part_28/chain_mix_62f652fb/chain_mix_62f652fb_full.wav (deflated 11%)\n",
            "  adding: content/synthesis_command/synthesis_command_part_28/non_active_12961627/ (stored 0%)\n",
            "  adding: content/synthesis_command/synthesis_command_part_28/non_active_12961627/non_active_12961627_full.wav (deflated 17%)\n",
            "  adding: content/synthesis_command/synthesis_command_part_28/non_active_12961627/non_active_12961627.json (deflated 42%)\n",
            "  adding: content/synthesis_command/synthesis_command_part_28/chain_active_08c19ccd/ (stored 0%)\n",
            "  adding: content/synthesis_command/synthesis_command_part_28/chain_active_08c19ccd/chain_active_08c19ccd.json (deflated 38%)\n",
            "  adding: content/synthesis_command/synthesis_command_part_28/chain_active_08c19ccd/chain_active_08c19ccd_full.wav (deflated 11%)\n",
            "  adding: content/synthesis_command/synthesis_command_part_28/chain_mix_ebb2bce2/ (stored 0%)\n",
            "  adding: content/synthesis_command/synthesis_command_part_28/chain_mix_ebb2bce2/chain_mix_ebb2bce2.json (deflated 50%)\n",
            "  adding: content/synthesis_command/synthesis_command_part_28/chain_mix_ebb2bce2/chain_mix_ebb2bce2_full.wav (deflated 14%)\n",
            "  adding: content/synthesis_command/synthesis_command_part_28/chain_mix_ebb2bce2/chain_mix_ebb2bce2_seg_0.wav (deflated 23%)\n",
            "  adding: content/synthesis_command/synthesis_command_part_28/chain_mix_ebb2bce2/chain_mix_ebb2bce2_seg_1.wav (deflated 22%)\n",
            "  adding: content/synthesis_command/synthesis_command_part_28/chain_active_50a29162/ (stored 0%)\n",
            "  adding: content/synthesis_command/synthesis_command_part_28/chain_active_50a29162/chain_active_50a29162_full.wav (deflated 23%)\n",
            "  adding: content/synthesis_command/synthesis_command_part_28/chain_active_50a29162/chain_active_50a29162.json (deflated 39%)\n",
            "  adding: content/synthesis_command/synthesis_command_part_28/single_active_fdea3e36/ (stored 0%)\n",
            "  adding: content/synthesis_command/synthesis_command_part_28/single_active_fdea3e36/single_active_fdea3e36_full.wav (deflated 13%)\n",
            "  adding: content/synthesis_command/synthesis_command_part_28/single_active_fdea3e36/single_active_fdea3e36.json (deflated 38%)\n",
            "  adding: content/synthesis_command/synthesis_command_part_28/chain_mix_1eccb70c/ (stored 0%)\n",
            "  adding: content/synthesis_command/synthesis_command_part_28/chain_mix_1eccb70c/chain_mix_1eccb70c_seg_1.wav (deflated 30%)\n",
            "  adding: content/synthesis_command/synthesis_command_part_28/chain_mix_1eccb70c/chain_mix_1eccb70c_full.wav (deflated 18%)\n",
            "  adding: content/synthesis_command/synthesis_command_part_28/chain_mix_1eccb70c/chain_mix_1eccb70c_seg_2.wav (deflated 40%)\n",
            "  adding: content/synthesis_command/synthesis_command_part_28/chain_mix_1eccb70c/chain_mix_1eccb70c.json (deflated 51%)\n",
            "  adding: content/synthesis_command/synthesis_command_part_28/chain_mix_1eccb70c/chain_mix_1eccb70c_seg_0.wav (deflated 32%)\n",
            "  adding: content/synthesis_command/synthesis_command_part_28/chain_active_2587cbe1/ (stored 0%)\n",
            "  adding: content/synthesis_command/synthesis_command_part_28/chain_active_2587cbe1/chain_active_2587cbe1_full.wav (deflated 43%)\n",
            "  adding: content/synthesis_command/synthesis_command_part_28/chain_active_2587cbe1/chain_active_2587cbe1.json (deflated 38%)\n",
            "  adding: content/synthesis_command/synthesis_command_part_28/non_active_386fc2bf/ (stored 0%)\n",
            "  adding: content/synthesis_command/synthesis_command_part_28/non_active_386fc2bf/non_active_386fc2bf_full.wav (deflated 40%)\n",
            "  adding: content/synthesis_command/synthesis_command_part_28/non_active_386fc2bf/non_active_386fc2bf.json (deflated 42%)\n",
            "  adding: content/synthesis_command/synthesis_command_part_28/chain_active_a66744ab/ (stored 0%)\n",
            "  adding: content/synthesis_command/synthesis_command_part_28/chain_active_a66744ab/chain_active_a66744ab.json (deflated 39%)\n",
            "  adding: content/synthesis_command/synthesis_command_part_28/chain_active_a66744ab/chain_active_a66744ab_full.wav (deflated 34%)\n",
            "  adding: content/synthesis_command/synthesis_command_part_28/chain_active_689f84e2/ (stored 0%)\n",
            "  adding: content/synthesis_command/synthesis_command_part_28/chain_active_689f84e2/chain_active_689f84e2.json (deflated 39%)\n",
            "  adding: content/synthesis_command/synthesis_command_part_28/chain_active_689f84e2/chain_active_689f84e2_full.wav (deflated 93%)\n",
            "  adding: content/synthesis_command/synthesis_command_part_28/single_active_4f54f7df/ (stored 0%)\n",
            "  adding: content/synthesis_command/synthesis_command_part_28/single_active_4f54f7df/single_active_4f54f7df_full.wav (deflated 22%)\n",
            "  adding: content/synthesis_command/synthesis_command_part_28/single_active_4f54f7df/single_active_4f54f7df.json (deflated 39%)\n",
            "  adding: content/synthesis_command/synthesis_command_part_28/non_active_f0bc9789/ (stored 0%)\n",
            "  adding: content/synthesis_command/synthesis_command_part_28/non_active_f0bc9789/non_active_f0bc9789_full.wav (deflated 23%)\n",
            "  adding: content/synthesis_command/synthesis_command_part_28/non_active_f0bc9789/non_active_f0bc9789.json (deflated 38%)\n",
            "  adding: content/synthesis_command/synthesis_command_part_28/chain_mix_688077ab/ (stored 0%)\n",
            "  adding: content/synthesis_command/synthesis_command_part_28/chain_mix_688077ab/chain_mix_688077ab_seg_1.wav (deflated 76%)\n",
            "  adding: content/synthesis_command/synthesis_command_part_28/chain_mix_688077ab/chain_mix_688077ab_seg_2.wav (deflated 28%)\n",
            "  adding: content/synthesis_command/synthesis_command_part_28/chain_mix_688077ab/chain_mix_688077ab_full.wav (deflated 29%)\n",
            "  adding: content/synthesis_command/synthesis_command_part_28/chain_mix_688077ab/chain_mix_688077ab_seg_0.wav (deflated 50%)\n",
            "  adding: content/synthesis_command/synthesis_command_part_28/chain_mix_688077ab/chain_mix_688077ab.json (deflated 49%)\n",
            "  adding: content/synthesis_command/synthesis_command_part_28/single_mix_e198553d/ (stored 0%)\n",
            "  adding: content/synthesis_command/synthesis_command_part_28/single_mix_e198553d/single_mix_e198553d.json (deflated 46%)\n",
            "  adding: content/synthesis_command/synthesis_command_part_28/single_mix_e198553d/single_mix_e198553d_seg_0.wav (deflated 38%)\n",
            "  adding: content/synthesis_command/synthesis_command_part_28/single_mix_e198553d/single_mix_e198553d_seg_1.wav (deflated 23%)\n",
            "  adding: content/synthesis_command/synthesis_command_part_28/single_mix_e198553d/single_mix_e198553d_full.wav (deflated 25%)\n",
            "  adding: content/synthesis_command/synthesis_command_part_28/single_active_55968ac2/ (stored 0%)\n",
            "  adding: content/synthesis_command/synthesis_command_part_28/single_active_55968ac2/single_active_55968ac2.json (deflated 38%)\n",
            "  adding: content/synthesis_command/synthesis_command_part_28/single_active_55968ac2/single_active_55968ac2_full.wav (deflated 32%)\n",
            "  adding: content/synthesis_command/synthesis_command_part_28/chain_mix_fc296487/ (stored 0%)\n",
            "  adding: content/synthesis_command/synthesis_command_part_28/chain_mix_fc296487/chain_mix_fc296487.json (deflated 53%)\n",
            "  adding: content/synthesis_command/synthesis_command_part_28/chain_mix_fc296487/chain_mix_fc296487_seg_2.wav (deflated 23%)\n",
            "  adding: content/synthesis_command/synthesis_command_part_28/chain_mix_fc296487/chain_mix_fc296487_seg_1.wav (deflated 18%)\n",
            "  adding: content/synthesis_command/synthesis_command_part_28/chain_mix_fc296487/chain_mix_fc296487_full.wav (deflated 15%)\n",
            "  adding: content/synthesis_command/synthesis_command_part_28/chain_mix_fc296487/chain_mix_fc296487_seg_0.wav (deflated 38%)\n",
            "  adding: content/synthesis_command/synthesis_command_part_28/chain_active_77460dcb/ (stored 0%)\n",
            "  adding: content/synthesis_command/synthesis_command_part_28/chain_active_77460dcb/chain_active_77460dcb_full.wav (deflated 25%)\n",
            "  adding: content/synthesis_command/synthesis_command_part_28/chain_active_77460dcb/chain_active_77460dcb.json (deflated 38%)\n",
            "  adding: content/synthesis_command/synthesis_command_part_28/chain_active_2205122b/ (stored 0%)\n",
            "  adding: content/synthesis_command/synthesis_command_part_28/chain_active_2205122b/chain_active_2205122b.json (deflated 37%)\n",
            "  adding: content/synthesis_command/synthesis_command_part_28/chain_active_2205122b/chain_active_2205122b_full.wav (deflated 28%)\n",
            "  adding: content/synthesis_command/synthesis_command_part_28/non_active_ebeae372/ (stored 0%)\n",
            "  adding: content/synthesis_command/synthesis_command_part_28/non_active_ebeae372/non_active_ebeae372.json (deflated 38%)\n",
            "  adding: content/synthesis_command/synthesis_command_part_28/non_active_ebeae372/non_active_ebeae372_full.wav (deflated 19%)\n",
            "  adding: content/synthesis_command/synthesis_command_part_28/single_mix_bdc9ab12/ (stored 0%)\n",
            "  adding: content/synthesis_command/synthesis_command_part_28/single_mix_bdc9ab12/single_mix_bdc9ab12.json (deflated 45%)\n",
            "  adding: content/synthesis_command/synthesis_command_part_28/single_mix_bdc9ab12/single_mix_bdc9ab12_seg_0.wav (deflated 53%)\n",
            "  adding: content/synthesis_command/synthesis_command_part_28/single_mix_bdc9ab12/single_mix_bdc9ab12_full.wav (deflated 19%)\n",
            "  adding: content/synthesis_command/synthesis_command_part_28/single_mix_bdc9ab12/single_mix_bdc9ab12_seg_1.wav (deflated 29%)\n",
            "  adding: content/synthesis_command/synthesis_command_part_28/chain_mix_b4aa303f/ (stored 0%)\n",
            "  adding: content/synthesis_command/synthesis_command_part_28/chain_mix_b4aa303f/chain_mix_b4aa303f_seg_0.wav (deflated 21%)\n",
            "  adding: content/synthesis_command/synthesis_command_part_28/chain_mix_b4aa303f/chain_mix_b4aa303f.json (deflated 50%)\n",
            "  adding: content/synthesis_command/synthesis_command_part_28/chain_mix_b4aa303f/chain_mix_b4aa303f_seg_1.wav (deflated 24%)\n",
            "  adding: content/synthesis_command/synthesis_command_part_28/chain_mix_b4aa303f/chain_mix_b4aa303f_seg_2.wav (deflated 23%)\n",
            "  adding: content/synthesis_command/synthesis_command_part_28/chain_mix_b4aa303f/chain_mix_b4aa303f_full.wav (deflated 15%)\n",
            "  adding: content/synthesis_command/synthesis_command_part_28/single_active_c772bf3f/ (stored 0%)\n",
            "  adding: content/synthesis_command/synthesis_command_part_28/single_active_c772bf3f/single_active_c772bf3f.json (deflated 42%)\n",
            "  adding: content/synthesis_command/synthesis_command_part_28/single_active_c772bf3f/single_active_c772bf3f_full.wav (deflated 93%)\n",
            "  adding: content/synthesis_command/synthesis_command_part_28/single_mix_042158e1/ (stored 0%)\n",
            "  adding: content/synthesis_command/synthesis_command_part_28/single_mix_042158e1/single_mix_042158e1_seg_2.wav (deflated 92%)\n",
            "  adding: content/synthesis_command/synthesis_command_part_28/single_mix_042158e1/single_mix_042158e1.json (deflated 48%)\n",
            "  adding: content/synthesis_command/synthesis_command_part_28/single_mix_042158e1/single_mix_042158e1_full.wav (deflated 33%)\n",
            "  adding: content/synthesis_command/synthesis_command_part_28/single_mix_042158e1/single_mix_042158e1_seg_1.wav (deflated 92%)\n",
            "  adding: content/synthesis_command/synthesis_command_part_28/single_mix_042158e1/single_mix_042158e1_seg_0.wav (deflated 50%)\n",
            "  adding: content/synthesis_command/synthesis_command_part_28/non_active_9fca73d5/ (stored 0%)\n",
            "  adding: content/synthesis_command/synthesis_command_part_28/non_active_9fca73d5/non_active_9fca73d5.json (deflated 37%)\n",
            "  adding: content/synthesis_command/synthesis_command_part_28/non_active_9fca73d5/non_active_9fca73d5_full.wav (deflated 24%)\n",
            "  adding: content/synthesis_command/synthesis_command_part_28/chain_active_fd0b6f81/ (stored 0%)\n",
            "  adding: content/synthesis_command/synthesis_command_part_28/chain_active_fd0b6f81/chain_active_fd0b6f81.json (deflated 39%)\n",
            "  adding: content/synthesis_command/synthesis_command_part_28/chain_active_fd0b6f81/chain_active_fd0b6f81_full.wav (deflated 28%)\n",
            "  adding: content/synthesis_command/synthesis_command_part_28/non_active_d45137e5/ (stored 0%)\n",
            "  adding: content/synthesis_command/synthesis_command_part_28/non_active_d45137e5/non_active_d45137e5.json (deflated 36%)\n",
            "  adding: content/synthesis_command/synthesis_command_part_28/non_active_d45137e5/non_active_d45137e5_full.wav (deflated 19%)\n",
            "  adding: content/synthesis_command/synthesis_command_part_28/chain_mix_9586ae17/ (stored 0%)\n",
            "  adding: content/synthesis_command/synthesis_command_part_28/chain_mix_9586ae17/chain_mix_9586ae17_seg_0.wav (deflated 28%)\n",
            "  adding: content/synthesis_command/synthesis_command_part_28/chain_mix_9586ae17/chain_mix_9586ae17_seg_1.wav (deflated 36%)\n",
            "  adding: content/synthesis_command/synthesis_command_part_28/chain_mix_9586ae17/chain_mix_9586ae17_seg_2.wav (deflated 48%)\n",
            "  adding: content/synthesis_command/synthesis_command_part_28/chain_mix_9586ae17/chain_mix_9586ae17.json (deflated 52%)\n",
            "  adding: content/synthesis_command/synthesis_command_part_28/chain_mix_9586ae17/chain_mix_9586ae17_full.wav (deflated 20%)\n",
            "  adding: content/synthesis_command/synthesis_command_part_28/chain_active_428f6b3f/ (stored 0%)\n",
            "  adding: content/synthesis_command/synthesis_command_part_28/chain_active_428f6b3f/chain_active_428f6b3f.json (deflated 38%)\n",
            "  adding: content/synthesis_command/synthesis_command_part_28/chain_active_428f6b3f/chain_active_428f6b3f_full.wav (deflated 18%)\n",
            "  adding: content/synthesis_command/synthesis_command_part_28/single_active_08c3b244/ (stored 0%)\n",
            "  adding: content/synthesis_command/synthesis_command_part_28/single_active_08c3b244/single_active_08c3b244_full.wav (deflated 36%)\n",
            "  adding: content/synthesis_command/synthesis_command_part_28/single_active_08c3b244/single_active_08c3b244.json (deflated 39%)\n",
            "  adding: content/synthesis_command/synthesis_command_part_28/non_active_51fa9ecc/ (stored 0%)\n",
            "  adding: content/synthesis_command/synthesis_command_part_28/non_active_51fa9ecc/non_active_51fa9ecc.json (deflated 38%)\n",
            "  adding: content/synthesis_command/synthesis_command_part_28/non_active_51fa9ecc/non_active_51fa9ecc_full.wav (deflated 23%)\n",
            "  adding: content/synthesis_command/synthesis_command_part_28/single_mix_e017cc1e/ (stored 0%)\n",
            "  adding: content/synthesis_command/synthesis_command_part_28/single_mix_e017cc1e/single_mix_e017cc1e.json (deflated 46%)\n",
            "  adding: content/synthesis_command/synthesis_command_part_28/single_mix_e017cc1e/single_mix_e017cc1e_seg_0.wav (deflated 58%)\n",
            "  adding: content/synthesis_command/synthesis_command_part_28/single_mix_e017cc1e/single_mix_e017cc1e_full.wav (deflated 32%)\n",
            "  adding: content/synthesis_command/synthesis_command_part_28/single_mix_e017cc1e/single_mix_e017cc1e_seg_1.wav (deflated 29%)\n",
            "  adding: content/synthesis_command/synthesis_command_part_28/chain_active_6151f2d5/ (stored 0%)\n",
            "  adding: content/synthesis_command/synthesis_command_part_28/chain_active_6151f2d5/chain_active_6151f2d5.json (deflated 39%)\n",
            "  adding: content/synthesis_command/synthesis_command_part_28/chain_active_6151f2d5/chain_active_6151f2d5_full.wav (deflated 49%)\n",
            "  adding: content/synthesis_command/synthesis_command_part_28/chain_active_1b0af142/ (stored 0%)\n",
            "  adding: content/synthesis_command/synthesis_command_part_28/chain_active_1b0af142/chain_active_1b0af142_full.wav (deflated 16%)\n",
            "  adding: content/synthesis_command/synthesis_command_part_28/chain_active_1b0af142/chain_active_1b0af142.json (deflated 41%)\n",
            "  adding: content/synthesis_command/synthesis_command_part_28/single_active_ba53a9a9/ (stored 0%)\n",
            "  adding: content/synthesis_command/synthesis_command_part_28/single_active_ba53a9a9/single_active_ba53a9a9_full.wav (deflated 21%)\n",
            "  adding: content/synthesis_command/synthesis_command_part_28/single_active_ba53a9a9/single_active_ba53a9a9.json (deflated 40%)\n",
            "  adding: content/synthesis_command/synthesis_command_part_28/non_active_5130dfce/ (stored 0%)\n",
            "  adding: content/synthesis_command/synthesis_command_part_28/non_active_5130dfce/non_active_5130dfce.json (deflated 39%)\n",
            "  adding: content/synthesis_command/synthesis_command_part_28/non_active_5130dfce/non_active_5130dfce_full.wav (deflated 21%)\n",
            "  adding: content/synthesis_command/synthesis_command_part_28/single_mix_5d213940/ (stored 0%)\n",
            "  adding: content/synthesis_command/synthesis_command_part_28/single_mix_5d213940/single_mix_5d213940_full.wav (deflated 14%)\n",
            "  adding: content/synthesis_command/synthesis_command_part_28/single_mix_5d213940/single_mix_5d213940_seg_0.wav (deflated 14%)\n",
            "  adding: content/synthesis_command/synthesis_command_part_28/single_mix_5d213940/single_mix_5d213940.json (deflated 50%)\n",
            "  adding: content/synthesis_command/synthesis_command_part_28/single_mix_5d213940/single_mix_5d213940_seg_1.wav (deflated 13%)\n",
            "  adding: content/synthesis_command/synthesis_command_part_28/chain_mix_85aaf0ab/ (stored 0%)\n",
            "  adding: content/synthesis_command/synthesis_command_part_28/chain_mix_85aaf0ab/chain_mix_85aaf0ab_seg_0.wav (deflated 16%)\n",
            "  adding: content/synthesis_command/synthesis_command_part_28/chain_mix_85aaf0ab/chain_mix_85aaf0ab_full.wav (deflated 14%)\n",
            "  adding: content/synthesis_command/synthesis_command_part_28/chain_mix_85aaf0ab/chain_mix_85aaf0ab_seg_1.wav (deflated 17%)\n",
            "  adding: content/synthesis_command/synthesis_command_part_28/chain_mix_85aaf0ab/chain_mix_85aaf0ab.json (deflated 50%)\n",
            "  adding: content/synthesis_command/synthesis_command_part_28/chain_active_1e7faaf1/ (stored 0%)\n",
            "  adding: content/synthesis_command/synthesis_command_part_28/chain_active_1e7faaf1/chain_active_1e7faaf1_full.wav (deflated 41%)\n",
            "  adding: content/synthesis_command/synthesis_command_part_28/chain_active_1e7faaf1/chain_active_1e7faaf1.json (deflated 38%)\n",
            "  adding: content/synthesis_command/synthesis_command_part_28/chain_active_22f3d47e/ (stored 0%)\n",
            "  adding: content/synthesis_command/synthesis_command_part_28/chain_active_22f3d47e/chain_active_22f3d47e_full.wav (deflated 40%)\n",
            "  adding: content/synthesis_command/synthesis_command_part_28/chain_active_22f3d47e/chain_active_22f3d47e.json (deflated 41%)\n",
            "  adding: content/synthesis_command/synthesis_command_part_28/chain_mix_a24d355b/ (stored 0%)\n",
            "  adding: content/synthesis_command/synthesis_command_part_28/chain_mix_a24d355b/chain_mix_a24d355b.json (deflated 49%)\n",
            "  adding: content/synthesis_command/synthesis_command_part_28/chain_mix_a24d355b/chain_mix_a24d355b_full.wav (deflated 17%)\n",
            "  adding: content/synthesis_command/synthesis_command_part_28/chain_mix_a24d355b/chain_mix_a24d355b_seg_1.wav (deflated 23%)\n",
            "  adding: content/synthesis_command/synthesis_command_part_28/chain_mix_a24d355b/chain_mix_a24d355b_seg_0.wav (deflated 33%)\n",
            "  adding: content/synthesis_command/synthesis_command_part_28/single_mix_a0501f62/ (stored 0%)\n",
            "  adding: content/synthesis_command/synthesis_command_part_28/single_mix_a0501f62/single_mix_a0501f62.json (deflated 47%)\n",
            "  adding: content/synthesis_command/synthesis_command_part_28/single_mix_a0501f62/single_mix_a0501f62_seg_0.wav (deflated 37%)\n",
            "  adding: content/synthesis_command/synthesis_command_part_28/single_mix_a0501f62/single_mix_a0501f62_seg_1.wav (deflated 24%)\n",
            "  adding: content/synthesis_command/synthesis_command_part_28/single_mix_a0501f62/single_mix_a0501f62_full.wav (deflated 20%)\n",
            "  adding: content/synthesis_command/synthesis_command_part_28/single_mix_059c6459/ (stored 0%)\n",
            "  adding: content/synthesis_command/synthesis_command_part_28/single_mix_059c6459/single_mix_059c6459_full.wav (deflated 23%)\n",
            "  adding: content/synthesis_command/synthesis_command_part_28/single_mix_059c6459/single_mix_059c6459_seg_1.wav (deflated 18%)\n",
            "  adding: content/synthesis_command/synthesis_command_part_28/single_mix_059c6459/single_mix_059c6459_seg_0.wav (deflated 28%)\n",
            "  adding: content/synthesis_command/synthesis_command_part_28/single_mix_059c6459/single_mix_059c6459.json (deflated 45%)\n",
            "  adding: content/synthesis_command/synthesis_command_part_28/single_active_d1c2f0f3/ (stored 0%)\n",
            "  adding: content/synthesis_command/synthesis_command_part_28/single_active_d1c2f0f3/single_active_d1c2f0f3.json (deflated 38%)\n",
            "  adding: content/synthesis_command/synthesis_command_part_28/single_active_d1c2f0f3/single_active_d1c2f0f3_full.wav (deflated 20%)\n",
            "  adding: content/synthesis_command/synthesis_command_part_28/chain_mix_75905a91/ (stored 0%)\n",
            "  adding: content/synthesis_command/synthesis_command_part_28/chain_mix_75905a91/chain_mix_75905a91_seg_1.wav (deflated 19%)\n",
            "  adding: content/synthesis_command/synthesis_command_part_28/chain_mix_75905a91/chain_mix_75905a91_seg_0.wav (deflated 26%)\n",
            "  adding: content/synthesis_command/synthesis_command_part_28/chain_mix_75905a91/chain_mix_75905a91_full.wav (deflated 19%)\n",
            "  adding: content/synthesis_command/synthesis_command_part_28/chain_mix_75905a91/chain_mix_75905a91.json (deflated 48%)\n",
            "  adding: content/synthesis_command/synthesis_command_part_28/single_mix_51157b71/ (stored 0%)\n",
            "  adding: content/synthesis_command/synthesis_command_part_28/single_mix_51157b71/single_mix_51157b71_full.wav (deflated 10%)\n",
            "  adding: content/synthesis_command/synthesis_command_part_28/single_mix_51157b71/single_mix_51157b71_seg_0.wav (deflated 47%)\n",
            "  adding: content/synthesis_command/synthesis_command_part_28/single_mix_51157b71/single_mix_51157b71.json (deflated 47%)\n",
            "  adding: content/synthesis_command/synthesis_command_part_28/single_mix_51157b71/single_mix_51157b71_seg_1.wav (deflated 19%)\n",
            "  adding: content/synthesis_command/synthesis_command_part_28/single_mix_3e69dfbb/ (stored 0%)\n",
            "  adding: content/synthesis_command/synthesis_command_part_28/single_mix_3e69dfbb/single_mix_3e69dfbb_full.wav (deflated 17%)\n",
            "  adding: content/synthesis_command/synthesis_command_part_28/single_mix_3e69dfbb/single_mix_3e69dfbb_seg_0.wav (deflated 29%)\n",
            "  adding: content/synthesis_command/synthesis_command_part_28/single_mix_3e69dfbb/single_mix_3e69dfbb_seg_1.wav (deflated 32%)\n",
            "  adding: content/synthesis_command/synthesis_command_part_28/single_mix_3e69dfbb/single_mix_3e69dfbb.json (deflated 45%)\n",
            "  adding: content/synthesis_command/synthesis_command_part_28/chain_mix_d6418655/ (stored 0%)\n",
            "  adding: content/synthesis_command/synthesis_command_part_28/chain_mix_d6418655/chain_mix_d6418655.json (deflated 50%)\n",
            "  adding: content/synthesis_command/synthesis_command_part_28/chain_mix_d6418655/chain_mix_d6418655_seg_1.wav (deflated 23%)\n",
            "  adding: content/synthesis_command/synthesis_command_part_28/chain_mix_d6418655/chain_mix_d6418655_seg_2.wav (deflated 30%)\n",
            "  adding: content/synthesis_command/synthesis_command_part_28/chain_mix_d6418655/chain_mix_d6418655_full.wav (deflated 27%)\n",
            "  adding: content/synthesis_command/synthesis_command_part_28/chain_mix_d6418655/chain_mix_d6418655_seg_0.wav (deflated 38%)\n",
            "  adding: content/synthesis_command/synthesis_command_part_28/synthesis_command_part_28.csv (deflated 73%)\n",
            "  adding: content/synthesis_command/synthesis_command_part_28/single_active_1ec7cff1/ (stored 0%)\n",
            "  adding: content/synthesis_command/synthesis_command_part_28/single_active_1ec7cff1/single_active_1ec7cff1_full.wav (deflated 60%)\n",
            "  adding: content/synthesis_command/synthesis_command_part_28/single_active_1ec7cff1/single_active_1ec7cff1.json (deflated 41%)\n",
            "  adding: content/synthesis_command/synthesis_command_part_28/single_active_a08a4189/ (stored 0%)\n",
            "  adding: content/synthesis_command/synthesis_command_part_28/single_active_a08a4189/single_active_a08a4189.json (deflated 39%)\n",
            "  adding: content/synthesis_command/synthesis_command_part_28/single_active_a08a4189/single_active_a08a4189_full.wav (deflated 24%)\n",
            "  adding: content/synthesis_command/synthesis_command_part_28/single_mix_d4b91da5/ (stored 0%)\n",
            "  adding: content/synthesis_command/synthesis_command_part_28/single_mix_d4b91da5/single_mix_d4b91da5_seg_1.wav (deflated 13%)\n",
            "  adding: content/synthesis_command/synthesis_command_part_28/single_mix_d4b91da5/single_mix_d4b91da5.json (deflated 46%)\n",
            "  adding: content/synthesis_command/synthesis_command_part_28/single_mix_d4b91da5/single_mix_d4b91da5_seg_0.wav (deflated 30%)\n",
            "  adding: content/synthesis_command/synthesis_command_part_28/single_mix_d4b91da5/single_mix_d4b91da5_full.wav (deflated 14%)\n",
            "  adding: content/synthesis_command/synthesis_command_part_28/chain_active_5d2bd56d/ (stored 0%)\n",
            "  adding: content/synthesis_command/synthesis_command_part_28/chain_active_5d2bd56d/chain_active_5d2bd56d.json (deflated 40%)\n",
            "  adding: content/synthesis_command/synthesis_command_part_28/chain_active_5d2bd56d/chain_active_5d2bd56d_full.wav (deflated 27%)\n",
            "  adding: content/synthesis_command/synthesis_command_part_28/non_active_3d37044a/ (stored 0%)\n",
            "  adding: content/synthesis_command/synthesis_command_part_28/non_active_3d37044a/non_active_3d37044a.json (deflated 39%)\n",
            "  adding: content/synthesis_command/synthesis_command_part_28/non_active_3d37044a/non_active_3d37044a_full.wav (deflated 16%)\n",
            "  adding: content/synthesis_command/synthesis_command_part_28/single_active_ae33f33e/ (stored 0%)\n",
            "  adding: content/synthesis_command/synthesis_command_part_28/single_active_ae33f33e/single_active_ae33f33e_full.wav (deflated 43%)\n",
            "  adding: content/synthesis_command/synthesis_command_part_28/single_active_ae33f33e/single_active_ae33f33e.json (deflated 37%)\n",
            "  adding: content/synthesis_command/synthesis_command_part_28/single_active_220ec0a5/ (stored 0%)\n",
            "  adding: content/synthesis_command/synthesis_command_part_28/single_active_220ec0a5/single_active_220ec0a5_full.wav (deflated 48%)\n",
            "  adding: content/synthesis_command/synthesis_command_part_28/single_active_220ec0a5/single_active_220ec0a5.json (deflated 39%)\n",
            "  adding: content/synthesis_command/synthesis_command_part_28/single_active_44c98afa/ (stored 0%)\n",
            "  adding: content/synthesis_command/synthesis_command_part_28/single_active_44c98afa/single_active_44c98afa.json (deflated 41%)\n",
            "  adding: content/synthesis_command/synthesis_command_part_28/single_active_44c98afa/single_active_44c98afa_full.wav (deflated 93%)\n",
            "  adding: content/synthesis_command/synthesis_command_part_28/chain_active_cc55f49b/ (stored 0%)\n",
            "  adding: content/synthesis_command/synthesis_command_part_28/chain_active_cc55f49b/chain_active_cc55f49b.json (deflated 38%)\n",
            "  adding: content/synthesis_command/synthesis_command_part_28/chain_active_cc55f49b/chain_active_cc55f49b_full.wav (deflated 23%)\n",
            "  adding: content/synthesis_command/synthesis_command_part_28/single_mix_75c35bab/ (stored 0%)\n",
            "  adding: content/synthesis_command/synthesis_command_part_28/single_mix_75c35bab/single_mix_75c35bab_seg_1.wav (deflated 24%)\n",
            "  adding: content/synthesis_command/synthesis_command_part_28/single_mix_75c35bab/single_mix_75c35bab.json (deflated 47%)\n",
            "  adding: content/synthesis_command/synthesis_command_part_28/single_mix_75c35bab/single_mix_75c35bab_seg_0.wav (deflated 41%)\n",
            "  adding: content/synthesis_command/synthesis_command_part_28/single_mix_75c35bab/single_mix_75c35bab_full.wav (deflated 31%)\n",
            "  adding: content/synthesis_command/synthesis_command_part_28/non_active_0fb9300a/ (stored 0%)\n",
            "  adding: content/synthesis_command/synthesis_command_part_28/non_active_0fb9300a/non_active_0fb9300a_full.wav (deflated 17%)\n",
            "  adding: content/synthesis_command/synthesis_command_part_28/non_active_0fb9300a/non_active_0fb9300a.json (deflated 37%)\n",
            "  adding: content/synthesis_command/synthesis_command_part_28/chain_active_4c14994b/ (stored 0%)\n",
            "  adding: content/synthesis_command/synthesis_command_part_28/chain_active_4c14994b/chain_active_4c14994b.json (deflated 38%)\n",
            "  adding: content/synthesis_command/synthesis_command_part_28/chain_active_4c14994b/chain_active_4c14994b_full.wav (deflated 15%)\n",
            "  adding: content/synthesis_command/synthesis_command_part_28/chain_mix_c54d84fe/ (stored 0%)\n",
            "  adding: content/synthesis_command/synthesis_command_part_28/chain_mix_c54d84fe/chain_mix_c54d84fe_seg_0.wav (deflated 37%)\n",
            "  adding: content/synthesis_command/synthesis_command_part_28/chain_mix_c54d84fe/chain_mix_c54d84fe_seg_1.wav (deflated 29%)\n",
            "  adding: content/synthesis_command/synthesis_command_part_28/chain_mix_c54d84fe/chain_mix_c54d84fe_full.wav (deflated 37%)\n",
            "  adding: content/synthesis_command/synthesis_command_part_28/chain_mix_c54d84fe/chain_mix_c54d84fe.json (deflated 50%)\n",
            "  adding: content/synthesis_command/synthesis_command_part_28/chain_mix_47305ae7/ (stored 0%)\n",
            "  adding: content/synthesis_command/synthesis_command_part_28/chain_mix_47305ae7/chain_mix_47305ae7_seg_1.wav (deflated 15%)\n",
            "  adding: content/synthesis_command/synthesis_command_part_28/chain_mix_47305ae7/chain_mix_47305ae7_seg_0.wav (deflated 20%)\n",
            "  adding: content/synthesis_command/synthesis_command_part_28/chain_mix_47305ae7/chain_mix_47305ae7_full.wav (deflated 12%)\n",
            "  adding: content/synthesis_command/synthesis_command_part_28/chain_mix_47305ae7/chain_mix_47305ae7.json (deflated 51%)\n",
            "  adding: content/synthesis_command/synthesis_command_part_28/chain_mix_47305ae7/chain_mix_47305ae7_seg_2.wav (deflated 16%)\n",
            "  adding: content/synthesis_command/synthesis_command_part_28/single_mix_3c7b7c06/ (stored 0%)\n",
            "  adding: content/synthesis_command/synthesis_command_part_28/single_mix_3c7b7c06/single_mix_3c7b7c06_seg_0.wav (deflated 24%)\n",
            "  adding: content/synthesis_command/synthesis_command_part_28/single_mix_3c7b7c06/single_mix_3c7b7c06_full.wav (deflated 24%)\n",
            "  adding: content/synthesis_command/synthesis_command_part_28/single_mix_3c7b7c06/single_mix_3c7b7c06.json (deflated 49%)\n",
            "  adding: content/synthesis_command/synthesis_command_part_28/single_mix_3c7b7c06/single_mix_3c7b7c06_seg_1.wav (deflated 21%)\n",
            "  adding: content/synthesis_command/synthesis_command_part_28/single_mix_5d5b15b5/ (stored 0%)\n",
            "  adding: content/synthesis_command/synthesis_command_part_28/single_mix_5d5b15b5/single_mix_5d5b15b5.json (deflated 47%)\n",
            "  adding: content/synthesis_command/synthesis_command_part_28/single_mix_5d5b15b5/single_mix_5d5b15b5_seg_1.wav (deflated 19%)\n",
            "  adding: content/synthesis_command/synthesis_command_part_28/single_mix_5d5b15b5/single_mix_5d5b15b5_seg_0.wav (deflated 28%)\n",
            "  adding: content/synthesis_command/synthesis_command_part_28/single_mix_5d5b15b5/single_mix_5d5b15b5_full.wav (deflated 17%)\n",
            "  adding: content/synthesis_command/synthesis_command_part_28/single_active_92ee0e64/ (stored 0%)\n",
            "  adding: content/synthesis_command/synthesis_command_part_28/single_active_92ee0e64/single_active_92ee0e64_full.wav (deflated 92%)\n",
            "  adding: content/synthesis_command/synthesis_command_part_28/single_active_92ee0e64/single_active_92ee0e64.json (deflated 43%)\n",
            "  adding: content/synthesis_command/synthesis_command_part_28/non_active_fe4181a6/ (stored 0%)\n",
            "  adding: content/synthesis_command/synthesis_command_part_28/non_active_fe4181a6/non_active_fe4181a6_full.wav (deflated 17%)\n",
            "  adding: content/synthesis_command/synthesis_command_part_28/non_active_fe4181a6/non_active_fe4181a6.json (deflated 40%)\n",
            "  adding: content/synthesis_command/synthesis_command_part_28/non_active_b64cb98a/ (stored 0%)\n",
            "  adding: content/synthesis_command/synthesis_command_part_28/non_active_b64cb98a/non_active_b64cb98a.json (deflated 40%)\n",
            "  adding: content/synthesis_command/synthesis_command_part_28/non_active_b64cb98a/non_active_b64cb98a_full.wav (deflated 30%)\n",
            "  adding: content/synthesis_command/synthesis_command_part_28/non_active_1ff6ec2a/ (stored 0%)\n",
            "  adding: content/synthesis_command/synthesis_command_part_28/non_active_1ff6ec2a/non_active_1ff6ec2a_full.wav (deflated 25%)\n",
            "  adding: content/synthesis_command/synthesis_command_part_28/non_active_1ff6ec2a/non_active_1ff6ec2a.json (deflated 38%)\n",
            "  adding: content/synthesis_command/synthesis_command_part_28/chain_active_2c8b4e22/ (stored 0%)\n",
            "  adding: content/synthesis_command/synthesis_command_part_28/chain_active_2c8b4e22/chain_active_2c8b4e22_full.wav (deflated 14%)\n",
            "  adding: content/synthesis_command/synthesis_command_part_28/chain_active_2c8b4e22/chain_active_2c8b4e22.json (deflated 37%)\n",
            "  adding: content/synthesis_command/synthesis_command_part_28/single_mix_001d2d32/ (stored 0%)\n",
            "  adding: content/synthesis_command/synthesis_command_part_28/single_mix_001d2d32/single_mix_001d2d32_seg_1.wav (deflated 92%)\n",
            "  adding: content/synthesis_command/synthesis_command_part_28/single_mix_001d2d32/single_mix_001d2d32.json (deflated 49%)\n",
            "  adding: content/synthesis_command/synthesis_command_part_28/single_mix_001d2d32/single_mix_001d2d32_seg_0.wav (deflated 41%)\n",
            "  adding: content/synthesis_command/synthesis_command_part_28/single_mix_001d2d32/single_mix_001d2d32_seg_2.wav (deflated 93%)\n",
            "  adding: content/synthesis_command/synthesis_command_part_28/single_mix_001d2d32/single_mix_001d2d32_full.wav (deflated 27%)\n",
            "  adding: content/synthesis_command/synthesis_command_part_28/non_active_654506dd/ (stored 0%)\n",
            "  adding: content/synthesis_command/synthesis_command_part_28/non_active_654506dd/non_active_654506dd_full.wav (deflated 18%)\n",
            "  adding: content/synthesis_command/synthesis_command_part_28/non_active_654506dd/non_active_654506dd.json (deflated 37%)\n",
            "  adding: content/synthesis_command/synthesis_command_part_28/single_mix_be6bd312/ (stored 0%)\n",
            "  adding: content/synthesis_command/synthesis_command_part_28/single_mix_be6bd312/single_mix_be6bd312_seg_2.wav (deflated 25%)\n",
            "  adding: content/synthesis_command/synthesis_command_part_28/single_mix_be6bd312/single_mix_be6bd312.json (deflated 49%)\n",
            "  adding: content/synthesis_command/synthesis_command_part_28/single_mix_be6bd312/single_mix_be6bd312_full.wav (deflated 14%)\n",
            "  adding: content/synthesis_command/synthesis_command_part_28/single_mix_be6bd312/single_mix_be6bd312_seg_0.wav (deflated 13%)\n",
            "  adding: content/synthesis_command/synthesis_command_part_28/single_mix_be6bd312/single_mix_be6bd312_seg_1.wav (deflated 19%)\n",
            "  adding: content/synthesis_command/synthesis_command_part_28/chain_mix_79086fc0/ (stored 0%)\n",
            "  adding: content/synthesis_command/synthesis_command_part_28/chain_mix_79086fc0/chain_mix_79086fc0_seg_0.wav (deflated 33%)\n",
            "  adding: content/synthesis_command/synthesis_command_part_28/chain_mix_79086fc0/chain_mix_79086fc0_full.wav (deflated 26%)\n",
            "  adding: content/synthesis_command/synthesis_command_part_28/chain_mix_79086fc0/chain_mix_79086fc0_seg_1.wav (deflated 31%)\n",
            "  adding: content/synthesis_command/synthesis_command_part_28/chain_mix_79086fc0/chain_mix_79086fc0.json (deflated 48%)\n",
            "  adding: content/synthesis_command/synthesis_command_part_28/single_active_32783bd2/ (stored 0%)\n",
            "  adding: content/synthesis_command/synthesis_command_part_28/single_active_32783bd2/single_active_32783bd2_full.wav (deflated 93%)\n",
            "  adding: content/synthesis_command/synthesis_command_part_28/single_active_32783bd2/single_active_32783bd2.json (deflated 39%)\n",
            "  adding: content/synthesis_command/synthesis_command_part_28/chain_active_eac473c1/ (stored 0%)\n",
            "  adding: content/synthesis_command/synthesis_command_part_28/chain_active_eac473c1/chain_active_eac473c1_full.wav (deflated 24%)\n",
            "  adding: content/synthesis_command/synthesis_command_part_28/chain_active_eac473c1/chain_active_eac473c1.json (deflated 40%)\n",
            "  adding: content/synthesis_command/synthesis_command_part_28/non_active_8b2ed509/ (stored 0%)\n",
            "  adding: content/synthesis_command/synthesis_command_part_28/non_active_8b2ed509/non_active_8b2ed509.json (deflated 38%)\n",
            "  adding: content/synthesis_command/synthesis_command_part_28/non_active_8b2ed509/non_active_8b2ed509_full.wav (deflated 17%)\n",
            "  adding: content/synthesis_command/synthesis_command_part_28/non_active_c228e290/ (stored 0%)\n",
            "  adding: content/synthesis_command/synthesis_command_part_28/non_active_c228e290/non_active_c228e290_full.wav (deflated 17%)\n",
            "  adding: content/synthesis_command/synthesis_command_part_28/non_active_c228e290/non_active_c228e290.json (deflated 38%)\n",
            "  adding: content/synthesis_command/synthesis_command_part_28/non_active_6be74cb9/ (stored 0%)\n",
            "  adding: content/synthesis_command/synthesis_command_part_28/non_active_6be74cb9/non_active_6be74cb9_full.wav (deflated 29%)\n",
            "  adding: content/synthesis_command/synthesis_command_part_28/non_active_6be74cb9/non_active_6be74cb9.json (deflated 36%)\n",
            "  adding: content/synthesis_command/synthesis_command_part_28/chain_mix_ca7a8cd3/ (stored 0%)\n",
            "  adding: content/synthesis_command/synthesis_command_part_28/chain_mix_ca7a8cd3/chain_mix_ca7a8cd3.json (deflated 51%)\n",
            "  adding: content/synthesis_command/synthesis_command_part_28/chain_mix_ca7a8cd3/chain_mix_ca7a8cd3_seg_1.wav (deflated 20%)\n",
            "  adding: content/synthesis_command/synthesis_command_part_28/chain_mix_ca7a8cd3/chain_mix_ca7a8cd3_full.wav (deflated 15%)\n",
            "  adding: content/synthesis_command/synthesis_command_part_28/chain_mix_ca7a8cd3/chain_mix_ca7a8cd3_seg_0.wav (deflated 29%)\n",
            "  adding: content/synthesis_command/synthesis_command_part_28/chain_mix_e1004a75/ (stored 0%)\n",
            "  adding: content/synthesis_command/synthesis_command_part_28/chain_mix_e1004a75/chain_mix_e1004a75_seg_2.wav (deflated 23%)\n",
            "  adding: content/synthesis_command/synthesis_command_part_28/chain_mix_e1004a75/chain_mix_e1004a75.json (deflated 51%)\n",
            "  adding: content/synthesis_command/synthesis_command_part_28/chain_mix_e1004a75/chain_mix_e1004a75_full.wav (deflated 12%)\n",
            "  adding: content/synthesis_command/synthesis_command_part_28/chain_mix_e1004a75/chain_mix_e1004a75_seg_0.wav (deflated 29%)\n",
            "  adding: content/synthesis_command/synthesis_command_part_28/chain_mix_e1004a75/chain_mix_e1004a75_seg_1.wav (deflated 23%)\n",
            "  adding: content/synthesis_command/synthesis_command_part_28/single_active_23d6b89e/ (stored 0%)\n",
            "  adding: content/synthesis_command/synthesis_command_part_28/single_active_23d6b89e/single_active_23d6b89e_full.wav (deflated 14%)\n",
            "  adding: content/synthesis_command/synthesis_command_part_28/single_active_23d6b89e/single_active_23d6b89e.json (deflated 40%)\n",
            "  adding: content/synthesis_command/synthesis_command_part_28/single_mix_21a03b8f/ (stored 0%)\n",
            "  adding: content/synthesis_command/synthesis_command_part_28/single_mix_21a03b8f/single_mix_21a03b8f_full.wav (deflated 14%)\n",
            "  adding: content/synthesis_command/synthesis_command_part_28/single_mix_21a03b8f/single_mix_21a03b8f_seg_2.wav (deflated 36%)\n",
            "  adding: content/synthesis_command/synthesis_command_part_28/single_mix_21a03b8f/single_mix_21a03b8f_seg_1.wav (deflated 49%)\n",
            "  adding: content/synthesis_command/synthesis_command_part_28/single_mix_21a03b8f/single_mix_21a03b8f.json (deflated 48%)\n",
            "  adding: content/synthesis_command/synthesis_command_part_28/single_mix_21a03b8f/single_mix_21a03b8f_seg_0.wav (deflated 21%)\n",
            "  adding: content/synthesis_command/synthesis_command_part_28/single_active_d190dc25/ (stored 0%)\n",
            "  adding: content/synthesis_command/synthesis_command_part_28/single_active_d190dc25/single_active_d190dc25.json (deflated 38%)\n",
            "  adding: content/synthesis_command/synthesis_command_part_28/single_active_d190dc25/single_active_d190dc25_full.wav (deflated 22%)\n",
            "  adding: content/synthesis_command/synthesis_command_part_28/single_active_52efb52c/ (stored 0%)\n",
            "  adding: content/synthesis_command/synthesis_command_part_28/single_active_52efb52c/single_active_52efb52c.json (deflated 38%)\n",
            "  adding: content/synthesis_command/synthesis_command_part_28/single_active_52efb52c/single_active_52efb52c_full.wav (deflated 62%)\n",
            "  adding: content/synthesis_command/synthesis_command_part_28/chain_mix_e2bde52f/ (stored 0%)\n",
            "  adding: content/synthesis_command/synthesis_command_part_28/chain_mix_e2bde52f/chain_mix_e2bde52f_seg_2.wav (deflated 31%)\n",
            "  adding: content/synthesis_command/synthesis_command_part_28/chain_mix_e2bde52f/chain_mix_e2bde52f_full.wav (deflated 13%)\n",
            "  adding: content/synthesis_command/synthesis_command_part_28/chain_mix_e2bde52f/chain_mix_e2bde52f.json (deflated 53%)\n",
            "  adding: content/synthesis_command/synthesis_command_part_28/chain_mix_e2bde52f/chain_mix_e2bde52f_seg_0.wav (deflated 21%)\n",
            "  adding: content/synthesis_command/synthesis_command_part_28/chain_mix_e2bde52f/chain_mix_e2bde52f_seg_1.wav (deflated 21%)\n",
            "  adding: content/synthesis_command/synthesis_command_part_28/single_active_d2e87562/ (stored 0%)\n",
            "  adding: content/synthesis_command/synthesis_command_part_28/single_active_d2e87562/single_active_d2e87562.json (deflated 39%)\n",
            "  adding: content/synthesis_command/synthesis_command_part_28/single_active_d2e87562/single_active_d2e87562_full.wav (deflated 49%)\n",
            "  adding: content/synthesis_command/synthesis_command_part_28/chain_mix_3710eb34/ (stored 0%)\n",
            "  adding: content/synthesis_command/synthesis_command_part_28/chain_mix_3710eb34/chain_mix_3710eb34_seg_2.wav (deflated 51%)\n",
            "  adding: content/synthesis_command/synthesis_command_part_28/chain_mix_3710eb34/chain_mix_3710eb34.json (deflated 49%)\n",
            "  adding: content/synthesis_command/synthesis_command_part_28/chain_mix_3710eb34/chain_mix_3710eb34_seg_0.wav (deflated 92%)\n",
            "  adding: content/synthesis_command/synthesis_command_part_28/chain_mix_3710eb34/chain_mix_3710eb34_full.wav (deflated 26%)\n",
            "  adding: content/synthesis_command/synthesis_command_part_28/chain_mix_3710eb34/chain_mix_3710eb34_seg_1.wav (deflated 94%)\n",
            "  adding: content/synthesis_command/synthesis_command_part_28/single_mix_45ec5500/ (stored 0%)\n",
            "  adding: content/synthesis_command/synthesis_command_part_28/single_mix_45ec5500/single_mix_45ec5500_full.wav (deflated 14%)\n",
            "  adding: content/synthesis_command/synthesis_command_part_28/single_mix_45ec5500/single_mix_45ec5500_seg_0.wav (deflated 29%)\n",
            "  adding: content/synthesis_command/synthesis_command_part_28/single_mix_45ec5500/single_mix_45ec5500.json (deflated 48%)\n",
            "  adding: content/synthesis_command/synthesis_command_part_28/single_mix_45ec5500/single_mix_45ec5500_seg_1.wav (deflated 28%)\n",
            "  adding: content/synthesis_command/synthesis_command_part_28/single_mix_462cfe8c/ (stored 0%)\n",
            "  adding: content/synthesis_command/synthesis_command_part_28/single_mix_462cfe8c/single_mix_462cfe8c_seg_0.wav (deflated 27%)\n",
            "  adding: content/synthesis_command/synthesis_command_part_28/single_mix_462cfe8c/single_mix_462cfe8c.json (deflated 49%)\n",
            "  adding: content/synthesis_command/synthesis_command_part_28/single_mix_462cfe8c/single_mix_462cfe8c_full.wav (deflated 34%)\n",
            "  adding: content/synthesis_command/synthesis_command_part_28/single_mix_462cfe8c/single_mix_462cfe8c_seg_1.wav (deflated 35%)\n",
            "  adding: content/synthesis_command/synthesis_command_part_28/single_mix_ea69c0cc/ (stored 0%)\n",
            "  adding: content/synthesis_command/synthesis_command_part_28/single_mix_ea69c0cc/single_mix_ea69c0cc.json (deflated 47%)\n",
            "  adding: content/synthesis_command/synthesis_command_part_28/single_mix_ea69c0cc/single_mix_ea69c0cc_full.wav (deflated 27%)\n",
            "  adding: content/synthesis_command/synthesis_command_part_28/single_mix_ea69c0cc/single_mix_ea69c0cc_seg_1.wav (deflated 27%)\n",
            "  adding: content/synthesis_command/synthesis_command_part_28/single_mix_ea69c0cc/single_mix_ea69c0cc_seg_0.wav (deflated 61%)\n",
            "  adding: content/synthesis_command/synthesis_command_part_28/chain_mix_9c3779ce/ (stored 0%)\n",
            "  adding: content/synthesis_command/synthesis_command_part_28/chain_mix_9c3779ce/chain_mix_9c3779ce_seg_1.wav (deflated 25%)\n",
            "  adding: content/synthesis_command/synthesis_command_part_28/chain_mix_9c3779ce/chain_mix_9c3779ce.json (deflated 46%)\n",
            "  adding: content/synthesis_command/synthesis_command_part_28/chain_mix_9c3779ce/chain_mix_9c3779ce_seg_0.wav (deflated 43%)\n",
            "  adding: content/synthesis_command/synthesis_command_part_28/chain_mix_9c3779ce/chain_mix_9c3779ce_full.wav (deflated 26%)\n",
            "  adding: content/synthesis_command/synthesis_command_part_28/single_mix_e85d64ac/ (stored 0%)\n",
            "  adding: content/synthesis_command/synthesis_command_part_28/single_mix_e85d64ac/single_mix_e85d64ac_seg_1.wav (deflated 92%)\n",
            "  adding: content/synthesis_command/synthesis_command_part_28/single_mix_e85d64ac/single_mix_e85d64ac_full.wav (deflated 68%)\n",
            "  adding: content/synthesis_command/synthesis_command_part_28/single_mix_e85d64ac/single_mix_e85d64ac_seg_0.wav (deflated 92%)\n",
            "  adding: content/synthesis_command/synthesis_command_part_28/single_mix_e85d64ac/single_mix_e85d64ac.json (deflated 48%)\n",
            "  adding: content/synthesis_command/synthesis_command_part_28/non_active_b55f17f3/ (stored 0%)\n",
            "  adding: content/synthesis_command/synthesis_command_part_28/non_active_b55f17f3/non_active_b55f17f3_full.wav (deflated 23%)\n",
            "  adding: content/synthesis_command/synthesis_command_part_28/non_active_b55f17f3/non_active_b55f17f3.json (deflated 38%)\n",
            "  adding: content/synthesis_command/synthesis_command_part_28/non_active_353c9fde/ (stored 0%)\n",
            "  adding: content/synthesis_command/synthesis_command_part_28/non_active_353c9fde/non_active_353c9fde.json (deflated 38%)\n",
            "  adding: content/synthesis_command/synthesis_command_part_28/non_active_353c9fde/non_active_353c9fde_full.wav (deflated 21%)\n",
            "  adding: content/synthesis_command/synthesis_command_part_28/chain_active_16d9f19f/ (stored 0%)\n",
            "  adding: content/synthesis_command/synthesis_command_part_28/chain_active_16d9f19f/chain_active_16d9f19f.json (deflated 38%)\n",
            "  adding: content/synthesis_command/synthesis_command_part_28/chain_active_16d9f19f/chain_active_16d9f19f_full.wav (deflated 17%)\n",
            "  adding: content/synthesis_command/synthesis_command_part_28/chain_mix_7a126ef9/ (stored 0%)\n",
            "  adding: content/synthesis_command/synthesis_command_part_28/chain_mix_7a126ef9/chain_mix_7a126ef9_seg_0.wav (deflated 41%)\n",
            "  adding: content/synthesis_command/synthesis_command_part_28/chain_mix_7a126ef9/chain_mix_7a126ef9_seg_1.wav (deflated 35%)\n",
            "  adding: content/synthesis_command/synthesis_command_part_28/chain_mix_7a126ef9/chain_mix_7a126ef9.json (deflated 50%)\n",
            "  adding: content/synthesis_command/synthesis_command_part_28/chain_mix_7a126ef9/chain_mix_7a126ef9_seg_2.wav (deflated 45%)\n",
            "  adding: content/synthesis_command/synthesis_command_part_28/chain_mix_7a126ef9/chain_mix_7a126ef9_full.wav (deflated 33%)\n",
            "  adding: content/synthesis_command/synthesis_command_part_38/ (stored 0%)\n",
            "  adding: content/synthesis_command/synthesis_command_part_38/chain_mix_486fc3d9/ (stored 0%)\n",
            "  adding: content/synthesis_command/synthesis_command_part_38/chain_mix_486fc3d9/chain_mix_486fc3d9_seg_0.wav (deflated 91%)\n",
            "  adding: content/synthesis_command/synthesis_command_part_38/chain_mix_486fc3d9/chain_mix_486fc3d9_seg_2.wav (deflated 92%)\n",
            "  adding: content/synthesis_command/synthesis_command_part_38/chain_mix_486fc3d9/chain_mix_486fc3d9.json (deflated 50%)\n",
            "  adding: content/synthesis_command/synthesis_command_part_38/chain_mix_486fc3d9/chain_mix_486fc3d9_seg_1.wav (deflated 67%)\n",
            "  adding: content/synthesis_command/synthesis_command_part_38/chain_mix_486fc3d9/chain_mix_486fc3d9_full.wav (deflated 27%)\n",
            "  adding: content/synthesis_command/synthesis_command_part_38/non_active_e6140bc1/ (stored 0%)\n",
            "  adding: content/synthesis_command/synthesis_command_part_38/non_active_e6140bc1/non_active_e6140bc1.json (deflated 39%)\n",
            "  adding: content/synthesis_command/synthesis_command_part_38/non_active_e6140bc1/non_active_e6140bc1_full.wav (deflated 17%)\n",
            "  adding: content/synthesis_command/synthesis_command_part_38/non_active_5919fe93/ (stored 0%)\n",
            "  adding: content/synthesis_command/synthesis_command_part_38/non_active_5919fe93/non_active_5919fe93.json (deflated 36%)\n",
            "  adding: content/synthesis_command/synthesis_command_part_38/non_active_5919fe93/non_active_5919fe93_full.wav (deflated 12%)\n",
            "  adding: content/synthesis_command/synthesis_command_part_38/single_mix_96811b65/ (stored 0%)\n",
            "  adding: content/synthesis_command/synthesis_command_part_38/single_mix_96811b65/single_mix_96811b65_full.wav (deflated 29%)\n",
            "  adding: content/synthesis_command/synthesis_command_part_38/single_mix_96811b65/single_mix_96811b65_seg_0.wav (deflated 26%)\n",
            "  adding: content/synthesis_command/synthesis_command_part_38/single_active_b0b438b5/ (stored 0%)\n",
            "  adding: content/synthesis_command/synthesis_command_part_38/single_active_b0b438b5/single_active_b0b438b5.json (deflated 39%)\n",
            "  adding: content/synthesis_command/synthesis_command_part_38/single_active_b0b438b5/single_active_b0b438b5_full.wav (deflated 38%)\n",
            "  adding: content/synthesis_command/synthesis_command_part_38/single_active_9e003300/ (stored 0%)\n",
            "  adding: content/synthesis_command/synthesis_command_part_38/single_active_9e003300/single_active_9e003300.json (deflated 39%)\n",
            "  adding: content/synthesis_command/synthesis_command_part_38/single_active_9e003300/single_active_9e003300_full.wav (deflated 21%)\n",
            "  adding: content/synthesis_command/synthesis_command_part_38/chain_active_789ea696/ (stored 0%)\n",
            "  adding: content/synthesis_command/synthesis_command_part_38/chain_active_789ea696/chain_active_789ea696_full.wav (deflated 16%)\n",
            "  adding: content/synthesis_command/synthesis_command_part_38/chain_active_789ea696/chain_active_789ea696.json (deflated 38%)\n",
            "  adding: content/synthesis_command/synthesis_command_part_38/single_mix_2467c62a/ (stored 0%)\n",
            "  adding: content/synthesis_command/synthesis_command_part_38/single_mix_2467c62a/single_mix_2467c62a_full.wav (deflated 13%)\n",
            "  adding: content/synthesis_command/synthesis_command_part_38/single_mix_2467c62a/single_mix_2467c62a_seg_1.wav (deflated 14%)\n",
            "  adding: content/synthesis_command/synthesis_command_part_38/single_mix_2467c62a/single_mix_2467c62a.json (deflated 46%)\n",
            "  adding: content/synthesis_command/synthesis_command_part_38/single_mix_2467c62a/single_mix_2467c62a_seg_0.wav (deflated 25%)\n",
            "  adding: content/synthesis_command/synthesis_command_part_38/single_mix_ec00bed3/ (stored 0%)\n",
            "  adding: content/synthesis_command/synthesis_command_part_38/single_mix_ec00bed3/single_mix_ec00bed3_full.wav (deflated 15%)\n",
            "  adding: content/synthesis_command/synthesis_command_part_38/single_mix_ec00bed3/single_mix_ec00bed3_seg_0.wav (deflated 28%)\n",
            "  adding: content/synthesis_command/synthesis_command_part_38/non_active_6b8b31cd/ (stored 0%)\n",
            "  adding: content/synthesis_command/synthesis_command_part_38/non_active_6b8b31cd/non_active_6b8b31cd.json (deflated 37%)\n",
            "  adding: content/synthesis_command/synthesis_command_part_38/non_active_6b8b31cd/non_active_6b8b31cd_full.wav (deflated 21%)\n",
            "  adding: content/synthesis_command/synthesis_command_part_38/single_active_e6390f39/ (stored 0%)\n",
            "  adding: content/synthesis_command/synthesis_command_part_38/single_active_e6390f39/single_active_e6390f39.json (deflated 39%)\n",
            "  adding: content/synthesis_command/synthesis_command_part_38/single_active_e6390f39/single_active_e6390f39_full.wav (deflated 93%)\n",
            "  adding: content/synthesis_command/synthesis_command_part_38/non_active_ca8078b1/ (stored 0%)\n",
            "  adding: content/synthesis_command/synthesis_command_part_38/non_active_ca8078b1/non_active_ca8078b1.json (deflated 37%)\n",
            "  adding: content/synthesis_command/synthesis_command_part_38/non_active_ca8078b1/non_active_ca8078b1_full.wav (deflated 17%)\n"
          ]
        }
      ]
    },
    {
      "cell_type": "code",
      "source": [],
      "metadata": {
        "id": "QibdcBwVOxLR"
      },
      "execution_count": null,
      "outputs": []
    }
  ]
}
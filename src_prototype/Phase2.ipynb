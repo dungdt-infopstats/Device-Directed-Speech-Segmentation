{
  "nbformat": 4,
  "nbformat_minor": 0,
  "metadata": {
    "colab": {
      "provenance": [],
      "gpuType": "T4",
      "machine_shape": "hm",
      "authorship_tag": "ABX9TyNKksRzN21rcGB4JnXQx4wn",
      "include_colab_link": true
    },
    "kernelspec": {
      "name": "python3",
      "display_name": "Python 3"
    },
    "language_info": {
      "name": "python"
    },
    "accelerator": "GPU"
  },
  "cells": [
    {
      "cell_type": "markdown",
      "metadata": {
        "id": "view-in-github",
        "colab_type": "text"
      },
      "source": [
        "<a href=\"https://colab.research.google.com/github/10udCryp7/TV-command-synthesis/blob/main/src_prototype/Phase2.ipynb\" target=\"_parent\"><img src=\"https://colab.research.google.com/assets/colab-badge.svg\" alt=\"Open In Colab\"/></a>"
      ]
    },
    {
      "cell_type": "code",
      "source": [
        "# F5-TTS\n",
        "!pip install -q f5-tts"
      ],
      "metadata": {
        "id": "oYB69oHn6KrE",
        "colab": {
          "base_uri": "https://localhost:8080/"
        },
        "outputId": "31c168ba-b491-4579-ba8b-4007cf819f6d"
      },
      "execution_count": 1,
      "outputs": [
        {
          "output_type": "stream",
          "name": "stdout",
          "text": [
            "\u001b[?25l     \u001b[90m━━━━━━━━━━━━━━━━━━━━━━━━━━━━━━━━━━━━━━━━\u001b[0m \u001b[32m0.0/61.0 kB\u001b[0m \u001b[31m?\u001b[0m eta \u001b[36m-:--:--\u001b[0m\r\u001b[2K     \u001b[90m━━━━━━━━━━━━━━━━━━━━━━━━━━━━━━━━━━━━━━━━\u001b[0m \u001b[32m61.0/61.0 kB\u001b[0m \u001b[31m3.1 MB/s\u001b[0m eta \u001b[36m0:00:00\u001b[0m\n",
            "\u001b[?25h  Preparing metadata (setup.py) ... \u001b[?25l\u001b[?25hdone\n",
            "\u001b[2K     \u001b[90m━━━━━━━━━━━━━━━━━━━━━━━━━━━━━━━━━━━━━━━━\u001b[0m \u001b[32m90.9/90.9 kB\u001b[0m \u001b[31m7.1 MB/s\u001b[0m eta \u001b[36m0:00:00\u001b[0m\n",
            "\u001b[2K     \u001b[90m━━━━━━━━━━━━━━━━━━━━━━━━━━━━━━━━━━━━━━━━\u001b[0m \u001b[32m3.7/3.7 MB\u001b[0m \u001b[31m53.6 MB/s\u001b[0m eta \u001b[36m0:00:00\u001b[0m\n",
            "\u001b[?25h  Preparing metadata (setup.py) ... \u001b[?25l\u001b[?25hdone\n",
            "\u001b[2K   \u001b[90m━━━━━━━━━━━━━━━━━━━━━━━━━━━━━━━━━━━━━━━━\u001b[0m \u001b[32m1.3/1.3 MB\u001b[0m \u001b[31m65.4 MB/s\u001b[0m eta \u001b[36m0:00:00\u001b[0m\n",
            "\u001b[2K   \u001b[90m━━━━━━━━━━━━━━━━━━━━━━━━━━━━━━━━━━━━━━━━\u001b[0m \u001b[32m61.3/61.3 MB\u001b[0m \u001b[31m41.0 MB/s\u001b[0m eta \u001b[36m0:00:00\u001b[0m\n",
            "\u001b[2K   \u001b[90m━━━━━━━━━━━━━━━━━━━━━━━━━━━━━━━━━━━━━━━━\u001b[0m \u001b[32m54.3/54.3 MB\u001b[0m \u001b[31m46.8 MB/s\u001b[0m eta \u001b[36m0:00:00\u001b[0m\n",
            "\u001b[2K   \u001b[90m━━━━━━━━━━━━━━━━━━━━━━━━━━━━━━━━━━━━━━━━\u001b[0m \u001b[32m323.9/323.9 kB\u001b[0m \u001b[31m27.9 MB/s\u001b[0m eta \u001b[36m0:00:00\u001b[0m\n",
            "\u001b[2K   \u001b[90m━━━━━━━━━━━━━━━━━━━━━━━━━━━━━━━━━━━━━━━━\u001b[0m \u001b[32m154.5/154.5 kB\u001b[0m \u001b[31m14.1 MB/s\u001b[0m eta \u001b[36m0:00:00\u001b[0m\n",
            "\u001b[2K   \u001b[90m━━━━━━━━━━━━━━━━━━━━━━━━━━━━━━━━━━━━━━━━\u001b[0m \u001b[32m18.3/18.3 MB\u001b[0m \u001b[31m107.2 MB/s\u001b[0m eta \u001b[36m0:00:00\u001b[0m\n",
            "\u001b[2K   \u001b[90m━━━━━━━━━━━━━━━━━━━━━━━━━━━━━━━━━━━━━━━━\u001b[0m \u001b[32m431.7/431.7 kB\u001b[0m \u001b[31m25.9 MB/s\u001b[0m eta \u001b[36m0:00:00\u001b[0m\n",
            "\u001b[2K   \u001b[90m━━━━━━━━━━━━━━━━━━━━━━━━━━━━━━━━━━━━━━━━\u001b[0m \u001b[32m2.0/2.0 MB\u001b[0m \u001b[31m91.2 MB/s\u001b[0m eta \u001b[36m0:00:00\u001b[0m\n",
            "\u001b[2K   \u001b[90m━━━━━━━━━━━━━━━━━━━━━━━━━━━━━━━━━━━━━━━━\u001b[0m \u001b[32m363.4/363.4 MB\u001b[0m \u001b[31m3.4 MB/s\u001b[0m eta \u001b[36m0:00:00\u001b[0m\n",
            "\u001b[2K   \u001b[90m━━━━━━━━━━━━━━━━━━━━━━━━━━━━━━━━━━━━━━━━\u001b[0m \u001b[32m13.8/13.8 MB\u001b[0m \u001b[31m128.0 MB/s\u001b[0m eta \u001b[36m0:00:00\u001b[0m\n",
            "\u001b[2K   \u001b[90m━━━━━━━━━━━━━━━━━━━━━━━━━━━━━━━━━━━━━━━━\u001b[0m \u001b[32m24.6/24.6 MB\u001b[0m \u001b[31m100.7 MB/s\u001b[0m eta \u001b[36m0:00:00\u001b[0m\n",
            "\u001b[2K   \u001b[90m━━━━━━━━━━━━━━━━━━━━━━━━━━━━━━━━━━━━━━━━\u001b[0m \u001b[32m883.7/883.7 kB\u001b[0m \u001b[31m56.1 MB/s\u001b[0m eta \u001b[36m0:00:00\u001b[0m\n",
            "\u001b[2K   \u001b[90m━━━━━━━━━━━━━━━━━━━━━━━━━━━━━━━━━━━━━━━━\u001b[0m \u001b[32m664.8/664.8 MB\u001b[0m \u001b[31m2.2 MB/s\u001b[0m eta \u001b[36m0:00:00\u001b[0m\n",
            "\u001b[2K   \u001b[90m━━━━━━━━━━━━━━━━━━━━━━━━━━━━━━━━━━━━━━━━\u001b[0m \u001b[32m211.5/211.5 MB\u001b[0m \u001b[31m5.1 MB/s\u001b[0m eta \u001b[36m0:00:00\u001b[0m\n",
            "\u001b[2K   \u001b[90m━━━━━━━━━━━━━━━━━━━━━━━━━━━━━━━━━━━━━━━━\u001b[0m \u001b[32m56.3/56.3 MB\u001b[0m \u001b[31m45.8 MB/s\u001b[0m eta \u001b[36m0:00:00\u001b[0m\n",
            "\u001b[2K   \u001b[90m━━━━━━━━━━━━━━━━━━━━━━━━━━━━━━━━━━━━━━━━\u001b[0m \u001b[32m127.9/127.9 MB\u001b[0m \u001b[31m20.5 MB/s\u001b[0m eta \u001b[36m0:00:00\u001b[0m\n",
            "\u001b[2K   \u001b[90m━━━━━━━━━━━━━━━━━━━━━━━━━━━━━━━━━━━━━━━━\u001b[0m \u001b[32m207.5/207.5 MB\u001b[0m \u001b[31m5.1 MB/s\u001b[0m eta \u001b[36m0:00:00\u001b[0m\n",
            "\u001b[2K   \u001b[90m━━━━━━━━━━━━━━━━━━━━━━━━━━━━━━━━━━━━━━━━\u001b[0m \u001b[32m188.7/188.7 MB\u001b[0m \u001b[31m5.9 MB/s\u001b[0m eta \u001b[36m0:00:00\u001b[0m\n",
            "\u001b[2K   \u001b[90m━━━━━━━━━━━━━━━━━━━━━━━━━━━━━━━━━━━━━━━━\u001b[0m \u001b[32m21.1/21.1 MB\u001b[0m \u001b[31m109.7 MB/s\u001b[0m eta \u001b[36m0:00:00\u001b[0m\n",
            "\u001b[2K   \u001b[90m━━━━━━━━━━━━━━━━━━━━━━━━━━━━━━━━━━━━━━━━\u001b[0m \u001b[32m91.7/91.7 kB\u001b[0m \u001b[31m8.8 MB/s\u001b[0m eta \u001b[36m0:00:00\u001b[0m\n",
            "\u001b[2K   \u001b[90m━━━━━━━━━━━━━━━━━━━━━━━━━━━━━━━━━━━━━━━━\u001b[0m \u001b[32m840.2/840.2 kB\u001b[0m \u001b[31m54.6 MB/s\u001b[0m eta \u001b[36m0:00:00\u001b[0m\n",
            "\u001b[2K   \u001b[90m━━━━━━━━━━━━━━━━━━━━━━━━━━━━━━━━━━━━━━━━\u001b[0m \u001b[32m236.0/236.0 kB\u001b[0m \u001b[31m19.4 MB/s\u001b[0m eta \u001b[36m0:00:00\u001b[0m\n",
            "\u001b[2K   \u001b[90m━━━━━━━━━━━━━━━━━━━━━━━━━━━━━━━━━━━━━━━━\u001b[0m \u001b[32m235.8/235.8 kB\u001b[0m \u001b[31m19.9 MB/s\u001b[0m eta \u001b[36m0:00:00\u001b[0m\n",
            "\u001b[2K   \u001b[90m━━━━━━━━━━━━━━━━━━━━━━━━━━━━━━━━━━━━━━━━\u001b[0m \u001b[32m140.1/140.1 kB\u001b[0m \u001b[31m13.3 MB/s\u001b[0m eta \u001b[36m0:00:00\u001b[0m\n",
            "\u001b[2K   \u001b[90m━━━━━━━━━━━━━━━━━━━━━━━━━━━━━━━━━━━━━━━━\u001b[0m \u001b[32m103.0/103.0 kB\u001b[0m \u001b[31m9.2 MB/s\u001b[0m eta \u001b[36m0:00:00\u001b[0m\n",
            "\u001b[2K   \u001b[90m━━━━━━━━━━━━━━━━━━━━━━━━━━━━━━━━━━━━━━━━\u001b[0m \u001b[32m61.6/61.6 kB\u001b[0m \u001b[31m5.7 MB/s\u001b[0m eta \u001b[36m0:00:00\u001b[0m\n",
            "\u001b[2K   \u001b[90m━━━━━━━━━━━━━━━━━━━━━━━━━━━━━━━━━━━━━━━━\u001b[0m \u001b[32m14.0/14.0 MB\u001b[0m \u001b[31m128.6 MB/s\u001b[0m eta \u001b[36m0:00:00\u001b[0m\n",
            "\u001b[2K   \u001b[90m━━━━━━━━━━━━━━━━━━━━━━━━━━━━━━━━━━━━━━━━\u001b[0m \u001b[32m85.3/85.3 kB\u001b[0m \u001b[31m7.3 MB/s\u001b[0m eta \u001b[36m0:00:00\u001b[0m\n",
            "\u001b[?25h  Building wheel for transformers_stream_generator (setup.py) ... \u001b[?25l\u001b[?25hdone\n",
            "  Building wheel for encodec (setup.py) ... \u001b[?25l\u001b[?25hdone\n",
            "\u001b[31mERROR: pip's dependency resolver does not currently take into account all the packages that are installed. This behaviour is the source of the following dependency conflicts.\n",
            "thinc 8.3.6 requires numpy<3.0.0,>=2.0.0, but you have numpy 1.26.4 which is incompatible.\n",
            "opencv-python-headless 4.12.0.88 requires numpy<2.3.0,>=2; python_version >= \"3.9\", but you have numpy 1.26.4 which is incompatible.\n",
            "opencv-contrib-python 4.12.0.88 requires numpy<2.3.0,>=2; python_version >= \"3.9\", but you have numpy 1.26.4 which is incompatible.\n",
            "opencv-python 4.12.0.88 requires numpy<2.3.0,>=2; python_version >= \"3.9\", but you have numpy 1.26.4 which is incompatible.\u001b[0m\u001b[31m\n",
            "\u001b[0m"
          ]
        }
      ]
    },
    {
      "cell_type": "code",
      "source": [
        "# Reference Speech\n",
        "!gdown 1uTreohCIiYSlrQTa3fuH1_IQjdeW1SaE --quiet\n",
        "# Reference Meta (including Text)\n",
        "!gdown 1PBs6r3cqhFxWzy9s5wrGpF6-5ZnoOWxE --quiet\n",
        "\n",
        "!unzip -q audio.zip -d audio\n",
        "!unzip -q json.zip -d json"
      ],
      "metadata": {
        "id": "BZbnEWUL9fUD"
      },
      "execution_count": 1,
      "outputs": []
    },
    {
      "cell_type": "code",
      "source": [
        "import gdown\n",
        "\n",
        "gid = '1IQ6Pz4_S-bIcL-N_ZKzo-cO3yAPnySL6'\n",
        "url = f\"https://drive.google.com/uc?id={gid}\"\n",
        "\n",
        "output = gdown.download(url, quiet=False)  # output sẽ là tên file đã tải"
      ],
      "metadata": {
        "id": "KdRyFUj59hZU",
        "colab": {
          "base_uri": "https://localhost:8080/"
        },
        "outputId": "4534d7c5-09d5-4d96-b54e-75316345f8c4"
      },
      "execution_count": 3,
      "outputs": [
        {
          "output_type": "stream",
          "name": "stderr",
          "text": [
            "Downloading...\n",
            "From: https://drive.google.com/uc?id=1IQ6Pz4_S-bIcL-N_ZKzo-cO3yAPnySL6\n",
            "To: /content/example_command.csv\n",
            "100%|██████████| 976/976 [00:00<00:00, 3.08MB/s]\n"
          ]
        }
      ]
    },
    {
      "cell_type": "code",
      "source": [
        "import pandas as pd\n",
        "text_command = pd.read_csv(output)"
      ],
      "metadata": {
        "id": "Iv3kyenm9kcx"
      },
      "execution_count": 4,
      "outputs": []
    },
    {
      "cell_type": "code",
      "source": [
        "import os\n",
        "import json\n",
        "import soundfile as sf\n",
        "import pandas as pd\n",
        "import random\n",
        "import ast\n",
        "import numpy as np\n",
        "import uuid\n",
        "from concurrent.futures import ThreadPoolExecutor\n",
        "import multiprocessing as mp\n",
        "from pathlib import Path\n",
        "import time\n",
        "from typing import Any, List\n",
        "from importlib.resources import files\n",
        "from f5_tts.api import F5TTS\n",
        "\n",
        "class ReferenceCache:\n",
        "    def __init__(self, audio_folder_path: str, json_folder_path: str):\n",
        "        self.audio_folder_path = Path(audio_folder_path)\n",
        "        self.json_folder_path = Path(json_folder_path)\n",
        "        self._audio_files = None\n",
        "        self._json_files = None\n",
        "        self._ref_texts = {}\n",
        "\n",
        "    @property\n",
        "    def audio_files(self):\n",
        "        if self._audio_files is None:\n",
        "            self._audio_files = [f for f in self.audio_folder_path.iterdir() if f.is_file()]\n",
        "        return self._audio_files\n",
        "\n",
        "    @property\n",
        "    def json_files(self):\n",
        "        if self._json_files is None:\n",
        "            self._json_files = [f for f in self.json_folder_path.iterdir() if f.suffix == '.json']\n",
        "        return self._json_files\n",
        "\n",
        "    def get_ref_text(self, json_path: Path) -> str:\n",
        "        if str(json_path) not in self._ref_texts:\n",
        "            with open(json_path, 'r', encoding='utf-8') as f:\n",
        "                data = json.load(f)\n",
        "                self._ref_texts[str(json_path)] = data.get('text', '')\n",
        "        return self._ref_texts[str(json_path)]\n",
        "\n",
        "    def sample_reference(self):\n",
        "        audio_file = random.choice(self.audio_files)\n",
        "        json_file = random.choice(self.json_files)\n",
        "        ref_id = json_file.stem\n",
        "        ref_speech_path = str(audio_file)\n",
        "        ref_text = self.get_ref_text(json_file)\n",
        "        return ref_id, ref_speech_path, ref_text"
      ],
      "metadata": {
        "id": "PydQZuRQ_9A9"
      },
      "execution_count": 1,
      "outputs": []
    },
    {
      "cell_type": "code",
      "execution_count": 3,
      "metadata": {
        "id": "sLGEgwVFtfTJ"
      },
      "outputs": [],
      "source": [
        "import os\n",
        "import json\n",
        "import soundfile as sf\n",
        "import pandas as pd\n",
        "import random\n",
        "import ast\n",
        "import numpy as np\n",
        "import uuid\n",
        "from concurrent.futures import ThreadPoolExecutor\n",
        "import multiprocessing as mp\n",
        "from pathlib import Path\n",
        "import time\n",
        "from typing import Any, List\n",
        "from importlib.resources import files\n",
        "from f5_tts.api import F5TTS\n",
        "\n",
        "class SpeechSynthesis:\n",
        "  def __init__(self, ref_folder_path, json_folder_path, num_workers):\n",
        "    self.ref_folder_path = ref_folder_path\n",
        "    self.json_folder_path = json_folder_path\n",
        "    self.num_workers = num_workers\n",
        "\n",
        "  def load_model(self):\n",
        "    f5tts = F5TTS(device = 'cuda')\n",
        "    return f5tts\n",
        "\n",
        "\n",
        "  def audio_generate(self, command: str, model, ref_file: str = \"\", ref_text: str = \"\"):\n",
        "      wav, sr, spec = model.infer(\n",
        "          ref_file=ref_file,\n",
        "          ref_text=ref_text,\n",
        "          gen_text=command,\n",
        "          seed=None,\n",
        "      )\n",
        "      return wav, sr, spec\n",
        "\n",
        "  def process_single_command(self, row: pd.Series, ref_cache: ReferenceCache, export_path: str, model: Any):\n",
        "    try:\n",
        "        ref_id, ref_speech_path, ref_text = ref_cache.sample_reference()\n",
        "        wav, sr, _ = self.audio_generate(row['text'], model, ref_speech_path, ref_text)\n",
        "\n",
        "        cur_id = row['id']\n",
        "        cmd_path = Path(export_path) / f\"{row['type']}_{cur_id}\"\n",
        "        cmd_path.mkdir(parents=True, exist_ok=True)\n",
        "\n",
        "        # Save full audio\n",
        "        sf.write(cmd_path / f\"{row['type']}_{cur_id}_full.wav\", wav, sr)\n",
        "\n",
        "        type_segments = {}\n",
        "        text_segments = {}\n",
        "\n",
        "        if pd.notna(row['segments']) and row['segments'] not in [None, \"\", \"nan\"]:\n",
        "            seg_list = ast.literal_eval(row['segments'])\n",
        "            for count, seg in enumerate(seg_list):\n",
        "                key = list(seg.keys())[0]\n",
        "                seg_wav, seg_sr, _ = self.audio_generate(seg[key], model, ref_speech_path, ref_text)\n",
        "                sf.write(cmd_path / f\"{row['type']}_{cur_id}_seg_{count}.wav\", seg_wav, seg_sr)\n",
        "                list_key = list(seg.keys())\n",
        "                type_segments[list_key[0]] = seg[list_key[1]] if len(list_key) > 1 else \"\"\n",
        "                text_segments[list_key[0]] = seg[list_key[0]]\n",
        "\n",
        "        json_template = {\n",
        "            \"id\": cur_id,\n",
        "            \"type\": row['type'],\n",
        "            \"command\": row['text'],\n",
        "            \"sampling_rate\": sr,\n",
        "            \"num_segments\": len(type_segments),\n",
        "            \"type_segments\": type_segments,\n",
        "            \"text_segments\": text_segments,\n",
        "            \"ref_id\": ref_id,\n",
        "            \"ref_file\": ref_speech_path,\n",
        "            \"ref_text\": ref_text\n",
        "        }\n",
        "        with open(cmd_path / f\"{row['type']}_{cur_id}.json\", 'w', encoding='utf-8') as f:\n",
        "            json.dump(json_template, f, ensure_ascii=False, indent=2)\n",
        "\n",
        "        return json_template\n",
        "    except Exception as e:\n",
        "        print(f\"Failed to process: {row['text']}, error: {e}\")\n",
        "        return None\n",
        "\n",
        "\n",
        "  def worker_task(self, rows: List[pd.Series], ref_folder: str, json_folder: str, export_path: str):\n",
        "      # Mỗi worker load model riêng\n",
        "      model = self.load_model()\n",
        "      ref_cache = ReferenceCache(ref_folder, json_folder)\n",
        "      results = []\n",
        "      for row in rows:\n",
        "          res = self.process_single_command(row, ref_cache, export_path, model)\n",
        "          if res:\n",
        "              results.append(res)\n",
        "      return results\n",
        "\n",
        "  def command_synthesis_pipeline_multi_model(\n",
        "    self,\n",
        "    text_command,\n",
        "    export_path\n",
        "  ):\n",
        "    start_time = time.time()\n",
        "    os.makedirs(export_path, exist_ok=True)\n",
        "\n",
        "    if self.num_workers is None:\n",
        "        self.num_workers = min(mp.cpu_count(), 4)  # Giới hạn số model load\n",
        "\n",
        "    # Chia dữ liệu thành N phần, mỗi worker xử lý riêng\n",
        "    chunks = np.array_split(text_command, self.num_workers)\n",
        "\n",
        "    all_results = []\n",
        "    with ThreadPoolExecutor(max_workers=self.num_workers) as executor:\n",
        "        futures = [\n",
        "            executor.submit(self.worker_task, chunk.to_dict('records'), self.ref_folder_path, self.json_folder_path, export_path)\n",
        "            for chunk in chunks\n",
        "        ]\n",
        "        for i, future in enumerate(futures):\n",
        "            res_list = future.result()\n",
        "            all_results.extend(res_list)\n",
        "            print(f\"Worker {i+1} done ({len(res_list)} items)\")\n",
        "\n",
        "    print(f\"Pipeline finished in {time.time() - start_time:.2f}s\")\n",
        "    return pd.DataFrame(all_results)\n",
        "\n"
      ]
    },
    {
      "cell_type": "code",
      "source": [
        "import gdown\n",
        "\n",
        "gid = '1-ybzVnJ66wA9lElzlw1kn-xUK1Ls0SO6'\n",
        "url = f\"https://drive.google.com/uc?id={gid}\"\n",
        "\n",
        "output = gdown.download(url, quiet=False)  # output sẽ là tên file đã tải"
      ],
      "metadata": {
        "colab": {
          "base_uri": "https://localhost:8080/"
        },
        "id": "HVzIdoMcBWZ_",
        "outputId": "9acf5527-82ac-4937-d64a-654f89fc9108"
      },
      "execution_count": 4,
      "outputs": [
        {
          "output_type": "stream",
          "name": "stderr",
          "text": [
            "Downloading...\n",
            "From: https://drive.google.com/uc?id=1-ybzVnJ66wA9lElzlw1kn-xUK1Ls0SO6\n",
            "To: /content/text-command.zip\n",
            "100%|██████████| 4.14M/4.14M [00:00<00:00, 77.1MB/s]\n"
          ]
        }
      ]
    },
    {
      "cell_type": "code",
      "source": [
        "!unzip -q {output}"
      ],
      "metadata": {
        "id": "HcNX13tSBi1K"
      },
      "execution_count": 10,
      "outputs": []
    },
    {
      "cell_type": "code",
      "source": [
        "param = {\n",
        "    'ref_folder_path': \"audio/dung\",\n",
        "    'json_folder_path': \"json/dung\",\n",
        "    'num_workers': 16,\n",
        "}\n",
        "\n",
        "csv_folder = 'text-command'\n",
        "export_folder = 'synthesis_command'\n",
        "\n",
        "def main(export_folder):\n",
        "  list_speech_df = []\n",
        "  speech_synthesis = SpeechSynthesis(**param)\n",
        "  for idx, csv_file in enumerate(os.listdir(csv_folder)):\n",
        "    if csv_file.endswith('.csv'):\n",
        "      csv_path = os.path.join(csv_folder, csv_file)\n",
        "      df = pd.read_csv(csv_path)\n",
        "    else:\n",
        "      continue\n",
        "    export_path = f'{export_folder}/synthesis_command_{idx}'\n",
        "    os.makedirs(export_path, exist_ok=True)\n",
        "    df_res = speech_synthesis.command_synthesis_pipeline_multi_model(df, export_path=export_path)\n",
        "    list_speech_df.append(df_res)\n",
        "\n",
        "    df_path = os.path.join(export_path, f'synthesis_command_{idx}.csv')\n",
        "    df.to_csv(df_path, index=False)\n",
        "\n",
        "  list_speech_df = pd.concat(list_speech_df)\n",
        "  list_speech_df.to_csv('synthesis_command.csv', index=False)"
      ],
      "metadata": {
        "id": "LDCJAXX16TJB"
      },
      "execution_count": 5,
      "outputs": []
    },
    {
      "cell_type": "code",
      "source": [
        "if __name__ == '__main__':\n",
        "  main(export_folder = export_folder)"
      ],
      "metadata": {
        "id": "4MhRnbPfAEEm",
        "colab": {
          "base_uri": "https://localhost:8080/"
        },
        "outputId": "b901ce35-c4d0-437f-e5b2-c1ac82ae25a2"
      },
      "execution_count": null,
      "outputs": [
        {
          "output_type": "stream",
          "name": "stderr",
          "text": [
            "/usr/local/lib/python3.11/dist-packages/numpy/core/fromnumeric.py:59: FutureWarning: 'DataFrame.swapaxes' is deprecated and will be removed in a future version. Please use 'DataFrame.transpose' instead.\n",
            "  return bound(*args, **kwds)\n"
          ]
        },
        {
          "output_type": "stream",
          "name": "stdout",
          "text": [
            "Download Vocos from huggingface charactr/vocos-mel-24khz\n",
            "Download Vocos from huggingface charactr/vocos-mel-24khz\n",
            "Download Vocos from huggingface charactr/vocos-mel-24khz\n",
            "Download Vocos from huggingface charactr/vocos-mel-24khz\n",
            "Download Vocos from huggingface charactr/vocos-mel-24khz\n",
            "Download Vocos from huggingface charactr/vocos-mel-24khz\n",
            "Download Vocos from huggingface charactr/vocos-mel-24khz\n",
            "Download Vocos from huggingface charactr/vocos-mel-24khz\n",
            "Download Vocos from huggingface charactr/vocos-mel-24khz\n",
            "Download Vocos from huggingface charactr/vocos-mel-24khz\n",
            "Download Vocos from huggingface charactr/vocos-mel-24khz\n",
            "Download Vocos from huggingface charactr/vocos-mel-24khz\n",
            "Download Vocos from huggingface charactr/vocos-mel-24khz\n",
            "Download Vocos from huggingface charactr/vocos-mel-24khz\n",
            "Download Vocos from huggingface charactr/vocos-mel-24khz\n",
            "Download Vocos from huggingface charactr/vocos-mel-24khz\n"
          ]
        },
        {
          "output_type": "stream",
          "name": "stderr",
          "text": [
            "/usr/local/lib/python3.11/dist-packages/huggingface_hub/utils/_auth.py:94: UserWarning: \n",
            "The secret `HF_TOKEN` does not exist in your Colab secrets.\n",
            "To authenticate with the Hugging Face Hub, create a token in your settings tab (https://huggingface.co/settings/tokens), set it as secret in your Google Colab and restart your session.\n",
            "You will be able to reuse this secret in all of your notebooks.\n",
            "Please note that authentication is recommended but still optional to access public models or datasets.\n",
            "  warnings.warn(\n"
          ]
        },
        {
          "output_type": "stream",
          "name": "stdout",
          "text": [
            "\n",
            "vocab :  /usr/local/lib/python3.11/dist-packages/f5_tts/infer/examples/vocab.txt\n",
            "token :  custom\n",
            "model :  /root/.cache/huggingface/hub/models--SWivid--F5-TTS/snapshots/84e5a410d9cead4de2f847e7c9369a6440bdfaca/F5TTS_v1_Base/model_1250000.safetensors \n",
            "\n",
            "\n",
            "vocab :  /usr/local/lib/python3.11/dist-packages/f5_tts/infer/examples/vocab.txt\n",
            "token :  custom\n",
            "model :  /root/.cache/huggingface/hub/models--SWivid--F5-TTS/snapshots/84e5a410d9cead4de2f847e7c9369a6440bdfaca/F5TTS_v1_Base/model_1250000.safetensors \n",
            "\n",
            "\n",
            "vocab :  /usr/local/lib/python3.11/dist-packages/f5_tts/infer/examples/vocab.txt\n",
            "token :  custom\n",
            "model :  /root/.cache/huggingface/hub/models--SWivid--F5-TTS/snapshots/84e5a410d9cead4de2f847e7c9369a6440bdfaca/F5TTS_v1_Base/model_1250000.safetensors \n",
            "\n",
            "\n",
            "vocab :  /usr/local/lib/python3.11/dist-packages/f5_tts/infer/examples/vocab.txt\n",
            "token :  custom\n",
            "model :  /root/.cache/huggingface/hub/models--SWivid--F5-TTS/snapshots/84e5a410d9cead4de2f847e7c9369a6440bdfaca/F5TTS_v1_Base/model_1250000.safetensors \n",
            "\n",
            "\n",
            "vocab :  /usr/local/lib/python3.11/dist-packages/f5_tts/infer/examples/vocab.txt\n",
            "token :  custom\n",
            "model :  /root/.cache/huggingface/hub/models--SWivid--F5-TTS/snapshots/84e5a410d9cead4de2f847e7c9369a6440bdfaca/F5TTS_v1_Base/model_1250000.safetensors \n",
            "\n",
            "\n",
            "vocab :  /usr/local/lib/python3.11/dist-packages/f5_tts/infer/examples/vocab.txt\n",
            "token :  custom\n",
            "model :  /root/.cache/huggingface/hub/models--SWivid--F5-TTS/snapshots/84e5a410d9cead4de2f847e7c9369a6440bdfaca/F5TTS_v1_Base/model_1250000.safetensors \n",
            "\n",
            "\n",
            "vocab :  /usr/local/lib/python3.11/dist-packages/f5_tts/infer/examples/vocab.txt\n",
            "token :  custom\n",
            "model :  /root/.cache/huggingface/hub/models--SWivid--F5-TTS/snapshots/84e5a410d9cead4de2f847e7c9369a6440bdfaca/F5TTS_v1_Base/model_1250000.safetensors \n",
            "\n",
            "\n",
            "vocab :  /usr/local/lib/python3.11/dist-packages/f5_tts/infer/examples/vocab.txt\n",
            "token :  custom\n",
            "model :  /root/.cache/huggingface/hub/models--SWivid--F5-TTS/snapshots/84e5a410d9cead4de2f847e7c9369a6440bdfaca/F5TTS_v1_Base/model_1250000.safetensors \n",
            "\n",
            "\n",
            "vocab :  /usr/local/lib/python3.11/dist-packages/f5_tts/infer/examples/vocab.txt\n",
            "token :  custom\n",
            "model :  /root/.cache/huggingface/hub/models--SWivid--F5-TTS/snapshots/84e5a410d9cead4de2f847e7c9369a6440bdfaca/F5TTS_v1_Base/model_1250000.safetensors \n",
            "\n",
            "\n",
            "vocab :  /usr/local/lib/python3.11/dist-packages/f5_tts/infer/examples/vocab.txt\n",
            "token :  custom\n",
            "model :  /root/.cache/huggingface/hub/models--SWivid--F5-TTS/snapshots/84e5a410d9cead4de2f847e7c9369a6440bdfaca/F5TTS_v1_Base/model_1250000.safetensors \n",
            "\n",
            "\n",
            "vocab :  /usr/local/lib/python3.11/dist-packages/f5_tts/infer/examples/vocab.txt\n",
            "token :  custom\n",
            "model :  /root/.cache/huggingface/hub/models--SWivid--F5-TTS/snapshots/84e5a410d9cead4de2f847e7c9369a6440bdfaca/F5TTS_v1_Base/model_1250000.safetensors \n",
            "\n",
            "\n",
            "vocab :  /usr/local/lib/python3.11/dist-packages/f5_tts/infer/examples/vocab.txt\n",
            "token :  custom\n",
            "model :  /root/.cache/huggingface/hub/models--SWivid--F5-TTS/snapshots/84e5a410d9cead4de2f847e7c9369a6440bdfaca/F5TTS_v1_Base/model_1250000.safetensors \n",
            "\n",
            "\n",
            "vocab :  /usr/local/lib/python3.11/dist-packages/f5_tts/infer/examples/vocab.txt\n",
            "token :  custom\n",
            "model :  /root/.cache/huggingface/hub/models--SWivid--F5-TTS/snapshots/84e5a410d9cead4de2f847e7c9369a6440bdfaca/F5TTS_v1_Base/model_1250000.safetensors \n",
            "\n",
            "\n",
            "vocab :  /usr/local/lib/python3.11/dist-packages/f5_tts/infer/examples/vocab.txt\n",
            "token :  custom\n",
            "model :  /root/.cache/huggingface/hub/models--SWivid--F5-TTS/snapshots/84e5a410d9cead4de2f847e7c9369a6440bdfaca/F5TTS_v1_Base/model_1250000.safetensors \n",
            "\n",
            "\n",
            "vocab :  /usr/local/lib/python3.11/dist-packages/f5_tts/infer/examples/vocab.txt\n",
            "token :  custom\n",
            "model :  /root/.cache/huggingface/hub/models--SWivid--F5-TTS/snapshots/84e5a410d9cead4de2f847e7c9369a6440bdfaca/F5TTS_v1_Base/model_1250000.safetensors \n",
            "\n",
            "\n",
            "vocab :  /usr/local/lib/python3.11/dist-packages/f5_tts/infer/examples/vocab.txt\n",
            "token :  custom\n",
            "model :  /root/.cache/huggingface/hub/models--SWivid--F5-TTS/snapshots/84e5a410d9cead4de2f847e7c9369a6440bdfaca/F5TTS_v1_Base/model_1250000.safetensors \n",
            "\n",
            "Converting audio...\n",
            "Using custom reference text...\n",
            "\n",
            "ref_text    Uh, really came out strong and played well. It was good to see, you know, the offense first drive of the game, take it right down the field, 11 plays, get a touchdown. \n",
            "gen_text 0 disable game mode\n",
            "\n",
            "\n",
            "Generating audio in 1 batches...\n"
          ]
        },
        {
          "output_type": "stream",
          "name": "stderr",
          "text": [
            "  0%|          | 0/1 [00:01<?, ?it/s]\n"
          ]
        },
        {
          "output_type": "stream",
          "name": "stdout",
          "text": [
            "Converting audio...\n",
            "Failed to process: disable game mode, error: CUDA out of memory. Tried to allocate 20.00 MiB. GPU 0 has a total capacity of 14.74 GiB of which 16.12 MiB is free. Process 91174 has 14.72 GiB memory in use. Of the allocated memory 14.52 GiB is allocated by PyTorch, and 68.57 MiB is reserved by PyTorch but unallocated. If reserved but unallocated memory is large try setting PYTORCH_CUDA_ALLOC_CONF=expandable_segments:True to avoid fragmentation.  See documentation for Memory Management  (https://pytorch.org/docs/stable/notes/cuda.html#environment-variables)\n",
            "Audio is over 12s, clipping short. (2)\n",
            "Converting audio...\n",
            "Using custom reference text...\n",
            "\n",
            "ref_text    The awareness that our time is limited, that our life will eventually end, has driven humans to search for a way out. \n",
            "gen_text 0 Turn off subtitles, set the volume to minimum, and did you remember to grab the groceries?\n",
            "\n",
            "\n",
            "Generating audio in 1 batches...\n"
          ]
        },
        {
          "output_type": "stream",
          "name": "stderr",
          "text": [
            "\r  0%|          | 0/1 [00:00<?, ?it/s]"
          ]
        },
        {
          "output_type": "stream",
          "name": "stdout",
          "text": [
            "Using custom reference text...\n",
            "\n",
            "ref_text    Is it a problem that I don't understand most of what you're trying to explain? You don't? I don't. \n",
            "gen_text 0 decrease the volume to 10\n",
            "\n",
            "\n",
            "Generating audio in 1 batches...\n"
          ]
        },
        {
          "output_type": "stream",
          "name": "stderr",
          "text": [
            "\n",
            "  0%|          | 0/1 [00:00<?, ?it/s]\u001b[A"
          ]
        },
        {
          "output_type": "stream",
          "name": "stdout",
          "text": [
            "Converting audio...\n",
            "Using custom reference text...\n",
            "\n",
            "ref_text    Charlie was pounding on my door. Bella, are you okay? What's going on? His voice was frightened. \n",
            "gen_text 0 Make sure to turn off subtitles during the next scene, by the way, did you hear about the new album from P!nk?\n",
            "\n",
            "\n",
            "Generating audio in 1 batches...\n"
          ]
        },
        {
          "output_type": "stream",
          "name": "stderr",
          "text": [
            "\n",
            "\n",
            "100%|██████████| 1/1 [00:12<00:00, 12.79s/it]\n",
            "\n",
            "100%|██████████| 1/1 [00:12<00:00, 12.79s/it]\n",
            "\n",
            "100%|██████████| 1/1 [00:12<00:00, 12.78s/it]\n",
            "100%|██████████| 1/1 [00:12<00:00, 12.71s/it]\n"
          ]
        },
        {
          "output_type": "stream",
          "name": "stdout",
          "text": [
            "Converting audio...\n",
            "Using cached preprocessed reference audio...\n",
            "Using custom reference text...\n",
            "\n",
            "ref_text    The awareness that our time is limited, that our life will eventually end, has driven humans to search for a way out. \n",
            "gen_text 0 Turn off subtitles, set the volume to minimum\n",
            "\n",
            "\n",
            "Generating audio in 1 batches...\n",
            "Converting audio...\n",
            "Converting audio...\n",
            "Using cached preprocessed reference audio...\n",
            "Using custom reference text...\n",
            "\n",
            "ref_text    Charlie was pounding on my door. Bella, are you okay? What's going on? His voice was frightened. \n",
            "gen_text 0 Make sure to turn off subtitles during the next scene,\n",
            "\n",
            "\n",
            "Generating audio in 1 batches...\n"
          ]
        },
        {
          "output_type": "stream",
          "name": "stderr",
          "text": [
            "  0%|          | 0/1 [00:00<?, ?it/s]\n",
            "  0%|          | 0/1 [00:00<?, ?it/s]\u001b[A"
          ]
        },
        {
          "output_type": "stream",
          "name": "stdout",
          "text": [
            "Using custom reference text...\n",
            "\n",
            "ref_text    And the United States first, second, and third generation Mexicans are just beyond reproach. \n",
            "gen_text 0 open settings\n",
            "\n",
            "\n",
            "Generating audio in 1 batches...\n"
          ]
        },
        {
          "output_type": "stream",
          "name": "stderr",
          "text": [
            "\n",
            "\n",
            "100%|██████████| 1/1 [00:08<00:00,  8.83s/it]\n",
            "\n",
            "\n",
            "100%|██████████| 1/1 [00:08<00:00,  8.77s/it]\n",
            "\n",
            "100%|██████████| 1/1 [00:08<00:00,  8.81s/it]\n"
          ]
        },
        {
          "output_type": "stream",
          "name": "stdout",
          "text": [
            "Converting audio...\n",
            "Using cached preprocessed reference audio...\n",
            "Using custom reference text...\n",
            "\n",
            "ref_text    The awareness that our time is limited, that our life will eventually end, has driven humans to search for a way out. \n",
            "gen_text 0 , and did you remember to grab the groceries?\n",
            "\n",
            "\n",
            "Generating audio in 1 batches...\n",
            "Converting audio...\n",
            "Converting audio...\n",
            "Using cached preprocessed reference audio...\n",
            "Using custom reference text...\n",
            "\n",
            "ref_text    Charlie was pounding on my door. Bella, are you okay? What's going on? His voice was frightened. \n",
            "gen_text 0 by the way, did you hear about the new album from P!nk?\n",
            "\n",
            "\n",
            "Generating audio in 1 batches...\n"
          ]
        },
        {
          "output_type": "stream",
          "name": "stderr",
          "text": [
            "\r  0%|          | 0/1 [00:00<?, ?it/s]"
          ]
        },
        {
          "output_type": "stream",
          "name": "stdout",
          "text": [
            "Using custom reference text...\n",
            "\n",
            "ref_text    Yea, yea, it's simple. Yea, it's Ryan Nielsen's defense. \n",
            "gen_text 0 enable sleep timer for 30 minutes\n",
            "\n",
            "\n",
            "Generating audio in 1 batches...\n"
          ]
        },
        {
          "output_type": "stream",
          "name": "stderr",
          "text": [
            "\n",
            "  0%|          | 0/1 [00:00<?, ?it/s]\u001b[A\n",
            "\n",
            "  0%|          | 0/1 [00:00<?, ?it/s]\u001b[A\u001b[A\n",
            "\n",
            "100%|██████████| 1/1 [00:08<00:00,  8.14s/it]\n"
          ]
        },
        {
          "output_type": "stream",
          "name": "stdout",
          "text": [
            "Converting audio...\n",
            "Audio is over 12s, clipping short. (2)\n",
            "Using custom reference text...\n",
            "\n",
            "ref_text    Not knowing to communicate certain like constraints just because they were so obvious or like apparent to them and everyone in their domain. \n",
            "gen_text 0 show me HBO Family, did you see the new restaurant that just opened downtown?\n",
            "\n",
            "\n",
            "Generating audio in 1 batches...\n"
          ]
        },
        {
          "output_type": "stream",
          "name": "stderr",
          "text": [
            "\n",
            "\n",
            "100%|██████████| 1/1 [00:08<00:00,  8.48s/it]\n",
            "\n",
            "100%|██████████| 1/1 [00:08<00:00,  8.46s/it]\n"
          ]
        },
        {
          "output_type": "stream",
          "name": "stdout",
          "text": [
            "Converting audio...\n",
            "Using custom reference text...\n",
            "\n",
            "ref_text    He may not be the only honest man in town but he's the only one I know. \n",
            "gen_text 0 Open settings, enable sleep timer for 30 minutes, can you believe that movie we watched last night?\n",
            "\n",
            "\n",
            "Generating audio in 1 batches...\n",
            "Converting audio...\n"
          ]
        },
        {
          "output_type": "stream",
          "name": "stderr",
          "text": [
            "\r  0%|          | 0/1 [00:00<?, ?it/s]"
          ]
        },
        {
          "output_type": "stream",
          "name": "stdout",
          "text": [
            "Using custom reference text...\n",
            "\n",
            "ref_text    No idea where she is? Nope. I haven't seen her since she was here last night. She may be gone for good. But she can't be. All her stuff is there. Clothes and everything. \n",
            "gen_text 0 Have you seen the movie Repo Men? I heard it's pretty intense.\n",
            "\n",
            "\n",
            "Generating audio in 1 batches...\n"
          ]
        },
        {
          "output_type": "stream",
          "name": "stderr",
          "text": [
            "\n",
            "  0%|          | 0/1 [00:00<?, ?it/s]\u001b[A\n",
            "100%|██████████| 1/1 [00:12<00:00, 12.53s/it]\n",
            "\n",
            "100%|██████████| 1/1 [00:12<00:00, 12.53s/it]\n",
            "100%|██████████| 1/1 [00:12<00:00, 12.46s/it]\n",
            "100%|██████████| 1/1 [00:12<00:00, 12.74s/it]\n"
          ]
        },
        {
          "output_type": "stream",
          "name": "stdout",
          "text": [
            "Converting audio...\n",
            "Using cached preprocessed reference audio...\n",
            "Using custom reference text...\n",
            "\n",
            "ref_text    Dated bind research, nope. Sorted, nope. \n",
            "gen_text 0 I was listening to Howard Jones the other day; his song Look Mama really brings back memories.\n",
            "\n",
            "\n",
            "Generating audio in 1 batches...\n",
            "Converting audio...\n",
            "Converting audio...\n",
            "Using cached preprocessed reference audio...\n",
            "Using custom reference text...\n",
            "\n",
            "ref_text    He may not be the only honest man in town but he's the only one I know. \n",
            "gen_text 0 Open settings, enable sleep timer for 30 minutes\n",
            "\n",
            "\n",
            "Generating audio in 1 batches...\n",
            "Using cached preprocessed reference audio...\n",
            "Using custom reference text...\n",
            "\n",
            "ref_text    Not knowing to communicate certain like constraints just because they were so obvious or like apparent to them and everyone in their domain. \n",
            "gen_text 0 show me HBO Family,\n",
            "\n",
            "\n",
            "Generating audio in 1 batches...\n"
          ]
        },
        {
          "output_type": "stream",
          "name": "stderr",
          "text": [
            "  0%|          | 0/1 [00:00<?, ?it/s]\n",
            "  0%|          | 0/1 [00:00<?, ?it/s]\u001b[A\n",
            "\n",
            "100%|██████████| 1/1 [00:12<00:00, 12.06s/it]\n",
            "\n",
            "100%|██████████| 1/1 [00:12<00:00, 12.06s/it]\u001b[A\n",
            "\n",
            "100%|██████████| 1/1 [00:12<00:00, 12.06s/it]\n",
            "100%|██████████| 1/1 [00:12<00:00, 12.06s/it]\n"
          ]
        },
        {
          "output_type": "stream",
          "name": "stdout",
          "text": [
            "Converting audio...\n",
            "Converting audio...\n",
            "Converting audio...\n",
            "Using cached preprocessed reference audio...\n",
            "Using custom reference text...\n",
            "\n",
            "ref_text    Not knowing to communicate certain like constraints just because they were so obvious or like apparent to them and everyone in their domain. \n",
            "gen_text 0 did you see the new restaurant that just opened downtown?\n",
            "\n",
            "\n",
            "Generating audio in 1 batches...\n",
            "Using cached preprocessed reference audio...\n",
            "Using custom reference text...\n",
            "\n",
            "ref_text    He may not be the only honest man in town but he's the only one I know. \n",
            "gen_text 0 , can you believe that movie we watched last night?\n",
            "\n",
            "\n",
            "Generating audio in 1 batches...\n",
            "Audio is over 12s, clipping short. (2)\n",
            "Using custom reference text...\n",
            "\n",
            "ref_text    We got hired to do a wedding and one of the guests was a Netflix executive. She mentioned they had a new show coming out and asked us if we were interested in auditioning. \n",
            "gen_text 0 I can't believe how many great movies are available on Amazon Prime Video now.\n",
            "\n",
            "\n",
            "Generating audio in 1 batches...\n"
          ]
        },
        {
          "output_type": "stream",
          "name": "stderr",
          "text": [
            "  0%|          | 0/1 [00:00<?, ?it/s]\n",
            "  0%|          | 0/1 [00:00<?, ?it/s]\u001b[A\n",
            "\n",
            "  0%|          | 0/1 [00:00<?, ?it/s]\u001b[A\u001b[A\n",
            "100%|██████████| 1/1 [00:12<00:00, 12.38s/it]\n",
            "\n",
            "100%|██████████| 1/1 [00:12<00:00, 12.38s/it]\n",
            "100%|██████████| 1/1 [00:12<00:00, 12.38s/it]\n",
            "100%|██████████| 1/1 [00:12<00:00, 12.37s/it]\n"
          ]
        },
        {
          "output_type": "stream",
          "name": "stdout",
          "text": [
            "Converting audio...Converting audio...\n",
            "\n",
            "Using cached preprocessed reference audio...\n",
            "Using custom reference text...\n",
            "\n",
            "ref_text    We got hired to do a wedding and one of the guests was a Netflix executive. She mentioned they had a new show coming out and asked us if we were interested in auditioning. \n",
            "gen_text 0 Pause the show, set the volume to minimum, and how's your project coming along?\n",
            "\n",
            "\n",
            "Generating audio in 1 batches...\n",
            "Converting audio...\n",
            "Using cached preprocessed reference audio...\n",
            "Using custom reference text...\n",
            "\n",
            "ref_text    You see like all these mailings of offering, you know. \n",
            "gen_text 0 Do you remember watching MTV when it was all about the music videos?\n",
            "gen_text 1 It feels like a different era.\n",
            "\n",
            "\n",
            "Generating audio in 2 batches...\n"
          ]
        },
        {
          "output_type": "stream",
          "name": "stderr",
          "text": [
            "\r  0%|          | 0/1 [00:00<?, ?it/s]"
          ]
        },
        {
          "output_type": "stream",
          "name": "stdout",
          "text": [
            "Audio is over 12s, clipping short. (2)\n"
          ]
        },
        {
          "output_type": "stream",
          "name": "stderr",
          "text": [
            "\n",
            "  0%|          | 0/2 [00:00<?, ?it/s]\u001b[A"
          ]
        },
        {
          "output_type": "stream",
          "name": "stdout",
          "text": [
            "Using custom reference text...\n",
            "\n",
            "ref_text    The awareness that our time is limited, that our life will eventually end, has driven humans to search for a way out. \n",
            "gen_text 0 stop, I can't believe the weather is changing so quickly this week!\n",
            "\n",
            "\n",
            "Generating audio in 1 batches...\n"
          ]
        },
        {
          "output_type": "stream",
          "name": "stderr",
          "text": [
            "\n",
            "\n",
            "  0%|          | 0/1 [00:00<?, ?it/s]\u001b[A\u001b[A\n",
            "\n",
            "100%|██████████| 1/1 [00:13<00:00, 13.30s/it]\n",
            "100%|██████████| 1/1 [00:13<00:00, 13.37s/it]\n",
            "100%|██████████| 1/1 [00:13<00:00, 13.37s/it]\n"
          ]
        },
        {
          "output_type": "stream",
          "name": "stdout",
          "text": [
            "Converting audio...\n",
            "Using cached preprocessed reference audio...\n",
            "Using custom reference text...\n",
            "\n",
            "ref_text    The awareness that our time is limited, that our life will eventually end, has driven humans to search for a way out. \n",
            "gen_text 0 stop,\n",
            "\n",
            "\n",
            "Generating audio in 1 batches...\n",
            "Converting audio...\n",
            "Using cached preprocessed reference audio...\n",
            "Using custom reference text...\n",
            "\n",
            "ref_text    We got hired to do a wedding and one of the guests was a Netflix executive. She mentioned they had a new show coming out and asked us if we were interested in auditioning. \n",
            "gen_text 0 Pause the show, set the volume to minimum\n",
            "\n",
            "\n",
            "Generating audio in 1 batches...\n"
          ]
        },
        {
          "output_type": "stream",
          "name": "stderr",
          "text": [
            "\r  0%|          | 0/1 [00:00<?, ?it/s]\n",
            "\n",
            "  0%|          | 0/1 [00:00<?, ?it/s]\u001b[A\u001b[A\n",
            "\n",
            "100%|██████████| 1/1 [00:09<00:00,  9.15s/it]\n",
            "100%|██████████| 1/1 [00:09<00:00,  9.16s/it]\n",
            "\n",
            "100%|██████████| 2/2 [00:22<00:00, 11.26s/it]\n"
          ]
        },
        {
          "output_type": "stream",
          "name": "stdout",
          "text": [
            "Converting audio...\n",
            "Using cached preprocessed reference audio...\n",
            "Using custom reference text...\n",
            "\n",
            "ref_text    We got hired to do a wedding and one of the guests was a Netflix executive. She mentioned they had a new show coming out and asked us if we were interested in auditioning. \n",
            "gen_text 0 , and how's your project coming along?\n",
            "\n",
            "\n",
            "Generating audio in 1 batches...\n",
            "Converting audio...\n"
          ]
        },
        {
          "output_type": "stream",
          "name": "stderr",
          "text": [
            "\r  0%|          | 0/1 [00:00<?, ?it/s]"
          ]
        },
        {
          "output_type": "stream",
          "name": "stdout",
          "text": [
            "Using cached preprocessed reference audio...\n",
            "Using custom reference text...\n",
            "\n",
            "ref_text    The awareness that our time is limited, that our life will eventually end, has driven humans to search for a way out. \n",
            "gen_text 0 I can't believe the weather is changing so quickly this week!\n",
            "\n",
            "\n",
            "Generating audio in 1 batches...\n",
            "Converting audio...\n"
          ]
        },
        {
          "output_type": "stream",
          "name": "stderr",
          "text": [
            "\n",
            "  0%|          | 0/1 [00:00<?, ?it/s]\u001b[A"
          ]
        },
        {
          "output_type": "stream",
          "name": "stdout",
          "text": [
            "Using cached preprocessed reference audio...\n",
            "Using custom reference text...\n",
            "\n",
            "ref_text    Hare Krishna, Hanuman, Vishnu Maharaj, humble obeisances. Thank you so much for joining once again for the Monks Podcast. \n",
            "gen_text 0 switch to channel Qubo\n",
            "\n",
            "\n",
            "Generating audio in 1 batches...\n"
          ]
        },
        {
          "output_type": "stream",
          "name": "stderr",
          "text": [
            "\n",
            "\n",
            "  0%|          | 0/1 [00:00<?, ?it/s]\u001b[A\u001b[A\n",
            "100%|██████████| 1/1 [00:11<00:00, 11.24s/it]\n",
            "\n",
            "100%|██████████| 1/1 [00:11<00:00, 11.22s/it]\n",
            "100%|██████████| 1/1 [00:11<00:00, 11.24s/it]\n",
            "100%|██████████| 1/1 [00:11<00:00, 11.21s/it]\n"
          ]
        },
        {
          "output_type": "stream",
          "name": "stdout",
          "text": [
            "Converting audio...\n",
            "Converting audio...\n",
            "Using cached preprocessed reference audio...\n",
            "Using custom reference text...\n",
            "\n",
            "ref_text    He's a tracker, Alice. Did you see that? He's a tracker. I felt Emmet stiffen next to me and I wondered at his reaction to the word. It meant something more to the three of them than it did to me. \n",
            "Using cached preprocessed reference audio...\n",
            "Using custom reference text...\n",
            "\n",
            "ref_text    Welcome to our broadcast from the beginning on Elizabeth Fried in Little Italy. Martin Scorsese wanted to make movies. He started before high school by drawing his stories scene by scene. Ten years after making films at NYU, he had Mean Streets, Alice Doesn't Lear Free Anymore, and Taxi Driver on his list of directing credits. \n",
            "gen_text 0 Play app: Disney+, turn off subtitles, did you see that new restaurant opened downtown?\n",
            "\n",
            "\n",
            "Generating audio in 1 batches...\n",
            "gen_text 0 next channel\n",
            "\n",
            "\n",
            "Generating audio in 1 batches...\n",
            "Converting audio...\n"
          ]
        },
        {
          "output_type": "stream",
          "name": "stderr",
          "text": [
            "  0%|          | 0/1 [00:00<?, ?it/s]\n",
            "  0%|          | 0/1 [00:00<?, ?it/s]\u001b[A"
          ]
        },
        {
          "output_type": "stream",
          "name": "stdout",
          "text": [
            "Using custom reference text...\n",
            "\n",
            "ref_text    That has convinced you that your microphone is listening to your conversations. \n",
            "gen_text 0 switch to TikTok TV, what are we doing for the weekend?\n",
            "\n",
            "\n",
            "Generating audio in 1 batches...\n"
          ]
        },
        {
          "output_type": "stream",
          "name": "stderr",
          "text": [
            "\n",
            "\n",
            "  0%|          | 0/1 [00:00<?, ?it/s]\u001b[A\u001b[A\n",
            "100%|██████████| 1/1 [00:09<00:00,  9.15s/it]\n",
            "\n",
            "\n",
            "100%|██████████| 1/1 [00:09<00:00,  9.22s/it]\n",
            "100%|██████████| 1/1 [00:09<00:00,  9.12s/it]\n"
          ]
        },
        {
          "output_type": "stream",
          "name": "stdout",
          "text": [
            "Converting audio...\n",
            "Using cached preprocessed reference audio...\n",
            "Using custom reference text...\n",
            "\n",
            "ref_text    All right, shout out to the fam, man, like I've been saying for some time now. Welcome, welcome, welcome. You're now rocking with the Sportscom with Big Q and the guys, but we have intense, entertaining, educating, and enlightening sports talk from your favorite sports fam. What's poppin fam?. \n",
            "gen_text 0 decrease the volume\n",
            "\n",
            "\n",
            "Generating audio in 1 batches...\n",
            "Converting audio...\n",
            "Converting audio...\n",
            "Using cached preprocessed reference audio...\n",
            "Using custom reference text...\n",
            "\n",
            "ref_text    He's a tracker, Alice. Did you see that? He's a tracker. I felt Emmet stiffen next to me and I wondered at his reaction to the word. It meant something more to the three of them than it did to me. \n",
            "Using cached preprocessed reference audio...\n",
            "Using custom reference text...\n",
            "\n",
            "ref_text    That has convinced you that your microphone is listening to your conversations. \n",
            "gen_text 0 Play app: Disney+, turn off subtitles\n",
            "\n",
            "\n",
            "Generating audio in 1 batches...\n",
            "gen_text 0 switch to TikTok TV,\n",
            "\n",
            "\n",
            "Generating audio in 1 batches...\n"
          ]
        },
        {
          "output_type": "stream",
          "name": "stderr",
          "text": [
            "  0%|          | 0/1 [00:00<?, ?it/s]\n",
            "  0%|          | 0/1 [00:00<?, ?it/s]\u001b[A\n",
            "\n",
            "  0%|          | 0/1 [00:00<?, ?it/s]\u001b[A\u001b[A\n",
            "100%|██████████| 1/1 [00:08<00:00,  8.53s/it]\n",
            "100%|██████████| 1/1 [00:08<00:00,  8.54s/it]\n",
            "\n",
            "\n",
            "100%|██████████| 1/1 [00:08<00:00,  8.52s/it]\n"
          ]
        },
        {
          "output_type": "stream",
          "name": "stdout",
          "text": [
            "Converting audio...\n",
            "Using cached preprocessed reference audio...\n",
            "Using custom reference text...\n",
            "\n",
            "ref_text    He's a tracker, Alice. Did you see that? He's a tracker. I felt Emmet stiffen next to me and I wondered at his reaction to the word. It meant something more to the three of them than it did to me. \n",
            "gen_text 0 , did you see that new restaurant opened downtown?\n",
            "\n",
            "\n",
            "Generating audio in 1 batches...\n",
            "Converting audio...\n",
            "Using cached preprocessed reference audio...\n",
            "Using custom reference text...\n",
            "\n",
            "ref_text    That has convinced you that your microphone is listening to your conversations. \n",
            "Converting audio...\n",
            "gen_text 0 what are we doing for the weekend?\n",
            "\n",
            "\n",
            "Generating audio in 1 batches...\n"
          ]
        },
        {
          "output_type": "stream",
          "name": "stderr",
          "text": [
            "  0%|          | 0/1 [00:00<?, ?it/s]\n",
            "  0%|          | 0/1 [00:00<?, ?it/s]\u001b[A"
          ]
        },
        {
          "output_type": "stream",
          "name": "stdout",
          "text": [
            "Using custom reference text...\n",
            "\n",
            "ref_text    Same here my brother. Thank you, man. Appreciate you, bro. Thank you. \n",
            "gen_text 0 change input to app: Disney+\n",
            "\n",
            "\n",
            "Generating audio in 1 batches...\n"
          ]
        },
        {
          "output_type": "stream",
          "name": "stderr",
          "text": [
            "\n",
            "\n",
            "100%|██████████| 1/1 [00:07<00:00,  7.36s/it]\n",
            "\n",
            "100%|██████████| 1/1 [00:07<00:00,  7.32s/it]\u001b[A\n",
            "\n",
            "100%|██████████| 1/1 [00:07<00:00,  7.32s/it]\n",
            "100%|██████████| 1/1 [00:07<00:00,  7.32s/it]\n"
          ]
        },
        {
          "output_type": "stream",
          "name": "stdout",
          "text": [
            "Converting audio...\n",
            "Using custom reference text...\n",
            "\n",
            "ref_text    Two crashes of brand new airplanes within five months of each other, that doesn't happen in modern aviation. \n",
            "gen_text 0 I heard 'The King Of The Zoo' by Yoko Ono on the radio yesterday, and it really caught my attention.\n",
            "\n",
            "\n",
            "Generating audio in 1 batches...\n",
            "Converting audio...\n",
            "Converting audio...\n"
          ]
        },
        {
          "output_type": "stream",
          "name": "stderr",
          "text": [
            "\r  0%|          | 0/1 [00:00<?, ?it/s]"
          ]
        },
        {
          "output_type": "stream",
          "name": "stdout",
          "text": [
            "Using custom reference text...\n",
            "\n",
            "ref_text    When Buck earned sixteen hundred dollars in five minutes for John Thornton. \n",
            "gen_text 0 open settings, have you seen the latest episode of that show everyone is talking about?\n",
            "\n",
            "\n",
            "Generating audio in 1 batches...\n",
            "Using custom reference text...\n",
            "\n",
            "ref_text    Uhm, so for the path planning, for like the recommended paths for the rover to take and also for the geographic areas for the rover to avoid, why are all those. \n",
            "gen_text 0 Turn on subtitles while can you believe she said that?\n",
            "\n",
            "\n",
            "Generating audio in 1 batches...\n"
          ]
        },
        {
          "output_type": "stream",
          "name": "stderr",
          "text": [
            "\n",
            "  0%|          | 0/1 [00:00<?, ?it/s]\u001b[A\n",
            "\n",
            "  0%|          | 0/1 [00:00<?, ?it/s]\u001b[A\u001b[A\n",
            "100%|██████████| 1/1 [00:07<00:00,  7.80s/it]\n",
            "\n",
            "\n",
            "100%|██████████| 1/1 [00:07<00:00,  7.80s/it]\n",
            "100%|██████████| 1/1 [00:07<00:00,  7.90s/it]\n"
          ]
        },
        {
          "output_type": "stream",
          "name": "stdout",
          "text": [
            "Converting audio...\n",
            "Using cached preprocessed reference audio...\n",
            "Using custom reference text...\n",
            "\n",
            "ref_text    When Buck earned sixteen hundred dollars in five minutes for John Thornton. \n",
            "gen_text 0 open settings,\n",
            "\n",
            "\n",
            "Generating audio in 1 batches...\n",
            "Converting audio...\n",
            "Converting audio...\n",
            "Using cached preprocessed reference audio...\n",
            "Using custom reference text...\n",
            "\n",
            "ref_text    Uhm, so for the path planning, for like the recommended paths for the rover to take and also for the geographic areas for the rover to avoid, why are all those. \n",
            "gen_text 0 Turn on subtitles\n",
            "\n",
            "\n",
            "Generating audio in 1 batches...\n"
          ]
        },
        {
          "output_type": "stream",
          "name": "stderr",
          "text": [
            "\r  0%|          | 0/1 [00:00<?, ?it/s]"
          ]
        },
        {
          "output_type": "stream",
          "name": "stdout",
          "text": [
            "Using cached preprocessed reference audio...\n",
            "Using custom reference text...\n",
            "\n",
            "ref_text    Hello there everybody and welcome to the video. My name's Sven at Your Soul on the Axe and here we are with episode 2, season 1 by the way, of Soap. Now, in the last episode, I didn't expect to laugh track. \n",
            "gen_text 0 Have you ever watched 'Paris Can Wait'? I thought it was such a charming movie.\n",
            "\n",
            "\n",
            "Generating audio in 1 batches...\n"
          ]
        },
        {
          "output_type": "stream",
          "name": "stderr",
          "text": [
            "\n",
            "  0%|          | 0/1 [00:00<?, ?it/s]\u001b[A\n",
            "\n",
            "  0%|          | 0/1 [00:00<?, ?it/s]\u001b[A\u001b[A\n",
            "100%|██████████| 1/1 [00:05<00:00,  5.61s/it]\n",
            "\n",
            "\n",
            "100%|██████████| 1/1 [00:05<00:00,  5.61s/it]\n",
            "100%|██████████| 1/1 [00:05<00:00,  5.63s/it]\n"
          ]
        },
        {
          "output_type": "stream",
          "name": "stdout",
          "text": [
            "Converting audio...\n",
            "Using cached preprocessed reference audio...\n",
            "Using custom reference text...\n",
            "\n",
            "ref_text    Uhm, so for the path planning, for like the recommended paths for the rover to take and also for the geographic areas for the rover to avoid, why are all those. \n",
            "gen_text 0 while can you believe she said that?\n",
            "\n",
            "\n",
            "Generating audio in 1 batches...\n",
            "Converting audio...\n",
            "Converting audio...\n",
            "Using cached preprocessed reference audio...\n",
            "Using custom reference text...\n",
            "\n",
            "ref_text    When Buck earned sixteen hundred dollars in five minutes for John Thornton. \n",
            "gen_text 0 have you seen the latest episode of that show everyone is talking about?\n",
            "\n",
            "\n",
            "Generating audio in 1 batches...\n"
          ]
        },
        {
          "output_type": "stream",
          "name": "stderr",
          "text": [
            "  0%|          | 0/1 [00:00<?, ?it/s]\n",
            "  0%|          | 0/1 [00:00<?, ?it/s]\u001b[A"
          ]
        },
        {
          "output_type": "stream",
          "name": "stdout",
          "text": [
            "Using custom reference text...\n",
            "\n",
            "ref_text    Oh, you don't say. Where to? Why, to Germany, of course. Oh, of course. But I think I'd better see that you go there this time. Maybe it'd be a good idea if we left together, eh?. \n",
            "gen_text 0 I can't believe how much I've been enjoying Maroon 5's 'My Blue Ocean' lately; it just puts me in a good mood.\n",
            "\n",
            "\n",
            "Generating audio in 1 batches...\n"
          ]
        },
        {
          "output_type": "stream",
          "name": "stderr",
          "text": [
            "\n",
            "\n",
            "  0%|          | 0/1 [00:00<?, ?it/s]\u001b[A\u001b[A\n",
            "\n",
            "100%|██████████| 1/1 [00:08<00:00,  8.98s/it]\n",
            "100%|██████████| 1/1 [00:08<00:00,  8.93s/it]\n",
            "100%|██████████| 1/1 [00:08<00:00,  8.99s/it]\n",
            "100%|██████████| 1/1 [00:08<00:00,  8.91s/it]\n"
          ]
        },
        {
          "output_type": "stream",
          "name": "stdout",
          "text": [
            "Converting audio...\n",
            "Using cached preprocessed reference audio...\n",
            "Using custom reference text...\n",
            "\n",
            "ref_text    There he is. The wolf that kept our daughter out all night. \n",
            "gen_text 0 set contrast to maximum, turn off subtitles.\n",
            "\n",
            "\n",
            "Generating audio in 1 batches...\n",
            "Converting audio...\n",
            "Converting audio...\n"
          ]
        },
        {
          "output_type": "stream",
          "name": "stderr",
          "text": [
            "\r  0%|          | 0/1 [00:00<?, ?it/s]"
          ]
        },
        {
          "output_type": "stream",
          "name": "stdout",
          "text": [
            "Using cached preprocessed reference audio...\n",
            "Using custom reference text...\n",
            "\n",
            "ref_text    I asked him to read the Declaration of Independence and the Constitution. \n",
            "gen_text 0 When I was a kid, I used to love watching Playhouse Disney; those shows were so fun.\n",
            "\n",
            "\n",
            "Generating audio in 1 batches...\n",
            "Using custom reference text...\n",
            "\n",
            "ref_text    This is Mrs. Jackson. Mr. Jackson isn't here. Who did you say this was?. \n",
            "gen_text 0 Set volume to 15, and I think we should try that new place for dinner.\n",
            "\n",
            "\n",
            "Generating audio in 1 batches...\n"
          ]
        },
        {
          "output_type": "stream",
          "name": "stderr",
          "text": [
            "\n",
            "  0%|          | 0/1 [00:00<?, ?it/s]\u001b[A\n",
            "\n",
            "  0%|          | 0/1 [00:00<?, ?it/s]\u001b[A\u001b[A\n",
            "100%|██████████| 1/1 [00:09<00:00,  9.14s/it]\n",
            "\n",
            "\n",
            "100%|██████████| 1/1 [00:09<00:00,  9.14s/it]\n",
            "100%|██████████| 1/1 [00:09<00:00,  9.20s/it]\n"
          ]
        },
        {
          "output_type": "stream",
          "name": "stdout",
          "text": [
            "Converting audio...\n",
            "Using cached preprocessed reference audio...\n",
            "Using custom reference text...\n",
            "\n",
            "ref_text    What matters most to Jay? Uh, his family. He is a big family man. What matters most to me? My family. My safety. Your safety. \n",
            "gen_text 0 open settings\n",
            "\n",
            "\n",
            "Generating audio in 1 batches...\n",
            "Converting audio...\n"
          ]
        },
        {
          "output_type": "stream",
          "name": "stderr",
          "text": [
            "\r  0%|          | 0/1 [00:00<?, ?it/s]"
          ]
        },
        {
          "output_type": "stream",
          "name": "stdout",
          "text": [
            "Using cached preprocessed reference audio...\n",
            "Using custom reference text...\n",
            "\n",
            "ref_text    This is Mrs. Jackson. Mr. Jackson isn't here. Who did you say this was?. \n",
            "gen_text 0 Set volume to 15\n",
            "\n",
            "\n",
            "Generating audio in 1 batches...\n",
            "Converting audio...\n",
            "Using cached preprocessed reference audio...\n",
            "Using custom reference text...\n",
            "\n",
            "ref_text    All right, shout out to the fam, man, like I've been saying for some time now. Welcome, welcome, welcome. You're now rocking with the Sportscom with Big Q and the guys, but we have intense, entertaining, educating, and enlightening sports talk from your favorite sports fam. What's poppin fam?. \n",
            "gen_text 0 enable sleep timer for 60 minutes, set the volume to maximum.\n",
            "\n",
            "\n",
            "Generating audio in 1 batches...\n"
          ]
        },
        {
          "output_type": "stream",
          "name": "stderr",
          "text": [
            "\n",
            "  0%|          | 0/1 [00:00<?, ?it/s]\u001b[A\n",
            "\n",
            "  0%|          | 0/1 [00:00<?, ?it/s]\u001b[A\u001b[A\n",
            "100%|██████████| 1/1 [00:05<00:00,  5.25s/it]\u001b[A\n",
            "\n",
            "100%|██████████| 1/1 [00:05<00:00,  5.25s/it]\n",
            "100%|██████████| 1/1 [00:05<00:00,  5.25s/it]\n",
            "100%|██████████| 1/1 [00:05<00:00,  5.27s/it]\n"
          ]
        },
        {
          "output_type": "stream",
          "name": "stdout",
          "text": [
            "Converting audio...\n",
            "Converting audio...\n",
            "Using cached preprocessed reference audio...\n",
            "Using custom reference text...\n",
            "\n",
            "ref_text    This is Mrs. Jackson. Mr. Jackson isn't here. Who did you say this was?. \n",
            "Converting audio...\n",
            "gen_text 0 , and I think we should try that new place for dinner.\n",
            "\n",
            "\n",
            "Generating audio in 1 batches...\n",
            "Using cached preprocessed reference audio...\n",
            "Using custom reference text...\n",
            "\n",
            "ref_text    Hey, it's alright, we put him up on game, it ain't no problem. When I was born in LA, uhm... \n",
            "Using cached preprocessed reference audio...\n",
            "Using custom reference text...\n",
            "\n",
            "ref_text    I just like the whole concept of YouTube, like if you work at McDonald's, you work eight hours and you get paid a certain amount of money, but if we put eight hours into our YouTube, depending on what we do, you can make, you can like, sky's the limit on what you can do with it. \n",
            "gen_text 0 fast forward, turn off subtitles.\n",
            "\n",
            "\n",
            "Generating audio in 1 batches...\n",
            "gen_text 0 rate this show 5\n",
            "\n",
            "\n",
            "Generating audio in 1 batches...\n"
          ]
        },
        {
          "output_type": "stream",
          "name": "stderr",
          "text": [
            "  0%|          | 0/1 [00:00<?, ?it/s]\n",
            "  0%|          | 0/1 [00:00<?, ?it/s]\u001b[A\n",
            "\n",
            "  0%|          | 0/1 [00:00<?, ?it/s]\u001b[A\u001b[A\n",
            "100%|██████████| 1/1 [00:05<00:00,  5.16s/it]\n",
            "\n",
            "\n",
            "100%|██████████| 1/1 [00:05<00:00,  5.17s/it]\n",
            "100%|██████████| 1/1 [00:05<00:00,  5.16s/it]\n"
          ]
        },
        {
          "output_type": "stream",
          "name": "stdout",
          "text": [
            "Converting audio...\n",
            "Converting audio...\n",
            "Converting audio...\n",
            "Using cached preprocessed reference audio...\n",
            "Using custom reference text...\n",
            "\n",
            "ref_text    What medicinal plant do you know, Daniel? Coca. Coca. What does it help with?. \n",
            "Using cached preprocessed reference audio...\n",
            "Using custom reference text...\n",
            "\n",
            "ref_text    There's more to see than can ever be seen. More to do than can ever be done. \n",
            "gen_text 0 set the volume to maximum, enable sleep timer for 30 minutes.\n",
            "\n",
            "\n",
            "Generating audio in 1 batches...\n",
            "gen_text 0 enable sleep timer for 30 minutes\n",
            "\n",
            "\n",
            "Generating audio in 1 batches...\n"
          ]
        },
        {
          "output_type": "stream",
          "name": "stderr",
          "text": [
            "  0%|          | 0/1 [00:00<?, ?it/s]\n",
            "  0%|          | 0/1 [00:00<?, ?it/s]\u001b[A"
          ]
        },
        {
          "output_type": "stream",
          "name": "stdout",
          "text": [
            "Using custom reference text...\n",
            "\n",
            "ref_text    What medicinal plant do you know, Daniel? Coca. Coca. What does it help with?. \n",
            "gen_text 0 Scroll down because I really need to get my car service done soon.\n",
            "\n",
            "\n",
            "Generating audio in 1 batches...\n"
          ]
        },
        {
          "output_type": "stream",
          "name": "stderr",
          "text": [
            "\n",
            "\n",
            "  0%|          | 0/1 [00:00<?, ?it/s]\u001b[A\u001b[A\n",
            "\n",
            "100%|██████████| 1/1 [00:12<00:00, 12.04s/it]\n",
            "100%|██████████| 1/1 [00:12<00:00, 12.02s/it]\n",
            "100%|██████████| 1/1 [00:12<00:00, 12.05s/it]\n",
            "100%|██████████| 1/1 [00:12<00:00, 12.03s/it]\n"
          ]
        },
        {
          "output_type": "stream",
          "name": "stdout",
          "text": [
            "Converting audio...\n",
            "Using cached preprocessed reference audio...\n",
            "Using custom reference text...\n",
            "\n",
            "ref_text    Okay, maybe we'll watch a Grombe. Where are you Grombe? Let's see. 21 hours ago, Fortnite memes that make you switch to controller. I gotta see this. \n",
            "gen_text 0 show the TV guide\n",
            "\n",
            "\n",
            "Generating audio in 1 batches...\n",
            "Converting audio...\n",
            "Converting audio...\n"
          ]
        },
        {
          "output_type": "stream",
          "name": "stderr",
          "text": [
            "\r  0%|          | 0/1 [00:00<?, ?it/s]"
          ]
        },
        {
          "output_type": "stream",
          "name": "stdout",
          "text": [
            "Using cached preprocessed reference audio...\n",
            "Using custom reference text...\n",
            "\n",
            "ref_text    What medicinal plant do you know, Daniel? Coca. Coca. What does it help with?. \n",
            "Using cached preprocessed reference audio...\n",
            "Using custom reference text...\n",
            "\n",
            "ref_text    On the back you can see some other new cars like Jenny Tolan, Bill Rebs, Vanden Kerr, and Andrew Vrooman, all of which I have reviewed before and I'll put links to some of them in the card suggestion pop-up and the links in the description. \n",
            "gen_text 0 Scroll down\n",
            "\n",
            "\n",
            "Generating audio in 1 batches...\n",
            "gen_text 0 Did you see the game last night? Mute the TV and rewind the last scene.\n",
            "\n",
            "\n",
            "Generating audio in 1 batches...\n"
          ]
        },
        {
          "output_type": "stream",
          "name": "stderr",
          "text": [
            "\n",
            "  0%|          | 0/1 [00:00<?, ?it/s]\u001b[A\n",
            "\n",
            "  0%|          | 0/1 [00:00<?, ?it/s]\u001b[A\u001b[A\n",
            "100%|██████████| 1/1 [00:08<00:00,  8.38s/it]\n",
            "\n",
            "100%|██████████| 1/1 [00:08<00:00,  8.38s/it]\n",
            "100%|██████████| 1/1 [00:08<00:00,  8.37s/it]\n",
            "100%|██████████| 1/1 [00:08<00:00,  8.38s/it]\n"
          ]
        },
        {
          "output_type": "stream",
          "name": "stdout",
          "text": [
            "Converting audio...\n",
            "Using cached preprocessed reference audio...\n",
            "Using custom reference text...\n",
            "\n",
            "ref_text    We got hired to do a wedding and one of the guests was a Netflix executive. She mentioned they had a new show coming out and asked us if we were interested in auditioning. \n",
            "gen_text 0 Disable game mode while I tell you about my weekend trip to the mountains.\n",
            "\n",
            "\n",
            "Generating audio in 1 batches...\n",
            "Converting audio...\n",
            "Converting audio...\n"
          ]
        },
        {
          "output_type": "stream",
          "name": "stderr",
          "text": [
            "\r  0%|          | 0/1 [00:00<?, ?it/s]"
          ]
        },
        {
          "output_type": "stream",
          "name": "stdout",
          "text": [
            "Using cached preprocessed reference audio...\n",
            "Using custom reference text...\n",
            "\n",
            "ref_text    On the back you can see some other new cars like Jenny Tolan, Bill Rebs, Vanden Kerr, and Andrew Vrooman, all of which I have reviewed before and I'll put links to some of them in the card suggestion pop-up and the links in the description. \n",
            "Using cached preprocessed reference audio...\n",
            "Using custom reference text...\n",
            "\n",
            "ref_text    What medicinal plant do you know, Daniel? Coca. Coca. What does it help with?. \n",
            "gen_text 0 Mute the TV\n",
            "\n",
            "\n",
            "Generating audio in 1 batches...\n",
            "gen_text 0 because I really need to get my car service done soon.\n",
            "\n",
            "\n",
            "Generating audio in 1 batches...\n"
          ]
        },
        {
          "output_type": "stream",
          "name": "stderr",
          "text": [
            "\n",
            "  0%|          | 0/1 [00:00<?, ?it/s]\u001b[A\n",
            "\n",
            "  0%|          | 0/1 [00:00<?, ?it/s]\u001b[A\u001b[A\n",
            "100%|██████████| 1/1 [00:09<00:00,  9.77s/it]\n",
            "100%|██████████| 1/1 [00:09<00:00,  9.78s/it]\n",
            "\n",
            "\n",
            "100%|██████████| 1/1 [00:09<00:00,  9.77s/it]\n"
          ]
        },
        {
          "output_type": "stream",
          "name": "stdout",
          "text": [
            "Converting audio...\n",
            "Using cached preprocessed reference audio...\n",
            "Using custom reference text...\n",
            "\n",
            "ref_text    Well, that Johnny Gargano tells all. \n",
            "gen_text 0 Decrease the volume to 5;\n",
            "gen_text 1 can you believe the game had that ending?\n",
            "\n",
            "\n",
            "Generating audio in 2 batches...\n",
            "Converting audio...\n",
            "Converting audio...\n",
            "Using cached preprocessed reference audio...\n",
            "Using custom reference text...\n",
            "\n",
            "ref_text    We got hired to do a wedding and one of the guests was a Netflix executive. She mentioned they had a new show coming out and asked us if we were interested in auditioning. \n",
            "gen_text 0 Disable game mode\n",
            "\n",
            "\n",
            "Generating audio in 1 batches...\n",
            "Using cached preprocessed reference audio...\n",
            "Using custom reference text...\n",
            "\n",
            "ref_text    On the back you can see some other new cars like Jenny Tolan, Bill Rebs, Vanden Kerr, and Andrew Vrooman, all of which I have reviewed before and I'll put links to some of them in the card suggestion pop-up and the links in the description. \n",
            "gen_text 0 Did you see the game last night?\n",
            "\n",
            "\n",
            "Generating audio in 1 batches...\n"
          ]
        },
        {
          "output_type": "stream",
          "name": "stderr",
          "text": [
            "  0%|          | 0/2 [00:00<?, ?it/s]\n",
            "  0%|          | 0/1 [00:00<?, ?it/s]\u001b[A\n",
            "\n",
            "  0%|          | 0/1 [00:00<?, ?it/s]\u001b[A\u001b[A\n",
            "\n",
            "100%|██████████| 1/1 [00:09<00:00,  9.82s/it]\n",
            "\n",
            "100%|██████████| 1/1 [00:09<00:00,  9.83s/it]\n"
          ]
        },
        {
          "output_type": "stream",
          "name": "stdout",
          "text": [
            "Converting audio...\n",
            "Using cached preprocessed reference audio...\n",
            "Using custom reference text...\n",
            "\n",
            "ref_text    We got hired to do a wedding and one of the guests was a Netflix executive. She mentioned they had a new show coming out and asked us if we were interested in auditioning. \n",
            "gen_text 0 while I tell you about my weekend trip to the mountains.\n",
            "\n",
            "\n",
            "Generating audio in 1 batches...\n"
          ]
        },
        {
          "output_type": "stream",
          "name": "stderr",
          "text": [
            "\n",
            "  0%|          | 0/1 [00:00<?, ?it/s]\u001b[A"
          ]
        },
        {
          "output_type": "stream",
          "name": "stdout",
          "text": [
            "Converting audio...\n",
            "Using cached preprocessed reference audio...\n",
            "Using custom reference text...\n",
            "\n",
            "ref_text    On the back you can see some other new cars like Jenny Tolan, Bill Rebs, Vanden Kerr, and Andrew Vrooman, all of which I have reviewed before and I'll put links to some of them in the card suggestion pop-up and the links in the description. \n",
            "gen_text 0 rewind the last scene.\n",
            "\n",
            "\n",
            "Generating audio in 1 batches...\n"
          ]
        },
        {
          "output_type": "stream",
          "name": "stderr",
          "text": [
            "\n",
            "\n",
            "  0%|          | 0/1 [00:00<?, ?it/s]\u001b[A\u001b[A\n",
            "100%|██████████| 1/1 [00:11<00:00, 11.91s/it]\n",
            "\n",
            "\n",
            "100%|██████████| 1/1 [00:11<00:00, 11.89s/it]\n",
            "100%|██████████| 2/2 [00:21<00:00, 10.89s/it]\n"
          ]
        },
        {
          "output_type": "stream",
          "name": "stdout",
          "text": [
            "Converting audio...\n",
            "Using cached preprocessed reference audio...\n",
            "Using custom reference text...\n",
            "\n",
            "ref_text    That has convinced you that your microphone is listening to your conversations. \n",
            "gen_text 0 Increase the volume because I need to finish my book before dinner.\n",
            "\n",
            "\n",
            "Generating audio in 1 batches...\n"
          ]
        },
        {
          "output_type": "stream",
          "name": "stderr",
          "text": [
            "\r  0%|          | 0/1 [00:00<?, ?it/s]"
          ]
        },
        {
          "output_type": "stream",
          "name": "stdout",
          "text": [
            "Converting audio...\n",
            "Converting audio...\n",
            "Using custom reference text...\n",
            "\n",
            "ref_text    As Drumwell and Startup had each a boat, I resolved to set up mine and to cut them both out. \n",
            "gen_text 0 I can’t believe she said that! Switch to AV mode and go back to the previous episode.\n",
            "\n",
            "\n",
            "Generating audio in 1 batches...\n"
          ]
        },
        {
          "output_type": "stream",
          "name": "stderr",
          "text": [
            "\n",
            "  0%|          | 0/1 [00:00<?, ?it/s]\u001b[A"
          ]
        },
        {
          "output_type": "stream",
          "name": "stdout",
          "text": [
            "Using cached preprocessed reference audio...\n",
            "Using custom reference text...\n",
            "\n",
            "ref_text    Well, that Johnny Gargano tells all. \n",
            "gen_text 0 Decrease the volume to 5\n",
            "\n",
            "\n",
            "Generating audio in 1 batches...\n"
          ]
        },
        {
          "output_type": "stream",
          "name": "stderr",
          "text": [
            "\n",
            "\n",
            "100%|██████████| 1/1 [00:13<00:00, 13.17s/it]\n",
            "\n",
            "\n",
            "100%|██████████| 1/1 [00:13<00:00, 13.10s/it]\u001b[A\u001b[A\n",
            "100%|██████████| 1/1 [00:13<00:00, 13.10s/it]\n",
            "100%|██████████| 1/1 [00:13<00:00, 13.11s/it]\n"
          ]
        },
        {
          "output_type": "stream",
          "name": "stdout",
          "text": [
            "Converting audio...\n",
            "Using cached preprocessed reference audio...\n",
            "Using custom reference text...\n",
            "\n",
            "ref_text    That has convinced you that your microphone is listening to your conversations. \n",
            "gen_text 0 Increase the volume\n",
            "\n",
            "\n",
            "Generating audio in 1 batches...\n",
            "Converting audio...\n",
            "Converting audio...\n",
            "Using cached preprocessed reference audio...\n",
            "Using custom reference text...\n",
            "\n",
            "ref_text    As Drumwell and Startup had each a boat, I resolved to set up mine and to cut them both out. \n",
            "Using cached preprocessed reference audio...\n",
            "Using custom reference text...\n",
            "\n",
            "ref_text    Well, that Johnny Gargano tells all. \n",
            "gen_text 0 Switch to AV mode\n",
            "\n",
            "\n",
            "Generating audio in 1 batches...\n",
            "gen_text 0 ;\n",
            "gen_text 1 can you believe the game had that ending?\n",
            "\n",
            "\n",
            "Generating audio in 2 batches...\n"
          ]
        },
        {
          "output_type": "stream",
          "name": "stderr",
          "text": [
            "  0%|          | 0/1 [00:00<?, ?it/s]\n",
            "  0%|          | 0/1 [00:00<?, ?it/s]\u001b[A\n",
            "\n",
            "  0%|          | 0/2 [00:00<?, ?it/s]\u001b[A\u001b[A\n",
            "100%|██████████| 1/1 [00:08<00:00,  8.01s/it]\n",
            "\n",
            "\n",
            "100%|██████████| 1/1 [00:08<00:00,  8.02s/it]\n"
          ]
        },
        {
          "output_type": "stream",
          "name": "stdout",
          "text": [
            "Converting audio...\n",
            "Using cached preprocessed reference audio...\n",
            "Using custom reference text...\n",
            "\n",
            "ref_text    As Drumwell and Startup had each a boat, I resolved to set up mine and to cut them both out. \n",
            "gen_text 0 I can't believe she said that!\n",
            "\n",
            "\n",
            "Generating audio in 1 batches...\n",
            "Converting audio...\n",
            "Using cached preprocessed reference audio...\n",
            "Using custom reference text...\n",
            "\n",
            "ref_text    That has convinced you that your microphone is listening to your conversations. \n",
            "gen_text 0 because I need to finish my book before dinner.\n",
            "\n",
            "\n",
            "Generating audio in 1 batches...\n"
          ]
        },
        {
          "output_type": "stream",
          "name": "stderr",
          "text": [
            "  0%|          | 0/1 [00:00<?, ?it/s]\n",
            "100%|██████████| 1/1 [00:13<00:00, 13.59s/it]\n",
            "\n",
            "100%|██████████| 1/1 [00:13<00:00, 13.59s/it]\n",
            "100%|██████████| 2/2 [00:21<00:00, 10.82s/it]\n",
            "\n",
            "100%|██████████| 1/1 [00:13<00:00, 13.59s/it]\n"
          ]
        },
        {
          "output_type": "stream",
          "name": "stdout",
          "text": [
            "Converting audio...\n",
            "Using cached preprocessed reference audio...\n",
            "Using custom reference text...\n",
            "\n",
            "ref_text    As Drumwell and Startup had each a boat, I resolved to set up mine and to cut them both out. \n",
            "gen_text 0 go back to the previous episode.\n",
            "\n",
            "\n",
            "Generating audio in 1 batches...\n"
          ]
        },
        {
          "output_type": "stream",
          "name": "stderr",
          "text": [
            "\r  0%|          | 0/1 [00:00<?, ?it/s]"
          ]
        },
        {
          "output_type": "stream",
          "name": "stdout",
          "text": [
            "Converting audio...Converting audio...\n",
            "\n",
            "Using cached preprocessed reference audio...\n",
            "Using custom reference text...\n",
            "\n",
            "ref_text    And I would, if there were lovely, beautiful things to look at. But there aren't, Mary. \n",
            "gen_text 0 record this show, set the volume to minimum.\n",
            "\n",
            "\n",
            "Generating audio in 1 batches...\n",
            "Using cached preprocessed reference audio...\n",
            "Using custom reference text...\n",
            "\n",
            "ref_text    They said it was a bad idea, Laurie. Respectfully, I don't think that's a good thumbnail, Pete told me, but I'm going to see no time to die tonight and I'm excited about the new James Bond film. So that is why we have. \n",
            "gen_text 0 Switch to Peacock, and did you see the latest episode of that series?\n",
            "\n",
            "\n",
            "Generating audio in 1 batches...\n"
          ]
        },
        {
          "output_type": "stream",
          "name": "stderr",
          "text": [
            "\n",
            "  0%|          | 0/1 [00:00<?, ?it/s]\u001b[A\n",
            "\n",
            "  0%|          | 0/1 [00:00<?, ?it/s]\u001b[A\u001b[A\n",
            "\n",
            "100%|██████████| 1/1 [00:07<00:00,  7.49s/it]\n",
            "\n",
            "100%|██████████| 1/1 [00:07<00:00,  7.49s/it]\n",
            "100%|██████████| 1/1 [00:07<00:00,  7.53s/it]\n"
          ]
        },
        {
          "output_type": "stream",
          "name": "stdout",
          "text": [
            "Converting audio...\n",
            "Using cached preprocessed reference audio...\n",
            "Using custom reference text...\n",
            "\n",
            "ref_text    I like the video introduction. It's a great way to get started on the topic. \n",
            "gen_text 0 decrease the volume, previous channel.\n",
            "\n",
            "\n",
            "Generating audio in 1 batches...\n",
            "Converting audio...\n"
          ]
        },
        {
          "output_type": "stream",
          "name": "stderr",
          "text": [
            "\r  0%|          | 0/1 [00:00<?, ?it/s]"
          ]
        },
        {
          "output_type": "stream",
          "name": "stdout",
          "text": [
            "Using cached preprocessed reference audio...\n",
            "Using custom reference text...\n",
            "\n",
            "ref_text    They said it was a bad idea, Laurie. Respectfully, I don't think that's a good thumbnail, Pete told me, but I'm going to see no time to die tonight and I'm excited about the new James Bond film. So that is why we have. \n",
            "gen_text 0 Switch to Peacock\n",
            "\n",
            "\n",
            "Generating audio in 1 batches...\n",
            "Converting audio...\n"
          ]
        },
        {
          "output_type": "stream",
          "name": "stderr",
          "text": [
            "\n",
            "  0%|          | 0/1 [00:00<?, ?it/s]\u001b[A"
          ]
        },
        {
          "output_type": "stream",
          "name": "stdout",
          "text": [
            "Audio is over 12s, clipping short. (2)\n",
            "Using custom reference text...\n",
            "\n",
            "ref_text    Dated bind research, nope. Sorted, nope. \n",
            "gen_text 0 Have you listened to that new album?\n",
            "gen_text 1 Turn off subtitles and play the song by Pearl Jam.\n",
            "\n",
            "\n",
            "Generating audio in 2 batches...\n"
          ]
        },
        {
          "output_type": "stream",
          "name": "stderr",
          "text": [
            "\n",
            "\n",
            "  0%|          | 0/2 [00:00<?, ?it/s]\u001b[A\u001b[A\n",
            "\n",
            "100%|██████████| 1/1 [00:14<00:00, 14.29s/it]\n",
            "\n",
            "100%|██████████| 1/1 [00:14<00:00, 14.26s/it]\n"
          ]
        },
        {
          "output_type": "stream",
          "name": "stdout",
          "text": [
            "Converting audio...\n",
            "Using cached preprocessed reference audio...\n",
            "Using custom reference text...\n",
            "\n",
            "ref_text    They said it was a bad idea, Laurie. Respectfully, I don't think that's a good thumbnail, Pete told me, but I'm going to see no time to die tonight and I'm excited about the new James Bond film. So that is why we have. \n",
            "gen_text 0 , and did you see the latest episode of that series?\n",
            "\n",
            "\n",
            "Generating audio in 1 batches...\n"
          ]
        },
        {
          "output_type": "stream",
          "name": "stderr",
          "text": [
            "\r  0%|          | 0/1 [00:00<?, ?it/s]"
          ]
        },
        {
          "output_type": "stream",
          "name": "stdout",
          "text": [
            "Converting audio...\n",
            "Using cached preprocessed reference audio...\n",
            "Using custom reference text...\n",
            "\n",
            "ref_text    Hey, it's alright, we put him up on game, it ain't no problem. When I was born in LA, uhm... \n",
            "gen_text 0 rate this show 5, record this show.\n",
            "\n",
            "\n",
            "Generating audio in 1 batches...\n"
          ]
        },
        {
          "output_type": "stream",
          "name": "stderr",
          "text": [
            "\n",
            "100%|██████████| 1/1 [00:13<00:00, 13.99s/it]\n",
            "\n",
            "100%|██████████| 1/1 [00:13<00:00, 13.97s/it]\n",
            "\n",
            "\n",
            "100%|██████████| 2/2 [00:28<00:00, 14.09s/it]\n"
          ]
        },
        {
          "output_type": "stream",
          "name": "stdout",
          "text": [
            "Converting audio...\n",
            "Using cached preprocessed reference audio...\n",
            "Using custom reference text...\n",
            "\n",
            "ref_text    Which I say, sir, replied Joe with an air of legal formality, as if he were making his will, Miss A. or otherwise Havisham. Her expression aired then as following,. \n",
            "gen_text 0 Set picture mode to vivid while we're planning our next movie night.\n",
            "\n",
            "\n",
            "Generating audio in 1 batches...\n",
            "Converting audio...\n"
          ]
        },
        {
          "output_type": "stream",
          "name": "stderr",
          "text": [
            "\r  0%|          | 0/1 [00:00<?, ?it/s]"
          ]
        },
        {
          "output_type": "stream",
          "name": "stdout",
          "text": [
            "Converting audio...\n",
            "Using custom reference text...\n",
            "\n",
            "ref_text    This is Mrs. Jackson. Mr. Jackson isn't here. Who did you say this was?. \n",
            "gen_text 0 set the volume to minimum, rate this show 4.\n",
            "\n",
            "\n",
            "Generating audio in 1 batches...\n"
          ]
        },
        {
          "output_type": "stream",
          "name": "stderr",
          "text": [
            "\n",
            "  0%|          | 0/1 [00:00<?, ?it/s]\u001b[A"
          ]
        },
        {
          "output_type": "stream",
          "name": "stdout",
          "text": [
            "Using cached preprocessed reference audio...\n",
            "Using custom reference text...\n",
            "\n",
            "ref_text    Dated bind research, nope. Sorted, nope. \n",
            "gen_text 0 Turn off subtitles\n",
            "\n",
            "\n",
            "Generating audio in 1 batches...\n"
          ]
        },
        {
          "output_type": "stream",
          "name": "stderr",
          "text": [
            "\n",
            "\n",
            "100%|██████████| 1/1 [00:08<00:00,  8.56s/it]\n",
            "\n",
            "\n",
            "100%|██████████| 1/1 [00:08<00:00,  8.53s/it]\n",
            "\n",
            "100%|██████████| 1/1 [00:08<00:00,  8.54s/it]\n"
          ]
        },
        {
          "output_type": "stream",
          "name": "stdout",
          "text": [
            "Converting audio...\n",
            "Using cached preprocessed reference audio...\n",
            "Using custom reference text...\n",
            "\n",
            "ref_text    Which I say, sir, replied Joe with an air of legal formality, as if he were making his will, Miss A. or otherwise Havisham. Her expression aired then as following,. \n",
            "gen_text 0 Set picture mode to vivid\n",
            "\n",
            "\n",
            "Generating audio in 1 batches...\n",
            "Converting audio...\n",
            "Converting audio...\n"
          ]
        },
        {
          "output_type": "stream",
          "name": "stderr",
          "text": [
            "\r  0%|          | 0/1 [00:00<?, ?it/s]"
          ]
        },
        {
          "output_type": "stream",
          "name": "stdout",
          "text": [
            "Using cached preprocessed reference audio...\n",
            "Using custom reference text...\n",
            "\n",
            "ref_text    Charlie was pounding on my door. Bella, are you okay? What's going on? His voice was frightened. \n",
            "Using cached preprocessed reference audio...\n",
            "Using custom reference text...\n",
            "\n",
            "ref_text    Dated bind research, nope. Sorted, nope. \n",
            "gen_text 0 Did you see the latest episode? Go to channel G4, set contrast to 70,\n",
            "gen_text 1 and don't forget to rewind it later.\n",
            "\n",
            "\n",
            "Generating audio in 2 batches...\n",
            "gen_text 0 Have you listened to that new album?\n",
            "\n",
            "\n",
            "Generating audio in 1 batches...\n"
          ]
        },
        {
          "output_type": "stream",
          "name": "stderr",
          "text": [
            "\n",
            "  0%|          | 0/1 [00:00<?, ?it/s]\u001b[A\n",
            "\n",
            "  0%|          | 0/2 [00:00<?, ?it/s]\u001b[A\u001b[A\n",
            "100%|██████████| 1/1 [00:13<00:00, 13.44s/it]\n",
            "\n",
            "\n",
            "100%|██████████| 1/1 [00:13<00:00, 13.45s/it]\n"
          ]
        },
        {
          "output_type": "stream",
          "name": "stdout",
          "text": [
            "Converting audio...\n",
            "Using cached preprocessed reference audio...\n",
            "Using custom reference text...\n",
            "\n",
            "ref_text    Dated bind research, nope. Sorted, nope. \n",
            "gen_text 0 play the song by Pearl Jam.\n",
            "\n",
            "\n",
            "Generating audio in 1 batches...\n",
            "Converting audio...\n",
            "Using cached preprocessed reference audio...\n",
            "Using custom reference text...\n",
            "\n",
            "ref_text    Which I say, sir, replied Joe with an air of legal formality, as if he were making his will, Miss A. or otherwise Havisham. Her expression aired then as following,. \n",
            "gen_text 0 while we're planning our next movie night.\n",
            "\n",
            "\n",
            "Generating audio in 1 batches...\n"
          ]
        },
        {
          "output_type": "stream",
          "name": "stderr",
          "text": [
            "  0%|          | 0/1 [00:00<?, ?it/s]\n",
            "  0%|          | 0/1 [00:00<?, ?it/s]\u001b[A\n",
            "\n",
            "100%|██████████| 2/2 [00:25<00:00, 12.68s/it]\n",
            "100%|██████████| 1/1 [00:11<00:00, 11.89s/it]\n",
            "100%|██████████| 1/1 [00:11<00:00, 11.89s/it]\n",
            "100%|██████████| 1/1 [00:11<00:00, 11.89s/it]\n"
          ]
        },
        {
          "output_type": "stream",
          "name": "stdout",
          "text": [
            "Converting audio...\n",
            "Using cached preprocessed reference audio...\n",
            "Using custom reference text...\n",
            "\n",
            "ref_text    When you say Colburn, what do you say?. \n",
            "gen_text 0 turn on the TV, launch Red Bull TV\n",
            "\n",
            "\n",
            "Generating audio in 1 batches...\n",
            "Converting audio...\n",
            "Converting audio...\n"
          ]
        },
        {
          "output_type": "stream",
          "name": "stderr",
          "text": [
            "\r  0%|          | 0/1 [00:00<?, ?it/s]"
          ]
        },
        {
          "output_type": "stream",
          "name": "stdout",
          "text": [
            "Using cached preprocessed reference audio...\n",
            "Using custom reference text...\n",
            "\n",
            "ref_text    Charlie was pounding on my door. Bella, are you okay? What's going on? His voice was frightened. \n",
            "gen_text 0 Go to channel G4, set contrast to 70, and don't forget to rewind it later.\n",
            "\n",
            "\n",
            "Generating audio in 1 batches...\n",
            "Using cached preprocessed reference audio...\n",
            "Using custom reference text...\n",
            "\n",
            "ref_text    Yea, yea, it's simple. Yea, it's Ryan Nielsen's defense. \n",
            "gen_text 0 Can you believe how fast this week went?\n",
            "gen_text 1 Mute the TV and let's watch Scooby-Doo!\n",
            "gen_text 2 and the Goblin King.\n",
            "\n",
            "\n",
            "Generating audio in 3 batches...\n"
          ]
        },
        {
          "output_type": "stream",
          "name": "stderr",
          "text": [
            "\n",
            "\n",
            "  0%|          | 0/1 [00:00<?, ?it/s]\u001b[A\u001b[A\n",
            "  0%|          | 0/3 [00:00<?, ?it/s]\u001b[A\n",
            "\n",
            "100%|██████████| 1/1 [00:14<00:00, 14.62s/it]\n",
            "\n",
            "100%|██████████| 1/1 [00:14<00:00, 14.64s/it]\n"
          ]
        },
        {
          "output_type": "stream",
          "name": "stdout",
          "text": [
            "Converting audio...\n",
            "Using cached preprocessed reference audio...\n",
            "Using custom reference text...\n",
            "\n",
            "ref_text    Charlie was pounding on my door. Bella, are you okay? What's going on? His voice was frightened. \n",
            "gen_text 0 Did you see the latest episode?\n",
            "\n",
            "\n",
            "Generating audio in 1 batches...\n",
            "Converting audio...\n"
          ]
        },
        {
          "output_type": "stream",
          "name": "stderr",
          "text": [
            "\r  0%|          | 0/1 [00:00<?, ?it/s]"
          ]
        },
        {
          "output_type": "stream",
          "name": "stdout",
          "text": [
            "Using custom reference text...\n",
            "\n",
            "ref_text    Oh yea? Why don't you try saying, my daughter?. \n",
            "gen_text 0 turn off the TV, remind me when Easy A starts\n",
            "\n",
            "\n",
            "Generating audio in 1 batches...\n"
          ]
        },
        {
          "output_type": "stream",
          "name": "stderr",
          "text": [
            "\n",
            "\n",
            "  0%|          | 0/1 [00:00<?, ?it/s]\u001b[A\u001b[A\n",
            " 67%|██████▋   | 2/3 [00:27<00:13, 13.39s/it]\u001b[A\n",
            "\n",
            "100%|██████████| 1/1 [00:12<00:00, 12.46s/it]\n",
            "100%|██████████| 1/1 [00:12<00:00, 12.50s/it]\n"
          ]
        },
        {
          "output_type": "stream",
          "name": "stdout",
          "text": [
            "Converting audio...\n",
            "Converting audio...\n",
            "Using cached preprocessed reference audio...\n",
            "Using custom reference text...\n",
            "\n",
            "ref_text    No idea where she is? Nope. I haven't seen her since she was here last night. She may be gone for good. But she can't be. All her stuff is there. Clothes and everything. \n",
            "gen_text 0 set contrast to 50, turn on the TV, launch TikTok TV\n",
            "\n",
            "\n",
            "Generating audio in 1 batches...\n"
          ]
        },
        {
          "output_type": "stream",
          "name": "stderr",
          "text": [
            "\r  0%|          | 0/1 [00:00<?, ?it/s]"
          ]
        },
        {
          "output_type": "stream",
          "name": "stdout",
          "text": [
            "Using custom reference text...\n",
            "\n",
            "ref_text    Well sure, but that was so we could be a lawyer. Okay, so now we're a lawyer. Come on, I'll shoot you for a dollar. Uh, could you make it fifteen as a sort of a loan? Fifteen. I really need it very bad, boss. \n",
            "gen_text 0 I can hear that song playing again. Disable game mode, decrease the volume to 30, and let me tell you about my day.\n",
            "\n",
            "\n",
            "Generating audio in 1 batches...\n"
          ]
        },
        {
          "output_type": "stream",
          "name": "stderr",
          "text": [
            "\n",
            "\n",
            "  0%|          | 0/1 [00:00<?, ?it/s]\u001b[A\u001b[A\n",
            "100%|██████████| 3/3 [00:36<00:00, 12.28s/it]\n",
            "\n",
            "\n",
            "100%|██████████| 1/1 [00:09<00:00,  9.62s/it]\n",
            "100%|██████████| 1/1 [00:09<00:00,  9.61s/it]\n"
          ]
        },
        {
          "output_type": "stream",
          "name": "stdout",
          "text": [
            "Converting audio...\n",
            "Using cached preprocessed reference audio...\n",
            "Using custom reference text...\n",
            "\n",
            "ref_text    Two crashes of brand new airplanes within five months of each other, that doesn't happen in modern aviation. \n",
            "gen_text 0 launch Plex, remind me when Dr. Strange starts, turn off the TV\n",
            "\n",
            "\n",
            "Generating audio in 1 batches...\n",
            "Converting audio...\n",
            "Converting audio...\n",
            "Using cached preprocessed reference audio...\n",
            "Using custom reference text...\n",
            "\n",
            "ref_text    Well sure, but that was so we could be a lawyer. Okay, so now we're a lawyer. Come on, I'll shoot you for a dollar. Uh, could you make it fifteen as a sort of a loan? Fifteen. I really need it very bad, boss. \n",
            "gen_text 0 Disable game mode, decrease the volume to 30, and let me tell you about my day.\n",
            "\n",
            "\n",
            "Generating audio in 1 batches...\n",
            "Using cached preprocessed reference audio...\n",
            "Using custom reference text...\n",
            "\n",
            "ref_text    Yea, yea, it's simple. Yea, it's Ryan Nielsen's defense. \n",
            "gen_text 0 Mute the TV\n",
            "\n",
            "\n",
            "Generating audio in 1 batches...\n"
          ]
        },
        {
          "output_type": "stream",
          "name": "stderr",
          "text": [
            "  0%|          | 0/1 [00:00<?, ?it/s]\n",
            "  0%|          | 0/1 [00:00<?, ?it/s]\u001b[A\n",
            "\n",
            "  0%|          | 0/1 [00:00<?, ?it/s]\u001b[A\u001b[A\n",
            "100%|██████████| 1/1 [00:08<00:00,  8.30s/it]\n",
            "100%|██████████| 1/1 [00:08<00:00,  8.30s/it]\n",
            "\n",
            "\n",
            "100%|██████████| 1/1 [00:08<00:00,  8.30s/it]\n"
          ]
        },
        {
          "output_type": "stream",
          "name": "stdout",
          "text": [
            "Converting audio...\n",
            "Using cached preprocessed reference audio...\n",
            "Using custom reference text...\n",
            "\n",
            "ref_text    Yea, yea, it's simple. Yea, it's Ryan Nielsen's defense. \n",
            "gen_text 0 Can you believe how fast this week went?\n",
            "\n",
            "\n",
            "Generating audio in 1 batches...\n",
            "Converting audio...\n",
            "Converting audio...\n",
            "Using cached preprocessed reference audio...\n",
            "Using custom reference text...\n",
            "\n",
            "ref_text    Well sure, but that was so we could be a lawyer. Okay, so now we're a lawyer. Come on, I'll shoot you for a dollar. Uh, could you make it fifteen as a sort of a loan? Fifteen. I really need it very bad, boss. \n",
            "gen_text 0 I can hear that song playing again.\n",
            "\n",
            "\n",
            "Generating audio in 1 batches...\n"
          ]
        },
        {
          "output_type": "stream",
          "name": "stderr",
          "text": [
            "\r  0%|          | 0/1 [00:00<?, ?it/s]"
          ]
        },
        {
          "output_type": "stream",
          "name": "stdout",
          "text": [
            "Using cached preprocessed reference audio...\n",
            "Using custom reference text...\n",
            "\n",
            "ref_text    Keep shining like a light. Remember, loyalty is a lifestyle, not just a word. Beware those who wit you only when you rising to the top of when you winning. \n",
            "gen_text 0 Can you believe how cold it is today? Set the volume to maximum and record this show.\n",
            "\n",
            "\n",
            "Generating audio in 1 batches...\n"
          ]
        },
        {
          "output_type": "stream",
          "name": "stderr",
          "text": [
            "\n",
            "  0%|          | 0/1 [00:00<?, ?it/s]\u001b[A\n",
            "\n",
            "100%|██████████| 1/1 [00:13<00:00, 13.29s/it]\n",
            "\n",
            "100%|██████████| 1/1 [00:13<00:00, 13.29s/it]\u001b[A\n",
            "\n",
            "100%|██████████| 1/1 [00:13<00:00, 13.29s/it]\n",
            "100%|██████████| 1/1 [00:13<00:00, 13.28s/it]\n"
          ]
        },
        {
          "output_type": "stream",
          "name": "stdout",
          "text": [
            "Converting audio...\n",
            "Using cached preprocessed reference audio...\n",
            "Using custom reference text...\n",
            "\n",
            "ref_text    Yea, yea, it's simple. Yea, it's Ryan Nielsen's defense. \n",
            "gen_text 0 let's watch Scooby-Doo! and the Goblin King.\n",
            "\n",
            "\n",
            "Generating audio in 1 batches...\n",
            "Converting audio...\n",
            "Converting audio...\n"
          ]
        },
        {
          "output_type": "stream",
          "name": "stderr",
          "text": [
            "\r  0%|          | 0/1 [00:00<?, ?it/s]"
          ]
        },
        {
          "output_type": "stream",
          "name": "stdout",
          "text": [
            "Using cached preprocessed reference audio...\n",
            "Using custom reference text...\n",
            "\n",
            "ref_text    Keep shining like a light. Remember, loyalty is a lifestyle, not just a word. Beware those who wit you only when you rising to the top of when you winning. \n",
            "gen_text 0 Set the volume to maximum\n",
            "\n",
            "\n",
            "Generating audio in 1 batches...\n"
          ]
        },
        {
          "output_type": "stream",
          "name": "stderr",
          "text": [
            "\n",
            "  0%|          | 0/1 [00:00<?, ?it/s]\u001b[A"
          ]
        },
        {
          "output_type": "stream",
          "name": "stdout",
          "text": [
            "Using custom reference text...\n",
            "\n",
            "ref_text    Hi guys, this is the first video in the... \n",
            "gen_text 0 What's your favorite movie? Set contrast to 50 while I select LEGO Scooby-Doo!\n",
            "gen_text 1 Blowout Beach Bash.\n",
            "\n",
            "\n",
            "Generating audio in 2 batches...\n"
          ]
        },
        {
          "output_type": "stream",
          "name": "stderr",
          "text": [
            "\n",
            "\n",
            "  0%|          | 0/2 [00:00<?, ?it/s]\u001b[A\u001b[A\n",
            "\n",
            "100%|██████████| 1/1 [00:16<00:00, 16.46s/it]\n",
            "\n",
            "100%|██████████| 1/1 [00:16<00:00, 16.40s/it]\n"
          ]
        },
        {
          "output_type": "stream",
          "name": "stdout",
          "text": [
            "Converting audio...\n",
            "Using cached preprocessed reference audio...\n",
            "Using custom reference text...\n",
            "\n",
            "ref_text    Keep shining like a light. Remember, loyalty is a lifestyle, not just a word. Beware those who wit you only when you rising to the top of when you winning. \n",
            "gen_text 0 and\n",
            "\n",
            "\n",
            "Generating audio in 1 batches...\n",
            "Converting audio...\n"
          ]
        },
        {
          "output_type": "stream",
          "name": "stderr",
          "text": [
            "\r  0%|          | 0/1 [00:00<?, ?it/s]"
          ]
        },
        {
          "output_type": "stream",
          "name": "stdout",
          "text": [
            "Using custom reference text...\n",
            "\n",
            "ref_text    When you say Colburn, what do you say?. \n",
            "gen_text 0 I recently watched 'My Big Fat Greek Wedding 2' and thought it was really funny.\n",
            "\n",
            "\n",
            "Generating audio in 1 batches...\n"
          ]
        },
        {
          "output_type": "stream",
          "name": "stderr",
          "text": [
            "\n",
            "  0%|          | 0/1 [00:00<?, ?it/s]\u001b[A\n",
            "100%|██████████| 1/1 [00:10<00:00, 10.41s/it]\u001b[A\n",
            "\n",
            "100%|██████████| 1/1 [00:10<00:00, 10.42s/it]\n",
            "100%|██████████| 2/2 [00:26<00:00, 13.44s/it]\n",
            "100%|██████████| 1/1 [00:10<00:00, 10.46s/it]\n"
          ]
        },
        {
          "output_type": "stream",
          "name": "stdout",
          "text": [
            "Converting audio...\n",
            "Using cached preprocessed reference audio...\n",
            "Using custom reference text...\n",
            "\n",
            "ref_text    Keep shining like a light. Remember, loyalty is a lifestyle, not just a word. Beware those who wit you only when you rising to the top of when you winning. \n",
            "gen_text 0 record this show\n",
            "\n",
            "\n",
            "Generating audio in 1 batches...\n",
            "Converting audio...\n",
            "Converting audio...\n",
            "Using cached preprocessed reference audio...\n",
            "Using custom reference text...\n",
            "\n",
            "ref_text    Hi guys, this is the first video in the... \n",
            "gen_text 0 Set contrast to 50 while I select LEGO Scooby-Doo! Blowout Beach Bash.\n",
            "\n",
            "\n",
            "Generating audio in 1 batches...\n",
            "Using cached preprocessed reference audio...\n",
            "Using custom reference text...\n",
            "\n",
            "ref_text    Okay guys, I just said that, you know we talked about variables and how they can store. \n",
            "gen_text 0 Have you heard the song 'Show Me The Way' by Styx? It's such a classic.\n",
            "\n",
            "\n",
            "Generating audio in 1 batches...\n"
          ]
        },
        {
          "output_type": "stream",
          "name": "stderr",
          "text": [
            "\n",
            "  0%|          | 0/1 [00:00<?, ?it/s]\n",
            "\n",
            "100%|██████████| 1/1 [00:12<00:00, 12.09s/it]\n",
            "\n",
            "\n",
            "100%|██████████| 1/1 [00:12<00:00, 12.09s/it]\u001b[A\u001b[A\n",
            "100%|██████████| 1/1 [00:12<00:00, 12.10s/it]\n",
            "100%|██████████| 1/1 [00:12<00:00, 12.09s/it]\n"
          ]
        },
        {
          "output_type": "stream",
          "name": "stdout",
          "text": [
            "Converting audio...\n",
            "Using cached preprocessed reference audio...\n",
            "Using custom reference text...\n",
            "\n",
            "ref_text    Keep shining like a light. Remember, loyalty is a lifestyle, not just a word. Beware those who wit you only when you rising to the top of when you winning. \n",
            "gen_text 0 . Can you believe how cold it is today?\n",
            "\n",
            "\n",
            "Generating audio in 1 batches...\n",
            "Converting audio...\n"
          ]
        },
        {
          "output_type": "stream",
          "name": "stderr",
          "text": [
            "\r  0%|          | 0/1 [00:00<?, ?it/s]"
          ]
        },
        {
          "output_type": "stream",
          "name": "stdout",
          "text": [
            "Using cached preprocessed reference audio...\n",
            "Using custom reference text...\n",
            "\n",
            "ref_text    Have you ever been asked what's your passion and just felt totally lost at how to even begin to answer it? Me too. In this video, I want to talk about your calling and what brings you here. To do that, I want to play a game with you. We're going to play what's your calling. Ready? Let's get started. \n",
            "gen_text 0 I've been meaning to check out some TED talks lately, they always have interesting topics.\n",
            "\n",
            "\n",
            "Generating audio in 1 batches...\n",
            "Converting audio...\n",
            "Using cached preprocessed reference audio...\n",
            "Using custom reference text...\n",
            "\n",
            "ref_text    Hi guys, this is the first video in the... \n",
            "gen_text 0 What's your favorite movie?\n",
            "\n",
            "\n",
            "Generating audio in 1 batches...\n"
          ]
        },
        {
          "output_type": "stream",
          "name": "stderr",
          "text": [
            "\n",
            "  0%|          | 0/1 [00:00<?, ?it/s]\u001b[A\n",
            "\n",
            "100%|██████████| 1/1 [00:12<00:00, 12.06s/it]\n",
            "\n",
            "\n",
            "100%|██████████| 1/1 [00:12<00:00, 12.03s/it]\u001b[A\u001b[A\n",
            "100%|██████████| 1/1 [00:12<00:00, 12.04s/it]\n",
            "100%|██████████| 1/1 [00:12<00:00, 12.05s/it]\n"
          ]
        },
        {
          "output_type": "stream",
          "name": "stdout",
          "text": [
            "Converting audio...\n",
            "Using cached preprocessed reference audio...\n",
            "Using custom reference text...\n",
            "\n",
            "ref_text    If it's blood you want, and coal you want, and the call of the Klondike night. If it's mud you want, and gold you want, or what Robert Service would write. \n",
            "gen_text 0 I really enjoyed that dinner last night. Decrease the volume to 30 and enable sleep timer for 60 minutes.\n",
            "\n",
            "\n",
            "Generating audio in 1 batches...\n",
            "Converting audio...\n",
            "Converting audio...\n",
            "Using cached preprocessed reference audio...\n",
            "Using custom reference text...\n",
            "\n",
            "ref_text    And I would, if there were lovely, beautiful things to look at. But there aren't, Mary. \n",
            "gen_text 0 Do you remember the days of PBS Kids? I used to love watching those shows as a kid.\n",
            "\n",
            "\n",
            "Generating audio in 1 batches...\n",
            "Using cached preprocessed reference audio...\n",
            "Using custom reference text...\n",
            "\n",
            "ref_text    Hello everyone. My name is Luis Ahoyas. I'm the executive director of the Oceanic Preservation Society and director of a film called The Cove. And I'm here today with producer Craig Foster and co-director James Reed of My Octopus Teacher. It's my great pleasure to meet you both. Congratulations. \n"
          ]
        },
        {
          "output_type": "stream",
          "name": "stderr",
          "text": [
            "\r  0%|          | 0/1 [00:00<?, ?it/s]"
          ]
        },
        {
          "output_type": "stream",
          "name": "stdout",
          "text": [
            "gen_text 0 I just realized I forgot the recipe! Go to channel Disney XD, rewind, and can you remind me what I need?\n",
            "\n",
            "\n",
            "Generating audio in 1 batches...\n"
          ]
        },
        {
          "output_type": "stream",
          "name": "stderr",
          "text": [
            "\n",
            "  0%|          | 0/1 [00:00<?, ?it/s]\u001b[A\n",
            "\n",
            "  0%|          | 0/1 [00:00<?, ?it/s]\u001b[A\u001b[A\n",
            "100%|██████████| 1/1 [00:12<00:00, 12.46s/it]\n",
            "100%|██████████| 1/1 [00:12<00:00, 12.47s/it]\n",
            "\n",
            "100%|██████████| 1/1 [00:12<00:00, 12.47s/it]\n",
            "100%|██████████| 1/1 [00:12<00:00, 12.46s/it]\n"
          ]
        },
        {
          "output_type": "stream",
          "name": "stdout",
          "text": [
            "Converting audio...\n",
            "Using cached preprocessed reference audio...\n",
            "Using custom reference text...\n",
            "\n",
            "ref_text    This is Mrs. Jackson. Mr. Jackson isn't here. Who did you say this was?. \n",
            "gen_text 0 what’s playing now\n",
            "\n",
            "\n",
            "Generating audio in 1 batches...\n",
            "Converting audio...\n",
            "Converting audio...\n",
            "Using cached preprocessed reference audio...\n",
            "Using custom reference text...\n",
            "\n",
            "ref_text    If it's blood you want, and coal you want, and the call of the Klondike night. If it's mud you want, and gold you want, or what Robert Service would write. \n",
            "gen_text 0 Decrease the volume to 30\n",
            "\n",
            "\n",
            "Generating audio in 1 batches...\n"
          ]
        },
        {
          "output_type": "stream",
          "name": "stderr",
          "text": [
            "\r  0%|          | 0/1 [00:00<?, ?it/s]"
          ]
        },
        {
          "output_type": "stream",
          "name": "stdout",
          "text": [
            "Using cached preprocessed reference audio...\n",
            "Using custom reference text...\n",
            "\n",
            "ref_text    Hello everyone. My name is Luis Ahoyas. I'm the executive director of the Oceanic Preservation Society and director of a film called The Cove. And I'm here today with producer Craig Foster and co-director James Reed of My Octopus Teacher. It's my great pleasure to meet you both. Congratulations. \n",
            "gen_text 0 Go to channel Disney XD, rewind, and can you remind me what I need?\n",
            "\n",
            "\n",
            "Generating audio in 1 batches...\n"
          ]
        },
        {
          "output_type": "stream",
          "name": "stderr",
          "text": [
            "\n",
            "  0%|          | 0/1 [00:00<?, ?it/s]\u001b[A\n",
            "\n",
            "  0%|          | 0/1 [00:00<?, ?it/s]\u001b[A\u001b[A\n",
            "\n",
            "100%|██████████| 1/1 [00:08<00:00,  8.27s/it]\n",
            "\n",
            "100%|██████████| 1/1 [00:08<00:00,  8.29s/it]\n",
            "100%|██████████| 1/1 [00:08<00:00,  8.28s/it]\n"
          ]
        },
        {
          "output_type": "stream",
          "name": "stdout",
          "text": [
            "Converting audio...\n",
            "Using cached preprocessed reference audio...\n",
            "Using custom reference text...\n",
            "\n",
            "ref_text    Hello everyone. My name is Luis Ahoyas. I'm the executive director of the Oceanic Preservation Society and director of a film called The Cove. And I'm here today with producer Craig Foster and co-director James Reed of My Octopus Teacher. It's my great pleasure to meet you both. Congratulations. \n",
            "gen_text 0 I just realized I forgot the recipe!\n",
            "\n",
            "\n",
            "Generating audio in 1 batches...\n",
            "Converting audio...\n",
            "Converting audio...\n",
            "Using cached preprocessed reference audio...\n",
            "Using custom reference text...\n",
            "\n",
            "ref_text    He led me back to the room that he'd pointed out as Carlisle's office. He paused outside the door for an instant. Come in, Carlisle's voice invited. \n",
            "gen_text 0 disable night mode\n",
            "\n",
            "\n",
            "Generating audio in 1 batches...\n",
            "Using cached preprocessed reference audio...\n",
            "Using custom reference text...\n",
            "\n",
            "ref_text    If it's blood you want, and coal you want, and the call of the Klondike night. If it's mud you want, and gold you want, or what Robert Service would write. \n",
            "gen_text 0 and\n",
            "\n",
            "\n",
            "Generating audio in 1 batches...\n"
          ]
        },
        {
          "output_type": "stream",
          "name": "stderr",
          "text": [
            "  0%|          | 0/1 [00:00<?, ?it/s]\n",
            "  0%|          | 0/1 [00:00<?, ?it/s]\u001b[A\n",
            "\n",
            "  0%|          | 0/1 [00:00<?, ?it/s]\u001b[A\u001b[A\n",
            "100%|██████████| 1/1 [00:07<00:00,  7.30s/it]\n",
            "100%|██████████| 1/1 [00:07<00:00,  7.31s/it]\n",
            "\n",
            "100%|██████████| 1/1 [00:07<00:00,  7.32s/it]\n",
            "100%|██████████| 1/1 [00:07<00:00,  7.30s/it]\n"
          ]
        },
        {
          "output_type": "stream",
          "name": "stdout",
          "text": [
            "Converting audio...\n",
            "Using cached preprocessed reference audio...\n",
            "Using custom reference text...\n",
            "\n",
            "ref_text    I asked him to read the Declaration of Independence and the Constitution. \n",
            "gen_text 0 set the volume to maximum\n",
            "\n",
            "\n",
            "Generating audio in 1 batches...\n",
            "Converting audio...\n",
            "Using cached preprocessed reference audio...\n",
            "Using custom reference text...\n",
            "\n",
            "ref_text    If it's blood you want, and coal you want, and the call of the Klondike night. If it's mud you want, and gold you want, or what Robert Service would write. \n",
            "gen_text 0 enable sleep timer for 60 minutes\n",
            "\n",
            "\n",
            "Generating audio in 1 batches...\n",
            "Converting audio...\n"
          ]
        },
        {
          "output_type": "stream",
          "name": "stderr",
          "text": [
            "\r  0%|          | 0/1 [00:00<?, ?it/s]"
          ]
        },
        {
          "output_type": "stream",
          "name": "stdout",
          "text": [
            "Using cached preprocessed reference audio...\n",
            "Using custom reference text...\n",
            "\n",
            "ref_text    Investigate torture allegation, extrajudicial execution and other violations of human rights committed in Guantanamo. \n",
            "gen_text 0 I heard that 'Step Up Revolution' is a really fun movie to watch with friends.\n",
            "\n",
            "\n",
            "Generating audio in 1 batches...\n"
          ]
        },
        {
          "output_type": "stream",
          "name": "stderr",
          "text": [
            "\n",
            "  0%|          | 0/1 [00:00<?, ?it/s]\u001b[A\n",
            "\n",
            "100%|██████████| 1/1 [00:12<00:00, 12.53s/it]\n",
            "\n",
            "\n",
            "100%|██████████| 1/1 [00:12<00:00, 12.51s/it]\n",
            "\n",
            "100%|██████████| 1/1 [00:12<00:00, 12.52s/it]\n"
          ]
        },
        {
          "output_type": "stream",
          "name": "stdout",
          "text": [
            "Converting audio...\n",
            "Using cached preprocessed reference audio...\n",
            "Using custom reference text...\n",
            "\n",
            "ref_text    So, that will become a movie now and be quite fascinating. \n",
            "gen_text 0 go back to home screen\n",
            "\n",
            "\n",
            "Generating audio in 1 batches...\n",
            "Converting audio...\n",
            "Converting audio...\n",
            "Using cached preprocessed reference audio...\n",
            "Using custom reference text...\n",
            "\n",
            "ref_text    If it's blood you want, and coal you want, and the call of the Klondike night. If it's mud you want, and gold you want, or what Robert Service would write. \n",
            "gen_text 0 . I really enjoyed that dinner last night.\n",
            "\n",
            "\n",
            "Generating audio in 1 batches...\n",
            "Using cached preprocessed reference audio...\n",
            "Using custom reference text...\n",
            "\n",
            "ref_text    It's not so much that Goldman Sachs is ruling the world, but it is like a greater parasite that is threatening to stop the world from rebalancing itself and recovering a sense of democratic control over its future. \n"
          ]
        },
        {
          "output_type": "stream",
          "name": "stderr",
          "text": [
            "\r  0%|          | 0/1 [00:00<?, ?it/s]"
          ]
        },
        {
          "output_type": "stream",
          "name": "stdout",
          "text": [
            "gen_text 0 Have you listened to any of Santana's music? 'Gypsy Woman' is one of my favorites.\n",
            "\n",
            "\n",
            "Generating audio in 1 batches...\n"
          ]
        },
        {
          "output_type": "stream",
          "name": "stderr",
          "text": [
            "\n",
            "  0%|          | 0/1 [00:00<?, ?it/s]\u001b[A\n",
            "\n",
            "  0%|          | 0/1 [00:00<?, ?it/s]\u001b[A\u001b[A\n",
            "\n",
            "100%|██████████| 1/1 [00:10<00:00, 10.64s/it]\u001b[A\u001b[A\n",
            "100%|██████████| 1/1 [00:10<00:00, 10.65s/it]\n",
            "100%|██████████| 1/1 [00:10<00:00, 10.65s/it]\n",
            "100%|██████████| 1/1 [00:10<00:00, 10.66s/it]\n"
          ]
        },
        {
          "output_type": "stream",
          "name": "stdout",
          "text": [
            "Converting audio...\n",
            "Using cached preprocessed reference audio...\n",
            "Using custom reference text...\n",
            "\n",
            "ref_text    Ha! You look bored. Hello. \n",
            "gen_text 0 Did you see the game last weekend?\n",
            "gen_text 1 Scroll up and play 'Christmas In Killarney' by Bing Crosby.\n",
            "\n",
            "\n",
            "Generating audio in 2 batches...\n",
            "Converting audio...\n",
            "Using cached preprocessed reference audio...\n",
            "Using custom reference text...\n",
            "\n",
            "ref_text    Yea, yea, it's simple. Yea, it's Ryan Nielsen's defense. \n",
            "gen_text 0 It's interesting how 'The Adventures of Baron Munchausen' mixes fantasy with humor.\n",
            "\n",
            "\n",
            "Generating audio in 1 batches...\n",
            "Converting audio...\n"
          ]
        },
        {
          "output_type": "stream",
          "name": "stderr",
          "text": [
            "\r  0%|          | 0/2 [00:00<?, ?it/s]"
          ]
        },
        {
          "output_type": "stream",
          "name": "stdout",
          "text": [
            "Using cached preprocessed reference audio...\n",
            "Using custom reference text...\n",
            "\n",
            "ref_text    Hey guys, what's up? LDShadowLady here. Welcome back to my testing centre, where I'm going to be showing you another mod today. I'm showing you the Animals Plus mod, which features, among others, that turtle that's spinning around in the background like a crazy thing. \n",
            "gen_text 0 Change input to HBO Max while I discuss our plans for the weekend.\n",
            "\n",
            "\n",
            "Generating audio in 1 batches...\n"
          ]
        },
        {
          "output_type": "stream",
          "name": "stderr",
          "text": [
            "\n",
            "  0%|          | 0/1 [00:00<?, ?it/s]\u001b[A\n",
            "\n",
            " 50%|█████     | 1/2 [00:11<00:11, 11.49s/it]\n",
            "100%|██████████| 1/1 [00:11<00:00, 11.49s/it]\n",
            "\n",
            "\n",
            "100%|██████████| 1/1 [00:11<00:00, 11.49s/it]\n"
          ]
        },
        {
          "output_type": "stream",
          "name": "stdout",
          "text": [
            "Converting audio...\n",
            "Using cached preprocessed reference audio...\n",
            "Using custom reference text...\n",
            "\n",
            "ref_text    Yet the wealthy customs officer was not altogether the hardened man of the world that he seemed. Beneath the appearance of worldliness and pride. \n",
            "gen_text 0 I can't decide if I should watch something on Disney+ or check out Tubi TV tonight.\n",
            "\n",
            "\n",
            "Generating audio in 1 batches...\n",
            "Converting audio...\n",
            "Using cached preprocessed reference audio...\n",
            "Using custom reference text...\n",
            "\n",
            "ref_text    Hey guys, what's up? LDShadowLady here. Welcome back to my testing centre, where I'm going to be showing you another mod today. I'm showing you the Animals Plus mod, which features, among others, that turtle that's spinning around in the background like a crazy thing. \n",
            "gen_text 0 Change input to HBO Max\n",
            "\n",
            "\n",
            "Generating audio in 1 batches...\n"
          ]
        },
        {
          "output_type": "stream",
          "name": "stderr",
          "text": [
            "\n",
            "  0%|          | 0/1 [00:00<?, ?it/s]\u001b[A\n",
            "\n",
            "  0%|          | 0/1 [00:00<?, ?it/s]\u001b[A\u001b[A\n",
            "\n",
            "100%|██████████| 1/1 [00:15<00:00, 15.94s/it]\n",
            "\n",
            "100%|██████████| 1/1 [00:15<00:00, 15.95s/it]\n",
            "100%|██████████| 2/2 [00:27<00:00, 13.75s/it]\n"
          ]
        },
        {
          "output_type": "stream",
          "name": "stdout",
          "text": [
            "Converting audio...\n",
            "Using cached preprocessed reference audio...\n",
            "Using custom reference text...\n",
            "\n",
            "ref_text    Hey guys, what's up? LDShadowLady here. Welcome back to my testing centre, where I'm going to be showing you another mod today. I'm showing you the Animals Plus mod, which features, among others, that turtle that's spinning around in the background like a crazy thing. \n",
            "gen_text 0 while I discuss our plans for the weekend.\n",
            "\n",
            "\n",
            "Generating audio in 1 batches...\n",
            "Converting audio...\n"
          ]
        },
        {
          "output_type": "stream",
          "name": "stderr",
          "text": [
            "\r  0%|          | 0/1 [00:00<?, ?it/s]"
          ]
        },
        {
          "output_type": "stream",
          "name": "stdout",
          "text": [
            "Using cached preprocessed reference audio...\n",
            "Using custom reference text...\n",
            "\n",
            "ref_text    Dated bind research, nope. Sorted, nope. \n",
            "gen_text 0 mute the TV\n",
            "\n",
            "\n",
            "Generating audio in 1 batches...\n"
          ]
        },
        {
          "output_type": "stream",
          "name": "stderr",
          "text": [
            "\n",
            "  0%|          | 0/1 [00:00<?, ?it/s]\u001b[A"
          ]
        },
        {
          "output_type": "stream",
          "name": "stdout",
          "text": [
            "Converting audio...\n",
            "Using cached preprocessed reference audio...\n",
            "Using custom reference text...\n",
            "\n",
            "ref_text    Ha! You look bored. Hello. \n",
            "gen_text 0 Scroll up\n",
            "\n",
            "\n",
            "Generating audio in 1 batches...\n"
          ]
        },
        {
          "output_type": "stream",
          "name": "stderr",
          "text": [
            "\n",
            "\n",
            "  0%|          | 0/1 [00:00<?, ?it/s]\u001b[A\u001b[A\n",
            "\n",
            "100%|██████████| 1/1 [00:11<00:00, 11.10s/it]\n",
            "100%|██████████| 1/1 [00:11<00:00, 11.14s/it]\n",
            "100%|██████████| 1/1 [00:11<00:00, 11.14s/it]\n",
            "100%|██████████| 1/1 [00:11<00:00, 11.14s/it]\n"
          ]
        },
        {
          "output_type": "stream",
          "name": "stdout",
          "text": [
            "Converting audio...\n",
            "Using cached preprocessed reference audio...\n",
            "Using custom reference text...\n",
            "\n",
            "ref_text    We got kicked out the old crib, so then we moved to some apartments down the street, and uh, I needed some weed, and I knew this nigga already from like a few, like weeks before that, when we came to get the weed with my nigga Matt. \n",
            "gen_text 0 Set the volume to minimum because I can't hear you over the music.\n",
            "\n",
            "\n",
            "Generating audio in 1 batches...\n",
            "Converting audio...\n",
            "Converting audio...\n"
          ]
        },
        {
          "output_type": "stream",
          "name": "stderr",
          "text": [
            "\r  0%|          | 0/1 [00:00<?, ?it/s]"
          ]
        },
        {
          "output_type": "stream",
          "name": "stdout",
          "text": [
            "Using cached preprocessed reference audio...\n",
            "Using custom reference text...\n",
            "\n",
            "ref_text    She's recently named the world's least gay-friendly place. While the world's least lesbian-friendly place is Sephora. \n",
            "Using cached preprocessed reference audio...\n",
            "Using custom reference text...\n",
            "\n",
            "ref_text    Ha! You look bored. Hello. \n",
            "gen_text 0 fast forward 30 seconds\n",
            "\n",
            "\n",
            "Generating audio in 1 batches...\n",
            "gen_text 0 and\n",
            "\n",
            "\n",
            "Generating audio in 1 batches...\n"
          ]
        },
        {
          "output_type": "stream",
          "name": "stderr",
          "text": [
            "\n",
            "  0%|          | 0/1 [00:00<?, ?it/s]\u001b[A\n",
            "\n",
            "  0%|          | 0/1 [00:00<?, ?it/s]\u001b[A\u001b[A\n",
            "100%|██████████| 1/1 [00:08<00:00,  8.62s/it]\n",
            "\n",
            "\n",
            "100%|██████████| 1/1 [00:08<00:00,  8.62s/it]\n",
            "100%|██████████| 1/1 [00:08<00:00,  8.64s/it]\n"
          ]
        },
        {
          "output_type": "stream",
          "name": "stdout",
          "text": [
            "Converting audio...\n",
            "Using cached preprocessed reference audio...\n",
            "Using custom reference text...\n",
            "\n",
            "ref_text    Wonderful, Bert. We're gonna pay a psychiatrist $50 an hour. We'll play 20 questions. \n",
            "gen_text 0 switch to AV mode\n",
            "\n",
            "\n",
            "Generating audio in 1 batches...\n",
            "Converting audio...\n",
            "Converting audio...\n",
            "Using cached preprocessed reference audio...\n",
            "Using custom reference text...\n",
            "\n",
            "ref_text    We got kicked out the old crib, so then we moved to some apartments down the street, and uh, I needed some weed, and I knew this nigga already from like a few, like weeks before that, when we came to get the weed with my nigga Matt. \n",
            "gen_text 0 Set the volume to minimum\n",
            "\n",
            "\n",
            "Generating audio in 1 batches...\n",
            "Using cached preprocessed reference audio...\n",
            "Using custom reference text...\n",
            "\n",
            "ref_text    Ha! You look bored. Hello. \n"
          ]
        },
        {
          "output_type": "stream",
          "name": "stderr",
          "text": [
            "\r  0%|          | 0/1 [00:00<?, ?it/s]"
          ]
        },
        {
          "output_type": "stream",
          "name": "stdout",
          "text": [
            "gen_text 0 play 'Christmas In Killarney' by Bing Crosby\n",
            "\n",
            "\n",
            "Generating audio in 1 batches...\n"
          ]
        },
        {
          "output_type": "stream",
          "name": "stderr",
          "text": [
            "\n",
            "\n",
            "  0%|          | 0/1 [00:00<?, ?it/s]\u001b[A\u001b[A\n",
            "  0%|          | 0/1 [00:00<?, ?it/s]\u001b[A\n",
            "100%|██████████| 1/1 [00:14<00:00, 14.47s/it]\n",
            "\n",
            "\n",
            "100%|██████████| 1/1 [00:14<00:00, 14.49s/it]\n",
            "100%|██████████| 1/1 [00:14<00:00, 14.49s/it]\n"
          ]
        },
        {
          "output_type": "stream",
          "name": "stdout",
          "text": [
            "Converting audio...\n",
            "Converting audio...\n",
            "Using cached preprocessed reference audio...\n",
            "Using custom reference text...\n",
            "\n",
            "ref_text    We got kicked out the old crib, so then we moved to some apartments down the street, and uh, I needed some weed, and I knew this nigga already from like a few, like weeks before that, when we came to get the weed with my nigga Matt. \n",
            "Using cached preprocessed reference audio...\n",
            "Using custom reference text...\n",
            "\n",
            "ref_text    Hey guys, what's up? LDShadowLady here. Welcome back to my testing centre, where I'm going to be showing you another mod today. I'm showing you the Animals Plus mod, which features, among others, that turtle that's spinning around in the background like a crazy thing. \n",
            "gen_text 0 because I can't hear you over the music.\n",
            "\n",
            "\n",
            "Generating audio in 1 batches...\n",
            "gen_text 0 play\n",
            "\n",
            "\n",
            "Generating audio in 1 batches...\n",
            "Converting audio...\n",
            "Using cached preprocessed reference audio..."
          ]
        },
        {
          "output_type": "stream",
          "name": "stderr",
          "text": [
            "\n",
            "  0%|          | 0/1 [00:00<?, ?it/s]"
          ]
        },
        {
          "output_type": "stream",
          "name": "stdout",
          "text": [
            "\n",
            "Using custom reference text...\n",
            "\n",
            "ref_text    Ha! You look bored. Hello. \n",
            "gen_text 0 .\n",
            "gen_text 1 Did you see the game last weekend?\n",
            "\n",
            "\n",
            "Generating audio in 2 batches...\n"
          ]
        },
        {
          "output_type": "stream",
          "name": "stderr",
          "text": [
            "\n",
            "\n",
            "  0%|          | 0/2 [00:00<?, ?it/s]\u001b[A\u001b[A\n",
            "100%|██████████| 1/1 [00:09<00:00,  9.10s/it]\u001b[A\n",
            "\n",
            "100%|██████████| 1/1 [00:09<00:00,  9.11s/it]\n",
            "100%|██████████| 1/1 [00:09<00:00,  9.10s/it]\n"
          ]
        },
        {
          "output_type": "stream",
          "name": "stdout",
          "text": [
            "Converting audio...\n",
            "Using cached preprocessed reference audio...\n",
            "Using custom reference text...\n",
            "\n",
            "ref_text    The D.A. is using George Sasbo as a surprise witness to place you at the scene of the crime. Do you know anything about him? I don't think I ever saw him before. \n",
            "gen_text 0 Change subtitle language to Spanish, I can't believe she said that at the party.\n",
            "\n",
            "\n",
            "Generating audio in 1 batches...\n",
            "Converting audio...\n",
            "Using cached preprocessed reference audio...\n",
            "Using custom reference text...\n",
            "\n",
            "ref_text    She's recently named the world's least gay-friendly place. While the world's least lesbian-friendly place is Sephora. \n",
            "gen_text 0 Restart the TV after you finish telling me the news.\n",
            "\n",
            "\n",
            "Generating audio in 1 batches...\n"
          ]
        },
        {
          "output_type": "stream",
          "name": "stderr",
          "text": [
            "  0%|          | 0/1 [00:00<?, ?it/s]\n",
            "  0%|          | 0/1 [00:00<?, ?it/s]\u001b[A\n",
            "\n",
            "100%|██████████| 2/2 [00:23<00:00, 11.93s/it]\n",
            "\n",
            "100%|██████████| 1/1 [00:14<00:00, 14.73s/it]\n",
            "100%|██████████| 1/1 [00:14<00:00, 14.74s/it]\n"
          ]
        },
        {
          "output_type": "stream",
          "name": "stdout",
          "text": [
            "Converting audio...\n",
            "Using cached preprocessed reference audio...\n",
            "Using custom reference text...\n",
            "\n",
            "ref_text    She's recently named the world's least gay-friendly place. While the world's least lesbian-friendly place is Sephora. \n",
            "gen_text 0 Restart the TV\n",
            "\n",
            "\n",
            "Generating audio in 1 batches...\n",
            "Converting audio...\n",
            "Converting audio...\n",
            "Using cached preprocessed reference audio...\n",
            "Using custom reference text...\n",
            "\n",
            "ref_text    I just like the whole concept of YouTube, like if you work at McDonald's, you work eight hours and you get paid a certain amount of money, but if we put eight hours into our YouTube, depending on what we do, you can make, you can like, sky's the limit on what you can do with it. \n",
            "Using cached preprocessed reference audio...\n",
            "Using custom reference text...\n",
            "\n",
            "ref_text    The D.A. is using George Sasbo as a surprise witness to place you at the scene of the crime. Do you know anything about him? I don't think I ever saw him before. \n",
            "gen_text 0 Have you finished reading that book? Record this show and set the volume to maximum.\n",
            "\n",
            "\n",
            "Generating audio in 1 batches...\n",
            "gen_text 0 Change subtitle language to Spanish,\n",
            "\n",
            "\n",
            "Generating audio in 1 batches...\n"
          ]
        },
        {
          "output_type": "stream",
          "name": "stderr",
          "text": [
            "\r  0%|          | 0/1 [00:00<?, ?it/s]\n",
            "\n",
            "  0%|          | 0/1 [00:00<?, ?it/s]\u001b[A\u001b[A\n",
            "100%|██████████| 1/1 [00:06<00:00,  6.67s/it]\n",
            "\n",
            "100%|██████████| 1/1 [00:06<00:00,  6.66s/it]\u001b[A\n",
            "\n",
            "100%|██████████| 1/1 [00:06<00:00,  6.67s/it]\n",
            "100%|██████████| 1/1 [00:06<00:00,  6.66s/it]\n"
          ]
        },
        {
          "output_type": "stream",
          "name": "stdout",
          "text": [
            "Converting audio...\n",
            "Using cached preprocessed reference audio...\n",
            "Using custom reference text...\n",
            "\n",
            "ref_text    She's recently named the world's least gay-friendly place. While the world's least lesbian-friendly place is Sephora. \n",
            "gen_text 0 after you finish telling me the news.\n",
            "\n",
            "\n",
            "Generating audio in 1 batches...\n",
            "Converting audio...\n",
            "Converting audio...\n",
            "Using cached preprocessed reference audio...\n",
            "Using custom reference text...\n",
            "\n",
            "ref_text    I just like the whole concept of YouTube, like if you work at McDonald's, you work eight hours and you get paid a certain amount of money, but if we put eight hours into our YouTube, depending on what we do, you can make, you can like, sky's the limit on what you can do with it. \n",
            "Using cached preprocessed reference audio...\n",
            "Using custom reference text...\n",
            "\n",
            "ref_text    The D.A. is using George Sasbo as a surprise witness to place you at the scene of the crime. Do you know anything about him? I don't think I ever saw him before. \n",
            "gen_text 0 I can't believe she said that at the party.\n",
            "\n",
            "\n",
            "Generating audio in 1 batches...\n",
            "gen_text 0 Record this show\n",
            "\n",
            "\n",
            "Generating audio in 1 batches...\n"
          ]
        },
        {
          "output_type": "stream",
          "name": "stderr",
          "text": [
            "  0%|          | 0/1 [00:00<?, ?it/s]\n",
            "  0%|          | 0/1 [00:00<?, ?it/s]\u001b[A\n",
            "\n",
            "  0%|          | 0/1 [00:00<?, ?it/s]\u001b[A\u001b[A\n",
            "100%|██████████| 1/1 [00:07<00:00,  7.20s/it]\n",
            "\n",
            "\n",
            "100%|██████████| 1/1 [00:07<00:00,  7.19s/it]\n",
            "100%|██████████| 1/1 [00:07<00:00,  7.21s/it]\n"
          ]
        },
        {
          "output_type": "stream",
          "name": "stdout",
          "text": [
            "Converting audio...\n",
            "Using cached preprocessed reference audio...\n",
            "Using custom reference text...\n",
            "\n",
            "ref_text    Hey, I'm Leandro and I'm a machine learning engineer in the open source team at Hugging Face. \n",
            "gen_text 0 Switch to YouTube Music, did you hear about the new restaurant opening downtown?\n",
            "\n",
            "\n",
            "Generating audio in 1 batches...\n",
            "Converting audio...\n",
            "Converting audio...\n",
            "Using cached preprocessed reference audio...\n",
            "Using custom reference text...\n",
            "\n",
            "ref_text    I just like the whole concept of YouTube, like if you work at McDonald's, you work eight hours and you get paid a certain amount of money, but if we put eight hours into our YouTube, depending on what we do, you can make, you can like, sky's the limit on what you can do with it. \n"
          ]
        },
        {
          "output_type": "stream",
          "name": "stderr",
          "text": [
            "\r  0%|          | 0/1 [00:00<?, ?it/s]"
          ]
        },
        {
          "output_type": "stream",
          "name": "stdout",
          "text": [
            "gen_text 0 and\n",
            "\n",
            "\n",
            "Generating audio in 1 batches...\n",
            "Using cached preprocessed reference audio...\n",
            "Using custom reference text...\n",
            "\n",
            "ref_text    Same here my brother. Thank you, man. Appreciate you, bro. Thank you. \n",
            "gen_text 0 Stop playing the video and let’s grab some dinner together.\n",
            "\n",
            "\n",
            "Generating audio in 1 batches...\n"
          ]
        },
        {
          "output_type": "stream",
          "name": "stderr",
          "text": [
            "\n",
            "  0%|          | 0/1 [00:00<?, ?it/s]\u001b[A\n",
            "\n",
            "  0%|          | 0/1 [00:00<?, ?it/s]\u001b[A\u001b[A\n",
            "\n",
            "100%|██████████| 1/1 [00:04<00:00,  4.68s/it]\n",
            "100%|██████████| 1/1 [00:04<00:00,  4.66s/it]\n",
            "\n",
            "100%|██████████| 1/1 [00:04<00:00,  4.67s/it]\n"
          ]
        },
        {
          "output_type": "stream",
          "name": "stdout",
          "text": [
            "Converting audio...\n",
            "Using cached preprocessed reference audio...\n",
            "Using custom reference text...\n",
            "\n",
            "ref_text    Hey, I'm Leandro and I'm a machine learning engineer in the open source team at Hugging Face. \n",
            "gen_text 0 Switch to YouTube Music,\n",
            "\n",
            "\n",
            "Generating audio in 1 batches...\n",
            "Converting audio...\n",
            "Converting audio...\n"
          ]
        },
        {
          "output_type": "stream",
          "name": "stderr",
          "text": [
            "\r  0%|          | 0/1 [00:00<?, ?it/s]"
          ]
        },
        {
          "output_type": "stream",
          "name": "stdout",
          "text": [
            "Using cached preprocessed reference audio...\n",
            "Using custom reference text...\n",
            "\n",
            "ref_text    Same here my brother. Thank you, man. Appreciate you, bro. Thank you. \n",
            "gen_text 0 Stop playing the video\n",
            "\n",
            "\n",
            "Generating audio in 1 batches...\n",
            "Using cached preprocessed reference audio...\n",
            "Using custom reference text...\n",
            "\n",
            "ref_text    I just like the whole concept of YouTube, like if you work at McDonald's, you work eight hours and you get paid a certain amount of money, but if we put eight hours into our YouTube, depending on what we do, you can make, you can like, sky's the limit on what you can do with it. \n",
            "gen_text 0 set the volume to maximum\n",
            "\n",
            "\n",
            "Generating audio in 1 batches...\n"
          ]
        },
        {
          "output_type": "stream",
          "name": "stderr",
          "text": [
            "\n",
            "  0%|          | 0/1 [00:00<?, ?it/s]\u001b[A\n",
            "\n",
            "  0%|          | 0/1 [00:00<?, ?it/s]\u001b[A\u001b[A\n",
            "\n",
            "100%|██████████| 1/1 [00:03<00:00,  3.59s/it]\n"
          ]
        },
        {
          "output_type": "stream",
          "name": "stdout",
          "text": [
            "Converting audio...\n",
            "Using cached preprocessed reference audio...\n",
            "Using custom reference text...\n",
            "\n",
            "ref_text    I just like the whole concept of YouTube, like if you work at McDonald's, you work eight hours and you get paid a certain amount of money, but if we put eight hours into our YouTube, depending on what we do, you can make, you can like, sky's the limit on what you can do with it. \n",
            "gen_text 0 . Have you finished reading that book?\n",
            "\n",
            "\n",
            "Generating audio in 1 batches...\n"
          ]
        },
        {
          "output_type": "stream",
          "name": "stderr",
          "text": [
            "\n",
            "\n",
            "  0%|          | 0/1 [00:00<?, ?it/s]\u001b[A\u001b[A\n",
            "100%|██████████| 1/1 [00:03<00:00,  3.72s/it]\n",
            "100%|██████████| 1/1 [00:03<00:00,  3.73s/it]\n"
          ]
        },
        {
          "output_type": "stream",
          "name": "stdout",
          "text": [
            "Converting audio...\n",
            "Using cached preprocessed reference audio...\n",
            "Using custom reference text...\n",
            "\n",
            "ref_text    Same here my brother. Thank you, man. Appreciate you, bro. Thank you. \n",
            "gen_text 0 and let’s grab some dinner together.\n",
            "\n",
            "\n",
            "Generating audio in 1 batches...\n",
            "Converting audio...\n",
            "Using cached preprocessed reference audio...\n",
            "Using custom reference text...\n",
            "\n",
            "ref_text    Hey, I'm Leandro and I'm a machine learning engineer in the open source team at Hugging Face. \n",
            "gen_text 0 did you hear about the new restaurant opening downtown?\n",
            "\n",
            "\n",
            "Generating audio in 1 batches...\n"
          ]
        },
        {
          "output_type": "stream",
          "name": "stderr",
          "text": [
            "  0%|          | 0/1 [00:00<?, ?it/s]\n",
            "  0%|          | 0/1 [00:00<?, ?it/s]\u001b[A\n",
            "\n",
            "100%|██████████| 1/1 [00:04<00:00,  4.14s/it]\n"
          ]
        },
        {
          "output_type": "stream",
          "name": "stdout",
          "text": [
            "Converting audio...\n",
            "Using cached preprocessed reference audio...\n",
            "Using custom reference text...\n",
            "\n",
            "ref_text    I'd had no doubt that he'd be staying with me while I spent a few interim hours in the real world. And then I saw the black car, a weathered Ford parked in Charlie's driveway. \n",
            "gen_text 0 I was thinking about listening to some Paul Simon, especially 'The Sun Is Burning'.\n",
            "\n",
            "\n",
            "Generating audio in 1 batches...\n"
          ]
        },
        {
          "output_type": "stream",
          "name": "stderr",
          "text": [
            "\n",
            "\n",
            "100%|██████████| 1/1 [00:04<00:00,  4.17s/it]\n",
            "100%|██████████| 1/1 [00:04<00:00,  4.17s/it]\n",
            "100%|██████████| 1/1 [00:04<00:00,  4.17s/it]\n"
          ]
        },
        {
          "output_type": "stream",
          "name": "stdout",
          "text": [
            "Converting audio...\n",
            "Using cached preprocessed reference audio...\n",
            "Using custom reference text...\n",
            "\n",
            "ref_text    They said it was a bad idea, Laurie. Respectfully, I don't think that's a good thumbnail, Pete told me, but I'm going to see no time to die tonight and I'm excited about the new James Bond film. So that is why we have. \n",
            "gen_text 0 change the channel, switch to app: Hulu\n",
            "\n",
            "\n",
            "Generating audio in 1 batches...\n",
            "Converting audio...\n",
            "Using cached preprocessed reference audio...\n",
            "Using custom reference text...\n",
            "\n",
            "ref_text    The D.A. is using George Sasbo as a surprise witness to place you at the scene of the crime. Do you know anything about him? I don't think I ever saw him before. \n",
            "gen_text 0 Increase the volume to 75, I really should start that new book series.\n",
            "\n",
            "\n",
            "Generating audio in 1 batches...\n"
          ]
        },
        {
          "output_type": "stream",
          "name": "stderr",
          "text": [
            "  0%|          | 0/1 [00:00<?, ?it/s]\n",
            "  0%|          | 0/1 [00:00<?, ?it/s]\u001b[A\n",
            "\n",
            "100%|██████████| 1/1 [00:05<00:00,  5.11s/it]\n"
          ]
        },
        {
          "output_type": "stream",
          "name": "stdout",
          "text": [
            "Converting audio...\n",
            "Using cached preprocessed reference audio...\n",
            "Using custom reference text...\n",
            "\n",
            "ref_text    Yes. One does still hear dreadful stories. \n",
            "gen_text 0 Have you seen 'Fear Street: 1994'? I've heard it's quite intense.\n",
            "\n",
            "\n",
            "Generating audio in 1 batches...\n"
          ]
        },
        {
          "output_type": "stream",
          "name": "stderr",
          "text": [
            "\n",
            "\n",
            "100%|██████████| 1/1 [00:05<00:00,  5.16s/it]\n",
            "\n",
            "100%|██████████| 1/1 [00:05<00:00,  5.16s/it]\n"
          ]
        },
        {
          "output_type": "stream",
          "name": "stdout",
          "text": [
            "Converting audio...\n",
            "Using cached preprocessed reference audio...\n",
            "Using custom reference text...\n",
            "\n",
            "ref_text    And, uh, you're? I'm Red Carr. You've heard about me, Doc, haven't you?. \n",
            "gen_text 0 rewind 30 seconds, rate this show 5\n",
            "\n",
            "\n",
            "Generating audio in 1 batches...\n",
            "Converting audio...\n",
            "Using cached preprocessed reference audio...\n",
            "Using custom reference text...\n",
            "\n",
            "ref_text    The D.A. is using George Sasbo as a surprise witness to place you at the scene of the crime. Do you know anything about him? I don't think I ever saw him before. \n",
            "gen_text 0 Increase the volume to 75,\n",
            "\n",
            "\n",
            "Generating audio in 1 batches...\n"
          ]
        },
        {
          "output_type": "stream",
          "name": "stderr",
          "text": [
            "  0%|          | 0/1 [00:00<?, ?it/s]\n",
            "  0%|          | 0/1 [00:00<?, ?it/s]\u001b[A\n",
            "\n",
            "100%|██████████| 1/1 [00:08<00:00,  8.69s/it]\n"
          ]
        },
        {
          "output_type": "stream",
          "name": "stdout",
          "text": [
            "Converting audio...\n",
            "Using cached preprocessed reference audio...\n",
            "Using custom reference text...\n",
            "\n",
            "ref_text    Welcome to our broadcast from the beginning on Elizabeth Fried in Little Italy. Martin Scorsese wanted to make movies. He started before high school by drawing his stories scene by scene. Ten years after making films at NYU, he had Mean Streets, Alice Doesn't Lear Free Anymore, and Taxi Driver on his list of directing credits. \n",
            "gen_text 0 Loretta Lynn's 'Old Rooster' always brings back so many memories for me.\n",
            "\n",
            "\n",
            "Generating audio in 1 batches...\n"
          ]
        },
        {
          "output_type": "stream",
          "name": "stderr",
          "text": [
            "\n",
            "\n",
            "  0%|          | 0/1 [00:00<?, ?it/s]\u001b[A\u001b[A\n",
            "100%|██████████| 1/1 [00:08<00:00,  8.63s/it]\n",
            "100%|██████████| 1/1 [00:08<00:00,  8.63s/it]\n"
          ]
        },
        {
          "output_type": "stream",
          "name": "stdout",
          "text": [
            "Converting audio...\n",
            "Using cached preprocessed reference audio...\n",
            "Using custom reference text...\n",
            "\n",
            "ref_text    The D.A. is using George Sasbo as a surprise witness to place you at the scene of the crime. Do you know anything about him? I don't think I ever saw him before. \n",
            "gen_text 0 I really should start that new book series.\n",
            "\n",
            "\n",
            "Generating audio in 1 batches...\n",
            "Converting audio...\n"
          ]
        },
        {
          "output_type": "stream",
          "name": "stderr",
          "text": [
            "\r  0%|          | 0/1 [00:00<?, ?it/s]"
          ]
        },
        {
          "output_type": "stream",
          "name": "stdout",
          "text": [
            "Using cached preprocessed reference audio...\n",
            "Using custom reference text...\n",
            "\n",
            "ref_text    Hi, I'm Jimmy Kimmel. If you enjoyed the video, hit subscribe. And if you don't click subscribe, this invisible hamster will die. \n",
            "gen_text 0 previous channel, switch to app: Disney+\n",
            "\n",
            "\n",
            "Generating audio in 1 batches...\n"
          ]
        },
        {
          "output_type": "stream",
          "name": "stderr",
          "text": [
            "\n",
            "100%|██████████| 1/1 [00:05<00:00,  5.59s/it]\n",
            "\n",
            "\n",
            "100%|██████████| 1/1 [00:05<00:00,  5.76s/it]\u001b[A\u001b[A\n",
            "100%|██████████| 1/1 [00:05<00:00,  5.58s/it]\n",
            "100%|██████████| 1/1 [00:05<00:00,  5.76s/it]\n"
          ]
        },
        {
          "output_type": "stream",
          "name": "stdout",
          "text": [
            "Converting audio...\n",
            "Using cached preprocessed reference audio...\n",
            "Using custom reference text...\n",
            "\n",
            "ref_text    Hi guys, this is the first video in the... \n",
            "gen_text 0 Fast forward 30 seconds,\n",
            "gen_text 1 remember to pick up groceries after work.\n",
            "\n",
            "\n",
            "Generating audio in 2 batches...\n",
            "Converting audio...\n",
            "Converting audio...\n",
            "Using cached preprocessed reference audio...\n",
            "Using custom reference text...\n",
            "\n",
            "ref_text    I know that I just can't help it, love. So after all these years, you're finally gonna pop the question, huh?. \n",
            "gen_text 0 I used to love watching shows on Nickelodeon when I was a kid.\n",
            "\n",
            "\n",
            "Generating audio in 1 batches...\n"
          ]
        },
        {
          "output_type": "stream",
          "name": "stderr",
          "text": [
            "\r  0%|          | 0/2 [00:00<?, ?it/s]"
          ]
        },
        {
          "output_type": "stream",
          "name": "stdout",
          "text": [
            "Using cached preprocessed reference audio...\n",
            "Using custom reference text...\n",
            "\n",
            "ref_text    Particularly among millennials, and I know millennials probably hate being called millennials, I'm sorry, whatever, but the fact. \n",
            "gen_text 0 change the channel, rate this show 4\n",
            "\n",
            "\n",
            "Generating audio in 1 batches...\n"
          ]
        },
        {
          "output_type": "stream",
          "name": "stderr",
          "text": [
            "\n",
            "  0%|          | 0/1 [00:00<?, ?it/s]\u001b[A\n",
            "\n",
            " 50%|█████     | 1/2 [00:09<00:09,  9.24s/it]\n",
            "\n",
            "100%|██████████| 1/1 [00:09<00:00,  9.23s/it]\n",
            "\n",
            "100%|██████████| 1/1 [00:09<00:00,  9.24s/it]\n"
          ]
        },
        {
          "output_type": "stream",
          "name": "stdout",
          "text": [
            "Converting audio...\n",
            "Using cached preprocessed reference audio...\n",
            "Using custom reference text...\n",
            "\n",
            "ref_text    Particularly among millennials, and I know millennials probably hate being called millennials, I'm sorry, whatever, but the fact. \n",
            "gen_text 0 Did you see the latest episode of that show? Change subtitle language to Spanish and play Bad Teacher next.\n",
            "\n",
            "\n",
            "Generating audio in 1 batches...\n",
            "Converting audio...\n",
            "Using cached preprocessed reference audio...\n",
            "Using custom reference text...\n",
            "\n",
            "ref_text    No idea where she is? Nope. I haven't seen her since she was here last night. She may be gone for good. But she can't be. All her stuff is there. Clothes and everything. \n",
            "gen_text 0 launch Tidal\n",
            "\n",
            "\n",
            "Generating audio in 1 batches...\n"
          ]
        },
        {
          "output_type": "stream",
          "name": "stderr",
          "text": [
            "\n",
            "  0%|          | 0/1 [00:00<?, ?it/s]\u001b[A\n",
            "\n",
            "  0%|          | 0/1 [00:00<?, ?it/s]\u001b[A\u001b[A\n",
            "100%|██████████| 1/1 [00:15<00:00, 15.18s/it]\n",
            "100%|██████████| 2/2 [00:24<00:00, 12.24s/it]\n",
            "\n",
            "\n",
            "100%|██████████| 1/1 [00:15<00:00, 15.18s/it]\n"
          ]
        },
        {
          "output_type": "stream",
          "name": "stdout",
          "text": [
            "Converting audio...\n",
            "Using cached preprocessed reference audio...\n",
            "Using custom reference text...\n",
            "\n",
            "ref_text    Particularly among millennials, and I know millennials probably hate being called millennials, I'm sorry, whatever, but the fact. \n",
            "gen_text 0 Change subtitle language to Spanish\n",
            "\n",
            "\n",
            "Generating audio in 1 batches...\n",
            "Converting audio...\n",
            "Converting audio...\n",
            "Using cached preprocessed reference audio...\n",
            "Using custom reference text...\n",
            "\n",
            "ref_text    Uhm, so for the path planning, for like the recommended paths for the rover to take and also for the geographic areas for the rover to avoid, why are all those. \n",
            "Using cached preprocessed reference audio...\n",
            "Using custom reference text...\n",
            "\n",
            "ref_text    Hi guys, this is the first video in the... \n",
            "gen_text 0 set picture mode to movie\n",
            "\n",
            "\n",
            "Generating audio in 1 batches...\n"
          ]
        },
        {
          "output_type": "stream",
          "name": "stderr",
          "text": [
            "\r  0%|          | 0/1 [00:00<?, ?it/s]"
          ]
        },
        {
          "output_type": "stream",
          "name": "stdout",
          "text": [
            "gen_text 0 Fast forward 30 seconds,\n",
            "\n",
            "\n",
            "Generating audio in 1 batches...\n"
          ]
        },
        {
          "output_type": "stream",
          "name": "stderr",
          "text": [
            "\n",
            "\n",
            "  0%|          | 0/1 [00:00<?, ?it/s]\u001b[A\u001b[A\n",
            "  0%|          | 0/1 [00:00<?, ?it/s]\u001b[A\n",
            "\n",
            "100%|██████████| 1/1 [00:11<00:00, 11.66s/it]\u001b[A\u001b[A\n",
            "100%|██████████| 1/1 [00:11<00:00, 11.66s/it]\n",
            "100%|██████████| 1/1 [00:11<00:00, 11.67s/it]\n",
            "100%|██████████| 1/1 [00:11<00:00, 11.66s/it]\n"
          ]
        },
        {
          "output_type": "stream",
          "name": "stdout",
          "text": [
            "Converting audio...\n",
            "Converting audio...\n",
            "Using cached preprocessed reference audio...\n",
            "Using custom reference text...\n",
            "\n",
            "ref_text    We got kicked out the old crib, so then we moved to some apartments down the street, and uh, I needed some weed, and I knew this nigga already from like a few, like weeks before that, when we came to get the weed with my nigga Matt. \n",
            "Using cached preprocessed reference audio...\n",
            "Using custom reference text...\n",
            "\n",
            "ref_text    Particularly among millennials, and I know millennials probably hate being called millennials, I'm sorry, whatever, but the fact. \n",
            "gen_text 0 enable game mode\n",
            "\n",
            "\n",
            "Generating audio in 1 batches...\n",
            "gen_text 0 and play Bad Teacher next\n",
            "\n",
            "\n",
            "Generating audio in 1 batches...\n",
            "Converting audio...\n",
            "Using cached preprocessed reference audio...\n",
            "Using custom reference text...\n",
            "\n",
            "ref_text    Hi guys, this is the first video in the... \n",
            "gen_text 0 remember to pick up groceries after work.\n",
            "\n",
            "\n",
            "Generating audio in 1 batches...\n"
          ]
        },
        {
          "output_type": "stream",
          "name": "stderr",
          "text": [
            "  0%|          | 0/1 [00:00<?, ?it/s]\n",
            "  0%|          | 0/1 [00:00<?, ?it/s]\u001b[A\n",
            "\n",
            "  0%|          | 0/1 [00:00<?, ?it/s]\u001b[A\u001b[A\n",
            "\n",
            "100%|██████████| 1/1 [00:12<00:00, 12.74s/it]\n",
            "100%|██████████| 1/1 [00:12<00:00, 12.76s/it]\n",
            "\n",
            "100%|██████████| 1/1 [00:12<00:00, 12.76s/it]\n"
          ]
        },
        {
          "output_type": "stream",
          "name": "stdout",
          "text": [
            "Converting audio...\n",
            "Using cached preprocessed reference audio...\n",
            "Using custom reference text...\n",
            "\n",
            "ref_text    As Drumwell and Startup had each a boat, I resolved to set up mine and to cut them both out. \n",
            "gen_text 0 previous channel\n",
            "\n",
            "\n",
            "Generating audio in 1 batches...\n",
            "Converting audio...\n",
            "Converting audio...\n"
          ]
        },
        {
          "output_type": "stream",
          "name": "stderr",
          "text": [
            "\r  0%|          | 0/1 [00:00<?, ?it/s]"
          ]
        },
        {
          "output_type": "stream",
          "name": "stdout",
          "text": [
            "Using cached preprocessed reference audio...\n",
            "Using custom reference text...\n",
            "\n",
            "ref_text    Particularly among millennials, and I know millennials probably hate being called millennials, I'm sorry, whatever, but the fact. \n",
            "Using cached preprocessed reference audio...\n",
            "Using custom reference text...\n",
            "\n",
            "ref_text    Politicians care about jobs more than anything else, as you can tell from how often they mention them. \n",
            "gen_text 0 Did you see the latest episode of that show?\n",
            "\n",
            "\n",
            "Generating audio in 1 batches...\n",
            "gen_text 0 unmute the TV, set the volume to maximum.\n",
            "\n",
            "\n",
            "Generating audio in 1 batches...\n"
          ]
        },
        {
          "output_type": "stream",
          "name": "stderr",
          "text": [
            "\n",
            "  0%|          | 0/1 [00:00<?, ?it/s]\u001b[A\n",
            "\n",
            "  0%|          | 0/1 [00:00<?, ?it/s]\u001b[A\u001b[A\n",
            "\n",
            "100%|██████████| 1/1 [00:10<00:00, 10.30s/it]\n",
            "\n",
            "100%|██████████| 1/1 [00:10<00:00, 10.30s/it]\n",
            "100%|██████████| 1/1 [00:10<00:00, 10.31s/it]\n"
          ]
        },
        {
          "output_type": "stream",
          "name": "stdout",
          "text": [
            "Converting audio...\n",
            "Using cached preprocessed reference audio...\n",
            "Using custom reference text...\n",
            "\n",
            "ref_text    The awareness that our time is limited, that our life will eventually end, has driven humans to search for a way out. \n",
            "gen_text 0 I can't believe it rained this weekend! Restart the TV and set volume to 30 while we watch Underground.\n",
            "\n",
            "\n",
            "Generating audio in 1 batches...\n",
            "Converting audio...\n",
            "Converting audio...\n",
            "Using cached preprocessed reference audio...\n",
            "Using custom reference text...\n",
            "\n",
            "ref_text    Yea, yea, it's simple. Yea, it's Ryan Nielsen's defense. \n",
            "gen_text 0 rewind 30 seconds, set the brightness to 75.\n",
            "\n",
            "\n",
            "Generating audio in 1 batches...\n"
          ]
        },
        {
          "output_type": "stream",
          "name": "stderr",
          "text": [
            "\r  0%|          | 0/1 [00:00<?, ?it/s]"
          ]
        },
        {
          "output_type": "stream",
          "name": "stdout",
          "text": [
            "Using cached preprocessed reference audio...\n",
            "Using custom reference text...\n",
            "\n",
            "ref_text    She's recently named the world's least gay-friendly place. While the world's least lesbian-friendly place is Sephora. \n",
            "gen_text 0 Change subtitle language to Spanish because I heard that the weather is going to be amazing tomorrow.\n",
            "\n",
            "\n",
            "Generating audio in 1 batches...\n"
          ]
        },
        {
          "output_type": "stream",
          "name": "stderr",
          "text": [
            "\n",
            "  0%|          | 0/1 [00:00<?, ?it/s]\u001b[A\n",
            "\n",
            "100%|██████████| 1/1 [00:11<00:00, 11.04s/it]\n",
            "\n",
            "\n",
            "100%|██████████| 1/1 [00:11<00:00, 11.03s/it]\u001b[A\u001b[A\n",
            "100%|██████████| 1/1 [00:11<00:00, 11.03s/it]\n",
            "100%|██████████| 1/1 [00:11<00:00, 11.04s/it]\n"
          ]
        },
        {
          "output_type": "stream",
          "name": "stdout",
          "text": [
            "Converting audio...\n",
            "Using cached preprocessed reference audio...\n",
            "Using custom reference text...\n",
            "\n",
            "ref_text    The awareness that our time is limited, that our life will eventually end, has driven humans to search for a way out. \n",
            "gen_text 0 Restart the TV\n",
            "\n",
            "\n",
            "Generating audio in 1 batches...\n",
            "Converting audio...\n",
            "Converting audio...\n",
            "Using cached preprocessed reference audio...\n",
            "Using custom reference text...\n",
            "\n",
            "ref_text    She's recently named the world's least gay-friendly place. While the world's least lesbian-friendly place is Sephora. \n",
            "gen_text 0 Change subtitle language to Spanish\n",
            "\n",
            "\n",
            "Generating audio in 1 batches...\n",
            "Using cached preprocessed reference audio...\n",
            "Using custom reference text...\n",
            "\n",
            "ref_text    You see like all these mailings of offering, you know. \n",
            "gen_text 0 put the TV in sleep mode,\n",
            "gen_text 1 set the volume to maximum.\n",
            "\n",
            "\n",
            "Generating audio in 2 batches...\n"
          ]
        },
        {
          "output_type": "stream",
          "name": "stderr",
          "text": [
            "  0%|          | 0/1 [00:00<?, ?it/s]\n",
            "  0%|          | 0/2 [00:00<?, ?it/s]\u001b[A\n",
            "\n",
            "  0%|          | 0/1 [00:00<?, ?it/s]\u001b[A\u001b[A\n",
            "\n",
            "100%|██████████| 1/1 [00:10<00:00, 10.50s/it]\n",
            "100%|██████████| 1/1 [00:10<00:00, 10.52s/it]\n",
            "100%|██████████| 1/1 [00:10<00:00, 10.52s/it]\n"
          ]
        },
        {
          "output_type": "stream",
          "name": "stdout",
          "text": [
            "Converting audio...\n",
            "Using cached preprocessed reference audio...\n",
            "Using custom reference text...\n",
            "\n",
            "ref_text    She's recently named the world's least gay-friendly place. While the world's least lesbian-friendly place is Sephora. \n",
            "gen_text 0 because I heard that the weather is going to be amazing tomorrow.\n",
            "\n",
            "\n",
            "Generating audio in 1 batches...\n",
            "Converting audio...\n",
            "Using cached preprocessed reference audio...\n",
            "Using custom reference text...\n",
            "\n",
            "ref_text    The awareness that our time is limited, that our life will eventually end, has driven humans to search for a way out. \n",
            "gen_text 0 and set volume to 30\n",
            "\n",
            "\n",
            "Generating audio in 1 batches...\n"
          ]
        },
        {
          "output_type": "stream",
          "name": "stderr",
          "text": [
            "\r  0%|          | 0/1 [00:00<?, ?it/s]\n",
            "\n",
            "  0%|          | 0/1 [00:00<?, ?it/s]\u001b[A\u001b[A\n",
            "100%|██████████| 2/2 [00:21<00:00, 10.96s/it]\n",
            "100%|██████████| 1/1 [00:11<00:00, 11.37s/it]\n",
            "\n",
            "\n",
            "100%|██████████| 1/1 [00:11<00:00, 11.37s/it]\n"
          ]
        },
        {
          "output_type": "stream",
          "name": "stdout",
          "text": [
            "Converting audio...\n",
            "Using cached preprocessed reference audio...\n",
            "Using custom reference text...\n",
            "\n",
            "ref_text    Uhm, so for the path planning, for like the recommended paths for the rover to take and also for the geographic areas for the rover to avoid, why are all those. \n",
            "gen_text 0 Unmute the TV, did you see the new café that opened downtown?\n",
            "\n",
            "\n",
            "Generating audio in 1 batches...\n",
            "Converting audio...\n",
            "Converting audio...\n",
            "Using cached preprocessed reference audio...\n",
            "Using custom reference text...\n",
            "\n",
            "ref_text    The awareness that our time is limited, that our life will eventually end, has driven humans to search for a way out. \n",
            "gen_text 0 I can't believe it rained this weekend!\n",
            "\n",
            "\n",
            "Generating audio in 1 batches...\n",
            "Using cached preprocessed reference audio...\n",
            "Using custom reference text...\n",
            "\n",
            "ref_text    Welcome to our broadcast from the beginning on Elizabeth Fried in Little Italy. Martin Scorsese wanted to make movies. He started before high school by drawing his stories scene by scene. Ten years after making films at NYU, he had Mean Streets, Alice Doesn't Lear Free Anymore, and Taxi Driver on his list of directing credits. \n",
            "gen_text 0 rewind 10 seconds, unmute the TV.\n",
            "\n",
            "\n",
            "Generating audio in 1 batches...\n"
          ]
        },
        {
          "output_type": "stream",
          "name": "stderr",
          "text": [
            "\r  0%|          | 0/1 [00:00<?, ?it/s]\n",
            "\n",
            "  0%|          | 0/1 [00:00<?, ?it/s]\u001b[A\u001b[A\n",
            "  0%|          | 0/1 [00:00<?, ?it/s]\u001b[A\n",
            "100%|██████████| 1/1 [00:04<00:00,  4.88s/it]\n",
            "\n",
            "\n",
            "100%|██████████| 1/1 [00:04<00:00,  4.89s/it]\n",
            "100%|██████████| 1/1 [00:04<00:00,  4.90s/it]\n"
          ]
        },
        {
          "output_type": "stream",
          "name": "stdout",
          "text": [
            "Converting audio...\n",
            "Using cached preprocessed reference audio...\n",
            "Using custom reference text...\n",
            "\n",
            "ref_text    The awareness that our time is limited, that our life will eventually end, has driven humans to search for a way out. \n",
            "gen_text 0 while we watch Underground.\n",
            "\n",
            "\n",
            "Generating audio in 1 batches...\n",
            "Converting audio...\n",
            "Using cached preprocessed reference audio...\n",
            "Using custom reference text...\n",
            "\n",
            "ref_text    Uhm, so for the path planning, for like the recommended paths for the rover to take and also for the geographic areas for the rover to avoid, why are all those. \n",
            "gen_text 0 Unmute the TV\n",
            "\n",
            "\n",
            "Generating audio in 1 batches...\n",
            "Converting audio...\n"
          ]
        },
        {
          "output_type": "stream",
          "name": "stderr",
          "text": [
            "  0%|          | 0/1 [00:00<?, ?it/s]\n",
            "  0%|          | 0/1 [00:00<?, ?it/s]\u001b[A"
          ]
        },
        {
          "output_type": "stream",
          "name": "stdout",
          "text": [
            "Using cached preprocessed reference audio...\n",
            "Using custom reference text...\n",
            "\n",
            "ref_text    Hi, I'm Jimmy Kimmel. If you enjoyed the video, hit subscribe. And if you don't click subscribe, this invisible hamster will die. \n",
            "gen_text 0 Fast forward 30 seconds, mute the TV, and can you believe she forgot my birthday?\n",
            "\n",
            "\n",
            "Generating audio in 1 batches...\n"
          ]
        },
        {
          "output_type": "stream",
          "name": "stderr",
          "text": [
            "\n",
            "\n",
            "  0%|          | 0/1 [00:00<?, ?it/s]\u001b[A\u001b[A\n",
            "\n",
            "100%|██████████| 1/1 [00:07<00:00,  7.99s/it]\u001b[A\u001b[A\n",
            "100%|██████████| 1/1 [00:07<00:00,  8.00s/it]\n",
            "100%|██████████| 1/1 [00:08<00:00,  8.02s/it]\n",
            "100%|██████████| 1/1 [00:07<00:00,  8.00s/it]\n"
          ]
        },
        {
          "output_type": "stream",
          "name": "stdout",
          "text": [
            "Converting audio...\n",
            "Using cached preprocessed reference audio...\n",
            "Using custom reference text...\n",
            "\n",
            "ref_text    Uhm, so for the path planning, for like the recommended paths for the rover to take and also for the geographic areas for the rover to avoid, why are all those. \n",
            "gen_text 0 , did you see the new café that opened downtown?\n",
            "\n",
            "\n",
            "Generating audio in 1 batches...\n",
            "Converting audio...\n",
            "Converting audio...\n"
          ]
        },
        {
          "output_type": "stream",
          "name": "stderr",
          "text": [
            "\r  0%|          | 0/1 [00:00<?, ?it/s]"
          ]
        },
        {
          "output_type": "stream",
          "name": "stdout",
          "text": [
            "Using cached preprocessed reference audio...\n",
            "Using custom reference text...\n",
            "\n",
            "ref_text    Hi, I'm Jimmy Kimmel. If you enjoyed the video, hit subscribe. And if you don't click subscribe, this invisible hamster will die. \n",
            "Using cached preprocessed reference audio...\n",
            "Using custom reference text...\n",
            "\n",
            "ref_text    Dated bind research, nope. Sorted, nope. \n",
            "gen_text 0 Fast forward 30 seconds, mute the TV,\n",
            "\n",
            "\n",
            "Generating audio in 1 batches...\n",
            "gen_text 0 Are you ready for the concert?\n",
            "gen_text 1 Stop that movie and play You Just Get Better All The Time now!\n",
            "\n",
            "\n",
            "Generating audio in 2 batches...\n"
          ]
        },
        {
          "output_type": "stream",
          "name": "stderr",
          "text": [
            "\n",
            "\n",
            "  0%|          | 0/2 [00:00<?, ?it/s]\u001b[A\u001b[A\n",
            "  0%|          | 0/1 [00:00<?, ?it/s]\u001b[A\n",
            "100%|██████████| 1/1 [00:11<00:00, 11.47s/it]\n",
            "100%|██████████| 1/1 [00:11<00:00, 11.48s/it]\n",
            "\n",
            "100%|██████████| 1/1 [00:11<00:00, 11.49s/it]\n"
          ]
        },
        {
          "output_type": "stream",
          "name": "stdout",
          "text": [
            "Converting audio...\n",
            "Using cached preprocessed reference audio...\n",
            "Using custom reference text...\n",
            "\n",
            "ref_text    Hi, I'm Jimmy Kimmel. If you enjoyed the video, hit subscribe. And if you don't click subscribe, this invisible hamster will die. \n",
            "gen_text 0 and can you believe she forgot my birthday?\n",
            "\n",
            "\n",
            "Generating audio in 1 batches...\n",
            "Converting audio...\n",
            "Using cached preprocessed reference audio...\n",
            "Using custom reference text...\n",
            "\n",
            "ref_text    Oh, you don't say. Where to? Why, to Germany, of course. Oh, of course. But I think I'd better see that you go there this time. Maybe it'd be a good idea if we left together, eh?. \n",
            "gen_text 0 Record this show, we really need to plan our trip for next month.\n",
            "\n",
            "\n",
            "Generating audio in 1 batches...\n"
          ]
        },
        {
          "output_type": "stream",
          "name": "stderr",
          "text": [
            "  0%|          | 0/1 [00:00<?, ?it/s]\n",
            "  0%|          | 0/1 [00:00<?, ?it/s]\u001b[A\n",
            "\n",
            "100%|██████████| 2/2 [00:26<00:00, 13.68s/it]\u001b[A\u001b[A\n",
            "100%|██████████| 2/2 [00:26<00:00, 13.35s/it]\n",
            "100%|██████████| 1/1 [00:15<00:00, 15.20s/it]\n",
            "100%|██████████| 1/1 [00:15<00:00, 15.19s/it]\n"
          ]
        },
        {
          "output_type": "stream",
          "name": "stdout",
          "text": [
            "Converting audio...\n",
            "Using cached preprocessed reference audio...\n",
            "Using custom reference text...\n",
            "\n",
            "ref_text    Oh, you don't say. Where to? Why, to Germany, of course. Oh, of course. But I think I'd better see that you go there this time. Maybe it'd be a good idea if we left together, eh?. \n",
            "gen_text 0 Record this show\n",
            "\n",
            "\n",
            "Generating audio in 1 batches...\n",
            "Converting audio...\n",
            "Converting audio...\n"
          ]
        },
        {
          "output_type": "stream",
          "name": "stderr",
          "text": [
            "\r  0%|          | 0/1 [00:00<?, ?it/s]"
          ]
        },
        {
          "output_type": "stream",
          "name": "stdout",
          "text": [
            "Using cached preprocessed reference audio...\n",
            "Using custom reference text...\n",
            "\n",
            "ref_text    Dated bind research, nope. Sorted, nope. \n",
            "gen_text 0 Stop that movie\n",
            "\n",
            "\n",
            "Generating audio in 1 batches...\n",
            "Using cached preprocessed reference audio...\n",
            "Using custom reference text...\n",
            "\n",
            "ref_text    As Drumwell and Startup had each a boat, I resolved to set up mine and to cut them both out. \n",
            "gen_text 0 Resume playback, close HBO Max, and have you seen the latest episode of that show?\n",
            "\n",
            "\n",
            "Generating audio in 1 batches...\n"
          ]
        },
        {
          "output_type": "stream",
          "name": "stderr",
          "text": [
            "\n",
            "  0%|          | 0/1 [00:00<?, ?it/s]\u001b[A\n",
            "\n",
            "100%|██████████| 1/1 [00:07<00:00,  7.95s/it]\n",
            "\n",
            "100%|██████████| 1/1 [00:07<00:00,  7.93s/it]\u001b[A\n",
            "\n",
            "100%|██████████| 1/1 [00:07<00:00,  7.93s/it]\n",
            "100%|██████████| 1/1 [00:07<00:00,  7.93s/it]\n"
          ]
        },
        {
          "output_type": "stream",
          "name": "stdout",
          "text": [
            "Converting audio...\n",
            "Using cached preprocessed reference audio...\n",
            "Using custom reference text...\n",
            "\n",
            "ref_text    Oh, you don't say. Where to? Why, to Germany, of course. Oh, of course. But I think I'd better see that you go there this time. Maybe it'd be a good idea if we left together, eh?. \n",
            "gen_text 0 , we really need to plan our trip for next month.\n",
            "\n",
            "\n",
            "Generating audio in 1 batches...\n",
            "Converting audio...\n"
          ]
        },
        {
          "output_type": "stream",
          "name": "stderr",
          "text": [
            "\r  0%|          | 0/1 [00:00<?, ?it/s]"
          ]
        },
        {
          "output_type": "stream",
          "name": "stdout",
          "text": [
            "Using cached preprocessed reference audio...\n",
            "Using custom reference text...\n",
            "\n",
            "ref_text    Dated bind research, nope. Sorted, nope. \n",
            "gen_text 0 and play You Just Get Better All The Time now!\n",
            "\n",
            "\n",
            "Generating audio in 1 batches...\n",
            "Converting audio...\n",
            "Using cached preprocessed reference audio...\n",
            "Using custom reference text...\n",
            "\n",
            "ref_text    As Drumwell and Startup had each a boat, I resolved to set up mine and to cut them both out. \n",
            "gen_text 0 Resume playback, close HBO Max,\n",
            "\n",
            "\n",
            "Generating audio in 1 batches...\n"
          ]
        },
        {
          "output_type": "stream",
          "name": "stderr",
          "text": [
            "\n",
            "  0%|          | 0/1 [00:00<?, ?it/s]\u001b[A\n",
            "\n",
            "  0%|          | 0/1 [00:00<?, ?it/s]\u001b[A\u001b[A\n",
            "\n",
            "100%|██████████| 1/1 [00:10<00:00, 10.30s/it]\n",
            "\n",
            "100%|██████████| 1/1 [00:10<00:00, 10.31s/it]\n",
            "100%|██████████| 1/1 [00:10<00:00, 10.33s/it]\n"
          ]
        },
        {
          "output_type": "stream",
          "name": "stdout",
          "text": [
            "Converting audio...\n",
            "Using cached preprocessed reference audio...\n",
            "Using custom reference text...\n",
            "\n",
            "ref_text    As Drumwell and Startup had each a boat, I resolved to set up mine and to cut them both out. \n",
            "gen_text 0 and have you seen the latest episode of that show?\n",
            "\n",
            "\n",
            "Generating audio in 1 batches...\n",
            "Converting audio...\n",
            "Converting audio...\n",
            "Using cached preprocessed reference audio...\n",
            "Using custom reference text...\n",
            "\n",
            "ref_text    Dated bind research, nope. Sorted, nope. \n",
            "Using cached preprocessed reference audio...\n",
            "Using custom reference text...\n",
            "\n",
            "ref_text    Yet the wealthy customs officer was not altogether the hardened man of the world that he seemed. Beneath the appearance of worldliness and pride. \n",
            "gen_text 0 Are you ready for the concert?\n",
            "\n",
            "\n",
            "Generating audio in 1 batches...\n",
            "gen_text 0 Turn off the TV, have you finished reading that book I lent you?\n",
            "\n",
            "\n",
            "Generating audio in 1 batches...\n"
          ]
        },
        {
          "output_type": "stream",
          "name": "stderr",
          "text": [
            "  0%|          | 0/1 [00:00<?, ?it/s]\n",
            "  0%|          | 0/1 [00:00<?, ?it/s]\u001b[A\n",
            "\n",
            "  0%|          | 0/1 [00:00<?, ?it/s]\u001b[A\u001b[A\n",
            "100%|██████████| 1/1 [00:10<00:00, 10.31s/it]\n",
            "\n",
            "100%|██████████| 1/1 [00:10<00:00, 10.32s/it]\n",
            "100%|██████████| 1/1 [00:10<00:00, 10.31s/it]\n",
            "100%|██████████| 1/1 [00:10<00:00, 10.31s/it]\n"
          ]
        },
        {
          "output_type": "stream",
          "name": "stdout",
          "text": [
            "Converting audio...\n",
            "Using cached preprocessed reference audio...\n",
            "Using custom reference text...\n",
            "\n",
            "ref_text    The awareness that our time is limited, that our life will eventually end, has driven humans to search for a way out. \n",
            "gen_text 0 Skip intro on Plex, fast forward 15 seconds, so what do you want for dinner?\n",
            "\n",
            "\n",
            "Generating audio in 1 batches...\n",
            "Converting audio...\n",
            "Converting audio...\n",
            "Using cached preprocessed reference audio...\n",
            "Using custom reference text...\n",
            "\n",
            "ref_text    Yet the wealthy customs officer was not altogether the hardened man of the world that he seemed. Beneath the appearance of worldliness and pride. \n",
            "gen_text 0 Turn off the TV\n",
            "\n",
            "\n",
            "Generating audio in 1 batches...\n",
            "Using cached preprocessed reference audio...\n",
            "Using custom reference text...\n",
            "\n",
            "ref_text    So, that will become a movie now and be quite fascinating. \n",
            "gen_text 0 Can you believe it's almost the end of the year? Change subtitle language to French and watch something on HBO Max.\n",
            "\n",
            "\n",
            "Generating audio in 1 batches...\n"
          ]
        },
        {
          "output_type": "stream",
          "name": "stderr",
          "text": [
            "  0%|          | 0/1 [00:00<?, ?it/s]\n",
            "  0%|          | 0/1 [00:00<?, ?it/s]\u001b[A\n",
            "\n",
            "100%|██████████| 1/1 [00:07<00:00,  7.62s/it]\n",
            "\n",
            "\n",
            "100%|██████████| 1/1 [00:07<00:00,  7.61s/it]\u001b[A\u001b[A\n",
            "100%|██████████| 1/1 [00:07<00:00,  7.61s/it]\n",
            "100%|██████████| 1/1 [00:07<00:00,  7.62s/it]\n"
          ]
        },
        {
          "output_type": "stream",
          "name": "stdout",
          "text": [
            "Converting audio...\n",
            "Using cached preprocessed reference audio...\n",
            "Using custom reference text...\n",
            "\n",
            "ref_text    The awareness that our time is limited, that our life will eventually end, has driven humans to search for a way out. \n",
            "gen_text 0 Skip intro on Plex, fast forward 15 seconds,\n",
            "\n",
            "\n",
            "Generating audio in 1 batches...\n"
          ]
        },
        {
          "output_type": "stream",
          "name": "stderr",
          "text": [
            "\r  0%|          | 0/1 [00:00<?, ?it/s]"
          ]
        },
        {
          "output_type": "stream",
          "name": "stdout",
          "text": [
            "Converting audio...\n",
            "Using cached preprocessed reference audio...\n",
            "Using custom reference text...\n",
            "\n",
            "ref_text    Yet the wealthy customs officer was not altogether the hardened man of the world that he seemed. Beneath the appearance of worldliness and pride. \n",
            "gen_text 0 , have you finished reading that book I lent you?\n",
            "\n",
            "\n",
            "Generating audio in 1 batches...\n",
            "Converting audio...\n",
            "Using cached preprocessed reference audio...\n",
            "Using custom reference text...\n",
            "\n",
            "ref_text    So, that will become a movie now and be quite fascinating. \n",
            "gen_text 0 Change subtitle language to French\n",
            "\n",
            "\n",
            "Generating audio in 1 batches...\n"
          ]
        },
        {
          "output_type": "stream",
          "name": "stderr",
          "text": [
            "\n",
            "  0%|          | 0/1 [00:00<?, ?it/s]\u001b[A\n",
            "\n",
            "100%|██████████| 1/1 [00:05<00:00,  5.92s/it]\n",
            "\n",
            "\n",
            "100%|██████████| 1/1 [00:05<00:00,  5.88s/it]\u001b[A\u001b[A\n",
            "100%|██████████| 1/1 [00:05<00:00,  5.88s/it]\n",
            "100%|██████████| 1/1 [00:05<00:00,  5.89s/it]\n"
          ]
        },
        {
          "output_type": "stream",
          "name": "stdout",
          "text": [
            "Converting audio...\n",
            "Using cached preprocessed reference audio...\n",
            "Using custom reference text...\n",
            "\n",
            "ref_text    The awareness that our time is limited, that our life will eventually end, has driven humans to search for a way out. \n",
            "gen_text 0 so what do you want for dinner?\n",
            "\n",
            "\n",
            "Generating audio in 1 batches...\n",
            "Converting audio...\n",
            "Using cached preprocessed reference audio...\n",
            "Using custom reference text...\n",
            "\n",
            "ref_text    So, that will become a movie now and be quite fascinating. \n",
            "gen_text 0 and watch something on HBO Max.\n",
            "\n",
            "\n",
            "Generating audio in 1 batches...\n"
          ]
        },
        {
          "output_type": "stream",
          "name": "stderr",
          "text": [
            "  0%|          | 0/1 [00:00<?, ?it/s]\n",
            "  0%|          | 0/1 [00:00<?, ?it/s]\u001b[A"
          ]
        },
        {
          "output_type": "stream",
          "name": "stdout",
          "text": [
            "Converting audio...\n",
            "Using cached preprocessed reference audio...\n",
            "Using custom reference text...\n",
            "\n",
            "ref_text    Hey guys, what's up? LDShadowLady here. Welcome back to my testing centre, where I'm going to be showing you another mod today. I'm showing you the Animals Plus mod, which features, among others, that turtle that's spinning around in the background like a crazy thing. \n",
            "gen_text 0 change the channel to PBS Kids Go! and increase the volume to 10.\n",
            "\n",
            "\n",
            "Generating audio in 1 batches...\n"
          ]
        },
        {
          "output_type": "stream",
          "name": "stderr",
          "text": [
            "\n",
            "\n",
            "  0%|          | 0/1 [00:00<?, ?it/s]\u001b[A\u001b[A\n",
            "\n",
            "100%|██████████| 1/1 [00:04<00:00,  4.42s/it]\u001b[A\u001b[A\n",
            "100%|██████████| 1/1 [00:04<00:00,  4.42s/it]\n",
            "100%|██████████| 1/1 [00:04<00:00,  4.44s/it]\n",
            "100%|██████████| 1/1 [00:04<00:00,  4.45s/it]\n"
          ]
        },
        {
          "output_type": "stream",
          "name": "stdout",
          "text": [
            "Converting audio...\n",
            "Using cached preprocessed reference audio...\n",
            "Using custom reference text...\n",
            "\n",
            "ref_text    I don't think anyone in his life ever, ever would have thought that he could do this horrific thing. He, despite everything he did to me in our marriage, as far as the way that he ended it,. \n",
            "gen_text 0 play The Land Before Time IV: Journey Through the Mists and turn off subtitles.\n",
            "\n",
            "\n",
            "Generating audio in 1 batches...\n",
            "Converting audio...\n",
            "Converting audio...\n",
            "Using cached preprocessed reference audio...\n",
            "Using custom reference text...\n",
            "\n",
            "ref_text    So, that will become a movie now and be quite fascinating. \n",
            "gen_text 0 Can you believe it's almost the end of the year?\n",
            "\n",
            "\n",
            "Generating audio in 1 batches...\n",
            "Using cached preprocessed reference audio...\n",
            "Using custom reference text...\n",
            "\n",
            "ref_text    I don't think anyone in his life ever, ever would have thought that he could do this horrific thing. He, despite everything he did to me in our marriage, as far as the way that he ended it,. \n"
          ]
        },
        {
          "output_type": "stream",
          "name": "stderr",
          "text": [
            "\r  0%|          | 0/1 [00:00<?, ?it/s]"
          ]
        },
        {
          "output_type": "stream",
          "name": "stdout",
          "text": [
            "gen_text 0 Mute the TV, skip intro on Rumble, did you hear about the concert next week?\n",
            "\n",
            "\n",
            "Generating audio in 1 batches...\n"
          ]
        },
        {
          "output_type": "stream",
          "name": "stderr",
          "text": [
            "\n",
            "  0%|          | 0/1 [00:00<?, ?it/s]\u001b[A\n",
            "\n",
            "  0%|          | 0/1 [00:00<?, ?it/s]\u001b[A\u001b[A\n",
            "\n",
            "100%|██████████| 1/1 [00:09<00:00,  9.33s/it]\n",
            "\n",
            "100%|██████████| 1/1 [00:09<00:00,  9.35s/it]\n",
            "100%|██████████| 1/1 [00:09<00:00,  9.34s/it]\n"
          ]
        },
        {
          "output_type": "stream",
          "name": "stdout",
          "text": [
            "Converting audio...\n",
            "Using cached preprocessed reference audio...\n",
            "Using custom reference text...\n",
            "\n",
            "ref_text    I don't think anyone in his life ever, ever would have thought that he could do this horrific thing. He, despite everything he did to me in our marriage, as far as the way that he ended it,. \n",
            "gen_text 0 Mute the TV, skip intro on Rumble,\n",
            "\n",
            "\n",
            "Generating audio in 1 batches...\n",
            "Converting audio...\n",
            "Converting audio...\n",
            "Using cached preprocessed reference audio...\n",
            "Using custom reference text...\n",
            "\n",
            "ref_text    I'd had no doubt that he'd be staying with me while I spent a few interim hours in the real world. And then I saw the black car, a weathered Ford parked in Charlie's driveway. \n",
            "gen_text 0 I just finished watching 'Are We There Yet?' again, and it still makes me laugh.\n",
            "\n",
            "\n",
            "Generating audio in 1 batches...\n"
          ]
        },
        {
          "output_type": "stream",
          "name": "stderr",
          "text": [
            "  0%|          | 0/1 [00:00<?, ?it/s]\n",
            "  0%|          | 0/1 [00:00<?, ?it/s]\u001b[A"
          ]
        },
        {
          "output_type": "stream",
          "name": "stdout",
          "text": [
            "Using cached preprocessed reference audio...\n",
            "Using custom reference text...\n",
            "\n",
            "ref_text    He led me back to the room that he'd pointed out as Carlisle's office. He paused outside the door for an instant. Come in, Carlisle's voice invited. \n",
            "gen_text 0 show me Tubi TV and increase the volume to 5.\n",
            "\n",
            "\n",
            "Generating audio in 1 batches...\n"
          ]
        },
        {
          "output_type": "stream",
          "name": "stderr",
          "text": [
            "\n",
            "\n",
            "  0%|          | 0/1 [00:00<?, ?it/s]\u001b[A\u001b[A\n",
            "\n",
            "100%|██████████| 1/1 [00:09<00:00,  9.01s/it]\n",
            "100%|██████████| 1/1 [00:08<00:00,  8.99s/it]\n",
            "100%|██████████| 1/1 [00:09<00:00,  9.01s/it]\n",
            "100%|██████████| 1/1 [00:08<00:00,  8.99s/it]\n"
          ]
        },
        {
          "output_type": "stream",
          "name": "stdout",
          "text": [
            "Converting audio...\n",
            "Using cached preprocessed reference audio...\n",
            "Using custom reference text...\n",
            "\n",
            "ref_text    I don't think anyone in his life ever, ever would have thought that he could do this horrific thing. He, despite everything he did to me in our marriage, as far as the way that he ended it,. \n",
            "gen_text 0 did you hear about the concert next week?\n",
            "\n",
            "\n",
            "Generating audio in 1 batches...\n",
            "Converting audio...\n"
          ]
        },
        {
          "output_type": "stream",
          "name": "stderr",
          "text": [
            "\r  0%|          | 0/1 [00:00<?, ?it/s]"
          ]
        },
        {
          "output_type": "stream",
          "name": "stdout",
          "text": [
            "Using cached preprocessed reference audio...\n",
            "Using custom reference text...\n",
            "\n",
            "ref_text    Hello there everybody and welcome to the video. My name's Sven at Your Soul on the Axe and here we are with episode 2, season 1 by the way, of Soap. Now, in the last episode, I didn't expect to laugh track. \n",
            "Converting audio...\n",
            "gen_text 0 Have you listened to Owl City's song 'Dreams And Disasters'? It's really uplifting!\n",
            "\n",
            "\n",
            "Generating audio in 1 batches...\n",
            "Using cached preprocessed reference audio...\n",
            "Using custom reference text...\n",
            "\n",
            "ref_text    Politicians care about jobs more than anything else, as you can tell from how often they mention them. \n",
            "gen_text 0 change the channel to Motor Trend and play Heartsong by Zwan.\n",
            "\n",
            "\n",
            "Generating audio in 1 batches...\n"
          ]
        },
        {
          "output_type": "stream",
          "name": "stderr",
          "text": [
            "\n",
            "  0%|          | 0/1 [00:00<?, ?it/s]\u001b[A\n",
            "\n",
            "  0%|          | 0/1 [00:00<?, ?it/s]\u001b[A\u001b[A\n",
            "100%|██████████| 1/1 [00:09<00:00,  9.37s/it]\n",
            "100%|██████████| 1/1 [00:09<00:00,  9.41s/it]\n",
            "\n",
            "\n",
            "100%|██████████| 1/1 [00:09<00:00,  9.37s/it]\n"
          ]
        },
        {
          "output_type": "stream",
          "name": "stdout",
          "text": [
            "Converting audio...\n",
            "Using cached preprocessed reference audio...\n",
            "Using custom reference text...\n",
            "\n",
            "ref_text    This is the actual last chapter of the book. There are two more chapters that go into a recent and Feyre perspective real quick. \n",
            "gen_text 0 I heard that Paramount+ has some great new shows coming out this month.\n",
            "\n",
            "\n",
            "Generating audio in 1 batches...\n",
            "Converting audio...\n",
            "Converting audio...\n"
          ]
        },
        {
          "output_type": "stream",
          "name": "stderr",
          "text": [
            "\r  0%|          | 0/1 [00:00<?, ?it/s]"
          ]
        },
        {
          "output_type": "stream",
          "name": "stdout",
          "text": [
            "Using cached preprocessed reference audio...\n",
            "Using custom reference text...\n",
            "\n",
            "ref_text    What matters most to Jay? Uh, his family. He is a big family man. What matters most to me? My family. My safety. Your safety. \n",
            "Using cached preprocessed reference audio...\n",
            "Using custom reference text...\n",
            "\n",
            "ref_text    This is Mrs. Jackson. Mr. Jackson isn't here. Who did you say this was?. \n",
            "gen_text 0 Unmute the TV, it's so quiet in here,\n",
            "gen_text 1 and put the TV in sleep mode after we finish our show.\n",
            "\n",
            "\n",
            "Generating audio in 2 batches...\n",
            "gen_text 0 Have you heard about that movie 'Outlaws'? I think it looks really interesting.\n",
            "\n",
            "\n",
            "Generating audio in 1 batches...\n"
          ]
        },
        {
          "output_type": "stream",
          "name": "stderr",
          "text": [
            "\n",
            "  0%|          | 0/2 [00:00<?, ?it/s]\u001b[A\n",
            "\n",
            "100%|██████████| 1/1 [00:12<00:00, 12.19s/it]\n",
            "\n",
            "\n",
            "100%|██████████| 1/1 [00:12<00:00, 12.15s/it]\u001b[A\u001b[A\n",
            "100%|██████████| 1/1 [00:12<00:00, 12.16s/it]\n"
          ]
        },
        {
          "output_type": "stream",
          "name": "stdout",
          "text": [
            "Converting audio...\n",
            "Using cached preprocessed reference audio...\n",
            "Using custom reference text...\n",
            "\n",
            "ref_text    What medicinal plant do you know, Daniel? Coca. Coca. What does it help with?. \n",
            "gen_text 0 The other day, I was reminiscing about watching cartoons on Nickelodeon when I was a kid.\n",
            "\n",
            "\n",
            "Generating audio in 1 batches...\n",
            "Converting audio...\n",
            "Using cached preprocessed reference audio...\n",
            "Using custom reference text...\n",
            "\n",
            "ref_text    Yea, yea, it's simple. Yea, it's Ryan Nielsen's defense. \n",
            "gen_text 0 I was listening to Dan Fogelberg's 'Looking For A Lady' the other day, and it brought back some great memories.\n",
            "\n",
            "\n",
            "Generating audio in 1 batches...\n"
          ]
        },
        {
          "output_type": "stream",
          "name": "stderr",
          "text": [
            "\r  0%|          | 0/1 [00:00<?, ?it/s]\n",
            "\n",
            "  0%|          | 0/1 [00:00<?, ?it/s]\u001b[A\u001b[A\n",
            "100%|██████████| 2/2 [00:31<00:00, 15.66s/it]\n",
            "100%|██████████| 1/1 [00:19<00:00, 19.13s/it]\n",
            "\n",
            "100%|██████████| 1/1 [00:19<00:00, 19.13s/it]\n",
            "100%|██████████| 1/1 [00:19<00:00, 19.13s/it]\n"
          ]
        },
        {
          "output_type": "stream",
          "name": "stdout",
          "text": [
            "Converting audio...\n",
            "Converting audio...\n",
            "Using cached preprocessed reference audio...\n",
            "Using custom reference text...\n",
            "\n",
            "ref_text    This is Mrs. Jackson. Mr. Jackson isn't here. Who did you say this was?. \n",
            "Using cached preprocessed reference audio...\n",
            "Using custom reference text...\n",
            "\n",
            "ref_text    Yes. One does still hear dreadful stories. \n",
            "gen_text 0 Unmute the TV,\n",
            "\n",
            "\n",
            "Generating audio in 1 batches...\n",
            "gen_text 0 remind me when Intolerable Cruelty starts\n",
            "\n",
            "\n",
            "Generating audio in 1 batches...\n",
            "Converting audio...\n",
            "Using cached preprocessed reference audio...\n",
            "Using custom reference text...\n",
            "\n",
            "ref_text    He's a tracker, Alice. Did you see that? He's a tracker. I felt Emmet stiffen next to me and I wondered at his reaction to the word. It meant something more to the three of them than it did to me. \n"
          ]
        },
        {
          "output_type": "stream",
          "name": "stderr",
          "text": [
            "\r  0%|          | 0/1 [00:00<?, ?it/s]"
          ]
        },
        {
          "output_type": "stream",
          "name": "stdout",
          "text": [
            "gen_text 0 Did you catch the latest episode on BET last night? Everyone's talking about it.\n",
            "\n",
            "\n",
            "Generating audio in 1 batches...\n"
          ]
        },
        {
          "output_type": "stream",
          "name": "stderr",
          "text": [
            "\n",
            "  0%|          | 0/1 [00:00<?, ?it/s]\u001b[A\n",
            "\n",
            "  0%|          | 0/1 [00:00<?, ?it/s]\u001b[A\u001b[A\n",
            "100%|██████████| 1/1 [00:15<00:00, 15.04s/it]\n",
            "\n",
            "\n",
            "100%|██████████| 1/1 [00:15<00:00, 15.04s/it]\n",
            "100%|██████████| 1/1 [00:15<00:00, 15.06s/it]\n"
          ]
        },
        {
          "output_type": "stream",
          "name": "stdout",
          "text": [
            "Converting audio...\n",
            "Using cached preprocessed reference audio...\n",
            "Using custom reference text...\n",
            "\n",
            "ref_text    Have you ever been asked what's your passion and just felt totally lost at how to even begin to answer it? Me too. In this video, I want to talk about your calling and what brings you here. To do that, I want to play a game with you. We're going to play what's your calling. Ready? Let's get started. \n",
            "gen_text 0 open Hulu\n",
            "\n",
            "\n",
            "Generating audio in 1 batches...\n",
            "Converting audio...\n",
            "Converting audio...\n"
          ]
        },
        {
          "output_type": "stream",
          "name": "stderr",
          "text": [
            "\r  0%|          | 0/1 [00:00<?, ?it/s]"
          ]
        },
        {
          "output_type": "stream",
          "name": "stdout",
          "text": [
            "Using cached preprocessed reference audio...\n",
            "Using custom reference text...\n",
            "\n",
            "ref_text    This is Mrs. Jackson. Mr. Jackson isn't here. Who did you say this was?. \n",
            "gen_text 0 it's so quiet in here,\n",
            "\n",
            "\n",
            "Generating audio in 1 batches...\n",
            "Using cached preprocessed reference audio...\n",
            "Using custom reference text...\n",
            "\n",
            "ref_text    If it's blood you want, and coal you want, and the call of the Klondike night. If it's mud you want, and gold you want, or what Robert Service would write. \n",
            "gen_text 0 I love old rock music, especially songs by Deep Purple like 'Lady Luck'.\n",
            "\n",
            "\n",
            "Generating audio in 1 batches...\n"
          ]
        },
        {
          "output_type": "stream",
          "name": "stderr",
          "text": [
            "\n",
            "  0%|          | 0/1 [00:00<?, ?it/s]\u001b[A\n",
            "\n",
            "  0%|          | 0/1 [00:00<?, ?it/s]\u001b[A\u001b[A\n",
            "\n",
            "100%|██████████| 1/1 [00:09<00:00,  9.97s/it]\n",
            "\n",
            "100%|██████████| 1/1 [00:09<00:00,  9.99s/it]\n",
            "100%|██████████| 1/1 [00:10<00:00, 10.01s/it]\n"
          ]
        },
        {
          "output_type": "stream",
          "name": "stdout",
          "text": [
            "Converting audio...\n",
            "Using cached preprocessed reference audio...\n",
            "Using custom reference text...\n",
            "\n",
            "ref_text    Hello there, everyone, and welcome to the video. My name's Serenity Sol on Reacts, and here we are with Soap, series one, episode three season. It is American. I am enjoying this. It is extremely funny. I will be looking to get Benson when that, well, when these shows run out. I just want to say when that comes out, it's already out. \n",
            "gen_text 0 disable game mode\n",
            "\n",
            "\n",
            "Generating audio in 1 batches...\n",
            "Converting audio...\n",
            "Converting audio...\n",
            "Using cached preprocessed reference audio...\n",
            "Using custom reference text...\n",
            "\n",
            "ref_text    Oh yea? Why don't you try saying, my daughter?. \n",
            "gen_text 0 enable sleep timer for 30 minutes\n",
            "\n",
            "\n",
            "Generating audio in 1 batches...\n",
            "Using cached preprocessed reference audio...\n",
            "Using custom reference text...\n",
            "\n",
            "ref_text    This is Mrs. Jackson. Mr. Jackson isn't here. Who did you say this was?. \n",
            "gen_text 0 and put the TV in sleep mode after we finish our show.\n",
            "\n",
            "\n",
            "Generating audio in 1 batches...\n"
          ]
        },
        {
          "output_type": "stream",
          "name": "stderr",
          "text": [
            "  0%|          | 0/1 [00:00<?, ?it/s]\n",
            "  0%|          | 0/1 [00:00<?, ?it/s]\u001b[A\n",
            "\n",
            "  0%|          | 0/1 [00:00<?, ?it/s]\u001b[A\u001b[A\n",
            "\n",
            "100%|██████████| 1/1 [00:10<00:00, 10.53s/it]\n",
            "100%|██████████| 1/1 [00:10<00:00, 10.54s/it]\n",
            "100%|██████████| 1/1 [00:10<00:00, 10.55s/it]\n",
            "100%|██████████| 1/1 [00:10<00:00, 10.54s/it]\n"
          ]
        },
        {
          "output_type": "stream",
          "name": "stdout",
          "text": [
            "Converting audio...\n",
            "Using cached preprocessed reference audio...\n",
            "Using custom reference text...\n",
            "\n",
            "ref_text    He's a tracker, Alice. Did you see that? He's a tracker. I felt Emmet stiffen next to me and I wondered at his reaction to the word. It meant something more to the three of them than it did to me. \n",
            "gen_text 0 Set the volume to minimum while discussing the new movie tonight, and disable game mode before we start streaming.\n",
            "\n",
            "\n",
            "Generating audio in 1 batches...\n",
            "Converting audio...\n",
            "Converting audio...\n",
            "Using cached preprocessed reference audio...\n",
            "Using custom reference text...\n",
            "\n",
            "ref_text    For more on this subject take a look at the playlist. You can also watch this recommended video. \n",
            "gen_text 0 skip to next episode\n",
            "\n",
            "\n",
            "Generating audio in 1 batches...\n"
          ]
        },
        {
          "output_type": "stream",
          "name": "stderr",
          "text": [
            "  0%|          | 0/1 [00:00<?, ?it/s]\n",
            "  0%|          | 0/1 [00:00<?, ?it/s]\u001b[A"
          ]
        },
        {
          "output_type": "stream",
          "name": "stdout",
          "text": [
            "Audio is over 12s, clipping short. (2)\n",
            "Using custom reference text...\n",
            "\n",
            "ref_text    Hello there, everyone, and welcome to the video. My name's Serenity Sol on Reacts, and here we are with Soap, series one, episode three season. It is American. I am enjoying this. It is extremely funny. I will be looking to get Benson when that, well, when these shows run out. I just want to say when that comes out, it's already out. \n",
            "gen_text 0 switch to channel MeTV\n",
            "\n",
            "\n",
            "Generating audio in 1 batches...\n"
          ]
        },
        {
          "output_type": "stream",
          "name": "stderr",
          "text": [
            "\n",
            "\n",
            "  0%|          | 0/1 [00:00<?, ?it/s]\u001b[A\u001b[A\n",
            "\n",
            "100%|██████████| 1/1 [00:11<00:00, 11.13s/it]\n",
            "100%|██████████| 1/1 [00:10<00:00, 10.95s/it]\n",
            "\n",
            "100%|██████████| 1/1 [00:11<00:00, 11.08s/it]\n"
          ]
        },
        {
          "output_type": "stream",
          "name": "stdout",
          "text": [
            "Converting audio...\n",
            "Using cached preprocessed reference audio...\n",
            "Using custom reference text...\n",
            "\n",
            "ref_text    Well, that Johnny Gargano tells all. \n",
            "gen_text 0 Open TikTok TV,\n",
            "gen_text 1 I can't believe it's already Sunday again.\n",
            "\n",
            "\n",
            "Generating audio in 2 batches...\n",
            "Converting audio...\n",
            "Converting audio...\n"
          ]
        },
        {
          "output_type": "stream",
          "name": "stderr",
          "text": [
            "\r  0%|          | 0/2 [00:00<?, ?it/s]"
          ]
        },
        {
          "output_type": "stream",
          "name": "stdout",
          "text": [
            "Using cached preprocessed reference audio...\n",
            "Using custom reference text...\n",
            "\n",
            "ref_text    You know where the hats come from is because of this hair. Right. \n",
            "gen_text 0 previous channel\n",
            "\n",
            "\n",
            "Generating audio in 1 batches...\n",
            "Using cached preprocessed reference audio...\n",
            "Using custom reference text...\n",
            "\n",
            "ref_text    He's a tracker, Alice. Did you see that? He's a tracker. I felt Emmet stiffen next to me and I wondered at his reaction to the word. It meant something more to the three of them than it did to me. \n",
            "gen_text 0 Set the volume to minimum while discussing the new movie tonight,\n",
            "\n",
            "\n",
            "Generating audio in 1 batches...\n"
          ]
        },
        {
          "output_type": "stream",
          "name": "stderr",
          "text": [
            "\n",
            "  0%|          | 0/1 [00:00<?, ?it/s]\u001b[A\n",
            "\n",
            "  0%|          | 0/1 [00:00<?, ?it/s]\u001b[A\u001b[A\n",
            "100%|██████████| 1/1 [00:13<00:00, 13.48s/it]\n",
            " 50%|█████     | 1/2 [00:13<00:13, 13.52s/it]\n",
            "\n",
            "100%|██████████| 1/1 [00:13<00:00, 13.49s/it]\n"
          ]
        },
        {
          "output_type": "stream",
          "name": "stdout",
          "text": [
            "Converting audio...\n",
            "Using cached preprocessed reference audio...\n",
            "Using custom reference text...\n",
            "\n",
            "ref_text    I don't think anyone in his life ever, ever would have thought that he could do this horrific thing. He, despite everything he did to me in our marriage, as far as the way that he ended it,. \n",
            "gen_text 0 show the TV guide\n",
            "\n",
            "\n",
            "Generating audio in 1 batches...\n",
            "Converting audio...\n",
            "Using cached preprocessed reference audio...\n",
            "Using custom reference text...\n",
            "\n",
            "ref_text    He's a tracker, Alice. Did you see that? He's a tracker. I felt Emmet stiffen next to me and I wondered at his reaction to the word. It meant something more to the three of them than it did to me. \n",
            "gen_text 0 and disable game mode before we start streaming.\n",
            "\n",
            "\n",
            "Generating audio in 1 batches...\n"
          ]
        },
        {
          "output_type": "stream",
          "name": "stderr",
          "text": [
            "\n",
            "  0%|          | 0/1 [00:00<?, ?it/s]\u001b[A\n",
            "\n",
            "100%|██████████| 2/2 [00:28<00:00, 14.36s/it]\n",
            "100%|██████████| 1/1 [00:14<00:00, 14.91s/it]\u001b[A\n",
            "\n",
            "100%|██████████| 1/1 [00:14<00:00, 14.92s/it]\n",
            "100%|██████████| 1/1 [00:14<00:00, 14.91s/it]\n",
            "100%|██████████| 2/2 [00:28<00:00, 14.24s/it]\n"
          ]
        },
        {
          "output_type": "stream",
          "name": "stdout",
          "text": [
            "Converting audio...\n",
            "Using cached preprocessed reference audio...\n",
            "Using custom reference text...\n",
            "\n",
            "ref_text    Not knowing to communicate certain like constraints just because they were so obvious or like apparent to them and everyone in their domain. \n",
            "gen_text 0 Launch Tidal while I think about what to wear for the party tonight.\n",
            "\n",
            "\n",
            "Generating audio in 1 batches...\n",
            "Converting audio...\n",
            "Converting audio...\n"
          ]
        },
        {
          "output_type": "stream",
          "name": "stderr",
          "text": [
            "\r  0%|          | 0/1 [00:00<?, ?it/s]"
          ]
        },
        {
          "output_type": "stream",
          "name": "stdout",
          "text": [
            "Using cached preprocessed reference audio...\n",
            "Using custom reference text...\n",
            "\n",
            "ref_text    Well, that Johnny Gargano tells all. \n",
            "gen_text 0 Open TikTok TV,\n",
            "\n",
            "\n",
            "Generating audio in 1 batches...\n",
            "Using cached preprocessed reference audio...\n",
            "Using custom reference text...\n",
            "\n",
            "ref_text    We're for Tokyo number one colony part 13 and Fushiguro. \n",
            "gen_text 0 Decrease the volume,\n",
            "gen_text 1 can you believe that happened last week?,\n",
            "gen_text 2 and switch to app: Apple Music now.\n",
            "\n",
            "\n",
            "Generating audio in 3 batches...\n"
          ]
        },
        {
          "output_type": "stream",
          "name": "stderr",
          "text": [
            "\n",
            "  0%|          | 0/3 [00:00<?, ?it/s]\u001b[A\n",
            "\n",
            "  0%|          | 0/1 [00:00<?, ?it/s]\u001b[A\u001b[A"
          ]
        }
      ]
    },
    {
      "cell_type": "code",
      "source": [],
      "metadata": {
        "id": "rRwMH8O5CXc-"
      },
      "execution_count": null,
      "outputs": []
    }
  ]
}
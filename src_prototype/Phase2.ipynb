{
  "nbformat": 4,
  "nbformat_minor": 0,
  "metadata": {
    "colab": {
      "provenance": [],
      "gpuType": "T4",
      "authorship_tag": "ABX9TyOdkmntxzduJxkXGVpce+J2",
      "include_colab_link": true
    },
    "kernelspec": {
      "name": "python3",
      "display_name": "Python 3"
    },
    "language_info": {
      "name": "python"
    },
    "accelerator": "GPU"
  },
  "cells": [
    {
      "cell_type": "markdown",
      "metadata": {
        "id": "view-in-github",
        "colab_type": "text"
      },
      "source": [
        "<a href=\"https://colab.research.google.com/github/10udCryp7/TV-command-synthesis/blob/main/src_prototype/Phase2.ipynb\" target=\"_parent\"><img src=\"https://colab.research.google.com/assets/colab-badge.svg\" alt=\"Open In Colab\"/></a>"
      ]
    },
    {
      "cell_type": "code",
      "source": [
        "# F5-TTS\n",
        "!pip install -q f5-tts"
      ],
      "metadata": {
        "id": "oYB69oHn6KrE"
      },
      "execution_count": null,
      "outputs": []
    },
    {
      "cell_type": "code",
      "source": [
        "# Reference Speech\n",
        "!gdown 1uTreohCIiYSlrQTa3fuH1_IQjdeW1SaE --quiet\n",
        "# Reference Meta (including Text)\n",
        "!gdown 1PBs6r3cqhFxWzy9s5wrGpF6-5ZnoOWxE --quiet\n",
        "\n",
        "!unzip -q audio.zip -d audio\n",
        "!unzip -q json.zip -d json"
      ],
      "metadata": {
        "id": "BZbnEWUL9fUD"
      },
      "execution_count": null,
      "outputs": []
    },
    {
      "cell_type": "code",
      "source": [
        "import gdown\n",
        "\n",
        "gid = '1IQ6Pz4_S-bIcL-N_ZKzo-cO3yAPnySL6'\n",
        "url = f\"https://drive.google.com/uc?id={gid}\"\n",
        "\n",
        "output = gdown.download(url, quiet=False)  # output sẽ là tên file đã tải"
      ],
      "metadata": {
        "id": "KdRyFUj59hZU"
      },
      "execution_count": null,
      "outputs": []
    },
    {
      "cell_type": "code",
      "source": [
        "import pandas as pd\n",
        "text_command = pd.read_csv(output)"
      ],
      "metadata": {
        "id": "Iv3kyenm9kcx"
      },
      "execution_count": null,
      "outputs": []
    },
    {
      "cell_type": "code",
      "source": [
        "class ReferenceCache:\n",
        "    def __init__(self, audio_folder_path: str, json_folder_path: str):\n",
        "        self.audio_folder_path = Path(audio_folder_path)\n",
        "        self.json_folder_path = Path(json_folder_path)\n",
        "        self._audio_files = None\n",
        "        self._json_files = None\n",
        "        self._ref_texts = {}\n",
        "\n",
        "    @property\n",
        "    def audio_files(self):\n",
        "        if self._audio_files is None:\n",
        "            self._audio_files = [f for f in self.audio_folder_path.iterdir() if f.is_file()]\n",
        "        return self._audio_files\n",
        "\n",
        "    @property\n",
        "    def json_files(self):\n",
        "        if self._json_files is None:\n",
        "            self._json_files = [f for f in self.json_folder_path.iterdir() if f.suffix == '.json']\n",
        "        return self._json_files\n",
        "\n",
        "    def get_ref_text(self, json_path: Path) -> str:\n",
        "        if str(json_path) not in self._ref_texts:\n",
        "            with open(json_path, 'r', encoding='utf-8') as f:\n",
        "                data = json.load(f)\n",
        "                self._ref_texts[str(json_path)] = data.get('text', '')\n",
        "        return self._ref_texts[str(json_path)]\n",
        "\n",
        "    def sample_reference(self):\n",
        "        audio_file = random.choice(self.audio_files)\n",
        "        json_file = random.choice(self.json_files)\n",
        "        ref_id = json_file.stem\n",
        "        ref_speech_path = str(audio_file)\n",
        "        ref_text = self.get_ref_text(json_file)\n",
        "        return ref_id, ref_speech_path, ref_text"
      ],
      "metadata": {
        "id": "PydQZuRQ_9A9"
      },
      "execution_count": null,
      "outputs": []
    },
    {
      "cell_type": "code",
      "execution_count": null,
      "metadata": {
        "id": "sLGEgwVFtfTJ"
      },
      "outputs": [],
      "source": [
        "import os\n",
        "import json\n",
        "import soundfile as sf\n",
        "import pandas as pd\n",
        "import random\n",
        "import ast\n",
        "import numpy as np\n",
        "import uuid\n",
        "from concurrent.futures import ThreadPoolExecutor\n",
        "import multiprocessing as mp\n",
        "from pathlib import Path\n",
        "import time\n",
        "from typing import Any, List\n",
        "from importlib.resources import files\n",
        "from f5_tts.api import F5TTS\n",
        "\n",
        "class SpeechSynthesis:\n",
        "  def __init__(self, ref_folder_path, json_folder_path, export_path, num_workers):\n",
        "    self.ref_folder_path = ref_folder_path\n",
        "    self.json_folder_path = json_folder_path\n",
        "    self.export_path = export_path\n",
        "    self.num_workers = num_workers\n",
        "\n",
        "  def load_model(self):\n",
        "    f5tts = F5TTS(device = 'cuda')\n",
        "    return f5tts\n",
        "\n",
        "\n",
        "  def audio_generate(self, command: str, model, ref_file: str = \"\", ref_text: str = \"\"):\n",
        "      wav, sr, spec = model.infer(\n",
        "          ref_file=ref_file,\n",
        "          ref_text=ref_text,\n",
        "          gen_text=command,\n",
        "          seed=None,\n",
        "      )\n",
        "      return wav, sr, spec\n",
        "\n",
        "  def process_single_command(self, row: pd.Series, ref_cache: ReferenceCache, export_path: str, model: Any):\n",
        "    try:\n",
        "        ref_id, ref_speech_path, ref_text = ref_cache.sample_reference()\n",
        "        wav, sr, _ = self.audio_generate(row['text'], model, ref_speech_path, ref_text)\n",
        "\n",
        "        cur_id = row['id']\n",
        "        cmd_path = Path(export_path) / f\"{row['type']}_{cur_id}\"\n",
        "        cmd_path.mkdir(parents=True, exist_ok=True)\n",
        "\n",
        "        # Save full audio\n",
        "        sf.write(cmd_path / f\"{row['type']}_{cur_id}_full.wav\", wav, sr)\n",
        "\n",
        "        type_segments = {}\n",
        "        text_segments = {}\n",
        "\n",
        "        if pd.notna(row['segments']) and row['segments'] not in [None, \"\", \"nan\"]:\n",
        "            seg_list = ast.literal_eval(row['segments'])\n",
        "            for count, seg in enumerate(seg_list):\n",
        "                key = list(seg.keys())[0]\n",
        "                seg_wav, seg_sr, _ = self.audio_generate(seg[key], model, ref_speech_path, ref_text)\n",
        "                sf.write(cmd_path / f\"{row['type']}_{cur_id}_seg_{count}.wav\", seg_wav, seg_sr)\n",
        "                list_key = list(seg.keys())\n",
        "                type_segments[list_key[0]] = seg[list_key[1]] if len(list_key) > 1 else \"\"\n",
        "                text_segments[list_key[0]] = seg[list_key[0]]\n",
        "\n",
        "        json_template = {\n",
        "            \"id\": cur_id,\n",
        "            \"type\": row['type'],\n",
        "            \"command\": row['text'],\n",
        "            \"sampling_rate\": sr,\n",
        "            \"num_segments\": len(type_segments),\n",
        "            \"type_segments\": type_segments,\n",
        "            \"text_segments\": text_segments,\n",
        "            \"ref_id\": ref_id,\n",
        "            \"ref_file\": ref_speech_path,\n",
        "            \"ref_text\": ref_text\n",
        "        }\n",
        "        with open(cmd_path / f\"{row['type']}_{cur_id}.json\", 'w', encoding='utf-8') as f:\n",
        "            json.dump(json_template, f, ensure_ascii=False, indent=2)\n",
        "\n",
        "        return json_template\n",
        "    except Exception as e:\n",
        "        print(f\"Failed to process: {row['text']}, error: {e}\")\n",
        "        return None\n",
        "\n",
        "\n",
        "  def worker_task(self, rows: List[pd.Series], ref_folder: str, json_folder: str, export_path: str):\n",
        "      # Mỗi worker load model riêng\n",
        "      model = self.load_model()\n",
        "      ref_cache = ReferenceCache(ref_folder, json_folder)\n",
        "      results = []\n",
        "      for row in rows:\n",
        "          res = self.process_single_command(row, ref_cache, export_path, model)\n",
        "          if res:\n",
        "              results.append(res)\n",
        "      return results\n",
        "\n",
        "  def command_synthesis_pipeline_multi_model(\n",
        "    self,\n",
        "    text_command\n",
        "  ):\n",
        "    start_time = time.time()\n",
        "    os.makedirs(self.export_path, exist_ok=True)\n",
        "\n",
        "    if self.num_workers is None:\n",
        "        self.num_workers = min(mp.cpu_count(), 4)  # Giới hạn số model load\n",
        "\n",
        "    # Chia dữ liệu thành N phần, mỗi worker xử lý riêng\n",
        "    chunks = np.array_split(text_command, self.num_workers)\n",
        "\n",
        "    all_results = []\n",
        "    with ThreadPoolExecutor(max_workers=self.num_workers) as executor:\n",
        "        futures = [\n",
        "            executor.submit(self.worker_task, chunk.to_dict('records'), self.ref_folder_path, self.json_folder_path, self.export_path)\n",
        "            for chunk in chunks\n",
        "        ]\n",
        "        for i, future in enumerate(futures):\n",
        "            res_list = future.result()\n",
        "            all_results.extend(res_list)\n",
        "            print(f\"Worker {i+1} done ({len(res_list)} items)\")\n",
        "\n",
        "    print(f\"Pipeline finished in {time.time() - start_time:.2f}s\")\n",
        "    return pd.DataFrame(all_results)\n",
        "\n",
        ""
      ]
    },
    {
      "cell_type": "code",
      "source": [
        "param = {\n",
        "    'ref_folder_path': \"audio/dung\",\n",
        "    'json_folder_path': \"json/dung\",\n",
        "    'export_path': \"synthesis_command\",\n",
        "    'num_workers': 4,\n",
        "}\n",
        "\n",
        "def main():\n",
        "  speech_synthesis = SpeechSynthesis(**param)\n",
        "  speech_synthesis.command_synthesis_pipeline_multi_model(text_command)"
      ],
      "metadata": {
        "id": "LDCJAXX16TJB"
      },
      "execution_count": null,
      "outputs": []
    },
    {
      "cell_type": "code",
      "source": [
        "speech_synthesis = SpeechSynthesis(**param)\n",
        "speech_synthesis.command_synthesis_pipeline_multi_model(text_command)"
      ],
      "metadata": {
        "id": "NaAE5JsDADFd"
      },
      "execution_count": null,
      "outputs": []
    },
    {
      "cell_type": "code",
      "source": [],
      "metadata": {
        "id": "4MhRnbPfAEEm"
      },
      "execution_count": null,
      "outputs": []
    }
  ]
}
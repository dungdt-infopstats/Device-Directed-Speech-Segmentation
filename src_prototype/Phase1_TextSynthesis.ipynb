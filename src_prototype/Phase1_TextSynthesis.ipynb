{
  "nbformat": 4,
  "nbformat_minor": 0,
  "metadata": {
    "colab": {
      "provenance": [],
      "authorship_tag": "ABX9TyNFsoIPMKB1l4Gq0f9zMx9K",
      "include_colab_link": true
    },
    "kernelspec": {
      "name": "python3",
      "display_name": "Python 3"
    },
    "language_info": {
      "name": "python"
    }
  },
  "cells": [
    {
      "cell_type": "markdown",
      "metadata": {
        "id": "view-in-github",
        "colab_type": "text"
      },
      "source": [
        "<a href=\"https://colab.research.google.com/github/10udCryp7/TV-command-synthesis/blob/main/src_prototype/Phase1_TextSynthesis.ipynb\" target=\"_parent\"><img src=\"https://colab.research.google.com/assets/colab-badge.svg\" alt=\"Open In Colab\"/></a>"
      ]
    },
    {
      "cell_type": "code",
      "execution_count": null,
      "metadata": {
        "id": "ywWe4Zunp935"
      },
      "outputs": [],
      "source": [
        "# data_preparation.py\n",
        "'''\n",
        "for loading data\n",
        "\n",
        "design kiểu này bị cái phải chuẩn format và phải tự chuẩn bị data,\n",
        "cơ mà scale lên tính sau, miễn fix output là list string là được.\n",
        "\n",
        "'''\n",
        "import os\n",
        "import gdown\n",
        "import pandas as pd\n",
        "\n",
        "class DataPreparation:\n",
        "  def __init__(self, content_list, command_source, save_dir):\n",
        "    self.content_list = content_list # (Topic, ID on google drive)\n",
        "    self.command_source = command_source\n",
        "    self.save_dir = save_dir\n",
        "\n",
        "    os.makedirs(self.save_dir, exist_ok=True)\n",
        "    os.makedirs(os.path.join(self.save_dir, 'content'), exist_ok = True)\n",
        "    os.makedirs(os.path.join(self.save_dir, 'command'), exist_ok = True)\n",
        "\n",
        "\n",
        "  def download_content(self) -> list[str]:\n",
        "    list_content_info = []\n",
        "\n",
        "    for content_name, content_source in self.content_list:\n",
        "        try:\n",
        "            url = f'https://drive.google.com/uc?id={content_source}'\n",
        "            filename = gdown.extract_filename(url)\n",
        "            output_path = os.path.join(self.save_dir, filename)\n",
        "            gdown.download(url, output_path, quiet=False)\n",
        "\n",
        "            # get type -> should be meaningful\n",
        "            type_name = os.path.splitext(filename)[0]\n",
        "\n",
        "            list_content_info.append((content_name, output_path))\n",
        "\n",
        "        except Exception as e:\n",
        "            print(f\"Error downloading {content_source}: {e}\")\n",
        "\n",
        "    return list_content_info\n",
        "\n",
        "  def download_command(self) -> str:\n",
        "    try:\n",
        "      url = f'https://drive.google.com/uc?id={self.command_source}'\n",
        "\n",
        "      filename = gdown.extract_filename(url)\n",
        "    except:\n",
        "      print(f\"Error downloading {self.command_source}\")\n",
        "    output_path = os.path.join(self.save_dir, filename)\n",
        "    gdown.download(url, output_path, quiet=False)\n",
        "\n",
        "    return output_path # expect csv format\n",
        "\n",
        "  def get_content(self, list_content_info) -> dict:\n",
        "    content_dict = {}\n",
        "    for type_name, content_path in list_content_info:\n",
        "        df = pd.read_csv(content_path)\n",
        "        contents = [f\"{type_name}: {row['content']}\" for _, row in df.iterrows()]\n",
        "        content_dict[type_name] = contents\n",
        "\n",
        "    return content_dict\n",
        "\n",
        "  def get_command(self, command_path) -> list:\n",
        "    df = pd.read_csv(command_path)\n",
        "    commands = [f\"{row['command']}\" for _, row in df.iterrows()]\n",
        "\n",
        "    return commands\n",
        "\n",
        "  def run_pipeline(self):\n",
        "    list_content_info = self.download_content()\n",
        "    command_path = self.download_command()\n",
        "    content_dict = self.get_content(list_content_info)\n",
        "    commands = self.get_command(command_path)\n",
        "\n",
        "    return content_dict, commands\n",
        "\n",
        "if __name__ == \"__main__\":\n",
        "\n",
        "  dp = DataPreparation(\n",
        "\n",
        "  )\n",
        "\n",
        "  content_dict, commands = dp.run_pipeline()\n",
        "\n",
        "  print(content_dict)\n",
        "  print(commands)\n"
      ]
    },
    {
      "cell_type": "code",
      "source": [
        "# utils.py\n",
        "\n"
      ],
      "metadata": {
        "id": "nH0C2nZcF0y7"
      },
      "execution_count": null,
      "outputs": []
    }
  ]
}
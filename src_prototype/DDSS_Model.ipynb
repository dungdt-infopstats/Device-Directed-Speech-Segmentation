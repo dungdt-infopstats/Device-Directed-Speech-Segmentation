{
  "metadata": {
    "kernelspec": {
      "language": "python",
      "display_name": "Python 3",
      "name": "python3"
    },
    "language_info": {
      "name": "python",
      "version": "3.11.13",
      "mimetype": "text/x-python",
      "codemirror_mode": {
        "name": "ipython",
        "version": 3
      },
      "pygments_lexer": "ipython3",
      "nbconvert_exporter": "python",
      "file_extension": ".py"
    },
    "kaggle": {
      "accelerator": "gpu",
      "dataSources": [],
      "dockerImageVersionId": 31089,
      "isInternetEnabled": true,
      "language": "python",
      "sourceType": "notebook",
      "isGpuEnabled": true
    },
    "colab": {
      "name": "DDSS-Model",
      "provenance": [],
      "include_colab_link": true
    }
  },
  "nbformat_minor": 0,
  "nbformat": 4,
  "cells": [
    {
      "cell_type": "markdown",
      "metadata": {
        "id": "view-in-github",
        "colab_type": "text"
      },
      "source": [
        "<a href=\"https://colab.research.google.com/github/10udCryp7/TV-command-synthesis/blob/main/src_prototype/DDSS_Model.ipynb\" target=\"_parent\"><img src=\"https://colab.research.google.com/assets/colab-badge.svg\" alt=\"Open In Colab\"/></a>"
      ]
    },
    {
      "cell_type": "markdown",
      "source": [
        "# Data"
      ],
      "metadata": {
        "id": "qCFuiyD7Wi1Z"
      }
    },
    {
      "cell_type": "code",
      "source": [
        "!gdown 1uZEmyXo3OBza0rh5a5RVZexYFWcCjDu4"
      ],
      "metadata": {
        "_uuid": "8f2839f25d086af736a60e9eeb907d3b93b6e0e5",
        "_cell_guid": "b1076dfc-b9ad-4769-8c92-a6c4dae69d19",
        "trusted": true,
        "execution": {
          "iopub.status.busy": "2025-08-25T03:34:22.532916Z",
          "iopub.execute_input": "2025-08-25T03:34:22.533315Z",
          "iopub.status.idle": "2025-08-25T03:34:34.659605Z",
          "shell.execute_reply.started": "2025-08-25T03:34:22.533294Z",
          "shell.execute_reply": "2025-08-25T03:34:34.658873Z"
        },
        "id": "SONp6BjoWi1a",
        "outputId": "5551de24-1557-41c3-bf77-06ee1e2da00a"
      },
      "outputs": [
        {
          "name": "stdout",
          "text": "Downloading...\nFrom (original): https://drive.google.com/uc?id=1uZEmyXo3OBza0rh5a5RVZexYFWcCjDu4\nFrom (redirected): https://drive.google.com/uc?id=1uZEmyXo3OBza0rh5a5RVZexYFWcCjDu4&confirm=t&uuid=d3894460-534b-40aa-90dc-7059f1dfc584\nTo: /kaggle/working/vctk_split.zip\n100%|████████████████████████████████████████| 407M/407M [00:08<00:00, 46.0MB/s]\n",
          "output_type": "stream"
        }
      ],
      "execution_count": null
    },
    {
      "cell_type": "code",
      "source": [
        "!unzip -q vctk_split.zip"
      ],
      "metadata": {
        "trusted": true,
        "execution": {
          "iopub.status.busy": "2025-08-25T03:34:38.377116Z",
          "iopub.execute_input": "2025-08-25T03:34:38.377388Z",
          "iopub.status.idle": "2025-08-25T03:34:43.884087Z",
          "shell.execute_reply.started": "2025-08-25T03:34:38.377358Z",
          "shell.execute_reply": "2025-08-25T03:34:43.882854Z"
        },
        "id": "OZZ5JyJGWi1b"
      },
      "outputs": [],
      "execution_count": null
    },
    {
      "cell_type": "code",
      "source": [
        "import os\n",
        "import json\n",
        "import pandas as pd\n",
        "\n",
        "def collect_json_to_df(root_dir: str, flatten: bool = True) -> pd.DataFrame:\n",
        "    \"\"\"\n",
        "    Gom tất cả file JSON trong root_dir thành DataFrame.\n",
        "\n",
        "    Args:\n",
        "        root_dir (str): thư mục gốc chứa các thư mục con.\n",
        "        flatten (bool): nếu True, mỗi label trong json sẽ thành 1 dòng riêng.\n",
        "                        nếu False, labels sẽ giữ nguyên dạng list trong 1 cột.\n",
        "\n",
        "    Returns:\n",
        "        pd.DataFrame\n",
        "    \"\"\"\n",
        "    records = []\n",
        "\n",
        "    for dirpath, _, filenames in os.walk(root_dir):\n",
        "        for file in filenames:\n",
        "            if file.endswith(\".json\"):\n",
        "                json_path = os.path.join(dirpath, file)\n",
        "                folder_name = os.path.basename(dirpath)\n",
        "\n",
        "                # audio nằm cùng chỗ, tên trùng với folder\n",
        "                audio_path = os.path.join(dirpath, folder_name + \"_aug\" + \".wav\")\n",
        "\n",
        "                with open(json_path, \"r\", encoding=\"utf-8\") as f:\n",
        "                    data = json.load(f)\n",
        "\n",
        "                if flatten:\n",
        "                    for entry in data['labels']:\n",
        "                        records.append({\n",
        "                            \"id\": folder_name,\n",
        "                            \"audio_path\": audio_path,\n",
        "                            \"label\": entry.get(\"label\"),\n",
        "                            \"start\": entry.get(\"start\"),\n",
        "                            \"end\": entry.get(\"end\")\n",
        "                        })\n",
        "                else:\n",
        "                    records.append({\n",
        "                        \"id\": folder_name,\n",
        "                        \"audio_path\": audio_path,\n",
        "                        \"labels\": data\n",
        "                    })\n",
        "\n",
        "    return pd.DataFrame(records)\n"
      ],
      "metadata": {
        "trusted": true,
        "execution": {
          "iopub.status.busy": "2025-08-25T03:44:09.18935Z",
          "iopub.execute_input": "2025-08-25T03:44:09.190146Z",
          "iopub.status.idle": "2025-08-25T03:44:09.199459Z",
          "shell.execute_reply.started": "2025-08-25T03:44:09.19012Z",
          "shell.execute_reply": "2025-08-25T03:44:09.198916Z"
        },
        "id": "CBTYwO1VWi1b"
      },
      "outputs": [],
      "execution_count": null
    },
    {
      "cell_type": "code",
      "source": [
        "df_train = collect_json_to_df(\"dataset_split/train\")\n",
        "df_test = collect_json_to_df(\"dataset_split/test\")"
      ],
      "metadata": {
        "trusted": true,
        "execution": {
          "iopub.status.busy": "2025-08-25T03:44:15.06611Z",
          "iopub.execute_input": "2025-08-25T03:44:15.066427Z",
          "iopub.status.idle": "2025-08-25T03:44:15.260682Z",
          "shell.execute_reply.started": "2025-08-25T03:44:15.066397Z",
          "shell.execute_reply": "2025-08-25T03:44:15.259919Z"
        },
        "id": "QGhKYO-pWi1c"
      },
      "outputs": [],
      "execution_count": null
    },
    {
      "cell_type": "code",
      "source": [
        "import torch\n",
        "from torch.utils.data import Dataset\n",
        "import torchaudio\n",
        "\n",
        "def frame_wav(wav, frame_size, hop_size):\n",
        "    wav = wav.squeeze(0)  # (N,)\n",
        "    frames = wav.unfold(0, frame_size, hop_size)  # shape (num_frames, frame_size)\n",
        "    return frames\n",
        "\n",
        "def label_frames(num_frames, frame_size, hop_size, sr, annotations):\n",
        "    labels = torch.zeros(num_frames, dtype=torch.long)  # mặc định = 0\n",
        "\n",
        "    for _, row in annotations.iterrows():\n",
        "        start_sample = int(row['start'] * sr)\n",
        "        end_sample = int(row['end'] * sr)\n",
        "\n",
        "        # quy đổi sample về index frame\n",
        "        start_frame = max(0, (start_sample - frame_size) // hop_size + 1)\n",
        "        end_frame   = min(num_frames, end_sample // hop_size)\n",
        "\n",
        "        if row['label'] == 'active':\n",
        "            labels[start_frame:end_frame+1] = 1\n",
        "\n",
        "    return labels\n",
        "\n",
        "class DDSSDataset(Dataset):\n",
        "    def __init__(self, annotations_file, frame_size=400, hop_size=160, target_sr=16000, transform=None):\n",
        "        self.annotations_file = annotations_file\n",
        "        self.list_id = self.annotations_file['id'].unique()\n",
        "        self.frame_size = frame_size\n",
        "        self.hop_size = hop_size\n",
        "        self.target_sr = target_sr\n",
        "        self.transform = transform\n",
        "\n",
        "    def __len__(self):\n",
        "        return len(self.list_id)\n",
        "\n",
        "    def __getitem__(self, idx):\n",
        "        id_file = self.list_id[idx]\n",
        "        df_file = self.annotations_file[self.annotations_file['id'] == id_file]\n",
        "        audio_path = df_file['audio_path'].iloc[0]\n",
        "        wav, sr = torchaudio.load(audio_path)\n",
        "\n",
        "        # resample\n",
        "        if sr != self.target_sr:\n",
        "            resampler = torchaudio.transforms.Resample(sr, self.target_sr)\n",
        "            wav = resampler(wav)\n",
        "            sr = self.target_sr\n",
        "\n",
        "        # frame\n",
        "        frames = frame_wav(wav, self.frame_size, self.hop_size)\n",
        "\n",
        "        # label sequence\n",
        "        labels = label_frames(frames.shape[0], self.frame_size, self.hop_size, sr, df_file)\n",
        "\n",
        "        return wav, frames, labels"
      ],
      "metadata": {
        "trusted": true,
        "execution": {
          "iopub.status.busy": "2025-08-25T03:40:27.292336Z",
          "iopub.execute_input": "2025-08-25T03:40:27.292954Z",
          "iopub.status.idle": "2025-08-25T03:40:27.301301Z",
          "shell.execute_reply.started": "2025-08-25T03:40:27.292923Z",
          "shell.execute_reply": "2025-08-25T03:40:27.300478Z"
        },
        "id": "5UZjW3Y4Wi1c"
      },
      "outputs": [],
      "execution_count": null
    },
    {
      "cell_type": "code",
      "source": [
        "import torch\n",
        "import torch.nn.functional as F\n",
        "\n",
        "def convert_labels(labels, new_num_frames):\n",
        "    \"\"\"\n",
        "    labels: tensor (B, old_num_frames) với giá trị 0/1\n",
        "    new_num_frames: số frame mới mong muốn\n",
        "\n",
        "    Trả về: tensor (B, new_num_frames)\n",
        "    \"\"\"\n",
        "    if labels.ndim == 1:\n",
        "        # thêm batch dim nếu chỉ có 1 sequence\n",
        "        labels = labels.unsqueeze(0)  # (1, old_num_frames)\n",
        "\n",
        "    labels = labels.float().unsqueeze(1)  # (B, 1, old_num_frames)\n",
        "\n",
        "    # interpolate theo chiều thời gian\n",
        "    new_labels = F.interpolate(labels, size=new_num_frames, mode=\"nearest\")\n",
        "\n",
        "    return new_labels.squeeze(1).long()  # (B, new_num_frames)\n"
      ],
      "metadata": {
        "trusted": true,
        "execution": {
          "iopub.status.busy": "2025-08-25T03:40:29.262523Z",
          "iopub.execute_input": "2025-08-25T03:40:29.263228Z",
          "iopub.status.idle": "2025-08-25T03:40:29.267882Z",
          "shell.execute_reply.started": "2025-08-25T03:40:29.263201Z",
          "shell.execute_reply": "2025-08-25T03:40:29.267276Z"
        },
        "id": "rACdIag0Wi1c"
      },
      "outputs": [],
      "execution_count": null
    },
    {
      "cell_type": "markdown",
      "source": [
        "# Model"
      ],
      "metadata": {
        "id": "BSiRrrUEWi1c"
      }
    },
    {
      "cell_type": "code",
      "source": [
        "import torch\n",
        "import torch.nn as nn\n",
        "import torchaudio\n",
        "\n",
        "\n",
        "class DDSSModel(nn.Module):\n",
        "    def __init__(self, hidden_dim=256, num_layers=2, bidirectional=True, dropout=0.3):\n",
        "        super(DDSSModel, self).__init__()\n",
        "\n",
        "        # Base model: Wav2Vec2 (ASR Base)\n",
        "        bundle = torchaudio.pipelines.WAV2VEC2_ASR_BASE_960H\n",
        "        self.feature_extractor = bundle.get_model()\n",
        "\n",
        "        # Freeze Wav2Vec2\n",
        "        for param in self.feature_extractor.parameters():\n",
        "            param.requires_grad = False\n",
        "\n",
        "        # LSTM\n",
        "        self.lstm = nn.LSTM(\n",
        "            input_size=bundle._params['encoder_embed_dim'],\n",
        "            hidden_size=hidden_dim,\n",
        "            num_layers=num_layers,\n",
        "            batch_first=True,\n",
        "            dropout=dropout,\n",
        "            bidirectional=bidirectional\n",
        "        )\n",
        "\n",
        "        lstm_output_dim = hidden_dim * (2 if bidirectional else 1)\n",
        "\n",
        "        # Frame-level classifier (MLP thay vì 1 tầng)\n",
        "        self.classifier = nn.Sequential(\n",
        "            nn.Linear(lstm_output_dim, lstm_output_dim // 2),\n",
        "            nn.BatchNorm1d(lstm_output_dim // 2),\n",
        "            nn.ReLU(),\n",
        "            nn.Dropout(dropout),\n",
        "\n",
        "            nn.Linear(lstm_output_dim // 2, lstm_output_dim // 4),\n",
        "            nn.ReLU(),\n",
        "            nn.Dropout(dropout),\n",
        "\n",
        "            nn.Linear(lstm_output_dim // 4, 1)  # binary logit\n",
        "        )\n",
        "\n",
        "    def forward(self, waveforms):\n",
        "        \"\"\"\n",
        "        waveforms: Tensor [B, T_audio] (mono audio, 16kHz)\n",
        "        \"\"\"\n",
        "        with torch.no_grad():\n",
        "            features, _ = self.feature_extractor.extract_features(waveforms)\n",
        "            x = features[-1]  # [B, T_feat, F]\n",
        "\n",
        "        # LSTM\n",
        "        x, _ = self.lstm(x)  # [B, T_feat, H]\n",
        "\n",
        "        # Classifier cho từng frame\n",
        "        B, T, H = x.shape\n",
        "        x = x.reshape(-1, H)          # [B*T, H]\n",
        "        out = self.classifier(x)      # [B*T, 1]\n",
        "        out = out.view(B, T)          # [B, T]\n",
        "        return out\n"
      ],
      "metadata": {
        "trusted": true,
        "execution": {
          "iopub.status.busy": "2025-08-25T03:40:30.692638Z",
          "iopub.execute_input": "2025-08-25T03:40:30.692957Z",
          "iopub.status.idle": "2025-08-25T03:40:30.700665Z",
          "shell.execute_reply.started": "2025-08-25T03:40:30.692936Z",
          "shell.execute_reply": "2025-08-25T03:40:30.699882Z"
        },
        "id": "5gqHeaK3Wi1c"
      },
      "outputs": [],
      "execution_count": null
    },
    {
      "cell_type": "code",
      "source": [
        "import torch\n",
        "import torch.nn.functional as F\n",
        "\n",
        "def label_resampler(labels: torch.Tensor, target_len: int) -> torch.Tensor:\n",
        "    \"\"\"\n",
        "    labels: Tensor [num_frames], dtype long/int (0/1 hoặc nhiều class)\n",
        "    target_len: int, số bước thời gian output của model\n",
        "\n",
        "    Trả về Tensor [target_len], dtype long/int.\n",
        "    \"\"\"\n",
        "    num_frames = labels.shape[0]\n",
        "\n",
        "    if num_frames == target_len:\n",
        "        return labels.clone()\n",
        "\n",
        "    # Convert to float và reshape [1, 1, num_frames] để dùng interpolate\n",
        "    labels_f = labels.float().unsqueeze(0).unsqueeze(0)  # [1, 1, N]\n",
        "\n",
        "    # scale_factor hoặc size\n",
        "    labels_resampled = F.interpolate(\n",
        "        labels_f, size=target_len, mode=\"linear\", align_corners=False\n",
        "    )  # [1, 1, target_len]\n",
        "\n",
        "    # Convert về long (class index), với binary thì round về 0/1\n",
        "    labels_resampled = labels_resampled.squeeze().round().long()  # [target_len]\n",
        "\n",
        "    return labels_resampled\n"
      ],
      "metadata": {
        "trusted": true,
        "execution": {
          "iopub.status.busy": "2025-08-25T03:40:45.797412Z",
          "iopub.execute_input": "2025-08-25T03:40:45.798078Z",
          "iopub.status.idle": "2025-08-25T03:40:45.802862Z",
          "shell.execute_reply.started": "2025-08-25T03:40:45.798055Z",
          "shell.execute_reply": "2025-08-25T03:40:45.80207Z"
        },
        "id": "wYro0W2eWi1d"
      },
      "outputs": [],
      "execution_count": null
    },
    {
      "cell_type": "code",
      "source": [
        "import torch\n",
        "import torch.nn as nn\n",
        "from torch.utils.data import DataLoader\n",
        "from torch.nn.utils import clip_grad_norm_\n",
        "\n",
        "# ====== 1) Collate: pad waveform theo batch, giữ độ dài gốc ======\n",
        "def collate_fn(batch):\n",
        "    \"\"\"\n",
        "    batch: list of (wav, frames, labels)\n",
        "      - wav: Tensor [1, N]\n",
        "      - frames: Tensor [num_frames, frame_size] (không dùng ở train)\n",
        "      - labels: Tensor [num_frames] (0/1)\n",
        "    \"\"\"\n",
        "    wavs, frames_list, labels_list = zip(*batch)\n",
        "    lengths = torch.tensor([w.shape[-1] for w in wavs], dtype=torch.long)  # số sample gốc mỗi wav\n",
        "\n",
        "    # pad wavs về cùng độ dài (theo max_len)\n",
        "    max_len = int(lengths.max().item())\n",
        "    padded = []\n",
        "    for w in wavs:\n",
        "        if w.shape[-1] < max_len:\n",
        "            pad = torch.zeros((1, max_len - w.shape[-1]), dtype=w.dtype)\n",
        "            w = torch.cat([w, pad], dim=-1)\n",
        "        padded.append(w)\n",
        "    batch_wav = torch.stack(padded, dim=0).squeeze(1)  # [B, max_len]\n",
        "\n",
        "    return batch_wav, lengths, labels_list  # trả labels dạng list để nội suy sau\n",
        "\n",
        "\n",
        "class TemporalBCELoss(nn.Module):\n",
        "    \"\"\"\n",
        "    BCE loss theo timestep + regularization để học mối quan hệ giữa các frame kế nhau.\n",
        "    \"\"\"\n",
        "    def __init__(self, lambda_smooth=0.1):\n",
        "        \"\"\"\n",
        "        lambda_smooth: trọng số cho phần temporal smoothing\n",
        "        \"\"\"\n",
        "        super().__init__()\n",
        "        self.bce = nn.BCEWithLogitsLoss(reduction=\"none\")\n",
        "        self.lambda_smooth = lambda_smooth\n",
        "\n",
        "    def forward(self, logits, targets, valid_steps):\n",
        "        \"\"\"\n",
        "        logits: [B, T] (raw scores)\n",
        "        targets: [B, T] (0/1 float)\n",
        "        valid_steps: [B] số timestep hợp lệ cho mỗi mẫu (loại bỏ phần pad)\n",
        "        \"\"\"\n",
        "        B, T = logits.shape\n",
        "        device = logits.device\n",
        "\n",
        "        # ===== BCE cơ bản =====\n",
        "        loss = self.bce(logits, targets)  # [B, T]\n",
        "\n",
        "        # mask cho phần hợp lệ\n",
        "        mask = torch.arange(T, device=device).unsqueeze(0).expand(B, T)\n",
        "        mask = (mask < valid_steps.unsqueeze(1)).float()\n",
        "        loss = (loss * mask).sum() / mask.sum().clamp_min(1.0)\n",
        "\n",
        "        # ===== Temporal smoothing =====\n",
        "        if self.lambda_smooth > 0 and T > 1:\n",
        "            prob = torch.sigmoid(logits)  # [B, T]\n",
        "            # phạt sự thay đổi giữa các timestep liên tiếp\n",
        "            smooth_loss = ((prob[:, 1:] - prob[:, :-1]) ** 2)\n",
        "            smooth_mask = mask[:, 1:] * mask[:, :-1]  # chỉ tính frame hợp lệ\n",
        "            smooth_loss = (smooth_loss * smooth_mask).sum() / smooth_mask.sum().clamp_min(1.0)\n",
        "            loss = loss + self.lambda_smooth * smooth_loss\n",
        "\n",
        "        return loss\n",
        "\n",
        "\n",
        "\n",
        "from tqdm import tqdm\n",
        "\n",
        "def train_one_epoch(model, dataloader, optimizer, device, label_resampler, scaler=None, grad_clip=1.0):\n",
        "    model.train()\n",
        "    criterion = TemporalBCELoss()\n",
        "    total_loss, total_steps = 0.0, 0\n",
        "\n",
        "    pbar = tqdm(dataloader, desc=\"Training\", leave=False)\n",
        "    for batch_wav, lengths, labels_list in pbar:\n",
        "        batch_wav = batch_wav.to(device)\n",
        "        lengths = lengths.to(device)\n",
        "\n",
        "        optimizer.zero_grad(set_to_none=True)\n",
        "\n",
        "        # Forward\n",
        "        if scaler is None:\n",
        "            logits = model(batch_wav)         # [B, T]\n",
        "        else:\n",
        "            with torch.autocast(device_type=device.type, dtype=torch.float16 if device.type==\"cuda\" else torch.bfloat16):\n",
        "                logits = model(batch_wav)\n",
        "\n",
        "        B, T = logits.shape\n",
        "\n",
        "        # Resample labels về T\n",
        "        targets = []\n",
        "        valid_steps = []\n",
        "        max_len = batch_wav.shape[1]\n",
        "        for i in range(B):\n",
        "            t_i = label_resampler(labels_list[i], T)\n",
        "            targets.append(t_i)\n",
        "            t_valid = int((lengths[i].item() / max_len) * T)\n",
        "            valid_steps.append(t_valid)\n",
        "\n",
        "        targets = torch.stack(targets, dim=0).to(device).float()\n",
        "        valid_steps = torch.tensor(valid_steps, device=device, dtype=torch.long)\n",
        "\n",
        "        loss = criterion(logits, targets, valid_steps)\n",
        "\n",
        "        if scaler is None:\n",
        "            loss.backward()\n",
        "            if grad_clip is not None:\n",
        "                clip_grad_norm_(model.parameters(), grad_clip)\n",
        "            optimizer.step()\n",
        "        else:\n",
        "            scaler.scale(loss).backward()\n",
        "            if grad_clip is not None:\n",
        "                scaler.unscale_(optimizer)\n",
        "                clip_grad_norm_(model.parameters(), grad_clip)\n",
        "            scaler.step(optimizer)\n",
        "            scaler.update()\n",
        "\n",
        "        total_loss += loss.item() * B\n",
        "        total_steps += B\n",
        "\n",
        "        pbar.set_postfix(loss=f\"{loss.item():.4f}\")\n",
        "\n",
        "    return total_loss / max(total_steps, 1)\n",
        "\n",
        "\n",
        "@torch.no_grad()\n",
        "def evaluate(model, dataloader, device, label_resampler):\n",
        "    model.eval()\n",
        "    criterion = TemporalBCELoss()\n",
        "    total_loss, total_steps = 0.0, 0\n",
        "\n",
        "    pbar = tqdm(dataloader, desc=\"Evaluating\", leave=False)\n",
        "    for batch_wav, lengths, labels_list in pbar:\n",
        "        batch_wav = batch_wav.to(device)\n",
        "        lengths = lengths.to(device)\n",
        "        logits = model(batch_wav)\n",
        "        B, T = logits.shape\n",
        "\n",
        "        targets = []\n",
        "        valid_steps = []\n",
        "        max_len = batch_wav.shape[1]\n",
        "        for i in range(B):\n",
        "            t_i = label_resampler(labels_list[i], T)\n",
        "            targets.append(t_i)\n",
        "            t_valid = int((lengths[i].item() / max_len) * T)\n",
        "            valid_steps.append(t_valid)\n",
        "\n",
        "        targets = torch.stack(targets, dim=0).to(device).float()\n",
        "        valid_steps = torch.tensor(valid_steps, device=device, dtype=torch.long)\n",
        "\n",
        "        loss = criterion(logits, targets, valid_steps)\n",
        "        total_loss += loss.item() * B\n",
        "        total_steps += B\n",
        "\n",
        "        pbar.set_postfix(loss=f\"{loss.item():.4f}\")\n",
        "\n",
        "    return total_loss / max(total_steps, 1)\n",
        "\n",
        "\n",
        "\n",
        "# ====== 4) Hàm chạy toàn bộ training ======\n",
        "from torch.utils.data import random_split, DataLoader\n",
        "\n",
        "def fit(\n",
        "    model,\n",
        "    dataset,                # dataset chung, sẽ chia train/val nếu val_ds=None\n",
        "    val_ds=None,\n",
        "    val_split=0.1,          # tỉ lệ validation nếu chỉ truyền dataset\n",
        "    epochs=10,\n",
        "    batch_size=8,\n",
        "    lr=1e-3,\n",
        "    weight_decay=0.0,\n",
        "    num_workers=2,\n",
        "    label_resampler=label_resampler,   # bắt buộc: hàm nội suy labels -> T\n",
        "    use_amp=True,\n",
        "    grad_clip=1.0,\n",
        "    seed=42,\n",
        "):\n",
        "    assert label_resampler is not None, \"Bạn cần truyền hàm label_resampler(seq_labels, target_len).\"\n",
        "\n",
        "    torch.manual_seed(seed)\n",
        "    device = torch.device(\"cuda\" if torch.cuda.is_available() else \"cpu\")\n",
        "    model.to(device)\n",
        "\n",
        "    # Tách train/val nếu val_ds không được truyền\n",
        "    if val_ds is None:\n",
        "        val_size = int(len(dataset) * val_split)\n",
        "        train_size = len(dataset) - val_size\n",
        "        train_ds, val_ds = random_split(dataset, [train_size, val_size])\n",
        "    else:\n",
        "        train_ds = dataset\n",
        "\n",
        "    train_loader = DataLoader(\n",
        "        train_ds,\n",
        "        batch_size=batch_size,\n",
        "        shuffle=True,\n",
        "        num_workers=num_workers,\n",
        "        pin_memory=True,\n",
        "        collate_fn=collate_fn,\n",
        "    )\n",
        "    val_loader = None\n",
        "    if val_ds is not None:\n",
        "        val_loader = DataLoader(\n",
        "            val_ds,\n",
        "            batch_size=batch_size,\n",
        "            shuffle=False,\n",
        "            num_workers=num_workers,\n",
        "            pin_memory=True,\n",
        "            collate_fn=collate_fn,\n",
        "        )\n",
        "\n",
        "    optimizer = torch.optim.AdamW(model.parameters(), lr=lr, weight_decay=weight_decay)\n",
        "    scaler = torch.cuda.amp.GradScaler(enabled=(use_amp and device.type == \"cuda\"))\n",
        "\n",
        "    best_val = float(\"inf\")\n",
        "    for epoch in range(1, epochs + 1):\n",
        "        train_loss = train_one_epoch(\n",
        "            model, train_loader, optimizer, device, label_resampler, scaler=scaler, grad_clip=grad_clip\n",
        "        )\n",
        "        if val_loader is not None:\n",
        "            val_loss = evaluate(model, val_loader, device, label_resampler)\n",
        "            print(f\"[Epoch {epoch:02d}] train_loss={train_loss:.4f} | val_loss={val_loss:.4f}\")\n",
        "            if val_loss < best_val:\n",
        "                best_val = val_loss\n",
        "                torch.save(model.state_dict(), \"best_ddss.pt\")\n",
        "        else:\n",
        "            print(f\"[Epoch {epoch:02d}] train_loss={train_loss:.4f}\")\n",
        "\n",
        "    return model\n"
      ],
      "metadata": {
        "trusted": true,
        "execution": {
          "iopub.status.busy": "2025-08-25T03:40:49.376365Z",
          "iopub.execute_input": "2025-08-25T03:40:49.376705Z",
          "iopub.status.idle": "2025-08-25T03:40:49.398763Z",
          "shell.execute_reply.started": "2025-08-25T03:40:49.376672Z",
          "shell.execute_reply": "2025-08-25T03:40:49.398045Z"
        },
        "id": "irOBj9InWi1d"
      },
      "outputs": [],
      "execution_count": null
    },
    {
      "cell_type": "code",
      "source": [
        "train_dataset = DDSSDataset(\n",
        "    annotations_file = df_train,\n",
        ")\n",
        "\n",
        "val_dataset = DDSSDataset(\n",
        "    annotations_file = df_test\n",
        ")"
      ],
      "metadata": {
        "trusted": true,
        "execution": {
          "iopub.status.busy": "2025-08-25T03:44:28.428739Z",
          "iopub.execute_input": "2025-08-25T03:44:28.429016Z",
          "iopub.status.idle": "2025-08-25T03:44:28.434364Z",
          "shell.execute_reply.started": "2025-08-25T03:44:28.428995Z",
          "shell.execute_reply": "2025-08-25T03:44:28.433529Z"
        },
        "id": "FX8h50TzWi1e"
      },
      "outputs": [],
      "execution_count": null
    },
    {
      "cell_type": "code",
      "source": [
        "model = DDSSModel()"
      ],
      "metadata": {
        "trusted": true,
        "execution": {
          "iopub.status.busy": "2025-08-25T03:44:33.39442Z",
          "iopub.execute_input": "2025-08-25T03:44:33.39499Z",
          "iopub.status.idle": "2025-08-25T03:44:34.652807Z",
          "shell.execute_reply.started": "2025-08-25T03:44:33.394962Z",
          "shell.execute_reply": "2025-08-25T03:44:34.652167Z"
        },
        "id": "FLEmMKBbWi1e"
      },
      "outputs": [],
      "execution_count": null
    },
    {
      "cell_type": "code",
      "source": [
        "trained_model = fit(\n",
        "    model=model,\n",
        "    dataset=train_dataset,\n",
        "    val_ds=val_dataset,                   # hoặc dataset validation nếu có\n",
        "    epochs=200,\n",
        "    batch_size=32,\n",
        "    lr=1e-3,\n",
        "    label_resampler=label_resampler,   # hàm mình code ở trên\n",
        "    use_amp=True\n",
        ")\n"
      ],
      "metadata": {
        "trusted": true,
        "execution": {
          "iopub.status.busy": "2025-08-25T03:44:34.65397Z",
          "iopub.execute_input": "2025-08-25T03:44:34.654222Z"
        },
        "id": "jslyXkYzWi1e",
        "outputId": "5c284944-cfc7-417d-8cc3-84680ddf7e3a"
      },
      "outputs": [
        {
          "name": "stderr",
          "text": "/tmp/ipykernel_36/550912441.py:218: FutureWarning: `torch.cuda.amp.GradScaler(args...)` is deprecated. Please use `torch.amp.GradScaler('cuda', args...)` instead.\n  scaler = torch.cuda.amp.GradScaler(enabled=(use_amp and device.type == \"cuda\"))\n                                                                        \r",
          "output_type": "stream"
        },
        {
          "name": "stdout",
          "text": "[Epoch 01] train_loss=0.6478 | val_loss=0.6794\n",
          "output_type": "stream"
        },
        {
          "name": "stderr",
          "text": "                                                                        \r",
          "output_type": "stream"
        },
        {
          "name": "stdout",
          "text": "[Epoch 02] train_loss=0.6300 | val_loss=0.6597\n",
          "output_type": "stream"
        },
        {
          "name": "stderr",
          "text": "                                                                        \r",
          "output_type": "stream"
        },
        {
          "name": "stdout",
          "text": "[Epoch 03] train_loss=0.5725 | val_loss=0.5341\n",
          "output_type": "stream"
        },
        {
          "name": "stderr",
          "text": "                                                                        \r",
          "output_type": "stream"
        },
        {
          "name": "stdout",
          "text": "[Epoch 04] train_loss=0.4803 | val_loss=0.4925\n",
          "output_type": "stream"
        },
        {
          "name": "stderr",
          "text": "Training:  17%|█▋        | 13/76 [00:13<00:55,  1.13it/s, loss=0.3758]",
          "output_type": "stream"
        }
      ],
      "execution_count": null
    },
    {
      "cell_type": "code",
      "source": [
        "preds, labels, probs, per_frame_info,list_eval, raw_label = get_predictions_with_info(model, val_dataset, device='cuda', threshold=0.5)"
      ],
      "metadata": {
        "trusted": true,
        "execution": {
          "iopub.status.busy": "2025-08-21T10:25:09.467052Z",
          "iopub.execute_input": "2025-08-21T10:25:09.467353Z",
          "iopub.status.idle": "2025-08-21T10:25:47.747299Z",
          "shell.execute_reply.started": "2025-08-21T10:25:09.467327Z",
          "shell.execute_reply": "2025-08-21T10:25:47.746696Z"
        },
        "id": "kG5AvmyNWi1e"
      },
      "outputs": [],
      "execution_count": null
    },
    {
      "cell_type": "code",
      "source": [
        "metrics = evaluate_metrics(preds, labels, probs)"
      ],
      "metadata": {
        "trusted": true,
        "execution": {
          "iopub.status.busy": "2025-08-21T10:26:26.495121Z",
          "iopub.execute_input": "2025-08-21T10:26:26.495412Z",
          "iopub.status.idle": "2025-08-21T10:26:26.605392Z",
          "shell.execute_reply.started": "2025-08-21T10:26:26.495391Z",
          "shell.execute_reply": "2025-08-21T10:26:26.604627Z"
        },
        "id": "Jpuk1h_6Wi1e"
      },
      "outputs": [],
      "execution_count": null
    },
    {
      "cell_type": "code",
      "source": [
        "metrics"
      ],
      "metadata": {
        "trusted": true,
        "execution": {
          "iopub.status.busy": "2025-08-21T10:26:31.918878Z",
          "iopub.execute_input": "2025-08-21T10:26:31.919153Z",
          "iopub.status.idle": "2025-08-21T10:26:31.92561Z",
          "shell.execute_reply.started": "2025-08-21T10:26:31.919132Z",
          "shell.execute_reply": "2025-08-21T10:26:31.924836Z"
        },
        "id": "IW8CT5ioWi1e"
      },
      "outputs": [],
      "execution_count": null
    },
    {
      "cell_type": "code",
      "source": [
        "smallest = sorted(list_eval, key=lambda x: x[-1])"
      ],
      "metadata": {
        "trusted": true,
        "execution": {
          "iopub.status.busy": "2025-08-21T10:26:35.305431Z",
          "iopub.execute_input": "2025-08-21T10:26:35.306033Z",
          "iopub.status.idle": "2025-08-21T10:26:35.333163Z",
          "shell.execute_reply.started": "2025-08-21T10:26:35.306008Z",
          "shell.execute_reply": "2025-08-21T10:26:35.332604Z"
        },
        "id": "tGdzgYqMWi1f"
      },
      "outputs": [],
      "execution_count": null
    },
    {
      "cell_type": "code",
      "source": [
        "list_fail = []\n",
        "\n",
        "for idx,val in enumerate(list_eval):\n",
        "    if val[3] :\n",
        "        print(idx, end = ' ')\n",
        "        list_fail.append(idx)"
      ],
      "metadata": {
        "trusted": true,
        "execution": {
          "iopub.status.busy": "2025-08-21T10:30:52.07118Z",
          "iopub.execute_input": "2025-08-21T10:30:52.071455Z",
          "iopub.status.idle": "2025-08-21T10:30:52.083879Z",
          "shell.execute_reply.started": "2025-08-21T10:30:52.071435Z",
          "shell.execute_reply": "2025-08-21T10:30:52.083173Z"
        },
        "id": "kKOB9qtWWi1f"
      },
      "outputs": [],
      "execution_count": null
    },
    {
      "cell_type": "code",
      "source": [
        "for num in list_fail:\n",
        "\n",
        "    import numpy as np\n",
        "    from IPython.display import Audio, display\n",
        "    print(list_eval[num])\n",
        "    # y: numpy array 1-D, sr: sample rate\n",
        "    display(Audio(list_eval[num][2].cpu(), rate=16000))"
      ],
      "metadata": {
        "trusted": true,
        "execution": {
          "iopub.status.busy": "2025-08-21T10:27:08.494932Z",
          "iopub.execute_input": "2025-08-21T10:27:08.495211Z",
          "iopub.status.idle": "2025-08-21T10:27:08.832424Z",
          "shell.execute_reply.started": "2025-08-21T10:27:08.495191Z",
          "shell.execute_reply": "2025-08-21T10:27:08.831604Z"
        },
        "id": "u1HnoetkWi1f"
      },
      "outputs": [],
      "execution_count": null
    },
    {
      "cell_type": "code",
      "source": [
        "i = 2\n",
        "\n",
        "plt.plot(smallest_10[-i][0].cpu())\n",
        "plt.plot(smallest_10[-i][1].cpu())"
      ],
      "metadata": {
        "trusted": true,
        "execution": {
          "iopub.status.busy": "2025-08-20T04:07:30.584073Z",
          "iopub.status.idle": "2025-08-20T04:07:30.584329Z",
          "shell.execute_reply.started": "2025-08-20T04:07:30.584217Z",
          "shell.execute_reply": "2025-08-20T04:07:30.584228Z"
        },
        "id": "m2I9snl7Wi1f"
      },
      "outputs": [],
      "execution_count": null
    },
    {
      "cell_type": "code",
      "source": [
        "import matplotlib.pyplot as plt\n",
        "import numpy as np\n",
        "\n",
        "def plot_roc_with_eer(eval_info, eer):\n",
        "    \"\"\"\n",
        "    Vẽ ROC curve và đánh dấu điểm EER\n",
        "\n",
        "    Args:\n",
        "        eval_info: dict chứa 'fpr_curve', 'tpr_curve', 'thresholds'\n",
        "        eer: float, giá trị EER\n",
        "    \"\"\"\n",
        "    fpr_curve = eval_info['fpr_curve']\n",
        "    tpr_curve = eval_info['tpr_curve']\n",
        "\n",
        "    plt.figure(figsize=(6,6))\n",
        "    plt.plot(fpr_curve, tpr_curve, label='ROC curve', color='blue')\n",
        "    plt.plot([0,1], [0,1], '--', color='gray', label='Random guess')\n",
        "\n",
        "    # Đánh dấu EER\n",
        "    plt.scatter(eer, 1-eer, color='red', s=80, label=f'EER={eer:.3f}')\n",
        "    plt.text(eer+0.02, 1-eer-0.03, f'EER={eer:.3f}', color='red')\n",
        "\n",
        "    plt.xlabel('False Positive Rate')\n",
        "    plt.ylabel('True Positive Rate')\n",
        "    plt.title('ROC Curve with EER')\n",
        "    plt.legend()\n",
        "    plt.grid(True)\n",
        "    plt.show()\n"
      ],
      "metadata": {
        "trusted": true,
        "execution": {
          "iopub.status.busy": "2025-08-21T10:28:36.544272Z",
          "iopub.execute_input": "2025-08-21T10:28:36.544602Z",
          "iopub.status.idle": "2025-08-21T10:28:36.551271Z",
          "shell.execute_reply.started": "2025-08-21T10:28:36.54458Z",
          "shell.execute_reply": "2025-08-21T10:28:36.550509Z"
        },
        "id": "TaxgJFiVWi1f"
      },
      "outputs": [],
      "execution_count": null
    },
    {
      "cell_type": "code",
      "source": [
        "plot_roc_with_eer(eval_info = metrics['eval_info'], eer =  metrics['eer'])"
      ],
      "metadata": {
        "trusted": true,
        "execution": {
          "iopub.status.busy": "2025-08-21T10:28:37.814139Z",
          "iopub.execute_input": "2025-08-21T10:28:37.814616Z",
          "iopub.status.idle": "2025-08-21T10:28:38.119348Z",
          "shell.execute_reply.started": "2025-08-21T10:28:37.814591Z",
          "shell.execute_reply": "2025-08-21T10:28:38.118602Z"
        },
        "id": "bsBPqWiZWi1f"
      },
      "outputs": [],
      "execution_count": null
    },
    {
      "cell_type": "code",
      "source": [],
      "metadata": {
        "trusted": true,
        "id": "-IhSBoQfWi1f"
      },
      "outputs": [],
      "execution_count": null
    },
    {
      "cell_type": "code",
      "source": [
        "per_frame_info[0]"
      ],
      "metadata": {
        "trusted": true,
        "execution": {
          "iopub.status.busy": "2025-08-20T04:07:30.587909Z",
          "iopub.status.idle": "2025-08-20T04:07:30.588236Z",
          "shell.execute_reply.started": "2025-08-20T04:07:30.588065Z",
          "shell.execute_reply": "2025-08-20T04:07:30.588078Z"
        },
        "id": "GElhXLz0Wi1f"
      },
      "outputs": [],
      "execution_count": null
    },
    {
      "cell_type": "code",
      "source": [],
      "metadata": {
        "trusted": true,
        "id": "i60TD6RDWi1f"
      },
      "outputs": [],
      "execution_count": null
    }
  ]
}
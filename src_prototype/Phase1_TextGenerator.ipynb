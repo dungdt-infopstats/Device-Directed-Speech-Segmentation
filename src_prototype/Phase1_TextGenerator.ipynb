{
  "nbformat": 4,
  "nbformat_minor": 0,
  "metadata": {
    "colab": {
      "provenance": [],
      "authorship_tag": "ABX9TyPz5uoC/FrWq52SLUjs0ml5",
      "include_colab_link": true
    },
    "kernelspec": {
      "name": "python3",
      "display_name": "Python 3"
    },
    "language_info": {
      "name": "python"
    }
  },
  "cells": [
    {
      "cell_type": "markdown",
      "metadata": {
        "id": "view-in-github",
        "colab_type": "text"
      },
      "source": [
        "<a href=\"https://colab.research.google.com/github/10udCryp7/TV-command-synthesis/blob/main/src_prototype/Phase1_TextGenerator.ipynb\" target=\"_parent\"><img src=\"https://colab.research.google.com/assets/colab-badge.svg\" alt=\"Open In Colab\"/></a>"
      ]
    },
    {
      "cell_type": "code",
      "execution_count": null,
      "metadata": {
        "id": "Psj9mbTCR33m"
      },
      "outputs": [],
      "source": [
        "from openai import OpenAI\n",
        "import os\n",
        "from google.colab import userdata\n",
        "\n",
        "\n",
        "class TextGenerator:\n",
        "  def __init__(self, model, temperature, export_dir):\n",
        "    self.model = model\n",
        "    self.temperature = temperature # sau có thể sửa thành 1 file config\n",
        "\n",
        "    try:\n",
        "      api_key = get_api_key(\"colab\")\n",
        "      self.client = OpenAI(api_key=api_key)\n",
        "\n",
        "    except Exception as e:\n",
        "      print(f'fail at init model!')\n",
        "      raise e\n",
        "\n",
        "  def get_api_key(env_type: str):\n",
        "    match env_type:\n",
        "      case \"colab\":\n",
        "        return userdata.get(\"OPENAI_API_KEY\")\n",
        "      case \"local\":\n",
        "        return os.getenv(\"OPENAI_API_KEY\")\n",
        "      # add more case there\n",
        "\n",
        "  def generate(self, prompt):\n",
        "    # just for openai\n",
        "    response = self.client.response.create(\n",
        "        model=self.model,\n",
        "        messages=[\n",
        "            {\"role\": \"user\", \"content\": prompt}\n",
        "        ],\n",
        "        temperature=self.temperature,\n",
        "    )\n",
        "    return response.output[0].content[0].text\n",
        "\n",
        "  def create_df(parsed_data):\n",
        "    rows = []\n",
        "\n",
        "    for main_type, items in parsed_data.items():\n",
        "        for idx, item in enumerate(items):\n",
        "            if isinstance(item, dict):\n",
        "                # Structured format with segments\n",
        "                text = item.get('text', '')\n",
        "                segments = item.get('segments', [])\n",
        "\n",
        "                rows.append({\n",
        "                    'text': text,\n",
        "                    'type': main_type,\n",
        "                    'segments': segments if segments else None,\n",
        "                    'has_segments': len(segments) > 0\n",
        "                })\n",
        "            else:\n",
        "                # Simple string format (fallback)\n",
        "                rows.append({\n",
        "                    'text': item,\n",
        "                    'type': main_type,\n",
        "                    'segments': None,\n",
        "                    'has_segments': False\n",
        "                })\n",
        "\n",
        "    df = pd.DataFrame(rows)\n",
        "\n",
        "    return df\n",
        "\n"
      ]
    },
    {
      "cell_type": "code",
      "source": [
        "# utils.py\n",
        "\n",
        "import json\n",
        "import re\n",
        "\n",
        "def clean_json_string(raw_output):\n",
        "    # Bỏ phần ```json và ```\n",
        "    cleaned = re.sub(r\"^```json\\s*|\\s*```$\", \"\", raw_output.strip())\n",
        "    return cleaned\n",
        "\n",
        "def parse_generated_json(raw_output):\n",
        "    cleaned = clean_json_string(raw_output)\n",
        "    return json.loads(cleaned)\n"
      ],
      "metadata": {
        "id": "k08SYTMWS75G"
      },
      "execution_count": null,
      "outputs": []
    }
  ]
}
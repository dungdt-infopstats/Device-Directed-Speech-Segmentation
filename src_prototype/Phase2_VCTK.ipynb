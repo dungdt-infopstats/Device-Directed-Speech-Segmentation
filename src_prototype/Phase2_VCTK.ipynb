{
  "cells": [
    {
      "cell_type": "markdown",
      "metadata": {
        "id": "view-in-github",
        "colab_type": "text"
      },
      "source": [
        "<a href=\"https://colab.research.google.com/github/dungdt-infopstats/TV-command-synthesis/blob/main/src_prototype/Phase2_VCTK.ipynb\" target=\"_parent\"><img src=\"https://colab.research.google.com/assets/colab-badge.svg\" alt=\"Open In Colab\"/></a>"
      ]
    },
    {
      "cell_type": "code",
      "execution_count": 1,
      "metadata": {
        "colab": {
          "base_uri": "https://localhost:8080/"
        },
        "id": "oYB69oHn6KrE",
        "outputId": "f3ab1041-1351-4cf0-8d67-b4bee563a07e"
      },
      "outputs": [
        {
          "output_type": "stream",
          "name": "stdout",
          "text": [
            "\u001b[?25l     \u001b[90m━━━━━━━━━━━━━━━━━━━━━━━━━━━━━━━━━━━━━━━━\u001b[0m \u001b[32m0.0/61.0 kB\u001b[0m \u001b[31m?\u001b[0m eta \u001b[36m-:--:--\u001b[0m\r\u001b[2K     \u001b[90m━━━━━━━━━━━━━━━━━━━━━━━━━━━━━━━━━━━━━━━━\u001b[0m \u001b[32m61.0/61.0 kB\u001b[0m \u001b[31m3.2 MB/s\u001b[0m eta \u001b[36m0:00:00\u001b[0m\n",
            "\u001b[?25h  Preparing metadata (setup.py) ... \u001b[?25l\u001b[?25hdone\n",
            "\u001b[2K     \u001b[90m━━━━━━━━━━━━━━━━━━━━━━━━━━━━━━━━━━━━━━━━\u001b[0m \u001b[32m93.7/93.7 kB\u001b[0m \u001b[31m8.4 MB/s\u001b[0m eta \u001b[36m0:00:00\u001b[0m\n",
            "\u001b[2K     \u001b[90m━━━━━━━━━━━━━━━━━━━━━━━━━━━━━━━━━━━━━━━━\u001b[0m \u001b[32m3.7/3.7 MB\u001b[0m \u001b[31m69.8 MB/s\u001b[0m eta \u001b[36m0:00:00\u001b[0m\n",
            "\u001b[?25h  Preparing metadata (setup.py) ... \u001b[?25l\u001b[?25hdone\n",
            "\u001b[2K   \u001b[90m━━━━━━━━━━━━━━━━━━━━━━━━━━━━━━━━━━━━━━━━\u001b[0m \u001b[32m1.3/1.3 MB\u001b[0m \u001b[31m71.6 MB/s\u001b[0m eta \u001b[36m0:00:00\u001b[0m\n",
            "\u001b[2K   \u001b[90m━━━━━━━━━━━━━━━━━━━━━━━━━━━━━━━━━━━━━━━━\u001b[0m \u001b[32m61.3/61.3 MB\u001b[0m \u001b[31m12.9 MB/s\u001b[0m eta \u001b[36m0:00:00\u001b[0m\n",
            "\u001b[2K   \u001b[90m━━━━━━━━━━━━━━━━━━━━━━━━━━━━━━━━━━━━━━━━\u001b[0m \u001b[32m154.5/154.5 kB\u001b[0m \u001b[31m13.9 MB/s\u001b[0m eta \u001b[36m0:00:00\u001b[0m\n",
            "\u001b[2K   \u001b[90m━━━━━━━━━━━━━━━━━━━━━━━━━━━━━━━━━━━━━━━━\u001b[0m \u001b[32m18.0/18.0 MB\u001b[0m \u001b[31m73.5 MB/s\u001b[0m eta \u001b[36m0:00:00\u001b[0m\n",
            "\u001b[2K   \u001b[90m━━━━━━━━━━━━━━━━━━━━━━━━━━━━━━━━━━━━━━━━\u001b[0m \u001b[32m431.7/431.7 kB\u001b[0m \u001b[31m31.8 MB/s\u001b[0m eta \u001b[36m0:00:00\u001b[0m\n",
            "\u001b[2K   \u001b[90m━━━━━━━━━━━━━━━━━━━━━━━━━━━━━━━━━━━━━━━━\u001b[0m \u001b[32m2.0/2.0 MB\u001b[0m \u001b[31m70.7 MB/s\u001b[0m eta \u001b[36m0:00:00\u001b[0m\n",
            "\u001b[2K   \u001b[90m━━━━━━━━━━━━━━━━━━━━━━━━━━━━━━━━━━━━━━━━\u001b[0m \u001b[32m93.0/93.0 kB\u001b[0m \u001b[31m8.6 MB/s\u001b[0m eta \u001b[36m0:00:00\u001b[0m\n",
            "\u001b[2K   \u001b[90m━━━━━━━━━━━━━━━━━━━━━━━━━━━━━━━━━━━━━━━━\u001b[0m \u001b[32m840.2/840.2 kB\u001b[0m \u001b[31m47.9 MB/s\u001b[0m eta \u001b[36m0:00:00\u001b[0m\n",
            "\u001b[2K   \u001b[90m━━━━━━━━━━━━━━━━━━━━━━━━━━━━━━━━━━━━━━━━\u001b[0m \u001b[32m242.3/242.3 kB\u001b[0m \u001b[31m18.8 MB/s\u001b[0m eta \u001b[36m0:00:00\u001b[0m\n",
            "\u001b[2K   \u001b[90m━━━━━━━━━━━━━━━━━━━━━━━━━━━━━━━━━━━━━━━━\u001b[0m \u001b[32m235.8/235.8 kB\u001b[0m \u001b[31m19.1 MB/s\u001b[0m eta \u001b[36m0:00:00\u001b[0m\n",
            "\u001b[2K   \u001b[90m━━━━━━━━━━━━━━━━━━━━━━━━━━━━━━━━━━━━━━━━\u001b[0m \u001b[32m139.3/139.3 kB\u001b[0m \u001b[31m12.4 MB/s\u001b[0m eta \u001b[36m0:00:00\u001b[0m\n",
            "\u001b[2K   \u001b[90m━━━━━━━━━━━━━━━━━━━━━━━━━━━━━━━━━━━━━━━━\u001b[0m \u001b[32m103.0/103.0 kB\u001b[0m \u001b[31m8.5 MB/s\u001b[0m eta \u001b[36m0:00:00\u001b[0m\n",
            "\u001b[2K   \u001b[90m━━━━━━━━━━━━━━━━━━━━━━━━━━━━━━━━━━━━━━━━\u001b[0m \u001b[32m61.6/61.6 kB\u001b[0m \u001b[31m5.3 MB/s\u001b[0m eta \u001b[36m0:00:00\u001b[0m\n",
            "\u001b[2K   \u001b[90m━━━━━━━━━━━━━━━━━━━━━━━━━━━━━━━━━━━━━━━━\u001b[0m \u001b[32m14.0/14.0 MB\u001b[0m \u001b[31m86.5 MB/s\u001b[0m eta \u001b[36m0:00:00\u001b[0m\n",
            "\u001b[2K   \u001b[90m━━━━━━━━━━━━━━━━━━━━━━━━━━━━━━━━━━━━━━━━\u001b[0m \u001b[32m85.3/85.3 kB\u001b[0m \u001b[31m8.0 MB/s\u001b[0m eta \u001b[36m0:00:00\u001b[0m\n",
            "\u001b[?25h  Building wheel for transformers_stream_generator (setup.py) ... \u001b[?25l\u001b[?25hdone\n",
            "  Building wheel for encodec (setup.py) ... \u001b[?25l\u001b[?25hdone\n",
            "\u001b[31mERROR: pip's dependency resolver does not currently take into account all the packages that are installed. This behaviour is the source of the following dependency conflicts.\n",
            "thinc 8.3.6 requires numpy<3.0.0,>=2.0.0, but you have numpy 1.26.4 which is incompatible.\n",
            "mcp 1.13.1 requires pydantic<3.0.0,>=2.11.0, but you have pydantic 2.10.6 which is incompatible.\n",
            "opencv-python-headless 4.12.0.88 requires numpy<2.3.0,>=2; python_version >= \"3.9\", but you have numpy 1.26.4 which is incompatible.\n",
            "opencv-contrib-python 4.12.0.88 requires numpy<2.3.0,>=2; python_version >= \"3.9\", but you have numpy 1.26.4 which is incompatible.\n",
            "opencv-python 4.12.0.88 requires numpy<2.3.0,>=2; python_version >= \"3.9\", but you have numpy 1.26.4 which is incompatible.\u001b[0m\u001b[31m\n",
            "\u001b[0m"
          ]
        }
      ],
      "source": [
        "# F5-TTS\n",
        "!pip install -q f5-tts"
      ]
    },
    {
      "cell_type": "markdown",
      "metadata": {
        "id": "3qdix7aPJSVK"
      },
      "source": [
        "# VCTK"
      ]
    },
    {
      "cell_type": "code",
      "execution_count": 1,
      "metadata": {
        "id": "BZbnEWUL9fUD"
      },
      "outputs": [],
      "source": [
        "# Reference Speech\n",
        "!gdown 1G5APBDW_BlWAyXW_76RO24-wK6XqWkNe --quiet\n",
        "# Reference Meta (including Text)\n",
        "!gdown 1eJ7migpI5HXW_ZsAdUnY2S7WL-cwLG6e --quiet"
      ]
    },
    {
      "cell_type": "code",
      "execution_count": 2,
      "metadata": {
        "id": "qlw9yv7gO0G2"
      },
      "outputs": [],
      "source": [
        "!unzip -q vctk_ref_audio.zip\n",
        "!unzip -q vctk_ref_json.zip"
      ]
    },
    {
      "cell_type": "markdown",
      "metadata": {
        "id": "bIPdLEkAJgy9"
      },
      "source": [
        "# Flow"
      ]
    },
    {
      "cell_type": "code",
      "execution_count": 3,
      "metadata": {
        "colab": {
          "base_uri": "https://localhost:8080/"
        },
        "id": "TsMWnNhOO0G3",
        "outputId": "2204ed89-bc05-41cb-c36d-05c89138f59b"
      },
      "outputs": [
        {
          "output_type": "stream",
          "name": "stderr",
          "text": [
            "/usr/local/lib/python3.12/dist-packages/pydub/utils.py:300: SyntaxWarning: invalid escape sequence '\\('\n",
            "  m = re.match('([su]([0-9]{1,2})p?) \\(([0-9]{1,2}) bit\\)$', token)\n",
            "/usr/local/lib/python3.12/dist-packages/pydub/utils.py:301: SyntaxWarning: invalid escape sequence '\\('\n",
            "  m2 = re.match('([su]([0-9]{1,2})p?)( \\(default\\))?$', token)\n",
            "/usr/local/lib/python3.12/dist-packages/pydub/utils.py:310: SyntaxWarning: invalid escape sequence '\\('\n",
            "  elif re.match('(flt)p?( \\(default\\))?$', token):\n",
            "/usr/local/lib/python3.12/dist-packages/pydub/utils.py:314: SyntaxWarning: invalid escape sequence '\\('\n",
            "  elif re.match('(dbl)p?( \\(default\\))?$', token):\n",
            "Processing WAV files: 100%|██████████| 1080/1080 [00:01<00:00, 819.89it/s]\n"
          ]
        }
      ],
      "source": [
        "import os\n",
        "from pydub import AudioSegment\n",
        "from tqdm import tqdm\n",
        "\n",
        "def add_silence_to_wav(input_dir, output_dir, silence_duration_ms=1000):\n",
        "    # Tạo thư mục output nếu chưa tồn tại\n",
        "    os.makedirs(output_dir, exist_ok=True)\n",
        "\n",
        "    # Lấy danh sách file .wav\n",
        "    wav_files = [f for f in os.listdir(input_dir) if f.lower().endswith(\".wav\")]\n",
        "\n",
        "    # Loop qua danh sách file với tqdm\n",
        "    for filename in tqdm(wav_files, desc=\"Processing WAV files\"):\n",
        "        filepath = os.path.join(input_dir, filename)\n",
        "\n",
        "        # Load audio\n",
        "        audio = AudioSegment.from_wav(filepath)\n",
        "\n",
        "        # Tạo đoạn silence\n",
        "        silence = AudioSegment.silent(duration=silence_duration_ms)\n",
        "\n",
        "        # Ghép audio + silence\n",
        "        padded_audio = audio + silence\n",
        "\n",
        "        # Lưu file mới\n",
        "        output_path = os.path.join(output_dir, filename)\n",
        "        padded_audio.export(output_path, format=\"wav\")\n",
        "\n",
        "# Ví dụ chạy\n",
        "add_silence_to_wav(\"audio\", \"pad_audio\", silence_duration_ms=1000)\n"
      ]
    },
    {
      "cell_type": "code",
      "execution_count": 9,
      "metadata": {
        "id": "EJWtmukOvNzZ"
      },
      "outputs": [],
      "source": [
        "import os\n",
        "import shutil\n",
        "import librosa\n",
        "\n",
        "def filter_audio_json(\n",
        "    audio_dir,\n",
        "    json_dir,\n",
        "    output_audio_dir,\n",
        "    output_json_dir,\n",
        "    min_duration=1.0,\n",
        "    max_duration=12.0,\n",
        "    reset_output=False\n",
        "):\n",
        "    \"\"\"\n",
        "    Lọc bỏ các file audio có độ dài < min_duration hoặc > max_duration\n",
        "    và đồng bộ file JSON cùng tên.\n",
        "\n",
        "    Args:\n",
        "        audio_dir (str): Thư mục chứa audio input.\n",
        "        json_dir (str): Thư mục chứa json input.\n",
        "        output_audio_dir (str): Thư mục chứa audio output.\n",
        "        output_json_dir (str): Thư mục chứa json output.\n",
        "        min_duration (float): Ngưỡng thời lượng tối thiểu (giây).\n",
        "        max_duration (float): Ngưỡng thời lượng tối đa (giây).\n",
        "        reset_output (bool): Nếu True thì xóa toàn bộ dữ liệu trong output dirs trước khi copy.\n",
        "    \"\"\"\n",
        "    # reset output dirs nếu cần\n",
        "    if reset_output:\n",
        "        if os.path.exists(output_audio_dir):\n",
        "            shutil.rmtree(output_audio_dir)\n",
        "        if os.path.exists(output_json_dir):\n",
        "            shutil.rmtree(output_json_dir)\n",
        "\n",
        "    os.makedirs(output_audio_dir, exist_ok=True)\n",
        "    os.makedirs(output_json_dir, exist_ok=True)\n",
        "\n",
        "    kept, too_short, too_long, errors = 0, 0, 0, 0\n",
        "\n",
        "    for file in os.listdir(audio_dir):\n",
        "        if file.endswith((\".wav\", \".mp3\", \".flac\")):  # lọc định dạng audio\n",
        "            audio_path = os.path.join(audio_dir, file)\n",
        "            try:\n",
        "                y, sr = librosa.load(audio_path, sr=None)\n",
        "                duration = librosa.get_duration(y=y, sr=sr)\n",
        "\n",
        "                if min_duration <= duration <= max_duration:\n",
        "                    # copy audio\n",
        "                    shutil.copy(audio_path, os.path.join(output_audio_dir, file))\n",
        "                    kept += 1\n",
        "\n",
        "                    # copy json nếu tồn tại\n",
        "                    json_file = os.path.splitext(file)[0] + \".json\"\n",
        "                    json_path = os.path.join(json_dir, json_file)\n",
        "                    if os.path.exists(json_path):\n",
        "                        shutil.copy(json_path, os.path.join(output_json_dir, json_file))\n",
        "                elif duration < min_duration:\n",
        "                    too_short += 1\n",
        "                else:\n",
        "                    too_long += 1\n",
        "            except Exception as e:\n",
        "                print(f\"Lỗi khi đọc {file}: {e}\")\n",
        "                errors += 1\n",
        "\n",
        "    print(f\"✅ Hoàn thành lọc audio + json.\")\n",
        "    print(f\"   - Giữ lại: {kept}\")\n",
        "    print(f\"   - Loại (quá ngắn): {too_short}\")\n",
        "    print(f\"   - Loại (quá dài): {too_long}\")\n",
        "    print(f\"   - Lỗi khi xử lý: {errors}\")\n"
      ]
    },
    {
      "cell_type": "code",
      "execution_count": 20,
      "metadata": {
        "colab": {
          "base_uri": "https://localhost:8080/"
        },
        "id": "ihcPmJBHvyVa",
        "outputId": "001fb8ec-1c7f-4bbf-ea09-3edcbcfb68c0"
      },
      "outputs": [
        {
          "output_type": "stream",
          "name": "stdout",
          "text": [
            "✅ Hoàn thành lọc audio + json.\n",
            "   - Giữ lại: 1077\n",
            "   - Loại (quá ngắn): 0\n",
            "   - Loại (quá dài): 3\n",
            "   - Lỗi khi xử lý: 0\n"
          ]
        }
      ],
      "source": [
        "filter_audio_json(\n",
        "    audio_dir=\"pad_audio\",\n",
        "    json_dir=\"json\",\n",
        "    output_audio_dir=\"filtered_audio\",\n",
        "    output_json_dir=\"filtered_json\",\n",
        "    max_duration=12.0,\n",
        "    reset_output=True\n",
        ")\n"
      ]
    },
    {
      "cell_type": "code",
      "execution_count": 1,
      "metadata": {
        "id": "MM_SS4y_wF3h",
        "colab": {
          "base_uri": "https://localhost:8080/",
          "height": 474
        },
        "outputId": "8d1495a3-b4a0-4f7a-c567-2bef25f4254a"
      },
      "outputs": [
        {
          "output_type": "display_data",
          "data": {
            "text/plain": [
              "<Figure size 640x480 with 1 Axes>"
            ],
            "image/png": "[encoded data removed]"
          },
          "metadata": {}
        }
      ],
      "source": [
        "import os\n",
        "import librosa\n",
        "import matplotlib.pyplot as plt\n",
        "\n",
        "# Đường dẫn tới thư mục chứa audio\n",
        "audio_dir = \"/content/filtered_audio\"\n",
        "\n",
        "durations = []\n",
        "\n",
        "# Lặp qua các file audio trong thư mục\n",
        "for file in os.listdir(audio_dir):\n",
        "    if file.endswith((\".wav\", \".mp3\", \".flac\")):  # lọc định dạng audio\n",
        "        file_path = os.path.join(audio_dir, file)\n",
        "        try:\n",
        "            y, sr = librosa.load(file_path, sr=None)  # load với sampling rate gốc\n",
        "            duration = librosa.get_duration(y=y, sr=sr)\n",
        "            durations.append(duration)\n",
        "        except Exception as e:\n",
        "            print(f\"Không đọc được file {file}: {e}\")\n",
        "\n",
        "# Vẽ histogram phân bố độ dài\n",
        "plt.hist(durations, bins=30, edgecolor=\"black\")\n",
        "plt.xlabel(\"Thời lượng (giây)\")\n",
        "plt.ylabel(\"Số lượng file\")\n",
        "plt.title(\"Phân bố độ dài speech trong thư mục\")\n",
        "plt.show()\n"
      ]
    },
    {
      "cell_type": "code",
      "execution_count": 2,
      "metadata": {
        "id": "PydQZuRQ_9A9"
      },
      "outputs": [],
      "source": [
        "import os\n",
        "import json\n",
        "import soundfile as sf\n",
        "import pandas as pd\n",
        "import random\n",
        "import ast\n",
        "import numpy as np\n",
        "import uuid\n",
        "from concurrent.futures import ThreadPoolExecutor\n",
        "import multiprocessing as mp\n",
        "from pathlib import Path\n",
        "import time\n",
        "from typing import Any, List\n",
        "from importlib.resources import files\n",
        "from f5_tts.api import F5TTS\n",
        "\n",
        "class ReferenceCache:\n",
        "    def __init__(self, audio_folder_path: str, json_folder_path: str):\n",
        "        self.audio_folder_path = Path(audio_folder_path)\n",
        "        self.json_folder_path = Path(json_folder_path)\n",
        "        self._audio_files = None\n",
        "        self._json_files = None\n",
        "        self._ref_texts = {}\n",
        "\n",
        "    @property\n",
        "    def audio_files(self):\n",
        "        if self._audio_files is None:\n",
        "            self._audio_files = [f for f in self.audio_folder_path.iterdir() if f.is_file()]\n",
        "        return self._audio_files\n",
        "\n",
        "    @property\n",
        "    def json_files(self):\n",
        "        if self._json_files is None:\n",
        "            self._json_files = [f for f in self.json_folder_path.iterdir() if f.suffix == '.json']\n",
        "        return self._json_files\n",
        "\n",
        "    def get_ref_text(self, json_path: Path) -> str:\n",
        "        if str(json_path) not in self._ref_texts:\n",
        "            with open(json_path, 'r', encoding='utf-8') as f:\n",
        "                data = json.load(f)\n",
        "                self._ref_texts[str(json_path)] = data.get('text', '')\n",
        "        return self._ref_texts[str(json_path)]\n",
        "\n",
        "    def sample_reference(self, target_len: int):\n",
        "      # 1. Random 30 json files\n",
        "      sampled_jsons = random.sample(self.json_files, min(30, len(self.json_files)))\n",
        "\n",
        "      # 2. Tính độ dài và khoảng cách\n",
        "      candidates = []\n",
        "      for json_file in sampled_jsons:\n",
        "          ref_text = self.get_ref_text(json_file)\n",
        "          ref_len = len(ref_text.split())\n",
        "          diff = abs(ref_len - target_len)\n",
        "          candidates.append((diff, json_file, ref_text))\n",
        "\n",
        "      # 3. Sort theo khoảng cách từ nhỏ -> lớn\n",
        "      candidates.sort(key=lambda x: x[0])\n",
        "\n",
        "      # 4. Lấy 5 file gần nhất\n",
        "      top_candidates = candidates[:5]\n",
        "\n",
        "      # 5. Random chọn trong top 5\n",
        "      _, json_file, ref_text = random.choice(top_candidates)\n",
        "      ref_id = json_file.stem\n",
        "      audio_file = os.path.join(self.audio_folder_path, f\"{ref_id}.wav\")\n",
        "      return ref_id, audio_file, ref_text\n"
      ]
    },
    {
      "cell_type": "code",
      "execution_count": 3,
      "metadata": {
        "id": "sLGEgwVFtfTJ"
      },
      "outputs": [],
      "source": [
        "import os\n",
        "import json\n",
        "import soundfile as sf\n",
        "import pandas as pd\n",
        "import random\n",
        "import ast\n",
        "import numpy as np\n",
        "import uuid\n",
        "from concurrent.futures import ThreadPoolExecutor\n",
        "import multiprocessing as mp\n",
        "from pathlib import Path\n",
        "import time\n",
        "from typing import Any, List\n",
        "from importlib.resources import files\n",
        "from f5_tts.api import F5TTS\n",
        "\n",
        "class SpeechSynthesis:\n",
        "  def __init__(self, ref_folder_path, json_folder_path, num_workers):\n",
        "    self.ref_folder_path = ref_folder_path\n",
        "    self.json_folder_path = json_folder_path\n",
        "    self.num_workers = num_workers\n",
        "\n",
        "  def load_model(self):\n",
        "    f5tts = F5TTS(device = 'cuda')\n",
        "    return f5tts\n",
        "\n",
        "\n",
        "  def audio_generate(self, command: str, model, ref_file: str = \"\", ref_text: str = \"\"):\n",
        "      wav, sr, spec = model.infer(\n",
        "          ref_file=ref_file,\n",
        "          ref_text=ref_text,\n",
        "          gen_text=command,\n",
        "          seed=None,\n",
        "      )\n",
        "      return wav, sr, spec\n",
        "\n",
        "  def process_single_command(self, row: pd.Series, ref_cache: ReferenceCache, export_path: str, model: Any):\n",
        "    try:\n",
        "        # --- Xác định target_len ---\n",
        "        target_len = len(row['text'].split())\n",
        "\n",
        "        if pd.notna(row['segments']) and row['segments'] not in [None, \"\", \"nan\"]:\n",
        "            seg_list = ast.literal_eval(row['segments'])\n",
        "            if isinstance(seg_list, list) and len(seg_list) > 0:\n",
        "                seg_lens = []\n",
        "                for seg in seg_list:\n",
        "                    try:\n",
        "                        # lấy text trong segment\n",
        "                        seg_text = list(seg.values())[0]\n",
        "                        seg_lens.append(len(seg_text.split()))\n",
        "                    except Exception:\n",
        "                        continue\n",
        "                if len(seg_lens) > 0:\n",
        "                    target_len = int(np.mean(seg_lens))\n",
        "\n",
        "        # --- Chọn reference phù hợp ---\n",
        "        ref_id, ref_speech_path, ref_text = ref_cache.sample_reference(target_len)\n",
        "\n",
        "        # --- Generate full audio ---\n",
        "        wav, sr, _ = self.audio_generate(row['text'], model, ref_speech_path, ref_text)\n",
        "\n",
        "        cur_id = row['id']\n",
        "        cmd_path = Path(export_path) / f\"{row['type']}_{cur_id}\"\n",
        "        cmd_path.mkdir(parents=True, exist_ok=True)\n",
        "\n",
        "        # Save full audio\n",
        "        sf.write(cmd_path / f\"{row['type']}_{cur_id}_full.wav\", wav, sr)\n",
        "\n",
        "        type_segments = {}\n",
        "        text_segments = {}\n",
        "\n",
        "        # --- Generate từng segment ---\n",
        "        if pd.notna(row['segments']) and row['segments'] not in [None, \"\", \"nan\"]:\n",
        "            seg_list = ast.literal_eval(row['segments'])\n",
        "            for count, seg in enumerate(seg_list):\n",
        "                key = list(seg.keys())[0]\n",
        "                seg[key] = seg[key] + \",  \"\n",
        "                seg_wav, seg_sr, _ = self.audio_generate(seg[key], model, ref_speech_path, ref_text)\n",
        "                sf.write(cmd_path / f\"{row['type']}_{cur_id}_seg_{count}.wav\", seg_wav, seg_sr)\n",
        "\n",
        "                list_key = list(seg.keys())\n",
        "                type_segments[list_key[0]] = seg[list_key[1]] if len(list_key) > 1 else \"\"\n",
        "                text_segments[list_key[0]] = seg[list_key[0]]\n",
        "\n",
        "        # --- Lưu metadata JSON ---\n",
        "        json_template = {\n",
        "            \"id\": cur_id,\n",
        "            \"type\": row['type'],\n",
        "            \"command\": row['text'],\n",
        "            \"sampling_rate\": sr,\n",
        "            \"num_segments\": len(type_segments),\n",
        "            \"type_segments\": type_segments,\n",
        "            \"text_segments\": text_segments,\n",
        "            \"ref_id\": ref_id,\n",
        "            \"ref_file\": ref_speech_path,\n",
        "            \"ref_text\": ref_text\n",
        "        }\n",
        "        with open(cmd_path / f\"{row['type']}_{cur_id}.json\", 'w', encoding='utf-8') as f:\n",
        "            json.dump(json_template, f, ensure_ascii=False, indent=2)\n",
        "\n",
        "        return json_template\n",
        "\n",
        "    except Exception as e:\n",
        "        print(f\"Failed to process: {row['text']}, error: {e}\")\n",
        "        return None\n",
        "\n",
        "\n",
        "\n",
        "  def worker_task(self, rows: List[pd.Series], ref_folder: str, json_folder: str, export_path: str):\n",
        "      # Mỗi worker load model riêng\n",
        "      model = self.load_model()\n",
        "      ref_cache = ReferenceCache(ref_folder, json_folder)\n",
        "      results = []\n",
        "      for row in rows:\n",
        "          res = self.process_single_command(row, ref_cache, export_path, model)\n",
        "          if res:\n",
        "              results.append(res)\n",
        "      return results\n",
        "\n",
        "  def command_synthesis_pipeline_multi_model(\n",
        "    self,\n",
        "    text_command,\n",
        "    export_path\n",
        "  ):\n",
        "    start_time = time.time()\n",
        "    os.makedirs(export_path, exist_ok=True)\n",
        "\n",
        "    if self.num_workers is None:\n",
        "        self.num_workers = min(mp.cpu_count(), 4)  # Giới hạn số model load\n",
        "\n",
        "    # Chia dữ liệu thành N phần, mỗi worker xử lý riêng\n",
        "    chunks = np.array_split(text_command, self.num_workers)\n",
        "\n",
        "    all_results = []\n",
        "    with ThreadPoolExecutor(max_workers=self.num_workers) as executor:\n",
        "        futures = [\n",
        "            executor.submit(self.worker_task, chunk.to_dict('records'), self.ref_folder_path, self.json_folder_path, export_path)\n",
        "            for chunk in chunks\n",
        "        ]\n",
        "        for i, future in enumerate(futures):\n",
        "            res_list = future.result()\n",
        "            all_results.extend(res_list)\n",
        "            print(f\"Worker {i+1} done ({len(res_list)} items)\")\n",
        "\n",
        "    print(f\"Pipeline finished in {time.time() - start_time:.2f}s\")\n",
        "    return pd.DataFrame(all_results)\n",
        "\n"
      ]
    },
    {
      "cell_type": "code",
      "execution_count": 4,
      "metadata": {
        "colab": {
          "base_uri": "https://localhost:8080/"
        },
        "id": "HVzIdoMcBWZ_",
        "outputId": "2d1a96ce-152d-42dc-fee8-dec8bac8798f"
      },
      "outputs": [
        {
          "output_type": "stream",
          "name": "stderr",
          "text": [
            "Downloading...\n",
            "From: https://drive.google.com/uc?id=19PQWDZVvj30y6WuIkEGi_ZFKmeKNDQi2\n",
            "To: /content/part_1.zip\n",
            "100%|██████████| 57.5k/57.5k [00:00<00:00, 3.27MB/s]\n"
          ]
        }
      ],
      "source": [
        "import gdown\n",
        "\n",
        "gid = '19PQWDZVvj30y6WuIkEGi_ZFKmeKNDQi2'\n",
        "url = f\"https://drive.google.com/uc?id={gid}\"\n",
        "\n",
        "output = gdown.download(url, quiet=False)  # output sẽ là tên file đã tải"
      ]
    },
    {
      "cell_type": "code",
      "execution_count": 31,
      "metadata": {
        "id": "HcNX13tSBi1K"
      },
      "outputs": [],
      "source": [
        "!unzip -q {output}"
      ]
    },
    {
      "cell_type": "code",
      "execution_count": 5,
      "metadata": {
        "id": "LDCJAXX16TJB"
      },
      "outputs": [],
      "source": [
        "import shutil\n",
        "\n",
        "param = {\n",
        "    'ref_folder_path': \"filtered_audio\",\n",
        "    'json_folder_path': \"filtered_json\",\n",
        "    'num_workers': 4,\n",
        "}\n",
        "\n",
        "csv_folder = f'{os.path.splitext(output)[0]}'\n",
        "export_folder = 'synthesis_command'\n",
        "\n",
        "def main(export_folder):\n",
        "  os.makedirs(export_folder, exist_ok=True)\n",
        "  list_speech_df = []\n",
        "  speech_synthesis = SpeechSynthesis(**param)\n",
        "  for csv_file in os.listdir(csv_folder):\n",
        "    if csv_file.endswith('.csv'):\n",
        "      csv_path = os.path.join(csv_folder, csv_file)\n",
        "      df = pd.read_csv(csv_path)\n",
        "    else:\n",
        "      continue\n",
        "\n",
        "    name = os.path.splitext(csv_file)[0]\n",
        "    export_path = f'{export_folder}/synthesis_command_{name}'\n",
        "    os.makedirs(export_path, exist_ok=True)\n",
        "    df_res = speech_synthesis.command_synthesis_pipeline_multi_model(df, export_path=export_path)\n",
        "    shutil.make_archive(export_path, 'zip', export_path)\n",
        "    list_speech_df.append(df_res)\n",
        "\n",
        "    df_path = os.path.join(export_path, f'synthesis_command_{name}.csv')\n",
        "    df.to_csv(df_path, index=False)\n",
        "\n",
        "  list_speech_df = pd.concat(list_speech_df)\n",
        "  list_speech_df.to_csv('synthesis_command.csv', index=False)"
      ]
    },
    {
      "cell_type": "code",
      "execution_count": null,
      "metadata": {
        "colab": {
          "base_uri": "https://localhost:8080/"
        },
        "id": "4MhRnbPfAEEm",
        "outputId": "35ea3f60-3980-436b-ee60-b3e8b0786baa"
      },
      "outputs": [
        {
          "output_type": "stream",
          "name": "stderr",
          "text": [
            "/usr/local/lib/python3.12/dist-packages/numpy/core/fromnumeric.py:59: FutureWarning: 'DataFrame.swapaxes' is deprecated and will be removed in a future version. Please use 'DataFrame.transpose' instead.\n",
            "  return bound(*args, **kwds)\n"
          ]
        },
        {
          "output_type": "stream",
          "name": "stdout",
          "text": [
            "Download Vocos from huggingface charactr/vocos-mel-24khz\n",
            "Download Vocos from huggingface charactr/vocos-mel-24khz\n",
            "Download Vocos from huggingface charactr/vocos-mel-24khz\n",
            "Download Vocos from huggingface charactr/vocos-mel-24khz\n"
          ]
        },
        {
          "output_type": "stream",
          "name": "stderr",
          "text": [
            "/usr/local/lib/python3.12/dist-packages/huggingface_hub/utils/_auth.py:94: UserWarning: \n",
            "The secret `HF_TOKEN` does not exist in your Colab secrets.\n",
            "To authenticate with the Hugging Face Hub, create a token in your settings tab (https://huggingface.co/settings/tokens), set it as secret in your Google Colab and restart your session.\n",
            "You will be able to reuse this secret in all of your notebooks.\n",
            "Please note that authentication is recommended but still optional to access public models or datasets.\n",
            "  warnings.warn(\n"
          ]
        },
        {
          "output_type": "stream",
          "name": "stdout",
          "text": [
            "\n",
            "vocab :  /usr/local/lib/python3.12/dist-packages/f5_tts/infer/examples/vocab.txt\n",
            "token :  custom\n",
            "model :  /root/.cache/huggingface/hub/models--SWivid--F5-TTS/snapshots/84e5a410d9cead4de2f847e7c9369a6440bdfaca/F5TTS_v1_Base/model_1250000.safetensors \n",
            "\n",
            "\n",
            "vocab :  /usr/local/lib/python3.12/dist-packages/f5_tts/infer/examples/vocab.txt\n",
            "token :  custom\n",
            "model :  /root/.cache/huggingface/hub/models--SWivid--F5-TTS/snapshots/84e5a410d9cead4de2f847e7c9369a6440bdfaca/F5TTS_v1_Base/model_1250000.safetensors \n",
            "\n",
            "\n",
            "vocab :  /usr/local/lib/python3.12/dist-packages/f5_tts/infer/examples/vocab.txt\n",
            "token :  custom\n",
            "model :  /root/.cache/huggingface/hub/models--SWivid--F5-TTS/snapshots/84e5a410d9cead4de2f847e7c9369a6440bdfaca/F5TTS_v1_Base/model_1250000.safetensors \n",
            "\n",
            "\n",
            "vocab :  /usr/local/lib/python3.12/dist-packages/f5_tts/infer/examples/vocab.txt\n",
            "token :  custom\n",
            "model :  /root/.cache/huggingface/hub/models--SWivid--F5-TTS/snapshots/84e5a410d9cead4de2f847e7c9369a6440bdfaca/F5TTS_v1_Base/model_1250000.safetensors \n",
            "\n",
            "Converting audio...\n",
            "Converting audio...\n",
            "Using custom reference text...\n",
            "\n",
            "ref_text   His presence was very important. \n"
          ]
        },
        {
          "output_type": "stream",
          "name": "stderr",
          "text": [
            "/usr/local/lib/python3.12/dist-packages/torchaudio/_backend/utils.py:213: UserWarning: In 2.9, this function's implementation will be changed to use torchaudio.load_with_torchcodec` under the hood. Some parameters like ``normalize``, ``format``, ``buffer_size``, and ``backend`` will be ignored. We recommend that you port your code to rely directly on TorchCodec's decoder instead: https://docs.pytorch.org/torchcodec/stable/generated/torchcodec.decoders.AudioDecoder.html#torchcodec.decoders.AudioDecoder.\n",
            "  warnings.warn(\n",
            "/usr/local/lib/python3.12/dist-packages/torchaudio/_backend/ffmpeg.py:88: UserWarning: torio.io._streaming_media_decoder.StreamingMediaDecoder has been deprecated. This deprecation is part of a large refactoring effort to transition TorchAudio into a maintenance phase. The decoding and encoding capabilities of PyTorch for both audio and video are being consolidated into TorchCodec. Please see https://github.com/pytorch/audio/issues/3902 for more information. It will be removed from the 2.9 release. \n",
            "  s = torchaudio.io.StreamReader(src, format, None, buffer_size)\n"
          ]
        },
        {
          "output_type": "stream",
          "name": "stdout",
          "text": [
            "gen_text 0 set the volume to maximum\n",
            "\n",
            "\n",
            "Generating audio in 1 batches...\n",
            "Using custom reference text...\n",
            "\n",
            "ref_text   Being involved at that level is like an addiction. \n",
            "gen_text 0 change the channel to CITV and mute the TV\n",
            "\n",
            "\n",
            "Generating audio in 1 batches...\n"
          ]
        },
        {
          "output_type": "stream",
          "name": "stderr",
          "text": [
            "  0%|          | 0/1 [00:00<?, ?it/s]\n",
            "  0%|          | 0/1 [00:00<?, ?it/s]\u001b[A"
          ]
        },
        {
          "output_type": "stream",
          "name": "stdout",
          "text": [
            "Converting audio...\n",
            "Using custom reference text...\n",
            "\n",
            "ref_text   This season has been great for me, it's been an experience. \n",
            "gen_text 0 I watched 'Klaus' last weekend and really enjoyed the animation.\n",
            "\n",
            "\n",
            "Generating audio in 1 batches...\n",
            "Converting audio...\n"
          ]
        },
        {
          "output_type": "stream",
          "name": "stderr",
          "text": [
            "\n",
            "\n",
            "  0%|          | 0/1 [00:00<?, ?it/s]\u001b[A\u001b[A"
          ]
        },
        {
          "output_type": "stream",
          "name": "stdout",
          "text": [
            "Using custom reference text...\n",
            "\n",
            "ref_text   She has a little boy. \n",
            "gen_text 0 Rate this show 5 stars, the weather is so unpredictable lately.\n",
            "\n",
            "\n",
            "Generating audio in 1 batches...\n"
          ]
        },
        {
          "output_type": "stream",
          "name": "stderr",
          "text": [
            "\n",
            "\n",
            "\n",
            "  0%|          | 0/1 [00:00<?, ?it/s]\u001b[A\u001b[A\u001b[A\n",
            "\n",
            "100%|██████████| 1/1 [00:08<00:00,  8.04s/it]\n"
          ]
        },
        {
          "output_type": "stream",
          "name": "stdout",
          "text": [
            "Converting audio...\n",
            "Using custom reference text...\n",
            "\n",
            "ref_text   Certainly, in terms of league position, we must be favourites. \n",
            "gen_text 0 Have you heard Snoop Dogg's song 'Deep Cover'? It's such a classic.\n",
            "\n",
            "\n",
            "Generating audio in 1 batches...\n"
          ]
        },
        {
          "output_type": "stream",
          "name": "stderr",
          "text": [
            "\n",
            "\n",
            "100%|██████████| 1/1 [00:09<00:00,  9.59s/it]\n",
            "\n",
            "100%|██████████| 1/1 [00:09<00:00,  9.62s/it]\n",
            "\n",
            "\n",
            "\n",
            "100%|██████████| 1/1 [00:08<00:00,  8.37s/it]\n"
          ]
        },
        {
          "output_type": "stream",
          "name": "stdout",
          "text": [
            "Converting audio...\n",
            "Converting audio...\n",
            "Converting audio...\n",
            "Using cached preprocessed reference audio...\n",
            "Using custom reference text...\n",
            "\n",
            "ref_text   She has a little boy. \n",
            "Using custom reference text...\n",
            "\n",
            "ref_text   We haven't finished the complaints procedure. \n",
            "gen_text 0 Rate this show 5 stars,,\n",
            "\n",
            "\n",
            "Generating audio in 1 batches...\n",
            "gen_text 0 search on Amazon Music for Drake\n",
            "\n",
            "\n",
            "Generating audio in 1 batches...\n"
          ]
        },
        {
          "output_type": "stream",
          "name": "stderr",
          "text": [
            "\r  0%|          | 0/1 [00:00<?, ?it/s]"
          ]
        },
        {
          "output_type": "stream",
          "name": "stdout",
          "text": [
            "Using custom reference text...\n",
            "\n",
            "ref_text   Things fall a little flat elsewhere, however. \n"
          ]
        },
        {
          "output_type": "stream",
          "name": "stderr",
          "text": [
            "\n",
            "  0%|          | 0/1 [00:00<?, ?it/s]\u001b[A"
          ]
        },
        {
          "output_type": "stream",
          "name": "stdout",
          "text": [
            "gen_text 0 Did you see the new movie trailers? Go to channel Syfy and set brightness to 75, then let's talk about our weekend plans.\n",
            "\n",
            "\n",
            "Generating audio in 1 batches...\n"
          ]
        },
        {
          "output_type": "stream",
          "name": "stderr",
          "text": [
            "\n",
            "\n",
            "\n",
            "  0%|          | 0/1 [00:00<?, ?it/s]\u001b[A\u001b[A\u001b[A\n",
            "\n",
            "100%|██████████| 1/1 [00:06<00:00,  6.38s/it]\n"
          ]
        },
        {
          "output_type": "stream",
          "name": "stdout",
          "text": [
            "Converting audio...\n",
            "Using custom reference text...\n",
            "\n",
            "ref_text   She can scoop these things into three red bags, and we will go meet her Wednesday at the train station. \n",
            "gen_text 0 I remember enjoying 'Rush Hour 3' when it first came out; it always makes me laugh.\n",
            "\n",
            "\n",
            "Generating audio in 1 batches...\n"
          ]
        },
        {
          "output_type": "stream",
          "name": "stderr",
          "text": [
            "\n",
            "\n",
            "100%|██████████| 1/1 [00:07<00:00,  7.32s/it]\n"
          ]
        },
        {
          "output_type": "stream",
          "name": "stdout",
          "text": [
            "Converting audio...\n",
            "Using cached preprocessed reference audio...\n",
            "Using custom reference text...\n",
            "\n",
            "ref_text   She has a little boy. \n",
            "gen_text 0 the weather is,\n",
            "\n",
            "\n",
            "Generating audio in 1 batches...\n"
          ]
        },
        {
          "output_type": "stream",
          "name": "stderr",
          "text": [
            "  0%|          | 0/1 [00:00<?, ?it/s]\n",
            "100%|██████████| 1/1 [00:08<00:00,  8.78s/it]\n"
          ]
        },
        {
          "output_type": "stream",
          "name": "stdout",
          "text": [
            "Converting audio...\n",
            "Using custom reference text...\n",
            "\n",
            "ref_text   That argument has been won. \n",
            "gen_text 0 show the TV guide\n",
            "\n",
            "\n",
            "Generating audio in 1 batches...\n"
          ]
        },
        {
          "output_type": "stream",
          "name": "stderr",
          "text": [
            "\n",
            "  0%|          | 0/1 [00:00<?, ?it/s]\u001b[A\n",
            "\n",
            "\n",
            "100%|██████████| 1/1 [00:09<00:00,  9.41s/it]\n"
          ]
        },
        {
          "output_type": "stream",
          "name": "stdout",
          "text": [
            "Converting audio...\n",
            "Using cached preprocessed reference audio...\n",
            "Using custom reference text...\n",
            "\n",
            "ref_text   Things fall a little flat elsewhere, however. \n",
            "gen_text 0 Did you see the new movie trailers? ,\n",
            "\n",
            "\n",
            "Generating audio in 1 batches...\n"
          ]
        },
        {
          "output_type": "stream",
          "name": "stderr",
          "text": [
            "\n",
            "\n",
            "\n",
            "  0%|          | 0/1 [00:00<?, ?it/s]\u001b[A\u001b[A\u001b[A\n",
            "\n",
            "100%|██████████| 1/1 [00:06<00:00,  6.83s/it]\n"
          ]
        },
        {
          "output_type": "stream",
          "name": "stdout",
          "text": [
            "Converting audio...\n",
            "Using custom reference text...\n",
            "\n",
            "ref_text   The award to Senator Mitchell was announced by the Foreign Office. \n",
            "gen_text 0 The Beach Boys' song 'Mona' is perfect for a chill evening at home.\n",
            "\n",
            "\n",
            "Generating audio in 1 batches...\n"
          ]
        },
        {
          "output_type": "stream",
          "name": "stderr",
          "text": [
            "\n",
            "\n",
            "100%|██████████| 1/1 [00:06<00:00,  6.66s/it]\n"
          ]
        },
        {
          "output_type": "stream",
          "name": "stdout",
          "text": [
            "Converting audio...\n",
            "Using cached preprocessed reference audio...\n",
            "Using custom reference text...\n",
            "\n",
            "ref_text   She has a little boy. \n",
            "gen_text 0 so unpredictable lately.,\n",
            "\n",
            "\n",
            "Generating audio in 1 batches...\n"
          ]
        },
        {
          "output_type": "stream",
          "name": "stderr",
          "text": [
            "  0%|          | 0/1 [00:00<?, ?it/s]\n",
            "100%|██████████| 1/1 [00:06<00:00,  6.22s/it]\n"
          ]
        },
        {
          "output_type": "stream",
          "name": "stdout",
          "text": [
            "Converting audio...\n",
            "Using custom reference text...\n",
            "\n",
            "ref_text   George is on a two-day visit to Scotland.). \n",
            "gen_text 0 Search on Twitch for Yu-Gi-Oh! 3D: Bonds Beyond Time, did you see the game last night?\n",
            "\n",
            "\n",
            "Generating audio in 1 batches...\n"
          ]
        },
        {
          "output_type": "stream",
          "name": "stderr",
          "text": [
            "\n",
            "  0%|          | 0/1 [00:00<?, ?it/s]\u001b[A\n",
            "\n",
            "\n",
            "100%|██████████| 1/1 [00:06<00:00,  6.53s/it]\n"
          ]
        },
        {
          "output_type": "stream",
          "name": "stdout",
          "text": [
            "Converting audio...\n",
            "Using cached preprocessed reference audio...\n",
            "Using custom reference text...\n",
            "\n",
            "ref_text   Things fall a little flat elsewhere, however. \n",
            "gen_text 0 Go to channel Syfy and set brightness to 75, ,\n",
            "\n",
            "\n",
            "Generating audio in 1 batches...\n"
          ]
        },
        {
          "output_type": "stream",
          "name": "stderr",
          "text": [
            "\n",
            "\n",
            "\n",
            "  0%|          | 0/1 [00:00<?, ?it/s]\u001b[A\u001b[A\u001b[A\n",
            "\n",
            "100%|██████████| 1/1 [00:07<00:00,  7.87s/it]\n"
          ]
        },
        {
          "output_type": "stream",
          "name": "stdout",
          "text": [
            "Converting audio...\n",
            "Using custom reference text...\n",
            "\n",
            "ref_text   That comes at a cost.). \n",
            "gen_text 0 set picture mode to Netflix\n",
            "\n",
            "\n",
            "Generating audio in 1 batches...\n"
          ]
        },
        {
          "output_type": "stream",
          "name": "stderr",
          "text": [
            "\n",
            "\n",
            "100%|██████████| 1/1 [00:08<00:00,  8.19s/it]\n"
          ]
        },
        {
          "output_type": "stream",
          "name": "stdout",
          "text": [
            "Converting audio...\n",
            "Using custom reference text...\n",
            "\n",
            "ref_text   I lost my head. \n",
            "gen_text 0 Skip to next episode, I really need to finish that project.\n",
            "\n",
            "\n",
            "Generating audio in 1 batches...\n"
          ]
        },
        {
          "output_type": "stream",
          "name": "stderr",
          "text": [
            "  0%|          | 0/1 [00:00<?, ?it/s]\n",
            "100%|██████████| 1/1 [00:07<00:00,  7.23s/it]\n"
          ]
        },
        {
          "output_type": "stream",
          "name": "stdout",
          "text": [
            "Converting audio...\n",
            "Using cached preprocessed reference audio...\n",
            "Using custom reference text...\n",
            "\n",
            "ref_text   George is on a two-day visit to Scotland.). \n",
            "gen_text 0 Search on Twitch for Yu-Gi-Oh! 3D: Bonds Beyond Time,,\n",
            "\n",
            "\n",
            "Generating audio in 1 batches...\n"
          ]
        },
        {
          "output_type": "stream",
          "name": "stderr",
          "text": [
            "\n",
            "  0%|          | 0/1 [00:00<?, ?it/s]\u001b[A\n",
            "\n",
            "\n",
            "100%|██████████| 1/1 [00:07<00:00,  7.06s/it]\n"
          ]
        },
        {
          "output_type": "stream",
          "name": "stdout",
          "text": [
            "Converting audio...\n",
            "Using cached preprocessed reference audio...\n",
            "Using custom reference text...\n",
            "\n",
            "ref_text   Things fall a little flat elsewhere, however. \n",
            "gen_text 0 then let's talk about our weekend plans.,\n",
            "\n",
            "\n",
            "Generating audio in 1 batches...\n"
          ]
        },
        {
          "output_type": "stream",
          "name": "stderr",
          "text": [
            "\n",
            "\n",
            "\n",
            "  0%|          | 0/1 [00:00<?, ?it/s]\u001b[A\u001b[A\u001b[A\n",
            "\n",
            "100%|██████████| 1/1 [00:07<00:00,  7.24s/it]\n"
          ]
        },
        {
          "output_type": "stream",
          "name": "stdout",
          "text": [
            "Converting audio...\n",
            "Using custom reference text...\n",
            "\n",
            "ref_text   It needs a team approach. \n",
            "gen_text 0 increase the volume on Bilibili\n",
            "\n",
            "\n",
            "Generating audio in 1 batches...\n"
          ]
        },
        {
          "output_type": "stream",
          "name": "stderr",
          "text": [
            "\n",
            "\n",
            "100%|██████████| 1/1 [00:07<00:00,  7.28s/it]\n"
          ]
        },
        {
          "output_type": "stream",
          "name": "stdout",
          "text": [
            "Converting audio...\n",
            "Using cached preprocessed reference audio...\n",
            "Using custom reference text...\n",
            "\n",
            "ref_text   I lost my head. \n",
            "gen_text 0 Skip to next episode,,\n",
            "\n",
            "\n",
            "Generating audio in 1 batches...\n"
          ]
        },
        {
          "output_type": "stream",
          "name": "stderr",
          "text": [
            "  0%|          | 0/1 [00:00<?, ?it/s]\n",
            "100%|██████████| 1/1 [00:07<00:00,  7.26s/it]\n"
          ]
        },
        {
          "output_type": "stream",
          "name": "stdout",
          "text": [
            "Converting audio...\n",
            "Using cached preprocessed reference audio...\n",
            "Using custom reference text...\n",
            "\n",
            "ref_text   George is on a two-day visit to Scotland.). \n",
            "gen_text 0 did you see the game last night?,\n",
            "\n",
            "\n",
            "Generating audio in 1 batches...\n"
          ]
        },
        {
          "output_type": "stream",
          "name": "stderr",
          "text": [
            "\n",
            "  0%|          | 0/1 [00:00<?, ?it/s]\u001b[A\n",
            "\n",
            "\n",
            "100%|██████████| 1/1 [00:07<00:00,  7.17s/it]\n"
          ]
        },
        {
          "output_type": "stream",
          "name": "stdout",
          "text": [
            "Converting audio...\n",
            "Using custom reference text...\n",
            "\n",
            "ref_text   However, that is just for starters. \n",
            "gen_text 0 I'm thinking about dinner later. Set sound mode to stereo and put the TV in sleep mode before we decide.\n",
            "\n",
            "\n",
            "Generating audio in 1 batches...\n"
          ]
        },
        {
          "output_type": "stream",
          "name": "stderr",
          "text": [
            "\n",
            "\n",
            "\n",
            "  0%|          | 0/1 [00:00<?, ?it/s]\u001b[A\u001b[A\u001b[A\n",
            "\n",
            "100%|██████████| 1/1 [00:06<00:00,  6.38s/it]\n"
          ]
        },
        {
          "output_type": "stream",
          "name": "stdout",
          "text": [
            "Converting audio...\n",
            "Using custom reference text...\n",
            "\n",
            "ref_text   It was quite distressing for the crew. \n",
            "gen_text 0 switch to AV mode for WWE Network\n",
            "\n",
            "\n",
            "Generating audio in 1 batches...\n"
          ]
        },
        {
          "output_type": "stream",
          "name": "stderr",
          "text": [
            "\n",
            "\n",
            "100%|██████████| 1/1 [00:06<00:00,  6.37s/it]\n"
          ]
        },
        {
          "output_type": "stream",
          "name": "stdout",
          "text": [
            "Converting audio...\n",
            "Using cached preprocessed reference audio...\n",
            "Using custom reference text...\n",
            "\n",
            "ref_text   I lost my head. \n",
            "gen_text 0 I really need,\n",
            "\n",
            "\n",
            "Generating audio in 1 batches...\n"
          ]
        },
        {
          "output_type": "stream",
          "name": "stderr",
          "text": [
            "  0%|          | 0/1 [00:00<?, ?it/s]\n",
            "100%|██████████| 1/1 [00:06<00:00,  6.58s/it]\n"
          ]
        },
        {
          "output_type": "stream",
          "name": "stdout",
          "text": [
            "Converting audio...\n",
            "Using custom reference text...\n",
            "\n",
            "ref_text   We will pay their bills. \n",
            "gen_text 0 Mute the TV, I'm thinking of ordering pizza.\n",
            "\n",
            "\n",
            "Generating audio in 1 batches...\n"
          ]
        },
        {
          "output_type": "stream",
          "name": "stderr",
          "text": [
            "\n",
            "  0%|          | 0/1 [00:00<?, ?it/s]\u001b[A\n",
            "\n",
            "\n",
            "100%|██████████| 1/1 [00:06<00:00,  6.43s/it]\n"
          ]
        },
        {
          "output_type": "stream",
          "name": "stdout",
          "text": [
            "Converting audio...\n",
            "Using cached preprocessed reference audio...\n",
            "Using custom reference text...\n",
            "\n",
            "ref_text   However, that is just for starters. \n",
            "gen_text 0 I'm thinking about dinner later. ,\n",
            "\n",
            "\n",
            "Generating audio in 1 batches...\n"
          ]
        },
        {
          "output_type": "stream",
          "name": "stderr",
          "text": [
            "\n",
            "\n",
            "\n",
            "  0%|          | 0/1 [00:00<?, ?it/s]\u001b[A\u001b[A\u001b[A\n",
            "\n",
            "100%|██████████| 1/1 [00:06<00:00,  6.38s/it]\n"
          ]
        },
        {
          "output_type": "stream",
          "name": "stdout",
          "text": [
            "Converting audio...\n",
            "Using custom reference text...\n",
            "\n",
            "ref_text   He's on the wrong side. \n",
            "gen_text 0 set contrast to Blood Diamond\n",
            "\n",
            "\n",
            "Generating audio in 1 batches...\n"
          ]
        },
        {
          "output_type": "stream",
          "name": "stderr",
          "text": [
            "\n",
            "\n",
            "100%|██████████| 1/1 [00:06<00:00,  6.38s/it]\n"
          ]
        },
        {
          "output_type": "stream",
          "name": "stdout",
          "text": [
            "Converting audio...\n",
            "Using cached preprocessed reference audio...\n",
            "Using custom reference text...\n",
            "\n",
            "ref_text   I lost my head. \n",
            "gen_text 0 to finish that project.,\n",
            "\n",
            "\n",
            "Generating audio in 1 batches...\n"
          ]
        },
        {
          "output_type": "stream",
          "name": "stderr",
          "text": [
            "  0%|          | 0/1 [00:00<?, ?it/s]\n",
            "100%|██████████| 1/1 [00:06<00:00,  6.29s/it]\n"
          ]
        },
        {
          "output_type": "stream",
          "name": "stdout",
          "text": [
            "Converting audio...\n",
            "Using cached preprocessed reference audio...\n",
            "Using custom reference text...\n",
            "\n",
            "ref_text   We will pay their bills. \n",
            "gen_text 0 Mute the TV,,\n",
            "\n",
            "\n",
            "Generating audio in 1 batches...\n"
          ]
        },
        {
          "output_type": "stream",
          "name": "stderr",
          "text": [
            "\n",
            "  0%|          | 0/1 [00:00<?, ?it/s]\u001b[A\n",
            "\n",
            "\n",
            "100%|██████████| 1/1 [00:06<00:00,  6.43s/it]\n"
          ]
        },
        {
          "output_type": "stream",
          "name": "stdout",
          "text": [
            "Converting audio...\n",
            "Using cached preprocessed reference audio...\n",
            "Using custom reference text...\n",
            "\n",
            "ref_text   However, that is just for starters. \n",
            "gen_text 0 Set sound mode to stereo and put the TV in sleep mode ,\n",
            "\n",
            "\n",
            "Generating audio in 1 batches...\n"
          ]
        },
        {
          "output_type": "stream",
          "name": "stderr",
          "text": [
            "\n",
            "\n",
            "\n",
            "  0%|          | 0/1 [00:00<?, ?it/s]\u001b[A\u001b[A\u001b[A\n",
            "\n",
            "100%|██████████| 1/1 [00:06<00:00,  6.46s/it]\n"
          ]
        },
        {
          "output_type": "stream",
          "name": "stdout",
          "text": [
            "Converting audio...\n",
            "Using custom reference text...\n",
            "\n",
            "ref_text   The letters are going out today. \n",
            "gen_text 0 I can't believe the game got canceled. Enable game mode for app: ESPN.\n",
            "\n",
            "\n",
            "Generating audio in 1 batches...\n"
          ]
        },
        {
          "output_type": "stream",
          "name": "stderr",
          "text": [
            "\n",
            "\n",
            "100%|██████████| 1/1 [00:06<00:00,  6.40s/it]\n"
          ]
        },
        {
          "output_type": "stream",
          "name": "stdout",
          "text": [
            "Converting audio...\n",
            "Using custom reference text...\n",
            "\n",
            "ref_text   Police could not say if the two incidents were connected. \n",
            "gen_text 0 what's playing now on app: Netflix, unmute the TV.\n",
            "\n",
            "\n",
            "Generating audio in 1 batches...\n"
          ]
        },
        {
          "output_type": "stream",
          "name": "stderr",
          "text": [
            "  0%|          | 0/1 [00:00<?, ?it/s]\n",
            "100%|██████████| 1/1 [00:06<00:00,  6.46s/it]\n"
          ]
        },
        {
          "output_type": "stream",
          "name": "stdout",
          "text": [
            "Converting audio...\n",
            "Using cached preprocessed reference audio...\n",
            "Using custom reference text...\n",
            "\n",
            "ref_text   We will pay their bills. \n",
            "gen_text 0 I'm thinking of ordering pizza.,\n",
            "\n",
            "\n",
            "Generating audio in 1 batches...\n"
          ]
        },
        {
          "output_type": "stream",
          "name": "stderr",
          "text": [
            "\n",
            "  0%|          | 0/1 [00:00<?, ?it/s]\u001b[A\n",
            "\n",
            "\n",
            "100%|██████████| 1/1 [00:06<00:00,  6.46s/it]\n"
          ]
        },
        {
          "output_type": "stream",
          "name": "stdout",
          "text": [
            "Converting audio...\n",
            "Using cached preprocessed reference audio...\n",
            "Using custom reference text...\n",
            "\n",
            "ref_text   However, that is just for starters. \n",
            "gen_text 0 before we decide.,\n",
            "\n",
            "\n",
            "Generating audio in 1 batches...\n"
          ]
        },
        {
          "output_type": "stream",
          "name": "stderr",
          "text": [
            "\n",
            "\n",
            "\n",
            "  0%|          | 0/1 [00:00<?, ?it/s]\u001b[A\u001b[A\u001b[A\n",
            "\n",
            "100%|██████████| 1/1 [00:06<00:00,  6.48s/it]\n"
          ]
        },
        {
          "output_type": "stream",
          "name": "stdout",
          "text": [
            "Converting audio...\n",
            "Using cached preprocessed reference audio...\n",
            "Using custom reference text...\n",
            "\n",
            "ref_text   The letters are going out today. \n",
            "gen_text 0 I can't believe the game got canceled.,\n",
            "\n",
            "\n",
            "Generating audio in 1 batches...\n"
          ]
        },
        {
          "output_type": "stream",
          "name": "stderr",
          "text": [
            "\n",
            "\n",
            "100%|██████████| 1/1 [00:06<00:00,  6.25s/it]\n"
          ]
        },
        {
          "output_type": "stream",
          "name": "stdout",
          "text": [
            "Converting audio...\n",
            "Using custom reference text...\n",
            "\n",
            "ref_text   Over time, with patience and precision, the terrorists will be pursued. \n",
            "gen_text 0 scroll up to movie: The Day, go to HDMI 1.\n",
            "\n",
            "\n",
            "Generating audio in 1 batches...\n"
          ]
        },
        {
          "output_type": "stream",
          "name": "stderr",
          "text": [
            "  0%|          | 0/1 [00:00<?, ?it/s]\n",
            "100%|██████████| 1/1 [00:06<00:00,  6.59s/it]\n"
          ]
        },
        {
          "output_type": "stream",
          "name": "stdout",
          "text": [
            "Converting audio...\n",
            "Using custom reference text...\n",
            "\n",
            "ref_text   I'm so pleased the show has won a prize. \n",
            "gen_text 0 Change audio language to English for The Guide to the Perfect Family, can you believe how fast this week went by?\n",
            "\n",
            "\n",
            "Generating audio in 1 batches...\n"
          ]
        },
        {
          "output_type": "stream",
          "name": "stderr",
          "text": [
            "\n",
            "  0%|          | 0/1 [00:00<?, ?it/s]\u001b[A\n",
            "\n",
            "\n",
            "100%|██████████| 1/1 [00:06<00:00,  6.74s/it]\n"
          ]
        },
        {
          "output_type": "stream",
          "name": "stdout",
          "text": [
            "Converting audio...\n",
            "Using custom reference text...\n",
            "\n",
            "ref_text   It was a surprising decision. \n",
            "gen_text 0 What time is our meeting? Disable game mode and go to channel Facebook Watch after we confirm.\n",
            "\n",
            "\n",
            "Generating audio in 1 batches...\n"
          ]
        },
        {
          "output_type": "stream",
          "name": "stderr",
          "text": [
            "\n",
            "\n",
            "\n",
            "  0%|          | 0/1 [00:00<?, ?it/s]\u001b[A\u001b[A\u001b[A\n",
            "\n",
            "100%|██████████| 1/1 [00:07<00:00,  7.74s/it]\n"
          ]
        },
        {
          "output_type": "stream",
          "name": "stdout",
          "text": [
            "Converting audio...\n",
            "Using cached preprocessed reference audio...\n",
            "Using custom reference text...\n",
            "\n",
            "ref_text   The letters are going out today. \n",
            "gen_text 0 Enable game mode for app: ESPN.,\n",
            "\n",
            "\n",
            "Generating audio in 1 batches...\n"
          ]
        },
        {
          "output_type": "stream",
          "name": "stderr",
          "text": [
            "\n",
            "\n",
            "100%|██████████| 1/1 [00:07<00:00,  7.74s/it]\n"
          ]
        },
        {
          "output_type": "stream",
          "name": "stdout",
          "text": [
            "Converting audio...\n",
            "Using custom reference text...\n",
            "\n",
            "ref_text   Waiting times for these services are too long. \n",
            "gen_text 0 set sound mode to stereo, go to HDMI 2.\n",
            "\n",
            "\n",
            "Generating audio in 1 batches...\n"
          ]
        },
        {
          "output_type": "stream",
          "name": "stderr",
          "text": [
            "  0%|          | 0/1 [00:00<?, ?it/s]\n",
            "100%|██████████| 1/1 [00:08<00:00,  8.08s/it]\n"
          ]
        },
        {
          "output_type": "stream",
          "name": "stdout",
          "text": [
            "Converting audio...\n",
            "Using cached preprocessed reference audio...\n",
            "Using custom reference text...\n",
            "\n",
            "ref_text   I'm so pleased the show has won a prize. \n",
            "gen_text 0 Change audio language to English for The Guide to the Perfect Family,,\n",
            "\n",
            "\n",
            "Generating audio in 1 batches...\n"
          ]
        },
        {
          "output_type": "stream",
          "name": "stderr",
          "text": [
            "\n",
            "  0%|          | 0/1 [00:00<?, ?it/s]\u001b[A\n",
            "\n",
            "\n",
            "100%|██████████| 1/1 [00:07<00:00,  7.98s/it]\n"
          ]
        },
        {
          "output_type": "stream",
          "name": "stdout",
          "text": [
            "Converting audio...\n",
            "Using cached preprocessed reference audio...\n",
            "Using custom reference text...\n",
            "\n",
            "ref_text   It was a surprising decision. \n",
            "gen_text 0 What time is our meeting? ,\n",
            "\n",
            "\n",
            "Generating audio in 1 batches...\n"
          ]
        },
        {
          "output_type": "stream",
          "name": "stderr",
          "text": [
            "\n",
            "\n",
            "\n",
            "  0%|          | 0/1 [00:00<?, ?it/s]\u001b[A\u001b[A\u001b[A\n",
            "\n",
            "100%|██████████| 1/1 [00:07<00:00,  7.33s/it]\n"
          ]
        },
        {
          "output_type": "stream",
          "name": "stdout",
          "text": [
            "Converting audio...\n",
            "Using custom reference text...\n",
            "\n",
            "ref_text   They might also be reviewed by their colleagues. \n",
            "gen_text 0 Have you seen that new restaurant downtown? Record this show: movie: The Grudge 3.\n",
            "\n",
            "\n",
            "Generating audio in 1 batches...\n"
          ]
        },
        {
          "output_type": "stream",
          "name": "stderr",
          "text": [
            "\n",
            "\n",
            "100%|██████████| 1/1 [00:07<00:00,  7.92s/it]\n"
          ]
        },
        {
          "output_type": "stream",
          "name": "stdout",
          "text": [
            "Converting audio...\n",
            "Using custom reference text...\n",
            "\n",
            "ref_text   Last year, it was ligaments in his knee. \n",
            "gen_text 0 what's playing now on TV channel: AMC+, set sound mode to surround.\n",
            "\n",
            "\n",
            "Generating audio in 1 batches...\n"
          ]
        },
        {
          "output_type": "stream",
          "name": "stderr",
          "text": [
            "  0%|          | 0/1 [00:00<?, ?it/s]\n",
            "100%|██████████| 1/1 [00:08<00:00,  8.29s/it]\n"
          ]
        },
        {
          "output_type": "stream",
          "name": "stdout",
          "text": [
            "Converting audio...\n",
            "Using cached preprocessed reference audio...\n",
            "Using custom reference text...\n",
            "\n",
            "ref_text   I'm so pleased the show has won a prize. \n",
            "gen_text 0 can you believe how fast this week went by?,\n",
            "\n",
            "\n",
            "Generating audio in 1 batches...\n"
          ]
        },
        {
          "output_type": "stream",
          "name": "stderr",
          "text": [
            "\n",
            "  0%|          | 0/1 [00:00<?, ?it/s]\u001b[A\n",
            "\n",
            "\n",
            "100%|██████████| 1/1 [00:08<00:00,  8.05s/it]\n"
          ]
        },
        {
          "output_type": "stream",
          "name": "stdout",
          "text": [
            "Converting audio...\n",
            "Using cached preprocessed reference audio...\n",
            "Using custom reference text...\n",
            "\n",
            "ref_text   It was a surprising decision. \n",
            "gen_text 0 Disable game mode and go to channel Facebook Watch ,\n",
            "\n",
            "\n",
            "Generating audio in 1 batches...\n"
          ]
        },
        {
          "output_type": "stream",
          "name": "stderr",
          "text": [
            "\n",
            "\n",
            "\n",
            "  0%|          | 0/1 [00:00<?, ?it/s]\u001b[A\u001b[A\u001b[A\n",
            "\n",
            "100%|██████████| 1/1 [00:07<00:00,  7.10s/it]\n"
          ]
        },
        {
          "output_type": "stream",
          "name": "stdout",
          "text": [
            "Converting audio...\n",
            "Using cached preprocessed reference audio...\n",
            "Using custom reference text...\n",
            "\n",
            "ref_text   They might also be reviewed by their colleagues. \n",
            "gen_text 0 Have you seen that new restaurant downtown?,\n",
            "\n",
            "\n",
            "Generating audio in 1 batches...\n"
          ]
        },
        {
          "output_type": "stream",
          "name": "stderr",
          "text": [
            "\n",
            "\n",
            "100%|██████████| 1/1 [00:06<00:00,  6.67s/it]\n"
          ]
        },
        {
          "output_type": "stream",
          "name": "stdout",
          "text": [
            "Converting audio...\n",
            "Using custom reference text...\n",
            "\n",
            "ref_text   I can understand why they have gone. \n",
            "gen_text 0 Remind me when Tarzan starts, can you grab the remote? Mute the TV and skip intro for that Apple TV+ show.\n",
            "\n",
            "\n",
            "Generating audio in 1 batches...\n"
          ]
        },
        {
          "output_type": "stream",
          "name": "stderr",
          "text": [
            "  0%|          | 0/1 [00:00<?, ?it/s]\n",
            "100%|██████████| 1/1 [00:07<00:00,  7.12s/it]\n"
          ]
        },
        {
          "output_type": "stream",
          "name": "stdout",
          "text": [
            "Converting audio...\n",
            "Using custom reference text...\n",
            "\n",
            "ref_text   Hopefully, we can learn from our mistakes. \n",
            "gen_text 0 Go to channel HBO Max / Max, have you finished that book I lent you?\n",
            "\n",
            "\n",
            "Generating audio in 1 batches...\n"
          ]
        },
        {
          "output_type": "stream",
          "name": "stderr",
          "text": [
            "\n",
            "  0%|          | 0/1 [00:00<?, ?it/s]\u001b[A\n",
            "\n",
            "\n",
            "100%|██████████| 1/1 [00:06<00:00,  7.00s/it]\n"
          ]
        },
        {
          "output_type": "stream",
          "name": "stdout",
          "text": [
            "Converting audio...\n",
            "Using cached preprocessed reference audio...\n",
            "Using custom reference text...\n",
            "\n",
            "ref_text   It was a surprising decision. \n",
            "gen_text 0 after we confirm.,\n",
            "\n",
            "\n",
            "Generating audio in 1 batches...\n"
          ]
        },
        {
          "output_type": "stream",
          "name": "stderr",
          "text": [
            "\n",
            "\n",
            "\n",
            "  0%|          | 0/1 [00:00<?, ?it/s]\u001b[A\u001b[A\u001b[A\n",
            "\n",
            "100%|██████████| 1/1 [00:07<00:00,  7.28s/it]\n"
          ]
        },
        {
          "output_type": "stream",
          "name": "stdout",
          "text": [
            "Converting audio...\n",
            "Using cached preprocessed reference audio...\n",
            "Using custom reference text...\n",
            "\n",
            "ref_text   They might also be reviewed by their colleagues. \n",
            "gen_text 0 Record this show: movie: The Grudge 3.,\n",
            "\n",
            "\n",
            "Generating audio in 1 batches...\n"
          ]
        },
        {
          "output_type": "stream",
          "name": "stderr",
          "text": [
            "\n",
            "\n",
            "100%|██████████| 1/1 [00:06<00:00,  6.77s/it]\n"
          ]
        },
        {
          "output_type": "stream",
          "name": "stdout",
          "text": [
            "Converting audio...\n",
            "Using cached preprocessed reference audio...\n",
            "Using custom reference text...\n",
            "\n",
            "ref_text   I can understand why they have gone. \n",
            "gen_text 0 Remind me when Tarzan starts,\n",
            "\n",
            "\n",
            "Generating audio in 1 batches...\n"
          ]
        },
        {
          "output_type": "stream",
          "name": "stderr",
          "text": [
            "  0%|          | 0/1 [00:00<?, ?it/s]\n",
            "100%|██████████| 1/1 [00:06<00:00,  6.31s/it]\n"
          ]
        },
        {
          "output_type": "stream",
          "name": "stdout",
          "text": [
            "Converting audio...\n",
            "Using cached preprocessed reference audio...\n",
            "Using custom reference text...\n",
            "\n",
            "ref_text   Hopefully, we can learn from our mistakes. \n",
            "gen_text 0 Go to channel HBO Max / Max,,\n",
            "\n",
            "\n",
            "Generating audio in 1 batches...\n"
          ]
        },
        {
          "output_type": "stream",
          "name": "stderr",
          "text": [
            "\n",
            "  0%|          | 0/1 [00:00<?, ?it/s]\u001b[A\n",
            "\n",
            "\n",
            "100%|██████████| 1/1 [00:06<00:00,  6.43s/it]\n"
          ]
        },
        {
          "output_type": "stream",
          "name": "stdout",
          "text": [
            "Converting audio...\n",
            "Using custom reference text...\n",
            "\n",
            "ref_text   They are a different team at home. \n",
            "gen_text 0 I can't believe it snowed today. Set brightness to 50 and go to channel MTV, MTV2 while we watch the news.\n",
            "\n",
            "\n",
            "Generating audio in 1 batches...\n"
          ]
        },
        {
          "output_type": "stream",
          "name": "stderr",
          "text": [
            "\n",
            "\n",
            "\n",
            "  0%|          | 0/1 [00:00<?, ?it/s]\u001b[A\u001b[A\u001b[A\n",
            "\n",
            "100%|██████████| 1/1 [00:06<00:00,  6.46s/it]\n"
          ]
        },
        {
          "output_type": "stream",
          "name": "stdout",
          "text": [
            "Converting audio...\n",
            "Using cached preprocessed reference audio...\n",
            "Using custom reference text...\n",
            "\n",
            "ref_text   Hopefully, we can learn from our mistakes. \n",
            "gen_text 0 Did you hear that funny joke? Turn on subtitles for app: Amazon Prime Video.\n",
            "\n",
            "\n",
            "Generating audio in 1 batches...\n"
          ]
        },
        {
          "output_type": "stream",
          "name": "stderr",
          "text": [
            "\n",
            "\n",
            "100%|██████████| 1/1 [00:06<00:00,  6.23s/it]\n"
          ]
        },
        {
          "output_type": "stream",
          "name": "stdout",
          "text": [
            "Converting audio...\n",
            "Using cached preprocessed reference audio...\n",
            "Using custom reference text...\n",
            "\n",
            "ref_text   I can understand why they have gone. \n",
            "gen_text 0 can you grab the remote?,\n",
            "\n",
            "\n",
            "Generating audio in 1 batches...\n"
          ]
        },
        {
          "output_type": "stream",
          "name": "stderr",
          "text": [
            "\r  0%|          | 0/1 [00:00<?, ?it/s]"
          ]
        }
      ],
      "source": [
        "if __name__ == '__main__':\n",
        "  main(export_folder = export_folder)"
      ]
    },
    {
      "cell_type": "code",
      "execution_count": 1,
      "metadata": {
        "id": "rRwMH8O5CXc-",
        "colab": {
          "base_uri": "https://localhost:8080/"
        },
        "outputId": "6d25160d-1f8b-4983-d9af-0d4419b13398"
      },
      "outputs": [
        {
          "output_type": "stream",
          "name": "stdout",
          "text": [
            "  adding: content/synthesis_command/ (stored 0%)\n",
            "  adding: content/synthesis_command/synthesis_command_commands_104/ (stored 0%)\n",
            "  adding: content/synthesis_command/synthesis_command_commands_104/non_active_a10b7e7d/ (stored 0%)\n",
            "  adding: content/synthesis_command/synthesis_command_commands_104/non_active_a10b7e7d/non_active_a10b7e7d.json (deflated 36%)\n",
            "  adding: content/synthesis_command/synthesis_command_commands_104/non_active_a10b7e7d/non_active_a10b7e7d_full.wav (deflated 33%)\n",
            "  adding: content/synthesis_command/synthesis_command_commands_104/non_active_f64c614f/ (stored 0%)\n",
            "  adding: content/synthesis_command/synthesis_command_commands_104/non_active_f64c614f/non_active_f64c614f.json (deflated 37%)\n",
            "  adding: content/synthesis_command/synthesis_command_commands_104/non_active_f64c614f/non_active_f64c614f_full.wav (deflated 27%)\n",
            "  adding: content/synthesis_command/synthesis_command_commands_104/chain_active_9beab791/ (stored 0%)\n",
            "  adding: content/synthesis_command/synthesis_command_commands_104/chain_active_9beab791/chain_active_9beab791.json (deflated 38%)\n",
            "  adding: content/synthesis_command/synthesis_command_commands_104/chain_active_9beab791/chain_active_9beab791_full.wav (deflated 24%)\n",
            "  adding: content/synthesis_command/synthesis_command_commands_104/chain_mix_d27ab44a/ (stored 0%)\n",
            "  adding: content/synthesis_command/synthesis_command_commands_104/chain_mix_d27ab44a/chain_mix_d27ab44a.json (deflated 52%)\n",
            "  adding: content/synthesis_command/synthesis_command_commands_104/chain_mix_d27ab44a/chain_mix_d27ab44a_full.wav (deflated 37%)\n",
            "  adding: content/synthesis_command/synthesis_command_commands_104/chain_mix_d27ab44a/chain_mix_d27ab44a_seg_1.wav (deflated 35%)\n",
            "  adding: content/synthesis_command/synthesis_command_commands_104/chain_mix_d27ab44a/chain_mix_d27ab44a_seg_0.wav (deflated 49%)\n",
            "  adding: content/synthesis_command/synthesis_command_commands_104/chain_mix_d27ab44a/chain_mix_d27ab44a_seg_2.wav (deflated 36%)\n",
            "  adding: content/synthesis_command/synthesis_command_commands_104/single_mix_06ed2ab3/ (stored 0%)\n",
            "  adding: content/synthesis_command/synthesis_command_commands_104/single_mix_06ed2ab3/single_mix_06ed2ab3_seg_0.wav (deflated 30%)\n",
            "  adding: content/synthesis_command/synthesis_command_commands_104/single_mix_06ed2ab3/single_mix_06ed2ab3_seg_1.wav (deflated 23%)\n",
            "  adding: content/synthesis_command/synthesis_command_commands_104/single_mix_06ed2ab3/single_mix_06ed2ab3_full.wav (deflated 22%)\n",
            "  adding: content/synthesis_command/synthesis_command_commands_104/single_mix_06ed2ab3/single_mix_06ed2ab3.json (deflated 49%)\n",
            "  adding: content/synthesis_command/synthesis_command_commands_104/single_active_b3b2edea/ (stored 0%)\n",
            "  adding: content/synthesis_command/synthesis_command_commands_104/single_active_b3b2edea/single_active_b3b2edea_full.wav (deflated 28%)\n",
            "  adding: content/synthesis_command/synthesis_command_commands_104/single_active_b3b2edea/single_active_b3b2edea.json (deflated 40%)\n",
            "  adding: content/synthesis_command/synthesis_command_commands_104/chain_mix_132d2c82/ (stored 0%)\n",
            "  adding: content/synthesis_command/synthesis_command_commands_104/chain_mix_132d2c82/chain_mix_132d2c82_seg_1.wav (deflated 24%)\n",
            "  adding: content/synthesis_command/synthesis_command_commands_104/chain_mix_132d2c82/chain_mix_132d2c82_seg_0.wav (deflated 40%)\n",
            "  adding: content/synthesis_command/synthesis_command_commands_104/chain_mix_132d2c82/chain_mix_132d2c82.json (deflated 53%)\n",
            "  adding: content/synthesis_command/synthesis_command_commands_104/chain_mix_132d2c82/chain_mix_132d2c82_full.wav (deflated 22%)\n",
            "  adding: content/synthesis_command/synthesis_command_commands_104/chain_mix_132d2c82/chain_mix_132d2c82_seg_2.wav (deflated 32%)\n",
            "  adding: content/synthesis_command/synthesis_command_commands_104/single_active_3ae8c8c5/ (stored 0%)\n",
            "  adding: content/synthesis_command/synthesis_command_commands_104/single_active_3ae8c8c5/single_active_3ae8c8c5_full.wav (deflated 20%)\n",
            "  adding: content/synthesis_command/synthesis_command_commands_104/single_active_3ae8c8c5/single_active_3ae8c8c5.json (deflated 39%)\n",
            "  adding: content/synthesis_command/synthesis_command_commands_104/chain_active_0d8449f5/ (stored 0%)\n",
            "  adding: content/synthesis_command/synthesis_command_commands_104/chain_active_0d8449f5/chain_active_0d8449f5.json (deflated 36%)\n",
            "  adding: content/synthesis_command/synthesis_command_commands_104/chain_active_0d8449f5/chain_active_0d8449f5_full.wav (deflated 19%)\n",
            "  adding: content/synthesis_command/synthesis_command_commands_104/single_active_bf2850e1/ (stored 0%)\n",
            "  adding: content/synthesis_command/synthesis_command_commands_104/single_active_bf2850e1/single_active_bf2850e1.json (deflated 37%)\n",
            "  adding: content/synthesis_command/synthesis_command_commands_104/single_active_bf2850e1/single_active_bf2850e1_full.wav (deflated 18%)\n",
            "  adding: content/synthesis_command/synthesis_command_commands_104/non_active_08218fb2/ (stored 0%)\n",
            "  adding: content/synthesis_command/synthesis_command_commands_104/non_active_08218fb2/non_active_08218fb2_full.wav (deflated 16%)\n",
            "  adding: content/synthesis_command/synthesis_command_commands_104/non_active_08218fb2/non_active_08218fb2.json (deflated 37%)\n",
            "  adding: content/synthesis_command/synthesis_command_commands_104/single_mix_1eb51d55/ (stored 0%)\n",
            "  adding: content/synthesis_command/synthesis_command_commands_104/single_mix_1eb51d55/single_mix_1eb51d55_seg_0.wav (deflated 51%)\n",
            "  adding: content/synthesis_command/synthesis_command_commands_104/single_mix_1eb51d55/single_mix_1eb51d55_seg_2.wav (deflated 48%)\n",
            "  adding: content/synthesis_command/synthesis_command_commands_104/single_mix_1eb51d55/single_mix_1eb51d55_seg_1.wav (deflated 61%)\n",
            "  adding: content/synthesis_command/synthesis_command_commands_104/single_mix_1eb51d55/single_mix_1eb51d55_full.wav (deflated 45%)\n",
            "  adding: content/synthesis_command/synthesis_command_commands_104/single_mix_1eb51d55/single_mix_1eb51d55.json (deflated 51%)\n",
            "  adding: content/synthesis_command/synthesis_command_commands_104/chain_active_ce46cc1a/ (stored 0%)\n",
            "  adding: content/synthesis_command/synthesis_command_commands_104/chain_active_ce46cc1a/chain_active_ce46cc1a_full.wav (deflated 22%)\n",
            "  adding: content/synthesis_command/synthesis_command_commands_104/chain_active_ce46cc1a/chain_active_ce46cc1a.json (deflated 37%)\n",
            "  adding: content/synthesis_command/synthesis_command_commands_104/chain_active_25be8d26/ (stored 0%)\n",
            "  adding: content/synthesis_command/synthesis_command_commands_104/chain_active_25be8d26/chain_active_25be8d26.json (deflated 37%)\n",
            "  adding: content/synthesis_command/synthesis_command_commands_104/chain_active_25be8d26/chain_active_25be8d26_full.wav (deflated 30%)\n",
            "  adding: content/synthesis_command/synthesis_command_commands_104/single_active_ab8485b4/ (stored 0%)\n",
            "  adding: content/synthesis_command/synthesis_command_commands_104/single_active_ab8485b4/single_active_ab8485b4_full.wav (deflated 22%)\n",
            "  adding: content/synthesis_command/synthesis_command_commands_104/single_active_ab8485b4/single_active_ab8485b4.json (deflated 38%)\n",
            "  adding: content/synthesis_command/synthesis_command_commands_104/single_mix_3f3683fd/ (stored 0%)\n",
            "  adding: content/synthesis_command/synthesis_command_commands_104/single_mix_3f3683fd/single_mix_3f3683fd_seg_1.wav (deflated 30%)\n",
            "  adding: content/synthesis_command/synthesis_command_commands_104/single_mix_3f3683fd/single_mix_3f3683fd_seg_0.wav (deflated 16%)\n",
            "  adding: content/synthesis_command/synthesis_command_commands_104/single_mix_3f3683fd/single_mix_3f3683fd.json (deflated 48%)\n",
            "  adding: content/synthesis_command/synthesis_command_commands_104/single_mix_3f3683fd/single_mix_3f3683fd_full.wav (deflated 16%)\n",
            "  adding: content/synthesis_command/synthesis_command_commands_104/single_mix_7c90ced8/ (stored 0%)\n",
            "  adding: content/synthesis_command/synthesis_command_commands_104/single_mix_7c90ced8/single_mix_7c90ced8_seg_1.wav (deflated 26%)\n",
            "  adding: content/synthesis_command/synthesis_command_commands_104/single_mix_7c90ced8/single_mix_7c90ced8.json (deflated 49%)\n",
            "  adding: content/synthesis_command/synthesis_command_commands_104/single_mix_7c90ced8/single_mix_7c90ced8_full.wav (deflated 30%)\n",
            "  adding: content/synthesis_command/synthesis_command_commands_104/single_mix_7c90ced8/single_mix_7c90ced8_seg_0.wav (deflated 37%)\n",
            "  adding: content/synthesis_command/synthesis_command_commands_104/single_active_131257f5/ (stored 0%)\n",
            "  adding: content/synthesis_command/synthesis_command_commands_104/single_active_131257f5/single_active_131257f5_full.wav (deflated 44%)\n",
            "  adding: content/synthesis_command/synthesis_command_commands_104/single_active_131257f5/single_active_131257f5.json (deflated 38%)\n",
            "  adding: content/synthesis_command/synthesis_command_commands_104/single_mix_55ab298d/ (stored 0%)\n",
            "  adding: content/synthesis_command/synthesis_command_commands_104/single_mix_55ab298d/single_mix_55ab298d_full.wav (deflated 20%)\n",
            "  adding: content/synthesis_command/synthesis_command_commands_104/single_mix_55ab298d/single_mix_55ab298d_seg_0.wav (deflated 19%)\n",
            "  adding: content/synthesis_command/synthesis_command_commands_104/single_mix_55ab298d/single_mix_55ab298d.json (deflated 51%)\n",
            "  adding: content/synthesis_command/synthesis_command_commands_104/single_mix_55ab298d/single_mix_55ab298d_seg_1.wav (deflated 22%)\n",
            "  adding: content/synthesis_command/synthesis_command_commands_104/chain_mix_78fcab78/ (stored 0%)\n",
            "  adding: content/synthesis_command/synthesis_command_commands_104/chain_mix_78fcab78/chain_mix_78fcab78_seg_1.wav (deflated 20%)\n",
            "  adding: content/synthesis_command/synthesis_command_commands_104/chain_mix_78fcab78/chain_mix_78fcab78_full.wav (deflated 15%)\n",
            "  adding: content/synthesis_command/synthesis_command_commands_104/chain_mix_78fcab78/chain_mix_78fcab78_seg_2.wav (deflated 24%)\n",
            "  adding: content/synthesis_command/synthesis_command_commands_104/chain_mix_78fcab78/chain_mix_78fcab78_seg_0.wav (deflated 19%)\n",
            "  adding: content/synthesis_command/synthesis_command_commands_104/chain_mix_78fcab78/chain_mix_78fcab78.json (deflated 53%)\n",
            "  adding: content/synthesis_command/synthesis_command_commands_104/chain_active_abd52a6a/ (stored 0%)\n",
            "  adding: content/synthesis_command/synthesis_command_commands_104/chain_active_abd52a6a/chain_active_abd52a6a_full.wav (deflated 19%)\n",
            "  adding: content/synthesis_command/synthesis_command_commands_104/chain_active_abd52a6a/chain_active_abd52a6a.json (deflated 37%)\n",
            "  adding: content/synthesis_command/synthesis_command_commands_104/single_mix_4c34720c/ (stored 0%)\n",
            "  adding: content/synthesis_command/synthesis_command_commands_104/single_mix_4c34720c/single_mix_4c34720c_seg_1.wav (deflated 23%)\n",
            "  adding: content/synthesis_command/synthesis_command_commands_104/single_mix_4c34720c/single_mix_4c34720c_seg_0.wav (deflated 42%)\n",
            "  adding: content/synthesis_command/synthesis_command_commands_104/single_mix_4c34720c/single_mix_4c34720c_full.wav (deflated 20%)\n",
            "  adding: content/synthesis_command/synthesis_command_commands_104/single_mix_4c34720c/single_mix_4c34720c.json (deflated 47%)\n",
            "  adding: content/synthesis_command/synthesis_command_commands_104/single_active_cd50c16d/ (stored 0%)\n",
            "  adding: content/synthesis_command/synthesis_command_commands_104/single_active_cd50c16d/single_active_cd50c16d_full.wav (deflated 46%)\n",
            "  adding: content/synthesis_command/synthesis_command_commands_104/single_active_cd50c16d/single_active_cd50c16d.json (deflated 38%)\n",
            "  adding: content/synthesis_command/synthesis_command_commands_104/non_active_c62ed9f2/ (stored 0%)\n",
            "  adding: content/synthesis_command/synthesis_command_commands_104/non_active_c62ed9f2/non_active_c62ed9f2.json (deflated 38%)\n",
            "  adding: content/synthesis_command/synthesis_command_commands_104/non_active_c62ed9f2/non_active_c62ed9f2_full.wav (deflated 21%)\n",
            "  adding: content/synthesis_command/synthesis_command_commands_104/single_mix_a160c122/ (stored 0%)\n",
            "  adding: content/synthesis_command/synthesis_command_commands_104/single_mix_a160c122/single_mix_a160c122_full.wav (deflated 21%)\n",
            "  adding: content/synthesis_command/synthesis_command_commands_104/single_active_0e02a86a/ (stored 0%)\n",
            "  adding: content/synthesis_command/synthesis_command_commands_104/single_active_0e02a86a/single_active_0e02a86a.json (deflated 38%)\n",
            "  adding: content/synthesis_command/synthesis_command_commands_104/single_active_0e02a86a/single_active_0e02a86a_full.wav (deflated 22%)\n",
            "  adding: content/synthesis_command/synthesis_command_commands_104/single_mix_e1cae79b/ (stored 0%)\n",
            "  adding: content/synthesis_command/synthesis_command_commands_104/single_mix_e1cae79b/single_mix_e1cae79b.json (deflated 52%)\n",
            "  adding: content/synthesis_command/synthesis_command_commands_104/single_mix_e1cae79b/single_mix_e1cae79b_seg_0.wav (deflated 26%)\n",
            "  adding: content/synthesis_command/synthesis_command_commands_104/single_mix_e1cae79b/single_mix_e1cae79b_full.wav (deflated 28%)\n",
            "  adding: content/synthesis_command/synthesis_command_commands_104/single_mix_e1cae79b/single_mix_e1cae79b_seg_2.wav (deflated 30%)\n",
            "  adding: content/synthesis_command/synthesis_command_commands_104/single_mix_e1cae79b/single_mix_e1cae79b_seg_1.wav (deflated 38%)\n",
            "  adding: content/synthesis_command/synthesis_command_commands_104/chain_mix_d40a6b98/ (stored 0%)\n",
            "  adding: content/synthesis_command/synthesis_command_commands_104/chain_mix_d40a6b98/chain_mix_d40a6b98_seg_0.wav (deflated 31%)\n",
            "  adding: content/synthesis_command/synthesis_command_commands_104/chain_mix_d40a6b98/chain_mix_d40a6b98_full.wav (deflated 19%)\n"
          ]
        }
      ],
      "source": [
        "!zip synthesis_command.zip /content/synthesis_command -r"
      ]
    }
  ],
  "metadata": {
    "accelerator": "GPU",
    "colab": {
      "gpuType": "T4",
      "machine_shape": "hm",
      "provenance": [],
      "include_colab_link": true
    },
    "kaggle": {
      "accelerator": "gpu",
      "dataSources": [],
      "dockerImageVersionId": 31090,
      "isGpuEnabled": true,
      "isInternetEnabled": true,
      "language": "python",
      "sourceType": "notebook"
    },
    "kernelspec": {
      "display_name": "Python 3",
      "language": "python",
      "name": "python3"
    },
    "language_info": {
      "codemirror_mode": {
        "name": "ipython",
        "version": 3
      },
      "file_extension": ".py",
      "mimetype": "text/x-python",
      "name": "python",
      "nbconvert_exporter": "python",
      "pygments_lexer": "ipython3",
      "version": "3.11.13"
    }
  },
  "nbformat": 4,
  "nbformat_minor": 0
}
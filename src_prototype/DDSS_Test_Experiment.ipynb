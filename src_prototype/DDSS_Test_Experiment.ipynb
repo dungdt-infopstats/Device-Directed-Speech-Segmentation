{
  "metadata": {
    "kernelspec": {
      "language": "python",
      "display_name": "Python 3",
      "name": "python3"
    },
    "language_info": {
      "name": "python",
      "version": "3.11.13",
      "mimetype": "text/x-python",
      "codemirror_mode": {
        "name": "ipython",
        "version": 3
      },
      "pygments_lexer": "ipython3",
      "nbconvert_exporter": "python",
      "file_extension": ".py"
    },
    "kaggle": {
      "accelerator": "gpu",
      "dataSources": [
        {
          "sourceId": 12938319,
          "sourceType": "datasetVersion",
          "datasetId": 8187405
        },
        {
          "sourceId": 12948097,
          "sourceType": "datasetVersion",
          "datasetId": 8194012
        },
        {
          "sourceId": 13004856,
          "sourceType": "datasetVersion",
          "datasetId": 8232994
        },
        {
          "sourceId": 13006997,
          "sourceType": "datasetVersion",
          "datasetId": 8234548
        },
        {
          "sourceId": 13013267,
          "sourceType": "datasetVersion",
          "datasetId": 8238715
        },
        {
          "sourceId": 539636,
          "sourceType": "modelInstanceVersion",
          "modelInstanceId": 417650,
          "modelId": 435329
        },
        {
          "sourceId": 573548,
          "sourceType": "modelInstanceVersion",
          "isSourceIdPinned": true,
          "modelInstanceId": 429611,
          "modelId": 446581
        },
        {
          "sourceId": 573554,
          "sourceType": "modelInstanceVersion",
          "isSourceIdPinned": true,
          "modelInstanceId": 429612,
          "modelId": 446582
        }
      ],
      "dockerImageVersionId": 31090,
      "isInternetEnabled": true,
      "language": "python",
      "sourceType": "notebook",
      "isGpuEnabled": true
    },
    "colab": {
      "name": "DDSS-Test-Experiment",
      "provenance": [],
      "include_colab_link": true
    }
  },
  "nbformat_minor": 0,
  "nbformat": 4,
  "cells": [
    {
      "cell_type": "markdown",
      "metadata": {
        "id": "view-in-github",
        "colab_type": "text"
      },
      "source": [
        "<a href=\"https://colab.research.google.com/github/dungdt-infopstats/Device-Directed-Speech-Segmentation/blob/main/src_prototype/DDSS_Test_Experiment.ipynb\" target=\"_parent\"><img src=\"https://colab.research.google.com/assets/colab-badge.svg\" alt=\"Open In Colab\"/></a>"
      ]
    },
    {
      "source": [
        "# IMPORTANT: SOME KAGGLE DATA SOURCES ARE PRIVATE\n",
        "# RUN THIS CELL IN ORDER TO IMPORT YOUR KAGGLE DATA SOURCES.\n",
        "import kagglehub\n",
        "kagglehub.login()\n"
      ],
      "metadata": {
        "id": "SpjCp8mYzgPb"
      },
      "cell_type": "code",
      "outputs": [],
      "execution_count": null
    },
    {
      "source": [
        "# IMPORTANT: RUN THIS CELL IN ORDER TO IMPORT YOUR KAGGLE DATA SOURCES,\n",
        "# THEN FEEL FREE TO DELETE THIS CELL.\n",
        "# NOTE: THIS NOTEBOOK ENVIRONMENT DIFFERS FROM KAGGLE'S PYTHON\n",
        "# ENVIRONMENT SO THERE MAY BE MISSING LIBRARIES USED BY YOUR\n",
        "# NOTEBOOK.\n",
        "\n",
        "tridungdo_test_ratio_res_analysis_path = kagglehub.dataset_download('tridungdo/test-ratio-res-analysis')\n",
        "tridungdo_test_extend_ratio_speaker_split_path = kagglehub.dataset_download('tridungdo/test-extend-ratio-speaker-split')\n",
        "tridungdo_test_100_150_path = kagglehub.dataset_download('tridungdo/test-100-150')\n",
        "tridungdo_merge_raw_speech_wer_100_150_path = kagglehub.dataset_download('tridungdo/merge-raw-speech-wer-100-150')\n",
        "tridungdo_test_infer_100_150_old_model_json_path = kagglehub.dataset_download('tridungdo/test-infer-100-150-old-model-json')\n",
        "tridungdo_model_split_pytorch_default_1_path = kagglehub.model_download('tridungdo/model-split/PyTorch/default/1')\n",
        "tridungdo_wav2vec2_asr_100_150_pytorch_default_1_path = kagglehub.model_download('tridungdo/wav2vec2-asr-100-150/PyTorch/default/1')\n",
        "tridungdo_wav2vec2_base_100_150_pytorch_default_1_path = kagglehub.model_download('tridungdo/wav2vec2-base-100-150/PyTorch/default/1')\n",
        "\n",
        "print('Data source import complete.')\n"
      ],
      "metadata": {
        "id": "wjWmcRmTzgPd"
      },
      "cell_type": "code",
      "outputs": [],
      "execution_count": null
    },
    {
      "cell_type": "markdown",
      "source": [
        "# Model"
      ],
      "metadata": {
        "id": "EetKrwmdzgPe"
      }
    },
    {
      "cell_type": "code",
      "source": [
        "import os\n",
        "import json\n",
        "import pandas as pd\n",
        "from tqdm import tqdm\n",
        "\n",
        "def get_info(root_path):\n",
        "    list_json = []\n",
        "\n",
        "    # Đếm tổng số file JSON trước để tqdm có progress bar chính xác\n",
        "    all_json_files = []\n",
        "    for dirpath, _, filenames in os.walk(root_path):\n",
        "        for file in filenames:\n",
        "            if file.endswith('.json'):\n",
        "                all_json_files.append(os.path.join(dirpath, file))\n",
        "\n",
        "    # Duyệt qua file với tqdm\n",
        "    for file_path in tqdm(all_json_files, desc=\"Processing JSON files\"):\n",
        "        with open(file_path, 'r', encoding='utf-8') as f:\n",
        "            data = json.load(f)\n",
        "            data['id'] = os.path.splitext(os.path.basename(file_path))[0]  # lấy tên file làm id\n",
        "            list_json.append(data)\n",
        "\n",
        "    return pd.DataFrame(list_json)"
      ],
      "metadata": {
        "trusted": true,
        "execution": {
          "iopub.status.busy": "2025-09-10T02:31:25.337334Z",
          "iopub.execute_input": "2025-09-10T02:31:25.337645Z",
          "iopub.status.idle": "2025-09-10T02:31:25.342878Z",
          "shell.execute_reply.started": "2025-09-10T02:31:25.337621Z",
          "shell.execute_reply": "2025-09-10T02:31:25.342284Z"
        },
        "id": "O8PvTeYGzgPf"
      },
      "outputs": [],
      "execution_count": null
    },
    {
      "cell_type": "code",
      "source": [
        "import torch\n",
        "import torch.nn as nn\n",
        "import torchaudio\n",
        "\n",
        "\n",
        "class DDSSModel(nn.Module):\n",
        "    def __init__(self, hidden_dim=256, num_layers=2, bidirectional=True, dropout=0.3, bundle_name = 'asr'):\n",
        "        super(DDSSModel, self).__init__()\n",
        "\n",
        "        # Base model: Wav2Vec2 (ASR Base)\n",
        "        if bundle_name == 'asr':\n",
        "            bundle = torchaudio.pipelines.WAV2VEC2_ASR_BASE_960H\n",
        "        elif bundle_name == 'base':\n",
        "            bundle = torchaudio.pipelines.WAV2VEC2_BASE\n",
        "        self.feature_extractor = bundle.get_model()\n",
        "\n",
        "        # Freeze Wav2Vec2\n",
        "        for param in self.feature_extractor.parameters():\n",
        "            param.requires_grad = False\n",
        "\n",
        "        # LSTM\n",
        "        self.lstm = nn.LSTM(\n",
        "            input_size=bundle._params['encoder_embed_dim'],\n",
        "            hidden_size=hidden_dim,\n",
        "            num_layers=num_layers,\n",
        "            batch_first=True,\n",
        "            dropout=dropout,\n",
        "            bidirectional=bidirectional\n",
        "        )\n",
        "\n",
        "        lstm_output_dim = hidden_dim * (2 if bidirectional else 1)\n",
        "\n",
        "        # Frame-level classifier (MLP thay vì 1 tầng)\n",
        "        self.classifier = nn.Sequential(\n",
        "            nn.Linear(lstm_output_dim, lstm_output_dim // 2),\n",
        "            nn.BatchNorm1d(lstm_output_dim // 2),\n",
        "            nn.ReLU(),\n",
        "            nn.Dropout(dropout),\n",
        "\n",
        "            nn.Linear(lstm_output_dim // 2, lstm_output_dim // 4),\n",
        "            nn.ReLU(),\n",
        "            nn.Dropout(dropout),\n",
        "\n",
        "            nn.Linear(lstm_output_dim // 4, 1)  # binary logit\n",
        "        )\n",
        "\n",
        "    def forward(self, waveforms):\n",
        "        \"\"\"\n",
        "        waveforms: Tensor [B, T_audio] (mono audio, 16kHz)\n",
        "        \"\"\"\n",
        "        with torch.no_grad():\n",
        "            features, _ = self.feature_extractor.extract_features(waveforms)\n",
        "            x = features[-1]  # [B, T_feat, F]\n",
        "\n",
        "        # LSTM\n",
        "        x, _ = self.lstm(x)  # [B, T_feat, H]\n",
        "\n",
        "        # Classifier cho từng frame\n",
        "        B, T, H = x.shape\n",
        "        x = x.reshape(-1, H)          # [B*T, H]\n",
        "        out = self.classifier(x)      # [B*T, 1]\n",
        "        out = out.view(B, T)          # [B, T]\n",
        "        return out"
      ],
      "metadata": {
        "trusted": true,
        "execution": {
          "iopub.status.busy": "2025-09-10T02:40:04.192144Z",
          "iopub.execute_input": "2025-09-10T02:40:04.192683Z",
          "iopub.status.idle": "2025-09-10T02:40:04.200237Z",
          "shell.execute_reply.started": "2025-09-10T02:40:04.192659Z",
          "shell.execute_reply": "2025-09-10T02:40:04.199589Z"
        },
        "id": "heEbterSzgPg"
      },
      "outputs": [],
      "execution_count": null
    },
    {
      "cell_type": "markdown",
      "source": [
        "# Dataset"
      ],
      "metadata": {
        "id": "TMNZQof8zgPg"
      }
    },
    {
      "cell_type": "code",
      "source": [
        "import os\n",
        "import json\n",
        "import pandas as pd\n",
        "from tqdm import tqdm\n",
        "\n",
        "def collect_json_to_df(root_dir: str, flatten: bool = True) -> pd.DataFrame:\n",
        "    \"\"\"\n",
        "    Gom tất cả file JSON trong root_dir thành DataFrame.\n",
        "\n",
        "    Args:\n",
        "        root_dir (str): thư mục gốc chứa các thư mục con.\n",
        "        flatten (bool): nếu True, mỗi label trong json sẽ thành 1 dòng riêng.\n",
        "                        nếu False, labels sẽ giữ nguyên dạng list trong 1 cột.\n",
        "\n",
        "    Returns:\n",
        "        pd.DataFrame\n",
        "    \"\"\"\n",
        "    records = []\n",
        "\n",
        "    # Đếm trước tổng số file JSON để tqdm hiển thị progress đúng\n",
        "    json_files = []\n",
        "    for dirpath, _, filenames in os.walk(root_dir):\n",
        "        for file in filenames:\n",
        "            if file.endswith(\".json\"):\n",
        "                json_files.append(os.path.join(dirpath, file))\n",
        "\n",
        "    for json_path in tqdm(json_files, desc=\"Processing JSON files\"):\n",
        "        dirpath = os.path.dirname(json_path)\n",
        "        file = os.path.basename(json_path)\n",
        "        folder_name = os.path.basename(dirpath)\n",
        "\n",
        "        # audio nằm cùng chỗ, tên trùng với folder\n",
        "        audio_path = os.path.join(dirpath, file.replace('.json','.wav'))\n",
        "\n",
        "        with open(json_path, \"r\", encoding=\"utf-8\") as f:\n",
        "            data = json.load(f)\n",
        "\n",
        "        if flatten:\n",
        "            for entry in data['labels']:\n",
        "                records.append({\n",
        "                    \"id\": folder_name,\n",
        "                    \"id_detail\": file.split('.')[0],\n",
        "                    \"audio_path\": audio_path,\n",
        "                    \"label\": entry.get(\"label\"),\n",
        "                    \"start\": entry.get(\"start\"),\n",
        "                    \"end\": entry.get(\"end\")\n",
        "                })\n",
        "        else:\n",
        "            records.append({\n",
        "                \"id\": folder_name,\n",
        "                \"audio_path\": audio_path,\n",
        "                \"labels\": data\n",
        "            })\n",
        "\n",
        "    return pd.DataFrame(records)\n"
      ],
      "metadata": {
        "trusted": true,
        "execution": {
          "iopub.status.busy": "2025-09-10T02:35:06.37156Z",
          "iopub.execute_input": "2025-09-10T02:35:06.372274Z",
          "iopub.status.idle": "2025-09-10T02:35:06.378787Z",
          "shell.execute_reply.started": "2025-09-10T02:35:06.372251Z",
          "shell.execute_reply": "2025-09-10T02:35:06.378115Z"
        },
        "id": "xMxQKsotzgPg"
      },
      "outputs": [],
      "execution_count": null
    },
    {
      "cell_type": "code",
      "source": [
        "import torch\n",
        "from torch.utils.data import Dataset\n",
        "import torchaudio\n",
        "\n",
        "def frame_wav(wav, frame_size, hop_size):\n",
        "    wav = wav.squeeze(0)  # (N,)\n",
        "    frames = wav.unfold(0, frame_size, hop_size)  # shape (num_frames, frame_size)\n",
        "    return frames\n",
        "\n",
        "def label_frames(num_frames, frame_size, hop_size, sr, annotations):\n",
        "    labels = torch.zeros(num_frames, dtype=torch.long)  # mặc định = 0\n",
        "\n",
        "    for _, row in annotations.iterrows():\n",
        "        start_sample = int(row['start'] * sr)\n",
        "        end_sample = int(row['end'] * sr)\n",
        "\n",
        "        # quy đổi sample về index frame\n",
        "        start_frame = max(0, (start_sample - frame_size) // hop_size + 1)\n",
        "        end_frame   = min(num_frames, end_sample // hop_size)\n",
        "\n",
        "        if row['label'] == 'active':\n",
        "            labels[start_frame:end_frame+1] = 1\n",
        "\n",
        "    return labels\n",
        "\n",
        "class DDSSDataset(Dataset):\n",
        "    def __init__(self, annotations_file, frame_size=400, hop_size=160, target_sr=16000, transform=None, key = None):\n",
        "        self.annotations_file = annotations_file\n",
        "        self.key = key\n",
        "        if self.key is not None:\n",
        "            self.list_id = self.annotations_file[self.key].unique()\n",
        "        else:\n",
        "            self.list_id = self.annotations_file['id'].unique()\n",
        "        self.frame_size = frame_size\n",
        "        self.hop_size = hop_size\n",
        "        self.target_sr = target_sr\n",
        "        self.transform = transform\n",
        "\n",
        "    def __len__(self):\n",
        "        return len(self.list_id)\n",
        "\n",
        "    def __getitem__(self, idx):\n",
        "        id_file = self.list_id[idx]\n",
        "        if self.key is not None:\n",
        "            df_file = self.annotations_file[self.annotations_file[self.key] == id_file]\n",
        "        else:\n",
        "            df_file = self.annotations_file[self.annotations_file['id'] == id_file]\n",
        "        audio_path = df_file['audio_path'].iloc[0]\n",
        "        wav, sr = torchaudio.load(audio_path)\n",
        "\n",
        "        # resample\n",
        "        if sr != self.target_sr:\n",
        "            resampler = torchaudio.transforms.Resample(sr, self.target_sr)\n",
        "            wav = resampler(wav)\n",
        "            sr = self.target_sr\n",
        "\n",
        "        # frame\n",
        "        frames = frame_wav(wav, self.frame_size, self.hop_size)\n",
        "\n",
        "        # label sequence\n",
        "        labels = label_frames(frames.shape[0], self.frame_size, self.hop_size, sr, df_file)\n",
        "\n",
        "        return wav, frames, labels, id_file"
      ],
      "metadata": {
        "trusted": true,
        "execution": {
          "iopub.status.busy": "2025-09-10T02:31:35.721119Z",
          "iopub.execute_input": "2025-09-10T02:31:35.721381Z",
          "iopub.status.idle": "2025-09-10T02:31:35.730935Z",
          "shell.execute_reply.started": "2025-09-10T02:31:35.721362Z",
          "shell.execute_reply": "2025-09-10T02:31:35.730393Z"
        },
        "id": "1qwbpfzdzgPh"
      },
      "outputs": [],
      "execution_count": null
    },
    {
      "cell_type": "code",
      "source": [
        "import torch\n",
        "import torch.nn.functional as F\n",
        "\n",
        "def label_resampler(labels: torch.Tensor, target_len: int) -> torch.Tensor:\n",
        "    \"\"\"\n",
        "    labels: Tensor [num_frames], dtype long/int (0/1 hoặc nhiều class)\n",
        "    target_len: int, số bước thời gian output của model\n",
        "\n",
        "    Trả về Tensor [target_len], dtype long/int.\n",
        "    \"\"\"\n",
        "    num_frames = labels.shape[0]\n",
        "\n",
        "    if num_frames == target_len:\n",
        "        return labels.clone()\n",
        "\n",
        "    # Convert to float và reshape [1, 1, num_frames] để dùng interpolate\n",
        "    labels_f = labels.float().unsqueeze(0).unsqueeze(0)  # [1, 1, N]\n",
        "\n",
        "    # scale_factor hoặc size\n",
        "    labels_resampled = F.interpolate(\n",
        "        labels_f, size=target_len, mode=\"linear\", align_corners=False\n",
        "    )  # [1, 1, target_len]\n",
        "\n",
        "    # Convert về long (class index), với binary thì round về 0/1\n",
        "    labels_resampled = labels_resampled.squeeze().round().long()  # [target_len]\n",
        "\n",
        "    return labels_resampled"
      ],
      "metadata": {
        "trusted": true,
        "execution": {
          "iopub.status.busy": "2025-09-10T02:31:38.447852Z",
          "iopub.execute_input": "2025-09-10T02:31:38.448129Z",
          "iopub.status.idle": "2025-09-10T02:31:38.452757Z",
          "shell.execute_reply.started": "2025-09-10T02:31:38.448108Z",
          "shell.execute_reply": "2025-09-10T02:31:38.452082Z"
        },
        "id": "3mx0ALunzgPi"
      },
      "outputs": [],
      "execution_count": null
    },
    {
      "cell_type": "code",
      "source": [
        "import torch\n",
        "import torch.nn as nn\n",
        "from torch.utils.data import DataLoader\n",
        "from torch.nn.utils import clip_grad_norm_\n",
        "\n",
        "# ====== 1) Collate: pad waveform theo batch, giữ độ dài gốc ======\n",
        "def collate_fn(batch):\n",
        "    \"\"\"\n",
        "    batch: list of (wav, frames, labels)\n",
        "      - wav: Tensor [1, N]\n",
        "      - frames: Tensor [num_frames, frame_size] (không dùng ở train)\n",
        "      - labels: Tensor [num_frames] (0/1)\n",
        "    \"\"\"\n",
        "    wavs, frames_list, labels_list = zip(*batch)\n",
        "    lengths = torch.tensor([w.shape[-1] for w in wavs], dtype=torch.long)  # số sample gốc mỗi wav\n",
        "\n",
        "    # pad wavs về cùng độ dài (theo max_len)\n",
        "    max_len = int(lengths.max().item())\n",
        "    padded = []\n",
        "    for w in wavs:\n",
        "        if w.shape[-1] < max_len:\n",
        "            pad = torch.zeros((1, max_len - w.shape[-1]), dtype=w.dtype)\n",
        "            w = torch.cat([w, pad], dim=-1)\n",
        "        padded.append(w)\n",
        "    batch_wav = torch.stack(padded, dim=0).squeeze(1)  # [B, max_len]\n",
        "\n",
        "    return batch_wav, lengths, labels_list  # trả labels dạng list để nội suy sau"
      ],
      "metadata": {
        "trusted": true,
        "execution": {
          "iopub.status.busy": "2025-09-10T02:31:38.819764Z",
          "iopub.execute_input": "2025-09-10T02:31:38.820024Z",
          "iopub.status.idle": "2025-09-10T02:31:38.82556Z",
          "shell.execute_reply.started": "2025-09-10T02:31:38.820004Z",
          "shell.execute_reply": "2025-09-10T02:31:38.824874Z"
        },
        "id": "51NCjQjgzgPj"
      },
      "outputs": [],
      "execution_count": null
    },
    {
      "cell_type": "markdown",
      "source": [
        "# Infer"
      ],
      "metadata": {
        "id": "qfY2bV4ozgPj"
      }
    },
    {
      "cell_type": "code",
      "source": [
        "import pandas as pd\n",
        "import torch\n",
        "import numpy as np\n",
        "from tqdm import tqdm\n",
        "\n",
        "def infer_and_save(model, dataset, threshold=0.5, device=\"cuda\"):\n",
        "    model.eval()\n",
        "    model.to(device)\n",
        "    records = []\n",
        "    with torch.no_grad():\n",
        "        for wav, frames, labels, id_f in tqdm(dataset, desc=\"Inferencing\", unit=\"batch\"):\n",
        "            wav = wav.to(device)\n",
        "            outputs = model(wav)\n",
        "\n",
        "            outputs_resampled = label_resampler(outputs.squeeze(0), labels.shape[-1]).unsqueeze(0).to(device)\n",
        "            probs = torch.sigmoid(outputs_resampled).squeeze(0).cpu().numpy()\n",
        "            preds = (probs >= threshold).astype(int)\n",
        "\n",
        "            records.append({\n",
        "                \"outputs\": probs,\n",
        "                \"preds\": preds,\n",
        "                \"labels\": labels.numpy(),\n",
        "                \"text\": None,   # tạm placeholder\n",
        "                \"id\": id_f\n",
        "            })\n",
        "\n",
        "    df = pd.DataFrame(records)\n",
        "    return df\n",
        "\n"
      ],
      "metadata": {
        "trusted": true,
        "execution": {
          "iopub.status.busy": "2025-09-10T02:31:40.545332Z",
          "iopub.execute_input": "2025-09-10T02:31:40.545663Z",
          "iopub.status.idle": "2025-09-10T02:31:40.551256Z",
          "shell.execute_reply.started": "2025-09-10T02:31:40.54564Z",
          "shell.execute_reply": "2025-09-10T02:31:40.550579Z"
        },
        "id": "CpQJF0UTzgPj"
      },
      "outputs": [],
      "execution_count": null
    },
    {
      "cell_type": "markdown",
      "source": [
        "# Flow"
      ],
      "metadata": {
        "id": "Uj2Bemx1zgPk"
      }
    },
    {
      "cell_type": "code",
      "source": [
        "input_path = \"/kaggle/input/test-100-150\""
      ],
      "metadata": {
        "trusted": true,
        "execution": {
          "iopub.status.busy": "2025-09-10T02:31:42.660994Z",
          "iopub.execute_input": "2025-09-10T02:31:42.661275Z",
          "iopub.status.idle": "2025-09-10T02:31:42.66457Z",
          "shell.execute_reply.started": "2025-09-10T02:31:42.661255Z",
          "shell.execute_reply": "2025-09-10T02:31:42.663914Z"
        },
        "id": "6JmCwqGozgPk"
      },
      "outputs": [],
      "execution_count": null
    },
    {
      "cell_type": "code",
      "source": [
        "df_info = get_info(root_path=os.path.join(input_path, 'test'))"
      ],
      "metadata": {
        "trusted": true,
        "execution": {
          "iopub.status.busy": "2025-09-10T02:31:44.380336Z",
          "iopub.execute_input": "2025-09-10T02:31:44.380928Z",
          "iopub.status.idle": "2025-09-10T02:32:13.282001Z",
          "shell.execute_reply.started": "2025-09-10T02:31:44.38089Z",
          "shell.execute_reply": "2025-09-10T02:32:13.281312Z"
        },
        "id": "WLeapfEdzgPk",
        "outputId": "5d2f9c9d-49bc-4b6e-a3b9-88f4b7dd697a"
      },
      "outputs": [
        {
          "name": "stderr",
          "text": "Processing JSON files: 100%|██████████| 23946/23946 [00:14<00:00, 1671.15it/s]\n",
          "output_type": "stream"
        }
      ],
      "execution_count": null
    },
    {
      "cell_type": "code",
      "source": [
        "df_test = collect_json_to_df(f'{input_path}/test')"
      ],
      "metadata": {
        "trusted": true,
        "execution": {
          "iopub.status.busy": "2025-09-10T02:35:11.774145Z",
          "iopub.execute_input": "2025-09-10T02:35:11.774674Z",
          "iopub.status.idle": "2025-09-10T02:35:39.613746Z",
          "shell.execute_reply.started": "2025-09-10T02:35:11.774648Z",
          "shell.execute_reply": "2025-09-10T02:35:39.612878Z"
        },
        "id": "zHt6VKu5zgPk",
        "outputId": "4cea070e-2c48-4025-92ef-29c1bdae7e5d"
      },
      "outputs": [
        {
          "name": "stderr",
          "text": "Processing JSON files: 100%|██████████| 23946/23946 [00:14<00:00, 1686.33it/s]\n",
          "output_type": "stream"
        }
      ],
      "execution_count": null
    },
    {
      "cell_type": "code",
      "source": [
        "test_dataset = DDSSDataset(df_test, key = 'id_detail')"
      ],
      "metadata": {
        "trusted": true,
        "execution": {
          "iopub.status.busy": "2025-09-10T02:36:34.776317Z",
          "iopub.execute_input": "2025-09-10T02:36:34.776892Z",
          "iopub.status.idle": "2025-09-10T02:36:34.793304Z",
          "shell.execute_reply.started": "2025-09-10T02:36:34.776869Z",
          "shell.execute_reply": "2025-09-10T02:36:34.79258Z"
        },
        "id": "D2cN4F4AzgPl"
      },
      "outputs": [],
      "execution_count": null
    },
    {
      "cell_type": "code",
      "source": [
        "import os\n",
        "import torch\n",
        "def get_unique_filename(base_name, ext):\n",
        "    filename = f\"{base_name}{ext}\"\n",
        "    counter = 1\n",
        "    while os.path.exists(filename):\n",
        "        filename = f\"{base_name}_{counter}{ext}\"\n",
        "        counter += 1\n",
        "    return filename\n",
        "\n",
        "model_paths = [\n",
        "    (\"base\", \"/kaggle/input/wav2vec2-base-100-150/pytorch/default/1/wav2vec2-base-100-150.pt\"),\n",
        "    (\"asr\", \"/kaggle/input/wav2vec2-asr-100-150/pytorch/default/1/wav2vec2-asr-100-150.pt\"),\n",
        "]\n",
        "\n",
        "for bundle_name, model_path in model_paths:\n",
        "    model = DDSSModel(bundle_name = bundle_name)\n",
        "    model.load_state_dict(torch.load(model_path))\n",
        "    df_res = infer_and_save(model, test_dataset)\n",
        "    model_name = os.path.splitext(os.path.basename(model_path))[0]  # bỏ .pt nếu có\n",
        "\n",
        "    # Xuất CSV\n",
        "    csv_path = get_unique_filename(model_name, \".csv\")\n",
        "    df_res.to_csv(csv_path, index=False)\n",
        "\n",
        "    # Xuất JSON\n",
        "    json_path = get_unique_filename(model_name, \".json\")\n",
        "    df_res.to_json(json_path, orient=\"records\", force_ascii=False)\n"
      ],
      "metadata": {
        "trusted": true,
        "execution": {
          "iopub.status.busy": "2025-09-10T03:26:07.288969Z",
          "iopub.execute_input": "2025-09-10T03:26:07.289268Z"
        },
        "id": "-VyWoik1zgPl",
        "outputId": "f71752f0-aad5-4e5d-b001-67a83e87ab81"
      },
      "outputs": [
        {
          "name": "stderr",
          "text": "Inferencing:  64%|██████▎   | 15208/23946 [21:17<04:17, 33.92batch/s]  ",
          "output_type": "stream"
        }
      ],
      "execution_count": null
    },
    {
      "cell_type": "code",
      "source": [],
      "metadata": {
        "trusted": true,
        "id": "nqrQQh0WzgPl"
      },
      "outputs": [],
      "execution_count": null
    }
  ]
}
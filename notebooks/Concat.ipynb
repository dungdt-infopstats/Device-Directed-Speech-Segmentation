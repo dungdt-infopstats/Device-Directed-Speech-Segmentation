{
  "metadata": {
    "kernelspec": {
      "language": "python",
      "display_name": "Python 3",
      "name": "python3"
    },
    "language_info": {
      "name": "python",
      "version": "3.11.13",
      "mimetype": "text/x-python",
      "codemirror_mode": {
        "name": "ipython",
        "version": 3
      },
      "pygments_lexer": "ipython3",
      "nbconvert_exporter": "python",
      "file_extension": ".py"
    },
    "kaggle": {
      "accelerator": "none",
      "dataSources": [],
      "dockerImageVersionId": 31089,
      "isInternetEnabled": true,
      "language": "python",
      "sourceType": "notebook",
      "isGpuEnabled": false
    },
    "colab": {
      "name": "Concat",
      "provenance": [],
      "include_colab_link": true
    }
  },
  "nbformat_minor": 0,
  "nbformat": 4,
  "cells": [
    {
      "cell_type": "markdown",
      "metadata": {
        "id": "view-in-github",
        "colab_type": "text"
      },
      "source": [
        "<a href=\"https://colab.research.google.com/github/10udCryp7/TV-command-synthesis/blob/main/notebooks/Concat.ipynb\" target=\"_parent\"><img src=\"https://colab.research.google.com/assets/colab-badge.svg\" alt=\"Open In Colab\"/></a>"
      ]
    },
    {
      "cell_type": "markdown",
      "source": [
        "# Data"
      ],
      "metadata": {
        "id": "aeSxrpuc0DXK"
      }
    },
    {
      "cell_type": "code",
      "source": [
        "!gdown 1nuvnyEOrSUokE6KV-qcV-Mniakqecjwn"
      ],
      "metadata": {
        "trusted": true,
        "execution": {
          "iopub.status.busy": "2025-08-14T08:17:59.311989Z",
          "iopub.execute_input": "2025-08-14T08:17:59.312318Z",
          "iopub.status.idle": "2025-08-14T08:18:04.074456Z",
          "shell.execute_reply.started": "2025-08-14T08:17:59.312286Z",
          "shell.execute_reply": "2025-08-14T08:18:04.072797Z"
        },
        "id": "tNjYuNot0DXL",
        "outputId": "9c8820b2-23c1-4415-b641-7d4830966683"
      },
      "outputs": [
        {
          "name": "stdout",
          "text": "Downloading...\nFrom (original): https://drive.google.com/uc?id=1nuvnyEOrSUokE6KV-qcV-Mniakqecjwn\nFrom (redirected): https://drive.google.com/uc?id=1nuvnyEOrSUokE6KV-qcV-Mniakqecjwn&confirm=t&uuid=4701922c-5237-4299-bda6-fe79394e2045\nTo: /kaggle/working/trimmed_speech.zip\n100%|██████████████████████████████████████| 27.1M/27.1M [00:01<00:00, 24.7MB/s]\n",
          "output_type": "stream"
        }
      ],
      "execution_count": null
    },
    {
      "cell_type": "code",
      "source": [
        "!unzip -q trimmed_speech.zip"
      ],
      "metadata": {
        "trusted": true,
        "execution": {
          "iopub.status.busy": "2025-08-14T08:18:11.215887Z",
          "iopub.execute_input": "2025-08-14T08:18:11.216295Z",
          "iopub.status.idle": "2025-08-14T08:18:11.945776Z",
          "shell.execute_reply.started": "2025-08-14T08:18:11.216256Z",
          "shell.execute_reply": "2025-08-14T08:18:11.943963Z"
        },
        "id": "dbd5oyhk0DXM"
      },
      "outputs": [],
      "execution_count": null
    },
    {
      "cell_type": "code",
      "source": [
        "!gdown 19Bp6dE-puegzKmm1oIPf-KGXsLphTO7a"
      ],
      "metadata": {
        "trusted": true,
        "execution": {
          "iopub.status.busy": "2025-08-14T08:18:28.564168Z",
          "iopub.execute_input": "2025-08-14T08:18:28.564583Z",
          "iopub.status.idle": "2025-08-14T08:18:31.43287Z",
          "shell.execute_reply.started": "2025-08-14T08:18:28.564547Z",
          "shell.execute_reply": "2025-08-14T08:18:31.431301Z"
        },
        "id": "t8XpsNlt0DXM",
        "outputId": "efb754b8-f395-4a22-b364-ec13c32701d4"
      },
      "outputs": [
        {
          "name": "stdout",
          "text": "Downloading...\nFrom: https://drive.google.com/uc?id=19Bp6dE-puegzKmm1oIPf-KGXsLphTO7a\nTo: /kaggle/working/output.csv\n100%|██████████████████████████████████████| 1.29k/1.29k [00:00<00:00, 4.87MB/s]\n",
          "output_type": "stream"
        }
      ],
      "execution_count": null
    },
    {
      "cell_type": "code",
      "source": [
        "!gdown 121dcbCvDVzB22uelCeYkg4Fs8TVbQ1tp"
      ],
      "metadata": {
        "trusted": true,
        "execution": {
          "iopub.status.busy": "2025-08-14T08:25:23.87161Z",
          "iopub.execute_input": "2025-08-14T08:25:23.871983Z",
          "iopub.status.idle": "2025-08-14T08:25:26.26405Z",
          "shell.execute_reply.started": "2025-08-14T08:25:23.871956Z",
          "shell.execute_reply": "2025-08-14T08:25:26.262569Z"
        },
        "id": "aaNDa6ba0DXN",
        "outputId": "172b2153-4bf1-4f99-9dc2-f5a3d73f49d6"
      },
      "outputs": [
        {
          "name": "stdout",
          "text": "Downloading...\nFrom: https://drive.google.com/uc?id=121dcbCvDVzB22uelCeYkg4Fs8TVbQ1tp\nTo: /kaggle/working/100-samples.csv\n100%|██████████████████████████████████████| 29.0k/29.0k [00:00<00:00, 35.8MB/s]\n",
          "output_type": "stream"
        }
      ],
      "execution_count": null
    },
    {
      "cell_type": "markdown",
      "source": [
        "# Analysis"
      ],
      "metadata": {
        "id": "ksTGtPkQ0DXN"
      }
    },
    {
      "cell_type": "code",
      "source": [
        "metadata = pd.read_csv('100-samples.csv', index_col = 0)"
      ],
      "metadata": {
        "trusted": true,
        "execution": {
          "iopub.status.busy": "2025-08-14T08:26:23.035461Z",
          "iopub.execute_input": "2025-08-14T08:26:23.035888Z",
          "iopub.status.idle": "2025-08-14T08:26:23.06074Z",
          "shell.execute_reply.started": "2025-08-14T08:26:23.035859Z",
          "shell.execute_reply": "2025-08-14T08:26:23.058366Z"
        },
        "id": "nP1FDp2f0DXN"
      },
      "outputs": [],
      "execution_count": null
    },
    {
      "cell_type": "code",
      "source": [
        "import pandas as pd\n",
        "\n",
        "bad_voice = pd.read_csv('output.csv')"
      ],
      "metadata": {
        "trusted": true,
        "execution": {
          "iopub.status.busy": "2025-08-14T08:19:28.146749Z",
          "iopub.execute_input": "2025-08-14T08:19:28.147992Z",
          "iopub.status.idle": "2025-08-14T08:19:28.645257Z",
          "shell.execute_reply.started": "2025-08-14T08:19:28.147945Z",
          "shell.execute_reply": "2025-08-14T08:19:28.643838Z"
        },
        "id": "DGkKu70H0DXN"
      },
      "outputs": [],
      "execution_count": null
    },
    {
      "cell_type": "markdown",
      "source": [
        "# Concat"
      ],
      "metadata": {
        "id": "Q_OGe6X80DXO"
      }
    },
    {
      "cell_type": "code",
      "source": [
        "bad_voice"
      ],
      "metadata": {
        "trusted": true,
        "execution": {
          "iopub.status.busy": "2025-08-14T08:57:23.273893Z",
          "iopub.execute_input": "2025-08-14T08:57:23.274235Z",
          "iopub.status.idle": "2025-08-14T08:57:23.287407Z",
          "shell.execute_reply.started": "2025-08-14T08:57:23.27421Z",
          "shell.execute_reply": "2025-08-14T08:57:23.285386Z"
        },
        "id": "8b5SULcM0DXO",
        "outputId": "76a96266-fca4-4637-9104-c2c35c0b4c6d"
      },
      "outputs": [
        {
          "execution_count": 29,
          "output_type": "execute_result",
          "data": {
            "text/plain": "                        id segment       error_message\n0   single_active_4ff7f40d    full  cant get start end\n1      single_mix_d337321c   seg_0  cant get start end\n2       chain_mix_79b56df5    full  cant get start end\n3      single_mix_5143fc18   seg_3  cant get start end\n4      single_mix_5143fc18   seg_9  cant get start end\n5      single_mix_5143fc18  seg_10  cant get start end\n6   single_active_7aa90624    full  cant get start end\n7      single_mix_c6252315   seg_0  cant get start end\n8      single_mix_c6252315   seg_1  cant get start end\n9      single_mix_c6252315   seg_2  cant get start end\n10     single_mix_c6252315   seg_3  cant get start end\n11     single_mix_c6252315   seg_4  cant get start end\n12     single_mix_c6252315   seg_5  cant get start end\n13     single_mix_c6252315   seg_7  cant get start end\n14     single_mix_c6252315   seg_8  cant get start end\n15     single_mix_c6252315   seg_9  cant get start end\n16     single_mix_c6252315  seg_10  cant get start end\n17      chain_mix_0969edce   seg_0  cant get start end\n18      chain_mix_460f79b4   seg_0  cant get start end\n19      chain_mix_460f79b4   seg_1  cant get start end\n20     single_mix_79892fde   seg_2  cant get start end\n21      chain_mix_b211eaf6   seg_2  cant get start end\n22  single_active_6dc69584    full  cant get start end\n23      chain_mix_2465bf55   seg_0  cant get start end\n24  single_active_c2a0338e    full  cant get start end\n25  single_active_484e94d0    full  cant get start end\n26      chain_mix_974cfec8   seg_0  cant get start end\n27      chain_mix_974cfec8   seg_2  cant get start end",
            "text/html": "<div>\n<style scoped>\n    .dataframe tbody tr th:only-of-type {\n        vertical-align: middle;\n    }\n\n    .dataframe tbody tr th {\n        vertical-align: top;\n    }\n\n    .dataframe thead th {\n        text-align: right;\n    }\n</style>\n<table border=\"1\" class=\"dataframe\">\n  <thead>\n    <tr style=\"text-align: right;\">\n      <th></th>\n      <th>id</th>\n      <th>segment</th>\n      <th>error_message</th>\n    </tr>\n  </thead>\n  <tbody>\n    <tr>\n      <th>0</th>\n      <td>single_active_4ff7f40d</td>\n      <td>full</td>\n      <td>cant get start end</td>\n    </tr>\n    <tr>\n      <th>1</th>\n      <td>single_mix_d337321c</td>\n      <td>seg_0</td>\n      <td>cant get start end</td>\n    </tr>\n    <tr>\n      <th>2</th>\n      <td>chain_mix_79b56df5</td>\n      <td>full</td>\n      <td>cant get start end</td>\n    </tr>\n    <tr>\n      <th>3</th>\n      <td>single_mix_5143fc18</td>\n      <td>seg_3</td>\n      <td>cant get start end</td>\n    </tr>\n    <tr>\n      <th>4</th>\n      <td>single_mix_5143fc18</td>\n      <td>seg_9</td>\n      <td>cant get start end</td>\n    </tr>\n    <tr>\n      <th>5</th>\n      <td>single_mix_5143fc18</td>\n      <td>seg_10</td>\n      <td>cant get start end</td>\n    </tr>\n    <tr>\n      <th>6</th>\n      <td>single_active_7aa90624</td>\n      <td>full</td>\n      <td>cant get start end</td>\n    </tr>\n    <tr>\n      <th>7</th>\n      <td>single_mix_c6252315</td>\n      <td>seg_0</td>\n      <td>cant get start end</td>\n    </tr>\n    <tr>\n      <th>8</th>\n      <td>single_mix_c6252315</td>\n      <td>seg_1</td>\n      <td>cant get start end</td>\n    </tr>\n    <tr>\n      <th>9</th>\n      <td>single_mix_c6252315</td>\n      <td>seg_2</td>\n      <td>cant get start end</td>\n    </tr>\n    <tr>\n      <th>10</th>\n      <td>single_mix_c6252315</td>\n      <td>seg_3</td>\n      <td>cant get start end</td>\n    </tr>\n    <tr>\n      <th>11</th>\n      <td>single_mix_c6252315</td>\n      <td>seg_4</td>\n      <td>cant get start end</td>\n    </tr>\n    <tr>\n      <th>12</th>\n      <td>single_mix_c6252315</td>\n      <td>seg_5</td>\n      <td>cant get start end</td>\n    </tr>\n    <tr>\n      <th>13</th>\n      <td>single_mix_c6252315</td>\n      <td>seg_7</td>\n      <td>cant get start end</td>\n    </tr>\n    <tr>\n      <th>14</th>\n      <td>single_mix_c6252315</td>\n      <td>seg_8</td>\n      <td>cant get start end</td>\n    </tr>\n    <tr>\n      <th>15</th>\n      <td>single_mix_c6252315</td>\n      <td>seg_9</td>\n      <td>cant get start end</td>\n    </tr>\n    <tr>\n      <th>16</th>\n      <td>single_mix_c6252315</td>\n      <td>seg_10</td>\n      <td>cant get start end</td>\n    </tr>\n    <tr>\n      <th>17</th>\n      <td>chain_mix_0969edce</td>\n      <td>seg_0</td>\n      <td>cant get start end</td>\n    </tr>\n    <tr>\n      <th>18</th>\n      <td>chain_mix_460f79b4</td>\n      <td>seg_0</td>\n      <td>cant get start end</td>\n    </tr>\n    <tr>\n      <th>19</th>\n      <td>chain_mix_460f79b4</td>\n      <td>seg_1</td>\n      <td>cant get start end</td>\n    </tr>\n    <tr>\n      <th>20</th>\n      <td>single_mix_79892fde</td>\n      <td>seg_2</td>\n      <td>cant get start end</td>\n    </tr>\n    <tr>\n      <th>21</th>\n      <td>chain_mix_b211eaf6</td>\n      <td>seg_2</td>\n      <td>cant get start end</td>\n    </tr>\n    <tr>\n      <th>22</th>\n      <td>single_active_6dc69584</td>\n      <td>full</td>\n      <td>cant get start end</td>\n    </tr>\n    <tr>\n      <th>23</th>\n      <td>chain_mix_2465bf55</td>\n      <td>seg_0</td>\n      <td>cant get start end</td>\n    </tr>\n    <tr>\n      <th>24</th>\n      <td>single_active_c2a0338e</td>\n      <td>full</td>\n      <td>cant get start end</td>\n    </tr>\n    <tr>\n      <th>25</th>\n      <td>single_active_484e94d0</td>\n      <td>full</td>\n      <td>cant get start end</td>\n    </tr>\n    <tr>\n      <th>26</th>\n      <td>chain_mix_974cfec8</td>\n      <td>seg_0</td>\n      <td>cant get start end</td>\n    </tr>\n    <tr>\n      <th>27</th>\n      <td>chain_mix_974cfec8</td>\n      <td>seg_2</td>\n      <td>cant get start end</td>\n    </tr>\n  </tbody>\n</table>\n</div>"
          },
          "metadata": {}
        }
      ],
      "execution_count": null
    },
    {
      "cell_type": "code",
      "source": [
        "import os\n",
        "import json\n",
        "from pydub import AudioSegment\n",
        "import ast\n",
        "\n",
        "def concat(input_folder, output_folder, metadata, bad_list):\n",
        "    results = []\n",
        "    for idx, row in metadata.iterrows():\n",
        "        num_segments = row['num_segments']\n",
        "        if num_segments != 0:\n",
        "            file_name = f\"{row['type']}_{row['id']}\"\n",
        "            if file_name in bad_list:\n",
        "                print(f\"skip {file_name}\")\n",
        "                continue\n",
        "\n",
        "            type_segments = ast.literal_eval(row['type_segments'])  # dict {'0': 'non_active', '1': 'active', ...}\n",
        "\n",
        "            combined = AudioSegment.silent(duration=0)\n",
        "            annotations = []\n",
        "            current_time_ms = 0\n",
        "\n",
        "            for i in range(num_segments):\n",
        "                file_path = os.path.join(input_folder, file_name, f'{file_name}_seg_{i}_trimmed.wav')\n",
        "                if not os.path.exists(file_path):\n",
        "                    print(f\"Missing: {file_path}\")\n",
        "                    continue\n",
        "\n",
        "                segment = AudioSegment.from_wav(file_path)\n",
        "                duration_ms = len(segment)\n",
        "\n",
        "                label = type_segments.get(str(i), \"unknown\")\n",
        "                annotations.append({\n",
        "                    \"label\": label,\n",
        "                    \"start\": current_time_ms / 1000.0,  # giây\n",
        "                    \"end\": (current_time_ms + duration_ms) / 1000.0\n",
        "                })\n",
        "\n",
        "                combined += segment\n",
        "                current_time_ms += duration_ms\n",
        "\n",
        "            # Tạo thư mục output cho từng file\n",
        "            file_output_dir = os.path.join(output_folder, file_name)\n",
        "            os.makedirs(file_output_dir, exist_ok=True)\n",
        "\n",
        "            # Lưu file audio concat\n",
        "            output_wav = os.path.join(file_output_dir, f\"{file_name}_concat.wav\")\n",
        "            combined.export(output_wav, format=\"wav\")\n",
        "\n",
        "            # Lưu file JSON annotation\n",
        "            output_json = os.path.join(file_output_dir, f\"{file_name}.json\")\n",
        "            with open(output_json, \"w\", encoding=\"utf-8\") as f:\n",
        "                json.dump(annotations, f, indent=2, ensure_ascii=False)\n",
        "\n",
        "            results.append({\"wav\": output_wav, \"json\": output_json})\n",
        "            print(f\"Saved: {output_wav}, {output_json}\")\n",
        "\n",
        "    return results\n"
      ],
      "metadata": {
        "trusted": true,
        "execution": {
          "iopub.status.busy": "2025-08-14T08:58:31.352844Z",
          "iopub.execute_input": "2025-08-14T08:58:31.353273Z",
          "iopub.status.idle": "2025-08-14T08:58:31.365833Z",
          "shell.execute_reply.started": "2025-08-14T08:58:31.353243Z",
          "shell.execute_reply": "2025-08-14T08:58:31.364662Z"
        },
        "id": "saWOHuMU0DXO"
      },
      "outputs": [],
      "execution_count": null
    },
    {
      "cell_type": "code",
      "source": [
        "res = concat(input_folder = \"trimmed_speech\", output_folder = \"concat_speechs\", metadata = metadata, bad_list = bad_voice['id'].values)"
      ],
      "metadata": {
        "trusted": true,
        "execution": {
          "iopub.status.busy": "2025-08-14T08:58:33.331632Z",
          "iopub.execute_input": "2025-08-14T08:58:33.332789Z",
          "iopub.status.idle": "2025-08-14T08:58:33.392245Z",
          "shell.execute_reply.started": "2025-08-14T08:58:33.332754Z",
          "shell.execute_reply": "2025-08-14T08:58:33.391148Z"
        },
        "id": "7wg0ijTV0DXP",
        "outputId": "6837270c-3749-4c5d-8fbe-f27dddf2a790"
      },
      "outputs": [
        {
          "name": "stdout",
          "text": "skip single_mix_d337321c\nskip chain_mix_79b56df5\nskip single_mix_5143fc18\nSaved: concat_speechs/chain_mix_fa4ee976/chain_mix_fa4ee976_concat.wav, concat_speechs/chain_mix_fa4ee976/chain_mix_fa4ee976.json\nSaved: concat_speechs/single_mix_445f45d6/single_mix_445f45d6_concat.wav, concat_speechs/single_mix_445f45d6/single_mix_445f45d6.json\nSaved: concat_speechs/chain_mix_b21f4dee/chain_mix_b21f4dee_concat.wav, concat_speechs/chain_mix_b21f4dee/chain_mix_b21f4dee.json\nSaved: concat_speechs/single_mix_2e9958c3/single_mix_2e9958c3_concat.wav, concat_speechs/single_mix_2e9958c3/single_mix_2e9958c3.json\nSaved: concat_speechs/chain_mix_5a93f120/chain_mix_5a93f120_concat.wav, concat_speechs/chain_mix_5a93f120/chain_mix_5a93f120.json\nSaved: concat_speechs/single_mix_966300b9/single_mix_966300b9_concat.wav, concat_speechs/single_mix_966300b9/single_mix_966300b9.json\nSaved: concat_speechs/chain_mix_410ea272/chain_mix_410ea272_concat.wav, concat_speechs/chain_mix_410ea272/chain_mix_410ea272.json\nSaved: concat_speechs/single_mix_bbfc7792/single_mix_bbfc7792_concat.wav, concat_speechs/single_mix_bbfc7792/single_mix_bbfc7792.json\nSaved: concat_speechs/chain_mix_8410bf34/chain_mix_8410bf34_concat.wav, concat_speechs/chain_mix_8410bf34/chain_mix_8410bf34.json\nSaved: concat_speechs/single_mix_640545be/single_mix_640545be_concat.wav, concat_speechs/single_mix_640545be/single_mix_640545be.json\nSaved: concat_speechs/chain_mix_f3fc5238/chain_mix_f3fc5238_concat.wav, concat_speechs/chain_mix_f3fc5238/chain_mix_f3fc5238.json\nSaved: concat_speechs/single_mix_4ad2be32/single_mix_4ad2be32_concat.wav, concat_speechs/single_mix_4ad2be32/single_mix_4ad2be32.json\nSaved: concat_speechs/chain_mix_372f7c04/chain_mix_372f7c04_concat.wav, concat_speechs/chain_mix_372f7c04/chain_mix_372f7c04.json\nSaved: concat_speechs/single_mix_71aa1602/single_mix_71aa1602_concat.wav, concat_speechs/single_mix_71aa1602/single_mix_71aa1602.json\nSaved: concat_speechs/chain_mix_0e75cf2d/chain_mix_0e75cf2d_concat.wav, concat_speechs/chain_mix_0e75cf2d/chain_mix_0e75cf2d.json\nSaved: concat_speechs/single_mix_5abb52e2/single_mix_5abb52e2_concat.wav, concat_speechs/single_mix_5abb52e2/single_mix_5abb52e2.json\nSaved: concat_speechs/chain_mix_1ac7590b/chain_mix_1ac7590b_concat.wav, concat_speechs/chain_mix_1ac7590b/chain_mix_1ac7590b.json\nskip single_mix_c6252315\nSaved: concat_speechs/chain_mix_ce374f32/chain_mix_ce374f32_concat.wav, concat_speechs/chain_mix_ce374f32/chain_mix_ce374f32.json\nSaved: concat_speechs/single_mix_4021432a/single_mix_4021432a_concat.wav, concat_speechs/single_mix_4021432a/single_mix_4021432a.json\nSaved: concat_speechs/chain_mix_61c6f9ad/chain_mix_61c6f9ad_concat.wav, concat_speechs/chain_mix_61c6f9ad/chain_mix_61c6f9ad.json\nSaved: concat_speechs/single_mix_cdfe23ab/single_mix_cdfe23ab_concat.wav, concat_speechs/single_mix_cdfe23ab/single_mix_cdfe23ab.json\nskip chain_mix_0969edce\nSaved: concat_speechs/single_mix_c0c0d41d/single_mix_c0c0d41d_concat.wav, concat_speechs/single_mix_c0c0d41d/single_mix_c0c0d41d.json\nskip chain_mix_460f79b4\nskip single_mix_79892fde\nskip chain_mix_b211eaf6\nSaved: concat_speechs/single_mix_a0e38162/single_mix_a0e38162_concat.wav, concat_speechs/single_mix_a0e38162/single_mix_a0e38162.json\nskip chain_mix_2465bf55\nSaved: concat_speechs/single_mix_acd9f593/single_mix_acd9f593_concat.wav, concat_speechs/single_mix_acd9f593/single_mix_acd9f593.json\nSaved: concat_speechs/chain_mix_b31f1fb7/chain_mix_b31f1fb7_concat.wav, concat_speechs/chain_mix_b31f1fb7/chain_mix_b31f1fb7.json\nSaved: concat_speechs/single_mix_aaaa437e/single_mix_aaaa437e_concat.wav, concat_speechs/single_mix_aaaa437e/single_mix_aaaa437e.json\nSaved: concat_speechs/chain_mix_76c08e2c/chain_mix_76c08e2c_concat.wav, concat_speechs/chain_mix_76c08e2c/chain_mix_76c08e2c.json\nSaved: concat_speechs/single_mix_cdeb248e/single_mix_cdeb248e_concat.wav, concat_speechs/single_mix_cdeb248e/single_mix_cdeb248e.json\nskip chain_mix_974cfec8\nSaved: concat_speechs/single_mix_bb5351d0/single_mix_bb5351d0_concat.wav, concat_speechs/single_mix_bb5351d0/single_mix_bb5351d0.json\nSaved: concat_speechs/chain_mix_793a310d/chain_mix_793a310d_concat.wav, concat_speechs/chain_mix_793a310d/chain_mix_793a310d.json\n",
          "output_type": "stream"
        }
      ],
      "execution_count": null
    },
    {
      "cell_type": "code",
      "source": [],
      "metadata": {
        "trusted": true,
        "id": "jjjtOV860DXP"
      },
      "outputs": [],
      "execution_count": null
    }
  ]
}
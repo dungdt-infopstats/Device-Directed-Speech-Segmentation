{
  "metadata": {
    "kernelspec": {
      "language": "python",
      "display_name": "Python 3",
      "name": "python3"
    },
    "language_info": {
      "name": "python",
      "version": "3.11.13",
      "mimetype": "text/x-python",
      "codemirror_mode": {
        "name": "ipython",
        "version": 3
      },
      "pygments_lexer": "ipython3",
      "nbconvert_exporter": "python",
      "file_extension": ".py"
    },
    "kaggle": {
      "accelerator": "none",
      "dataSources": [],
      "dockerImageVersionId": 31089,
      "isInternetEnabled": true,
      "language": "python",
      "sourceType": "notebook",
      "isGpuEnabled": false
    },
    "colab": {
      "name": "DDSS-Model",
      "provenance": [],
      "include_colab_link": true
    }
  },
  "nbformat_minor": 0,
  "nbformat": 4,
  "cells": [
    {
      "cell_type": "markdown",
      "metadata": {
        "id": "view-in-github",
        "colab_type": "text"
      },
      "source": [
        "<a href=\"https://colab.research.google.com/github/10udCryp7/TV-command-synthesis/blob/main/notebooks/DDSS_Model.ipynb\" target=\"_parent\"><img src=\"https://colab.research.google.com/assets/colab-badge.svg\" alt=\"Open In Colab\"/></a>"
      ]
    },
    {
      "cell_type": "code",
      "source": [
        "!gdown 1ZqgxOVKR14VDqwY19GAFgQiuVi0qs-N8"
      ],
      "metadata": {
        "_uuid": "8f2839f25d086af736a60e9eeb907d3b93b6e0e5",
        "_cell_guid": "b1076dfc-b9ad-4769-8c92-a6c4dae69d19",
        "trusted": true,
        "execution": {
          "iopub.status.busy": "2025-08-19T09:24:50.99729Z",
          "iopub.execute_input": "2025-08-19T09:24:50.997877Z",
          "iopub.status.idle": "2025-08-19T09:25:08.276501Z",
          "shell.execute_reply.started": "2025-08-19T09:24:50.997838Z",
          "shell.execute_reply": "2025-08-19T09:25:08.274676Z"
        },
        "id": "KWuMD0s88r9v",
        "outputId": "61a29a1a-bc67-4154-a037-4b8a1580fd72"
      },
      "outputs": [
        {
          "name": "stdout",
          "text": "Downloading...\nFrom (original): https://drive.google.com/uc?id=1ZqgxOVKR14VDqwY19GAFgQiuVi0qs-N8\nFrom (redirected): https://drive.google.com/uc?id=1ZqgxOVKR14VDqwY19GAFgQiuVi0qs-N8&confirm=t&uuid=4bfa4766-9679-4822-9bdd-d5a30a206e66\nTo: /kaggle/working/sample-5000-concat.zip\n100%|████████████████████████████████████████| 419M/419M [00:14<00:00, 29.7MB/s]\n",
          "output_type": "stream"
        }
      ],
      "execution_count": null
    },
    {
      "cell_type": "code",
      "source": [
        "!unzip sample-5000-concat.zip"
      ],
      "metadata": {
        "trusted": true,
        "id": "VRwijtRM8r9x"
      },
      "outputs": [],
      "execution_count": null
    },
    {
      "cell_type": "code",
      "source": [
        "import os\n",
        "import json\n",
        "import pandas as pd\n",
        "\n",
        "def collect_json_to_df(root_dir: str, flatten: bool = True) -> pd.DataFrame:\n",
        "    \"\"\"\n",
        "    Gom tất cả file JSON trong root_dir thành DataFrame.\n",
        "\n",
        "    Args:\n",
        "        root_dir (str): thư mục gốc chứa các thư mục con.\n",
        "        flatten (bool): nếu True, mỗi label trong json sẽ thành 1 dòng riêng.\n",
        "                        nếu False, labels sẽ giữ nguyên dạng list trong 1 cột.\n",
        "\n",
        "    Returns:\n",
        "        pd.DataFrame\n",
        "    \"\"\"\n",
        "    records = []\n",
        "\n",
        "    for dirpath, _, filenames in os.walk(root_dir):\n",
        "        for file in filenames:\n",
        "            if file.endswith(\".json\"):\n",
        "                json_path = os.path.join(dirpath, file)\n",
        "                folder_name = os.path.basename(dirpath)\n",
        "\n",
        "                # audio nằm cùng chỗ, tên trùng với folder\n",
        "                audio_path = os.path.join(dirpath, folder_name + \"_concat\" + \".wav\")\n",
        "\n",
        "                with open(json_path, \"r\", encoding=\"utf-8\") as f:\n",
        "                    data = json.load(f)\n",
        "\n",
        "                if flatten:\n",
        "                    for entry in data:\n",
        "                        records.append({\n",
        "                            \"id\": folder_name,\n",
        "                            \"audio_path\": audio_path,\n",
        "                            \"label\": entry.get(\"label\"),\n",
        "                            \"start\": entry.get(\"start\"),\n",
        "                            \"end\": entry.get(\"end\")\n",
        "                        })\n",
        "                else:\n",
        "                    records.append({\n",
        "                        \"id\": folder_name,\n",
        "                        \"audio_path\": audio_path,\n",
        "                        \"labels\": data\n",
        "                    })\n",
        "\n",
        "    return pd.DataFrame(records)\n"
      ],
      "metadata": {
        "trusted": true,
        "execution": {
          "iopub.status.busy": "2025-08-19T10:14:47.490446Z",
          "iopub.execute_input": "2025-08-19T10:14:47.49081Z",
          "iopub.status.idle": "2025-08-19T10:14:47.501759Z",
          "shell.execute_reply.started": "2025-08-19T10:14:47.490787Z",
          "shell.execute_reply": "2025-08-19T10:14:47.500611Z"
        },
        "id": "tCeBEzNB8r9x"
      },
      "outputs": [],
      "execution_count": null
    },
    {
      "cell_type": "code",
      "source": [
        "df = collect_json_to_df(\"/kaggle/working/concat_speech\")"
      ],
      "metadata": {
        "trusted": true,
        "execution": {
          "iopub.status.busy": "2025-08-19T10:14:48.366029Z",
          "iopub.execute_input": "2025-08-19T10:14:48.366452Z",
          "iopub.status.idle": "2025-08-19T10:14:48.903093Z",
          "shell.execute_reply.started": "2025-08-19T10:14:48.366424Z",
          "shell.execute_reply": "2025-08-19T10:14:48.901436Z"
        },
        "id": "a78ClpHf8r9y"
      },
      "outputs": [],
      "execution_count": null
    },
    {
      "cell_type": "code",
      "source": [
        "import torch\n",
        "from torch.utils.data import Dataset\n",
        "import torchaudio\n",
        "\n",
        "def frame_wav(wav, frame_size, hop_size):\n",
        "    wav = wav.squeeze(0)  # (N,)\n",
        "    frames = wav.unfold(0, frame_size, hop_size)  # shape (num_frames, frame_size)\n",
        "    return frames\n",
        "\n",
        "def label_frames(num_frames, frame_size, hop_size, sr, annotations):\n",
        "    labels = torch.zeros(num_frames, dtype=torch.long)  # mặc định = 0\n",
        "\n",
        "    for _, row in annotations.iterrows():\n",
        "        start_sample = int(row['start'] * sr)\n",
        "        end_sample = int(row['end'] * sr)\n",
        "\n",
        "        # quy đổi sample về index frame\n",
        "        start_frame = max(0, (start_sample - frame_size) // hop_size + 1)\n",
        "        end_frame   = min(num_frames, end_sample // hop_size)\n",
        "\n",
        "        if row['label'] == 'active':\n",
        "            labels[start_frame:end_frame+1] = 1\n",
        "\n",
        "    return labels\n",
        "\n",
        "class DDSSDataset(Dataset):\n",
        "    def __init__(self, annotations_file, frame_size=400, hop_size=160, target_sr=16000, transform=None):\n",
        "        self.annotations_file = annotations_file\n",
        "        self.list_id = self.annotations_file['id'].unique()\n",
        "        self.frame_size = frame_size\n",
        "        self.hop_size = hop_size\n",
        "        self.target_sr = target_sr\n",
        "        self.transform = transform\n",
        "\n",
        "    def __len__(self):\n",
        "        return len(self.list_id)\n",
        "\n",
        "    def __getitem__(self, idx):\n",
        "        id_file = self.list_id[idx]\n",
        "        df_file = self.annotations_file[self.annotations_file['id'] == id_file]\n",
        "        audio_path = df_file['audio_path'].iloc[0]\n",
        "        wav, sr = torchaudio.load(audio_path)\n",
        "\n",
        "        # resample\n",
        "        if sr != self.target_sr:\n",
        "            resampler = torchaudio.transforms.Resample(sr, self.target_sr)\n",
        "            wav = resampler(wav)\n",
        "            sr = self.target_sr\n",
        "\n",
        "        # frame\n",
        "        frames = frame_wav(wav, self.frame_size, self.hop_size)\n",
        "\n",
        "        # label sequence\n",
        "        labels = label_frames(frames.shape[0], self.frame_size, self.hop_size, sr, df_file)\n",
        "\n",
        "        return wav, frames, labels"
      ],
      "metadata": {
        "trusted": true,
        "execution": {
          "iopub.status.busy": "2025-08-19T10:34:19.933308Z",
          "iopub.execute_input": "2025-08-19T10:34:19.933674Z",
          "iopub.status.idle": "2025-08-19T10:34:19.9475Z",
          "shell.execute_reply.started": "2025-08-19T10:34:19.933648Z",
          "shell.execute_reply": "2025-08-19T10:34:19.946096Z"
        },
        "id": "mdahNOPt8r9y"
      },
      "outputs": [],
      "execution_count": null
    },
    {
      "cell_type": "code",
      "source": [
        "import matplotlib.pyplot as plt\n",
        "import numpy as np\n",
        "\n",
        "def plot_wav_labels(wav, sr = 16000, labels, frame_size, hop_size):\n",
        "    \"\"\"\n",
        "    wav: tensor (1, N) hoặc (N,)\n",
        "    sr: sample rate\n",
        "    labels: tensor (num_frames,)\n",
        "    frame_size, hop_size: tham số framing\n",
        "    \"\"\"\n",
        "    if wav.ndim > 1:\n",
        "        wav = wav.squeeze(0)\n",
        "    wav = wav.numpy()\n",
        "\n",
        "    # time axis cho wav\n",
        "    time_axis = np.arange(len(wav)) / sr\n",
        "\n",
        "    # time axis cho labels (theo frame index)\n",
        "    frame_times = np.arange(len(labels)) * hop_size / sr\n",
        "\n",
        "    fig, ax = plt.subplots(figsize=(12, 4))\n",
        "\n",
        "    # vẽ waveform gốc\n",
        "    ax.plot(time_axis, wav, color=\"blue\", alpha=0.6, label=\"Waveform\")\n",
        "    ax.set_xlabel(\"Time (s)\")\n",
        "    ax.set_ylabel(\"Amplitude\", color=\"blue\")\n",
        "    ax.tick_params(axis=\"y\", labelcolor=\"blue\")\n",
        "\n",
        "    # vẽ nhãn (dạng step plot)\n",
        "    ax2 = ax.twinx()\n",
        "    ax2.step(frame_times, labels.numpy(), where=\"mid\", color=\"red\", label=\"Labels (0/1)\")\n",
        "    ax2.set_ylabel(\"Label\", color=\"red\")\n",
        "    ax2.set_ylim(-0.1, 1.1)\n",
        "    ax2.tick_params(axis=\"y\", labelcolor=\"red\")\n",
        "\n",
        "    plt.title(\"Waveform vs Frame-level Labels\")\n",
        "    plt.show()\n"
      ],
      "metadata": {
        "trusted": true,
        "execution": {
          "iopub.status.busy": "2025-08-19T10:35:53.980905Z",
          "iopub.execute_input": "2025-08-19T10:35:53.981351Z",
          "iopub.status.idle": "2025-08-19T10:35:53.994413Z",
          "shell.execute_reply.started": "2025-08-19T10:35:53.981321Z",
          "shell.execute_reply": "2025-08-19T10:35:53.99315Z"
        },
        "id": "Kec3PpDz8r9y"
      },
      "outputs": [],
      "execution_count": null
    },
    {
      "cell_type": "code",
      "source": [
        "import torch\n",
        "import torch.nn.functional as F\n",
        "\n",
        "def convert_labels(labels, new_num_frames):\n",
        "    \"\"\"\n",
        "    labels: tensor (old_num_frames,) với giá trị 0/1\n",
        "    new_num_frames: số frame mới mong muốn\n",
        "\n",
        "    Trả về: tensor (new_num_frames,)\n",
        "    \"\"\"\n",
        "    old_num_frames = len(labels)\n",
        "    labels = labels.float().unsqueeze(0).unsqueeze(0)  # (1, 1, old_num_frames)\n",
        "\n",
        "    # interpolate để match new_num_frames\n",
        "    new_labels = F.interpolate(labels, size=new_num_frames, mode=\"nearest\")\n",
        "    new_labels = new_labels.squeeze().long()  # (new_num_frames,)\n",
        "\n",
        "    return new_labels\n"
      ],
      "metadata": {
        "trusted": true,
        "id": "AwbOwqAb8r9z"
      },
      "outputs": [],
      "execution_count": null
    }
  ]
}
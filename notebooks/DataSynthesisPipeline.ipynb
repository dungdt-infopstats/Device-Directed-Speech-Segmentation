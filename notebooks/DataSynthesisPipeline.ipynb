{
  "nbformat": 4,
  "nbformat_minor": 0,
  "metadata": {
    "colab": {
      "provenance": [],
      "authorship_tag": "ABX9TyOSp4VviHzL6xddzTzBYRVi",
      "include_colab_link": true
    },
    "kernelspec": {
      "name": "python3",
      "display_name": "Python 3"
    },
    "language_info": {
      "name": "python"
    }
  },
  "cells": [
    {
      "cell_type": "markdown",
      "metadata": {
        "id": "view-in-github",
        "colab_type": "text"
      },
      "source": [
        "<a href=\"https://colab.research.google.com/github/10udCryp7/TV-command-synthesis/blob/main/notebooks/DataSynthesisPipeline.ipynb\" target=\"_parent\"><img src=\"https://colab.research.google.com/assets/colab-badge.svg\" alt=\"Open In Colab\"/></a>"
      ]
    },
    {
      "cell_type": "markdown",
      "source": [
        "# Text Synthesis"
      ],
      "metadata": {
        "id": "6qvIcRRn-hqd"
      }
    },
    {
      "cell_type": "code",
      "execution_count": 1,
      "metadata": {
        "colab": {
          "base_uri": "https://localhost:8080/",
          "height": 53
        },
        "id": "APwbceVx-cQt",
        "outputId": "f65cbe4c-9ede-4606-edbf-f0910f464349"
      },
      "outputs": [
        {
          "output_type": "execute_result",
          "data": {
            "text/plain": [
              "'\\nTODO:\\n- TV query generation: (single query, chain of dependent queries, chain of independent query) -> list\\n- Generate creative full command from query (human-like conversation, more objects)\\n'"
            ],
            "application/vnd.google.colaboratory.intrinsic+json": {
              "type": "string"
            }
          },
          "metadata": {},
          "execution_count": 1
        }
      ],
      "source": [
        "'''\n",
        "TODO:\n",
        "- TV query generation: (single query, chain of dependent queries, chain of independent query) -> list\n",
        "- Generate creative full command from query (human-like conversation, more objects)\n",
        "'''"
      ]
    },
    {
      "cell_type": "markdown",
      "source": [
        "## TV Commands"
      ],
      "metadata": {
        "id": "ThNMx7RrRo87"
      }
    },
    {
      "cell_type": "code",
      "source": [
        "tv_command_templates = [\n",
        "    # Power control\n",
        "    \"turn on the TV\",\n",
        "    \"turn off the TV\",\n",
        "    \"restart the TV\",\n",
        "    \"put the TV in sleep mode\",\n",
        "\n",
        "    # Volume control\n",
        "    \"increase the volume\",\n",
        "    \"increase the volume to [level]\",\n",
        "    \"decrease the volume\",\n",
        "    \"decrease the volume to [level]\",\n",
        "    \"set volume to [level]\",\n",
        "    \"mute the TV\",\n",
        "    \"unmute the TV\",\n",
        "    \"set the volume to maximum\",\n",
        "    \"set the volume to minimum\",\n",
        "\n",
        "    # Channel control\n",
        "    \"change the channel\",\n",
        "    \"next channel\",\n",
        "    \"previous channel\",\n",
        "    \"go to channel [channel number]\",\n",
        "    \"switch to channel [channel name]\",\n",
        "    \"show me [channel name]\",\n",
        "\n",
        "    # App control\n",
        "    \"open [app name]\",\n",
        "    \"launch [app name]\",\n",
        "    \"close [app name]\",\n",
        "    \"switch to [app name]\",\n",
        "    \"search on [app name] for [query]\",\n",
        "\n",
        "    # Media playback\n",
        "    \"play\",\n",
        "    \"pause\",\n",
        "    \"resume\",\n",
        "    \"stop\",\n",
        "    \"rewind\",\n",
        "    \"rewind [seconds] seconds\",\n",
        "    \"fast forward\",\n",
        "    \"fast forward [seconds] seconds\",\n",
        "    \"skip intro\",\n",
        "    \"skip to next episode\",\n",
        "    \"go back to previous episode\",\n",
        "\n",
        "    # Subtitles and language\n",
        "    \"turn on subtitles\",\n",
        "    \"turn off subtitles\",\n",
        "    \"change subtitle language to [language]\",\n",
        "    \"change audio language to [language]\",\n",
        "\n",
        "    # Input source\n",
        "    \"switch to [input source]\",\n",
        "    \"change input to [input source]\",\n",
        "    \"go to HDMI [number]\",\n",
        "    \"switch to AV mode\",\n",
        "\n",
        "    # Picture and audio settings\n",
        "    \"set brightness to [level]\",\n",
        "    \"set contrast to [level]\",\n",
        "    \"enable night mode\",\n",
        "    \"disable night mode\",\n",
        "    \"enable game mode\",\n",
        "    \"disable game mode\",\n",
        "    \"set picture mode to [mode name]\",\n",
        "    \"set sound mode to [mode name]\",\n",
        "\n",
        "    # Smart features\n",
        "    \"record this show\",\n",
        "    \"show the TV guide\",\n",
        "    \"what’s playing now\",\n",
        "    \"show me recommendations\",\n",
        "    \"add this to my watchlist\",\n",
        "    \"rate this show [rating]\",\n",
        "    \"enable sleep timer for [minutes] minutes\",\n",
        "    \"remind me when [show name] starts\",\n",
        "\n",
        "    # Navigation\n",
        "    \"go back to home screen\",\n",
        "    \"open settings\",\n",
        "    \"scroll up\",\n",
        "    \"scroll down\",\n",
        "    \"select this option\",\n",
        "]"
      ],
      "metadata": {
        "id": "ZAIyW5MwFcZX"
      },
      "execution_count": 2,
      "outputs": []
    },
    {
      "cell_type": "markdown",
      "source": [
        "## Content list"
      ],
      "metadata": {
        "id": "bgODJk2vRrzz"
      }
    },
    {
      "cell_type": "code",
      "source": [
        "# songs datasets\n",
        "import pandas as pd\n",
        "song_dataset = pd.read_csv(\"hf://datasets/vishnupriyavr/spotify-million-song-dataset/spotify_millsongdata.csv\")"
      ],
      "metadata": {
        "id": "pdDlfZkTQ02E"
      },
      "execution_count": 27,
      "outputs": []
    },
    {
      "cell_type": "code",
      "source": [
        "# movie datasets\n",
        "import pandas as pd\n",
        "\n",
        "movie_dataset = pd.read_csv(\"hf://datasets/Pablinho/movies-dataset/9000plus.csv\")"
      ],
      "metadata": {
        "id": "OpkBfdwBRudw"
      },
      "execution_count": 40,
      "outputs": []
    },
    {
      "cell_type": "code",
      "source": [
        "app_dataset = [\n",
        "    # 1. Video tổng hợp\n",
        "    \"YouTube\",\n",
        "    \"TikTok TV\",\n",
        "    \"Facebook Watch\",\n",
        "    \"Twitch\",\n",
        "    \"Dailymotion\",\n",
        "    \"Vimeo\",\n",
        "    \"Rumble\",\n",
        "    \"Bilibili\",\n",
        "    \"TED\",\n",
        "    \"Vevo TV\",\n",
        "\n",
        "    # 2. Xem phim/truyền hình\n",
        "    \"Netflix\",\n",
        "    \"Disney+\",\n",
        "    \"Amazon Prime Video\",\n",
        "    \"Apple TV+\",\n",
        "    \"HBO Max\",\n",
        "    \"Hulu\",\n",
        "    \"Paramount+\",\n",
        "    \"Peacock\",\n",
        "    \"Crunchyroll\",\n",
        "    \"Plex\",\n",
        "    \"Tubi TV\",\n",
        "    \"Pluto TV\",\n",
        "    \"Rakuten TV\",\n",
        "    \"Viki\",\n",
        "    \"Popcornflix\",\n",
        "\n",
        "    # 3. Nghe nhạc và radio\n",
        "    \"Spotify\",\n",
        "    \"Apple Music\",\n",
        "    \"YouTube Music\",\n",
        "    \"Amazon Music\",\n",
        "    \"Tidal\",\n",
        "    \"Deezer\",\n",
        "    \"Pandora\",\n",
        "    \"SoundCloud\",\n",
        "    \"iHeartRadio\",\n",
        "    \"TuneIn Radio\",\n",
        "\n",
        "    # 4. Truyền hình trực tiếp & thể thao\n",
        "    \"ESPN\",\n",
        "    \"DAZN\",\n",
        "    \"NBC Sports\",\n",
        "    \"CBS Sports\",\n",
        "    \"Red Bull TV\",\n",
        "    \"BBC iPlayer\",\n",
        "    \"ITVX\",\n",
        "    \"Sling TV\"\n",
        "]"
      ],
      "metadata": {
        "id": "autpeqOBa-oj"
      },
      "execution_count": 118,
      "outputs": []
    },
    {
      "cell_type": "markdown",
      "source": [
        "## Model and function"
      ],
      "metadata": {
        "id": "OIsWu1WJa_0w"
      }
    },
    {
      "cell_type": "code",
      "source": [
        "prompt_template = \"\"\"\n",
        "You are given the following:\n",
        "\n",
        "- A list of TV control commands: {command_list}\n",
        "- A content list that includes names of songs, TV shows, movies, apps, and artists: {content_list}\n",
        "\n",
        "Your task is to generate {generated_nums} human-like commands using the command list and the content list. The content list includes the prefix movies or artist-song to shows you their type, you should remove them when generate commands, also leverage them smartly for high human-like commands.\n",
        "Half of the commands should be **single commands**, and the other half should be **chain commands**. A chain command consists of multiple actions (up to a maximum of {chain_length} sub-commands) combined in a natural way.\n",
        "\n",
        "Be creative in your generation. You should use specific content from the content list—such as names of songs, movies, TV shows, or artists—instead of generic phrases like \"this song\" or \"that movie\".\n",
        "\n",
        "Each generated command should be as **realistic and unique** as possible.\n",
        "\n",
        "Return only the generated human-like commands in the **following JSON format** (use **double quotes** for all strings, and ensure the output is valid JSON):\n",
        "\n",
        "```json\n",
        "{{\n",
        "  \"single\": [\n",
        "    \"string\"\n",
        "  ],\n",
        "  \"chain\": [\n",
        "    {{\n",
        "      \"full_commands\": \"string\",\n",
        "      \"sub_commands\": [\"string\"]\n",
        "    }}\n",
        "  ]\n",
        "}}\n",
        "\"\"\"\n",
        "\n",
        "GENERATED_NUM = 20\n",
        "CHAIN_LENGTH = 3"
      ],
      "metadata": {
        "id": "Ydgsi8nRHF3Q"
      },
      "execution_count": 114,
      "outputs": []
    },
    {
      "cell_type": "code",
      "source": [
        "from openai import OpenAI\n",
        "import os\n",
        "from google.colab import userdata\n",
        "\n",
        "api_key = userdata.get('OPENAI_API_KEY')\n",
        "client = OpenAI(api_key = api_key)\n",
        "\n",
        "MODEL = 'gpt-4o-mini'\n",
        "TEMPERATURE = 0.8"
      ],
      "metadata": {
        "id": "gnsHMsJiM-j4"
      },
      "execution_count": 115,
      "outputs": []
    },
    {
      "cell_type": "code",
      "source": [
        "import random\n",
        "\n",
        "def content_sample(num_samples):\n",
        "  num_songs = num_samples//2\n",
        "  num_movies = num_samples - num_songs\n",
        "  song_sample = song_dataset.sample(num_songs).reset_index(drop = True)\n",
        "  movie_sample = movie_dataset.sample(num_movies).reset_index(drop = True)\n",
        "\n",
        "  song_list = [f\"artist: {song_sample.iloc[i]['artist']}- song: {song_sample.iloc[i]['song']}\" for i in range(num_songs)]\n",
        "  movie_list = [f\"movie: {movie_sample.iloc[i]['Title']}\" for i in range(num_movies)]\n",
        "  app_list = [f\"app: {app_dataset[i]}\" for i in range(len(app_dataset))]\n",
        "  return song_list, movie_list, app_list\n",
        "\n",
        "def command_sample(num_samples):\n",
        "  samples = random.sample(tv_command_templates, num_samples)\n",
        "  return samples\n",
        "\n",
        "def generate(command_list, content_list, generated_num = GENERATED_NUM, chain_length = CHAIN_LENGTH):\n",
        "  prompt = prompt_template.format(command_list=command_list, content_list = content_list, generated_nums=generated_num, chain_length=chain_length)\n",
        "  print(prompt)\n",
        "  response = client.responses.create(\n",
        "      model = MODEL,\n",
        "      input = prompt,\n",
        "      temperature = TEMPERATURE,\n",
        "  )\n",
        "\n",
        "  return response"
      ],
      "metadata": {
        "id": "AeeJ4QTNGUwO"
      },
      "execution_count": 126,
      "outputs": []
    },
    {
      "cell_type": "code",
      "source": [
        "command_list = command_sample(20)\n",
        "song_list, movie_list, app_list = content_sample(20)\n",
        "\n",
        "content_list = song_list + movie_list + app_list"
      ],
      "metadata": {
        "id": "qDVH8p4uIny-"
      },
      "execution_count": 127,
      "outputs": []
    },
    {
      "cell_type": "code",
      "source": [
        "response = generate(command_list, content_list)"
      ],
      "metadata": {
        "colab": {
          "base_uri": "https://localhost:8080/"
        },
        "id": "_tCLyY5RWfPP",
        "outputId": "cbbaae37-35bd-4ddc-83d7-22ccfcb755b8"
      },
      "execution_count": 128,
      "outputs": [
        {
          "output_type": "stream",
          "name": "stdout",
          "text": [
            "\n",
            "You are given the following:\n",
            "\n",
            "- A list of TV control commands: ['go to channel [channel number]', 'scroll down', 'switch to channel [channel name]', 'add this to my watchlist', 'set the volume to minimum', 'put the TV in sleep mode', 'skip intro', 'close [app name]', 'show me [channel name]', 'turn on the TV', 'disable game mode', 'disable night mode', 'search on [app name] for [query]', 'set volume to [level]', 'remind me when [show name] starts', 'change the channel', 'show the TV guide', 'scroll up', 'set the volume to maximum', 'mute the TV']\n",
            "- A content list that includes names of songs, TV shows, movies, apps, and artists: ['artist: The Monkees- song: Gonna Buy Me A Dog', 'artist: Spandau Ballet- song: Toys', 'artist: Leann Rimes- song: Sure Thing', 'artist: Rammstein- song: Wut Will Nicht Sterben (Rage Does Not Want To Die)', \"artist: Dean Martin- song: I'm Leaving It (all) Up To You\", \"artist: Celine Dion- song: It's All Coming Back To Me Now\", 'artist: Israel Houghton- song: Not Forgotten', 'artist: Radiohead- song: I Am Citizen Insane', \"artist: Christmas Songs- song: (It Must've Been Ol') Santa Claus\", 'artist: Kelly Clarkson- song: Cry', \"movie: My Boyfriend's Meds\", 'movie: Chocolate', 'movie: Maya the Bee: The Honey Games', 'movie: The Rover', 'movie: Elektra', 'movie: The First Purge', 'movie: Nappily Ever After', 'movie: Catacombs', 'movie: Fucking Different XXX', 'movie: Scooby-Doo! Moon Monster Madness', 'app: YouTube', 'app: TikTok TV', 'app: Facebook Watch', 'app: Twitch', 'app: Dailymotion', 'app: Vimeo', 'app: Rumble', 'app: Bilibili', 'app: TED', 'app: Vevo TV', 'app: Netflix', 'app: Disney+', 'app: Amazon Prime Video', 'app: Apple TV+', 'app: HBO Max', 'app: Hulu', 'app: Paramount+', 'app: Peacock', 'app: Crunchyroll', 'app: Plex', 'app: Tubi TV', 'app: Pluto TV', 'app: Rakuten TV', 'app: Viki', 'app: Popcornflix', 'app: Spotify', 'app: Apple Music', 'app: YouTube Music', 'app: Amazon Music', 'app: Tidal', 'app: Deezer', 'app: Pandora', 'app: SoundCloud', 'app: iHeartRadio', 'app: TuneIn Radio', 'app: ESPN', 'app: DAZN', 'app: NBC Sports', 'app: CBS Sports', 'app: Red Bull TV', 'app: BBC iPlayer', 'app: ITVX', 'app: Sling TV']\n",
            "\n",
            "Your task is to generate 20 human-like commands using the command list and the content list. The content list includes the prefix movies or artist-song to shows you their type, you should remove them when generate commands, also leverage them smartly for high human-like commands.\n",
            "Half of the commands should be **single commands**, and the other half should be **chain commands**. A chain command consists of multiple actions (up to a maximum of 3 sub-commands) combined in a natural way.\n",
            "\n",
            "Be creative in your generation. You should use specific content from the content list—such as names of songs, movies, TV shows, or artists—instead of generic phrases like \"this song\" or \"that movie\".\n",
            "\n",
            "Each generated command should be as **realistic and unique** as possible.\n",
            "\n",
            "Return only the generated human-like commands in the **following JSON format** (use **double quotes** for all strings, and ensure the output is valid JSON):\n",
            "\n",
            "```json\n",
            "{\n",
            "  \"single\": [\n",
            "    \"string\"\n",
            "  ],\n",
            "  \"chain\": [\n",
            "    {\n",
            "      \"full_commands\": \"string\",\n",
            "      \"sub_commands\": [\"string\"]\n",
            "    }\n",
            "  ]\n",
            "}\n",
            "\n"
          ]
        }
      ]
    },
    {
      "cell_type": "code",
      "source": [
        "raw_output = response.output[0].content[0].text\n",
        "\n",
        "import json\n",
        "import re\n",
        "\n",
        "def clean_json_string(raw_output):\n",
        "    # Bỏ phần ```json và ```\n",
        "    cleaned = re.sub(r\"^```json\\s*|\\s*```$\", \"\", raw_output.strip())\n",
        "    return cleaned\n",
        "\n",
        "def parse_generated_json(raw_output):\n",
        "    cleaned = clean_json_string(raw_output)\n",
        "    return json.loads(cleaned)\n",
        "\n",
        "# Example usage\n",
        "parsed_data = parse_generated_json(raw_output)\n",
        "parsed_data"
      ],
      "metadata": {
        "colab": {
          "base_uri": "https://localhost:8080/"
        },
        "id": "YcE1IG8mPFRa",
        "outputId": "ba654c3f-a608-41ca-f41a-8ceb2b7c9c1a"
      },
      "execution_count": 129,
      "outputs": [
        {
          "output_type": "execute_result",
          "data": {
            "text/plain": [
              "{'single': ['go to channel 45',\n",
              "  'show me YouTube',\n",
              "  'set the volume to maximum',\n",
              "  \"search on Netflix for My Boyfriend's Meds\",\n",
              "  'add this to my watchlist',\n",
              "  'mute the TV',\n",
              "  'turn on the TV',\n",
              "  'skip intro'],\n",
              " 'chain': [{'full_commands': 'put the TV in sleep mode after watching The Rover',\n",
              "   'sub_commands': ['show me The Rover', 'put the TV in sleep mode']},\n",
              "  {'full_commands': 'scroll down and remind me when Gonna Buy Me A Dog starts',\n",
              "   'sub_commands': ['scroll down',\n",
              "    'remind me when Gonna Buy Me A Dog starts']},\n",
              "  {'full_commands': 'switch to channel HBO Max and search for Cry',\n",
              "   'sub_commands': ['switch to channel HBO Max', 'search on HBO Max for Cry']},\n",
              "  {'full_commands': 'set the volume to minimum and disable game mode',\n",
              "   'sub_commands': ['set the volume to minimum', 'disable game mode']}]}"
            ]
          },
          "metadata": {},
          "execution_count": 129
        }
      ]
    },
    {
      "cell_type": "code",
      "source": [
        "dict"
      ],
      "metadata": {
        "colab": {
          "base_uri": "https://localhost:8080/"
        },
        "id": "DentQoKRPQhi",
        "outputId": "a3bb5f42-50ad-46e0-f7f9-2e280ecfba8b"
      },
      "execution_count": 74,
      "outputs": [
        {
          "output_type": "execute_result",
          "data": {
            "text/plain": [
              "{'single': [\"turn on the TV to watch 'Stranger Things'\",\n",
              "  \"increase the volume for the latest episode of 'The Crown'\",\n",
              "  'switch to channel 7 for the news',\n",
              "  'record this show so I can watch it later',\n",
              "  'enable sleep timer for 30 minutes',\n",
              "  \"change audio language to Spanish for 'Money Heist'\",\n",
              "  'decrease the volume to 10 for late-night viewing',\n",
              "  \"resume playing 'The Mandalorian' from where I left off\",\n",
              "  \"search on Netflix for 'The Witcher'\",\n",
              "  'put the TV in sleep mode after the movie ends'],\n",
              " 'chain': [{'full_commands': 'increase the volume and switch to channel 5',\n",
              "   'sub_commands': ['increase the volume', 'switch to channel 5']},\n",
              "  {'full_commands': 'turn off the TV after the episode finishes',\n",
              "   'sub_commands': ['turn off the TV']},\n",
              "  {'full_commands': 'enable night mode and decrease the volume to 5',\n",
              "   'sub_commands': ['enable night mode', 'decrease the volume to 5']},\n",
              "  {'full_commands': \"rewind 30 seconds and resume playing 'Game of Thrones'\",\n",
              "   'sub_commands': ['rewind 30 seconds', \"resume playing 'Game of Thrones'\"]},\n",
              "  {'full_commands': \"remind me when 'Breaking Bad' starts and switch to AMC\",\n",
              "   'sub_commands': [\"remind me when 'Breaking Bad' starts\", 'switch to AMC']},\n",
              "  {'full_commands': 'record this show and enable sleep timer for 60 minutes',\n",
              "   'sub_commands': ['record this show', 'enable sleep timer for 60 minutes']},\n",
              "  {'full_commands': 'skip intro and change subtitle language to French',\n",
              "   'sub_commands': ['skip intro', 'change subtitle language to French']},\n",
              "  {'full_commands': \"search on Hulu for 'The Office' and go to channel 3\",\n",
              "   'sub_commands': [\"search on Hulu for 'The Office'\", 'go to channel 3']},\n",
              "  {'full_commands': 'turn off the TV and set sound mode to movie',\n",
              "   'sub_commands': ['turn off the TV', 'set sound mode to movie']},\n",
              "  {'full_commands': 'rewind 15 seconds and change audio language to English',\n",
              "   'sub_commands': ['rewind 15 seconds', 'change audio language to English']}]}"
            ]
          },
          "metadata": {},
          "execution_count": 74
        }
      ]
    },
    {
      "cell_type": "code",
      "source": [
        "content_list"
      ],
      "metadata": {
        "colab": {
          "base_uri": "https://localhost:8080/"
        },
        "id": "ZDrKoo_zXCFY",
        "outputId": "04983bac-4d13-4a9d-e51d-4ad425c77f3c"
      },
      "execution_count": 76,
      "outputs": [
        {
          "output_type": "execute_result",
          "data": {
            "text/plain": [
              "['artist: Neil Diamond- song: New Orleans',\n",
              " 'artist: Cher- song: I Walk Alone',\n",
              " 'artist: Bing Crosby- song: And The Bells Rang',\n",
              " 'artist: Reba Mcentire- song: I Know How He Feels',\n",
              " 'artist: John McDermott- song: The Massacre Of Glencoe',\n",
              " 'artist: Nicki Minaj- song: Hard Lemonade',\n",
              " 'artist: Kim Wilde- song: Hypnotise',\n",
              " 'artist: Regine Velasquez- song: Hotstuff',\n",
              " \"artist: Christy Moore- song: Bridget's Pill\",\n",
              " 'artist: Bonnie Raitt- song: You Got To Know How',\n",
              " 'movie: Compadres',\n",
              " 'movie: Skins',\n",
              " 'movie: Capernaum',\n",
              " 'movie: The Last Castle',\n",
              " 'movie: Free Willy 2: The Adventure Home',\n",
              " 'movie: Days of Being Wild',\n",
              " 'movie: The Lift',\n",
              " 'movie: Unknown',\n",
              " 'movie: Dragon Ball: The Magic Begins',\n",
              " 'movie: Playing with Love']"
            ]
          },
          "metadata": {},
          "execution_count": 76
        }
      ]
    }
  ]
}
{
  "nbformat": 4,
  "nbformat_minor": 0,
  "metadata": {
    "colab": {
      "provenance": [],
      "gpuType": "T4",
      "authorship_tag": "ABX9TyOELxXKQfbs3KdAnj88cFxd",
      "include_colab_link": true
    },
    "kernelspec": {
      "name": "python3",
      "display_name": "Python 3"
    },
    "language_info": {
      "name": "python"
    },
    "accelerator": "GPU"
  },
  "cells": [
    {
      "cell_type": "markdown",
      "metadata": {
        "id": "view-in-github",
        "colab_type": "text"
      },
      "source": [
        "<a href=\"https://colab.research.google.com/github/10udCryp7/TV-command-synthesis/blob/main/notebooks/DataSynthesisPipeline.ipynb\" target=\"_parent\"><img src=\"https://colab.research.google.com/assets/colab-badge.svg\" alt=\"Open In Colab\"/></a>"
      ]
    },
    {
      "cell_type": "markdown",
      "source": [
        "# Text Synthesis"
      ],
      "metadata": {
        "id": "6qvIcRRn-hqd"
      }
    },
    {
      "cell_type": "code",
      "execution_count": 2,
      "metadata": {
        "colab": {
          "base_uri": "https://localhost:8080/",
          "height": 54
        },
        "id": "APwbceVx-cQt",
        "outputId": "8b57aa61-51b8-4ff3-cebb-9f08c3093b9d"
      },
      "outputs": [
        {
          "output_type": "execute_result",
          "data": {
            "text/plain": [
              "'\\nTODO:\\n- TV query generation: (single query, chain of dependent queries, chain of independent query) -> list\\n- Generate creative full command from query (human-like conversation, more objects)\\n'"
            ],
            "application/vnd.google.colaboratory.intrinsic+json": {
              "type": "string"
            }
          },
          "metadata": {},
          "execution_count": 2
        }
      ],
      "source": [
        "'''\n",
        "TODO:\n",
        "- TV query generation: (single query, chain of dependent queries, chain of independent query) -> list\n",
        "- Generate creative full command from query (human-like conversation, more objects)\n",
        "'''"
      ]
    },
    {
      "cell_type": "code",
      "source": [
        "!pip install f5-tts"
      ],
      "metadata": {
        "colab": {
          "base_uri": "https://localhost:8080/",
          "height": 1000
        },
        "id": "fKASAG5GvxlO",
        "outputId": "cd64aea3-2f07-4479-81d2-ae213ea43220"
      },
      "execution_count": 3,
      "outputs": [
        {
          "output_type": "stream",
          "name": "stdout",
          "text": [
            "Collecting f5-tts\n",
            "  Downloading f5_tts-1.1.7-py3-none-any.whl.metadata (10 kB)\n",
            "Requirement already satisfied: accelerate>=0.33.0 in /usr/local/lib/python3.11/dist-packages (from f5-tts) (1.9.0)\n",
            "Collecting bitsandbytes>0.37.0 (from f5-tts)\n",
            "  Downloading bitsandbytes-0.46.1-py3-none-manylinux_2_24_x86_64.whl.metadata (10 kB)\n",
            "Collecting cached_path (from f5-tts)\n",
            "  Downloading cached_path-1.7.3-py3-none-any.whl.metadata (19 kB)\n",
            "Requirement already satisfied: click in /usr/local/lib/python3.11/dist-packages (from f5-tts) (8.2.1)\n",
            "Requirement already satisfied: datasets in /usr/local/lib/python3.11/dist-packages (from f5-tts) (4.0.0)\n",
            "Collecting ema_pytorch>=0.5.2 (from f5-tts)\n",
            "  Downloading ema_pytorch-0.7.7-py3-none-any.whl.metadata (689 bytes)\n",
            "Collecting gradio<=5.35.0 (from f5-tts)\n",
            "  Downloading gradio-5.35.0-py3-none-any.whl.metadata (16 kB)\n",
            "Collecting hydra-core>=1.3.0 (from f5-tts)\n",
            "  Downloading hydra_core-1.3.2-py3-none-any.whl.metadata (5.5 kB)\n",
            "Requirement already satisfied: jieba in /usr/local/lib/python3.11/dist-packages (from f5-tts) (0.42.1)\n",
            "Requirement already satisfied: librosa in /usr/local/lib/python3.11/dist-packages (from f5-tts) (0.11.0)\n",
            "Requirement already satisfied: matplotlib in /usr/local/lib/python3.11/dist-packages (from f5-tts) (3.10.0)\n",
            "Collecting numpy<=1.26.4 (from f5-tts)\n",
            "  Downloading numpy-1.26.4-cp311-cp311-manylinux_2_17_x86_64.manylinux2014_x86_64.whl.metadata (61 kB)\n",
            "\u001b[2K     \u001b[90m━━━━━━━━━━━━━━━━━━━━━━━━━━━━━━━━━━━━━━━━\u001b[0m \u001b[32m61.0/61.0 kB\u001b[0m \u001b[31m5.2 MB/s\u001b[0m eta \u001b[36m0:00:00\u001b[0m\n",
            "\u001b[?25hCollecting pydantic<=2.10.6 (from f5-tts)\n",
            "  Downloading pydantic-2.10.6-py3-none-any.whl.metadata (30 kB)\n",
            "Requirement already satisfied: pydub in /usr/local/lib/python3.11/dist-packages (from f5-tts) (0.25.1)\n",
            "Collecting pypinyin (from f5-tts)\n",
            "  Downloading pypinyin-0.55.0-py2.py3-none-any.whl.metadata (12 kB)\n",
            "Requirement already satisfied: safetensors in /usr/local/lib/python3.11/dist-packages (from f5-tts) (0.5.3)\n",
            "Requirement already satisfied: soundfile in /usr/local/lib/python3.11/dist-packages (from f5-tts) (0.13.1)\n",
            "Collecting tomli (from f5-tts)\n",
            "  Downloading tomli-2.2.1-cp311-cp311-manylinux_2_17_x86_64.manylinux2014_x86_64.whl.metadata (11 kB)\n",
            "Requirement already satisfied: torch>=2.0.0 in /usr/local/lib/python3.11/dist-packages (from f5-tts) (2.6.0+cu124)\n",
            "Requirement already satisfied: torchaudio>=2.0.0 in /usr/local/lib/python3.11/dist-packages (from f5-tts) (2.6.0+cu124)\n",
            "Collecting torchdiffeq (from f5-tts)\n",
            "  Downloading torchdiffeq-0.2.5-py3-none-any.whl.metadata (440 bytes)\n",
            "Requirement already satisfied: tqdm>=4.65.0 in /usr/local/lib/python3.11/dist-packages (from f5-tts) (4.67.1)\n",
            "Requirement already satisfied: transformers in /usr/local/lib/python3.11/dist-packages (from f5-tts) (4.54.0)\n",
            "Collecting transformers_stream_generator (from f5-tts)\n",
            "  Downloading transformers-stream-generator-0.0.5.tar.gz (13 kB)\n",
            "  Preparing metadata (setup.py) ... \u001b[?25l\u001b[?25hdone\n",
            "Collecting unidecode (from f5-tts)\n",
            "  Downloading Unidecode-1.4.0-py3-none-any.whl.metadata (13 kB)\n",
            "Collecting vocos (from f5-tts)\n",
            "  Downloading vocos-0.1.0-py3-none-any.whl.metadata (4.8 kB)\n",
            "Requirement already satisfied: wandb in /usr/local/lib/python3.11/dist-packages (from f5-tts) (0.21.0)\n",
            "Collecting x_transformers>=1.31.14 (from f5-tts)\n",
            "  Downloading x_transformers-2.5.6-py3-none-any.whl.metadata (90 kB)\n",
            "\u001b[2K     \u001b[90m━━━━━━━━━━━━━━━━━━━━━━━━━━━━━━━━━━━━━━━━\u001b[0m \u001b[32m90.2/90.2 kB\u001b[0m \u001b[31m7.9 MB/s\u001b[0m eta \u001b[36m0:00:00\u001b[0m\n",
            "\u001b[?25hRequirement already satisfied: packaging>=20.0 in /usr/local/lib/python3.11/dist-packages (from accelerate>=0.33.0->f5-tts) (25.0)\n",
            "Requirement already satisfied: psutil in /usr/local/lib/python3.11/dist-packages (from accelerate>=0.33.0->f5-tts) (5.9.5)\n",
            "Requirement already satisfied: pyyaml in /usr/local/lib/python3.11/dist-packages (from accelerate>=0.33.0->f5-tts) (6.0.2)\n",
            "Requirement already satisfied: huggingface_hub>=0.21.0 in /usr/local/lib/python3.11/dist-packages (from accelerate>=0.33.0->f5-tts) (0.34.1)\n",
            "Requirement already satisfied: aiofiles<25.0,>=22.0 in /usr/local/lib/python3.11/dist-packages (from gradio<=5.35.0->f5-tts) (24.1.0)\n",
            "Requirement already satisfied: anyio<5.0,>=3.0 in /usr/local/lib/python3.11/dist-packages (from gradio<=5.35.0->f5-tts) (4.9.0)\n",
            "Requirement already satisfied: fastapi<1.0,>=0.115.2 in /usr/local/lib/python3.11/dist-packages (from gradio<=5.35.0->f5-tts) (0.116.1)\n",
            "Requirement already satisfied: ffmpy in /usr/local/lib/python3.11/dist-packages (from gradio<=5.35.0->f5-tts) (0.6.1)\n",
            "Collecting gradio-client==1.10.4 (from gradio<=5.35.0->f5-tts)\n",
            "  Downloading gradio_client-1.10.4-py3-none-any.whl.metadata (7.1 kB)\n",
            "Requirement already satisfied: groovy~=0.1 in /usr/local/lib/python3.11/dist-packages (from gradio<=5.35.0->f5-tts) (0.1.2)\n",
            "Requirement already satisfied: httpx>=0.24.1 in /usr/local/lib/python3.11/dist-packages (from gradio<=5.35.0->f5-tts) (0.28.1)\n",
            "Requirement already satisfied: jinja2<4.0 in /usr/local/lib/python3.11/dist-packages (from gradio<=5.35.0->f5-tts) (3.1.6)\n",
            "Requirement already satisfied: markupsafe<4.0,>=2.0 in /usr/local/lib/python3.11/dist-packages (from gradio<=5.35.0->f5-tts) (3.0.2)\n",
            "Requirement already satisfied: orjson~=3.0 in /usr/local/lib/python3.11/dist-packages (from gradio<=5.35.0->f5-tts) (3.11.1)\n",
            "Requirement already satisfied: pandas<3.0,>=1.0 in /usr/local/lib/python3.11/dist-packages (from gradio<=5.35.0->f5-tts) (2.2.2)\n",
            "Requirement already satisfied: pillow<12.0,>=8.0 in /usr/local/lib/python3.11/dist-packages (from gradio<=5.35.0->f5-tts) (11.3.0)\n",
            "Requirement already satisfied: python-multipart>=0.0.18 in /usr/local/lib/python3.11/dist-packages (from gradio<=5.35.0->f5-tts) (0.0.20)\n",
            "Requirement already satisfied: ruff>=0.9.3 in /usr/local/lib/python3.11/dist-packages (from gradio<=5.35.0->f5-tts) (0.12.5)\n",
            "Requirement already satisfied: safehttpx<0.2.0,>=0.1.6 in /usr/local/lib/python3.11/dist-packages (from gradio<=5.35.0->f5-tts) (0.1.6)\n",
            "Requirement already satisfied: semantic-version~=2.0 in /usr/local/lib/python3.11/dist-packages (from gradio<=5.35.0->f5-tts) (2.10.0)\n",
            "Requirement already satisfied: starlette<1.0,>=0.40.0 in /usr/local/lib/python3.11/dist-packages (from gradio<=5.35.0->f5-tts) (0.47.2)\n",
            "Requirement already satisfied: tomlkit<0.14.0,>=0.12.0 in /usr/local/lib/python3.11/dist-packages (from gradio<=5.35.0->f5-tts) (0.13.3)\n",
            "Requirement already satisfied: typer<1.0,>=0.12 in /usr/local/lib/python3.11/dist-packages (from gradio<=5.35.0->f5-tts) (0.16.0)\n",
            "Requirement already satisfied: typing-extensions~=4.0 in /usr/local/lib/python3.11/dist-packages (from gradio<=5.35.0->f5-tts) (4.14.1)\n",
            "Requirement already satisfied: uvicorn>=0.14.0 in /usr/local/lib/python3.11/dist-packages (from gradio<=5.35.0->f5-tts) (0.35.0)\n",
            "Requirement already satisfied: fsspec in /usr/local/lib/python3.11/dist-packages (from gradio-client==1.10.4->gradio<=5.35.0->f5-tts) (2025.3.0)\n",
            "Requirement already satisfied: websockets<16.0,>=10.0 in /usr/local/lib/python3.11/dist-packages (from gradio-client==1.10.4->gradio<=5.35.0->f5-tts) (15.0.1)\n",
            "Requirement already satisfied: omegaconf<2.4,>=2.2 in /usr/local/lib/python3.11/dist-packages (from hydra-core>=1.3.0->f5-tts) (2.3.0)\n",
            "Requirement already satisfied: antlr4-python3-runtime==4.9.* in /usr/local/lib/python3.11/dist-packages (from hydra-core>=1.3.0->f5-tts) (4.9.3)\n",
            "Requirement already satisfied: annotated-types>=0.6.0 in /usr/local/lib/python3.11/dist-packages (from pydantic<=2.10.6->f5-tts) (0.7.0)\n",
            "Collecting pydantic-core==2.27.2 (from pydantic<=2.10.6->f5-tts)\n",
            "  Downloading pydantic_core-2.27.2-cp311-cp311-manylinux_2_17_x86_64.manylinux2014_x86_64.whl.metadata (6.6 kB)\n",
            "Requirement already satisfied: filelock in /usr/local/lib/python3.11/dist-packages (from torch>=2.0.0->f5-tts) (3.18.0)\n",
            "Requirement already satisfied: networkx in /usr/local/lib/python3.11/dist-packages (from torch>=2.0.0->f5-tts) (3.5)\n",
            "Collecting nvidia-cuda-nvrtc-cu12==12.4.127 (from torch>=2.0.0->f5-tts)\n",
            "  Downloading nvidia_cuda_nvrtc_cu12-12.4.127-py3-none-manylinux2014_x86_64.whl.metadata (1.5 kB)\n",
            "Collecting nvidia-cuda-runtime-cu12==12.4.127 (from torch>=2.0.0->f5-tts)\n",
            "  Downloading nvidia_cuda_runtime_cu12-12.4.127-py3-none-manylinux2014_x86_64.whl.metadata (1.5 kB)\n",
            "Collecting nvidia-cuda-cupti-cu12==12.4.127 (from torch>=2.0.0->f5-tts)\n",
            "  Downloading nvidia_cuda_cupti_cu12-12.4.127-py3-none-manylinux2014_x86_64.whl.metadata (1.6 kB)\n",
            "Collecting nvidia-cudnn-cu12==9.1.0.70 (from torch>=2.0.0->f5-tts)\n",
            "  Downloading nvidia_cudnn_cu12-9.1.0.70-py3-none-manylinux2014_x86_64.whl.metadata (1.6 kB)\n",
            "Collecting nvidia-cublas-cu12==12.4.5.8 (from torch>=2.0.0->f5-tts)\n",
            "  Downloading nvidia_cublas_cu12-12.4.5.8-py3-none-manylinux2014_x86_64.whl.metadata (1.5 kB)\n",
            "Collecting nvidia-cufft-cu12==11.2.1.3 (from torch>=2.0.0->f5-tts)\n",
            "  Downloading nvidia_cufft_cu12-11.2.1.3-py3-none-manylinux2014_x86_64.whl.metadata (1.5 kB)\n",
            "Collecting nvidia-curand-cu12==10.3.5.147 (from torch>=2.0.0->f5-tts)\n",
            "  Downloading nvidia_curand_cu12-10.3.5.147-py3-none-manylinux2014_x86_64.whl.metadata (1.5 kB)\n",
            "Collecting nvidia-cusolver-cu12==11.6.1.9 (from torch>=2.0.0->f5-tts)\n",
            "  Downloading nvidia_cusolver_cu12-11.6.1.9-py3-none-manylinux2014_x86_64.whl.metadata (1.6 kB)\n",
            "Collecting nvidia-cusparse-cu12==12.3.1.170 (from torch>=2.0.0->f5-tts)\n",
            "  Downloading nvidia_cusparse_cu12-12.3.1.170-py3-none-manylinux2014_x86_64.whl.metadata (1.6 kB)\n",
            "Requirement already satisfied: nvidia-cusparselt-cu12==0.6.2 in /usr/local/lib/python3.11/dist-packages (from torch>=2.0.0->f5-tts) (0.6.2)\n",
            "Requirement already satisfied: nvidia-nccl-cu12==2.21.5 in /usr/local/lib/python3.11/dist-packages (from torch>=2.0.0->f5-tts) (2.21.5)\n",
            "Requirement already satisfied: nvidia-nvtx-cu12==12.4.127 in /usr/local/lib/python3.11/dist-packages (from torch>=2.0.0->f5-tts) (12.4.127)\n",
            "Collecting nvidia-nvjitlink-cu12==12.4.127 (from torch>=2.0.0->f5-tts)\n",
            "  Downloading nvidia_nvjitlink_cu12-12.4.127-py3-none-manylinux2014_x86_64.whl.metadata (1.5 kB)\n",
            "Requirement already satisfied: triton==3.2.0 in /usr/local/lib/python3.11/dist-packages (from torch>=2.0.0->f5-tts) (3.2.0)\n",
            "Requirement already satisfied: sympy==1.13.1 in /usr/local/lib/python3.11/dist-packages (from torch>=2.0.0->f5-tts) (1.13.1)\n",
            "Requirement already satisfied: mpmath<1.4,>=1.1.0 in /usr/local/lib/python3.11/dist-packages (from sympy==1.13.1->torch>=2.0.0->f5-tts) (1.3.0)\n",
            "Requirement already satisfied: einops>=0.8.0 in /usr/local/lib/python3.11/dist-packages (from x_transformers>=1.31.14->f5-tts) (0.8.1)\n",
            "Collecting einx>=0.3.0 (from x_transformers>=1.31.14->f5-tts)\n",
            "  Downloading einx-0.3.0-py3-none-any.whl.metadata (6.9 kB)\n",
            "Collecting loguru (from x_transformers>=1.31.14->f5-tts)\n",
            "  Downloading loguru-0.7.3-py3-none-any.whl.metadata (22 kB)\n",
            "Requirement already satisfied: requests in /usr/local/lib/python3.11/dist-packages (from cached_path->f5-tts) (2.32.3)\n",
            "Requirement already satisfied: rich<14.0,>=12.1 in /usr/local/lib/python3.11/dist-packages (from cached_path->f5-tts) (13.9.4)\n",
            "Collecting boto3<2.0,>=1.0 (from cached_path->f5-tts)\n",
            "  Downloading boto3-1.39.17-py3-none-any.whl.metadata (6.7 kB)\n",
            "Requirement already satisfied: google-cloud-storage<3.0,>=1.32.0 in /usr/local/lib/python3.11/dist-packages (from cached_path->f5-tts) (2.19.0)\n",
            "Requirement already satisfied: pyarrow>=15.0.0 in /usr/local/lib/python3.11/dist-packages (from datasets->f5-tts) (18.1.0)\n",
            "Requirement already satisfied: dill<0.3.9,>=0.3.0 in /usr/local/lib/python3.11/dist-packages (from datasets->f5-tts) (0.3.8)\n",
            "Requirement already satisfied: xxhash in /usr/local/lib/python3.11/dist-packages (from datasets->f5-tts) (3.5.0)\n",
            "Requirement already satisfied: multiprocess<0.70.17 in /usr/local/lib/python3.11/dist-packages (from datasets->f5-tts) (0.70.16)\n",
            "Requirement already satisfied: audioread>=2.1.9 in /usr/local/lib/python3.11/dist-packages (from librosa->f5-tts) (3.0.1)\n",
            "Requirement already satisfied: numba>=0.51.0 in /usr/local/lib/python3.11/dist-packages (from librosa->f5-tts) (0.60.0)\n",
            "Requirement already satisfied: scipy>=1.6.0 in /usr/local/lib/python3.11/dist-packages (from librosa->f5-tts) (1.16.0)\n",
            "Requirement already satisfied: scikit-learn>=1.1.0 in /usr/local/lib/python3.11/dist-packages (from librosa->f5-tts) (1.6.1)\n",
            "Requirement already satisfied: joblib>=1.0 in /usr/local/lib/python3.11/dist-packages (from librosa->f5-tts) (1.5.1)\n",
            "Requirement already satisfied: decorator>=4.3.0 in /usr/local/lib/python3.11/dist-packages (from librosa->f5-tts) (4.4.2)\n",
            "Requirement already satisfied: pooch>=1.1 in /usr/local/lib/python3.11/dist-packages (from librosa->f5-tts) (1.8.2)\n",
            "Requirement already satisfied: soxr>=0.3.2 in /usr/local/lib/python3.11/dist-packages (from librosa->f5-tts) (0.5.0.post1)\n",
            "Requirement already satisfied: lazy_loader>=0.1 in /usr/local/lib/python3.11/dist-packages (from librosa->f5-tts) (0.4)\n",
            "Requirement already satisfied: msgpack>=1.0 in /usr/local/lib/python3.11/dist-packages (from librosa->f5-tts) (1.1.1)\n",
            "Requirement already satisfied: cffi>=1.0 in /usr/local/lib/python3.11/dist-packages (from soundfile->f5-tts) (1.17.1)\n",
            "Requirement already satisfied: contourpy>=1.0.1 in /usr/local/lib/python3.11/dist-packages (from matplotlib->f5-tts) (1.3.2)\n",
            "Requirement already satisfied: cycler>=0.10 in /usr/local/lib/python3.11/dist-packages (from matplotlib->f5-tts) (0.12.1)\n",
            "Requirement already satisfied: fonttools>=4.22.0 in /usr/local/lib/python3.11/dist-packages (from matplotlib->f5-tts) (4.59.0)\n",
            "Requirement already satisfied: kiwisolver>=1.3.1 in /usr/local/lib/python3.11/dist-packages (from matplotlib->f5-tts) (1.4.8)\n",
            "Requirement already satisfied: pyparsing>=2.3.1 in /usr/local/lib/python3.11/dist-packages (from matplotlib->f5-tts) (3.2.3)\n",
            "Requirement already satisfied: python-dateutil>=2.7 in /usr/local/lib/python3.11/dist-packages (from matplotlib->f5-tts) (2.9.0.post0)\n",
            "Requirement already satisfied: regex!=2019.12.17 in /usr/local/lib/python3.11/dist-packages (from transformers->f5-tts) (2024.11.6)\n",
            "Requirement already satisfied: tokenizers<0.22,>=0.21 in /usr/local/lib/python3.11/dist-packages (from transformers->f5-tts) (0.21.2)\n",
            "Collecting encodec==0.1.1 (from vocos->f5-tts)\n",
            "  Downloading encodec-0.1.1.tar.gz (3.7 MB)\n",
            "\u001b[2K     \u001b[90m━━━━━━━━━━━━━━━━━━━━━━━━━━━━━━━━━━━━━━━━\u001b[0m \u001b[32m3.7/3.7 MB\u001b[0m \u001b[31m36.3 MB/s\u001b[0m eta \u001b[36m0:00:00\u001b[0m\n",
            "\u001b[?25h  Preparing metadata (setup.py) ... \u001b[?25l\u001b[?25hdone\n",
            "Requirement already satisfied: gitpython!=3.1.29,>=1.0.0 in /usr/local/lib/python3.11/dist-packages (from wandb->f5-tts) (3.1.45)\n",
            "Requirement already satisfied: platformdirs in /usr/local/lib/python3.11/dist-packages (from wandb->f5-tts) (4.3.8)\n",
            "Requirement already satisfied: protobuf!=4.21.0,!=5.28.0,<7,>=3.19.0 in /usr/local/lib/python3.11/dist-packages (from wandb->f5-tts) (5.29.5)\n",
            "Requirement already satisfied: sentry-sdk>=2.0.0 in /usr/local/lib/python3.11/dist-packages (from wandb->f5-tts) (2.33.2)\n",
            "Requirement already satisfied: idna>=2.8 in /usr/local/lib/python3.11/dist-packages (from anyio<5.0,>=3.0->gradio<=5.35.0->f5-tts) (3.10)\n",
            "Requirement already satisfied: sniffio>=1.1 in /usr/local/lib/python3.11/dist-packages (from anyio<5.0,>=3.0->gradio<=5.35.0->f5-tts) (1.3.1)\n",
            "Collecting botocore<1.40.0,>=1.39.17 (from boto3<2.0,>=1.0->cached_path->f5-tts)\n",
            "  Downloading botocore-1.39.17-py3-none-any.whl.metadata (5.7 kB)\n",
            "Collecting jmespath<2.0.0,>=0.7.1 (from boto3<2.0,>=1.0->cached_path->f5-tts)\n",
            "  Downloading jmespath-1.0.1-py3-none-any.whl.metadata (7.6 kB)\n",
            "Collecting s3transfer<0.14.0,>=0.13.0 (from boto3<2.0,>=1.0->cached_path->f5-tts)\n",
            "  Downloading s3transfer-0.13.1-py3-none-any.whl.metadata (1.7 kB)\n",
            "Requirement already satisfied: pycparser in /usr/local/lib/python3.11/dist-packages (from cffi>=1.0->soundfile->f5-tts) (2.22)\n",
            "Requirement already satisfied: frozendict in /usr/local/lib/python3.11/dist-packages (from einx>=0.3.0->x_transformers>=1.31.14->f5-tts) (2.4.6)\n",
            "Requirement already satisfied: aiohttp!=4.0.0a0,!=4.0.0a1 in /usr/local/lib/python3.11/dist-packages (from fsspec[http]<=2025.3.0,>=2023.1.0->datasets->f5-tts) (3.12.14)\n",
            "Requirement already satisfied: gitdb<5,>=4.0.1 in /usr/local/lib/python3.11/dist-packages (from gitpython!=3.1.29,>=1.0.0->wandb->f5-tts) (4.0.12)\n",
            "Requirement already satisfied: google-auth<3.0dev,>=2.26.1 in /usr/local/lib/python3.11/dist-packages (from google-cloud-storage<3.0,>=1.32.0->cached_path->f5-tts) (2.38.0)\n",
            "Requirement already satisfied: google-api-core<3.0.0dev,>=2.15.0 in /usr/local/lib/python3.11/dist-packages (from google-cloud-storage<3.0,>=1.32.0->cached_path->f5-tts) (2.25.1)\n",
            "Requirement already satisfied: google-cloud-core<3.0dev,>=2.3.0 in /usr/local/lib/python3.11/dist-packages (from google-cloud-storage<3.0,>=1.32.0->cached_path->f5-tts) (2.4.3)\n",
            "Requirement already satisfied: google-resumable-media>=2.7.2 in /usr/local/lib/python3.11/dist-packages (from google-cloud-storage<3.0,>=1.32.0->cached_path->f5-tts) (2.7.2)\n",
            "Requirement already satisfied: google-crc32c<2.0dev,>=1.0 in /usr/local/lib/python3.11/dist-packages (from google-cloud-storage<3.0,>=1.32.0->cached_path->f5-tts) (1.7.1)\n",
            "Requirement already satisfied: certifi in /usr/local/lib/python3.11/dist-packages (from httpx>=0.24.1->gradio<=5.35.0->f5-tts) (2025.7.14)\n",
            "Requirement already satisfied: httpcore==1.* in /usr/local/lib/python3.11/dist-packages (from httpx>=0.24.1->gradio<=5.35.0->f5-tts) (1.0.9)\n",
            "Requirement already satisfied: h11>=0.16 in /usr/local/lib/python3.11/dist-packages (from httpcore==1.*->httpx>=0.24.1->gradio<=5.35.0->f5-tts) (0.16.0)\n",
            "Requirement already satisfied: hf-xet<2.0.0,>=1.1.3 in /usr/local/lib/python3.11/dist-packages (from huggingface_hub>=0.21.0->accelerate>=0.33.0->f5-tts) (1.1.5)\n",
            "Requirement already satisfied: llvmlite<0.44,>=0.43.0dev0 in /usr/local/lib/python3.11/dist-packages (from numba>=0.51.0->librosa->f5-tts) (0.43.0)\n",
            "Requirement already satisfied: pytz>=2020.1 in /usr/local/lib/python3.11/dist-packages (from pandas<3.0,>=1.0->gradio<=5.35.0->f5-tts) (2025.2)\n",
            "Requirement already satisfied: tzdata>=2022.7 in /usr/local/lib/python3.11/dist-packages (from pandas<3.0,>=1.0->gradio<=5.35.0->f5-tts) (2025.2)\n",
            "Requirement already satisfied: six>=1.5 in /usr/local/lib/python3.11/dist-packages (from python-dateutil>=2.7->matplotlib->f5-tts) (1.17.0)\n",
            "Requirement already satisfied: charset-normalizer<4,>=2 in /usr/local/lib/python3.11/dist-packages (from requests->cached_path->f5-tts) (3.4.2)\n",
            "Requirement already satisfied: urllib3<3,>=1.21.1 in /usr/local/lib/python3.11/dist-packages (from requests->cached_path->f5-tts) (2.5.0)\n",
            "Requirement already satisfied: markdown-it-py>=2.2.0 in /usr/local/lib/python3.11/dist-packages (from rich<14.0,>=12.1->cached_path->f5-tts) (3.0.0)\n",
            "Requirement already satisfied: pygments<3.0.0,>=2.13.0 in /usr/local/lib/python3.11/dist-packages (from rich<14.0,>=12.1->cached_path->f5-tts) (2.19.2)\n",
            "Requirement already satisfied: threadpoolctl>=3.1.0 in /usr/local/lib/python3.11/dist-packages (from scikit-learn>=1.1.0->librosa->f5-tts) (3.6.0)\n",
            "Requirement already satisfied: shellingham>=1.3.0 in /usr/local/lib/python3.11/dist-packages (from typer<1.0,>=0.12->gradio<=5.35.0->f5-tts) (1.5.4)\n",
            "Requirement already satisfied: aiohappyeyeballs>=2.5.0 in /usr/local/lib/python3.11/dist-packages (from aiohttp!=4.0.0a0,!=4.0.0a1->fsspec[http]<=2025.3.0,>=2023.1.0->datasets->f5-tts) (2.6.1)\n",
            "Requirement already satisfied: aiosignal>=1.4.0 in /usr/local/lib/python3.11/dist-packages (from aiohttp!=4.0.0a0,!=4.0.0a1->fsspec[http]<=2025.3.0,>=2023.1.0->datasets->f5-tts) (1.4.0)\n",
            "Requirement already satisfied: attrs>=17.3.0 in /usr/local/lib/python3.11/dist-packages (from aiohttp!=4.0.0a0,!=4.0.0a1->fsspec[http]<=2025.3.0,>=2023.1.0->datasets->f5-tts) (25.3.0)\n",
            "Requirement already satisfied: frozenlist>=1.1.1 in /usr/local/lib/python3.11/dist-packages (from aiohttp!=4.0.0a0,!=4.0.0a1->fsspec[http]<=2025.3.0,>=2023.1.0->datasets->f5-tts) (1.7.0)\n",
            "Requirement already satisfied: multidict<7.0,>=4.5 in /usr/local/lib/python3.11/dist-packages (from aiohttp!=4.0.0a0,!=4.0.0a1->fsspec[http]<=2025.3.0,>=2023.1.0->datasets->f5-tts) (6.6.3)\n",
            "Requirement already satisfied: propcache>=0.2.0 in /usr/local/lib/python3.11/dist-packages (from aiohttp!=4.0.0a0,!=4.0.0a1->fsspec[http]<=2025.3.0,>=2023.1.0->datasets->f5-tts) (0.3.2)\n",
            "Requirement already satisfied: yarl<2.0,>=1.17.0 in /usr/local/lib/python3.11/dist-packages (from aiohttp!=4.0.0a0,!=4.0.0a1->fsspec[http]<=2025.3.0,>=2023.1.0->datasets->f5-tts) (1.20.1)\n",
            "Requirement already satisfied: smmap<6,>=3.0.1 in /usr/local/lib/python3.11/dist-packages (from gitdb<5,>=4.0.1->gitpython!=3.1.29,>=1.0.0->wandb->f5-tts) (5.0.2)\n",
            "Requirement already satisfied: googleapis-common-protos<2.0.0,>=1.56.2 in /usr/local/lib/python3.11/dist-packages (from google-api-core<3.0.0dev,>=2.15.0->google-cloud-storage<3.0,>=1.32.0->cached_path->f5-tts) (1.70.0)\n",
            "Requirement already satisfied: proto-plus<2.0.0,>=1.22.3 in /usr/local/lib/python3.11/dist-packages (from google-api-core<3.0.0dev,>=2.15.0->google-cloud-storage<3.0,>=1.32.0->cached_path->f5-tts) (1.26.1)\n",
            "Requirement already satisfied: cachetools<6.0,>=2.0.0 in /usr/local/lib/python3.11/dist-packages (from google-auth<3.0dev,>=2.26.1->google-cloud-storage<3.0,>=1.32.0->cached_path->f5-tts) (5.5.2)\n",
            "Requirement already satisfied: pyasn1-modules>=0.2.1 in /usr/local/lib/python3.11/dist-packages (from google-auth<3.0dev,>=2.26.1->google-cloud-storage<3.0,>=1.32.0->cached_path->f5-tts) (0.4.2)\n",
            "Requirement already satisfied: rsa<5,>=3.1.4 in /usr/local/lib/python3.11/dist-packages (from google-auth<3.0dev,>=2.26.1->google-cloud-storage<3.0,>=1.32.0->cached_path->f5-tts) (4.9.1)\n",
            "Requirement already satisfied: mdurl~=0.1 in /usr/local/lib/python3.11/dist-packages (from markdown-it-py>=2.2.0->rich<14.0,>=12.1->cached_path->f5-tts) (0.1.2)\n",
            "Requirement already satisfied: pyasn1<0.7.0,>=0.6.1 in /usr/local/lib/python3.11/dist-packages (from pyasn1-modules>=0.2.1->google-auth<3.0dev,>=2.26.1->google-cloud-storage<3.0,>=1.32.0->cached_path->f5-tts) (0.6.1)\n",
            "Downloading f5_tts-1.1.7-py3-none-any.whl (1.3 MB)\n",
            "\u001b[2K   \u001b[90m━━━━━━━━━━━━━━━━━━━━━━━━━━━━━━━━━━━━━━━━\u001b[0m \u001b[32m1.3/1.3 MB\u001b[0m \u001b[31m39.7 MB/s\u001b[0m eta \u001b[36m0:00:00\u001b[0m\n",
            "\u001b[?25hDownloading bitsandbytes-0.46.1-py3-none-manylinux_2_24_x86_64.whl (72.9 MB)\n",
            "\u001b[2K   \u001b[90m━━━━━━━━━━━━━━━━━━━━━━━━━━━━━━━━━━━━━━━━\u001b[0m \u001b[32m72.9/72.9 MB\u001b[0m \u001b[31m7.3 MB/s\u001b[0m eta \u001b[36m0:00:00\u001b[0m\n",
            "\u001b[?25hDownloading ema_pytorch-0.7.7-py3-none-any.whl (9.8 kB)\n",
            "Downloading gradio-5.35.0-py3-none-any.whl (54.3 MB)\n",
            "\u001b[2K   \u001b[90m━━━━━━━━━━━━━━━━━━━━━━━━━━━━━━━━━━━━━━━━\u001b[0m \u001b[32m54.3/54.3 MB\u001b[0m \u001b[31m11.9 MB/s\u001b[0m eta \u001b[36m0:00:00\u001b[0m\n",
            "\u001b[?25hDownloading gradio_client-1.10.4-py3-none-any.whl (323 kB)\n",
            "\u001b[2K   \u001b[90m━━━━━━━━━━━━━━━━━━━━━━━━━━━━━━━━━━━━━━━━\u001b[0m \u001b[32m323.9/323.9 kB\u001b[0m \u001b[31m24.8 MB/s\u001b[0m eta \u001b[36m0:00:00\u001b[0m\n",
            "\u001b[?25hDownloading hydra_core-1.3.2-py3-none-any.whl (154 kB)\n",
            "\u001b[2K   \u001b[90m━━━━━━━━━━━━━━━━━━━━━━━━━━━━━━━━━━━━━━━━\u001b[0m \u001b[32m154.5/154.5 kB\u001b[0m \u001b[31m14.2 MB/s\u001b[0m eta \u001b[36m0:00:00\u001b[0m\n",
            "\u001b[?25hDownloading numpy-1.26.4-cp311-cp311-manylinux_2_17_x86_64.manylinux2014_x86_64.whl (18.3 MB)\n",
            "\u001b[2K   \u001b[90m━━━━━━━━━━━━━━━━━━━━━━━━━━━━━━━━━━━━━━━━\u001b[0m \u001b[32m18.3/18.3 MB\u001b[0m \u001b[31m85.6 MB/s\u001b[0m eta \u001b[36m0:00:00\u001b[0m\n",
            "\u001b[?25hDownloading pydantic-2.10.6-py3-none-any.whl (431 kB)\n",
            "\u001b[2K   \u001b[90m━━━━━━━━━━━━━━━━━━━━━━━━━━━━━━━━━━━━━━━━\u001b[0m \u001b[32m431.7/431.7 kB\u001b[0m \u001b[31m30.2 MB/s\u001b[0m eta \u001b[36m0:00:00\u001b[0m\n",
            "\u001b[?25hDownloading pydantic_core-2.27.2-cp311-cp311-manylinux_2_17_x86_64.manylinux2014_x86_64.whl (2.0 MB)\n",
            "\u001b[2K   \u001b[90m━━━━━━━━━━━━━━━━━━━━━━━━━━━━━━━━━━━━━━━━\u001b[0m \u001b[32m2.0/2.0 MB\u001b[0m \u001b[31m81.7 MB/s\u001b[0m eta \u001b[36m0:00:00\u001b[0m\n",
            "\u001b[?25hDownloading nvidia_cublas_cu12-12.4.5.8-py3-none-manylinux2014_x86_64.whl (363.4 MB)\n",
            "\u001b[2K   \u001b[90m━━━━━━━━━━━━━━━━━━━━━━━━━━━━━━━━━━━━━━━━\u001b[0m \u001b[32m363.4/363.4 MB\u001b[0m \u001b[31m4.0 MB/s\u001b[0m eta \u001b[36m0:00:00\u001b[0m\n",
            "\u001b[?25hDownloading nvidia_cuda_cupti_cu12-12.4.127-py3-none-manylinux2014_x86_64.whl (13.8 MB)\n",
            "\u001b[2K   \u001b[90m━━━━━━━━━━━━━━━━━━━━━━━━━━━━━━━━━━━━━━━━\u001b[0m \u001b[32m13.8/13.8 MB\u001b[0m \u001b[31m71.8 MB/s\u001b[0m eta \u001b[36m0:00:00\u001b[0m\n",
            "\u001b[?25hDownloading nvidia_cuda_nvrtc_cu12-12.4.127-py3-none-manylinux2014_x86_64.whl (24.6 MB)\n",
            "\u001b[2K   \u001b[90m━━━━━━━━━━━━━━━━━━━━━━━━━━━━━━━━━━━━━━━━\u001b[0m \u001b[32m24.6/24.6 MB\u001b[0m \u001b[31m31.9 MB/s\u001b[0m eta \u001b[36m0:00:00\u001b[0m\n",
            "\u001b[?25hDownloading nvidia_cuda_runtime_cu12-12.4.127-py3-none-manylinux2014_x86_64.whl (883 kB)\n",
            "\u001b[2K   \u001b[90m━━━━━━━━━━━━━━━━━━━━━━━━━━━━━━━━━━━━━━━━\u001b[0m \u001b[32m883.7/883.7 kB\u001b[0m \u001b[31m39.4 MB/s\u001b[0m eta \u001b[36m0:00:00\u001b[0m\n",
            "\u001b[?25hDownloading nvidia_cudnn_cu12-9.1.0.70-py3-none-manylinux2014_x86_64.whl (664.8 MB)\n",
            "\u001b[2K   \u001b[90m━━━━━━━━━━━━━━━━━━━━━━━━━━━━━━━━━━━━━━━━\u001b[0m \u001b[32m664.8/664.8 MB\u001b[0m \u001b[31m2.1 MB/s\u001b[0m eta \u001b[36m0:00:00\u001b[0m\n",
            "\u001b[?25hDownloading nvidia_cufft_cu12-11.2.1.3-py3-none-manylinux2014_x86_64.whl (211.5 MB)\n",
            "\u001b[2K   \u001b[90m━━━━━━━━━━━━━━━━━━━━━━━━━━━━━━━━━━━━━━━━\u001b[0m \u001b[32m211.5/211.5 MB\u001b[0m \u001b[31m5.5 MB/s\u001b[0m eta \u001b[36m0:00:00\u001b[0m\n",
            "\u001b[?25hDownloading nvidia_curand_cu12-10.3.5.147-py3-none-manylinux2014_x86_64.whl (56.3 MB)\n",
            "\u001b[2K   \u001b[90m━━━━━━━━━━━━━━━━━━━━━━━━━━━━━━━━━━━━━━━━\u001b[0m \u001b[32m56.3/56.3 MB\u001b[0m \u001b[31m14.4 MB/s\u001b[0m eta \u001b[36m0:00:00\u001b[0m\n",
            "\u001b[?25hDownloading nvidia_cusolver_cu12-11.6.1.9-py3-none-manylinux2014_x86_64.whl (127.9 MB)\n",
            "\u001b[2K   \u001b[90m━━━━━━━━━━━━━━━━━━━━━━━━━━━━━━━━━━━━━━━━\u001b[0m \u001b[32m127.9/127.9 MB\u001b[0m \u001b[31m6.6 MB/s\u001b[0m eta \u001b[36m0:00:00\u001b[0m\n",
            "\u001b[?25hDownloading nvidia_cusparse_cu12-12.3.1.170-py3-none-manylinux2014_x86_64.whl (207.5 MB)\n",
            "\u001b[2K   \u001b[90m━━━━━━━━━━━━━━━━━━━━━━━━━━━━━━━━━━━━━━━━\u001b[0m \u001b[32m207.5/207.5 MB\u001b[0m \u001b[31m5.3 MB/s\u001b[0m eta \u001b[36m0:00:00\u001b[0m\n",
            "\u001b[?25hDownloading nvidia_nvjitlink_cu12-12.4.127-py3-none-manylinux2014_x86_64.whl (21.1 MB)\n",
            "\u001b[2K   \u001b[90m━━━━━━━━━━━━━━━━━━━━━━━━━━━━━━━━━━━━━━━━\u001b[0m \u001b[32m21.1/21.1 MB\u001b[0m \u001b[31m29.7 MB/s\u001b[0m eta \u001b[36m0:00:00\u001b[0m\n",
            "\u001b[?25hDownloading x_transformers-2.5.6-py3-none-any.whl (90 kB)\n",
            "\u001b[2K   \u001b[90m━━━━━━━━━━━━━━━━━━━━━━━━━━━━━━━━━━━━━━━━\u001b[0m \u001b[32m90.3/90.3 kB\u001b[0m \u001b[31m6.2 MB/s\u001b[0m eta \u001b[36m0:00:00\u001b[0m\n",
            "\u001b[?25hDownloading cached_path-1.7.3-py3-none-any.whl (36 kB)\n",
            "Downloading pypinyin-0.55.0-py2.py3-none-any.whl (840 kB)\n",
            "\u001b[2K   \u001b[90m━━━━━━━━━━━━━━━━━━━━━━━━━━━━━━━━━━━━━━━━\u001b[0m \u001b[32m840.2/840.2 kB\u001b[0m \u001b[31m39.7 MB/s\u001b[0m eta \u001b[36m0:00:00\u001b[0m\n",
            "\u001b[?25hDownloading tomli-2.2.1-cp311-cp311-manylinux_2_17_x86_64.manylinux2014_x86_64.whl (236 kB)\n",
            "\u001b[2K   \u001b[90m━━━━━━━━━━━━━━━━━━━━━━━━━━━━━━━━━━━━━━━━\u001b[0m \u001b[32m236.0/236.0 kB\u001b[0m \u001b[31m20.0 MB/s\u001b[0m eta \u001b[36m0:00:00\u001b[0m\n",
            "\u001b[?25hDownloading torchdiffeq-0.2.5-py3-none-any.whl (32 kB)\n",
            "Downloading Unidecode-1.4.0-py3-none-any.whl (235 kB)\n",
            "\u001b[2K   \u001b[90m━━━━━━━━━━━━━━━━━━━━━━━━━━━━━━━━━━━━━━━━\u001b[0m \u001b[32m235.8/235.8 kB\u001b[0m \u001b[31m12.9 MB/s\u001b[0m eta \u001b[36m0:00:00\u001b[0m\n",
            "\u001b[?25hDownloading vocos-0.1.0-py3-none-any.whl (24 kB)\n",
            "Downloading boto3-1.39.17-py3-none-any.whl (139 kB)\n",
            "\u001b[2K   \u001b[90m━━━━━━━━━━━━━━━━━━━━━━━━━━━━━━━━━━━━━━━━\u001b[0m \u001b[32m139.9/139.9 kB\u001b[0m \u001b[31m12.3 MB/s\u001b[0m eta \u001b[36m0:00:00\u001b[0m\n",
            "\u001b[?25hDownloading einx-0.3.0-py3-none-any.whl (102 kB)\n",
            "\u001b[2K   \u001b[90m━━━━━━━━━━━━━━━━━━━━━━━━━━━━━━━━━━━━━━━━\u001b[0m \u001b[32m103.0/103.0 kB\u001b[0m \u001b[31m8.1 MB/s\u001b[0m eta \u001b[36m0:00:00\u001b[0m\n",
            "\u001b[?25hDownloading loguru-0.7.3-py3-none-any.whl (61 kB)\n",
            "\u001b[2K   \u001b[90m━━━━━━━━━━━━━━━━━━━━━━━━━━━━━━━━━━━━━━━━\u001b[0m \u001b[32m61.6/61.6 kB\u001b[0m \u001b[31m3.1 MB/s\u001b[0m eta \u001b[36m0:00:00\u001b[0m\n",
            "\u001b[?25hDownloading botocore-1.39.17-py3-none-any.whl (13.9 MB)\n",
            "\u001b[2K   \u001b[90m━━━━━━━━━━━━━━━━━━━━━━━━━━━━━━━━━━━━━━━━\u001b[0m \u001b[32m13.9/13.9 MB\u001b[0m \u001b[31m78.8 MB/s\u001b[0m eta \u001b[36m0:00:00\u001b[0m\n",
            "\u001b[?25hDownloading jmespath-1.0.1-py3-none-any.whl (20 kB)\n",
            "Downloading s3transfer-0.13.1-py3-none-any.whl (85 kB)\n",
            "\u001b[2K   \u001b[90m━━━━━━━━━━━━━━━━━━━━━━━━━━━━━━━━━━━━━━━━\u001b[0m \u001b[32m85.3/85.3 kB\u001b[0m \u001b[31m8.3 MB/s\u001b[0m eta \u001b[36m0:00:00\u001b[0m\n",
            "\u001b[?25hBuilding wheels for collected packages: transformers_stream_generator, encodec\n",
            "  Building wheel for transformers_stream_generator (setup.py) ... \u001b[?25l\u001b[?25hdone\n",
            "  Created wheel for transformers_stream_generator: filename=transformers_stream_generator-0.0.5-py3-none-any.whl size=12426 sha256=bb99f70813629f3d0e4a4b2a2ba78c8539a9ea794496504aa2a1b2a913b46e82\n",
            "  Stored in directory: /root/.cache/pip/wheels/23/e8/f0/b3c58c12d1ffe60bcc8c7d121115f26b2c1878653edfca48db\n",
            "  Building wheel for encodec (setup.py) ... \u001b[?25l\u001b[?25hdone\n",
            "  Created wheel for encodec: filename=encodec-0.1.1-py3-none-any.whl size=45759 sha256=49c1daedc4e678e098a35a8124d995f7eddd02e7bd91660445f9fdda2dca55ca\n",
            "  Stored in directory: /root/.cache/pip/wheels/b4/a4/88/480018a664e58ca7ce6708759193ee51b017b3b72aa3df8a85\n",
            "Successfully built transformers_stream_generator encodec\n",
            "Installing collected packages: unidecode, tomli, pypinyin, pydantic-core, nvidia-nvjitlink-cu12, nvidia-curand-cu12, nvidia-cufft-cu12, nvidia-cuda-runtime-cu12, nvidia-cuda-nvrtc-cu12, nvidia-cuda-cupti-cu12, nvidia-cublas-cu12, numpy, loguru, jmespath, pydantic, nvidia-cusparse-cu12, nvidia-cudnn-cu12, hydra-core, einx, botocore, s3transfer, nvidia-cusolver-cu12, gradio-client, gradio, boto3, x_transformers, transformers_stream_generator, torchdiffeq, ema_pytorch, bitsandbytes, encodec, cached_path, vocos, f5-tts\n",
            "  Attempting uninstall: pydantic-core\n",
            "    Found existing installation: pydantic_core 2.33.2\n",
            "    Uninstalling pydantic_core-2.33.2:\n",
            "      Successfully uninstalled pydantic_core-2.33.2\n",
            "  Attempting uninstall: nvidia-nvjitlink-cu12\n",
            "    Found existing installation: nvidia-nvjitlink-cu12 12.5.82\n",
            "    Uninstalling nvidia-nvjitlink-cu12-12.5.82:\n",
            "      Successfully uninstalled nvidia-nvjitlink-cu12-12.5.82\n",
            "  Attempting uninstall: nvidia-curand-cu12\n",
            "    Found existing installation: nvidia-curand-cu12 10.3.6.82\n",
            "    Uninstalling nvidia-curand-cu12-10.3.6.82:\n",
            "      Successfully uninstalled nvidia-curand-cu12-10.3.6.82\n",
            "  Attempting uninstall: nvidia-cufft-cu12\n",
            "    Found existing installation: nvidia-cufft-cu12 11.2.3.61\n",
            "    Uninstalling nvidia-cufft-cu12-11.2.3.61:\n",
            "      Successfully uninstalled nvidia-cufft-cu12-11.2.3.61\n",
            "  Attempting uninstall: nvidia-cuda-runtime-cu12\n",
            "    Found existing installation: nvidia-cuda-runtime-cu12 12.5.82\n",
            "    Uninstalling nvidia-cuda-runtime-cu12-12.5.82:\n",
            "      Successfully uninstalled nvidia-cuda-runtime-cu12-12.5.82\n",
            "  Attempting uninstall: nvidia-cuda-nvrtc-cu12\n",
            "    Found existing installation: nvidia-cuda-nvrtc-cu12 12.5.82\n",
            "    Uninstalling nvidia-cuda-nvrtc-cu12-12.5.82:\n",
            "      Successfully uninstalled nvidia-cuda-nvrtc-cu12-12.5.82\n",
            "  Attempting uninstall: nvidia-cuda-cupti-cu12\n",
            "    Found existing installation: nvidia-cuda-cupti-cu12 12.5.82\n",
            "    Uninstalling nvidia-cuda-cupti-cu12-12.5.82:\n",
            "      Successfully uninstalled nvidia-cuda-cupti-cu12-12.5.82\n",
            "  Attempting uninstall: nvidia-cublas-cu12\n",
            "    Found existing installation: nvidia-cublas-cu12 12.5.3.2\n",
            "    Uninstalling nvidia-cublas-cu12-12.5.3.2:\n",
            "      Successfully uninstalled nvidia-cublas-cu12-12.5.3.2\n",
            "  Attempting uninstall: numpy\n",
            "    Found existing installation: numpy 2.0.2\n",
            "    Uninstalling numpy-2.0.2:\n",
            "      Successfully uninstalled numpy-2.0.2\n",
            "  Attempting uninstall: pydantic\n",
            "    Found existing installation: pydantic 2.11.7\n",
            "    Uninstalling pydantic-2.11.7:\n",
            "      Successfully uninstalled pydantic-2.11.7\n",
            "  Attempting uninstall: nvidia-cusparse-cu12\n",
            "    Found existing installation: nvidia-cusparse-cu12 12.5.1.3\n",
            "    Uninstalling nvidia-cusparse-cu12-12.5.1.3:\n",
            "      Successfully uninstalled nvidia-cusparse-cu12-12.5.1.3\n",
            "  Attempting uninstall: nvidia-cudnn-cu12\n",
            "    Found existing installation: nvidia-cudnn-cu12 9.3.0.75\n",
            "    Uninstalling nvidia-cudnn-cu12-9.3.0.75:\n",
            "      Successfully uninstalled nvidia-cudnn-cu12-9.3.0.75\n",
            "  Attempting uninstall: nvidia-cusolver-cu12\n",
            "    Found existing installation: nvidia-cusolver-cu12 11.6.3.83\n",
            "    Uninstalling nvidia-cusolver-cu12-11.6.3.83:\n",
            "      Successfully uninstalled nvidia-cusolver-cu12-11.6.3.83\n",
            "  Attempting uninstall: gradio-client\n",
            "    Found existing installation: gradio_client 1.11.0\n",
            "    Uninstalling gradio_client-1.11.0:\n",
            "      Successfully uninstalled gradio_client-1.11.0\n",
            "  Attempting uninstall: gradio\n",
            "    Found existing installation: gradio 5.38.2\n",
            "    Uninstalling gradio-5.38.2:\n",
            "      Successfully uninstalled gradio-5.38.2\n",
            "\u001b[31mERROR: pip's dependency resolver does not currently take into account all the packages that are installed. This behaviour is the source of the following dependency conflicts.\n",
            "thinc 8.3.6 requires numpy<3.0.0,>=2.0.0, but you have numpy 1.26.4 which is incompatible.\n",
            "opencv-contrib-python 4.12.0.88 requires numpy<2.3.0,>=2; python_version >= \"3.9\", but you have numpy 1.26.4 which is incompatible.\n",
            "opencv-python 4.12.0.88 requires numpy<2.3.0,>=2; python_version >= \"3.9\", but you have numpy 1.26.4 which is incompatible.\n",
            "opencv-python-headless 4.12.0.88 requires numpy<2.3.0,>=2; python_version >= \"3.9\", but you have numpy 1.26.4 which is incompatible.\u001b[0m\u001b[31m\n",
            "\u001b[0mSuccessfully installed bitsandbytes-0.46.1 boto3-1.39.17 botocore-1.39.17 cached_path-1.7.3 einx-0.3.0 ema_pytorch-0.7.7 encodec-0.1.1 f5-tts-1.1.7 gradio-5.35.0 gradio-client-1.10.4 hydra-core-1.3.2 jmespath-1.0.1 loguru-0.7.3 numpy-1.26.4 nvidia-cublas-cu12-12.4.5.8 nvidia-cuda-cupti-cu12-12.4.127 nvidia-cuda-nvrtc-cu12-12.4.127 nvidia-cuda-runtime-cu12-12.4.127 nvidia-cudnn-cu12-9.1.0.70 nvidia-cufft-cu12-11.2.1.3 nvidia-curand-cu12-10.3.5.147 nvidia-cusolver-cu12-11.6.1.9 nvidia-cusparse-cu12-12.3.1.170 nvidia-nvjitlink-cu12-12.4.127 pydantic-2.10.6 pydantic-core-2.27.2 pypinyin-0.55.0 s3transfer-0.13.1 tomli-2.2.1 torchdiffeq-0.2.5 transformers_stream_generator-0.0.5 unidecode-1.4.0 vocos-0.1.0 x_transformers-2.5.6\n"
          ]
        },
        {
          "output_type": "display_data",
          "data": {
            "application/vnd.colab-display-data+json": {
              "pip_warning": {
                "packages": [
                  "numpy"
                ]
              },
              "id": "c5ed8acb4adc4a7db52db578b0f6f774"
            }
          },
          "metadata": {}
        }
      ]
    },
    {
      "cell_type": "code",
      "source": [
        "!pip install gdown"
      ],
      "metadata": {
        "colab": {
          "base_uri": "https://localhost:8080/"
        },
        "id": "WDl7SJLdcn0c",
        "outputId": "ed6f2e47-da7a-43d3-afcc-8328b0c66b8b"
      },
      "execution_count": 1,
      "outputs": [
        {
          "output_type": "stream",
          "name": "stdout",
          "text": [
            "Requirement already satisfied: gdown in /usr/local/lib/python3.11/dist-packages (5.2.0)\n",
            "Requirement already satisfied: beautifulsoup4 in /usr/local/lib/python3.11/dist-packages (from gdown) (4.13.4)\n",
            "Requirement already satisfied: filelock in /usr/local/lib/python3.11/dist-packages (from gdown) (3.18.0)\n",
            "Requirement already satisfied: requests[socks] in /usr/local/lib/python3.11/dist-packages (from gdown) (2.32.3)\n",
            "Requirement already satisfied: tqdm in /usr/local/lib/python3.11/dist-packages (from gdown) (4.67.1)\n",
            "Requirement already satisfied: soupsieve>1.2 in /usr/local/lib/python3.11/dist-packages (from beautifulsoup4->gdown) (2.7)\n",
            "Requirement already satisfied: typing-extensions>=4.0.0 in /usr/local/lib/python3.11/dist-packages (from beautifulsoup4->gdown) (4.14.1)\n",
            "Requirement already satisfied: charset-normalizer<4,>=2 in /usr/local/lib/python3.11/dist-packages (from requests[socks]->gdown) (3.4.2)\n",
            "Requirement already satisfied: idna<4,>=2.5 in /usr/local/lib/python3.11/dist-packages (from requests[socks]->gdown) (3.10)\n",
            "Requirement already satisfied: urllib3<3,>=1.21.1 in /usr/local/lib/python3.11/dist-packages (from requests[socks]->gdown) (2.5.0)\n",
            "Requirement already satisfied: certifi>=2017.4.17 in /usr/local/lib/python3.11/dist-packages (from requests[socks]->gdown) (2025.7.14)\n",
            "Requirement already satisfied: PySocks!=1.5.7,>=1.5.6 in /usr/local/lib/python3.11/dist-packages (from requests[socks]->gdown) (1.7.1)\n"
          ]
        }
      ]
    },
    {
      "cell_type": "code",
      "source": [
        "!gdown 1uTreohCIiYSlrQTa3fuH1_IQjdeW1SaE\n",
        "!gdown 1PBs6r3cqhFxWzy9s5wrGpF6-5ZnoOWxE"
      ],
      "metadata": {
        "colab": {
          "base_uri": "https://localhost:8080/"
        },
        "id": "2jtobwUicWPN",
        "outputId": "b9bd06a5-a7a0-460a-b695-69b2d443101d"
      },
      "execution_count": 2,
      "outputs": [
        {
          "output_type": "stream",
          "name": "stdout",
          "text": [
            "Downloading...\n",
            "From: https://drive.google.com/uc?id=1uTreohCIiYSlrQTa3fuH1_IQjdeW1SaE\n",
            "To: /content/audio.zip\n",
            "100% 10.0M/10.0M [00:00<00:00, 14.8MB/s]\n",
            "Downloading...\n",
            "From: https://drive.google.com/uc?id=1PBs6r3cqhFxWzy9s5wrGpF6-5ZnoOWxE\n",
            "To: /content/json.zip\n",
            "100% 35.9k/35.9k [00:00<00:00, 56.6MB/s]\n"
          ]
        }
      ]
    },
    {
      "cell_type": "code",
      "source": [
        "!unzip /content/audio.zip -d /content/audio"
      ],
      "metadata": {
        "colab": {
          "base_uri": "https://localhost:8080/"
        },
        "id": "CoFyva7yc7Dk",
        "outputId": "c406e892-c242-460f-c373-7241485d35c8"
      },
      "execution_count": 3,
      "outputs": [
        {
          "output_type": "stream",
          "name": "stdout",
          "text": [
            "Archive:  /content/audio.zip\n",
            "   creating: /content/audio/dung/\n",
            "  inflating: /content/audio/dung/EN_B00013_S02462_W000000.wav  \n",
            "  inflating: /content/audio/dung/EN_B00013_S02632_W000000.wav  \n",
            "  inflating: /content/audio/dung/EN_B00013_S02672_W000000.wav  \n",
            "  inflating: /content/audio/dung/EN_B00013_S02542_W000000.wav  \n",
            "  inflating: /content/audio/dung/EN_B00013_S02692_W000000.wav  \n",
            "  inflating: /content/audio/dung/EN_B00013_S02502_W000000.wav  \n",
            "  inflating: /content/audio/dung/EN_B00013_S02622_W000000.wav  \n",
            "  inflating: /content/audio/dung/EN_B00013_S02562_W000000.wav  \n",
            "  inflating: /content/audio/dung/EN_B00013_S02482_W000000.wav  \n",
            "  inflating: /content/audio/dung/EN_B00013_S02712_W000000.wav  \n",
            "  inflating: /content/audio/dung/EN_B00013_S02612_W000000.wav  \n",
            "  inflating: /content/audio/dung/EN_B00013_S02652_W000000.wav  \n",
            "  inflating: /content/audio/dung/EN_B00013_S02532_W000000.wav  \n",
            "  inflating: /content/audio/dung/EN_B00013_S02702_W000000.wav  \n",
            "  inflating: /content/audio/dung/EN_B00013_S02472_W000000.wav  \n",
            "  inflating: /content/audio/dung/EN_B00013_S02592_W000000.wav  \n",
            "  inflating: /content/audio/dung/EN_B00013_S02642_W000000.wav  \n",
            "  inflating: /content/audio/dung/EN_B00013_S02452_W000000.wav  \n",
            "  inflating: /content/audio/dung/EN_B00013_S02522_W000000.wav  \n",
            "  inflating: /content/audio/dung/EN_B00013_S02512_W000000.wav  \n",
            "  inflating: /content/audio/dung/EN_B00013_S02492_W000000.wav  \n",
            "  inflating: /content/audio/dung/EN_B00013_S02682_W000000.wav  \n",
            "  inflating: /content/audio/dung/EN_B00013_S02602_W000000.wav  \n",
            "  inflating: /content/audio/dung/EN_B00013_S02662_W000000.wav  \n",
            "  inflating: /content/audio/dung/EN_B00013_S02552_W000000.wav  \n",
            "  inflating: /content/audio/dung/EN_B00013_S02432_W000000.wav  \n",
            "  inflating: /content/audio/dung/EN_B00013_S02582_W000000.wav  \n",
            "  inflating: /content/audio/dung/EN_B00013_S02572_W000000.wav  \n"
          ]
        }
      ]
    },
    {
      "cell_type": "code",
      "source": [
        "!unzip /content/json.zip -d /content/json"
      ],
      "metadata": {
        "colab": {
          "base_uri": "https://localhost:8080/"
        },
        "id": "PhfkpUDvdCDR",
        "outputId": "13f10db7-d675-4861-a7ec-6cec5b6a0c9b"
      },
      "execution_count": 4,
      "outputs": [
        {
          "output_type": "stream",
          "name": "stdout",
          "text": [
            "Archive:  /content/json.zip\n",
            "   creating: /content/json/dung/\n",
            "  inflating: /content/json/dung/EN_B00013_S02522_W000000.json  \n",
            "  inflating: /content/json/dung/EN_B00013_S02392_W000000.json  \n",
            "  inflating: /content/json/dung/EN_B00013_S02912_W000000.json  \n",
            "  inflating: /content/json/dung/EN_B00013_S02302_W000000.json  \n",
            "  inflating: /content/json/dung/EN_B00013_S02272_W000000.json  \n",
            "  inflating: /content/json/dung/EN_B00013_S02822_W000000.json  \n",
            "  inflating: /content/json/dung/EN_B00013_S02332_W000000.json  \n",
            "  inflating: /content/json/dung/EN_B00013_S02582_W000000.json  \n",
            "  inflating: /content/json/dung/EN_B00013_S02802_W000000.json  \n",
            "  inflating: /content/json/dung/EN_B00013_S02182_W000000.json  \n",
            "  inflating: /content/json/dung/EN_B00013_S02342_W000000.json  \n",
            "  inflating: /content/json/dung/EN_B00013_S02692_W000000.json  \n",
            "  inflating: /content/json/dung/EN_B00013_S02482_W000000.json  \n",
            "  inflating: /content/json/dung/EN_B00013_S02262_W000000.json  \n",
            "  inflating: /content/json/dung/EN_B00013_S02232_W000000.json  \n",
            "  inflating: /content/json/dung/EN_B00013_S02412_W000000.json  \n",
            "  inflating: /content/json/dung/EN_B00013_S02792_W000000.json  \n",
            "  inflating: /content/json/dung/EN_B00013_S02662_W000000.json  \n",
            "  inflating: /content/json/dung/EN_B00013_S02782_W000000.json  \n",
            "  inflating: /content/json/dung/EN_B00013_S02882_W000000.json  \n",
            "  inflating: /content/json/dung/EN_B00013_S02372_W000000.json  \n",
            "  inflating: /content/json/dung/EN_B00013_S02242_W000000.json  \n",
            "  inflating: /content/json/dung/EN_B00013_S02932_W000000.json  \n",
            "  inflating: /content/json/dung/EN_B00013_S02612_W000000.json  \n",
            "  inflating: /content/json/dung/EN_B00013_S02102_W000000.json  \n",
            "  inflating: /content/json/dung/EN_B00013_S02732_W000000.json  \n",
            "  inflating: /content/json/dung/EN_B00013_S02902_W000000.json  \n",
            "  inflating: /content/json/dung/EN_B00013_S02972_W000000.json  \n",
            "  inflating: /content/json/dung/EN_B00013_S02432_W000000.json  \n",
            "  inflating: /content/json/dung/EN_B00013_S02072_W000000.json  \n",
            "  inflating: /content/json/dung/EN_B00013_S02942_W000000.json  \n",
            "  inflating: /content/json/dung/EN_B00013_S02162_W000000.json  \n",
            "  inflating: /content/json/dung/EN_B00013_S02172_W000000.json  \n",
            "  inflating: /content/json/dung/EN_B00013_S02192_W000000.json  \n",
            "  inflating: /content/json/dung/EN_B00013_S02382_W000000.json  \n",
            "  inflating: /content/json/dung/EN_B00013_S02922_W000000.json  \n",
            "  inflating: /content/json/dung/EN_B00013_S02282_W000000.json  \n",
            "  inflating: /content/json/dung/EN_B00013_S02212_W000000.json  \n",
            "  inflating: /content/json/dung/EN_B00013_S02862_W000000.json  \n",
            "  inflating: /content/json/dung/EN_B00013_S02752_W000000.json  \n",
            "  inflating: /content/json/dung/EN_B00013_S02352_W000000.json  \n",
            "  inflating: /content/json/dung/EN_B00013_S02702_W000000.json  \n",
            "  inflating: /content/json/dung/EN_B00013_S02992_W000000.json  \n",
            "  inflating: /content/json/dung/EN_B00013_S02502_W000000.json  \n",
            "  inflating: /content/json/dung/EN_B00013_S02122_W000000.json  \n",
            "  inflating: /content/json/dung/EN_B00013_S02202_W000000.json  \n",
            "  inflating: /content/json/dung/EN_B00013_S02462_W000000.json  \n",
            "  inflating: /content/json/dung/EN_B00013_S02492_W000000.json  \n",
            "  inflating: /content/json/dung/EN_B00013_S02962_W000000.json  \n",
            "  inflating: /content/json/dung/EN_B00013_S02542_W000000.json  \n",
            "  inflating: /content/json/dung/EN_B00013_S02082_W000000.json  \n",
            "  inflating: /content/json/dung/EN_B00013_S02062_W000000.json  \n",
            "  inflating: /content/json/dung/EN_B00013_S02112_W000000.json  \n",
            "  inflating: /content/json/dung/EN_B00013_S02532_W000000.json  \n",
            "  inflating: /content/json/dung/EN_B00013_S02402_W000000.json  \n",
            "  inflating: /content/json/dung/EN_B00013_S02742_W000000.json  \n",
            "  inflating: /content/json/dung/EN_B00013_S02632_W000000.json  \n",
            "  inflating: /content/json/dung/EN_B00013_S02142_W000000.json  \n",
            "  inflating: /content/json/dung/EN_B00013_S02622_W000000.json  \n",
            "  inflating: /content/json/dung/EN_B00013_S02512_W000000.json  \n",
            "  inflating: /content/json/dung/EN_B00013_S02312_W000000.json  \n",
            "  inflating: /content/json/dung/EN_B00013_S02892_W000000.json  \n",
            "  inflating: /content/json/dung/EN_B00013_S02042_W000000.json  \n",
            "  inflating: /content/json/dung/EN_B00013_S02852_W000000.json  \n",
            "  inflating: /content/json/dung/EN_B00013_S02712_W000000.json  \n",
            "  inflating: /content/json/dung/EN_B00013_S02092_W000000.json  \n",
            "  inflating: /content/json/dung/EN_B00013_S02002_W000000.json  \n",
            "  inflating: /content/json/dung/EN_B00013_S02772_W000000.json  \n",
            "  inflating: /content/json/dung/EN_B00013_S02842_W000000.json  \n",
            "  inflating: /content/json/dung/EN_B00013_S02032_W000000.json  \n",
            "  inflating: /content/json/dung/EN_B00013_S02592_W000000.json  \n",
            "  inflating: /content/json/dung/EN_B00013_S02952_W000000.json  \n",
            "  inflating: /content/json/dung/EN_B00013_S02812_W000000.json  \n",
            "  inflating: /content/json/dung/EN_B00013_S02762_W000000.json  \n",
            "  inflating: /content/json/dung/EN_B00013_S02362_W000000.json  \n",
            "  inflating: /content/json/dung/EN_B00013_S02472_W000000.json  \n",
            "  inflating: /content/json/dung/EN_B00013_S02132_W000000.json  \n",
            "  inflating: /content/json/dung/EN_B00013_S02602_W000000.json  \n",
            "  inflating: /content/json/dung/EN_B00013_S02022_W000000.json  \n",
            "  inflating: /content/json/dung/EN_B00013_S02642_W000000.json  \n",
            "  inflating: /content/json/dung/EN_B00013_S02252_W000000.json  \n",
            "  inflating: /content/json/dung/EN_B00013_S02322_W000000.json  \n",
            "  inflating: /content/json/dung/EN_B00013_S02452_W000000.json  \n",
            "  inflating: /content/json/dung/EN_B00013_S02012_W000000.json  \n",
            "  inflating: /content/json/dung/EN_B00013_S02982_W000000.json  \n",
            "  inflating: /content/json/dung/EN_B00013_S02652_W000000.json  \n",
            "  inflating: /content/json/dung/EN_B00013_S02052_W000000.json  \n",
            "  inflating: /content/json/dung/EN_B00013_S02552_W000000.json  \n",
            "  inflating: /content/json/dung/EN_B00013_S02292_W000000.json  \n",
            "  inflating: /content/json/dung/EN_B00013_S02722_W000000.json  \n",
            "  inflating: /content/json/dung/EN_B00013_S02872_W000000.json  \n",
            "  inflating: /content/json/dung/EN_B00013_S02572_W000000.json  \n",
            "  inflating: /content/json/dung/EN_B00013_S02422_W000000.json  \n",
            "  inflating: /content/json/dung/EN_B00013_S02832_W000000.json  \n",
            "  inflating: /content/json/dung/EN_B00013_S02682_W000000.json  \n",
            "  inflating: /content/json/dung/EN_B00013_S02562_W000000.json  \n",
            "  inflating: /content/json/dung/EN_B00013_S02222_W000000.json  \n",
            "  inflating: /content/json/dung/EN_B00013_S02672_W000000.json  \n",
            "  inflating: /content/json/dung/EN_B00013_S02152_W000000.json  \n",
            "  inflating: /content/json/dung/EN_B00013_S02442_W000000.json  \n"
          ]
        }
      ]
    },
    {
      "cell_type": "markdown",
      "source": [
        "## TV Commands"
      ],
      "metadata": {
        "id": "ThNMx7RrRo87"
      }
    },
    {
      "cell_type": "code",
      "source": [
        "tv_command_templates = [\n",
        "    # Power control\n",
        "    \"turn on the TV\",\n",
        "    \"turn off the TV\",\n",
        "    \"restart the TV\",\n",
        "    \"put the TV in sleep mode\",\n",
        "\n",
        "    # Volume control\n",
        "    \"increase the volume\",\n",
        "    \"increase the volume to [level]\",\n",
        "    \"decrease the volume\",\n",
        "    \"decrease the volume to [level]\",\n",
        "    \"set volume to [level]\",\n",
        "    \"mute the TV\",\n",
        "    \"unmute the TV\",\n",
        "    \"set the volume to maximum\",\n",
        "    \"set the volume to minimum\",\n",
        "\n",
        "    # Channel control\n",
        "    \"change the channel\",\n",
        "    \"next channel\",\n",
        "    \"previous channel\",\n",
        "    \"go to channel [channel number]\",\n",
        "    \"switch to channel [channel name]\",\n",
        "    \"show me [channel name]\",\n",
        "\n",
        "    # App control\n",
        "    \"open [app name]\",\n",
        "    \"launch [app name]\",\n",
        "    \"close [app name]\",\n",
        "    \"switch to [app name]\",\n",
        "    \"search on [app name] for [query]\",\n",
        "\n",
        "    # Media playback\n",
        "    \"play\",\n",
        "    \"pause\",\n",
        "    \"resume\",\n",
        "    \"stop\",\n",
        "    \"rewind\",\n",
        "    \"rewind [seconds] seconds\",\n",
        "    \"fast forward\",\n",
        "    \"fast forward [seconds] seconds\",\n",
        "    \"skip intro\",\n",
        "    \"skip to next episode\",\n",
        "    \"go back to previous episode\",\n",
        "\n",
        "    # Subtitles and language\n",
        "    \"turn on subtitles\",\n",
        "    \"turn off subtitles\",\n",
        "    \"change subtitle language to [language]\",\n",
        "    \"change audio language to [language]\",\n",
        "\n",
        "    # Input source\n",
        "    \"switch to [input source]\",\n",
        "    \"change input to [input source]\",\n",
        "    \"go to HDMI [number]\",\n",
        "    \"switch to AV mode\",\n",
        "\n",
        "    # Picture and audio settings\n",
        "    \"set brightness to [level]\",\n",
        "    \"set contrast to [level]\",\n",
        "    \"enable night mode\",\n",
        "    \"disable night mode\",\n",
        "    \"enable game mode\",\n",
        "    \"disable game mode\",\n",
        "    \"set picture mode to [mode name]\",\n",
        "    \"set sound mode to [mode name]\",\n",
        "\n",
        "    # Smart features\n",
        "    \"record this show\",\n",
        "    \"show the TV guide\",\n",
        "    \"what’s playing now\",\n",
        "    \"show me recommendations\",\n",
        "    \"add this to my watchlist\",\n",
        "    \"rate this show [rating]\",\n",
        "    \"enable sleep timer for [minutes] minutes\",\n",
        "    \"remind me when [show name] starts\",\n",
        "\n",
        "    # Navigation\n",
        "    \"go back to home screen\",\n",
        "    \"open settings\",\n",
        "    \"scroll up\",\n",
        "    \"scroll down\",\n",
        "    \"select this option\",\n",
        "]"
      ],
      "metadata": {
        "id": "ZAIyW5MwFcZX"
      },
      "execution_count": 5,
      "outputs": []
    },
    {
      "cell_type": "markdown",
      "source": [
        "## Content list"
      ],
      "metadata": {
        "id": "bgODJk2vRrzz"
      }
    },
    {
      "cell_type": "code",
      "source": [
        "# songs datasets\n",
        "import pandas as pd\n",
        "song_dataset = pd.read_csv(\"hf://datasets/vishnupriyavr/spotify-million-song-dataset/spotify_millsongdata.csv\")"
      ],
      "metadata": {
        "id": "pdDlfZkTQ02E",
        "colab": {
          "base_uri": "https://localhost:8080/"
        },
        "outputId": "80a1a76f-e16c-4f30-ec8b-ccc0ae120fa9"
      },
      "execution_count": 6,
      "outputs": [
        {
          "output_type": "stream",
          "name": "stderr",
          "text": [
            "/usr/local/lib/python3.11/dist-packages/huggingface_hub/utils/_auth.py:94: UserWarning: \n",
            "The secret `HF_TOKEN` does not exist in your Colab secrets.\n",
            "To authenticate with the Hugging Face Hub, create a token in your settings tab (https://huggingface.co/settings/tokens), set it as secret in your Google Colab and restart your session.\n",
            "You will be able to reuse this secret in all of your notebooks.\n",
            "Please note that authentication is recommended but still optional to access public models or datasets.\n",
            "  warnings.warn(\n"
          ]
        }
      ]
    },
    {
      "cell_type": "code",
      "source": [
        "# movie datasets\n",
        "import pandas as pd\n",
        "\n",
        "movie_dataset = pd.read_csv(\"hf://datasets/Pablinho/movies-dataset/9000plus.csv\")"
      ],
      "metadata": {
        "id": "OpkBfdwBRudw"
      },
      "execution_count": 7,
      "outputs": []
    },
    {
      "cell_type": "code",
      "source": [
        "app_dataset = [\n",
        "    # 1. Video tổng hợp\n",
        "    \"YouTube\",\n",
        "    \"TikTok TV\",\n",
        "    \"Facebook Watch\",\n",
        "    \"Twitch\",\n",
        "    \"Dailymotion\",\n",
        "    \"Vimeo\",\n",
        "    \"Rumble\",\n",
        "    \"Bilibili\",\n",
        "    \"TED\",\n",
        "    \"Vevo TV\",\n",
        "\n",
        "    # 2. Xem phim/truyền hình\n",
        "    \"Netflix\",\n",
        "    \"Disney+\",\n",
        "    \"Amazon Prime Video\",\n",
        "    \"Apple TV+\",\n",
        "    \"HBO Max\",\n",
        "    \"Hulu\",\n",
        "    \"Paramount+\",\n",
        "    \"Peacock\",\n",
        "    \"Crunchyroll\",\n",
        "    \"Plex\",\n",
        "    \"Tubi TV\",\n",
        "    \"Pluto TV\",\n",
        "    \"Rakuten TV\",\n",
        "    \"Viki\",\n",
        "    \"Popcornflix\",\n",
        "\n",
        "    # 3. Nghe nhạc và radio\n",
        "    \"Spotify\",\n",
        "    \"Apple Music\",\n",
        "    \"YouTube Music\",\n",
        "    \"Amazon Music\",\n",
        "    \"Tidal\",\n",
        "    \"Deezer\",\n",
        "    \"Pandora\",\n",
        "    \"SoundCloud\",\n",
        "    \"iHeartRadio\",\n",
        "    \"TuneIn Radio\",\n",
        "\n",
        "    # 4. Truyền hình trực tiếp & thể thao\n",
        "    \"ESPN\",\n",
        "    \"DAZN\",\n",
        "    \"NBC Sports\",\n",
        "    \"CBS Sports\",\n",
        "    \"Red Bull TV\",\n",
        "    \"BBC iPlayer\",\n",
        "    \"ITVX\",\n",
        "    \"Sling TV\"\n",
        "]"
      ],
      "metadata": {
        "id": "autpeqOBa-oj"
      },
      "execution_count": 8,
      "outputs": []
    },
    {
      "cell_type": "markdown",
      "source": [
        "## Model and function"
      ],
      "metadata": {
        "id": "OIsWu1WJa_0w"
      }
    },
    {
      "cell_type": "code",
      "source": [
        "prompt_template = \"\"\"\n",
        "You are given the following:\n",
        "\n",
        "- A list of TV control commands: {command_list}\n",
        "- A content list that includes names of songs, TV shows, movies, apps, and artists: {content_list}\n",
        "\n",
        "Your task is to generate {generated_nums} human-like commands using the command list and the content list. The content list includes the prefix movies or artist-song to shows you their type, you should remove them when generate commands, also leverage them smartly for high human-like commands.\n",
        "Half of the commands should be **single commands**, and the other half should be **chain commands**. A chain command consists of multiple actions (up to a maximum of {chain_length} sub-commands) combined in a natural way.\n",
        "\n",
        "Be creative in your generation. You should use specific content from the content list—such as names of songs, movies, TV shows, or artists—instead of generic phrases like \"this song\" or \"that movie\".\n",
        "\n",
        "Each generated command should be as **realistic and unique** as possible.\n",
        "\n",
        "Return only the generated human-like commands in the **following JSON format** (use **double quotes** for all strings, and ensure the output is valid JSON):\n",
        "\n",
        "```json\n",
        "{{\n",
        "  \"single\": [\n",
        "    \"string\"\n",
        "  ],\n",
        "  \"chain\": [\n",
        "    {{\n",
        "      \"full_commands\": \"string\",\n",
        "      \"sub_commands\": [\"string\"]\n",
        "    }}\n",
        "  ]\n",
        "}}\n",
        "\"\"\"\n",
        "\n",
        "GENERATED_NUM = 10\n",
        "CHAIN_LENGTH = 3"
      ],
      "metadata": {
        "id": "Ydgsi8nRHF3Q"
      },
      "execution_count": 9,
      "outputs": []
    },
    {
      "cell_type": "code",
      "source": [
        "from openai import OpenAI\n",
        "import os\n",
        "from google.colab import userdata\n",
        "\n",
        "api_key = userdata.get('OPENAI_API_KEY')\n",
        "client = OpenAI(api_key = api_key)\n",
        "\n",
        "MODEL = 'gpt-4o-mini'\n",
        "TEMPERATURE = 1"
      ],
      "metadata": {
        "id": "gnsHMsJiM-j4"
      },
      "execution_count": 10,
      "outputs": []
    },
    {
      "cell_type": "code",
      "source": [
        "import random\n",
        "\n",
        "def content_sample(num_samples):\n",
        "  num_songs = num_samples//2\n",
        "  num_movies = num_samples - num_songs\n",
        "  song_sample = song_dataset.sample(num_songs).reset_index(drop = True)\n",
        "  movie_sample = movie_dataset.sample(num_movies).reset_index(drop = True)\n",
        "\n",
        "  song_list = [f\"artist: {song_sample.iloc[i]['artist']}- song: {song_sample.iloc[i]['song']}\" for i in range(num_songs)]\n",
        "  movie_list = [f\"movie: {movie_sample.iloc[i]['Title']}\" for i in range(num_movies)]\n",
        "  app_list = [f\"app: {app_dataset[i]}\" for i in range(len(app_dataset))]\n",
        "  return song_list, movie_list, app_list\n",
        "\n",
        "def command_sample(num_samples):\n",
        "  samples = random.sample(tv_command_templates, num_samples)\n",
        "  return samples\n",
        "\n",
        "def generate(command_list, content_list, generated_num = GENERATED_NUM, chain_length = CHAIN_LENGTH):\n",
        "  prompt = prompt_template.format(command_list=command_list, content_list = content_list, generated_nums=generated_num, chain_length=chain_length)\n",
        "  print(prompt)\n",
        "  response = client.responses.create(\n",
        "      model = MODEL,\n",
        "      input = prompt,\n",
        "      temperature = TEMPERATURE,\n",
        "  )\n",
        "\n",
        "  return response"
      ],
      "metadata": {
        "id": "AeeJ4QTNGUwO"
      },
      "execution_count": 11,
      "outputs": []
    },
    {
      "cell_type": "code",
      "source": [
        "command_list = command_sample(20)\n",
        "song_list, movie_list, app_list = content_sample(20)\n",
        "\n",
        "content_list = song_list + movie_list + app_list"
      ],
      "metadata": {
        "id": "qDVH8p4uIny-"
      },
      "execution_count": 12,
      "outputs": []
    },
    {
      "cell_type": "code",
      "source": [
        "response = generate(command_list, content_list)"
      ],
      "metadata": {
        "colab": {
          "base_uri": "https://localhost:8080/"
        },
        "id": "_tCLyY5RWfPP",
        "outputId": "dd4778a1-50d6-4e63-b376-919e3e8725eb"
      },
      "execution_count": 13,
      "outputs": [
        {
          "output_type": "stream",
          "name": "stdout",
          "text": [
            "\n",
            "You are given the following:\n",
            "\n",
            "- A list of TV control commands: ['set sound mode to [mode name]', 'turn on subtitles', 'skip intro', 'rewind', 'fast forward [seconds] seconds', 'resume', 'set volume to [level]', 'open settings', 'turn off subtitles', 'previous channel', 'enable night mode', 'select this option', 'stop', 'search on [app name] for [query]', 'add this to my watchlist', 'set picture mode to [mode name]', 'increase the volume to [level]', 'go to HDMI [number]', 'show the TV guide', 'show me recommendations']\n",
            "- A content list that includes names of songs, TV shows, movies, apps, and artists: [\"artist: Celine Dion- song: It's All Coming Back To Me Now\", \"artist: Loretta Lynn- song: I Can't See Me Without You\", 'artist: Ultravox- song: Dreams?', 'artist: Michael Bolton- song: For Once In My Life', 'artist: Tom Jones- song: Do I Ever Cross Your Mind', 'artist: Johnny Cash- song: Engine 143', 'artist: Nat King Cole- song: Because Of Rain', 'artist: Vince Gill- song: The Sight Of Me Without You', 'artist: Harry Connick, Jr.- song: For Once In My Life', 'artist: Phineas And Ferb- song: One Good Scare Ought To Do You Some Good', 'movie: The Visitors II: The Corridors of Time', 'movie: Urban Legends: Bloody Mary', 'movie: The Kill Team', 'movie: Notting Hill', \"movie: God's Not Dead: A Light in Darkness\", 'movie: Death Wish II', 'movie: Guilty as Sin', 'movie: History of the World: Part I', 'movie: Mulan', 'movie: Crouching Tiger, Hidden Dragon', 'app: YouTube', 'app: TikTok TV', 'app: Facebook Watch', 'app: Twitch', 'app: Dailymotion', 'app: Vimeo', 'app: Rumble', 'app: Bilibili', 'app: TED', 'app: Vevo TV', 'app: Netflix', 'app: Disney+', 'app: Amazon Prime Video', 'app: Apple TV+', 'app: HBO Max', 'app: Hulu', 'app: Paramount+', 'app: Peacock', 'app: Crunchyroll', 'app: Plex', 'app: Tubi TV', 'app: Pluto TV', 'app: Rakuten TV', 'app: Viki', 'app: Popcornflix', 'app: Spotify', 'app: Apple Music', 'app: YouTube Music', 'app: Amazon Music', 'app: Tidal', 'app: Deezer', 'app: Pandora', 'app: SoundCloud', 'app: iHeartRadio', 'app: TuneIn Radio', 'app: ESPN', 'app: DAZN', 'app: NBC Sports', 'app: CBS Sports', 'app: Red Bull TV', 'app: BBC iPlayer', 'app: ITVX', 'app: Sling TV']\n",
            "\n",
            "Your task is to generate 10 human-like commands using the command list and the content list. The content list includes the prefix movies or artist-song to shows you their type, you should remove them when generate commands, also leverage them smartly for high human-like commands.\n",
            "Half of the commands should be **single commands**, and the other half should be **chain commands**. A chain command consists of multiple actions (up to a maximum of 3 sub-commands) combined in a natural way.\n",
            "\n",
            "Be creative in your generation. You should use specific content from the content list—such as names of songs, movies, TV shows, or artists—instead of generic phrases like \"this song\" or \"that movie\".\n",
            "\n",
            "Each generated command should be as **realistic and unique** as possible.\n",
            "\n",
            "Return only the generated human-like commands in the **following JSON format** (use **double quotes** for all strings, and ensure the output is valid JSON):\n",
            "\n",
            "```json\n",
            "{\n",
            "  \"single\": [\n",
            "    \"string\"\n",
            "  ],\n",
            "  \"chain\": [\n",
            "    {\n",
            "      \"full_commands\": \"string\",\n",
            "      \"sub_commands\": [\"string\"]\n",
            "    }\n",
            "  ]\n",
            "}\n",
            "\n"
          ]
        }
      ]
    },
    {
      "cell_type": "code",
      "source": [
        "raw_output = response.output[0].content[0].text\n",
        "\n",
        "import json\n",
        "import re\n",
        "\n",
        "def clean_json_string(raw_output):\n",
        "    # Bỏ phần ```json và ```\n",
        "    cleaned = re.sub(r\"^```json\\s*|\\s*```$\", \"\", raw_output.strip())\n",
        "    return cleaned\n",
        "\n",
        "def parse_generated_json(raw_output):\n",
        "    cleaned = clean_json_string(raw_output)\n",
        "    return json.loads(cleaned)\n",
        "\n",
        "# Example usage\n",
        "parsed_data = parse_generated_json(raw_output)\n",
        "parsed_data"
      ],
      "metadata": {
        "colab": {
          "base_uri": "https://localhost:8080/"
        },
        "id": "YcE1IG8mPFRa",
        "outputId": "d7bb8e4c-cd81-4d10-ddf6-50d2cb201a7e"
      },
      "execution_count": 14,
      "outputs": [
        {
          "output_type": "execute_result",
          "data": {
            "text/plain": [
              "{'single': ['set sound mode to cinema',\n",
              "  'turn on subtitles',\n",
              "  'resume',\n",
              "  'set volume to 75',\n",
              "  'show the TV guide'],\n",
              " 'chain': [{'full_commands': \"play 'It's All Coming Back To Me Now' by Celine Dion and increase the volume to 80\",\n",
              "   'sub_commands': [\"search on YouTube for 'It's All Coming Back To Me Now'\",\n",
              "    'increase the volume to 80']},\n",
              "  {'full_commands': 'fast forward 30 seconds and skip intro',\n",
              "   'sub_commands': ['fast forward 30 seconds', 'skip intro']},\n",
              "  {'full_commands': 'open Netflix and show me recommendations',\n",
              "   'sub_commands': ['open Netflix', 'show me recommendations']},\n",
              "  {'full_commands': \"add 'Notting Hill' to my watchlist and select this option\",\n",
              "   'sub_commands': [\"add 'Notting Hill' to my watchlist\",\n",
              "    'select this option']}]}"
            ]
          },
          "metadata": {},
          "execution_count": 14
        }
      ]
    },
    {
      "cell_type": "code",
      "source": [
        "import pandas as pd\n",
        "\n",
        "\n",
        "def create_df(parsed_data):\n",
        "  data = parsed_data\n",
        "  rows = []\n",
        "\n",
        "  # Xử lý single commands\n",
        "  for idx, cmd in enumerate(data['single']):\n",
        "      row_id = f\"single_{idx:08d}\"\n",
        "      rows.append({\n",
        "          'id': row_id,\n",
        "          'command': cmd,\n",
        "          'type': 'single',\n",
        "          'sub_command': None\n",
        "      })\n",
        "\n",
        "  # Xử lý chain commands\n",
        "  for i, cmd in enumerate(data['chain']):\n",
        "      row_id = f\"chain_{i:08d}\"\n",
        "      rows.append({\n",
        "          'id': row_id,\n",
        "          'command': cmd['full_commands'],\n",
        "          'type': 'chain',\n",
        "          'sub_command': cmd['sub_commands']\n",
        "      })\n",
        "\n",
        "  # Tạo DataFrame\n",
        "  df = pd.DataFrame(rows)\n",
        "\n",
        "  # Xuất ra file CSV\n",
        "  df.to_csv('tv_commands.csv', index=False)\n",
        "  return df\n",
        "\n",
        "df = create_df(parsed_data)"
      ],
      "metadata": {
        "id": "6aZTTG5UwwnW"
      },
      "execution_count": 30,
      "outputs": []
    },
    {
      "cell_type": "markdown",
      "source": [
        "# Audio Synthesis"
      ],
      "metadata": {
        "id": "wyVTKVvlwDv7"
      }
    },
    {
      "cell_type": "markdown",
      "source": [
        "## Model T5"
      ],
      "metadata": {
        "id": "ZDuqBEGBdVky"
      }
    },
    {
      "cell_type": "code",
      "source": [
        "from importlib.resources import files\n",
        "from f5_tts.api import F5TTS\n",
        "\n",
        "f5tts = F5TTS(device = 'cuda')"
      ],
      "metadata": {
        "colab": {
          "base_uri": "https://localhost:8080/"
        },
        "id": "t_b7rCTrnBR5",
        "outputId": "4c9e7024-fd84-4d79-c1e6-96220003d5f9"
      },
      "execution_count": 31,
      "outputs": [
        {
          "output_type": "stream",
          "name": "stdout",
          "text": [
            "Download Vocos from huggingface charactr/vocos-mel-24khz\n",
            "\n",
            "vocab :  /usr/local/lib/python3.11/dist-packages/f5_tts/infer/examples/vocab.txt\n",
            "token :  custom\n",
            "model :  /root/.cache/huggingface/hub/models--SWivid--F5-TTS/snapshots/84e5a410d9cead4de2f847e7c9369a6440bdfaca/F5TTS_v1_Base/model_1250000.safetensors \n",
            "\n"
          ]
        }
      ]
    },
    {
      "cell_type": "code",
      "source": [
        "wav, sr, spec = f5tts.infer(\n",
        "    ref_file=\"/content/audio/dung/EN_B00013_S02432_W000000.wav\",\n",
        "    ref_text=\"I know that I just can't help it, love. So after all these years, you're finally gonna pop the question, huh?\",\n",
        "    gen_text=\"\"\"switch to AV mode and play If Not Now... by Tracy Chapman\"\"\",\n",
        "    seed=None,\n",
        ")"
      ],
      "metadata": {
        "colab": {
          "base_uri": "https://localhost:8080/"
        },
        "id": "eRfRTGTVoKto",
        "outputId": "88f6d23d-adf1-4a8f-9e8e-f6ba30a8aac2"
      },
      "execution_count": 32,
      "outputs": [
        {
          "output_type": "stream",
          "name": "stdout",
          "text": [
            "Converting audio...\n",
            "Using custom reference text...\n",
            "\n",
            "ref_text   I know that I just can't help it, love. So after all these years, you're finally gonna pop the question, huh?. \n",
            "gen_text 0 switch to AV mode and play If Not Now... by Tracy Chapman\n",
            "\n",
            "\n",
            "Generating audio in 1 batches...\n"
          ]
        },
        {
          "output_type": "stream",
          "name": "stderr",
          "text": [
            "100%|██████████| 1/1 [00:03<00:00,  3.05s/it]\n"
          ]
        }
      ]
    },
    {
      "cell_type": "code",
      "source": [
        "from IPython.display import Audio, display\n",
        "\n",
        "display(Audio(data=wav, rate=sr))"
      ],
      "metadata": {
        "colab": {
          "base_uri": "https://localhost:8080/",
          "height": 75
        },
        "id": "7JwADzk_pZDX",
        "outputId": "86d353da-c2af-4688-e975-8cc830b7e37d"
      },
      "execution_count": 33,
      "outputs": [
        {
          "output_type": "display_data",
          "data": {
            "text/plain": [
              "<IPython.lib.display.Audio object>"
            ],
            "text/html": [
              "\n",
              "                <audio  controls=\"controls\" >\n",
              "                    <source src=\"data:audio/wav;base64,UklGRiTUAgBXQVZFZm10IBAAAAABAAEAwF0AAIC7AAACABAAZGF0YQDUAgAAAAAAAAAAAAAAAAAAAAAAAAAAAAAAAAAAAAAAAAAAAAAAAAAAAAAAAAAAAAAAAAAAAAAAAAAAAAAAAAAAAAAAAAAAAAAAAAAAAAAAAAAAAAAAAAAAAAAAAAAAAAAAAAAAAAAAAAAAAAAAAAAAAAAAAAAAAAAAAAAAAAAAAAAAAAAAAAAAAAAAAAAAAAAAAAAAAAAAAAAAAAAAAAAAAAAAAAAAAAAAAAAAAAAAAAAAAAAAAAAAAAAAAAAAAAAAAAAAAAAAAAAAAAAAAAAAAAAAAAAAAAAAAAAAAAAAAAAAAAAAAAAAAAAAAAAAAAAAAAAAAAAAAAAAAAAAAAAAAAAAAAAAAAAAAAAAAAAAAAAAAAAAAAAAAAAAAAAAAAAAAAAAAAAAAAAAAAAAAAAAAAAAAAAAAAAAAAAAAAAAAAAAAAAAAAAAAAAAAAAAAAAAAAAAAAAAAAAAAAAAAAAAAAAAAAAAAAAAAAAAAAAAAAAAAAAAAAAAAAAAAAAAAAAAAAAAAAAAAAAAAAAAAAAAAAAAAAAAAAAAAAAAAAAAAAAAAAAAAAAAAAAAAAAAAAAAAAAAAAAAAAAAAAAAAAAAAAAAAAAAAAAAAAAAAAAAAAAAAAAAAAAAAAAAAAAAAAAAAAAAAAAAAAAAAAAAAAAAAAAAAAAAAAAAAAAAAAAAAAAAAAAAAAAAAAAAAAAAAAAAAAAAAAAAAAAAAAAAAAAAAAAAAAAAAAAAAAAAAAAAAAAAAAAAAAAAAAAAAAAAAAAAAAAAAAAAAAAAAAAAAAAAAAAAAAAAAAAAAAAAAAAAAAAAAAAAAAAAAAAAAAAAAAAAAAAAAAAAAAAAAAAAAAAAAAAAAAAAAAAAAAAAAAAAAAAAAAAAAAAAAAAAAAAAAAAAAAAAAAAAAAAAAAAAAAAAAAAAAAAAAAAAAAAAAAAAAAAAAAAAAAAAAAAAAAAAAAAAAAAAAAAAAAAAAAAAAAAAAAAAAAAAAAAAAAAAAAAAAAAAAAAAAAAAAAAAAAAAAAAAAAAAAAAAAAAAAAAAAAAAAAAAAAAAAAAAAAAAAAAAAAAAAAAAAAAAAAAAAAAAAAAAAAAAAAAAAAAAAAAAAAAAAAAAAAAAAAAAAAAAAAAAAAAAAAAAAAAAAAAAAAAAAAAAAAAAAAAAAAAAAAAAAAAAAAAAAAAAAAAAAAAAAAAAAAAAAAAAAAAAAAAAAAAAAAAAAAAAAAAAAAAAAAAAAAAAAAAAAAAAAAAAAAAAAAAAAAAAAAAAAAAAAAAAAAAAAAAAAAAAAAAAAAAAAAAAAAAAAAAAAAAAAAAAAAAAAAAAAAAAAAAAAAAAAAAAAAAAAAAAAAAAAAAAAAAAAAAAAAAAAAAAAAAAAAAAAAAAAAAAAAAAAAAAAAAAAAAAAAAAAAAAAAAAAAAAAAAAAAAAAAAAAAAAAAAAAAAAAAAAAAAAAAAAAAAAAAAAAAAAAAAAAAAAAAAAAAAAAAAAAAAAAAAAAAAAAAAAAAAAAAAAAAAAAAAAAAAAAAAAAAAAAAAAAAAAAAAAAAAAAAAAAAAAAAAAAAAAAAAAAAAAAAAAAAAAAAAAAAAAAAAAAAAAAAAAAAAAAAAAAAAAAAAAAAAAAAAAAAAAAAAAAAAAAAAAAAAAAAAAAAAAAAAAAAAAAAAAAAAAAAAAAAAAAAAAAAAAAAAAAAAAAAAAAAAAAAAAAAAAAAAAAAAAAAAAAAAAAAAAAAAAAAAAAAAAAAAAAAAAAAAAAAAAAAAAAAAAAAAAAAAAAAAAAAAAAAAAAAAAAAAAAAAAAAAAAAAAAAAAAAAAAAAAAAAAAAAAAAAAAAAAAAAAAAAAAAAAAAAAAAAAAAAAAAAAAAAAAAAAAAAAAAAAAAAAAAAAAAAAAAAAAAAAAAAAAAAAAAAAAAAAAAAAAAAAAAAAAAAAAAAAAAAAAAAAAAAAAAAAAAAAAAAAAAAAAAAAAAAAAAAAAAAAAAAAAAAAAAAAAAAAAAAAAAAAAAAAAAAAAAAAAAAAAAAAAAAAAAAAAAAAAAAAAAAAAAAAAAAAAAAAAAAAAAAAAAAAAAAAAAAAAAAAAAAAAAAAAAAAAAAAAAAAAAAAAAAAAAAAAAAAAAAAAAAAAAAAAAAAAAAAAAAAAAAAAAAAAAAAAAAAAAAAAAAAAAAAAAAAAAAAAAAAAAAAAAAAAAAAAAAAAAAAAAAAAAAAAAAAAAAAAAAAAAAAAAAAAAAAAAAAAAAAAAAAAAAAAAAAAAAAAAAAAAAAAAAAAAAAAAAAAAAAAAAAAAAAAAAAAAAAAAAAAAAAAAAAAAAAAAAAAAAAAAAAAAAAAAAAAAAAAAAAAAAAAAAAAAAAAAAAAAAAAAAAAAAAAAAAAAAAAAAAAAAAAAAAAAAAAAAAAAAAAAAAAAAAAAAAAAAAAAAAAAAAAAAAAAAAAAAAAAAAAAAAAAAAAAAAAAAAAAAAAAAAAAAAAAAAAAAAAAAAAAAAAAAAAAAAAAAAAAAAAAAAAAAAAAAAAAAAAAAAAAAAAAAAAAAAAAAAAAAAAAAAAAAAAAAAAAAAAAAAAAAAAAAAAAAAAAAAAAAAAAAAAAAAAAAAAAAAAAAAAAAAAAAAAAAAAAAAAAAAAAAAAAAAAAAAAAAAAAAAAAAAAAAAAAAAAAAAAAAAAAAAAAAAAAAAAAAAAAAAAAAAAAAAAAAAAAAAAAAAAAAAAAAAAAAAAAAAAAAAAAAAAAAAAAAAAAAAAAAAAAAAAAAAAAAAAAAAAAAAAAAAAAAAAAAAAAAAAAAAAAAAAAAAAAAAAAAAAAAAAAAAAAAAAAAAAAAAAAAAAAAAAAAAAAAAAAAAAAAAAAAAAAAAAAAAAAAAAAAAAAAAAAAAAAAAAAAAAAAAAAAAAAAAAAAAAAAAAAAAAAAAAAAAAAAAAAAAAAAAAAAAAAAAAAAAAAAAAAAAAAAAAAAAAAAAAAAAAAAAAAAAAAAAAAAAAAAAAAAAAAAAAAAAAAAAAAAAAAAAAAAAAAAAAAAAAAAAAAAAAAAAAAAAAAAAAAAAAAAAAAAAAAAAAAAAAAAAAAAAAAAAAAAAAAAAAAAAAAAAAAAAAAAAAAAAAAAAAAAAAAAAAAAAAAAAAAAAAAAAAAAAAAAAAAAAAAAAAAAAAAAAAAAAAAAAAAAAAAAAAAAAAAAAAAAAAAAAAAAAAAAAAAAAAAAAAAAAAAAAAAAAAAAAAAAAAAAAAAAAAAAAAAAAAAAAAAAAAAAAAAAAAAAAAAAAAAAAAAAAAAAAAAAAAAAAAAAAAAAAAAAAAAAAAAAAAAAAAAAAAAAAAAAAAAAAAAAAAAAAAAAAAAAAAAAAAAAAAAAAAAAAAAAAAAAAAAAAAAAAAAAAAAAAAAAAAAAAAAAAAAAAAAAAAAAAAAAAAAAAAAAAAAAAAAAAAAAAAAAAAAAAAAAAAAAAAAAAAAAAAAAAAAAAAAAAAAAAAAAAAAAAAAAAAAAAAAAAAAAAAAAAAAAAAAAAAAAAAAAAAAAAAAAAAAAAAAAAAAAAAAAAAAAAAAAAAAAAAAAAAAAAAAAAAAAAAAAAAAAAAAAAAAAAAAAAAAAAAAAAAAAAAAAAAAAAAAAAAAAAAAAAAAAAAAAAAAAAAAAAAAAAAAAAAAAAAAAAAAAAAAAAAAAAAAAAAAAAAAAAAAAAAAAAAAAAAAAAAAAAAAAAAAAAAAAAAAAAAAAAAAAAAAAAAAAAAAAAAAAAAAAAAAAAAAAAAAAAAAAAAAAAAAAAAAAAAAAAAAAAAAAAAAAAAAAAAAAAAAAAAAAAAAAAAAAAAAAAAAAAAAAAAAAAAAAAAAAAAAAAAAAAAAAAAAAAAAAAAAAAAAAAAAAAAAAAAAAAAAAAAAAAAAAAAAAAAAAAAAAAAAAAAAAAAAAAAAAAAAAAAAAAAAAAAAAAAAAAAAAAAAAAAAAAAAAAAAAAAAAAAAAAAAAAAAAAAAAAAAAAAAAAAAAAAAAAAAAAAAAAAAAAAAAAAAAAAAAAAAAAAAAAAAAAAAAAAAAAAAAAAAAAAAAAAAAAAAAAAAAAAAAAAAAAAAAAAAAAAAAAAAAAAAAAAAAAAAAAAAAAAAAAAAAAAAAAAAAAAAAAAAAAAAAAAAAAAAAAAAAAAAAAAAAAAAAAAAAAAAAAAAAAAAAAAAAAAAAAAAAAAAAAAAAAAAAAAAAAAAAAAAAAAAAAAAAAAAAAAAAAAAAAAAAAAAAAAAAAAAAAAAAAAAAAAAAAAAAAAAAAAAAAAAAAAAAAAAAAAAAAAAAAAAAAAAAAAAAAAAAAAAAAAAAAAAAAAAAAAAAAAAAAAAAAAAAAAAAAAAAAAAAAAAAAAAAAAAAAAAAAAAAAAAAAAAAAAAAAAAAAAAAAAAAAAAAAAAAAAAAAAAAAAAAAAAAAAAAAAAAAAAAAAAAAAAAAAAAAAAAAAAAAAAAAAAAAAAAAAAAAAAAAAAAAAAAAAAAAAAAAAAAAAAAAAAAAAAAAAAAAAAAAAAAAAAAAAAAAAAAAAAAAAAAAAAAAAAAAAAAAAAAAAAAAAAAAAAAAAAAAAAAAAAAAAAAAAAAAAAAAAAAAAAAAAAAAAAAAAAAAAAAAAAAAAAAAAAAAAAAAAAAAAAAAAAAAAAAAAAAAAAAAAAAAAAAAAAAAAAAAAAAAAAAAAAAAAAAAAAAAAAAAAAAAAAAAAAAAAAAAAAAAAAAAAAAAAAAAAAAAAAAAAAAAAAAAAAAAAAAAAAAAAAAAAAAAAAAAAAAAAAAAAAAAAAAAAAAAAAAAAAAAAAAAAAAAAAAAAAAAAAAAAAAAAAAAAAAAAAAAAAAAAAAAAAAAAAAAAAAAAAAAAAAAAAAAAAAAAAAAAAAAAAAAAAAAAAAAAAAAAAAAAAAAAAAAAAAAAAAAAAAAAAAAAAAAAAAAAAAAAAAAAAAAAAAAAAAAAAAAAAAAAAAAAAAAAAAAAAAAAAAAAAAAAAAAAAAAAAAAAAAAAAAAAAAAAAAAAAAAAAAAAAAAAAAAAAAAAAAAAAAAAAAAAAAAAAAAAAAAAAAAAAAAAAAAAAAAAAAAAAAAAAAAAAAAAAAAAAAAAAAAAAAAAAAAAAAAAAAAAAAAAAAAAAAAAAAAAAAAAAAAAAAAAAAAAAAAAAAAAAAAAAAAAAAAAAAAAAAAAAAAAAAAAAAAAAAAAAAAAAAAAAAAAAAAAAAAAAAAAAAAAAAAAAAAAAAAAAAAAAAAAAAAAAAAAAAAAAAAAAAAAAAAAAAAAAAAAAAAAAAAAAAAAAAAAAAAAAAAAAAAAAAAAAAAAAAAAAAAAAAAAAAAAAAAAAAAAAAAAAAAAAAAAAAAAAAAAAAAAAAAAAAAAAAAAAAAAAAAAAAAAAAAAAAAAAAAAAAAAAAAAAAAAAAAAAAAAAAAAAAAAAAAAAAAAAAAAAAAAAAAAAAAAAAAAAAAAAAAAAAAAAAAAAAAAAAAAAAAAAAAAAAAAAAAAAAAAAAAAAAAAAAAAAAAAAAAAAAAAAAAAAAAAAAAAAAAAAAAAAAAAAAAAAAAAAAAAAAAAAAAAAAAAAAAAAAAAAAAAAAAAAAAAAAAAAAAAAAAAAAAAAAAAAAAAAAAAAAAAAAAAAAAAAAAAAAAAAAAAAAAAAAAAAAAAAAAAAAAAAAAAAAAAAAAAAAAAAAAAAAAAAAAAAAAAAAAAAAAAAAAAAAAAAAAAAAAAAAAAAAAAAAAAAAAAAAAAAAAAAAAAAAAAAAAAAAAAAAAAAAAAAAAAAAAAAAAAAAAAAAAAAAAAAAAAAAAAAAAAAAAAAAAAAAAAAAAAAAAAAAAAAAAAAAAAAAAAAAAAAAAAAAAAAAAAAAAAAAAAAAAAAAAAAAAAAAAAAAAAAAAAAAAAAAAAAAAAAAAAAAAAAAAAAAAAAAAAAAAAAAAAAAAAAAAAAAAAAAAAAAAAAAAAAAAAAAAAAAAAAAAAAAAAAAAAAAAAAAAAAAAAAAAAAAAAAAAAAAAAAAAAAAAAAAAAAAAAAAAAAAAAAAAAAAAAAAAAAAAAAAAAAAAAAAAAAAAAAAAAAAAAAAAAAAAAAAAAAAAAAAAAAAAAAAAAAAAAAAAAAAAAAAAAAAAAAAAAAAAAAAAAAAAAAAAAAAAAAAAAAAAAAAAAAAAAAAAAAAAAAAAAAAAAAAAAAAAAAAAAAAAAAAAAAAAAAAAAAAAAAAAAAAAAAAAAAAAAAAAAAAAAAAAAAAAAAAAAAAAAAAAAAAAAAAAAAAAAAAAAAAAAAAAAAAAAAAAAAAAAAAAAAAAAAAAAAAAAAAAAAAAAAAAAAAAAAAAAAAAAAAAAAAAAAAAAAAAAAAAAAAAAAAAAAAAAAAAAAAAAAAAAAAAAAAAAAAAAAAAAAAAAAAAAAAAAAAAAAAAAAAAAAAAAAAAAAAAAAAAAAAAAAAAAAAAAAAAAAAAAAAAAAAAAAAAAAAAAAAAAAAAAAAAAAAAAAAAAAAAAAAAAAAAAAAAAAAAAAAAAAAAAAAAAAAAAAAAAAAAAAAAAAAAAAAAAAAAAAAAAAAAAAAAAAAAAAAAAAAAAAAAAAAAAAAAAAAAAAAAAAAAAAAAAAAAAAAAAAAAAAAAAAAAAAAAAAAAAAAAAAAAAAAAAAAAAAAAAAAAAAAAAAAAAAAAAAAAAAAAAAAAAAAAAAAAAAAAAAAAAAAAAAAAAAAAAAAAAAAAAAAAAAAAAAAAAAAAAAAAAAAAAAAAAAAAAAAAAAAAAAAAAAAAAAAAAAAAAAAAAAAAAAAAAAAAAAAAAAAAAAAAAAAAAAAAAAAAAAAAAAAAAAAAAAAAAAAAAAAAAAAAAAAAAAAAAAAAAAAAAAAAAAAAAAAAAAAAAAAAAAAAAAAAAAAAAAAAAAAAAAAAAAAAAAAAAAAAAAAAAAAAAAAAAAAAAAAAAAAAAAAAAAAAAAAAAAAAAAAAAAAAAAAAAAAAAAAAAAAAAAAAAAAAAAAAAAAAAAAAAAAAAAAAAAAAAAAAAAAAAAAAAAAAAAAAAAAAAAAAAAAAAAAAAAAAAAAAAAAAAAAAAAAAAAAAAAAAAAAAAAAAAAAAAAAAAAAAAAAAAAAAAAAAAAAAAAAAAAAAAAAAAAAAAAAAAAAAAAAAAAAAAAAAAAAAAAAAAAAAAAAAAAAAAAAAAAAAAAAAAAAAAAAAAAAAAAAAAAAAAAAAAAAAAAAAAAAAAAAAAAAAAAAAAAAAAAAAAAAAAAAAAAAAAAAAAAAAAAAAAAAAAAAAAAAAAAAAAAAAAAAAAAAAAAAAAAAAAAAAAAAAAAAAAAAAAAAAAAAAAAAAAAAAAAAAAAAAAAAAAAAAAAAAAAAAAAAAAAAAAAAAAAAAAAAAAAAAAAAAAAAAAAAAAAAAAAAAAAAAAAAAAAAAAAAAAAAAAAAAAAAAAAAAAAAAAAAAAAAAAAAAAAAAAAAAAAAAAAAAAAAAAAAAAAAAAAAAAAAAAAAAAAAAAAAAAAAAAAAAAAAAAAAAAAAAAAAAAAAAAAAAAAAAAAAAAAAAAAAAAAAAAAAAAAAAAAAAAAAAAAAAAAAAAAAAAAAAAAAAAAAAAAAAAAAAAAAAAAAAAAAAAAAAAAAAAAAAAAAAAAAAAAAAAAAAAAAAAAAAAAAAAAAAAAAAAAAAAAAAAAAAAAAAAAAAAAAAAAAAAAAAAAAAAAAAAAAAAAAAAAAAAAAAAAAAAAAAAAAAAAAAAAAAAAAAAAAAAAAAAAAAAAAAAAAAAAAAAAAAAAAAAAAAAAAAAAAAAAAAAAAAAAAAAAAAAAAAAAAAAAAAAAAAAAAAAAAAAAAAAAAAAAAAAAAAAAAAAAAAAAAAAAAAAAAAAAAAAAAAAAAAAAAAAAAAAAAAAAAAAAAAAAAAAAAAAAAAAAAAAAAAAAAAAAAAAAAAAAAAAAAAAAAAAAAAAAAAAAAAAAAAAAAAAAAAAAAAAAAAAAAAAAAAAAAAAAAAAAAAAAAAAAAAAAAAAAAAAAAAAAAAAAAAAAAAAAAAAAAAAAAAAAAAAAAAAAAAAAAAAAAAAAAAAAAAAAAAAAAAAAAAAAAAAAAAAAAAAAAAAAAAAAAAAAAAAAAAAAAAAAAAAAAAAAAAAAAAAAAAAAAAAAAAAAAAAAAAAAAAAAAAAAAAAAAAAAAAAAAAAAAAAAAAAAAAAAAAAAAAAAAAAAAAAAAAAAAAAAAAAAAAAAAAAAAAAAAAAAAAAAAAAAAAAAAAAAAAAAAAAAAAAAAAAAAAAAAAAAAAAAAAAAAAAAAAAAAAAAAAAAAAAAAAAAAAAAAAAAAAAAAAAAAAAAAAAAAAAAAAAAAAAAAAAAAAAAAAAAAAAAAAAAAAAAAAAAAAAAAAAAAAAAAAAAAAAAAAAAAAAAAAAAAAAAAAAAAAAAAAAAAAAAAAAAAAAAAAAAAAAAAAAAAAAAAAAAAAAAAAAAAAAAAAAAAAAAAAAAAAAAAAAAAAAAAAAAAAAAAAAAAAAAAAAAAAAAAAAAAAAAAAAAAAAAAAAAAAAAAAAAAAAAAAAAAAAAAAAAAAAAAAAAAAAAAAAAAAAAAAAAAAAAAAAAAAAAAAAAAAAAAAAAAAAAAAAAAAAAAAAAAAAAAAAAAAAAAAAAAAAAAAAAAAAAAAAAAAAAAAAAAAAAAAAAAAAAAAAAAAAAAAAAAAAAAAAAAAAAAAAAAAAAAAAAAAAAAAAAAAAAAAAAAAAAAAAAAAAAAAAAAAAAAAAAAAAAAAAAAAAAAAAAAAAAAAAAAAAAAAAAAAAAAAAAAAAAAAAAAAAAAAAAAAAAAAAAAAAAAAAAAAAAAAAAAAAAAAAAAAAAAAAAAAAAAAAAAAAAAAAAAAAAAAAAAAAAAAAAAAAAAAAAAAAAAAAAAAAAAAAAAAAAAAAAAAAAAAAAAAAAAAAAAAAAAAAAAAAAAAAAAAAAAAAAAAAAAAAAAAAAAAAAAAAAAAAAAAAAAAAAAAAAAAAAAAAAAAAAAAAAAAAAAAAAAAAAAAAAAAAAAAAAAAAAAAAAAAAAAAAAAAAAAAAAAAAAAAAAAAAAAAAAAAAAAAAAAAAAAAAAAAAAAAAAAAAAAAAAAAAAAAAAAAAAAAAAAAAAAAAAAAAAAAAAAAAAAAAAAAAAAAAAAAAAAAAAAAAAAAAAAAAAAAAAAAAAAAAAAAAAAAAAAAAAAAAAAAAAAAAAAAAAAAAAAAAAAAAAAAAAAAAAAAAAAAAAAAAAAAAAAAAAAAAAAAAAAAAAAAAAAAAAAAAAAAAAAAAAAAAAAAAAAAAAAAAAAAAAAAAAAAAAAAAAAAAAAAAAAAAAAAAAAAAAAAAAAAAAAAAAAAAAAAAAAAAAAAAAAAAAAAAAAAAAAAAAAAAAAAAAAAAAAAAAAAAAAAAAAAAAAAAAAAAAAAAAAAAAAAAAAAAAAAAAAAAAAAAAAAAAAAAAAAAAAAAAAAAAAAAAAAAAAAAAAAAAAAAAAAAAAAAAAAAAAAAAAAAAAAAAAAAAAAAAAAAAAAAAAAAAAAAAAAAAAAAAAAAAAAAAAAAAAAAAAAAAAAAAAAAAAAAAAAAAAAAAAAAAAAAAAAAAAAAAAAAAAAAAAAAAAAAAAAAAAAAAAAAAAAAAAAAAAAAAAAAAAAAAAAAAAAAAAAAAAAAAAAAAAAAAAAAAAAAAAAAAAAAAAAAAAAAAAAAAAAAAAAAAAAAAAAAAAAAAAAAAAAAAAAAAAAAAAAAAAAAAAAAAAAAAAAAAAAAAAAAAAAAAAAAAAAAAAAAAAAAAAAAAAAAAAAAAAAAAAAAAAAAAAAAAAAAAAAAAAAAAAAAAAAAAAAAAAAAAAAAAAAAAAAAAAAAAAAAAAAAAAAAAAAAAAAAAAAAAAAAAAAAAAAAAAAAAAAAAAAAAAAAAAAAAAAAAAAAAAAAAAAAAAAAAAAAAAAAAAAAAAAAAAAAAAAAAAAAAAAAAAAAAAAAAAAAAAAAAAAAAAAAAAAAAAAAAAAAAAAAAAAAAAAAAAAAAAAAAAAAAAAAAAAAAAAAAAAAAAAAAAAAAAAAAAAAAAAAAAAAAAAAAAAAAAAAAAAAAAAAAAAAAAAAAAAAAAAAAAAAAAAAAAAAAAAAAAAAAAAAAAAAAAAAAAAAAAAAAAAAAAAAAAAAAAAAAAAAAAAAAAAAAAAAAAAAAAAAAAAAAAAAAAAAAAAAAAAAAAAAAAAAAAAAAAAAAAAAAAAAAAAAAAAAAAAAAAAAAAAAAAAAAAAAAAAAAAAAAAAAAAAAAAAAAAAAAAAAAAAAAAAAAAAAAAAAAAAAAAAAAAAAAAAAAAAAAAAAAAAAAAAAAAAAAAAAAAAAAAAAAAAAAAAAAAAAAAAAAAAAAAAAAAAAAAAAAAAAAAAAAAAAAAAAAAAAAAAAAAAAAAAAAAAAAAAAAAAAAAAAAAAAAAAAAAAAAAAAAAAAAAAAAAAAAAAAAAAAAAAAAAAAAAAAAAAAAAAAAAAAAAAAAAAAAAAAAAAAAAAAAAAAAAAAAAAAAAAAAAAAAAAAAAAAAAAAAAAAAAAAAAAAAAAAAAAAAAAAAAAAAAAAAAAAAAAAAAAAAAAAAAAAAAAAAAAAAAAAAAAAAAAAAAAAAAAAAAAAAAAAAAAAAAAAAAAAAAAAAAAAAAAAAAAAAAAAAAAAAAAAAAAAAAAAAAAAAAAAAAAAAAAAAAAAAAAAAAAAAAAAAAAAAAAAAAAAAAAAAAAAAAAAAAAAAAAAAAAAAAAAAAAAAAAAAAAAAAAAAAAAAAAAAAAAAAAAAAAAAAAAAAAAAAAAAAAAAAAAAAAAAAAAAAAAAAAAAAAAAAAAAAAAAAAAAAAAAAAAAAAAAAAAAAAAAAAAAAAAAAAAAAAAAAAAAAAAAAAAAAAAAAAAAAAAAAAAAAAAAAAAAAAAAAAAAAAAAAAAAAAAAAAAAAAAAAAAAAAAAAAAAAAAAAAAAAAAAAAAAAAAAAAAAAAAAAAAAAAAAAAAAAAAAAAAAAAAAAAAAAAAAAAAAAAAAAAAAAAAAAAAAAAAAAAAAAAAAAAAAAAAAAAAAAAAAAAAAAAAAAAAAAAAAAAAAAAAAAAAAAAAAAAAAAAAAAAAAAAAAAAAAAAAAAAAAAAAAAAAAAAAAAAAAAAAAAAAAAAAAAAAAAAAAAAAAAAAAAAAAAAAAAAAAAAAAAAAAAAAAAAAAAAAAAAAAAAAAAAAAAAAAAAAAAAAAAAAAAAAAAAAAAAAAAAAAAAAAAAAAAAAAAAAAAAAAAAAAAAAAAAAAAAAAAAAAAAAAAAAAAAAAAAAAAAAAAAAAAAAAAAAAAAAAAAAAAAAAAAAAAAAAAAAAAAAAAAAAAAAAAAAAAAAAAAAAAAAAAAAAAAAAAAAAAAAAAAAAAAAAAAAAAAAAAAAAAAAAAAAAAAAAAAAAAAAAAAAAAAAAAAAAAAAAAAAAAAAAAAAAAAAAAAAAAAAAAAAAAAAAAAAAAAAAAAAAAAAAAAAAAAAAAAAAAAAAAAAAAAAAAAAAAAAAAAAAAAAAAAAAAAAAAAAAAAAAAAAAAAAAAAAAAAAAAAAAAAAAAAAAAAAAAAAAAAAAAAAAAAAAAAAAAAAAAAAAAAAAAAAAAAAAAAAAAAAAAAAAAAAAAAAAAAAAAAAAAAAAAAAAAAAAAAAAAAAAAAAAAAAAAAAAAAAAAAAAAAAAAAAAAAAAAAAAAAAAAAAAAAAAAAAAAAAAAAAAAAAAAAAAAAAAAAAAAAAAAAAAAAAAAAAAAAAAAAAAAAAAAAAAAAAAAAAAAAAAAAAAAAAAAAAAAAAAAAAAAAAAAAAAAAAAAAAAAAAAAAAAAAAAAAAAAAAAAAAAAAAAAAAAAAAAAAAAAAAAAAAAAAAAAAAAAAAAAAAAAAAAAAAAAAAAAAAAAAAAAAAAAAAAAAAAAAAAAAAAAAAAAAAAAAAAAAAAAAAAAAAAAAAAAAAAAAAAAAAAAAAAAAAAAAAAAAAAAAAAAAAAAAAAAAAAAAAAAAAAAAAAAAAAAAAAAAAAAAAAAAAAAAAAAAAAAAAAAAAAAAAAAAAAAAAAAAAAAAAAAAAAAAAAAAAAAAAAAAAAAAAAAAAAAAAAAAAAAAAAAAAAAAAAAAAAAAAAAAAAAAAAAAAAAAAAAAAAAAAAAAAAAAAAAAAAAAAAAAAAAAAAAAAAAAAAAAAAAAAAAAAAAAAAAAAAAAAAAAAAAAAAAAAAAAAAAAAAAAAAAAAAAAAAAAAAAAAAAAAAAAAAAAAAAAAAAAAAAAAAAAAAAAAAAAAAAAAAAAAAAAAAAAAAAAAAAAAAAAAAAAAAAAAAAAAAAAAAAAAAAAAAAAAAAAAAAAAAAAAAAAAAAAAAAAAAAAAAAAAAAAAAAAAAAAAAAAAAAAAAAAAAAAAAAAAAAAAAAAAAAAAAAAAAAAAAAAAAAAAAAAAAAAAAAAAAAAAAAAAAAAAAAAAAAAAAAAAAAAAAAAAAAAAAAAAAAAAAAAAAAAAAAAAAAAAAAAAAAAAAAAAAAAAAAAAAAAAAAAAAAAAAAAAAAAAAAAAAAAAAAAAAAAAAAAAAAAAAAAAAAAAAAAAAAAAAAAAAAAAAAAAAAAAAAAAAAAAAAAAAAAAAAAAAAAAAAAAAAAAAAAAAAAAAAAAAAAAAAAAAAAAAAAAAAAAAAAAAAAAAAAAAAAAAAAAAAAAAAAAAAAAAAAAAAAAAAAAAAAAAAAAAAAAAAAAAAAAAAAAAAAAAAAAAAAAAAAAAAAAAAAAAAAAAAAAAAAAAAAAAAAAAAAAAAAAAAAAAAAAAAAAAAAAAAAAAAAAAAAAAAAAAAAAAAAAAAAAAAAAAAAAAAAAAAAAAAAAAAAAAAAAAAAAAAAAAAAAAAAAAAAAAAAAAAAAAAAAAAAAAAAAAAAAAAAAAAAAAAAAAAAAAAAAAAAAAAAAAAAAAAAAAAAAAAAAAAAAAAAAAAAAAAAAAAAAAAAAAAAAAAAAAAAAAAAAAAAAAAAAAAAAAAAAAAAAAAAAAAAAAAAAAAAAAAAAAAAAAAAAAAAAAAAAAAAAAAAAAAAAAAAAAAAAAAAAAAAAAAAAAAAAAAAAAAAAAAAAAAAAAAAAAAAAAAAAAAAAAAAAAAAAAAAAAAAAAAAAAAAAAAAAAAAAAAAAAAAAAAAAAAAAAAAAAAAAAAAAAAAAAAAAAAAAAAAAAAAAAAAAAAAAAAAAAAAAAAAAAAAAAAAAAAAAAAAAAAAAAAAAAAAAAAAAAAAAAAAAAAAAAAAAAAAAAAAAAAAAAAAAAAAAAAAAAAAAAAAAAAAAAAAAAAAAAAAAAAAAAAAAAAAAAAAAAAAAAAAAAAAAAAAAAAAAAAAAAAAAAAAAAAAAAAAAAAAAAAAAAAAAAAAAAAAAAAAAAAAAAAAAAAAAAAAAAAAAAAAAAAAAAAAAAAAAAAAAAAAAAAAAAAAAAAAAAAAAAAAAAAAAAAAAAAAAAAAAAAAAAAAAAAAAAAAAAAAAAAAAAAAAAAAAAAAAAAAAAAAAAAAAAAAAAAAAAAAAAAAAAAAAAAAAAAAAAAAAAAAAAAAAAAAAAAAAAAAAAAAAAAAAAAAAAAAAAAAAAAAAAAAAAAAAAAAAAAAAAAAAAAAAAAAAAAAAAAAAAAAAAAAAAAAAAAAAAAAAAAAAAAAAAAAAAAAAAAAAAAAAAAAAAAAAAAAAAAAAAAAAAAAAAAAAAAAAAAAAAAAAAAAAAAAAAAAAAAAAAAAAAAAAAAAAAAAAAAAAAAAAAAAAAAAAAAAAAAAAAAAAAAAAAAAAAAAAAAAAAAAAAAAAAAAAAAAAAAAAAAAAAAAAAAAAAAAAAAAAAAAAAAAAAAAAAAAAAAAAAAAAAAAAAAAAAAAAAAAAAAAAAAAAAAAAAAAAAAAAAAAAAAAAAAAAAAAAAAAAAAAAAAAAAAAAAAAAAAAAAAAAAAAAAAAAAAAAAAAAAAAAAAAAAAAAAAAAAAAAAAAAAAAAAAAAAAAAAAAAAAAAAAAAAAAAAAAAAAAAAAAAAAAAAAAAAAAAAAAAAAAAAAAAAAAAAAAAAAAAAAAAAAAAAAAAAAAAAAAAAAAAAAAAAAAAAAAAAAAAAAAAAAAAAAAAAAAAAAAAAAAAAAAAAAAAAAAAAAAAAAAAAAAAAAAAAAAAAAAAAAAAAAAAAAAAAAAAAAAAAAAAAAAAAAAAAAAAAAAAAAAAAAAAAAAAAAAAAAAAAAAAAAAAAAAAAAAAAAAAAAAAAAAAAAAAAAAAAAAAAAAAAAAAAAAAAAAAAAAAAAAAAAA/////wAAAAAAAAAAAAAAAAAAAAAAAAAAAAAAAAAAAAAAAAAAAAAAAAAAAAAAAAAAAAAAAAAAAAAAAAAAAAAAAAAAAAAAAAAAAAAAAAAAAAAAAAAAAAAAAAAAAAAAAAAAAAAAAAAAAAAAAAAAAAAAAAAAAAAAAAAAAAAAAAAAAAAAAAAAAAAAAAAAAAAAAAAAAAAAAAAAAAAAAAAAAAAAAAAAAAAAAAAAAAAAAAAAAAAAAAAAAAAAAAAAAAAAAAAAAAAAAAAAAAAAAAAAAAAAAAAAAAAAAAAAAAAAAAAAAAAAAAAAAAAAAAAAAAAAAAAAAAAAAAAAAAAAAAAAAAAAAAAAAAAAAAAAAAAAAAAAAAAAAAAAAAAAAAAAAAAAAAAAAAAAAAAAAAAAAAAAAAAAAAAAAAAAAAAAAAAAAAAAAAAAAAAAAAAAAAAAAAAAAAAAAAAAAAAAAAAAAAAAAAAAAAAAAAAAAAAAAAABAAAAAAAAAAAAAQAAAAAAAAABAAEAAQAAAAEAAQAAAAAAAAAAAAAAAAAAAAAAAAAAAAAAAAAAAAAAAAAAAAAAAAAAAAAA//8AAAAA//////7/////////AAD///3//f8AAAAA/v/8//7//v///wAA/v/8//v//f/8//////////////8AAAAAAAAAAAAAAAAAAAEAAAAAAAAAAAABAAAAAAAAAAAAAAAAAAAAAAD/////AAAAAAAAAAAAAAAAAAD//////////////v////////////////8AAP//AAD/////AAAAAAAAAAD/////AAAAAAAAAAAAAAAA//8AAAAAAAAAAAAAAAAAAAAAAAAAAAAAAAAAAAAAAAAAAAAAAAAAAAAAAAAAAAAAAAAAAAAAAAAAAAAAAAAAAAAAAAAAAAAAAAAAAAAAAAAAAAAAAAAAAAAAAAAAAAAAAAAAAAAAAAAAAAAA//8AAAAAAAAAAAAAAAAAAAAAAAAAAAAAAAAAAAAAAAAAAAAAAAAAAAAAAAAAAAAAAAAAAAAAAAAAAAAAAAAAAAAAAAAAAAAAAAAAAAAAAAAAAAAAAAAAAAAAAAAAAAAAAAAAAAAAAAAAAAAAAAAAAAAAAAAAAAAAAAAAAAAAAAAAAAAAAAAAAAAAAAAAAAAAAAAAAAAAAAAAAAAAAAAAAAAAAAAAAAAAAAAAAAAAAAAAAAAAAAAAAAAAAAAAAAAAAAAAAAAAAAAAAAAAAAAAAAAAAAAAAAAAAAAAAAAAAAAAAP//AAAAAAAA//8AAAAAAAAAAP//AAD/////AAD//wAA//8AAAAAAAAAAAAAAAAAAAAAAAAAAAAAAAAAAAAAAAAAAAAAAAAAAAAAAAAAAAAAAAAAAAAAAAAAAAAAAAAAAAAAAAAAAAAAAAAAAAAAAAAAAAAAAAAAAAAAAAAAAAAAAAAAAAAAAAAAAAAAAAAAAAAAAAD//wAA//8AAAAA//8AAAAAAAAAAAAAAAAAAAAA////////AAAAAAAAAAAAAAAAAAAAAP////8AAAAAAAAAAAAA/////wAA//8AAAAA//////7////+/////////////v///////////wAA/////wAAAAAAAAAAAAAAAAAA/////wAAAAAAAP///////wAAAAAAAAAA//8AAAAAAAAAAP//AAAAAP//AAAAAP///////wAAAAAAAAAAAAD//wAAAAAAAAAAAAAAAAAAAAAAAAAAAAAAAAAAAAAAAAAAAAAAAAAAAAAAAAAAAAAAAAAAAAAAAAAAAAAAAAAAAAAAAAAAAAAAAAAAAAAAAAAAAAAAAAAAAAAAAAAAAAAAAAAAAAAAAAAAAAAAAAAAAAAAAAAAAAAAAAAAAAAAAAAAAAAAAAAAAAAAAAAAAAAAAAAAAAAAAAAAAAAAAAAAAAAAAAAAAAAAAAAAAAAAAAAAAAAAAAAAAAAAAAAAAAAAAAAAAAAAAAAAAAAAAAAAAAAAAAAAAAAAAAAAAAAAAAAAAAAAAP//////////AAAAAAAAAAAAAAAAAAAAAAAAAAAAAAAAAAAAAAAAAAAAAAAAAAAAAAAAAAAAAAAAAAAAAAAAAAAAAAAAAAAAAAAAAAAAAAAAAAAAAAAAAAAAAAAAAAAAAAAAAAAAAAAAAAAAAAAAAAAAAAAAAAAAAAAAAAAAAAAAAAAAAAAAAAAAAAAAAAAAAP//AAAAAAAAAAAAAAAAAAAAAAAAAAAAAAAA/////wAAAAAAAAAAAAAAAAAAAAAAAAAAAAAAAP//AAAAAAAAAAAAAAAAAAAAAAAAAAAAAAAAAAD//wAA//8AAAAA////////AAAAAAAAAAD//////////wAA////////AAAAAAAAAAD//wAA//8AAAAAAAAAAAAAAAD//wAA//8AAAAA//8AAP////8AAP///////wAAAAD//wAA////////AAAAAP//AAAAAAAAAAD/////AAD//wAAAAAAAAAAAAAAAAAAAAAAAAAAAAAAAAAAAQAAAAAAAAAAAAAAAQAAAAAAAAAAAAAAAAAAAAAAAAAAAAAAAAAAAAAAAAAAAAAAAAAAAAAAAAAAAAAAAQAAAAAAAAAAAAAAAAAAAAAAAAAAAAAAAAAAAAAAAAAAAAAAAAAAAAAAAAD///////8AAP7//f/+/////v/9//z//v8AAPv//P/+/////f/4//z/AQADAAEA/v/5//D/8//1//H/8//1//X/8//1//T/9f/2//n/+v/7//v/+/8AAP////8AAAEABAAEAAUABwAJAAcACQAJAAkACwAJAAwADQALAA0ACwAMAAwADAALAAsADAAKAAsACgAKAAoACQAHAAgACAAHAAcABwAGAAYABgAGAAYABgAGAAYABwAHAAcABwAHAAYABgAIAAgABgAHAAgABwAGAAUABQAGAAcABgAFAAcABgAFAAQABQAEAAMABAACAAIAAwABAAEAAQAAAAAAAAD//////v///////f/+//7///8AAAAAAAAAAAEAAQAAAAAA//////7//v////////8AAP////////3//v////3//f/+//7//v/+//3//v/+//7//v/9////////////////////AAD+//7//v/9//3//f/9//3//v/9//3//f////7//f/+//7//v/9//7//v/8//3/+v/7//z//f/9//v/+//7//3/+//8//3//v/9//z////+/////v////7//v/9//3//P/8/////P/+//7/+//+//7//P/9//3//P///wEAAAD///////8BAAAA//8AAAAAAAACAAAAAAAAAAAAAQD//wAA//8AAAEAAAD//wEABAACAAIAAwADAAEAAAAAAAAAAAAAAAAAAQD//wAAAAABAAAAAQACAAAAAAAAAAIAAAABAAAA/v/+//7//v/9//z/+//+//7///8AAAAA/f/7//3//v/7//r//f/9/wAAAAD+////AAD+//7///8AAP7//f/+//7//P/////////+//7/AAD//wAA/f////7/+v/8/wAA///8/wAA//8AAAMAAQD+//3/+//+////AAADAAQAAgABAAEAAQACAAcABgAEAAMAAgAEAAMABAAGAAgABgAGAAgACAAIAAkACwAKAAoACQAJAAkACAAGAAQAAQAAAAAAAQABAP///v8AAAEAAAABAAIAAQACAAMABAACAAEAAQD///7/AAD//////f/+/wAA/////wAAAAAAAAEAAAABAAEAAQAAAP/////+//3//P/8//z//P/7//v/+v/4//j/9//1//b/9//1//b/9v/0//X/9v/0//T/9v/4//b/9v/4//f/9v/3//f/9v/3//f/9//5//r/+P/6//v/+//7//z//f/8//z//P/+//3/+//7//z//f/9//v/+//6//z//v/6//z//f/8//3//v/9//3////9//v////+////AgAAAAIABAAFAAUABQAEAAQAAwAFAAQABQAHAAYABwAFAAUABQAGAAMABAADAAMABgAEAAMAAQABAAEAAQAAAAAA/////wEABAAAAAAAAQADAAEAAQABAAAAAgAAAAEAAAD+//z//v/9//z//P/7//3////9//3////9//z/+v/7//j/+f/4//f/+P/5//z/+//8//z//P/6//v/+v/7//r/+v/7//v/+//9//3//f/+//3//f/8//7/+//8//7///8AAP7/AAAAAAAAAQACAAEAAAABAAMAAwAGAAcABwAFAAQABwAHAAcACgAKAAoACgAKAAsACwANAAwADwAQAA4ADgALAAkACgAMAAkACQAIAAUABQAGAAUAAwACAAAAAAABAAAAAAAAAAAA/P/+/wAA///+//7////9//7//f/7//z//P/8//v//f/9//3//v///////v///wAAAAABAAMABAADAAMAAgACAAMAAgADAAIAAwAEAAMAAwADAAIAAgACAAMAAgABAAAA///+//7////8//z//f/7//v/+v/3//r/+//3//j/+P/4//r/+f/5//n/+P/6//r/+v/7//z//P/7//3//f/8//r/9//7//z/+v/6//v/+//8//v//P/9//r/+//8//3/+v/7//z//P/8//3////9/wAAAQAAAAAAAwABAAIAAgABAAEAAwAFAAIABQAHAAYABgAGAAYABwAFAAQABAAFAAgABwAHAAgACAAIAAkABwAFAAYABgAEAAQABAACAAQAAgABAAAA//8CAAEA///+//z//f/+//v//P/7//r/+v/4//j/+v/4//b/9v/z//T/9P/z//T/9P/0//P/8v/z//T/8f/z//L/8v/x//D/8f/x//H/8v/y//b/9v/1//j/9//5//r/+f/4//n/+//9//3//v/+//3/AQAAAAAA/////wEAAwAEAAQABAAEAAQABAAHAAkABQAGAAgABgAEAAMACAAHAAQABAAGAAYABAAGAAUACgAKAAoACwAJAAcABgAFAAYABQACAAYAAwABAAQABAACAAMABQAEAAQABgAFAAcABgAFAAYABwAIAAcACAAEAAQAAwAAAAMAAwABAAIABAAEAAIAAgAAAP////8AAP7//f///////v////7//v///////v/+//3//f/8//3/+//7//z//f/+//v//f/7//n/+//2//b/+P/5//r//P/6//j/9v/0//b/8v/z//T/9f/2//L/8v/y//P/8//0//P/8f/0//T/9//2//X/+f/6//z//f/+//z//v///wAAAQABAAEA/////wAAAgACAAQAAwADAAMAAQAAAAEAAAAAAAEAAQACAAMABgAFAAQABgAGAAUABQAEAAcACAAGAAkACQAJAAgACAAHAAcABgAFAAQAAwAFAAQABQAGAAYABQADAAQAAQAAAAIAAQADAAAAAQABAAAAAAAAAAAA//8AAAAA/f/9//3//f/+//3//v/9//z//f/7//v//P/9//7////9//3/+v/6//v/+v/2//b/+f/2//T/9f/4//j/+f/4//j/+P/1//X/+v/6//f/+f/3//n/+//9////AAADAAAA/f///wAA/f/9//z//P////z/+v/9////AAAAAAIAAwADAAQAAwADAAQABAABAAIABAADAAMABAADAAMAAwAGAAgABwAHAAcABwAJAA0ADAALAAsACgAIAAoACwAMAAsACQAMAAsACQAKAAoACAAJAAkACQAHAAYACAAHAAUAAgABAAEAAwAFAAMAAgACAAAAAAABAAEAAQACAAIAAgAAAAAAAAAAAAEA//8AAAAAAAAAAAEAAQACAAIAAQACAAAAAAABAAIAAwADAAEABAAEAAYABwAEAAQABQAEAAMAAAAAAAAAAAADAAEAAAD9/////v/9//3//f/9//3//P/8//z//v/7//j/+v/4//r//P/8//r/+P/4//b/9//3//j/+f/8//v////+//z//v/+////AAAAAP//AAAAAAAAAQACAAMABAAGAAQABAAFAAUABwAGAAYABwAHAAgABwAGAAgACAAGAAYABgAGAAMAAQACAAAA/v/+////AAACAAQABgAGAAUABwAGAAUABAADAAYABAADAAQAAwADAAUABQACAAIAAwD///7//f/9//7//f/+//3////9//3////+//z//f/+//3//P/5//r/+//7//n/+P/5//f/9P/0//X/9v/1//T/9P/z//X/9P/z//L/8//1//b/9f/0//T/+P/4//b/9//3//n/+P/7//7/AAAAAP3/AQAAAAEAAQAEAAgABwAGAAgACgAJAAoACAAHAAcABgAGAAQAAgADAAAA/v///wIAAAD+/wAA///7//v//v/+//3/+//7//v/+v/8//v/+v/7//3////+//3/AAABAAEAAQACAAEAAQACAAQABAABAAEAAgACAAMABAAEAAQABAAGAAQABQAIAAUABAAIAAcABwAHAAYABQAEAAgABAACAAQABQAGAAgABwAHAAYAAwAEAAUABgAEAAMAAgAEAAMAAQAEAAMAAgABAAIAAgACAAMAAgABAAAAAAACAAEAAwABAAEAAQACAAIAAwABAAQABgADAAIAAAABAAEAAAABAAIAAAAAAP//AAACAAEAAQAAAAAAAAABAAEAAQADAAIAAAAAAAAAAAABAAAAAAD+//7//f/8//3//v/+////AAAAAAAAAQABAAEAAgACAAAA//8AAAAAAwADAAQABwAFAAIAAwAEAAQABAADAAMABgAJAAYABgAEAAQABwAHAAYABwAIAAcABgAHAAgACAAIAAcABQAGAAYABwAIAAYABAAEAAYABAABAAAA//8AAP///v/9//3//P/9//7//v/9//v//f/8//7//v8AAAAAAAAAAAEAAgAAAAAAAgACAAEA//8AAP///f/+/wEA///7//7//////wAA/P/8//r/+//+//v/+//9//z/+f/7//r/+v/5//n//f/9//v/+P/4//j/9//3//n/+f/3//r//P/6//7///////////8DAAMABQAHAAYABwAJAAkACgAGAAYABQAEAAIAAgAHAAQAAwAEAAcABQAHAAgABQAHAAcABwAHAAQAAQAAAAEAAQD///7///8BAAEAAAD///7/AAAAAAAAAAACAAAAAAD///////8AAAAAAgAEAAUABAAEAAYACQAHAAcACgAMAAsADgAQAA0ADgAOABEAEgASABYAGAAXABcAFwAWABQAFgAWABIAEQARABIAFAARAA8ADwALAAoACQAIAAUAAwACAP//+v/5//n/+f/2//X/9v/0//H/8f/y//D/8f/v//D/8v/v//D/8//z//H/8f/x//D/8P/w//P/9P/0//b/9P/1//b/9//2//b/+P/7//r/+f/7//f/9f/3//n/+v/8//3/+P/5//r/+P/7//r//P/7//n/+f/6//v/+f/3//b/+f/5//v/+//7//r/+f/9//7/AAD//wAA//8CAAcACQAIAAsAEAAOAA0AEAASAA0ADwAQAA8AEQANAAsADQANAA0ADgAOAAwADAARAA8ACwAHAAUABgAAAP///P/5//n/+//8//r/+v/5//v/+f/4//j/9//4//n//f/9//r/+f/5//z//f/+//3//P/8//3///8AAAAA//8AAP//AAABAAMAAgAAAP///P8AAAAA///8//r//f/9////AAD//wAAAgABAAEAAQAAAAAAAAD//wMABAAAAP7//v8BAP/////+//3//v8AAP7/AAAAAP///v/8/////v/9////AAABAAIAAgAFAAYACAAHAAoADAAJAAgACAAFAAUACQAGAAYABgAIAAoACQAJAAYACAALAAoACgAIAAQABQADAAIAAQABAAAA/v/8////AAD//wAA///8//z//v/9//////////7/AAACAAMABgAGAAUAAwAFAAgABwAIAAUAAwAEAAcACwAJAAkACgALAAcACQAJAAcABwACAAEABAAFAAIAAAAAAAIAAAD//////v/+//v//P/7//j/9v/3//j/9P/z//T/7v/t/+7/8P/u/+v/7v/s/+7/7//w//H/7//v//T/+P/4//n/+v/8//3/AAAEAAUAAwADAAQABAAGAAsACgAJAAoABQAFAAcACAAIAAgABgAHAAkACAAKAAsADAAKAAgABgAHAAgACAAIAAoACAAHAAgACwALAAkACAALAAwACwANAAsACAAEAAMABQACAAEAAAD8//r//P/9//z//v/7//j/9//7//z/+f/6//j/9//5//v/+//5//f/+P/6//r/+P/4//n/+v/5//3///8AAAAAAQACAAMAAQD+//3/+v/6//r/+v/+//r/9//3//n/+P/4//n/+v/4//b/9P/w//H/8//y//H/7f/s/+7/8//2//X/9v/4//n//f8BAAQAAwADAAIAAAAAAAAAAQABAAMABQAIAAwACAAKAA4ACwALAAoABwAJAAwACgAKAAoADQARABQAGAAUABMADgAIAAoABQACAAAA//8BAAAABAAHAAcABAACAAQABgAGAAYAAAD9/wIACQAKAAoACQAFAAcACgALAAwACAADAAIAAQADAAMAAAD///3//f8AAAEABAADAP/////+/wAAAAD9//z/+v/8//z//P////7/+v/2//j/+P/1//P/8//0//H/9f/1//D/7//x//D/8v/0//L/9f/0//j/+//9//z/+f/5//b/9P/1//P/8f/v//L/8//x//b/+f/7//n/+f/6//j/9//3//b/8//z//X/8v/z//f/9//4//v//v/8//7/AAAEAAQABAAFAAEAAgAAAAAA////////AwAFAAYABwAHAAsACwAKAAgACgAHAAEAAAACAAMAAQAAAAAAAAADAAUABwAGAAIAAwAEAAQAAAAAAPz/+v///wAAAAAAAAAA+f/4//r//f8AAPz/+//9//3///////v//f/8//r/+f/3//b/+P/7//r//P////7//v/9//7/+v/z//L/9P/0//T/+P/5//r/+f/7//7/AQACAPv/+v/3//f/+v/+//3/+//4//f/+v/8//3/+//6//f//f8BAAQAAgD9//r/+v8AAAEAAQAAAAAA/v///wQABAABAP7//v/5//f/+P/w/+3/6//v//b//P8CAAMAAgAEAAcACwAMAAQA/f/5//j//f////r/+P/7/wEABgAMAA0ACwAJAAoADwAPAA4ACwANABIAFwAhAB4AGAAYABcAGQAYABYAEQAMAAkACQARABIADQAIAAkADwAZAB0AGQATAA4ADQAOAAwAAwD5//T/8//0//b/8v/r/+T/5f/p/+z/6P/j/9//4v/u//T/9v/z//P/9v/7//r/9//u/+j/5//r//T/9v/0//X/+P/9/wQAAwAAAPj/8f/x//j/+//2//X/8P/y//7/BwAIAAMA/P/2//v/BAAMAAoAAgAAAAcAFQAeAB0AFAAMAAoAEwAaABMABgD7//z/BgASAA8ABgAAAAAADgAYABkADgD8//b//P8DAAAA8v/g/97/7P/5////+P/w//H///8QABMACgAAAPr///8JAA0ACgACAAAACgATABgAEwAFAP///v8AAP7/9f/o/+L/6/8AAAwADQAHAAEACAASABMABQDu/9f/0P/Y/+P/4//Z/9b/4P/2/w0AGwASAAQA/P8CAAwACQD7/+b/3v/l//j/BgAIAP///v8JABkAIAAYAAMA9//5/////v/z/9//0v/e//P//v/7//H/7f/+/xcAJQAcAAMA9f/7/wwAHAAWAPv/5f/l//j/DAAIAPL/2P/P/97/7//x/9z/wv++/9P/9v8MAA0AAwAKACMAQwBRAEAAJgAKAAQACgAHAPv/3P/K/9b/+f8YABoAEgAJABQALwA9ADgAHQAFAAMAGAAuACkADADy/+3/AQAbAB8ABADh/9T/6v8IABIA+P/M/7X/y//1/xAABgDf/8b/2f8HACoAJAD5/9D/0v/7/yYALQAPAOn/6f8aAFAAYABCAA0A8v/+/xwAIAD3/7b/j/+Z/8X/6//q/9D/vP/P/wMANAA7ABgA8//p/wYALAAzABIA4//Q/+X/CgAiABMA7P/O/9b//P8dACAAAADZ/8r/4P8GABQAAQDc/7z/yP/5/yYAMQAaAAAAAgAlAE8AVwA0APf/yv/M/+P/9v/o/8f/sf/C//X/IwA2ACYAEQAOACoAQQA/ACYA/v/m/+X/7v/v/93/xf+6/8L/3P/z/wAACQALABEAGgAlAC0AMAArAB0ADQAAAPr///8GAAsABgD6//X/BAAcACcAIAAEAOn/4v/q//T/9P/h/8//0v/j//3/DAALAAUABQAYACIAFQAGAAAACAAgAC0AHQD7/+H/6P8AAAoA7f+2/5j/q//f/w0AGAD6/+H/8f8hAEwARgARANj/xv/i/xEAJQAJAOD/1/8BADsAVQA4AAAA3P/n/wsAGAD3/7//ov/F/w4APQA6AA4A8P8EADcAUQAsAOX/t//G//3/KAAmAAEA6v8CADMAUAA1APL/u/+u/8b/4P/g/8j/vP/V/xIASQBWAEIAGQD+//z//v/2/+P/0//W//T/HgBEAF4AZgBfAEYAHwDr/7v/ov+c/5//o/+s/9H/HwB9AMUAzwCfAF8ANgAtABgA3f+C/zv/Rf+V//b/KgAYAPb//v87AHcAcQAaALT/mP/g/00AgABTAPb/w//3/1gAfAAkAHn//f4N/5v/LABNAPX/jf+W/x4AyAAGAacA/f+R/7X/QACvAJUADgCQ/4D/4P9KAFEA6f9g/yz/c//1/0oAOwD5/9b/AgBiAKYAmgBSABUADQAtAEAAJgDs/8H/x//e/9v/sv+D/3z/sP/z/wkA7f/E/8z/EwBtAI0AVQD1/7f/yf8YAFkAUQAPAND/0v8gAHwAlgBaAO7/lP+G/7n/+P8WAA0A8f/o/xIAYACsAM8AnQApAKj/ZP+D/97/LAAnAN7/mv+4/0gA4AAMAYgAlv/V/q/+Gv+S/6H/RP/g/vr+u//HAH8BfAHYABoAxP/o/ykAIACl/+3+ef6b/kn/FwCSAIwAOQACACgAlQD0AOkAagDG/2f/g//0/14AaQAUALD/mP/h/1oApACBABEAqP+b//n/eACwAHgA+/+b/6H/9v9BACoAuv9D/xz/cf8AAFUAQQDg/4n/g//U/zsAaQBDAPX/u//K/x4AgACxAIsAIQCz/4H/of/m/wcA2v94/zL/XP/x/5wA+gDQAFYA7v/n/zIAcgBMALv/Gv/U/iD/tf8jACkA3P+U/53/9P9LAGEAJgDZ/7r/3v8eAEsAXgBvAJsA3gAEAekApABlAE0ATAAnALX/Gf+w/rz+Mv+4//L/1/+q/8X/OgDHAAUBugAgALD/rv8LAGoAagAGAJn/gv/S/0IAXwD6/1n/7f4H/43/DgAuAOn/ov+4/zIAuQDXAGgAuf9I/2H/2/9JAFkAGQDh//3/dAD6ACwB5wBWAL3/Zf9f/4r/qf+S/0z/Af8B/2z/FwC2AO8AqwAvAOr/IACwABoB7AAjAD//3f5P/zgA4wDSABgAXv9P/wcA5gAdAWEAH/9E/nL+af9WAHkAxv/n/rr+dv+EABMBtwDT/z7/i/+AAGgBmgEAAS8AxP/l/zYAJwCB/5X+9f0N/sb+pv9JAIYAmgDhAGEB4AEGAqQB4QAXAJD/Wv9W/2H/Yv9n/4v/x/8PAEwAcABtAEoAEgDO/5//m/+7//D/FAAiAB0AFQAZACAAIwAPAOH/of9v/2b/kv/s/0UAeQB0AE8AKgAKAPL/x/94/w7/r/6T/tv+eP8jAKcA7gAXAUwBmwHgAdIBUAF1AJ//Gf/z/vz+7f6z/nX+f/7q/pz/QwCeALMAqwC4AOcADQH/ALEANwDM/5r/nv+6/87/zv/O/+X/HABjAJYAngBwACIA0f+c/5L/pf+7/7j/of+Q/7j/JACjAOAArAAVAIL/Zf+7/y0AQADF/xn/2v5m/3gAZQGKAeAACQCq//3/jACgAOP/ov7C/eb9Bv9zAFgBaAHxAKMA/ADGAUsC7AGgAAD/3/3C/W/+M/98/zP/0P71/tb/DwH2AQoCTQFOAK7/q/8PAFsAIAB8/+b+3f6K/4cARgFYAdQAMADe//3/PQAuAKP/1/5K/lX++f7Y/3gArgCbAJIAxQAqAWUBIQFYAFb/lP5U/oz+7/4Z/wP/8v4x/97/ugBfAXUBEAF/ABsAEgA5ADwA7v9d/9z+yP4y/9X/RABXABQAyf/L/xYAaABtABAAi/8//3D/AwCgAPMA5wC3AKkA4AAlASwB0QA7AMD/l/+8/+//9v/J/6D/qP/f/xYAFwDa/4f/Yf99/7b/0P+s/3L/Xv+V/wEAXgB2AEUABQD0/zEAiQC4AJAAJADG/6H/1P8jAEUABwB+//H+rf7U/i//dP93/03/Rf+j/2UAPwHBAa0BKgGbAFcAcwChAIkAIQCq/4n/3/+MAC8BZwEqAZQA8f91/yL/0f5j/uL9dv1s/fb9+P4wADYBzgEGAhICHAIeAuwBSwFLACv/QP7C/bn9DP57/uD+Qv+0/1AAGAHjAXICjQIzApkBDwG3AHYAEwB8/7b+Bf7B/ff9iP45/9n/VQDGADQBpgEDAhkCygEMARAAFv9k/hT+GP5H/ob+1f5G//D/vQBzAdABrwEpAYUAAgCz/4T/S//y/qb+lP7j/n7/GABuAGYAOQAsAGwA0gAKAdgAVwDS/6n/7/9NAFwA7/9N/+P+Df+r/0AAXwD9/2//NP+B/xgAhQBmAOT/df9+/x8A/wCZAZcBEAFyACYASQCHAHoA4f8D/2j+bP4n/x8A3AARAdgApQDNAEkBsgGYAdcAuP+y/kH+av7O/g3/6/6L/mT+zP6j/4cABAHvAIsATABrAM0AFgHvAE0Ahv8C/+j+Ff9G/1H/Mf8q/3X/CACsABYBIgHiAI0ATAArABAA3/+g/23/Z/+k/wkAawCvANcA7AD7AAcB/ADIAHYAKwD+/+z/8P/y/+D/wf+b/3j/Vf8p/9v+hP5C/i7+Z/7i/oL/HQCiAA4BdwHjATYCTQIJAmQBkwDT/0L/4/6Q/jL+3P2x/eD9Y/4R/7//NwCQAMgA/wA9AV4BVQESAZ4ADgCZ/0z/KP8b/wr/9P7m/vj+PP+a//n/PABmAI0AygAlAYgB2gHwAc0BgQEdAaUAHQB9/83+M/7N/bf96f1Y/t3+aP/+/5AADgFkAX0BVAEAAaUAUQAMAMn/eP8h/9f+uv7F/ur+CP8e/yr/UP+p/ykAvAAnAVwBbQF7AY4BqQGlAV8B4gBHALj/VP8c/wH/5f6x/oj+f/64/i//uv87AIMAoQC5AOcAMAFoAWQBDQGBAP//uv+5/9b/5v/d/8//0f/7/zoAXAA5AMj/I/+F/h7+/v0c/lj+pf4V/7z/kwCAAVQC1gL1ArkCLwJ3Aa0A3v8b/2z+2/15/WL9tv1s/kf/DACMAL8A0wDkAPkA8AClAA0Aaf8B//z+S/+f/83/yP/K/wMAgQAaAXoBbwEcAb8AjACGAHsALwCQ/9/+X/5H/pn+B/9j/5X/v/8QAJAAMAGdAakBRwGtACUA0v/C/73/mP9T/xv/I/+E/ycAvwAXARwB6gDEAMMA3wDgAKUAMACh/0b/RP+C/8L/1/+2/5P/ov/1/2IAnwB6AAQAgP8p/xf/IP8V/93+mP6G/sv+XP8AAH8AvgDGAMYA2ADzAAAB2AB2APj/jP9N/0T/V/9c/0v/Kf8W/yX/WP+T/7r/yv/d/xQAdADtAE8BeAFjASMB1wCDACkAv/82/6j+Ov4P/in+Yv6o/un+J/98/+P/VAC5AAUBPAFkAYIBmAGhAZEBbgEyAdoAagDq/2X/6v6T/lz+Pv4x/kL+hf4G/73/ewAYAYYBxQHkAf0B+gG7ATYBcgCb/+3+gf5I/jL+Iv4i/kv+rv5P/wQApQAUAUwBaQF+AZYBnwF+ASABkwAAAIP/K//0/sf+lf5y/nX+t/4r/7n/PwCZAMgA4AD9AB0BJwEBAaoAPgDg/6f/lP+M/37/Uf8k//7+5v7l/tn+zf6u/qH+tf7v/lr/4P9mANAAHAFGAVUBTwEhAcYAQwCZ//v+j/5P/kP+Uv5s/qX+Af9//w4AlwACAToBVgFdAVgBSQEhAekAkQA3AO//w/+//9b/+/8pAHAA4wCFATsC+gKNA+sDGgQpBCQE/AOfA/4CNgJrAcwAbgBHADUAKAAnAFIArQAhAY0B0AHNAYUBKQHLAGQAzP/o/sf9j/xx+4j6w/kH+VL4v/dl92D3pfcU+In4/vh6+fT5evrw+kT7cvuM+4/7mfu2++L7KfyO/Bz9x/2Q/mz/UwBPAVgCYgNuBG0FTAYXB+oHuQiRCVsK+gpmC6gL3Qv9CwsM4wt0C80KEAplCdcIUwjMBzMHlwYGBo8FLAW9BDIEdwOlAr4B5QAjAG7/wP4T/mr93/x2/Cb85fuI+wD7SPpq+Xv4gvdx9k/1F/Tk8t3xHfG08I3wn/DN8CDxk/Eg8r3yRfOY87nzr/OJ82rzVPNP82fzsvNE9Cj1d/Y++HP6C/3o/w4DbAbkCXEN9BBLFEkX2hnaG1IdOR6FHjoeTx3SG+AZrBdiFRsT5BDGDscM/gprCRoI/AbsBdwEtQN5AiUBs/8O/i38Dfqy9zn1rfIj8KftResn6WfnIOZV5RLlWuUv5pnnc+mw6y7u3/Cy85H2bPkh/J3+3QDkAqoESQa1B/IIDAoAC94LtQyODWIOJQ/WD3YQ+hBmEbQR5RHoEa4RPhGXELYPmw5BDZ4LsAl5BwcFawK7//z8R/q29131WvPE8aXw9u+t76rv6+9f8PDwdPHB8cfxc/HD8MDvdu747GLryulo6GznDudi53joW+r47GPwk/Rk+af+GgR9CaQOYRORFx8b3B2uH4UgeCCqHz4eYhwfGqUXCBVnEvgPzw0NDJ8KiAmvCA4IqQdfBx4HxQYvBjYF1AMMAur/bv2i+oX3O/T58NntEuu66OXmpuUZ5VDlSeYL6Hjqbe3L8Gr0J/ju+6b/KwNbBh8JdQtuDQwPWhBPEf4RaxKwEu8SKRN2E8QTERRkFK0U1hTbFJgU7hPWEjoRGA9xDFAJxQXbAbP9cfk59SbxT+3G6aLmA+Tg4UvgKd9v3hPe/90n3nbe3N4t33Lfn9/M3wbgXuD74NrhEuPJ5D/nfeqM7l3zvfiJ/qkEEwumERkYJh6IIyEo8iv+LkQxlzL/Mmgy8DDQLjgsWylEJvUigR8gHPQYGBaEEyoR9w7JDJkKcAhEBgYEiQG1/pH7HPh19LLw4OwC6SflguE93ovbltln2PnXWtiI2XnbKN6C4U3lYumP7bHxyPWu+VX9pQCNAwwGLgj/CY4L4Qz7DfQO3g/MEMER0BLvEx4VTBZqF24YMhmdGZ4ZGBn+F1UWDxQ6EeANHwocBv4B3f3c+RD2j/J879fspurh6GznOeY/5XDkwuMn45Li7+FA4Y/g699w3zXfOd+a32zgzOHz49vmjOrr7tvzPfkM/0AFlgvUEccXPh0TIkMmtilbLBUuzC6ULpct+SvVKVQneyRpIUYeLxtLGKMVOBPrEKYOcQw8CgEIsgUhA0cAJv2/+Sb2a/Kk7ubqRefm4+/get6i3IfbKduL26XcZ97N4L7jGefC6pjud/JP9gn6nf0FAS8EHwfZCVYMsg7qEAcTDhXxFq4YNBqDG4UcMx2BHWsd4RzRG0QaNhi0FdYSnA8UDFEIaQR5AJH8zvg39eXx4O4m7MnptOfr5V3k6+KX4UDg5d5/3QTch9oF2ZfXU9Zg1d/UAdXY1YTXK9rT3YbiK+iZ7p31GP3SBJAMABTzGkQhuiZQK+wugDEaM9AzszPfMoIxvC+sLX4rPSn2JsAkmCJ5IFUeLBziGWcXqRSSERgOMArlBTgBR/wV96/xSOz45vrhc91/2UPW0dNH0rvRNtKf097V09hV3FPgqOQ46dLtYPLK9vn68P6vAkEGpwnpDA0QHxMnFikZIhwJH8AhKyQ2JsMnvCgGKYcoMScEJfkhHx6aGYUUDQ9fCaIDDP6/+Njzfu+u62rop+VP41Xhjd/k3SvcTNo42ObVX9Ov0PrNXcsfyWPHbMZ2xq3HNcoZzmXT/dnF4ZjqKvQj/j0IKhKQGzAk2ytMMok3cDsCPmA/nT/uPno9fzslOaU2DTR8MQ0vsixZKvYnYyV3IiofRxvRFrMR6AuMBbD+dvcg8O7oFOLE2zTWm9EZzsnLsMrNygjMPc5G0ffUHdmJ3R7ireYc61DvT/Mb97f6Qv6+AVAFDAn7DDgRuxV8GmMfQCTuKDAtxzB6Mxw1eDV5NB0yZi5sKVsjgRwSFV4NvQV1/rj3wPGu7ILoOeWv4r/gId+p3RDcKtrT1/DUh9GezWbJCcXWwB69Nbp6uDi4urkyvazCI8pq0z7eMerH9qMDVRBjHFwn8jDnOBU/fUM/RopHiEeBRsJEk0JMQBs+CTwwOoI43zYoNR8zjjA7LfgopiMmHZ4VIA3JA/v5EPBg5kfdINUmzpnIk8QiwkHB0MGcw1zG08mzzcTR6NXn2azdOeGs5Djo8esg8Nj0M/pJAAwHew5ZFmoeYCbqLa00UDqUPkpBRUJ3Qf0+6TqSNUYvVCgWIcsZuhIODO8FaABx+/D2vPKu7qbqiuY94sPdHtld1J3PAsuoxrjCRb9pvDe6u7gVuDe4S7lcu3u+xMJEyBHPLteX4BDrbPZUAmwOWxrJJUwwjjlbQX1H6EuhTtlPvU+OTopM6UntRrxDekASPX45lzUkMQksFSZDH4AX6Q6pBfb7KPKQ6IrfaNd/0PfK6cZTxBTD/8Lbw2LFUsdzyarL8s1k0B/TQtYR2qreKeSX6vXxG/q8ApsLVRSoHEwkAyunMCA1YDiAOqk7/DulO8Y6ZjmFNzk1VjLTLpEqaSVgH24YuhBrCMT/A/du7ljmAd+g2F7TPc80zA7KrMi6x/bGNsYsxdjDIMImwCG+Vrwhu+G677uhvkHD6cmw0mjduekf9/sEsRK4H40rzTUnPoFE40iHS7pMyEwHTMFKMklpR4RFfUM9QYk+KDvuNq0xRSu3IxsblRF+ByD9zvL+6A3gMtis0ZjM+8jFxszFzMWQxtfHYckby+rM6c4p0dPTJtdT233gxeYO7jL2Cf8yCGMRLRpCIlopRy/rM003hDmtOvk6mzq4OWw4yDa3NC8yAC8GKxsmKyA2GVURuAif/2f2ae375G3dCNfp0RHOccvXyQDJt8ilyIPIKsh2x2bGA8V5wxDCC8G9wGfBYMPjxgfM8NKT29TlbPH1/e4KzBf+IxsvwziwQNZGJEvLTQtPLk90TiFNXUspSZdGl0MKQMs7tzarMJEpbiFnGKkOfQQ5+i7wteYl3rjWj9DQy2LIM8YlxQfFrsXkxpPIj8rRzHTPedII1knaTd855QfsmPPI+00E3AwpFfwcEyRCKn4vyzM8N9k5xDv/PJY9kj3fPGM7ADmzNU4xzSs1JYkdARXMCzQCkvhI757m3t482NPSp86ry7TJj8gIyN/H2sfhx8XHeMcIx2vG1MVUxSrFdcV4xmbIZ8vCz5TVEt0r5uHwy/yBCX0WPyM3L9M5ykLASalOlFHIUopSNlERT1ZMNUmyRcpBaj1xOLIyBCxaJLwbSRJCCOn9rfPd6eDgCdl+0mLNrMk8x+jFfsXMxafG58d9yWHLpc1c0KnTpteH3FziJunk8Fn5VQKLC5EU9xxyJO4qQTBfNIE3xzllO4Q8Oz2MPWs9tzwvO7A4CTUmMPgpiiL1GYgQgQY6/BzygujR3y/Y3NHdzDHJvsZOxbHEr8QlxenF6MYSyFbJq8oHzF7Nrs7uzyfRZdLc07zVQti523rgxear7ib47QKJDnYaLCYKMZs6fUJ5SItM2E65T2xPOk5LTLVJekZ+Qrg99jc+MYYp0SBoF3INTQNM+cLv9OYk33rYAdPBzpDLXMn4x0HHLMemx8DIhsr9zDXQKdTw2GreiuQ/61zy1fl5AR4JoRDQF2EeISTxKOIs6i83MvozUDVeNj032zcKOLI3bjYiNI4wnStgJfEdhBVbDNkCO/nX7/3m+t7l1+XRB81HyaDG9sQ4xFDEMMXTxjDJI8yNzzbT2NY92ivdbd/+4N/hUuKp4jXjbuS55n/q7e8k9w4AKQr8FMYf5CnEMvs5dD8JQwlFv0V5RYxEC0MAQVA+qTrsNfgvyCiSIJIXJQ6lBG37z/IN6znkYN5z2XXVPdKuz77NW8yGy0vLyMsFzTfPV9JX1izbwODb5lHtC/Tp+v0BMQlvELIXwh5iJTsrBzCkM/o1JDdDN6M2kDVFNMQyDjEIL34sQCkjJQwg9BkUE4sLnAOE+3Pzm+sq5EXdBNd60c3M+MgFxgHEAcMUwzbEgsbMyQzO6tIX2Dvd5OHY5c3owurD6w/sCuwk7NDsau5L8ar1m/vhAiAL5hOFHHgkTCvUMPI0xDecOac6PjttO0o7nDoGOVM2MzKPLIIlah2lFLYLAwPY+oLzD+1r54XiQt562i/XWtT50TnQMs/2zqjPU9Hu01nXX9vm373ks+nI7uvzPPns/vsEhguKEtIZGCHhJ7ktRDJLNdQ2ATccNow0pzK8MOUu+yzkKkso5iSAIAsbjRQyDU4FK/0N9TDt0eX63tDYWNOYzpPKWscSxcnDm8OQxLPG48kPzurSMdhy3VPiiObK6Q/sSu3G7c7t2+1Z7qPvH/L/9U/7BALlCX0SMxt4I84q2DB3Nao4szrOO1Q8djwyPGg70jkVN+QyHy3RJUgdBBSVCnABCfmh8UTr2+Uu4fLc/thI1c7Rts5WzM/KYMpAy1PNl9DC1I3Zv94V5Hvp2u5B9Nz5wf8kBiENoRRhHAMkGCsTMa41ojj4OeM5wjgPNxk1KzM6MS4vryxuKTElwB8oGZsRagkKAdD4BPHa6VXjet0c2EfT9s4qyw3IvMVZxBTE/cQTx0HKYc4202zYud2d4vLmaOr47LPuze+Z8EnxWPL/8572VPo5/1IFdwxQFFIc8iO1KlAwhjRiNxs54DkAOqw55DiON1s1ATI+LRMnhR8HFxYOPQX5/JH1Pu/G6Rzl8eAK3VLZ19W70k/Q0M5pzibPA9Hd02rXftuw3/HjI+hX7KLwLfU++u3/WgaIDTUVDB2gJF4r1zClNLw2Pjd/Nuc0ADMdMUovjC2bKwsphSXTIOUa8xNJDGcEv/yu9U/vnul95KvfDtuJ1j/SZs5IyyDJMsizyJnKss2+0XDWcdtg4Pfk9ugy7LzuhPCw8Wfy1/JB89DzvPRJ9p/47vtTALYF9AuUEiYZRh+rJCQppyxcL1sx0zLUM0g0BDS1MiAwJSzDJj4g9BhkEQkKLQPv/E/3IPIt7U3oXuN/3vjZCNYN00jRxtCI0U7T7NUE2VDcqd/p4jTmm+ld7Z/xjPZJ/NAC8wmBERkZTCCnJscrjC/gMfYyJDPIMicyhzHjMP8vnC5fLPIoOiQ1HikXeg+PB+H/tPgw8ijsgeYF4YzbJ9b80FfMk8gPxgPFnsXCxy3LlM+K1LHZut5e43bn+erl7ULwKfKx8wD1I/Y692345/ni+6L+cwJnB3ANPBRQGxsiIygVLckwNjOUNBA15zQ0NNcyzzDBLZQpLSSqHWEWsQ4PB9b/PvlQ8wXuJul+5OHfcdtF16jT99BzzzfPP9Bd0jnVlNgo3LTfNuPS5prqve5j86z4rv5pBbUMWRQRHG4jDSqCL5IzLDZmN4E3zjavNW80ETOGMZEv4yw6KW4kfR6JF+sPCghKAAb5VvIr7Frmp+D02jXVp8+YymXGesMnwpbCnsQMyHfMd9G01tPbrOAa5QrpkOyi71zyr/Sf9kL4mfnI+vX7gf23//ACVgfuDHUTaBo/IW0noSyPMEsz9DTENfI1kTWqNPcyVzCRLH4nQCEJGkYSYwrCAp/7FPUt76/pguSS39jaiNbo0j/Qz86/zujPH9IV1XTY6ts9323ij+XC6EzsUPDr9FD6bQA4B4IOFBamHc4kMCtuMFQ00TYPOEc4wjfMNpM1NDSGMl8why27Kd4k9x4zGNcQRgnSAaT6yfMu7Znm6d8e2VzS5sslxprBrb6avWS+6cDIxJrJ+c6S1BbaUd815LXozexp8Hvz/vXq90z5SvoT+wr8f/3y/7QD5QhgD6AWGR4gJT8rHTC0Myo2vTfGOFc5XDm0OAU3ATSJL44pTiJLGuMRlQm9AYL68PPR7RrohuIV3dnXGdMtz2TMAMsDy2nM4s4R0pTVHdlu3KLf3+Jc5k3q6u479C36xADJBwsPURZ0HS8kPCpnL4wzqDbDOPU5bjpGOp05iDjmNqQ0qzHeLRopZiPSHKIVEg5bBsf+YPcm8APp3OGq2nPTacznxU7AE7yDuc24zLlSvBfAyMQNyo3PKdWz2iTgZeVf6vXu/fJe9hz5Q/sG/b/+1wDbAx8Iwg2BFOMbOyP7KacvBjQ+N4U5PTuWPJc9Dj6cPds7aDg7M3MsbCS4G+cSbQqGAkr7lvQq7tvnjuFE207VA9DBy/rI0ccwyNzJd8yFz5zShdU/2Oba0d034U7lOOrf7yT2zPyxA6cKoBGLGFMfvSWIK5YwsTTPN+Q5CDtmOyI7Yzo8Oas3kTXQMkAvvSpEJeoe6heEEPgIdQH++YXy5eoD4+batNK6ynTDXL3TuBW2JbXqtR+4cruLvyjED8kuznzT49hX3p/jo+gx7SbxhvRm9xT65PxFAJ4EIwrKECYYuh/9JnEt2DIpN646oj1TQMxC1UQgRipGmEQSQbw70TTFLD0kjRsyE0sLtANI/Nb0Me1W5YbdENZ4zyLKYsZHxLXDQcSExRfHoMgjyqXLdc3lzx/TPNdE3BLicugu7x32Qf2ZBCoM/hPtG7gjJCvoMdA3sDyEQF1DWkWoRl1HbkfURmpF/0JsP6Y6xDTeLTQmAB52FaIMhwMj+nHwfeZ53LHSh8lVwWK64LTJsBiun6xDrMasGa5CsB+zxrYjux7Al8Viy2DRhtfL3S3kw+qk8db4cwCVCDERARq/Ii8r6zLYOc4/y0T3SHxMUE91UcxSEFMzUvBPUUxeRztBIDpJMvApQyFoGFcPLQb4/NPz5+p64r7a/dNwzhbK78bOxH/DzcJ8wmjClsITwwXEhsWix3PK9s0u0h7Xt9zq4sfpSvFW+c0BeQoTE10bEyMcKmkw7jW7Otc+T0ITRQdHB0j+R89GaUTPQBQ8aTYFMBYpwSElGkgSPAr4AZj5LvHm6ADhptkS01rNncjRxPTB77+svh2+Mr7qvjPADcJjxCzHTcqwzTzR6dSp2HPcauCx5HTp6e4n9Q/8UgOQCoER4henHd4iwCeELDox2zUyOgI+8kDEQkpDgkKaQKs9FjoTNsYxXS3TKB8kGx/OGSMUMw4uCEQCs/yJ99/yfe496vPlauG53APYetN6z0nMEMrbyK7Id8kEy1TNUND401HYSt3R4rjo0u709Or6kwDxBfQKwA9bFM0YER0NIaQkoSfmKVYr9ivPKwUrwCklKEImCSR1IXoeDRsuF/ESZg6mCdkEEwBZ+8z2c/JL7mnq4ua74xbh/t523X3cENw/3OPc691G3+zg1uIF5XznHerb7JrvYvIW9bH3O/qo/Bj/kAEUBJkGDwlTC1EN9Q4sEP8QcRGbEZwRhhFsEVsRUhE6ERoR4BB+EP0PWg+ZDrQNygzdC9wKzAmaCCkHdgWXA5kBtf/8/Yz8hfvN+lf6Bvrb+br5r/nX+TH60fqn+578kf1a/t7+CP/j/o7+Iv66/Wj9Lv3+/Lv8S/ya+6j6dvki+Mz2jfV49KTzEfO58pHyi/Ku8v3yePMk9BT1RvbD9375Zvt+/aT/yAHpAwwGNwhqCp8M1g4AEQQTyRQ2FjsX1hcTGOIXXReUFo8VVhTpEkkRfg+XDY4LfAlTBxgF1gKAACf+xPtR+dj2Y/QC8tTv9u1w7E/rmeo96jjqhuoa6/XrC+1X7sDvPPHE8kn00fVV98r4LvqE+8L87P0J/w8AAAHeAZwCOgO7AyoElwQQBaAFSwYPB8kHbAjeCAcJ8AiWCBQIbwfJBiwGlAUNBX8E3gMVAykCFAH1/9z+0f3z/Ef81fuK+2D7Sfs++0L7WPuN+/H7kfxf/VH+W/9UAC8B4wF7AgcDmwNLBCAFHAYiByEIAQm4CT4KkwrDCtIK3AreCuEK4wrTCqUKTArMCSsJeQi+BxEHZwa/BRoFSARJAwQCcwCp/sb84/oQ+Wj39fXB9LPzyfLy8RPxPvB879rua+5I7nruDO/z7xfxXfKq8/L0LfZb94L4p/nc+h78af3L/j0AtwE2A8cEVAbdB10JuArhC8sMag27Dc0Now1UDdsMMQxVCzgK1QgiBzAFEAPhAMX+2fwz+8j5nvie97T22vUI9Vf0xPNc8zDzUvPG83f0WfVK9kj3SfhQ+Xj6vfsu/cL+agAiAsgDSgWmBtgH8gjwCd0KvQuGDD0N2Q1ODp8O1g7tDvMO5g7WDsQOmA5SDuANMw08DAELiwnyB0QGkgT3Am8B6P9K/pv80vrw+A33QvW083jymfEp8RXxV/HW8W3yGvPD83v0PvUI9vv2B/gn+Uj6Zftm/EL9DP7I/pD/eACMAbsC6wPsBKwFJAZbBmAGTAY2BiUGBwbTBXkF1ATfA48C/ABP/6L9IPzn+vL5MPma+A74evfm9k72vvVJ9Qj1FvV59TL2Kvc/+FH5Wvpc+1j8Yf2F/sv/LAGVAuMD+QTRBWYGzAYfB3IHyAc2CLgINwm9CTkKnwrtCigLTAtmC3YLeQtzC1cLEwuhCgkKPglUCFsHWQZVBUIEHwPXAWgAxv7+/CT7Vvm/93D2dPXT9Hz0V/RW9GX0d/SL9LD09fRt9R/2E/c7+IP53vot/GT9iP6T/5oArQHXAggEIAUTBsMGKgdQB0sHLwcLB+8G2AbIBq8GdgYOBm0FjwSDA1UCIQH+//7+Kv5w/cz8LvyH+8r6+/k2+Yz4CfjA97j36vdK+M/4aPkH+qD6MvvR+3v8Nv0K/u7+zv+YAEgB2QFSArUCGAN9A+kDWATZBGkF8gWDBv8GXgeYB6MHhgdGB+cGcAbsBVUFswQABEEDbQJ9AYAAef9s/mH9YPxq+436z/ky+b/4dfhQ+FT4gPjC+B75k/kO+oj6B/uL+xX8pvxI/f39x/6r/6AAlQF0AkMDAQSzBFwF8AVuBs0GDwc0BzIHDwfIBmEG6wVvBfcEhAQWBKQDKAOcAvkBTAGaAOr/Qf+u/jf+1/2T/VP9Df25/FD83ftv+xP71/rH+t76GPtt+8r7Jvx8/M38F/1x/eH9Yf7s/nf//f9xANkAIQFSAXUBiAGoAdEBEQJZAqMC3wL3AvACxQKIAkQCDQLqAdIBwwGwAZkBdQE1AdQAYgDu/3//K//9/uv+7/74/vX+4f6t/mL+Df62/W/9Pv0h/RL9Af3o/Mn8pfyQ/JX8u/wE/WP92f1Z/tn+Vv/M/zcAmwD/AGYB0QE5Ao8CxwLpAu4C4ALSArwCogKLAnECVQI8AhsC5wGgAU8B+ACwAH0AXQBJADMAHAD+/9b/mv9c/yL/8f7V/s/+2v7h/uP+2P65/pr+iv6N/q3+6f4z/4X/1f8aAE4AbQCCAJAAoAC/APEAPAGSAd4BDgIVAu0BlwEmAbQASgDz/6//ev9R/zH/Dv/l/rf+mf6P/pn+yv4j/5X/GQClACUBlQHiAf4B/AHhAbwBkgFtAUgBHwH5AMcAkQBNAAQAv/94/0f/Hv/8/uX+yf6s/pP+e/5c/jn+GP74/dj9uP2Z/YD9Yf1E/Sn9GP0c/Sj9Qv1c/XL9iP2m/dX9E/5i/rX+E/+A/wAAgwAGAY8BCwJ8At4CNAOCA7cD1gPjA+MD2wPOA8UDwgO+A7oDrgOZA34DVgMiA98ChwIsAs4BcQEYAboAVQDp/3T//f6D/gH+gv0I/Zj8NPza+4b7NPvq+qz6hfqG+q769/pe+9L7VPzk/H/9LP7h/pb/QwDrAJABLQLBAkcDuQMYBGEEoQTpBDIFcgWcBZ8FgwVFBfUElQQgBJwDCAN4AvMBdgH1AHEA3v86/5v+/f1j/eD8c/wS/MD7gvtS+yb7+PrQ+q36mfqc+sf6GfuF+wP8ivwY/ab9PP7Z/nf/GwDAAF4B8AFtAtICJgNkA44DuQPoAxgETQRyBIkEmQSXBI0EdwRQBBcEzQN3AxUDqQItAqMBDAFqAML/Gv95/uX9Xv3g/GP81PtC+7L6MfrT+Zb5gPmR+cT5E/p9+vL6Zvvh+2v8Cv22/Xb+Qv8XAPUAzgGlAmcDDgSaBA0FbQW4BfYFJAZBBkgGLQbyBZMFHgWdBBMEigP8AmoC1QE/AacADQBy/9T+O/6v/TH9yPx5/ED8H/wI/PH72PvD+8b73fsF/Dn8dfy9/A79Zv3B/Rz+e/7o/mL/5f9lAOAASQGeAeEBDgI1AlcCewKgAscC8gIYAzwDWQNnA14DRgMiA/MCxAKSAmECKQLnAZQBLgG/AEIAyv9T/+H+ev4T/rT9Sv3a/GT86ft++yb75/rJ+r76xPrn+iD7avu4+wf8Wvy6/Dj92/2h/m3/NwD1AKEBQgLYAmUD3gNGBJ0E5gQjBVkFfgWKBXEFNgXmBIUEJQTDA1YD5AJpAuoBdAEIAZkAGwCF/+v+Yv7+/bn9e/1E/Qz93fzR/Nr84fzh/N784vwD/UH9if3V/R3+bP7L/iz/g//G//3/LQBpAKoA5QAcAUYBbQGSAa4BvwHHAckBzwHeAewB+AH7AfoB8gHlAcwBqgGKAW0BUgEyAQMBwAB6ADQA8/+v/2H/Cf+q/lP+CP7C/Yn9Wf0n/f384fzR/NH84vzx/AT9JP1Q/Zz9+/1h/sb+J/+M//n/cADkAD4BggG4AegBHQJaApACtALCArsCrAKUAm4CPAL2AZ0BNgHRAHAAHQDY/5H/Tv8L/8j+j/5l/kz+Qv5F/kn+WP56/qP+0/4D/yv/Tv9v/5n/1v8mAIIA2QAmAWgBpQHdARMCOAJQAmcCdQJ7Am8CSAICAqcBOAG4ADgAyf9+/1T/Qv8z/xP/7P7N/rz+vP7J/tX+5P77/hj/O/9Y/2f/bP9o/2P/Yv9g/2b/c/+S/7j/0v/Y/8z/sv+d/5b/lP+O/4L/f/+J/6T/wP/I/8f/xf/D/9D/4//p/+f/4v/n//z/HAA9AFkAcACAAJkAuQDbAPIA8ADYALAAgwBWADoAKgAcAAEA0v+X/1r/Mv8d/wv/8v7P/qn+jv6H/pj+rv6+/sj+2P7+/j3/j//j/ykAaQCjAOIAKAFyAbwB+QEsAlACYgJdAj0CBQK0AUkB0ABbAPr/vv+f/3//UP8V/+X+1/76/j//g/+4/+H/CAA2AGIAfQB9AGEAOAAZAAoACwARABQAEgAPAA0ABAAEAAkAEQAdACUAJwAkACsAPgBJAEEAIAD0/9f/2P/u//f/6v/U/8f/1//u//D/0/+q/5n/qP/G/9T/wf+d/3z/Y/85/+v+iP4+/i/+Vf6M/qf+mP6B/ov+wP4G/zb/TP9g/5L/7v9NAI0AoACfALIA6gAsAVUBZwFvAZAB1QElAl8CXQI2AggC8wECAh0CHQLmAX8BDQGvAGUAJQDS/2D/7f6W/mz+W/43/uz9g/0r/RH9Qf2f/fX9Iv4t/jH+Sf6I/tP+Dv8s/0D/af+//z4AugAXAT8BPgE/AVcBkwHlATYCdQKaAqwCvQLcAgEDFgP4AqACNQLkAcoB0gHEAW4BzwAYAID/Jv/v/qX+Kf6R/RP92/z+/EP9bv1p/Tn9A/3s/AD9Jf1K/W39jP2q/cz99/0m/mT+pP7X/gX/O/+g/zwA6ABqAa8BzwEhAswCoQNTBIMEQwT0A+sDOwSOBG4EvQOoAqwBKQEBAdsAWAB+/5P+//3d/ej90v1o/dv8evx7/N38Wf24/fH9G/5k/tH+Pv+O/7z/zP+5/4v/QP/3/un+KP+Q/+D/4f+n/5b/+f+2AGMBoQGAAXwB9QHRAokDnwMbA4wCcAK9AuwCfwJ7AWsA4P/z/y0ACwBd/27+yf3A/Sb+eP5X/r/9DP3U/HD9qf7x/5cARQBg/7L+0/7D/8kA8QASAM/+MP7S/kIAbQFkAVYAPf8W/zQAxQGwAnQCgwHOAP0A6AHBAtYCCgL7AFEAagAeAd4BKQK/AcsArv/T/of+v/4l/1L/Bv9M/nH91Pyd/MX8FP0v/Q396fz7/IT9dv5r//r/BwDb/87/OgD/AK4B8AGvATEB1ADWABoBbQGkAbcBvgHMAeAB9gEJAgcC2gGEAR8B2ADRAPcAAgGuAPz/Jf+L/mj+jv6j/ob+OP7x/fn9Y/4H/5v/uv82/03+nP3H/b7+6f9fAL7/k/7j/Uj+UP8EAL//wf4G/kf+Z/+3AJcB/wEqAkMCOgIGAuMBRQIlA8sDoQOwAuQBRALGAwQFgwQjAoH/rP4zAGkC2wKgABj97/qo+y7+1//r/h/8yfny+Wj8+/6O/+/9t/u9+rz7rf3w/uv+Q/4k/iL/pACBAQ8B4/9A/xoASAJmBPIEmwN2AUAAHAF9A3oFcQU5A2wARP+zAJYDngUdBUsCTP9A/qz/EQIgA7gBuf5F/Of7f/1M/37/x/1v+0H6C/sr/QH/Nv/Q/f77LfsU/Bb+7v9zAH7/8/0j/cj9gP9UASUCnQFTAEj/LP8UAI4B9QLFA90DagPeAuUCxQMTBdEFPgVvA6IBNgFrAhIEdATGAv3/9v3C/cH+UP9p/n/8Ovu9+6D9T/9x/wn+Y/y0+zT8IP2H/V39M/2m/br+u//Q/+T+kv3J/DH9xf6oANEB2AH9ADwAfwDgAWwDEgRaAwICbgFjAlAExwXBBWEE5QJdAq8CuAKzAQIA+/6k/30BoQKFAYf+qfv6+uD8n/+6AFv/ufzq+jr7Rv1M/+v/DP90/TL84/uM/Lz9xf72/hP+svwM/Cb9x/9LAtACBgFS/vH8I/7oADQDqAOpArUBIQK4AwgFIAUnBDQDKgPaA18EJQR7A0QD1wNrBNgDqgHo/lH93/3Y/zcBdgC//eD62fkb+z/9PP4k/fT6tfmt+j79YP9m/0r9yfoM+tD7+P6DAQ8CqQCo/nL9nP3P/mMAvwF2AnsCAwKYAdwB7QINBCsEFgO7AZgBcAP4BfoGWAUqAvP/fQAaA/kE9QNwACH9v/yg/zsDMwRkAb38t/mY+o/+SQKbAgz/9PnT9tP3GfyhAF4CNACz+9f3Gvfh+Vf+wQFDAhYAMP38+4r9xwBqA6wDqAFN/+D+DQFjBJkGUgYuBCwC1AEJA0QEPwQCA7QBkQGyAgoEYwRJAxUBtv4M/Xv8H/2y/lYA/gAcANn9Rvvw+Yv6ifyN/mf/rv4j/Sr8dvzY/Tz/Yf/k/cL7rvrf+wD/OgKlA5ECNwCf/vP+xQCTAgMDNgKEAQ4CugMkBeAEzgJfAIT/+ACnA5UFWgVwA4cBDAH0AbACwwE7/+D8lvzX/gwCkwPdAc/99fml+F36Xf1C//P+N/3F+9H7B/0O/gn+Y/0H/XD9Nv5E/mT9svxx/bz/egLlAyEDOwH4/w8AyAAeAZYAMAB/AW0EFQdiB8IE5wDF/vT/UwMYBhoGiAOcALP/RAGTA2MErQJv/638ufuF/NX9i/6A/hX+pv09/bD8PvxU/PX8dP0k/e77u/oS+1z9WQAeAoABCv/D/IX8c/4qAe4CzQI5AaP/Xv/DAB8D/wQrBWYDsgDi/mj/XgIxBpEIzAcIBDH/EPyB/C0A4gSLBzQGbwE0/Kj5OPt+//4CxgLP/sL5AvdJ+HH8mQBFAhwBXP6S++X5rfmf+nr8wf6FAPwANwAK/2/++/4ZANsA6gCoALwAmQHsAsQDqwMhA/UC1wObBdUGIgZeA+X/4/3H/iECrgX2BlAF2QG7/mr9qf0Q/qr9pvzW+zL8mv0F/4b/+f7S/bH88/uD+1L7ofum/Dj+ov8pAJn/W/5S/fH8T/1g/u7/mQHZAuQCmgESANX/dgEGBIEFWgRQAfL+eP/AApsGPgiRBhsDQABQ/x4AgQFjAqECawKtATMAXv70/NL8G/6q//L/TP6N+335vvk7/Fz/DgEgAE79n/rv+aL7df5YADUAuP6U/Q7+3P+rASUCNwHx/37/RgCJAUICAAIsAaEAJgGaAjYEEwV6BI8CcQB+/34AEQN6BcIFUAOt/2T9RP6LASMEIgNT/uT4LfcX+xYCvwYcBeP9OPbn8334MAAFBZgDlv00+KP3sPuZAH8CkAA//dr7gf2xABIDUAPUARoAWP+8//cArgI8BBMFyQRDA0UBJQCxAIoCcQTxBKcDlwEoABkATAGbAuYCBwJIAGn+Rv1q/aT+QQA7AV8Am/05+h74yPg4/IYAHQNsAgz/Evvh+Kb5hvys/40BwwHDAGz/iv56/j//pAADAoQC/gEAAYAALgHKAhwEBASAAsgAOABGAR0DKASnAygC8ADIAIYBLgLaAY4A4/6q/Wj9U/45AFwCZQMTAmX+CPq39zj5i/1aAYoB9/2o+Z34Y/xPAqkFkQMd/dz2cfXm+RkBRwaFBqACUf4I/V3/DAMPBfYD6gCc/gz/6AEdBY4GfAUUAy0B0gC9AcMC1QL3AekAgwD1AJsBnwGfABD/4P3Y/en+LABkAAX/sPzi+vL68PyB/8oA0P9Q/TP7HPsN/VX/KgAm/6r9iP1b/7sBjwIDAWD+Df1C/hEBLgPyAvAAbv8ZALoCMwVuBRwD3/8p/hv/3gF7BH0FlwSnAvgAHgDb/6//Qf+S/jr+uf7F/5oAjwBt/+/9Nf3b/TT/2/8H/xf9tftd/BX/DQIVA1EBx/3R+nn65fxbALsCvQKsACH+zvxO/RX/HQF1AuIC/QIwA2EDKAM/AukAAgBOAJkBCAO8Ay8DogERADr/XP9vAMwBWwJ6AVz/8fzK++L8e//kAWsCZADa/O/5Y/mJ+0P/XgL8AroAC/1X+oT6gv04AR4DAwIq/xD9fP02ADsDVAS9AqH///yH/ML+dgKXBVcGEAQVAPz84Pzk/+sD9AVJBAAAT/wV/MX/tgQGB48Etf5y+ab4K/26A4IHnwU///74jPfC+w4CegVrA5f9vfib+OX8CQIlBBMCFv54+9v7XP6tADYBCACO/gj+4/7RALQCiAPjAiUBVP/X/iIAPQKmA1gDvwGCAAEBuwL5A2sDZQG1//L/dwH+AS0A5fwF+/f88QEABnIF+f8l+QL24vhG/wEEogPU/sL5qPge/P4AbgPYAQj+Tvum+zv+lwAqAUQAnf9kAAUC1QLlAfr/zv61/xsC9wO4A5MBV//W/lMAcAKbA0cDOgJ9AQQBRAAn/3j+Qv9vAU0DxQLJ/4v82fuh/sICgATZAZ/8xfhi+Tz+gAMkBSsCCv2++aX6u/6TAjMDKgDZ+7z5sfuIANwEpQVPAkD9JPpK++7/8QQHB/4EiQDd/If8jf+uA/sF/wStAYb+nP0i/5gBIwPlAmoBvf+C/hj+if7h/8sBRgPyAlYA4fz8+jD8zP8AAwQDuP+z+zH6Yfx/ABAD3wHs/Wn6F/p1/RACbAQSA0X/7vuU+4/+ggKtBPUDUwH1/pL+IgBAAoEDSgMOAsEASACoAGIB6QG5AdcA+f+O/6n/LQCMAGsAEwAEACIAIwCt/7P++/1z/tX/8wDAAPj+yfwF/Gj9sf8BAToA1f3V+/X7GP63ACACiwHF/0v+DP7f/g0A6wBQAYIBqQGgAScBZQAZAOQAkALyA5MDLgE7/iD9Q/+FA9gGWgbKATj8zfl6/FsC7gZ/BiEBzPot+CT7WQEFBosFLADZ+QP3mvmi/8MEggWLAdf7jvj3+e7+yQPsBIkBPPwd+aX61v/HBL4FIgIG/a36/fwEAoYFzATfAHT9mP0WAb8EXwWlAiT/yv1t/0MCmANfAun/bP4G//gARQKWAYj/1v0G/gUANAKhApgAZP1X+w/8Hf8/AhED1QA0/dr6UPsY/hcBSQIvAfv+WP1G/Z3+TgBSASoBCgC5/hz+z/6SAFgCDQM0AoQAWf9v/3cAggHGAU0B1gDhADYBPAG/ACMA8v9TANAApgDY/zL/XP9EAEEBUwEiAJX+pv3T/ej+GgCMABoAUP/D/tv+Vf99//3+RP4W/uH+VABNAdYASP/g/dz9a/90AUkCSQGI/3v+AP+VANIB0QHtADcAXQAiAaABOgFNANH/SABgATgC/AHCAHH/7f6N/98A8QHpAbIA9f6l/Yz9tv5jAJwBpwFrAIP+/Pyo/Kj9f/8oAZMBWwA8/on8e/xP/tMASgLSAer/D/6f/cn+dQBlAVMBtgBNAHcA2gDyANMAwgDdABEBFgHeAMQAFQGYAcwBYAGIAOn/DwCwAAIBegBT/2/+r/4nANABUwIlAcj+mvwi/Kv9IgDYAaEBn/8//Ub8c/3w/w8CbwK7ACL+afyy/Mf+RwF+ArUBuP8g/h7+rP+IAT0CbgHy/yn/yf83AT8CIwIvAVoAOACrAB0BFwHSALQAygDGAFMAhv8I/13/TwABAaQAL/+Z/Rr9Iv4IAGwBMwFx/2P9jvyj/fP/0wHXASQAGP5F/Vb+YgDGAYYBHwDX/rD+s//sAFwB7gBVAEoA1gBrAW8B3QBLADsAtQBFAXgBPQHRAHcAWQBmAIsArwCyAHkA7f9V/y7/rv94AOUAdABM/zL++f3B/tz/aAD1//H+Tv6e/p7/ZwA0ABX//P3z/SD/qQBgAbMAP/83/nf+zv8yAZwB3gCw//P+KP8cACsBtQGCAdIAEgC+/xAAxQBNAT8BkADO/63/TAAyAakBNAENAAD/tf4n/+D/VAA0ALz/WP9A/2D/hP9z/zH/Af8W/2P/q/+t/13//f7p/k3/8f9HAPT/HP93/q7+rf/MACoBfgCW/1//LQBsAfoBSgH1/zH/v/86AX4CewI1Abn/Hv++/+cAhgEZAQAAK/84/wAAwwDSAB4ALf+v/uT+cf/M/7X/V/8X/zf/mf/g/83/XP/U/pX+zf5t/yoAlgBvANP/LP8A/4f/agD2AL4A/v9d/3X/UABSAbIBJgEmAIn/y//FAKkBsgHcAM3/bP8WAEIB7wF0ASUABP/f/sj/8ABAAWAADP9Z/tz+NAA4AfwAjv/0/WP9Rf79/1kBXgEFAET+T/3G/Uf/xgBGAYQALf9L/nn+g/+kAB8BvAD2/3D/hP8kAOcATQEjAaAAMAAXAFYAtADqAOUAuwB5ADsAFwASAC8AZwCSAHkAGACv/3b/iP/Q/wAA4P+D/zP/Nf+C/8P/r/9L/+r+5f5J/7//6f+x/0//PP+w/1YApABFAHP/1v7+/un/+ABxAQUBEgBY/1r/CQDiADsB2gAwANX/DACuACoBCwFnANP/yv9HAM4A1QBKAKL/cv/m/4AApQAhAGL/D/9w/ywAjgAxAFz/sv65/mX/LQCGAD4ApP8j//v+QP/E/z0AfwBlAPT/e/9O/6D/RwDLAM8ATwC2/43/BADPAEoBAgEiAF7/Wf8gABIBWAGrAIz/1v4h/yQA9ADcAOr/1P5y/gj/EACzAHkAk/+x/oD+G/8AAH0AQACB/+D+7f6o/4gA6AB4AI7/6P4W/w0AKQGXAQUB3f/7/g3/DwBFAb8BJAHy/xX/O/85ADoBVwF2AF7/8P59/4cAKQHkAAYATv87/7n/QABVAOv/bP9V/7P/LABUAPT/U//7/jr/7P+LAJcAAQBQ/x7/oP99AAwB1AAIAFj/Tf/n/6QA9ACuAB0At/+5/wgAZgCSAIAAUgAlAAwADQAfAEgAdgCBAF8AEwC+/6D/2v88AH8AawD8/3X/QP91/9v/GAD1/4n/LP8s/4r/8/8aAOf/iP9W/23/rv/f/9n/sP+h/87/HQBPADYA5f+q/8L/GAB+AKsAdQAHALf/xf8mAJMAvAB9AAAApv+0/ykAtQDZAGoArv8m/0j/AgDMAAEBawBz/8n+AP/0/84A7AA7AEH/zf5A/yUAuQCSAN3/NP8j/6n/TgCPAEUAxf91/43/6f84AE8AKwD6/+P/6/8ZAGAAiQB1ACwA4f/a/yYAiQC7AKMAZAA6AEEAWABRAC0AEAAcAEcAWgAwANn/mv+e/8v/7P/f/6D/UP8m/zv/gf/T//j/2v+F/y3/Hv9v/+z/NgAbALn/YP9f/7z/JwBPACQA5v/i/ycAcwB7ADQA3//H/wQAbQCvAJMANQDn/9f/CwBZAHcAUwAWAOb/1v/w/w8ADgDy/83/r/+r/7b/wf/H/77/qP+W/5T/q//e/xQAIwD8/7L/gP+p/ykArgDIAFwAxf9y/6r/SgDEALEAKQCf/4X/7f9vAJoARgC5/2v/l/8KAGAAWAAKAMT/yP8PAFQAUwABAJn/av+Y/wAAUQBNAPL/i/9t/63/HgBlAEIA2P96/3T/0v9OAIwAYgD7/6f/o//q/0IAcABdACEA6v/W/+r/FABCAFsAUAAfAOb/0//2/zMAVgA8APn/yP/T/wwAQwA/APz/qv+M/7f/AAA1ADMA9/+v/5D/q//t/yUALQADAMz/tP/Q/wIAHwAOAOX/0//x/yQAPgAmAPf/3f/3/ysAUABFABUA6f/h/wUAMwA/ABsA4v+5/8D/9/84AFIAMQDm/6T/nf/X/x4AOgAbANn/ov+f/8//CgAlABEA6v/L/8n/5/8UADoARgA6ABwA+//m//D/CgAhAC0AIgAMAAAA+//1//H/+P8EAAwABgDr/87/zP/p/xAAJAANANz/wv/T/wAAHAAFANn/zf/0/ywASAAsAOv/vv/Q/xYAXgBvAD8A9//L/9r/HABcAGsARgACAMn/wv/t/ywAVABFAAQAuf+S/6j/7f8yAEEABwCy/4j/rP8FAFIAVQAOALj/mv/S/zMAcQBWAPL/lP+J/9z/SgBtACAAoP9N/2f/1P8zAD8A9f+T/2z/oP///zkAKQDr/7z/zP8PAE0AVgApAPD/3f8GAE4AfgB2AEAABwDx/woAPgBnAGsAQAAAANT/2f8KAEMATwAdAMf/jf+j//f/SQBZABgAxP+e/8L/DgA7ACkA7v+//8f//P8pACkA+v/D/7X/3P8UADEAGQDd/6//u//4/zcATQAuAPH/x//O/wUASQBnAEwAEgDh/9P/8P8iAEAANQAGANH/vP/Y/xMASgBXADIA+//Z/9//AwAmAC0AFwD+//T/AAAUABkADAAAAP//AQACAPn/6f/k//X/CwAWABAA/f/s/+v//v8ZACEACwDq/9X/2v/1/xIAHgAVAP7/6f/k/+v/9f/3//H/5f/c/97/5v/o/9v/yf/M/+r/CwAKAN7/oP+B/6r/CQBXAFUAAQCd/3n/vP85AI4AhwA2ANj/tv/t/0wAigB+ADcA7//a/wQARQBkAE8ACgDI/7f/0v/6/wkA8P/D/6//u//c//3/AADm/87/yf/a/wEAKwA6ADYAKAAlADEARgBUAE8AUABWAFoAWwBKADUAJgAnADQALwAQAOT/u/+z/8//7v/x/9D/oP96/3H/h/+p/7r/pP93/03/Qf9d/43/vf/Q/8D/oP+S/6z/3v8QACYAFQD2/+7/CAAzAFEATgA5ACwANgBTAGYAZQBPAD8ASgBaAFsASAAtABsAJQA1ADMAGQDy/9z/4P///yEAHgAAANv/x//V//H/CgANAPT/2P/N/9X/6v/5////9f/b/8j/x//c//n/CgDy/8P/o/+s/+P/KgBPACgA3/+r/77/GwB5AJEASwDh/6v/3f9QAKEAlQAuAMb/q//t/1UAiwBjAAQAvP+x/+n/NgBUAC8A4f+j/6T/4P8pAEgAJgDe/6H/q//2/00AdgBcABkA7v8AADkAcAB6AFQAIAANACsAXQB1AFkAGwDp/+X/BAAiABgA4v+r/5X/tP/i//X/2v+c/3L/cf+g/9T/5//X/7n/qv+7/+//IQA3ACUA///m//b/MABuAIwAgABZADoARwBxAJcAlwBnACQAAAARAEIAbABnAD8AEAD1//b/AAAEAPn/5v/T/8L/vf/F/9P/5P/q/+b/1//E/8T/2f/9/x0ALgAoAA0A8v/p////KABGAEYAJwAAAPf/EAA0AEQAKQDz/8n/zv/4/xoAFADr/8D/r/++/9n/5v/Y/73/rf+v/8L/2P/d/9r/3//k/+b/6f/m/9z/4f/4/w0AIgAeAAcA+/8IAC8AUABXADMA///r//7/MQBXAE4AJgDz/9r/4v8AACUANgAlAPj/wf+i/7z/+/8vADEA6P+H/2X/pP8cAG4AVQDj/3f/av/U/1oAlQBUAMn/c/+V/xwAmgC2AGoAAADT/wUAbgCvAJsASAD7//T/KABoAIUAaAArAPT/6f///xUAFwD+/87/pP+c/6//0f/m/9z/tP+O/3v/kf/E//b/CQD+/+z/5f/0/wsAKAA2AC8AGAD///v/FwBDAF4AVgAhAOr/2P/5/ywATQA3APf/xP+w/9j/HAA/AB4A1P+b/5v/4v8yAFAAKADe/7T/1f8tAG8AYQAPALP/mP/W/yQAVAA8APL/u/+9//P/JgA1ABMA1/+o/6f/yv/x//r/4v+8/53/lf+j/7z/y//P/8T/uP+0/7r/zP/h//f/AAAFABYANwBjAHsAbAA7AAwAAwAqAGoAkgCFAFQAHAACAA8AKwA4AC8AEgDr/97/8v8ZAEMASwAtAPX/yv/L/+3/EwAfAA0A9P/t/wIAHgAnABIA7v/P/8j/0P/U/8z/t/+q/7L/vf+8/7L/qv+r/7f/x//U/9X/1P/h/wAAJwBQAGwAcgBqAE4AMAAaABMAFgAUAPj/zv/E/9v/GABjAKAAwADPAOEA7ADzAMoAcgD7/3r/Df+1/mn+E/61/WX9Mv0b/ST9P/1x/b39JP6m/jP/uf81AKkAGgF/AcUB4wHnAekB9wEIAgsCAALVAZYBaAFCASwBDAHNAIEAOgAPAPz//v8EAAQAAQAAAAQABgAHAAwADAAAAPj/7f/x//7//P/P/4H/OP8Q/xn/P/9V/0P/J/8p/1b/mv+//67/dP9B/0f/gP/N//3/AwD6//X/DQA3AGAAcQBsAGQAagCHAKcAwQDKAMAAqgCJAF4AOwAaAAAA7v/d/83/wv/H/9b/4f/j/+H/4P/h/9z/0/+6/6b/pf+1/9r/+/8WACcALgA7AEkAWgB9AKUAxgDvABkBNwE9ATEBGAHrAKkAWwAGAKr/aP9J/zj/LP8T/+P+pP50/k3+Nf4v/iz+MP4u/jb+Vv6N/s/+CP82/1b/hP/P/zQAswAqAZIB9gFhAsoCHANUA3sDgQNyA1cDFQOsAi8CwAFoASEB3gCEABYArf9k/0b/UP96/5v/qv+N/13/L//v/q7+X/4F/qb9Pv3J/Fv87vuK+yf7yvp3+jj6Lvpf+tv6kPth/Dj9If4Y/xoAKAE6AjMDGwQDBd8FtQZ7Bw8IZgiOCHkIOwjGBw4HHAYIBfQD7gL9AQUB+//n/tb92Pz0+yf7a/q8+SP5qvhe+FH4ivgA+an5avou+/b7zvy7/az+mP91ADoB/QHJAosDNQS8BBQFNwVBBRsFuAQ9BMcDZAMJA6MCFwJoAaoA7f80/4D+2P0q/XT8xvso+6v6TPoc+gn6+fn8+Rv6cfoA+7z7mvx4/Uj+Gf/y/8kAlgFPAvcCkAMOBGwEpASxBKQEigR2BG0EaARiBFcETwRJBD0EOAQtBAMEwgN0AyUD4gKhAlMC4wFHAZIA2P8q/47+AP55/QH9pPxP/PT7rvt9+2P7dfux+xb8pfxU/Rb+4/6h/0MAzgBKAbYBGAJ5As4CHgNjA4wDiwNHA80CMQJ2AaoA3P8R/0/+pv0S/Y78Avxc+6j64/kP+Tz4bPe09iP2wfWW9Zn1u/UA9mf26/aI9zr4FfkW+jT7evzs/Xr/GwHEAmkE9QVhB7oI4wneCrULYQzqDFQNkA2RDWMNCQ2KDP8LVAuQCscJ9AgrCGgHqwb+BWQF6ASZBGUEQgQzBDAENwQ4BCsEIAQZBBkEIgQtBDUERQR4BMgEKQV/BawFpwV7BTsF0gQoBDgD/QGPAAv/g/3c+/T51fd+9fnySfBQ7fnpQeZC4iDeBdr31fnRAs4DyirGocKSv0O9LrwuverAqcdM0S3dWeru904FBBLHHYEoPTI7O8xDREy5VPNca2RIatVtzW4pbf1op2KmWmRRaUcuPfYywihNHjETJAcy+pTssd4F0R7Ed7iGrpqmrqDDnJyawJnnmdaaeZwhnyej1qhlsMq50MQw0Ybec+xo+tMHaBTnH2cqATS5PJ5Elkt0Uf1VA1lVWrRZC1d8UkVM0kSMPNYz/CoYIjYZXhCWBwz/wPbG7mLns+AQ26/WotPp0VjRw9Hw0r7U/9aQ2Xjctd9n45znO+w+8Xf2sfu6AHAFmQkyDVQQ+BJJFVYXGhmaGrEbOhwKHO0auxhtFScRHgyTBrYAnfo79JvtuOZq38PXzs+zx96/qrhqsm6tFqrPqP+pA674tKm+zMoN2enorvm2CnQbXCsNOllHOVPLXQ5n8G5PdeF5VXxgfMh5iHTQbNtiCFfSSaQ78ywhHk8PkAD38YzjXdWSx226T66vo/CaZpRekOGOy4/wkuqXQ56kpdatvLZXwMzKGtYt4uzuBvwjCecV3iG5LDo2Lj6SRHNJ2kzyTttPqU9gTgRMekh2Q7c8ODQ1KhMfcxP2B/78z/K+6QPiuNu91tfS4M+ozUvM98vhzFjPatP52PDfDOjY8OL5nwKlCrQRyBfeHB4htCSxJw4quyu8LO0sGCwDKqAmGyKfHH0WCRB3Cf4CrPyr9uXwP+u85VDgK9t81pjSq8/czS7Ncs15zvjPo9E906XU1tXY1sXXw9jz2WPb+Nya3k7gQeLE5Hzo6e1V9d/+QgoOF6MkQjL4PhBKGFPQWXBeOWF0Yodid2EuX4hbNFYJT+ZFzzr1Lc8f+BAFApPzJOYE2krP28WcvWi2H7DQqpKmxKPBosSjCaeWrEW0ub1xyOLTfN/D6oT1pv9FCYMSaBsDJCssnDMFOhg/mkJfREpEhUJIP+M6pjXaL7IpMyN5HFEVtw2sBSH9UfSI61DjBdwM1rXR6s65zfnNY8+/0d7Un9gC3UPiZuh+75b3cAC6CeYSchvXIsMoDC2lL7UwhzBQL0gtkyolJwYjLB6eGF8Slgt4BEf9WfYI8KzqYOYk4+Tgdd+f3ife4t3O3ejdUt5P3wzhouMf527rOfAc9bL5qf3BAO4CGAR2BEsE1gNkA+YCXQKRAU4AZP61+1L4YPRM8Jrs9unc6NLpEO158pP5hQGgCUYR8xd1HbAhxyQZJwgp5SrCLJQu0S8QMPUuMizAJ8IhjRpkEusJhwGU+UvysOuv5R3g4Nr71YjRm82Gyn7I0MeqyC/LX88h1TrcOuS07DH1Yv0LBfMLOhL2FzUdMCLOJvkqdi4EMVUyODKKMF4t1ShSI0sdFBcUEVEL3gW+AL37ufav8ajs1+eL4xPgsN2d3Obcc94c4ZnkkOjG7OjwzPRz+OD7T//BAl4GEgqyDQMRyhPnFS8XqRdpF7kW0BXvFEYU4ROjE1sTzxLDEQoQjg1nCsAG1wLv/kD76vfm9CXyi+/w7D/qbueh5Pzhu98i3kLdNt3X3e/ePeCP4cTiveN55AvlpuV45qbnMekd623tI/BH8wD3h/sYAeoH9w8EGY8iICwsNRY9WkOZR4ZJOUnqRtNCSD2SNt0uSCYLHRsToQiw/XHyM+do3InS78n/wvS9/Lr+ufi6or2owcvGvcxA01naDOJR6k7z3vzYBvAQsxqwI4Qr3TGGNpQ5Tjv7O+w7UDs4Oow4DjaXMtktvCciIEEXgg1dA1r5x+8R51/fqdjv0vTNt8kwxmvDo8EHwezBbMSzyKXOHNa93hXo5PG2+1oFnQ5qF64fVCdhLs00bzoaP6lC20SERXNEl0H8PLU22i6dJTwbDhB5BPP46e2b41faPtJiy8TFWcEbvgK8Jbumu6W9F8EOxmHM29Ms3AHlCu7c9kL/CQceDoQULholH2wj1yZUKcIq/irzKZ0nHiSRH0saihRtDj4IJQIq/Fz2yPCB68Dm7OKF4Azgl+Em5YfqP/Gn+B0AEwcXDQoS5xX3GGUbfB1DH4wgNSEAIaofBB0lGRwUMw69BygB9vqM9Qjxh+3m6uPoUOcK5gflUOQT5HDkq+XN59TqjO7I8jP3h/t//+MCnAWTBwgJFAr/CuQL3gziDeAOnA/nD7AP3w60DUoM8AreCTgJEAlYCe4JkArtCtMKEQqYCHkG6ANRAQT/R/0+/PL7NPzM/Hv9+f0g/tT9Kf1M/Fv7lvog+t75uPmQ+UL5n/ie9zX2jPTD8g3xse/Y7qHuA+8F8J/xzfN+9p75EP2WABYEWQc+CqsMmg4pEFcRPBK4EsMSVBJAEYsPHg0hCrAG/gJX/8z7d/hq9Z3yEfCn7Trru+gv5tHjz+F/4Cjg7uDw4jbmm+oM8Hf2k/0JBX4MmhMfGtMfeSQDKHQqyysZLIAr9Cl6J+ojMB9kGaMSRwuLA+b7ofQP7l7oduNO39Xb6tiF1rzUs9Om09TUddeX2zfhKegJ8Hn4EwGFCZYRJxkPIDYmkCvuLz0zVjUZNmc1KjNgLx4qriM+HCEUrAssA+j6FPPn64LlAOBx2/XXq9Ws1AbVudbJ2QXeL+MP6T3vcvVe+8kAlQWsCRoN7Q9OElAU9BUrF90X6BckF40VLhMaEGkMUwgYBOf/7Ps++Pf0AvJl7yDtNOvJ6cjoRehU6AnpQ+oC7D3u2PDo81v3J/s8/2kDXQfLCi4NUQ44Dg8NNwsCCccGnwSlAsYA9v4L/fv60Piu9s/0g/MT84vzFfWR9876hP51AmcGCgo/DeEPBRLBEx4VOhb/Fk8XDxc1FsAUoRISECkNAwrXBsED3gBG/gz8NPqr+Ff3J/YO9Rj0R/Ov8mXycPLe8rTz2PRH9uv3ovll+xf9tv5GAL0BHwNxBLIF5AbmB7gIOwlXCfoILwgOB7QFTATFAkcBtv///RP81flO93/0qvH87qbs9OoU6iTqMOsc7bHvwPIL9mX5z/xEANwDoAeaC7UPxROSF9YaUB3OHjcfgh7QHEAaHheZE+kPNgyFCNQEEgEo/RD55fTC8Nzsfenf5iLlYeSY5KnlZOeX6Q7sru5b8Qn0tvZp+Tb8If8yAmUFmgiUCyUOGBBkEQES/RGFEboQvQ+kDocNVwwHC5IJ2wfjBZED/QBI/nj7wPgj9sTzs/H7757uqO0i7fnsNu3U7druMPDf8drzKfbS+L/75/4pAnoFoAh8C/MN7Q9mEVwS3BL2Er4SOhJsEWIQJA+rDfwLDQr3B8sFoAOQAaT/6/1l/BH75/nR+Ln3ofaH9Xj0jPPU8lzyK/JT8snykfOG9Kn15/Yu+I/5/PqF/DD+AADyAQcEJwZDCEEKAAxxDYQOPg+RD4cPKQ92DmgNCgxrCo0IdAYmBK4BGv+F/AH6ofeN9c3zYPJT8aDwS/BM8KTwRvE88nzz+vS09qL4s/rV/Pf+AwH4AsAESwaOB5AIXgnxCVIKeQpvCkQKBwrDCXUJJQnRCHEI9wdaB5sGtwWrBHYDJwK/AFz/BP67/Jr7j/qf+cv4DPhg98P2Mfaw9Uz1AvXa9NT08/RA9an1Kfa49l33HPjv+OX5+Po3/J39Mf/pALMCjQRkBh4IrwkVC0cMSw0lDsQOHw85DxAPpw4EDhkN4wtbCo8IjQZiBCUC5f/A/bX7vfnz92H2/vTW8+ryM/K88YPxlfH18abykfOt9P/1cvcF+aP6Rfzw/bP/kwGHA4YFagcaCYoKqAt6DAANQw1RDS8N5wyFDAkMbwupCrMJigg2B8QFOASlAgkBb//W/Uv80vpi+Qb4t/Zz9U30V/OT8hjy6/EO8ojyVfNu9Mz1Z/c7+Tr7Wf2J/8MBCAREBnQIhQphDPwNSg9GEOgQNREjEa8Q5w/SDmwNvAvGCZEHKQWYAvf/WP3O+mz4PPY49G3y2vB370ruXu3F7IvsxOx27ZXuGfDx8QP0NfZn+H/6efxV/h4A4AGrA4IFTAf2CHAKngtoDMoMwAxQDJELlwp1CToI7QaQBSQEqAIXAXL/vv0O/IL6S/mL+E34l/hg+Y76BPyp/Vv/DAGyAkoE3QVpB+wIUQp4C0oMqwyEDMcLYwp2CCoGqwMqAbn+bfxU+mj4o/YB9YnzUPJe8cbwpfAL8f7xdPNe9bD3T/oV/dz/gwL8BDsHOQnyCm0Mrw2mDkQPhg9jD84OzA1kDJ8KjAgyBq0DDQFX/pz76vhI9sTzYvEu70LtwOvN6nfqzerP62/tpO9Q8lX1pPgk/M//mQNzB0oLBg+MEr4VeBikGicc5hzUHO8bQxrlF+wUdBGMDUcJvQT9/yv7ZPbC8XbtnelM5p/jq+F84BjggeCp4XXj0OWr6OjrgO9j84L31Ps/ALAECwkyDQMRUxQOFx8ZdxoYGwUbTBoHGVMXTBX8EmYQlQ2RCmIHFgTGAJb9mvrx96/11PNf8jvxaPDh75Xvie/R72zwVvGb8jX0FPYy+IH65PxL/6sB6QP1BcsHYAmnCqMLPwxpDCsMeQtUCsoI4gayBFkC+v+w/Zv73fmH+KL3Nvc395X3Pvgj+UX6oPsz/QD/AgEnA04FYAc4Ca4KqwsiDBEMgguLCj0JrAfpBfkD3wGe/zv9vPos+Kn1UvNL8b3vuO5D7l3u+u4S8JrxhvPW9X/4ePu4/iQCoQUTCUwMLw+nEZ4TAhXOFQUWrBXKFGMTdhEEDxUMsgj7BBABBf38+Bv1e/E57mrrEuk65/jlU+VP5e7lM+cf6azrx+5a8kv2d/rC/g8DPwc/C/UOSRIwFZAXTxlfGrkaWRo9GXEXBxUdEtoOYAvNBzcEsABP/SD6MPeX9GfyqPBf75PuSe587iLvOfC28YTzlPXc90762/x4/xkCqQQSB0YJNgvgDD4ORw8DEHQQkxBVEKoPgg7kDNoKawivBcYCwf+4/ML54/Yw9LPxcu967dfrn+rj6bPpJuo56+DsCe+O8Uv0H/fq+Zz8Mv+wARcEZAaaCLIKmwxIDqUPpRBBEXoRYBEJEX4Qzw8HDygOKg3+C5gK8wgKB+cEpwJmADX+KfxZ+rf4Pffm9aL0cvNg8njx1fCI8JzwFvHz8SLzifQi9tv3ofl/+3X9fv+aAcMD7gUICPMJjAu9DIEN1A2zDScNRAwYC6sJCghABk4EQQIjAP393vve+RT4lPZ19b70cPSL9Ab12PX49lf46Pmb+2f9RP8lAf8CyQR2BvUHNgkvCtQKGAv/CosKvgmmCFUH3QVPBLgCLQG2/1D+Av3L+6v6qvnL+Bz4rfd894j31/dj+Bz5+Pnw+vP7+PwA/gf/DAATARwCGgMJBOIEkQUVBnAGngalBowGVgYDBosF5wQaBCcDDgLXAJH/Rf4F/d771Pru+TD5nvg4+P338vcV+G/4//jB+bj63/si/Xj+2f85AZACzgPsBOYFtAZSB8EHAggOCOoHnQcpB4wGyQXkBNsDtQJ5ASkAzf5y/SX86/rX+fT4Q/jF93v3ZPd+98z3UvgU+Rv6X/vQ/GX+CwCzAU8DzQQkBkwHPwj7CIMJ0wngCakJLAlpCGUHKwbJBE0DwAEwAKf+KP3B+4D6W/lV+Hr3zfZN9gX2/fVB9s/2pPe6+AP6ePsH/Z3+JQCTAeQCFQQhBQYGwQZbB8sHAwgMCOUHiwcDB1cGkAWzBMkD0wLTAdIAzv/P/uL9A/09/Jr7Dfud+lz6O/ow+kb6ffrV+lT79fuw/IP9aP5P/zYAFgHgAZkCQQPPA0kErwT3BBMF/AStBBoETQNkAmgBcQCY/+X+Uv7b/Xb9Gv3J/IX8R/wg/B78PPyF/AD9l/06/tv+aP/V/ycAYACFAKsA1QD+ACcBSAFZAVEBMAH/AMsAngCCAH4AjgCtANUA9AAFAQcB/QD1APMA/AAcAVEBkAHSARACOwJQAlQCSAI5AjcCOgI/AkoCTAIzAvMBiwH+AFUAnv/j/jb+nP0R/Zj8JPyv+z77zvpl+hX67vn0+Sf6g/oF+6P7Tfz4/KT9U/4E/8L/kQB9AYICiQODBGYFIQamBvAGBQfpBqIGOwa9BSYFcwSoA8YCzAG+AKv/n/6p/dL8KPyr+1j7MPsw+037fPu9+w/8cfzp/Hf9GP7N/pL/UwAEAZYB9wEvAksCRgIsAgoC4wG1AYABSAEDAa0ATQDl/33/IP/d/r7+xf7y/jb/gf/L/wwARABvAJUAugDfAA8BRQF6Aa4B1gHsAfMB4gGyAWsBCwGNAPv/WP+r/vr9Sv2h/Af8ffsP+8f6qfq4+vj6afsJ/Nj80/3y/i0AfAHQAhkETQVjBkwHAwiCCL8IswhVCKQHmQYwBXoDhgFq/zn9CPv9+DX3vPWg9O7znvOs8xf02vT69Xv3VfmE+/f9jAArA7kFCggFCqYL3QyrDR4ONA7tDVENYQwiC5gJwAeoBWwDHgHK/pH8i/q1+BT3r/WG9Jjz5fJy8kzye/IE8+PzD/WE9i74+fnd+9P9zf/FAboDmwVdB/UIRwpGC/ULVgxnDDcMzgsqC1gKXQk9CPsGlQUWBIYC6wBP/739Sfzy+rX5m/ij98v2HPan9W31Z/We9RD2ufaX96H41vk0+6/8Qv7g/3oBBANxBLYFyAarB14I1wgdCTIJDQmuCBgITwdXBjgFAgTAAn4BRAAZ/wL+/PwI/Cj7YvrA+Uf5Afn6+DH5mfkm+s76hPtC/Ab9y/2X/mn/OgAGAcUBaQLkAi0DRgM6AxQD2wKZAlgCFALLAYIBOAHrAKEAYgA1ACgAPQBuALsAGQF2AccBAQIhAisCGgL2AcMBgQEsAb8ANwCR/9D+/v0m/Vn8pvsV+6/6b/pT+lj6dvqv+gj7hPsn/PH85f34/h0ASAFqAnQDXQQjBcYFSQaqBuQG+QbfBokG9gUqBScE9AKhATwA1P5x/Rr82Pq0+bH40fci96/2gfac9gv30ffo+Ez67vvH/c7/6AELBC0GOQgkCvMLnA0BDxMQuRDZEGgQbQ/oDdoLYQmgBqwDngCJ/YH6l/fP9EDy++8S7qXsvetq677rsewx7i7wmPJN9T34U/tx/pcBtASpB2cK0gzODkkQMRGEEUIRdhAxD4INggs7CbkGFgReAZ3+6ftW+fT22/Qf887x9PCL8I/w//DN8fXybfQr9i34bPre/HT/FQK0BDoHkgmyC48NHQ9TEDARsRHKEXsRwhCcDxQOMAz9CY8H7gQrAmD/mvzn+Vf3APXx8jTx1+/q7nfuie4p71Lw9/EQ9Ir2SPk1/Dz/PAIfBcwHLwo4DM4N5A55D4cPCQ8HDooMpQpzCAMGaAOzAOz9F/tG+Ib15PJw8DTuN+yM6jXpOOid52XnnOdZ6KzpoetD7pXxnPVO+oT/KwUvC2YRmRd/HdIiSie2KhMtUy5lLmctaStlKGEkbB97GZUS7wq/AkP60vGu6SfigNvT1TjRx82Ay2LKdsrHy23Od9LT12De9eVA7vH2t/9ECGwQAhjiHvwkLiphLm4xNDOpM7oycTDqLEEoqSJSHGgVHQ6YBgD/hPdR8IzpZuMP3rLZbdZL1FjTkdPi1C3XU9pD3ufiH+jd7f3zUPqvAOcGyQw4Eg8XNhueHjoh+CLNI6sjkCKMIKkd+hmzFfoQ9QvMBqQBmPzC90TzNu+s68TolOYv5Z/k5eT85dPnVepl7eTwvPTS+A39XAGgBbYJfA3VEKUTzxVHFw4YJhiZF3YWwhSHEtYPuwxTCcQFGAJw/vr6vvfJ9DTyCfBJ7v/sKezF69vrY+xO7ZvuMvAH8hH0NvZ1+L/6Af03/1MBUgMkBbsGEQgRCbgJDwoTCtoJegkFCYwIGAihByMHoAYMBlwFpgTtAzoDmQICAngB+AB5APD/XP/C/ib+nP01/fj86vwI/UP9jP3X/Rf+P/5U/mX+df6C/o7+lf6M/mP+Gv6z/TX9svwy/L37WPsF+8P6l/qC+or6uvog+8X7tPzo/U//4ACOAkYE+AWQBwQJSwpZCyYMqwzmDNAMZwyoC44KJwmEB7YFygPPAdb/6v0a/Gf61/iG93f2v/Vv9Yb1Bvbr9h/4kvk0++v8p/5XAPIBZQObBIYFGwZUBiIGkQWhBF8D1wEVADf+SPxS+mf4iva99AXzaPH9783u7u1s7VTtqO1n7pfvMPEi82T1/Pfw+lz+ZwIhB2MMAxLMF2UddiLKJiEqXix3LXwtcyxZKkInICMAHvAX/RBMCSkB1viQ8KfoW+Hc2kXVqtAizcfKm8msyRjL6s0I0m/X69085TPtf/Xn/UEGVg4EFiYdfCPrKD4tVTAWMnEyaTESL4gr6iZvITwbfxRZDfEFf/4g9wzwhemy48re8do22KrWOtbZ1m/Y49ow3jvi8+Y27Nfxvvex/YMDHQlTDhQTVhf6GvAdNCCzIVwiJSIRISgffhw1GWsVThH6DI4IKQTQ/5f7mffl84zwu+2G6/zpLOkX6arpzupx7HXuyfBc8yD2C/kG/Pj+1gF1BMQGqggQCvUKSwshC3oKZAnlBwIGuQMJAfj9k/r+9lzz1u+m7Onpwudi5tjlNeaD573p3ey/8Ej1ePpCAJ0Gbw2QFL8bpSLuKEcuXTIHNUc2CjZjNG4xOi3bJ1khwRkmEb8HwP1380TpiN+k1t3OcciBwx/ARb7+vUS/FsJ9xmzMytNk3PXlK/Cy+iwFUQ/gGKkhgylGMNA19jmePKo9/TyZOoo29zAtKmYi8RkXERUIH/9t9i/uiuaz39vZPdX90TfQ38/p0CnTWdZy2jnfn+SQ6vTwxffN/uYF0gxSEzMZPR5UInEllifAKAEpZij0JroksyHoHYAZoBRoDwYKrgSB/4r6yvVQ8RjtLOmX5Xni7t8T3vrcndz/3Aveq9/G4U3kHuc16oPt4vBA9IP3jvo3/WD/7QDrAWkCjQJ9Ak8CGgLiAasBogECAiwDawXGCEANohJ3GEAesCNlKD4sOS9UMZgyBDN5MsEwqi0EKc4i/xrjEdMHP/2e8mXo0t4L1jHORMdbwZK8Mrl6t7m3BLpevpDEUsw91ffeMOmp8z/+vwgCE8IcyCXDLX80vzlePVU/tj+ZPiA8bzidM7wt4CYZH4YWXA3nA3T6TfHW6E3h8trT1Q7Sic8izt3Ntc6g0IrTXdcg3LHh4Oei7rb1FP2ABNwL/RKyGeQfVyXoKYAtBjBYMX4xhDBwLmIrhyfzItwdYRiTEoMMOQbV/1b55/Kt7M/mguHY3OTYvdVm087R+9D70MfRZdPa1R3ZHN3G4dzmEexF8Rz2bvot/kQByQPKBUEHEgg9CLQHfAbRBCED0QE0AbYBoQP3BpQLQxGNFwMeOiQCKk8v9TPqNyg7bD1ZPqU9+jo6NnAvvyaRHG8RwAXw+VTuEeNM2CzO1sSavLq1jrBfrVeshq3JsAC2xLzmxB/OPtgW44buYvpTBiESVR2lJ7MwTThjPvBC+EWJR6hHQEZeQ+g+6DiBMdsoTR9CFSYLWQEi+LzvOui44TLchNe208fQvs7DzebNI8+K0fLUStlq3hzkW+r/8BL4Zf/UBlEOhRVDHEEiSSdLK0UuPTAxMVQxsjBDL/4s0inCJbUgsxrhE3gMrQS0/Mz0GO3A5d3ehNjd0grOMsp7xwPGxcW0xrjIlMsUzxXTYtfj23TgA+V86cjt2vGh9Q/5H/ze/k8BrgNNBpcJ3Q0YExcZnR8qJmEsKzJiNw48P0DpQ9ZG00iJSbxIHkadQVw7czNBKjIgkxWsCsb/2fQG6l7fC9U9y1TCrrqftH2wSa7yrUOvFbIotmW7wsE0yb3RL9tM5cbvR/qCBD0OUxekHyYn1S2jM3g4MzynPqg/Mj9FPQU6rTWFMMIqpyRPHvIXmRFTCzMFJ/8w+Vnzze2L6Mnjgt/z2yvZLdcm1gXW7dbR2KnbaN/e4/boju5d9Gj6dgBlBh0MexFuFuka6B5IIgglEydSKKQo+idTJrEjFCCiG2gWihAiCk0DSvw89VXuteei4TPcgteu08jQ3s7rzdLNYM6GzyHRCtNA1aXXLdrv3MrfvuK45bfowesM7/byufd0/TQE8As6FLQcCiX3LFg0Hjs6QblGckspT7VRwVIoUrZPbEt5RTM+yDWZLPMizBhCDlUDDvie7FfhgdaIzM7Dfby1tnGyjK/8rb+t2a5UsU21yLqxwcTJpNId3ODlue96+QkDYQx4FSceJSZLLVYzITiYO8A9tT6TPo49uTsxOfM1DjJ8LTIoViLyG0wVeA6lBxIBsPqY9NDuaemB5DLgstwO2nHY0tcl2FjZRNvb3QLhruS/6FHtRfJ098v8CQL8BoYLfQ/HElkVKhc9GHoY+xerFpgU1hF5DrEKogZzAjv+Ifo89pPyL+8h7G3pDOf+5Efj2+Gm4I3fgd6H3ajc39tV2zjbutsr3bPfb+NX6E3uCfVM/OYDvgutE7cb2yPTK3ozfDqHQFxFzEioSv1K4klhR7dDBD9JOYQyqCq+IfAXYg1kAl33sOyv4o/ZctFwyozEwb8avL65qbj8uMy6+710wvPHQ84x1aXceOSZ7OH0T/20BdcNhxWIHLsiAChZLKkvFjKcM0Q0JDQ+M5wxPC8vLIooUiSnH7cajBVZEBwL+AXzABr8fPcd8zfvy+vi6InmuuRy46/ieuLH4qnjJOUs57jpquzk7z3zn/bp+Qj97/+CArYEhAbjB7wIBAnKCBkI8gZvBbADzAHW/9r96vsL+jX4Y/ai9OryKfFq75Xtpuum6ZjnfeVr44vh8t/q3rXeht+H4cHkE+lN7jn0m/pTAVcImA8UF78eZCbKLaw0tTqZPzdDfUVfRuhFQkRzQYU9ijhPMuEqVSLJGHIOvAP8+Jju4uT12+fTycylxn3Bcr2bujG5QLnZutq9BsIsxyPNz9MK2+HiJuvj8+r89gXPDisX2x6yJbIr0jAUNX04DTu6PHQ9JD3JO245NTY0MoctXijWIvocyhZOEIgJgAI8+wP09uw/5hbgpdoW1mnSs88DzlzNxs01z4XRt9Sj2DLdSuK552LtFvPA+Db+WgMQCEcM8A8VE7AVrRcFGaoZnxnqGJ0XuRVQE14Q9Qz/CHsEfv8H+jH0K+4b6BbiTdzr1knSr85xzM7L2cyHz6bTB9lt36nmve6u92oBxQuQFmUh1SuQNRI+O0XMStdOQFEQUn9RXE+6S3BGgj/zNg0tFCJUFmEKkv4k81zoTN4W1c7MgMVbv366HbdNtRS1TLbLuF684sBGxnjMf9NX2+Hj7uxS9rv/9gjJESQa8iEPKYUvPTU2OkY+XkFyQ2REO0T2QsBAtD3ZOVQ1MzCMKjckIR10FToNogTc+yPzreqd4ijbatR9zoHJmsXOwjTBusBTwfHCfMXhyBXN79FU1zPdYOPI6TTwpfYD/TYDPgn8Dk4UHRlhHQkhCyRRJtAnfCg8KAAnwSRjIQodtheEEZQKCgMa++Xy0uo/44rc/9bQ0hfQy863zuXPSNL01ebaJOGi6B7xXvruA3sNqhZfH00nai6sNPE5Mj5ZQTRDhENRQns/LTuUNQQvnie5H4wXEg9zBrD95/Q+7PbjOdxe1YzPy8oKxx7E78GMwCHAu8B6wn7Fu8kDzx/Vydvg4irqmfEt+ekAxgivEIwYLyCCJ0sueTQHOuo+CEN2Rh9J+UrYS4FL60nhRl5CbDwsNcAsZSNmGQYPcQTj+Y/vm+Uz3ILTssvSxAW/VLrUtoa0YrNTs2G0fLaEuXS9KMKex8fNj9Ti27Dj1+sh9G/8lQR+DBQUJBuJIRIniCu5Logw7jDpL6EtJyqDJeMfnhkBE2cMIwZiAEH7ufbX8orv+ewy61Hqd+qi67/tqfA79CD4TPxzAH0EawgXDIUPrBJ5FbIXNxkHGg0aXxkyGKAW1RTaEswQnA5GDLwJ+AYdBDoBZv6j+x75xPZ29AXyau/H7Dfq3+ff5WfkieMz4z/jruNi5E7lkeY56GfqJ+1/8HP01PiX/ZwC2AcrDYYS9hdcHbAiwyd0LHwwqjPNNbg2bzbrNEwyvC5VKj0lmR+PGTATkQzmBTz/pPgr8urr6+U64PbaKNbd0S7OE8uWyLrGhcUWxW3Fn8azyKTLW8/X0/TYrd785LfrwPLG+ZYA7gabDHERXRVrGJ0a8RtcHOMboBrLGK4WhxSIEtQQXw8kDhgNKwx9Cx4LIAuWC30MsQ0OD4EQ4xEUEwUUmhTZFM4UZxSnE3kS1hChDuQL0AhzBfwBkv5G+zT4bvXF8kDwBu4P7HXqSemj6JHo7OiM6S3qwOpP6+rruOzL7Tjv7PDT8rf0ifYn+JP59PpF/Kv9Sf87AXMD7wWTCGQLVQ5kEZUU3hdSG9seZiKbJUYoKyoPK+oqqSmFJ6wkNSFRHQ8ZbRSGD2sKJwXH/3z6WfV08NfrZOcg4wrfOtuz143U4tG9zzrOY81AzdDNBc/g0GDTf9Y82pzen+Mk6fru5vSk+u7/mwSNCLkLOw4XEEERtBFwEYUQSw/iDYwMjwvgCo0KigrKCkMLCwwXDX8OUhByEssUMheHGcUbyB1nH5IgQCF1IQAh2x8MHokbVBiLFD4QjguyBroByvwH+HnzJO8e62fnG+RP4Rzfid2U3E7cf9z43LDdvd4j4PvhVuQX5zXql+0L8XP0yPcD+yn+PwFpBJoHyQr5DRMREhTmFpcZMByqHv8gNiNQJTUnxCjlKXEqSypWKY8nHiUMIo4epxptFgQScQ3RCBwEZP+6+iX2mvEn7cHoaeQr4A7cO9jF1LbRKc8szcvLBsvyyq/LMc13z2LS9NUZ2r3ev+P/6FPugfNf+Lj8fwC5A2UGfAgQCigLqQupC20LMAtDC8oL5wyDDnsQuBIYFZMXHhrQHJkfhSJYJegnGSrGK94sPy3ULK8r3ilDJw4kHSB7G08WkhBeCvwDq/1z94rxB+wB54Tij94o22rYdtZQ1fHUZ9WO1irYM9p13OHegeFO5Fznneoi7sfxXvXq+EX8X/8uAuAEeAcMCrIMZg8cErMUOxezGRgcbR60IP4iQSVSJw0pOCq1Km0qWyl6J+QkwyEnHjUaAharESsNnAjvAy3/ZPqp9Qrxduz052zj+N6i2nzWqtJhz8fM+8oPyvPJqMoizFvOSNHY1OzYat0q4vzmp+sP8Af0hveD+uL8uP4AAMsAFQH+ANEA0gBSAZAChwQPBw0KYg3/EMwUyBgOHZUhMiaoKs0uYTI8NWU3wThTORc5EDg+NqczPzDmK8Am3SA5Gh8Tygs/BND8jvWN7uXnqeHm28XWd9L5znTMusqzyUjJYskDyg/Lncy+zmnRnNRT2IfcI+Eh5mLryPBQ9ur7iQE/BwcN2xKkGDoemCOlKFAtjTFpNeA46ztzPjRACUGzQCY/bzyaOOMzbS5YKMYhyRqFEwsMdwTh/GD1I+4857jgrdoK1d3PUctFx+nDPcFbv2S+R74ov+/AsMNEx57Lp9BC1kfcceKu6L7uc/Sl+Sb+6QHcBPgGUwj6CA4JjQiTB10GSAWxBMsEzgWGB84JkwyrDxcTvha6Gg4fdiPOJ9wrYy89Mlw0tDVANhg2LjV6MwMxsi1+KX0kzR6UGPcRJws3BE79i/bv75npsOM93nDZZ9Uu0snPG84UzZbMocwezRDOds9a0cXTn9b92cbdAeJ95iTr7O+w9HP5MP4BA+oH5QzXEacWQhumH9sj6SfqK9UvqDM3Ny46WDyHPa494zw2O6w4XTVRMXgs+SbcICQaBBOQC/EDMfx99N3sT+X63cnW/M+tyerD677huva3Ora1tWy2Nbj3uqa+GsNSyB7OTNSi2vLg/eaL7Irx3/WX+bL8TP97AVsDBwWABg0I+wluDHAPAhMIF0cbsB8ZJGsonCydMGY01TemOsA8BT5jPuU9iTxhOoE3AjTWLwkrjyV3H/IYFBL7CsoDkfxz9Yzu3OeY4dbbqNYo0n7OucvcycnIYsiPyDXJUcrOy87NRNAw04jWTNpz3uHioeeJ7Jbxu/bg+wIBIgZVC5YQ4hUSG/sfliTOKLQsUDDMMxk3JzrDPHA+GD+6Pmw9TDt+OP402DAGLGomKSBiGSkSpwr8AkP7nvP763DkF90M1nXPWsnxw1m/o7v1uEK3pbYft524FLt3vr/Ctsc/zSXTRdlf31Xl/+ov8NX00/gr/PT+PAEdA7sEEQZjB/IIDgu9DQUR8BRAGdwdlyJXJwUsmTAONTQ5wjxzPylBx0FEQb4/PD3wOec1CTFiKwUlFB6hFvwOTQe7/1D4LPFf6vTjDt672CPUTNBczUbLCsqgydnJu8ouzBHOaNA002/WCtoB3kLiuOZo6ybw4PR/+fL9KgIwBgQKqA0iEWcUexdmGiodxR9yIjYlECj7KuktnzDaMoI0dTW9NUg1IzREMqkvVyw5KFcjyh2YF+YQ5AmWAif7rfMl7KXkTN0z1n/PU8nSwzO/mLsLuae3Xbc+uCS67byZwPLE18kbz6nUJ9qG34/kIuk37a/wvPNX9q/43vrm/Ov+IAHjA3IHtAuxED0WKxxPIoAopi6XNE46qD93RGdIVUsiTctNTk24SxBJZUXHQDA7rTRNLUslthzVE9AKwwHV+AvwgedP35/Xf9AeyqjEM8DSvHm6CrmCuNC41rmduxm+TsEuxbTJ8s6/1AfbwOHL6PzvP/d8/pUFigw2E68Z5B+3JRkrBzCCNI84NjxrP2FC4US8RspH7EcaRz9Fg0LkPoE6UTVKL4woECEBGXwQogeu/sH1+OxV5AjcEdSPzKzFfb8lusq1hrJJsEKvca/HsFSz97aYuxnBRMftzeTUD9ws4wHqcfBA9lf7mf8WA+IFFAjHCQUL3Qt2DC0NTA4CEGgSUxWeGDgc6B+rI2knHSvTLlsyfzUDOLc5gzqFOrg5KjgQNlYz9y/pKxwntSHHG3wV/Q5lCM8BMPun9EDu+ucE4n3cedcM01LPXswXynzIhscvx3zHY8jXyeHLh8610XjVvNl43pbj/eia7kL0+vmY/xYFiQroDyIVLxofH8UjSCisLOIw/TTaOHk8oT8QQqBDRUQFRMlCn0CEPX85ljS8LhQotiCtGCwQVQdH/jT1LuxG46PaYtKPylbD3rxNt8iyba9YrXis46x1rhKxubRKubO+zsR0y3PSitmL4Ennle1g85f4T/2TAXYF+wgoDBEPxRGFFIIX1RppHkAiNyYfKvEtiTHTNMM3Vzp+PAU+xz62PtU9HTyeOXA2pzJcLo0pHyQ6HugXTxGWCsAD//xa9uPvl+mf4/rdwtgl1CvQBM2syjDJc8hnyPPIBsqry8fNd9Cd0znXSNuf30rkK+k27mHzjfit/bECiAcXDHsQvxTmGN8clCAaJG0nnCqgLYAwTDPdNfM3eDk8Oh46TDnHN5U1xjJILwsrGiZ5IDUaZBM/DOYEd/3/9XvuCeez35HYzdGDy/DFNsFUvWa6YLhdt1+3X7haujS95MAxxfbJE89g1MDZEd9I5ELp0+0K8t31ZPmp/MX/ugKgBaAI0wuBD5QTAhiuHH4hSSbdKi4vKDPKNhE60zzcPgxAQ0B/P8U9QTsFOEE0/S8nK8Yl4B+aGQgTZAzPBWT/K/kx83/t/efW4hbe2NlE1lTTEdFrz2bO1s3EzTbOEc9y0EjSodRz167aQd4m4lbmtuou76/zJviL/NMA9gT7CO0M1BCnFHkYQBwDINcjtSeEK0ov8jJENgU5DTtLPKg8KzzcOsA42TUtMqUtQygjIjobwxPvC9kDovtW8wjrxeK92vnSu8s6xYW/3ro2t6e0PLPqsq6ze7U2uMC79L+YxKLJ4s431JPZ2d7649jobe3I8ff1/Pnn/c4BpgW0CTEOIhN9GAEemiMVKV0uWzPzNx882z8EQ2tF2kY/R61GBEV4QiU/KjuDNj0xTCu0JKYdMRadDgwHo/9o+Hbxveoy5AXeRdgP05DO28r8x//FuMQXxBfEwMQExtzHV8pjzQLRJtXR2fbedOQ66iHwGfb/+74BWQfNDAkSEBflG2MglyR1KAIsUi9tMlU18jcpOsE7pzzFPP47bDooOC41jDE8LVko2CLKHEYWZQ9dCC8BDPrb8rXruOTc3U3XN9G3y9jGvMJkv9a8NLt/uru6CbxFvknB9cQcyZfNUdIy1y3cJuHt5XDqju5A8qD1wviw+33+IgGzA2YGbgkFDTkRyxWEGlEf+yNsKKIspDBoNNs35joxPZc++z5jPvs83DotOAg1WzEILQooaCJTHPQVcA/xCJACSPwG9srvsenV41neZtkB1UzRNc61y8jJY8itx6XHV8i1ybTLUc6B0T/Vf9lF3m3j5eiD7h70pfkB/zQEPwkmDvgSohcSHEwgZyRcKCks5y93M8I2pDncO109Cj7XPcw8+TpnOBU1EzFWLOkm1yA6GjIT2gtkBMP8EPVg7arlHd7L1uzPqckhxHi/rLvbuAW3MrZctn63jblcvN+/78NpyDjNNdJB10ncJuHX5Vbqsu788kD3gPuf/7YD3AdDDAcRNRatGzAhnSbWK8MwNzVDOek8EkCiQk9EBEW1RF9DIkEtPpA6aDa8MW0sfSYLIDoZLxIsC1MEqv039+jwtOq15AHfydkz1VLRPM7dyyjK/8hSyDbIwMj7ye7Lgc6n0UrVUdm13W/iiufZ7EvywfcY/SsC5gZjC6gP4BPiF6EbQB+YIrgltSieK28uIDGIM3Q1xzZUNys3YDb1NAozkjB8LbgpVSVHIKYapBRaDvMHaAHD+vzzI+1N5o7fJNlA0/DNTclWxRDCj7/avQC9Ab3nvYq/ysGOxLLHKsveztHS4db12gLf3+Kn5mHqGu7p8dr15/ke/qoCqQckDfYSAhkdHycl7SpgMHE1BzowPsNBj0RcRipH0kZ9RVFDZ0DnPMQ4CzSbLn8o2iHgGskTygz8BWP/9vih8mnsZ+bI4K3bNddq0zvQmc16y7fJdsjNx9THm8gTyi7Myc7p0XTVdtnz3dbiE+h07cvyCPgb/QcC2ga+C7EQlBVpGhkfryMjKIEszjDsNMc4Izy/PnVAMUH/QO4/Cj5VO9g3gzNALjoodyErGogSrAq8Ar/6tfKs6sTiF9vf0z3NW8dUwiK+2bp/uBy3srY5t7C48rrgvV/BSMWCyfbNk9I119DbXODG5ATpNO1Y8Yb1r/na/SEChgZKC2kQ9xWrG10h+CZOLDYxpzW4OUI9TECkQhdEikQCRIVCMEAvPZ05fzXTMI8rryVmH8UYExKJCzkFLv9P+Y/z3O1Z6B3jWN4n2pjWqNMx0S/Pgs00zGfLP8vFy/DMx84c0eXTFdew2sPeK+Pm59vs3fHG9nz7EwCNBAQJeQ3kEVAWlBrDHt4i3ibbKrkuaDK2NXc4gTrLO0g8BTwWO305IzcCNCcweisOJhAglxnHEsILgQQW/ZX1Ae515iXfQNjY0Q7M8MaOwvm+NLxMulG5Rbkeurq7D77uwD/E7MfgyxHQVtSw2P3cN+Fk5Ybpq+3a8R72gfoe/xgElQmFD8IVKxyLIq0ohS7rM9U4Vj1IQYxE7EZKSIlIsEfcRTBD2T/bO043IzJRLOclBx/6F9kQ2wklA7P8aPY98ELqhuQ733faWtbh0v3Pn82qyyLKEMmZyNTIxclpy6fNa9Cf0zfXNtuV31jkWul77qfzsPiM/UcC+AazC2QQCRWRGQUeaSKhJswq5i7ZMpA2xDk9POw9uz6uPuE9XTwkOio3eDP8Lrsp0yNbHXcWWQ/8B3IAzfj+8DDpdeEN2g7TqMz7xgXC6b2tuly49LaDtv62XLh/uky9oMBbxHLIxcxE0djVa9rw3m/j1ucv7KPwJPW8+ZH+qAMHCc0O3hQXG0whWycsLYYyXjezO5U/5UJ6RT9HFEgASPhGEkVpQhk/ODvENrwxIywAJm0fnhi0EcwK+QNF/ab2F/Ct6ZTj6d3V2HDUt9CezRjLEMmHx4vGL8aNxqDHaMnRy8DOFNK+1bnZ/N2G4jfnFez18L71cvoI/6MDUggFDcIRixZKGwYguSRSKd0tTzKINlg6iz3wP39BPkIlQldBwT9bPTw6RDZ5MdsrjyW3HmwX3Q/8B+7/y/eL71fnXd/E15vQHMpUxFq/QrsCuLC1Q7TOsze0c7V5tx66Mb2owGvEbcimzPzQddX32Xze7uJt5wrsyvDJ9TD7DQFQB/kN1RTBG48iIClaLyo1hzphP7BDR0cGSsxLl0xxTGVLiUnyRsBD6z9xO2I2rTB6KuEjCR0gFjQPXwiaAeX6QfS/7XXnheEM3BnXtdLbzorLw8h/xsTEp8Muw2rDYcQHxk7ILcuHzlTSe9bo2o/fWeQ86SfuGfMZ+D79awKdB88MARI1F1UcdSGFJoYrVTDbNOI4PjzsPsZAzkEIQntBN0A6Pok7LTgSNEYv2ynbI1gdaBYyD8UHRgC4+C7xz+mw4t3bbdWAzzHKosXgwf2+9rzGu1O7hrtOvKS9cL+qwUzEM8dSyp7N+NBQ1LDXE9uM3jbiJOZc6gTvJPTJ+f//igZLDRwU2xpZIZMnhi0lM2Y4OD1cQbBEIUedSDtJA0kfSJRGe0TLQWg+WTqcNU4wdSpQJBMeyBeFEUML/wTE/o34YvJe7K/mWuFz3PzX6tNO0CbNc8o0yILGbcUDxVXFXMYOyFPKFc020JXTKdfr2tfe+uJJ587rffA59f/5yP6aA4AIiQ3EEicYmx0WI20oei0kMk829jn8PFg//UDfQfRBNUGjPzI97jnkNRUxlyuGJf8eHBj0EKMJPwLl+qTzkezG5WDfgtk01IzPicsxyITFhMMjwmPBPcGgwYHCwcNcxTnHVsmpyyPOydCR04LWntn63JngiuTa6Jnt3fKa+Mr+UQUHDLkSPxmRH5AlJStaMB81UTnjPLo/v0HqQjlDs0J7QZg/Aj3RORY24DEuLRsowyJLHc4XTRLfDJAHawJt/Zb4+POf75Dr1+dt5Evhet7s26XZrNcD1r7U3dNu03XT4NOp1MXVPtcA2Rbbet0l4BvjTua06TPtvfBO9O/3lvtM/xkD+QbkCtEOqBJtFh0aoB35IBsk+SaBKZkrJy0zLpkuWS5+LQIs4ykvJ+gjFiDqG2QXlhKVDX4IWgM3/iX5O/SK7yTrK+eS427gtN1p257ZXdis15DXBNj52GTaLdxE3p/gMuP25d3o2Ovc7trxwPSD9yf6oPz+/jQBUwNfBUUHGgnhCq0Mcg5BEPURcROdFG8V9RUqFicW7xWbFSAVZRRqEyESixC0DrUMpQqOCHIGTAQyAicAMP5l/MP6a/lh+KP3L/f79gn3P/ej9xz4mfgo+az5KfqZ+vv6QPtq+3v7cPti+037RvtR+2f7kfu9++r7M/yG/Pr8mP1S/jX/JAArATkCQQNOBEwFQQYuBwoIwQhNCasJ0gnTCbYJgAk4CdcIZAjrB2IHzAY0BpsF9gQ/BGgDewJ9AWAAPf8b/gX99Pvo+ur5+PgX+Ev3oPYa9r/1hfVu9Xn1r/UK9pb2Ufcx+D35bfqw+w39gP77/4UBFwOoBCcGkQfdCA8KIAsUDOgMiQ3+DSoODg6tDQoNNAw7CxkKywhlB9gFJQRbAnwAkv6t/Mz68Pgj92v10PNc8hTx+O8D7zjuj+0K7bHsg+x67Jzs4exH7c7tdO5G71XwrfFL8zH1U/el+RL8i/4XAa4DRwbdCFoLrQ29D4ER9RIRFNwUYBWoFaEVVRXAFNkTshJdEd4PPA6FDL0K9gguB3cF4ANlAggBzP+k/oz9dvxf+1H6Qvk/+Eb3YfaJ9cP0FvSK8yPz6PLb8v/yYPP388v0yPX49l344/mL+0b9Gv/1ANQCtASPBlsIDAqbC+4MCg7aDm0Pvw/OD7IPTQ+rDssNtwx9CyIKxwhgBwUGrgRoAzsCHQEiAEj/k/7t/Vj9xPwz/Jb77fpR+rn5J/mQ+AH4fvcN96H2SvYT9vr1+vUO9jP2YPac9tn2Gvd19+L3T/jH+Db5mPn8+WL61vpY+9z7Zfzv/G/97P1l/tj+T//W/2cA+gCNASACrwI4A8YDUQTWBFAFpAXZBeEFwAV/BRIFhgTcAw8DJgIoASEAE/8D/gz9IPxI+4z62/lK+d34kfht+HD4nfjp+GP5CfrN+rz7u/zG/dL+5//xAPcBBwMEBP0E7wXWBq0HgAhVCTQKHQsODAcN7g2/DnQPEhCYEP4QQxFgEUsR9hBiEIcPaQ4XDYwL1AnvB+IFsANfAfv+j/wi+sb3h/Vv84Xxye9N7hHtIux96y/rM+t46wzs3Ozk7RzvgfAI8rXzdvU69wn52Pqq/H7+SAAOAssDdQULB4QI5wkzC2oMhw2FDmIPEBCQEN0Q+BDeEJAQCxBLD1QOHQ28CzYKkgjSBv0EGwMdAQz/6vy++pX4cfZZ9F/ygfC77hjtnutO6ifpNOh15/bmtOa85hDnm+dn6Gvpseo17PHt6e8T8nD0+/as+Wz8Kv/qAZ4EPgfHCS4MaQ5mECESmhPVFMMVcBbqFi0XNhcAF5MW9xUxFUcUThNFEicRAxDQDoYNNAzWCmgJ+weHBhAFkgMPAogAAP+A/Q78qfpW+RX45vbS9dn0/PNC86fyMPLU8ZLxdvF18Z7x7PFi8vryqfN79GT1cfaj9/b4cfoQ/Mr9kv9bASMD7gSvBmQICgqfCw4NUA5kDz0Q2hA5EV0RTREFEX0QtA++DqQNbAwZC8QJeQgtB+oFpgRkAyAC1gCM/zn+2/x0+wj6kfgY95j1IvS98mfxJvAD7w3uP+2c7Cns4uvJ69nrGuyA7Abtt+2B7nLvh/DD8R3zkPQh9r33Y/kH+7P8Yv4QALwBaQMIBZwGIQiECdAK4QvLDJUNKQ6eDvMOHA8SD+IOfg7gDRsNKAwVC+gJoAhKB+oFjwQxA9sBowCA/3T+hf24/Bj8oPtT+y/7Kfs9+2P7kvvO+xT8Y/y//CX9kf3+/WX+z/42/6f/IwClAEAB3wGHAi4D2QOMBDsF8gWfBkwH5QdnCNUIIAlICUkJKAnlCHwI6wcwB1YGXQVRBDoDHgINAQsAGP80/mf9qfwC/HP78fqE+iX6zvmP+WP5RvlC+VL5fvnB+RP6d/rv+nT7C/y0/GH9GP7E/nP/GgCtADcBrwEiAosC5gIuA10DeQN+A2QDNQPqAoUCBgJsAbYA2v/p/uT9y/ye+2f6NPkH+Ob2zfXU9P7zS/PQ8oPyXvJm8pvy6fJM887zYvQH9b/1kfZ492z4aPlj+mn7dfyF/Zf+tP/XAPkBFwMrBDwFRwZNB1UIWglfCl4LVAw+DRAO0Q58DwgQhhDzEDcRYBFlETYR4RBiELYP5A7yDd0MtAt1CigJygdfBugEYwPdAU8Ay/5P/er7nPpp+Vb4XPeA9sf1KvWy9Ff0HPQA9PjzBfQZ9D/0dPTB9CP1ofU/9vv21ffN+Ob5Gvtt/Nf9V//fAG8C+AN1Bd8GLghkCX8KfAtWDBgNtQ0nDnYOnQ6aDnoOOA7PDT8NiAymC5cKYgkICIoG9QQ8A20Bl/+x/cX70Pnl9wP2NvR88tfwXO/57a/shut96pXp2+hK6OXnt+fC5wPofOgi6fjpEutk7OPti+9f8U3zT/Vp95f52Psl/n8A2QI8BZYH2gkMDCAOGRDxEaYTKRVzFocXWxjeGBsZFhnKGD8YeBd5FksV9RN2Et4QLA9mDZYLuAnXB/gFGwQ+AmYAm/7a/Cr7jPkJ+KL2XfU99ErziPLp8YLxP/Ep8UDxefHh8WryIvP58/T0DfZE95X49/lw++z8bP7q/1MBtwIDBDEFUgZWB0UIGAnWCXsKCQuQC/8LYwy0DPIMHg00DTENCQ3DDFgMzAsfC1IKcglyCGUHSQYXBeADlgJKAfv/pf5b/RP8zvqO+VX4Hvfu9cv0sfOk8qrxwvDw70Dvp+4x7trtne2L7Zftx+0S7nzuAu+k72TwOPEn8i3zT/SE9c72L/if+Rz7qvxK/vH/mAFBA+0EkAYpCLMJLguKDMkN6w7fD7UQXxHYESQSSBJCEgkSnhEOEUwQXQ9HDgcNrQs2Cq4IHgeNBfkDbQLwAH//Jv7m/L77u/rf+Rz5gPgD+Jv3UPcj9w33Ffc092j3tvcS+Ir4EPmr+VX6CPvE+4f8UP0c/vH+zP+oAIkBbwJVAzQEDQXTBYcGLAe4BywIggi/CNoI1AixCHkIKQjHB2AH7wZ9BgkGmgUqBbYEQwTOA1ID2AJZAs8BRQG2ACIAiP/v/lL+t/0g/Yn8+/tp++X6avr8+Zz5P/nt+J/4YPgk+O33x/em95z3lveW96b3vPff9wH4J/hR+Hv4pPjU+P34IflM+XT5p/nc+RP6Wfqw+hL7evv6+4P8F/3A/Xj+P/8KAOYAtgGDAkwDAgS3BF4F9gWKBhIHhQfmBzYIdgicCKoIoAiGCFYICwiuBzkHrgYYBnsF0AQrBIwD6gJWAtMBXgH4AKQAYAAqAAIA4//K/7b/pf+X/4T/ev9x/2b/Yv9e/1v/V/9Y/1j/Vf9R/07/Tf9M/1T/Zv+C/6r/1f8LAD8AcQCjAMsA8AAHARYBIAEeARwBFQERARMBFAEkATcBUwF1AZwBxgHwARcCOQJVAl8CaQJrAmgCYQJQAjsCFALiAaYBZgEeAdAAhQA3AOj/jf8q/77+Tv7f/WH94Pxk/OT7Yfvi+mj68/l6+Qn5lfgX+J33J/fG9mf2FfbS9aH1ffVq9XD1gPWo9eH1Ovao9jn35Pef+HP5WfpR+1T8a/2B/qL/0gAEAjkDdQS0BewGEQgsCSsKBwvJC1sMzQwfDUUNQw0bDcoMWwzHCxULWQqLCbcI4AcIBzMGZgWhBN0DLAOAAtYBOQGbAP3/Zf/M/jT+l/0C/Xf88/t6+wb7n/pC+vX5ufmL+Xv5f/ml+ez5UvrZ+nT7J/zf/KP9Z/4i/9r/fwATAZsBEwJ5AtkCLwOAA8oDEQRaBKEE7wRBBZMF5wU9BoYGyAb+Bh4HKwciBwcH0gaMBjEGxAVEBbIEDwRYA5cCvgHXAOf/7v7q/eX85fvh+un5+PgM+DL3Zfan9fj0UvS68zrzzPJt8iXy9vHX8czx2/EA8kDylfL/8onzJPTZ9Jz1dfZq9274jPnA+gf8Zv3L/j8AuwEyA6wEJwabBwYJZQqqC9MM2A2xDl8P4Q82EFcQSBAHEJUP+Q4xDkMNOwwbC/QJygisB54GnQWzBN8DGANfArQBCAFoAMz/KP+D/tL9Ev1E/G37k/q2+eH4F/hd97n2N/bf9af1n/XA9Q72jPY19wL46vjw+QX7LPxT/Xv+pP+/AM4B1gLQA8MEsAWWBn8HXAg0Cf0JrQpBC7sLFAxRDHUMegxpDEMMAAyjCyoLkQreCRkJPwhPB08GQwUlBPECrgFbAO/+ev0D/If6BfmO9zH25vSs84fyc/F28JHvwO4R7n/tFO3F7JDsfOyA7JnsxuwK7WPt1O1k7h3v/e8M8U7yq/Me9bX2avg1+iT8MP5ZAJgC7wRGB6QJAQw/Dm0QeRJWFO8VUBdjGBsZgxmIGTwZphjIF6cWWBXdE0MSlBDQDhENTwuWCesHUQbDBD4DwwFCAMr+Sf2++zb6q/gp96z1RfT78sjxwvDj7y7vre5Y7j3uW+6v7jrv+u/y8BfyaPPc9Gv2DPi/+X37Pv0O/9sAsAKUBG8GSwgjCu4LqQ1HD8wQKxJgE2sUPxXeFUQWbRZeFhUWjRXNFM8TlBIrEYwPvw3IC6gJZAf/BHsC4/87/Yr61fcv9Z3yJPDF7YnreemW5/DlguRW42jituE84fPg3+D54EfhwOFi4i/jKORF5Y7mB+i16ZrrtO0P8J7yaPVf+IX70f41ArgFTQnxDJgQOhS6FwkbGh7OIB8jBiVyJmYn6ifsJ3cnkSY5JX4jZyEGH2wcoxnBFtAT0BDLDcMKtQewBK0BsP7D+974CvZJ853wBe6H6zbpE+cy5ZzjVuJi4cjgieCT4PXgquGz4hDkveW85wrqoex+75ny5fVg+Qb9xQCQBGQILQzfD2ITsBa9GXsc7h4BIboiFiQaJbwl9iXKJTclPCTjIishDx+dHMgZoRYuE3MPdAtAB+gCcv7v+Wn19/Cj7IHok+Tl4ITddNq311XVU9Ou0WvQkM8Sz+/OJc+pz4TQoNH+0rLUytZE2Sncfd8340zntuts8GH1l/r+/5kFXgs2EQcXtRwoIjwn5ysRMLcz1jZYOTY7czzzPLM8xDsfOtk3DTW+MQMu8imWJfQgHRwPF+MRtAx/B18CU/1t+KnzBe+W6lfmWuKo3ljbZdjl1efTWNJJ0bnQoND+0MnRCtPI1PjWn9m23DDgDuRE6MLsdfFi9nn7sgDzBSoLThA5Fd0ZHR73IWklaij5Kg0tty7rL6Iw4zCcMNIviS67LG4qrCd0JMggtBw1GFoTKg61CAcDSP2H98zxQOzc5sLh6Nxg2DvUetA4zWzKI8hXxv3EF8Sdw5HD+cPVxC/GAchMygfNRNAQ1FjYLd2J4mbonu4n9fL74gLmCeoQ6RfAHmclwiulMQQ3wTvCPwFDfUUvRxdIN0iDR/xFsUOiQNo8izjCM4kuCSlPI2QdVhcsEfUKxASy/sT4EfOj7X3opuMe3+jaC9eT047QCs4HzJPKp8lKyXrJLMpvyznNi89z0ufV3NlW3j7jiugq7gf0HPo9AFwGWQwgEpwXtxxyIbwljSnjLLMv9zGyM+E0gjWUNRA1/zNfMikwYi0BKhYmsyHdHKEXExJADEAGJgAB+uXz3+0O6IbiS91r2PDT5s9IzBLJSsb6wynC08D7v6W/37+iwOTBr8MIxv3Inczt0PPVqNvY4X3ofe+u9hP+kgUhDawUGBxKIxoqaTAgNic7cj8GQ9RF3UciSY5JIkndR71F40JeP0s7wTbOMYYs5SYCIeUaphRLDusHpwGG+6H18O996k7lcODt28zXJ9T60F3OUczNytbJbcmUyU3KmstzzeXP4dJb1ljayN6i497oZ+4o9Bn6DAD0BbcLNhFwFlMb1B/rI5onzCp7La4vXzGSMkczdjMfM0AyyTDBLh8s6SgqJfUgVBxOF+oRQAxrBmkAYvpb9HTuxehY4y/eV9ng1L/QBc2zydXGacR8wg7BHcC1v9G/gcDCwZrDCMYhyfPMc9Gx1ozc5+Kw6c7wKvio/0MH4Q5xFtMd5iSXK7cxODcKPCFAgUMhRvlH/kguSX5I70aSRH9Byz2VOeo03S92Krokwh6VGFESCAy6BYz/hfmr8wHukuhp45beMdo21rjSvc9QzWfLFMpWySLJksmbyjnMac4h0WLUHNhN3PXgAuZy6zLxJ/c9/VUDXwk0D8oUGxoTH7Aj3ieTK9IuijGqMzw1Qja2Npo21zVvNG4yvS9iLGso6CPpHoAZxBPBDZEHQAHs+p/0bu526MfibN1m2MTTgs+nyyzIIcWIwl/AwL6evQS9/byFvaS+bcDRwtXFjMn/zTfTJdmr37XmHe659Yf9eQVxDV4VKh2wJNcrbjJmOKQ9EkLERaRIu0r8S11Mz0tcSgxI60QjQb884jejMgwtKCf4IJgaGRSGDQ0HtwCP+qj0++6U6XbkoN8q2yjXodOb0BnOJsy3ys7JacmFySTKTcsDzTfP8dEX1a/Yt9wZ4eDlA+t08CL2+vvhAcIHiA0cE3UYgx08Ip0mjioCLvIwYDM8NYY2RzdpN/c23TUeNLsxrS4AK78m9iG3HBQXGxHcCm0E6P1l9/3wzers5GnfS9qV1T7RXc36yQzHn8SywkDBQ8C/v62/FcABwXjCf8QYx0TKB85w0nPXCt0l45/pZfBw96b+7wU5DWoUdhtJIsgo1C5cNEY5gz0TQe9DE0Z1RwdIwEetRsFEE0K3PsE6VDZyMTUsnya+IKEaYRQYDtgHuQHB+/v1Z/AP6wDmR+H03A7ZpdW+0lXQbM4JzSjMy8v1y6nM6s3Azw7SydT+15jbl9/8477o1u0v8774Yf4GBJsJBg8+FDoZ8R1NIkom2CnqLHgvfTH8MuMzOzT9MyYzrjGEL7UsRylGJcYg1RuDFuYQDgsHBeL+t/iv8tbsOef54Rbdldh31LjQa82VyjjIW8b1xAPEfMNhw7XDgMTIxZLH9snkzF/QY9Tx2BPereOw6QvwpPZl/UAEHQvmEYQY6h79JKcq3y+GNJE4+Tu5PslALULVQrlC6UFaQCE+Tjv0Nyg0+C9zK5UmeCElHKAWDBFxC+gFeQAo+/X14/AE7Fjn7uLT3h/b1df21JDSltAazx/Ons2izTPOUc/30CLTvtXK2EzcLuBx5BnpEO5D86f4H/6TA/gINg5HExsYqBzgIL4kLSgiK6Atny8kMScyqzKqMhwy9zA9L/EsECqnJsAibR6uGZIUHw9kCYADhP2N97TxDeyx5qHh39x82HLUy9CbzeLKqMjkxonFlMQJxO7DQMQSxWbGRMi1yp3NCNEI1ZfZpN4i5AzqRPCz9lD9+QOqCkcRxRcbHiYk3ykgL9kz+jeIO3c+t0BSQi1DS0OhQjZBHD9fPB85YjU5MbYs0SecIikdhRfFEQgMXAavAB77p/VL8CLrOuag4Wvdo9lD1ljT39DezlvNZcz8yyvM9MxHziLQetJK1Y/YVNyK4CzlNOqA7/z0kfo1AMYFQAuXEK8Vgxr+HhIjtCbfKZMsyC6AMLoxczKWMiwyLzGUL2MtnypbJ6AjfR/xGgUW1BBiC8gFEABZ+sv0Xu8a6hrlXODm27jX19Ne0EzNo8pjyITGEcUDxGHDPMOfw5HEG8Y5yPfKU85C0tbWCtzG4fLnhO5Z9Vb8agOJCqARiRg4H5UleyvYMKQ1yjlLPR1AQUKkQztEBET+Qj9B0D7WO1o4bjQXMFgrTCbsIF0brhX4D1AKtAQz/8b5cPRE70vqmeU54Tndndlr1qHTQtFbz+7NDM2zzOzMts0Lz+fQN9MD1kfZ/Nwm4bTlmOrE7yD1ivr6/14FoQq+D6QURBmRHX8hAyUWKLcq5iyrLvwv2jA5MRAxVDAGLyotxyrkJ4IktiB8HNkX2BKFDfMHQwKS/OT2XvEC7Nrm8eFI3fDY8tRc0S/Oe8s4yVjH28W7xBPE8MNTxEHFzsbxyJzL2M6o0hPXE9yZ4ZLn4O1p9Bz74AGpCGcPDBZ3HJgiVyiWLU4yaTbuOdE8Fz+0QJFBtEESQbk/uT0fOwM4fDSGMCUsbCdiIhYdoRccEpcMIAe6AWT8Hvf78QTtUOj04/XfXNwp2VrW6dPo0VvQS8/KztnOb8+I0BjSD9R31lXZptxt4KXkPekV7hTzMfhX/XkClAecDHcRGxZ3GnQeECJKJRooiSqVLDIuVy/zLwAwdy9SLqIsaSqsJ3AkvSChHBkYKxP3DZoIIAOp/Tn45vLD7cXoAeR+307beNf90+TQNs7uywHKa8g1x27GI8Zcxh3HbMg+yqfMn88n00vX/dsz4djm2+wZ84P5CgCfBjINnBPVGcQfUCVfKu4u+jJrNkk5jzsuPRo+TT7NPaQ85TqhOOc1wDIxLz0r7CZPInkdhxiKE40OlQmlBMP/4/oa9njxD+3u6BnlkOFU3mvb09ib1srUaNOH0iXSP9LO0svTN9Ub13fZRdyH3y/jMueA6/7vnfRe+Sb+4QKZBy0MkhC9FJ4YMBxxH10i7iQqJwspiiqVKyIsMCy8K9MqbymRJ0IlgiJKH6EblhcvE4cOrwm7BML/xPrR9fDwNOyp50/jOt9v2/3X6NQc0qTPfs2tyznKNsm1yLDINsk2yrTLwc1Z0JXTa9fO267g9+WK60zxRPdk/ZMDxgnzD/MVpBv5IN0lSSpGLs4x1jRTNzQ5aDrpOsM6/zm1OP822DRBMjovwSvjJ7UjTx/BGicWghHNDBAIQQNv/qf5+/SK8GPsgeje5IXhbd6i2y7ZIdeO1XvU6tPK0xrU0NT11Y/Xotk73EbfvuKR5qTq5e5I88n3Xvz7AJcFFgpnDnoSRxbBGfAc2R9yIr0krSYtKDQpvCnFKU0pXygDJzMl9SI/IBkdihmVFWAR8wxvCOADRv+2+jH2wfFq7TbpN+WC4Qneztrb1yfVstJ20IjO9MzMyyXL+spHyxXMa81Tz9bRAdXJ2CDd+eE058TshPJw+JP+wgTuCgER4BZrHI0hQCZ+KkEugjE7NF022TelOMQ4RzhDN8I14TOZMecu0CtUKI8kiiBoHDcY+xO6D2kLDgelAjL+z/mW9Yzxte0T6qPmYuNe4JzdMdss2ZXXddbC1YHVoNUw1jPXsdiw2iXdE+Bj4wzn8+oR71Tztfco/JgACwVgCYoNgBE1FaQYyhumHi8hbiNVJdAm3yd2KI0oLChVJwcmTCQhIoAfchz6GCAV+BCTDAsIeAPg/k/6zvVf8Q/t4ejj5CThtN2O2rLXHdXC0qXQ1M5izWXM7sv9y5DMns0yz2XRM9SX153bLeAn5XnqDPDP9bn7uwHCB8QNnBMsGWAeICNzJ0krsi6gMf4zxTXcNlE3IzdhNik1hjOAMQ8vNCzzKFQlcCFgHT8ZExXfEKUMUwjyA4j/Jfvj9tPyAu9m6wHoxOS64ezeadxR2qbYe9fE1nfWj9YL1/TXWtlD26XdjODh44HnauuK787zLPir/DIBsQUcClMOVBISFnoZmhxrH+ghDyTPJSgnCihvKFkoxie8Jj0lSiPqICIe7xpgF4ITXg8NC5cGHAKk/TX54/Sj8IrsmOjT5ETh+9392kPYz9Wa06TR88+KzovNC80JzY3Njs4S0B7SvNT418LbEuDW5ATqdO8R9dL6nQByBj8M7xFhF4QcQSGNJWcpvyyjLw4y4zMiNcc1zzVLNUk02zIJMdsuSCxUKQ4meyKvHsIazhbQEs4OvQqcBmYCIv7t+c315PEr7qPqTecm5DHhft4m3C3asti21y7XFtdm1xvYPdnl2g3dsd/O4j3m9Onz7RHyR/ac+gD/ZwO6B+gL7Q+5EzwXehp0HRYgYyJTJN4lBye6J/snyScjJwQmbCRgIucfAx25GSUWPxIVDr8JPAWrABv8nfc/8wvvCesv543jIeDw3A/ae9c21TnTgtEU0O3OKM7CzdXNaM5sz/nQCdOu1eDYnNzS4GzlYuqh7yX1yvqGAFoGJQzLETMXShz2IDclEymBLH4v/THnMzE1zjXTNUg1RjTmMiEx/C5xLHYpEiZiInseeBpuFmISTg4lCuIFggEj/df4sPTG8B3tqulr5lTjbuDM3YPbqtlR2HvXFdcf14jXUdiL2UDbfN0y4GnjA+fg6vnuNvOT9wP8gwAOBYMJ1g3fEZoVBhkUHM8ePCFVIwslWCYzJ5AneyfvJvEllCTOIqQgFh4gG9IXLxRQEEgMGgjhA6b/avs99yXzHe8663rn5+OL4GPdgNrJ10nV+9Lo0BvPms2MzPTL48tOzDrNqc6p0FPTodaM2gTf+ONS6fPuxfS++s4A6gYBDfoSphjzHdYiOicrK6AuoDEYNP81STfsN/s3eDd+Nh01XjM8MbUuxitwKMck2iDKHKQYcRQwENILWgfIAij+lPkg9d/w2+wR6XTlC+Lc3vDbZNlB15zVgNTZ06XT3dOC1JvVOddg2QvcL9+v4oDml+rW7j3zy/dz/CoBywVQCq8OyBKfFjIagx2HID0jmyWVJyopTir0KiQr6CorKvQoSicgJYMidB/9GycYBBSlDw0LXAaZAdv8KviP8x7vzeq05sjiEt+k23bYiNXW0mrQPM5TzMjKocnvyLvIBcnSyTTLQc0C0HXThdcd3DDhp+aC7Jny6vh6/xkGswwaEy0Z0R4AJLwoBy3iMDg0/TYMOVk67DrYOjs6JjmzN+E1pTPrMLwtIioxJhEi2B2aGVEV8xByDMUH+QIm/mH5zPRx8FHsZOih5Ajhod2G2szXi9XP05jS6dGm0dDRctKT00jVjNdc2qvdWuFj5azpLu7g8rH3pvygAYUGOwuzD+sT3Rd/G84e1SF/JMkmqSglKjIrwivoK5MrzCqPKdUnqSULI/4fiBy3GJgUNRCmC/4GRAKT/en4TPTG72LrLOco42Df1tuN2HzVpdIJ0K3NnsvlyZnIy8d2x6PHaMi8ya7LZc7K0dLVdNqY3y/lIuts8fb3rf58BUgM8xJEGSofpiSmKSkuKTKjNYE4sDofPMI8vDwcPPU6ZDluNwc1LDLXLhgrBie4IlMe6xl6Ff0QawyyB90CAP40+ZD0JfD66wvoS+Sv4EjdHdpL1+rUBNOu0drQg9Co0DnRRNLc0wPWv9gL3Mvf8+Nx6CPtB/IT90T8hQHDBuQLvxBTFYMZWx3SIOEjmCbfKMQqMywrLagtpC05LVIs+CoyKfcmSiQ2Ibcd3Bm8FVYRvQwFCDsDZ/6Z+dz0R/Dd667nuOPy33TcJNkJ1jDTmtBMzkXMgsoPyfPHOMfpxh/H9MdpyZLLgc4q0m7WTduw4Irm2ex+82v6fAGSCJIPUxazHJ4iDSj+LGExMzVhOOY6ujy4PfU9ij2EPPw6Czm1Nvsz3DBWLXUpSiXuIHQc7hdoE9oORgqZBdkAEfxL957yEu7J6bPl3eE83tPat9fy1J3SwdB1z7TOh87lzsnPOtEt07bVydhd3Gfg2uSv6cDu+fNR+bX+DARICV4OMBO0F+sbqh8BI+0lZih6KiQsby1TLsAuvS5ILlYt6SsGKrQn7iTAISkeMBrpFV8RngyzB70CxP3b+Aj0Xe/l6qfmsOID37Dbqdjk1WDTHNEQz0HNuMtwynjJ4sityOnIosnjysvMas/C0s/Whtu34F3mZuzB8lr5EgDnBqQNNBRxGjQgdCUlKkku1THENBg3wjjBORM6uDnPOHA3qTV+MwcxQi4uK9QnPCRxIIwckhiCFHAQVAwrCPADsv9t+zP3E/MI7zPrkuc15BvhP96u227ZlNcl1irVpdSd1BTV/9Vo10PZl9th3ozhJ+UW6UvttfFB9uT6iv8pBLUIJA1iEVoV/Bg+HAwfbSFdI9ck4CV6JqkmYyauJZIkFCM2IQofiRzBGbEWXhPaDx8MSwhlBHsAnfzZ+DT1vvGG7ozr6uib5qDk/OKm4Zfg0d8/39veo96N3pDent673uneMN+f3zvgFuFD4sbjr+UM6NjqD+6y8an12/lD/skCUwe9CwQQDxS/FxEb8R1aIEkiuSOyJDklVSX9JEAkLyPKISAgNx4kHPAZpRdFFdkSahD2DZALOAnwBrcEiQJpAFD+Ofwq+hr4CPYA9AbyGvBD7pjsGevW6dboIujJ58TnGujK6NLpNuvv7PPuNfGx81/2LvkZ/BD/BwL0BMYHdArnDBAP6hBgEnATGBRJFA0UYRNREu0QOQ9aDWsLbQl6B5sFygMYAoYAE//A/ZP8jPuh+sH58Pg2+Ib38vZ99in2/vUE9iz2gPb89pL3TvgV+e/5zPqe+1f86/xf/Z79r/2X/Vv9Cf2q/EH85Puc+2v7cfu1+zD84vy1/aD+mP+PAI8BcgIyA8kDLQRZBFIEFwSkAxcDbAKwAegAGQA//2T+lf3J/Bv8ifsO+7H6dvpc+mj6qfoT+6X7avxJ/Ub+V/9vAIkBlwKTA3cEQAXhBWsG4gY7B4cHxgf2Bx4IOghOCGQIdQh/CHgIbwhcCDkICAjLB4wHSAcCB7AGXAb+BYwFEwWHBOkDOANqAoABegBc/yr+8/zH+6j6ofnB+A74k/dR90f3effj93v4Pvkk+hz7Gvwa/RH++v7S/5cARQHbAVQCswIEAz0DZAN+A4sDiAOBA2wDSQMnA/wC0QKlAnUCSAIZAucBtQGBAU0BDwHMAIAAKwDL/1j/3v5N/rD9Av1F/Hb7l/qy+b/4x/fG9sL1w/TL89ny9fEo8Xjw5u987z7vLO9O76fvNPAD8RbyYfPh9Jf2dvhw+oX8pf7FANYC0gSuBmII7QlFC2AMSQ0KDpcO9Q4sDz4PMQ8ID8QOZw70DW4N1gwtDHkLvwoCCkMJhgjPByAHfgbsBW0F9gSEBBwEqAMrA6oCFgJ4AdQAJgB6/9P+Nv6t/UP9/Pzd/Or8I/2C/Qj+r/5n/zkAGAH6Ad4CuwOLBEkF8AV2Bt4GJAdGB0cHIAfPBmAGzQUeBWEElwPPAg4CVwGuAAwAd//y/m/+8P1u/eX8TPyU+8n62/nQ+Kn3aPYZ9b7zXvID8bfvf+5l7WHsguvG6izqsulY6SjpFekj6VLpqOkk6szqrOvD7BLupe+C8ajzAvaJ+D/7Ef7uAMsDmgZDCcYLHA4yEP0RiRPPFM0VjRYSF2YXhxd9Fz4X2xZPFpoVxBTQE74SkRFaEA4PvA1rDB0L4wm5CKMHoga8BeYEFQRHA3IClAGhAJ//k/53/V/8SPs9+kv5ffjg93n3T/do98j3XPgj+Rv6N/tq/Kv98P4zAGsBjgKYA4UEWAUDBo8G9wY3B1gHUQcsB+MGgAYKBoQF+QRxBO4DcgMFA50CPwLsAZoBQAHWAFkAvf/5/gL+4fyT+xb6fPjF9gD1PfN88dDvSO7q7LTrterq6Uzp4uig6IbokOi66ATpaen26aTqdut27KftDu+t8JDyr/T59mv5/vup/lIB+gOSBg0JZwuPDYAPNhGyEvIT+BTKFWgW2hYSFxwX9xadFhEWVRV0FGwTQBLyEJIPHw6mDC4LwQlsCCwHCwYABQ8EMgNbAogBtwDh//r+Ev4l/TT8Tft3+rb5HPmw+Hf4gfjE+Eb5Afrr+v/7M/15/r3//QA6Al0DYwRSBR4GxQZGB6MH3Qf8B/4H7gfGB44HUgcNB8sGjgZWBigG/wXYBbEFfAU7BeEEYgS/A+wC6QGxAEr/rf3r+wz6FfgV9hT0IfJI8I/u/OyX62XqZOmR6OnnaecL587msuaw5s/mDOdw5/znquiL6aXqAeyX7XDvefGt8wj2g/gg+7f9RgDVAk4FpQfdCeYLvg1sD+oQNxJfE1sUJBXDFS0WZhZwFkcW7xVuFcQU+BMOEw0S/hDlD9QOxA26DMQL1QrwCRAJKwhAB0YGNQUPBM8CfwEiAL3+V/39+8D6pfm5+Az4p/eH9673G/jK+Kz5w/oB/FP9uv4pAJkB8wJBBHoFkgaKB1wIAwmECdkJCwoXCv0JzQmECTMJ1wiACCwI4QebB1kHEwfCBmAG3AUyBU4EPAPrAWMApf62/KX6dPg69vbzxPGv78PtBOxx6h7p++cF50Pmn+Uj5b/kd+RK5DDkMORO5JHk9uSN5U7mVeel6DzqHew/7pjwI/Pa9a34ivtn/kIB/gOlBikJfQulDZ0PZxEEE3kUvBXWFsgXgxgLGWYZiRlxGSMZpBjyFxcXFRb3FMwTlRJdESIQ9w7XDb4MqwuZCoEJUwgRB7IFPgSyAhgBd//W/Uv83/qb+Y/4yvdJ9xn3MfeS9zT4B/kN+jX7bPyz/QH/SACEAasCvgOxBIQFMQa4BhcHSwdfB0cHDge7BlkG7wWKBTUF+QTTBMQE0gTmBPwECwUABcYEXQSsA7ICcAHi/xH+Cvzd+ZT3R/UO8/fwEe9t7Qzs8uod6oXpHunl6MXoq+ik6J3okOh+6GnoWehT6GLojejr6IfpZuqX6xTtxu658PDySvXM92f6CP2r/0MC1ARGB58J2AvsDeIPrBFYE9EUHhYzFwwYrBgNGScZ+RiXGPwXMBc+Fi8VEhT0EtoRxxDFD9MO7Q0RDTAMSAtKCjEJ8weUBhkFhAPjATMAj/4C/Zb7W/pf+ab4NfgR+C74jvgn+fH54Prl+wD9JP5K/2kAfQGDAnMDSQQABZIF+gU2BkgGLAbmBX0F9wRhBMADKwOtAkgCCwL0AQgCOQJ/AswCDwM4AzMD+wJ4ArEBoABL/739//sm+kL4afao9BDzr/GF8Jbv3O5T7vDto+1m7SPt2ex97ArsiOv36mTq1ule6QPp0ujj6EHp9un86k7s9u3k7wDyUvTH9kT5yPtJ/r0AFgNbBYEHhAltCzAN1A5YELYR6RLzE8sUbxXfFQ8WFhbmFYsVEBV3FNgTMhOPEvQRZBHlEHEQ/Q+GDwIPZw6jDbAMiQs1CrUIBwdOBX0DrQH2/2L+AP3U++/6VPr/+e/5Hvp8+gb7rftu/D39C/7a/qT/XwAMAaMBJQKPAtgCAQMBA+ICpAI/AsIBNgGfABIAm/9L/yf/Nv+D//3/pQBuAUUCGAPWA2gEvATFBHIEyAPEAnMB3v8U/in8MfpC+Gz2wPRJ8wjy9/Ai8Hzv8+6A7hTupu0q7Zzs/utP65zq6ulJ6cToX+g26Fzo2Oik6cnqOezz7fXvKvKM9AH3gvkL/In+9wBUA5cFvgfKCbULfw0uD7cQFxJIE1gULhXIFTUWYRZfFjAW1RVXFcsUMBSSEwATaRLpEW0R9hB9EPUPVw+SDqENeQweC5MJ2gf9BQsEGAItAF3+vPxa+z/6aPnb+J74pvjn+F/5APrC+pL7afxJ/SD++P7H/4kARAHwAYoCDAN4A74D5APuA9cDnANGA+MCdAIPArkBfQFmAXkBtgEVAowCFQOZAwgEUQRkBDoEvwPzAtcBdwDb/hX9MvtF+WP3n/UD9JjycvGA8L/vLu+67lnuAu6f7THtrOwM7F3rnurd6SPphOgP6Mfnv+cU6M3o4OlQ6yDtOu+V8SL01PaW+VL8A/+XAQYETwZpCEsKAAyMDe4OJRBBETQSBBPCE1UUyRQgFVgVbhVsFVIVIBXhFJIURhT1E6ATRRPpEogSDhJ3EbkQ0Q+tDlINtgvfCd4HuQWBA0ABDf8A/Sn7lPlW+Gn31/aZ9rT2Gveu93f4Y/ld+lv7VfxJ/TP+Cv/O/3sAHQGmARUCcgKwAtkC4ALSAqoCaQIZAscBeQE3ARIBDgE0AXkB3AFZAuYCawPaAyYEQgQiBLQD+QLzAasAKv98/br78/k4+J32LPXt8+jyHvKE8RDxvfCC8Ebw/e+k7zHvo+767Tntc+yq6+rqRurM6ZDpmukB6sTq1+tB7f/u+/Au84r1/Pd0+uL8P/+DAaQDmQVpBwYJhgraCwYNFQ4ED9wPjhA3EcARLRKEEscS+hIWEy8TPRNHE1ATVBNSE1ITQRMaE90SchLWEQIR5w+GDuAM9grXCI0GKwTIAXb/Rf1T+635ZPh/9/v24fYe97L3hPiO+b369fsx/WT+hf+KAHYBPQLoAngD6QNABHsEmwSmBJUEZgQqBNwDfwMcA8ACbAIvAhACDAIxAnUC1AJAA7ADGARXBGsERATVAxcDAwKuABP/Rf1T+1D5Wfdw9bLzMvLt8OnvLe+s7lTuKu4Z7gvu+u3Y7ZrtP+3M7DzsnOv46lbqx+lf6TPpS+nE6ZvqxetQ7TrvbfHe83f2Jvnh+4v+GwGCA7oFtAd1Cf4KUAx1DWwORA8CEKcQNhG7ESwSkBLlEi0TbRObE70T1xPoE+0T6BPaE8wTqxNzEyETqxIHEiURDBCmDv0MGAv6CKoGQQTNAWb/JP0S+1H56/fr9lX2I/ZV9t/2uffL+Af6Vvup/Pn9Lv9IAD4BDwLCAlIDxAMZBFoEfgSNBIkEcARJBA8EzQOEAzkD8QK+ApcCiwKfAskCCQNYA7AD9gMkBDAEBwSlA/wCDgLiAHz/5v0y/HT6vfgY95X1SPQ082Dyw/Fe8SrxGPEZ8RfxEvH18LXwTPC17/fuGO4e7RnsGOsr6mvp8ejS6BHpv+nT6krsIO5G8KvyN/XX93L69vxR/3kBXgMIBW4GnQefCHUJLgraCn4LHAzGDHANIg7bDpMPSxACEbcRZBIOE6wTPxTEFDIVkxXaFfoV6RWmFSAVTBQyE8ARCRAODtgLfAkMB50EPwITACb+ifxB+2D63/m0+d75Sfro+qb7evxH/Q3+uv5M/8P/FABUAHcAhgCVAJcAlwCdAJsAogCqAKwAswCxALcAuQDBANIA7gAaAU8BmAHyAVcCugIcA2oDlQOdA28DBQNbAm8BTADv/mT9wvsT+mr41/Z19Ub0VvOs8kryK/I98nzy2fI985Xzz/Pf873zWvO78unx7PDO75/uge2D7L3rQesg62HrEewx7bHukfC98hr1lfca+ov81f7nAKwCIgRJBRwGnwbpBgQH+QbpBuAG8AYmB40HMwgaCTgKkwshDdYOlxBhEiMUxBU6F2kYURnXGf0ZvBkOGfIXbxaYFG8SChB3DdAKIQiABQcDvQC0/vP8g/tm+qH5MfkF+Rv5a/nk+X36Lvvu+7T8ef01/uf+lP85ANUAbgH9AY4CFgOXAxIEfQTdBCgFXQV0BW0FPQXxBHkE4QM4A24CmwHCAOr/Dv9C/oL9yvwg/Hr75fpT+sL5PPm7+D/40fdx9yj3//b79hn3Wfe39z342Phw+f75c/q8+sX6gvrb+c74Vfdr9R/ze/CE7VjqDefN483gM9443PLaktow2+3cxN+647roiu4U9QH8GgMSCrMQpha5G8MfkyI3JJck2SMeIo0fXBzLGBIVaBH9Df4KiAimBmAFsgSEBMoEbAVDBjYHHwj8CKkJEwo9ChgKrAkDCSkIJwcfBhsFKgRvA/kC0QIEA5wDlwTbBV0HAwmhCicMYg00DoMOKg4hDWAL+Aj4BYQCy/77+kf33/Px8KTuGu1d7GjsOe207rnwI/O39V/46/o0/SL/pQDDAXkCzgLaArsCiAJVAjwCTgKFAvYCjgNDBAsFzwV/BgEHPwcqB8EG/gXcBGYDrgG9/6n9hPti+WH3h/Xg83LyM/Ei8CfvM+4o7efrZ+qF6D/mjuOB4DHdyNl/1pvTgtGG0PzQMNNZ147d7OVI8Ff8sAnWFywm9zOTQEdLhFPCWLlaMFkqVOxLwUBCMxck+BOxAwH0l+UU2fLOecfNwv3A2cEPxT/K+NC92A/he+mg8S758f/PBbMKsg73EaUU8RYOGSEbSx2gHxQinSQRJ0YpBisfLFssgiuEKUwm6SFxHBkWKA/wB80AEPoN9BHvV+sE6SToq+ho6iLtm/Bq9EH4w/uz/s4A6QH6AQYBOf/B/Ov59PY29PrxdfDN7x3wYvFz8yj2RvmA/ID/DQLfA8MEpwSCA2wBjf4a+1z3lPMS8BTtzeph6dnoLek86s3rl+1b78XwjPFw8Uvw+u2J6hfm1+Az24LVTtAvzMXJkMn6y1nRzdlO5anzawTdFjwqnT3wT0ZgrW1Md4x8DX2peHZv6mGfUH08gCa+D135Z+TI0UXCfravrv+qRqslrxq2d7+VyrXWIeNR77n68ATFDQ0V0BoiHzAiLCRLJcAluCU+JWskNCN/ITgfPhx8GNgTYA4YCCEBvPks8tDqDOQ63s7ZDdc51n7Xy9oc4Cvnou8H+dcCkgyeFYEdzSMyKIEqsSrSKB4l9B+sGcsSyQsYBR//Ivpi9vvz4fLn8tnzc/Vf90L50/rW+x38j/sy+hv4fvWY8qnvAO3W6mzp4ehF6ZvqweyH76fy1vXI+CL7kvzh/OX7fPmy9aHwfeqb40zcBNU9zoTIbMRpwuvCPsaSzO7VI+LQ8HYBZROnJW83yUfHVZ1gmGdAamRoE2KAVzpJDjjgJLkQvfze6RrZP8vdwFm6xbcIub+9dsV3zwbbcOcG9CwAVgs9FaUdeSTJKbctbDAbMgIzNzPSMuMxTzALLuwqxCZ4IfUaRBN/CtgAmfYy7BHiytjV0K3KwsZexbHGoMoH0YvZvuP37pH66AVHEB0Z8h9yJHcmCSZSI6ceghhoEecJmQLv+2T2Q/Ks77XuRu8m8f7zcPcU+4b+ZAFzA3YEYAQ7Ax4BPv7p+nn3N/R88YfvkO6t7tjvAfL19Hb4Jvyr/7AC0gTGBVIFXAPO/8P6afQH7QTly9zk1NHNI8hhxBbDmcQYyaTQIds/6Hz3OAiYGckq2TrfSBNUy1uLXw9fZFrAUZdFoDaZJXQTMQHA7+7fctLUx1rAPLxVu2i9GcLsyE/Rudq05NDuvfg0AikLgRM9G2Qi8ijuLkw05jiMPBM/MkCvP1A96ThzMuYpgh+eE6YGO/nv63XfgdSjy2rFNMI1wnLFrcuE1GffruuO+DwF/hAdGxEjcigSK/IqPyhOI54cxhRXDOkDCfws9azvsOtY6YzoIOne6mPtavCS85D2K/k2+6j8dP2y/YL9Bf1w/PH7pvuv+x/89fwc/nv/8wBcAoEDOgRdBMwDbQIxACL9Sfm49JbvC+pM5JveMtlF1CLQHc1/y6HLwc0S0qPYfOF47FP5owfUFjwmGDWeQhFOzVY4XOhdrluRVchLzT46L8wdcQsU+ZPns9cxyoe/GbgMtEezoLW7uiPCVsvQ1QjhkewU+DwDzw2kF6sgyijsL/814Tp9PqpAO0EQQAE9BTgXMVIo8h1AEq8Fw/gV7EPg7NWezdPH78QexWLIkM5M1xPiS+4x+wYIDxSiHjMnSy2xMFkxWC/uKn4kkRy1E3EKYgEL+dnxJuwc6NTlROVE5pbo4evQ7wP0Ifjd+/X+PAGaAgsDmwJsAa3/j/1J+xX5JfeX9Yr0BfQC9HH0NPUi9vz2jPea9/P2bfX38o3vNusd5nngnNr11BDQfMy5ykPLgM6r1NPd3elu+PsIrxqrLPY9iE10WuJjKmnXacxlJV1RUPA/4iwqGNYCH+7k2hjKe7x6smesP6rKq6ewW7hDwrfNHdrs5rLz/v+YC1IWFSDcKJcwRTfTPCZBIUSbRWhFU0M5PwY5uzByJngaIQ3n/mvwW+Jl1TbKfsG4u0i5WLrcvqPGN9EF3kjsK/vVCXEXRyO6LFoz3TY8N5s0SS+7J4YeVxTWCa3/cval7qjouuTq4injP+XZ6I3t3PJW+IT9+wF0BbMHoAg7CKoGIwTtAGL90PmO9t7z+/EG8QHx3fFt83b1p/ep+R/7u/sw+035BvZc8X7rtORj3RHWW8/6yZXGwsX1x3bNY9ab4rDx/wK+FeIoTzv9S95ZB2TSacJquWbpXbtQ5z9YLCgXeAFg7PXYFsh/urSw3qr6qNaqArD4tyTC1c1t2mHnPfSmAFsMOhctISgqIzIOOdo+bkOvRmRIXEhwRnJCUjwbNN8p2R1rEBACZPP/5J/X/8uwwke8JLmBuWa9o8TYznDbtenY+AkIZhYlI5wtOTWnOb46gzg0MzorKSG5FaEJoP1+8tnoNOHw2zXZCdk823jfQeUF7DjzOvqEAKUFQQkqC1gL7QkhB08D6f5b+hj2jfII8Lruue7u7y3yKfVy+Jb7Jf6p/77/KP7D+pv13u7v5mjeA9aQzt3Is8WoxTzJsdDy26fqL/ypDwYkFzigSnZak2YdboBwgW05ZQ1Ys0YgMnsb/QPe7EPXRMS5tCyp96Ejn4GgvKU/rl65aMaj1GLjG/JTAKsN5hnUJGIufzYmPV1CF0ZTSPtI9Uc4RbdAazpgMrUolx1SEVEEEvcZ6vTdRdOTylDE5cCIwFHDIcmp0XvcCemf9nsE4REWHmsoTDBeNV83PjYlMl8raiLaF2MMwgCs9cvrquOz3STaEdlc2r3dx+L46Lnvffa9/PIBzQUSCKcIrwdbBf0B+/2/+bz1TvLJ72TuNO4p7xbxrvOZ9m35svsK/R39rPur+B70Pu5y50DgXtmT05XPCM5zzzHUZtzb5zD2xQa4GA4rrDyBTJBZ9mIEaF1o32OmWixNIzx0KCwTX/0l6I7UfMOttZ6rkqWXo3+l9qqDs5G+f8uh2V7oJvd6Bf8SXh9KKp8zPjsIQfREBEcpR2hF1UF3PG815SwPIzAYkwylAMr0bekR3zLWNM9qyhnIc8iDyx7RDdnt4j/uefr0BgoTCB5WJ4IuGjPdNLMzsy8fKWIgCxbBCkD/PPRZ6iHiC9xh2DXXctjQ2+fgNOco7in1pfslAVEF8gf1CHEIoAbWA3cA8fyp+fn2JvVN9HT0ffUn9yL5BPtl/OX8K/z/+UT2DvGR6jLjgds71CbO+cldyNvJ0M5b10jjLfJgAwIWFCl/Oy9MHVpkZGVqsmsUaLZfBFOiQnUvdxq3BFHvQNtnyZS6Q6+3pxOkP6T1p9WuWLjuwwjREt+B7eD7zAniFtQiby19NtU9ZkMRR75IbEgbRs5BnDuvMzcqeB/QE6EHWftx73Dk09oC01/NM8qtydzLqdDW1wXhweuC96MDdQ9OGpMjxyp2L1sxXjCOLDEmrh2ZE6IIg/358qPpDeKt3MfZZtlg22TfAOWj67LyjPmb/3QEvwdMCSsJeweTBNQAsfyt+C/1mPIn8e/w6/Hs85f2kfla/HL+dP/8/tv8+fhh82nsg+RQ3KrUXc4myrfIlcoO0C7Zr+UV9aMGaxlpLH4+jE6nW/xk9WkuapFlXFwFT0I+9ioaFscACOzC2NnHA7qlr/+oIqbnpgyrKLK3uzPHE9TD4cvvwP0/C+8XiSPYLaQ2zz02Q7xGSkjbR2dF8kCbOoYy6igIHj8S+wWk+cHt2OJf2bzRS8xVyQLJW8s50GDXe+AT65r2bgLqDWcYWCE9KLEsfy6QLfwpFSRIHCQTXgmd/372l+5d6CDk/uHr4anj2eYI66bvK/QZ+An7vPwZ/S78KPpd90H0RvHd7nLtSO2I7jTxHPX1+Uz/mgRWCecM0g6zDk4MmQevAPP3+u1842bZqNAPymXGTcYdyt3RUd376yv96w8nI7w1jEaTVPheFWWDZihjK1sDT2I/IC0vGZ8EfvCy3RTNT7/ZtOqtkKqwqgKuJLSdvOrGjNIC39rruPhEBTARRRxJJhMvhTZ1PMhAYEMhRAZDC0A2O6E0eCzxIl8YGA2EASH2bOvf4eTZ4dMk0NbODNCy05TZY+G26v70p/8ICoATkBu2IZslCyf5JY8iHh0bFhcOvwWs/W/2ifBX7Avqpen66rrtePGv9cr5Tv3O//gAoADO/qb7fPfA8urtiekb5gvkm+Pl5OnnbOwL8kv4m/5fBAEJ9gvkDJUL7wcaAnP6j/Ev6CPfU9eH0XPOr86E0vLZv+R38m0CwBNoJWA2pkVKUolbv2CZYQVeG1ZESiM7fCkzFkACoO4y3MjLFL6Qs3+sCakdqX+s4bLKu7zGNNOs4KPuoPw9ChUX1yI+LQw2Gz1PQo1FxEb5RTRDiT4aOBEwrSY1HP8QbAXr+evu2+Qp3C3VOdCMzUTNYs/O01TaleIn7IX2HAFaC6IUcxxpIjImpCfJJtAjEB/7GBUS9QohBA3+GvmB9VbzfPK68rvzFPVY9hj3//bT9YfzJfDt6z3ngOJJ3hHbStlU2WPbft9/5RbtxfX0/vkHIBC2FiYbDR0nHGEY4RESCaD+XPMs6P7dttUY0MfNHs841Orcyeg391MHLxjFKBQ4NEVbT+lVc1jXVihRt0cNO9cr5BoQCUD3ROba1qXJFr99t/6yl7Eks1+39L2HxrTQDdwu6Lj0RQGHDSwZ5SNzLZk1HzzZQKVDbEQrQ+M/rDqrMxErMyFmFhILpf+Y9GTqceEk2s7UqtHd0G3SN9YA3HjjJeyI9Q7/JghXEB4XGhwfHxogEh9IHBoY9RJfDccHnAJD/v763vjf9+D3lvip+bL6Ufsx+xX62/eC9DvwQ+sB5u7ghdxD2Y3Xpdez2bvdiuPK6gHzm/v4A3cLhRGgFXEXyBafEyoOyAYg/vf0FuxE5EPewNoq2srcqOKT6x33qgR6E5giHTElPtFIalBmVGpUXlBpSOM8XC6VHWYLtfhu5nbVkcZbulSxvau4qTOr76+Pt5/Bnc372i7povfcBWUT2h/oKk403TtwQfxEfEb9RZNDXj+LOUoyzilbIDsWwAs4Afz2X+245FbdhNd+027RbNF904rXWN2Y5Ors1vXf/ocHVg/lFe8aQx7UH8AfMx53G+kX4xO+D8MLIAj4BFMCGwAr/k38Rvri9/H0YPEw7XPoZuNR3pLZkNWq0jXReNGS04bXPN1s5LnspPWb/hQHeg5TFEEY9BlEGUEWNhGJCsECg/qR8p7rSeYW42bieORY6dnwo/opBsESth89LIk33ECVRzRLaUsPSDRBHTc3KiIblgpX+TboA9h9yUe947Oorc+qX6s1rxO2ob9ny93Yfeeu9tgFdhQRIjoujzjFQLFGR0p+S2RKHUfdQec6gTL1KJkexhPVCCP+BvTG6qvi+tvs1qjTQdK70gTVBdl53hTliOxt9GP8DwQQCxQR8hWLGdYb6RzZHNcbGxrZFz8VdxKiD8gM6wn+BuwDlgDl/Mj4NvQ+7/XpiuQz3zra89Wm0pLQ8M/i0GzTiNcJ3ajjEuvX8oX6pwHgB9MMMRDOEaARuA9SDM4HqQJr/Zr4s/Q28oXx1vJA9r37EAPZC5sVvB+WKYAy2zkKP6FBT0HdPVM35S3wIfQTmASS9KDkjNUPyMW8NrTIrrOsA66psmC6xMRk0aff6+6N/ugNZxx+Kbg0tz1FRENIrUmkSFdFEUAeOeAwticHHjIUfwpFAcf4OvHH6onll+H93sPd1d0i35Lh/uQw6fTtD/NE+GD9KQJ3BjAKRg23D4oR2RLBE1YUsBTaFNEUiRTxE+sSUBH+DtMLvwe6As78Ivbs7m/nCeAY2fjSFc7DyjzJncnsyw/Q0dXd3MLkEe1N9QL9tQMOCdAM0w4PD5cNqgqxBiYCkv2C+XL2x/Td9Ov2+frtAIUIZxEOG+kkYi7WNqs9akKjRAVEd0DtOZMwvCTaFoEHUvcG51LX5chmvGSySatlp+amwanWr+K4fsQw0mThg/HtAf8RKSHfLqs6N0RBS6VPW1FzUCBNn0cxQDg3GS07IgMX2gsUAQ33Eu5g5ingk9uz2ITX+9fy2Tbdk+G45lDsDvKn99X8XAEfBQoIKAqMC2IM3AwuDZANIg79DiMQgxH9ElQURxWJFdsU+hK9DxILAAWw/V/1a+xD42/ab9K5y7nGxMMJw5rEXcgSzmPV2d3x5hrwxvh7ANEGdAs7DigPYQ48DDcJ2AWjAiAAzv4R/ygBKQX3ClES2BoFJDktxTUGPWNCTUVeRVhCJTzZMscmWBgoCPL2duWF1O/EbLefrBKlEqHRoFCkXaugtZ/Cw9FX4q3zAQWkFfwkeDKnPT9GHUwuT4xPdE0pSQZDbzvIMnsp7R9xFk4NvwT1/Av2F/Al6zrnUORo4n7heeFO4ujjKObx6B7si+8R8532EfpS/V8ANgPcBVcItgoADTUPSxEvE8cU8BWHFlsWQBUXE80PYgvaBVz/I/hu8JLo8eDv2e/TTM9FzAvLscsmzkrS2Nd43sPlQ+2O9DT70QAlBQIIUwklCaIHJwUwAi7/n/z++qT66vsH//gDnwq5EuUboSVPL1A4B0DZRUlJ7El7R95BHTlzLT8fBw90/T/rMtkkyNa4+KsnotibV5nHmhigD6lKtT/ETtW157D6fA1ZH5AvlD3vSExRiFajWLxXFFQQThpGpzw4MkYnRxycEZcHdv5l9n7v0Olc5RDi3N+n3lre2d4A4Lrh9+Ob5ofpt+wc8KTzR/cC+83+nwJ5Bk4KFQ62EREVBxhzGiUc8By0HEkbkxiRFE4P4Ah8AWX55PBW6CPgsthh0oPNW8oPya/JM8xv0CXW/NyJ5FvsAfQQ+yEB7QU/CQYLQwsZCtsH+ATqASf/H/0//OH8N/9QAxwJXRCzGKghsiosM4Y6MECkQ4pEnUK5Pek1aCuNHskPu/8G72Tejs42wP2zcaoIpAihmqHDpVGt9Lc+xZnUXuXY9lEIERlwKNg110AaSW1OylBIUCxNzEeWQAg4oS7oJFIbRBIOCusCAP1Q+Mz0WPLJ8O/viu9j71PvMO/Y7j/uZe1a7DjrJ+pY6fzoRuli6nDsiO+089j4z/5XBRYMsBLCGNodkSGTI54jjSFaHSMXKQ/EBWf7nPDy5fnbQdNLzGzH2sSsxNrGL8tR0dTYNOHq6WzyLPrAANQFLwnACo8K1Qj8BYAC8f7h+875JvlM+nv9vgLyCc4S6xy5J5My0Ty6RaxMIlGXUr5QcEuuQq42yieKFpYDsO+u22rIt7ZfpxObYJK0jUaNIZEomQKlMrQYxu/Z6O4fBLQY2yvPPPVK4lVDXQNhLGH8XddXNk+nRM44USzQH9cT3QhB/0f3FvGr7OrpqOij6IfpAOuz7Fbur++G8LbwPfAu76Tt1+sH6n7ohOdo52rosupV7kzzdPmJADIIBhCMF0IerSNgJwQpXChSJfEfaRgMD1AEwPj17JvhSdeEzsPHV8NvwRPCGcU7yhPRINnW4aLq+PJi+nYA7wStB7wITQi+BpIETAJlAFz/pf+SAVkF9wpCEvUaoSS9LqQ4r0E7SbVOllF0URFOVkdVPVAwrSD8Du37PujE1FDCqLGQo6iYb5FAjk2PkpTbncmq0Lo/zUrhFfa7CmkeTTCwPw9MDFVqWidcdVqkVSxOokSmOe0tIiLaFp4M2QPS/Kv3YPTT8r/y0POv9fD3Jfrw+/78E/0L/N75n/Z+8s7t5+gs5BLgCN1s24jbjN2E4VPnvu5n99AAcgq8Ewwc0yKWJ/8p1Cn9Jpch7BlYEGYFvPn67c7i09iS0HnKw8aRxdzGb8r2z/bW5t4351Xvt/bu/JwBlgTXBXYF0QNjAar+MfyA+gb6NvtX/n4DmQpoE5QdlijMM48+KEjqTz9VoFe0VkBSM0q1PhUwzR6FC/r2/+F9zVa6Xqlbm/iQuIrqiKyL6pJYnnitor8I1L7p0v9KFT4p2jpsSW5UlFvGXhte4FmPUsBIJj2HMKQjORfrCzgCg/oC9cDxp/B38crzK/cb+xn/pAJDBaQGlAbuBLoBI/1w9/zwPOq04+DdPNk51ibVOtaD2eveO+YU7/v4XwOrDTgXax/IJd4pZitCKnEmJCCxF5ENYAKy9i3rdeAT14TPHsoVx4LGQMgOzJPRWdjg35vnBe+p9TL7Xv8QAmUDmgMKAxgCLQHDAEgBDQNTBjcLpxFwGUciwytWNXA+eUbWTAVRnFIzUZtMzUTcORAs2hvACW32puI2z+i8iKzWnm6U2I1ri0aNaJObnXKrU7yBzybkXvk8Dt8heTNdQvxNA1ZSWvJaIVhLUvlJ1z+dNAMpuR1gE3AKQwMT/u36r/kZ+tD7Zf5hAUcEogYHCCEIwQbSA2X/pvnb8m3r3OOq3FbWXtE5zjvNiM420i/YLuDO6Yz00/8KC4cVrB7wJeEqPC3hLMspLCRkHOASLgju/LrxLufN3QbWNdCDzAPLocsaziTSUdcy3VvjVOm67kbzz/Za+f365ftr/PX84f2F/zMCMAafC4AStRr3I9ot7jeqQXFKrFHOVlxZ8lhFVT5O6UNyNjomzRPW/w/rStZiwjKwgKAAlEaLuIaShtuKapPon8qvXsLY1lTs3wGSFpgpMjq8R85RLVjPWuFZs1XATrBFKjvhL40k0xlDEE0INQIc/vv7pfvJ/AT/2wHMBFQHBQmCCYMI4wWoAfz7GPVl7Vjld91Q1nDQWMxryu/KAs6X04HbYeWz8Oj8SgkhFcEfhSjkLnsyEDOaMD0rRCMeGWUNzQAU9Onn7ty3073MTMh/xkbHacqKzyDWl91c5dnsfvPZ+KD8sf4V/wv+9PtU+bj2tvTi87b0m/fJ/EUE7g1rGTYmrjMWQZVNWViiYMdlOmebZMRdvlLXQ5YxpBzaBSzul9YtwOqrsJpJjUOEAYCpgB2GFJAHnkGv78IY2MLt8wLGFm0oQjfPQtZKSk9QUDlOgEm8Qpk6xTHqKKIgZxmUE2YP7gwODIQM+Q0AECgS7xPfFKIU6RKND4oK+gMb/Efz8ema4MvXE9DwydjFI8T9xHnIg87X1gnhlOzg+DwF+hBpG/EjIyqfLT0uBywjJ/Af6BacDLsB6vbT7ATk7tzx1zLVsdRM1rTZet4a5AjqsO+C9A/4Bfo7+qv4fPUN8d/rjebJ4T/eitwt3aHgF+d88J38EAs8G1Qsaz2cTfJbi2eob61zNnMfbnlkmlYKRYUw9BlRAqTq+9NLv2qtDZ+ylKeOAY2ZjxyWC6DFrJC7pMs43Ins6PvJCb0VcR/MJt0ryi7gL4QvJi4+LDQqZSgfJ5EmyiawJxQpxCpvLKwtIC5tLVAroicxIgwbZxJuCIz9PPLy5jvcm9KMyojE28C5vy7BKcWEy+TT293o6HX08P++ClAUMBwCIoolqyZqJe4hjhypFa8NNQW+/MH0uu3558XjSOGC4FjhkePl5vDqQ+928xn30vlV+2r7/PkY9+zyve3s5+zhQNyJ11XUGNM/1BbYs94M6O3z7wF/EeshcTJDQoRQdlx0Ze9qj2wtas9js1lMTCs8/ymXFtECeO9O3QjNNL85tF+suKctppanmKvAsZ25qMJlzGPWNuCT6TvyBvruAPgGQQzvEDQVSxlUHXIhwiVEKuQuijMAOAY8UD+OQXtC20F8Pz07EzUaLY0jtxjvDKQAYfSp6OzdnNQhzbrHk8S8wybFo8jwzbnUltwf5ebtfPaG/qgFmwsxEFQT/xQ8FTEUChL9DloLaAdnA5z/M/xf+Tj3xPUG9eb0SfUI9vL22feI+NL4jPie9/L1g/Nb8I/sTujZ42TfQtvC1y3V3tMq1E/WadqA4JnoivIL/r4KLBjMJQkzUT8TSsZS/VhuXORcSlrBVIBM4EFjNYAnxRjXCTz7du374BrWGM0WxhnBD77MvBm9ub5lwd/E7MhezRbSAtci3IHhKucw7bTzvfpSAnsKFBPvG9skkC2zNek82kI+R8pJP0qISKdEuT7yNqAtMSMQGLsMrQFX9xfuTuY/4PPbc9mp2GDZXttL3s/hluVU6dTs5u918oT0GfZg93/4i/m7+jH87v37/0wCyQQ8B3QJPwtnDMAMKQyTCgIIjgRaAKb7vvbp8Xztu+nZ5gLlQOSO5MXlqefu6TzsRu7G74HwWPBJ72vt/Opm6CbmueSc5EbmFupC8NH4lwNDEEYe6CxbO71IPVQWXZxiW2QcYtpb0VGDRJY01SImEHT9netv25HNcMJUule1T7Pss8O2VLsNwWbH6M0w1AbaSt8D5FXocuyd8B71MfoPANcGew7gFr4fyiiYMaI5e0CzRehI4El1SKdEmz6fNhEtcSJNFycMgwHS93Dvmehk4+Lf8N1K3bDdzd5f4B3ivOMo5VLmPuca6BfpbOpP7P/ulvIT93D8dALSCDYPMhVPGh8eTiCTINQeIxufFZYOewbL/RL14+y55fff+tvk2azZMdsr3ivit+ZL62DvhvJr9M30qPMn8YXtM+nD5Mzg/90E3VHeNeLm6FjyPf4aDEcb9SpCOkZILlQ/Xeti2GTpYkBdL1Q1SAI6WioLGtAJWvo97NLfZdUMzbHGOMJdv9a9XL25vbi+QsBXwgHFXsiQzL3RBNhx3/vnifHn+8QGzBGiHN4mEDDaN/s9OkKIROREbkNdQO47cjY/MKIp3yIwHL0VmA/CCTcE4/6r+YL0YO9L6lLlkOA43HnYkNWw0w7T19MK1q7Zst7h5Ajs2PP5+wcEqQuREmwY8xwEIIghfyH+HyUdLxlZFN8ODAkoA2/9EPg08/TuYOt+6EfmruSl4yDj/uIp45PjEuST5ALlRuVW5SflwuQ55KrjPuMs47/jReX35x7s9PF/+a8CVw0YGX4l+THePX9IRVGpVzpbu1scWXpTJEt/QBc0iSZtGFoK3PxL8P7kJdu50r7LJMbAwXe+NLzuuqS6ZbtFvVfAtsRuynnRytku42jtK/gFA5YNfxdiIPonGS69MtU1fjf4N2w3GTZENBYyqy8aLV4qXScDJCAgkRtEFh4QHwliAR75nfAl6B7g/9go0/rOoMw3zNTNTNFj1sDc7+OH6yDzZPoEAc8GuAuyD9MSPRUAFzcY+RhQGTkZnxh3F6QVEhO4D5gLzAZ0Abv77PVW8Dnr4+aV42ThWeBp4GLh++Lp5M/mRej36LjocOct5SfivN5n28bYY9fU16TaIuB46IPz6AADEAogGjA4P29M71Y2XtFhomHYXdNWOE23QRo1EihCGzIPLgRh+r3xKOpq4z3dcdfn0ZrMmscXw1u/sLxpu8S76b3pwafH6M5l16zgS+re8/r8UQXADEIT4BjCHSMiPSZIKlQuczKMNmQ6vj0zQHZBLkEYPxA7ETU6Lb0jABlmDXQBqfV16lDgldeW0G3LK8jSxibH98gSzCvQAdVZ2gPg3uXS6+Dx/Pcs/ncEyAr/EP0WhRxYITUl0if9KJ0omiYTIzYeRRimEb0K6QNr/Zr3rPKk7oLrLelv5xPm4+Sf4yDiReAI3nDbk9ie1cnSSdBfzlDNYc3Izq/RP9aS3L/kp+4V+tIGdRSAImYwqT21Sf5TJlzaYe1kVmUsY5Fezlc9TyhF6TnaLUMhbxSOB8z6W+5d4vvWY8y/wkW6J7OerdKp3afWp7SpWq2YsjC52MBFySzSSdto5GDtGfaQ/ssGzw6tFmYe7SU3LSY0izo4QPdElkjzSu9LeEuLSTlGmUHMO+s0IC2bJG8b1RHmB8z9x/MG6sHgNNiY0CjKHcWdwbu/h78GwTPE7sgRz2/WxN6/5w3xTPoXAyoLHRK6F9gbVx5aH/kebR0MGzMYJxUqEnoPLw1RC8kJgQg6B8QF7AN8AWX+mPoq9jzxAOy05pPh6Nzt2MLVndOL0qDS0dMq1rDZTN7644rq6fHh+T8CvgoNE+ca/iEiKA0trzD4MtwzbDPVMTUvvyulJw8jKB4SGewTtw6RCXMEaf+C+rj1NfEM7WTpUuYD5J3iJeK34kjkzeYb6v7tTfLA9iv7Vv8RA1IGBgkuC9cMDA7jDm0PsQ/ED6APOg+TDqgNegwLC1wJawdVBRIDqwAd/m77pfi49b/yxe/t7FHqF+ho5m3lU+Ut5hboA+vj7pPz5PiV/mMECAo+D9AThxdMGhoc9xzuHCAcqhq3GGUWxhPzEPkN3QqeB1QE5ABa/cn5Lfam8j/vGuxJ6efmDeXG4xbjAOOD45LkIeYO6Fjq6uy076DyrvXU+PT7E/8bAhMF4Ad6CtoM9Q7PEFYSjhNyFAkVThU+FecUNBQnE8kRDRDxDXoLowh6BQYCW/6V+sn2HvO978nsZ+q26MfntOd26P7pSew076ryjPat+vL+SAOHB5ALVw+5EqcVFBjyGT8b+hsrHN4bJRsNGqkYDhdBFUkTNhH8Dp4MCAo8Bz4E+wCM/e35NvZ78sruResJ6Djl5uI14S/g6N914M/h9ePR5k/qW+7Q8oH3VPwVAZkFvglZDVYQphI9FCYVbxUpFXcUdBMwEr0QLg+CDaQLkgk7B4sEggEg/mT6avZM8iLuGepX5gfjRuAu3t/cXNyt3M3dvN9q4snlwuk67iHzXvjZ/WYD8QhLDlgT+hcbHKYffSKoJBgmxiazJuYlVCQHIgofWBsJFzYS9wxpB8ABEvyc9orx9OwG6drlg+ML4ojh5eEc4yHlyucC66/uq/LN9vj6DP/rAoMGzwnFDGUPsRGfEzoVhRZuFwcYShg4GNkXKBctFuUUWROCEWUP/wxFCj0H6wNZAI38qfjF9AHxg+1k6s/n2+WW5AvkReRB5fXmSukw7InvNPMN9+76wP5iArgFtghKC2ANBQ89EAkRaBFgEfEQKxASD54N5QvRCX8HAAU/AlP/Tvw/+S/2NPNh8MntfOuI6fHnzuYX5sLl0+VA5g/nLuip6YHrtO1M8Dvzi/Yv+iP+VAKoBg8LYw+DE08XpBpbHVkfkiDrIGEgBx/cHPgZdxZ3EiMOlAn1BHIAMfxR+PP0LfIO8J/u3e3B7TPuI++B8CzyFvQt9lX4h/q6/OH+9wD8AukEuwZ2CBUKmQv9DDQONA8CEJwQ8BAHEdkQZBCsD6UOVA22C9cJvAdkBeQCSACf/f/6cfgG9tXz6vFY8DTvgu5Q7qLufO/m8NPyOPUG+Cb7cf7KAQ4FDAiwCtMMYA5RD5YPPw9eDv8MSwtgCUkHHgXrArcAhv5X/Cr68/e/9YjzTfEZ7+vs2urx6Dvn0+W85AXkvePi43vkiOUH5/foYetQ7sDxpfXr+YL+QgMKCLAMDxEGFYAYYhuRHRwf+x8mIK0fnh7zHMAaFxj9FJAR4w0JCiAGTAKS/hP76PcQ9anyvPA/7zXuo+167bLtTe4573Dw8vGk84H1gPeM+ab7vf3O/9ABsgNxBQAHXgiSCY4KZwseDLMMNg2dDe4NIA4pDv8Nmg3sDPILrAolCWgHfAV/A34BjP+6/Rf8t/ql+e74m/iy+C75FfpS+9b8kv5sAEsCFATBBT0HgQiWCXwKLwu+CygMbAyGDGoMDwxyC4IKMwmPB4UFHwNyAH/9Yfoz9wT09PAf7pPrWul25/PlyOTs41zjDuMB4y7jleMw5ALlC+Y554zoB+qi61ftLO8m8U/zsvVP+Cv7TP69AXQFZAl/DawR0RXMGXsdxSCRI8UlUScuKFcoxieEJpokCSLcHiMb5hY/EkUNDQi+Anz9XfiL8yHvM+va5xbl6OJO4T7gq9+Q3+nfreDd4Xrjg+X659zqHu6v8Xv1cflv/VoBIQWnCOkL3A59EdwT9xXUF3wZ5xoPHOwcZx1sHfkc/xtyGmIY4hX4EsMPaQwECbQFlgK1/yL96PoF+Xn3Q/Zd9cn0ivSj9Bv18/Ul9674jfq0/Bb/qgFdBBcHyQlbDK8OoxAmEh0TbxMWEwMSNxC/DasKFgciA/b+svp49mfym+4r6yfokeVe44Dh6t+A3ind1ttu2urYT9eh1fPTW9IC0R/Q6M9/0CbSLdWs2dHfsOf48FT7YQaXEWQcQSbELrM1+zqpPuhAAkJFQt9B4kBcPys9EzrlNW4wnimEIT8YKQ6tA0f5fu+65l3fpdmb1THTMtJg0nTTKdVR18XZiNym3yzjPefU6+bwaPYw/P8BnwfaDHoRZhWcGBYb5RwiHtIeAx+9HvUdjxyCGsYXSRQZEEgL8AVIAIf64PSV79vq2+a444vhZuBO4EvhYeOL5sPqA/An9gj9ewQ/DAkUixt0InooXi3zMCEz4jNVM58x7S6HK6QnbiMQH54aFhZ0EaMMiwciAmn8avY98AnqAeRW3jrZ19RI0afO+8w6zFXMLs2yzsnQQ9P71d7YxNuF3gHhGOOw5LvlLuYJ5mnlieSs4zTjmeM/5Xjoie2F9DL9HAe1EVIcQybnLsk1vDrHPSM/MD9KPrc8tzpbOHM1wzELLQIngh+ZFowMwAHB9j3sy+Lt2gbVNNFvz4jPIdHd02TXatvC317kS+mX7lX0lPpHAT4IMw/XFcIbqCBQJIkmWCfVJiclmCJSH4QbWBfQEvwN4Ah5A9j9E/he8uvsAejo49Lg8t5k3iffLOFI5FnoKe2B8kH4Qf5rBLkKFxF0F7cdwCNXKTUuIjLYNBg2vjXDMz0wYiuCJf4eOhiMEUILhwViAMv7nPel88Xv5Ovv5/njK+C63N/Zzdew1p/WjtdP2avbYd4o4b/j7uWX563oN+lN6f/oZeiP54LmNeWX46LhUt/E3C7a29c81tTVHteb2ojgyugb8wf/wQtxGFkkyC5dN/U9kkJ6Rf1GaUf7RrVFckP9Pw87WTS8K10hgRWtCI372+5f46nZJ9IfzYjKO8rjyyPPrtMl2VPfI+Z47U/1mf0vBuMOXxdBHy0mwSurL8Ex+jFnMD4twyhAI/gcIhbmDlwHoP/I9/DvUOgr4cnagNWd0VjP084h0BzTmNdd3QfkT+v98sv6kAI2CqsR6BjaH28mhiz1MYA25jnxO3M8VzucOFM0ty4JKKIg3xgOEYIJdQIN/Gr2lfGN7UPqm+eM5QDk5+I64uLh1eEW4priXONY5IHl0OY56K7pI+uG7Mft0O6G79vvu+8c7/3tT+wd6nrncuQW4Yjd+tmb1qDTVNEE0BjQ+NHn1RbcgOTZ7rX6egdgFKQgpSvlNCM8SEFnRMZFsEVaRO9Bdz7dOQ009CyDJMYaABCXBAP50e2d4/LaQtTRz73NAc500M3UtNrO4cTpSfIk+yYEHg3fFTse6yWmLCYyIjZZOKU4ADd0My4udieWH94WoQ0jBKb6ZfGb6HjgNdkJ0yHOt8r1yOfIlsoCzgbTctkP4Y7ppvIS/HwFpA5TF1oflSbdLBcyNjYqOds6NDsmOrU35zPOLowoXiGKGVUREwkYAaj58vIa7UPocuSl4dDf0t6S3v3e9d9k4SvjMOVh56npBext7tHwKvNp9Yn3ePkb+2j8QP2I/TL9MfyA+hX49/RD8Q3tcuia47He59ly1XrRMs7hy8LKGstEzX7R29dI4JTqV/bqAqcP3xvoJlgw2zdQPdlAnELiQu5B1T+zPJM4XTP9LHMlzBw2E/8Ij/5m9Ajr6uJ/3BvY6dXx1RTYGdyn4Vno0O+m943/QgeJDjQVIBsrIDUkHyfNKCkpOCj0JWkiyB01GOURFAv0A8381fVC71TpN+Qa4CXdbtsE2+XbAt5D4YTll+pO8Hj22/xQA6wJrg82FSgaVh6qIRckmCUzJvIl3iQHI4EgVh2SGUwVkxB9CzIG1wCc+7L2TvKg7tbrDupV6anp7+oB7b7v6PI59nj5cPzu/soA+QF2AkICdAEqAID+jfxy+jj44fVy8+fwOu5v63voZuVF4iPfEdwl2WzW7NOt0bXPCc6/zPvL4Mu7zO3OxtKL2FrgHeqH9RoCPg82HEIoyjJmO9FB+UUNSFxIOUf6ROBBFD6nOZE0ty4BKF8g0RdxDoQEa/qV8Ijnwd+22b/VANR+1A7XWtv24GTnNe4P9Zj7nwEOB9YL/Q92E0IWZhjGGVUaDRrgGNkWChSKEH4MFQh9A+H+ffqB9hLzYPBx7kbt8exe7Wru9u/w8Tj0u/Z9+Wr8hv/kAm4GIQruDbURXxXCGLgbIB7aH9UgACFcIPIeyBz6GZ8W2hLWDqoKegZrApn+GfsA+G31c/Me8nHxY/Hp8ejyOvTC9VD3qfin+Sj6DvpQ+fL3AfaR88nw1O3b6g3ojeVu48fhm+Dc33ffUt9J3z/fI9/i3mjeu93b3M/bs9qf2bjYMdhH2EHZa9sb34nkxOu49B3/hgpvFjYiRS0JNxE/JEUgSQBL9UpJST9GIUIvPZY3hTEIKx0k1hwvFTEN9wSk/HL0peyS5ZXf9tr718/Wate52YbddeIs6FDufPRh+sj/fwRwCJ4LBg66D9sQeBGcEV8R0RDyD8EOQw1+C3kJOgfUBGkCEwDr/f37XPob+Tf4rPd09333y/di+D35XPrI+4D9f/+4AR0EnQYeCYULuw2kDzYRYhITE00TFxN3En0ROxDPDk0NxAtOCugIkQdRBh0F7wPCAo0BSwAF/7X9Vvzw+n357/dH9nT0cPI18MHtIOtb6Irlz+JJ4B7ecNxp2x/bltvd3OfeluHS5HDoROwg8NXzN/cb+nH8H/4T/1z/+v4F/qz8EPtd+cn3gPas9Yn1L/aX98X5m/zV/04DygYJCuIMOg8LEVMSIROYE9kTBRQ+FIoU7xRwFQYWmBYNF1EXSRfpFiEW8hRnE30RTw/7DJwKXwhgBrYEfwPEAn8CowIbA8EDXATGBNkEbARwA+MB1/9s/cv6G/iN9UzzbPEE8CHvue7G7j7vF/BB8ajyRPQF9t33zPm9+639mP9zAUYDBwW0BlMI5Ql1CwUNkw4dEJwRCRNaFGwVJxZ2Fj0WaBX9E/gRYw9jDAsJgAXsAWj+FfsG+EH13/Lj8FbvP+6Y7WftsO1q7o/vD/He8uD0/PYk+TP7Ef2u/vX/1wBRAWkBIgGFAKT/mf56/VH8MPsn+jP5X/ih9+z2OfZz9Y30ePMd8nzwkO5c7PDpY+fk5JPikeAU3zfeGt7l3qDgPOOm5rvqSO8n9DL5K/7zAn0HuAugDzcThBadGYwcUR/sIVokhyZZKLkpfCqJKs4pLiiqJVEiPh6TGX8URg8nClYFCQFt/ZX6kfhh9/H2I/fX9+T4Hfpe+4j8h/1X/vT+ZP+6/wMATgCeAPcAXQHIASsCewKvAsACqAJcAt0BKwFEAD//GP7O/Hz7Mvr8+Ov3DPdn9gH21/Xs9Tv2uPZe9yj4GPkn+k37kvz1/WX/1wBIAqoD+gQtBkEHOwgXCdwJkAorC68LEgxHDE0MGgysCwULKwoxCSUIHwcpBksFlgQJBJQDMgPXAmACwAHhAK7/If45/Pf5b/fC9ADyTO/D7HnqeejO5oLljOTi43rjReM540bja+Op4/njYuTt5KPlkubB5zrpA+sb7YHvLPIR9R/4Qftd/lMBDwSCBqYIfgoMDFoNdA51D3IQdBGLEr0TChVhFrgX9Rj4GbIaERsCG4Aakhk8GI0WohSYEoYQjQ7NDFULMwp1CRoJFwlbCcUJOwqlCuIK2gp9CsMJsQhQB7IF7gMVAj4Aff7W/Fj7AfrJ+Lf3v/bd9Qr1R/SQ89nyLvKO8ffwcPD/77Lvk++x7yPw7vAW8pzzfPWr9xj6sfxP/9oBTASTBpsIXgroCz8NYg5iD0wQGBHTEXIS5RIuEzQT7xJeEngRQxDHDhENNAtCCUUHRgVTA2UBef+X/br73vkA+C/2bvS+8izxv+957mXtf+zJ6zzrz+qF6lDqJeoF6uzp3OnR6cvpy+nQ6djp4eng6d3p2unY6eXpB+pP6srqiOuS7Ontju+I8crzP/bk+Kn7df5CAQ4EyQZ7CSQMvg5MEccTKBZYGFEaCBxmHVge2x7mHnYemx1aHMMa7hj6Fv0UGRNsEQIQ8A47Dt8N2Q0XDncO3g40D1sPOw+/DtQNdgypCncI7wUnAzUANf1B+m73zPRp8lTwj+4c7f3rMOu16ovqp+oP67rroezH7Srvx/Ce8rT0/PZy+RP80v6kAXoEPwfmCWAMlQ52EPkRFhPGExAU5RNGE04S/RBWD28NYgs2CQIH1AS7AskADP+N/VP8Z/vL+n/6efq0+ir7z/uT/Gv9U/41//3/lwD+ACYBAAGFALH/j/4j/YD7tfnS9+r1AvQn8lvwou747GTr5ul16Bzn4OXO5OTjLuPE4qri6eKL45Lk+eW959zpPezV7pjxcfRS9yz67PyA/+oBIAQiBvAHjwkDC1kMkQ2xDswP1xDfEeISyhOSFDcVrhXxFf4V1RWEFRMVlBQUFJ4TPBPtErESiRJpEkQSChKxETERgxCgD4QOOA2vC/MJFggaBg0E6wHE/6H9i/uO+aX35vVf9BbzGvJz8STxM/Gd8VjyXfOi9BP2pfdN+fz6p/xD/sb/HQFPAk8DDwSWBN8E9ATQBIQEFQSTAxADjwIlAtYBsQG/AfoBYgL7Ar0DngSRBYcGdAdICPoIewnPCfEJ2wmTCSAJhQjFB+0G+QXwBNUDqAJrAR8Awf5O/c77PPqZ+PD2SPWl8w7ykPAy7/7t/ewy7KLrUetD63fr6uuM7FbtPu4y7yLw/vDI8W3y7/JN84jznvOV83jzQvMH88/ymvJ48m7yevKf8uXyR/PG82/0PfU+9oL3AvnJ+t/8Mf+7AYgEggeRCrANyxDDE40WFxlKGx0dkR6fH0ogmyCXIEsguR/nHtgdkRwNG1EZahdWFSET1xB9DiAM0gmVB3IFbgOJAbz/Ef6E/Af7oflL+AX31/XM9OTzJPOT8jvyHfI78pHyGfPc88n03fUW93H43/lZ+9b8Sv6n/98A9QHgApoDIwSLBNkEGQVTBZMF5AVFBrsGPgfIB1AIywgvCXoJnAmSCV8JAwmJCOoHMAdhBn8FhgR3A1oCMAH8/77+jP1s/Gb7iPrY+Vb5CPnn+Ob4Cfk9+XL5pvnO+eX53/nC+Yn5MPnD+Dr4mPfh9hH2KvUu9CPzCfLh8K7vgu5a7TjsJush6jLpVuiY5/HmauYL5tnl6+VB5urm7+df6T7ri+1O8HzzA/fT+sP+uAKsBnwKDA5TEUcU2RYNGeUaZByRHXIeCx9gH3cfRx/dHi8eOR0LHKgaExlSF4AVnBO0Ed4PHQ59DAALpQlxCFcHWAZxBZ4E2wMjA3YCwwEPAVUAnP/e/hn+WP2Y/Ob7NvuP+vr5bPnm+Gz4//ed90z3Effr9t/28vYg92/32fdh+AP5vfmL+mz7XfxN/UL+N/8mAAoB4gGvAnEDIwTJBGIF7AVuBuMGVQe6BxcIbAi6CPoIIQk0CSwJCAm2CEAIpgfcBu4F4wS6A4YCVgEuACj/Tf6h/Sz95/zH/Lj8rfyK/Db8qfvQ+qX5Kvhv9nn0ZfJJ8DvuXey/6mfpZujJ533nf+e/5zLow+hj6Qjqoeoo65Hr7Os87ILszOwi7YrtFu7R7sXv9PBf8gf05vX39yz6dvzC/v8AJgMvBRMH0Qh3CgwMnA0hD6gQMxLKE28VCBeRGPoZNxsuHNscQx1cHTQd0xxLHKobBhtrGt4ZbxkcGdUYkxhEGMkXExcNFq8U6BK1ECAONwsWCNUEiwFY/mH7uvhp9oH0A/Ps8SPxovBY8DXwMPA08ErwYfB78JvwxvAE8U3xtPEv8r3yW/MF9MP0i/VU9i33EvgG+Q/6Qfui/Cb+1/+kAZADkQWTB3cJLAuoDNYNqA4VDykP5A5SDnkNaAw+C/sJpghTB/4FrQReAwoCugBo/xX+w/x++0v6Kfky+Fz3rvYq9tD1mPV09WH1VPVG9TD1DPXW9If0I/Sz8zTzp/IP8nTx3PBE8LTvMu/F7mnuKO4F7gDuGO5M7qHuDe+L7x/ww/B68UjyLvMz9FX1lPb59335Hvvg/L7+pQCdApkEhwZgCCAKwAsrDW4Okg+REG8RRBIVE9cTmhRXFRIW0xaYF1EY9Bh7Gd8ZJho9GiIa2BlhGcMYABgjFzAWLRUaFP4S3BGpEGEP+g16DNsKFgk0BzAFGgP4ANv+y/zY+hj5ivc09hr1PvSh8zrzCfMK8y3zevPs83j0GvXF9X/2RPcF+MP4evkm+sL6SfvG+yf8dPys/Nf87/zo/Nn8sPx1/DD83vuE+yb7yPps+hj6yvmM+Vr5Pfkz+T75XfmR+dr5OPqd+gn7f/vy+2b80fws/Xv9vP3o/QX+FP4X/gP+4v29/Y/9WP0S/cX8cPwT/LD7S/vj+oL6NPrz+cL5q/mr+cP57vko+m76tfr/+kj7jfvN+wv8RPx3/Kn81fwJ/UH9ef2y/en9H/5I/nT+lv6r/sL+0/7s/hL/Rv+Q//L/cQALAcUBlgKHA5EErgXPBu8HEwkoCjALIgz2DLINVA7XDjkPgg+rD7EPlA9WD/8OiQ7uDUkNmAzdCyYLdArOCTYJuAhQCP8HvgeKB2gHUQc9BzEHLAcpByoHMQc9B0MHTwdNBzgHEAfLBmgG3gUyBVsEYwNLAhoB2v+R/kX9/PvB+pT5ePhv93v2lfXE9Ar0Y/PJ8kTy2fGB8T/xFfEG8RLxM/Fq8bzxG/KG8vzydvPu82D0yfQr9YL1zfUS9lr2nvbn9jf3h/fm90/4vfgw+ab5HPqQ+v36ZvvQ+zT8k/z0/Fn9uf0g/ob+7P5U/7D/DABfAKoA6QAcAUUBZAF0AXYBbwFXAToBEwHoALcAhwBaADYAFwD+/wIADwAzAHAAwwA1Ab0BUwL/ArsDfwRLBRUG3AaVB0kI6wh1CewJSQqNCrMKuQqmCnoKMQrYCWwJ9Qh4CPEHbQftBncGCgaoBV0FJwX/BPMEAwUnBWMFswUSBnUG5AZaB8QHIwhyCKwIxgjFCKUIYgj/B3kH1wYbBksFaARzA24CYwFbAFb/VP5e/XX8mPvQ+h76fPns+HX4EfjB94f3XPdI90j3Wfd896z38fc/+Jr4APlq+df5Rvqs+gX7U/uO+7r7zfvZ+9L7uvuX+2/7Svsb+/L6zfqu+pT6e/ps+lz6T/pE+jn6N/o0+jv6Q/pO+mv6ivq2+un6IPtg+6H75Psj/F38kfy+/On8Df0p/T/9Vf1u/Yf9rP3g/Rb+Vf6n/gL/av/b/1cA0wBPAcwBQAKyAhUDbgPAAwQEPARqBJAEqwS8BMcExQS/BLkEpASOBHEETAQkBP4D2QOzA5IDdwNtA2QDbQOHA6wD5gMjBHQEyAQoBZAF+AVhBr4GFgdhB54HzwfuB/cH7AfNB54HVwf/BpkGIAaiBSMFnwQTBJEDFAOWAiECtAFRAfMAoABaABUA3P+u/4b/af9O/zX/Iv8N//H+0P6u/oD+Sf4I/r79av0S/bj8WPz5+5T7L/vP+nP6GvrJ+YH5QPkL+ef4x/i0+Lr40fjy+CT5Zvmy+Q76bvra+kb7q/sR/G38vfz+/DH9Wv15/Yz9lf2Y/Zj9lP2d/ab9tv3T/fL9KP5o/q/+AP9Y/7j/HAB9AN0AMwF9AcUBAAIvAlICZQJyAnUCawJbAkUCIwL7AcsBkAFLAf8AsgBiABAAxv97/zn//P7J/qn+lf6P/pH+ov6+/uf+E/8//3f/r//s/ygAbACzAP4ATwGcAe0BQwKWAucCMgN6A7kD7AMXBDkEUgRYBFcEUARBBCwEFAQBBO0D2gPNA8MDuwO3A7cDtgOxA64DpgOcA48DewNhA0UDIgP8AtICnAJiAiMC3gGOAToB3wB7ABcAq/8+/9X+bf4L/rD9Uv38/LD8bfw0/AP84fvF+6/7qfur+7L7wPvS++f7+fsL/Bv8Jvwu/Db8QvxH/En8T/xb/GX8dPyK/KH8vfzf/Az9Of1u/an96P0u/nL+vv4O/2D/s/8IAF4AswAMAV8BtQENAl4CrAL5AjoDcwOoA9AD6wPwA+8D2wO1A4QDPgPsAo8CKgK8AUsB2ABnAPn/l/88/+v+qv5w/kL+I/4S/gn+DP4T/iT+O/5P/mn+g/6a/rH+xf7X/uH+5/7r/ur+7v7r/un+5/7o/uv+6/7v/vb+//4N/yL/Nf9R/3L/lv/A/+v/GQBPAIkAxgAEAUABfgG6AfYBLQJfAoYCqALNAuwCAgMUAyEDLAM2AzYDNgMxAygDFwMAA+QCwwKbAmwCNwL+AcYBhwFIAQkBygCNAFEAGADc/6X/cP8+/wf/1P6q/nr+UP4m/gL+3v25/Z39fP1j/Uz9Nv0r/SL9IP0j/S79QP1a/Xn9o/3U/Qr+R/6D/sH+Bf9M/4v/zP8HADwAbgCZALwA3ADzAAQBFAEbAR4BHgEiASABHAEZARcBEQEFAQEB+wD1AO8A6ADkAOEA2ADWANAAyQDFAMIAugCvAKkAngCRAIIAdwBoAFkASQA0ABwAAwDn/8P/p/9//1b/Lf8D/9r+tv6S/mz+T/40/iL+GP4S/hL+H/42/lX+fP6n/tj+Ef9H/4D/uf/w/yUAXACQALkA5QAJASYBQwFWAWQBcAFxAXEBagFgAVIBPgEuARYB/ADiAMcArwCTAHgAYwBRADwALQAgABgAEAAGAAAAAAD9//j/+P/1//H/7f/n/+H/4P/g/93/3P/e/93/2f/X/9T/zf/H/8P/t/+q/6D/mP+P/4r/jf+L/5D/nP+p/7n/zf/i//f/CgAhADgATQBjAHcAkQClALgAyQDYAOcA8wD/AAUBCgELAQQBAAH7AOkA2gDIAKsAlAB2AF4AQwAoABMAAQD1/+7/7f/x/wAADgAjAD0AVQBuAIIAlQCjALIAugC5ALMApgCWAH4AYgA+ABYA7v/D/5T/Y/8z/wT/2f61/pj+ev5i/lL+TP5O/lD+Vf5f/m/+gv6c/rX+z/7p/gP/Jf9E/2P/hP+m/8j/6f8HACQAQgBZAGcAcgB4AHoAcwBpAF0ASwA5ACMADgD5/+z/4//Z/9n/2v/g/+v/+f8JABkAKQA4AEYAUQBaAGAAXwBdAFYATgBKAEEANgApAB0AGQATABIACgAAAPf/7P/g/8z/uf+m/5L/f/9u/2P/Xv9f/2f/dP+J/6T/x//t/xAAMgBWAHAAgwCVAJ8AogCfAJkAjgCAAHQAYABQAEIALgAgABEABgD5/+r/2v/K/73/rv+l/5z/nP+j/6r/uP/N/+v/DQA1AGEAkAC7AOYADwEyAU4BYwFvAW8BaAFWAToBGwH2AMoAngBxAEcAGgDr/8L/lv9y/0z/Jf8F/+P+xP6u/p3+kP6K/ob+jP6c/rL+zf7s/hL/P/9q/5v/zv/6/yEARgBqAIUAnQCxALwAwQDHAMEAsACgAIoAbwBTADcAFQD4/9j/u/+i/5D/hP96/3n/ff+J/53/tP/U//T/FQA3AFgAdgCLAJ8ArwC2ALcAsgCoAJkAggBwAFsAQQArABQABAD1/+f/1f/J/8L/uP+v/6j/o/+d/5n/mP+e/6f/sP/A/9L/4f/t//X/+v/6//v/9v/t/+T/2f/O/8H/tv+n/5n/iP98/2b/Tv8//yr/Hv8a/xr/JP84/1X/e/+r/+P/JABmAKkA6AAmAV8BiwG2AdQB7AH6AQACAALxAdoBugGTAVsBHAHXAIQALwDY/3v/JP/S/oT+Rf4V/vf96v3z/Qj+K/5a/pb+1f4Y/1r/lf/N//7/IgA2AEUASwBNAEkAQgA5ADYAMgArACgAHQAUABEACwACAPr/8f/p/+j/6v/v//n/CQAiADgAUABlAHUAhQCSAJkAmgCTAIgAdgBcAEEAIwABAOP/xf+q/5P/gv96/3X/eP98/4T/lf+n/7v/zv/c/+X/6//q/+b/3//P/7z/pv+P/3v/Z/9V/0P/O/87/zz/TP9k/4n/sf/h/xYAUACRAMwACAE9AWYBewGIAYUBeAFfATYBCAHUAKEAcQBKACsAEQAAAPj/8//1//v/AAADAAkADgASABkAGgAYABgAFQAVABgAGwAeACQALQAwADkAQgBKAE8AUABMAD0AKwAUAPj/0f+t/4b/af9W/0T/Qf9B/0n/W/9y/5D/tf/b//r/FAAuAEAATABRAEkAPwAwAB0ACAD0/+b/2v/S/8r/yP/M/8z/1P/f/+X/7P/u/+v/4v/Y/8z/u/+u/5//k/+N/4r/iv+R/5j/nv+q/7f/x//S/+D/8v8AABQAKgA9AE8AYgB2AIYAmQCpALQAwgDMANMA1ADQAMMArgCNAGMAMgD4/73/f/9G/xj/8v7b/sz+zf7b/vT+GP9H/3j/rP/a////JQA8AEoASgBFADkAJwAUAAAA8//n/+T/7P/4/wsAKgBHAGcAiQCrANMA7AD/ABIBGQEbARQBBAHyANsAvgClAIwAbgBVADoAIwAMAPP/4P/Q/8f/w//E/8n/1f/k//X/BwAZACUAJgAiABUA///d/7H/gv9Q/xv/8f7R/rP+o/6g/qj+vv7X/v3+Kf9X/47/v//v/xgAQABkAH4AlQChAKYApwCiAJMAfwBoAEwAMQAWAPr/3P++/6r/m/+R/5H/lv+l/7X/zv/s/wUAIgA7AFIAZQBvAHIAcQBlAFQARAAuABUA///r/9T/xP+8/7f/tf+y/7b/vf/J/9X/4//y/wAADAAZACgAMAA3ADcANgAvACUAFwAHAPv/6v/Z/87/xv+//8D/xP/L/9f/5//1/wUAGQAtAD8ATwBfAGkAbwBvAGcAWgBFAC4AFAD2/9j/wf+s/5v/lf+R/5f/pv+1/9T/9P8UADcAWQB3AI0AoQCtALIArgCkAJUAgABnAE0ANAAYAAUA9f/k/9f/x/+7/6//pP+b/5P/jf+J/4L/fv+B/4L/gv+G/4r/kf+c/6v/u//P/+b//v8SACkAQQBPAF4AagBxAG8AbABmAFgASQA3ACUAEQD//+v/2//Q/8b/v/+5/7j/uf+//8j/z//V/9v/4P/k/+f/5f/d/9b/zP/B/7X/rv+p/6b/qf+w/73/z//l/wAAGwA0AE0AXwBvAHcAdQByAGcAVgBCACwAGgAJAPf/7v/o/+f/8P/7/w0AIwA1AEQAUwBdAGIAYwBbAEgAMwAgAAMA7f/U/77/sf+q/6n/rP+8/8//6f8DABwAOQBKAFcAXQBaAFcARAAwAB0ABgD1/+X/3f/f/+3/AQAbADwAZQCGAKUAugDGAMIAswCXAG0APQADAMj/jP9b/y7/Ef8A//7+EP8t/1j/jf/E//n/LgBbAIIAmQCjAKMAlQB5AFwAOAAPAOr/xf+l/4j/ef9w/3H/ev+H/5n/s//K/9//9/8LABcAJQAxADMANwA6ADoANgA0AC4AKAAcABEABQD4/+3/4P/W/8v/xf/H/8n/0P/c/+X/9/8JABkAKQA2AEEASQBKAEUAPQAwACEADwD//+3/3v/Q/8r/yP/K/9T/4v/z/wEAFQAmADMAPAA9ADoAMQAkAA4A+f/d/8H/rP+Z/43/h/+J/5b/qf/D/93/+P8UADEASQBdAG0AdAB2AGwAYwBRAEEAKQANAPv/6//c/9D/0f/S/9z/5f/y/wkAHQAsAD0ASwBPAE8ARwBCADEAHQAJAPn/6//b/9X/1v/a/+H/6f/y//r/AAALAAUAAwD///D/4P/P/7z/p/+U/4b/eP9r/2r/av9x/3v/if+b/7L/yP/Z/+r/9f8AAAQACQAJAAkABAD9//7//P///wQADAAZACgANQA+AE0AWQBlAHMAeAB8AH0AfgB+AHkAcQBlAFcARgA0AB8ACADz/9j/wv+w/5//lv+P/4v/jv+V/6D/sP/A/9D/3f/s//r/AgAHAAsAEAAOAA0AEAAPAA4AFgAaAB0AJQAqAC4AMwAyAC0AJQAdABMABgD4/+b/2//O/8r/yP/L/9T/2v/m//D//f8LABcAHgAhACQAJAAcABEABAD2/+j/2//O/8b/xf/M/9b/5//8/xIAMABKAGAAcgB+AIQAfwB0AGIASAAsAA0A8f/T/7n/p/+a/5f/mP+g/63/vv/R/+X/+f8FAA4AFgAXABIACQD8/+z/2v/K/73/rP+j/5//mv+Z/5//qv+0/8b/1//u/wIAFgArAD0AUABbAGYAbwBzAHUAdwBxAGwAagBfAFgAUgBKAEEAOAAxACkAHwAUAAoAAAD2/+z/5v/e/9j/1//U/9r/3P/j/+7/9f/8/wEACgAMAAsACgAJAAUAAAD6//b/8v/v/+3/7P/t/+z/7//u/+//7v/s/+f/3//X/87/xP+2/6v/pf+h/5//o/+s/7n/y//k/wAAGgAxAEkAXQBpAGsAZwBcAEgALAAMAO3/zv+5/6n/n/+e/6b/uv/V//j/GQA8AF4AdwCJAJUAlgCPAH8AZwBFACUAAwDd/8P/rf+b/5f/lv+d/6r/vP/M/9v/6//z//f/8v/p/9//zP+6/6r/nv+W/5T/l/+k/7X/yv/o/wEAIwBDAF0AdACDAIwAkwCRAIkAfwBwAF0ASwA2ACUAFwAIAAAA+P/u/+b/5f/n/+j/5//m/+P/2//X/9D/zf/M/8n/yf/Q/93/6//3/wkAGgApADwATABYAFwAXwBcAFYATQBBAC8AHwAQAP//9P/n/9v/1P/N/8j/xv/E/8n/0v/Z/+P/6//3/wUADAAUABwAHAAZABYADwAFAPz/8f/h/9b/xv+9/7b/rf+t/63/s/+1/7//x//R/93/5P/v//f/BAALABUAIgAuADwATQBZAGgAeACBAJEAlgCbAJsAlgCLAH4AawBPADEAEgDy/8z/rf+O/3L/Xf9M/0P/P/9C/0//X/9z/43/qP/G/+D/+/8TACgAPABNAFsAaAB0AIEAjQCXAKAApgCpAKoAqQCkAJkAigB6AGcAUAA4AB0AAgDp/8v/sP+Y/4T/df9p/2T/Yv9m/27/ef+H/5b/p/+7/87/4P/2/wUAFAAlAC8ANgA+AEEARABHAEgASABKAEcAQQA7ADEAIQARAP3/3v+8/5T/Z/81/wH/0P6m/ob+bf5f/mP+ef6e/tj+JP9+/+P/UQDGAEQBwAEqAo4C5wIqA1EDXQM+A/4CogIwArABJwGpAD4A7f+6/7X/4v82ALAAWgEHAsMCfQMbBJoE2ATWBH8E3APdApMBAwA3/kf8Ovoy+Dz2dvT28svxBPGx8Nbwc/GI8gv08fUm+JL6Jf3H/1gCygQMBwEJpwruC88MTQ1rDTINpwzgC+UKxQmSCFcHGAbuBN0D3ALyASEBZwC//yD/iP70/Vr9wPwe/H372vo9+q35MfnO+Iv4bfh2+Kz4Dfma+Uz6KPsb/CH9MP5C/04AQwEoAu8CkwMWBHEEqwTJBMgEsgSIBFYEFATNA4cDPwP8ArMCaQIcAswBcAENAZ8AKwCu/yn/qv4p/rn9Vf0G/dP8tfy6/Nz8Ff1p/cz9Ov6v/h7/hf/i/ykAWgB1AH4AdwBdADoAFgD8/+T/4//z/xkAWgCnAAoBcgHfAUMCnALYAvwC+QLJAngC+wFaAZkAwP/W/uz9Bf0u/HH72Ppi+hr6+fkL+kf6qPol+7z7avwX/cn9c/4U/5//IACMAOUAOgF+AcUBDgJTAqIC9wJSA7oDHgSABN4EKAViBYYFiAVzBUMF/gSsBFYECgTIA5wDlAOtA+YDRAS/BE0F1gVSBrUG6QbaBoMG4gXnBKEDEwJUAHT+lPzS+jv59/cT95/2o/Yf9wP4Pvm/+lz88/1c/2oA/wD2ADcAvP54/Hn5z/WZ8fvsJ+hZ473eo9pN1wjVG9Sm1OPW2dqb4AXo5/AU+yYGxBF7Hd8objPMPIpESkrrTStPAk6CStJELD3hM14pAx5CEo4GQ/u+8Dvn9d7812nSNc47y2jJlMimyG7J2srPzFrPb9IU1l/aY9815d/raPPP+wAFyg7/GE0jai3yNo8/0EZtTBdQmVHkUNpNoEhiQWk4Cy6pIq4WmQq7/oXzP+kd4FzY/9ENzYHJPMcZxvzFq8YhyCTKrMydz+7SoNZ+2pDetuLY5trqnO7n8ZD0cfZs93X3hvav9D7yW+9s7OXpJuiw59roBuxP8df4hgISDhIb+ygvN+5ElFFiXL1kLWpdbCRriWbBXjdUUkesOOwouhi0CGX5S+ux3uDT78rtw8u+Y7uOuTC5GLoQvAy/2MJzx8PMsdI+2Ufgt+d973f3bf82B6oOrRUAHIkhMCbfKZEsNi7mLp0uZy1VK2koriQqIOIa3hQxDu0GK/8b9+7u8uZZ33jYptIjzj/LFsrNymbN39Hx113f2efw8ET6ZgMADLcTXBq7H8gjjSYlKLwogiiuJ2om4yQzI2Mhbh9UHecaBhiXFIQQwQtTBloA+/l58xvtNOcV4vbdBdtZ2c7YStmJ2lfcMd6X3z/g098s3kDbU9es0tzNi8lcxgXFL8ZRyq/RXdwo6oP6yAwgIHYz20VJVuxjD25EdFN2WHScbqxlSVolTR0/4zAZIzYWjAo0ACb3Oe8X6HXhCduR1PLNLsdowOu5F7RPrw+sv6qpqwWv7rQ8vbTH9NNa4W3vf/0NC4YXeiK9KxEzczgKPAE+lj76PXU8XTqmN2w0sTBsLIon6SF7Gy0UHAxeAxr6n/BB52LeYtanz4vKT8cjxiDHPcpMzw7WKN4158PwXfqNA/sLYBOHGVQeuyHTI70kpiTBI0cicCBmHkEcExrwF88VoRNYEdgOEQz1CH8FrQGX/VH5+PS/8MXsRelg5jXk0+I04lDi9eL840TlcOYr5zvnYuZd5DDh99zI1/7R+8tNxojBPr76vDm+Y8KVydfTBOG38FgCQBWpKLU7lU2AXcxq/3S4e9x+bn6jetpzdGr5XuRRwUMCNQ0mIBeDCF36wezb37bTbcgivgC1Na33pm+i2J9anweh7aQCqzGzPb3cyMHVfOO+8QUA+Q01G1onSzKaOzZD/UjYTMROvU7RTBtJsEO6PHg0FCvXIAgW9Qrh/x716ep44QjZvNGry/HGnsOuwSfB+sEvxMPHo8zF0hHabuKz66P1AwB/CrYUUB7rJjIu2zOoN3s5WDlMN5EzeS5VKIkhbBphE7kMswZ6ARP9gfms9nD0nPIQ8aPvOu667C7rmekT6MXm0OVA5RTlReW25Vzm9OZN5xbnFeYX5B7hRt2s2L7T+c7vyiLIQMefyKvMkdMd3R/pJveLBpMWjia5NYFDXU/zWBlgyGQgZ1RnoWVmYtxdJFhiUZFJsECrNmor6B43EXgCAPMf42rTb8TLtiWr7qGYm1CYLpgGm4egXqj/sdu8j8iR1JrgcOzq9/0CrA0OGA0ivCvwNHo9EkVkSxJQwFIoUxFRZUwyRa07LDAyI0sVAAfy+Knrhd/k1PrL3cSKv/O79rl3uVW6h7z9v77E28pX0jHbX+W+8Pj80AnNFnkjTi/AOVhCqUh1TJNNDkwYSPRBDjrkMPsmwhyvEiUJXACI+KPxvOu25nDi2d7N20LZM9ex1dDUq9Rh1RPXwNlq3QLiXedA7Wnzc/n+/rsDTQdmCcsJbQhPBZcAi/qQ8xjsnuSu3czXZtPU0EnQ79G21X/bD+MX7D/2KgGLDPcXMSP0LRA4TkGUSaxQbla1Wjxd7l2QXAJZNlMoS/lA0jT2JtcX6gey98fntNjxyv2+JbWarXyou6VNpfimgqqrrya2xb1axsfP6Nmu5Anw1/v+By4UPiDFK1o2pz8sR6dMxE9gUG1OAUpYQ8I6pjCCJbwZyA0FArj2Lexz4r/ZHNKKyybGCcJRvya+vb45wbLFL8yn1PDeuOqM9+YEMhLZHjkq3DNQO1tA4kL6QuNA3zxaN7UwYimrIecZPBLJCqgDyPwq9szvv+kU5OveaNrB1ijUv9Km0vLTk9Z32l3f+OQL6zbxIfeD/A8BkATjBvAHtwdABpEDvf/z+mL1Se/q6J/iv9yw17fTJ9FL0DnREtTI2EzfVuex8Az7BwZhEbwc1ydqMj08D0W9TCJT+VcwW6JcDlxhWYRUd01fRFY5piy8HvgP3ADe8W7jCtb9yY+/7rY2sGSriaiSp3aoO6vUrz22a75HyJzTPeDM7eX7GgrsF90kfDBgOjlC5kdHS15MUktPSI9DPz2xNR8ttyO4GVEPuAQd+rvvveVr3OfTgsxkxsvB6r7bvcK+nMGBxjjNt9W239jq1PYzA3wPRBsRJnYvGzfBPE5ArUEFQXQ+SDq/NDUu4yYGH9YWcg4QBsH9sPUB7uTmiuAg287WytMX0rPRitJ51FrX89oO343jSOgb7Qny8vbX+5UAGAUnCYIM6Q4VENIP7g1RCgQFUv6Q9kvu/+VG3p/XfdIbz6TNIs5u0HbU8dms4HPoLvGz+vgE2w8qG7YmMjJEPYRHilDiVzZdN2C3YJhe7VnXUpVJej7XMQMkXRVDBh/3RugY2vPMKsEftw2vNqnIpeSkfqaJqtCwD7n5wjbObdow50D0QAHsDQIaRSV5L2A42T+bRX9JYUsnS9BIb0QhPhM2pywtIvQWZAvU/3r0qemL30vWHc4jx4jBcb0du7e6X7wywCjGL84M2Grj2e/Y/N8JWxbdIfUrYTTyOo0/P0IXQ0xC6T8dPP82pTBHKfIg1xcgDh4EJvpz8GznZN+S2CDTJs+gzHzLpsvuzEHPc9J41kPbrOCr5iXt9PPt+sQBMAjyDbQSKRYZGFIYyhaiE+4OCQlXAiD70/O+7DnmbeCF263X5dRC09jSuNMB1uPZaN+U5lTvePnBBM0QFx0mKY00zT6JR35OfVNzVmNXWlZyU7dOP0geQHc2YisKH8gR3APE9ePnv9rPznTEB7zAtbux9K9asLKy4LaTvKPD5ssj1Trf+ukv9Z0A+QvvFiAhKirFMag3pzurPcw9HTzWODU0ei7qJ7sgGxk5ETIJEgEH+STxnOmc4mLcFtf30jnQ484bz9TQA9SX2HHeU+UQ7XL1Kf4FB6oP1xc0H3QlbCroLdEvETDTLiUsPihbI7UdmBciEZ0KMATz/QP4ffJ17fHoE+X54aTfNd623RXeU99X4QzkWecg60DvkvP590/8agAnBF8H2wl3CwcMcQupCaoGjgKK/eD31fG469flc+DI2/bXH9VX07DSP9MN1STYjtxY4nHp2PFV+6QFgRCYG6MmLTH4OsVDXEuDURJW61jqWf1YAFbuUM9Jt0DYNWQpyRt0Dcr+UvB14qTVLcpHwCi447GBrSSrxapdrACwoLUVvUPGAdHm3I/pjPZTA3MPjhpIJHQsCDP7N2g7dD0yPrQ9GzxsOYw1iDBpKi0jCxsiEsoIR//19SPtCeX03fbXO9PJz67N6cx5zW/P09Ka17Hd6uQW7eH16f7LByIQnxf7HSYjByesKS4rmCsRK6gpZCdbJIog+hu9FvQQxApZBP791fce8gPtpugN5TriJOC83gPe69193rrfsOFE5G/nJOso71DzXvcZ+z3+lgD2AVACoQH3/3/9efof96bzN/D07AjqeOdF5YHjSOKn4a3hhOJM5DDnUOuv8Dn32/5eB40QMRr2I5AttzYrP6NG0UyDUX9UjFWUVHNRIEzDRIM7kjBXJD4XrQkW/OTuceIW1wbNXMQ+vcW377OpsRuxK7LWtBa51r4Hxn/OC9hk4kztcfiPA1AOfhjcITsqjjGnN2w81z/fQXdCp0FhP6Y7mjZQMOMokSCLFxQOWwSV+vrwxOcs317Xq9A8y1LHKsXjxJnGMcqAzzrWD96V5l3vE/hgABQIEA9SFdkaqB/QIzQnzimfK4AsZCw1K/ooyCWmIb8cKhcgEbUKEwRu/dX2dvB36gXlUuCH3MfZJNiq10bY3tlF3ErfwOJo5h7que0e8Sb0rvak+Pn5o/qa+vH5q/ja9qX0LvKe7y/tEetu6XboTOgF6bPqb+068QH2uPtCAnsJSBF3GcYhAyrzMUE5vT8nRUJJ4kvgTBdMiklCRUI/xTfsLvIkGBqsDvUCSPfr6yfhONdJzqTGXMCPu1q4w7bOtne4qbtcwGjGms3A1ZveBei+8Yf7MAWMDnEXvR9AJ90tbjPVN+86sDwHPe87djmoNa4wlCqOI84bfRPOCvwBP/nH8NHopuGB24zWCtMd0cnQA9Kw1JDYaN3o4r7ot+6W9Dv6k/+YBEgJpA2hETMVTxjRGrIc7B1rHj0ech0hHFkaLRiqFbYSUQ97CzcHjAKz/cr4CPS57wbsLOkx5xDmsOXk5Yjmaudi6E/pL+r86p7rGexU7Ers6esh6wHqk+j15kzlwON34pDhLOF14WXiEeRw5nLpMe2x8eT2z/xxA7EKfxK5GjcjzCs6NEA8mkMGSj5P/1IaVXJV8VOQUGFLjEQ+PK4yGyjGHOsQ0QS7+NvsbuG31uzMP8ThvP22ubIjsD+vGrCsstO2cbxhw2nLY9Qa3kvoxvJO/awHtBEtG9kjhysVMl03QTu5PdA+hD7WPOQ5xjWeMIcqpCMeHCQU5AuCAz37U/P1617lyN9P2xHYMtaj1VHWLNjv2mTeYeKq5hzrm+8U9Ir4/fxkAasFxQmZDf8Q1RMJFpUXdhjAGIIY1xfXFngVyhPPEXcPxAzFCYoGKQPQ/6P8vflG9z/1lPNA8ibxJvA270DuO+027CvrJOom6SHoBOe55UbkpOLm4Cjffd0K3PPaVtpC2sja/tvn3Yjg5+ME6OzsqvI1+XQAVwjEEJAZkiKgK4Y0Cj3tRPhL4VFrVmxZsVooWsZXj1OeTRtGOD0nMxooUBwNEI0DFPfe6i/fRdRSyofBEroOtJavw6ydqzCsfa5xsve37L4PxyfQ9dky5Jzu/vgjA+AMIBaxHlwmCC2OMso2tjlHO3w7ajo7OAI12DDmK0kmJyCbGbMSowulBOn9qvcf8njt1Ok856Tl6uTl5GDlJOYf5zjoXumm6ibs8+0X8JLyWPVL+EH7Fv6rAPMC2QRtBsYH6QjmCcIKcQvpCx8MCAyhC+wK9wnoCNcH2AYCBk4FoQTnA/8C1AFgAJr+kfxc+v73gPXc8gLw4Oxf6YTlbeFC3TzZhtVP0s7PF84uzRrN181fz8fRJNV72ejeh+VQ7R72x/8ZCsoUpB9sKto0xj4GSEtQX1cQXR5hWGOqY/thUl7ZWLJRFEk8P2E0xCibHBIQXAO69lXqZ94u097Ivb8EuNWxYK20qs2pqKokrRSxV7a3vAjEIczV1APeeucO8aL6AAT5DFsV7RyRIy0prC0TMWMzqDTxNEE0pTItMOgs7ihgJGwfNRrdFJIPeAqsBT8BSf3R+dX2UvQw8mnw8u6o7Yjsmuvb6lfqHuo86r3qq+v37InuSvAk8gj05PWu92j5Jvvy/K3+ZgAiArkDHgVRBlQHJgjPCGUJ8gl/CgYLcgu3C7YLUguECk0Jsge9BXYD3gAA/s/6L/ch86ju1OnR5NbfF9vL1hTTC9C6zR/MP8sqy+3Lk8090BDUJdmJ3yXn0u9h+ZYDLg7nGJojFi4qOLFBakobUo1YgV3QYFdiDWL+Xzdc2lYRUAhI4j6/NMUpHx4BEp8FN/kP7V/hatZezF/Dp7tMtWmwFq1WqyWrdKwwrzKzUrhwvk3FyMzI1B/duOV/7jr3yP8KCMgP4BZBHdMiiyd6K6ouHjHdMu4zVzQDNOwyJDGwLrArRSiGJJ0goRyaGHUUFhBvC3EGIgGN+9j1PPDx6jDmE+Ko3vbb6tlw2HbX+9YB147XsNiE2grdKeDa4/7naOwE8bb1fPpR/yQE/gjDDV4SuBaqGhke7yAgI6EkbSWOJfcknSN8IXwekhqvFdYPIQmvAbz5jvFg6Wvh2tnP0mLMmsaOwWG9M7ouuIG3Sbiduo2+EcQJy0/Ts9wB5wvypv2iCcQV2yGuLeo4TkOdTJRUCFvhXxxjw2ThZIBjqmBWXIhWUE+7RvQ8ODLEJuca9Q4rA673oOwu4l7YQc8Lx9G/wrkNta6xqq/6rnKv+rB4s8q24LrAv2DFu8vH0l3aROJQ6lLyIPqXAa4IaQ/aFQYc5iFrJ30s+DC0NJ83tzkKO6k7nzsMO/s5ZDg+Nm4z0C9OK+slth/MGF4RownUAR36ovKF69Lkjd692IbT+c4iyyPIFcb9xNvEvcWFxyDKi82f0VfWpdtz4bPnR+4P9eX7tgJuCeIPBhbCG/sglCVuKW8sdC5xL1QvEi61KzgosCNFHhcYWREvCrICBvs/83HryeNw3IvVUM8EytTF3MJIwSLBcsI0xUrJoM4X1ZncB+U87gz4MwJ6DKsWgCDBKUcy+Dm0QHFGKEvITkZRi1J4UgBRKE75SZlENj79NiUv2iYuHjkVFQzJAm35L/A156fevtapz4TJVcQZwMa8WrrHuP+3G7ghuRi7DL7twbHGMcxE0tXYxd8A52/u//Wy/YEFTg35FGAcWiPOKZcvpjQFOaI8gD+pQQZDkUM+Q95BUz+aO7U2tTDGKQ4ivxkjEXII0/9w92rv0uez4CHaMdTyznrK3sYkxFvChsGWwYnCT8TYxivKNs7y0l7YXt7g5NHrGvOQ+gcCZAl7ECkXRh20Il4nIiv6LdgvpTBbMO4uXiy5KCIkwh6vGAgS/gqyAzr8wvR47Xjm+d8x2j7VPdFQzonM8suPzFHOMtEh1RLa8t+Y5t7tnPWe/bcFsw1zFdMcmyPGKVMvKDREOJ87HT69P31ASEAqPzI9azrjNqoy1i1xKIQiKBx6FYgObAdRAEr5bvLP62jlP99c2cnTnM7xyebFncItwLa+QL68viLAXcJhxSHJjM2f0lXYqN6F5dXsf/Rf/FMERAwUFJwbzCKeKfMvsjXIOiU/p0IoRYxGskaIRRJDVD9gOlw0ci3XJcEdWhXbDFoE7fuv867r/+PD3BfWHND+ytTGrsOcwZvAmcB9wTbDuMX8yAnN19Fl16rdkeTy66nzgfs1A58KjBHaF3sdTyJVJokp3ytNLcMtKy14K7Uo/SRuICcbVhUpD7cIFgJj+7v0NO4C6EriId3D2F/VDdPd0dXR6dIA1RjYEtzc4GzmmOxG81X6lgHcCP8P0xY5HScjkih0LcsxkzXAODk75jysPYc9azxVOmY3tzNcL3EqCCUxH/cYZhKPC4cEXv0r9g/vEOhF4cfap9T9zuLJb8XHwQ6/SL19vLa84b3wv97CnsYly2DQPta23LjjLOv48v36GQMqCw4TrhrxIbso9y6YNIY5oT3fQCdDYESLRJpDe0E5PuU5kzReLmgn1h/cF6cPUAcC/9f25+5K5yPgldm406zOjMpnx0bFJcT7w7nEUsa2yODLx89R1IbZU9+W5T7sIvMS+uYAeAemDV8TihgPHeYg+iM3JpMnBCh6J/klkCNJIFMc0RfPEmwNxAf1ART8NvaD8BjrHOa64RXeR9tj2WvYY9hN2Rrbxd1F4ZTlpepU8H72//ymA0YKuhDnFr0cMyI5J8Mrxy8xM+c11DfyODc5qThNNzc1fjIpL0Qr0ibWIVUcThbXDw0JBALn+tzz++xc5hfgMNq11LLPOMtqx13EI8LZwIrAM8HGwi7FUMgnzKfQsNU320Thyees7t31Of2uBB8MYhNiGgghQif6LCEypzZoOk49PD8XQNc/bj7dOzo4pjM4Lh4ofyF0GiQTrgssBK78TvUj7k3n9eAo2wjWstErzofL0MkAyQzJ/cnJy2DOwNHQ1Yna2N+h5crrMvKu+A3/MgX0CjsQ9xQPGXwcMR8lIUoilyIGIpcgUB5GG5gXYBO5Dr8JiQQ0/9j5mvSK77/qauay4qzfct0b3KvbGtxm3YHfWuLt5THqDe9s9Dv6SQBuBosMgBIrGIgdgCIGJyUrzi7rMXA0TTZyN9w3hDdnNpg0IzIHL1crGCdOIgwdVhc0EcIKDAQn/Sv2Lu9c6M3hl9vU1ZrQA8wXyOfEhsL9wFHAiMCgwY/DUMbTyQ/O8dJq2GXe0OSX66jy8flUAb4IJxBkF1se7CT7KnEwLjUfOSw8QT5XP2M/Yz5iPGI5ZzWNMO0qpiTYHaEWJg+NB/n/f/g08T/qt+Ox3UbYkNOrz6nMhMpCyezIeMnayg7NEdDP0zrYTd3p4vroYu/89aP8MwN/CV0PuxR3GXgdtSAZI50kOSXmJKMjfSF4HqYaNxZCEeULRgaAAKn61PQh77PptuRD4HncfNlk11LWRNY01xPZ19ty38TjzOhx7pf0MPsYAiQJLBAHF4odoSM5KUMuuTKINq05IzzZPb0+wD7ePRs8ejkANsox6yxxJ28h8RoPFNoMZwXO/TD2qe5F5yngcdkz05HNmMhYxOzAWb6lvOy7LbxhvZG/rsKsxoHLDdEw197dBuV47B306fu9A34LFBNlGk0htyeDLZQy2zZDOsE8VT4GP8E+iD1dOz44MzQ5L20p9SL1G6AUHA2TBSH+0va/7/rokOKP3CXXcNKOzqnLyMnryA/JIsoKzLHOCtIK1qja1d+H5arrH/LB+HH/CQZhDFwS4hfbHDQh2CSsJ5spkyp0Ki0pzSZeI/UewRnrE6gNIQduAKv58PI/7KnlZN+j2YnUSdASzQLLNcqpykLM8c6n0kHXqtzh4tvphfG5+VQCIwvpE28cfSTrK6AyiDiePdxBPUW9R0ZJyklDSZtH00QBQT88pDZHMFQp2iH2GcoRYAnQADn4u+9z54TfENgs0QDLosUdwYm98bpZuda4Zbn6upC9F8GBxcDKx9B817neZeZV7l/2Wf4OBnMNeBQFGxchqCaxKyYw6TPWNtw47jn8OQ45PjeeND8xQi2pKG8jnB00F0kQBgmhAVb6YPPq7A7n2OFF3ULZzdX30sfQX8/ozmrP69Bb05PWadqq3jLj9Ofo7BHyffcu/Q8DBAnjDoAUqhkuHvQh+CQ6J7YoaylaKX0osybcI/Uf/BoEFUIO6AZC/5/3MfAX6WbiH9xD1uPQH8wWyO/E58IzwvLCOMX0yP/NK9Q/2/niN+vl8+H8FgZwD8sY/iHNKu4yLjpjQHFFQkngS2hN4U1ZTd5La0n7RYpBFzyzNXsujiYZHk0VYAx1A7D6M/IT6mbiP9us1LrOe8kHxXLBzL4pvZG8Er2tvljB/cR+ybnOkdTq2p3hk+i/7w73bP6vBbwMbhOVGQwfuCOJJ4QqtCwfLuIuDC+XLoEtwCtKKRomRiLuHSsZJxQGD+AJwwSt/5T6f/V78JPr9+bV4lbfptzM2sjZitns2dbaMNzs3RDgrOLH5VvpY+3P8WL2+Pp9/8IDygeYCzQPvRI3FpwZyhykH/whlSNXJCskByMGIT4ezxrRFkQSLQ2RB2IBnvpg8+jrgeR33RrXptE1zcnJVMfBxfPE7cTBxZHHjsruzsPU/Nty5Mjtn/ehAX0LABUIHo0mly4WNvY8D0MhSP9Ld05iT8VOwUyDST5FK0B5Ojc0eC1AJo0eZBbYDRAFQvyk82/rzePx3PnW5dG5zWzK5schxhfFxsQ0xXHGlsiqy67Pm9RR2qHgVucz7gL1n/v5AQgIyA05E1EY/hwXIXQk6iZWKLYoFyibJnEk0CHqHtUblRgnFXwRkw1pCREFtgB7/I34E/UO8nvvRu1O64Tp4Odm5jvlheRZ5NHk/OXD5/vpd+wT77PxOPSy9i/5rvs+/uAAiAMaBn0Iowp8DA0Oaw+oEN0RGhNdFJgVrRZ1F8kXihebFuQUcxJgD7oLnAcXAzP+BfmO88nt3Of94VvcNdfL0kHPscwiy5HK78oozD/OQdE51UXag+Dy52zwtfmCA3INLhdwIAUp0zDMN/E9PUOYR+ZK/UyyTetMpEruRvBB4TsJNaQt4iXjHb0VhA1CBf/81vTo7F7lbt4/2PbSvM6hy6XJw8jeyNTJjsvmzbvQANSy19bbeuCp5WLrjPH493P+twR/Cp8PAxSqF6kaFR0NH6AgqiEUIrwhcCAqHvcaCBexEjwO7Qn4BW0COv82/ED5QvZC82Dw0O3R65zqROq36s3rSe3Z7kzwifGK8nLzbvSh9Sj3B/kc+0D9Rv/+AFQCRgPfAz8EjATQBBsFeAXhBUAGlgbmBiUHZQe4BywIzAiNCWcKSgsbDMQMHA0KDXkMSwt1CfUG0QMRAML7BPf98dXsuufb4nnewtq312HVydPr0szSgdMW1aHXUttH4IHm7+1q9pz/IQmcEqobAySNKzUyATgKPV5B+ES2R2dJ0UnBSB9G40EtPEg1gi0xJagcKBTbC9cDLvzW9M7tIOfR4Pzax9VN0bfNLsvMyaTJrMrPzN/PmNO+1yDcgeDQ5CLphO0Y8gD3NfyaAfwGEAyLECcU0BaeGLkZZBrcGkIbmhu0G1QbLBoCGNIUvxASDDUHnQKu/oj7LPlu9/71ofQd81rxfe+77VbslOuc63jsD+4g8GfyqvS19mr4yPnd+rz7ivxi/Ur+Tf9rAJYBvgLRA7wEbQXZBfUFzQV8BRsF1QTdBE8FQQa7B6AJwgvsDd4PXRFGEnsS7RGtEMgORgw3CZcFXgF9/Oz2t/D+6QrjQtwW1gHRac1zyyzLe8wPz4bSltYJ28/fFeUo60XymfoqBLsO1hnzJHUvwjhwQElGRUqNTGdNBk2YS0tJIUYSQik9XjexMDwpFSFaGDMPwQUy/MDyquk04a/ZXdNSzpXKF8ilxg/GOcb9xlfIVMr5zFLQWdT/2CLenONd6Vnvg/XZ+0cCqAjKDl4UChmLHKseXh/rHqodBRx4GlUZuBh/GFwY4hevFn0ULhHnDPIHuQK3/TL5ZPVt8jnwou5z7Yjsvuvy6inqbenU6Hzob+jX6NrpguvN7avwAvSW9xf7Sv4HAT0D9wRnBs4HZAlbC7sNZBAME08V0xZOF6MW4RRNElYPdAwvCuUIwQjICbMLHA55EDUS2RIQErMPwwtmBvP/vPgp8aTpfeL820bWe9GizajKi8hfx0DHWMjTyuPOrdQ83HDlBPCM+30HSBNwHocoUDGxOKQ+NkOMRr1IvUmRSSxIZkVJQeY7TTW7LWolkxyIE4wK0AGB+dbx+Or45OnfzduW2B7WMtSt0njRkNAK0A/Q0NB50ivV5NiA3cficOg07tLzE/nu/WMCdgY6CsYNIxFRFFQXGRqKHKgeVyB0Id8hdSEgIMsdbBobFhARhwvFBR0Ayvrr9Y3xre036hvnWOT34Qfgq9773f7dtd4R4OvhIeSl5mXpZey/74TzuPdH/AcBwQU1CicOeBEbFBAWdBdlGP4YWxmPGaUZkRlRGfUYfhjkFycXOhYPFZsT0BGqDzINjQrjB2sFWwPPAcYANQAAAO3/x/9m/5/+Wv2V+035jPZ28zjw/+z/6WPnReWn43rioeHz4FXg0N+D36zfm+Ce4vzlzur18C74CAD1B3YPJRa/GysgdyPOJWknXijAKJgo0ydaJiokRiG1HZQZGRVeEH0LmwbGAQf9cvgg9CvwrezA6XTnz+XK5FHkW+TY5Ljl+OaX6JrqAu2175jyi/Vn+An7WP1J/+EAMQJLA0MEJgX3Ba0GNgd+B3kHFgdMBiIFswMgApQAPP8y/pT9Z/2X/RL+vP5v/wMAVgBbAAkAYP9w/lX9KPwF+xP6ZvkP+ST5pvl/+qL78/xT/rr/GgFmAqID2QQABhEHBQjCCD8JdwlbCfgIeAj2B4kHTgdJB3gH0AcxCHwInwiQCFAI6wd0BwEHkgYvBt8FmgVVBRkF8QTTBL8EwATIBMYErARtBAUEegPQAhcCZQG9AB0AiP/p/in+Rv09/A/70Pmb+IX3ovYA9qb1l/XN9Tv22PaY92/4U/k5+hH71fuC/BP9f/3O/Qr+M/5H/kj+O/4i/gD+1f2r/Y79gP16/Xv9cv1O/Qn9k/zk+wf7Cfr1+OX38PYm9pT1RPVA9Yv1Gvbp9vT3L/mO+v37aP3C/gQALgFBAkIDPAQ9BUEGPQcuCAEJoAkDCiwKHgrhCYwJLAnMCHoILgjiB40HGAd1BqwFvgSqA4ECUgEmAAX/7f3f/OD76Pr8+SX5ZfjA9zz34Pau9qz22vY+9+H3vvjS+Sj7tvx0/loAXAJiBF4GRQgHCpgL+QwrDjgPHhDgEIAR8hEqEiQS1BE1EUoQFQ+mDRsMgQrYCDUHmwX1A0ACfACp/sX84PoM+VT3zfWK9JHz4PJ68mLykfIE87nzqvTT9Sn3mPgT+pD7+/xD/mX/WQAeAbwBNgKQAtcCEAM7A2UDkwO3A88D2gPJA5YDOwOzAgQCOQFTAFn/UP41/Qn81PqR+Un4E/f79Qj1RfSy80nzA/PT8rXypfKn8sTyDvOR8030Q/Vv9sH3Ifl4+r/78PwC/vj+3f+4AJABZQI1A/gDqgRHBcsFMwaCBr0G6gYPBzAHTAdiB3IHgweRB40HdQdGB/cGhwYEBm4FvwQCBEMDfwK7Af0AQQCU//v+fP4d/uX9zf3Z/Qn+TP6j/hD/iv8SALkAewFZAlQDXwRsBW4GVgcVCK0IIQl6CcgJEgpcCqYK6woeCzQLIgvWCkcKcwlYCPwGbAW5A/EBIQBZ/qD8/fp4+Qz4tPZ19Vj0YPOQ8vbxnvGK8cXxU/Ik8zP0g/UD9534Rvr2+579N/+6AB8CZgORBKAFnQaRB3oIVQkeCsQKOAtoC0oL1goLCvQInQcWBnAEvwINAV//tf0S/Hf65vhh9/X1tfSm883yMfLR8anxuPHx8UzyyfJm8xz08/Ty9Rb3Zvjf+XX7G/3E/lsA2AEqA0MEKQXjBWYGtgbaBs8GmgZGBtQFRgWjBPIDPwONAtwBMwGPAPH/Yf/m/nf+H/7l/b/9pv2Z/Yf9bv1S/S/9FP0S/Sn9Xf2s/Q3+fP7u/lv/x/9AAMUAXwEYAusC0QPEBLUFmQZqBx0IuwhPCdoJWQrOCjMLggurC6ALYAvvCkoKeAmGCHYHTgYYBdIDfAIXAa3/Rv7j/Iz7Uvo/+U/4jPcD96/2iPaV9s32I/eX9yT4xPh1+Tn6EPsF/Br9RP5//74A6wH7AuYDoAQnBYUFvgXYBeEF2wXJBbQFlAVbBQYFlAT6AzIDOwIYAc3/af78/JP7Rfoj+Tb4hfcO98r2rPat9sT27/Ys93z35/d5+DT5F/ol+1P8l/3n/jMAaQGDAnQDLgSyBAcFKQUjBQMFzwSQBEwEBQS2A10D9AJyAtQBGAFHAG//mv7X/S/9pfw7/Pb7zvu4+7L7vfvU+/b7Jfxl/Lb8Gf2N/Q3+mf4z/9P/cgAPAaUBKgKaAvYCNQNRA1EDPwMhAwMD6gLbAt4C8wIPAysDSwNnA3oDjgOlA7wD0gPjA+sD5gPRA6YDYwMRA68CQALOAVwB5gBvAPj/ev/8/n3+9/1v/e78c/wG/LP7gvt7+6j7C/ye/Ff9Mf4f/wgA3wChAU8C3gJQA6sD7QMbBDgEQgQ8BCIE+APAA3UDFgOnAisCnQH2AD4Ad/+f/r/94/wZ/GP7xfpR+gf63vnX+fT5Lfp8+t/6UfvR+2L8AP2p/WX+Lv/7/8sAlQFJAt0CUAObA7sDtAOOA1cDFAPJAn4CNALgAX8BDwGGAOf/Pv+P/tr9L/2b/CH8w/t++037Mfsp+zn7Yfuj+wD8dfwF/bD9bf43/wQAzgCJASoCrAIIAzcDPQMeA94ChwIoAswBeQE3AQYB5QDUAMkAtgCZAG8ANgDw/6H/V/8W/+H+v/65/sn+7/4w/4X/6f9bANIARwG0ARICXQKWAr8C1gLfAtkCwwKmAn0CQgL1AZcBJQGlACAAoP8o/8L+cf42/hL+Av4E/hj+O/5u/qv+8/5E/5v/9/9SAKgA+QBDAYEBtgHgAfkB/wH0AdMBnwFdAQwBsgBWAPn/nv9O/wj/zv6j/of+dv5u/m7+dv6L/q/+4f4o/4j//v+GABkBqgEyAqcCBgNRA4ADkwORA3UDQwMDA7ACRgLKATkBjQDQ/wv/Qv5+/cL8FPyA+wP7nvpT+h/6BfoM+i/6Zfq1+iT7pPs0/Nr8kP1M/g3/z/+OAEwBBwK5AmID/wOIBPgESgV5BX8FXQUVBakEIwSLA+QCMgJ9AccAEQBg/67+/f1S/a78EvyE+wf7nvpO+hr6DPom+mz65fqK+1H8Nf0q/iD/CwDpALABWQLtAmgDzwMrBHkEtgTgBOwE1ASZBD4ExwM7A6sCHgKcAS0B0wCPAFcAJgD7/8z/lf9O//n+of5C/ub9mv1g/UX9Sf1g/Yn9uv30/Sv+U/50/o3+of64/tH+8v4i/17/o//x/0YAogD/AF0BugEVAmwCvwIRA2IDrgP0AzEEYAR/BI0EiQR1BEwEDwTDA2kD/wKGAvoBWgGjANz/Df85/mP9lPzY+zX7qfo3+t35nPl5+XL5hPm2+Qz6hPod+9b7qfyK/Xf+bP9fAEoBJQLtAp8DOAS4BBYFTAVkBVsFMQXxBJwEOQTNA1QD1QJSAsYBLwGTAPr/Xf/C/i/+n/0W/Zn8J/zF+3L7MfsD++v67PoA+y37cvvD+yP8lPwU/aP9Ov7Y/nr/GQC5AFQB5gFrAt8CRQOWA9MD/wMaBCcEIwQOBOgDsANqAxcDugJUAuIBbgH0AHUA+/+D/w//q/5c/h/+/P3y/fX9Cv4p/kT+Yv52/n3+hv6Q/pn+rP7M/vL+Gv9O/4b/v/8AAEIAhQDIAAkBTQGIAboB4wH9AQ8CGAIWAg8CAwLzAeQB1QHHAbYBogGMAXABSgEhAfgAyQCRAFkAIADg/5v/VP8F/67+Uv74/aH9Uf0P/dn8tfys/LP8w/zj/BX9UP2R/df9Jv5+/tv+QP+r/xoAjgADAXkB7AFSAq0C+QItA00DXANVAzoDEgPYApQCTwIEArABWQH6AJAAIQC0/0P/0P5l/gj+uf17/Uz9Kv0a/RX9Ff0d/TH9VP2D/bj99P02/nz+wf4I/1T/nf/n/zYAiwDmAEUBqAENAmcCtAL0Ah0DLgMnAwoD3AKaAk4C/QGpAVYBBwGzAF0ACACr/0P/0v5d/un9e/0U/cH8h/xl/GH8e/yv/Pb8Tf2w/Rr+gv7h/jf/hf/O/xAAVACeAOcAMwGPAe8BUAKwAgQDTgOOA7sD1QPaA8gDoANjAw4DqwJBAtQBZgH+AKMAUQAGAMP/hP9L/xb/6P7C/qD+hf54/nX+d/6C/pL+m/6h/qr+rP6s/q3+rP6s/qf+oP6a/pD+iP6C/ob+lP6l/sj++/4y/3X/u/8CAE4AmgDjACYBZQGbAcMB6AECAhECHwIeAhUCBwLpAb4BhwFIAQEBrgBXAAUAuv94/0D/E//w/tb+wP6q/pj+gv5p/lX+RP47/j3+Sv5p/pP+wv70/iL/S/9x/5T/s//R//T/FgA5AGMAjwC8APEAIwFKAWgBiAGeAZ8BlwGEAWABNwEGAc0AlQBdACwAAgDe/8P/qv+K/3D/VP8w/xD/8v7W/sP+uP67/sv+5v4N/z//eP+6//z/OgB8AL4A+AArAVMBawF9AYUBfgF1AWYBTAEvAQ4B6gDLAKoAhgBmAE4APgAwACQAGQAKAPn/6//c/8n/uv+w/6T/nf+f/6X/q/+v/6//pf+S/3z/Zf9F/yT/B//o/sn+tP6o/qX+p/6u/rr+yf7d/vf+Gv9D/3L/q//o/ykAbgCyAPAAKAFXAXkBjAGYAZoBkAGAAWsBVQE/ASkBEQHxAM8ApwBzADgA/P+4/2//LP/v/rn+kv5z/lz+Uf5K/kz+Wf5r/ob+rv7e/hD/Rv9//7D/3/8NADsAbACgAMwA9QAiAUYBXgF0AYABgAF6AWgBSQEoAQcB4gC7AJQAcgBSADIAEgDx/9D/sf+M/2f/Qf8W//X+3v7O/sj+0P7i/vz+JP9R/3j/oP/E/9//9v8GABUAHgAkACwAMwA9AEoAVABgAGgAbgBzAHMAcQBpAGEAXABRAEsATgBQAFcAaQB/AJMArADCANEA2wDcANEAwgCqAI0AcQBXAEEAMwArACAAGQAUAAgA+P/l/8v/rP+H/2D/Ov8b//7+5v7f/uH+6P79/hb/Nf9c/37/n//C/9z/8P8IACIANwBQAGwAgwCdALEAwADPANIAzQC+AKcAjABnADoACgDb/6v/ff9X/zf/Gf8E//j+9/78/gf/Hf80/1H/eP+a/8D/7/8dAEoAdQCgAMwA7wAMASQBMwE5ATUBJwEZAQUB6QDRALcAmAB4AE0AIwD//9H/q/+L/2r/Tv89/zX/Lv8w/zn/P/9J/1H/Uf9R/0z/Qf8y/x7/Cv/4/uz+5f7m/vL+A/8c/0T/bP+Q/7T/1v/u/wAADAARABAACgAEAAQABwAOAB8ANgBRAHAAkACyANAA5wD0APgA9ADlAM4AtgCeAIkAfgB6AHoAggCNAJYAlwCNAHkAVwAmAPL/tv98/1H/Nv8r/zX/Vf+K/83/GQBrALgA+gAsAUwBXQFgAVUBQgEtARoBDAEFAf4A/gAKARQBGwEkASkBIgESAQEB6gDLAKsAiwBsAEkAJgAEANj/o/9o/yT/2f6G/jT+5f2g/Wz9Qf0m/ST9Mf1H/WP9hf2s/c/97v0J/iL+Ov5P/mL+dv6P/rH+0/78/iz/Vv+E/67/0P/0/xMAMABUAHQAlwDDAPMAIQFRAYEBpwG+Ac4B1AHJAbEBkQFoATgBDAHhALoAlgB4AGEATQA7ACoAFQD9/+X/0v/G/8X/1P/v/xoAVQCZAOcANAF+AcMB+QEiAj4CTAJRAlMCUwJSAlYCXQJkAm4CcgJpAlUCKgLtAaABQQHSAFwA6/9+/xn/xf59/kD+Dv7d/aj9bv0s/d38hPws/Nb7h/tM+yb7H/s4+3D7xPst/KL8Iv2h/RX+fP7V/iD/Xf+S/8f//P80AHgAwgATAWwBwgENAkoCeAKSAowCawIvAtYBbgH4AHYA9v97/w7/rf5X/hL+2f2n/YP9a/1c/VL9Xf1+/ab96P1C/qX+IP+j/yIAqQAwAbMBMgKrAh4DjwMABHEE4wRVBcgFOgaiBgEHVweZB8sH6QftB98HuweEBzkH1QZhBtsFQgWWBNwDEwM5AlYBbwCE/5P+ov23/Nj7A/s5+n751fhA+L/3VvcF98/2sfaq9rj22PYD9zf3c/ev9+n3KPhw+MH4Gvl/+e35Y/rl+nf7Evym/C79qf0H/kn+d/6T/p7+nP6i/rv+5P4k/4P//f+MACsB0AF0AhYDtQNBBMAEPQWuBSIGowYnB7gHWggDCa0JXAoCC5ILDAxjDJAMmAx1DCgMswsaC2QKmwnACNQH5wb6BQYFEwQjAzQCQQFGAE3/U/5Y/WP8dvuV+sT5C/lr+Nz3Yff69qH2WPYX9t/1tvWZ9Yf1iPWc9cX1CPZk9tX2YfcE+LL4bfkr+uX6n/tQ/PX8l/0v/rv+Qv/G/0UAvgA2AakBEwJ0As0CHwNiA5YDwwPkA/0DDwQZBBkEEAT+A+QDwAORA1cDFwPKAnECEwKtAUQB4AB7ABkAw/92/zT/+/7O/qb+gP5j/k/+Pf41/j3+U/58/r3+EP90/+b/XwDkAG0B8gFxAuUCTwOuAwIESwSHBL0E8AQdBUgFbgWMBZ8FoQWRBW8FOgXqBIUEFQSbAx0DngImArYBUAHzAKAAVAANAMr/g/80/+P+i/40/uL9lv1W/Sf9B/35/PL87vzu/On82vzC/J38aPwn/OH7n/tj+y77EfsK+xP7NPtm+6L75fsn/Gn8pvzd/Bb9S/1+/b39CP5c/rv+Kv+h/xUAjQD8AFoBqQHjAQ0CKAIvAikCHAIJAvMB1wG2AZgBfQFhAUIBIwECAdgApwBwACsA3f+J/zL/4v6Y/lf+Iv76/eL91v3X/dv94/3r/eT91/3B/Zn9a/00/fL8uPyR/Hb8bPyG/L78Bv1g/cL9Kv6U/vP+Sv+e/+n/LwB5AM4ALAGZARsCqQJIA/sDuQR9BUAG+wauB1gI6whmCc0JHgpgCpEKrwrECsYKtwqfCmwKJQrKCVAJtwgHCEAHXQZfBVYEPwMhAgcB9f/u/vf9Ff1J/I/74vpC+q/5HPmM+AT4g/cJ9572RvYF9t711fXr9Rr2ZfbG9jL3pPcY+If47vhS+bL5D/pz+t76UvvV+2L8+/yh/Uf+6v6L/yAAqAAhAYsB5gE5AoACwwIIA00DjAPMAw4ESgR8BKcExQTQBM4EwASiBHEEOAT3A6wDWgMDA6cCSQLoAYUBIgG9AFEA3/9r//T+df7x/W797Pxy/AX8pftO+/r6qPpV+gH6rPlY+QL5s/h1+FH4RPhN+Hn4y/g5+cH5W/r/+rH7Z/wc/dH9jP5J/w4A6ADWAdIC4QP8BB8GPgdMCEIJHArXCnAL6AtHDJQM1wwWDVINkw3QDQQOLw5DDjUOAQ6jDRkNZQyIC40KgAlkCEIHIQYDBe0D2QLHAbQAk/9r/jv9APzF+of5WfhD90P2bPW79C70y/OF81zzRfM48zfzOfND81fzdvOu8/3zafT69Kj1cfZR90T4P/ky+iD7AfzO/If9L/7M/mD/8/+JACMBxQFrAg4DqQMzBKwEDAVKBWoFcgVmBUwFKgUMBfUE6QTtBP8EGwU3BUwFVgVLBSIF2QR6BAQEeAPmAlQCxgFCAdAAagANALj/Zf8N/6v+Pf7A/TP9mPz0+077sPof+pj5Gvmj+Df41fd49x/3z/aJ9lP2M/Yn9jb2Yfao9hL3lvcz+OX4pvmB+mz7X/xj/Xr+nf/PABICXAOtBAUGUQePCMMJ3grbC74Mig09Dt0ObA/mD1IQtxACETQRVBFQESkR3RBiEMAP/A4TDgoN6Au6CoEJPQj2Bq0FZgQcA9ABgQAu/9z9jfw++/v5yfir96r2xvUE9Wb05fOG80XzGvMB8/by+vIJ8x7zPvNt86zzA/Rv9PD0kPVC9gX32/e7+J35evpS+x781vyB/R3+qP4p/6H/EgCAAOoAVAG3ARYCcAK8AgEDPQNsA5YDvQPgAwAEIgRHBG4EmgTHBPEEFgU6BVoFbAVzBW4FXwVABQ8FzQR2BA0ElQMIA2kCvwELAVIAn//1/lP+vv03/br8S/zj+3n7Aftn+qb5yfjN97z2q/Wj9LTz+vKE8lryffLo8pXzdvR89Yz2lveb+I35Z/o5+wv86Pze/ff+QwC6AVcDFgXlBq4IYgrwC0cNYg5FD+4PZhC+EAIRPRF0EaoR3xEQEi8SLBIAEpoR7hAFENsOcg3lC0MKkgjoBlcF5wOiAn4BewCc/8n+/v06/XP8qvvf+hf6W/mw+B/4qvdX9yX3EPcO9xb3Jfcv9y/3I/cE99/2tvaK9mj2UfZT9m72lvbd9jv3ovcV+Ib48vhb+bv5Ffpr+rv6Eft2++H7Wfzo/IH9Jv7X/ov/QADzAKYBWQIAA6gDUgT1BJkFNgbMBlkH0Qc6CIQIqQixCI0IQAjTB0cHnQbcBRQFRwR1A6gC3wEgAWwAuP8G/1n+rf0G/WT80vtZ+/X6qfp7+mn6Z/p3+or6hPpS+uj5O/lD+P/2gfXh8zXyn/BH70zuxe3I7Vrua+/38OvyIvWJ9wv6kPwR/4YB6QNBBpMI2AoKDSMPEhHFEikUKhW7FdYVexWzFJETLhKmEBgPnA1FDCULQwqgCTUJ9QjbCNEIyQjJCMMIsAidCI8IfghoCFUIOAj8B5wHCwc0BhQFogPjAen/vP15+zv5Fvco9YPzLvIv8YXwLPAO8B3wUPCZ8PLwV/HJ8VHy9PK886r0u/Xy9kL4m/nv+ir8Pv0f/sH+Jf9M/0X/H//l/qv+gP5v/oX+wf4d/5T/FwCfACgBpQEOAmkCugIJA14DwQM5BMUEZwUXBsAGXQfgBzUIUQgzCNUHNQdiBnAFZARRA0oCXQGQAOn/Zf8D/7v+gP5K/hD+z/2E/S/92fyJ/D788/un+1P77Ppj+qb5l/gW9xP1jvKR7zrsvOhL5S/ivd853t3dzt4k4d3kx+mx71v2af2UBJkLMxI9GJodNyISJi8piCsRLcwtoy18LFcqICfTIo8dexfMEMwJzwIz/Ez2Z/Gz7U7rTOqd6h3so+7x8cn18fk8/oACmwZ4CgkOQREKFFYWERgcGV0ZvhgkF4cU7BBtDC0HZgFe+2H1tu+j6mnmMOMP4QzgE+AA4aXi0uRb5w/qzOyA7xjylvT79kv5j/vF/d7/0AGLA/oEAgaRBqIGNwZcBSsEwwJFAdn/qv7V/Wn9bv3i/bH+yv8OAWMCrAPWBNIFngY8B7MHEQhcCJkIzgj9CB0JIwkFCbsIOwh+B44GbgUqBNYChQFGACj/OP5w/dT8ZfwU/Nz7sPuH+2P7Svs5+zH7P/tq+6T74/sg/Ev8S/wI/GX7QPqB+Bn2D/N573brRec445TfqdzR2kHaJduP3WzhlubS7NPzSvveAkgKTxG/F3kdaCKMJtcpRizZLYIuMy7aLG8q6CZSIsMcZRZ/D1wIVQHR+iP1mvB07dDru+sg7dHvjvMN+Pn8/AHVBkgLKw9iEuIUrRbOF00YMRh8FyUWJhR0EQgO5AkVBbP/6/n+8zHu1eg25KHgSt5Q3bjddt9g4jXmrup/71X05/gA/XQALgMoBW0GDwcnB80GIAY3BSYE+gK9AX4AOv/7/cr8sPvE+hn6wvnL+TX6CvtJ/N39sP+bAYcDUwXkBigIBwmGCaQJagnwCEQIfgeuBt8FHgVyBNoDUgPPAk4CwwEmAXcAsv/d/v39F/0+/HT7w/ox+rT5V/kV+en42Pjd+AD5Qfmj+SP6v/pt+xX8k/zP/Kj8+Puy+rT44fVS8iHucemN5NDfl9tD2DTWutUL1znaOt/n5fTtA/ehAFwKyxOQHFUk4CoTMNkzMDYaN7M2BjUiMh8uCikCIx0cihSDDFIES/zG9DTu5+gz5VbjauN05Vjp1+6a9TX9MgUVDW4U3hoRINQj/iWQJpolOiOjHwgbmhWPDxgJZAKl+/30mu6r6GDj695720DZWdjg2N7aQN7o4pbo9u6x9V38kwL8B0kMRQ/PEPEQxA94DVIKnQapAr/+IPv/94H1vPO18mvyyfLB80T1OveS+Sz89v7LAZcEQQehCZ8LGQ3+DUQO6A30DHkLlwluBy4F9wLzAEX/AP43/e78I/27/af+xP/0ABsCGAPPAx4E+wNcA0ACswDG/on8IPqu91b1R/Oj8YXwCvA58Bfxn/Kw9CL3yfls/Mn+ogC7Ae4BHAEP/7z7PPe78X/r7uSG3snYNdRN0W3Qy9GQ1afby+OU7YT4BQSGD3YaWCTALGYzLjgEO/U7JzvDOAE1HTA/KpsjXxyuFLwMvgT1/Kf1LO/W6fDlwuN94zjl8+iG7qX17f3dBugPehgJIBwmUSpvLFgsGiroJQ0g6BjoEHUI+P/M9zzwg+nQ40Lf4tu92dXYI9mg2j7d5+B/5eHq1/Aq94/9sQNGCQAOlBHOE4gUuBNtEdUNMAnWAyz+jfht8x7v3uvn6U/pEuoY7DLvHfOZ9138HQGgBasJCA2mD3gRdhKrEiIS/hBXD1ANCgujCDsG5QO3Ac3/M/7x/Bn8q/up+xD82Pzk/Sb/hADZAQED3gNSBDMEfQMkAi8AsP3C+pj3ZPRu8e7uJe1B7GDsie2+797yq/bm+jf/PwOiBg8JOgr8CTQI0wTy/7L5ZPJy6l3iodrZ05XOQ8s/ysHL4c961k/f6+nF9VAC6Q75GgEmgC8nN8U8NEB4QalA8j2JObMzrizGJEMcZhN8CsIBiPkT8q/ro+Yr43rhr+HT497noe3X9CT9DgYaD7oXZR+dJf0pSixWLCEqzyWpHxAYeg9aBi/9afRq7IXl9N/g21XZU9jJ2JrapN284ajmMuwf8i/4Lf7OA+EIJA1oEIsSbBP6EjkRRA5CCmgFBABx+vz0/e/M67Xo+Oas5ufnoOqp7snzpfnm/y0GFgxKEXUVXRjnGQMayhhfFgMT/g6gCj8GIgKG/pH7Xfnt90P3RffR98v4EPqK+x79u/5QAM0BKQNVBEIF2wULBrYFygRAAxEBS/7/+lr3i/PX75Hs6+k96Lzngeid6vztZ/KZ9zj9uwK2B7sLWA49DzQOJQsLBhv/s/Zc7avjV9oZ0p7LgsczxvPHy8yc1ALfdetI+bkHERaMI4QvcTnrQL1F0kc4RypE8z74N6AvVSaFHIsSwQhx/+r2aO8b6UDk/uB338Xf6eHW5XDre/Kt+p8D2gzbFRoeFSVcKpAteS76LB8pJSNfG00SbwhV/ov0ievH45HdI9mS1t7V7NaK2YLdheJP6I7u+vRQ+04BvgZpCyUP0RFRE5wTqxKREGYNUgmXBG7/K/oW9YTwvOz96YHoXeik6T/sF/Dt9Hv6aQBeBg0MDhEiFQEYixmvGXsYDRaPElIOngnNBCwABvyV+AD2YPSy8+3z9PSf9rz4Hfuh/RUAWAJOBOIFCge3B9oHbAdsBs0EkwLJ/3L8vfjJ9MDw5+yP6ermQuXS5LTlAeik63PwLfZ4/OMC8gglDgkSMRROFDkS0A0rB53+nPS66c3eodT5y53FLsIfwpfFocz81ibka/PqA7kU5SSLM9c/KkkbT3RRP1C1Sz9EejoML6Yi+hWhCSz+BfSF6+XkO+CX3fPcM9434cvltuvH8rT6MQPrC4MUlBy2I4cpqC3KL7wvYi2/KAQidhmID7sEofnN7s3kJ9xK1YPQ+83MzdnP8NPN2Q7hSekT8vX6dQM5C+wRQhcCGw4dVB3nG98YZhTJDlkIcgF1+tLz3O3q6ErlKOOq4szjfOaY6uLvCfau/HoDEgoOECIVAhmBG4YcBhwUGtMWghJiDdEHJwK5/NH3uvOm8Lfu/u1t7urvTPJn9fv4xvyKABMELAeqCXcLbgyFDLQLBwqFB0EEZQAO/HL3xvJR7lLqEufR5MTjDuTG5e/oX+3t8kT5AACsBssMzhFLFeAWKBb4EkkNVQV1+z7wbeTe2HTOCsZtwDW+yr9Sxa/Octvq6kT8fg6BIEsx2T9fS05TQFcnVyVTokszQZM0hSbWF1oJvfuZ72HlcN361xLVt9TC1vzaHeHP6LLxZvtwBWkP3BhiIZIoDS6MMdoy3jGTLhgppCGTGEUORQMT+DHtKuNt2mnTZc6ayyDL+8wK0R7X6d4P6BvyjPziBpoQNxlIIGQlTCjWKPImuiJlHFkUCAv4AM72KO2b5Krdv9go1gHWSNjO3EPjO+sy9Jn94QZ+D/8WAx07IYUjySMkIr0e4BnsEzgNNwZM/9v4O/Os7lbrVum66G7pTusx7trxBfZ0+u/+KgP9BjMKpQxCDvQOuA6ADWILZwiwBGIAp/uz9sHxJO0Q6dflvOPy4qrj6+W16d3uHvUl/G8DfAq6EJMVfxgmGUMXrhKDCxMC5va96nneFdN6yY7CJL+uv3XEa8032izqXPy3DwojIDXTRDBRdFkrXS9colbzTNQ/IjDVHv8Mq/u56/ndDtNqy0DHmsZYySPPlNcX4hju7frqB3cU9B/hKcsxVDdGOoY6FDgaM9QrnSLqFzQMDQD985ToVN6o1fHOb8pRyJ7IV8tO0EXX7t/c6av00v/UCiMVQR63JR4rLC6sLpYs9ScMIT4YBg75AsD3Ae1i43rbu9V40tfR3tNm2BDfcOfw8AX7EAV1DrUWWB0eItIkWSXCI0UgKBvHFIMN0wUx/g33xPCh6+bns+UW5f7lSOjC6y7wNPWM+ub/+ASCCUYNFhDZEXcS5RErEFINgQniBKz/H/qQ9EXvnurj5lbkQeO949zljumn7t/03fsxA1UKxBD0FWQZuBqdGekVlA/YBhv89u9L4wfXH8yBwwq+b7wOvxPGUtEv4OvxewWxGUMt7T6dTWVYm17eXydcyVNVR6A3oSWDEmf/Z+2J3YDQ/8Zbwbi/AsL3xw/Rrtwd6of4KQcvFfEhvywpNdA6gz0/PRs6WTRaLIgiZheAC1//j/OJ6MHeldZX0DfMXMrKynnNRdL32Evh3upT9TIAAgs/FW4eFSbTK1MvYDDhLuAqiSQuHEcSTgfo+7fwXeZ13X7W2tHNz2jQm9Mw2b/g1unj80n+bQi1EaUZyx/UI5klDCVRIpsdRRfED5sHWf9092nwpepp5ufjLOMo5L3mruqg70v1Sfs4AdkG0gvlD+cSuRRFFYQUhxJhDzELOAalAML65vRb73fqh+bU44vi2+LK5EroM+1C8yT6ZwGbCDUPuxSkGI4aIxovF68Rtwm0/zn0DOgY3FPRrsgAw/rAEcNsydzT7eHY8pUFAxngK/A8GEtoVTNbElz6VyxPPEIAMn4f3QtQ+AHmANYnySDAUbvduqu+VcZM0c3e/O3u/bgNdhxhKdUzXTuuP61AdD49OXExhScNHKgP+gKa9hHr4OB12BbSA85PzPfM6c/m1LrbAeRm7Xv30AEFDJ8VOh5tJeIqVy6VL4QuGit6JdUdiBQDCs7+gfOy6AzfGddQ0Q3OkM3fz+HURtyc5VrwzPs9B/QRURu5IrsnEiqtKaomRCHyGToRvAco/g31/exw5qrh694y3m3fYuLJ5lHsi/Il+bn/9QWXC1sQFBSfFucX3heQFv8TPBB5C+kFz/9y+S7zWe1Y6IDkFuJQ4VfiKOWj6ZDvnfZU/jEGng31E7MYShtHG2UYnxIpCnD/NvNc5trZws4ixuXAtb/3wsrK2taD5t74xQzmIOMzgUSXUS5aul3vW+lUJUlkOasmLhJE/TXpO9dgyHG9BLdQtVK4pL+0ysHY0+jp+fIKAhs2Kdc0XT12Qg5EMkIlPVk1SSuWH+oS3gUY+SLtgeKd2cTSLc7wyxPMi84k06TZxeEp6271KADmCjQVox68Jh0tdzGWMz4zZjAhK6QjRhpuD6cDkffY6x7h/tf+0I/M7co5zFnQBdfh31nqy/WBAcEM4hZIH3glHykXKmooRSQQHj0WXA0EBNb6XPIO60vlUOE+3xHfquDP40Loqu2t8/X5LgAQBlsL1w9VE7sV7xboFqMVJhOMD/AKlwW0/5T5lPMD7lHpv+Wh4yTjYORc5+zr0fGt+AcATgftDUoT2hYmGNUWuRL2C+MCCvg37GjgitW4zPDG6sQfx7zNl9gl55L4twtVHwYyeUJ0T/tXZFtkWRJS5EWmNXUikQ1c+D7kedIbxPW5lrQVtFi45MABzcvbPOxH/dAN/hz4KSI0HDu9Pgo/ODyjNswuNiV/Gj4P+gM2+WXv1ebL33va8tZB1VPVIdeH2lbfaOV77FT0svxNBdYN+hViHcAjvigZLJMt8iwrKj8lVx6xFawLzQCd9cXq4eCP2FfSos63zZ7PUdR526LkNu+E+s4FYxCKGbcghiWuJy0nJCTvHvMXyQ8ABzj+AfbV7hTp9OSd4gLiB+N05QXpc+1u8rP3+vwJAr0G4ApXDgYR2RK5E5QTaBIoEPAM0wgJBMv+afk99KLv++uP6aDoSemR607vRfQY+jUAGgYiC7wOaBDBD48M2gb0/mX19+qb4FDXDNCyywTLdM4U1qnhlfD9AaEUMidZOMNGXlFNVxJYdVPLScI7Pip6FssBk+0e243Lyr9zuMq1yrcavh7IAtXZ45nzSQMHEgIfrCmVMYo2gzioN0I0sS5vJ/YevxVBDOkCD/r38drq7eRA4Ojc99pk2jPbXd3W4I/laOs+8uX5IAKjChoTHhtLIjgodSzBLtMuhyzhJ/ggHhi4DVoCnvY869zgG9iV0a7Npcx/zivTS9pp4+Lt/vgJBEcOHxf9HZIisyRVJLEhDx3bFp8P4gcrAPX4pfKM7dHpkOfA5kfn++ia6/ju1/IC90L7dv98AyoHcAoiDTYPfxDvEHMQ/Q6WDE0JVwXgADb8sPeq83TwWu6O7SzuOPCI88z3pfyPAf8FZAkzCwQLiQiyA6v87fMz6lfgVdcn0LfL3sonzr/Vc+G78LQCLBa9Kfo7fEsBV5ZdmF7SWXlPQ0AtLYYXxwB96hPW38Tmt8av5Kwlryu2PMFsz6Pfy/DSAb4RvB8vK8QzQTmpOzY7NjgZM08sRCRzGzwS+gj0/2b3ee9d6DjiJd1D2bDWkdX+1QvYw9sy4T/ovfBh+toEqw9GGh8kmSwrM1I3tzgVN2oy4yrSILcUSwdg+b/rQt+u1LnM4sdixkPIVs081Vzf9eo290YDZA7mFzIfASQpJrUl5CIJHqUXQRB1CMAAmvlh82DuuOp36I/n4edG6YHrZO678WH1K/kD/ccAYgS+B7wKPg0hD0oQlhD6D2gO8guwCMsEjQA6/CL4mvTo8UPw1e+o8JXybPXT+Ef8Qv9BAbgBTADX/GD3R/Ay6P7fmtgI00DQBNHP1c/ewuvw+1MOrCGJNGRF11K+W0Bf61zIVEpHXjVCIHcJjvIR3XDKzrsGsnKtJa6/s5q9y8o42szqcPswCzYZ8CT+LTs0sDd9OPk2gjN1Li0o+yAoGfgQnQgyAN/30O8u6DjhIdsz1rvS/dA70Z7TStg03zLo8PL1/p4LQBgaJGkueDazO6c9EzwCN7AunyNwFv8HPfkQ62LeCNSVzHHIycd+ykLQgtia4sPtLPkTBMgNxBWtG1YfuSADIHcdcxloFLQOugjXAlP9WvgL9Ifwzu3l68Pqaere6hvsGO7T8D/0Q/jD/IMBTwbgCuMOHBJLFDcVyhQEEwYQ+QsuBwYC4Pwp+DL0UfG173PvcvB28iD17fdL+p77dftt+W71qO+V6OHgYNkR0wjPMs5C0ZnYI+Ru86UFkxm+LZdAnFB0XPNidmO+XSFSbUHKLKgVsv2f5ujR7sCftJat+KuDr5q3VsO40ZPh1vGFAdUPNxxIJtkt9jLBNXo2aTXQMuou4inmIwQdThXSDKsDCvol8F/mF93P1AjOOcnbxkDHp8oJ0UvaBuai83IClREnIEItDjjKP+1DKkR0QAM5Ui4JIQUSPwKw8kvk7NdAzsHHwcQ/xfbIls+O2DTjx+6E+rwF2A9YGOIeRyN6JZEltyMxIEwbXRW7DsAHtgDe+Xvzxe3i6AXlUeLj4M/gF+LH5Mjo7e0H9NH67gH8CJoPXxXtGfkcWh70HccbARjpEtwMTwa7/5T5TfQ78JTtcuzA7D7ujPAq84j1FPc+96H1KfL87H7mad+x2FHTSdB30HfUkNyl6C74LwpgHVEwf0F5TwlZUF3QW4lUB0goNyYjgw3U95HjFtKCxHW7QbfXt8O8R8WD0HrdMuvL+IMFzhBVGvEhpieUK+Mt0S6ILh4tpiohJ4Mithy3FZENYQRs+g3wveUR3KTTB83CyELHyMhpzQPVRd+l63f53AfrFdYixS0DNhI7oTynOlQ1Dy1mIhQW6Ait+yzvHOQP23fUl9Byz+7QztS02ibim+qJ82780ARSDKsSqxc2Gzkdwx3rHMUagxdPE1AOvgjWAtX8+/aJ8cLs5+gl5p7kcOSn5Szo3uuT8An29fsDAuIHRQ3gEXoV5xcJGeQYgxcDFZwRiA0JCWUE4P+u+/r33PRa8ljwqO4P7UPrB+k25sji7t4T27XXY9W/1GTWydo04o7sc/k+CAUYqycBNudBZ0q/Tn9Om0liQIMz7iPDEj0BmPDi4fzVh83GyLfHEspTz87Wyt+Y6YvzGv3iBakNVRTuGYgeOyIiJUcnlSjyKC4oFyaCIkkdZBbtDS0Eh/mC7sjjDtoG0j3ML8kxyV7MkdJr22bm0/Le/7IMiBimInwqqS/4MWoxNi68KHYh7RitDzsGFP2i9Czt6OYF4prep9wg3PrcJd+G4v3mZuyR8kf5SABMB/0NEBQ0GRMdcR8gIP4eGByLF5QRmAoCA0379fNy7S7oceRg4gniV+MV5v7pv+4H9ID56v4JBKwIvgwpENoS1RQQFoQWNhYhFUgTsRB2DasJawXeACH8Vveq8iXu1em95cDh2t0s2u7WZdT40hfTINVz2VHgsulT9boCMBHGH3AtLjkbQoJH+0hnRvA/Hza1KZUbugwl/rfwI+Xs22bVpdGD0LzR8dSu2ZDfOuZW7a70IfyNA94KCRL0GG8fPyUmKsst1S/2L/ctuylOI9savBB4BaT57O0G45LZINIVzbHKC8sDzlnTtdqn467tQPjdAhENZBZzHu8kmSlLLPEsjSs1KBojdRyRFNsLuwKX+ejwH+mT4ovdRdrg2FvZp9uV39rkKuss8n35wgCgB8oNBRMeF/UZcBuMG1sa9Rd8FCgQNgvhBW4AKvtM9gryne4q7MPqdOpC6xrt1O9S82T31/txAPcENgn5DBcQbBLPEz4UuxNCEusPygzxCHQEcf8F+kj0WO5O6FDipNyJ12PTrtDZz0HRJtWc24Xknu9o/BkK2RfRJCEwBDnkPmpBf0BOPDk1yyuzILUUiwjk/E/yQukK4r7cZdno1yLY39nh3PzgDebr63byivkBAbQIahDdF74evySIKcMsNS6qLQoraSbrH9sXog64BJv6y/DG5//fzNlk1e/SetL20z/XJtx04uLpHfLR+p8DJgwJFPMakyCnJPkmbif9Ja8iqR0tF5cPVAfT/oX26e5t6F7j9d9L3l3eCuAV4znnIux78fn2UvxMAcQFiwmHDK8O/Q9vEBQQ+g4+DQkLfwjJBSADsACa/v/8+PuL+677UfxX/Zz+9/9AAVwCNwO1A9EDkgP9Ah0CDwHl/6/+iP19/Jn77Pp1+jD6E/oI+vz5z/lf+Zj4Z/fM9dvzxfHY72Tut+0V7rHvqvLz9lP8bALUCBUPqhQiGS0cmx1pHbsb0xgEFa8QMwzaB98DbACI/Rz7E/lO96v1G/Sg8kvxQvC179Xv0PDE8rr1nPk+/mcDvwjpDYsSVBYLGY4a0BrnGfoXOBXXERYOHgoQBgwCHf5C+oD23vJp7zfsauku57flMeXH5Y/ngOp87lrz1PiW/koEmwk2DuMRgRTwFTAWYRWkEyQREg6ZCu8GPgOl/z38G/lU9u7z7fFU8CbvZe4O7iruxu7e73TxjfMf9hz5bfz1/48DEwdcCjsNjw9BET0SghIaEhERhg+SDUoLzAgtBoED1wA7/rf7Xfk691n10vOx8v3xyPES8sby1PMf9YH21ff3+Mr5P/ph+k76Lvo0+pT6dfv6/Cr/9AErBYoIwwuLDpkQtxHQEd8Q9A5JDCMJyQWGApP/Gf02++75M/nk+OH4C/lA+XL5pPna+Sb6r/qV++38yP4hAesDBAc0Cj4N5w/uESITZBOiEugQUg4PC1kHcAOR/+n7nfjI9YDzyfGa8PHvzO8q8AjxaPJR9L72q/kK/aoAXwT6BzsL5g3ID74QuRC5D9cNOgsUCKEEJgHe/fD6g/iw9nD1ufR+9KH0CPWb9U32E/fo99H4y/nk+iP8d/3b/kMAmAHBAqoDSASYBJ4EZQQABIgDEQOzAoICgAKrAv0CXwO5A/sDCwTWA1IDiAKFAVIACv/P/bX8yfsW+6P6bPpa+lj6T/os+uf5fPnz+F340vdq9zP3SPe+95v44vmP+4z9vf8HAksEawZMCNQJ7gqYC9ELnQsKCyoKCAm4B0wG2QRvAxECxgCj/6n+2/1F/er8xPzR/Aj9Yf3Q/UP+rf4M/1z/nf/Y/xQAYgDYAIEBZwKPA/MEfwYdCKkJBAsODKsMwgxFDDQLlAl1B/IEKgJH/2X8ofki9wj1YvM+8q3xs/FJ8mnz//Ty9i35jvvq/SEAGwK8A+kEogXmBbYFKQVaBGQDYwJrAYcAx/8r/53+EP58/cn87fvo+sH5kfhy94T26/XJ9TX2Mve9+ML6HP2g/x8CaQRQBrYHjAjNCIMIxgezBnEFIwTkAs4B6gA7ALz/X/8f/+3+vv6Z/n3+dP6L/sX+K//F/5AAfgF5Am0DRgTsBEkFUwUTBYcEuQO6ApwBdABR/z3+R/10/MX7NfvE+nL6OfoZ+hf6Nfp3+t76Z/sT/OL8w/2v/qP/jwBnASECuQIuA4IDvgPqAw0ELgRRBG0EdgRrBEcE+wOBA98CEgIiASYANP9d/rj9Xf1U/av9Zv56/9wAeAIqBNMFVQeSCG0JzwmyCRQJ9AdnBpAEigJvAGP+hfzp+qP5uPgp+PD3/fdF+LT4OPnL+WX6+/qS+zD83/yf/W/+VP9HAD4BJQLsAoEDzgPGA2EDmAJ0AQUAZf6t/Pr6b/km+DL3pPaA9sb2bvdt+LP5J/u0/E7+4/9nAdYCIwRJBUYGEgekB/kHDQjdB24HxgbmBd0EuwOOAmQBUQBl/6b+Gf6//Zv9pf3S/SX+l/4T/5j/KwDFAFgB2wFKAqQC5QIHA/sCwQJcAsoBDgE0AEj/Tf5K/VP8fPvN+kz6BvoF+kf6x/qE+3T8iP2y/uP/CgEYAgMDyANfBMME9gT6BNcElQQ5BMUDPAOnAgICSwGQANj/I/93/tf9Tf3k/Kf8nfzK/DL9z/2a/on/iwCaAagCoAN8BDEFswUBBh4GCgbIBWoF+ARxBN8DRQOiAvkBSgGTAND//P4f/jn9T/xt+5r65fle+Q35+vgs+aD5T/ow+zn8Uv1t/nX/VQAAAWwBkwF0AREBdQCm/7H+p/2V/Iz7nfrR+TX50/iz+Nv4T/kQ+hb7WvzQ/Wb/DwG6AlAEvQX1BuoHkgjmCOUIkQjtBwQH6AWlBEYD3gGGAEv/Mf5H/Zz8MPwD/Bz8ePwN/dT9wf7L/+gADAIkAyYEAQWpBRgGQwYkBrkFAQUGBNMCcgH1/2n+3/xs+x36A/kx+K73gPeu9zf4Efk1+pL7Fv20/k8A1gE8A24EZQUeBpAGvgapBlMGwwUCBRkEEQP4AdsAyP/I/uf9MP2v/Gn8XfyI/Oz8g/0//hX/9f/RAKMBXgL1AmUDqQO8A6IDYAP/AokCBAJzAeEAVgDS/1L/4P56/hz+xv14/TP9/PzP/Kr8lPyS/J78uvzt/Db9kP32/WD+x/4o/4P/zf8AAB8AKgAlABIA8v/O/6z/h/9g/zz/F//v/sn+nv5v/kX+HP7y/df90/3q/SP+g/4K/7T/egBVAToCGQPiA4wECwVXBXEFVwUEBX4E0AMFAyQCOAFUAH7/tv4K/ob9Lf3//AP9Qf2x/U3+Gf8JABABHgIlAxAE0gRdBaMFoQVTBbkE4QPYAqcBYAAc/+b9zPzh+yr7rfpw+mv6lvrw+nb7GfzR/Jr9bP4+/wQAwABqAfwBbwK+AuoC6gK4AlcCygEaAVAAdf+Y/sr9Ev11/AX8zfvM+//7afwF/c39u/7A/88A5AHyAusDwgRsBd8FFwYbBuQFcQXSBBAELQMyAjUBPwBV/3v+uf0X/Zn8PvwI/PX7B/w//JL8AP2C/Qv+lv4e/57/DgBlAJwAtgC2AJ8AdgBIAB0AAADy/+r/7v8FACkASgBoAHkAeABjAD0ABQC8/23/IP/g/qr+if6A/oz+rv7g/iD/X/+e/9v/DwA3AFUAZwBrAGUAWABEACYA+//G/4v/Tf8R/9L+lv5m/kT+N/5C/m3+vP4t/73/ZwAhAdoBlgJFA9gDRQSOBKsElwRdBP8DhAP4AmQC0QFQAd4AfgA3AAIA4P/U/9L/0v/a/93/2P/Q/8//z//O/9L/3v/4/xwASAB4AKgA1AD3AAQB8gDDAHoAEACI/+7+R/6c/ff8afz4+6L7cvtp+4L7tPsD/GX80vxF/b79O/6z/ib/lf8AAGoAzAAgAW4BqwHMAdgBzwGqAWkBGAG4AFMA8/+b/1X/Lf8k/zT/Yv+r/wUAbQDVADUBjAHbASACWwKKAq8CygLeAuwC8ALoAtUCswKDAkQC8gGVAS4BvwBNAOD/d/8V/8D+dv44/gL+2P22/ZX9fP1t/Wf9bf2D/aP90P0N/ln+sf4T/3n/3/9DAJgA3gAVATQBOQElAfkAuABjAAAAnP86/97+lv5k/kv+S/5m/pv+6f5F/6r/EQB1ANYAKwFyAawB2wH/ARkCKQIzAjUCKgITAvMBzQGYAVYBCQG7AHIALgDy/8r/uP+7/9v/DwBYAK8ACwFkAboBAQItAkMCQAIgAuYBmgE3AcUASQDJ/z//sv4n/pr9E/2U/B78vvt9+1v7YfuP++v7cPwX/dr9rf6I/1QAAgGOAe0BGQIMAswBXgHLABsAYP+k/vD9Uf3M/GP8G/z4+/P7DvxJ/J78D/2Y/TP+4f6k/3MASAEYAuACmAM8BMIEHQVTBWIFSwUUBbwEUATZA14D3wJkAvEBhgEqAdgAiwBBAPz/uP95/0j/H/8F/wX/H/9R/5//CQCFAAsBlwEdApIC7wItA0ADKQPrAogCDgJ+AdsANQCP//D+Yf7c/V799fya/Ef8A/zQ+677nvur+9H7Cvxh/ND8Tv3T/Vv+4/5i/83/HwBYAHUAcwBXACMA3P+L/zX/3f5//if+3v2d/WP9Ov0h/RP9G/06/XD9u/0l/qX+OP/e/4cAMAHVAWMC0wImA08DUgMzA/UCnQI6AtgBeAElAe0A1gDaAPkAOAGLAewBVQLCAikDhQPRAw4EOARRBFgESQQwBAYEyAN7AyADtQJAAsEBOAGuACkArv82/9D+gf5G/iP+E/4W/ib+Qf5m/o7+sv7P/uj+9f73/vH+4/7N/rT+lf53/lj+N/4W/vb91P2s/YX9XP01/Qz95vzF/Kz8pPyp/Lv82/wK/Un9jf3S/Rr+Zv6q/uX+G/9H/2b/gv+b/67/v//X/+//CQAsAEoAaACJAKcAvwDQANgA3ADeANwA2ADUANQA3gDxAAkBMAFiAaAB6AE4Ao4C5gJCA5wD7gMzBGsElASnBKEEhARVBA8EtwNRA98CbAL2AYMBGgG5AGQAHwDq/8T/q/+c/5f/mv+i/6f/q/+m/5f/e/9R/xb/yP5z/hb+tP1V/fj8qPxl/DD8C/z6+/n7Bfwb/Dj8XPyD/K381vz6/Bb9Kf09/VT9Zv19/Zr9rf26/cr95P33/Qr+Iv5A/mr+ov7q/jj/nP8RAJAAFwGlATYCwAI/A60DDARYBJAEtwTRBN4E3gTZBM0EuASkBIwEZwQ/BA0E1gOVA0oD+gKnAlQC/wGvAWMBHgHhAKcAcQBBABEA4f+w/3r/Qf8M/9z+rf6M/nb+Z/5o/nf+kP6y/tj++f4U/yH/H/8O/+f+rf5n/hz+x/1x/SL93fym/IL8Z/xa/GH8dfyQ/Lb85/wc/Vv9o/3u/T/+k/7p/jz/if/P/wUALQBDAEMALwAGAND/j/9G//3+uv6D/mD+Wf5o/pL+2P4z/6T/JQCzAEQB1wFlAu0CaQPOAyYEZwSLBJgEkQR2BEkEDATFA3wDMgPsAq0CewJUAj0CMwI1AkECSwJSAlcCUwI+AhkC3wGTAT4B2ABkAOz/cf/6/o/+LP7U/ZD9Wv0x/Rn9Df0M/RT9Kf1I/W/9nf3P/QX+Ov5t/qH+1v4F/y3/U/9x/4v/nf+o/6z/pv+U/3z/Zf9H/x//+f7X/rH+kf56/mb+WP5U/lj+Yf50/o3+q/7O/vT+H/9O/33/qf/U//z/IABDAGYAgQCXAKkAugDJANUA2wDjAPAA+wAFAQ4BGgEkASgBKQEpASQBGwETAQsBAwH/AAEBCQEZATEBTgFxAZgBwQHtARwCPQJRAlwCWAJBAhoC5QGgAU0B7ACBABMApP84/9r+iP5D/hj+Bv4C/hj+RP56/r3+BP9G/37/qf/A/77/pP9x/y3/1f5s/v79kP0n/cn8ePw7/Br8EPwa/EL8hvza/ED9tf00/rj+Pv+//zcApQADAVUBlQHCAeUB+AH8AfwB/AH0AewB6QHpAfABAAIYAjQCVAJ4AqECyQLqAgYDHwMxAzsDPQM2AykDEAPvAsoCngJrAjYC/AG+AX8BQAEAAcQAiwBcADkAGgAFAP////8BAAoAFQAaABsAFgAEAOX/uP98/zT/4f6A/hP+n/0i/aD8GfyQ+wP7ePr7+Yr5Kfnd+Kv4l/ib+Lb46fgw+YT54flF+qz6F/uH+/n7dfz+/I/9Jv7I/mz/FQDDAGYB+wGHAgYDdAPOAxwEXwSeBNgEDgVGBX4FtwXxBSYGVwaBBp8GtQa9BrgGqwaVBnQGTQYiBu4FrAVeBQIFlAQVBIQD3QImAmEBmADN/wP/Qf6H/d78RvzH+2L7DPvM+p/6gfp1+oD6n/rI+gH7S/ul+wv8fPz1/HD98P1s/ub+XP/E/x8AcAC5APQAIwFIAVoBZgFtAWgBWAFGATIBFgH3ANgAwACtAJoAjACJAI4AlACgALYAywDgAPoAEwEjATABOAE5ATABIQEQAfwA5QDOALkApACPAHkAXgBBAB0A7f+t/2L/Bv+a/h/+k/37/Ff8r/sN+3X68vl/+SX55PjB+MP42fgK+Vb5vPk8+tT6hPtH/CH9CP77/vj/9QDrAc8CnwNXBPIEbQXDBf0FHAYlBh0GCwb4BdsFwgWrBZUFhgV0BWAFRwUsBQoF4gS0BHoEPwT+A7cDbAMcA8MCYQL4AX4B+ABoAMr/Iv9z/sT9GP17/O/7bfsB+7L6e/pc+lj6bPqS+s76GPtr+8/7O/yn/BX9gP3m/Uf+nf7o/iz/bP+m/9f/BwA8AHAAqQDoAC4BegHJARsCcwLSAjEDiwPmAzIEbQSdBL4EyQS6BJsEawQlBM4DcQMQA6YCQgLoAZMBQwEBAdEAqQCNAH0AcgBxAHoAhQCNAJYAmQCRAH0AVAAfANz/gv8X/57+Ef54/dr8Lvx9+9L6I/pu+b74Evhp98v2QPbM9XH1K/UC9fX0BPU09Xn11fVO9t/2ifdP+DT5M/pF+278rf35/ksAmwHoAiMESgVeBk0HIgjZCG8J6QlOCpwK0gr3Cg4LFQsMC/IKxwqSClcKEArACWMJBQmnCDYIwQdFB8EGMgaTBesEMgRvA6UCzwH5ACEATP+A/rr9Af1b/ML7OvvK+m76J/ry+dL5xvnK+d/5+/ki+lP6gfq2+vP6NPt8+8v7IvyA/OX8VP3H/T7+tv4q/5v///9UAKUA5AAMASQBLgEwASoBIAEbAR0BJQE1AUoBaQGPAbkB6AEYAkMCbwKeAscC6AIIAxwDJgMqAxsD+wLSApoCUwIAAp8BNwHOAGQA9f+G/xv/rP44/r79O/2s/BD8Yfub+sj57fgM+DX3dfbJ9TX1wvRw9EP0OPRM9H700PRI9eL1pPaM95X4wvkN+3T86/1o/9wAPwKLA7cEvAWYBlMH6QdgCMkIJAl4CcUJFwpvCsMKEgtUC5QLyAvlC/AL5QvLC5cLTAvtCngK8AlUCaUI2wcBBxcGFwULBPUC3QHAAKb/lf6T/a782/sj+4j6CPqp+WP5Ofki+SH5MvlT+YL5vPkB+kn6l/rk+i77ePu9+wT8Q/yH/Mz8DP1T/Z797f09/o3+3P4r/3j/wf8EAEMAfgCzAOoAGwFEAXQBoQHNAfgBJwJbAokCvALxAiEDTANwA44DnwOjA50DigNoA0ADDwPTApMCSwL3AZYBLgG+AEMAyf9J/8f+Sv7P/V398fyA/BP8rftC+9P6Xvrc+U75s/gQ+G33zPY99sH1VvUH9dv0xvTK9PD0K/V49eD1ZfYD98D3nPiW+bj6+ftW/c3+UwDfAWMD3ARDBo4HwAjUCcwKqQtuDCENvg1GDrYODw9MD2sPaA9BD/YOhw7zDT8NdgyUC58KnwmSCHkHXQY/BRsE9wLbAcYAvP/F/uH9E/1k/Nn7bfsf+/T64/rn+gP7LPtX+4T7q/vI+9T70vvB+577afsi+9P6e/og+s35f/k/+RP5AvkU+UT5l/kO+qP6U/sc/Pj85P3V/sD/pgCGAVMCAwOZAxcEcgSzBNME2ATEBJoEYgQSBLgDWgP0ApECLQLRAXcBJQHcAJ0AaAA7ACEAFAAWACQAPgBqAKIA4QAlAXABuQH7AS8CQQI3AgwCsgEiAVcAS//x/Vj8hvqF+HL2V/RR8nXw2+6Q7aLsHuz/60rs+ewL7nfvNvFF85r1Mfj++v/9IQFKBGcHWwoUDW8PVRG/Ep8T8BO9ExMTBRKvECAPcA24CwkKZQjbBngFOQQpA1ACrAFFASMBQAGdATQC/ALrA+oE5AXLBocHCAhBCCkIxwcQBw8G1gRsA98BPQCZ/vX8X/vc+XL4Mfcb9jn1l/Q59Cb0YfTq9Lj1vfbz90H5kvrg+xn9L/4e/+T/hgAQAYUB6wFMAqQC8gI2A2kDgAN9A18DIQPLAmEC7QF4AQkBngA3AN//iP86/+f+lf5U/iP+Dv4h/m3+9v7C/84ADQJsA9sESAaTB6sIeAnuCQoKywk4CUsIIAe9BSgEeQK3APH+NP2N+/75mvht92/2nvXu9ET0hPOa8nXxC/Br7qbs1uoq6c7n8Oa25jfncOhY6tvs2O8h85n2J/q1/UEByQRRCNoLWw/BEusVtBjzGnEcBx2pHEwbBhn5FVkSaw5sCpIGEQMOAJH9nfsy+jn5tfib+PD4ufn3+rr8+P6xAcQECwhZC28OGREbE0oUkhTzE3ASKBBODQgKhgb4Aov/S/xD+Yz2GPTy8Srwx+7g7YTtye267lTwj/JI9VT4fvuH/jkBYgPqBMwFAgarBe8E7wPaAs8B3AANAGD/yf5B/rv9O/3P/ID8ZfyU/B39AP42/6oANwK5AwgF/AWBBpAGMgZ9BZwEsQPQAiMCrwFwAWEBZwFpAVYBIwHDAD8ArP8a/6b+Xv5K/mz+wv41/7L/JQB2AKEAlQBWAOH/K/83/uT8E/uy+KX14fGC7bXouuP/3ura39dD1lbWOtjY2wHhYeeU7jr28f10BY8MKxM5GbkeoCPUJzErgy2TLiUuBywwKLYiyxvQE0cLrwKe+ozzxO2Z6RrnNubJ5pvofes075nzj/j8/c0D6wkdEDQW5BvWIKokByewJ3omZyOPHj4Y2RDJCIgAj/g18crqfeVg4Xzex9w03K/cNd7G4GPk9uhx7q30ZftMAgAJDw8KFKAXmxndGXEYjxWHEb8Mlwd1AqP9W/m29cHyfvDh7uTtju3w7Q7v/PDD81r3o/tkAFAFFgpbDtIROxRzFXgVbRSIEgYQLg04CmUHwQRQAhQAAP4C/Br6S/iq9mH1mfRx9AX1WfZY+OP6uv2fAFMDlwU9B0EIlAhBCF8H+QUXBKMBgv6N+rT19e906XPiYtvA1CjPN8thyQrKQs3n0p3a4eMX7pr43gJvDAUVhBzcIhcoPSxHLyIxpzGqMPoteykyI0gbIBJECFb+AfXn7JjmbeKP4OzgSuNR55fsrvI2+ff/sAZKDacTrRlJH0AkWyhLK7osbCwoKuklyx8PGCYPjwXh+6jyYup54y/eodrM2JjY19lZ3PnfjeT06Q7wr/av/dAEwgstErYX8xuRHlsfOR45G48WlxDCCZACfvv19Frv5Oqw58nlE+V65eLmMelN7CfwqfS/+U3/EAXNCikQzxRkGKgaghvUGsAYiBV1EeUMMQimA3v/1vu5+CH2BPRU8hXxV/As8K7w+PEI9Nz2XvpG/kgCHAZ2CQ4Muw1yDjkOMA1+C0wJtQbQA5QA5vyf+I3zm+3X5nnf7tfE0JzKJsbzw3LEzsf3zZbWE+Gv7Kz4WwQbD5MYgyDhJsErOC9eMToyxDHcL2wsaifTINMYyg80BrT86fN67OnmjeOJ4srjBefV68LxVfgy/wMGoQzlEsQYLh4BIxonRSoyLJgsPCvvJ7AioxsoE6cJtf/u9ebsGOXg3nna8NdC10rYytqK3lfj+Og97/j1+fwGBOEKShHeFkobQh59H+AeUxz3FxoSGwt5A7P7V/TT7YTooeRI4m3h7OGj41bm4+kg7vXyP/jo/csDqglRD2AUgBhtG+oc2Bw3GzsYHxQ8DwgK3AQFALT7CfgO9avy0/CB777ule4d72bwh/KC9Uf5of05AsIG3wo0DokQthG4EbAQwQ4aDPQIeQW8AdD9lfnf9JDvienX4rjbntQMzqDI/sSvwxzFbcl/0O3ZFuU88ZL9WwkEFCYdhSQbKg0ufTCSMV4x5S8jLQMpfyOkHKYU2wu5At355PFc677mXORF5GHmW+rF7yf2Bf31A7YKFhHvFj4c8iDtJBkoRCozK6EqWSg9JFIeyxb5DV8EivoX8Y/oZ+EF3IPY8NY61ynZhdwK4XTmiewY8+z51QCfBxEO4hPEGG4ckh73Hn4dJBoWFaEOLwdF/2/3NPAJ6lPlSOL64FThIuMk5hfqte7J8yb5qf4uBJUJuA5hE1UXQxrvGycc2RoUGAIU/Q5vCcIDZv65+fP1KvNZ8WDwDvA28L/wmvHb8oz0u/Z2+bv8awBGBAEIRwvCDUIPoQ/cDh8NogqiB2gEKwEM/hX7Mvgw9crxv+3q6FTjON391jPRd8xsyZfIWMrWzuzVKN/n6Wz17gC+C1UVXh21I2Uolit4LTYu3y1wLN0pEyb+IKYaNhMHC5YCd/pB837toenn51rozurm7in0GfpDAE4G/Qs7EQMWWRpGHr0hoyTEJtYnhieKJbghDxy0FP8LeAK4+GDvC+c54DzbNNgp1/zXaNow3g7jt+jz7pT1bfxQAw8KbxAhFtUaMh7eH6IfZx06GVQTGgwVBOP7HfRZ7RHoj+Ty4ifj8OT55+vrbPAx9Qz62f6AA/sHOQwkEJMTVRYtGOQYXBiIFnYTXw+UCnMFXACu+7P3kPRJ8s7w9u+e767vE/DI8N7xavN49Rb4Mfub/iYClAWcCAkLqQxsDWUNqwxgC6sJsAd0BfECCgCH/CX4ufI17LrkptyL1A/N5sbTwnHBH8MCyODPM9pK5krzUwCmDLEXEyGeKFAuQjKZNHo19TQFM58vuSpKJGscZBOlCcX/ZfYu7rvndeOh4UriNeUE6jnwQPec/vMF+QyCE4cZ9h6/I88n8SrvLHwtSiwhKdsjkByEEyUJEv738orocN8r2B/TdNAj0ATSzNUf25zh8OjI8N748gDJCCcQzBZsHMIgciM7JAEjtx9+Gq0Tugs9A9z6L/O77Ofn5eSz4yzkCubu6IXsl/Ds9FX50P1XAtsGRgtvDyMTIxYlGPIYYxh3FkkTFg86ChAF9/9H+z73+vN/8b/vnu4E7uXtL+7o7izwDfKU9Lv3aPt3/6sDugdTCzkOPhBHEVYRchC3DlMMYAnoBeQBM/2k9x3xqOls4c3YVtCkyHTChL5svZC/CsWnzeHY9OUE9CcCkA+NG6olpy1yMyU36TjkOEk3MzSvL8spliI0GuwQJAdh/TH0L+zo5c7hLOAX4WHksumS8HH4vwANCfoQOxiiHhAkaSidK58tRi5fLcgqXSYSIAoYgg7jA8T4xu2S48na9dN7z4LNB87k0MTVOdzV4yrsyvRZ/Y8FLw0MFPkZvh4nIgIkHCRYIrMeTRlhElkKugET+QDxEeq15D7hwN8l4DzisuUw6mDv+vS/+nUAAAZFCx8QYhTdF1cajxtqG94Z5xa7EqoNBwg3Ap78lfdY8wjwpu0Z7EjrHOuB63Xs++0m8Pzye/aV+iT/5gOKCMIMPRCwEvUTAhTjEr4QvA0SCvoFkgHb/L73GfLN69PkSd101dbNCMevwYe+M74YwV/H2tD73PPq1/mqCIIWoCKELOMzrDgRO1g7yTmrNicyYCxxJXQdkhQKC0IBw/cV79HnhOKf31/fxuGc5mbtj/V9/ogHKRD6F7geOCRxKG8rLC2nLd4sqSroJn4hXxq3EdMHH/0s8qLnNd5/1gTRFM7BzfDPUNRy2tzhB+p98t761gI1CtUQnBZtGyAfhyFtIqshIR/KGtIUfQ0zBYz8IfSL7FXm4uFp3/beZuB248/nE+3m8vT4/P7FBCUK/A4jE3wW7xhXGpkaqBmLF1cUKxA6C8oFMgC7+qX1LfF97bfq6+gc6E7odemF62ju/PEf9qj6Xv8RBIcIhQziD3ISExS4FFoU/BK2EJwNrAnpBEv/uvg28d3o6t+41snNuMUvv+e6grlju7bAX8no1J3isPEzAUEQDh7tKXkzgjr7PvJAjED7PW45FjMmK9MhaxdYDBcBO/Ze7CLkGt632jXaldyj4fLo5fHV+xcGEBBBGUkh6icCLYUweDLYMp8xwS41KvMjCRyoEiAI5fyD8Zvm2dzY1BTP5Mtjy4HNANJz2GHgQOmB8qr7SwQaDOgShBjZHNsfcyGWITsgWR35GDwTWgygBH78b/T17JPmt+Gu3qPdm9524fflx+t78qX53ADBB/8NUxONF48aQxyhHLEbixlGFhkSRg0BCI8CO/0z+K/z0++27HDqEOma6AXpTup27GnvF/NW9+77qQBGBYoJQA1BEHASvRMrFLwTahJAEEQNcgnOBEv/2/h+8U/phuB817zO3saDwEy8y7ppvFDBZMk/1D/hnO94/vsMaxopJsgvDDfYOzs+Uj4/PDM4VjLYKvshDRhxDa8CWfj97i/na+EZ3m/da9/a42LqhvK0+00FxQ6mF4wfNyZ0KyYvOjGhMVAwPy19KBsiSBpNEX0HSf0q85zpHuEX2t3UrNGX0J3Rm9RZ2Zff+uYo77/3UQB9COsPSxZUG9AeoCCyIA4f2BtCF44RDgsfBCL9b/Zb8DTrNueP5FjjlOM/5UToceyQ8WD3hf2kA3YJog7jEgYW5hd1GL8X6xUoE64PwQupB54DvP8X/Mj41/VH8yTxee9e7u7tNe5A7xHxoPPH9lL6EP66AScFJQiXCnoMyw2PDswOgw6kDRgMxwmHBjUCtvzw9fntE+W023XS+skAwzS+IbwwvYbBAMku03PfDO0m+/4I8BVuIRgrrzIVOFE7ZzxtO4A4tDMrLSAl4xvQEWMHK/2786XrZeVa4cDfruD942rpjvDs+P8BSQtOFKAc7SPsKWYuLzEoMkYxhS7tKaUj5RvzEjAJCv/39HLr3uKb2/3VNdJl0JvQytLU1oDcheOJ6yH03vxbBTcNGRS4GdAdRSAIIRwgmh2qGYYUZA6aB4EAcfnO8u7sH+iZ5IjiAOL+4njlQeki7uLzK/qrABEH+wwZEicW8BhUGlIaABmFFh8TCA+ICuQFSgHn/OX4X/Vg8vzvQO417evsaO2n7qfwUfN+9gX6rP09AYkEZwfICZwL4AycDdsNow3mDJsLtQkaB68DP/+o+eXyDet04orZ2NAEycLCr75UvRK/DsQbzNTWlOOI8ej/4w3GGvslJC8GNow6xzzNPM86+zaAMZEqaCJIGYIPegWp+5HytuqQ5Ibg497K3ynjyehI8Cj51wK+DFIWDR+LJoIstzALM3Az5DF7LlEpiSJmGigRIQe8/GbylejE31/YsNL6zmjNC87P0JHVC9zY45bs1PUd/wIIIBAlF8YcxSAAI20jFCIOH4cawxQMDsAGO//X9/rw9+oM5nniaODt3xDhvePZ5y3tb/NE+kcBFQhFDoQTiRclGk0bDBuHGfMWjRObD1oL+wanAoH+ovoc9wT0cPFs7wzuYe1v7TTuqu+38UH0LvdT+pT92gAMBBEH3QlXDGEO6w/REO8QGRAdDtEKFQbi/zH4Ku8v5cran9Bwx/q/7brXuBi6yb6xxmrRSN587C77lwkTFxYjPy1ONS070D47QIQ/vDz/N2oxMimXH/cUzQms/jL09OqB41XevtvX25ze0uMS6+Tzt/33ByMSwBtcJJ4rPzH+NMA2bTb9M4QvJykhIb8XVA1PAib3UOxH4nnZTdIWzQXKPcnMypHOaNT729zko+7M+N0CVgzRFPQbcSEKJaMmNibYI7sfFxpHE6YLowOd+/jzGe1N59bi299+3snetuAi5Nrone4a9fj71AJbCTIPExTKF0EabRteGzYaFBgmFZARiQ08CdEEbgAy/En4xfTG8WTvqu2e7D7shOxl7dnu2PBZ81n2zfmc/a8B6AUWCv4NXxH2E4IV0hWsFOgRcg1CB3T/S/Yi7InhM9fKzebFGsDXvGK81b4MxLrLZNWH4JXsEfmGBYQRrhynJiIv1TWHOgs9SD1DOwY3yjDeKKYfohVUC1ABHvgv8OjpjeVV40jjU+VJ6eru3/XD/TQGyA4bF8QeYiWgKjwuCDDjL9Ut7SlgJGkdVBV5DDcD+fkX8eXoqeGh2wnXBNS00i3TY9U+2ZTeGeWP7J306Pz+BH8MEBNWGBscNx6cHlsdnhqTFoMRyAuvBYv/p/lA9Ivvuevk6CXngub/5pHoJ+uk7uLyvff6/GACrQefDAERkhQoF6YY8xgWGCYWWRPeD/ML2ge8A8n/EPym+IT1qvIX8NHt/Ou36ivqgura60PutvEU9hz7fgDlBekKQw+3EhUVQxYtFsgUExIXDuYIjwIw+/zyM+oc4QjYWM9/x/3AW7wVuo+6Ar6TxCzOcNrS6Jj42gibGPsmKDONPNNC10W1RbhCWj0SNmgt1yPTGcIP/gXX/JX0kO0B6CrkP+Ja4oHkp+ic7hj2vv4ICHARaxp6IiYpGi4XMQEy1TCsLcMoVCK0GkESTQkvAED3wu7+5jTgkNpB1nHTOtKn0rvUa9ic3Rzks+sF9LH8QgVFDVEUBRobHl4gxyBmH18c9BeIEnYMEway/6H5H/RY73brjuiw5ujlQOa15z/q0+1L8n/3Mf0RA9EIGg6fEh0WYhhUGfoYbBfaFIQRog1oCQ8FtQBv/Fn4g/T+8OntbOuv6dvoEOlg6tDsRvCb9In5yv4VBBoJng1uEV8UTRYdF7wWFhUOEpQNsQdoANP3Fu5+43/Yos2Wwxe77rTGsSmyYLZfvvfJl9hg6Uf7Lg0EHsws1DifQfFG3kieR5ZDST07NfQr7CGNFzgNRQMJ+s/x5+qa5SLiruBZ4SvkC+nB7/r3RQEhC/0URh5yJhQt0DFqNMk07jIALz4p+CF7GTAQgAbK/Gnzr+rq4lfcNNeb06TRZNHU0uvVl9q04AToPfD8+NMBRQrfET8YCR0HIBYhNiCOHWEZARTSDTIHbwDk+eHzo+5a6jXnTeWk5DvlB+f06ePtrfIW+OT9zwODCbMOGhNpFm4YERlJGDwWGhMmD7MKDgaBAT39a/kg9mXzPPGX73Tu0+3A7T3uYO8y8bHz1PZ9+oT+uwLtBtwKWg44EVETcRR9FFwT8RAzDQ8InwHw+TDxpOev3cTTX8olwsO717fSthO5wr7Ex83TRuJi8i8DuRMEIzMwqjr5QfFFpUZRRFk/QTidL/Eluxt6EYwHSv719dHuFunv5ITi9eFb47nm+Ovq8j/7kwRuDjkYYyFfKbIv+DPrNXg1ozKbLasmMR6dFHAKHwAX9sfsg+SL3RvYUdQ/0u3RT9NG1rnaheBt5zfvlPcjAHUIJhDRFhocwB+JIWUhWB+RG1UW+g/oCJABYPqy89ztJunI5dLjVeM+5Hnm4+lF7mnzD/n4/s0ERQoVD/4SxhVFF3IXXBYkFPsQLw0KCdYE0gAp/fv5Uvcp9XXzJfIs8YbwOPBR8NXw2/Ft84X1Ivg1+6P+SAIDBqUJAw3qDxgSUxNmEw8SLw+xCpME7/z48wXqi98e1VPLzcI2vDK4O7eduXq/ncim1ATj7/JwA40TZyI2L2A5iUCNRIBFnUM+P844yDCqJ+Ad1BPhCVsAmPfc727pkeR/4WjgbOGO5LvpyfBi+Q0DSg1+FwshZykLMJM0wTZzNrIzrC6tJxUfZBUQC5EAYvbf7GHkLN1z11nT9tBT0HDRRtS12Kbe3+Ui7hj3VABoCdIRHBnfHsUimSRNJOohox3KF8AQ/gj1ACX5+fHQ6+3mh+O84Y/h8OLA5dDp4e6t9OH6LgE9B8QMfBElFZ4XyhipGEwX0xR3EX8NLQnABHkAhfz++PT1c/N88QbwCO9+7mTuvu6K787wjfK39E73SPqU/RkBxQRzCPsLMA/TEZ0TVBS+E5gRyw1MCCsBnfjy7pjkENr5z/LGrr/Euqy4xrk9vvPFjdCL3Trs0ftxCzsaZSdaMrM6M0DLQpVCzj/ROgc03ivIIiwZeQ8EBib9LPVf7gHpP+VS403jP+Uc6bnu2PUe/hYHRhAmGTQhACggLVIwajFXMCEt/ScxIQ0ZCRCHBv38zvNY6+/j09042TbW3dQo1QbXXdoK393kpesc8/P62gJzCmgRYRcHHCAfhyAhIPQdJhroFIIOWgfZ/2T4dvFy67HmfeMA4kriReTM55fsSfKL+O7+GAW5CogPURPtFVcXjRemFsAU/BGYDsYKwQa8Aub+Xfsw+Hr1QPOC8T3wd+8t71bv/u8g8b7y1vRc90X6ef3aAEUEkweVCicNHw9fEMcQQRC0DgwMRwhaA1L9RvZj7uXlH91+1HzMocVzwH+9PL0BwOHFxc5f2iHoYfc9B8MWBSU3MbI6BUEHRMpDkUDPOg4z6Cn9H9wVAAzKAo36gfPO7Y7p2ua05RrmCuhy6z7wR/Zh/UMFmQ37FfcdFSXpKhMvOjEpMdsuZyoGJAwc8xI3CVb/2fUr7azlpd8323TYU9e814LZftx+4FTl2+rj8EX34P2CBPEK8hA3Fn8agx3+Hr4erRzaGG0TtwwgBTH9gfWe7gbpIeUy40vjWeUS6RTu7vMk+jQAugVoCgAOaxCsEd0RLRHLD+gNvwt8CTwHEAUAAwMBEf8g/Sv7Mfk792D1t/Ng8oDxMfGH8YXyG/Q29rj4dvtH/ggBpQMHBikI/wl5C4EM8AyXDEoL2AgYBe//XvmB8ZzoGN9w1U3Mb8SLvlO7SLurvo3FxM/Y3BDsjPw9DRcdMSvBNjk/RETfRTVEoj+wOPovLiboG7QRBQg8/5f3PPFG7LvooOby5brm8+ie7LHxDviF/8YHdBATGSkhMSixLUAxkDJ/MQ8uaijWIMsXzg1qAyz5nu8s5yvg2tpW16nVtNVQ10/aet6c43np4u+n9pb9awTsCtcQ7hXuGZwc0B1uHXUb9xchEzUNjAaH/5b4KfKh7Fjol+WD5BTlSefs6rjvW/Vp+4QBTAdxDJoQnxNfFdUVDxUwE24QAA01CU0FhgEY/h/7qfi69kf1P/SO8yLz8PL18jPzq/Nz9JH1Dffq+Cb7sv11AFkDMQbhCD4LHw1eDsYOLQ5iDEEJvwTd/rb3f++H5kTdM9Tky/PE8r9hvba9O8Hxx6jRAd5n7A78HQyeG6IpXDUsPqhDoUU4RL0/sji0L3IlpBrsD9oF1fwu9Q/vj+qy52rmpeZS6E7reu+89PH67wGACVQRFxlnINUmACyELxIxeTCVLXMoUiGBGHQOugPs+KLuaOW13d7XFNRs0tHSDdXm2BHeNOQF6zXyfvmjAHMHwA1TE/8XlhvuHeceaR5oHPMYJRQsDlQHAwCj+J/xdOuG5iTjjuHo4SvkJuiX7Rv0PvuDAmsJgQ9eFLoXZhlYGasXmhR5EKkLmgazAUf9nfnf9hD1H/Tm8yz0v/Rs9RD2lvb99lj3u/c/+AP5FPp8+zr9P/92AcEDAQYWCNYJGguuC1cL7AlOB1kDCP5w97/vSedu3rPVpM3bxvLBgb/6v4rDTMoS1HPgx+5F/gkOEh1+Kn01az0AQi5DIkFAPBE1QCx9ImoYpQ6gBbT9E/fI8d3tRev26dnp5eoU7VrwuPQl+okAvQeDD3oXMx8wJu8r9i/YMUkxLi6aKMAgEBcfDJoAM/Wb6m7hHtoJ1UvS2tGB0/TW0tux4TPo/u7c9Zn8FQMvCc0O3xMyGKAb/R0dH9Me/xyUGaAUWw4MBxz/Dfdi757oSOPN33LeVN9r4nPnCe609dz97QVXDZgTRBgZG/gb8ho7GBoU/w5WCZsDQv6j+Qf2i/M18uPxZvJ/8+T0XPa399D4lfkT+l76lPrb+lP7E/wv/ab+agBkAnMEdQYwCHcJDwrFCWUIwQXTAZD8E/aQ7lrm4d2h1SfO/cetw7HBfsJNxhnNsda54pnwiv+3DjwdMyrgNK08O0F6QpFA3DvgNEIspyKuGPgO9wUA/kH31/HF7f7qeukr6QnqFexR77vzS/ns/3AHjw/sFxAgbid/Lb4xwzM6MwAwKCrxIcUXPAwKAOvznejH3u/Wd9GIziHOFdAU1K7ZcuDw573vhvcD/wcGcww2Ei8XQxtbHlQgDiFWIBYeQBrcFBEOLQah/e/0rux45d3fVNw927DcoeDJ5qfupPcHASIKOhK1GB8dLh/UHjgcsRfFEQ8LMgTV/X/4k/RG8pjxVvIq9J/2OvmF+yT93/2h/Y381PrW+PT2hfXb9C71mfYO+WX8VQCGBJgIFQyYDskPUg8FDdQI0QI6+2PyyOjr3mfV3MzfxfHAh77xvmDC4sg50vjdl+tr+qIJXxjWJUcxGDrsP5pCL0LzPlU51TEFKX4fxRVZDJUDuPvy9GDvFusa6HXmOuZy5yDqRu7c87/6ugKFC7EUuB0YJjgtjDKjNSI22TPILiInQh3AEUIFh/hd7HHhYNiY0V7Nv8ujzMvP1tRU29Hi5+ou8177NQODCisRCRf/G+YfkSLVI48jniHzHZwYwRGmCawAYfdc7j/mpd8S2+3Yctmh3ETi+Okr8yr9NQeMEHUYah4CIgcjhiG/HSEYPxG7CUcCh/v49e7xj+/V7oHvNfGI8wr2T/gK+hD7Vfv2+iP6LPlf+Pz3RPhe+VD7Cf5hARQFyggqDM4OUxBsENsOcgs1Bkr/6fZw7WTjVtnhz57HHMHsvH67G73lwdLJm9TI4bPwjgB5EJ4fIC08OGVAREXFRg5Fd0BzOZgwiybpG0cRJAfs/dv1KO/r6TjmEuR343Hk8Obt6lXwA/fJ/l8HdBCVGUUi/Ck2MG00QTZvNdMxgCvBIgEY1Av9/jzyWuYF3MzTFs4Sy8bK/Mxm0ZrXFd9e5/vvgvipADYI/Q7nFNsZzB2oIFIiuCLAIVQfahsMFlIPdQfX/uv1O+1h5fXegNpo2O/YIdzY4bbpKfN9/fQHxhE4GqwgryQJJrQk8CAhG9cTwAuJA+X7WvVS8AHtbutx67rs8O6g8WT05Pbw+GL6Pfun+8r74fsr/Nr8E/7i/0ACCAUBCOAKUw37DoYPqQ4sDPIH/wGH+sfxKegw3m7Uf8v8w3i+bLs8uyq+UsSXzaHZ5Oe090AImBjRJww1kD/QRn5KikokR8BA6TdFLZIhhRXDCd7+RfVJ7R7n3OKB4PrfM+ER5GboDO7X9JL8AQXeDdAWbx9HJ98tuzJtNaw1RjMuLo8myRxeEewELvjr69jgkdef0EfMsMrNy1jP7tQW3Erk/ey79Rj+wQWJDFESDhfKGosdSx8NIMcfZh7RG/wX3hKIDDMFIv3I9LHsb+WW36nbFdoZ28Te6uQm7eL2ZwHoC5AVmR1fI3ImmCbgI5geQxeTDlAFTPxK9OPtfOlE5zLnBOlI7Hbw/vRS+f78sv9CAbUBOAEOAI7+GP0I/Kr7Lfyd/ej/3QIpBl0JAAyZDbUN9wsrCE0Chfot8cLm6dtp0QHIacBOuzy5nLqevyzI8NNY4p3y2gMVFUAlaDPLPtFGIUuzS7xIrUIfOsUvUyR/GPgMQgLK+Nfwi+r45RbjzuEG4qrjoebU6i/wofYC/iUGzg6cFyEg3idJLt0yLDXcNMQx6yuCI/IY0QzN/6zyRuZd24/SWswQycPIUctv0JvXQ+DK6Yvz/vypBTwNhBNyGA8cax6eH8cf9x5BHaUaFxeaEjgNBwcyAAb53vEp613l9OBa3uDduN/g4ybqKPJc+xMFiA73FqodESLLI7si/B70GDcReQiS/1D3Z/Ba63jo0Oc06Ubse/A09dj53P3QAH8C2QL9ATgA6/2M+5X5bPhV+HX5yPsW/wIDFwe/CmUNfg6XDWwK7ARF/dLzIenw3QnTQ8ljwRu8/rlqu4/AUMlF1c/jKfRtBZEWjyaANJw/U0dWS5JLPkjSQeQ4Jy5bIkMWhQq2/0n2ie6h6JvkZuLo4fjiYeX66J7tJfNs+VMAsAdSD/gWSR7lJGsqbS6HMHEw+S0PKdEhiRiqDcYBkPXB6QjfDNZUzzLL0cksywrPCNWu3HPlxe4g+BgBUgmRELgWthuHHyQikiPXI+8i0iB4HecYLhNoDM4EtvyL9MDs2+Vh4MLcXNtm3Obft+V+7bf2sgCqCtYTdxvwINUj7yNLITIcKRXjDCUEuvtb9Jru1+o46aLpxesz71zzpfeK+5/+mQBiAQcBwf/i/dP7+vm3+Fb4/Pim+jP9WACwA8EGBwkDClIJtAYfAqv7mvNv6s7gZtfszgzIacOGwb/CN8fVzknZEuaH9NIDChNaIfItHjheP2hDLETWQc08kTW0LOIisBiyDmsFMv1D9sPwtuwO6rHog+hi6Tfr9e2I8ef1CPvZAEAHBA7jFIkbjSF+JvEphSvwKgso2CKCG14S7QfR/KzxKefv3YbWTNF8zhvOCtAE1KrZi+A76FXwdvhYANAHtg7sFFwa9h6mIlAlzyYAJ70l6iJ9Hn0YFBGMCEn/xvWb7Gfkvd0n2QvXptcH2/3gHene8or9SghMEtAaKSHjJMMlxSM1H48YdhCtBwD/Hveh8PvrYenJ6AHqsOxc8IP0nvg8/Az/3QCgAWgBYQDO/v78OvvC+dD4fvjJ+Jz5yvoS/Cf9vP2J/Vv8G/rD9mjyRu2x5w/iw9w22NrUHdNb08bVc9pQ4R3qg/QHAA0M8RcWI+EsyzRxOpo9Mz5aPEg4SzLRKlQiRxkYEC8H5P549yPxCOw36MHlrOT55J/mlenK7RzzY/lmAN0Hbw+7Flod2iLSJvEo9yjIJmYi+xvgE30KVwAJ9insQOPD2wnWSdKa0OnQCdPH1uPbDuIG6Y3wc/iTAL8IwhBtGIwf2iUGK8MuvTCpMFUupymyIrIZEA9aA0T3lOsV4YvYnNK/zzvQDtT02nDkx+8c/HsI7hOTHbck4yjXKaAnlCJAG2ESzwha/8X2s++Q6pLnt+bH52HqCu438l/2Efrz/Mf+d/8R/7z9vPti+Qj3AfWS8+fyGfMl9O/1P/jC+h/9/P4IAAMAu/4T/Bz4AvMR7a/mVeCT2grWVNPk0hHVDtrS4RbsbPgwBpMUtyLEL+c6bkPlSARLsEkWRZU9szMXKHobkA4LAo32kex85Jbe+9qm2YDaV93p4e/nEe/49kz/swfUD1oX8h1HIxYnISkxKTknOyNRHb0V2QwNA9/42e5/5Ujdm9bG0ffOPs6Oz8bSsdcI3oLl1O2x9s//7AjIERoamyEFKA8tczDyMV8xpS6+KckiChrfD8wEcPl27orkWtx71lXTKNMI1snbCuQ37pf5VwWcEIwacSLBJyEqcinYJa0ffBf4DeIDAvoN8ZnpDuSw4IzffuA+42bnduzs8Un3GvwEAM4CVwSiBNMDKALn/2X9+Prl+GH3j/Zp9tH2mvd++Cb5Ovl1+K721/P27zvrAOa24OnbONgy1lLWBdl83p3mIvGM/TALRxnoJikzPz18RGRIxUioRUU/GDbAKvcdlRB0A0v3vexW5GveJNuB2lvcauBL5oftpPUu/rAGwQ4FFjUcGSF/JEomaCbRJIkhrhxrFvUOmAau/Zb0uuuK42vcuNa+0q3QmNB90j/Wqdt14lPq4PLA+5YECg3LFJwbPiF9JUIocyn8KOsmVyNbHisYDhFOCUgBaPkR8rDrquZH48DhO+Kz5P7o2O7Y9YL9UQW2DCYTMRiCG+UcTRzWGbsVWBAdCn8D/PwE9/HxCO5v6zLqPupq63ztLvAz80T2J/ms+7X9Pf9HAOAAIQEpARkBCQEAAewAuQBUAJX/O/4Q/Pf46vT471HqQ+Qt3o3Y8NPU0KbPxNBm1IzaAeNu7VP5DQbiEhQf7SnNMjk53TyRPWI7jjZ0L5kmjRzpEVEHW/2A9CjtpOcZ5JviI+ON5aXpKe/F9Sn9+wTeDHUUcRt4IT0mgykVK9EqrSirJOUekxf/Dn8FgPtz8cznAt9/15/Rr83byy7Mp84r03/ZVeFS6gz0Ff7+B1gRvRnVIFgmDyrTK5wrdSl8JegfCRk9EeUIcABT+Pbwuur05evizOGf4lHluumQ72/25P1uBYkMuBKPF7saDBx4GxQZHRXvD/QJoQNz/d33OvPL77rtEu257XrvEvIx9YT4tvuB/rYAPwIPAzgD7AJZAqoBEQG6ALsAFQGtAVICxgLEAv4BLQAY/Z/40/Ld6wfk2tsC1CjN+scXxfzE/8dAzpfXleOZ8dYAZhBQH6csnDeIP/NDskTZQas7qjKIJwkb/Q06AX31Z+ty4+3d+tqV2pXcrOCA5q7txvVf/hoHog+hF9Me/STnKWQtUS+OLwouyyrWJUsfYhddDpEEafpR8LTmAd6c1tvQBM1Cy6PLIs6k0vLYwuC76YHzq/3HB2wRNhrHIcwnBixILncukCykKOIilRsUE8gJLgDK9hrum+a74NDcH9vK28Te3uPA6vLy4/v5BIoN9xS/Gn0e9B8cHx8cTRcZERcK4AIF/A/2bvFo7hvthu1075Hyeva9+uf+lAJyBUcHBwi/B5MGwgSbAnMAmP49/X78a/zt/M39x/6G/6z/4f7r/KP58/Tt7t3nO+CT2ITRvMvbx2zG18dLzLvT8N116pj4iQdyFm0knTBKOuVAEUSrQ84/yTghL4QjtRZ9Ca78BPEZ52XfN9qx19DXatow38Plue2W9t//Hwn3ERQaJCHiJior4C3qLkYu/CsaKMUiLBx+FAQMEwP2+QTxluj04GzaQ9Wi0a7Pic8q0YTUiNkK4M/nmPAQ+tcDlQ3eFkQfZybsK4Iv8TAeMAMtwCeRINMX/Q2VAzD5au/d5gfgV9sb2XXZUdx14Xzo1fDd+eQCPgtHEoQXphqNG0oaHRdyEssMvAbcALP7p/cH9fjzbfQx9vb4VPzW/woDigULB2QHjAacBNgBnf5C+zP40fVl9Br09fTU9n35mfyt/zkC1gMeBMECk/+Q+ufz+OtS46nasdIazJXHucXlxkLLxdIo3ejpVPiWB8sWDyWKMYI7akLmRdRFTkKkO1IyASduGlcNfQCd9Ejq7+Hr22rYbtfb2Hnc8eHn6O7wlfl3AjYLdRPpGk8haSYVKj4sxSyiK+gopiT5HhUYNxChB6v+pPXg7Lnkhd2I1wbTNNAxzxLQ2NJq16vda+VV7g74PAJwDCsW+x52Jjgs8C9nMYIwSy3lJ5UgxBfwDasDj/kv8Bzo3OHP3SPc49zv3/fkhusI89v6XAL6CDQOuBFhEzUTZxFTDmgKKAYYAqv+Nfzu+uv6Fvw3/vMA4AORBp4IrgmGCRAIYgW1AV79vvhX9KvwHu7u7EntN++E8tj2vvulAPgELgjNCWwJzgboAfL6UfKa6Ive9dSmzG7G+8LEwhDG6swR1wTkFfNlA/4T4yMfMts9a0ZVS1xMjEkmQ6M5sy0aIKsRRwO89bnp1t9/2OnTLNI208PWgNwA5L/sPPYAAJUJjRKRGlshryZwKogs7CypK90ooyQdH4UYHBEdCckAZ/g08HToZuFH21HWtdKb0CnQeNGQ1G/ZBeAe6HPxsPtqBiYRWhuBJBssrTHYNGU1QDN2LkQnGx6FEyUItvzt8Xvo/eDp237Zz9m43OLhyujM8DX5TgFwCBcO5xGuE3oThRErDuoJWAUDAWX94Pqu+ef5d/sV/l8B6gQ7CNgKYgyRDEMLjAihBM7/hPpO9bTwL+0T65rq3uvE7vbyBPhf/V4CagYACacJBggFBMH9ivXv66rhkNd/zlPHz8KFwc/D1clr0xngOe/x/zwRFCJ3MXY+TEhpTnpQdU6QSDo/HjMMJeAVhAbf97jqst9J18vRVM/VzxHTs9hE4DfpBPMp/SMHfhDcGPQfjSWIKdgreyyDKxEpRyVGIEIachMIDDoEP/xH9InsR+W13g/Zl9SA0frPN9BW0l/WTdzz4xjtbvd/AroNlxiEIuUqOTEcNUQ2mjQwMEIpPSCwFUcKwf7X8zPqdOIO3UXaMtq03HLh8+eg78X3r/+/BnAMYhBmEngS0BDRDe0JowWBAQf+kvtg+or6/fuB/rYBLAVxCBELqAztDL8LJglPBYQAN/vq9R7xR+3K6vHp0epT7T3xMPaf++UAbwW2CDQKhAl0BggBfvlR8Cnmxtv+0bPJssOkwAvBKcX5zDPYUuaS9gkItxmMKoc5xUWSTmlTD1SLUClJdD4fMf0h/xEVAhvz0uXd2rXSnc2my7fMkdDQ1vbefujf8o39CgjhEa4aJyIXKFYs0y6PL5Mu+SvgJ20i0htGFAIMQwNN+mDxw+jD4K3ZyNNYz6DM2csmzZnQK9az3ermfPHx/LMIKhS9HtQn6S6WM5U1yTRFMUIrJyODGfQOKATV+Z7wEemZ43fgut9F4crkz+nQ7zj2avzhATYGHgl+CmoKGwnsBkgEoQFr/wT+pf1z/mcATgPTBpMKFA7cEIESrxI0EQkOTQlLA3f8WfWK7qboN+Sp4ULhGuMO58nsz/N++xcD2gkLDwkSYxLYD1kKJwLR9wjsqt+x0xXJv8CJuxS6rbxiwwHODNy87Bz/HRKhJI8150PTTrhVRVhtVmNQoEbTOdIqjhr6CQH6fesr343V+c6by2TLG85o087ax+PF7TP4hQJNDCEVsBzKIkknHypYKwMrOCkkJvMhyhzPFjEQGgmxASH6lPJB62bkPt4J2Q3VitK60cnSzdXA2ojh6OmD8+n9mQgBE4YcnyTTKsAuJzDyLj4rSiV8HV0UiwqqAGH3Se/d6HfkRuJH4lHkFOgj7fryD/nf/voDBwjNCjkMXgxxC7MJegckBQgDaAF4AFQA9wBEAgIE7wXABycJ2AmiCWcIHgbgAuX+cvrn9anxGe6V62Tqpeph7IPvyPPQ+CP+OgOSB60KHwycC/0IPgSe/Yv1h+wv40DacdJlzKXIl8d4yVjOC9Yv4DjsgvlaBwUVvSHVLMM1GzycPzlACD5KOWcy2ykvIPgVxQsYAmH59fEX7O3nd+Wn5F3laOeM6oXuE/P49/n82QFzBqQKTQ5aEcETdxV4FsgWZhZWFaETTxFlDvAKAAetAhj+Z/nF9GHwcOwu6cnmceVE5VHmnOgV7I/w0fWa+5MBZAe1DC8RjxSnFlsXohaYFGwRYQ3HCPwDW/84+933f/U/9CX0HvUE95/5rfzn/woD2AUbCLEJhgqaCvkJvAgIBwUF3gLAANL+L/31+zf79/ov+9L7yfz5/UP/hAChAX4CAgMiA90CMgIrAdz/WP65/Bz7m/lJ+Dn3cPbw9bj1uvXg9RT2OvYw9t31KvUJ9Hryf/Ai7oXr1ug75uPjD+L/4OfgAuJx5D3oaO3i83z79AP4DCQWDh9HJ2QuBzThN7k5bjn9NnQyBSwIJNca3RCWBoD8C/Ot6sPjjN492/DZm9oc3UPhyuZb7ZX0F/yAA3kKtRDzFf0ZsxwJHvwdnBwQGoQWKRI/DQoIxwK0/Qf56vSF8fDuLO027Avsm+zH7XDvevHH8z/2yPhJ+7T9AAAgAhME2QVxB9wIHgo2Cx8M3wxzDdIN9w3dDX0NzwzQC4IK6wgOB/YEswJXAO39iftF+Tf3d/Uc9Dfz3fIj8xD0ovXU95L6wf05AccENQhNC9gNnw95EEYQ/g6sDGcJUgWuAMT73fZK8lnuSutO6YXo9+iT6jDtkPBh9EX42fvG/rUAXAGRAE/+rfrb9Rrwz+mC47jd9tjE1YzUk9UQ2Q7fW+ew8aX9ngr0F/ok8zA2OztDj0jeSgNKBEYYP6M1HCoZHUcPVwHw867nHt2v1K/OR8uDykzMatCP1lfeUucG8f36wgTpDRIW8BxJIvcl6ScoKMgm7CPOH7Ea2BSJDg4IqgGc+xT2M/EY7d3piucd5o/l1uXh5qToCOvx7Ubx+PTx+BX9SAF3BYYJVg3NENQTUhYsGEsZphk6Gf4X8xUyE9IP6wulByoDov4/+iz2ifJ77yHtjevP6vHq7eu+7Vfwn/N798f7UgDoBFkJbQ3mEJQTTBXwFWcVqxPMEO0MOwjvAlb9vvd48tLtDuph5/bl1uX45j7pcOxE8GT0cvgO/OD+lwAAAQYApf30+TD1ru/Q6Q3k894G27PYT9ge2j3ep+Qz7Yz3OwO1D14chCiEM8k800M6SLdJK0ihQ1I8lDLdJrwZzwvB/TPwweP32EjQCsp5xqjFicfxy5TSDdvr5LHv0vrGBRMQRRkCIf8mDiscLS8tYivmJ/0i+BwtFvMOmwd4ANL52fO67o/qYuc95Rbk2+N95Ojl/+eu6t3tcfFX9YH51/0+AqQG7Ar+Dr0SCxbJGN0aLhytHE4cBxvfGOUVLBLUDQUJ5wOo/nr5ivQI8CTsB+nU5qrlneW15vHoQOyH8Jv1PvsmAQ0HoQyKEYIVSRisGYoZ4RfDFFYQ3AqlBBH+hPdj8Qzs0eft5IjjrONE5SDo9eto8A/1e/lA/QAAbgFWAaT/ZPzL9yry6euG5ZTfqtpI19rVs9YC2tPfDuhp8mr+gwseGYYmAjPsPbJGz0zmT8ZPXkzPRWU8iDDCIrkTGASX9PLlz9i7zTXFlr8JvZm9K8F5xyXQrdqA5gbzoP+yC7oWPiDjJ28twzDbMdQw5i1WKXcjqBxDFagNJgYG/4L4yfLw7QvqH+ck5RLk2ONe5JHlZufL6aXs5++G83X3ofv2/2AEzQgcDSgR1RQFGJgacRx2HZcdyhwTG3AY9xTKEA0M6AaIAST88PYn8vftjeoY6LLmaOZE50TpSuwx8Mv02PkT/zIE6AjyDBwQKxIEE6ESAxFEDpoKQAZ0AY/84/ez80fw1u197EvsO+0p7+DxHvWI+MX7ff5aABoBjQCV/jX7j/bg8H/q2ONh3aPXK9Nv0MrPhdHI1ZXcweX88N/94QtfGqUoCDbbQYZLkFKRVkZXmVSaToZFxzndK1oc8gtm+2zrsdzZz27F1r1UuQG407mWvvTFeM+e2tbmf/P//8ULXRZhH4ImlyuSLoEvhC7YK8UnmyKyHF0W3w99CXYD6v30+Kr0EPEi7t7rNuob6Y/oh+jz6NvpPOsP7VjvG/JE9c34q/zEAPsENQlPDSARiBRfF4sZ7xp3GxYbyhmgF6cU+xC+DB0ISANy/tL5mvX78SLvMO037D3sPO0f78Xx/vST+ET81/8LA7QFqQfECP8IXgj3BuIEUwKJ/7b8GPrm91f2hPWB9VP24/cO+qH8Vv/fAfQDRgWLBZEEOQJ1/lT5BvPJ6wHkHtyk1BvOA8nUxfzE0cZwy9XS2Nww6XH3CQdOF4In6DbMRIFQb1knX1th5F/JWj9SqEaFOHooOxeGBST00eM21eHISr+8uFq1IbXut3W9TsUAz/7ZteWY8Sf95Qd4EZsZFCDMJMwnLykSKbAnRyUOIkgeKxrpFaQRdQ1pCYoF2AFK/t/6kfdf9E/xbe7B62XpdecJ5j3lKeXm5YLnAepY7XvxU/a4+4QBfAdnDQwTMRiZHBUggiK6I7IjZyLjH0Acoxc/Ek0MEgbR/9H5UvSS78DrA+lq5/rmrudm6fbrJu/D8o32Qfqu/Z0A7AKCBFwFgAUBBQcEuQJKAej/vf75/bX99v26/uz/ZAHsAkYELQVaBZMEoAJn/+T6IvVQ7rLmq96p1jPPy8jwwybBzsAtw2nIddAf2yHoDfdLByoY8CjcODhHYVO+XNxib2VUZJVfYlcZTDw+aC5MHZ0LHvqE6Xbag80bw467A7eAteq2/bpiwabJTdPW3b7oivPM/ScHVg8nFoEbYB/bIRMjMCNkIuUg7h6qHDgatBcxFawSIRCGDcsK2geoBC4Bbv1v+UL1AvHc7PzojOW84r/gvt/W3xnhiuMl59rrfPHZ97r+1AXgDJkTuRn3HiIjEyajJ8sniyb3Iy0gWhu7FZEPKQnCAqT8EPc68kjuU+tm6XrofuhT6czqv+z97lnxrPPU9bT3SPmL+or7WvwS/cf9l/6i/+4AhQJeBGQGeAhrCgsMGw1iDaUMugqCB/ECEP0G9gnuauWP3OvTAcxRxVfAer0VvXG/n8SOzAvX0ONr8koC0xJQIxAzZkG3TXlXQ17SYf9hz15tWCxPdEPNNdEmIhdbBxr48+la3bfSTMpGxK/Aeb95wG/DGsgazhnVvNyo5JbsQ/R++x4CEAhDDb0RjRW6GFAbZB0DHy0g6CArIe0gISC5HqUc3RlfFikSTg3nBxQC+/vL9cTvG+oI5b3gc91T23ba59qp3Lrf++ND6V/vHPYz/WAEZwv9EeoX+hwHIekjkyUAJjslViNrIKccOBhOEyQO9AjjAx//0PoJ993zUvFi7/7tHu2k7HjsjOzH7Bzthu0K7qrucu9z8MPxcfOK9Rz4I/uU/lUCSwZCCv8NSRHTE2gVyhXEFDESCg5bCEAB9fjA7w7mWNwT08HK4sPnvjK8ErylvvHD5MtE1rDiuPDc/38PBx/RLUg75UY3UPFW1FrFW8lZB1W+TUNECzmHLDAfhxEJBCn3SOu24LfXedAPy3vHuMWoxSPHAMoFzvrSsNjv3oTlROwL87n5OABwBkkMvBG2FiUb/R4qIqAkTCYeJw4nESYiJEkhmB0bGe4TNQ4cCM8BgPte9aPvf+oZ5p3iKuDV3qHejN+M4YXkWujc7ODxNfej/P0BEQe4C8sPNRPlFdUXAxl0GUIZfRg4F5cVrxOOEVQPDw3HCosIWwY4BCQCFwAF/u77zfmV91T1CvPB8IfuceyZ6hPpAOh655rndOgP6nTspO+D8/D3zPzfAewGtwv+D3IT3BUDF7QW4BR3EYYMMAal/jP2M+0O5C/bC9MUzLTGSsMTwkfD/sYyzbTVNuBq7OT5IAiTFrUk7DGyPZ9HWE+SVBVX1lbgU1tOiEa1PEUxrSRwF/kJxvxL8OTk6dqd0jHMu8dDxbXE8MXMyBLNfdLC2KLf1eYW7i/19Ps6AuQH4gwnEbUUhxevGT4bOhyxHLUcVxycG5AaOxmkF84VshNbEdQOGAwjCQMGwwJo///7lPgz9frx/+5J7OvpB+iw5vXl5uWL5ubn9emx7A3w8PM9+NH8iQFABs8KEQ/lEjIW4xjmGjQc1BzIHBwc5Ro2GR0XrRT9ERgPCAzWCIgFJAKt/iz7sPdF9PLw1u0M66vozuaP5QblQuVK5hzoqOrW7XvxbfVz+Ub9pgBYAyUF3AVdBZIDfgA8/PH23/BS6p7jId1I13DS8s4dzSrNOs9a03vZc+EN6/b1yQEdDoUaiya9Mbo7KUS9Sj9Pk1GoUYlPXUtdRcE90DTnKmAgnRXzCrAAHfd17uzmpuC52ybY4tXe1ALVKdYh2L3a0N0t4a3kK+iD66DucfHt8xz2Bfiv+S77kvzu/Vj/4gCVAn4EpAb6CHcLCA6bEBkTXhVRF9EYyxkpGtwZ4xg2F+MUBRK3Dg4LMwdYA5r/IvwV+ZD2ovRf88fy1vJ886n0Q/Yj+DT6TfxW/jAAxQEMA/MDegSiBHgEBgRgA5wCxAHzADkAmf8d/8r+lf53/mj+XP5F/hf+xv1S/bn8APw4+2v6o/n6+Ij4Wvh++P742/kH+3b8Ef62/0ABkAKAA+YDoQOfAtsAVf4V+zT32vI17oDp+eTl4H7d/NqR2V/Zgdr+3NPg6OUY7DDz8voeA2wLjxM8Gy8iLygJLZowxDKFM+Ey4TCnLVcpJiRMHgMYhhETC90EFf/u+Yj19PFD73jtkOx+7CTtYu4g8DPyc/TB9vn4/fq0/BL+C/+l/+f/0/99//3+av7d/XD9NP01/Yb9J/4U/0cAuQFSA/kEkwYLCE0JPArMCusKlwrTCagIIgdUBV4DUQFR/3b91fuG+pT5C/nq+C75zvm5+uD7K/2B/s//AgEFAscCQwNwA0gD1QIYAh0B9v+p/kr97fuj+nv5h/jX93D3XPeh9z/4Mvlx+vH7pv2E/3QBYwNDBQMHiwjQCcYKYwueC3IL3QrlCYwI1QbQBIcCCwBw/cX6GPiB9Q/z2vDq7kftB+wu673quOok6/brLu3H7rTw7vJo9Rf47Prc/dAAwQOdBk8JxwvzDckPNREyErcSuxJDEkwR3A8EDs8LSQmMBrQD0wAD/mD7/Pj19lf1NPSb85DzDvQT9Zf2jPjh+n39SwAuAxAG1AheC5cNaA/KEKwRCBLgETURERCADpMMXQr1B3AF4QJmABf+Afw0+sX4u/cX99r2AveO93D4oPkE+4f8Gv6s/yMBbAJ9A0kEwQTjBK0EJQRXA0gCBgGl/zf+yvxv+zf6KvlU+Lz3ZfdS94T37veR+Gv5bvqU+9P8If54/80AGwJaA40EqQWoBokHSwjjCFMJmgmoCYEJJAmRCMAHsgZtBesDNwJbAGL+Vfw/+jX4RvZ/9PDyqPG68Cnw+u8v8NDw1fEx89v0xPbe+Bf7Wv2U/64BoQNfBdkGAQjXCFUJhAlmCf0IUwhiB0YGCQWtAzsCxQBS/9z9e/w4+w/6B/kq+Hz3+/aw9p/2yPYy99X3sfjI+Qn7ePwL/rf/agEhA80EWwbMBwsJEQrXClkLkwuCCyYLgQqiCYYIQwffBWYE7AJ6ASAA6f7f/RX9jvxN/FP8nvwu/fr9/P4rAHMByAIcBGAFhQZ+B0AIvAjwCNsIdwjGB9MGoQU+BLYCFgFo/8P9OfzQ+pf5mfjc92L3NPdO96/3Vfg3+Uz6jPvt/GL+4/9jAdoCOAR1BYcGZwcQCHcImQhyCAIISwdJBv8EewPLAfT/Av4I/Br6QPiP9h718/Me86fylvLs8p/zr/QT9r/3mvmY+6P9p/+QAUkDygT+BdkGYAeOB2EH5AYjBiIF8QOmAkkB6P+R/k39M/w/+4L6+Pmb+Xv5iPnI+Sz6sfpR+wD8v/yH/U3+Df/C/2UA9wByAdYBIwJTAmECUwItAu0BkQEkAawAJwCd/xL/kv4f/sH9eP1J/T/9VP2L/eH9Vv7o/pP/UQAfAfwB4ALDA6AEdwU/BvAGhwcECGgIqQjDCLsIkghLCOQHXwe9BgYGPgVpBIgDngK3AdMA+/8v/3P+0P1H/dn8ifxa/FH8afyk/AL9fP0W/sT+h/9ZADEBCQLYApwDSgThBFYFowXFBbsFfAULBW4EogOtAo0BSgDu/oD9EPyi+kL5+vfU9t31HPWd9Gn0d/TK9G71VfZ09834UPrp+5X9TP/yAH4C6AMhBSMG5AZcB4oHdAcQB2MGggVpBB0DsQE0AKr+I/20+1/6Nfk9+H73BvfS9uj2TPf89/D4I/qN+yH90v6QAFECBASRBe0GCwjhCGAJgwlNCboI0gefBi8FkAPWAQ8ATP6r/Db7+vn/+Ff4AvgG+GH4CPn3+R37b/zf/V3/0gA4An8DmAR/BSwGlga+Bq4GZgbrBUgFhwS1A9YC9QEXAUkAmf8A/4X+Kv7x/dz94f0D/jX+e/7V/jb/nP8GAHIA3AA/AaEBBAJdArICAANPA5sD6gM3BH4ExQT8BC8FVQVpBWkFTgUcBcoEXQTLAxwDUQJxAX4Aev90/mX9Zfxy+4/6yPki+aj4U/gv+DP4Xvi++Eb57/m0+o77ffx3/W7+Yv9BAA0BwgFVAsMCCgMuAyoD/AKpAjICmwHpABwAQv9V/l/9afx3+5P6wfkM+XP4Afi996j3zPck+Ln4g/l4+qD77/xb/tz/ZQHwAmQEuwXsBusHtAhICZYJoQl7CRQJfwjAB+QG+QUBBQkEGQM+AnoB0gBOAOf/m/9q/1X/U/9b/2L/Zv9l/1j/Q/8f/+T+nP5M/vP9mP1D/ff8tPyH/Hj8fvyh/OH8Pv21/T/+2/6F/zAA1gBxAf4BdQLSAhoDQwNQA0QDHwPlAqECUAL2AaUBVQEMAc0AogCEAHMAdQCCAJYAswDOAOIA9wADAQEB8QDVAKUAcQAvAN//jv84/+P+k/5M/g3+3/27/an9q/29/dv9Av47/n7+w/4Q/17/p//q/yQAWQB/AJoArwC2AK0AnACFAGIAMwABAMT/fv8t/9X+dv4O/qT9MP2//Er82vt5+yD72fqp+pj6ovrL+hX7hfsQ/Ln8f/1V/jP/EwDzAMgBiwIzA70DJQRqBI0EkAR2BEcEAwS0A2IDDgPDAn4CSwIqAhoCEQIWAisCPAJQAl8CZwJlAlcCPAITAtsBmgFNAfgApABOAAAAuP+C/1z/Sf9E/1f/ff+r/+r/MgCEAMoADQFKAXUBjAGQAYEBWgEdAc0AbwAEAJb/IP+r/kX+5/2S/VT9Kf0R/Q79Hf06/Wj9o/3i/Sn+cf62/vz+PP9y/5//x//o//n/AwAMABAAEwAUAA4ADgAUABwAJwA5AEsAYgB9AJQArQDIAN0A7AD7AAIBAgEGAQMBAwEAAf0A/gAAAQgBDAEYASQBKwExATABJgEUAfUAxQCHADcA3P9t//X+df7m/Vn9zPxQ/Nr7dfss+/r65vrx+hv7YvvE+z/8y/xi/QP+o/5B/9H/UgDBABIBUwF4AYQBewFhAToBBgHSAJ8AcQBNADgANgBDAGIAlQDbAC4BjwH0AVgCvgIXA2gDqQPSA+YD6QPYA7IDfwM2A+IChQIlAsoBcQEfAdMAmgBvAEwANwAuAC8AMAA+AE4AXQBqAHEAcQBlAE8ANAAMAN7/rP9z/zf//f7E/o7+Xv42/hP++P3q/eX95f3w/QH+GP43/lb+c/6V/rP+0/7u/gj/Iv83/0z/X/90/4T/k/+m/7r/zv/h//T/AwARABsAIgAkACEAHgAWAAwAAAD1/+r/4P/i/+n/8P8JACgATwCCALoA9QA0AXUBqwHfAQgCJAI1AjoCMQIZAvEBvwGFAUQBAQG/AHoAOQAAAMv/nP93/1j/PP8k/w3/9v7g/sL+nv54/kj+FP7c/aD9Y/0p/fn8zfyq/JP8kPyX/K783PwY/Wn9wv0n/pr+C/9///P/XQDGACYBdgG4AeoBEQIoAjICMwIqAhcCAQLiAcQBpQGLAXMBXwFSAUIBPwE7AT4BQwFIAU8BVwFhAWYBawFrAW0BaAFgAV0BUwFIAT0BMQEjARkBCwH5AOMAygC0AJsAegBaADoAFADx/8n/ov9+/13/Q/8t/xv/Bv/5/vb+9v75/vz+Av8L/xT/Hf8k/yX/Jf8h/xX/Bf/x/tf+u/6f/n3+V/45/iH+C/77/fj9+P0E/hv+O/5s/qD+3P4b/2P/qv/z/0AAhADEAAMBPwFxAaABxgHkAf4BDwIfAiQCIwIgAhUCDAL8AegB1AG5AZ0BeAFSASoB/wDQAJ8AbwA8AAcA1f+m/3D/RP8b//j+2v7E/rT+rv6q/qz+vP7R/un+CP8w/1T/f/+r/9P/+f8YADUATQBeAGYAYgBYAEAAIAD7/8r/lf9c/yH/6f64/of+XP42/iD+Dv4I/hD+Iv5E/mf+mf7T/hT/Wf+f/+j/MAB3ALsA+gAvAWABiQGoAcAB0QHaAdsB1wHMAb4BsQGhAYwBdQFlAVMBPgEvASABEgEDAfoA8ADlAOEA2ADUANIAzADBALgAqgCVAHwAYQBHAB0A9//K/5j/Zf8x//7+yP6X/mn+Rf4g/gH+7v3m/ej98P3//RT+M/5g/pH+xf7+/jL/Z/+e/9D//v8uAFUAgACgALYAzQDgAPEA9QD2APEA6wDgAMoArQCTAHYATwAqAAIA2/+x/4X/Xf82/xP/9v7e/tP+yf7L/tj+6f4H/yr/XP+M/7v/8f8lAGAAlgDKAPoAJwFUAXUBnAG+AdoB+QEPAiICLwI3AjICJwIVAvUBywGcAWIBKQHwAKcAYgAgAOb/sv+G/17/Rv8x/yP/IP8a/xz/Gf8V/wn/Av/1/t/+w/6n/oj+ZP5I/in+Df75/e396v31/QX+Iv5K/nr+tP75/kD/hf/S/xsAXgCdANQAAwEjATcBQwE/ATQBIwEMAfIA1ACxAJYAfwBpAFsAVQBXAFkAZgB4AI4ArADHAOIA/gAWASwBOwFGAVEBWAFbAVgBVgFQAUYBOgEoARAB9gDbALwAlwBvAEYAFQDk/7X/hP9X/y3/Av/e/r7+oP6G/mz+V/5B/iz+Gv4J/vj97P3k/d793f3h/ev9/v0X/jj+Yf6M/rr+8P4o/2D/lP/H//r/KgBUAHgAoADGAOoADwEzAVkBfwGfAb0B2gHwAQMCCAIHAvsB5QHKAaABcwFDAQsB0QCcAGwAPAARAO//1//F/7f/sP+s/6j/qv+n/6f/o/+a/5P/if9//3b/cP9r/23/dP9//5H/qv/D/+f/DQAyAFgAdwCXAKsAtgDBAMoAxwC+ALAAngCOAHkAZwBUAEMANQAnABoAFAAJAPv/7f/Y/77/ov+G/2D/Ov8U/+f+w/6e/n3+Z/5Y/lP+Vf5m/n3+nP7D/vD+Iv9U/4n/uf/q/xgAQgBsAJYAtwDeAAYBKwFSAXQBlQGwAcoB4AHuAfUB9QHwAdsBwwGjAXgBRAEFAcMAdwAsAN//mP9T/w//0P6Y/mr+Rv4z/h/+Gf4f/iv+P/5Z/nn+mv6+/uj+FP8+/2z/mf/G/+v/EwA3AFYAbwB/AIwAkACOAIIAcgBbAD4AHgD0/9P/q/+K/3D/V/9L/0T/VP9o/4b/sP/l/x4AWgCXAM4ABgEqAUIBUAFQAT4BJwEGAd0ArgCBAF0AOAAhAA8ADAALABcAKgA4AEsAVQBXAFAARAAuABAA8//V/7n/o/+V/4//oP+3/9b/AAAtAFcAfACbAKQAmgB8AEoAAgCs/0n/3v50/hH+wf2I/Wv9av2P/dD9Lv6o/jD/wf9NANMARQGfAdwB+gH4AdoBqgFqAScB3QClAH4AaABrAIcAuwD5AEIBjgHXARECNwJGAjsCGALcAYoBJwG8AEYA2P9p//j+lv46/ur9m/1W/RD9x/yD/EH8CvzX+7v7tfvQ+xD8dfwH/cH9ov6i/7IAyQHaAskDkgQfBWUFXgX+BE8EXQM6AvIAq/93/nf9xPxz/JH8Hf0Y/m7/DQHOApcEPgacB5cIEgkACVsIKAd2BWADDQGo/lH8Lvpq+CP3XPYj9nP2PPdn+MP5N/uh/N39zv5u/7D/k/8v/5f+7/1U/ef8wfz7/Kb9vv47AAUCBgQSBgEIsgn6CrsL2AtOCxIKOQjTBfgC1/+Y/GL5Vvam82rxuu+t7kTuee5T78DwqPL69Jv3ePpv/W8AagNHBgMJiwvYDesPwRFLE4oUfhUaFloWMRamFZ4UJBM2EcUO7gupCAcFIQET/ff47fQW8Zjtkeoh6GXmcuVP5QbmiufQ6cfsRvAw9E74f/yOAFcEqgdqCoYM7A2bDpUO8w3JDDkLZAluB34FtgMrAvEAFACY/27/k//m/0wAuQAJASQB/wCGALz/rv5e/er7Zfr3+Ln3x/Y49iH2jfZ59+X4u/rv/Fn/5wF1BOUGHAn+CoYMmw1ADnMOOA6TDZoMVQvKCRIIMgY/BD0CNwA9/lX8jvrn+HH3OPZD9ab0YvSE9Aj1+fVS9/b44Prl/Of+vAAuAhMDNwN6ArMA3f3y+RH1ju+86fTjvN6P2tnXGtef2KTcJuMN7AX3lAMvERsfoSzpOE5DLEsMUJdRq09rShFCFzcUKq0bmAyi/WnvgeJo12LOt8dpw1TBYsFIw8DGgMtA0cjX3t5t5kzubfa8/jMHuQ8oGFcgBijuLsc0Pjn5O8k8azvPN+8x7ykbIMwUiAjQ+z7vY+PE2ObPIcm4xL/CMMPnxZ3KCNG22D/hQepV8x78UgTDC0YSzxdLHLsfJiKrI0EkAiT1IhUhhR49G1EXzhLODXgI5AJC/cD3ePKp7Wvp3+Uc4yvhKeAJ4M/ga+LY5BHo/uuT8Mr1dfuBAdkHQw6VFJIaBSCsJE0otCquKyYrDyl0JWIgDxq3EqYKLgKp+XXx2+ku45TdS9lm1t3UwNTw1UfYotvW37nkJ+rx7/D1AvwHAs4HLg3xEeEVvhhbGmwapxgWFboPtQhgAD/37u0S5Xjd49ff1O3UWNgv3zLp3vV3BBAUrSNCMtA+bkhzTnFQRE4eSHA+3jFOI6MT1gPf9HPnL9xw02fN9snvyOzJe8wp0IDUNtn63cPijOdv7JzxQveQ/ZUEYAzIFIQdNiZiLnU12zoWPro+hDxaN1cv1iRbGIkKJfwD7uLge9VjzPvFecLewfTDZ8jCznbW/d7P53vwpfgFAIIGGgzSEM8ULxgVG48doR9EIVUiqSIWInUgjh1dGeoTUA3SBcX9l/W97bHm2OCR3DDavtk723veOeMW6ZvvUfbD/KACigdgCxgOuw+AEKQQahAPENQP4w9HEPQQ1xGvEk8TdBPbElwR2Q5YC+QGtQEO/D/2nvCE6znn9ePr4Sbhr+Fo4yjmw+n77ZvybvdJ/AgBjgXSCcYNXhGLFEoXeRn8GqEbKRt2GUUWaBG8ClECT/gV7T3heNWIylLBs7pat+S3k7yBxVjSjeJM9YYJMB4FMuxD2lL+XdhkImffZGVeRFQyRwU4lSevFgwGSvbN5+favc9exta+HLkttRqz+7LgtOy4Mr+8x3nSN9+k7UH9eg2cHd0sfTrHRRZO+FImVJBRZUsDQvE14iecGOQIfPkR6z/ecdP3yvbEa8FCwEjBQsTjyOzOHNYm3trmAPBa+bECyAtiFDkcCCOMKIMswi4pL7YtbCpqJQMfdBcoD44GB/4G9t3u2ugx5PngOd/m3t/f+OEG5dXoO+0F8hD3KvwzAQsGiAqEDtYRaRQQFrwWZBYPFcYSsQ8DDOoHtgOl///7/PjR9pj1WfUL9o73tflC/Pv+mAHqA7YF3AZOB/0G/QVkBE0C4v9O/bn6R/gZ9lP0BfNP8jbyyvIn9Df2/vht/FkAlATSCLgM3g/dEVES6BBZDYMHmv/x9Rnr2d8Z1dDL5cQrwUbBfcXIzenZN+nE+o0NZyA3MvdBxU72VzpdfF7cW71Vo0w/QTQ0KSanFyoJF/uj7QfhZdXoyq7B/LkRtC2wsK7Xr9Kzv7qNxPnQoN/h7wsBUhLVIskxcD45SLhOtlEpUUdNaUb1PH4xmSTcFs0I9Pqy7XPhktZOzfHFp8Chvfu8y74Qw6jJYtLn3NPolPWOAicPwhrKJLUsPzIuNXM1QjPQLo0o+yCMGLoP+Qah/vP2GfAo6i3lJeEY3gTc7trw2ivcrd6D4rvnPe7e9U3+KAf1DzgYWB/XJFsoiyldKNokRR8LGK0PxAbx/cr10u5p6cLl+uP845LleehS7MLwdvUs+q3+0QKUBugJzAw+DykRfhIpEwIT4hG5D3wMMwgJA0f9Qfdw8Vfsaugf5r3laech66vwlvdX/zgHeg5kFFAYpxkCGEwTtAu8ARb2remF3aHSCMp7xIzCgsROyqLT6d9f7if+Vw4eHq4sUTmaQ0dLLVBRUtVR907zSQpDgTqCMEAl3hiNC4L9++5i4BvSxsT2uEGvR6iKpGqkDKh1r1i6QMiN2Gvq9/xUD6QgJjBIPY5Huk65UqRTnFHkTM9FpTy5MU8luxdICWD6cOv+3JjP1cNQuo6zDLABsIyzjrqoxE/RyN8878P+gw20Gq8l/y1lM981ojX+MmIuWShpIf8ZeRIcCxEEb/0n90nx2uvi5o7iCt+c3ILb8tsa3gnisOfb7iz3LgBWCQoSuBnaHw4kCya5JS8jox59GDoRVwlWAbb50PLv7DvozuSk4rDh5eEy443l7ehP7aTy3fjR/0QH8A5uFkwdCiMzJ2YpWCnhJhEiIBtpEnkI9v2M8+PplOEg2+vWIdXH1b7Ytt1O5AjsXvTQ/NwEDQwAEmwW/xiBGd8XJBSBDkYH8v4F9gntsOSe3UTYF9Vs1FzW3trG4cHqavVMAdQNaRp1JmoxxjojQitHqEmMSc9GikHvOUkw3CQJGDoK3vt67Y/fo9I9x9a9z7aHsjKx6rKatw2//Mjx1G3i3vCz/08OOhz2KBk0Uz1bRARJKUu2SppH7kHJOVwv9iL7FPMFfvZK5w/ZisxJwuS6uLbitWG49r0/xqzQoNxc6TP2gwLCDX8XaR9pJW8pkCv1K9UqbCj2JKggqhskFicQ2AlQA7f8O/Yd8Jzq++WC4mHgvd+W4OPig+Yz66jwlfal/IIC8AenDIEQXRMhFccVWBXqE6ARqA4rC2IHcwOT//H7m/i49WHznPGE8C3wpPDx8R70Jvft+lj/LgQwCRQOgRIlFrIY6BmcGbcXSBRzD3MJowJi+x30Se1F53jiOt+x3frdHuD541np+e9v90v/GQdXDo0UUxkyHNQcIhsjF/8QEQnW/9/14euR4o7ab9Sq0IvPLtGG1V3caOU68ED84wiSFbchzixqNjE+3UNBR0dI8EZLQ4A9tjUYLOogeRQgB0n5YOvk3WbRXcZCvZG2qrK+seKzB7n5wF7Lutd/5RL02QI/Eb4e4SpGNaU9wUN7R7VIYEeMQ0c9tzQdKtAdRhANAsDz/+Vr2aTOJcZKwFK9P73nvwjFP8wJ1ereW+nU8+/9WQfQDyAXLh3uIVkleCdNKOcnVyaqI/gfWhvwFfAPiAnoAkv86fUC8MrqbuYb4+Pg3t8Q4G7h8+OC5/vrNvH/9hv9TgNUCdwOoRNlF+oZDBvGGiQZRBZcEq4NiQg4AwL+Jfna9Erxne7x7Fns5OyZ7mfxL/XH+fH+XgS6CaYOzhLlFakX/RfRFjIUShBUC6IFlP+E+cvzve6j6rTnGubk5QvneOkI7Yvxv/ZN/N4BKgfmC7wPXRKSEyoTBxE7DfcHigFl+vzyw+s85drf+Nva2aPZVNvi3izkC+tI85/8wAZLEdkb/yVVL3E36D1jQpdEWUShQYE8HTWyK5wgQhQgB7f5guwB4KfU0MrQwum8Qbn8tym5uLyVwp7KldQt4Ajttfq0CHwWgSM+LzI56EANRmtI6UeSRI0+JDbHK/YfRBNEBoD5du2Z4kHZptHxyzjIecadxozIJsw40Y7X7N4A54zvR/jZAAYJiBAfF6Mc8yD0I6QlGiZWJWgjeyCkHAQYyBIRDQ8H8wD0+kL1GvC/61joB+bv5AzlXObE6A/sDfBu9Oz4TP1OAcsEoAe3CRcLyAvkC4kL0QrKCX8I+gY1BTYDCwG7/nH8Yvq5+L33o/eG+ID6hv1mAdMFcwrZDpASQhWvFqUWFhUfEvwN8QhVA4H9yPd88tDt9ekd52vl9uS75annt+rE7pHz2PhS/rEDmAirDKIPJxH/EC4PwAviBvkAbvq382Ht2ud243ngCt813/HgFeSJ6Dvu9fSX/PwE3Q36Fgkgqih/MC83XDyyP/hAB0DRPGU36i+XJr8byw8uA2D22ukJ3lfTIcqpwje9/rkLuW66K74hxCPM99VN4cHt5vpCCE4VkSGZLPQ1RD1IQtRE1URWQnw9hDbCLZsjehjNDAUBhPWj6r/gHNjy0HbLz8cVxkvGZMhCzK7RZNgc4HjoIfHP+TMCDgosEWMXpBzYIOwj3yWzJmAm8SR/IhYf0hreFWAQggp7BIn+4vi780jvqevw6CvnU+Za5ibnj+h+6tTsee9k8nv1rfju+yz/TwJEBfYHQgoWDGINEQ4pDq4NrgxGC5UJ1AcwBs8E6AONA8cDkAS9BRsHZwhiCd0JtAnTCD0HEwV1AoP/aPxJ+Ur2i/MW8QfvhO2x7Kfsc+0l76rx6PTB+PH8NgFVBQQJEgxFDlcPIg+ZDbwKpgaQAcX7ofWZ7wfqPeWK4RzfEN5p3hrgGeNW57zsNvOj+toCpAu2FMYdfCZ+Lnk1FDsOPz1BdUGcP6k7rTXILSokIxkUDW8ArfNA55zbL9FNyDHBD7wMuTO4f7nrvF/Ct8nG0kzd+uh59WECRQ+0GzsnZzHXOThAR0TiRf9EsUE0PNg0ACwTIn0XnQzHAUb3Vu0t5Pjb4tQSz6jKx8d8xszGs8gdzOvQ9NYF3unlYu4w9xIAwQj7EH8YEB+CJLYomSshLVItOSzmKW8m8yGWHIAW8Q8oCVsCyfum9R7wTutD5wbkmOHz3xff/d6r3yPhVeM45sTp2+1f8i/3J/wjAfkFhQqrDkcSQxWNFxsZ8RkeGrsZ5hi4F0kWpRTEEpwQJw5KC/UHOAQuAP771Pfp82jwc+0t66HpyOic6BTpJerQ6xvu/PBm9E74kvz5AE0FVQnmDM4P2RH6EiITNRIhEOwMqgh/A7P9jPdb8XvrO+bX4YTebNyk2zPcGt5W4d7lqOuc8pD6PQNWDIcVah6kJuwt+TOeOMA7Tz1APYw7NzhGM8QsyySEGzkRNQbW+oDvkuRq2mrR18nqw9S/s72NvWK/J8OyyNPPUdjp4VPsOPdHAigNhRcRIXgpcTDFNUg56DqfOoo41DStL2IpKyJGGvgRbgncAHn4dPAD6U7igtzJ1zDUw9GQ0IzQrNHq0zHXb9uF4ETmkuxA8w/62ABuB5QNKxMdGFMcuR9YIiwkJiVOJaIkGiPCIJ8dvBktFQcQYQpaBCn+9ffu8UvsPef+4q3fWt0d3PPb1ty93pDhReW46cHuQfT/+c3/cwW+CoUPphMUF8oZ0Rs3HfkdJh7CHbscCxupGI8VxhFsDbAIvgPR/iP63PUd8gHviuy46pPpH+lY6UXq6+tH7knxxfSR+H38TADIA7gG8ghjCv0Ktgp3CUAHPwSYAIP8TPgw9GbwIu156nroNeev5uTm1+ea6Tvsze9X9Nb5LQAfB14OmhV0HJ4i4CcRLB4vAjHEMWQx5i9JLX8pjCSAHnQXmQ8uB4X+8fXM7WLm79+d2nXWetOr0ezQLdFq0pvUvtfT29Xgq+Yv7Tb0gPvNAtwJYhAtFiMbMh9aIp4kESbLJs4mECaLJC4i7R7DGroV/A+6CSkDl/w+9krw4uoe5gXil97a29TZjtgb2I3Y+dlv3ObfTuSO6XPvwvVB/LUC6QiuDuITdRhYHHwf2yFvIy0kCyT7IvkgBx4wGpIVURCZCqoEwP4M+cDz9+7L6krneeRq4jDh1uBp4fLid+Xi6ATtsPGm9pz7VgCmBHAIsQtpDq4QmRIpFFsVJxZ9Fj4WWBXWE8URSA+FDKMJzwYhBKoBdP9u/Z37+fl3+Cz3KPZ89UH1gvVA9mv35fiN+jj8uf3p/q///v/O/yD/7/0//CT6x/dH9cTybPBZ7p3sROtH6qrpael76fHp2epE7F7uP/Ht9Hb5xf6hBOEKSxGXF4cd8SKvJ5wrti7tMCwyfjLZMTIwli0CKn0lJSAWGnITYwwZBbz9c/Zf75boO+Jy3EXXz9I8z63MM8vryu3LM86w0UjWx9v24ZLoXu8t9sz8IQMrCeQOURRwGTQehiI+JispKSsSLMwrXSrYJ1QkCyAvG+kVbRDOCiIFjP8K+q/0qO8I6+zmfePZ4AzfEt7e3WDee98S4Rvjh+VC6FPru+508mj2dvp6/kUCrQWbCP4K2QxHDmIPSxAYEdwRlxIwE48ToBM/E2ISEBFVD1ENKQv+CO0GBwVSA8kBXAAA/6f9SPzd+mz5//ed9lz1T/SC8/7yzPL38n3zWvSN9Qz30PjE+sf81v7eAMwCmQQ7BrQH/QgSCv8KuwtBDJAMnQxoDPQLPwtQCiwJ3QdkBskEFgNHAVz/Tv0a+8z4UvaT84rwOO216TPm6+IV4OzdotxE3N3caN684LjjN+cd623vK/Rt+Ur/xQXZDFgUBRyOI50q7jA1NkU6FT2WPto+9j3vO804mDRaLxQp1SHDGQ0R/Qfk/gL2m+3o5f/e5dib0xjPT8s7yOnFb8Tpw3PEKsYbyTXNVtJK2NnexuXG7LTzf/oQAW8HpA2zE6IZVB+nJHYpiS2rMLsyozNfMwQyuC+ZLMkociSjH20a3RT8DtQIcALu+3f1Me9B6dHjAd/g2oPX7dQO0/jRs9Ex0oHTq9Wn2G/c5uDo5VDr9fCs9kj8sQHZBrMLOhBlFC0YixtnHqwgSCIuI1kjzyKiIeUfvh1WG8MYHhZ7E+EQSA6hC+MICgYHA93/nvxh+Tr2QPOP8DbuQuy16orpxehf6E3omehH6VXqyOuj7d7vY/Iu9TD4R/tf/mYBRATgBjgJTQscDacO8Q/6EMQRQxJvEkMSrRGcEBQPFw2iCr4HeQTcAO38s/g49J7vH+vr5iPj6t9w3cPb4trW2pDb89wF38nhROWF6Zzui/RB+6ACfQqJEn4aGCIHKRsvNzRNOFc7UT0+PiA++TzCOnI3DDOXLSInzh/LF08PmQbi/Vf1MO2Q5YTeMti10v/NNMpwx63FAsWCxR/HzMlzzefR8tZr3Bvi1OeD7RTzevi9/doCyAeBDPYQABWDGHcbyR1uH3Qg8yAJIc0gSyCRH58eah3gG/YZqBf8FAQS0w58CxsIwQR3ATr+AfvO95/0d/Fq7o7r+ujH5gjlxuMD47ji0+JI4wrkDuVW5urn0OkQ7LHutvET9bf4lvyRAJAEgwhYDP4PbhOmFpsZRRydHpQgFyIXI4gjXiOPIh8hEx9zHEoZqRWlEU8NsQjpAxT/Rvqj9U7xaO0I6kDnHOWc48HifeK+4n3js+RV5mHo2Oqv7dnwSPTc92773P7+AbwECQfZCCgK/ApfC1ML1grmCYAIqwZsBMsB4f7B+4H4OfUB8vPuQOwi6rzoNeiq6A/qUuxe7wjzIvd4+/f/mwRXCSUOBhPnF6QcFyH9JB8oVSqAK5MrqSrlKGYmWiPqHx4cBxi2EyQPYgqUBdQASfwg+Hj0bPEI70LtA+w468vqlOqE6pLqq+rQ6g3rYOvA6yvsoewS7Xjtye357QzuEu4T7h/uUe7C7oLvo/Ar8hD0TvbM+HL7OP4HAc4DhwY1CdELVA7BEAwTJRUIF5sYyRmEGsIahRrMGaEYFRc4FSAT2hBtDuQLPAl/BrID1ADx/Rf7Vfi49VHzKvFL777thuyh6xnr6OoN647rYOyA7erulPB88pX00/Yx+aX7Hf6LAO0CKwUzBwIJjwrGC6gMNA1pDVMNAA17DNALDgs7CloJdAiHB5gGsQXYBBcEegMNA9cC1AL9AkgDqAMFBEgEbgRwBEcE+gOIA+oCHgIjAfH/ff7N/Oz65vjH9pv0d/Jm8HnuwexH6xPqOOnD6LjoIekE6lnrIO1Q79Txn/Sf97769f04AXMEiwdtCgQNRQ8qEZ8SnhM3FGoUMRScE7YSeBHoDxMOBQzQCYgHQgUTAw4BO/+d/UH8JftE+qH5Nfn9+AH5Qvm6+W/6Xvt1/LD9Bf9bAKgB6AIEBPYEwQVVBrAG4wbtBsYGewYVBpAF9gRUBKgD+wJUArIBFQGBAP7/jv80/+3+vf6j/pX+kv6f/r7+7P4m/3D/xP8VAGEAngC/ALwAlwBMANr/Sf+h/uX9If1a/Iv7vPrx+Sr5bPjA9yr3s/Zk9j32OvZe9qj2Fver92f4RflF+mj7pfzv/Tv/egCiAa4CmANVBOIEOAVSBTIF1wRCBIADnQKbAYgAdP9l/mX9gPy7+x77s/qA+oX6yPpN+xb8If1n/uL/hAFBAwoF1QaXCEUK0QsuDU8OJQ+fD7YPbA/EDscNhAwDC1IJhAegBbADxgHk/wv+Rfyb+hL5tfeH9o/11vRf9CH0IvRg9M70aPUu9h73LfhW+Zr67/tJ/aT++f84AVwCZQNJBPsEfQXMBeoF3AWcBSkFiQS/A9ICywG1AJ//mP6p/dT8HvyL+xv7xPp/+kz6MPoo+jv6cPrL+kz78vu3/JX9gf5m/zYA9gCmAUYC3AJrA/wDkQQfBZ8FDwZrBqwGzgbXBs0GsQaHBloGLgYABs4FmgVYBQYFoAQmBJ4DDgN2At8BUwHLAD8AtP8k/4j+1v0T/Uf8d/uv+gD6bvn4+KH4bfhU+FL4aPiR+NH4MPmq+Uj6DPvt++j89/0H/w0AEQEKAu0CwQOFBDEFwQUwBnQGhwZfBvwFZgWjBLkDuAKxAasAq/+x/rz90vzz+xr7VPqs+Sb5zfit+MT4EPmT+T76CPvt++T86f32/gcAHgE3AkcDRgQwBfwFpQYuB44HvQfFB6oHbAcUB6MGGgZ/BdgEJARlA58CzAHtAAYAHP8s/kH9Zfyc+/D6ZvoB+sX5tfnO+Q/6c/ry+oz7P/z//Mf9kP5O/wEAqwA+Ab4BOgKrAgsDYwOuA+YDDQQeBBEE7QOxA1oD7wJ9AgMCggH+AHoA9f9m/8/+N/6j/Q79e/zv+3H7Avui+lL6HPoC+gD6G/pU+qf6Evua+0H8AP3N/ab+jP96AG0BYwJWAz0EFAXXBXoG8gZCB3AHdwdfBzEH6gaOBiAGlwXyBDcEZAN8Ao4BnQCs/8v+/v1C/Z78DPyJ+xv7wfp5+k/6RfpM+mz6rvoG+3b7//uW/DP91v17/hr/tf9JANMATQG0ARACZAKsAuoCGQMwAzQDKgMPA+ACpQJoAiYC6AGxAYABUwEoAQAB1gCmAHYASAAZAO3/wv+Y/27/Qf8S/+D+sP6B/k/+Iv4A/un93v3m/QP+K/5f/p7+4P4q/3//1v8tAIwA7ABFAZsB6wEtAmECigKiAq4CswKyAq8CpwKbAogCZgIqAtYBbAHrAFYAuP8Z/3/+7v1o/fP8jPwu/Nr7kPtQ+yP7DfsR+zX7gPvx+4P8Mf3x/bz+jP9YACEB4AGUAjoD0wNcBMwEJQVlBYkFiAVbBQYFkQT8A0sDgQKrAc8A7/8P/zX+av2w/Av8f/sO+8H6lvqH+pT6wPoG+2D7yvtJ/Nz8gP0u/uP+of9hABwB0AF6AhQDmgMKBGwEvwT6BB4FKwUdBfQEsgRYBOYDZQPaAkkCswEcAYkA/f92//r+hv4e/sn9iv1a/Tr9L/0y/UX9Zv2P/b798P0j/lX+iP64/uH+Cf8o/0L/Xv95/5n/u//Y//L/BgAYACcAOABIAFYAaQB/AJgAtwDYAPwAGgEyAUgBVQFXAVIBTAFFATIBHQEGAeMAvQCXAGcALADx/7v/hv9Z/zX/Ff8A/+7+2/7U/tT+2v7s/gr/K/9R/4X/vf/4/zkAeQC8AP8AOwF7Ab4B/AE1AmkClQKyAr8CtAKPAlMC+QGBAfMAVACw/wX/W/66/SH9kfwN/Jn7NPvh+qr6kPqZ+sv6Ivud+zn88Py6/Y7+Zf83AAMBxwF8AiADtwNBBLUEEAVQBWkFWAUgBcYERwSiA+MCEAIzAVEAav+B/qf94vwv/JL7E/u5+of6fPqY+t36Q/vE+2D8Ef3T/ab+ff9QACMB7gGtAlsD7gNhBLYE7gQFBfkE0ASLBC8EwANEA8ICOQKsASkBrwA4AM3/df8p/+n+tP6G/mL+S/5C/j/+Qf5U/m/+jv6v/s3+4/7x/vr+/f74/vH+6f7j/uT+5f7u/gT/Hv85/1r/ff+i/8n/8P8YAEYAbACIAKcAwgDYAOkA8QDxAO0A5gDXAMgAuwCyALEAsACyALcAugC3AK4AqACdAI0AgABxAGQAUwA+ACcACwDu/8//tP+X/3v/Z/9X/0//U/9j/33/nf/G//D/HABLAHQAkwCoALMAtACwAKMAigBqAEIADQDS/47/QP/5/r7+i/5n/lf+Vv5i/nr+mf66/uD+DP8//3v/vP8JAFsAqwD5AEABggG8AecBCgInAj0CRAJAAjUCHQL7AdEBnQFlASgB5QCkAGUAIwDl/6f/av8x//n+vv6G/lD+Gv7o/b/9n/2J/Xr9cP1t/XD9fv2a/br95P0d/l3+pP76/lb/rv8LAGcAugANAVsBogHpASwCaQKcAsUC5QL3Av4C8ALPAqQCZwIgAtMBgQExAd4AjgA/APL/qP9d/xn/2P6Y/mT+N/4Y/gX+/f0E/hH+Iv44/k/+bP6M/qr+zv7y/hP/Of9e/37/n//F/+z/EgA5AGIAiQCwANEA7AAFARgBKQE3AUQBUQFVAVIBSwE/ASgBBAHZAKcAcgBAAA8A4v+x/4b/Zf9I/zH/HP8M/wL/9/7x/vT+/v4P/yf/Qv9j/4v/s//a/wIAKwBMAGsAiwCgALEAvAC8ALYAqACXAIUAcQBgAEsANQAgAA4A/v/o/9P/v/+p/5f/h/98/3b/dv91/3T/eP96/4L/i/+Q/5f/of+v/7//0f/h//D/AAAMABsAMgBFAFQAZABvAHUAfQCCAIAAfAB5AHkAeQB8AIQAiwCFAHoAdQBoAFYARQAzAB4ACADz/9r/vf+h/4j/cv9d/1L/Tv9K/0n/Tf9W/1z/Y/9q/3X/g/+U/6//yf/h//r/EQAuAEwAaQCJAKgAxADeAPgADgEcASMBIAEUAQsBAgH2AOkA1gC5AJQAZwA2AAUA1/+k/3T/Tv8i//z+3f69/qX+k/6G/oL+jP6f/rz+6f4Z/0//if/C//3/NABoAJoAxADoAAgBIQEtATcBOwExAR8BCQHnAMAAmABoADcACADW/6r/iP9s/1v/Uv9M/0v/Uv9b/2T/dP+D/47/nP+q/7n/yv/i//v/EQArAEUAWABlAHEAfgCDAIIAgAB+AH4AfwB8AHUAbQBjAFkAUwBSAFAARwA+ADgALgAjABcACAD0/9z/x/+z/6D/kf9+/2v/Wv9E/zD/H/8L//b+5f7a/tT+0P7U/tz+6P74/hP/NP9X/37/o//M//z/LQBmAKUA5QAkAV4BjQGqAcEB0gHVAdMBzgG+AacBiwFoATwBCQHOAIoAQwD+/7v/gf9L/xr/7P67/on+W/4z/hf+Df4U/ib+Rv5u/pn+xv70/iH/T/+E/77/8/8lAFUAewCbALoA0gDmAPcAAQEDAQAB/AD4APQA6QDTALoAoQCLAHsAawBQADEAEQDw/9P/wv++/8f/1f/e/+D/3v/U/8X/t/+r/6b/rf+5/8r/3f/t//f/9//r/9z/yv+4/7L/uf/L/93/6P/r/+b/1//I/8j/0v/h//P/BQAVABwAGgATAAcA9v/f/87/wv+5/7D/pf+X/4P/cP9p/3f/mP/D//P/GQA6AF4AggC0AOcAEAEvAUIBRwE/ATYBJQEGAeUAwACaAHkAWwA7ABUA7P+9/4z/ZP9J/z3/O/9A/0T/O/8j/wX/5v7S/tj+9P4e/0r/av97/3//fP94/33/iv+f/8L/7P8VADcASgBKADsALQAvAEkAfQDBAAQBOAFRAVcBVAFPAU0BTAFKAUIBMQEcAQUB6ADDAJkAagA8ABUA9//W/6b/Yf8O/8P+lv6Q/qj+wv7F/qj+bv4r/gH+Av4u/nz+2/41/4D/sv/B/7X/mf+A/4T/uP8bAJsAEwFbAWUBNgHoAKIAfACGAL4AFAFpAaABogFmAfgAegAQANn/4f8aAGAAjwCMAE0A5P9v/w7/2v7l/if/gf/S//3/7P+q/1X/DP/q/gP/Uv/C/zYAkQC5AKEATwDm/47/cP+j/xIAhADEALgAZADr/33/Q/9M/4//7f9KAI8ApQCIAEAA5f+T/2f/b/+p/wIAYAChALQAlABNAP7/yv/N/wUAWACcAK0AgAApAMb/dP9M/1b/h//M/w4APQBKACsA4v+F/zL/Df8z/5v/IgCXAMcAogBDANf/h/9t/4T/tP/1/0UAnQDoAAUB2gBkAM3/Wf9B/43/HACvAAEB9ACeACsAv/94/13/Xv93/67//f9QAIsAjABNAO//lf9j/2v/nv/X//z/BwAHAAoAIgBKAGQAXQA6AA0A6v/f/+v//f8JAAkABQAHAAcA+v/b/7D/if99/5r/1v8WAEwAZgBaACwA4f+C/zD/Df8y/6H/NACsAM0AiQAAAHT/Lf9Q/8v/ZADlACoBKQH1AKUARwDp/6b/mv/V/1MA7QBbAWIB7QAbAD//rf6Z/gX/v/90AOkAAwHFAE8Axf8+/9f+rv7Q/j//3f9wAMAArAA5AKD/I//t/gj/Zf/b/0IAjACxAK0AggBBAAAA4P/2/z0AmQDbANkAigARAJv/T/88/1H/dv+f/8X/6f8AAAAA1/+G/y3/+f4O/23/9f9uAK8ArgB6ADcABgDu/+L/3P/Y/9v/7/8SADAAPQA3ABoA///4/wwAPQB3AJoAkABXAPz/pP92/37/t/8KAF0AogDbAAMBBwHLAEcAmv/0/pD+of4b/8D/TwCjALgAswC6AMAAnQAxAHn/sf5I/oP+ZP+gALwBQQIFAisBCQAC/1v+HP4v/of+J/8LAAoB0QH/AVMB6f89/v78qvxX/a7+EAD9AE0BIQHBAGUAHADX/4n/Rv86/4H/CwCeAPgA8wCnAF4AXACyACQBTwHyACMAP/+0/sf+Y/8sAMoADgH6ALcAZgACAHz/4f5n/lT+2f7W/94AgAGAAe0AGgBy/yT/JP9G/2r/jP/K/y8ApAD4APsAnQAKAIv/Tf9S/3z/nv+f/43/lP/Q/ysAeACHAEQAzf9d/yD/Jv9q/9L/QgCvAAgBNAEfAcMARADo/+D/LAClAAYBCgGqABAAdP8B/8/+0v4B/23/GADoAKQB9gGcAaIAXP86/pb9kP0O/tv+0P/UAMcBcwKXAvwBqQD6/n39yPws/Y/+hgB+AuUDbwQNBNgCEQEY/1X9NvwO/Pv8yP7rAK4CgQMtA9sBEwB4/nj9Pf2k/V7+H/++/y4AeACgAJsAaQAmAPL/6f8QAD4ANADQ/y//qf6f/j//ZACnAX4ChwK1AU8A0f63/Vr93P0Q/5gACQLqAvACGAKYAOD+gf3w/FX9j/4vAKgBlQLKAkUCQAEWABj/fv5s/uP+vf+2AHMBpwE+AVgASP9n/uf91/0n/rL+X/8fANQAVgGIAVcB0gAsAJz/Qf8f/yb/Tv+f/x8A0ACDAfwBDwKtAfAADgA9/6j+Vf5E/nn+6/6P/0oA7ABFAUQB+ACIABoAxP+A/0f/Jf8x/4T/HQDhAIwB4wG/ARgBGgAO/zD+u/3N/WL+X/+RAK8BYwJyAsoBjQAT/8f9C/0m/Rf+l/8wAWgC4AJ3AlsB8P+j/tf9vv1P/lH/cgBfAcoBlAHUAM3/1/5L/lv+BP8BAPAAiwG9AYwBGAGNAAAAev8U/+P+7v4s/3r/vf/w/xkATwCWAOEACQHiAFsAmv/Z/lz+Uv69/nz/YwBCAeUBHALQAQEB1/+a/qr9VP28/db+VADMAdYCIQOWAlUBuP81/jn9CP2q/eT+XACvAYICpQIWAv8Aq/92/rf9nv0w/j//eAB2AeQBpwHRAKX/gf67/Y/9Cf4D/zYAPQHHAbIBDgEYAC3/pv6q/i3/BQDsAKIB/gHsAXgBwgD1/0D/1v7T/jP/3/+nAE0BoAGBAfYALgBd/7D+S/47/nb+6/6H/ywAvwAeASYBywAeAFT/qf5W/nP+9f63/5IAVwHVAfABnwHyABgATP/C/pz+2P5Y/+z/ZwCvAMEAqwB5ADQA6P+m/4H/ev+S/8r/DQBDAGQAbgBcADUAAAC7/3H/Of8d/y//dv/b/0MAiwCWAF8A9v90///+w/7U/jb/3P+kAGAB3QHwAYoBvQC6/8j+L/4i/qP+jv+dAIYBCAL/AWkBeABy/6L+SP5//i//IwASAbEB2AGMAe4ANwCa/zD/Ev85/5D/9P9JAH8AjABtAC4A3f+M/1L/N/9G/3r/wf8CADUASgA+ACgAEwABAO//1//A/7X/wP/2/1AAugAQATQBKAHuAJYAMwDD/0X/0v54/lD+ef7y/qL/dABGAeoBMwLzAR4B3f+B/nD9BP1p/Yv+GwCyAekCcAMsAzACtgAc/7z98fzy/LL97f48ADYBlwFeAbkA9v9g/yn/Wv/K/0gAqQDGAIkADwCC/w//4P4N/5n/ZAAyAcIB5AF8AZsAhv+V/hX+Jv6+/qr/ogBpAdwB6wGWAesACQAT/z/+xP28/Sb+4/7J/60AbwHpARAC3AFNAW0AZ/92/tL9qP0J/uP+//8jARcCqgLCAkwCVQEQAMb+vf02/VH9/v0R/0MARQHtARgCvQHlAL//iv6W/TT9if2E/uH/RwFdAuwC0gIhAgQBtP90/o/9Q/2e/ZP+4/82AUcC4QLkAl4CdQFQACT/KP6j/br9Xv5r/5AAfwECAgICjgHSAPb/D/9Y/vL9+v17/lb/UgAeAYQBaQHiACgAbv/a/o3+iv7M/kn/6P+OABMBTgExAcwAOwCt/zb/7P7l/hT/cv/1/4QA/AA4ASgBzAA2AJT/Ev/W/uv+TP/h/3kA+QA+ATUB4QBRAKb/Av+X/of+3v6H/1UAFQGFAYQBHgF4AMj/R/8S/yv/ff/r/08AkQCfAHsANADm/7X/tv/v/0EAggCKAFEA5/9d//X+0f79/nv/MADxAIsB0QGjAQ4BMwBA/2/+BP4L/oD+Q/8UAMEAHgEcAcEAKQCN/wn/v/7C/vX+Uf/E/0MAwQAgAVIBRQHwAGEAv/8v/9z+3f4u/8P/gAArAZwBqwFQAZ0Azv8e/8z+8P5s/xgAtQAUAQcBiAC0/8z+Df65/ej9lP6P/5EAVwGfAV4BrwC6/73+/v2k/cv9b/51/5sApwFYAoYCLQJhAVgAS/94/gD+DP6X/oj/oQClAV0CmQJXAqwBxADJ//j+cf4//m/+9v6x/4MANwGqAbsBVgGeAKz/xv4V/rr93f1v/l3/egCJAUICbQL8AQYBzv+d/r/9bv22/Xv+mP/QANcBewKSAhACEAHG/4D+l/1A/Yv9a/6n//gACgKjAqQCHgI3AR4AGf9Z/gH+Hf6l/mT/KAC9AAgBFQHtALQAeAAjALr/Rf/I/mr+UP6E/gT/uP93AC4BrgHOAW8BkwB0/1f+nf2E/RT+If9ZAGYBGQJQAgsCYgF+AIj/sP47/jH+lP5O/xoA1QBZAaUBuQGTAT0BrgAAAFH/0f6U/qD+7/5i/+L/TQChAMYAxgCgAF0AGwDh/7D/kv+D/4j/mP+1/+n/IQBYAHkAeQBWAB8A3f+o/4X/fP+T/8D/9/8vAFsAbABrAEkAHwDy/8f/pf+S/5D/oP++/9//AQAVACgAOABSAHIAigCQAHYAOADi/4r/OP8G//L+Bf86/37/z/8dAGUApADSAN4AyACEABQAh//z/oT+S/5q/t7+lf9zAEwB8wE8AgICVQFSAB//CP5Q/Sv9n/2V/tX/FAEOAo8CgALnAfUA1f/J/gb+uP3v/Yf+Y/89AOoATQFfATEB0gBWAM3/UP/7/t/+Bv9y/wEAiwDvABkBBAHEAG4AFQDT/6D/iP+L/6X/0v/+/yAAMAA0ADAAMwBCAFAAYABdAEAABAC7/27/M/8j/0X/oP8WAKAABgEnAfsAggDl/0b/z/6a/rL+Cf+H/xUAjQDWAOUAuABhAPv/pP9+/4r/yP8gAHcArgDBAKIAVADv/3//KP8K/y//pf9bABwBxQEdAgcCggGVAHj/Xf6K/Sr9Vv0M/hf/RQBHAeEB7wFvAXgARf8f/kj99Pw+/Rz+U/+5AAIC8QJeAzcDhQJvATEACf8s/sX9+v2q/r3/8wATAtcCFAO8At0BrABe/zf+a/0r/XP9J/4e/ygAAAGCAZ8BWwHWACwAiP8I/8T+vv4E/4X/DwCmAC8BjAG7Ab4BggERAY8A+/92/xb/6P7r/gn/P/9s/3r/dv9J/wL/tP5k/jD+Ef4Y/kD+g/7W/jv/nP/y/0QAdwCdALMAvwC4AJkAcwA2APj/xf+f/5n/rP/I/+j//v/6/+D/qf9c//7+nP5X/jX+VP6w/kL/+P+sAEMBnwHGAa0BagEXAcMAggBdAFoAcQCSAKwAsACgAHYAQgAbAPX/3P/R/83/zP/F/8f/0P/n/xQAYQDRAGMBCgK/AnADCwSSBAEFWwW2BRcGhgYAB2YHuQfpB+oHvwdtBwIHgQYCBo4FJgXMBHUEFwSxAyMDTgIMASr/cPy3+PHzOe7V5zfh8NqX1brRvs/Wz+jRmdVr2sHfDeXx6U/uR/I59pz68v+WBpUOwBeAIRcrtzOTOhY/9EA9QC09aDijMoUslSYoIVQc2xd3E6oOIQmyAk77NPPZ6tXitdsD1hTSCNDZz0DR69Nx12Tbfd+J42DnEOu17mvyUPZ0+uT+gAMqCLoM9hClFL8XGhqkG3wckxwIHLwathgMFtYSTg+pCyoI8QQ2AgYATf7s/L/7b/rG+KH2FPRC8W3u/etI6qnpKurB6z7uXPGn9LX3T/pQ/LT9s/6R/4MA1gGqAwgGugiUC0MOehATEt8S9hJtEn4RWxAzDycOLg0/DE8LTQomCeoHsgaFBX4EnAPvAmgC2gFAAW4AWP/p/TH8FfqH93j0q/AN7Hrm/N/N2FvRUMpqxGXA0r4HwALEXsqX0u3bl+UB78X34P+VBzwPSBcNIJcprDO8PSlHHk/YVN5X7VcOVaNPKkhCP501qyvZIT0Y7A7PBbj8ofN+6nPhsdiU0G3JpcOAvyC9mbzWvazA8MRlysXQ7teU35Tns++/95H/9gbXDfMTSRndHZohnSTyJqUowClEKhoqISlNJ2AkOiDhGnYURw2pBR7+BvfN8Lvr4uc55YrjduKi4dTg5N/f3gje0d2i3tXgl+Te6WHwkffe/qAFXwvhDwkTEhVNFiMX8RfcGO0Z9xrAG/0bbRvgGWIXIRRPEFUMiAgqBUMC5//2/UX8rfoK+W/31/V49H3zB/Mp89fzAvV69hb4qfkj+4f82v0+/8IAbwI6BOsFMAe8B0MHhgWGAlP+HPk08+Xst+Ye4WbczdiU1r/VI9au1yTaRt0D4T3l0eng7nz0t/qjATMJPRF1GYgh9ihuL5E0MjhAOsg6CTowOIU1MDJRLvkpDiWFH2MZmRJQC58DuPvo82/smOWT36na6dZh1PDSd9Le0gDUy9Uz2DPb0N4U4+vnXu1C82T5if9xBekKyw8SFLEXuxpHHV0f9SAAInIiLiIcIRIfJxx5GCYUdg+HCpUFxgA0/PL3BfSA8F/tp+pQ6GPm9eQV5NrjVOSa5aTndOoB7i7yyvaF+xoAUQT3B+4KPQ39Dl8QhhGlEuATIRVlFmsXARj2FxQXWxXfEr0PKAx0CN4EqQH6/tX8JvvR+bL4k/dn9hj1qPMm8sDwqu8K7wLvlO+m8A3ym/P59O71Uvbt9bT0wfId8Art3Onj5nTksuLE4avhZOLm4+flK+ib6intzO+t8gz2BPrZ/osE/goREmwZoCA4J98sTjFuNEY2DTfzNjQ2/DRWM0IxnC5CK/QmuyGEG3sU2gzxBDP9y/US7xnp9uOJ37Xbeti91aTTPdKw0SzSvdNq1iva6d5r5F/qefCA9lD8uwG+BmMLpg+qE2sX2BrtHYogjSLOIx0kWCONIcQeFxvBFvMR8gz2BzADtf6e+ur2hfNd8Fzti+r659XlLuQ24wrjr+Mq5WfnV+rL7aHxqvXR+ez92gF/BbYIeQuwDVUPehBBEcURJRJ+Et4SNBNZEyMTVhLLEHAOWAu7B9oDEgC//CP6VvhN9+n2uvZ/9gP2BPWq8ybyvvDO75vvUvD/8Xb0bPdy+hf97/63/2z/Cf7C++X4u/WY8s3vie3l6+fqcOpT6nDqpurw6kvryOua7PLtCPDv8s32lPsVARMHQw1ME/EYBx5XIuYlwigIK7wsAi7WLjIv+S4JLkEsiynoJUch7xsBFsEPbQlEA3/9Ifg2877uq+ri5mbjQuCX3YzbRNrj2YbaI9yb3sLhYOU26Q3t2fCV9FL4Kfw4AI4EFAmnDQkS+BUsGXgbyBwOHW4cIRtUGUIXBxW0EkMQqA3TCqwHNQR8AJb8sPj99Jrxu+507M3q0Olv6aTpZ+qq60DtH+888XDzuPX/90H6hvzJ/hMBXwOnBdgH3gmZC/kM4A1EDi8OpQ28DJoLdwpVCTkIMwc0BisF/gOnAh8Bbv+x/f77hfpx+dj4xPgd+cT5fvoW+0n77Pr/+W34S/bE8wbxPO6r63fpvueQ5s/lbuVd5X/lzuVM5gHnEuij6czrpe5Q8rn2zPtZAS8HIA3uEnwYlR0xIk0m2ynaLEYvIjFaMtcyjDJsMW8vkyzwKJAkjR8fGlsUbg52CJQC4/xl9yTyE+1U6OLj1d9f3JfZq9em1o7Watci2YLbZ96g4Q3lqehv7Hzw7vTL+Qn/jQQMCkkP9RPOF7galhyPHdQdjh35HDMcOhv4GU8YGxY1E6UPhgsMB3IC9/3Y+UD2RPPU8OHuV+0r7Evrxuqk6vnq1esj7dHuxPDi8gr1LvdI+Vb7Y/1v/3kBjgOVBWYH7AgfCuIKPwtOCxwL2AqUClwKLgoBCq4JJAlGCBAHjQXSAx8CiwBA/0X+nv01/dn8YPyY+2n6yfjE9mz09PF97x7t+OoV6X3nJeYZ5VLkyuOX46vjKOQY5XrmS+iM6kjtefAq9FT48fz9AVsH6QyAEvMXFh2/IdslYilPLJ8uVjB0MeAxkTF8MIIuqSv9J4wjjR4qGZgTBg6OCDQDCP70+PfzGu9e6uTl1OFc3qfb0dnj2OnYx9lP22Td6N+34s3lIum+7K/w8vSE+UH+GQPOBzcMKBB8EzAWOBipGZYaBRsAG5wa1xmjGPEWxBQaEusOWwuHB4kDnP/z+6T40vWO89PxkPC07yLvte5y7kjuRO6E7iPvQ/Dp8RX0sfaM+Wf8C/9UASkDfwRuBRwGvAZvB0oIPQk6ChoLmwumCyYLKgrXCGMH/gXbBBQEngNlAyoDwAL4AbYA//7r/Jb6LPjO9YHzUfEu7w3t2OqU6E/mJeRR4ungEuDc30HgNuGi4m7khub86NbrKe8S85P3p/woAvMH0A2CE+EY0B05IhYmcClFLJAuVzCHMQgyzjHJMN4uJCyxKJYkBiAhGwYW2xCtC3MGOgEG/NP2vPHX7EXoL+S64ATeEdze2lzae9oW2xrck91p37Phe+TF55Pr0O9n9Cb53f1qAqoGdwraDckQWBOLFWQX5Rj9GZ4asBosGggZWRcxFaoS4A/0DPMJ7wYGBD0Bnf4Z/Mr5rve79QD0evIs8R7wZO8G7w/vlO948MHxWPMf9fb2s/hd+tv7P/2S/uT/SwHJAlIEyQUDB+8HhQi5CJkISQj5B8UHtwfbByUIYAh0CDoIlQd8Bv8EPANLAUP/Kv0D+674IvZG8xrwq+wo6bjlkeLu39rda9yI2zPbU9vf29bcRt5T4Avji+bl6gPwyPUC/HAC7QhDD10VGBuOILYlgCr3LvcyXTb/OMI6iDtEO/I5qzeNNLwwYSybJ3kiCB1MFz8R6gpQBJX95fZc8C3qjOSV31Xb39ce1f7Se9GL0CnQX9BK0ePSRdVs2D3cveCv5fPqY/Dc9Tv7dwCNBW4KJw+cE78XeBupHiwh6CLfIw8keSM6InYgNh6XG6oYehUVEn0OzAoFB0gDov8h/N/42fUq88Hwq+717KPrxepW6l/q1eqr69PsOO7H72/xOPMf9Rb3K/lV+4j9tf/NAcUDigUTB3IIsAm+CqoLbgz8DEUNTA0KDXYMoQuXCmMJDwigBgEFKAMAAXb+fvsj+Ir00/A67d7p7eZ+5IXi8+Cz36Pevd0Q3b/c7tzL3YHfGeKc5dPpl+6z8/X4M/5YA3MIkA3NEh8YiR3mIvgnhSxRMDQzFDUBNhY2ejVLNLEysTA0LjcrnydkI44eMRmCE5YNrgfkAU38BPf78TrtvuiU5MrgeN2t2n/Y/tYn1vfVYtZQ17XYkdrZ3ILfjOLi5X/pXO1b8Wf1bPlg/S0BxwQcCCEL3w1iEIwSZhT3FTEXIxi+GAMZ8BiVGO8XChf0FagUMROMEbQPow1dC+wIYgbYA2sBK/8r/WP70fll+A73u/Vs9D3zOfJ48RrxGvF28SLy9/Lc86n0WvXw9X/2G/fd99r4E/qC+wT9j/72/xsB/gGbAvoCKQMxAxADywJFAmoBOQCp/r78m/pW+A724vPi8QnwV+7K7FjrE+oG6VLoBuhC6Brpj+qZ7CDvGPJf9ef4ovyOAKcE6ghMDa4R/hUbGuQdQyEzJKwmtShVKo8rWyyvLHkspys5KjAolyWJIh8faBtwF0UT3g5ECn4FkQCd+7f2CPKs7b3pQeY447Dgmd7m3Jvbv9pT2mba/doa3KndpN/04YrkTuc76k/ti/Dw81z32PpO/qgB3ATZB5YKDg1PD0ER+RJ0FKgVmBZHF7EX1he8F2QXzxb4Fd8UfBPYEQAQBA4ADAkKIAhYBqwEEQOGAez/SP6m/Aj7ffke+PD28PUk9XX02fM/86vyFvKC8SPx6/D18ELxzPGb8oPzhvSH9Xj2Wfcl+Or4nflI+un6ePve+xL8CPyw+xv7RPo++Sf4FPce9j/1f/Tf813z8fKh8n/yjvLf8nzzc/TA9W/3bvmx+zP+4AC3A6QGpgmyDLMPmxJwFRIYfBquHJseQSCdIagiWiPDI8EjYCOUImMh1h/uHbUbKxljFlITDBCYDP8IUwWbAe/9UvrF9l/zGPD77Bfqeuc65VTj4OHg4EzgFOAo4IbgJ+EH4irjneRu5proEOu97YfwXvMm9tf4avvx/XMA9wKLBRwIogoKDUMPPhH0EmYUmRWUFlQX5hdKGGwYPxjKF/8W7BWmFDAToBEBEFMOkAy1CrIIiQZHBO0BmP9T/TL7RvmC9+f1cPQK867xZvBB70zum+1D7UTti+0h7ubuwu+s8JHxe/Jd80X0NfUd9vf2pPcn+GL4SPjv91v3pfbf9ST1gfT284vzIfO+8m3yMvIu8mPy7PLV8xj1rvaL+Kv69fxu/wgCxwS0B70K1g3nEOwTwRZYGbIbxR2hHzwhmSK5I4okAyURJbIk4yOuIh8hRB8zHeYaaBiuFbASbg/wC0kIgAS+ABj9l/lJ9h/zHPA37VzqmOcL5bvixOBI303e2N3K3RDel95Q3zDgPuGK4ivkLuaP6ErrNe488UH0Lff2+af8Yv8mAgUFBAgFC/UNshAdEysV2xY/GGUZbxpnG0Ec8xxlHXQdDh0sHNEaHRk2Fy4VJRMlERoP/wy0CjQIggWvAtT/D/2M+kn4R/aE9N/yTfHJ703u8ezJ6+nqVuoe6jjqjuoF64vrG+yj7D7t6u2/7rDvsPC88afybPPt8y/0PfQi9Pzz1/PR8+jzGPRV9JH0wfTu9Cj1fvUY9vH2HPiZ+WP7X/18/7AB8wNTBs4IZwscDu4QxROKFi4Zmhu/HZgfIiFrIm0jKiSeJLokcCS9I5wiEiE1HwcdqhoiGHUVpRKtD4oMOwnBBTACov4n+9X3tvTT8SHvluwn6tXnoeWV48fhWOBZ38zett4J37Lfl+Cu4eLiReTh5crnBeqH7FnvTPJO9UP4HPvR/WMA9QKLBSUIxwpoDecPOBI9FOsVRxdeGEkZDBq7Gk0bpRu6G3EbrRp/GfIXKRZCFFMScxCYDrMMqgp8CBcGgAPPACf+pPtW+Uv3dfXM80TywPBC79jtjOx867rqUeo/6njq3upZ69/rX+zj7HHtFu7f7sPvtvCa8Vzy3PIV8wvzzfJ+8jnyGfIq8m7yzvI+86fzAvRi9Nf0g/WE9vT3wvnw+2X+/AChA0EG1ghlCwcOtRCAE14WMBneG0QeVSD3ITMjICTBJCglViVEJdokDyTXIiMhEB+sHBMaWxeZFMcR4A7dC6YIOAWgAfT9TPrN9oPzf/DC7TLryuh+5krkVeKt4Gzfsd593s/ed99y4J/h7OJd5Pvl3ecI6pHsXe9X8mj1afg9++L9SwCdAuUEKgeNCfMLQA5kEEQS0xMLFfsVxRZ4FysY1BhmGcMZyBlYGXMYIxd3FZ0TsRG+D80N3AvNCZ8HQQXCAiUAhv0E+7X4p/bC9Anzc/Hw73juEO3L68fq/+mI6W/pnOkA6o/qOuv167nsle2H7pLvu/Dw8THzVPRL9QL2dvas9q72kvZz9nP2ifa/9v/2RveA97T38fdV+Pb44vky+9P8zf78AEcDpAUBCFcKqAwBD3QR9hN6FvMYOBsuHcce5h+cIAghKiEdId8gZSCeH3ce3hzGGlUYkxWiEq0PuAzlCRwHWASJAZr+nPuG+Hv1mPL376ftrOv96YvoRecc5hflVOTT47jjIeT+5E3m+efq6frrJe5p8L3yQ/X198/6w/3AAKoDWwbRCPQK1gyIDgwQdBHAEvAT7BSmFRUWJxbnFW0VtxTkE/sSAhL2ELYPUQ67DPcKBAn/BvQE6QLvAPv+DP0d+zj5W/eK9c/zNfLG8IPvY+5n7ZPs3+tO69/qjOpS6iPq9enO6bzpx+kQ6rrqy+tB7QTv4fCO8uTzzvRb9c71bPZv9+v41/oG/Rz/zgDjAUwCMwLlAbwBDQILA7AE0AYSCRcLmwyMDQcOXA74Dg4QxREOFI0W0BiCGmcbeRsDG1MauBlnGWMZexleGbwYXBcsFU0SDA/BC68ICQa/A7UBov8w/Vb6Bvdz8/Xv5ux96tfo6Od35zfn4+Zw5ublfuVn5fLlKecC6WrrC+6y8DLzfPWc96355vti/hoBDwQTB/gJjwy9DoIQ8REtE0cUUxVQFjIX0xcZGPoXexemFpAVaRRBEw8S3BCVDx8OdQyRCnEIJgbBA1MB7f6G/DP68Pe+9aDzlfGw7/Xtd+xK63fq/unZ6QLqaer/6rjri+x+7YHuje+R8InxWvIA84vz7fMz9Gz0p/TV9Af1L/VB9Ub1P/VO9YD1AfbM9s/3/fgg+jD7LvwU/fb9//49ALoBfgNbBToH8whsCqULpQyhDbUODxDHEcsT+RUMGNkZLhsCHHIcmRzDHPYcRh2WHaUdRB0zHGMa5xfuFKURUw4PC+EHxwSdASj+b/qC9m/yhO786gfouOUQ5NXi5OEe4Wzg4N+e3+TfyeBk4qrkX+dM6kHtC/Cn8ir1tPds+l39hQDGA/gG7wmJDMkOqxBPEtgTVxXNFiQYQxn7GT4aBhpqGYwYkReRFpAVgBRBE68RuQ9uDdQKKAiSBScDAQEO/z/9ffux+dn3A/ZJ9NLyoPHA8DPw1O+A7zPv5u6d7oHuo+4d7+vv//Au8lfzZfRN9SD28/bn9wP5VfrG+zD9bf5g////PgA5AAEAv/96/y7/5f6J/gP+WP2E/Iz7kfq3+Rz5z/jO+AX5X/m1+fv5Nfp0+s76WPsT/A/9Pf5u/5kApQGHAkID8AOmBHsFfwaxBwQJYwq2C+IM3Q2oDk8P5A9zEAIRmREgEosSsRJ/EvURERHlD3UO5gw4C2wJiweLBWQDHQHI/mz8HPr29/z1M/Sn8krxIPAo72ru8+3P7fvteO5F707wh/Hn8mX0CfbW98356Psl/m4AogK3BJYGOQifCcgKvguTDEINzg0xDmcObg4yDsUNLA16DLUL4woTCjMJRQhDBzMGGQX/A/AC6gH2AA4ALv9Q/nH9jfyn+8L69vlF+bT4RPjn96H3Z/cz9wj37PbW9tn2+vYt93X3zvcy+Jr4B/lz+ej5ZPrr+nv7CPyO/AP9cP3O/SL+ff7W/kL/sv8dAIEAzgAIASEBJQEgAREBAQHpAMoAkQBDAOH/Zf/V/jj+nv0I/Yb8GfzD+4v7YPtC+yf7EfsH+wb7Jftr+9D7V/zw/I/9Mf7M/l//8P+FACQB0AGEAjYD5QOABAsFhQXvBVUGswYRB2wHvQfyBw0IBQjiB68HcQc/Bw4H5gbABpcGXQYOBq4FQQXVBHAEGATTA5oDYgMoA+ICjwIvAsgBYgEIAbcAZgAjAOD/i/8n/77+TP7j/Yr9R/0U/fX86PzT/ML8rfyd/JT8kvyt/OD8Jv12/cn9GP5c/o3+rP7O/vD+G/9X/5v/3/8WAEUAYQBqAHIAeQCRAMAA/gBHAYYBsgHCAcABtQGnAa4BxQHlAQQCEQL8Ab8BYgHrAGsA+v+j/2P/N/8N/8z+bf7o/VH9rvwX/KL7S/sg+wv7+vrh+rr6ffoz+vf5zPnE+eH5Hfps+sj6Jvt1+8L7EPxf/MX8Pv3J/WX+Bf+b/xsAkADyAE0BpgH4AUwCmQLbAgsDJAMeA/sCxQKEAkMCCwLaAawBewFBAfsAqABYAAgAw/+S/3L/Xf9L/0j/TP9P/1X/Wv9g/23/iv+2/+f/GwBWAI4AwgD4ADEBcQG6AQ8CbQLOAisDggPQAwkEQAR0BKAEyQTvBAwFFwUQBfoE2QSnBG0EJwTWA4IDJgPOAnUCIQLVAYsBQgH4ALQAagAbAMz/dP8h/93+ov5v/kv+L/4O/uv9y/2j/Xn9W/1L/Uv9Y/2R/cX9+v0q/lb+fP6e/sz+/f40/27/pv/V//T/BAAMABMAGwAiACgAMgA5ADYAJQAAANL/mf9b/x7/5P6n/mb+KP7j/Z39X/0k/fD8y/yw/Jv8lPyU/Jj8pvy8/N/8Ef1K/Y794f0w/nz+y/4T/1f/of/w/0EAlADhACQBXAF7AYEBcAFTATwBKAEUAfcA1QClAFwACACt/1D//v7D/pX+cv5W/jr+If4G/uz92P3R/eH9Bf40/m3+rf7j/gz/Kv9J/2v/o//u/0cArwARAWQBqQHfAQkCNgJ0AsICIAOHA+QDLARdBG4EagRUBDcEIQQWBBMEBgTuA8oDjQMzA8sCYgL5AZcBRQEEAcUAjABVABMAzf+J/1H/J/8S/xD/F/8o/zX/P/9I/1D/Xf9y/5L/uv/q/x0ASABvAI4AngCuALgAugC2AKkAnQCJAG4AVAAxAAEAyv+S/1P/Gf/i/qz+d/5A/hD+2v2c/WD9JP3r/Lb8k/yB/H38jfyk/Lv80fzu/An9Jf1Y/Zf95v1F/rL+Iv+U/wQAZAC6AAgBRwGDAcEB9gEfAj0CSgJHAjUCHAL+Ad0BtQGNAWwBRgEbAewAvACGAFEAIgD6/9v/xv+0/5v/hP9v/1X/P/8t/xf///7w/uP+2v7N/sH+uv6w/qv+rP60/sD+0f7i/vb+Dv8k/z7/XP9+/6X/z//4/y0AbACnANUA8wAHAQgBAgH8APEA7QDrAOQA0wDCAKwAhgBgADUACgDr/9H/vf+3/7L/sv+0/7L/tP+4/8H/0f/u/wwAMwBoAJIAvADsABkBQAFjAYYBpwHAAdEB3wHrAfIB8AHtAekB1gG5AZ4BgQFeATgBDgHiALcAjgBkADkADgDg/7P/jf9t/1D/OP8s/yL/Fv8N/wP//f79/gX/FP8t/07/a/+I/5//tP/K/9j/6v/7/wQAFQAmADQAPQA5ADMAKAATAP7/7P/d/8z/vP+r/5L/c/9K/x3/8v7M/rT+qv6j/p3+nP6b/p3+qv69/tH+6/4V/z7/Zf+P/7P/zP/g//L/AQAaADQARgBSAFcAUgBDAC4AFgAAAOn/2P/R/8v/yf++/6v/l/97/1z/RP84/zH/Ov9C/0b/U/9W/1T/T/9N/0//Vv9o/33/mv+2/8r/3//v//j/BAAVACkAPwBTAGMAbwB5AHkAfQCDAIIAjACaAKkAsQC3ALoAvgDGAMwA2gDoAPwACwEcATIBQQFSAVoBWgFgAWQBYAFiAWIBWQFSAUQBNAEhAQ0B9gDaALoAmAB7AF8AQQAiAAoA9P/a/8X/sf+a/4L/bf9Y/0P/N/8z/zD/MP8z/zT/NP80/zH/Lv8v/zf/SP9f/3r/lv+s/77/yv/R/9j/3P/l/+3/8P/5/wQACAAKAA4ACwAAAPf/8//x/+3/6//w//P/9P/6/wAABAAJAAwAEAATABQAFgAWABQADgALAAoABAD9//b/6v/a/8r/uv+t/6X/nv+V/43/g/93/27/Z/9l/2j/bf91/4P/lP+m/7f/xP/H/8X/wv/E/8b/y//L/8n/yf/A/7b/rv+b/4n/hv+G/4f/iv+F/3v/bf9g/1P/Sf9R/1//cf+K/6L/uv/N/9P/3P/o//f/DAAuAFoAgQCsANEA7QAKASEBOwFYAXkBoAHFAesBCgIaAiQCJgIdAhMCAALpAdQBvQGjAX8BUQEbAeEApQBmACYA8f+8/4X/Vf8k//L+wf6S/mz+T/45/i3+Kf4q/jD+N/5B/lb+bf6J/q3+0/4B/yv/V/+J/7b/5f8LADIAXACAAKUAywDlAPYABwEUAR0BIgEpASoBHAEJAe8A1AC4AJgAdQBTADEADADw/9L/rP+C/1v/Nf8Q//b+5P7b/tr+2v7f/uX+7P73/gj/IP88/2H/i/+3/+j/FQA6AF8AgwClAMMA4wABARcBMgFFAU8BWQFcAVYBSgE9ASkBEgH9AN4AuACOAGUANAAEAN//s/+G/1n/Kf8D/+T+xv6z/qb+lf6L/ob+gP6C/oX+kP6f/rb+1f71/hz/QP9g/3//oP/E/+n/EAA/AG4AmwDKAPgAFwExAUwBXAFqAXoBhwGQAZgBlQGIAXUBWgEwAQsB6gDDAKIAggBlAEQAHgD7/9D/qP+C/2H/TP89/zb/M/8w/y3/Lf8z/zf/Q/9Q/17/cv+F/5v/s//F/9X/6f/8/woAGgApADgARQBKAFAAVwBVAFIARgA2ACYAHAASAAMA/f/y/+D/1P/D/7f/r/+m/6L/n/+d/6D/qP+r/67/s/+3/7r/uf/H/9T/3//v/wEADQASAB8AIwArADMAOwBFAFEAXwBsAHYAgQCMAJMAlgCXAJUAlgCYAI8AjACFAHgAYwBOADUAFwD7/+L/zv+y/5j/gv9u/1X/Ov8h/w///v72/vX+9f79/gf/E/8g/zL/Q/9U/2//jf+p/8j/7f8NAC0ATABpAIIAlgCyAMsA3wD2AAsBGwEiASMBIAEaARcBEQEKAQQB/ADuANsAwgCjAIAAXAA2ABYA+f/Y/7T/kv9w/0z/Lf8O//L+3f7K/sP+xP7I/s7+2f7k/vT+CP8b/z3/XP9+/6L/wf/m/wIAHwA+AFkAcgCIAJwAsADDANMA3wDnAOsA7gDvAOYA3QDUAMYAuQCmAJAAfwBoAE4ANwAcAP//5v/P/77/rf+f/5f/h/96/3X/b/9k/2H/YP9i/2r/cv92/3v/h/+S/5//rf+6/8T/0f/g//P/CQAZACoANwBEAFAAXwBoAGwAdAB1AHMAdABvAGgAZABeAFgATwBBAC0AGwAIAPb/5f/V/8j/uv+m/5T/if98/3D/Zf9e/1r/Wv9a/17/Z/9r/3L/fv+P/6P/tv/Q/+f//v8VACoAOQBIAFwAawB9AI8AnwCpAK8AsgCuAKgAoQCWAIwAggBxAF8AVABDAC8AHgAMAPf/4v/Q/7v/rP+h/5T/iv97/3L/av9n/2T/YP9n/3H/gP+O/5z/sv/I/9f/8P8KACcAQQBTAG4AgQCPAKMAsQC4AMIAxQDIAMoAxADBALsAtQCvAKAAkgCHAHkAZwBWAEQAMgAjABMABAD2/+n/2P/K/8D/tP+q/53/lv+M/4T/hP+F/4P/f/+D/4b/jv+b/6n/uv/I/9X/5f/u//v/CwAYACQAMgBCAEcATQBTAFUAUgBMAEsASgBEAD8ANgApACAAEwAHAPz/8f/j/9n/0v/L/8T/vf+5/7X/tP+y/6v/q/+w/7T/wP/I/8//1//h/+z/+f8JABsAKwA4AEkAWABgAGkAdQB6AHkAfQB9AHwAdwBsAGMAUQBFADYAJgAXAAYA9v/j/9H/vv+w/6L/lf+K/4H/d/9w/27/bP9v/3b/ev+C/43/lv+k/7f/x//Z//D/AgASACYANwBFAFIAXQBkAG0AeAB9AIIAhAB+AH0AdQBnAGQAXQBPAEUAOQApABoADgD///H/5P/U/8r/wf+2/6//sP+x/7b/uP+6/77/vP++/8T/y//O/9H/1v/b/9//4//p/+j/6P/q/+n/7P/z//n/+P/9/wgAEAAXAB4AJQAqAC4ANAA7AEEARABHAEoASwBMAEgARwBHAEEAPwA4ADAAKQAjABwAEgAIAAEA9f/r/+T/2//R/8r/v/+y/6//p/+g/5v/mv+e/6D/pv+r/7P/uv+9/8j/1P/h/+7//P8KABIAHwAnADMAPQBHAEwAUQBXAFUAVQBNAEkAQwBAADgALwAmABkAEwAIAP7/9f/p/+D/4P/c/9b/z//O/8r/x//F/8X/xv/J/9L/2f/f/+b/7P/w//r///8KABcAHQAmADIAPQBCAEsAUQBYAGEAZwBtAHQAeAB7AHkAcABkAF4AWQBNAD8ANgAoABgADwD+/+//5P/Y/9D/z//G/7z/tP+q/6r/qP+o/6b/pv+p/63/rv+w/7f/uv+5/7f/vP++/8L/yv/T/9r/3P/l/+7/9////wgAEwAaACMALwA4AEEASABLAE8AUwBUAFYAVQBVAFcAUQBNAEQAQAA7ADEALAAjABgACgD///j/8P/k/9f/y/+//7T/q/+l/6D/m/+Z/5v/nP+h/6L/pf+u/7f/wv/N/9j/4//u//n/AgAIABEAGAAiACsAMwA6AD4APAA6ADgANQA3ADAAKQAnACUAGwAUABAAAgD7//X/8f/t/+r/6//n/+b/6v/p/+X/5//n/+b/7v/z//v/AAAEABEAGwAnADAAOQBDAEoATwBXAFsAXQBfAFwAWgBTAEsAQwA7ADEAKAAeAAwAAgD5//D/6P/e/9T/yP/F/7//uf+1/7L/sP+s/7L/tf+3/73/wP/C/8z/2P/e/+j/8//5//3/AQAHAAsACwARABYAFAAYABsAIAAjACcAKgApACwALAAuADEANAA4ADcANQA3ADgANgA0ADYAMgAsACcAIgAdABgAEgAPAA0ABgABAPv/9f/r/+D/2//P/8j/wP+5/7f/sv+u/6z/q/+o/6f/rP+s/7H/uf/C/8v/0f/Y/93/4v/j/+X/6P/u//j/+////wUACAAIAAUABQAFAAQABAABAAAAAQACAAQABgAJAA0ADwAUABUAFgAaAB8AKQAuADQAOQBAAEgATwBVAFoAXABfAGcAYwBgAFsAUQBGADkAKwAdAAwA/P/r/9v/zP+9/7D/nv+U/4v/gv96/3X/cv9x/3T/ef+A/4f/jv+b/6f/sf+5/8X/0v/X/+L/7//5/wQADwAXAB0AJgAwADcAPgBBAEcASABEAEIAQAA7ADMALwApACAAFgAIAAAA+v/y/+3/6f/k/+D/4P/m/+j/6f/p/+//+f/6/wAACwAUABsAIQAmADAANwA4ADwAOAA5ADUALgApACMAHAAVABIACgAFAP7/9f/0//D/8P/s/+n/8f/0//j//f8AAAUACQAHAA0AFQAWABgAGgAZABYAEgAKAAEA/f/y/+j/5v/f/9T/yv+//7L/q/+k/57/l/+W/5f/lv+e/53/ov+j/6r/sf+0/73/xv/U/+T/8/8FABUAJAA7AE0AYgBwAH0AjACfAKoAswC/AMIAxwDJAMsAxQDBALsAtQCqAJ0AjwCBAHEAWwBHADIAHQAGAPP/4P/M/7H/mf+D/2n/Vf9E/zb/KP8h/xr/Ev8N/wf/B/8I/w3/Ev8Z/yP/Mf9B/1D/YP9v/4H/kv+j/7v/0P/m//j/CgAbACcAMgA5AEEASgBSAFoAXQBhAGYAZwBqAHEAdwB4AHkAfQCBAH8AfQB8AHgAdwByAG8AagBnAGMAXQBYAFAASQBCADkAOAA4ADMANQA5ADoAOgA4ADsAQwBHAEkAVABfAGgAcgB5AH4AfwCAAIIAhACFAIEAegBxAGkAWwBKADsAJgAOAPb/3P+7/5//h/9o/0f/Jv8H/+n+zf61/pz+h/52/mf+Wv5S/kz+Sf5N/lj+aP57/o7+pv7E/uP+BP8u/1X/gP+w/9v/CgA0AF0AigC0ANoA/AAeAT4BXQF5AZQBqQG6AccBzQHQAcwBxQG3AaEBhwFoAUUBGgHuALoAhQBSABwA7P+4/4P/U/8k//X+yv6n/oT+Zv5U/kP+NP4u/ir+Lf4v/jD+P/5R/mf+hP6e/sb+7/4Y/0f/ev+3//L/NAB7AMkAFwFlAbYBBAJTAp8C7AI1A3cDsgPpAxUENwRUBGMEagRlBFYENAQPBOQDrQNtAyUD1AJ3AhgCrAE4AcQARwDJ/0j/xP4//rr9NP2x/DH8s/s6+8v6XPrs+Yr5M/nf+Jf4Vvgg+Pn32PfE97/3zffp9xH4SviT+PD4XPnZ+Wn6B/u5+3r8Tf0n/gL/6f/UAMMBuAKuA6IEkQV8BloHMQj8CLQJXwr2CnsL5ws/DH0MowyuDJwMcAwhDLsLPgujCvQJLwlSCGIHYwZUBTUEEwPkAbIAhP9N/h399fvS+rn5r/i198n27vUv9X/05/Ns8wfzvvKY8obyj/K08vDyTPO+80709fSz9Yr2cvdq+HP5jPqx++H8F/5S/40AyQEBAzAEWQV4BogHjQh5CU0KEwu9C0oMwQwgDV8Nhw2ODXsNUA0JDaYMKwyeC/cKPwp0CZgIrQe0Bq8FoQSIA2oCRwEkAP7+2P23/J37ivp/+YD4ivei9sz1B/VV9LDzIvOr8kXy9vG88ZjxjvGg8c7xFfJ48vDygvMp9Ob0vfWm9qP3sPjO+QH7QPyG/dz+NACNAesCQgSRBd0GIAhQCXEKfgtxDEwNDw6yDj0PrA/2DyQQLhAWEOAPiA8QD3gOww35DBQMFAv/CdcIngdVBgUFrwNQAu4Ajf8p/sv8efs0+vv40/fD9sX14vQW9F7zwfI+8t/xnPF38XLxjPG+8RHygvIT88LzivRv9WT2bveM+LX56fov/Hn9wP4LAFUBnQLYAwgFKgY9B0AIKAn6CboKXwvpC1UMrgzpDAcNCg3uDLgMbQwLDJMLBQteCqYJ2Qj5BwcHDgYHBfQD3QK8AZkAc/9L/if9CPzv+uH54Pjq9//2KvZe9aX0/PNl89/yb/IX8tXxrfGZ8aXxwfH88U7yufJH8+rzr/SI9XP2dveL+LD54vol/HH9x/4mAIUB7gJSBKsFAgdPCIwJuArPC9IMwA2PDkQP3Q9SEKYQ2BDoENYQpBBQEN4PTQ+cDtkN9wz6C+oKxgmNCEsH9gWWBDADwQFTAOf+gP0b/Mn6gfk/+Bj3AfYA9Rf0SPOT8vzxifEu8fLw2PDd8P/wSPGv8SzyzfKM8130QvU/9kv3a/iW+cn6C/xN/Zj+4P8pAW8CrAPiBAcGJgczCDEJHArxCrALVgzjDFMNpg3iDQcOCg7vDboNaQ34DG4MzQsWC0YKYQlrCF8HPwYUBeIDoQJaAQ8AyP5+/Tf8/PrE+Zf4efdk9l31b/SO88TyE/J68fnwjPA98Anw8+/07xDwTPCh8AfxjvEw8uryxPO39Ln1zvb19yf5bfq++xv9f/7p/1YBwQIuBJUF8gZDCIgJwQrnC/MM7g3PDowPMxC/ECwRcxGdEagRjhFXEf4QiBD1D0UPeQ6JDYgMcQtBCgcJwgdqBgoFpgM6AtEAaP8E/qb8VPsT+tv4tPeg9qb1x/T680jztPI88ubxqfGK8YzxqvHh8Tfyq/I089nznPRt9Vb2Uvdc+HT5mfrJ+wD9Qv6B/8AA/AEvA1oEeQWSBpgHiwhtCTUK5gqDCwYMcwzGDPwMHQ0mDRAN4gydDDsMvAsmC3kKswnZCOwH8AbiBcUEnANqAi8B7/+p/mT9Jfzn+rP5h/hk91T2UPVZ9HvzsPL68WDx1fBf8AHwwe+Y74vvmO+77/nvUvDA8EXx7fGy8pLzi/Sc9bv28Pc5+ZD6+vtt/ev+bADzAX4DBAWDBvkHYwm/Cg4MQg1dDl4PPxAEEbAROhKmEuwSERMUE/IStBJTEtURPRGJELYPxA7ADaUMeQs/CvEImAcvBr8ESgPRAVgA4v54/Rf8vfps+S74CPf09fX0EvRE85fyBPKR8T7xC/H58ADxKfFs8c/xTfLi8pTzW/Q69Sf2Jvcy+Ez5c/qf+838//05/28AogHVAv0DHQUzBjYHMQgYCekJpQpJC9YLTAylDOQMBg0JDfMMvQxtDAEMfwvkCiwKaAmICJoHmAaFBWcENQMDAscAhP9A/vz8vvt/+kj5IPgC9/L19fQG9CzzafK68SPxo/BH8P/vy++377rv1u8N8GHwyfBQ8efxlPJg8zj0IPUf9ir3TfiG+cn6F/xv/c7+KACHAesCTwSvBQ4HZgivCecKEAwsDTAOIA/5D7YQWRHcEUESjBKvErUSmRJdEgoSjxH5EEcQdw+RDpgNiwxpCzEK7wijB0YG5gR+AxUCqQBE/9/9g/w1++35t/iR9332e/WW9MvzFfN98gXyrfFz8VvxXvF+8cHxH/KZ8izz3POj9H71bvZp9274fvmY+sH78fwn/mT/mQDHAe0CDwQmBTIGNgciCAAJygl6ChMLlQv6C0UMdwyMDIcMYgwhDMQLSQu4Cg8KUwmBCJgHowaZBYYEZQM+AhIB4f+1/oH9Vvw0+x36DvkI+Bf3MfZd9Z70+PNj8+TyffIw8v/x3vHU8eXxC/JE8ozy6vJZ89XzZvQB9a/1cPY49wD41Pi0+Zr6k/uS/Jr9qv65/8EAygHYAuQD7ATzBfIG5wfWCLAJgQpGC/gLmgwnDZwN+g1ADmkOeg50DlQOGg7HDV0N1ww4DIwLzgoBCioJRAhTB1YGWAVTBEsDSAJEAUMASv9X/mr9hfyv++f6K/p++eL4VfjV92z3EvfM9pj2ePZ19nn2lfbJ9gn3Vve09yf4pvgy+cz5b/oZ+8f7fvw+/f39v/6C/0MAAAG2AW0CHgPDA2IE+ASDBQMGcwbdBjsHhAfBB+8HBwgUCBIIAQjcB6sHbQceB78GTQbWBU0FvAQiBIMD3wIvAoIBzgAVAFz/pf7v/Tz9kfzn+0P7qPoO+n/5/PiD+BT4q/dT9wv3zvaa9nn2Y/Zf9m/2ifa19un2Kvdx98v3M/ii+Br5mPkg+qf6Lfu4+0v82fxj/e/9eP4H/5T/GwChACABkAH+AWcCzQI4A5gD9QNNBJoE3wQhBWMFlgXGBfYFGgYuBj8GSgZOBk4GQAYvBhYG9AXMBZkFagU4BQAFxASFBEkEBQTCA4YDSQMLA8wCkwJaAiAC5QGsAXoBSAEaAfMAzACnAIIAYgBCACUADwD///L/6P/d/9X/1v/W/9n/3v/l/+7/9f8EABcAIQAsADsARQBNAFUAYQBtAHEAegB/AIQAjACPAJAAkgCSAIsAhQB/AHUAagBZAEIAKwAQAPH/0P+m/3X/Qv8M/8/+k/5T/hP+0f2N/Ur9B/3G/I38WPwj/PP7yvup+4r7cvtf+1X7TPtL+1L7V/tg+3H7iPug+7/72Pv0+xT8N/xd/H78pfzM/Pf8JP1R/Xv9qv3Z/Qf+O/5x/qb+1/4K/z3/df+s/+b/HQBOAIQAuwDyACgBWgGJAbwB5AENAjICVgJ2ApECrALEAt0C6QL2Av0CAAMFAwUDAQP5AusC3ALQAsECsgKiApQCiQKAAncCaQJkAl4CWgJgAmECagJzAnoChAKOAp8CsALAAtEC5wL6AgwDHQMtAzoDQQNMA1YDWgNbA1kDVgNTA0cDPAMtAxsDAwPgAr8ClAJrAj4CCALKAYgBRAH4AKgAVwAHALb/YP8M/7r+Zf4T/sX9df0r/eT8pfxu/DP8AfzY+637jft2+2H7TvtE+z/7PPtB+037W/tr+4b7nfu1+9P76vsK/Cn8TPxv/JP8svzJ/Oj8Af0a/TX9Tf1h/XD9gP2N/Z79qf2x/b39yP3T/dz96v37/Qn+Fv4q/kP+Xf57/pv+v/7h/gP/Lf9f/5H/wv/0/y0AZACcANoAGwFaAZIB0wENAkoChQK+AvwCMQNkA5MDxQPwAxIENgRVBG4EhQSWBKEEpQSrBKgEngSVBIUEcgRYBD0EGQTzA8YDlQNkAyoD8gKyAnQCMwL0AbgBcAEtAekApABnACoA7f+3/4X/Uv8m/wD/3P6+/qr+m/6R/on+if6P/pX+pP62/s3+6P4L/y7/UP92/5r/xf/u/xUAPgBlAI4AsQDUAPYAFwE2AVIBYwF1AYABgQGCAX8BewFtAV0BQwEqAQ4B6wDHAJ4AcgA7AAQAzv+U/1b/GP/X/pP+Tf4J/sv9i/1O/RH90/ya/Gf8N/wJ/OL7uvuX+3z7XPtF+zn7KPsh+yL7Jvsw+z77U/tr+4z7r/vX+wn8Ofxx/LD88fw4/X79x/0X/mX+tf4J/1r/rv8CAFMApgD0AD0BiwHWASACaAKnAugCJgNeA48DvAPpAxQENQRRBGgEeASBBIYEhQSABHoEZwRQBDYEGAT5A9IDpwN9A0wDFQPeAqsCcgIyAvYBuQF6ATwBAwHIAIsATQAUAN7/pv90/0H/F//r/sP+pP6C/mb+Tf45/iv+IP4a/hn+Fv4W/h3+KP42/kj+W/5v/ob+of6+/uP+Bf8k/0r/bf+T/7v/4P/+/xkAOgBWAHQAjwCqAMEA0QDlAPUAAwEMARMBHAEeAR4BHQEXAQ8BCwEGAf4A7ADeAMwAtgCkAJAAeABhAEgAKQAQAPP/1P+3/5b/dv9W/zX/F//7/t/+w/6o/pL+ff5r/lf+R/41/iT+F/4Q/g3+Cv4N/gv+Df4U/hz+Jf4y/kH+T/5f/nH+g/6Y/q/+wv7V/ur+A/8a/zL/T/9r/4X/of+7/9b/9P8PACsARwBdAHkAlACrAMYA2wD0AAkBHQEzAUgBYQFxAX4BjAGZAaQBsAG6Ab8BwAG7AbcBsAGqAaABkwGFAXQBZwFYAUUBMgEeAQQB7ADaAMcAsgCbAIEAaABRADwAKAAVAAEA7//b/8v/wP+7/6//oP+V/4H/df9q/2D/U/9H/0D/Ov85/zL/LP8n/yL/If8i/yH/I/8n/yv/NP8+/0f/Uv9d/27/f/+P/6L/sf/F/9r/7P8AABEAIQAyAEEAVQBpAHcAgwCQAJgAnQCoAK8AuwDAAMAAvAC3ALMArgCrAJ8AlQCDAHAAYgBUAEQAMwAjAA8A+v/m/9X/xf+y/5n/iv97/2//ZP9c/1P/R/8+/zn/N/80/zj/N/81/zT/Of8//0X/Sv9N/1T/V/9d/2r/cv91/3n/ef+A/4n/kP+W/5f/nP+i/6n/uP/C/8f/y//Q/9j/4f/y//7/AQAGAAoAEgAbACwAOABBAEkATgBbAGQAdwCIAJEAlwCcAKQArgC/AMoA0wDTANQA2ADaAOEA5QDjAOEA3ADQAM0AxgC9AK8AngCMAHcAaABcAFEAQQAvAB8AEQAMAAcAAADx/97/z//F/8L/xP/F/8D/sv+r/6f/p/+s/6//r/+s/63/sf+2/73/wP+7/7f/uv+9/8H/yf/O/8r/x//G/8n/zv/P/87/y//I/8L/x//R/9n/2P/R/8n/w//J/9H/2f/Z/9T/zv/Q/93/5f/t//D/8P/y//v/BAAJAA0ADgAPABcAIgAnACYAHwAdAB8AIgAvADQANgA1ADIAMQAvAC8AJwATAAkAAgD/////9v/v/9//0P/I/8L/u/+y/6f/nf+c/5r/nf+g/5//nv+k/6X/qf+x/7r/wv/L/9f/4v/s//f//f8FABcAJAAuADUAOQA9AEUATwBWAFsAWgBUAE4ATABNAFUAWQBSAEcAOgA5ADwAQgA+ADIAKAAgABsAHQAdABIABAD3//T/9//+//v/7P/g/9T/2P/n//H/7//l/9z/3f/r//f/9//u/+T/3v/i//D/+P/2/+3/4//d/97/4v/j/+L/3P/V/9X/3//k/+T/4//h/+L/4f/n/+r/5f/g/97/3P/f/+P/3//h/9//2//b/9r/3P/g/9//4P/j/+P/4v/i/93/2//e/93/2v/a/9r/2f/b/9L/1f/a/9//7P/x//b/8v/x//3/DQAhACYAJAAiABwAIgAzAD8AQAA5ADAAKwAwADkAPgA+ADYALAAoACcAJgAlACEAGAAVABUAFQAXABIACAD+//3/AAAFAAsACAAFAAAA+/8AAAQABgAGAAUAAgADAAoACQAGAAMABQAMABMAGgAYABEADQAKABAAHgAlACUAHwAUABUAFwAbAB4AGQAWAAwABQAHAAsAEAARAAsABAD///v/AAAHAA0ADQAEAPv/8P/w//j///8EAAQAAQD9//7///8BAAIA/f/y/+r/6v/r//P/8v/r/97/0//R/9j/3f/c/9b/0P/Q/9P/3f/c/9j/0f/O/9H/2//j/+P/3v/R/8z/0P/X/9z/4P/c/93/4P/n/+f/5f/p/+n/7f/x//r/AgAMABkAHwAiACUAJQAtADIANQA4ADEALwAxADUAMwA0AC8AJwAhACQAMAA0ADAAIwAYABUAGQAnAC4AIwAQAPj/8/8BABQAGwANAPj/3//c/+z/AAAFAPT/3P/J/8z/3//s/+//4P/T/83/0f/f/+X/4f/T/8f/xv/V/+b/9f/4/+z/4//e/+j//f8MAAoAAAD9/wYAHgA7AEMAMwAaAAsAHAA0AE0AVABDADEAKQAwADYANAAkABEABgANACAAKwAwACMAEwALABMAIwAsACoAEAD5//D/+v8LABgAHgANAPX/4//a/+L/7f/0//H/4//Z/9j/6P/6//z/7v/Y/7v/vf/W//L/CAACAO7/1v/P/9f/3P/d/87/uf+1/8v/5v/6//v/3f++/7P/xv/s/wwAIAAhABQAEAAWACgAOwBCADwAKAAbABkAKgBGAFgATgArAAQA8v8CACwATgBLACwAAADz/xEAQgBVAD4AAwDK/8b/8P8rAEYAKADm/7f/u//m/w4AEQDn/7n/uP/n/ygASgAxAO//wv/P/w8AQgA7AO7/j/94/7f/LgB9AGEA6v9p/0L/kP8PAGIARQDX/3P/cv/k/3QAtgB8APP/h/+O/wUAjwDBAIEA/f+i/7D/EQBvAHUALQDL/6D/z/8mAFkASQADAL3/tv/k/x8ARQAuAPP/yf/P//7/OgBXAD4A+v+2/4//k//F/+7/AADw/8L/l/97/4P/sf/z/ygAJgDo/5P/bf+c/xQAqADxAMYARwDL/57/4/9uAOQA8ACGAP//sf/e/18AygC5ACQAb/8T/0r/5v9rAG4A7P9G//7+P//e/1oAVQDc/0j/Dv9k/wkAhgCNABgAgv86/33/GgCoAMkAaQDS/3T/nP8xAMUA2ABMAIH/Cf9L/yEA9AAiAYoAl//y/hb/zf98AKMAMgCS/0v/nv9DALkAngAHAGD/I/93/xAAgwCFACMAuv+j/+n/TwCJAF0A5/+F/4X/6P9pAKwAdAD2/4//kf/z/1sAcgAuANj/zP8kAIgAmQAtAJr/af/d/7kASAEKARkAJf/u/qb/uwBUAe0Azv/a/tz+4/84AeABRgHk/73+ov6o//kAjAHpAKL/wP7+/kAAjQHcAdgANv8T/kH+of8vAdgBQgHs/93+5f7Z/+AAIQFTAAv/Tf6y/vb/MAGIAcUAef+F/m/+KP8NAIIAXwDV/1L/Jv9f/9b/TwCNAFoAxP8W/7v+Fv8QAA4BXwGzAHz/l/6+/t7/GwGGAcYAe/+i/tn+6v8EAWAB4gAOAJP/sP8UAFYAMQDY/7D/5v9XAKoAlQASAH3/Q/+F/yUAuADJADoAe/8V/1r/PwAXASYBQAAF/3D+F/+eAMsBkwEFAFH+3P0j/ykBSQKQAY3/Af5V/k8ATwKMAp0AB/7p/Ej+PgFyAzIDrADU/eP8fP5EAQMDXwLm/5X9Mf0O/6QB6gL2AYH/e/16/XH/xAGPAjEBtf4k/eX9aQDPAioDHwEw/p78sf2HAPUCCgOYAIT9Rfzr/UgB2wOZA5gAGf2p+zz9lgA6A1MDGAGJ/pL9uf7aAP4BKwEv/8b9LP4bABoChAIGAd7+p/07/vj/ZQFYAf//jP4t/jH/wAC2AX4BcQBM/6P+vP5d/ygA5AAyAbwAq/+Y/kb+OP8FAWICOAKAAGf+bP1i/pIAQwItAm0Af/76/Wr/qAHbAv8BoP9s/fP8e/7KAEwCMgLuALD/Sv+9/z4AIQCC//D+Cf/n//MAiwFjAaAAq//k/oP+lP4a/+D/hwDFAIMA/v+r/83/JwAvAKT/wf4W/kr+af/hAN8B6QEEAZz/WP6m/dL95f6BAAIClQLJAf7/TP7Z/Rf/QQHUAqICnQAE/qX8mP1hAF0DsgR5A4wAxv3E/P39VQAKAgAChgD//sH+GwDsAZoCWAHQ/rn8qPyv/kQBhgKpAYb/7/0//hcA0wHfAQgApf2V/MT9XgCjAhcDhwEi/4/9pv0G/5sAWAHtAOj/J/8p/8H/iAACAeQAWgC1/zv/Gf9f/+z/bwC+ALsAWQDd/4r/aP96/7T/6P8FABcAEgDv/97/+/87AJIAwQCIAOv/Qf/r/jT/CwDqAE0BBgFfAMj/kv+l/57/Sv/i/u3+rf/kAM0BwQG3AEf/TP44/vL+5f+RANsA6QDbAKIAOQCk/0H/Zv8HAK0AzgBKAIj/Sf/b/+UAmAFJAf7/e/7C/VH+wf8fAaIBDgH8/yj/D/+K/wUAGAC8/1j/cv9EAHIBPwIOAtEAGf/k/dz95P45APkA2QBHACUAywCXAZ0BWwBP/uP8Lf0a/5YBIwPsAlgBl/+c/qj+SP+6/7T/g/+w/2wAeAEJAnMB2//6/eP8Sf0G/w4BTAI9AhkByf8l/2T/BgBTANv/2P7//Rn+Xf9DAdEC8AJpAQb/If3Z/F7+tQBKAi0CpAD2/m7+ef9CAWgCDgJlAJD+vP1E/n//YgBpANb/Zv+v/4MAPAFLAaMArv/2/sj+Bf9t/9H/HwBYAIIAnQCgAIoAYQAOAI3/Dv/K/u7+fP8wAJgAlwBpAFgAngD+AOgACgC+/tj9Af49/7kAZgHzAPj/cf/1/wwBnAHhABj/d/01/Yr+ewCxAaIBxQA5AKkAgAGkAWcAK/5k/JP85P4dAkwEHgTnAUH/4/1l/vL/AgGgABn/6P1M/kQAtQLgA9oCNwCL/Ur87fzM/o0ASgEAAWAAJgB2AOMAwQDf/7T+CP5C/ir/DwBVAAkAvP/k/3gA8wC3AKj/WP6v/ST+c//GAFwBEgFXAOD/AAB6AMoAjwDi/yn/2/4f/7r/ZgACAXwBuQGWAdwAjP8X/kb9r/1T/4MBKANvA0ACTACe/u79Pv4K/7b/CAA5AKAASAHOAaYBjgDp/of9Jf35/ZT/DQG7AXcBpwD7/8//AAALAKb/2P47/o7+xf9MAUAC+wGkABP/Iv4t/vr+8/+AAHUADACX/2L/jP/s/0YAYgAuALv/Rv8H/wf/Uv/A/ywAhAC2ALQAagDk/03/9v4d/9f/5ADLATkC/QFMAYAA2v9u/zr/T/+q/zMAtgD2ANEAXwDg/4L/Wf9N/0T/Lv8u/3X/CADAAEUBRwGtAKv/qP4Z/jn+/P7//8cA/gCRAMf//P53/lT+oP5D/wkAwAA9AVYBBQGAAAMAtv/D/yIAkgDjAOwAqgBNAAoA+v8BAOn/hP/4/rP+Af/a/+AAbwEnASkAE/+T/vT+9//VABUBpgDp/4T/0f+UAEIBYwG+ALT/2P6f/ib/CgC5AN4AiwADAKj/nP/M/w4ARgBQADQAGQAFAAgAJQBHAEIAFwDh/8j/6P8jAEcALADx/8v/1f/7/woA2P9+/07/gv8NAJQAoAAYAFT/0v77/rT/egDRAJUA9P9n/1v/wv9NAJcAhAAoAMH/jv9+/4n/r//Y/wYAQgBtAHYAWAAgAN7/pP+Q/5//0P/1////7f/O/8T/0f/u//j/6v/W/+X/KAB1AKYAmwBfACkAMgCPAAcBRgEYAY0A/v/L/yMAwwA6ARoBXwB8/9r+0/5H/8r/CgDx/6b/b/9o/3L/df9g/1T/fP/Y/0EAhgB7ADYA//8KAGMAywDwAJ8A8v9K/wj/Uv/5/4AAggDv/yn/sf7d/rD/qgA+ASQBewCw/0H/bP8HAKsA8gC/ADcAqP9C/xr/Iv9B/27/jP95/zn/8v7Q/vX+Xf/Z/yYAPQAyACoATgCHAK8AqwCNAIMAqADjAP4A0ABXANb/kP+f/+b/HAARAN7/xf/l/0MAtADnAK4ALwCq/1//bv+3//7/GQANAOz/2f/Y/83/lf8o/7P+gv7N/oT/WADhAN0AZQDM/2//f//X/0IAiQCWAJMAoQDCAOIAzwB1AOr/af8m/zX/e/+0/7v/mf9q/0b/Mv8k/xb/Cv8X/1r/yv81AGcAXAAvAAUAEgBdAKUA1ADgAMEApgCrANAA+AAVAf8AuABxAD8AQgBZAHIAcgBJAAoAvf9+/0n/Jf8H//b+Bf8z/4T/zf/1/wwA///b/9P/0f/O/9j/4v/c/8r/pf9s/0j/Tf+d/y8A1gBrAbwBugGCAUIBGwEQAR0BLgEoATMBWQGBAZABUQGfAIT/WP51/Sj9av33/W7+lf59/lj+S/46/gX+hP3x/Kv8Cv0Y/nP/iAD4ANcAfQBVAH0A3QAuAUkBUgGdAVMCRAMCBDQEzwMIA04C7QHhAe4B4QGXASABuwBpACYA4f+J/zD/8f7O/rf+pP5+/lr+Qv5G/mT+lP7W/hL/V/+e/97/9f/q/+X/AQBtABYBowG8AUEBYACH/xj/Lv+O/9//8v/H/3j/Mv/y/pj+Ef5r/dn8ffx8/Nf8cv0f/pr+2P7i/ub+Jv+x/3oATQH3AXEC2AJKA8QDIAQtBOkDgAMpAwoDGQMOA8MCIwJKAX8A1f9O/9L+Uf7Z/YH9Vf1E/S/9+Pyf/Ev8G/wc/F38xfwo/Wj9ev1q/Un9Qf13/ev9dv7y/ln/pv/d/xMASABvAJYAwgD5AEMBcAGCAZ8B6gFtAgkDjgPMA8sDwgPoA1gE+QSmBTwGuAY6B9YHhwgYCX8JwAnxCVAK9QrTC6wMWw3ODRcOTw5xDmUOEA52DagMxwuuCtgIjQVVAF35b/Gr6fjin91J2WDVfNGZzc7JL8bJwsq/tb1NvUi/A8Rcy4HUgt6q6IbyE/xXBXcOjBe0IB4qzTONPbpGi043VFdXEFjbVj5UilDoS1xG2z94OC8wAScWHYQScQcg/O7wM+Zr3OXTrczUxj/C3b6avIu7sLvkvDq/p8ITx13MntKP2frg3Ojp8Bb5RQE5CbIQXxf1HIohNyVEKMkqqSzLLdwt/ywWKzgogyT7H80aORWPD/8JsQSv//H6Z/YY8gbuK+qt5sDjhOEv4MffMuBP4eni3OQO52fp6eu77uLxTPX9+AP9TQHBBScKWA4aEmQVNBiQGoYcDx48H+0fOCAVIJ0fzR6FHakbLhkGFlESbQ5yCn0GpgLj/j37y/dq9NTwhuwf56jgqdns0izNushkxc7CmMDovh2+gb4lwPXC4sYNzMzSRNtL5WDw1/snBzASDB22JwUyvDtkRLpLzVF1VqNZU1tNW4pZN1aWUdpLNkW0PRw1fSsSIRUW8Qrt/zj13Orb4E7XMc7axYC+ZrjEs7iwPK9Pr/CwGLS5uJ++r8WazUzWoN+I6eDzd/7+CBcTgBz6JF0sezJVN9Y6+jzCPTY9YTtPOPMzcC7cJ2EgOhiVD9cGRv4r9qTuyueZ4THcv9dh1CDS7dC20H/RUdM31knaWt9A5ZbrJPK8+Ev/2gU6DDMScBfEGzEfyCGjI8gkGCWWJDIjCCFUHjgb2RcyFEAQ8gtyBxEDBv+H+4D45/WU84nx6+++7gzuou1o7WLtyO3O7qTwNPNI9oD5iPw0/3MBZAP7BEMGEwcyB04GPwQHAcr81veK8iXt0OfH4ife/dlY1knT7NCOz3nP5dAV1CLZ7t8q6H/xlvv7BXUQtBqDJLktLTbaPaZEbUrATlpR6lFtUAtN+Ud0Qbg5DzGYJ5AdKhO6CIz+yPSG673ictrP0hPMjMZswta/3L5zv5XBNcUSytbPNtby3OvjJuus8oD6jgKACjMSchkAIMgljSoLLiIw7zCUMEUvMC1cKsQmTSLpHLEWwQ9XCJgAv/gY8dvpUeOn3RvZw9We04zSftJi0yfV2tdu29XfAOXM6iHx8ff6/vgFkwxaEisX/xriHfkfTyHRIXEhNSA0HoYbLhhBFM4PAQsrBpEBfv0C+hf3qfSj8hnxEvCH73Tv0O+T8K7xLPMF9SP3UPlv+1H9/P5/AOcBaQP4BJsGMwjDCTULdwx/DTIOmQ6MDtkNXQzXCSMGUwGp+3X1C++y6Irixdx81+bSDs8BzNDJpsjUyJ3KWs4f1OXbaeUs8LP7lAdJE3seACmrMmg7KEPMSR1P4lLHVIZUI1KyTVZHUT/ZNUor8h9JFKAIM/1Q8gjoj9731WDO38ejwua+2rx9vOO9GsH6xVjM49NT3FHlhO6n94gA+gj1EGsYUh+ZJQkrei+gMkM0aDQTM10wiyzTJ2gifhxCFskPGQktAvP6gfMX7PrkhN4D2aPUhtG/z0nPFNAA0uDUh9jS3LjhJeca7YrzTPpMAUwIBg8sFXcazx4aIlAkZyVdJSwk8CHnHjcbAxdxEnwNTwj/Atz9IfnZ9EzxZe5K7P7qoOof61nsIO4q8EzycfSn9sH4yPqR/B7+Y/9nAEwBLgIYAwwEDQUSBicHNwhhCaYKAwxQDUoOdQ6ADSQLZAeUAvj81/Z88DzqO+TA3uzZ29WA0tfPC85RzQ/OndA91frbrOTm7iP67AWxEQcdsSdgMQI6hEHPR7ZMEFCqUT9Rt04fSohDNTt5MYgm1Rq0DpECzPau64XhXthE0E3JnsNrv9+8D7z7vJ6/AcQWyq7Rdtos5FnumPioAkAMOBVfHaMk5yosMGA0ZzccOT45wjejNBMwPSp9IxUcNBQqDCAEPvyI9A7t0uXf3nDYudL0zVnKBsggx7jHu8kNzYjR89YX3d/jMOvx8v76KwNSC0gTwxqMIVwnBSxfLz0xnTGXMGcuLSsoJ2oi8BzEFvQPqAgMAWX5/fEt60TlfuAQ3f3aQ9q32hXcOd704Dvk+ec+7PnwEPZQ+3UAOgVUCZUM7A5sECMRSREREc4QuRD3EHsRKRLSElYToBOwE4gT6RKcEUIPsAvIBsEA3PlT8nrqguK12njTG83Mx7LDrcDZvnW+yb8zwxPJV9HE2wXoh/XTA1kSpSAoLoI6d0XHTmVWJVzbX0hhNGBxXAlWNk0vQm41dCfFGOEJOvsp7Q7gOtTiyTzBW7p0tayyDrKrs3a3T70XxanOq9nE5Ybyff8eDOoXjSK6K0Qz/jjmPPY+MD+3PZQ6zzV9L8MnyB7WFFwKvf9t9dHrOePq2+bVNdG6zVjLB8rFyaDKnczHzzHU4dmz4IroEPHm+aQC8QqjEoAZdh9bJD8oKSsELbstOy1oKzooryPbHfYWRg9IB1P/0fcC8Qbr6uWh4R/eW9tg2VjYc9jb2azc4OBv5hXtg/Q//L4DqwqsEKEVjBmAHJoe3R9KIMEfPx6hGwMYdRMkDmQIiAIc/XX44vRx8inx2/BE8T7ysvON9Y73ePnx+qP7SvvJ+U73APQF8L3rZedK47Xf0Nyh2jrZkdip2LPZANzk35vlOO189gsBXAz0FzIjuy0+N2o/G0Y6S7JOcVBiUFNOIEqpQ/g6SDAJJLcW7Agg++Xtu+H31vTNzsaUwUm++LyTvR7AjsS7ymrScduL5W/wvfsPB/gR8RuUJJkr1zAuNKA1QzVCM9gvPSuYJRwf2Rf0D54HDf+J9mvu/OZt4AHbuda30/XRb9Ef0gXUJ9dd23jgWebc7MXz6foWAgcJgQ9bFWQajx6kIYIjGSRxI7Mh7R5CG80WxRFADEgGCgC3+Ybztu2F6DHkC+FS3wrfLuBm4mvl6eiR7E3wAfTG9777FwDWBNYJ2w6WE6kX0RrEHFsdmxydGqkX9RPCDz0LiAatAcf83/ca87Xu5ur55zPmy+Xv5qDpqu3Z8tP4Mf+ZBbMLLhHTFTMZDhsaGyMZLxVkDycIsf9w9sjsOOMq2hPSP8vSxfPBwr+Gv4HBAcYczcvWquJR8DH/qg4pHvIsnjqvRshQq1gvXjhhnGFfX2dawVKuSGc8WC4YHzYPWv8X8N/hJ9VQyqXBQ7tAt5G1ILbTuJq9ZMT1zB3XfuK37kr7vgecE1kemCfpLhQ0FjcCOBs3qjTgMOcr3iXYHvQWXQ5WBTP8QPPU6kbj2ty+1xnU+NFK0eTRotNd1gnaod4B5BLqmfBt90/+CQV4C0gRXhZ9GooddB8pILkfLh6qG1MYSBSjD5YKRQXX/2v6MfVO8AXsc+jQ5VDkEOQc5UPnS+rk7dPx2vXX+bD9ewEkBcEIUQzCD+MSeRVPFxQYzRdgFv0TzRAiDUIJcAXXAY7+mfvo+IL2V/SH8iLxRPAY8NXwgPIh9Y/4hPypAMUEjgjKC28OLRDeEDsQEQ5XCjsF5/6g9+Pv9ec34B/Z9tL4zU3K/8cpx+PHZ8rezmLVB96B6IX0pgFXDx4dYSqiNoVBu0oJUj9XMFq6WtJYZFSMTWxERTl0LGweuA/XAHPy3eSH2MfN6MQ8vsW5qLfStzG6sL4bxTHNu9Zw4eXsxPivBDkQ9hqRJKQs5TI2N4I51zljOEQ1rjDYKuojHBywE98K6QEf+cTwH+lm4tjchdh81dLTatMz1CPWHNkI3c3hROdF7Yjz5PkgABcGpAuSEMkUIRiHGvMbVBypG/YZVhfzE9kPOAtABhAB7/v49mDyXO7+6n7oAuej5lnnH+nP6yLv3vK+9pH6Rv7nAWgF3gg8DHYPYxLIFGwWFhejFhEVhRIlD0ULIQcOAzD/o/tt+JH1BPO48MruU+2M7Jrsru3Q7/Py8PZ4+zcA0QT0CHIMJg/rEKMRKhFXDxYMiQfTAS/76fNm7Prk+t2/157S0s6AzLLLeMzdzuvSuthM4JHpQfT8/1cM5RgiJa0wHjsfRGxLzlAaVDtVL1TWUEVLikPcOX0uwSERFNEFlffT6SDd6tGOyFXBTrysuWO5X7t9v4nFV82s1l/hCu1N+bsF4hFJHXonCjCaNgc7ND0lPRA7KTezMeoq+CInGqoQxQbP/BnzA+rZ4eTaUNVP0dfO4c1WzhjQF9M313fcueLH6V7xJvm7AM0HGg5oE44XhhpXHAAdkRwYG6AYSxUkEVIMFQeoATz8F/dk8kDuz+oG6BnmFuUd5TnmaOi+6wPw/vRV+qL/lQTyCI0MZg+IEScTXhQ/FdAV8BWDFWIUgRLTD4EMtwi4BMUAAv2h+ar2JfQX8oLwbe/m7g3v9++28UX0kPd3+7j/IARlCFQMuQ9lEkoUPxU1FQAUlhHMDZQIHQKh+n/yEOrB4fLZ/dI0zeHIHsb5xGvFgMdHy8bQGtgs4err8PfdBEQSjx9LLOk3CkJoSs5QI1VYV11XNlXlUGBKzUFWNzcrxR12D8MAOvJv5N3X88wKxGW9ILlPt923srquv5fGQs9h2cHkAvHB/Y0K3hY5IiQsOzQgOrA94D7HPaQ6wTVfL7onDh+TFY0LOwHt9vrsweOk2/3UB9DszLTLS8yNzjbSFtfu3Ivj2uqU8oH6UQKgCSYQmBXIGYkc2x3NHYIcHBrDFrASBA7sCJgDNf74+An0m+/U69TosOZw5Sfl0+V95xjqku3c8dT2NvyzAewGoguVD6cS3BQqFtQW7RaOFskVmxT1EswQHA7rCloHmwPw/5H8uvmH9wf2KvXi9Ab1fPUp9v/2+/cs+Zr6Qvw1/lgApALxBCcHDQmKCnwLvwtPCwwK9Qf7BA8BO/y89tTwwurS5FLfb9pb1k/TQtFC0F7QmtEQ1OXXQ90u5LTsmfZ8ARENvRgTJKIu/jfyP1dGEUsQTkVPjE7PS+5G+j8JN0UsFiDoEkYFtve46sfeNNRRy1vEc7+uvA68lr0zwdPGUc5o19nhVu10+cQF2BEwHV8n+y+sNjk7jD2sPbw77Td8MporfSNsGpcQTgbh+63xGeiM32XY3NIwz17NT83bzsHRxdWs2lrgp+aJ7dX0R/yVA1cKRxAcFaUYzhqYGyEbhhn/FrgT3Q+OC/EGMQJv/cn4Y/R18CPtheq06MHns+eQ6GHqGe218BT1CPpK/3oEVAl8DckQMhPBFJAVzxWqFTgVexRhE9cRwQ8lDQkKkgbsAkn/8fsE+Zb2s/RE8zfye/H38K3wqfAF8drxPPM99db3B/ul/oQCdgY/CrINlxDMEiwUlxTjE/4R5w6YCjUF9/4t+Bbx9OkI45bc6dYw0pPOJcwdy5zLy83S0cPXmN8Y6QX05v9IDLwYyyQFMBM6rEKQSaBOpVGBUhtRW01PRws/yDTFKGUbMA2i/kLwpeJF1pfL/MK3vPC4rrfzuJe8bsJIyt/T3N7z6sf33wTFEe4d2igPMi858z09QBtAsT1FORczayuQIs8YaA6xA/34re4e5bfc09Ws0GvNE8yRzKvOKtLN1lrcoeJ96d7whPgsAHsHFw67EykYNxvNHAodAhzVGcEW9BKaDtIJxQSc/4L6qPUy8UrtHeq95znmk+XQ5f/mEOkB7MHvKvQi+V7+kgN3CL4MPBDXEpQUkxXxFeIVjBX2FB8U8RJiEWEP7gweCgEHvQN1AFH9bPre96v12fN18nvx+fDy8GnxaPLx8/v1hPiE++j+lAJpBkEK7A0oEcITeRUjFogVdhPmD+oKvQSk/Rv2ce7k5tDfbtn705zPcsyVyiPKQcsOzrfSWdnj4Sbs0vdgBFQRHB4lKus0HD50RbhK8U0TTxpOFksSRgg/GDZsKzkf4BHSA5z10OcJ29XPo8bKv3m7urlzunm9lsKUyUDSWtyj59fzlgB0DfUZhyWgL8Y3lj3ZQIJBsj+wO9o1fi74JZQcihIgCJP9I/Mh6fXf99d70dDMIMp8yc/K9M2k0ozYW9+75nPuWfYw/rsFvwz/ElMYgBxnH/YgHiHhH1AdmBnnFHQPfQlQAzT9YPcP8l7tZek95uPjT+KN4bPhyeLj5ALoIOwl8dT22/zZAnsIdw2XEcQUCReJGGAZvxm+GWsZrxh2F7MVShNFEMUM4wjZBN4AIv3X+RL33/Qz8/3xK/Gl8HHwj/AD8eTxRfM+9d33Jvv3/hsDXAdpC+YOjxElE34TiRIsEHcMoAfdAXv73/RF7tvn/OHK3F7Y69SG0kzRbNEJ00bWS9sh4q3qsvTN/3wLNRdxIq4shTWzPA1CdkXwRm9G9EOZP2E5YzHKJ88czBAmBFb35upG3+/URMyVxSnBHb94vx7C5MadzQfW29/E6nL2igKeDkcaCiVwLh02sTvtPr0/KD5ZOpk0OS2RJP0a0hBdBvH71PFO6LjfWNhp0izOwcs7y5TMpM831ADasuAE6KfvY/f+/isGuwx9EkQXABueHRIfWB9iHj8cBhnJFLcP/gnmA8H9zvdQ8nntZ+ks5sPjKeJX4UnhDOKz41Lm6+l87uLz1PkMACkGvQuIEF8UMBcPGSMaohqzGnIa7BkQGcsXCBbCE/EQkA3GCbYFhwFx/Zr5JfYp867wuu5E7Uvs0OvR61rse+1I79rxQPVz+Uz+lgMBCS8OyRJ1Fs8YjxmdGOoVfhGkC8MEPf2B9eftteY24JnaDtar0nrQn8870HjSjNaR3ITkRO55+aYFNhKNHhIqLzRzPI1CT0avR75GnUN4PoI39C4RJREaPg7sAXD1K+mK3QPTD8oZw4O+l7xuvQPBIcdsz4HZ7uQw8cj9Rgo+FlAhMCuIMwo6fD6wQIpABj5EOXUy4CnmH+kUWgm1/Wfy5eeO3rfWrtCdzJ/Ktcq5zHnQrNX92yDjvOqH8k765AEbCbAPZBUVGpIdqR9SIJEfdR0fGr8VlRDxCg8FJP91+T70oO+164/oLuaQ5KjjYOO+48rkh+YH6U7sUfAH9UP6wf8vBTYKkA7/EW8U7BWKFoIWGBZ6FckUDxRKE2USOxG8D9QNdwu2CKcFbQIv/wj8G/l/9kP0g/JA8XnwNvBw8BzxQ/Lq8x323fgn/Pb/KwShCBcNNxG3FCgXFBguF0cUUw+QCIUAvvfI7j/mpt5l2K/Th9DnzqbOqs/y0ZXVy9q94YXqGPUoAUoO3RseKUY1mj+DR5xMtU7OTRpK7EOdO5wxTiYPGkgNNgAh82bmRdoZz07FSL18t1O0ILQHt/y81MUm0W3eDu1S/IoLHRqFJ1YzPD35RFFKH01UTeNK1EVXPqM0EikSHBsOwv+Z8Svk/9eMzTvFYL8nvKO7xL1SwvnITdHb2irlye9N+mUE1w1sFvQdMCT8KDAslS0XLbMqayZyIBIZphCmB3/+qvWT7YjmyOBw3IjZD9jw1wvZQNtx3ofiZufp7PLybPkbAMAGEw27Em8X+BofHdIdMx11G9UYpBVCEvAO2AscCcoG1QQvA74BZgAl//H9y/zC+976KPqr+WT5U/lo+aD58vlP+r36TfsX/Dn9xf7SAGoDcwa9CQMN4g/WEWMSChFuDaEH+v/u9kTt3eOF2+3UgdBXzlbOH9A10zjX3dsJ4ermru2X9dr+bQkUFVshky33OMNCTUoAT4dQ1k4ISm5CgjjKLOIfbBLhBLL3Quu33zrV88vgwyi9FbjptPyzl7X7uVbBmct92HTnwPeUCA4ZWSjMNe1Aa0kjTxdSX1IqULFLIUW8PL4yYCfxGrwNEgBZ8gDlb9gUzW/D7bvotqK0NrWOuGu+acYA0J7avuXe8KX73QVcDwcY0B+TJi4sczApMx00ITMYMBQrPSTTG0IS/QeS/YPzOOoS4ljbONbP0gvR1tAP0oHUENij3BriWuhJ78L2fv4vBoYNKBTYGWIeoyGWI0wk9yPCItIgXx6JG2wYKBXQEW0O/Qp/B+sDNABQ/DX47/OY71rre+dR5DPibuEx4pHkgejR7TL0Q/uXAr8JVRD+FVgaDR3cHYkc9RhAE7cL1AJN+ejvVOcP4HLatNbF1GLUOtX51nbZs9y/4NTlNuz88xr9XgdnEqwdkSh/Muw6ZkGdRV1Hm0ZrQ/I9dTZOLdUiexeyC9b/OPQf6cXeXNUQzRjGqcD6vFC757vdvkjEFcwL1s7h0u6A/DYKYBd/IyEu7ja1PVJCvEQFRUtDvj+VOgw0ZCzMI3saqBB9Bi/88fEK6MzeftZrz9fJ7cXLw3PD3MTyx43MgNKY2ZzhUOpp85b8ewXJDS8VZxtMIMIjvyVPJoIldyNKICEcKBeQEZwLhAV8/775dfTG78nrd+jV5e7jxOJa4sXiHeRq5pzpnu1H8lz3n/zSAbYGFwvkDggSfhRXFpoXURiXGHQY9RczFzIW8hR1E7gRtQ9cDaQKjQcbBGEAh/zE+Ff1ePJa8CXv6e6g7z7xm/Nz9o35pfxp/4sBvwLJAnwBuf5++vL0iO7U51XhttuY11DVI9Ui1xvbuuCV5ynvAPfP/lYGcw0gFFUaHiCHJYIq+y7cMgk2TTh6OWo55jfLNA4wqSm3IXAYIQ44Ayn4au12473akNMizpHK58gSyePKI86a0gLYIt7P5NjrE/Ne+qIBxAikDygWMhyYISwmxylDLIQtbC3yKyYpICX9H/YZQxMdDMsEi/2T9h3wXup15Xbhcd5q3FjbMNvh213dlN914vHl8+lv7lLzePi+/f4CEAjGDPYQfRQ5Fw8Z7RnHGaIYkxa1EywQIgzOB2EDB//i+hn3wfPj8IruweyR6wbrJevw62nthe8v8lL1zfiB/EoA/QN7B6oKbA2mD0YRPxKIEiESHBGOD40NQQvJCEkG3gOXAYL/n/3y+3n6Nfkr+Fn3xfZ89n72zfZt91b4dfnA+i38nP36/jgAPAEDAo0C0QLfArkCZQL4AYEBDQGpAGgAUABgAJ4A/wB5Af4BdgLYAhgDJwP4AosC6QEaATEAPf9D/kz9Wvxy+5b6y/kf+Zz4Rvgq+FP4xPhz+VX6YvuT/N/9Of+eABYCkwMWBZ8GIQiOCdoK/AvwDLUNRw6iDsAOlg4cDk0NHgyPCqIIYgbqA1QBtP4w/Ob53vcp9tn06/Ng8z3zc/P488z01/UG91X4svkL+2n80v1A/7sAUQL5A6kFTwfPCA4K/QqCC5ELLwtpCk4J7QdYBqQE3AIDARv/Jv0v+zP5OPdU9ZfzEPLN8OLvXO8974nvPvBY8dbyo/Sy9vz4bvvu/WYAyQIABfcGnQjjCcEKOAtLCwMLawqNCW4IJQfHBV0E+QKwAYwAkv++/hH+i/0g/cT8b/we/Nf7r/u1++v7WvwK/fL9Bf8+AH0BngKYA1sE1QQNBQsF1AR2BP8DeAPsAmAC2gFpARMB1ACwAK0AxwD7AEwBuAEuAqcCGQNyA6IDngNjA/ACRwJ1AYUAg/+E/pP9sfzn+zX7k/oA+nf58/hw+P73o/do91v3gffb92j4J/kS+iH7Vfyn/Qz/hAAMApgDHAWMBtUH4wirCSMKRwoaCp4J3gjrB80GjAU7BOQChgEsAOT+sv2f/LT79fpi+v75xvm0+cz5EvqM+j37JvxG/Zf+FAC3AXIDMgXlBnMIywnlCrcLOQxvDFkM+QtVC28KSwnsB1QGiASRAm0AKf7V+4X5S/c69Wrz7PHL8BXwy+/s73XwYPGe8h30zvWm95j5kPuF/Wv/NwHnAmoEtwXOBqMHLQhrCFsI9Qc8BzkG8gRwA8oBGABu/tP8Xvsf+iD5Y/jl96b3rPf394X4UPld+qj7Hv23/mUADwKbA/EECAbeBm4HuwfOB7cHfgcxB9kGcwYEBpQFGAWNBPwDYgO9AhcCfAHyAH8AJwDs/9D/0v/r/xYATQCHAL0A5wD5AO4AxgCAAB0Ao/8X/4j+Af6H/SL90vya/Hr8bfxx/IP8nfzF/P78Pf2E/dr9OP6b/gn/ef/m/1UAwQAfAXgByAEDAiYCKgIMAtUBggEUAZcADwCB//3+j/4z/vX93P3e/fn9Lf5y/sX+Iv+A/9f/IwBlAKEA2gATAVEBkgHPAQsCRgJzApUCsAK4Aq0CnQKJAmgCRQIhAvEBvQGHAUcB+gChAD8A2f9u/wX/pP5N/vz9u/2Q/XP9Yv1m/Xz9m/3D/fP9Jv5Y/of+tP7k/hr/VP+W/9//KgBwAKkAyADFAKUAagAXAL3/Zf8X/9n+r/6a/pn+ov6o/qf+n/6O/nP+Uv42/ib+Iv4y/ln+l/7l/kD/pP8MAHEAygAYAWEBpwHuAUACowIQA4UD/wNyBMsEAQUOBekElAQVBHMDuAL5AUIBmgAIAIz/JP/I/mv+A/6M/Qz9iPwG/JL7Pfsa+y37e/sE/Mf8vv3W/vn/HgFCAk0DLQTmBHgF2wUKBgIGygVqBeIENARkA3ACWQEkANv+gP0d/MT6gvln+IL34PaJ9nz2wvZc9zz4Wvmo+h38sf1W//kAkgIaBH8FtwbAB48IIQl7CZIJYQnoCCoILgf1BYME5wI3AYX/2/1T/Pn63/kP+Yn4Tvhe+LD4QfkG+vH6+fsY/UD+Z/+EAJEBhQJeAxIEnwQIBUkFXQVGBQUFlwT/A0wDhQKsAc0A9P8k/2D+tf0o/bb8afxA/Df8UvyO/OH8Sv3L/Vb+5/59/woAjQAFAWsBuAHuAQoCBwLsAboBZwH6AHcA3/86/5T+9f1f/dr8cfwr/Aj8CPwo/Gr8zfxU/QD+z/67/8QA6wEcA0wEdAWABloH+wdaCG8IOwjFBw4HHwYFBcUDbAIEAZL/Iv6//HP7RfpA+XH43veF9233mPcD+K34kvml+t77Of2q/iEAlwH+AkkEdAVtBikHqwfwB+sHnwcVB0kGQQUIBKcCLgGt/yv+u/xv+1D6Yvmw+D74BvgK+Ev4w/hs+UH6OvtS/IH9w/4MAFMBjwK4A8MEpwVaBtgGHgcnB/EGfQbPBe0E4QO2AnwBQQAV/wT+Ff1Q/MD7Y/s2+zv7cfvP+0v85PyT/VD+Ff/W/4oANgHQAVMCxAIdA10DggONA3kDSAP9ApcCFwKHAeQAMAB4/77+BP5U/bj8N/zZ+6f7pvvY+z78zfx9/Uv+Kf8HAOEArgFnAg4DmAMCBFEEfgSFBGsEMQTLAzoDiAK3AcsA0P/M/sv91vz2+zj7ovo3+v359Pkf+n/6DPvC+5/8nf2t/sz/7gAMAh4DGATwBKQFLgaIBrIGqQZtBv8FaAWnBL8DvgKtAY4AZf86/h/9G/wy+2r6y/la+Rr5Dfk0+Y75G/rX+rP7rPzB/eb+EAA/AWgCfgN9BFwFFAaiBv4GIwcYB9cGYQbBBfwEFQQZAxEC/QDo/9n+0P3O/OD7CPtI+qb5LPng+MD40fga+ZX5PPoQ+w78KP1U/pD/zAAAAiUDMwQfBeMFfgbnBhwHIAfxBpEGBAZPBXQEeQNoAkQBEgDi/rn9nfya+7j6//l4+SP5AfkW+WL53vmF+lX7Qfw//U/+a/+JAKQBswKqA4IEOAXJBSwGVwZOBhIGpwURBVYEfgOPApIBkgCd/7f+4/0l/YH8/PuX+1n7Q/tS+4n76Ptq/Af9vP2B/k7/GQDbAIkBIwKmAgkDTANzA3sDZwM7A/ICkAIfAp8BEQF9AOv/Wv/R/lf+7v2c/WH9Qf0+/Vb9if3T/TD+m/4N/4L/9f9fAMIAFQFYAYYBnwGkAZQBcgFGAQ0ByQCEAD8A+v+2/3n/Qf8M/+H+wP6u/qj+sP7N/v3+P/+V//j/ZADZAFABxAEuAosC0wIHAyQDKQMXA+4CrwJbAvQBfQH1AF0AuP8M/1X+nf3w/E38uvtF++/6uvqq+sD6A/tl++z7lPxT/S7+D//3/98AwAGSAk4D8gN3BNgEEwUmBRMF2QR2BPIDTwOLAqsBvQDH/8v+1/3v/Cf8fvv1+pb6Zfph+oP61fpP++37qvx7/V/+Tv9IADkBHwL2ArcDVwTPBC8FbgWEBXAFMgXcBHEE3AMqA3cCvQH0ACoAZv+o/vf9Yv3y/Jb8Tvwq/CX8Pfxx/Mf8MP2h/SD+of4h/6D/EwB9AN0ANAF8AbwB8wEZAjUCQwI5Ah4C8AGxAWcBEAGzAFgAAACt/2P/Kv/9/t7+z/7O/tn+7f4G/yT/R/9p/4r/rf/T//j/HABGAHIAnADEAOgABgEcASoBMAEsARoB/QDaAK4AewBFABAA4P+z/43/cP9a/0v/Qv9A/0b/UP9f/3b/kf+x/9b/AQAsAFQAfACdALgAxwDKAMEArQCIAF4AMAD9/8n/l/9q/0X/KP8S///+9v71/vr+Bf8Y/y//S/9s/5P/vf/l/xEAPQBpAJUAvQDdAPAA/QAAAfQA2AC2AIoAUwAZAN//pv9v/zv/Dv/m/sj+rv6a/pH+k/6Y/qb+vf7X/vP+Ev83/1v/g/+w/9v/AgArAFUAfACfAMAA2wD1ABIBLAE/AVMBZgFzAXkBfQF5AWwBWQE/ASIBAwHeALYAjABfADIABwDZ/6v/gP9W/y//EP/2/t3+0P7R/tr+6v7+/hj/N/9f/4n/tP/k/wwAOABhAIkArwDJAOAA8wD+AP0A9QDoAMsAoQBwADYA+P+2/3X/Nf/6/sb+nf6A/m3+af5x/oT+nP6+/vD+JP9e/5z/5v8pAGoAsADtACYBVgF7AZIBnAGXAYcBbgFCAQ4B2ACcAF0AIQDn/7X/if9m/0z/QP89/zz/R/9Y/2z/if+s/9P//f8vAFwAhQCqAMwA6wABAQ4BFAEWAQsB/ADmAMgApwB7AEgAFwDm/7b/iP9Z/y//B//l/sz+uP6s/qb+rf7A/tz++/4l/1j/iP+5/+z/IABKAHMAmQC1AMsA0wDRAMkAsACPAGkAOgAIANn/p/90/0X/H//9/uX+2/7Z/uP++/4f/1P/jv/P/xIAWgCnAO8AMQFnAZUBuQHOAdgB2AHIAawBhAFRARYB0gCIADYA6f+a/0z/A//D/o3+YP5I/jn+Of5K/m3+nP7U/hr/Y/+0/wkAXACwAP0ARAF+AawByQHVAdMBvQGZAWMBIAHVAH8AHQC8/1n/8f6T/kP++v26/ZD9f/18/Yf9rP3f/SX+fP7X/kH/tP8iAI0A9gBVAaYB5AESAjECOgI0AiEC/wHRAZMBUAENAcAAdwAtAOf/qf9x/0L/Hf8I//j+9f4B/xb/OP9d/4j/uf/w/ygAXwCSAMIA8gAYATQBRAFHAUUBMgETAe8AvQCAAEMABADA/33/QP8G/9L+qf6J/nb+a/5r/nH+gP6b/rr+5f4R/0P/ef+u/+X/FwBOAH8AqQDGANkA5ADmAN0AyQCwAI0AaABBABkA8//O/6//k/9//3H/bv92/4f/oP+//+v/GgBNAIUAvgDwAB8BRAFbAW4BdwFzAWMBTQEtAQsB5QC4AIcAUAAWAN//qf9z/z7/Ev/s/s/+uv6q/qb+rP67/tb+/P4m/1H/hv+9/+z/GQBFAGgAhQCaAKIApACiAJQAfgBeADYADADb/6f/bf8y//3+xv6b/nz+Y/5U/lb+YP56/qb+2v4V/1T/nv/g/yAAYQCXAMgA8AARATABRgFSAVkBWQFWAUgBOAEkAQkB6ADEAKUAhgBqAFIAQwA7ADkAQQBOAGIAfACTAKwAxgDcAO8A/AAGAQwBDAEEAfoA6wDUAL4AoAB+AF0AOgAPAOT/u/+S/2z/Sf8o/wn/8P7Z/sP+sP6g/pD+gf53/mv+Zv5h/lz+W/5b/l7+ZP5t/nj+hv6Z/qj+t/7L/tj+6P72/gb/HP8z/03/bP+N/7X/4/8KADcAYwCPALkA3QAIASwBUAFyAZYBuwHbAfoBGgI5AlECYwJzAnkCdAJsAl4CRgIoAggC5AHAAZwBeQFbAT8BIwEUAQAB8ADiAMsAvgCsAJsAhQBvAFUANAAMAOH/tf97/0H/Bf/E/n7+Nv7s/Z39Uv0F/bv8d/w4/AP81fuz+5v7j/uU+537u/vp+yL8bPzC/CD9hv30/V7+0P5H/7X/IwCOAPMAWQG6AQsCVQKeAtgCBwMwA0sDXwNuA3UDdwN4A3cDdgN1A3QDdgOBA48DlwOhA6gDqQOiA5MDdwNSAyQD5wKjAlQCAQKkAUIB4QB8ABQApv8//9P+aP4I/qf9Tv37/LT8cvw5/A/87vvb+9T71fve++/7C/wv/FD8ePyk/ND8+vwj/U/9ev2j/cv98/0e/kn+dP6h/tD+BP87/3P/sv/2/zsAggDPACYBcQHDARMCYAKwAvICLwNsA6EDywPwAwwEIAQqBDMEMQQkBAwE7gPKA5gDYgMkA98CkAJHAvgBqAFcAREBywCGAEsAFgDh/6//hv9b/zL/Cf/i/sH+nf56/lH+H/7u/bf9gP1E/QD9vPx2/Cj83PuW+0/7EfvU+qD6efpe+k/6RvpQ+mf6ifrD+gz7Z/vU+1P85Px8/SH+0/6H/z4A+QCwAV4CCQOrAzwEwAQxBY8F3QUXBjoGTgZPBkAGIQb3BccFkQVVBRoF4ASmBHMEQAQUBOwDxwOjA4EDXgM3Aw4D3wKsAm4CJwLbAYQBIwG8AEsA1f9c/+D+YP7d/Vv93Pxc/OH7c/sG+6L6SvoC+sP5k/l1+Wn5dvmV+cH5/PlJ+qP6Bftu+9z7VvzJ/ED9uv0r/pf+//5k/77/FABmALEA9wA4AXoBtAHtASgCYAKaAssC/AIoA1ADdQOSA6kDugPFA8sDywPFA78DtgOxA6sDoQOXA4oDewNhA0YDIwP2Ar8CgQI6AucBigEnAcIAWgDz/47/Mf/V/oT+PP79/cv9m/12/Vf9Nv0X/fr84vzV/MD8rPyX/Hb8Vvw3/Bn88/vQ+6n7gftk+0j7NPst+yj7MftN+3P7pvvo+zr8lPz+/Hb99f2D/h3/vv9dAAYBrAFOAu0ChgMZBJ0EGQWBBeEFLgZoBpMGqQaxBqQGiQZjBjcG/AXBBYAFOwX1BLUEeQQ9BAYE0AOgA24DOwMJA9QClgJQAgUCsAFRAeoAfQADAH7/9/5n/tH9Pv2r/Bj8jfsK+4z6IPq++Wf5Hfnn+MH4rfit+L745fgf+XH5zfk6+rz6Sfve+3f8FP2u/Uf+2f5k/+L/WADDACIBeAHGAQkCRQJ+Aq4C3wIGAy4DUQNuA4gDmgOmA6gDogOYA4kDcQNUAzgDIAMIA/QC4gLYAs8CyAK/ArQCpgKPAm8CPgIHAsMBegElAcgAbgAPALb/Yf8V/9D+k/5j/jz+HP4G/vj96/3h/dr90/3N/c/9zf3G/br9nv16/VH9Hv3e/Jz8VvwN/Mf7e/s4+wP70Pqq+pX6ifqO+qr61/oZ+3D73/th/PP8mf1N/g7/1/+cAGUBLALsAqQDVQT5BIsFEwaGBuQGNQduB5IHoQedB4gHYgcyB/UGrQZgBhMGwgVwBR8FzwR+BDAE4wOTA0QD7QKZAkMC6QGMASsBywBqAAoAp/9A/9f+av79/Yr9Dv2Q/Az8h/v/+nj69/mB+Rz5yfiI+F74VPhj+I340Pgu+Z75H/qx+kn75vuD/CD9uv1I/tD+T//D/zQAmgD0AEUBigHHAfIBFgIuAjUCNQItAh8CEgIFAgECBgIYAjwCagKoAvECQwOcA+8DRwSUBNAE/QQaBR8FDwXkBKEEUATkA2kD2gJDAqAB8AA+AI7/2f4h/nf92/xL/Mj7XvsT++T61vrp+hr7ZvvI+0f80Pxb/en9Y/7J/hD/M/84/xn/4f6S/jD+wv1I/dv8d/wd/M37kvtl+0P7M/st+z37WvuK+837JfyZ/CD9wv13/jn/CADeALYBiQJRAw0EtARIBcsFNgaMBtYGFgdDB2kHhweaB6QHoQeRB24HNwfrBokGDwaGBe4ERwSiA/oCXALQAVYB8ACiAG4ASwA3AC0ALAApACMAGAAIAPT/0f+m/3n/SP8J/7r+Yv72/Xf94vwx/HD7qPrV+QD5O/iP9wb3qfZ/9pH24fZ190r4VPmN+vT7ff0W/7kAWQLqA2AFswbbB8IIagnJCdwJngkTCUUILQffBWQEzAIiAXX/0/1N/O76v/nP+B74u/ed98b3Ovj1+On5C/tV/L39OP+yAB0CbwOcBJEFTwbGBvYG3QZ/BuUFFwUiBBkDDwISATQAhf8O/8n+uv7W/hn/av/C/w4AMQAjAMn/Iv8j/tP8TPuV+b/36fUo9JnyV/Ft8O3v4O9J8BjxVvLx89z1EPh3+gb9sP9vAi4F4Qd+CvQMLg8gEbwS6BOjFNsUjBS3E2MSnRByDv4LUwmRBtUDMQG+/pT8ufo8+Rz4Vffy9uX2K/e/95j4rvn8+oD8Lv75/9cBwgOoBXoHJwmgCtMLsAwuDT4N3gwJDL8KBQneBlIEdwFZ/gv7pPc49Onw0u0S683oGecR5sjlRuaZ567pf+z07/XzX/gG/cwBgwYLCz4P9xIeFpcYTxo5G0wbgRreGG8WQRNyDyALcAaQAar88veR87fvhewc6pLo8Oc86Gnpaeso7onxafWo+SP+sQInB2cLUg/CEpYVsRf/GHUZBhmwF38VhBLTDpMK7gUYAUn8rvd/8+XvCu0N6wLq3+mj6jLsa+4o8TT0Y/d3+kj9oP9lAYMC6AKjAsQBWgCL/ob8Y/pN+Gz21fSg893yk/LT8prz3vSh9tn4eftr/qQBBwV1CNAL9A7CER4U7xUVF4wXUhdkFtQUvhI1EGMNZQpWB1kEigH5/rD8wPol+en3B/eE9l72lvYw9yb4ePkZ+wb9Kv9yAckDCgYeCPIJbgt/DB0NPg3pDCAM6QpOCVoHGwWNAsP/u/yF+TL2zPJw7zrsT+nO5uDkpeMw45Djz+Tl5r7pPu068Y/1E/qa/gEDLgcHC3MOZBHME58V3hZ0F2IXqRZAFTkTkRBoDdoJDAYyAnD++Pr094712fPp8sLyWPOd9HL2wvhs+0z+SAFFBDcH+wl/DK4OcxDCEYMSqxIpEgARNA/TDPIJrAYwA5//Jvzw+CP26fNO8mDxIvGW8aDyIPQI9i/4afqN/Ib+LwBeAQQCDAJfAQUABv5o+174DfWq8W7umOta6efnX+fQ50rpwusf7z3z8vcN/V8CtwfkDLwRHhbnGfkcPh+kIBchjyAQH50cRhksFXgQUgv3BaMAlvsC9xjz/u/N7ZjsU+z97HrutPCJ89H2bPo4/hQC0QVbCY8MRw9nEc8SeRNPE1USjRAIDuYKSAddA1L/Uft/9wX0+vBy7nHsAesg6rzpzelM6irrZ+z67crv1fEB9DL2Yfhu+j38y/0G/9z/WgCGAGkAHgC5/0v/7v6r/pj+u/4P/5T/QQAZAQ8CGAMxBFYFgwa/BwYJVwqzCw4NWg6KD5EQVxHREfERsRENEQYQrg4MDTcLPQkwBx0FEgMcAUP/kv0N/L76r/nq+Hj4Z/i9+Hr5ofon/Pz9EABKAooEswaiCDcKUgveC8gLAAuBCUkHXgTNAK38GPg28yzuNumH5Fvg8dx+2jXZL9mF2kfdYeGy5gbtH/TF+6cDdAvuEs0Z2x/jJLkoPytlLCUseyp5JzQjyR1nF0gQsQjrAEb5E/Kc6yTm7uEh38vd+t2e357i1OYB7PDxX/gP/7kFIQwNEjMXbhuOHnEgBSE3IA4enhoMFo4QYQq7A/L8UfYS8IDqxOUP4ojfMN4M3hXfOOFS5Dfovuyz8c/24/vEACoF3AizC4YNPA7UDU0MvwlUBj8Cwf0V+YH0PfCD7ILpWecl5uzls+Z36CTroe7Z8rD3+fyLAj4I4g1IE0YYsRxfICsjAyXZJaMlbCRBIjofehssF30Slw2oCNkDVf87+6z3u/R88vbwMPAx8O7wYfJ29BX3JPqE/RkBwgRVCLILuQ5FEUETlBQwFQMVCBRAEq0PYAxkCNADv/5V+bTzB+5/6ELjit6F2mzXctW71G7Vj9cq2yfgYeah7ZX19v1qBqAOQRYLHcMiOidXKgIsOywFK3wotSTMH/EZSRMRDIAE3fxu9YPuYuhJ43XfE91A3PfcL9/D4ofnOu2P80D6CgGsB+INeRNDGBgc2h5qILYgwh+IHQoabxXhD5sJ4QL8+zv15+5J6aPkIuHh3vbdXd7838PifOb56gvwbvXk+jcAMwWXCT8N9g9+EcIRrRBRDroKFwa1ANH6wvTd7nLpx+Qa4ZfeV91c3areMOHU5H/pA+889f/7EQNDClYRBRgfHmUjpyfBKo8sEC08LCoq+CbKIt4dZxidEr0M/QaJAYr8KviH9LLxwO+47pfuXO/+8GHza/b7+dv95gHsBcEJPg1AEKwSaRRsFawVMRUCFB0SkA9nDLAIhQT3/yH7I/Yg8Tvsludj473fzNy12pjZldm62grdh+Ae5arq/PDV9/X+EAbhDCETlhgRHW8gnyKYI14j/iGXH0ocNRh3EzYOnAjYAhn9ifde8s/tCuo554Hl7+SN5VHnGOq/7Rfy5/bs+/YA0QVMCkcOohFEFBsWHxdHF4UW4hRmEhkPFgt+BoYBXPw391by+e1g6q3nBeZ35fvlhef56S7t8/Af9XD5yf3xAbEF+gigC3UNWA4qDtUMWgrABisC1/wE9wXxNOvh5Vfh3t2m28jaRdsg3TvgdOSv6bzva/aQ/f0EfQzUE8QaEiGDJtoq7C2aL90vsS4uLHkowiNPHmcYRxIrDEsG1gDx+733UvS88RHwWu+Q767wp/Jj9cP4mfywANgE2wiEDKYPJhLoE+AUDRVzFCoTPhHCDsgLYwioBKkAe/w9+Ab06O8I7IToeOX+4i7hJeDq34jgBuJV5HbnSeu376P01fkt/3IEcQkADvoRPhWxF0IZ8hnMGdUYHxfFFOoRpw4TC0kHXgN3/6r7E/jW9Avy0+9E7m/tY+0V7nzviPER9Pf2Jfpl/ZQAogNwBusICwu6DOgNmw6/DkUOLg15CysJTwYGA3L/uPsL+Jf0h/EN707tTuwg7MXsIu4o8LDymPW8+Pv7LP8aAqsEvQYnCMgIgwhCB/kEvgG3/Q/5DvT97jnqEebD4ovgit/X32nhKOT657PsLvI3+KX+TgUNDLESDhn3Hi0keii1K70taS6xLaYrXSgKJOYeMhk5EzsNdgceAlf9OfnV9Trzb/F28FHw+PBl8of0TPeX+j/+HAL1BZUJ0gyBD4gRzhJIE/sS8xFDEAMOSQspCL4EEwFD/WT5hPXD8Szu4uoC6J/l4uPR4n7iAeNZ5H7mY+n37BnxpvV3+lb/GgSeCLIMORAdE04VxhZ+F3sXxxZ2FZMTJxE9DuwKRgdiA2D/Uvts99PzrfAj7lPsVesk68frKu0y78HxsPTd9yf7df6uAb4ElwcnCl0MJg5pDwkQ+A8eD3kNFAsBCGkEgACC/Kf4JvU28gTwm+4F7jfuE++F8Gvyo/QN95P5Evxy/qQAdAK5A1kEKgQLAwIBLP6p+qv2h/KY7iXrcOiq5vrlYubX5zvqYu0r8XD1G/oN/zYEjQn1DlYUjRliHqQiHiahKAUqMiooKQIn5yMAIJYb3BYIElAN0AiaBL0AS/1A+rL3qfUv9FXzKfO08/D01/ZQ+S/8Sv9uAmgFEQhCCuQL7wxaDTENggxcC80J6AeyBTUDfQCX/Yb6WPcx9B7xRe7I67zpRuhu50bn2ucZ6fnqZ+1Q8JLzCveh+jf+rgHxBOsHjwrRDKAO+w/dEEIRJxGFEGUPwg2mCyQJRgYsA/j/wPy1+fn2o/TR8o7x1PCh8Ozwo/G98iT0zfWz98z5EPx5/u0AVwOvBcYHfgnECnILgAvvCsQJFQj9BaoDOQHP/pX8mfrt+Jz3n/bv9Yr1YvVz9bv1Kva69l33BPiV+P74KPns+ED4HveU9b7zyPHo70vuJ+2o7OHs3O2X7/nx7fRN+PX7yf+wA54HggtRD/4SdRajGW4csh5WIEIhYiG0IEUfLB2KGooXWRQhEQQOFwtxCBMG+QMcAncACv/S/dD8DvyR+177ffvr+6H8k/2y/ur/IgFOAlYDMgTZBEYFegV2BT0F0QQyBGEDXgIyAd//bP7e/Db7fPm99w72c/T18q3xofDl73/vfO/i77rw+PGQ8331offu+Uf8mf7cAP0C7gSnBiIIWglHCuAKJQsNC5wK0gmsCDcHhAWgA6ABof+w/eD7Rvrm+Mj3+fZ19j72Vva39mD3Sfhw+cj6R/zV/WD/1AAfAi4D7wNhBHoEQgTEAwoDLgI8AUkAaf+m/g3+oP1l/Vn9dP20/Qf+YP6t/t7+3/6t/jb+Wv0h/I76qfiP9mH0O/Ix8GzuCe0V7Jjrl+sM7PHsPO7o7+vxO/TX9sT58vxWAOYDjQcoC5EOqxFWFHkWBRj1GFEZKhmXGLgXqBZ6FUQUBBPHEYMQMQ/XDXAMBQueCUgIEgcJBjcFoQRCBA8EAQQEBAQE+APYA5gDNwPHAlIC2gFoAQQBtgB0ADAA5P+B/wv/bv6g/bH8pvuL+nT5Zvhv95r27fVo9Qj1yfSk9JX0m/Sw9N30KvWc9T32Ffci+F/5yfpV/Oj9dP/kACcCMgP/A4kE2ATzBOEEsARoBA8EpwM0A7ICHwJ+Ac8AGQBk/7f+Hf6k/VL9Mv1G/Yj99f17/hH/ov8gAIQAvQDJAKIAVgDp/1z/xv4i/n/94vxI/Lr7OPvD+l36DvrY+cL5zfn9+U76uvo7+8f7VPzE/A79Nf0t/e38hPz0+zz7dvq2+fz4VvjO92r3Mvcg9zf3fffr93r4M/kW+h/7Vvy+/Uv/+QDGApsEbAYxCNkJUAuQDJYNXg7mDkMPaw9zD2MPPg8PD9kOoQ5dDhQOwQ1kDfQMewz9C3AL4gpTCsoJRQnECEYIxQdEB7kGHwZ3BcIE/QMoA0cCXwFxAIf/pf7E/e38HvxW+5b62vkl+XX40/dE98r2ZfYX9ub10PXW9fX1JPZm9sD2Jfed9yn4w/hp+Rn60PqO+1H8FP3U/ZX+Tf/6/6IAPgHNAU0CwgIkA3cDuQPjA/QD7QPPA5IDRgPkAnUCAQKNARgBpAA7AND/Z//8/pL+Jv60/UH9yfxU/OL7dfsR+7n6cfo7+hn6DvoY+j76ePrG+ij7nfsZ/J38Iv2Z/Qr+Yf6a/rb+r/5//if+qf36/Cz8QvtM+lj5ZPh+97T2CfZ89RL12PTR9PX0UvXa9ZP2h/ey+Bb6r/t1/V//YwFoA2kFWgcmCcAKJwxWDUsOCw+WD/IPKhBDEEAQKBD1D6kPTQ/cDlYOww0nDYIM0wsnC4UK5AlLCbgIKgikBx8HlwYQBocF9wRkBMkDMAOZAgUCcwHoAGYA7P92//7+iv4R/o79Dv2K/P77dPvx+m76+PmN+TH59PjG+Kb4nvip+Mf48Pgn+Wj5rfkD+mf62vpi+/j7m/w//eX9gv4V/5j//f9QAIoAsADKANsA5gDsAOwA5QDfANAAtgCRAGAAJADf/5f/Tv8I/8/+nP57/mL+Tf5B/jP+Jf4P/vP90f2t/YH9WP08/SD9C/38/PL85vzh/OH83fzT/Mf8ufyk/JD8ePxd/Df8AvzG+3T7C/uM+vr5Wvmp+Pb3Svew9iT2svVX9Rj1+fT39Bn1X/XL9Vr2GfcK+Cv5d/rx+5f9Wf8uAQYD1ASTBjUIsgkGCzMMNw0WDtIObg/vD1EQlxC6ELwQnBBeEPwPgg/1DlMOrg0HDWUMzgtAC7oKPQrBCUoJzQhCCKgHBAdUBpkF2AQSBFkDoALpATsBlQDy/0r/o/78/Vb9rPwL/G774fpr+gT6sfls+UL5Kfkb+R35H/kj+TL5Rfll+Y/5xfkU+nX66Ppp+/r7jPwc/ar9Lf6j/hH/df/S/ykAdAC8APwALwFUAWgBaAFXAToBEwHiAKcAaAApAPL/uf98/z////65/mn+Ff66/Vj99PyT/Db84fuZ+2D7LvsG++v60Pq4+qP6kPqB+nf6bvpk+l76VfpH+iz6B/rN+Xr5EPmQ+AH4Xve69hf2efXx9IL0LvT78+zz/fM29Jn0JvXe9cb25Pcw+aT6R/wO/u3/3QHUA8UFoQdpCQsLhQzUDfgO9Q/DEGsR6hFCEm4SeBJkEigSzhFaEc4QNBCND+UOPQ6ZDfYMWwzJCzgLrAofCpEJ/whoCMcHIQdrBrEF8gQnBF4DjQLCAfcAKQBf/5r+2/0g/XH8y/s1+7L6Qfrh+Z/5cPlX+VP5Xvl9+ar53fkV+lb6nPre+iD7bvu8+wn8Wvyn/PH8Pf2B/b398f0d/j/+Uv5e/mX+Z/5e/lX+Sv4//i/+K/4z/kb+X/5+/qn+2f4J/zr/Zv+E/5f/l/+E/17/Jv/Z/n7+FP6f/Rv9kfwG/Hr79/p4+gj6oflT+RL54/jG+L34v/jC+M/41/jd+Nz4zfiz+Ir4WPgc+Nb3ivc19+X2mvZY9iD2/PX19Qn2Q/aY9ib34PfG+OH5IPuE/P/9jv8vAdUCcQQJBpUHDwl0CrwL6Az4DeoOtQ9bEN4QNBFkEWURShEOEbUQRxC+Dy0PmQ79DVoNvwwjDIoL9gplCtcJUgnVCFgI4wd3Bw4HpQZEBtsFdAUJBZQEGASQAwYDaALEAR0BagC6/w3/ZP7F/TD9p/wt/MX7avsh++f6uvqg+pL6jfqW+qf6vfre+gT7KvtU+337ofvK++37DPwl/Dv8T/xY/F78Xvxc/Fn8UvxJ/D78OPww/C/8Mvw2/Er8Z/yM/Lf87vwn/WD9mv3N/fj9F/4j/hz+Bf7Y/Zj9Rv3g/Gr85/th+9T6SPrB+UL50Php+Bn42fet9533lveo98f37vcd+FD4gviv+NX47fj4+Pz49Pjc+Mf4rfiQ+IX4j/ih+Mz4Ffl7+QH6n/pj+0v8TP1o/qL/6wBGAqkDFgWEBuwHTgmdCt4LCQ0ZDgUP0g91EPUQTxGIEZgRhxFcERQRuBBREN0PWg/cDlQO0Q1JDcMMQQy3CzALqQohCpkJFwmRCBAIjQcGB30G8AVhBckEJwR7A88CHAJqAbUA/v9N/6X+Av5k/dD8RvzE+0j72vp4+hz60vmW+Wv5Tvk++Tz5QvlV+Wj5gPmg+b753Pn++SH6R/pv+pX6wfrr+g77MvtW+3D7gfuU+6H7qfu3+8D70/vq+wb8J/xH/G78jPyn/Lv8x/zE/Lb8m/xs/DT87fua+zj70Ppf+ur5ePkI+aX4TfgK+Nr3vfe898739Pcs+Gv4s/j3+Dr5c/me+b35yPnG+bD5iflh+Tz5Evnx+Nf4v/i3+MX47Pgq+YT5/vmh+mT7QvxO/YT+2v9MAdcCdwQjBtUHhwkmC7gMLg6HD8AQzBG5EnkTDRR0FLIUyBSzFHgUExSSE/MSORJwEZUQsw/KDuQNAQ0fDFULlgrsCVUJywhXCO0HlwdGB/0GtQZrBhgGugVTBdcESASjA+0CJAJJAV8Ab/91/n79jfyq+9r6Gfp2+er4ePgg+OH3tfea9433hfeH95H3mfej9633tPe397L3rfee94f3bvdL9yH3/fbU9qv2h/Zk9k32QPY99kP2XvaP9tH2JPeM9w74ofhC+ff5u/qG+0r8Cf3E/WP+7P5b/6X/uf+l/2n///5o/qv9z/zW+9L6yPnI+MT32fYK9lb10fR29Ej0P/Re9Jz0+fRv9fn1lfZE9wr43vjA+bv6zvvn/Ab+Jf9AAGIBewKOA6EEsAW2BroHygjYCe0KFgxCDW4Olg+tELcRrRKGEzsUyxQ4FXYVixV6FUMV7BR1FOMTOhOAEr4R9BAjEFUPjw7KDQcNSwyPC9UKHwpnCagI6wcxB3YGtgX3BDsEgQPEAgUCSAGRANf/F/9X/o/9x/z1+yn7XfqM+b346fch9172pfX69FX0xPNK897yjvJX8jryPvJc8pLy4PJI88fzWvT49Kf1VvYL98P3b/ga+bb5QPq7+iD7bvun+8772fvS+7r7ivtR+w/7xPp1+in62/mO+U35Ffno+MX4qvif+KH4rfjL+PP4JPla+Z355/k0+oH60fof+2f7rPvr+xz8Rvxm/H38kvyd/Kr8t/zK/On8D/1D/Yn94f1J/sX+Tv/m/5AASwEOAuICwQOfBIcFcwZcB0AIJQkCCs8KkAtIDOkMdA32DWAOtw78DjcPZA+ND6cPwQ/ZD+MP+A8LECMQNRBDEEwQTRBJEDgQGxDjD5YPMw+2DhoOXw2JDJYLiwpoCS0I6gaZBUEE7QKdAVYAHv/2/eP87fsV+1/6xvlV+f34v/iY+H/4d/h2+Hr4e/h4+Gj4SPgg+Ob3nPdH9+X2fPYD9oX1CfWH9BH0oPM089zyl/Je8j/yLvI18lPygPLF8hfzgPP183f0AfWQ9ST2t/ZL99f3YPjc+FL5wfke+nP6tvrv+iP7Svtu+4z7p/vD+9r79fsU/DX8YvyX/ND8D/1g/bv9Fv56/uP+Uv/B/zAAoAAOAX0B6AFHAqMC/AJIA48DywMABDMEXwSHBK8E2QQBBSsFWwWVBd4FJAZzBtMGMQeWBwAIdwjuCGIJ1AlBCq4KCAtYC58L1gv5CxAMFwwODP8L5AvDC50LcgtGCx0L+grWCrYKnwqKCnoKcwpjClUKTgo8CiMK/gnNCYcJMwnHCEYIswcGB0cGdAWSBKIDrQKyAbIAsv+9/sj93Pz4+yP7XPqc+fP4V/jH90X31vZv9hD2tvVn9Rr1y/R79Cn02vOE8yrzzfJ68iLy0PGC8TrxAPHM8KjwkfCM8JTwrPDY8BPxX/G58SfyovIr88LzX/QE9bH1YvYZ99P3ifg/+fb5qfpY+wf8rPxK/er9gv4M/5H/EgCMAAMBcQHaAUMCoAIAA1wDtwMWBGkEvwQRBWIFtAUCBlIGnwbuBjUHfQe/B/wHNwhpCJgIvQjWCOoI9gj1CPEI4wjUCL0IoQiJCG0IVghACDMIJwgYCBMIEwgLCAwIDwgLCAwIDAgHCPsH6gfVB7YHjwdhByYH5wahBlYGCAa4BWgFEwW+BG8EIwTbA5sDZgMzAwAD0wKtAoYCWwIwAv0BwwF8ATEB2QByAAYAj/8M/37+8P1d/cD8JPyP+/v6cPrk+WD55/h4+BP4tvdp9yj38Pa/9pv2fvZp9ln2TvZM9kv2SfZO9lT2YPZo9nX2ifad9rP2zvbt9gv3N/dk95j3z/cL+E74k/jc+Cf5gPnX+TH6kvrz+lj7vfsk/Ir89fxh/cj9M/6b/v3+Xv++/xsAcADGABgBbQHBARACXAKmAu8CNgN4A8EDAgQ/BHoEtATxBCcFXgWTBcUF9gUjBksGbQaIBqMGtQa4BrcGsgapBpoGiQZxBlcGPQYfBgUG6AXLBbkFpQWUBY8FiAWIBYwFlQWiBa0FuwXGBcsFxwXCBbYFogWBBVkFJgXkBKIEVgQDBKoDTwPrAoECHwK4AVAB9ACZAEQA/f+9/4L/Uf8q/wn/7v7R/rj+o/6N/nv+Y/5K/ir+B/7h/bP9gf1G/f/8sPxZ/AL8pvtC++H6gfoo+tH5gPk2+fj4x/ic+H34b/ht+HL4gPia+Lz45vgY+Uz5ifnP+Rb6Yvqx+gP7WPut+wH8T/yb/N78IP1h/Zn9z/3//TD+Wv6B/qH+wP7g/gD/H/87/1b/cP+U/7D/zv/u/wUAIwBDAGAAfACUAKwAyADfAPUAEAEqAUIBYQGEAa4B2QEEAjUCbAKmAuICIQNjA6gD6QMnBGIElATABOgEBQUfBSYFIwUcBQoF9ATaBLoElwR2BEsEJAT/A94DvQOfA4kDdANqA2QDYgNgA2UDcQN8A4EDkAOfA6YDpAOlA6QDlAN/A18DOwMHA84CkgJKAvcBnQE9AdgAdQANAK7/Qv/a/oD+Iv7P/YX9Qv0I/db8r/yN/HX8Zvxc/Fj8Vvxa/F38Yfxn/Gj8Zvxg/Fb8R/w1/CL8Dvz5++X7y/u0+6P7lvuW+5P7mfuo+7373fsI/D38cfyy/O/8Mv15/b39/f02/nj+rP7Z/gH/Jf9E/2L/fv+R/6n/xf/Z/+//AgASACkAPgBVAHEAigCkALwA1wDxAAYBHgE1AUcBUwFiAWkBaQFrAWkBZQFdAVYBSQE7AS0BHgENAf0A8QDkANwA2QDcAN4A5wDzAAMBGwEtAUABVgFsAYIBlwGtAcIB1AHeAeYB8AH1AfcB9QHzAfAB6QHeAdMBxQG4Aa8BowGcAZUBkQGNAZEBlgGaAaoBuAHJAdwB8AEDAhMCIAIsAjICMAIxAisCHgIGAugBxgGUAV4BIgHfAJoAUwAKAMX/ev80//f+uf6A/k/+I/7+/eL90f3E/bv9vf3B/cf90f3Z/eb98/3//Qf+Ef4W/hf+Gf4Y/hn+F/4X/hL+DP4L/gz+DP4S/hb+Hf4s/jz+Uf5p/on+p/7G/uf+Bv8j/0H/XP9u/33/jf+b/6T/qv+t/6v/qf+n/6n/o/+e/5n/l/+V/5D/kv+Q/5P/lf+W/5r/nf+n/6r/s/+5/8P/zf/X/+n/9v8FABQAJQA2AEcAVwBkAHIAfwCGAJEAmgCiAKoAsAC3AMAAyADLANAA1gDdAN8A5QDsAPYA/gAEAQ4BFgEfASEBJQErASoBKQEqAScBHQEWAQ4B/QDzAOwA4gDeANUAzQDOANAA2ADiAOwA+AAEARMBIwEyAUEBTwFYAWIBZwFjAWEBVgFKAToBHwEFAeQAxACeAHkAVAAoAAQA4P+9/5n/dv9b/z7/Jf8V/wX/+v7y/u7+6f7m/un+6f7q/un+7f7t/ur+7f7p/uL+2v7X/tT+0P7M/sT+wP67/rb+sf6w/rL+sP6z/rb+vv7G/s3+2f7o/vP+//4N/xv/Mf9A/1X/av98/5D/o/+2/8j/2v/m/+//+f8AAAMACgAIAAgACgAJAAgACQAOAAoACgAMAA0AEwAgACcALQA4AEMASgBWAF8AZwB4AIEAigCXAKEAqAC0ALkAsQCwAK4ApACZAIoAfwB7AHAAaQBjAFYASgBJAEgARgA+AD4ARQBHAFEAUABUAGEAcQB2AH4AhgCRAJkAmgCjAKQApgCmAKUApwCoAKUApAChAJ0AmACVAJAAjACGAIEAfwB7AHQAagBoAGAAWABMAEQAOAArAB0ADwAEAPX/7P/i/9T/xf+3/6X/m/+J/3n/bf9g/1P/Rv9C/zf/L/8o/y3/Lv8t/y3/M/85/z7/SP9O/1P/UP9Y/2T/Z/9x/3f/dP9z/3T/ef94/3X/dv90/3f/d/91/3r/gv+J/5H/nP+m/7H/v//P/93/6v/6/wwAFwAoADcAPwBRAFgAXABjAGoAcAByAHkAdAByAHYAeAB1AHkAegB2AHwAfAB7AH8AgACAAIAAhACFAIEAhQCDAH4AgAB8AHUAcwBwAGgAXgBYAFUATgBIAD8ANAAsACEAGQAOAAMA+P/s/+P/1//N/8X/v/+5/7T/tf+1/7j/vP/B/8b/z//W/9v/4v/q/+3/8f/4//n//P/7//3//v////3/+//1//P/8v/s/+z/5v/l/+T/5f/p/+v/8f/1//v/BQAJABAAGwAfACcALwAzADgAOQA5ADgANQAzAC8AKQAgABoAFgARAAkABQABAPv/+//0//P/8f/s/+//6//t/+//7P/x//P/8f/z//X/8P/v/+z/6//q/+j/6P/n/+X/4//o/+b/6f/p/+r/8f/z//f//P8CAAUADQAPABcAHgAhACkALgAwADEANQA0AC4ALwAqACQAHQAUAA0AAgD7//P/6//i/9r/0v/N/8n/xP/B/77/uv+6/7v/t/+4/7j/uv+6/73/wP/A/8X/xv/K/8v/y//M/8v/zv/J/8b/x//F/8X/wf/C/8L/xP/C/8L/x//F/8n/z//T/9j/3//n//D//P8FAA8AHAApADUAPQBKAFAAVABZAFgAVgBTAE8ASABCADwANAAtACYAIAAaABUAFAATABAADwARABcAGQAdACIAKgAvADUAOwA/AEQARgBGAEcARwBDAEAAPgA7ADUAMQAvACoAJwAhABwAGQAWABIADgAPAAwACgALAAgACAAKAAoACgAPAA0ACgAOAA4ADwANAA4ADQANABAADQAOABEAEgASABMAFgAYABkAGwAcABsAGAAXABUAEQANAAUABAAAAPz/9f/q/+b/4f/Y/8z/zv/J/73/vv+7/7f/tf+4/7P/tP+5/7D/sv+4/7b/tf+4/7r/vf/C/8H/xv/P/8v/y//T/9b/1v/X/9f/1//e/9r/2v/l/+v/5//m/+v/7f/z//X/8v/0//X/8P/w//X/9f/x//P/+P/5//T/+P8AAAQABwADAAIADgASAAoAEQAbABkAHgAhACsANQA3AC4AOgBMAEAAPgA5ADUANwAwACIAIwApABsAJQBAAEMARQBTAF4AbgB+AHgAeQCdAJQAigCQAIQAiAB1AFsARgA4ABUA+v/w/9X/yP+n/5T/k/+N/4T/eP+A/4D/d/+I/5L/of+q/7P/0//u//z/9/8TACkAMQA8ADkARABFAEEANwBHAEIAJgAuACkAGwAiAAUA/v8SAPv/5P/f/+b/\" type=\"audio/wav\" />\n",
              "                    Your browser does not support the audio element.\n",
              "                </audio>\n",
              "              "
            ]
          },
          "metadata": {}
        }
      ]
    },
    {
      "cell_type": "markdown",
      "source": [
        "## Pipeline"
      ],
      "metadata": {
        "id": "ugbS3rsTwKsH"
      }
    },
    {
      "cell_type": "code",
      "source": [
        "def audio_generate(command: str, model = f5tts, ref_file: str = \"\", ref_text: str = \"\"):\n",
        "  wav, sr, spec = model.infer(\n",
        "      ref_file=ref_file,\n",
        "      ref_text=ref_text,\n",
        "      gen_text=command,\n",
        "      seed=None,\n",
        "  )\n",
        "  return wav, sr, spec\n",
        "\n",
        "def ref_sample(audio_folder_path, json_folder_path):\n",
        "  audio_files = os.listdir(audio_folder_path)\n",
        "  json_files = os.listdir(json_folder_path)\n",
        "\n",
        "  audio_file = random.choice(audio_files)\n",
        "  json_file = random.choice(json_files)\n",
        "  id = json_file.split(\".\")[0]\n",
        "  return id, os.path.join(audio_folder_path, audio_file), os.path.join(json_folder_path, json_file)\n",
        "\n",
        "import random\n",
        "\n",
        "def audio_pipeline(dataset):\n",
        "    results = {}\n",
        "\n",
        "    for idx in range(len(dataset)):\n",
        "        sample = dataset.iloc[idx]\n",
        "        id = sample['id']\n",
        "        ref_id, ref_file, ref_text = ref_sample(\"/content/audio/dung\", \"/content/json/dung\")\n",
        "\n",
        "        if sample['type'] == 'single':\n",
        "            command = sample['command']\n",
        "            wav, sr, spec = audio_generate(command, ref_file=ref_file, ref_text=ref_text)\n",
        "\n",
        "            results[id] = {\n",
        "                'ref_id': ref_id,\n",
        "                'ref_file': ref_file,\n",
        "                'ref_text': ref_text,\n",
        "                'type': 'single',\n",
        "                'command': command,\n",
        "                'wav': wav,\n",
        "                'sr': sr,\n",
        "                'spec': spec,\n",
        "                'sub_commands': None\n",
        "            }\n",
        "\n",
        "        elif sample['type'] == 'chain':\n",
        "            # full command\n",
        "            command = sample['command']\n",
        "            wav, sr, spec = audio_generate(command, ref_file=ref_file, ref_text=ref_text)\n",
        "\n",
        "            # sub commands\n",
        "            sub_commands = sample['sub_command']\n",
        "            dict_sub_commands = {}\n",
        "\n",
        "            for sub_idx, sub_cmd in enumerate(sub_commands):\n",
        "                wav, sr, spec = audio_generate(sub_cmd, ref_file=ref_file, ref_text=ref_text)\n",
        "                dict_sub_commands[str(sub_idx)] = {\n",
        "                    'command': sub_cmd,\n",
        "                    'wav': wav,\n",
        "                    'sr': sr,\n",
        "                    'spec': spec\n",
        "                }\n",
        "\n",
        "            results[id] = {\n",
        "                'ref_id': ref_id,\n",
        "                'ref_file': ref_file,\n",
        "                'ref_text': ref_text,\n",
        "                'type': 'chain',\n",
        "                'command': command,\n",
        "                'wav': wav,\n",
        "                'sr': sr,\n",
        "                'spec': spec,\n",
        "                'sub_commands': dict_sub_commands\n",
        "            }\n",
        "\n",
        "    return results\n"
      ],
      "metadata": {
        "id": "swDgj-3KwUPe"
      },
      "execution_count": 39,
      "outputs": []
    },
    {
      "cell_type": "code",
      "source": [
        "res = audio_pipeline(df)"
      ],
      "metadata": {
        "colab": {
          "base_uri": "https://localhost:8080/"
        },
        "id": "4nvQDzc41hgQ",
        "outputId": "951f2a91-5114-4148-dcf7-dd939116573e"
      },
      "execution_count": 40,
      "outputs": [
        {
          "output_type": "stream",
          "name": "stdout",
          "text": [
            "Converting audio...\n",
            "Using cached preprocessed reference audio...\n",
            "Using custom reference text...\n",
            "\n",
            "ref_text   /content/json/dung/EN_B00013_S02332_W000000.json. \n",
            "gen_text 0 set sound mode to cinema\n",
            "\n",
            "\n",
            "Generating audio in 1 batches...\n"
          ]
        },
        {
          "output_type": "stream",
          "name": "stderr",
          "text": [
            "100%|██████████| 1/1 [00:01<00:00,  1.99s/it]\n"
          ]
        },
        {
          "output_type": "stream",
          "name": "stdout",
          "text": [
            "Converting audio...\n",
            "Using cached preprocessed reference audio...\n",
            "Using custom reference text...\n",
            "\n",
            "ref_text   /content/json/dung/EN_B00013_S02282_W000000.json. \n",
            "gen_text 0 turn on subtitles\n",
            "\n",
            "\n",
            "Generating audio in 1 batches...\n"
          ]
        },
        {
          "output_type": "stream",
          "name": "stderr",
          "text": [
            "100%|██████████| 1/1 [00:02<00:00,  2.16s/it]\n"
          ]
        },
        {
          "output_type": "stream",
          "name": "stdout",
          "text": [
            "Converting audio...\n",
            "Using cached preprocessed reference audio...\n",
            "Using custom reference text...\n",
            "\n",
            "ref_text   /content/json/dung/EN_B00013_S02352_W000000.json. \n",
            "gen_text 0 resume\n",
            "\n",
            "\n",
            "Generating audio in 1 batches...\n"
          ]
        },
        {
          "output_type": "stream",
          "name": "stderr",
          "text": [
            "100%|██████████| 1/1 [00:03<00:00,  3.83s/it]\n"
          ]
        },
        {
          "output_type": "stream",
          "name": "stdout",
          "text": [
            "Converting audio...\n",
            "Using cached preprocessed reference audio...\n",
            "Using custom reference text...\n",
            "\n",
            "ref_text   /content/json/dung/EN_B00013_S02502_W000000.json. \n",
            "gen_text 0 set volume to 75\n",
            "\n",
            "\n",
            "Generating audio in 1 batches...\n"
          ]
        },
        {
          "output_type": "stream",
          "name": "stderr",
          "text": [
            "100%|██████████| 1/1 [00:01<00:00,  1.31s/it]\n"
          ]
        },
        {
          "output_type": "stream",
          "name": "stdout",
          "text": [
            "Converting audio...\n",
            "Using cached preprocessed reference audio...\n",
            "Using custom reference text...\n",
            "\n",
            "ref_text   /content/json/dung/EN_B00013_S02652_W000000.json. \n",
            "gen_text 0 show the TV guide\n",
            "\n",
            "\n",
            "Generating audio in 1 batches...\n"
          ]
        },
        {
          "output_type": "stream",
          "name": "stderr",
          "text": [
            "100%|██████████| 1/1 [00:01<00:00,  1.59s/it]\n"
          ]
        },
        {
          "output_type": "stream",
          "name": "stdout",
          "text": [
            "Converting audio...\n",
            "Using custom reference text...\n",
            "\n",
            "ref_text   /content/json/dung/EN_B00013_S02212_W000000.json. \n",
            "gen_text 0 play 'It's All Coming Back To Me Now' by Celine Dion and increase the volume to 80\n",
            "\n",
            "\n",
            "Generating audio in 1 batches...\n"
          ]
        },
        {
          "output_type": "stream",
          "name": "stderr",
          "text": [
            "100%|██████████| 1/1 [00:04<00:00,  4.21s/it]\n"
          ]
        },
        {
          "output_type": "stream",
          "name": "stdout",
          "text": [
            "Converting audio...\n",
            "Using cached preprocessed reference audio...\n",
            "Using custom reference text...\n",
            "\n",
            "ref_text   /content/json/dung/EN_B00013_S02212_W000000.json. \n",
            "gen_text 0 search on YouTube for 'It's All Coming Back To Me Now'\n",
            "\n",
            "\n",
            "Generating audio in 1 batches...\n"
          ]
        },
        {
          "output_type": "stream",
          "name": "stderr",
          "text": [
            "100%|██████████| 1/1 [00:03<00:00,  3.16s/it]\n"
          ]
        },
        {
          "output_type": "stream",
          "name": "stdout",
          "text": [
            "Converting audio...\n",
            "Using cached preprocessed reference audio...\n",
            "Using custom reference text...\n",
            "\n",
            "ref_text   /content/json/dung/EN_B00013_S02212_W000000.json. \n",
            "gen_text 0 increase the volume to 80\n",
            "\n",
            "\n",
            "Generating audio in 1 batches...\n"
          ]
        },
        {
          "output_type": "stream",
          "name": "stderr",
          "text": [
            "100%|██████████| 1/1 [00:02<00:00,  2.26s/it]\n"
          ]
        },
        {
          "output_type": "stream",
          "name": "stdout",
          "text": [
            "Converting audio...\n",
            "Using cached preprocessed reference audio...\n",
            "Using custom reference text...\n",
            "\n",
            "ref_text   /content/json/dung/EN_B00013_S02352_W000000.json. \n",
            "gen_text 0 fast forward 30 seconds and skip intro\n",
            "\n",
            "\n",
            "Generating audio in 1 batches...\n"
          ]
        },
        {
          "output_type": "stream",
          "name": "stderr",
          "text": [
            "100%|██████████| 1/1 [00:05<00:00,  5.32s/it]\n"
          ]
        },
        {
          "output_type": "stream",
          "name": "stdout",
          "text": [
            "Converting audio...\n",
            "Using cached preprocessed reference audio...\n",
            "Using custom reference text...\n",
            "\n",
            "ref_text   /content/json/dung/EN_B00013_S02352_W000000.json. \n",
            "gen_text 0 fast forward 30 seconds\n",
            "\n",
            "\n",
            "Generating audio in 1 batches...\n"
          ]
        },
        {
          "output_type": "stream",
          "name": "stderr",
          "text": [
            "100%|██████████| 1/1 [00:04<00:00,  4.41s/it]\n"
          ]
        },
        {
          "output_type": "stream",
          "name": "stdout",
          "text": [
            "Converting audio...\n",
            "Using cached preprocessed reference audio...\n",
            "Using custom reference text...\n",
            "\n",
            "ref_text   /content/json/dung/EN_B00013_S02352_W000000.json. \n",
            "gen_text 0 skip intro\n",
            "\n",
            "\n",
            "Generating audio in 1 batches...\n"
          ]
        },
        {
          "output_type": "stream",
          "name": "stderr",
          "text": [
            "100%|██████████| 1/1 [00:03<00:00,  3.36s/it]\n"
          ]
        },
        {
          "output_type": "stream",
          "name": "stdout",
          "text": [
            "Converting audio...\n",
            "Using custom reference text...\n",
            "\n",
            "ref_text   /content/json/dung/EN_B00013_S02382_W000000.json. \n",
            "gen_text 0 open Netflix and show me recommendations\n",
            "\n",
            "\n",
            "Generating audio in 1 batches...\n"
          ]
        },
        {
          "output_type": "stream",
          "name": "stderr",
          "text": [
            "100%|██████████| 1/1 [00:03<00:00,  3.17s/it]\n"
          ]
        },
        {
          "output_type": "stream",
          "name": "stdout",
          "text": [
            "Converting audio...\n",
            "Using cached preprocessed reference audio...\n",
            "Using custom reference text...\n",
            "\n",
            "ref_text   /content/json/dung/EN_B00013_S02382_W000000.json. \n",
            "gen_text 0 open Netflix\n",
            "\n",
            "\n",
            "Generating audio in 1 batches...\n"
          ]
        },
        {
          "output_type": "stream",
          "name": "stderr",
          "text": [
            "100%|██████████| 1/1 [00:02<00:00,  2.14s/it]\n"
          ]
        },
        {
          "output_type": "stream",
          "name": "stdout",
          "text": [
            "Converting audio...\n",
            "Using cached preprocessed reference audio...\n",
            "Using custom reference text...\n",
            "\n",
            "ref_text   /content/json/dung/EN_B00013_S02382_W000000.json. \n",
            "gen_text 0 show me recommendations\n",
            "\n",
            "\n",
            "Generating audio in 1 batches...\n"
          ]
        },
        {
          "output_type": "stream",
          "name": "stderr",
          "text": [
            "100%|██████████| 1/1 [00:02<00:00,  3.00s/it]\n"
          ]
        },
        {
          "output_type": "stream",
          "name": "stdout",
          "text": [
            "Converting audio...\n",
            "Using cached preprocessed reference audio...\n",
            "Using custom reference text...\n",
            "\n",
            "ref_text   /content/json/dung/EN_B00013_S02582_W000000.json. \n",
            "gen_text 0 add 'Notting Hill' to my watchlist and select this option\n",
            "\n",
            "\n",
            "Generating audio in 1 batches...\n"
          ]
        },
        {
          "output_type": "stream",
          "name": "stderr",
          "text": [
            "100%|██████████| 1/1 [00:03<00:00,  3.86s/it]\n"
          ]
        },
        {
          "output_type": "stream",
          "name": "stdout",
          "text": [
            "Converting audio...\n",
            "Using cached preprocessed reference audio...\n",
            "Using custom reference text...\n",
            "\n",
            "ref_text   /content/json/dung/EN_B00013_S02582_W000000.json. \n",
            "gen_text 0 add 'Notting Hill' to my watchlist\n",
            "\n",
            "\n",
            "Generating audio in 1 batches...\n"
          ]
        },
        {
          "output_type": "stream",
          "name": "stderr",
          "text": [
            "100%|██████████| 1/1 [00:02<00:00,  2.97s/it]\n"
          ]
        },
        {
          "output_type": "stream",
          "name": "stdout",
          "text": [
            "Converting audio...\n",
            "Using cached preprocessed reference audio...\n",
            "Using custom reference text...\n",
            "\n",
            "ref_text   /content/json/dung/EN_B00013_S02582_W000000.json. \n",
            "gen_text 0 select this option\n",
            "\n",
            "\n",
            "Generating audio in 1 batches...\n"
          ]
        },
        {
          "output_type": "stream",
          "name": "stderr",
          "text": [
            "100%|██████████| 1/1 [00:02<00:00,  2.32s/it]\n"
          ]
        }
      ]
    },
    {
      "cell_type": "code",
      "source": [
        "res"
      ],
      "metadata": {
        "colab": {
          "base_uri": "https://localhost:8080/"
        },
        "id": "5aHniA2G6SfC",
        "outputId": "be03f694-94cb-4bd1-b27f-fe3e64a54457"
      },
      "execution_count": 41,
      "outputs": [
        {
          "output_type": "execute_result",
          "data": {
            "text/plain": [
              "{'single_00000000': {'ref_id': 'EN_B00013_S02332_W000000',\n",
              "  'ref_file': '/content/audio/dung/EN_B00013_S02612_W000000.wav',\n",
              "  'ref_text': '/content/json/dung/EN_B00013_S02332_W000000.json',\n",
              "  'type': 'single',\n",
              "  'command': 'set sound mode to cinema',\n",
              "  'wav': array([2.9131391e-09, 3.0021968e-10, 1.0281445e-09, ..., 5.5018044e-03,\n",
              "         5.4754289e-03, 1.2339250e-03], dtype=float32),\n",
              "  'sr': 24000,\n",
              "  'spec': array([[-11.515625 , -12.609375 , -12.3203125, ...,  -0.9428711,\n",
              "           -0.8769531,  -2.140625 ],\n",
              "         [-11.515625 , -12.65625  , -12.2578125, ...,  -1.3623047,\n",
              "           -1.1347656,  -2.3808594],\n",
              "         [-11.515625 , -12.78125  , -12.2734375, ...,  -2.5097656,\n",
              "           -1.8339844,  -0.6611328],\n",
              "         ...,\n",
              "         [-11.515625 , -12.0625   , -11.828125 , ...,  -4.7773438,\n",
              "           -4.6796875,  -3.7773438],\n",
              "         [-11.515625 , -12.1328125, -11.8359375, ..., -10.1640625,\n",
              "           -8.015625 ,  -3.3457031],\n",
              "         [-11.515625 , -11.9453125, -11.78125  , ...,  -9.1640625,\n",
              "           -8.703125 ,  -4.2578125]], dtype=float32),\n",
              "  'sub_commands': None},\n",
              " 'single_00000001': {'ref_id': 'EN_B00013_S02282_W000000',\n",
              "  'ref_file': '/content/audio/dung/EN_B00013_S02562_W000000.wav',\n",
              "  'ref_text': '/content/json/dung/EN_B00013_S02282_W000000.json',\n",
              "  'type': 'single',\n",
              "  'command': 'turn on subtitles',\n",
              "  'wav': array([ 3.0559175e-09,  3.6443726e-10,  1.3373120e-09, ...,\n",
              "         -1.6054476e-03, -4.8853020e-04, -1.2951721e-03], dtype=float32),\n",
              "  'sr': 24000,\n",
              "  'spec': array([[-11.515625  , -12.5078125 , -12.015625  , ...,   0.26635742,\n",
              "            0.21289062,  -2.046875  ],\n",
              "         [-11.515625  , -12.4765625 , -11.8671875 , ...,   0.07446289,\n",
              "            0.12817383,   0.43701172],\n",
              "         [-11.515625  , -12.53125   , -11.90625   , ...,  -1.0439453 ,\n",
              "           -0.9399414 ,  -0.9472656 ],\n",
              "         ...,\n",
              "         [-11.515625  , -11.8359375 , -11.6796875 , ...,  -3.9492188 ,\n",
              "           -3.6796875 ,  -2.4726562 ],\n",
              "         [-11.515625  , -12.0546875 , -11.6796875 , ...,  -4.7421875 ,\n",
              "           -4.2617188 ,  -3.9902344 ],\n",
              "         [-11.515625  , -11.921875  , -11.46875   , ...,  -9.640625  ,\n",
              "           -7.4023438 ,  -1.8457031 ]], dtype=float32),\n",
              "  'sub_commands': None},\n",
              " 'single_00000002': {'ref_id': 'EN_B00013_S02352_W000000',\n",
              "  'ref_file': '/content/audio/dung/EN_B00013_S02452_W000000.wav',\n",
              "  'ref_text': '/content/json/dung/EN_B00013_S02352_W000000.json',\n",
              "  'type': 'single',\n",
              "  'command': 'resume',\n",
              "  'wav': array([ 5.2599942e-09,  9.1056140e-10,  2.4287048e-09, ...,\n",
              "          1.3047779e-03,  6.9481722e-04, -9.9974444e-05], dtype=float32),\n",
              "  'sr': 24000,\n",
              "  'spec': array([[-11.515625  , -12.265625  , -11.9609375 , ...,  -1.3691406 ,\n",
              "           -2.2929688 ,  -2.9921875 ],\n",
              "         [-11.515625  , -12.3203125 , -11.90625   , ...,   0.37426758,\n",
              "           -0.27563477,  -1.3974609 ],\n",
              "         [-11.515625  , -12.34375   , -11.8828125 , ...,   1.3984375 ,\n",
              "            0.6118164 ,  -1.5761719 ],\n",
              "         ...,\n",
              "         [-11.515625  , -11.84375   , -11.6796875 , ...,  -6.203125  ,\n",
              "           -5.4335938 ,  -4.3046875 ],\n",
              "         [-11.515625  , -11.859375  , -11.6953125 , ...,  -8.0390625 ,\n",
              "           -5.6757812 ,  -1.9111328 ],\n",
              "         [-11.515625  , -11.765625  , -11.625     , ...,  -9.0546875 ,\n",
              "           -7.0234375 ,  -3.7460938 ]], dtype=float32),\n",
              "  'sub_commands': None},\n",
              " 'single_00000003': {'ref_id': 'EN_B00013_S02502_W000000',\n",
              "  'ref_file': '/content/audio/dung/EN_B00013_S02662_W000000.wav',\n",
              "  'ref_text': '/content/json/dung/EN_B00013_S02502_W000000.json',\n",
              "  'type': 'single',\n",
              "  'command': 'set volume to 75',\n",
              "  'wav': array([ 5.3052811e-09,  9.9646491e-10,  2.5091711e-09, ...,\n",
              "         -1.3868641e-02, -9.2725083e-03, -1.7805727e-03], dtype=float32),\n",
              "  'sr': 24000,\n",
              "  'spec': array([[-11.515625  , -12.5234375 , -12.234375  , ...,  -1.8476562 ,\n",
              "           -2.8417969 ,  -2.4667969 ],\n",
              "         [-11.515625  , -12.3046875 , -12.0234375 , ...,  -1.7314453 ,\n",
              "           -2.4316406 ,  -2.9453125 ],\n",
              "         [-11.515625  , -12.421875  , -12.0390625 , ...,   0.35864258,\n",
              "            0.0177002 ,   0.3071289 ],\n",
              "         ...,\n",
              "         [-11.515625  , -12.        , -11.8046875 , ...,  -2.9472656 ,\n",
              "           -2.9902344 ,  -3.0195312 ],\n",
              "         [-11.515625  , -12.109375  , -11.84375   , ...,  -3.2089844 ,\n",
              "           -3.2421875 ,  -5.28125   ],\n",
              "         [-11.515625  , -11.953125  , -11.734375  , ...,  -8.3359375 ,\n",
              "           -6.546875  ,  -2.2578125 ]], dtype=float32),\n",
              "  'sub_commands': None},\n",
              " 'single_00000004': {'ref_id': 'EN_B00013_S02652_W000000',\n",
              "  'ref_file': '/content/audio/dung/EN_B00013_S02612_W000000.wav',\n",
              "  'ref_text': '/content/json/dung/EN_B00013_S02652_W000000.json',\n",
              "  'type': 'single',\n",
              "  'command': 'show the TV guide',\n",
              "  'wav': array([3.0697249e-09, 4.5146584e-10, 1.1421777e-09, ..., 1.8768306e-03,\n",
              "         5.5057695e-03, 3.7120916e-03], dtype=float32),\n",
              "  'sr': 24000,\n",
              "  'spec': array([[-11.515625 , -12.5625   , -12.109375 , ...,  -1.7167969,\n",
              "           -2.5371094,   0.4104004],\n",
              "         [-11.515625 , -12.59375  , -12.0703125, ...,  -1.7626953,\n",
              "           -2.4726562,  -2.7304688],\n",
              "         [-11.515625 , -12.640625 , -12.109375 , ...,  -2.3046875,\n",
              "           -2.2285156,  -2.1875   ],\n",
              "         ...,\n",
              "         [-11.515625 , -12.09375  , -11.7734375, ...,  -7.3789062,\n",
              "           -7.265625 ,  -3.0507812],\n",
              "         [-11.515625 , -12.1796875, -11.7578125, ..., -10.890625 ,\n",
              "           -7.8164062,  -3.328125 ],\n",
              "         [-11.515625 , -12.0703125, -11.71875  , ...,  -9.9375   ,\n",
              "           -8.1015625,  -4.4453125]], dtype=float32),\n",
              "  'sub_commands': None},\n",
              " 'chain_00000000': {'ref_id': 'EN_B00013_S02212_W000000',\n",
              "  'ref_file': '/content/audio/dung/EN_B00013_S02592_W000000.wav',\n",
              "  'ref_text': '/content/json/dung/EN_B00013_S02212_W000000.json',\n",
              "  'type': 'chain',\n",
              "  'command': \"play 'It's All Coming Back To Me Now' by Celine Dion and increase the volume to 80\",\n",
              "  'wav': array([ 5.7540381e-09,  1.0734349e-09,  2.7678000e-09, ...,\n",
              "         -1.2106291e-03, -1.3146270e-03, -1.3768664e-03], dtype=float32),\n",
              "  'sr': 24000,\n",
              "  'spec': array([[-11.515625  , -12.1875    , -11.984375  , ...,  -0.04559326,\n",
              "           -0.9291992 ,  -1.6962891 ],\n",
              "         [-11.515625  , -12.1640625 , -11.875     , ...,  -1.3554688 ,\n",
              "           -2.1191406 ,  -3.2148438 ],\n",
              "         [-11.515625  , -12.3046875 , -11.9296875 , ...,  -2.3984375 ,\n",
              "           -2.4257812 ,  -0.7910156 ],\n",
              "         ...,\n",
              "         [-11.515625  , -11.8046875 , -11.703125  , ..., -10.5078125 ,\n",
              "           -7.4296875 ,  -2.7265625 ],\n",
              "         [-11.515625  , -11.859375  , -11.6953125 , ...,  -9.609375  ,\n",
              "           -7.0390625 ,  -3.6816406 ],\n",
              "         [-11.515625  , -11.8203125 , -11.671875  , ..., -10.140625  ,\n",
              "           -7.3828125 ,  -4.328125  ]], dtype=float32),\n",
              "  'sub_commands': {'0': {'command': \"search on YouTube for 'It's All Coming Back To Me Now'\",\n",
              "    'wav': array([ 5.8051990e-09,  1.2080535e-09,  2.9054976e-09, ...,\n",
              "           -6.2034529e-04, -7.0130196e-04, -6.7396596e-04], dtype=float32),\n",
              "    'sr': 24000,\n",
              "    'spec': array([[-11.515625 , -12.1484375, -12.1015625, ...,  -2.7617188,\n",
              "             -2.6835938,  -1.6826172],\n",
              "           [-11.515625 , -12.1875   , -11.984375 , ...,  -3.046875 ,\n",
              "             -3.0429688,  -3.0175781],\n",
              "           [-11.515625 , -12.28125  , -11.9921875, ...,  -3.9121094,\n",
              "             -3.7988281,  -1.4482422],\n",
              "           ...,\n",
              "           [-11.515625 , -11.78125  , -11.703125 , ...,  -9.484375 ,\n",
              "             -6.4335938,  -4.0351562],\n",
              "           [-11.515625 , -11.8515625, -11.71875  , ...,  -9.0703125,\n",
              "             -7.1445312,  -5.9257812],\n",
              "           [-11.515625 , -11.8046875, -11.6875   , ...,  -9.1640625,\n",
              "             -7.46875  ,  -4.7617188]], dtype=float32)},\n",
              "   '1': {'command': 'increase the volume to 80',\n",
              "    'wav': array([ 5.7540381e-09,  1.0734349e-09,  2.7678000e-09, ...,\n",
              "           -1.2106291e-03, -1.3146270e-03, -1.3768664e-03], dtype=float32),\n",
              "    'sr': 24000,\n",
              "    'spec': array([[-11.515625  , -12.1875    , -11.984375  , ...,  -0.04559326,\n",
              "             -0.9291992 ,  -1.6962891 ],\n",
              "           [-11.515625  , -12.1640625 , -11.875     , ...,  -1.3554688 ,\n",
              "             -2.1191406 ,  -3.2148438 ],\n",
              "           [-11.515625  , -12.3046875 , -11.9296875 , ...,  -2.3984375 ,\n",
              "             -2.4257812 ,  -0.7910156 ],\n",
              "           ...,\n",
              "           [-11.515625  , -11.8046875 , -11.703125  , ..., -10.5078125 ,\n",
              "             -7.4296875 ,  -2.7265625 ],\n",
              "           [-11.515625  , -11.859375  , -11.6953125 , ...,  -9.609375  ,\n",
              "             -7.0390625 ,  -3.6816406 ],\n",
              "           [-11.515625  , -11.8203125 , -11.671875  , ..., -10.140625  ,\n",
              "             -7.3828125 ,  -4.328125  ]], dtype=float32)}}},\n",
              " 'chain_00000001': {'ref_id': 'EN_B00013_S02352_W000000',\n",
              "  'ref_file': '/content/audio/dung/EN_B00013_S02522_W000000.wav',\n",
              "  'ref_text': '/content/json/dung/EN_B00013_S02352_W000000.json',\n",
              "  'type': 'chain',\n",
              "  'command': 'fast forward 30 seconds and skip intro',\n",
              "  'wav': array([ 5.6124492e-09,  8.9595642e-10,  2.4705147e-09, ...,\n",
              "         -5.0914910e-04, -3.0159033e-04, -4.6256205e-04], dtype=float32),\n",
              "  'sr': 24000,\n",
              "  'spec': array([[-11.515625 , -12.1875   , -11.921875 , ...,  -3.4003906,\n",
              "           -3.484375 ,  -3.3164062],\n",
              "         [-11.515625 , -12.2890625, -11.859375 , ...,  -4.7929688,\n",
              "           -4.8632812,   0.4111328],\n",
              "         [-11.515625 , -12.4609375, -11.953125 , ...,  -5.2265625,\n",
              "           -5.484375 ,  -0.3466797],\n",
              "         ...,\n",
              "         [-11.515625 , -11.8125   , -11.6796875, ...,  -5.484375 ,\n",
              "           -5.1953125,  -3.9609375],\n",
              "         [-11.515625 , -11.765625 , -11.75     , ...,  -5.484375 ,\n",
              "           -5.140625 ,  -3.2558594],\n",
              "         [-11.515625 , -11.46875  , -11.671875 , ..., -10.7109375,\n",
              "           -5.96875  ,  -2.7285156]], dtype=float32),\n",
              "  'sub_commands': {'0': {'command': 'fast forward 30 seconds',\n",
              "    'wav': array([ 5.0810245e-09,  1.1852452e-09,  2.7450953e-09, ...,\n",
              "           -1.9001151e-03,  4.9621193e-03,  3.9565032e-03], dtype=float32),\n",
              "    'sr': 24000,\n",
              "    'spec': array([[-1.15156250e+01, -1.24218750e+01, -1.18828125e+01, ...,\n",
              "            -3.38671875e+00, -3.16796875e+00, -1.00781250e+00],\n",
              "           [-1.15156250e+01, -1.22578125e+01, -1.17500000e+01, ...,\n",
              "            -5.07421875e+00, -4.70312500e+00, -2.20117188e+00],\n",
              "           [-1.15156250e+01, -1.22187500e+01, -1.16953125e+01, ...,\n",
              "            -7.50781250e+00, -5.68750000e+00,  7.65991211e-03],\n",
              "           ...,\n",
              "           [-1.15156250e+01, -1.20937500e+01, -1.16406250e+01, ...,\n",
              "            -3.55468750e+00, -3.07617188e+00, -2.29101562e+00],\n",
              "           [-1.15156250e+01, -1.20234375e+01, -1.16640625e+01, ...,\n",
              "            -1.04296875e+01, -7.21484375e+00, -3.07812500e+00],\n",
              "           [-1.15156250e+01, -1.19921875e+01, -1.15468750e+01, ...,\n",
              "            -1.00781250e+01, -7.56250000e+00, -4.07031250e+00]], dtype=float32)},\n",
              "   '1': {'command': 'skip intro',\n",
              "    'wav': array([ 5.6124492e-09,  8.9595642e-10,  2.4705147e-09, ...,\n",
              "           -5.0914910e-04, -3.0159033e-04, -4.6256205e-04], dtype=float32),\n",
              "    'sr': 24000,\n",
              "    'spec': array([[-11.515625 , -12.1875   , -11.921875 , ...,  -3.4003906,\n",
              "             -3.484375 ,  -3.3164062],\n",
              "           [-11.515625 , -12.2890625, -11.859375 , ...,  -4.7929688,\n",
              "             -4.8632812,   0.4111328],\n",
              "           [-11.515625 , -12.4609375, -11.953125 , ...,  -5.2265625,\n",
              "             -5.484375 ,  -0.3466797],\n",
              "           ...,\n",
              "           [-11.515625 , -11.8125   , -11.6796875, ...,  -5.484375 ,\n",
              "             -5.1953125,  -3.9609375],\n",
              "           [-11.515625 , -11.765625 , -11.75     , ...,  -5.484375 ,\n",
              "             -5.140625 ,  -3.2558594],\n",
              "           [-11.515625 , -11.46875  , -11.671875 , ..., -10.7109375,\n",
              "             -5.96875  ,  -2.7285156]], dtype=float32)}}},\n",
              " 'chain_00000002': {'ref_id': 'EN_B00013_S02382_W000000',\n",
              "  'ref_file': '/content/audio/dung/EN_B00013_S02682_W000000.wav',\n",
              "  'ref_text': '/content/json/dung/EN_B00013_S02382_W000000.json',\n",
              "  'type': 'chain',\n",
              "  'command': 'open Netflix and show me recommendations',\n",
              "  'wav': array([ 4.5792095e-09,  8.8653618e-10,  2.3130688e-09, ...,\n",
              "         -4.1964340e-05,  8.9514209e-04, -2.5416620e-03], dtype=float32),\n",
              "  'sr': 24000,\n",
              "  'spec': array([[-11.515625 , -12.359375 , -12.09375  , ...,  -5.734375 ,\n",
              "           -4.7226562,  -1.8085938],\n",
              "         [-11.515625 , -12.25     , -11.9453125, ...,  -3.625    ,\n",
              "           -4.1796875,  -0.4633789],\n",
              "         [-11.515625 , -12.1171875, -11.828125 , ...,  -2.0605469,\n",
              "           -2.1289062,  -1.9619141],\n",
              "         ...,\n",
              "         [-11.515625 , -11.8359375, -11.6953125, ..., -11.1875   ,\n",
              "           -5.7890625,  -4.5390625],\n",
              "         [-11.515625 , -11.8671875, -11.671875 , ..., -11.109375 ,\n",
              "           -5.9179688,  -4.2265625],\n",
              "         [-11.515625 , -11.6015625, -11.5703125, ..., -11.484375 ,\n",
              "           -4.921875 ,  -1.8623047]], dtype=float32),\n",
              "  'sub_commands': {'0': {'command': 'open Netflix',\n",
              "    'wav': array([ 4.3181392e-09,  8.7309848e-10,  1.7195332e-09, ...,\n",
              "            5.3188023e-03,  4.1663619e-03, -6.5926980e-04], dtype=float32),\n",
              "    'sr': 24000,\n",
              "    'spec': array([[-11.515625  , -12.453125  , -12.2265625 , ...,  -3.4921875 ,\n",
              "             -2.8320312 ,  -1.6660156 ],\n",
              "           [-11.515625  , -12.3125    , -12.0078125 , ...,  -2.7753906 ,\n",
              "             -2.3652344 ,  -1.4208984 ],\n",
              "           [-11.515625  , -12.2578125 , -11.9453125 , ...,  -0.7182617 ,\n",
              "             -1.4638672 ,  -0.45703125],\n",
              "           ...,\n",
              "           [-11.515625  , -11.9765625 , -11.8828125 , ..., -11.0625    ,\n",
              "             -6.2382812 ,  -3.1386719 ],\n",
              "           [-11.515625  , -12.03125   , -11.875     , ...,  -9.71875   ,\n",
              "             -5.703125  ,  -2.6269531 ],\n",
              "           [-11.515625  , -11.9375    , -11.734375  , ..., -10.5546875 ,\n",
              "             -6.078125  ,  -4.578125  ]], dtype=float32)},\n",
              "   '1': {'command': 'show me recommendations',\n",
              "    'wav': array([ 4.5792095e-09,  8.8653618e-10,  2.3130688e-09, ...,\n",
              "           -4.1964340e-05,  8.9514209e-04, -2.5416620e-03], dtype=float32),\n",
              "    'sr': 24000,\n",
              "    'spec': array([[-11.515625 , -12.359375 , -12.09375  , ...,  -5.734375 ,\n",
              "             -4.7226562,  -1.8085938],\n",
              "           [-11.515625 , -12.25     , -11.9453125, ...,  -3.625    ,\n",
              "             -4.1796875,  -0.4633789],\n",
              "           [-11.515625 , -12.1171875, -11.828125 , ...,  -2.0605469,\n",
              "             -2.1289062,  -1.9619141],\n",
              "           ...,\n",
              "           [-11.515625 , -11.8359375, -11.6953125, ..., -11.1875   ,\n",
              "             -5.7890625,  -4.5390625],\n",
              "           [-11.515625 , -11.8671875, -11.671875 , ..., -11.109375 ,\n",
              "             -5.9179688,  -4.2265625],\n",
              "           [-11.515625 , -11.6015625, -11.5703125, ..., -11.484375 ,\n",
              "             -4.921875 ,  -1.8623047]], dtype=float32)}}},\n",
              " 'chain_00000003': {'ref_id': 'EN_B00013_S02582_W000000',\n",
              "  'ref_file': '/content/audio/dung/EN_B00013_S02682_W000000.wav',\n",
              "  'ref_text': '/content/json/dung/EN_B00013_S02582_W000000.json',\n",
              "  'type': 'chain',\n",
              "  'command': \"add 'Notting Hill' to my watchlist and select this option\",\n",
              "  'wav': array([ 4.6907145e-09,  1.1969596e-09,  2.1513844e-09, ...,\n",
              "         -9.4948911e-05,  2.7729806e-03,  3.2725630e-03], dtype=float32),\n",
              "  'sr': 24000,\n",
              "  'spec': array([[-11.515625  , -12.21875   , -12.1171875 , ...,  -2.8378906 ,\n",
              "           -2.7089844 ,  -1.4736328 ],\n",
              "         [-11.515625  , -12.0625    , -11.9765625 , ...,  -2.765625  ,\n",
              "           -2.7246094 ,  -1.1728516 ],\n",
              "         [-11.515625  , -12.03125   , -11.9140625 , ...,  -1.4052734 ,\n",
              "           -1.4667969 ,   0.48461914],\n",
              "         ...,\n",
              "         [-11.515625  , -11.8046875 , -11.859375  , ...,  -8.7265625 ,\n",
              "           -7.8046875 ,  -1.671875  ],\n",
              "         [-11.515625  , -12.        , -11.953125  , ...,  -8.5234375 ,\n",
              "           -7.5117188 ,  -3.7148438 ],\n",
              "         [-11.515625  , -11.9921875 , -11.8046875 , ...,  -8.5859375 ,\n",
              "           -8.0234375 ,  -3.7578125 ]], dtype=float32),\n",
              "  'sub_commands': {'0': {'command': \"add 'Notting Hill' to my watchlist\",\n",
              "    'wav': array([ 4.4364290e-09,  1.1036141e-09,  2.1474071e-09, ...,\n",
              "            1.9483537e-03,  5.2639091e-04, -2.4450995e-04], dtype=float32),\n",
              "    'sr': 24000,\n",
              "    'spec': array([[-11.515625  , -12.203125  , -12.09375   , ...,  -4.34375   ,\n",
              "             -4.328125  ,  -1.1337891 ],\n",
              "           [-11.515625  , -12.1328125 , -11.953125  , ...,  -3.5839844 ,\n",
              "             -3.375     ,  -0.96777344],\n",
              "           [-11.515625  , -12.0859375 , -11.8515625 , ...,  -2.2167969 ,\n",
              "             -2.0371094 ,  -0.27197266],\n",
              "           ...,\n",
              "           [-11.515625  , -11.90625   , -11.84375   , ..., -10.1953125 ,\n",
              "             -5.578125  ,  -2.2734375 ],\n",
              "           [-11.515625  , -12.1328125 , -11.8515625 , ..., -10.2734375 ,\n",
              "             -5.625     ,  -2.5292969 ],\n",
              "           [-11.515625  , -11.984375  , -11.7421875 , ..., -10.0546875 ,\n",
              "             -5.8203125 ,  -3.09375   ]], dtype=float32)},\n",
              "   '1': {'command': 'select this option',\n",
              "    'wav': array([ 4.6907145e-09,  1.1969596e-09,  2.1513844e-09, ...,\n",
              "           -9.4948911e-05,  2.7729806e-03,  3.2725630e-03], dtype=float32),\n",
              "    'sr': 24000,\n",
              "    'spec': array([[-11.515625  , -12.21875   , -12.1171875 , ...,  -2.8378906 ,\n",
              "             -2.7089844 ,  -1.4736328 ],\n",
              "           [-11.515625  , -12.0625    , -11.9765625 , ...,  -2.765625  ,\n",
              "             -2.7246094 ,  -1.1728516 ],\n",
              "           [-11.515625  , -12.03125   , -11.9140625 , ...,  -1.4052734 ,\n",
              "             -1.4667969 ,   0.48461914],\n",
              "           ...,\n",
              "           [-11.515625  , -11.8046875 , -11.859375  , ...,  -8.7265625 ,\n",
              "             -7.8046875 ,  -1.671875  ],\n",
              "           [-11.515625  , -12.        , -11.953125  , ...,  -8.5234375 ,\n",
              "             -7.5117188 ,  -3.7148438 ],\n",
              "           [-11.515625  , -11.9921875 , -11.8046875 , ...,  -8.5859375 ,\n",
              "             -8.0234375 ,  -3.7578125 ]], dtype=float32)}}}}"
            ]
          },
          "metadata": {},
          "execution_count": 41
        }
      ]
    },
    {
      "cell_type": "code",
      "source": [
        "|"
      ],
      "metadata": {
        "id": "wGIOPc2a6tWT"
      },
      "execution_count": null,
      "outputs": []
    }
  ]
}
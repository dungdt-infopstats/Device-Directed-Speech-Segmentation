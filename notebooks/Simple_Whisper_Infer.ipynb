{
  "metadata": {
    "kernelspec": {
      "language": "python",
      "display_name": "Python 3",
      "name": "python3"
    },
    "language_info": {
      "name": "python",
      "version": "3.11.13",
      "mimetype": "text/x-python",
      "codemirror_mode": {
        "name": "ipython",
        "version": 3
      },
      "pygments_lexer": "ipython3",
      "nbconvert_exporter": "python",
      "file_extension": ".py"
    },
    "kaggle": {
      "accelerator": "nvidiaTeslaT4",
      "dataSources": [
        {
          "sourceId": 12932733,
          "sourceType": "datasetVersion",
          "datasetId": 8183808
        }
      ],
      "dockerImageVersionId": 31090,
      "isInternetEnabled": true,
      "language": "python",
      "sourceType": "notebook",
      "isGpuEnabled": true
    },
    "colab": {
      "name": "Simple-Whisper-Infer",
      "provenance": [],
      "include_colab_link": true
    }
  },
  "nbformat_minor": 0,
  "nbformat": 4,
  "cells": [
    {
      "cell_type": "markdown",
      "metadata": {
        "id": "view-in-github",
        "colab_type": "text"
      },
      "source": [
        "<a href=\"https://colab.research.google.com/github/dungdt-infopstats/TV-command-synthesis/blob/main/notebooks/Simple_Whisper_Infer.ipynb\" target=\"_parent\"><img src=\"https://colab.research.google.com/assets/colab-badge.svg\" alt=\"Open In Colab\"/></a>"
      ]
    },
    {
      "source": [
        "# IMPORTANT: SOME KAGGLE DATA SOURCES ARE PRIVATE\n",
        "# RUN THIS CELL IN ORDER TO IMPORT YOUR KAGGLE DATA SOURCES.\n",
        "import kagglehub\n",
        "kagglehub.login()\n"
      ],
      "metadata": {
        "id": "8aZjD_10fE2z"
      },
      "cell_type": "code",
      "outputs": [],
      "execution_count": null
    },
    {
      "source": [
        "# IMPORTANT: RUN THIS CELL IN ORDER TO IMPORT YOUR KAGGLE DATA SOURCES,\n",
        "# THEN FEEL FREE TO DELETE THIS CELL.\n",
        "# NOTE: THIS NOTEBOOK ENVIRONMENT DIFFERS FROM KAGGLE'S PYTHON\n",
        "# ENVIRONMENT SO THERE MAY BE MISSING LIBRARIES USED BY YOUR\n",
        "# NOTEBOOK.\n",
        "\n",
        "tridungdo_ddss_aug_ratio_test_path = kagglehub.dataset_download('tridungdo/ddss-aug-ratio-test')\n",
        "\n",
        "print('Data source import complete.')\n"
      ],
      "metadata": {
        "id": "WXlsuxOPfE22"
      },
      "cell_type": "code",
      "outputs": [],
      "execution_count": null
    },
    {
      "cell_type": "code",
      "source": [
        "!pip install faster-whisper"
      ],
      "metadata": {
        "trusted": true,
        "execution": {
          "iopub.status.busy": "2025-09-03T17:59:37.596958Z",
          "iopub.execute_input": "2025-09-03T17:59:37.597146Z",
          "iopub.status.idle": "2025-09-03T17:59:46.216902Z",
          "shell.execute_reply.started": "2025-09-03T17:59:37.59713Z",
          "shell.execute_reply": "2025-09-03T17:59:46.216192Z"
        },
        "id": "1BrNgKLzfE23"
      },
      "outputs": [],
      "execution_count": null
    },
    {
      "cell_type": "code",
      "source": [
        "import os\n",
        "import json\n",
        "from multiprocessing import Pool, cpu_count\n",
        "from faster_whisper import WhisperModel\n",
        "\n",
        "# Model dùng chung trong mỗi process\n",
        "_MODEL = None\n",
        "\n",
        "def _init_worker(model_size, device, compute_type):\n",
        "    \"\"\"Khởi tạo model 1 lần / process.\"\"\"\n",
        "    global _MODEL\n",
        "    _MODEL = WhisperModel(model_size, device=device, compute_type=compute_type)\n",
        "\n",
        "def _transcribe_file(args):\n",
        "    \"\"\"\n",
        "    Worker xử lý từng file.\n",
        "    args = (wav_path, input_dir, output_dir, skip_existing)\n",
        "    \"\"\"\n",
        "    wav_path, input_dir, output_dir, skip_existing = args\n",
        "    global _MODEL\n",
        "    assert _MODEL is not None, \"Model chưa được init trong worker\"\n",
        "\n",
        "    # Tạo đường dẫn output tương ứng, giữ nguyên cấu trúc thư mục\n",
        "    rel_path = os.path.relpath(wav_path, start=input_dir)\n",
        "    out_path = os.path.join(output_dir, os.path.splitext(rel_path)[0] + \".json\")\n",
        "    out_dir = os.path.dirname(out_path)\n",
        "\n",
        "    try:\n",
        "        os.makedirs(out_dir, exist_ok=True)\n",
        "    except Exception as e:\n",
        "        return (\"ERR_MKDIR\", wav_path, str(e))\n",
        "\n",
        "    if skip_existing and os.path.exists(out_path):\n",
        "        return (\"SKIP\", wav_path, out_path)\n",
        "\n",
        "    try:\n",
        "        segments, info = _MODEL.transcribe(wav_path)\n",
        "        data = {\n",
        "            \"file\": wav_path,\n",
        "            \"language\": info.language,\n",
        "            \"language_probability\": info.language_probability,\n",
        "            \"duration\": info.duration,\n",
        "            \"segments\": [\n",
        "                {\"id\": s.id, \"start\": s.start, \"end\": s.end, \"text\": s.text}\n",
        "                for s in segments\n",
        "            ],\n",
        "        }\n",
        "        with open(out_path, \"w\", encoding=\"utf-8\") as f:\n",
        "            json.dump(data, f, ensure_ascii=False, indent=2)\n",
        "        return (\"OK\", wav_path, out_path)\n",
        "    except Exception as e:\n",
        "        return (\"ERR\", wav_path, str(e))\n",
        "\n",
        "def transcribe_wav_dir_stream(\n",
        "    input_dir,\n",
        "    output_dir,\n",
        "    model_size=\"small\",\n",
        "    device=\"cpu\",\n",
        "    compute_type=\"int8\",\n",
        "    num_workers=None,\n",
        "    skip_existing=True\n",
        "):\n",
        "    \"\"\"\n",
        "    Duyệt đệ quy input_dir, gặp .wav là đẩy vào Pool ngay (streaming).\n",
        "    Ghi JSON vào output_dir, KHÔNG sửa gì trong input_dir.\n",
        "    \"\"\"\n",
        "    if num_workers is None:\n",
        "        num_workers = cpu_count()\n",
        "\n",
        "    # Kiểm tra quyền ghi output_dir sớm để fail-fast\n",
        "    try:\n",
        "        os.makedirs(output_dir, exist_ok=True)\n",
        "        test_path = os.path.join(output_dir, \".write_test.tmp\")\n",
        "        with open(test_path, \"w\", encoding=\"utf-8\") as t:\n",
        "            t.write(\"ok\")\n",
        "        os.remove(test_path)\n",
        "    except Exception as e:\n",
        "        print(f\"❌ output_dir không ghi được: {output_dir} — {e}\")\n",
        "        return\n",
        "\n",
        "    def jobs():\n",
        "        for root, _, files in os.walk(input_dir):\n",
        "            for f in files:\n",
        "                if f.lower().endswith(\".wav\"):\n",
        "                    yield (os.path.join(root, f), input_dir, output_dir, skip_existing)\n",
        "\n",
        "    done = skipped = errors = 0\n",
        "    print(f\"🚀 Bắt đầu xử lý (x{num_workers} process). Output: {output_dir}\")\n",
        "\n",
        "    with Pool(\n",
        "        processes=num_workers,\n",
        "        initializer=_init_worker,\n",
        "        initargs=(model_size, device, compute_type)\n",
        "    ) as pool:\n",
        "        for status, wav_path, info in pool.imap_unordered(_transcribe_file, jobs(), chunksize=1):\n",
        "            if status == \"OK\":\n",
        "                done += 1\n",
        "                print(f\"✅ [{done}] {wav_path} → {info}\")\n",
        "            elif status == \"SKIP\":\n",
        "                skipped += 1\n",
        "                print(f\"⏭️  Bỏ qua (đã có): {info}\")\n",
        "            elif status == \"ERR_MKDIR\":\n",
        "                errors += 1\n",
        "                print(f\"❌ Lỗi tạo thư mục cho {wav_path}: {info}\")\n",
        "            else:\n",
        "                errors += 1\n",
        "                print(f\"❌ Lỗi với {wav_path}: {info}\")\n",
        "\n",
        "    print(f\"🎯 Hoàn tất. OK: {done}, Skipped: {skipped}, Errors: {errors}\")\n"
      ],
      "metadata": {
        "trusted": true,
        "execution": {
          "iopub.status.busy": "2025-09-03T18:01:40.207682Z",
          "iopub.execute_input": "2025-09-03T18:01:40.208421Z",
          "iopub.status.idle": "2025-09-03T18:01:40.222404Z",
          "shell.execute_reply.started": "2025-09-03T18:01:40.208387Z",
          "shell.execute_reply": "2025-09-03T18:01:40.221801Z"
        },
        "id": "VytV4rrTfE23"
      },
      "outputs": [],
      "execution_count": null
    },
    {
      "cell_type": "code",
      "source": [
        "transcribe_wav_dir_stream(\"/kaggle/input/ddss-aug-ratio-test/test\", output_dir =\"data\" , model_size=\"medium\", device=\"cuda\", num_workers = 4)\n"
      ],
      "metadata": {
        "trusted": true,
        "execution": {
          "iopub.status.busy": "2025-09-03T18:01:46.677688Z",
          "iopub.execute_input": "2025-09-03T18:01:46.678019Z",
          "iopub.status.idle": "2025-09-03T18:02:09.28232Z",
          "shell.execute_reply.started": "2025-09-03T18:01:46.677994Z",
          "shell.execute_reply": "2025-09-03T18:02:09.281291Z"
        },
        "id": "OyupCCRgfE24"
      },
      "outputs": [],
      "execution_count": null
    },
    {
      "cell_type": "code",
      "source": [
        "!zip data.zip data -r"
      ],
      "metadata": {
        "trusted": true,
        "execution": {
          "iopub.status.busy": "2025-09-03T18:02:12.933493Z",
          "iopub.execute_input": "2025-09-03T18:02:12.934117Z",
          "iopub.status.idle": "2025-09-03T18:02:13.069834Z",
          "shell.execute_reply.started": "2025-09-03T18:02:12.934088Z",
          "shell.execute_reply": "2025-09-03T18:02:13.068968Z"
        },
        "id": "N5DGpQyefE24"
      },
      "outputs": [],
      "execution_count": null
    }
  ]
}
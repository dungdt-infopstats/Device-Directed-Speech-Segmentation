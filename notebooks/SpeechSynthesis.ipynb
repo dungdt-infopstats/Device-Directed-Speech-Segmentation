{
  "metadata": {
    "kernelspec": {
      "display_name": "Python 3",
      "name": "python3"
    },
    "language_info": {
      "name": "python",
      "version": "3.11.13",
      "mimetype": "text/x-python",
      "codemirror_mode": {
        "name": "ipython",
        "version": 3
      },
      "pygments_lexer": "ipython3",
      "nbconvert_exporter": "python",
      "file_extension": ".py"
    },
    "kaggle": {
      "accelerator": "gpu",
      "dataSources": [],
      "dockerImageVersionId": 31090,
      "isInternetEnabled": true,
      "language": "python",
      "sourceType": "notebook",
      "isGpuEnabled": true
    },
    "colab": {
      "provenance": [],
      "gpuType": "T4",
      "machine_shape": "hm",
      "include_colab_link": true
    },
    "accelerator": "GPU"
  },
  "nbformat_minor": 0,
  "nbformat": 4,
  "cells": [
    {
      "cell_type": "markdown",
      "metadata": {
        "id": "view-in-github",
        "colab_type": "text"
      },
      "source": [
        "<a href=\"https://colab.research.google.com/github/10udCryp7/TV-command-synthesis/blob/main/notebooks/SpeechSynthesis.ipynb\" target=\"_parent\"><img src=\"https://colab.research.google.com/assets/colab-badge.svg\" alt=\"Open In Colab\"/></a>"
      ]
    },
    {
      "cell_type": "code",
      "source": [
        "# F5-TTS\n",
        "!pip install -q f5-tts"
      ],
      "metadata": {
        "_uuid": "8f2839f25d086af736a60e9eeb907d3b93b6e0e5",
        "_cell_guid": "b1076dfc-b9ad-4769-8c92-a6c4dae69d19",
        "trusted": true,
        "execution": {
          "iopub.status.busy": "2025-08-14T09:57:02.710493Z",
          "iopub.execute_input": "2025-08-14T09:57:02.710731Z",
          "iopub.status.idle": "2025-08-14T09:58:36.875327Z",
          "shell.execute_reply.started": "2025-08-14T09:57:02.710707Z",
          "shell.execute_reply": "2025-08-14T09:58:36.87456Z"
        },
        "id": "mMg1Y0UZLpE5",
        "outputId": "8efe90f0-2f40-444b-a30e-75e6e922ca8d",
        "colab": {
          "base_uri": "https://localhost:8080/"
        }
      },
      "outputs": [
        {
          "output_type": "stream",
          "name": "stdout",
          "text": [
            "\u001b[?25l     \u001b[90m━━━━━━━━━━━━━━━━━━━━━━━━━━━━━━━━━━━━━━━━\u001b[0m \u001b[32m0.0/61.0 kB\u001b[0m \u001b[31m?\u001b[0m eta \u001b[36m-:--:--\u001b[0m\r\u001b[2K     \u001b[91m━━━━━━━━━━━━━━━━━━━━━━━━━━━━━━━━━\u001b[0m\u001b[91m╸\u001b[0m\u001b[90m━━━━━━\u001b[0m \u001b[32m51.2/61.0 kB\u001b[0m \u001b[31m1.3 MB/s\u001b[0m eta \u001b[36m0:00:01\u001b[0m\r\u001b[2K     \u001b[90m━━━━━━━━━━━━━━━━━━━━━━━━━━━━━━━━━━━━━━━━\u001b[0m \u001b[32m61.0/61.0 kB\u001b[0m \u001b[31m1.3 MB/s\u001b[0m eta \u001b[36m0:00:00\u001b[0m\n",
            "\u001b[?25h  Preparing metadata (setup.py) ... \u001b[?25l\u001b[?25hdone\n",
            "\u001b[2K     \u001b[90m━━━━━━━━━━━━━━━━━━━━━━━━━━━━━━━━━━━━━━━━\u001b[0m \u001b[32m90.9/90.9 kB\u001b[0m \u001b[31m4.4 MB/s\u001b[0m eta \u001b[36m0:00:00\u001b[0m\n",
            "\u001b[2K     \u001b[90m━━━━━━━━━━━━━━━━━━━━━━━━━━━━━━━━━━━━━━━━\u001b[0m \u001b[32m3.7/3.7 MB\u001b[0m \u001b[31m24.6 MB/s\u001b[0m eta \u001b[36m0:00:00\u001b[0m\n",
            "\u001b[?25h  Preparing metadata (setup.py) ... \u001b[?25l\u001b[?25hdone\n",
            "\u001b[2K   \u001b[90m━━━━━━━━━━━━━━━━━━━━━━━━━━━━━━━━━━━━━━━━\u001b[0m \u001b[32m1.3/1.3 MB\u001b[0m \u001b[31m79.1 MB/s\u001b[0m eta \u001b[36m0:00:00\u001b[0m\n",
            "\u001b[2K   \u001b[90m━━━━━━━━━━━━━━━━━━━━━━━━━━━━━━━━━━━━━━━━\u001b[0m \u001b[32m61.3/61.3 MB\u001b[0m \u001b[31m32.3 MB/s\u001b[0m eta \u001b[36m0:00:00\u001b[0m\n",
            "\u001b[2K   \u001b[90m━━━━━━━━━━━━━━━━━━━━━━━━━━━━━━━━━━━━━━━━\u001b[0m \u001b[32m54.3/54.3 MB\u001b[0m \u001b[31m40.9 MB/s\u001b[0m eta \u001b[36m0:00:00\u001b[0m\n",
            "\u001b[2K   \u001b[90m━━━━━━━━━━━━━━━━━━━━━━━━━━━━━━━━━━━━━━━━\u001b[0m \u001b[32m323.9/323.9 kB\u001b[0m \u001b[31m35.4 MB/s\u001b[0m eta \u001b[36m0:00:00\u001b[0m\n",
            "\u001b[2K   \u001b[90m━━━━━━━━━━━━━━━━━━━━━━━━━━━━━━━━━━━━━━━━\u001b[0m \u001b[32m154.5/154.5 kB\u001b[0m \u001b[31m19.3 MB/s\u001b[0m eta \u001b[36m0:00:00\u001b[0m\n",
            "\u001b[2K   \u001b[90m━━━━━━━━━━━━━━━━━━━━━━━━━━━━━━━━━━━━━━━━\u001b[0m \u001b[32m18.3/18.3 MB\u001b[0m \u001b[31m69.2 MB/s\u001b[0m eta \u001b[36m0:00:00\u001b[0m\n",
            "\u001b[2K   \u001b[90m━━━━━━━━━━━━━━━━━━━━━━━━━━━━━━━━━━━━━━━━\u001b[0m \u001b[32m431.7/431.7 kB\u001b[0m \u001b[31m40.9 MB/s\u001b[0m eta \u001b[36m0:00:00\u001b[0m\n",
            "\u001b[2K   \u001b[90m━━━━━━━━━━━━━━━━━━━━━━━━━━━━━━━━━━━━━━━━\u001b[0m \u001b[32m2.0/2.0 MB\u001b[0m \u001b[31m91.4 MB/s\u001b[0m eta \u001b[36m0:00:00\u001b[0m\n",
            "\u001b[2K   \u001b[90m━━━━━━━━━━━━━━━━━━━━━━━━━━━━━━━━━━━━━━━━\u001b[0m \u001b[32m363.4/363.4 MB\u001b[0m \u001b[31m3.1 MB/s\u001b[0m eta \u001b[36m0:00:00\u001b[0m\n",
            "\u001b[2K   \u001b[90m━━━━━━━━━━━━━━━━━━━━━━━━━━━━━━━━━━━━━━━━\u001b[0m \u001b[32m13.8/13.8 MB\u001b[0m \u001b[31m80.4 MB/s\u001b[0m eta \u001b[36m0:00:00\u001b[0m\n",
            "\u001b[2K   \u001b[90m━━━━━━━━━━━━━━━━━━━━━━━━━━━━━━━━━━━━━━━━\u001b[0m \u001b[32m24.6/24.6 MB\u001b[0m \u001b[31m68.1 MB/s\u001b[0m eta \u001b[36m0:00:00\u001b[0m\n",
            "\u001b[2K   \u001b[90m━━━━━━━━━━━━━━━━━━━━━━━━━━━━━━━━━━━━━━━━\u001b[0m \u001b[32m883.7/883.7 kB\u001b[0m \u001b[31m63.5 MB/s\u001b[0m eta \u001b[36m0:00:00\u001b[0m\n",
            "\u001b[2K   \u001b[90m━━━━━━━━━━━━━━━━━━━━━━━━━━━━━━━━━━━━━━━━\u001b[0m \u001b[32m664.8/664.8 MB\u001b[0m \u001b[31m2.9 MB/s\u001b[0m eta \u001b[36m0:00:00\u001b[0m\n",
            "\u001b[2K   \u001b[90m━━━━━━━━━━━━━━━━━━━━━━━━━━━━━━━━━━━━━━━━\u001b[0m \u001b[32m211.5/211.5 MB\u001b[0m \u001b[31m4.9 MB/s\u001b[0m eta \u001b[36m0:00:00\u001b[0m\n",
            "\u001b[2K   \u001b[90m━━━━━━━━━━━━━━━━━━━━━━━━━━━━━━━━━━━━━━━━\u001b[0m \u001b[32m56.3/56.3 MB\u001b[0m \u001b[31m37.0 MB/s\u001b[0m eta \u001b[36m0:00:00\u001b[0m\n",
            "\u001b[2K   \u001b[90m━━━━━━━━━━━━━━━━━━━━━━━━━━━━━━━━━━━━━━━━\u001b[0m \u001b[32m127.9/127.9 MB\u001b[0m \u001b[31m19.4 MB/s\u001b[0m eta \u001b[36m0:00:00\u001b[0m\n",
            "\u001b[2K   \u001b[90m━━━━━━━━━━━━━━━━━━━━━━━━━━━━━━━━━━━━━━━━\u001b[0m \u001b[32m207.5/207.5 MB\u001b[0m \u001b[31m4.3 MB/s\u001b[0m eta \u001b[36m0:00:00\u001b[0m\n",
            "\u001b[2K   \u001b[90m━━━━━━━━━━━━━━━━━━━━━━━━━━━━━━━━━━━━━━━━\u001b[0m \u001b[32m188.7/188.7 MB\u001b[0m \u001b[31m6.4 MB/s\u001b[0m eta \u001b[36m0:00:00\u001b[0m\n",
            "\u001b[2K   \u001b[90m━━━━━━━━━━━━━━━━━━━━━━━━━━━━━━━━━━━━━━━━\u001b[0m \u001b[32m21.1/21.1 MB\u001b[0m \u001b[31m78.9 MB/s\u001b[0m eta \u001b[36m0:00:00\u001b[0m\n",
            "\u001b[2K   \u001b[90m━━━━━━━━━━━━━━━━━━━━━━━━━━━━━━━━━━━━━━━━\u001b[0m \u001b[32m91.7/91.7 kB\u001b[0m \u001b[31m12.5 MB/s\u001b[0m eta \u001b[36m0:00:00\u001b[0m\n",
            "\u001b[2K   \u001b[90m━━━━━━━━━━━━━━━━━━━━━━━━━━━━━━━━━━━━━━━━\u001b[0m \u001b[32m840.2/840.2 kB\u001b[0m \u001b[31m61.6 MB/s\u001b[0m eta \u001b[36m0:00:00\u001b[0m\n",
            "\u001b[2K   \u001b[90m━━━━━━━━━━━━━━━━━━━━━━━━━━━━━━━━━━━━━━━━\u001b[0m \u001b[32m236.0/236.0 kB\u001b[0m \u001b[31m27.5 MB/s\u001b[0m eta \u001b[36m0:00:00\u001b[0m\n",
            "\u001b[2K   \u001b[90m━━━━━━━━━━━━━━━━━━━━━━━━━━━━━━━━━━━━━━━━\u001b[0m \u001b[32m235.8/235.8 kB\u001b[0m \u001b[31m26.5 MB/s\u001b[0m eta \u001b[36m0:00:00\u001b[0m\n",
            "\u001b[2K   \u001b[90m━━━━━━━━━━━━━━━━━━━━━━━━━━━━━━━━━━━━━━━━\u001b[0m \u001b[32m140.1/140.1 kB\u001b[0m \u001b[31m17.6 MB/s\u001b[0m eta \u001b[36m0:00:00\u001b[0m\n",
            "\u001b[2K   \u001b[90m━━━━━━━━━━━━━━━━━━━━━━━━━━━━━━━━━━━━━━━━\u001b[0m \u001b[32m103.0/103.0 kB\u001b[0m \u001b[31m13.2 MB/s\u001b[0m eta \u001b[36m0:00:00\u001b[0m\n",
            "\u001b[2K   \u001b[90m━━━━━━━━━━━━━━━━━━━━━━━━━━━━━━━━━━━━━━━━\u001b[0m \u001b[32m61.6/61.6 kB\u001b[0m \u001b[31m8.0 MB/s\u001b[0m eta \u001b[36m0:00:00\u001b[0m\n",
            "\u001b[2K   \u001b[90m━━━━━━━━━━━━━━━━━━━━━━━━━━━━━━━━━━━━━━━━\u001b[0m \u001b[32m14.0/14.0 MB\u001b[0m \u001b[31m68.7 MB/s\u001b[0m eta \u001b[36m0:00:00\u001b[0m\n",
            "\u001b[2K   \u001b[90m━━━━━━━━━━━━━━━━━━━━━━━━━━━━━━━━━━━━━━━━\u001b[0m \u001b[32m85.3/85.3 kB\u001b[0m \u001b[31m10.2 MB/s\u001b[0m eta \u001b[36m0:00:00\u001b[0m\n",
            "\u001b[?25h  Building wheel for transformers_stream_generator (setup.py) ... \u001b[?25l\u001b[?25hdone\n",
            "  Building wheel for encodec (setup.py) ... \u001b[?25l\u001b[?25hdone\n",
            "\u001b[31mERROR: pip's dependency resolver does not currently take into account all the packages that are installed. This behaviour is the source of the following dependency conflicts.\n",
            "opencv-contrib-python 4.12.0.88 requires numpy<2.3.0,>=2; python_version >= \"3.9\", but you have numpy 1.26.4 which is incompatible.\n",
            "opencv-python-headless 4.12.0.88 requires numpy<2.3.0,>=2; python_version >= \"3.9\", but you have numpy 1.26.4 which is incompatible.\n",
            "thinc 8.3.6 requires numpy<3.0.0,>=2.0.0, but you have numpy 1.26.4 which is incompatible.\n",
            "opencv-python 4.12.0.88 requires numpy<2.3.0,>=2; python_version >= \"3.9\", but you have numpy 1.26.4 which is incompatible.\u001b[0m\u001b[31m\n",
            "\u001b[0m"
          ]
        }
      ],
      "execution_count": null
    },
    {
      "cell_type": "markdown",
      "source": [
        "# Data"
      ],
      "metadata": {
        "id": "ByxsKR3SLpE6"
      }
    },
    {
      "cell_type": "code",
      "source": [
        "# Reference Speech\n",
        "!gdown 1uTreohCIiYSlrQTa3fuH1_IQjdeW1SaE --quiet\n",
        "# Reference Meta (including Text)\n",
        "!gdown 1PBs6r3cqhFxWzy9s5wrGpF6-5ZnoOWxE --quiet\n",
        "\n",
        "!unzip -q audio.zip -d audio\n",
        "!unzip -q json.zip -d json"
      ],
      "metadata": {
        "trusted": true,
        "execution": {
          "iopub.status.busy": "2025-08-14T09:58:36.876378Z",
          "iopub.execute_input": "2025-08-14T09:58:36.876671Z",
          "iopub.status.idle": "2025-08-14T09:58:42.382529Z",
          "shell.execute_reply.started": "2025-08-14T09:58:36.876644Z",
          "shell.execute_reply": "2025-08-14T09:58:42.381717Z"
        },
        "id": "zQo1XFVXLpE7"
      },
      "outputs": [],
      "execution_count": null
    },
    {
      "cell_type": "code",
      "source": [
        "import gdown\n",
        "\n",
        "gid = '1cgTo9px9Wd0fYcbjvTkc1W3r-t5Pb4aI'\n",
        "url = f\"https://drive.google.com/uc?id={gid}\"\n",
        "\n",
        "output = gdown.download(url, quiet=False)  # output sẽ là tên file đã tải\n"
      ],
      "metadata": {
        "trusted": true,
        "execution": {
          "iopub.status.busy": "2025-08-14T10:06:28.43748Z",
          "iopub.execute_input": "2025-08-14T10:06:28.438254Z",
          "iopub.status.idle": "2025-08-14T10:06:30.126026Z",
          "shell.execute_reply.started": "2025-08-14T10:06:28.438218Z",
          "shell.execute_reply": "2025-08-14T10:06:30.125428Z"
        },
        "id": "RKSqSiFMLpE7",
        "outputId": "706f876d-af33-439d-aad6-de171cec35ed",
        "colab": {
          "base_uri": "https://localhost:8080/"
        }
      },
      "outputs": [
        {
          "output_type": "stream",
          "name": "stderr",
          "text": [
            "Downloading...\n",
            "From: https://drive.google.com/uc?id=1cgTo9px9Wd0fYcbjvTkc1W3r-t5Pb4aI\n",
            "To: /content/sample-500-text-2.csv\n",
            "100%|██████████| 34.8k/34.8k [00:00<00:00, 48.7MB/s]\n"
          ]
        }
      ],
      "execution_count": null
    },
    {
      "cell_type": "markdown",
      "source": [
        "# Model"
      ],
      "metadata": {
        "id": "pjHGnapVLpE8"
      }
    },
    {
      "cell_type": "code",
      "source": [
        "import pandas as pd\n",
        "text_command_df = pd.read_csv(output)"
      ],
      "metadata": {
        "trusted": true,
        "execution": {
          "iopub.status.busy": "2025-08-14T10:07:00.665524Z",
          "iopub.execute_input": "2025-08-14T10:07:00.665789Z",
          "iopub.status.idle": "2025-08-14T10:07:00.676031Z",
          "shell.execute_reply.started": "2025-08-14T10:07:00.665771Z",
          "shell.execute_reply": "2025-08-14T10:07:00.675334Z"
        },
        "id": "8t1dsuWYLpE9"
      },
      "outputs": [],
      "execution_count": null
    },
    {
      "cell_type": "markdown",
      "source": [
        "# Pipeline"
      ],
      "metadata": {
        "id": "Uel0miiQLpE9"
      }
    },
    {
      "cell_type": "code",
      "source": [
        "def audio_generate(command: str, model = f5tts, ref_file: str = \"\", ref_text: str = \"\"):\n",
        "  '''\n",
        "  generate speech command with model f5tts\n",
        "  '''\n",
        "  wav, sr, spec = model.infer(\n",
        "      ref_file=ref_file,\n",
        "      ref_text=ref_text,\n",
        "      gen_text=command,\n",
        "      seed=None,\n",
        "  )\n",
        "  return wav, sr, spec\n",
        "\n",
        "def ref_sample(audio_folder_path, json_folder_path):\n",
        "  '''\n",
        "  sampling reference (audio and text)\n",
        "\n",
        "  Returns:\n",
        "  - id: id of reference (for tracing)\n",
        "  - ref_speech_path: path of reference audio\n",
        "  - ref_text_path: path of reference text\n",
        "\n",
        "  '''\n",
        "\n",
        "  # list for sampling\n",
        "  audio_files = os.listdir(audio_folder_path)\n",
        "  json_files = os.listdir(json_folder_path)\n",
        "\n",
        "  # sampling\n",
        "  audio_file = random.choice(audio_files)\n",
        "  json_file = random.choice(json_files)\n",
        "\n",
        "  # get ID\n",
        "  id = json_file.split(\".\")[0]\n",
        "\n",
        "  # get ref path\n",
        "  ref_speech_path = os.path.join(audio_folder_path, audio_file)\n",
        "  ref_text_path = os.path.join(json_folder_path, json_file)\n",
        "\n",
        "  return id, ref_speech_path, ref_text_path"
      ],
      "metadata": {
        "trusted": true,
        "execution": {
          "iopub.status.busy": "2025-08-14T10:08:59.057574Z",
          "iopub.execute_input": "2025-08-14T10:08:59.057866Z",
          "iopub.status.idle": "2025-08-14T10:08:59.069133Z",
          "shell.execute_reply.started": "2025-08-14T10:08:59.057845Z",
          "shell.execute_reply": "2025-08-14T10:08:59.062964Z"
        },
        "id": "MBYcfAiuLpE-"
      },
      "outputs": [],
      "execution_count": null
    },
    {
      "cell_type": "code",
      "source": [
        "def audio_generate(command: str, model = f5tts, ref_file: str = \"\", ref_text: str = \"\"):\n",
        "  '''\n",
        "  generate speech command with model f5tts\n",
        "  '''\n",
        "  wav, sr, spec = model.infer(\n",
        "      ref_file=ref_file,\n",
        "      ref_text=ref_text,\n",
        "      gen_text=command,\n",
        "      seed=None,\n",
        "  )\n",
        "  return wav, sr, spec\n",
        "\n",
        "def ref_sample(audio_folder_path, json_folder_path):\n",
        "  '''\n",
        "  sampling reference (audio and text)\n",
        "\n",
        "  Returns:\n",
        "  - id: id of reference (for tracing)\n",
        "  - ref_speech_path: path of reference audio\n",
        "  - ref_text_path: path of reference text\n",
        "\n",
        "  '''\n",
        "\n",
        "  # list for sampling\n",
        "  audio_files = os.listdir(audio_folder_path)\n",
        "  json_files = os.listdir(json_folder_path)\n",
        "\n",
        "  # sampling\n",
        "  audio_file = random.choice(audio_files)\n",
        "  json_file = random.choice(json_files)\n",
        "\n",
        "  # get ID\n",
        "  id = json_file.split(\".\")[0]\n",
        "\n",
        "  # get ref path\n",
        "  ref_speech_path = os.path.join(audio_folder_path, audio_file)\n",
        "  ref_text_path = os.path.join(json_folder_path, json_file)\n",
        "\n",
        "  return id, ref_speech_path, ref_text_path\n",
        "\n",
        "import os\n",
        "import re\n",
        "\n",
        "import os\n",
        "import json\n",
        "import soundfile as sf\n",
        "import pandas as pd\n",
        "import random\n",
        "import ast\n",
        "import numpy as np\n",
        "import uuid\n",
        "\n",
        "def command_synthesis_pipeline(\n",
        "    text_command: pd.DataFrame,\n",
        "    ref_folder_path: str,\n",
        "    json_folder_path: str,\n",
        "    export_path: str = 'synthesis_command'\n",
        ") -> pd.DataFrame:\n",
        "    \"\"\"\n",
        "    Generate synthetic audio commands based on provided text commands and reference samples.\n",
        "\n",
        "    This function processes a set of text commands, synthesizes corresponding audio files\n",
        "    using reference speech and text samples, and stores both audio and metadata in a structured folder format.\n",
        "\n",
        "    Parameters\n",
        "    ----------\n",
        "    text_command : pd.DataFrame\n",
        "        DataFrame containing command data. Must include:\n",
        "        - 'command' (str): The text of the command.\n",
        "        - 'type' (str): The command type/category.\n",
        "        - 'segments' (list or None): Optional list of segment identifiers.\n",
        "    ref_folder_path : str\n",
        "        Path to the folder containing reference audio files.\n",
        "    json_folder_path : str\n",
        "        Path to the folder containing JSON files with reference text.\n",
        "    export_path : str, optional\n",
        "        Output folder for synthesized commands (default: 'synthesis_command').\n",
        "\n",
        "    Returns\n",
        "    -------\n",
        "    pd.DataFrame\n",
        "        A DataFrame summarizing all synthesized commands and metadata.\n",
        "\n",
        "    Notes\n",
        "    -----\n",
        "    - Requires external helper functions:\n",
        "      `get_command_count(export_path)`, `ref_sample(ref_folder_path, json_folder_path)`,\n",
        "      and `audio_generate(command, ref_file, ref_text)`.\n",
        "    - Each generated command will be stored in a subfolder named\n",
        "      `{type}_{sequence_number}` containing:\n",
        "        - Full synthesized WAV file\n",
        "        - Optional segmented WAV files\n",
        "        - Corresponding JSON metadata\n",
        "    \"\"\"\n",
        "    os.makedirs(export_path, exist_ok = True)\n",
        "    # Track current command count per type\n",
        "    #### cur_command_count = get_command_count(export_path)\n",
        "    list_synthesis_command = []\n",
        "\n",
        "    for _, row in text_command.iterrows():\n",
        "        command = row['text']\n",
        "\n",
        "        # Select reference sample\n",
        "        ref_id, ref_speech_path, ref_text_path = ref_sample(ref_folder_path, json_folder_path)\n",
        "\n",
        "        # Generate full audio\n",
        "        wav, sr, spec = audio_generate(command=command, ref_file=ref_speech_path, ref_text=ref_text_path)\n",
        "\n",
        "        # Ensure export directory exists\n",
        "        os.makedirs(export_path, exist_ok=True)\n",
        "\n",
        "        # Increment command counter for this type\n",
        "\n",
        "        #### cur_command_count[row['type']] += 1\n",
        "        cur_command_count_str = uuid.uuid4().hex[:8]\n",
        "\n",
        "        # Create folder for this command\n",
        "        command_path = os.path.join(export_path, f\"{row['type']}_{cur_command_count_str}\")\n",
        "        os.makedirs(command_path, exist_ok=True)\n",
        "\n",
        "        # Save full audio\n",
        "        sf.write(\n",
        "            os.path.join(command_path, f\"{row['type']}_{cur_command_count_str}_full.wav\"),\n",
        "            wav,\n",
        "            sr\n",
        "        )\n",
        "\n",
        "        # Save segmented audio if segments exist\n",
        "        if pd.notna(row['segments']) and row['segments'] not in [None, \"\", \"nan\"]:\n",
        "            seg_list = ast.literal_eval(row['segments'])\n",
        "            for count, seg in enumerate(seg_list):\n",
        "                seg_wav, seg_sr, _ = audio_generate(command=seg[str(count)], ref_file=ref_speech_path, ref_text=ref_text_path)\n",
        "                sf.write(\n",
        "                    os.path.join(command_path, f\"{row['type']}_{cur_command_count_str}_seg_{count}.wav\"),\n",
        "                    seg_wav,\n",
        "                    seg_sr\n",
        "                )\n",
        "\n",
        "        type_segments = {}\n",
        "        text_segments = {}\n",
        "        if pd.notna(row['segments']) and row['segments'] not in [None, \"\", \"nan\"]:\n",
        "\n",
        "            for seg_item in ast.literal_eval(row['segments']):\n",
        "                list_key = list(seg_item.keys())\n",
        "                type_segments[list_key[0]] = seg_item[list_key[1]]\n",
        "                text_segments[list_key[0]] = seg_item[list_key[0]]\n",
        "        # Create metadata JSON\n",
        "        json_template = {\n",
        "            \"id\": cur_command_count_str,\n",
        "            \"type\": row['type'],\n",
        "            \"command\": command,\n",
        "            \"sampling_rate\": sr,\n",
        "            \"num_segments\": len(type_segments),\n",
        "            \"type_segments\": type_segments,\n",
        "            \"text_segments\": text_segments,\n",
        "            \"ref_id\": ref_id,\n",
        "            \"ref_file\": ref_speech_path,\n",
        "            \"ref_text\": ref_text_path\n",
        "        }\n",
        "\n",
        "        with open(os.path.join(command_path, f\"{row['type']}_{cur_command_count_str}.json\"), 'w') as f:\n",
        "            json.dump(json_template, f, ensure_ascii=False, indent=2)\n",
        "\n",
        "        list_synthesis_command.append(json_template)\n",
        "\n",
        "    # Return summary DataFrame\n",
        "    return pd.DataFrame(list_synthesis_command)\n"
      ],
      "metadata": {
        "trusted": true,
        "execution": {
          "iopub.status.busy": "2025-08-14T10:09:01.555418Z",
          "iopub.execute_input": "2025-08-14T10:09:01.556102Z",
          "iopub.status.idle": "2025-08-14T10:09:01.561034Z",
          "shell.execute_reply.started": "2025-08-14T10:09:01.556054Z",
          "shell.execute_reply": "2025-08-14T10:09:01.560397Z"
        },
        "id": "eKuA0T3uLpE-"
      },
      "outputs": [],
      "execution_count": null
    },
    {
      "cell_type": "code",
      "source": [
        "import os\n",
        "import json\n",
        "import soundfile as sf\n",
        "import pandas as pd\n",
        "import random\n",
        "import ast\n",
        "import numpy as np\n",
        "import uuid\n",
        "\n",
        "def command_synthesis_pipeline(\n",
        "    text_command: pd.DataFrame,\n",
        "    ref_folder_path: str,\n",
        "    json_folder_path: str,\n",
        "    export_path: str = 'synthesis_command'\n",
        ") -> pd.DataFrame:\n",
        "    \"\"\"\n",
        "    Generate synthetic audio commands based on provided text commands and reference samples.\n",
        "\n",
        "    This function processes a set of text commands, synthesizes corresponding audio files\n",
        "    using reference speech and text samples, and stores both audio and metadata in a structured folder format.\n",
        "\n",
        "    Parameters\n",
        "    ----------\n",
        "    text_command : pd.DataFrame\n",
        "        DataFrame containing command data. Must include:\n",
        "        - 'command' (str): The text of the command.\n",
        "        - 'type' (str): The command type/category.\n",
        "        - 'segments' (list or None): Optional list of segment identifiers.\n",
        "    ref_folder_path : str\n",
        "        Path to the folder containing reference audio files.\n",
        "    json_folder_path : str\n",
        "        Path to the folder containing JSON files with reference text.\n",
        "    export_path : str, optional\n",
        "        Output folder for synthesized commands (default: 'synthesis_command').\n",
        "\n",
        "    Returns\n",
        "    -------\n",
        "    pd.DataFrame\n",
        "        A DataFrame summarizing all synthesized commands and metadata.\n",
        "\n",
        "    Notes\n",
        "    -----\n",
        "    - Requires external helper functions:\n",
        "      `get_command_count(export_path)`, `ref_sample(ref_folder_path, json_folder_path)`,\n",
        "      and `audio_generate(command, ref_file, ref_text)`.\n",
        "    - Each generated command will be stored in a subfolder named\n",
        "      `{type}_{sequence_number}` containing:\n",
        "        - Full synthesized WAV file\n",
        "        - Optional segmented WAV files\n",
        "        - Corresponding JSON metadata\n",
        "    \"\"\"\n",
        "    os.makedirs(export_path, exist_ok = True)\n",
        "    # Track current command count per type\n",
        "    #### cur_command_count = get_command_count(export_path)\n",
        "    list_synthesis_command = []\n",
        "\n",
        "    for _, row in text_command.iterrows():\n",
        "        command = row['text']\n",
        "\n",
        "        # Select reference sample\n",
        "        ref_id, ref_speech_path, ref_text_path = ref_sample(ref_folder_path, json_folder_path)\n",
        "\n",
        "        # Generate full audio\n",
        "        wav, sr, spec = audio_generate(command=command, ref_file=ref_speech_path, ref_text=ref_text_path)\n",
        "\n",
        "        # Ensure export directory exists\n",
        "        os.makedirs(export_path, exist_ok=True)\n",
        "\n",
        "        # Increment command counter for this type\n",
        "\n",
        "        #### cur_command_count[row['type']] += 1\n",
        "        cur_command_count_str = uuid.uuid4().hex[:8]\n",
        "\n",
        "        # Create folder for this command\n",
        "        command_path = os.path.join(export_path, f\"{row['type']}_{cur_command_count_str}\")\n",
        "        os.makedirs(command_path, exist_ok=True)\n",
        "\n",
        "        # Save full audio\n",
        "        sf.write(\n",
        "            os.path.join(command_path, f\"{row['type']}_{cur_command_count_str}_full.wav\"),\n",
        "            wav,\n",
        "            sr\n",
        "        )\n",
        "\n",
        "        # Save segmented audio if segments exist\n",
        "        if pd.notna(row['segments']) and row['segments'] not in [None, \"\", \"nan\"]:\n",
        "            seg_list = ast.literal_eval(row['segments'])\n",
        "            for count, seg in enumerate(seg_list):\n",
        "                seg_wav, seg_sr, _ = audio_generate(command=seg[str(count)], ref_file=ref_speech_path, ref_text=ref_text_path)\n",
        "                sf.write(\n",
        "                    os.path.join(command_path, f\"{row['type']}_{cur_command_count_str}_seg_{count}.wav\"),\n",
        "                    seg_wav,\n",
        "                    seg_sr\n",
        "                )\n",
        "\n",
        "        type_segments = {}\n",
        "        text_segments = {}\n",
        "        if pd.notna(row['segments']) and row['segments'] not in [None, \"\", \"nan\"]:\n",
        "\n",
        "            for seg_item in ast.literal_eval(row['segments']):\n",
        "                list_key = list(seg_item.keys())\n",
        "                type_segments[list_key[0]] = seg_item[list_key[1]]\n",
        "                text_segments[list_key[0]] = seg_item[list_key[0]]\n",
        "        # Create metadata JSON\n",
        "        json_template = {\n",
        "            \"id\": cur_command_count_str,\n",
        "            \"type\": row['type'],\n",
        "            \"command\": command,\n",
        "            \"sampling_rate\": sr,\n",
        "            \"num_segments\": len(type_segments),\n",
        "            \"type_segments\": type_segments,\n",
        "            \"text_segments\": text_segments,\n",
        "            \"ref_id\": ref_id,\n",
        "            \"ref_file\": ref_speech_path,\n",
        "            \"ref_text\": ref_text_path\n",
        "        }\n",
        "\n",
        "        with open(os.path.join(command_path, f\"{row['type']}_{cur_command_count_str}.json\"), 'w') as f:\n",
        "            json.dump(json_template, f, ensure_ascii=False, indent=2)\n",
        "\n",
        "        list_synthesis_command.append(json_template)\n",
        "\n",
        "    # Return summary DataFrame\n",
        "    return pd.DataFrame(list_synthesis_command)\n"
      ],
      "metadata": {
        "trusted": true,
        "id": "EtN9v9N-LpE-"
      },
      "outputs": [],
      "execution_count": null
    },
    {
      "cell_type": "code",
      "source": [
        "df_commands_synthesis = command_synthesis_pipeline(\n",
        "    text_command=text_command_df,\n",
        "    ref_folder_path='audio/dung',\n",
        "    json_folder_path='json/dung',\n",
        "    export_path='synthesis_command'\n",
        ")"
      ],
      "metadata": {
        "trusted": true,
        "id": "iGbhauwmLpE_",
        "outputId": "92a3132d-29d3-4281-91be-ad46cd0f018c",
        "colab": {
          "base_uri": "https://localhost:8080/",
          "height": 696
        }
      },
      "outputs": [
        {
          "output_type": "stream",
          "name": "stdout",
          "text": [
            "Converting audio...\n",
            "Using custom reference text...\n",
            "\n",
            "ref_text   json/dung/EN_B00013_S02252_W000000.json. \n",
            "gen_text 0 I heard that Tubi has a lot of great shows right now.\n",
            "\n",
            "\n",
            "Generating audio in 1 batches...\n"
          ]
        },
        {
          "output_type": "stream",
          "name": "stderr",
          "text": [
            "100%|██████████| 1/1 [00:10<00:00, 10.74s/it]\n"
          ]
        },
        {
          "output_type": "stream",
          "name": "stdout",
          "text": [
            "Converting audio...\n",
            "Using custom reference text...\n",
            "\n",
            "ref_text   json/dung/EN_B00013_S02742_W000000.json. \n",
            "gen_text 0 switch to channel ABC\n",
            "\n",
            "\n",
            "Generating audio in 1 batches...\n"
          ]
        },
        {
          "output_type": "stream",
          "name": "stderr",
          "text": [
            "  0%|          | 0/1 [00:02<?, ?it/s]\n"
          ]
        },
        {
          "output_type": "error",
          "ename": "KeyboardInterrupt",
          "evalue": "",
          "traceback": [
            "\u001b[0;31m---------------------------------------------------------------------------\u001b[0m",
            "\u001b[0;31mKeyboardInterrupt\u001b[0m                         Traceback (most recent call last)",
            "\u001b[0;32m/tmp/ipython-input-453231266.py\u001b[0m in \u001b[0;36m<cell line: 0>\u001b[0;34m()\u001b[0m\n\u001b[0;32m----> 1\u001b[0;31m df_commands_synthesis = command_synthesis_pipeline(\n\u001b[0m\u001b[1;32m      2\u001b[0m     \u001b[0mtext_command\u001b[0m\u001b[0;34m=\u001b[0m\u001b[0mtext_command_df\u001b[0m\u001b[0;34m,\u001b[0m\u001b[0;34m\u001b[0m\u001b[0;34m\u001b[0m\u001b[0m\n\u001b[1;32m      3\u001b[0m     \u001b[0mref_folder_path\u001b[0m\u001b[0;34m=\u001b[0m\u001b[0;34m'audio/dung'\u001b[0m\u001b[0;34m,\u001b[0m\u001b[0;34m\u001b[0m\u001b[0;34m\u001b[0m\u001b[0m\n\u001b[1;32m      4\u001b[0m     \u001b[0mjson_folder_path\u001b[0m\u001b[0;34m=\u001b[0m\u001b[0;34m'json/dung'\u001b[0m\u001b[0;34m,\u001b[0m\u001b[0;34m\u001b[0m\u001b[0;34m\u001b[0m\u001b[0m\n\u001b[1;32m      5\u001b[0m     \u001b[0mexport_path\u001b[0m\u001b[0;34m=\u001b[0m\u001b[0;34m'synthesis_command'\u001b[0m\u001b[0;34m\u001b[0m\u001b[0;34m\u001b[0m\u001b[0m\n",
            "\u001b[0;32m/tmp/ipython-input-3009294021.py\u001b[0m in \u001b[0;36mcommand_synthesis_pipeline\u001b[0;34m(text_command, ref_folder_path, json_folder_path, export_path)\u001b[0m\n\u001b[1;32m     62\u001b[0m \u001b[0;34m\u001b[0m\u001b[0m\n\u001b[1;32m     63\u001b[0m         \u001b[0;31m# Generate full audio\u001b[0m\u001b[0;34m\u001b[0m\u001b[0;34m\u001b[0m\u001b[0m\n\u001b[0;32m---> 64\u001b[0;31m         \u001b[0mwav\u001b[0m\u001b[0;34m,\u001b[0m \u001b[0msr\u001b[0m\u001b[0;34m,\u001b[0m \u001b[0mspec\u001b[0m \u001b[0;34m=\u001b[0m \u001b[0maudio_generate\u001b[0m\u001b[0;34m(\u001b[0m\u001b[0mcommand\u001b[0m\u001b[0;34m=\u001b[0m\u001b[0mcommand\u001b[0m\u001b[0;34m,\u001b[0m \u001b[0mref_file\u001b[0m\u001b[0;34m=\u001b[0m\u001b[0mref_speech_path\u001b[0m\u001b[0;34m,\u001b[0m \u001b[0mref_text\u001b[0m\u001b[0;34m=\u001b[0m\u001b[0mref_text_path\u001b[0m\u001b[0;34m)\u001b[0m\u001b[0;34m\u001b[0m\u001b[0;34m\u001b[0m\u001b[0m\n\u001b[0m\u001b[1;32m     65\u001b[0m \u001b[0;34m\u001b[0m\u001b[0m\n\u001b[1;32m     66\u001b[0m         \u001b[0;31m# Ensure export directory exists\u001b[0m\u001b[0;34m\u001b[0m\u001b[0;34m\u001b[0m\u001b[0m\n",
            "\u001b[0;32m/tmp/ipython-input-2462795822.py\u001b[0m in \u001b[0;36maudio_generate\u001b[0;34m(command, model, ref_file, ref_text)\u001b[0m\n\u001b[1;32m      3\u001b[0m   \u001b[0mgenerate\u001b[0m \u001b[0mspeech\u001b[0m \u001b[0mcommand\u001b[0m \u001b[0;32mwith\u001b[0m \u001b[0mmodel\u001b[0m \u001b[0mf5tts\u001b[0m\u001b[0;34m\u001b[0m\u001b[0;34m\u001b[0m\u001b[0m\n\u001b[1;32m      4\u001b[0m   '''\n\u001b[0;32m----> 5\u001b[0;31m   wav, sr, spec = model.infer(\n\u001b[0m\u001b[1;32m      6\u001b[0m       \u001b[0mref_file\u001b[0m\u001b[0;34m=\u001b[0m\u001b[0mref_file\u001b[0m\u001b[0;34m,\u001b[0m\u001b[0;34m\u001b[0m\u001b[0;34m\u001b[0m\u001b[0m\n\u001b[1;32m      7\u001b[0m       \u001b[0mref_text\u001b[0m\u001b[0;34m=\u001b[0m\u001b[0mref_text\u001b[0m\u001b[0;34m,\u001b[0m\u001b[0;34m\u001b[0m\u001b[0;34m\u001b[0m\u001b[0m\n",
            "\u001b[0;32m/usr/local/lib/python3.11/dist-packages/f5_tts/api.py\u001b[0m in \u001b[0;36minfer\u001b[0;34m(self, ref_file, ref_text, gen_text, show_info, progress, target_rms, cross_fade_duration, sway_sampling_coef, cfg_strength, nfe_step, speed, fix_duration, remove_silence, file_wave, file_spec, seed)\u001b[0m\n\u001b[1;32m    122\u001b[0m         \u001b[0mref_file\u001b[0m\u001b[0;34m,\u001b[0m \u001b[0mref_text\u001b[0m \u001b[0;34m=\u001b[0m \u001b[0mpreprocess_ref_audio_text\u001b[0m\u001b[0;34m(\u001b[0m\u001b[0mref_file\u001b[0m\u001b[0;34m,\u001b[0m \u001b[0mref_text\u001b[0m\u001b[0;34m)\u001b[0m\u001b[0;34m\u001b[0m\u001b[0;34m\u001b[0m\u001b[0m\n\u001b[1;32m    123\u001b[0m \u001b[0;34m\u001b[0m\u001b[0m\n\u001b[0;32m--> 124\u001b[0;31m         wav, sr, spec = infer_process(\n\u001b[0m\u001b[1;32m    125\u001b[0m             \u001b[0mref_file\u001b[0m\u001b[0;34m,\u001b[0m\u001b[0;34m\u001b[0m\u001b[0;34m\u001b[0m\u001b[0m\n\u001b[1;32m    126\u001b[0m             \u001b[0mref_text\u001b[0m\u001b[0;34m,\u001b[0m\u001b[0;34m\u001b[0m\u001b[0;34m\u001b[0m\u001b[0m\n",
            "\u001b[0;32m/usr/local/lib/python3.11/dist-packages/f5_tts/infer/utils_infer.py\u001b[0m in \u001b[0;36minfer_process\u001b[0;34m(ref_audio, ref_text, gen_text, model_obj, vocoder, mel_spec_type, show_info, progress, target_rms, cross_fade_duration, nfe_step, cfg_strength, sway_sampling_coef, speed, fix_duration, device)\u001b[0m\n\u001b[1;32m    407\u001b[0m \u001b[0;34m\u001b[0m\u001b[0m\n\u001b[1;32m    408\u001b[0m     \u001b[0mshow_info\u001b[0m\u001b[0;34m(\u001b[0m\u001b[0;34mf\"Generating audio in {len(gen_text_batches)} batches...\"\u001b[0m\u001b[0;34m)\u001b[0m\u001b[0;34m\u001b[0m\u001b[0;34m\u001b[0m\u001b[0m\n\u001b[0;32m--> 409\u001b[0;31m     return next(\n\u001b[0m\u001b[1;32m    410\u001b[0m         infer_batch_process(\n\u001b[1;32m    411\u001b[0m             \u001b[0;34m(\u001b[0m\u001b[0maudio\u001b[0m\u001b[0;34m,\u001b[0m \u001b[0msr\u001b[0m\u001b[0;34m)\u001b[0m\u001b[0;34m,\u001b[0m\u001b[0;34m\u001b[0m\u001b[0;34m\u001b[0m\u001b[0m\n",
            "\u001b[0;32m/usr/local/lib/python3.11/dist-packages/f5_tts/infer/utils_infer.py\u001b[0m in \u001b[0;36minfer_batch_process\u001b[0;34m(ref_audio, ref_text, gen_text_batches, model_obj, vocoder, mel_spec_type, progress, target_rms, cross_fade_duration, nfe_step, cfg_strength, sway_sampling_coef, speed, fix_duration, device, streaming, chunk_size)\u001b[0m\n\u001b[1;32m    529\u001b[0m                 \u001b[0mresult\u001b[0m \u001b[0;34m=\u001b[0m \u001b[0mfuture\u001b[0m\u001b[0;34m.\u001b[0m\u001b[0mresult\u001b[0m\u001b[0;34m(\u001b[0m\u001b[0;34m)\u001b[0m\u001b[0;34m\u001b[0m\u001b[0;34m\u001b[0m\u001b[0m\n\u001b[1;32m    530\u001b[0m                 \u001b[0;32mif\u001b[0m \u001b[0mresult\u001b[0m\u001b[0;34m:\u001b[0m\u001b[0;34m\u001b[0m\u001b[0;34m\u001b[0m\u001b[0m\n\u001b[0;32m--> 531\u001b[0;31m                     \u001b[0mgenerated_wave\u001b[0m\u001b[0;34m,\u001b[0m \u001b[0mgenerated_mel_spec\u001b[0m \u001b[0;34m=\u001b[0m \u001b[0mnext\u001b[0m\u001b[0;34m(\u001b[0m\u001b[0mresult\u001b[0m\u001b[0;34m)\u001b[0m\u001b[0;34m\u001b[0m\u001b[0;34m\u001b[0m\u001b[0m\n\u001b[0m\u001b[1;32m    532\u001b[0m                     \u001b[0mgenerated_waves\u001b[0m\u001b[0;34m.\u001b[0m\u001b[0mappend\u001b[0m\u001b[0;34m(\u001b[0m\u001b[0mgenerated_wave\u001b[0m\u001b[0;34m)\u001b[0m\u001b[0;34m\u001b[0m\u001b[0;34m\u001b[0m\u001b[0m\n\u001b[1;32m    533\u001b[0m                     \u001b[0mspectrograms\u001b[0m\u001b[0;34m.\u001b[0m\u001b[0mappend\u001b[0m\u001b[0;34m(\u001b[0m\u001b[0mgenerated_mel_spec\u001b[0m\u001b[0;34m)\u001b[0m\u001b[0;34m\u001b[0m\u001b[0;34m\u001b[0m\u001b[0m\n",
            "\u001b[0;32m/usr/local/lib/python3.11/dist-packages/f5_tts/infer/utils_infer.py\u001b[0m in \u001b[0;36mprocess_batch\u001b[0;34m(gen_text)\u001b[0m\n\u001b[1;32m    488\u001b[0m         \u001b[0;31m# inference\u001b[0m\u001b[0;34m\u001b[0m\u001b[0;34m\u001b[0m\u001b[0m\n\u001b[1;32m    489\u001b[0m         \u001b[0;32mwith\u001b[0m \u001b[0mtorch\u001b[0m\u001b[0;34m.\u001b[0m\u001b[0minference_mode\u001b[0m\u001b[0;34m(\u001b[0m\u001b[0;34m)\u001b[0m\u001b[0;34m:\u001b[0m\u001b[0;34m\u001b[0m\u001b[0;34m\u001b[0m\u001b[0m\n\u001b[0;32m--> 490\u001b[0;31m             generated, _ = model_obj.sample(\n\u001b[0m\u001b[1;32m    491\u001b[0m                 \u001b[0mcond\u001b[0m\u001b[0;34m=\u001b[0m\u001b[0maudio\u001b[0m\u001b[0;34m,\u001b[0m\u001b[0;34m\u001b[0m\u001b[0;34m\u001b[0m\u001b[0m\n\u001b[1;32m    492\u001b[0m                 \u001b[0mtext\u001b[0m\u001b[0;34m=\u001b[0m\u001b[0mfinal_text_list\u001b[0m\u001b[0;34m,\u001b[0m\u001b[0;34m\u001b[0m\u001b[0;34m\u001b[0m\u001b[0m\n",
            "\u001b[0;32m/usr/local/lib/python3.11/dist-packages/torch/utils/_contextlib.py\u001b[0m in \u001b[0;36mdecorate_context\u001b[0;34m(*args, **kwargs)\u001b[0m\n\u001b[1;32m    114\u001b[0m     \u001b[0;32mdef\u001b[0m \u001b[0mdecorate_context\u001b[0m\u001b[0;34m(\u001b[0m\u001b[0;34m*\u001b[0m\u001b[0margs\u001b[0m\u001b[0;34m,\u001b[0m \u001b[0;34m**\u001b[0m\u001b[0mkwargs\u001b[0m\u001b[0;34m)\u001b[0m\u001b[0;34m:\u001b[0m\u001b[0;34m\u001b[0m\u001b[0;34m\u001b[0m\u001b[0m\n\u001b[1;32m    115\u001b[0m         \u001b[0;32mwith\u001b[0m \u001b[0mctx_factory\u001b[0m\u001b[0;34m(\u001b[0m\u001b[0;34m)\u001b[0m\u001b[0;34m:\u001b[0m\u001b[0;34m\u001b[0m\u001b[0;34m\u001b[0m\u001b[0m\n\u001b[0;32m--> 116\u001b[0;31m             \u001b[0;32mreturn\u001b[0m \u001b[0mfunc\u001b[0m\u001b[0;34m(\u001b[0m\u001b[0;34m*\u001b[0m\u001b[0margs\u001b[0m\u001b[0;34m,\u001b[0m \u001b[0;34m**\u001b[0m\u001b[0mkwargs\u001b[0m\u001b[0;34m)\u001b[0m\u001b[0;34m\u001b[0m\u001b[0;34m\u001b[0m\u001b[0m\n\u001b[0m\u001b[1;32m    117\u001b[0m \u001b[0;34m\u001b[0m\u001b[0m\n\u001b[1;32m    118\u001b[0m     \u001b[0;32mreturn\u001b[0m \u001b[0mdecorate_context\u001b[0m\u001b[0;34m\u001b[0m\u001b[0;34m\u001b[0m\u001b[0m\n",
            "\u001b[0;32m/usr/local/lib/python3.11/dist-packages/f5_tts/model/cfm.py\u001b[0m in \u001b[0;36msample\u001b[0;34m(self, cond, text, duration, lens, steps, cfg_strength, sway_sampling_coef, seed, max_duration, vocoder, use_epss, no_ref_audio, duplicate_test, t_inter, edit_mask)\u001b[0m\n\u001b[1;32m    215\u001b[0m             \u001b[0mt\u001b[0m \u001b[0;34m=\u001b[0m \u001b[0mt\u001b[0m \u001b[0;34m+\u001b[0m \u001b[0msway_sampling_coef\u001b[0m \u001b[0;34m*\u001b[0m \u001b[0;34m(\u001b[0m\u001b[0mtorch\u001b[0m\u001b[0;34m.\u001b[0m\u001b[0mcos\u001b[0m\u001b[0;34m(\u001b[0m\u001b[0mtorch\u001b[0m\u001b[0;34m.\u001b[0m\u001b[0mpi\u001b[0m \u001b[0;34m/\u001b[0m \u001b[0;36m2\u001b[0m \u001b[0;34m*\u001b[0m \u001b[0mt\u001b[0m\u001b[0;34m)\u001b[0m \u001b[0;34m-\u001b[0m \u001b[0;36m1\u001b[0m \u001b[0;34m+\u001b[0m \u001b[0mt\u001b[0m\u001b[0;34m)\u001b[0m\u001b[0;34m\u001b[0m\u001b[0;34m\u001b[0m\u001b[0m\n\u001b[1;32m    216\u001b[0m \u001b[0;34m\u001b[0m\u001b[0m\n\u001b[0;32m--> 217\u001b[0;31m         \u001b[0mtrajectory\u001b[0m \u001b[0;34m=\u001b[0m \u001b[0modeint\u001b[0m\u001b[0;34m(\u001b[0m\u001b[0mfn\u001b[0m\u001b[0;34m,\u001b[0m \u001b[0my0\u001b[0m\u001b[0;34m,\u001b[0m \u001b[0mt\u001b[0m\u001b[0;34m,\u001b[0m \u001b[0;34m**\u001b[0m\u001b[0mself\u001b[0m\u001b[0;34m.\u001b[0m\u001b[0modeint_kwargs\u001b[0m\u001b[0;34m)\u001b[0m\u001b[0;34m\u001b[0m\u001b[0;34m\u001b[0m\u001b[0m\n\u001b[0m\u001b[1;32m    218\u001b[0m         \u001b[0mself\u001b[0m\u001b[0;34m.\u001b[0m\u001b[0mtransformer\u001b[0m\u001b[0;34m.\u001b[0m\u001b[0mclear_cache\u001b[0m\u001b[0;34m(\u001b[0m\u001b[0;34m)\u001b[0m\u001b[0;34m\u001b[0m\u001b[0;34m\u001b[0m\u001b[0m\n\u001b[1;32m    219\u001b[0m \u001b[0;34m\u001b[0m\u001b[0m\n",
            "\u001b[0;32m/usr/local/lib/python3.11/dist-packages/torchdiffeq/_impl/odeint.py\u001b[0m in \u001b[0;36modeint\u001b[0;34m(func, y0, t, rtol, atol, method, options, event_fn)\u001b[0m\n\u001b[1;32m     78\u001b[0m \u001b[0;34m\u001b[0m\u001b[0m\n\u001b[1;32m     79\u001b[0m     \u001b[0;32mif\u001b[0m \u001b[0mevent_fn\u001b[0m \u001b[0;32mis\u001b[0m \u001b[0;32mNone\u001b[0m\u001b[0;34m:\u001b[0m\u001b[0;34m\u001b[0m\u001b[0;34m\u001b[0m\u001b[0m\n\u001b[0;32m---> 80\u001b[0;31m         \u001b[0msolution\u001b[0m \u001b[0;34m=\u001b[0m \u001b[0msolver\u001b[0m\u001b[0;34m.\u001b[0m\u001b[0mintegrate\u001b[0m\u001b[0;34m(\u001b[0m\u001b[0mt\u001b[0m\u001b[0;34m)\u001b[0m\u001b[0;34m\u001b[0m\u001b[0;34m\u001b[0m\u001b[0m\n\u001b[0m\u001b[1;32m     81\u001b[0m     \u001b[0;32melse\u001b[0m\u001b[0;34m:\u001b[0m\u001b[0;34m\u001b[0m\u001b[0;34m\u001b[0m\u001b[0m\n\u001b[1;32m     82\u001b[0m         \u001b[0mevent_t\u001b[0m\u001b[0;34m,\u001b[0m \u001b[0msolution\u001b[0m \u001b[0;34m=\u001b[0m \u001b[0msolver\u001b[0m\u001b[0;34m.\u001b[0m\u001b[0mintegrate_until_event\u001b[0m\u001b[0;34m(\u001b[0m\u001b[0mt\u001b[0m\u001b[0;34m[\u001b[0m\u001b[0;36m0\u001b[0m\u001b[0;34m]\u001b[0m\u001b[0;34m,\u001b[0m \u001b[0mevent_fn\u001b[0m\u001b[0;34m)\u001b[0m\u001b[0;34m\u001b[0m\u001b[0;34m\u001b[0m\u001b[0m\n",
            "\u001b[0;32m/usr/local/lib/python3.11/dist-packages/torchdiffeq/_impl/solvers.py\u001b[0m in \u001b[0;36mintegrate\u001b[0;34m(self, t)\u001b[0m\n\u001b[1;32m    112\u001b[0m             \u001b[0mdt\u001b[0m \u001b[0;34m=\u001b[0m \u001b[0mt1\u001b[0m \u001b[0;34m-\u001b[0m \u001b[0mt0\u001b[0m\u001b[0;34m\u001b[0m\u001b[0;34m\u001b[0m\u001b[0m\n\u001b[1;32m    113\u001b[0m             \u001b[0mself\u001b[0m\u001b[0;34m.\u001b[0m\u001b[0mfunc\u001b[0m\u001b[0;34m.\u001b[0m\u001b[0mcallback_step\u001b[0m\u001b[0;34m(\u001b[0m\u001b[0mt0\u001b[0m\u001b[0;34m,\u001b[0m \u001b[0my0\u001b[0m\u001b[0;34m,\u001b[0m \u001b[0mdt\u001b[0m\u001b[0;34m)\u001b[0m\u001b[0;34m\u001b[0m\u001b[0;34m\u001b[0m\u001b[0m\n\u001b[0;32m--> 114\u001b[0;31m             \u001b[0mdy\u001b[0m\u001b[0;34m,\u001b[0m \u001b[0mf0\u001b[0m \u001b[0;34m=\u001b[0m \u001b[0mself\u001b[0m\u001b[0;34m.\u001b[0m\u001b[0m_step_func\u001b[0m\u001b[0;34m(\u001b[0m\u001b[0mself\u001b[0m\u001b[0;34m.\u001b[0m\u001b[0mfunc\u001b[0m\u001b[0;34m,\u001b[0m \u001b[0mt0\u001b[0m\u001b[0;34m,\u001b[0m \u001b[0mdt\u001b[0m\u001b[0;34m,\u001b[0m \u001b[0mt1\u001b[0m\u001b[0;34m,\u001b[0m \u001b[0my0\u001b[0m\u001b[0;34m)\u001b[0m\u001b[0;34m\u001b[0m\u001b[0;34m\u001b[0m\u001b[0m\n\u001b[0m\u001b[1;32m    115\u001b[0m             \u001b[0my1\u001b[0m \u001b[0;34m=\u001b[0m \u001b[0my0\u001b[0m \u001b[0;34m+\u001b[0m \u001b[0mdy\u001b[0m\u001b[0;34m\u001b[0m\u001b[0;34m\u001b[0m\u001b[0m\n\u001b[1;32m    116\u001b[0m \u001b[0;34m\u001b[0m\u001b[0m\n",
            "\u001b[0;32m/usr/local/lib/python3.11/dist-packages/torchdiffeq/_impl/fixed_grid.py\u001b[0m in \u001b[0;36m_step_func\u001b[0;34m(self, func, t0, dt, t1, y0)\u001b[0m\n\u001b[1;32m      8\u001b[0m \u001b[0;34m\u001b[0m\u001b[0m\n\u001b[1;32m      9\u001b[0m     \u001b[0;32mdef\u001b[0m \u001b[0m_step_func\u001b[0m\u001b[0;34m(\u001b[0m\u001b[0mself\u001b[0m\u001b[0;34m,\u001b[0m \u001b[0mfunc\u001b[0m\u001b[0;34m,\u001b[0m \u001b[0mt0\u001b[0m\u001b[0;34m,\u001b[0m \u001b[0mdt\u001b[0m\u001b[0;34m,\u001b[0m \u001b[0mt1\u001b[0m\u001b[0;34m,\u001b[0m \u001b[0my0\u001b[0m\u001b[0;34m)\u001b[0m\u001b[0;34m:\u001b[0m\u001b[0;34m\u001b[0m\u001b[0;34m\u001b[0m\u001b[0m\n\u001b[0;32m---> 10\u001b[0;31m         \u001b[0mf0\u001b[0m \u001b[0;34m=\u001b[0m \u001b[0mfunc\u001b[0m\u001b[0;34m(\u001b[0m\u001b[0mt0\u001b[0m\u001b[0;34m,\u001b[0m \u001b[0my0\u001b[0m\u001b[0;34m,\u001b[0m \u001b[0mperturb\u001b[0m\u001b[0;34m=\u001b[0m\u001b[0mPerturb\u001b[0m\u001b[0;34m.\u001b[0m\u001b[0mNEXT\u001b[0m \u001b[0;32mif\u001b[0m \u001b[0mself\u001b[0m\u001b[0;34m.\u001b[0m\u001b[0mperturb\u001b[0m \u001b[0;32melse\u001b[0m \u001b[0mPerturb\u001b[0m\u001b[0;34m.\u001b[0m\u001b[0mNONE\u001b[0m\u001b[0;34m)\u001b[0m\u001b[0;34m\u001b[0m\u001b[0;34m\u001b[0m\u001b[0m\n\u001b[0m\u001b[1;32m     11\u001b[0m         \u001b[0;32mreturn\u001b[0m \u001b[0mdt\u001b[0m \u001b[0;34m*\u001b[0m \u001b[0mf0\u001b[0m\u001b[0;34m,\u001b[0m \u001b[0mf0\u001b[0m\u001b[0;34m\u001b[0m\u001b[0;34m\u001b[0m\u001b[0m\n\u001b[1;32m     12\u001b[0m \u001b[0;34m\u001b[0m\u001b[0m\n",
            "\u001b[0;32m/usr/local/lib/python3.11/dist-packages/torch/nn/modules/module.py\u001b[0m in \u001b[0;36m_wrapped_call_impl\u001b[0;34m(self, *args, **kwargs)\u001b[0m\n\u001b[1;32m   1737\u001b[0m             \u001b[0;32mreturn\u001b[0m \u001b[0mself\u001b[0m\u001b[0;34m.\u001b[0m\u001b[0m_compiled_call_impl\u001b[0m\u001b[0;34m(\u001b[0m\u001b[0;34m*\u001b[0m\u001b[0margs\u001b[0m\u001b[0;34m,\u001b[0m \u001b[0;34m**\u001b[0m\u001b[0mkwargs\u001b[0m\u001b[0;34m)\u001b[0m  \u001b[0;31m# type: ignore[misc]\u001b[0m\u001b[0;34m\u001b[0m\u001b[0;34m\u001b[0m\u001b[0m\n\u001b[1;32m   1738\u001b[0m         \u001b[0;32melse\u001b[0m\u001b[0;34m:\u001b[0m\u001b[0;34m\u001b[0m\u001b[0;34m\u001b[0m\u001b[0m\n\u001b[0;32m-> 1739\u001b[0;31m             \u001b[0;32mreturn\u001b[0m \u001b[0mself\u001b[0m\u001b[0;34m.\u001b[0m\u001b[0m_call_impl\u001b[0m\u001b[0;34m(\u001b[0m\u001b[0;34m*\u001b[0m\u001b[0margs\u001b[0m\u001b[0;34m,\u001b[0m \u001b[0;34m**\u001b[0m\u001b[0mkwargs\u001b[0m\u001b[0;34m)\u001b[0m\u001b[0;34m\u001b[0m\u001b[0;34m\u001b[0m\u001b[0m\n\u001b[0m\u001b[1;32m   1740\u001b[0m \u001b[0;34m\u001b[0m\u001b[0m\n\u001b[1;32m   1741\u001b[0m     \u001b[0;31m# torchrec tests the code consistency with the following code\u001b[0m\u001b[0;34m\u001b[0m\u001b[0;34m\u001b[0m\u001b[0m\n",
            "\u001b[0;32m/usr/local/lib/python3.11/dist-packages/torch/nn/modules/module.py\u001b[0m in \u001b[0;36m_call_impl\u001b[0;34m(self, *args, **kwargs)\u001b[0m\n\u001b[1;32m   1748\u001b[0m                 \u001b[0;32mor\u001b[0m \u001b[0m_global_backward_pre_hooks\u001b[0m \u001b[0;32mor\u001b[0m \u001b[0m_global_backward_hooks\u001b[0m\u001b[0;34m\u001b[0m\u001b[0;34m\u001b[0m\u001b[0m\n\u001b[1;32m   1749\u001b[0m                 or _global_forward_hooks or _global_forward_pre_hooks):\n\u001b[0;32m-> 1750\u001b[0;31m             \u001b[0;32mreturn\u001b[0m \u001b[0mforward_call\u001b[0m\u001b[0;34m(\u001b[0m\u001b[0;34m*\u001b[0m\u001b[0margs\u001b[0m\u001b[0;34m,\u001b[0m \u001b[0;34m**\u001b[0m\u001b[0mkwargs\u001b[0m\u001b[0;34m)\u001b[0m\u001b[0;34m\u001b[0m\u001b[0;34m\u001b[0m\u001b[0m\n\u001b[0m\u001b[1;32m   1751\u001b[0m \u001b[0;34m\u001b[0m\u001b[0m\n\u001b[1;32m   1752\u001b[0m         \u001b[0mresult\u001b[0m \u001b[0;34m=\u001b[0m \u001b[0;32mNone\u001b[0m\u001b[0;34m\u001b[0m\u001b[0;34m\u001b[0m\u001b[0m\n",
            "\u001b[0;32m/usr/local/lib/python3.11/dist-packages/torchdiffeq/_impl/misc.py\u001b[0m in \u001b[0;36mforward\u001b[0;34m(self, t, y, perturb)\u001b[0m\n\u001b[1;32m    195\u001b[0m             \u001b[0;31m# Do nothing.\u001b[0m\u001b[0;34m\u001b[0m\u001b[0;34m\u001b[0m\u001b[0m\n\u001b[1;32m    196\u001b[0m             \u001b[0;32mpass\u001b[0m\u001b[0;34m\u001b[0m\u001b[0;34m\u001b[0m\u001b[0m\n\u001b[0;32m--> 197\u001b[0;31m         \u001b[0;32mreturn\u001b[0m \u001b[0mself\u001b[0m\u001b[0;34m.\u001b[0m\u001b[0mbase_func\u001b[0m\u001b[0;34m(\u001b[0m\u001b[0mt\u001b[0m\u001b[0;34m,\u001b[0m \u001b[0my\u001b[0m\u001b[0;34m)\u001b[0m\u001b[0;34m\u001b[0m\u001b[0;34m\u001b[0m\u001b[0m\n\u001b[0m\u001b[1;32m    198\u001b[0m \u001b[0;34m\u001b[0m\u001b[0m\n\u001b[1;32m    199\u001b[0m \u001b[0;34m\u001b[0m\u001b[0m\n",
            "\u001b[0;32m/usr/local/lib/python3.11/dist-packages/f5_tts/model/cfm.py\u001b[0m in \u001b[0;36mfn\u001b[0;34m(t, x)\u001b[0m\n\u001b[1;32m    178\u001b[0m \u001b[0;34m\u001b[0m\u001b[0m\n\u001b[1;32m    179\u001b[0m             \u001b[0;31m# predict flow (cond and uncond), for classifier-free guidance\u001b[0m\u001b[0;34m\u001b[0m\u001b[0;34m\u001b[0m\u001b[0m\n\u001b[0;32m--> 180\u001b[0;31m             pred_cfg = self.transformer(\n\u001b[0m\u001b[1;32m    181\u001b[0m                 \u001b[0mx\u001b[0m\u001b[0;34m=\u001b[0m\u001b[0mx\u001b[0m\u001b[0;34m,\u001b[0m\u001b[0;34m\u001b[0m\u001b[0;34m\u001b[0m\u001b[0m\n\u001b[1;32m    182\u001b[0m                 \u001b[0mcond\u001b[0m\u001b[0;34m=\u001b[0m\u001b[0mstep_cond\u001b[0m\u001b[0;34m,\u001b[0m\u001b[0;34m\u001b[0m\u001b[0;34m\u001b[0m\u001b[0m\n",
            "\u001b[0;32m/usr/local/lib/python3.11/dist-packages/torch/nn/modules/module.py\u001b[0m in \u001b[0;36m_wrapped_call_impl\u001b[0;34m(self, *args, **kwargs)\u001b[0m\n\u001b[1;32m   1737\u001b[0m             \u001b[0;32mreturn\u001b[0m \u001b[0mself\u001b[0m\u001b[0;34m.\u001b[0m\u001b[0m_compiled_call_impl\u001b[0m\u001b[0;34m(\u001b[0m\u001b[0;34m*\u001b[0m\u001b[0margs\u001b[0m\u001b[0;34m,\u001b[0m \u001b[0;34m**\u001b[0m\u001b[0mkwargs\u001b[0m\u001b[0;34m)\u001b[0m  \u001b[0;31m# type: ignore[misc]\u001b[0m\u001b[0;34m\u001b[0m\u001b[0;34m\u001b[0m\u001b[0m\n\u001b[1;32m   1738\u001b[0m         \u001b[0;32melse\u001b[0m\u001b[0;34m:\u001b[0m\u001b[0;34m\u001b[0m\u001b[0;34m\u001b[0m\u001b[0m\n\u001b[0;32m-> 1739\u001b[0;31m             \u001b[0;32mreturn\u001b[0m \u001b[0mself\u001b[0m\u001b[0;34m.\u001b[0m\u001b[0m_call_impl\u001b[0m\u001b[0;34m(\u001b[0m\u001b[0;34m*\u001b[0m\u001b[0margs\u001b[0m\u001b[0;34m,\u001b[0m \u001b[0;34m**\u001b[0m\u001b[0mkwargs\u001b[0m\u001b[0;34m)\u001b[0m\u001b[0;34m\u001b[0m\u001b[0;34m\u001b[0m\u001b[0m\n\u001b[0m\u001b[1;32m   1740\u001b[0m \u001b[0;34m\u001b[0m\u001b[0m\n\u001b[1;32m   1741\u001b[0m     \u001b[0;31m# torchrec tests the code consistency with the following code\u001b[0m\u001b[0;34m\u001b[0m\u001b[0;34m\u001b[0m\u001b[0m\n",
            "\u001b[0;32m/usr/local/lib/python3.11/dist-packages/torch/nn/modules/module.py\u001b[0m in \u001b[0;36m_call_impl\u001b[0;34m(self, *args, **kwargs)\u001b[0m\n\u001b[1;32m   1748\u001b[0m                 \u001b[0;32mor\u001b[0m \u001b[0m_global_backward_pre_hooks\u001b[0m \u001b[0;32mor\u001b[0m \u001b[0m_global_backward_hooks\u001b[0m\u001b[0;34m\u001b[0m\u001b[0;34m\u001b[0m\u001b[0m\n\u001b[1;32m   1749\u001b[0m                 or _global_forward_hooks or _global_forward_pre_hooks):\n\u001b[0;32m-> 1750\u001b[0;31m             \u001b[0;32mreturn\u001b[0m \u001b[0mforward_call\u001b[0m\u001b[0;34m(\u001b[0m\u001b[0;34m*\u001b[0m\u001b[0margs\u001b[0m\u001b[0;34m,\u001b[0m \u001b[0;34m**\u001b[0m\u001b[0mkwargs\u001b[0m\u001b[0;34m)\u001b[0m\u001b[0;34m\u001b[0m\u001b[0;34m\u001b[0m\u001b[0m\n\u001b[0m\u001b[1;32m   1751\u001b[0m \u001b[0;34m\u001b[0m\u001b[0m\n\u001b[1;32m   1752\u001b[0m         \u001b[0mresult\u001b[0m \u001b[0;34m=\u001b[0m \u001b[0;32mNone\u001b[0m\u001b[0;34m\u001b[0m\u001b[0;34m\u001b[0m\u001b[0m\n",
            "\u001b[0;32m/usr/local/lib/python3.11/dist-packages/f5_tts/model/backbones/dit.py\u001b[0m in \u001b[0;36mforward\u001b[0;34m(self, x, cond, text, time, mask, drop_audio_cond, drop_text, cfg_infer, cache)\u001b[0m\n\u001b[1;32m    249\u001b[0m                 \u001b[0mx\u001b[0m \u001b[0;34m=\u001b[0m \u001b[0mtorch\u001b[0m\u001b[0;34m.\u001b[0m\u001b[0mutils\u001b[0m\u001b[0;34m.\u001b[0m\u001b[0mcheckpoint\u001b[0m\u001b[0;34m.\u001b[0m\u001b[0mcheckpoint\u001b[0m\u001b[0;34m(\u001b[0m\u001b[0mself\u001b[0m\u001b[0;34m.\u001b[0m\u001b[0mckpt_wrapper\u001b[0m\u001b[0;34m(\u001b[0m\u001b[0mblock\u001b[0m\u001b[0;34m)\u001b[0m\u001b[0;34m,\u001b[0m \u001b[0mx\u001b[0m\u001b[0;34m,\u001b[0m \u001b[0mt\u001b[0m\u001b[0;34m,\u001b[0m \u001b[0mmask\u001b[0m\u001b[0;34m,\u001b[0m \u001b[0mrope\u001b[0m\u001b[0;34m,\u001b[0m \u001b[0muse_reentrant\u001b[0m\u001b[0;34m=\u001b[0m\u001b[0;32mFalse\u001b[0m\u001b[0;34m)\u001b[0m\u001b[0;34m\u001b[0m\u001b[0;34m\u001b[0m\u001b[0m\n\u001b[1;32m    250\u001b[0m             \u001b[0;32melse\u001b[0m\u001b[0;34m:\u001b[0m\u001b[0;34m\u001b[0m\u001b[0;34m\u001b[0m\u001b[0m\n\u001b[0;32m--> 251\u001b[0;31m                 \u001b[0mx\u001b[0m \u001b[0;34m=\u001b[0m \u001b[0mblock\u001b[0m\u001b[0;34m(\u001b[0m\u001b[0mx\u001b[0m\u001b[0;34m,\u001b[0m \u001b[0mt\u001b[0m\u001b[0;34m,\u001b[0m \u001b[0mmask\u001b[0m\u001b[0;34m=\u001b[0m\u001b[0mmask\u001b[0m\u001b[0;34m,\u001b[0m \u001b[0mrope\u001b[0m\u001b[0;34m=\u001b[0m\u001b[0mrope\u001b[0m\u001b[0;34m)\u001b[0m\u001b[0;34m\u001b[0m\u001b[0;34m\u001b[0m\u001b[0m\n\u001b[0m\u001b[1;32m    252\u001b[0m \u001b[0;34m\u001b[0m\u001b[0m\n\u001b[1;32m    253\u001b[0m         \u001b[0;32mif\u001b[0m \u001b[0mself\u001b[0m\u001b[0;34m.\u001b[0m\u001b[0mlong_skip_connection\u001b[0m \u001b[0;32mis\u001b[0m \u001b[0;32mnot\u001b[0m \u001b[0;32mNone\u001b[0m\u001b[0;34m:\u001b[0m\u001b[0;34m\u001b[0m\u001b[0;34m\u001b[0m\u001b[0m\n",
            "\u001b[0;32m/usr/local/lib/python3.11/dist-packages/torch/nn/modules/module.py\u001b[0m in \u001b[0;36m_wrapped_call_impl\u001b[0;34m(self, *args, **kwargs)\u001b[0m\n\u001b[1;32m   1737\u001b[0m             \u001b[0;32mreturn\u001b[0m \u001b[0mself\u001b[0m\u001b[0;34m.\u001b[0m\u001b[0m_compiled_call_impl\u001b[0m\u001b[0;34m(\u001b[0m\u001b[0;34m*\u001b[0m\u001b[0margs\u001b[0m\u001b[0;34m,\u001b[0m \u001b[0;34m**\u001b[0m\u001b[0mkwargs\u001b[0m\u001b[0;34m)\u001b[0m  \u001b[0;31m# type: ignore[misc]\u001b[0m\u001b[0;34m\u001b[0m\u001b[0;34m\u001b[0m\u001b[0m\n\u001b[1;32m   1738\u001b[0m         \u001b[0;32melse\u001b[0m\u001b[0;34m:\u001b[0m\u001b[0;34m\u001b[0m\u001b[0;34m\u001b[0m\u001b[0m\n\u001b[0;32m-> 1739\u001b[0;31m             \u001b[0;32mreturn\u001b[0m \u001b[0mself\u001b[0m\u001b[0;34m.\u001b[0m\u001b[0m_call_impl\u001b[0m\u001b[0;34m(\u001b[0m\u001b[0;34m*\u001b[0m\u001b[0margs\u001b[0m\u001b[0;34m,\u001b[0m \u001b[0;34m**\u001b[0m\u001b[0mkwargs\u001b[0m\u001b[0;34m)\u001b[0m\u001b[0;34m\u001b[0m\u001b[0;34m\u001b[0m\u001b[0m\n\u001b[0m\u001b[1;32m   1740\u001b[0m \u001b[0;34m\u001b[0m\u001b[0m\n\u001b[1;32m   1741\u001b[0m     \u001b[0;31m# torchrec tests the code consistency with the following code\u001b[0m\u001b[0;34m\u001b[0m\u001b[0;34m\u001b[0m\u001b[0m\n",
            "\u001b[0;32m/usr/local/lib/python3.11/dist-packages/torch/nn/modules/module.py\u001b[0m in \u001b[0;36m_call_impl\u001b[0;34m(self, *args, **kwargs)\u001b[0m\n\u001b[1;32m   1748\u001b[0m                 \u001b[0;32mor\u001b[0m \u001b[0m_global_backward_pre_hooks\u001b[0m \u001b[0;32mor\u001b[0m \u001b[0m_global_backward_hooks\u001b[0m\u001b[0;34m\u001b[0m\u001b[0;34m\u001b[0m\u001b[0m\n\u001b[1;32m   1749\u001b[0m                 or _global_forward_hooks or _global_forward_pre_hooks):\n\u001b[0;32m-> 1750\u001b[0;31m             \u001b[0;32mreturn\u001b[0m \u001b[0mforward_call\u001b[0m\u001b[0;34m(\u001b[0m\u001b[0;34m*\u001b[0m\u001b[0margs\u001b[0m\u001b[0;34m,\u001b[0m \u001b[0;34m**\u001b[0m\u001b[0mkwargs\u001b[0m\u001b[0;34m)\u001b[0m\u001b[0;34m\u001b[0m\u001b[0;34m\u001b[0m\u001b[0m\n\u001b[0m\u001b[1;32m   1751\u001b[0m \u001b[0;34m\u001b[0m\u001b[0m\n\u001b[1;32m   1752\u001b[0m         \u001b[0mresult\u001b[0m \u001b[0;34m=\u001b[0m \u001b[0;32mNone\u001b[0m\u001b[0;34m\u001b[0m\u001b[0;34m\u001b[0m\u001b[0m\n",
            "\u001b[0;32m/usr/local/lib/python3.11/dist-packages/f5_tts/model/modules.py\u001b[0m in \u001b[0;36mforward\u001b[0;34m(self, x, t, mask, rope)\u001b[0m\n\u001b[1;32m    683\u001b[0m \u001b[0;34m\u001b[0m\u001b[0m\n\u001b[1;32m    684\u001b[0m         \u001b[0;31m# attention\u001b[0m\u001b[0;34m\u001b[0m\u001b[0;34m\u001b[0m\u001b[0m\n\u001b[0;32m--> 685\u001b[0;31m         \u001b[0mattn_output\u001b[0m \u001b[0;34m=\u001b[0m \u001b[0mself\u001b[0m\u001b[0;34m.\u001b[0m\u001b[0mattn\u001b[0m\u001b[0;34m(\u001b[0m\u001b[0mx\u001b[0m\u001b[0;34m=\u001b[0m\u001b[0mnorm\u001b[0m\u001b[0;34m,\u001b[0m \u001b[0mmask\u001b[0m\u001b[0;34m=\u001b[0m\u001b[0mmask\u001b[0m\u001b[0;34m,\u001b[0m \u001b[0mrope\u001b[0m\u001b[0;34m=\u001b[0m\u001b[0mrope\u001b[0m\u001b[0;34m)\u001b[0m\u001b[0;34m\u001b[0m\u001b[0;34m\u001b[0m\u001b[0m\n\u001b[0m\u001b[1;32m    686\u001b[0m \u001b[0;34m\u001b[0m\u001b[0m\n\u001b[1;32m    687\u001b[0m         \u001b[0;31m# process attention output for input x\u001b[0m\u001b[0;34m\u001b[0m\u001b[0;34m\u001b[0m\u001b[0m\n",
            "\u001b[0;32m/usr/local/lib/python3.11/dist-packages/torch/nn/modules/module.py\u001b[0m in \u001b[0;36m_wrapped_call_impl\u001b[0;34m(self, *args, **kwargs)\u001b[0m\n\u001b[1;32m   1737\u001b[0m             \u001b[0;32mreturn\u001b[0m \u001b[0mself\u001b[0m\u001b[0;34m.\u001b[0m\u001b[0m_compiled_call_impl\u001b[0m\u001b[0;34m(\u001b[0m\u001b[0;34m*\u001b[0m\u001b[0margs\u001b[0m\u001b[0;34m,\u001b[0m \u001b[0;34m**\u001b[0m\u001b[0mkwargs\u001b[0m\u001b[0;34m)\u001b[0m  \u001b[0;31m# type: ignore[misc]\u001b[0m\u001b[0;34m\u001b[0m\u001b[0;34m\u001b[0m\u001b[0m\n\u001b[1;32m   1738\u001b[0m         \u001b[0;32melse\u001b[0m\u001b[0;34m:\u001b[0m\u001b[0;34m\u001b[0m\u001b[0;34m\u001b[0m\u001b[0m\n\u001b[0;32m-> 1739\u001b[0;31m             \u001b[0;32mreturn\u001b[0m \u001b[0mself\u001b[0m\u001b[0;34m.\u001b[0m\u001b[0m_call_impl\u001b[0m\u001b[0;34m(\u001b[0m\u001b[0;34m*\u001b[0m\u001b[0margs\u001b[0m\u001b[0;34m,\u001b[0m \u001b[0;34m**\u001b[0m\u001b[0mkwargs\u001b[0m\u001b[0;34m)\u001b[0m\u001b[0;34m\u001b[0m\u001b[0;34m\u001b[0m\u001b[0m\n\u001b[0m\u001b[1;32m   1740\u001b[0m \u001b[0;34m\u001b[0m\u001b[0m\n\u001b[1;32m   1741\u001b[0m     \u001b[0;31m# torchrec tests the code consistency with the following code\u001b[0m\u001b[0;34m\u001b[0m\u001b[0;34m\u001b[0m\u001b[0m\n",
            "\u001b[0;32m/usr/local/lib/python3.11/dist-packages/torch/nn/modules/module.py\u001b[0m in \u001b[0;36m_call_impl\u001b[0;34m(self, *args, **kwargs)\u001b[0m\n\u001b[1;32m   1748\u001b[0m                 \u001b[0;32mor\u001b[0m \u001b[0m_global_backward_pre_hooks\u001b[0m \u001b[0;32mor\u001b[0m \u001b[0m_global_backward_hooks\u001b[0m\u001b[0;34m\u001b[0m\u001b[0;34m\u001b[0m\u001b[0m\n\u001b[1;32m   1749\u001b[0m                 or _global_forward_hooks or _global_forward_pre_hooks):\n\u001b[0;32m-> 1750\u001b[0;31m             \u001b[0;32mreturn\u001b[0m \u001b[0mforward_call\u001b[0m\u001b[0;34m(\u001b[0m\u001b[0;34m*\u001b[0m\u001b[0margs\u001b[0m\u001b[0;34m,\u001b[0m \u001b[0;34m**\u001b[0m\u001b[0mkwargs\u001b[0m\u001b[0;34m)\u001b[0m\u001b[0;34m\u001b[0m\u001b[0;34m\u001b[0m\u001b[0m\n\u001b[0m\u001b[1;32m   1751\u001b[0m \u001b[0;34m\u001b[0m\u001b[0m\n\u001b[1;32m   1752\u001b[0m         \u001b[0mresult\u001b[0m \u001b[0;34m=\u001b[0m \u001b[0;32mNone\u001b[0m\u001b[0;34m\u001b[0m\u001b[0;34m\u001b[0m\u001b[0m\n",
            "\u001b[0;32m/usr/local/lib/python3.11/dist-packages/f5_tts/model/modules.py\u001b[0m in \u001b[0;36mforward\u001b[0;34m(self, x, c, mask, rope, c_rope)\u001b[0m\n\u001b[1;32m    430\u001b[0m             \u001b[0;32mreturn\u001b[0m \u001b[0mself\u001b[0m\u001b[0;34m.\u001b[0m\u001b[0mprocessor\u001b[0m\u001b[0;34m(\u001b[0m\u001b[0mself\u001b[0m\u001b[0;34m,\u001b[0m \u001b[0mx\u001b[0m\u001b[0;34m,\u001b[0m \u001b[0mc\u001b[0m\u001b[0;34m=\u001b[0m\u001b[0mc\u001b[0m\u001b[0;34m,\u001b[0m \u001b[0mmask\u001b[0m\u001b[0;34m=\u001b[0m\u001b[0mmask\u001b[0m\u001b[0;34m,\u001b[0m \u001b[0mrope\u001b[0m\u001b[0;34m=\u001b[0m\u001b[0mrope\u001b[0m\u001b[0;34m,\u001b[0m \u001b[0mc_rope\u001b[0m\u001b[0;34m=\u001b[0m\u001b[0mc_rope\u001b[0m\u001b[0;34m)\u001b[0m\u001b[0;34m\u001b[0m\u001b[0;34m\u001b[0m\u001b[0m\n\u001b[1;32m    431\u001b[0m         \u001b[0;32melse\u001b[0m\u001b[0;34m:\u001b[0m\u001b[0;34m\u001b[0m\u001b[0;34m\u001b[0m\u001b[0m\n\u001b[0;32m--> 432\u001b[0;31m             \u001b[0;32mreturn\u001b[0m \u001b[0mself\u001b[0m\u001b[0;34m.\u001b[0m\u001b[0mprocessor\u001b[0m\u001b[0;34m(\u001b[0m\u001b[0mself\u001b[0m\u001b[0;34m,\u001b[0m \u001b[0mx\u001b[0m\u001b[0;34m,\u001b[0m \u001b[0mmask\u001b[0m\u001b[0;34m=\u001b[0m\u001b[0mmask\u001b[0m\u001b[0;34m,\u001b[0m \u001b[0mrope\u001b[0m\u001b[0;34m=\u001b[0m\u001b[0mrope\u001b[0m\u001b[0;34m)\u001b[0m\u001b[0;34m\u001b[0m\u001b[0;34m\u001b[0m\u001b[0m\n\u001b[0m\u001b[1;32m    433\u001b[0m \u001b[0;34m\u001b[0m\u001b[0m\n\u001b[1;32m    434\u001b[0m \u001b[0;34m\u001b[0m\u001b[0m\n",
            "\u001b[0;32m/usr/local/lib/python3.11/dist-packages/f5_tts/model/modules.py\u001b[0m in \u001b[0;36m__call__\u001b[0;34m(self, attn, x, mask, rope)\u001b[0m\n\u001b[1;32m    531\u001b[0m \u001b[0;34m\u001b[0m\u001b[0m\n\u001b[1;32m    532\u001b[0m         \u001b[0;31m# linear proj\u001b[0m\u001b[0;34m\u001b[0m\u001b[0;34m\u001b[0m\u001b[0m\n\u001b[0;32m--> 533\u001b[0;31m         \u001b[0mx\u001b[0m \u001b[0;34m=\u001b[0m \u001b[0mattn\u001b[0m\u001b[0;34m.\u001b[0m\u001b[0mto_out\u001b[0m\u001b[0;34m[\u001b[0m\u001b[0;36m0\u001b[0m\u001b[0;34m]\u001b[0m\u001b[0;34m(\u001b[0m\u001b[0mx\u001b[0m\u001b[0;34m)\u001b[0m\u001b[0;34m\u001b[0m\u001b[0;34m\u001b[0m\u001b[0m\n\u001b[0m\u001b[1;32m    534\u001b[0m         \u001b[0;31m# dropout\u001b[0m\u001b[0;34m\u001b[0m\u001b[0;34m\u001b[0m\u001b[0m\n\u001b[1;32m    535\u001b[0m         \u001b[0mx\u001b[0m \u001b[0;34m=\u001b[0m \u001b[0mattn\u001b[0m\u001b[0;34m.\u001b[0m\u001b[0mto_out\u001b[0m\u001b[0;34m[\u001b[0m\u001b[0;36m1\u001b[0m\u001b[0;34m]\u001b[0m\u001b[0;34m(\u001b[0m\u001b[0mx\u001b[0m\u001b[0;34m)\u001b[0m\u001b[0;34m\u001b[0m\u001b[0;34m\u001b[0m\u001b[0m\n",
            "\u001b[0;32m/usr/local/lib/python3.11/dist-packages/torch/nn/modules/module.py\u001b[0m in \u001b[0;36m_wrapped_call_impl\u001b[0;34m(self, *args, **kwargs)\u001b[0m\n\u001b[1;32m   1737\u001b[0m             \u001b[0;32mreturn\u001b[0m \u001b[0mself\u001b[0m\u001b[0;34m.\u001b[0m\u001b[0m_compiled_call_impl\u001b[0m\u001b[0;34m(\u001b[0m\u001b[0;34m*\u001b[0m\u001b[0margs\u001b[0m\u001b[0;34m,\u001b[0m \u001b[0;34m**\u001b[0m\u001b[0mkwargs\u001b[0m\u001b[0;34m)\u001b[0m  \u001b[0;31m# type: ignore[misc]\u001b[0m\u001b[0;34m\u001b[0m\u001b[0;34m\u001b[0m\u001b[0m\n\u001b[1;32m   1738\u001b[0m         \u001b[0;32melse\u001b[0m\u001b[0;34m:\u001b[0m\u001b[0;34m\u001b[0m\u001b[0;34m\u001b[0m\u001b[0m\n\u001b[0;32m-> 1739\u001b[0;31m             \u001b[0;32mreturn\u001b[0m \u001b[0mself\u001b[0m\u001b[0;34m.\u001b[0m\u001b[0m_call_impl\u001b[0m\u001b[0;34m(\u001b[0m\u001b[0;34m*\u001b[0m\u001b[0margs\u001b[0m\u001b[0;34m,\u001b[0m \u001b[0;34m**\u001b[0m\u001b[0mkwargs\u001b[0m\u001b[0;34m)\u001b[0m\u001b[0;34m\u001b[0m\u001b[0;34m\u001b[0m\u001b[0m\n\u001b[0m\u001b[1;32m   1740\u001b[0m \u001b[0;34m\u001b[0m\u001b[0m\n\u001b[1;32m   1741\u001b[0m     \u001b[0;31m# torchrec tests the code consistency with the following code\u001b[0m\u001b[0;34m\u001b[0m\u001b[0;34m\u001b[0m\u001b[0m\n",
            "\u001b[0;32m/usr/local/lib/python3.11/dist-packages/torch/nn/modules/module.py\u001b[0m in \u001b[0;36m_call_impl\u001b[0;34m(self, *args, **kwargs)\u001b[0m\n\u001b[1;32m   1748\u001b[0m                 \u001b[0;32mor\u001b[0m \u001b[0m_global_backward_pre_hooks\u001b[0m \u001b[0;32mor\u001b[0m \u001b[0m_global_backward_hooks\u001b[0m\u001b[0;34m\u001b[0m\u001b[0;34m\u001b[0m\u001b[0m\n\u001b[1;32m   1749\u001b[0m                 or _global_forward_hooks or _global_forward_pre_hooks):\n\u001b[0;32m-> 1750\u001b[0;31m             \u001b[0;32mreturn\u001b[0m \u001b[0mforward_call\u001b[0m\u001b[0;34m(\u001b[0m\u001b[0;34m*\u001b[0m\u001b[0margs\u001b[0m\u001b[0;34m,\u001b[0m \u001b[0;34m**\u001b[0m\u001b[0mkwargs\u001b[0m\u001b[0;34m)\u001b[0m\u001b[0;34m\u001b[0m\u001b[0;34m\u001b[0m\u001b[0m\n\u001b[0m\u001b[1;32m   1751\u001b[0m \u001b[0;34m\u001b[0m\u001b[0m\n\u001b[1;32m   1752\u001b[0m         \u001b[0mresult\u001b[0m \u001b[0;34m=\u001b[0m \u001b[0;32mNone\u001b[0m\u001b[0;34m\u001b[0m\u001b[0;34m\u001b[0m\u001b[0m\n",
            "\u001b[0;32m/usr/local/lib/python3.11/dist-packages/torch/nn/modules/linear.py\u001b[0m in \u001b[0;36mforward\u001b[0;34m(self, input)\u001b[0m\n\u001b[1;32m    123\u001b[0m \u001b[0;34m\u001b[0m\u001b[0m\n\u001b[1;32m    124\u001b[0m     \u001b[0;32mdef\u001b[0m \u001b[0mforward\u001b[0m\u001b[0;34m(\u001b[0m\u001b[0mself\u001b[0m\u001b[0;34m,\u001b[0m \u001b[0minput\u001b[0m\u001b[0;34m:\u001b[0m \u001b[0mTensor\u001b[0m\u001b[0;34m)\u001b[0m \u001b[0;34m->\u001b[0m \u001b[0mTensor\u001b[0m\u001b[0;34m:\u001b[0m\u001b[0;34m\u001b[0m\u001b[0;34m\u001b[0m\u001b[0m\n\u001b[0;32m--> 125\u001b[0;31m         \u001b[0;32mreturn\u001b[0m \u001b[0mF\u001b[0m\u001b[0;34m.\u001b[0m\u001b[0mlinear\u001b[0m\u001b[0;34m(\u001b[0m\u001b[0minput\u001b[0m\u001b[0;34m,\u001b[0m \u001b[0mself\u001b[0m\u001b[0;34m.\u001b[0m\u001b[0mweight\u001b[0m\u001b[0;34m,\u001b[0m \u001b[0mself\u001b[0m\u001b[0;34m.\u001b[0m\u001b[0mbias\u001b[0m\u001b[0;34m)\u001b[0m\u001b[0;34m\u001b[0m\u001b[0;34m\u001b[0m\u001b[0m\n\u001b[0m\u001b[1;32m    126\u001b[0m \u001b[0;34m\u001b[0m\u001b[0m\n\u001b[1;32m    127\u001b[0m     \u001b[0;32mdef\u001b[0m \u001b[0mextra_repr\u001b[0m\u001b[0;34m(\u001b[0m\u001b[0mself\u001b[0m\u001b[0;34m)\u001b[0m \u001b[0;34m->\u001b[0m \u001b[0mstr\u001b[0m\u001b[0;34m:\u001b[0m\u001b[0;34m\u001b[0m\u001b[0;34m\u001b[0m\u001b[0m\n",
            "\u001b[0;31mKeyboardInterrupt\u001b[0m: "
          ]
        }
      ],
      "execution_count": null
    },
    {
      "cell_type": "markdown",
      "source": [
        "# Optimize Code"
      ],
      "metadata": {
        "id": "ypjDDwGxLpE_"
      }
    },
    {
      "cell_type": "code",
      "source": [
        "import os\n",
        "import json\n",
        "import soundfile as sf\n",
        "import pandas as pd\n",
        "import random\n",
        "import ast\n",
        "import numpy as np\n",
        "import uuid\n",
        "from concurrent.futures import ThreadPoolExecutor\n",
        "import multiprocessing as mp\n",
        "from pathlib import Path\n",
        "import time\n",
        "from typing import Any, List\n",
        "\n",
        "# ==== Giả sử bạn có hàm load_model riêng ====\n",
        "def load_model():\n",
        "    from importlib.resources import files\n",
        "    from f5_tts.api import F5TTS\n",
        "\n",
        "    f5tts = F5TTS(device = 'cuda')\n",
        "    return f5tts\n",
        "\n",
        "\n",
        "def audio_generate(command: str, model, ref_file: str = \"\", ref_text: str = \"\"):\n",
        "    wav, sr, spec = model.infer(\n",
        "        ref_file=ref_file,\n",
        "        ref_text=ref_text,\n",
        "        gen_text=command,\n",
        "        seed=None,\n",
        "    )\n",
        "    return wav, sr, spec\n",
        "\n",
        "\n",
        "class ReferenceCache:\n",
        "    def __init__(self, audio_folder_path: str, json_folder_path: str):\n",
        "        self.audio_folder_path = Path(audio_folder_path)\n",
        "        self.json_folder_path = Path(json_folder_path)\n",
        "        self._audio_files = None\n",
        "        self._json_files = None\n",
        "        self._ref_texts = {}\n",
        "\n",
        "    @property\n",
        "    def audio_files(self):\n",
        "        if self._audio_files is None:\n",
        "            self._audio_files = [f for f in self.audio_folder_path.iterdir() if f.is_file()]\n",
        "        return self._audio_files\n",
        "\n",
        "    @property\n",
        "    def json_files(self):\n",
        "        if self._json_files is None:\n",
        "            self._json_files = [f for f in self.json_folder_path.iterdir() if f.suffix == '.json']\n",
        "        return self._json_files\n",
        "\n",
        "    def get_ref_text(self, json_path: Path) -> str:\n",
        "        if str(json_path) not in self._ref_texts:\n",
        "            with open(json_path, 'r', encoding='utf-8') as f:\n",
        "                data = json.load(f)\n",
        "                self._ref_texts[str(json_path)] = data.get('text', '')\n",
        "        return self._ref_texts[str(json_path)]\n",
        "\n",
        "    def sample_reference(self):\n",
        "        audio_file = random.choice(self.audio_files)\n",
        "        json_file = random.choice(self.json_files)\n",
        "        ref_id = json_file.stem\n",
        "        ref_speech_path = str(audio_file)\n",
        "        ref_text = self.get_ref_text(json_file)\n",
        "        return ref_id, ref_speech_path, ref_text\n",
        "\n",
        "\n",
        "def process_single_command(row: pd.Series, ref_cache: ReferenceCache, export_path: str, model: Any):\n",
        "    try:\n",
        "        ref_id, ref_speech_path, ref_text = ref_cache.sample_reference()\n",
        "        wav, sr, _ = audio_generate(row['text'], model, ref_speech_path, ref_text)\n",
        "\n",
        "        cur_id = uuid.uuid4().hex[:8]\n",
        "        cmd_path = Path(export_path) / f\"{row['type']}_{cur_id}\"\n",
        "        cmd_path.mkdir(parents=True, exist_ok=True)\n",
        "\n",
        "        # Save full audio\n",
        "        sf.write(cmd_path / f\"{row['type']}_{cur_id}_full.wav\", wav, sr)\n",
        "\n",
        "        type_segments = {}\n",
        "        text_segments = {}\n",
        "\n",
        "        if pd.notna(row['segments']) and row['segments'] not in [None, \"\", \"nan\"]:\n",
        "            seg_list = ast.literal_eval(row['segments'])\n",
        "            for count, seg in enumerate(seg_list):\n",
        "                key = list(seg.keys())[0]\n",
        "                seg_wav, seg_sr, _ = audio_generate(seg[key], model, ref_speech_path, ref_text)\n",
        "                sf.write(cmd_path / f\"{row['type']}_{cur_id}_seg_{count}.wav\", seg_wav, seg_sr)\n",
        "                list_key = list(seg.keys())\n",
        "                type_segments[list_key[0]] = seg[list_key[1]] if len(list_key) > 1 else \"\"\n",
        "                text_segments[list_key[0]] = seg[list_key[0]]\n",
        "\n",
        "        json_template = {\n",
        "            \"id\": cur_id,\n",
        "            \"type\": row['type'],\n",
        "            \"command\": row['text'],\n",
        "            \"sampling_rate\": sr,\n",
        "            \"num_segments\": len(type_segments),\n",
        "            \"type_segments\": type_segments,\n",
        "            \"text_segments\": text_segments,\n",
        "            \"ref_id\": ref_id,\n",
        "            \"ref_file\": ref_speech_path,\n",
        "            \"ref_text\": ref_text\n",
        "        }\n",
        "        with open(cmd_path / f\"{row['type']}_{cur_id}.json\", 'w', encoding='utf-8') as f:\n",
        "            json.dump(json_template, f, ensure_ascii=False, indent=2)\n",
        "\n",
        "        return json_template\n",
        "    except Exception as e:\n",
        "        print(f\"Failed to process: {row['text']}, error: {e}\")\n",
        "        return None\n",
        "\n",
        "\n",
        "def worker_task(rows: List[pd.Series], ref_folder: str, json_folder: str, export_path: str):\n",
        "    # Mỗi worker load model riêng\n",
        "    model = load_model()\n",
        "    ref_cache = ReferenceCache(ref_folder, json_folder)\n",
        "    results = []\n",
        "    for row in rows:\n",
        "        res = process_single_command(row, ref_cache, export_path, model)\n",
        "        if res:\n",
        "            results.append(res)\n",
        "    return results\n",
        "\n",
        "\n",
        "def command_synthesis_pipeline_multi_model(\n",
        "    text_command: pd.DataFrame,\n",
        "    ref_folder_path: str,\n",
        "    json_folder_path: str,\n",
        "    export_path: str = 'synthesis_command',\n",
        "    num_workers: int = None\n",
        "):\n",
        "    start_time = time.time()\n",
        "    os.makedirs(export_path, exist_ok=True)\n",
        "\n",
        "    if num_workers is None:\n",
        "        num_workers = min(mp.cpu_count(), 4)  # Giới hạn số model load\n",
        "\n",
        "    # Chia dữ liệu thành N phần, mỗi worker xử lý riêng\n",
        "    chunks = np.array_split(text_command, num_workers)\n",
        "\n",
        "    all_results = []\n",
        "    with ThreadPoolExecutor(max_workers=num_workers) as executor:\n",
        "        futures = [\n",
        "            executor.submit(worker_task, chunk.to_dict('records'), ref_folder_path, json_folder_path, export_path)\n",
        "            for chunk in chunks\n",
        "        ]\n",
        "        for i, future in enumerate(futures):\n",
        "            res_list = future.result()\n",
        "            all_results.extend(res_list)\n",
        "            print(f\"Worker {i+1} done ({len(res_list)} items)\")\n",
        "\n",
        "    print(f\"Pipeline finished in {time.time() - start_time:.2f}s\")\n",
        "    return pd.DataFrame(all_results)\n"
      ],
      "metadata": {
        "trusted": true,
        "execution": {
          "iopub.status.busy": "2025-08-14T10:43:42.186091Z",
          "iopub.execute_input": "2025-08-14T10:43:42.186389Z",
          "iopub.status.idle": "2025-08-14T10:43:42.216166Z",
          "shell.execute_reply.started": "2025-08-14T10:43:42.186358Z",
          "shell.execute_reply": "2025-08-14T10:43:42.215477Z"
        },
        "id": "ygc-CBXnLpE_"
      },
      "outputs": [],
      "execution_count": null
    },
    {
      "cell_type": "code",
      "source": [
        "df_commands_synthesis = command_synthesis_pipeline_multi_model(\n",
        "    text_command=text_command_df,\n",
        "    ref_folder_path=\"audio/dung\",\n",
        "    json_folder_path=\"json/dung\",\n",
        "    export_path=\"synthesis_command\",\n",
        "    num_workers=4,        # Số luồng xử lý\n",
        ")"
      ],
      "metadata": {
        "trusted": true,
        "execution": {
          "iopub.status.busy": "2025-08-14T10:43:42.934864Z",
          "iopub.execute_input": "2025-08-14T10:43:42.935444Z",
          "iopub.status.idle": "2025-08-14T10:43:56.205733Z",
          "shell.execute_reply.started": "2025-08-14T10:43:42.93542Z",
          "shell.execute_reply": "2025-08-14T10:43:56.205114Z"
        },
        "id": "oQN5eLbrLpFA",
        "outputId": "9fcb4bc8-32cc-4db7-aee6-a4e0d64c0dfe",
        "colab": {
          "base_uri": "https://localhost:8080/"
        }
      },
      "outputs": [
        {
          "output_type": "stream",
          "name": "stderr",
          "text": [
            "/usr/local/lib/python3.11/dist-packages/numpy/core/fromnumeric.py:59: FutureWarning: 'DataFrame.swapaxes' is deprecated and will be removed in a future version. Please use 'DataFrame.transpose' instead.\n",
            "  return bound(*args, **kwds)\n"
          ]
        },
        {
          "output_type": "stream",
          "name": "stdout",
          "text": [
            "Download Vocos from huggingface charactr/vocos-mel-24khz\n",
            "Download Vocos from huggingface charactr/vocos-mel-24khz\n",
            "Download Vocos from huggingface charactr/vocos-mel-24khz\n",
            "Download Vocos from huggingface charactr/vocos-mel-24khz\n"
          ]
        },
        {
          "output_type": "stream",
          "name": "stderr",
          "text": [
            "/usr/local/lib/python3.11/dist-packages/huggingface_hub/utils/_auth.py:94: UserWarning: \n",
            "The secret `HF_TOKEN` does not exist in your Colab secrets.\n",
            "To authenticate with the Hugging Face Hub, create a token in your settings tab (https://huggingface.co/settings/tokens), set it as secret in your Google Colab and restart your session.\n",
            "You will be able to reuse this secret in all of your notebooks.\n",
            "Please note that authentication is recommended but still optional to access public models or datasets.\n",
            "  warnings.warn(\n"
          ]
        },
        {
          "output_type": "stream",
          "name": "stdout",
          "text": [
            "\n",
            "vocab :  /usr/local/lib/python3.11/dist-packages/f5_tts/infer/examples/vocab.txt\n",
            "token :  custom\n",
            "model :  /root/.cache/huggingface/hub/models--SWivid--F5-TTS/snapshots/84e5a410d9cead4de2f847e7c9369a6440bdfaca/F5TTS_v1_Base/model_1250000.safetensors \n",
            "\n",
            "\n",
            "vocab :  /usr/local/lib/python3.11/dist-packages/f5_tts/infer/examples/vocab.txt\n",
            "token :  custom\n",
            "model :  /root/.cache/huggingface/hub/models--SWivid--F5-TTS/snapshots/84e5a410d9cead4de2f847e7c9369a6440bdfaca/F5TTS_v1_Base/model_1250000.safetensors \n",
            "\n",
            "\n",
            "vocab :  /usr/local/lib/python3.11/dist-packages/f5_tts/infer/examples/vocab.txt\n",
            "token :  custom\n",
            "model :  /root/.cache/huggingface/hub/models--SWivid--F5-TTS/snapshots/84e5a410d9cead4de2f847e7c9369a6440bdfaca/F5TTS_v1_Base/model_1250000.safetensors \n",
            "\n",
            "\n",
            "vocab :  /usr/local/lib/python3.11/dist-packages/f5_tts/infer/examples/vocab.txt\n",
            "token :  custom\n",
            "model :  /root/.cache/huggingface/hub/models--SWivid--F5-TTS/snapshots/84e5a410d9cead4de2f847e7c9369a6440bdfaca/F5TTS_v1_Base/model_1250000.safetensors \n",
            "\n",
            "Converting audio...\n",
            "Audio is over 12s, clipping short. (2)\n",
            "Using custom reference text...\n",
            "\n",
            "ref_text    The D.A. is using George Sasbo as a surprise witness to place you at the scene of the crime. Do you know anything about him? I don't think I ever saw him before. \n",
            "gen_text 0 Set the volume to minimum while I was wondering if we should go for dinner tonight.\n",
            "\n",
            "\n",
            "Generating audio in 1 batches...\n"
          ]
        },
        {
          "output_type": "stream",
          "name": "stderr",
          "text": [
            "\r  0%|          | 0/1 [00:00<?, ?it/s]"
          ]
        },
        {
          "output_type": "stream",
          "name": "stdout",
          "text": [
            "Converting audio...\n",
            "Using custom reference text...\n",
            "\n",
            "ref_text    How's that? He's right. Mikado's already beaten you twice. So, third time's a charm. \n",
            "gen_text 0 Skip to next episode, increase the volume to 70, and did you hear about the new restaurant opening downtown?\n",
            "\n",
            "\n",
            "Generating audio in 1 batches...\n"
          ]
        },
        {
          "output_type": "stream",
          "name": "stderr",
          "text": [
            "\n",
            "  0%|          | 0/1 [00:00<?, ?it/s]\u001b[A"
          ]
        },
        {
          "output_type": "stream",
          "name": "stdout",
          "text": [
            "Converting audio...\n",
            "Using custom reference text...\n",
            "\n",
            "ref_text    It's funny, isn't it, how the people who do something that changes the world... \n",
            "gen_text 0 set contrast to 50 while I can't believe she chose pineapple on her pizza.\n",
            "\n",
            "\n",
            "Generating audio in 1 batches...\n"
          ]
        },
        {
          "output_type": "stream",
          "name": "stderr",
          "text": [
            "\n",
            "\n",
            "  0%|          | 0/1 [00:00<?, ?it/s]\u001b[A\u001b[A"
          ]
        },
        {
          "output_type": "stream",
          "name": "stdout",
          "text": [
            "Converting audio...\n",
            "Using custom reference text...\n",
            "\n",
            "ref_text    Hey guys, what's up? LDShadowLady here, and welcome to a mod review on a mod called Revenge of the Blocks. As you can see behind me, some of your favourite Minecraft authors have come alive, and they want revenge. For all that mining you did. \n",
            "gen_text 0 Have you ever watched anything interesting on the Disney Channel?\n",
            "\n",
            "\n",
            "Generating audio in 1 batches...\n"
          ]
        },
        {
          "output_type": "stream",
          "name": "stderr",
          "text": [
            "\n",
            "\n",
            "\n",
            "  0%|          | 0/1 [00:00<?, ?it/s]\u001b[A\u001b[A\u001b[A\n",
            "100%|██████████| 1/1 [00:12<00:00, 12.39s/it]\n"
          ]
        },
        {
          "output_type": "stream",
          "name": "stdout",
          "text": [
            "Converting audio...\n",
            "Using cached preprocessed reference audio...\n",
            "Using custom reference text...\n",
            "\n",
            "ref_text    How's that? He's right. Mikado's already beaten you twice. So, third time's a charm. \n",
            "gen_text 0 Skip to next episode, increase the volume to 70\n",
            "\n",
            "\n",
            "Generating audio in 1 batches...\n"
          ]
        },
        {
          "output_type": "stream",
          "name": "stderr",
          "text": [
            "\n",
            "  0%|          | 0/1 [00:00<?, ?it/s]\u001b[A\n",
            "\n",
            "100%|██████████| 1/1 [00:12<00:00, 12.56s/it]\n",
            "100%|██████████| 1/1 [00:13<00:00, 13.75s/it]\n",
            "\n",
            "\n",
            "\n",
            "100%|██████████| 1/1 [00:12<00:00, 12.37s/it]\n"
          ]
        },
        {
          "output_type": "stream",
          "name": "stdout",
          "text": [
            "Converting audio...\n",
            "Converting audio...\n",
            "Using cached preprocessed reference audio...\n",
            "Using custom reference text...\n",
            "\n",
            "ref_text    It's funny, isn't it, how the people who do something that changes the world... \n",
            "gen_text 0 set contrast to 50\n",
            "\n",
            "\n",
            "Generating audio in 1 batches...\n",
            "Using cached preprocessed reference audio...\n",
            "Using custom reference text...\n",
            "\n",
            "ref_text    The D.A. is using George Sasbo as a surprise witness to place you at the scene of the crime. Do you know anything about him? I don't think I ever saw him before. \n",
            "gen_text 0 Set the volume to minimum\n",
            "\n",
            "\n",
            "Generating audio in 1 batches...\n",
            "Converting audio...\n"
          ]
        },
        {
          "output_type": "stream",
          "name": "stderr",
          "text": [
            "\r  0%|          | 0/1 [00:00<?, ?it/s]\n",
            "\n",
            "  0%|          | 0/1 [00:00<?, ?it/s]\u001b[A\u001b[A"
          ]
        },
        {
          "output_type": "stream",
          "name": "stdout",
          "text": [
            "Using custom reference text...\n",
            "\n",
            "ref_text    Adam, I was thinking about it last night, uhm, about, and no offense, but, oh actually this doesn't even involve you or your character, but for Kylo Ren to be such a bad guy, it means really that Han Solo and Princess Leia had to have been terrible parents, I mean like,. \n",
            "gen_text 0 I just finished cooking dinner, next channel, have you called your mom?\n",
            "\n",
            "\n",
            "Generating audio in 1 batches...\n"
          ]
        },
        {
          "output_type": "stream",
          "name": "stderr",
          "text": [
            "\n",
            "\n",
            "\n",
            "  0%|          | 0/1 [00:00<?, ?it/s]\u001b[A\u001b[A\u001b[A\n",
            "100%|██████████| 1/1 [00:10<00:00, 10.84s/it]\n",
            "100%|██████████| 1/1 [00:10<00:00, 10.53s/it]\n",
            "\n",
            "100%|██████████| 1/1 [00:10<00:00, 10.50s/it]\u001b[A\u001b[A\n",
            "\n",
            "\n",
            "100%|██████████| 1/1 [00:10<00:00, 10.54s/it]\n",
            "100%|██████████| 1/1 [00:10<00:00, 10.50s/it]\n",
            "100%|██████████| 1/1 [00:10<00:00, 10.45s/it]\n"
          ]
        },
        {
          "output_type": "stream",
          "name": "stdout",
          "text": [
            "Converting audio...\n",
            "Using cached preprocessed reference audio...\n",
            "Using custom reference text...\n",
            "\n",
            "ref_text    How's that? He's right. Mikado's already beaten you twice. So, third time's a charm. \n",
            "gen_text 0 and did you hear about the new restaurant opening downtown?\n",
            "\n",
            "\n",
            "Generating audio in 1 batches...\n"
          ]
        },
        {
          "output_type": "stream",
          "name": "stderr",
          "text": [
            "\r  0%|          | 0/1 [00:00<?, ?it/s]"
          ]
        },
        {
          "output_type": "stream",
          "name": "stdout",
          "text": [
            "Converting audio...\n",
            "Using cached preprocessed reference audio...\n",
            "Using custom reference text...\n",
            "\n",
            "ref_text    The D.A. is using George Sasbo as a surprise witness to place you at the scene of the crime. Do you know anything about him? I don't think I ever saw him before. \n",
            "gen_text 0 while I was wondering if we should go for dinner tonight\n",
            "\n",
            "\n",
            "Generating audio in 1 batches...\n",
            "Converting audio...\n",
            "Converting audio...\n",
            "Using cached preprocessed reference audio...\n",
            "Using custom reference text...\n",
            "\n",
            "ref_text    It's funny, isn't it, how the people who do something that changes the world... \n",
            "Using cached preprocessed reference audio...\n",
            "Using custom reference text...\n",
            "\n",
            "ref_text    Adam, I was thinking about it last night, uhm, about, and no offense, but, oh actually this doesn't even involve you or your character, but for Kylo Ren to be such a bad guy, it means really that Han Solo and Princess Leia had to have been terrible parents, I mean like,. \n",
            "gen_text 0 I just finished cooking dinner,\n",
            "\n",
            "\n",
            "Generating audio in 1 batches...\n",
            "gen_text 0 while\n",
            "\n",
            "\n",
            "Generating audio in 1 batches...\n"
          ]
        },
        {
          "output_type": "stream",
          "name": "stderr",
          "text": [
            "\n",
            "  0%|          | 0/1 [00:00<?, ?it/s]\u001b[A\n",
            "\n",
            "  0%|          | 0/1 [00:00<?, ?it/s]\u001b[A\u001b[A\n",
            "\n",
            "\n",
            "  0%|          | 0/1 [00:00<?, ?it/s]\u001b[A\u001b[A\u001b[A\n",
            "100%|██████████| 1/1 [00:11<00:00, 11.27s/it]\n",
            "\n",
            "\n",
            "100%|██████████| 1/1 [00:11<00:00, 11.26s/it]\n",
            "\n",
            "\n",
            "\n",
            "100%|██████████| 1/1 [00:11<00:00, 11.32s/it]\n",
            "100%|██████████| 1/1 [00:11<00:00, 11.26s/it]\n"
          ]
        },
        {
          "output_type": "stream",
          "name": "stdout",
          "text": [
            "Converting audio...\n",
            "Converting audio...\n",
            "Using cached preprocessed reference audio...\n",
            "Using custom reference text...\n",
            "\n",
            "ref_text    It's funny, isn't it, how the people who do something that changes the world... \n",
            "gen_text 0 I\n",
            "\n",
            "\n",
            "Generating audio in 1 batches...\n",
            "Converting audio...\n",
            "Using cached preprocessed reference audio...\n",
            "Using custom reference text...\n",
            "\n",
            "ref_text    Adam, I was thinking about it last night, uhm, about, and no offense, but, oh actually this doesn't even involve you or your character, but for Kylo Ren to be such a bad guy, it means really that Han Solo and Princess Leia had to have been terrible parents, I mean like,. \n",
            "gen_text 0 next channel,\n",
            "\n",
            "\n",
            "Generating audio in 1 batches...\n",
            "Converting audio...\n"
          ]
        },
        {
          "output_type": "stream",
          "name": "stderr",
          "text": [
            "  0%|          | 0/1 [00:00<?, ?it/s]\n",
            "  0%|          | 0/1 [00:00<?, ?it/s]\u001b[A"
          ]
        },
        {
          "output_type": "stream",
          "name": "stdout",
          "text": [
            "Using custom reference text...\n",
            "\n",
            "ref_text    I just like the whole concept of YouTube, like if you work at McDonald's, you work eight hours and you get paid a certain amount of money, but if we put eight hours into our YouTube, depending on what we do, you can make, you can like, sky's the limit on what you can do with it. \n",
            "gen_text 0 Did you catch the latest episode on Disney Channel?\n",
            "\n",
            "\n",
            "Generating audio in 1 batches...\n",
            "Audio is over 12s, clipping short. (2)\n",
            "Using custom reference text...\n",
            "\n",
            "ref_text    Same here my brother. Thank you, man. Appreciate you, bro. Thank you. \n",
            "gen_text 0 show the TV guide, change input to app: Tubi TV\n",
            "\n",
            "\n",
            "Generating audio in 1 batches...\n"
          ]
        },
        {
          "output_type": "stream",
          "name": "stderr",
          "text": [
            "\n",
            "\n",
            "  0%|          | 0/1 [00:00<?, ?it/s]\u001b[A\u001b[A\n",
            "\n",
            "\n",
            "  0%|          | 0/1 [00:00<?, ?it/s]\u001b[A\u001b[A\u001b[A\n",
            "100%|██████████| 1/1 [00:11<00:00, 11.70s/it]\n",
            "100%|██████████| 1/1 [00:11<00:00, 11.79s/it]\n",
            "\n",
            "100%|██████████| 1/1 [00:11<00:00, 11.61s/it]\n",
            "100%|██████████| 1/1 [00:11<00:00, 11.79s/it]\n"
          ]
        },
        {
          "output_type": "stream",
          "name": "stdout",
          "text": [
            "Converting audio...\n",
            "Using cached preprocessed reference audio...\n",
            "Using custom reference text...\n",
            "\n",
            "ref_text    Adam, I was thinking about it last night, uhm, about, and no offense, but, oh actually this doesn't even involve you or your character, but for Kylo Ren to be such a bad guy, it means really that Han Solo and Princess Leia had to have been terrible parents, I mean like,. \n",
            "gen_text 0 have you called your mom?\n",
            "\n",
            "\n",
            "Generating audio in 1 batches...\n",
            "Converting audio...\n",
            "Converting audio...\n",
            "Using cached preprocessed reference audio...\n",
            "Using custom reference text...\n",
            "\n",
            "ref_text    It's funny, isn't it, how the people who do something that changes the world... \n",
            "gen_text 0 can't\n",
            "\n",
            "\n",
            "Generating audio in 1 batches...\n",
            "Using cached preprocessed reference audio...\n",
            "Using custom reference text...\n",
            "\n",
            "ref_text    Dated bind research, nope. Sorted, nope. \n",
            "gen_text 0 change the channel to ABCNBC\n",
            "\n",
            "\n",
            "Generating audio in 1 batches...\n"
          ]
        },
        {
          "output_type": "stream",
          "name": "stderr",
          "text": [
            "  0%|          | 0/1 [00:00<?, ?it/s]\n",
            "  0%|          | 0/1 [00:00<?, ?it/s]\u001b[A\n",
            "\n",
            "  0%|          | 0/1 [00:00<?, ?it/s]\u001b[A\u001b[A\n",
            "\n",
            "\n",
            "100%|██████████| 1/1 [00:11<00:00, 11.68s/it]\n"
          ]
        },
        {
          "output_type": "stream",
          "name": "stdout",
          "text": [
            "Converting audio...\n",
            "Using cached preprocessed reference audio...\n",
            "Using custom reference text...\n",
            "\n",
            "ref_text    On the back you can see some other new cars like Jenny Tolan, Bill Rebs, Vanden Kerr, and Andrew Vrooman, all of which I have reviewed before and I'll put links to some of them in the card suggestion pop-up and the links in the description. \n",
            "gen_text 0 Change the channel to TBS and open Netflix, did you see the latest episode of that show?\n",
            "\n",
            "\n",
            "Generating audio in 1 batches...\n"
          ]
        },
        {
          "output_type": "stream",
          "name": "stderr",
          "text": [
            "\n",
            "\n",
            "\n",
            "  0%|          | 0/1 [00:00<?, ?it/s]\u001b[A\u001b[A\u001b[A\n",
            "\n",
            "100%|██████████| 1/1 [00:11<00:00, 11.85s/it]\n",
            "\n",
            "100%|██████████| 1/1 [00:11<00:00, 11.86s/it]\u001b[A\n",
            "\n",
            "\n",
            "100%|██████████| 1/1 [00:11<00:00, 11.86s/it]\n",
            "100%|██████████| 1/1 [00:11<00:00, 11.82s/it]\n",
            "100%|██████████| 1/1 [00:11<00:00, 11.87s/it]\n"
          ]
        },
        {
          "output_type": "stream",
          "name": "stdout",
          "text": [
            "Converting audio...\n",
            "Using cached preprocessed reference audio...\n",
            "Using custom reference text...\n",
            "\n",
            "ref_text    It's funny, isn't it, how the people who do something that changes the world... \n",
            "gen_text 0 believe\n",
            "\n",
            "\n",
            "Generating audio in 1 batches...\n",
            "Converting audio...\n",
            "Using cached preprocessed reference audio...\n",
            "Using custom reference text...\n",
            "\n",
            "ref_text    On the back you can see some other new cars like Jenny Tolan, Bill Rebs, Vanden Kerr, and Andrew Vrooman, all of which I have reviewed before and I'll put links to some of them in the card suggestion pop-up and the links in the description. \n",
            "gen_text 0 Change the channel to TBS\n",
            "\n",
            "\n",
            "Generating audio in 1 batches...\n"
          ]
        },
        {
          "output_type": "stream",
          "name": "stderr",
          "text": [
            "\r  0%|          | 0/1 [00:00<?, ?it/s]"
          ]
        },
        {
          "output_type": "stream",
          "name": "stdout",
          "text": [
            "Converting audio...\n",
            "Converting audio...\n"
          ]
        },
        {
          "output_type": "stream",
          "name": "stderr",
          "text": [
            "\n",
            "  0%|          | 0/1 [00:00<?, ?it/s]\u001b[A"
          ]
        },
        {
          "output_type": "stream",
          "name": "stdout",
          "text": [
            "Using custom reference text...\n",
            "\n",
            "ref_text    Hey, it's alright, we put him up on game, it ain't no problem. When I was born in LA, uhm... \n",
            "gen_text 0 turn off subtitles, increase the volume to 10\n",
            "\n",
            "\n",
            "Generating audio in 1 batches...\n",
            "Using custom reference text...\n",
            "\n",
            "ref_text    I don't think anyone in his life ever, ever would have thought that he could do this horrific thing. He, despite everything he did to me in our marriage, as far as the way that he ended it,. \n",
            "gen_text 0 I can't believe we missed the party last night, set volume to 15.\n",
            "\n",
            "\n",
            "Generating audio in 1 batches...\n"
          ]
        },
        {
          "output_type": "stream",
          "name": "stderr",
          "text": [
            "\n",
            "\n",
            "  0%|          | 0/1 [00:00<?, ?it/s]\u001b[A\u001b[A\n",
            "\n",
            "\n",
            "  0%|          | 0/1 [00:00<?, ?it/s]\u001b[A\u001b[A\u001b[A\n",
            "\n",
            "\n",
            "100%|██████████| 1/1 [00:12<00:00, 12.28s/it]\n",
            "100%|██████████| 1/1 [00:12<00:00, 12.48s/it]\n",
            "100%|██████████| 1/1 [00:12<00:00, 12.48s/it]\n",
            "100%|██████████| 1/1 [00:12<00:00, 12.47s/it]\n",
            "\n",
            "\n",
            "100%|██████████| 1/1 [00:12<00:00, 12.30s/it]\n"
          ]
        },
        {
          "output_type": "stream",
          "name": "stdout",
          "text": [
            "Converting audio...\n",
            "Using cached preprocessed reference audio...\n",
            "Using custom reference text...\n",
            "\n",
            "ref_text    He's a tracker, Alice. Did you see that? He's a tracker. I felt Emmet stiffen next to me and I wondered at his reaction to the word. It meant something more to the three of them than it did to me. \n",
            "gen_text 0 Set brightness to 75 and increase the volume to 10, did you hear about the new restaurant opening downtown?\n",
            "\n",
            "\n",
            "Generating audio in 1 batches...\n",
            "Converting audio...\n",
            "Converting audio...\n",
            "Using cached preprocessed reference audio...\n",
            "Using custom reference text...\n",
            "\n",
            "ref_text    On the back you can see some other new cars like Jenny Tolan, Bill Rebs, Vanden Kerr, and Andrew Vrooman, all of which I have reviewed before and I'll put links to some of them in the card suggestion pop-up and the links in the description. \n",
            "Using cached preprocessed reference audio...\n",
            "Using custom reference text...\n",
            "\n",
            "ref_text    It's funny, isn't it, how the people who do something that changes the world... \n",
            "gen_text 0 and open Netflix\n",
            "\n",
            "\n",
            "Generating audio in 1 batches...\n",
            "gen_text 0 she\n",
            "\n",
            "\n",
            "Generating audio in 1 batches...\n",
            "Converting audio...\n"
          ]
        },
        {
          "output_type": "stream",
          "name": "stderr",
          "text": [
            "\r  0%|          | 0/1 [00:00<?, ?it/s]"
          ]
        },
        {
          "output_type": "stream",
          "name": "stdout",
          "text": [
            "Using cached preprocessed reference audio...\n",
            "Using custom reference text...\n",
            "\n",
            "ref_text    I don't think anyone in his life ever, ever would have thought that he could do this horrific thing. He, despite everything he did to me in our marriage, as far as the way that he ended it,. \n",
            "gen_text 0 I can't believe we missed the party last night,\n",
            "\n",
            "\n",
            "Generating audio in 1 batches...\n"
          ]
        },
        {
          "output_type": "stream",
          "name": "stderr",
          "text": [
            "\n",
            "  0%|          | 0/1 [00:00<?, ?it/s]\u001b[A\n",
            "\n",
            "\n",
            "  0%|          | 0/1 [00:00<?, ?it/s]\u001b[A\u001b[A\u001b[A\n",
            "\n",
            "  0%|          | 0/1 [00:00<?, ?it/s]\u001b[A\u001b[A\n",
            "\n",
            "100%|██████████| 1/1 [00:10<00:00, 10.20s/it]\n",
            "\n",
            "\n",
            "\n",
            "100%|██████████| 1/1 [00:10<00:00, 10.22s/it]\n",
            "100%|██████████| 1/1 [00:10<00:00, 10.21s/it]\n",
            "100%|██████████| 1/1 [00:10<00:00, 10.22s/it]\n",
            "100%|██████████| 1/1 [00:10<00:00, 10.23s/it]\n"
          ]
        },
        {
          "output_type": "stream",
          "name": "stdout",
          "text": [
            "Converting audio...\n",
            "Using cached preprocessed reference audio...\n",
            "Using custom reference text...\n",
            "\n",
            "ref_text    On the back you can see some other new cars like Jenny Tolan, Bill Rebs, Vanden Kerr, and Andrew Vrooman, all of which I have reviewed before and I'll put links to some of them in the card suggestion pop-up and the links in the description. \n",
            "gen_text 0 , did you see the latest episode of that show?\n",
            "\n",
            "\n",
            "Generating audio in 1 batches...\n"
          ]
        },
        {
          "output_type": "stream",
          "name": "stderr",
          "text": [
            "\r  0%|          | 0/1 [00:00<?, ?it/s]"
          ]
        },
        {
          "output_type": "stream",
          "name": "stdout",
          "text": [
            "Converting audio...\n",
            "Converting audio...\n",
            "Converting audio...\n",
            "Using cached preprocessed reference audio...\n",
            "Using custom reference text...\n",
            "\n",
            "ref_text    It's funny, isn't it, how the people who do something that changes the world... \n",
            "gen_text 0 chose\n",
            "\n",
            "\n",
            "Generating audio in 1 batches...\n",
            "Using cached preprocessed reference audio...\n",
            "Using custom reference text...\n",
            "\n",
            "ref_text    I don't think anyone in his life ever, ever would have thought that he could do this horrific thing. He, despite everything he did to me in our marriage, as far as the way that he ended it,. \n",
            "gen_text 0 set volume to 15.\n",
            "\n",
            "\n",
            "Generating audio in 1 batches...\n",
            "Using cached preprocessed reference audio...\n",
            "Using custom reference text...\n",
            "\n",
            "ref_text    He's a tracker, Alice. Did you see that? He's a tracker. I felt Emmet stiffen next to me and I wondered at his reaction to the word. It meant something more to the three of them than it did to me. \n",
            "gen_text 0 Set brightness to 75 and increase the volume to 10,\n",
            "\n",
            "\n",
            "Generating audio in 1 batches...\n"
          ]
        },
        {
          "output_type": "stream",
          "name": "stderr",
          "text": [
            "\n",
            "  0%|          | 0/1 [00:00<?, ?it/s]\u001b[A\n",
            "\n",
            "  0%|          | 0/1 [00:00<?, ?it/s]\u001b[A\u001b[A\n",
            "\n",
            "\n",
            "  0%|          | 0/1 [00:00<?, ?it/s]\u001b[A\u001b[A\u001b[A\n",
            "100%|██████████| 1/1 [00:09<00:00,  9.07s/it]\n",
            "\n",
            "\n",
            "100%|██████████| 1/1 [00:09<00:00,  9.12s/it]\n",
            "\n",
            "\n",
            "100%|██████████| 1/1 [00:09<00:00,  9.08s/it]\n",
            "100%|██████████| 1/1 [00:09<00:00,  9.12s/it]\n",
            "100%|██████████| 1/1 [00:09<00:00,  9.07s/it]\n"
          ]
        },
        {
          "output_type": "stream",
          "name": "stdout",
          "text": [
            "Converting audio...\n",
            "Using cached preprocessed reference audio...\n",
            "Using custom reference text...\n",
            "\n",
            "ref_text    It's funny, isn't it, how the people who do something that changes the world... \n",
            "gen_text 0 pineapple\n",
            "\n",
            "\n",
            "Generating audio in 1 batches...\n",
            "Converting audio...\n",
            "Using cached preprocessed reference audio...\n",
            "Using custom reference text...\n",
            "\n",
            "ref_text    He's a tracker, Alice. Did you see that? He's a tracker. I felt Emmet stiffen next to me and I wondered at his reaction to the word. It meant something more to the three of them than it did to me. \n",
            "gen_text 0 did you hear about the new restaurant opening downtown?\n",
            "\n",
            "\n",
            "Generating audio in 1 batches...\n"
          ]
        },
        {
          "output_type": "stream",
          "name": "stderr",
          "text": [
            "\r  0%|          | 0/1 [00:00<?, ?it/s]"
          ]
        },
        {
          "output_type": "stream",
          "name": "stdout",
          "text": [
            "Converting audio...\n"
          ]
        },
        {
          "output_type": "stream",
          "name": "stderr",
          "text": [
            "\n",
            "  0%|          | 0/1 [00:00<?, ?it/s]\u001b[A"
          ]
        },
        {
          "output_type": "stream",
          "name": "stdout",
          "text": [
            "Converting audio...\n",
            "Using cached preprocessed reference audio...\n",
            "Using custom reference text...\n",
            "\n",
            "ref_text    Hi guys, this is the first video in the... \n",
            "gen_text 0 record this show,\n",
            "gen_text 1 change the channel to ABC,\n",
            "gen_text 2 increase the volume to 20.\n",
            "\n",
            "\n",
            "Generating audio in 3 batches...\n"
          ]
        },
        {
          "output_type": "stream",
          "name": "stderr",
          "text": [
            "\n",
            "\n",
            "  0%|          | 0/3 [00:00<?, ?it/s]\u001b[A\u001b[A"
          ]
        },
        {
          "output_type": "stream",
          "name": "stdout",
          "text": [
            "Audio is over 12s, clipping short. (2)\n",
            "Using custom reference text...\n",
            "\n",
            "ref_text    Not knowing to communicate certain like constraints just because they were so obvious or like apparent to them and everyone in their domain. \n",
            "gen_text 0 Have you seen any good shows on HBO Max lately?\n",
            "\n",
            "\n",
            "Generating audio in 1 batches...\n"
          ]
        },
        {
          "output_type": "stream",
          "name": "stderr",
          "text": [
            "\n",
            "\n",
            "\n",
            "  0%|          | 0/1 [00:00<?, ?it/s]\u001b[A\u001b[A\u001b[A\n",
            "\n",
            " 33%|███▎      | 1/3 [00:13<00:26, 13.04s/it]\u001b[A\u001b[A\n",
            "\n",
            "\n",
            "100%|██████████| 1/1 [00:13<00:00, 13.03s/it]\u001b[A\u001b[A\u001b[A\n",
            "100%|██████████| 1/1 [00:13<00:00, 13.03s/it]\n",
            "100%|██████████| 1/1 [00:13<00:00, 13.19s/it]\n",
            "100%|██████████| 1/1 [00:13<00:00, 13.20s/it]\n"
          ]
        },
        {
          "output_type": "stream",
          "name": "stdout",
          "text": [
            "Converting audio...\n",
            "Converting audio...\n",
            "Using cached preprocessed reference audio...\n",
            "Using custom reference text...\n",
            "\n",
            "ref_text    It's funny, isn't it, how the people who do something that changes the world... \n",
            "gen_text 0 on\n",
            "\n",
            "\n",
            "Generating audio in 1 batches...\n",
            "Converting audio...\n"
          ]
        },
        {
          "output_type": "stream",
          "name": "stderr",
          "text": [
            "\r  0%|          | 0/1 [00:00<?, ?it/s]"
          ]
        },
        {
          "output_type": "stream",
          "name": "stdout",
          "text": [
            "Audio is over 12s, clipping short. (2)\n",
            "Using custom reference text...\n",
            "\n",
            "ref_text    He may not be the only honest man in town but he's the only one I know. \n",
            "gen_text 0 I heard that Disney Channel is airing some really good shows lately.\n",
            "\n",
            "\n",
            "Generating audio in 1 batches...\n",
            "Using custom reference text...\n",
            "\n",
            "ref_text    We got kicked out the old crib, so then we moved to some apartments down the street, and uh, I needed some weed, and I knew this nigga already from like a few, like weeks before that, when we came to get the weed with my nigga Matt. \n",
            "gen_text 0 Decrease the volume, can you believe she won the competition?\n",
            "\n",
            "\n",
            "Generating audio in 1 batches...\n"
          ]
        },
        {
          "output_type": "stream",
          "name": "stderr",
          "text": [
            "\n",
            "  0%|          | 0/1 [00:00<?, ?it/s]\u001b[A\n",
            "\n",
            "\n",
            "  0%|          | 0/1 [00:00<?, ?it/s]\u001b[A\u001b[A\u001b[A\n",
            "100%|██████████| 1/1 [00:15<00:00, 15.32s/it]\n",
            "100%|██████████| 1/1 [00:15<00:00, 15.38s/it]\n",
            "\n",
            " 67%|██████▋   | 2/3 [00:28<00:14, 14.52s/it]\u001b[A\u001b[A\n",
            "\n",
            "\n",
            "100%|██████████| 1/1 [00:15<00:00, 15.39s/it]\n",
            "100%|██████████| 1/1 [00:15<00:00, 15.33s/it]\n"
          ]
        },
        {
          "output_type": "stream",
          "name": "stdout",
          "text": [
            "Converting audio...\n",
            "Converting audio...\n",
            "Using cached preprocessed reference audio...\n",
            "Using custom reference text...\n",
            "\n",
            "ref_text    We got kicked out the old crib, so then we moved to some apartments down the street, and uh, I needed some weed, and I knew this nigga already from like a few, like weeks before that, when we came to get the weed with my nigga Matt. \n",
            "gen_text 0 Decrease the volume,\n",
            "\n",
            "\n",
            "Generating audio in 1 batches...\n",
            "Converting audio...\n",
            "Using custom reference text...\n",
            "\n",
            "ref_text    I'd had no doubt that he'd be staying with me while I spent a few interim hours in the real world. And then I saw the black car, a weathered Ford parked in Charlie's driveway. \n",
            "gen_text 0 I can't believe how quickly the year has flown by, turn on subtitles for the show so I can catch all the dialogue.\n",
            "\n",
            "\n",
            "Generating audio in 1 batches...\n",
            "Using cached preprocessed reference audio...\n",
            "Using custom reference text...\n",
            "\n",
            "ref_text    It's funny, isn't it, how the people who do something that changes the world... \n"
          ]
        },
        {
          "output_type": "stream",
          "name": "stderr",
          "text": [
            "\r  0%|          | 0/1 [00:00<?, ?it/s]"
          ]
        },
        {
          "output_type": "stream",
          "name": "stdout",
          "text": [
            "gen_text 0 her\n",
            "\n",
            "\n",
            "Generating audio in 1 batches...\n"
          ]
        },
        {
          "output_type": "stream",
          "name": "stderr",
          "text": [
            "\n",
            "  0%|          | 0/1 [00:00<?, ?it/s]\u001b[A\n",
            "\n",
            "\n",
            "  0%|          | 0/1 [00:00<?, ?it/s]\u001b[A\u001b[A\u001b[A\n",
            "\n",
            "100%|██████████| 3/3 [00:41<00:00, 13.91s/it]\u001b[A\u001b[A\n",
            "100%|██████████| 3/3 [00:41<00:00, 13.93s/it]\n",
            "100%|██████████| 1/1 [00:13<00:00, 13.08s/it]\n",
            "\n",
            "\n",
            "\n",
            "100%|██████████| 1/1 [00:13<00:00, 13.08s/it]\n",
            "100%|██████████| 1/1 [00:13<00:00, 13.09s/it]\n"
          ]
        },
        {
          "output_type": "stream",
          "name": "stdout",
          "text": [
            "Converting audio...\n",
            "Using cached preprocessed reference audio...\n",
            "Using custom reference text...\n",
            "\n",
            "ref_text    It's funny, isn't it, how the people who do something that changes the world... \n",
            "gen_text 0 pizza.\n",
            "\n",
            "\n",
            "Generating audio in 1 batches...\n",
            "Converting audio...\n",
            "Using cached preprocessed reference audio...\n",
            "Using custom reference text...\n",
            "\n",
            "ref_text    We got kicked out the old crib, so then we moved to some apartments down the street, and uh, I needed some weed, and I knew this nigga already from like a few, like weeks before that, when we came to get the weed with my nigga Matt. \n",
            "gen_text 0 can you believe she won the competition?\n",
            "\n",
            "\n",
            "Generating audio in 1 batches...\n"
          ]
        },
        {
          "output_type": "stream",
          "name": "stderr",
          "text": [
            "\r  0%|          | 0/1 [00:00<?, ?it/s]"
          ]
        },
        {
          "output_type": "stream",
          "name": "stdout",
          "text": [
            "Converting audio...Converting audio...\n",
            "\n"
          ]
        },
        {
          "output_type": "stream",
          "name": "stderr",
          "text": [
            "\n",
            "  0%|          | 0/1 [00:00<?, ?it/s]\u001b[A"
          ]
        },
        {
          "output_type": "stream",
          "name": "stdout",
          "text": [
            "Using cached preprocessed reference audio...\n",
            "Using custom reference text...\n",
            "\n",
            "ref_text    I'd had no doubt that he'd be staying with me while I spent a few interim hours in the real world. And then I saw the black car, a weathered Ford parked in Charlie's driveway. \n",
            "gen_text 0 I can't believe how quickly the year has flown by,\n",
            "\n",
            "\n",
            "Generating audio in 1 batches...\n"
          ]
        },
        {
          "output_type": "stream",
          "name": "stderr",
          "text": [
            "\n",
            "\n",
            "  0%|          | 0/1 [00:00<?, ?it/s]\u001b[A\u001b[A"
          ]
        },
        {
          "output_type": "stream",
          "name": "stdout",
          "text": [
            "Using custom reference text...\n",
            "\n",
            "ref_text    Yeah. No, because I mean, let's be honest. Paul Ryan's never really standing up to Trump, right? Paul Ryan stands up to Trump the same way you stand up to a waiter at a sh-t restaurant. You're all confident when he's not there, like, this food is horrible! What's that? Oh, no, everything's great. Thank you. Thank you. Yeah, yeah. Could I just have all the salt, please? All the salt. Thank you. \n",
            "gen_text 0 Change the channel to PBS Kids and did you see the latest episode last night?\n",
            "\n",
            "\n",
            "Generating audio in 1 batches...\n"
          ]
        },
        {
          "output_type": "stream",
          "name": "stderr",
          "text": [
            "\n",
            "\n",
            "\n",
            "100%|██████████| 1/1 [00:09<00:00,  9.35s/it]\n",
            "\n",
            "\n",
            "\n",
            "100%|██████████| 1/1 [00:09<00:00,  9.26s/it]\u001b[A\u001b[A\u001b[A\n",
            "100%|██████████| 1/1 [00:09<00:00,  9.33s/it]\u001b[A\n",
            "\n",
            "100%|██████████| 1/1 [00:09<00:00,  9.27s/it]\n",
            "100%|██████████| 1/1 [00:09<00:00,  9.28s/it]\n",
            "100%|██████████| 1/1 [00:09<00:00,  9.34s/it]\n"
          ]
        },
        {
          "output_type": "stream",
          "name": "stdout",
          "text": [
            "Converting audio...\n",
            "Converting audio...\n",
            "Using cached preprocessed reference audio...\n",
            "Using custom reference text...\n",
            "\n",
            "ref_text    I'd had no doubt that he'd be staying with me while I spent a few interim hours in the real world. And then I saw the black car, a weathered Ford parked in Charlie's driveway. \n",
            "gen_text 0 turn on subtitles for the show\n",
            "\n",
            "\n",
            "Generating audio in 1 batches...\n",
            "Converting audio...\n",
            "Converting audio...\n",
            "Using cached preprocessed reference audio...\n",
            "Using custom reference text...\n",
            "\n",
            "ref_text    Yeah. No, because I mean, let's be honest. Paul Ryan's never really standing up to Trump, right? Paul Ryan stands up to Trump the same way you stand up to a waiter at a sh-t restaurant. You're all confident when he's not there, like, this food is horrible! What's that? Oh, no, everything's great. Thank you. Thank you. Yeah, yeah. Could I just have all the salt, please? All the salt. Thank you. \n",
            "gen_text 0 Change the channel to PBS Kids\n",
            "\n",
            "\n",
            "Generating audio in 1 batches...\n",
            "Using custom reference text...\n",
            "\n",
            "ref_text    You see like all these mailings of offering, you know. \n",
            "gen_text 0 close Tubi TV, turn on subtitles\n",
            "\n",
            "\n",
            "Generating audio in 1 batches...\n",
            "Using cached preprocessed reference audio...\n",
            "Using custom reference text...\n",
            "\n",
            "ref_text    Jefferson and I have been living under such a strain since all this began. I'm afraid I was terribly rude to you. Please forgive me. \n",
            "gen_text 0 mute the TV, turn off subtitles, increase the volume to 15\n",
            "\n",
            "\n",
            "Generating audio in 1 batches...\n"
          ]
        },
        {
          "output_type": "stream",
          "name": "stderr",
          "text": [
            "  0%|          | 0/1 [00:00<?, ?it/s]\n",
            "  0%|          | 0/1 [00:00<?, ?it/s]\u001b[A\n",
            "\n",
            "  0%|          | 0/1 [00:00<?, ?it/s]\u001b[A\u001b[A\n",
            "\n",
            "\n",
            "  0%|          | 0/1 [00:00<?, ?it/s]\u001b[A\u001b[A\u001b[A\n",
            "\n",
            "\n",
            "100%|██████████| 1/1 [00:11<00:00, 11.67s/it]\n",
            "\n",
            "\n",
            "100%|██████████| 1/1 [00:11<00:00, 11.68s/it]\n",
            "\n",
            "100%|██████████| 1/1 [00:11<00:00, 11.69s/it]\n",
            "100%|██████████| 1/1 [00:11<00:00, 11.69s/it]\n"
          ]
        },
        {
          "output_type": "stream",
          "name": "stdout",
          "text": [
            "Converting audio...\n",
            "Using cached preprocessed reference audio...\n",
            "Using custom reference text...\n",
            "\n",
            "ref_text    Hi, I'm Jimmy Kimmel. If you enjoyed the video, hit subscribe. And if you don't click subscribe, this invisible hamster will die. \n",
            "gen_text 0 Mute the TV, and can you believe how much homework the kids have this week? Set volume to 15.\n",
            "\n",
            "\n",
            "Generating audio in 1 batches...\n",
            "Converting audio...\n",
            "Converting audio...\n",
            "Using cached preprocessed reference audio...\n",
            "Using custom reference text...\n",
            "\n",
            "ref_text    Yeah. No, because I mean, let's be honest. Paul Ryan's never really standing up to Trump, right? Paul Ryan stands up to Trump the same way you stand up to a waiter at a sh-t restaurant. You're all confident when he's not there, like, this food is horrible! What's that? Oh, no, everything's great. Thank you. Thank you. Yeah, yeah. Could I just have all the salt, please? All the salt. Thank you. \n",
            "gen_text 0 and did you see the latest episode last night?\n",
            "\n",
            "\n",
            "Generating audio in 1 batches...\n",
            "Converting audio...\n",
            "Using cached preprocessed reference audio...\n",
            "Using custom reference text...\n",
            "\n",
            "ref_text    I'd had no doubt that he'd be staying with me while I spent a few interim hours in the real world. And then I saw the black car, a weathered Ford parked in Charlie's driveway. \n",
            "gen_text 0 so I can catch all the dialogue.\n",
            "\n",
            "\n",
            "Generating audio in 1 batches...\n"
          ]
        },
        {
          "output_type": "stream",
          "name": "stderr",
          "text": [
            "  0%|          | 0/1 [00:00<?, ?it/s]\n",
            "  0%|          | 0/1 [00:00<?, ?it/s]\u001b[A\n",
            "\n",
            "  0%|          | 0/1 [00:00<?, ?it/s]\u001b[A\u001b[A"
          ]
        },
        {
          "output_type": "stream",
          "name": "stdout",
          "text": [
            "Using custom reference text...\n",
            "\n",
            "ref_text    They said it was a bad idea, Laurie. Respectfully, I don't think that's a good thumbnail, Pete told me, but I'm going to see no time to die tonight and I'm excited about the new James Bond film. So that is why we have. \n",
            "gen_text 0 fast forward to the next episode, and did you see how the cat jumped that high?\n",
            "\n",
            "\n",
            "Generating audio in 1 batches...\n"
          ]
        },
        {
          "output_type": "stream",
          "name": "stderr",
          "text": [
            "\n",
            "\n",
            "\n",
            "  0%|          | 0/1 [00:00<?, ?it/s]\u001b[A\u001b[A\u001b[A\n",
            "100%|██████████| 1/1 [00:13<00:00, 13.17s/it]\n",
            "100%|██████████| 1/1 [00:13<00:00, 13.22s/it]\n",
            "\n",
            "100%|██████████| 1/1 [00:13<00:00, 13.16s/it]\u001b[A\u001b[A\n",
            "\n",
            "\n",
            "100%|██████████| 1/1 [00:13<00:00, 13.16s/it]\n",
            "100%|██████████| 1/1 [00:13<00:00, 13.15s/it]\n",
            "100%|██████████| 1/1 [00:13<00:00, 13.23s/it]\n"
          ]
        },
        {
          "output_type": "stream",
          "name": "stdout",
          "text": [
            "Converting audio...\n",
            "Converting audio...\n",
            "Converting audio...\n",
            "Converting audio...\n",
            "Using custom reference text...\n",
            "\n",
            "ref_text    As Drumwell and Startup had each a boat, I resolved to set up mine and to cut them both out. \n",
            "Using cached preprocessed reference audio...\n",
            "Using custom reference text...\n",
            "\n",
            "ref_text    They said it was a bad idea, Laurie. Respectfully, I don't think that's a good thumbnail, Pete told me, but I'm going to see no time to die tonight and I'm excited about the new James Bond film. So that is why we have. \n",
            "gen_text 0 I can't believe how many different channels there are now; have you seen the lineup on Disney Channel lately?\n",
            "\n",
            "\n",
            "Generating audio in 1 batches...\n",
            "gen_text 0 fast forward to the next episode\n",
            "\n",
            "\n",
            "Generating audio in 1 batches...\n",
            "Using cached preprocessed reference audio...\n",
            "Using custom reference text...\n",
            "\n",
            "ref_text    Hi, I'm Jimmy Kimmel. If you enjoyed the video, hit subscribe. And if you don't click subscribe, this invisible hamster will die. \n",
            "gen_text 0 Mute the TV, and\n",
            "\n",
            "\n",
            "Generating audio in 1 batches...\n"
          ]
        },
        {
          "output_type": "stream",
          "name": "stderr",
          "text": [
            "  0%|          | 0/1 [00:00<?, ?it/s]\n",
            "  0%|          | 0/1 [00:00<?, ?it/s]\u001b[A\n",
            "\n",
            "  0%|          | 0/1 [00:00<?, ?it/s]\u001b[A\u001b[A"
          ]
        },
        {
          "output_type": "stream",
          "name": "stdout",
          "text": [
            "Using custom reference text...\n",
            "\n",
            "ref_text    I lay in my bed and listen to the quiet voices of Alice and Jasper in the other room. They were loud enough for me to hear it all was strange. \n",
            "gen_text 0 switch to AV mode, enable sleep timer for 30 minutes\n",
            "\n",
            "\n",
            "Generating audio in 1 batches...\n"
          ]
        },
        {
          "output_type": "stream",
          "name": "stderr",
          "text": [
            "\n",
            "\n",
            "\n",
            "  0%|          | 0/1 [00:00<?, ?it/s]\u001b[A\u001b[A\u001b[A\n",
            "\n",
            "100%|██████████| 1/1 [00:09<00:00,  9.43s/it]\n",
            "\n",
            "100%|██████████| 1/1 [00:09<00:00,  9.46s/it]\n",
            "\n",
            "\n",
            "100%|██████████| 1/1 [00:09<00:00,  9.45s/it]\n",
            "100%|██████████| 1/1 [00:09<00:00,  9.46s/it]\n",
            "100%|██████████| 1/1 [00:09<00:00,  9.44s/it]\n"
          ]
        },
        {
          "output_type": "stream",
          "name": "stdout",
          "text": [
            "Converting audio...\n",
            "Using cached preprocessed reference audio...\n",
            "Using custom reference text...\n",
            "\n",
            "ref_text    They said it was a bad idea, Laurie. Respectfully, I don't think that's a good thumbnail, Pete told me, but I'm going to see no time to die tonight and I'm excited about the new James Bond film. So that is why we have. \n",
            "gen_text 0 , and did you see how the cat jumped that high?\n",
            "\n",
            "\n",
            "Generating audio in 1 batches...\n"
          ]
        },
        {
          "output_type": "stream",
          "name": "stderr",
          "text": [
            "\r  0%|          | 0/1 [00:00<?, ?it/s]"
          ]
        },
        {
          "output_type": "stream",
          "name": "stdout",
          "text": [
            "Converting audio...\n",
            "Converting audio...\n",
            "Converting audio...\n",
            "Using cached preprocessed reference audio...\n",
            "Using custom reference text...\n",
            "\n",
            "ref_text    Hi, I'm Jimmy Kimmel. If you enjoyed the video, hit subscribe. And if you don't click subscribe, this invisible hamster will die. \n",
            "gen_text 0 can you believe how much homework the kids have this week?\n",
            "\n",
            "\n",
            "Generating audio in 1 batches...\n",
            "Using cached preprocessed reference audio...\n",
            "Using custom reference text...\n",
            "\n",
            "ref_text    I just like the whole concept of YouTube, like if you work at McDonald's, you work eight hours and you get paid a certain amount of money, but if we put eight hours into our YouTube, depending on what we do, you can make, you can like, sky's the limit on what you can do with it. \n",
            "gen_text 0 increase the volume to minimum\n",
            "\n",
            "\n",
            "Generating audio in 1 batches...\n",
            "Using custom reference text...\n",
            "\n",
            "ref_text    And I would, if there were lovely, beautiful things to look at. But there aren't, Mary. \n",
            "gen_text 0 set volume to 30 while I was asking my friend if they saw the latest episode of The Big Sick, then switch to Peacock.\n",
            "\n",
            "\n",
            "Generating audio in 1 batches...\n"
          ]
        },
        {
          "output_type": "stream",
          "name": "stderr",
          "text": [
            "\n",
            "  0%|          | 0/1 [00:00<?, ?it/s]\u001b[A\n",
            "\n",
            "  0%|          | 0/1 [00:00<?, ?it/s]\u001b[A\u001b[A\n",
            "\n",
            "\n",
            "  0%|          | 0/1 [00:00<?, ?it/s]\u001b[A\u001b[A\u001b[A\n",
            "\n",
            "100%|██████████| 1/1 [00:13<00:00, 13.47s/it]\n",
            "\n",
            "\n",
            "\n",
            "100%|██████████| 1/1 [00:13<00:00, 13.46s/it]\n",
            "\n",
            "100%|██████████| 1/1 [00:13<00:00, 13.48s/it]\n",
            "100%|██████████| 1/1 [00:13<00:00, 13.58s/it]"
          ]
        },
        {
          "output_type": "stream",
          "name": "stdout",
          "text": [
            "Converting audio...\n",
            "Using cached preprocessed reference audio...\n",
            "Using custom reference text...\n",
            "\n",
            "ref_text    She's recently named the world's least gay-friendly place. While the world's least lesbian-friendly place is Sephora. \n",
            "gen_text 0 Set contrast to 50 while I'm trying to decide what to eat for dinner.\n",
            "\n",
            "\n",
            "Generating audio in 1 batches...\n",
            "Converting audio...\n"
          ]
        },
        {
          "output_type": "stream",
          "name": "stderr",
          "text": [
            "\n",
            "\n",
            "  0%|          | 0/1 [00:00<?, ?it/s]\u001b[A"
          ]
        },
        {
          "output_type": "stream",
          "name": "stdout",
          "text": [
            "Using cached preprocessed reference audio...\n",
            "Using custom reference text...\n",
            "\n",
            "ref_text    And I would, if there were lovely, beautiful things to look at. But there aren't, Mary. \n",
            "gen_text 0 set volume to 30\n",
            "\n",
            "\n",
            "Generating audio in 1 batches...\n",
            "Converting audio...\n"
          ]
        },
        {
          "output_type": "stream",
          "name": "stderr",
          "text": [
            "\r  0%|          | 0/1 [00:00<?, ?it/s]"
          ]
        },
        {
          "output_type": "stream",
          "name": "stdout",
          "text": [
            "Using cached preprocessed reference audio...\n",
            "Using custom reference text...\n",
            "\n",
            "ref_text    Hi, I'm Jimmy Kimmel. If you enjoyed the video, hit subscribe. And if you don't click subscribe, this invisible hamster will die. \n",
            "gen_text 0 Set volume to 15.\n",
            "\n",
            "\n",
            "Generating audio in 1 batches...\n",
            "Converting audio...\n",
            "Using cached preprocessed reference audio...\n",
            "Using custom reference text...\n",
            "\n",
            "ref_text    This is the actual last chapter of the book. There are two more chapters that go into a recent and Feyre perspective real quick. \n",
            "gen_text 0 Did you see that show on PBS Kids yesterday?\n",
            "\n",
            "\n",
            "Generating audio in 1 batches...\n"
          ]
        },
        {
          "output_type": "stream",
          "name": "stderr",
          "text": [
            "\n",
            "\n",
            "  0%|          | 0/1 [00:00<?, ?it/s]\u001b[A\u001b[A\n",
            "\n",
            "\n",
            "  0%|          | 0/1 [00:00<?, ?it/s]\u001b[A\u001b[A\u001b[A\n",
            "\n",
            "100%|██████████| 1/1 [00:10<00:00, 10.70s/it]\n",
            "\n",
            "100%|██████████| 1/1 [00:10<00:00, 10.74s/it]\u001b[A\n",
            "\n",
            "\n",
            "100%|██████████| 1/1 [00:10<00:00, 10.75s/it]\n",
            "100%|██████████| 1/1 [00:10<00:00, 10.71s/it]\n",
            "100%|██████████| 1/1 [00:10<00:00, 10.74s/it]\n"
          ]
        },
        {
          "output_type": "stream",
          "name": "stdout",
          "text": [
            "Converting audio...\n",
            "Using cached preprocessed reference audio...\n",
            "Using custom reference text...\n",
            "\n",
            "ref_text    It's not so much that Goldman Sachs is ruling the world, but it is like a greater parasite that is threatening to stop the world from rebalancing itself and recovering a sense of democratic control over its future. \n",
            "gen_text 0 Did you watch that new show on HBO Max last night?\n",
            "\n",
            "\n",
            "Generating audio in 1 batches...\n",
            "Converting audio...\n",
            "Converting audio...\n",
            "Converting audio...\n",
            "Using cached preprocessed reference audio...\n",
            "Using custom reference text...\n",
            "\n",
            "ref_text    And I would, if there were lovely, beautiful things to look at. But there aren't, Mary. \n",
            "gen_text 0 while I was asking my friend if they saw the latest episode of The Big Sick\n",
            "\n",
            "\n",
            "Generating audio in 1 batches...\n",
            "Using cached preprocessed reference audio...\n",
            "Using custom reference text...\n",
            "\n",
            "ref_text    She's recently named the world's least gay-friendly place. While the world's least lesbian-friendly place is Sephora. \n",
            "gen_text 0 Set contrast to 50\n",
            "\n",
            "\n",
            "Generating audio in 1 batches...\n",
            "Using cached preprocessed reference audio...\n",
            "Using custom reference text...\n",
            "\n",
            "ref_text    Hello there, everyone, and welcome to the video. My name's Serenity Sol on Reacts, and here we are with Soap, series one, episode three season. It is American. I am enjoying this. It is extremely funny. I will be looking to get Benson when that, well, when these shows run out. I just want to say when that comes out, it's already out. \n",
            "gen_text 0 switch to ABC\n",
            "\n",
            "\n",
            "Generating audio in 1 batches...\n"
          ]
        },
        {
          "output_type": "stream",
          "name": "stderr",
          "text": [
            "  0%|          | 0/1 [00:00<?, ?it/s]\n",
            "  0%|          | 0/1 [00:00<?, ?it/s]\u001b[A\n",
            "\n",
            "\n",
            "  0%|          | 0/1 [00:00<?, ?it/s]\u001b[A\u001b[A\u001b[A\n",
            "\n",
            "100%|██████████| 1/1 [00:08<00:00,  8.52s/it]\n",
            "\n",
            "100%|██████████| 1/1 [00:08<00:00,  8.52s/it]\u001b[A\n",
            "\n",
            "100%|██████████| 1/1 [00:08<00:00,  8.53s/it]\n",
            "100%|██████████| 1/1 [00:08<00:00,  8.51s/it]\n",
            "\n",
            "\n",
            "\n",
            "100%|██████████| 1/1 [00:08<00:00,  8.60s/it]\n"
          ]
        },
        {
          "output_type": "stream",
          "name": "stdout",
          "text": [
            "Converting audio...\n",
            "Converting audio...\n",
            "Converting audio...\n",
            "Using custom reference text...\n",
            "\n",
            "ref_text    For more on this subject take a look at the playlist. You can also watch this recommended video. \n",
            "gen_text 0 set volume to 10\n",
            "\n",
            "\n",
            "Generating audio in 1 batches...\n",
            "Using cached preprocessed reference audio...\n",
            "Using custom reference text...\n",
            "\n",
            "ref_text    And I would, if there were lovely, beautiful things to look at. But there aren't, Mary. \n",
            "gen_text 0 , then switch to Peacock.\n",
            "\n",
            "\n",
            "Generating audio in 1 batches...\n",
            "Using cached preprocessed reference audio...\n",
            "Using custom reference text...\n",
            "\n",
            "ref_text    She's recently named the world's least gay-friendly place. While the world's least lesbian-friendly place is Sephora. \n",
            "gen_text 0 while\n",
            "\n",
            "\n",
            "Generating audio in 1 batches...\n"
          ]
        },
        {
          "output_type": "stream",
          "name": "stderr",
          "text": [
            "\n",
            "  0%|          | 0/1 [00:00<?, ?it/s]\n",
            "\n",
            "  0%|          | 0/1 [00:00<?, ?it/s]\u001b[A\u001b[A"
          ]
        },
        {
          "output_type": "stream",
          "name": "stdout",
          "text": [
            "Converting audio...\n",
            "Using cached preprocessed reference audio...\n",
            "Using custom reference text...\n",
            "\n",
            "ref_text    I just like the whole concept of YouTube, like if you work at McDonald's, you work eight hours and you get paid a certain amount of money, but if we put eight hours into our YouTube, depending on what we do, you can make, you can like, sky's the limit on what you can do with it. \n",
            "gen_text 0 open Tubi TV, did you see the game last night?\n",
            "\n",
            "\n",
            "Generating audio in 1 batches...\n"
          ]
        },
        {
          "output_type": "stream",
          "name": "stderr",
          "text": [
            "\n",
            "\n",
            "\n",
            "  0%|          | 0/1 [00:00<?, ?it/s]\u001b[A\u001b[A\u001b[A\n",
            "\n",
            "\n",
            "100%|██████████| 1/1 [00:09<00:00,  9.50s/it]\n",
            "\n",
            "100%|██████████| 1/1 [00:09<00:00,  9.54s/it]\n",
            "100%|██████████| 1/1 [00:09<00:00,  9.53s/it]\n",
            "\n",
            "\n",
            "100%|██████████| 1/1 [00:09<00:00,  9.53s/it]\n"
          ]
        },
        {
          "output_type": "stream",
          "name": "stdout",
          "text": [
            "Converting audio...\n",
            "Using cached preprocessed reference audio...\n",
            "Using custom reference text...\n",
            "\n",
            "ref_text    I just like the whole concept of YouTube, like if you work at McDonald's, you work eight hours and you get paid a certain amount of money, but if we put eight hours into our YouTube, depending on what we do, you can make, you can like, sky's the limit on what you can do with it. \n",
            "gen_text 0 open Tubi TV\n",
            "\n",
            "\n",
            "Generating audio in 1 batches...\n",
            "Converting audio...\n",
            "Converting audio...\n"
          ]
        },
        {
          "output_type": "stream",
          "name": "stderr",
          "text": [
            "\r  0%|          | 0/1 [00:00<?, ?it/s]"
          ]
        },
        {
          "output_type": "stream",
          "name": "stdout",
          "text": [
            "Converting audio...\n",
            "Using cached preprocessed reference audio...\n",
            "Using custom reference text...\n",
            "\n",
            "ref_text    Hello there everybody and welcome to the video. My name's Sven at Your Soul on the Axe and here we are with episode 2, season 1 by the way, of Soap. Now, in the last episode, I didn't expect to laugh track. \n",
            "gen_text 0 Can you please increase the volume to 15 while I tell you about my weekend plans?\n",
            "\n",
            "\n",
            "Generating audio in 1 batches...\n",
            "Using cached preprocessed reference audio...\n",
            "Using custom reference text...\n",
            "\n",
            "ref_text    She's recently named the world's least gay-friendly place. While the world's least lesbian-friendly place is Sephora. \n",
            "gen_text 0 I'm\n",
            "\n",
            "\n",
            "Generating audio in 1 batches...\n",
            "Using custom reference text...\n",
            "\n",
            "ref_text    So involved was I in my escapist daydreams, I lost all track of the seconds racing by. Hey, what was the number? The cabbie's question punctured my fantasy, letting all the colors run out of my lovely delusions. Fear. \n",
            "gen_text 0 I just found out that Disney Channel has some new shows coming out next month.\n",
            "\n",
            "\n",
            "Generating audio in 1 batches...\n"
          ]
        },
        {
          "output_type": "stream",
          "name": "stderr",
          "text": [
            "\n",
            "  0%|          | 0/1 [00:00<?, ?it/s]\u001b[A\n",
            "\n",
            "  0%|          | 0/1 [00:00<?, ?it/s]\u001b[A\u001b[A\n",
            "\n",
            "\n",
            "  0%|          | 0/1 [00:00<?, ?it/s]\u001b[A\u001b[A\u001b[A\n",
            "\n",
            "100%|██████████| 1/1 [00:11<00:00, 11.49s/it]\u001b[A\u001b[A\n",
            "\n",
            "\n",
            "100%|██████████| 1/1 [00:11<00:00, 11.49s/it]\u001b[A\u001b[A\u001b[A\n",
            "100%|██████████| 1/1 [00:11<00:00, 11.50s/it]\n",
            "100%|██████████| 1/1 [00:11<00:00, 11.51s/it]\n",
            "100%|██████████| 1/1 [00:11<00:00, 11.50s/it]\n",
            "100%|██████████| 1/1 [00:11<00:00, 11.58s/it]\n"
          ]
        },
        {
          "output_type": "stream",
          "name": "stdout",
          "text": [
            "Converting audio...\n",
            "Converting audio...\n",
            "Using cached preprocessed reference audio...\n",
            "Using custom reference text...\n",
            "\n",
            "ref_text    She's recently named the world's least gay-friendly place. While the world's least lesbian-friendly place is Sephora. \n",
            "gen_text 0 trying\n",
            "\n",
            "\n",
            "Generating audio in 1 batches...\n",
            "Using cached preprocessed reference audio...\n",
            "Using custom reference text...\n",
            "\n",
            "ref_text    Hello there everybody and welcome to the video. My name's Sven at Your Soul on the Axe and here we are with episode 2, season 1 by the way, of Soap. Now, in the last episode, I didn't expect to laugh track. \n",
            "gen_text 0 Can you please\n",
            "\n",
            "\n",
            "Generating audio in 1 batches...\n",
            "Converting audio...\n",
            "Converting audio...\n",
            "Using cached preprocessed reference audio...\n",
            "Using custom reference text...\n",
            "\n",
            "ref_text    I just like the whole concept of YouTube, like if you work at McDonald's, you work eight hours and you get paid a certain amount of money, but if we put eight hours into our YouTube, depending on what we do, you can make, you can like, sky's the limit on what you can do with it. \n",
            "gen_text 0 , did you see the game last night?\n",
            "\n",
            "\n",
            "Generating audio in 1 batches...\n"
          ]
        },
        {
          "output_type": "stream",
          "name": "stderr",
          "text": [
            "  0%|          | 0/1 [00:00<?, ?it/s]\n",
            "  0%|          | 0/1 [00:00<?, ?it/s]\u001b[A"
          ]
        },
        {
          "output_type": "stream",
          "name": "stdout",
          "text": [
            "Using custom reference text...\n",
            "\n",
            "ref_text    Uhm, the dislocated right shoulder and all that stuff that, you know, I thought I may never play again. So that kind of put me on the fast track to a degenerative shoulder and all kinds of arthritic changes and stuff like that. So. \n",
            "gen_text 0 Can you increase the volume to 70? It's so hot today, I think I need a cold drink.\n",
            "\n",
            "\n",
            "Generating audio in 1 batches...\n"
          ]
        },
        {
          "output_type": "stream",
          "name": "stderr",
          "text": [
            "\n",
            "\n",
            "  0%|          | 0/1 [00:00<?, ?it/s]\u001b[A\u001b[A\n",
            "\n",
            "\n",
            "  0%|          | 0/1 [00:00<?, ?it/s]\u001b[A\u001b[A\u001b[A\n",
            "\n",
            "\n",
            "100%|██████████| 1/1 [00:10<00:00, 10.93s/it]\n",
            "\n",
            "100%|██████████| 1/1 [00:10<00:00, 10.87s/it]\n",
            "\n",
            "100%|██████████| 1/1 [00:10<00:00, 10.94s/it]\n",
            "100%|██████████| 1/1 [00:10<00:00, 10.88s/it]\n",
            "100%|██████████| 1/1 [00:10<00:00, 10.90s/it]\n"
          ]
        },
        {
          "output_type": "stream",
          "name": "stdout",
          "text": [
            "Converting audio...\n",
            "Using cached preprocessed reference audio...\n",
            "Using custom reference text...\n",
            "\n",
            "ref_text    Uhm, the dislocated right shoulder and all that stuff that, you know, I thought I may never play again. So that kind of put me on the fast track to a degenerative shoulder and all kinds of arthritic changes and stuff like that. So. \n",
            "gen_text 0 Can you increase the volume to 70?\n",
            "\n",
            "\n",
            "Generating audio in 1 batches...\n",
            "Converting audio...\n",
            "Converting audio...\n",
            "Using cached preprocessed reference audio...\n",
            "Using custom reference text...\n",
            "\n",
            "ref_text    Hello there everybody and welcome to the video. My name's Sven at Your Soul on the Axe and here we are with episode 2, season 1 by the way, of Soap. Now, in the last episode, I didn't expect to laugh track. \n",
            "Using cached preprocessed reference audio...\n",
            "Using custom reference text...\n",
            "\n",
            "ref_text    She's recently named the world's least gay-friendly place. While the world's least lesbian-friendly place is Sephora. \n",
            "gen_text 0 to\n",
            "\n",
            "\n",
            "Generating audio in 1 batches...\n",
            "Converting audio...\n",
            "gen_text 0 increase the volume to 15\n",
            "\n",
            "\n",
            "Generating audio in 1 batches...\n"
          ]
        },
        {
          "output_type": "stream",
          "name": "stderr",
          "text": [
            "\r  0%|          | 0/1 [00:00<?, ?it/s]"
          ]
        },
        {
          "output_type": "stream",
          "name": "stdout",
          "text": [
            "Using cached preprocessed reference audio...\n",
            "Using custom reference text...\n",
            "\n",
            "ref_text    And I would, if there were lovely, beautiful things to look at. But there aren't, Mary. \n",
            "gen_text 0 go to channel ABC, enable night mode\n",
            "\n",
            "\n",
            "Generating audio in 1 batches...\n"
          ]
        },
        {
          "output_type": "stream",
          "name": "stderr",
          "text": [
            "\n",
            "  0%|          | 0/1 [00:00<?, ?it/s]\u001b[A\n",
            "\n",
            "  0%|          | 0/1 [00:00<?, ?it/s]\u001b[A\u001b[A\n",
            "\n",
            "\n",
            "100%|██████████| 1/1 [00:10<00:00, 10.13s/it]\n",
            "\n",
            "\n",
            "100%|██████████| 1/1 [00:10<00:00, 10.10s/it]\u001b[A\u001b[A\n",
            "100%|██████████| 1/1 [00:10<00:00, 10.11s/it]\u001b[A\n",
            "\n",
            "\n",
            "100%|██████████| 1/1 [00:10<00:00, 10.10s/it]\n",
            "100%|██████████| 1/1 [00:10<00:00, 10.11s/it]\n",
            "100%|██████████| 1/1 [00:10<00:00, 10.11s/it]\n"
          ]
        },
        {
          "output_type": "stream",
          "name": "stdout",
          "text": [
            "Converting audio...\n",
            "Using cached preprocessed reference audio...\n",
            "Using custom reference text...\n",
            "\n",
            "ref_text    Uhm, the dislocated right shoulder and all that stuff that, you know, I thought I may never play again. So that kind of put me on the fast track to a degenerative shoulder and all kinds of arthritic changes and stuff like that. So. \n",
            "gen_text 0 It's so hot today, I think I need a cold drink.\n",
            "\n",
            "\n",
            "Generating audio in 1 batches...\n"
          ]
        },
        {
          "output_type": "stream",
          "name": "stderr",
          "text": [
            "\r  0%|          | 0/1 [00:00<?, ?it/s]"
          ]
        },
        {
          "output_type": "stream",
          "name": "stdout",
          "text": [
            "Converting audio...\n",
            "Converting audio...\n",
            "Using cached preprocessed reference audio...\n",
            "Using custom reference text...\n",
            "\n",
            "ref_text    She's recently named the world's least gay-friendly place. While the world's least lesbian-friendly place is Sephora. \n",
            "gen_text 0 decide\n",
            "\n",
            "\n",
            "Generating audio in 1 batches...\n",
            "Using cached preprocessed reference audio...\n",
            "Using custom reference text...\n",
            "\n",
            "ref_text    Hello there everybody and welcome to the video. My name's Sven at Your Soul on the Axe and here we are with episode 2, season 1 by the way, of Soap. Now, in the last episode, I didn't expect to laugh track. \n",
            "gen_text 0 while I tell you about my weekend plans?\n",
            "\n",
            "\n",
            "Generating audio in 1 batches...\n",
            "Converting audio...\n"
          ]
        },
        {
          "output_type": "stream",
          "name": "stderr",
          "text": [
            "\n",
            "  0%|          | 0/1 [00:00<?, ?it/s]\u001b[A\n",
            "\n",
            "  0%|          | 0/1 [00:00<?, ?it/s]\u001b[A\u001b[A"
          ]
        },
        {
          "output_type": "stream",
          "name": "stdout",
          "text": [
            "Using cached preprocessed reference audio...\n",
            "Using custom reference text...\n",
            "\n",
            "ref_text    Hi, I'm Jimmy Kimmel. If you enjoyed the video, hit subscribe. And if you don't click subscribe, this invisible hamster will die. \n",
            "gen_text 0 Set picture mode to Cinema, I can't believe how quickly time flies, increase the volume to 30.\n",
            "\n",
            "\n",
            "Generating audio in 1 batches...\n"
          ]
        },
        {
          "output_type": "stream",
          "name": "stderr",
          "text": [
            "\n",
            "\n",
            "\n",
            "  0%|          | 0/1 [00:00<?, ?it/s]\u001b[A\u001b[A\u001b[A\n",
            "100%|██████████| 1/1 [00:10<00:00, 10.30s/it]\n",
            "100%|██████████| 1/1 [00:10<00:00, 10.34s/it]\n",
            "\n",
            "100%|██████████| 1/1 [00:10<00:00, 10.34s/it]\n",
            "100%|██████████| 1/1 [00:10<00:00, 10.29s/it]\n",
            "\n",
            "\n",
            "\n",
            "100%|██████████| 1/1 [00:10<00:00, 10.30s/it]\n"
          ]
        },
        {
          "output_type": "stream",
          "name": "stdout",
          "text": [
            "Converting audio...\n",
            "Using cached preprocessed reference audio...\n",
            "Using custom reference text...\n",
            "\n",
            "ref_text    She's recently named the world's least gay-friendly place. While the world's least lesbian-friendly place is Sephora. \n",
            "gen_text 0 what\n",
            "\n",
            "\n",
            "Generating audio in 1 batches...\n",
            "Converting audio...\n"
          ]
        },
        {
          "output_type": "stream",
          "name": "stderr",
          "text": [
            "\r  0%|          | 0/1 [00:00<?, ?it/s]"
          ]
        },
        {
          "output_type": "stream",
          "name": "stdout",
          "text": [
            "Using cached preprocessed reference audio...\n",
            "Using custom reference text...\n",
            "\n",
            "ref_text    We got kicked out the old crib, so then we moved to some apartments down the street, and uh, I needed some weed, and I knew this nigga already from like a few, like weeks before that, when we came to get the weed with my nigga Matt. \n",
            "Converting audio...\n",
            "gen_text 0 switch to Tubi TV, unmute the TV\n",
            "\n",
            "\n",
            "Generating audio in 1 batches...\n",
            "Using cached preprocessed reference audio...\n",
            "Using custom reference text...\n",
            "\n",
            "ref_text    If it's blood you want, and coal you want, and the call of the Klondike night. If it's mud you want, and gold you want, or what Robert Service would write. \n",
            "gen_text 0 switch to Tubi TV, unmute the TV, change subtitle language to Spanish\n",
            "\n",
            "\n",
            "Generating audio in 1 batches...\n"
          ]
        },
        {
          "output_type": "stream",
          "name": "stderr",
          "text": [
            "\n",
            "  0%|          | 0/1 [00:00<?, ?it/s]\u001b[A\n",
            "\n",
            "  0%|          | 0/1 [00:00<?, ?it/s]\u001b[A\u001b[A"
          ]
        },
        {
          "output_type": "stream",
          "name": "stdout",
          "text": [
            "Converting audio...\n",
            "Using cached preprocessed reference audio...\n",
            "Using custom reference text...\n",
            "\n",
            "ref_text    Hi, I'm Jimmy Kimmel. If you enjoyed the video, hit subscribe. And if you don't click subscribe, this invisible hamster will die. \n",
            "gen_text 0 Set picture mode to Cinema\n",
            "\n",
            "\n",
            "Generating audio in 1 batches...\n"
          ]
        },
        {
          "output_type": "stream",
          "name": "stderr",
          "text": [
            "\n",
            "\n",
            "\n",
            "  0%|          | 0/1 [00:00<?, ?it/s]\u001b[A\u001b[A\u001b[A\n",
            "\n",
            "\n",
            "100%|██████████| 1/1 [00:09<00:00,  9.91s/it]\n",
            "100%|██████████| 1/1 [00:09<00:00,  9.95s/it]\n",
            "\n",
            "100%|██████████| 1/1 [00:09<00:00,  9.94s/it]\u001b[A\n",
            "\n",
            "100%|██████████| 1/1 [00:09<00:00,  9.94s/it]\n",
            "100%|██████████| 1/1 [00:09<00:00,  9.94s/it]\n"
          ]
        },
        {
          "output_type": "stream",
          "name": "stdout",
          "text": [
            "Converting audio...\n",
            "Using cached preprocessed reference audio...\n",
            "Using custom reference text...\n",
            "\n",
            "ref_text    Hi, I'm Jimmy Kimmel. If you enjoyed the video, hit subscribe. And if you don't click subscribe, this invisible hamster will die. \n",
            "gen_text 0 I can't believe how quickly time flies\n",
            "\n",
            "\n",
            "Generating audio in 1 batches...\n",
            "Converting audio...\n",
            "Using cached preprocessed reference audio...\n",
            "Using custom reference text...\n",
            "\n",
            "ref_text    She's recently named the world's least gay-friendly place. While the world's least lesbian-friendly place is Sephora. \n",
            "gen_text 0 to\n",
            "\n",
            "\n",
            "Generating audio in 1 batches...\n"
          ]
        },
        {
          "output_type": "stream",
          "name": "stderr",
          "text": [
            "  0%|          | 0/1 [00:00<?, ?it/s]\n",
            "  0%|          | 0/1 [00:00<?, ?it/s]\u001b[A"
          ]
        },
        {
          "output_type": "stream",
          "name": "stdout",
          "text": [
            "Converting audio...\n",
            "Using cached preprocessed reference audio...\n",
            "Using custom reference text...\n",
            "\n",
            "ref_text    Hi, I'm Jimmy Kimmel. If you enjoyed the video, hit subscribe. And if you don't click subscribe, this invisible hamster will die. \n",
            "gen_text 0 Can you set sound mode to surround while I decided to put the TV in sleep mode before heading out?\n",
            "\n",
            "\n",
            "Generating audio in 1 batches...\n",
            "Converting audio...\n"
          ]
        },
        {
          "output_type": "stream",
          "name": "stderr",
          "text": [
            "\n",
            "\n",
            "  0%|          | 0/1 [00:00<?, ?it/s]\u001b[A\u001b[A"
          ]
        },
        {
          "output_type": "stream",
          "name": "stdout",
          "text": [
            "Using custom reference text...\n",
            "\n",
            "ref_text    I'd had no doubt that he'd be staying with me while I spent a few interim hours in the real world. And then I saw the black car, a weathered Ford parked in Charlie's driveway. \n",
            "gen_text 0 Show me Disney Channel, and can you believe she actually thought that would work?\n",
            "\n",
            "\n",
            "Generating audio in 1 batches...\n"
          ]
        },
        {
          "output_type": "stream",
          "name": "stderr",
          "text": [
            "\n",
            "\n",
            "\n",
            "  0%|          | 0/1 [00:00<?, ?it/s]\u001b[A\u001b[A\u001b[A\n",
            "100%|██████████| 1/1 [00:09<00:00,  9.50s/it]\n",
            "\n",
            "\n",
            "100%|██████████| 1/1 [00:09<00:00,  9.46s/it]\n",
            "\n",
            "\n",
            "\n",
            "100%|██████████| 1/1 [00:09<00:00,  9.52s/it]\n",
            "100%|██████████| 1/1 [00:09<00:00,  9.44s/it]\n"
          ]
        },
        {
          "output_type": "stream",
          "name": "stdout",
          "text": [
            "Converting audio...\n",
            "Using cached preprocessed reference audio...\n",
            "Using custom reference text...\n",
            "\n",
            "ref_text    She's recently named the world's least gay-friendly place. While the world's least lesbian-friendly place is Sephora. \n",
            "gen_text 0 eat\n",
            "\n",
            "\n",
            "Generating audio in 1 batches...\n",
            "Converting audio...\n",
            "Using cached preprocessed reference audio...\n",
            "Using custom reference text...\n",
            "\n",
            "ref_text    Hi, I'm Jimmy Kimmel. If you enjoyed the video, hit subscribe. And if you don't click subscribe, this invisible hamster will die. \n",
            "gen_text 0 set sound mode to surround\n",
            "\n",
            "\n",
            "Generating audio in 1 batches...\n"
          ]
        },
        {
          "output_type": "stream",
          "name": "stderr",
          "text": [
            "\r  0%|          | 0/1 [00:00<?, ?it/s]"
          ]
        },
        {
          "output_type": "stream",
          "name": "stdout",
          "text": [
            "Converting audio...\n",
            "Using cached preprocessed reference audio...\n",
            "Using custom reference text...\n",
            "\n",
            "ref_text    Hi, I'm Jimmy Kimmel. If you enjoyed the video, hit subscribe. And if you don't click subscribe, this invisible hamster will die. \n",
            "gen_text 0 increase the volume to 30\n",
            "\n",
            "\n",
            "Generating audio in 1 batches...\n"
          ]
        },
        {
          "output_type": "stream",
          "name": "stderr",
          "text": [
            "\n",
            "  0%|          | 0/1 [00:00<?, ?it/s]\u001b[A"
          ]
        },
        {
          "output_type": "stream",
          "name": "stdout",
          "text": [
            "Converting audio...\n",
            "Using cached preprocessed reference audio...\n",
            "Using custom reference text...\n",
            "\n",
            "ref_text    I'd had no doubt that he'd be staying with me while I spent a few interim hours in the real world. And then I saw the black car, a weathered Ford parked in Charlie's driveway. \n",
            "gen_text 0 Show me Disney Channel\n",
            "\n",
            "\n",
            "Generating audio in 1 batches...\n"
          ]
        },
        {
          "output_type": "stream",
          "name": "stderr",
          "text": [
            "\n",
            "\n",
            "  0%|          | 0/1 [00:00<?, ?it/s]\u001b[A\u001b[A\n",
            "\n",
            "\n",
            "100%|██████████| 1/1 [00:07<00:00,  7.97s/it]\n",
            "\n",
            "\n",
            "100%|██████████| 1/1 [00:07<00:00,  7.98s/it]\n",
            "\n",
            "100%|██████████| 1/1 [00:07<00:00,  7.93s/it]\n",
            "\n",
            "\n",
            "100%|██████████| 1/1 [00:07<00:00,  7.95s/it]\n",
            "100%|██████████| 1/1 [00:07<00:00,  7.96s/it]\n"
          ]
        },
        {
          "output_type": "stream",
          "name": "stdout",
          "text": [
            "Converting audio...\n",
            "Converting audio...\n",
            "Using cached preprocessed reference audio...\n",
            "Using custom reference text...\n",
            "\n",
            "ref_text    She's recently named the world's least gay-friendly place. While the world's least lesbian-friendly place is Sephora. \n",
            "gen_text 0 for\n",
            "\n",
            "\n",
            "Generating audio in 1 batches...\n",
            "Using cached preprocessed reference audio...\n",
            "Using custom reference text...\n",
            "\n",
            "ref_text    I'd had no doubt that he'd be staying with me while I spent a few interim hours in the real world. And then I saw the black car, a weathered Ford parked in Charlie's driveway. \n",
            "gen_text 0 , and can you believe she actually thought that would work?\n",
            "\n",
            "\n",
            "Generating audio in 1 batches...\n"
          ]
        },
        {
          "output_type": "stream",
          "name": "stderr",
          "text": [
            "\r  0%|          | 0/1 [00:00<?, ?it/s]"
          ]
        },
        {
          "output_type": "stream",
          "name": "stdout",
          "text": [
            "Converting audio...\n",
            "Converting audio...\n",
            "Using cached preprocessed reference audio...\n",
            "Using custom reference text...\n",
            "\n",
            "ref_text    Hi, I'm Jimmy Kimmel. If you enjoyed the video, hit subscribe. And if you don't click subscribe, this invisible hamster will die. \n",
            "Using cached preprocessed reference audio...\n",
            "Using custom reference text...\n",
            "\n",
            "ref_text    The medicine that they are proposing for the disease actually is even killing the patient more. \n",
            "gen_text 0 while I decided to\n",
            "\n",
            "\n",
            "Generating audio in 1 batches...\n",
            "gen_text 0 Have you seen the new movie, 'Dragons: Rescue Riders: Huttsgalor Holiday'?\n",
            "gen_text 1 It looks like a fun watch!\n",
            "\n",
            "\n",
            "Generating audio in 2 batches...\n"
          ]
        },
        {
          "output_type": "stream",
          "name": "stderr",
          "text": [
            "\n",
            "  0%|          | 0/1 [00:00<?, ?it/s]\u001b[A\n",
            "\n",
            "  0%|          | 0/1 [00:00<?, ?it/s]\u001b[A\u001b[A\n",
            "\n",
            "\n",
            "100%|██████████| 1/1 [00:12<00:00, 12.44s/it]\n",
            "\n",
            "\n",
            "100%|██████████| 1/1 [00:12<00:00, 12.41s/it]\u001b[A\u001b[A\n",
            "100%|██████████| 1/1 [00:12<00:00, 12.41s/it]\n",
            "\n",
            "\n",
            "\n",
            "100%|██████████| 1/1 [00:12<00:00, 12.44s/it]\n"
          ]
        },
        {
          "output_type": "stream",
          "name": "stdout",
          "text": [
            "Converting audio...\n",
            "Using cached preprocessed reference audio...\n",
            "Using custom reference text...\n",
            "\n",
            "ref_text    She's recently named the world's least gay-friendly place. While the world's least lesbian-friendly place is Sephora. \n",
            "gen_text 0 dinner.\n",
            "\n",
            "\n",
            "Generating audio in 1 batches...\n"
          ]
        },
        {
          "output_type": "stream",
          "name": "stderr",
          "text": [
            "\r  0%|          | 0/1 [00:00<?, ?it/s]"
          ]
        },
        {
          "output_type": "stream",
          "name": "stdout",
          "text": [
            "Converting audio...\n",
            "Using cached preprocessed reference audio...\n",
            "Using custom reference text...\n",
            "\n",
            "ref_text    Hi, I'm Jimmy Kimmel. If you enjoyed the video, hit subscribe. And if you don't click subscribe, this invisible hamster will die. \n",
            "gen_text 0 put the TV in sleep mode\n",
            "\n",
            "\n",
            "Generating audio in 1 batches...\n",
            "Converting audio...\n",
            "Using cached preprocessed reference audio...\n",
            "Using custom reference text...\n",
            "\n",
            "ref_text    Yes. One does still hear dreadful stories. \n",
            "gen_text 0 I heard the new season of Fox starts next week, and I'm really looking forward to it.\n",
            "\n",
            "\n",
            "Generating audio in 1 batches...\n"
          ]
        },
        {
          "output_type": "stream",
          "name": "stderr",
          "text": [
            "\n",
            "  0%|          | 0/1 [00:00<?, ?it/s]\u001b[A\n",
            "\n",
            "  0%|          | 0/1 [00:00<?, ?it/s]\u001b[A\u001b[A\n",
            "\n",
            "100%|██████████| 1/1 [00:13<00:00, 13.68s/it]\u001b[A\u001b[A\n",
            "100%|██████████| 1/1 [00:13<00:00, 13.69s/it]\n",
            "100%|██████████| 1/1 [00:13<00:00, 13.70s/it]\n",
            "\n",
            "\n",
            "\n",
            "100%|██████████| 1/1 [00:13<00:00, 13.73s/it]\n",
            "100%|██████████| 2/2 [00:26<00:00, 13.08s/it]\n"
          ]
        },
        {
          "output_type": "stream",
          "name": "stdout",
          "text": [
            "Converting audio...\n",
            "Using cached preprocessed reference audio...\n",
            "Using custom reference text...\n",
            "\n",
            "ref_text    Hi, I'm Jimmy Kimmel. If you enjoyed the video, hit subscribe. And if you don't click subscribe, this invisible hamster will die. \n",
            "gen_text 0 before heading out?\n",
            "\n",
            "\n",
            "Generating audio in 1 batches...\n",
            "Converting audio...\n"
          ]
        },
        {
          "output_type": "stream",
          "name": "stderr",
          "text": [
            "\r  0%|          | 0/1 [00:00<?, ?it/s]"
          ]
        },
        {
          "output_type": "stream",
          "name": "stdout",
          "text": [
            "Converting audio...\n",
            "Using cached preprocessed reference audio...\n",
            "Using custom reference text...\n",
            "\n",
            "ref_text    Uhm, so for the path planning, for like the recommended paths for the rover to take and also for the geographic areas for the rover to avoid, why are all those. \n",
            "gen_text 0 Now play Animalia HD while I decide what to wear for the party tonight.\n",
            "\n",
            "\n",
            "Generating audio in 1 batches...\n",
            "Converting audio...\n",
            "Using custom reference text...\n",
            "\n",
            "ref_text    She's recently named the world's least gay-friendly place. While the world's least lesbian-friendly place is Sephora. \n",
            "gen_text 0 go back to home screen, increase the volume\n",
            "\n",
            "\n",
            "Generating audio in 1 batches...\n"
          ]
        },
        {
          "output_type": "stream",
          "name": "stderr",
          "text": [
            "\n",
            "  0%|          | 0/1 [00:00<?, ?it/s]\u001b[A"
          ]
        },
        {
          "output_type": "stream",
          "name": "stdout",
          "text": [
            "Using cached preprocessed reference audio...\n",
            "Using custom reference text...\n",
            "\n",
            "ref_text    Dated bind research, nope. Sorted, nope. \n",
            "gen_text 0 turn on the TV,\n",
            "gen_text 1 did you see that amazing movie trailer last night?\n",
            "\n",
            "\n",
            "Generating audio in 2 batches...\n"
          ]
        },
        {
          "output_type": "stream",
          "name": "stderr",
          "text": [
            "\n",
            "\n",
            "  0%|          | 0/1 [00:00<?, ?it/s]\u001b[A\u001b[A\n",
            "\n",
            "\n",
            "  0%|          | 0/2 [00:00<?, ?it/s]\u001b[A\u001b[A\u001b[A\n",
            "\n",
            "\n",
            " 50%|█████     | 1/2 [00:11<00:11, 11.35s/it]\u001b[A\u001b[A\u001b[A\n",
            "\n",
            "100%|██████████| 1/1 [00:11<00:00, 11.43s/it]\n",
            "100%|██████████| 1/1 [00:11<00:00, 11.37s/it]\n",
            "100%|██████████| 1/1 [00:11<00:00, 11.44s/it]\n",
            "100%|██████████| 1/1 [00:11<00:00, 11.38s/it]\n"
          ]
        },
        {
          "output_type": "stream",
          "name": "stdout",
          "text": [
            "Converting audio...\n",
            "Using cached preprocessed reference audio...\n",
            "Using custom reference text...\n",
            "\n",
            "ref_text    The mafia knew that having a stolen masterpiece is a get out of jail free card. The feds will deal with you. They'll let you out of jail. \n",
            "Converting audio...\n",
            "gen_text 0 I can't believe you made that cake from scratch! Now, increase the volume and disable night mode.\n",
            "\n",
            "\n",
            "Generating audio in 1 batches...\n",
            "Converting audio...\n",
            "Using cached preprocessed reference audio...\n",
            "Using custom reference text...\n",
            "\n",
            "ref_text    It's not so much that Goldman Sachs is ruling the world, but it is like a greater parasite that is threatening to stop the world from rebalancing itself and recovering a sense of democratic control over its future. \n",
            "Using cached preprocessed reference audio...\n",
            "Using custom reference text...\n",
            "\n",
            "ref_text    Uhm, so for the path planning, for like the recommended paths for the rover to take and also for the geographic areas for the rover to avoid, why are all those. \n",
            "gen_text 0 Now\n",
            "\n",
            "\n",
            "Generating audio in 1 batches...\n",
            "gen_text 0 Did you see that movie, 'Cook Up a Storm'? I really enjoyed it!\n",
            "\n",
            "\n",
            "Generating audio in 1 batches...\n"
          ]
        },
        {
          "output_type": "stream",
          "name": "stderr",
          "text": [
            "  0%|          | 0/1 [00:00<?, ?it/s]\n",
            "  0%|          | 0/1 [00:00<?, ?it/s]\u001b[A\n",
            "\n",
            "100%|██████████| 1/1 [00:12<00:00, 12.89s/it]\n",
            "\n",
            "100%|██████████| 1/1 [00:12<00:00, 12.88s/it]\u001b[A\n",
            "\n",
            "\n",
            "100%|██████████| 2/2 [00:24<00:00, 12.15s/it]\n",
            "100%|██████████| 1/1 [00:12<00:00, 12.89s/it]\n",
            "\n",
            "\n",
            "100%|██████████| 1/1 [00:12<00:00, 12.90s/it]\n"
          ]
        },
        {
          "output_type": "stream",
          "name": "stdout",
          "text": [
            "Converting audio...\n",
            "Using cached preprocessed reference audio...\n",
            "Using custom reference text...\n",
            "\n",
            "ref_text    The mafia knew that having a stolen masterpiece is a get out of jail free card. The feds will deal with you. They'll let you out of jail. \n",
            "gen_text 0 Now, increase the volume and disable night mode.\n",
            "\n",
            "\n",
            "Generating audio in 1 batches...\n"
          ]
        },
        {
          "output_type": "stream",
          "name": "stderr",
          "text": [
            "\r  0%|          | 0/1 [00:00<?, ?it/s]"
          ]
        },
        {
          "output_type": "stream",
          "name": "stdout",
          "text": [
            "Converting audio...\n",
            "Using cached preprocessed reference audio...\n",
            "Using custom reference text...\n",
            "\n",
            "ref_text    Uhm, so for the path planning, for like the recommended paths for the rover to take and also for the geographic areas for the rover to avoid, why are all those. \n",
            "gen_text 0 play\n",
            "\n",
            "\n",
            "Generating audio in 1 batches...\n",
            "Converting audio...\n",
            "Converting audio...\n",
            "Using cached preprocessed reference audio...\n",
            "Using custom reference text...\n",
            "\n",
            "ref_text    Dated bind research, nope. Sorted, nope. \n",
            "gen_text 0 turn on the TV\n",
            "\n",
            "\n",
            "Generating audio in 1 batches...\n"
          ]
        },
        {
          "output_type": "stream",
          "name": "stderr",
          "text": [
            "\n",
            "  0%|          | 0/1 [00:00<?, ?it/s]\u001b[A"
          ]
        },
        {
          "output_type": "stream",
          "name": "stdout",
          "text": [
            "Using cached preprocessed reference audio...\n",
            "Using custom reference text...\n",
            "\n",
            "ref_text    As Drumwell and Startup had each a boat, I resolved to set up mine and to cut them both out. \n",
            "gen_text 0 Can you believe they canceled our favorite show? Mute the TV.\n",
            "\n",
            "\n",
            "Generating audio in 1 batches...\n"
          ]
        },
        {
          "output_type": "stream",
          "name": "stderr",
          "text": [
            "\n",
            "\n",
            "  0%|          | 0/1 [00:00<?, ?it/s]\u001b[A\u001b[A\n",
            "\n",
            "\n",
            "100%|██████████| 1/1 [00:11<00:00, 11.31s/it]\n",
            "\n",
            "100%|██████████| 1/1 [00:11<00:00, 11.26s/it]\u001b[A\n",
            "\n",
            "100%|██████████| 1/1 [00:11<00:00, 11.25s/it]\u001b[A\u001b[A\n",
            "\n",
            "\n",
            "100%|██████████| 1/1 [00:11<00:00, 11.26s/it]\n",
            "100%|██████████| 1/1 [00:11<00:00, 11.25s/it]\n",
            "100%|██████████| 1/1 [00:11<00:00, 11.28s/it]\n"
          ]
        },
        {
          "output_type": "stream",
          "name": "stdout",
          "text": [
            "Converting audio...\n",
            "Using cached preprocessed reference audio...\n",
            "Using custom reference text...\n",
            "\n",
            "ref_text    The mafia knew that having a stolen masterpiece is a get out of jail free card. The feds will deal with you. They'll let you out of jail. \n",
            "gen_text 0 I can't believe you made that cake from scratch!\n",
            "\n",
            "\n",
            "Generating audio in 1 batches...\n"
          ]
        },
        {
          "output_type": "stream",
          "name": "stderr",
          "text": [
            "\r  0%|          | 0/1 [00:00<?, ?it/s]"
          ]
        },
        {
          "output_type": "stream",
          "name": "stdout",
          "text": [
            "Converting audio...\n",
            "Converting audio...\n",
            "Converting audio...\n",
            "Using cached preprocessed reference audio...\n",
            "Using custom reference text...\n",
            "\n",
            "ref_text    Uhm, so for the path planning, for like the recommended paths for the rover to take and also for the geographic areas for the rover to avoid, why are all those. \n",
            "gen_text 0 Animalia HD\n",
            "\n",
            "\n",
            "Generating audio in 1 batches...\n",
            "Using cached preprocessed reference audio...\n",
            "Using custom reference text...\n",
            "\n",
            "ref_text    As Drumwell and Startup had each a boat, I resolved to set up mine and to cut them both out. \n",
            "gen_text 0 Can you believe they canceled our favorite show?\n",
            "\n",
            "\n",
            "Generating audio in 1 batches...\n",
            "Using cached preprocessed reference audio...\n",
            "Using custom reference text...\n",
            "\n",
            "ref_text    Dated bind research, nope. Sorted, nope. \n",
            "gen_text 0 ,\n",
            "gen_text 1 did you see that amazing movie trailer last night?\n",
            "\n",
            "\n",
            "Generating audio in 2 batches...\n"
          ]
        },
        {
          "output_type": "stream",
          "name": "stderr",
          "text": [
            "\n",
            "  0%|          | 0/1 [00:00<?, ?it/s]\u001b[A\n",
            "\n",
            "  0%|          | 0/1 [00:00<?, ?it/s]\u001b[A\u001b[A\n",
            "\n",
            "\n",
            "100%|██████████| 1/1 [00:10<00:00, 10.45s/it]\n",
            "\n",
            "\n",
            "100%|██████████| 1/1 [00:10<00:00, 10.40s/it]\u001b[A\u001b[A\n",
            "\n",
            "\n",
            " 50%|█████     | 1/2 [00:10<00:10, 10.40s/it]\u001b[A\u001b[A\u001b[A\n",
            "100%|██████████| 1/1 [00:10<00:00, 10.41s/it]\n",
            "100%|██████████| 1/1 [00:10<00:00, 10.42s/it]\n"
          ]
        },
        {
          "output_type": "stream",
          "name": "stdout",
          "text": [
            "Converting audio...\n",
            "Converting audio...\n",
            "Using cached preprocessed reference audio...\n",
            "Using custom reference text...\n",
            "\n",
            "ref_text    As Drumwell and Startup had each a boat, I resolved to set up mine and to cut them both out. \n",
            "gen_text 0 Mute the TV.\n",
            "\n",
            "\n",
            "Generating audio in 1 batches...\n",
            "Converting audio...\n",
            "Using cached preprocessed reference audio...\n",
            "Using custom reference text...\n",
            "\n",
            "ref_text    Uhm, so for the path planning, for like the recommended paths for the rover to take and also for the geographic areas for the rover to avoid, why are all those. \n",
            "gen_text 0 while\n",
            "\n",
            "\n",
            "Generating audio in 1 batches...\n",
            "Audio is over 12s, clipping short. (2)\n",
            "Using custom reference text...\n",
            "\n",
            "ref_text    Yet the wealthy customs officer was not altogether the hardened man of the world that he seemed. Beneath the appearance of worldliness and pride. \n",
            "gen_text 0 I just found out that the Disney Channel is airing a marathon of cartoons this weekend.\n",
            "\n",
            "\n",
            "Generating audio in 1 batches...\n"
          ]
        },
        {
          "output_type": "stream",
          "name": "stderr",
          "text": [
            "  0%|          | 0/1 [00:00<?, ?it/s]\n",
            "  0%|          | 0/1 [00:00<?, ?it/s]\u001b[A\n",
            "\n",
            "  0%|          | 0/1 [00:00<?, ?it/s]\u001b[A\u001b[A\n",
            "\n",
            "100%|██████████| 1/1 [00:17<00:00, 17.10s/it]\n",
            "100%|██████████| 1/1 [00:17<00:00, 17.09s/it]\u001b[A\n",
            "\n",
            "\n",
            "100%|██████████| 1/1 [00:17<00:00, 17.09s/it]\n",
            "100%|██████████| 1/1 [00:17<00:00, 17.10s/it]\n",
            "100%|██████████| 1/1 [00:17<00:00, 17.11s/it]\n",
            "100%|██████████| 2/2 [00:27<00:00, 13.83s/it]\n"
          ]
        },
        {
          "output_type": "stream",
          "name": "stdout",
          "text": [
            "Converting audio...\n",
            "Using cached preprocessed reference audio...\n",
            "Using custom reference text...\n",
            "\n",
            "ref_text    Uhm, so for the path planning, for like the recommended paths for the rover to take and also for the geographic areas for the rover to avoid, why are all those. \n",
            "gen_text 0 I\n",
            "\n",
            "\n",
            "Generating audio in 1 batches...\n",
            "Converting audio...\n"
          ]
        },
        {
          "output_type": "stream",
          "name": "stderr",
          "text": [
            "\r  0%|          | 0/1 [00:00<?, ?it/s]"
          ]
        },
        {
          "output_type": "stream",
          "name": "stdout",
          "text": [
            "Converting audio...\n",
            "Converting audio...\n",
            "Using cached preprocessed reference audio...\n",
            "Using custom reference text...\n",
            "\n",
            "ref_text    Which I say, sir, replied Joe with an air of legal formality, as if he were making his will, Miss A. or otherwise Havisham. Her expression aired then as following,. \n",
            "gen_text 0 next channel\n",
            "\n",
            "\n",
            "Generating audio in 1 batches...\n",
            "Using cached preprocessed reference audio...\n",
            "Using custom reference text...\n",
            "\n",
            "ref_text    No idea where she is? Nope. I haven't seen her since she was here last night. She may be gone for good. But she can't be. All her stuff is there. Clothes and everything. \n",
            "Using cached preprocessed reference audio...\n",
            "Using custom reference text...\n",
            "\n",
            "ref_text    Charlie was pounding on my door. Bella, are you okay? What's going on? His voice was frightened. \n",
            "gen_text 0 open Tubi TV, scroll down\n",
            "\n",
            "\n",
            "Generating audio in 1 batches...\n",
            "gen_text 0 switch to The Disney Channel, set sound mode to surround sound,\n",
            "gen_text 1 go back to previous episode\n",
            "\n",
            "\n",
            "Generating audio in 2 batches...\n"
          ]
        },
        {
          "output_type": "stream",
          "name": "stderr",
          "text": [
            "\n",
            "  0%|          | 0/1 [00:00<?, ?it/s]\u001b[A\n",
            "\n",
            "\n",
            "  0%|          | 0/2 [00:00<?, ?it/s]\u001b[A\u001b[A\u001b[A\n",
            "\n",
            "100%|██████████| 1/1 [00:12<00:00, 12.87s/it]\n",
            "\n",
            "\n",
            "\n",
            " 50%|█████     | 1/2 [00:12<00:12, 12.82s/it]\u001b[A\u001b[A\u001b[A\n",
            "100%|██████████| 1/1 [00:12<00:00, 12.83s/it]\u001b[A\n",
            "\n",
            "100%|██████████| 1/1 [00:12<00:00, 12.84s/it]\n",
            "100%|██████████| 1/1 [00:12<00:00, 12.82s/it]\n"
          ]
        },
        {
          "output_type": "stream",
          "name": "stdout",
          "text": [
            "Converting audio...\n",
            "Using cached preprocessed reference audio...\n",
            "Using custom reference text...\n",
            "\n",
            "ref_text    Uhm, so for the path planning, for like the recommended paths for the rover to take and also for the geographic areas for the rover to avoid, why are all those. \n",
            "gen_text 0 decide\n",
            "\n",
            "\n",
            "Generating audio in 1 batches...\n"
          ]
        },
        {
          "output_type": "stream",
          "name": "stderr",
          "text": [
            "\r  0%|          | 0/1 [00:00<?, ?it/s]"
          ]
        },
        {
          "output_type": "stream",
          "name": "stdout",
          "text": [
            "Converting audio...\n",
            "Converting audio...\n",
            "Using cached preprocessed reference audio...\n",
            "Using custom reference text...\n",
            "\n",
            "ref_text    And I would, if there were lovely, beautiful things to look at. But there aren't, Mary. \n",
            "gen_text 0 I can't believe you ate the last piece of cake, set the volume to maximum.\n",
            "\n",
            "\n",
            "Generating audio in 1 batches...\n",
            "Using cached preprocessed reference audio...\n",
            "Using custom reference text...\n",
            "\n",
            "ref_text    Yes. One does still hear dreadful stories. \n",
            "gen_text 0 Set the volume to minimum while I asked,\n",
            "gen_text 1 'Did you see the latest episode of that series?' and increase the volume for a better experience.\n",
            "\n",
            "\n",
            "Generating audio in 2 batches...\n"
          ]
        },
        {
          "output_type": "stream",
          "name": "stderr",
          "text": [
            "\n",
            "  0%|          | 0/1 [00:00<?, ?it/s]\u001b[A\n",
            "\n",
            "  0%|          | 0/2 [00:00<?, ?it/s]\u001b[A\u001b[A\n",
            "\n",
            " 50%|█████     | 1/2 [00:15<00:15, 15.83s/it]\u001b[A\u001b[A\n",
            "\n",
            "\n",
            "100%|██████████| 1/1 [00:15<00:00, 15.88s/it]\n",
            "100%|██████████| 2/2 [00:28<00:00, 14.36s/it]\n",
            "\n",
            "100%|██████████| 1/1 [00:15<00:00, 15.85s/it]\n"
          ]
        },
        {
          "output_type": "stream",
          "name": "stdout",
          "text": [
            "Converting audio...\n",
            "Using cached preprocessed reference audio...\n",
            "Using custom reference text...\n",
            "\n",
            "ref_text    Uhm, so for the path planning, for like the recommended paths for the rover to take and also for the geographic areas for the rover to avoid, why are all those. \n",
            "gen_text 0 what\n",
            "\n",
            "\n",
            "Generating audio in 1 batches...\n",
            "Converting audio...\n",
            "Using cached preprocessed reference audio...\n",
            "Using custom reference text...\n",
            "\n",
            "ref_text    And I would, if there were lovely, beautiful things to look at. But there aren't, Mary. \n",
            "gen_text 0 I can't believe you ate the last piece of cake,\n",
            "\n",
            "\n",
            "Generating audio in 1 batches...\n",
            "Converting audio...\n"
          ]
        },
        {
          "output_type": "stream",
          "name": "stderr",
          "text": [
            "  0%|          | 0/1 [00:00<?, ?it/s]\n",
            "  0%|          | 0/1 [00:00<?, ?it/s]\u001b[A"
          ]
        },
        {
          "output_type": "stream",
          "name": "stdout",
          "text": [
            "Using cached preprocessed reference audio...\n",
            "Using custom reference text...\n",
            "\n",
            "ref_text    Uh, really came out strong and played well. It was good to see, you know, the offense first drive of the game, take it right down the field, 11 plays, get a touchdown. \n",
            "gen_text 0 Add this to my watchlist while I tell you about my weekend plans, and enable sleep timer for 30 minutes.\n",
            "\n",
            "\n",
            "Generating audio in 1 batches...\n"
          ]
        },
        {
          "output_type": "stream",
          "name": "stderr",
          "text": [
            "\n",
            "\n",
            "\n",
            "100%|██████████| 1/1 [00:18<00:00, 18.71s/it]\n",
            "\n",
            "100%|██████████| 1/1 [00:18<00:00, 18.70s/it]\u001b[A\n",
            "\n",
            "100%|██████████| 1/1 [00:18<00:00, 18.70s/it]\n",
            "\n",
            "\n",
            "\n",
            "100%|██████████| 2/2 [00:34<00:00, 17.30s/it]\n",
            "100%|██████████| 1/1 [00:18<00:00, 18.71s/it]\n"
          ]
        },
        {
          "output_type": "stream",
          "name": "stdout",
          "text": [
            "Converting audio...\n",
            "Using cached preprocessed reference audio...\n",
            "Using custom reference text...\n",
            "\n",
            "ref_text    Uhm, so for the path planning, for like the recommended paths for the rover to take and also for the geographic areas for the rover to avoid, why are all those. \n",
            "gen_text 0 to\n",
            "\n",
            "\n",
            "Generating audio in 1 batches...\n",
            "Converting audio...\n"
          ]
        },
        {
          "output_type": "stream",
          "name": "stderr",
          "text": [
            "\r  0%|          | 0/1 [00:00<?, ?it/s]"
          ]
        },
        {
          "output_type": "stream",
          "name": "stdout",
          "text": [
            "Using cached preprocessed reference audio...\n",
            "Using custom reference text...\n",
            "\n",
            "ref_text    And I would, if there were lovely, beautiful things to look at. But there aren't, Mary. \n",
            "gen_text 0 set\n",
            "\n",
            "\n",
            "Generating audio in 1 batches...\n",
            "Converting audio...\n",
            "Using cached preprocessed reference audio...\n",
            "Using custom reference text...\n",
            "\n",
            "ref_text    Uh, really came out strong and played well. It was good to see, you know, the offense first drive of the game, take it right down the field, 11 plays, get a touchdown. \n",
            "gen_text 0 Add this to my watchlist\n",
            "\n",
            "\n",
            "Generating audio in 1 batches...\n"
          ]
        },
        {
          "output_type": "stream",
          "name": "stderr",
          "text": [
            "\n",
            "  0%|          | 0/1 [00:00<?, ?it/s]\u001b[A\n",
            "\n",
            "  0%|          | 0/1 [00:00<?, ?it/s]\u001b[A\u001b[A"
          ]
        },
        {
          "output_type": "stream",
          "name": "stdout",
          "text": [
            "Converting audio...\n",
            "Using cached preprocessed reference audio...\n",
            "Using custom reference text...\n",
            "\n",
            "ref_text    Yes. One does still hear dreadful stories. \n",
            "gen_text 0 Set the volume to minimum\n",
            "\n",
            "\n",
            "Generating audio in 1 batches...\n"
          ]
        },
        {
          "output_type": "stream",
          "name": "stderr",
          "text": [
            "\n",
            "\n",
            "\n",
            "  0%|          | 0/1 [00:00<?, ?it/s]\u001b[A\u001b[A\u001b[A\n",
            "100%|██████████| 1/1 [00:10<00:00, 10.54s/it]\n",
            "\n",
            "\n",
            "100%|██████████| 1/1 [00:10<00:00, 10.54s/it]\n",
            "100%|██████████| 1/1 [00:10<00:00, 10.57s/it]\n",
            "\n",
            "\n",
            "\n",
            "100%|██████████| 1/1 [00:10<00:00, 10.52s/it]\n"
          ]
        },
        {
          "output_type": "stream",
          "name": "stdout",
          "text": [
            "Converting audio...\n",
            "Using cached preprocessed reference audio...\n",
            "Using custom reference text...\n",
            "\n",
            "ref_text    And I would, if there were lovely, beautiful things to look at. But there aren't, Mary. \n",
            "gen_text 0 the\n",
            "\n",
            "\n",
            "Generating audio in 1 batches...\n",
            "Converting audio...\n",
            "Using cached preprocessed reference audio...\n",
            "Using custom reference text...\n",
            "\n",
            "ref_text    Uh, really came out strong and played well. It was good to see, you know, the offense first drive of the game, take it right down the field, 11 plays, get a touchdown. \n",
            "gen_text 0 while I tell you about my weekend plans, and\n",
            "\n",
            "\n",
            "Generating audio in 1 batches...\n",
            "Converting audio...\n"
          ]
        },
        {
          "output_type": "stream",
          "name": "stderr",
          "text": [
            "  0%|          | 0/1 [00:00<?, ?it/s]\n",
            "  0%|          | 0/1 [00:00<?, ?it/s]\u001b[A"
          ]
        },
        {
          "output_type": "stream",
          "name": "stdout",
          "text": [
            "Using cached preprocessed reference audio...\n",
            "Using custom reference text...\n",
            "\n",
            "ref_text    Uhm, so for the path planning, for like the recommended paths for the rover to take and also for the geographic areas for the rover to avoid, why are all those. \n",
            "gen_text 0 wear\n",
            "\n",
            "\n",
            "Generating audio in 1 batches...\n",
            "Converting audio...\n"
          ]
        },
        {
          "output_type": "stream",
          "name": "stderr",
          "text": [
            "\n",
            "\n",
            "  0%|          | 0/1 [00:00<?, ?it/s]\u001b[A\u001b[A"
          ]
        },
        {
          "output_type": "stream",
          "name": "stdout",
          "text": [
            "Using cached preprocessed reference audio...\n",
            "Using custom reference text...\n",
            "\n",
            "ref_text    Yes. One does still hear dreadful stories. \n",
            "gen_text 0 while I asked,\n",
            "gen_text 1 'Did you see the latest episode of that series?'\n",
            "\n",
            "\n",
            "Generating audio in 2 batches...\n"
          ]
        },
        {
          "output_type": "stream",
          "name": "stderr",
          "text": [
            "\n",
            "\n",
            "\n",
            "  0%|          | 0/2 [00:00<?, ?it/s]\u001b[A\u001b[A\u001b[A\n",
            "\n",
            "100%|██████████| 1/1 [00:09<00:00,  9.84s/it]\n",
            "100%|██████████| 1/1 [00:09<00:00,  9.89s/it]\n",
            "100%|██████████| 1/1 [00:09<00:00,  9.87s/it]\n",
            "100%|██████████| 1/1 [00:09<00:00,  9.90s/it]\n",
            "\n",
            "\n",
            "\n",
            " 50%|█████     | 1/2 [00:09<00:09,  9.84s/it]\u001b[A\u001b[A\u001b[A"
          ]
        },
        {
          "output_type": "stream",
          "name": "stdout",
          "text": [
            "Converting audio...\n",
            "Using cached preprocessed reference audio...\n",
            "Using custom reference text...\n",
            "\n",
            "ref_text    Uhm, so for the path planning, for like the recommended paths for the rover to take and also for the geographic areas for the rover to avoid, why are all those. \n",
            "gen_text 0 for\n",
            "\n",
            "\n",
            "Generating audio in 1 batches...\n",
            "Converting audio...\n",
            "Converting audio...\n"
          ]
        },
        {
          "output_type": "stream",
          "name": "stderr",
          "text": [
            "\r  0%|          | 0/1 [00:00<?, ?it/s]"
          ]
        },
        {
          "output_type": "stream",
          "name": "stdout",
          "text": [
            "Using cached preprocessed reference audio...\n",
            "Using custom reference text...\n",
            "\n",
            "ref_text    Uh, really came out strong and played well. It was good to see, you know, the offense first drive of the game, take it right down the field, 11 plays, get a touchdown. \n",
            "gen_text 0 enable sleep timer for 30 minutes.\n",
            "\n",
            "\n",
            "Generating audio in 1 batches...\n",
            "Using cached preprocessed reference audio...\n",
            "Using custom reference text...\n",
            "\n",
            "ref_text    And I would, if there were lovely, beautiful things to look at. But there aren't, Mary. \n",
            "gen_text 0 volume\n",
            "\n",
            "\n",
            "Generating audio in 1 batches...\n"
          ]
        },
        {
          "output_type": "stream",
          "name": "stderr",
          "text": [
            "\n",
            "  0%|          | 0/1 [00:00<?, ?it/s]\u001b[A\n",
            "\n",
            "  0%|          | 0/1 [00:00<?, ?it/s]\u001b[A\u001b[A\n",
            "\n",
            "100%|██████████| 1/1 [00:12<00:00, 12.80s/it]\n",
            "100%|██████████| 1/1 [00:12<00:00, 12.81s/it]\n",
            "\n",
            "\n",
            "100%|██████████| 1/1 [00:12<00:00, 12.82s/it]\n",
            "100%|██████████| 2/2 [00:22<00:00, 11.35s/it]\n",
            "\n",
            "100%|██████████| 1/1 [00:12<00:00, 12.82s/it]\n"
          ]
        },
        {
          "output_type": "stream",
          "name": "stdout",
          "text": [
            "Converting audio...\n",
            "Converting audio...\n",
            "Using cached preprocessed reference audio...\n",
            "Using custom reference text...\n",
            "\n",
            "ref_text    I'd had no doubt that he'd be staying with me while I spent a few interim hours in the real world. And then I saw the black car, a weathered Ford parked in Charlie's driveway. \n",
            "Using cached preprocessed reference audio...\n",
            "Using custom reference text...\n",
            "\n",
            "ref_text    Uhm, so for the path planning, for like the recommended paths for the rover to take and also for the geographic areas for the rover to avoid, why are all those. \n",
            "gen_text 0 Did you hear that the Disney Channel is releasing some new shows this month?\n",
            "\n",
            "\n",
            "Generating audio in 1 batches...\n",
            "gen_text 0 the\n",
            "\n",
            "\n",
            "Generating audio in 1 batches...\n",
            "Converting audio...\n",
            "Converting audio...\n"
          ]
        },
        {
          "output_type": "stream",
          "name": "stderr",
          "text": [
            "\r  0%|          | 0/1 [00:00<?, ?it/s]"
          ]
        },
        {
          "output_type": "stream",
          "name": "stdout",
          "text": [
            "Using cached preprocessed reference audio...\n",
            "Using custom reference text...\n",
            "\n",
            "ref_text    And I would, if there were lovely, beautiful things to look at. But there aren't, Mary. \n",
            "gen_text 0 to\n",
            "\n",
            "\n",
            "Generating audio in 1 batches...\n",
            "Using cached preprocessed reference audio...\n",
            "Using custom reference text...\n",
            "\n",
            "ref_text    Yes. One does still hear dreadful stories. \n"
          ]
        },
        {
          "output_type": "stream",
          "name": "stderr",
          "text": [
            "\n",
            "  0%|          | 0/1 [00:00<?, ?it/s]\u001b[A"
          ]
        },
        {
          "output_type": "stream",
          "name": "stdout",
          "text": [
            "gen_text 0 and increase the volume for a better experience.\n",
            "\n",
            "\n",
            "Generating audio in 1 batches...\n"
          ]
        },
        {
          "output_type": "stream",
          "name": "stderr",
          "text": [
            "\n",
            "\n",
            "  0%|          | 0/1 [00:00<?, ?it/s]\u001b[A\u001b[A\n",
            "\n",
            "\n",
            "  0%|          | 0/1 [00:00<?, ?it/s]\u001b[A\u001b[A\u001b[A\n",
            "100%|██████████| 1/1 [00:15<00:00, 15.75s/it]\n",
            "\n",
            "100%|██████████| 1/1 [00:15<00:00, 15.75s/it]\n",
            "100%|██████████| 1/1 [00:15<00:00, 15.76s/it]\n",
            "\n",
            "\n",
            "\n",
            "100%|██████████| 1/1 [00:15<00:00, 15.75s/it]\n",
            "100%|██████████| 1/1 [00:15<00:00, 15.74s/it]\n"
          ]
        },
        {
          "output_type": "stream",
          "name": "stdout",
          "text": [
            "Converting audio...\n",
            "Using cached preprocessed reference audio...\n",
            "Using custom reference text...\n",
            "\n",
            "ref_text    Uhm, so for the path planning, for like the recommended paths for the rover to take and also for the geographic areas for the rover to avoid, why are all those. \n",
            "gen_text 0 party\n",
            "\n",
            "\n",
            "Generating audio in 1 batches...\n",
            "Converting audio...\n",
            "Converting audio...\n",
            "Using cached preprocessed reference audio...\n",
            "Using custom reference text...\n",
            "\n",
            "ref_text    And I would, if there were lovely, beautiful things to look at. But there aren't, Mary. \n"
          ]
        },
        {
          "output_type": "stream",
          "name": "stderr",
          "text": [
            "\r  0%|          | 0/1 [00:00<?, ?it/s]"
          ]
        },
        {
          "output_type": "stream",
          "name": "stdout",
          "text": [
            "gen_text 0 maximum.\n",
            "\n",
            "\n",
            "Generating audio in 1 batches...\n",
            "Using cached preprocessed reference audio...\n",
            "Using custom reference text...\n",
            "\n",
            "ref_text    You see like all these mailings of offering, you know. \n",
            "gen_text 0 Can you remind me when The Disney Channel starts because I really liked that movie we watched last week.\n",
            "\n",
            "\n",
            "Generating audio in 1 batches...\n",
            "Converting audio...\n"
          ]
        },
        {
          "output_type": "stream",
          "name": "stderr",
          "text": [
            "\n",
            "  0%|          | 0/1 [00:00<?, ?it/s]\u001b[A\n",
            "\n",
            "  0%|          | 0/1 [00:00<?, ?it/s]\u001b[A\u001b[A"
          ]
        },
        {
          "output_type": "stream",
          "name": "stdout",
          "text": [
            "Audio is over 12s, clipping short. (2)\n",
            "Using custom reference text...\n",
            "\n",
            "ref_text    Adam, I was thinking about it last night, uhm, about, and no offense, but, oh actually this doesn't even involve you or your character, but for Kylo Ren to be such a bad guy, it means really that Han Solo and Princess Leia had to have been terrible parents, I mean like,. \n",
            "gen_text 0 Did you see that new movie, Daddy's Perfect Little Girl? I heard it's really good!\n",
            "\n",
            "\n",
            "Generating audio in 1 batches...\n"
          ]
        },
        {
          "output_type": "stream",
          "name": "stderr",
          "text": [
            "\n",
            "\n",
            "\n",
            "100%|██████████| 1/1 [00:12<00:00, 12.78s/it]\n",
            "\n",
            "100%|██████████| 1/1 [00:12<00:00, 12.78s/it]\u001b[A\n",
            "\n",
            "100%|██████████| 1/1 [00:12<00:00, 12.78s/it]\n",
            "\n",
            "\n",
            "\n",
            "100%|██████████| 1/1 [00:12<00:00, 12.76s/it]\n",
            "100%|██████████| 1/1 [00:12<00:00, 12.64s/it]\n"
          ]
        },
        {
          "output_type": "stream",
          "name": "stdout",
          "text": [
            "Converting audio...\n",
            "Using cached preprocessed reference audio...\n",
            "Using custom reference text...\n",
            "\n",
            "ref_text    Uhm, so for the path planning, for like the recommended paths for the rover to take and also for the geographic areas for the rover to avoid, why are all those. \n",
            "gen_text 0 tonight.\n",
            "\n",
            "\n",
            "Generating audio in 1 batches...\n",
            "Converting audio...\n"
          ]
        },
        {
          "output_type": "stream",
          "name": "stderr",
          "text": [
            "\r  0%|          | 0/1 [00:00<?, ?it/s]"
          ]
        },
        {
          "output_type": "stream",
          "name": "stdout",
          "text": [
            "Using cached preprocessed reference audio...\n",
            "Using custom reference text...\n",
            "\n",
            "ref_text    I know that I just can't help it, love. So after all these years, you're finally gonna pop the question, huh?. \n",
            "gen_text 0 set volume to 15, change input to The Disney Channel, record this show\n",
            "\n",
            "\n",
            "Generating audio in 1 batches...\n",
            "Converting audio...\n"
          ]
        },
        {
          "output_type": "stream",
          "name": "stderr",
          "text": [
            "\n",
            "  0%|          | 0/1 [00:00<?, ?it/s]\u001b[A"
          ]
        },
        {
          "output_type": "stream",
          "name": "stdout",
          "text": [
            "Using cached preprocessed reference audio...\n",
            "Using custom reference text...\n",
            "\n",
            "ref_text    Charlie was pounding on my door. Bella, are you okay? What's going on? His voice was frightened. \n",
            "gen_text 0 I can't believe how fast time flies, switch to HBO.\n",
            "\n",
            "\n",
            "Generating audio in 1 batches...\n",
            "Converting audio...\n",
            "Using cached preprocessed reference audio...\n",
            "Using custom reference text...\n",
            "\n",
            "ref_text    You see like all these mailings of offering, you know. \n",
            "gen_text 0 Can you remind me when The Disney Channel starts\n",
            "\n",
            "\n",
            "Generating audio in 1 batches...\n"
          ]
        },
        {
          "output_type": "stream",
          "name": "stderr",
          "text": [
            "\n",
            "\n",
            "  0%|          | 0/1 [00:00<?, ?it/s]\u001b[A\u001b[A\n",
            "\n",
            "\n",
            "  0%|          | 0/1 [00:00<?, ?it/s]\u001b[A\u001b[A\u001b[A\n",
            "\n",
            "\n",
            "100%|██████████| 1/1 [00:11<00:00, 11.92s/it]\n",
            "100%|██████████| 1/1 [00:11<00:00, 11.96s/it]\n",
            "100%|██████████| 1/1 [00:11<00:00, 11.94s/it]\u001b[A\n",
            "\n",
            "100%|██████████| 1/1 [00:11<00:00, 11.97s/it]\n",
            "100%|██████████| 1/1 [00:11<00:00, 11.93s/it]\n",
            "100%|██████████| 1/1 [00:11<00:00, 11.95s/it]\n"
          ]
        },
        {
          "output_type": "stream",
          "name": "stdout",
          "text": [
            "Converting audio...\n",
            "Using cached preprocessed reference audio...\n",
            "Using custom reference text...\n",
            "\n",
            "ref_text    You see like all these mailings of offering, you know. \n",
            "gen_text 0 because I really liked that movie we watched last week.\n",
            "\n",
            "\n",
            "Generating audio in 1 batches...\n",
            "Converting audio...\n",
            "Using cached preprocessed reference audio...\n",
            "Using custom reference text...\n",
            "\n",
            "ref_text    Charlie was pounding on my door. Bella, are you okay? What's going on? His voice was frightened. \n",
            "gen_text 0 I can't believe how fast time flies,\n",
            "\n",
            "\n",
            "Generating audio in 1 batches...\n",
            "Converting audio...\n"
          ]
        },
        {
          "output_type": "stream",
          "name": "stderr",
          "text": [
            "\r  0%|          | 0/1 [00:00<?, ?it/s]"
          ]
        },
        {
          "output_type": "stream",
          "name": "stdout",
          "text": [
            "Using cached preprocessed reference audio...\n",
            "Using custom reference text...\n",
            "\n",
            "ref_text    Hey guys, what's up? LDShadowLady here. Welcome back to my testing centre, where I'm going to be showing you another mod today. I'm showing you the Animals Plus mod, which features, among others, that turtle that's spinning around in the background like a crazy thing. \n",
            "gen_text 0 change the channel to ABC, set picture mode to cinema\n",
            "\n",
            "\n",
            "Generating audio in 1 batches...\n",
            "Converting audio...\n",
            "Using cached preprocessed reference audio...\n",
            "Using custom reference text...\n",
            "\n",
            "ref_text    Uh, really came out strong and played well. It was good to see, you know, the offense first drive of the game, take it right down the field, 11 plays, get a touchdown. \n",
            "gen_text 0 Switch to AV mode, did you see that new series on Tubi TV? Enable sleep timer for 30 minutes.\n",
            "\n",
            "\n",
            "Generating audio in 1 batches...\n"
          ]
        },
        {
          "output_type": "stream",
          "name": "stderr",
          "text": [
            "\n",
            "  0%|          | 0/1 [00:00<?, ?it/s]\u001b[A\n",
            "\n",
            "  0%|          | 0/1 [00:00<?, ?it/s]\u001b[A\u001b[A\n",
            "\n",
            "\n",
            "  0%|          | 0/1 [00:00<?, ?it/s]\u001b[A\u001b[A\u001b[A\n",
            "100%|██████████| 1/1 [00:06<00:00,  6.63s/it]\u001b[A\n",
            "\n",
            "100%|██████████| 1/1 [00:06<00:00,  6.63s/it]\u001b[A\u001b[A\n",
            "\n",
            "\n",
            "100%|██████████| 1/1 [00:06<00:00,  6.63s/it]\n",
            "100%|██████████| 1/1 [00:06<00:00,  6.64s/it]\n",
            "100%|██████████| 1/1 [00:06<00:00,  6.63s/it]\n",
            "100%|██████████| 1/1 [00:06<00:00,  6.67s/it]\n"
          ]
        },
        {
          "output_type": "stream",
          "name": "stdout",
          "text": [
            "Converting audio...\n",
            "Using cached preprocessed reference audio...\n",
            "Using custom reference text...\n",
            "\n",
            "ref_text    There he is. The wolf that kept our daughter out all night. \n",
            "gen_text 0 Could you go back to the previous episode and change subtitle language to Spanish? I was just wondering if we should order pizza tonight.\n",
            "\n",
            "\n",
            "Generating audio in 1 batches...\n",
            "Converting audio...\n",
            "Converting audio...\n",
            "Using cached preprocessed reference audio...\n",
            "Using custom reference text...\n",
            "\n",
            "ref_text    Charlie was pounding on my door. Bella, are you okay? What's going on? His voice was frightened. \n",
            "gen_text 0 switch to HBO.\n",
            "\n",
            "\n",
            "Generating audio in 1 batches...\n"
          ]
        },
        {
          "output_type": "stream",
          "name": "stderr",
          "text": [
            "\r  0%|          | 0/1 [00:00<?, ?it/s]"
          ]
        },
        {
          "output_type": "stream",
          "name": "stdout",
          "text": [
            "Converting audio...\n",
            "Using cached preprocessed reference audio...\n",
            "Using custom reference text...\n",
            "\n",
            "ref_text    Uh, really came out strong and played well. It was good to see, you know, the offense first drive of the game, take it right down the field, 11 plays, get a touchdown. \n",
            "gen_text 0 Switch to AV mode\n",
            "\n",
            "\n",
            "Generating audio in 1 batches...\n"
          ]
        },
        {
          "output_type": "stream",
          "name": "stderr",
          "text": [
            "\n",
            "  0%|          | 0/1 [00:00<?, ?it/s]\u001b[A\n",
            "\n",
            "  0%|          | 0/1 [00:00<?, ?it/s]\u001b[A\u001b[A"
          ]
        },
        {
          "output_type": "stream",
          "name": "stdout",
          "text": [
            "Using custom reference text...\n",
            "\n",
            "ref_text    Hello everyone. My name is Luis Ahoyas. I'm the executive director of the Oceanic Preservation Society and director of a film called The Cove. And I'm here today with producer Craig Foster and co-director James Reed of My Octopus Teacher. It's my great pleasure to meet you both. Congratulations. \n",
            "gen_text 0 search on Tubi TV for Marriage Story, add this to my watchlist\n",
            "\n",
            "\n",
            "Generating audio in 1 batches...\n"
          ]
        },
        {
          "output_type": "stream",
          "name": "stderr",
          "text": [
            "\n",
            "\n",
            "\n",
            "100%|██████████| 1/1 [00:10<00:00, 10.79s/it]\n",
            "\n",
            "100%|██████████| 1/1 [00:10<00:00, 10.77s/it]\u001b[A\n",
            "\n",
            "\n",
            "100%|██████████| 1/1 [00:10<00:00, 10.78s/it]\n",
            "100%|██████████| 1/1 [00:10<00:00, 10.70s/it]\n",
            "\n",
            "\n",
            "100%|██████████| 1/1 [00:10<00:00, 10.72s/it]\n"
          ]
        },
        {
          "output_type": "stream",
          "name": "stdout",
          "text": [
            "Converting audio...\n",
            "Using cached preprocessed reference audio...\n",
            "Using custom reference text...\n",
            "\n",
            "ref_text    There he is. The wolf that kept our daughter out all night. \n",
            "gen_text 0 go back to the previous episode\n",
            "\n",
            "\n",
            "Generating audio in 1 batches...\n",
            "Converting audio...\n",
            "Using cached preprocessed reference audio...\n",
            "Using custom reference text...\n",
            "\n",
            "ref_text    Uh, really came out strong and played well. It was good to see, you know, the offense first drive of the game, take it right down the field, 11 plays, get a touchdown. \n",
            "gen_text 0 did you see that new series on Tubi TV?\n",
            "\n",
            "\n",
            "Generating audio in 1 batches...\n",
            "Converting audio...\n"
          ]
        },
        {
          "output_type": "stream",
          "name": "stderr",
          "text": [
            "\r  0%|          | 0/1 [00:00<?, ?it/s]"
          ]
        },
        {
          "output_type": "stream",
          "name": "stdout",
          "text": [
            "Converting audio...\n"
          ]
        },
        {
          "output_type": "stream",
          "name": "stderr",
          "text": [
            "\n",
            "  0%|          | 0/1 [00:00<?, ?it/s]\u001b[A"
          ]
        },
        {
          "output_type": "stream",
          "name": "stdout",
          "text": [
            "Using cached preprocessed reference audio...\n",
            "Using custom reference text...\n",
            "\n",
            "ref_text    For more on this subject take a look at the playlist. You can also watch this recommended video. \n",
            "gen_text 0 Change subtitle language to Spanish, can you believe it’s already October? Restart the TV.\n",
            "\n",
            "\n",
            "Generating audio in 1 batches...\n",
            "Using cached preprocessed reference audio...\n",
            "Using custom reference text...\n",
            "\n",
            "ref_text    Yeah. No, because I mean, let's be honest. Paul Ryan's never really standing up to Trump, right? Paul Ryan stands up to Trump the same way you stand up to a waiter at a sh-t restaurant. You're all confident when he's not there, like, this food is horrible! What's that? Oh, no, everything's great. Thank you. Thank you. Yeah, yeah. Could I just have all the salt, please? All the salt. Thank you. \n",
            "gen_text 0 go to channel ABC, add this to my watchlist\n",
            "\n",
            "\n",
            "Generating audio in 1 batches...\n"
          ]
        },
        {
          "output_type": "stream",
          "name": "stderr",
          "text": [
            "\n",
            "\n",
            "  0%|          | 0/1 [00:00<?, ?it/s]\u001b[A\u001b[A\n",
            "\n",
            "\n",
            "  0%|          | 0/1 [00:00<?, ?it/s]\u001b[A\u001b[A\u001b[A\n",
            "100%|██████████| 1/1 [00:07<00:00,  7.68s/it]\u001b[A\n",
            "\n",
            "100%|██████████| 1/1 [00:07<00:00,  7.71s/it]\n",
            "\n",
            "\n",
            "100%|██████████| 1/1 [00:07<00:00,  7.69s/it]\n",
            "100%|██████████| 1/1 [00:07<00:00,  7.68s/it]\n",
            "100%|██████████| 1/1 [00:07<00:00,  7.72s/it]\n",
            "100%|██████████| 1/1 [00:07<00:00,  7.68s/it]\n"
          ]
        },
        {
          "output_type": "stream",
          "name": "stdout",
          "text": [
            "Converting audio...\n",
            "Using cached preprocessed reference audio...\n",
            "Using custom reference text...\n",
            "\n",
            "ref_text    Uh, really came out strong and played well. It was good to see, you know, the offense first drive of the game, take it right down the field, 11 plays, get a touchdown. \n",
            "gen_text 0 Enable sleep timer for 30 minutes.\n",
            "\n",
            "\n",
            "Generating audio in 1 batches...\n",
            "Converting audio...\n",
            "Converting audio...\n",
            "Using cached preprocessed reference audio...\n",
            "Using custom reference text...\n",
            "\n",
            "ref_text    There he is. The wolf that kept our daughter out all night. \n",
            "Converting audio...\n",
            "gen_text 0 change subtitle language to Spanish\n",
            "\n",
            "\n",
            "Generating audio in 1 batches...\n",
            "Using cached preprocessed reference audio...\n",
            "Using custom reference text...\n",
            "\n",
            "ref_text    For more on this subject take a look at the playlist. You can also watch this recommended video. \n",
            "gen_text 0 Change subtitle language to Spanish\n",
            "\n",
            "\n",
            "Generating audio in 1 batches...\n",
            "Using cached preprocessed reference audio...\n",
            "Using custom reference text...\n",
            "\n",
            "ref_text    He may not be the only honest man in town but he's the only one I know. \n",
            "gen_text 0 Change subtitle language to Spanish, and I can't believe you chose pineapple on pizza again!\n",
            "\n",
            "\n",
            "Generating audio in 1 batches...\n"
          ]
        },
        {
          "output_type": "stream",
          "name": "stderr",
          "text": [
            "  0%|          | 0/1 [00:00<?, ?it/s]\n",
            "  0%|          | 0/1 [00:00<?, ?it/s]\u001b[A\n",
            "\n",
            "  0%|          | 0/1 [00:00<?, ?it/s]\u001b[A\u001b[A\n",
            "\n",
            "\n",
            "100%|██████████| 1/1 [00:09<00:00,  9.48s/it]\n",
            "\n",
            "\n",
            "\n",
            "100%|██████████| 1/1 [00:09<00:00,  9.47s/it]\u001b[A\u001b[A\u001b[A\n",
            "\n",
            "100%|██████████| 1/1 [00:09<00:00,  9.47s/it]\u001b[A\u001b[A\n",
            "100%|██████████| 1/1 [00:09<00:00,  9.47s/it]\n",
            "100%|██████████| 1/1 [00:09<00:00,  9.48s/it]\n",
            "100%|██████████| 1/1 [00:09<00:00,  9.49s/it]\n"
          ]
        },
        {
          "output_type": "stream",
          "name": "stdout",
          "text": [
            "Converting audio...\n",
            "Using cached preprocessed reference audio...\n",
            "Using custom reference text...\n",
            "\n",
            "ref_text    The idea of transfer learning is to leverage the knowledge acquired by a model trained with lots of data on another task. \n",
            "gen_text 0 Have you seen the movie 'Lord of the Flies'? I've heard it's really thought-provoking.\n",
            "\n",
            "\n",
            "Generating audio in 1 batches...\n"
          ]
        },
        {
          "output_type": "stream",
          "name": "stderr",
          "text": [
            "\r  0%|          | 0/1 [00:00<?, ?it/s]"
          ]
        },
        {
          "output_type": "stream",
          "name": "stdout",
          "text": [
            "Converting audio...\n",
            "Converting audio...\n",
            "Converting audio...\n",
            "Using cached preprocessed reference audio...\n",
            "Using custom reference text...\n",
            "\n",
            "ref_text    For more on this subject take a look at the playlist. You can also watch this recommended video. \n",
            "gen_text 0 can you believe it’s already October?\n",
            "\n",
            "\n",
            "Generating audio in 1 batches...\n",
            "Using cached preprocessed reference audio...\n",
            "Using custom reference text...\n",
            "\n",
            "ref_text    There he is. The wolf that kept our daughter out all night. \n",
            "gen_text 0 I was just wondering if we should order pizza tonight.\n",
            "\n",
            "\n",
            "Generating audio in 1 batches...\n",
            "Using cached preprocessed reference audio...\n",
            "Using custom reference text...\n",
            "\n",
            "ref_text    He may not be the only honest man in town but he's the only one I know. \n",
            "gen_text 0 Change subtitle language to Spanish\n",
            "\n",
            "\n",
            "Generating audio in 1 batches...\n"
          ]
        },
        {
          "output_type": "stream",
          "name": "stderr",
          "text": [
            "\n",
            "  0%|          | 0/1 [00:00<?, ?it/s]\u001b[A\n",
            "\n",
            "  0%|          | 0/1 [00:00<?, ?it/s]\u001b[A\u001b[A\n",
            "\n",
            "\n",
            "100%|██████████| 1/1 [00:11<00:00, 11.67s/it]\n",
            "\n",
            "\n",
            "100%|██████████| 1/1 [00:11<00:00, 11.62s/it]\u001b[A\u001b[A\n",
            "\n",
            "\n",
            "100%|██████████| 1/1 [00:11<00:00, 11.62s/it]\u001b[A\u001b[A\u001b[A\n",
            "100%|██████████| 1/1 [00:11<00:00, 11.63s/it]\n",
            "100%|██████████| 1/1 [00:11<00:00, 11.64s/it]\n",
            "100%|██████████| 1/1 [00:11<00:00, 11.63s/it]\n"
          ]
        },
        {
          "output_type": "stream",
          "name": "stdout",
          "text": [
            "Converting audio...\n",
            "Using cached preprocessed reference audio...\n",
            "Using custom reference text...\n",
            "\n",
            "ref_text    Hey, it's alright, we put him up on game, it ain't no problem. When I was born in LA, uhm... \n",
            "gen_text 0 Please switch to AV mode, I can't believe how fast this week has flown by.\n",
            "\n",
            "\n",
            "Generating audio in 1 batches...\n",
            "Converting audio...\n",
            "Converting audio...\n",
            "Converting audio...\n",
            "Using cached preprocessed reference audio...\n",
            "Using custom reference text...\n",
            "\n",
            "ref_text    For more on this subject take a look at the playlist. You can also watch this recommended video. \n",
            "gen_text 0 Restart the TV\n",
            "\n",
            "\n",
            "Generating audio in 1 batches...\n",
            "Using cached preprocessed reference audio...\n",
            "Using custom reference text...\n",
            "\n",
            "ref_text    He may not be the only honest man in town but he's the only one I know. \n",
            "gen_text 0 I can't believe you chose pineapple on pizza again!\n",
            "\n",
            "\n",
            "Generating audio in 1 batches...\n"
          ]
        },
        {
          "output_type": "stream",
          "name": "stderr",
          "text": [
            "\r  0%|          | 0/1 [00:00<?, ?it/s]"
          ]
        },
        {
          "output_type": "stream",
          "name": "stdout",
          "text": [
            "Using cached preprocessed reference audio...\n",
            "Using custom reference text...\n",
            "\n",
            "ref_text    Ha! You look bored. Hello. \n",
            "gen_text 0 Did you hear that the new series on Disney Channel is supposed to be really good?\n",
            "\n",
            "\n",
            "Generating audio in 1 batches...\n"
          ]
        },
        {
          "output_type": "stream",
          "name": "stderr",
          "text": [
            "\n",
            "\n",
            "  0%|          | 0/1 [00:00<?, ?it/s]\u001b[A\u001b[A\n",
            "  0%|          | 0/1 [00:00<?, ?it/s]\u001b[A\n",
            "\n",
            "\n",
            "  0%|          | 0/1 [00:00<?, ?it/s]\u001b[A\u001b[A\u001b[A\n",
            "\n",
            "\n",
            "100%|██████████| 1/1 [00:18<00:00, 18.39s/it]\n",
            "\n",
            "100%|██████████| 1/1 [00:18<00:00, 18.42s/it]\n",
            "\n",
            "100%|██████████| 1/1 [00:18<00:00, 18.42s/it]\n",
            "100%|██████████| 1/1 [00:18<00:00, 18.41s/it]\n",
            "100%|██████████| 1/1 [00:18<00:00, 18.41s/it]\n"
          ]
        },
        {
          "output_type": "stream",
          "name": "stdout",
          "text": [
            "Converting audio...\n",
            "Converting audio...\n",
            "Using cached preprocessed reference audio...\n",
            "Using custom reference text...\n",
            "\n",
            "ref_text    Hey, it's alright, we put him up on game, it ain't no problem. When I was born in LA, uhm... \n",
            "gen_text 0 Please switch to AV mode,\n",
            "\n",
            "\n",
            "Generating audio in 1 batches...\n",
            "Using cached preprocessed reference audio...\n",
            "Using custom reference text...\n",
            "\n",
            "ref_text    Said Mr. Jaggers, coolly tracing out the sinews with his forefinger. Very few men have the power of wrist that this woman has. \n",
            "gen_text 0 I was thinking about how much fun it was to watch cartoons on Nickelodeon back in the day.\n",
            "\n",
            "\n",
            "Generating audio in 1 batches...\n",
            "Converting audio...\n",
            "Converting audio...\n"
          ]
        },
        {
          "output_type": "stream",
          "name": "stderr",
          "text": [
            "\r  0%|          | 0/1 [00:00<?, ?it/s]"
          ]
        },
        {
          "output_type": "stream",
          "name": "stdout",
          "text": [
            "Using cached preprocessed reference audio...\n",
            "Using custom reference text...\n",
            "\n",
            "ref_text    The awareness that our time is limited, that our life will eventually end, has driven humans to search for a way out. \n",
            "Using cached preprocessed reference audio...\n",
            "Using custom reference text...\n",
            "\n",
            "ref_text    Miss Sally, I had to see you. I just heard about it. Tell me it ain't true. Mr. Jim ain't dead. \n",
            "gen_text 0 enable sleep timer for 30 minutes, did you hear about the new restaurant that just opened downtown?\n",
            "\n",
            "\n",
            "Generating audio in 1 batches...\n",
            "gen_text 0 Enable night mode, can you believe the movie was that long?\n",
            "\n",
            "\n",
            "Generating audio in 1 batches...\n"
          ]
        },
        {
          "output_type": "stream",
          "name": "stderr",
          "text": [
            "\n",
            "  0%|          | 0/1 [00:00<?, ?it/s]\u001b[A\n",
            "\n",
            "\n",
            "  0%|          | 0/1 [00:00<?, ?it/s]\u001b[A\u001b[A\u001b[A\n",
            "\n",
            "100%|██████████| 1/1 [00:10<00:00, 10.53s/it]\n",
            "\n",
            "\n",
            "100%|██████████| 1/1 [00:10<00:00, 10.51s/it]\u001b[A\u001b[A\n",
            "\n",
            "\n",
            "100%|██████████| 1/1 [00:10<00:00, 10.52s/it]\u001b[A\u001b[A\u001b[A\n",
            "100%|██████████| 1/1 [00:10<00:00, 10.52s/it]\n",
            "100%|██████████| 1/1 [00:10<00:00, 10.52s/it]\n",
            "100%|██████████| 1/1 [00:10<00:00, 10.53s/it]\n"
          ]
        },
        {
          "output_type": "stream",
          "name": "stdout",
          "text": [
            "Converting audio...\n",
            "Using cached preprocessed reference audio...\n",
            "Using custom reference text...\n",
            "\n",
            "ref_text    What matters most to Jay? Uh, his family. He is a big family man. What matters most to me? My family. My safety. Your safety. \n",
            "gen_text 0 turn on subtitles, did you see the game last night?\n",
            "\n",
            "\n",
            "Generating audio in 1 batches...\n",
            "Converting audio...\n",
            "Converting audio...\n",
            "Using cached preprocessed reference audio...\n",
            "Using custom reference text...\n",
            "\n",
            "ref_text    Hey, it's alright, we put him up on game, it ain't no problem. When I was born in LA, uhm... \n",
            "Using cached preprocessed reference audio...\n",
            "Using custom reference text...\n",
            "\n",
            "ref_text    Miss Sally, I had to see you. I just heard about it. Tell me it ain't true. Mr. Jim ain't dead. \n",
            "Converting audio...\n",
            "gen_text 0 Enable night mode\n",
            "\n",
            "\n",
            "Generating audio in 1 batches...\n",
            "gen_text 0 I can't believe how fast this week has flown by.\n",
            "\n",
            "\n",
            "Generating audio in 1 batches...\n"
          ]
        },
        {
          "output_type": "stream",
          "name": "stderr",
          "text": [
            "\r  0%|          | 0/1 [00:00<?, ?it/s]"
          ]
        },
        {
          "output_type": "stream",
          "name": "stdout",
          "text": [
            "Using cached preprocessed reference audio...\n",
            "Using custom reference text...\n",
            "\n",
            "ref_text    The awareness that our time is limited, that our life will eventually end, has driven humans to search for a way out. \n",
            "gen_text 0 enable sleep timer for 30 minutes\n",
            "\n",
            "\n",
            "Generating audio in 1 batches...\n"
          ]
        },
        {
          "output_type": "stream",
          "name": "stderr",
          "text": [
            "\n",
            "  0%|          | 0/1 [00:00<?, ?it/s]\u001b[A\n",
            "\n",
            "  0%|          | 0/1 [00:00<?, ?it/s]\u001b[A\u001b[A\n",
            "\n",
            "\n",
            "  0%|          | 0/1 [00:00<?, ?it/s]\u001b[A\u001b[A\u001b[A\n",
            "100%|██████████| 1/1 [00:07<00:00,  7.58s/it]\n",
            "\n",
            "\n",
            "100%|██████████| 1/1 [00:07<00:00,  7.60s/it]\n",
            "\n",
            "\n",
            "100%|██████████| 1/1 [00:07<00:00,  7.59s/it]\n",
            "100%|██████████| 1/1 [00:07<00:00,  7.60s/it]\n",
            "100%|██████████| 1/1 [00:07<00:00,  7.58s/it]\n"
          ]
        },
        {
          "output_type": "stream",
          "name": "stdout",
          "text": [
            "Converting audio...\n",
            "Using cached preprocessed reference audio...\n",
            "Using custom reference text...\n",
            "\n",
            "ref_text    Miss Sally, I had to see you. I just heard about it. Tell me it ain't true. Mr. Jim ain't dead. \n",
            "gen_text 0 can you believe the movie was that long?\n",
            "\n",
            "\n",
            "Generating audio in 1 batches...\n"
          ]
        },
        {
          "output_type": "stream",
          "name": "stderr",
          "text": [
            "\r  0%|          | 0/1 [00:00<?, ?it/s]"
          ]
        },
        {
          "output_type": "stream",
          "name": "stdout",
          "text": [
            "Converting audio...\n",
            "Converting audio...\n",
            "Converting audio...\n",
            "Using cached preprocessed reference audio...\n",
            "Using custom reference text...\n",
            "\n",
            "ref_text    The awareness that our time is limited, that our life will eventually end, has driven humans to search for a way out. \n",
            "gen_text 0 , did you hear about the new restaurant that just opened downtown?\n",
            "\n",
            "\n",
            "Generating audio in 1 batches...\n",
            "Using cached preprocessed reference audio...\n",
            "Using custom reference text...\n",
            "\n",
            "ref_text    This is the actual last chapter of the book. There are two more chapters that go into a recent and Feyre perspective real quick. \n",
            "Using cached preprocessed reference audio...\n",
            "Using custom reference text...\n",
            "\n",
            "ref_text    What matters most to Jay? Uh, his family. He is a big family man. What matters most to me? My family. My safety. Your safety. \n",
            "gen_text 0 go back to home screen, set the volume to minimum\n",
            "\n",
            "\n",
            "Generating audio in 1 batches...\n",
            "gen_text 0 turn on subtitles\n",
            "\n",
            "\n",
            "Generating audio in 1 batches...\n"
          ]
        },
        {
          "output_type": "stream",
          "name": "stderr",
          "text": [
            "\n",
            "\n",
            "  0%|          | 0/1 [00:00<?, ?it/s]\u001b[A\u001b[A\n",
            "  0%|          | 0/1 [00:00<?, ?it/s]\u001b[A\n",
            "\n",
            "\n",
            "  0%|          | 0/1 [00:00<?, ?it/s]\u001b[A\u001b[A\u001b[A\n",
            "\n",
            "\n",
            "100%|██████████| 1/1 [00:07<00:00,  7.56s/it]\n",
            "100%|██████████| 1/1 [00:07<00:00,  7.61s/it]\n",
            "\n",
            "100%|██████████| 1/1 [00:07<00:00,  7.57s/it]\n",
            "\n",
            "\n",
            "100%|██████████| 1/1 [00:07<00:00,  7.59s/it]\n"
          ]
        },
        {
          "output_type": "stream",
          "name": "stdout",
          "text": [
            "Converting audio...\n",
            "Using cached preprocessed reference audio...\n",
            "Using custom reference text...\n",
            "\n",
            "ref_text    What matters most to Jay? Uh, his family. He is a big family man. What matters most to me? My family. My safety. Your safety. \n",
            "gen_text 0 , did you see the game last night?\n",
            "\n",
            "\n",
            "Generating audio in 1 batches...\n",
            "Converting audio...\n"
          ]
        },
        {
          "output_type": "stream",
          "name": "stderr",
          "text": [
            "\r  0%|          | 0/1 [00:00<?, ?it/s]"
          ]
        },
        {
          "output_type": "stream",
          "name": "stdout",
          "text": [
            "Using cached preprocessed reference audio...\n",
            "Using custom reference text...\n",
            "\n",
            "ref_text    The D.A. is using George Sasbo as a surprise witness to place you at the scene of the crime. Do you know anything about him? I don't think I ever saw him before. \n",
            "Converting audio...\n",
            "gen_text 0 Mute the TV and then we should totally go out for ice cream later!\n",
            "\n",
            "\n",
            "Generating audio in 1 batches...\n",
            "Using cached preprocessed reference audio...\n",
            "Using custom reference text...\n",
            "\n",
            "ref_text    She's recently named the world's least gay-friendly place. While the world's least lesbian-friendly place is Sephora. \n",
            "gen_text 0 change input to Tubi TV, set the volume to maximum\n",
            "\n",
            "\n",
            "Generating audio in 1 batches...\n",
            "Converting audio...\n"
          ]
        },
        {
          "output_type": "stream",
          "name": "stderr",
          "text": [
            "\n"
          ]
        },
        {
          "output_type": "stream",
          "name": "stdout",
          "text": [
            "Using cached preprocessed reference audio...\n",
            "Using custom reference text...\n",
            "\n",
            "ref_text    Oh yea? Why don't you try saying, my daughter?. \n",
            "gen_text 0 Turn off the TV, and can you believe she actually said that? Fast forward 30 seconds,\n",
            "gen_text 1 I honestly think she needs some space.\n",
            "\n",
            "\n",
            "Generating audio in 2 batches...\n"
          ]
        },
        {
          "output_type": "stream",
          "name": "stderr",
          "text": [
            "\r  0%|          | 0/1 [00:00<?, ?it/s]\u001b[A\n",
            "\n",
            "  0%|          | 0/1 [00:00<?, ?it/s]\u001b[A\u001b[A\n",
            "\n",
            "\n",
            "100%|██████████| 1/1 [00:13<00:00, 13.39s/it]\n",
            "\n",
            "\n",
            "\n",
            " 50%|█████     | 1/2 [00:13<00:13, 13.33s/it]\u001b[A\u001b[A\u001b[A\n",
            "100%|██████████| 1/1 [00:13<00:00, 13.36s/it]\n",
            "\n",
            "\n",
            "100%|██████████| 1/1 [00:13<00:00, 13.37s/it]\n"
          ]
        },
        {
          "output_type": "stream",
          "name": "stdout",
          "text": [
            "Converting audio...\n",
            "Using cached preprocessed reference audio...\n",
            "Using custom reference text...\n",
            "\n",
            "ref_text    Keep shining like a light. Remember, loyalty is a lifestyle, not just a word. Beware those who wit you only when you rising to the top of when you winning. \n",
            "gen_text 0 turn on the TV, switch to Tubi TV, set the volume to maximum\n",
            "\n",
            "\n",
            "Generating audio in 1 batches...\n",
            "Converting audio...\n"
          ]
        },
        {
          "output_type": "stream",
          "name": "stderr",
          "text": [
            "\r  0%|          | 0/1 [00:00<?, ?it/s]"
          ]
        },
        {
          "output_type": "stream",
          "name": "stdout",
          "text": [
            "Using cached preprocessed reference audio...\n",
            "Using custom reference text...\n",
            "\n",
            "ref_text    The D.A. is using George Sasbo as a surprise witness to place you at the scene of the crime. Do you know anything about him? I don't think I ever saw him before. \n",
            "gen_text 0 Mute the TV\n",
            "\n",
            "\n",
            "Generating audio in 1 batches...\n",
            "Converting audio...\n",
            "Using cached preprocessed reference audio...\n",
            "Using custom reference text...\n",
            "\n",
            "ref_text    I just like the whole concept of YouTube, like if you work at McDonald's, you work eight hours and you get paid a certain amount of money, but if we put eight hours into our YouTube, depending on what we do, you can make, you can like, sky's the limit on what you can do with it. \n"
          ]
        },
        {
          "output_type": "stream",
          "name": "stderr",
          "text": [
            "\n",
            "  0%|          | 0/1 [00:00<?, ?it/s]\u001b[A"
          ]
        },
        {
          "output_type": "stream",
          "name": "stdout",
          "text": [
            "gen_text 0 Set the volume to minimum, I can't believe they actually won the game last night, change subtitle language to Spanish.\n",
            "\n",
            "\n",
            "Generating audio in 1 batches...\n"
          ]
        },
        {
          "output_type": "stream",
          "name": "stderr",
          "text": [
            "\n",
            "\n",
            "  0%|          | 0/1 [00:00<?, ?it/s]\u001b[A\u001b[A\n",
            "100%|██████████| 1/1 [00:13<00:00, 13.10s/it]\n",
            "100%|██████████| 1/1 [00:13<00:00, 13.07s/it]\n",
            "\n",
            "\n",
            "\n",
            "100%|██████████| 2/2 [00:26<00:00, 13.24s/it]\n",
            "\n",
            "\n",
            "100%|██████████| 1/1 [00:13<00:00, 13.07s/it]\n"
          ]
        },
        {
          "output_type": "stream",
          "name": "stdout",
          "text": [
            "Converting audio...\n",
            "Converting audio...\n",
            "Using cached preprocessed reference audio...\n",
            "Using custom reference text...\n",
            "\n",
            "ref_text    The D.A. is using George Sasbo as a surprise witness to place you at the scene of the crime. Do you know anything about him? I don't think I ever saw him before. \n",
            "gen_text 0 and then we should totally go out for ice cream later!\n",
            "\n",
            "\n",
            "Generating audio in 1 batches...\n",
            "Using cached preprocessed reference audio...\n",
            "Using custom reference text...\n",
            "\n",
            "ref_text    So involved was I in my escapist daydreams, I lost all track of the seconds racing by. Hey, what was the number? The cabbie's question punctured my fantasy, letting all the colors run out of my lovely delusions. Fear. \n",
            "gen_text 0 Did you see the game last night? Go back to home screen and search on Peacock for highlights.\n",
            "\n",
            "\n",
            "Generating audio in 1 batches...\n",
            "Converting audio...\n",
            "Converting audio...\n",
            "Using cached preprocessed reference audio...\n",
            "Using custom reference text...\n",
            "\n",
            "ref_text    I just like the whole concept of YouTube, like if you work at McDonald's, you work eight hours and you get paid a certain amount of money, but if we put eight hours into our YouTube, depending on what we do, you can make, you can like, sky's the limit on what you can do with it. \n",
            "gen_text 0 Set the volume to minimum\n",
            "\n",
            "\n",
            "Generating audio in 1 batches...\n",
            "Using cached preprocessed reference audio...\n",
            "Using custom reference text...\n",
            "\n",
            "ref_text    Oh yea? Why don't you try saying, my daughter?. \n",
            "gen_text 0 Turn off the TV,\n",
            "\n",
            "\n",
            "Generating audio in 1 batches...\n"
          ]
        },
        {
          "output_type": "stream",
          "name": "stderr",
          "text": [
            "\n",
            "  0%|          | 0/1 [00:00<?, ?it/s]\n",
            "\n",
            "\n",
            "  0%|          | 0/1 [00:00<?, ?it/s]\u001b[A\u001b[A\u001b[A\n",
            "\n",
            "  0%|          | 0/1 [00:00<?, ?it/s]\u001b[A\u001b[A\n",
            "\n",
            "\n",
            "100%|██████████| 1/1 [00:10<00:00, 10.68s/it]\n",
            "100%|██████████| 1/1 [00:10<00:00, 10.69s/it]\n",
            "\n",
            "100%|██████████| 1/1 [00:10<00:00, 10.69s/it]\u001b[A\n",
            "\n",
            "100%|██████████| 1/1 [00:10<00:00, 10.70s/it]\n",
            "100%|██████████| 1/1 [00:10<00:00, 10.70s/it]\n"
          ]
        },
        {
          "output_type": "stream",
          "name": "stdout",
          "text": [
            "Converting audio...\n",
            "Using cached preprocessed reference audio...\n",
            "Using custom reference text...\n",
            "\n",
            "ref_text    I just like the whole concept of YouTube, like if you work at McDonald's, you work eight hours and you get paid a certain amount of money, but if we put eight hours into our YouTube, depending on what we do, you can make, you can like, sky's the limit on what you can do with it. \n",
            "gen_text 0 I can't believe they actually won the game last night\n",
            "\n",
            "\n",
            "Generating audio in 1 batches...\n",
            "Converting audio...\n",
            "Using cached preprocessed reference audio...\n",
            "Using custom reference text...\n",
            "\n",
            "ref_text    So involved was I in my escapist daydreams, I lost all track of the seconds racing by. Hey, what was the number? The cabbie's question punctured my fantasy, letting all the colors run out of my lovely delusions. Fear. \n",
            "gen_text 0 Go back to home screen and search on Peacock for highlights\n",
            "\n",
            "\n",
            "Generating audio in 1 batches...\n"
          ]
        },
        {
          "output_type": "stream",
          "name": "stderr",
          "text": [
            "  0%|          | 0/1 [00:00<?, ?it/s]\n",
            "  0%|          | 0/1 [00:00<?, ?it/s]\u001b[A"
          ]
        },
        {
          "output_type": "stream",
          "name": "stdout",
          "text": [
            "Converting audio...\n",
            "Using cached preprocessed reference audio...\n",
            "Using custom reference text...\n",
            "\n",
            "ref_text    Oh yea? Why don't you try saying, my daughter?. \n",
            "gen_text 0 and can you believe she actually said that?\n",
            "\n",
            "\n",
            "Generating audio in 1 batches...\n",
            "Converting audio...\n",
            "Using cached preprocessed reference audio...\n",
            "Using custom reference text...\n",
            "\n",
            "ref_text    I bring further grave news, Your Grace. It concerns your uncle and his company. And his foul responsibility in the passing of your father. \n",
            "gen_text 0 Switch to Netflix, have you seen my keys anywhere?\n",
            "\n",
            "\n",
            "Generating audio in 1 batches...\n"
          ]
        },
        {
          "output_type": "stream",
          "name": "stderr",
          "text": [
            "\n",
            "\n",
            "  0%|          | 0/1 [00:00<?, ?it/s]\u001b[A\u001b[A\n",
            "\n",
            "\n",
            "100%|██████████| 1/1 [00:09<00:00,  9.70s/it]\n",
            "\n",
            "\n",
            "100%|██████████| 1/1 [00:09<00:00,  9.67s/it]\n",
            "\n",
            "100%|██████████| 1/1 [00:09<00:00,  9.70s/it]\n",
            "\n",
            "\n",
            "\n",
            "100%|██████████| 1/1 [00:09<00:00,  9.69s/it]\n"
          ]
        },
        {
          "output_type": "stream",
          "name": "stdout",
          "text": [
            "Converting audio...\n",
            "Using cached preprocessed reference audio...\n",
            "Using custom reference text...\n",
            "\n",
            "ref_text    I just like the whole concept of YouTube, like if you work at McDonald's, you work eight hours and you get paid a certain amount of money, but if we put eight hours into our YouTube, depending on what we do, you can make, you can like, sky's the limit on what you can do with it. \n",
            "gen_text 0 change subtitle language to Spanish\n",
            "\n",
            "\n",
            "Generating audio in 1 batches...\n",
            "Converting audio...\n",
            "Using cached preprocessed reference audio...\n",
            "Using custom reference text...\n",
            "\n",
            "ref_text    Oh yea? Why don't you try saying, my daughter?. \n",
            "gen_text 0 Fast forward 30 seconds,\n",
            "\n",
            "\n",
            "Generating audio in 1 batches...\n",
            "Converting audio...\n"
          ]
        },
        {
          "output_type": "stream",
          "name": "stderr",
          "text": [
            "\r  0%|          | 0/1 [00:00<?, ?it/s]"
          ]
        },
        {
          "output_type": "stream",
          "name": "stdout",
          "text": [
            "Using cached preprocessed reference audio...\n",
            "Using custom reference text...\n",
            "\n",
            "ref_text    So involved was I in my escapist daydreams, I lost all track of the seconds racing by. Hey, what was the number? The cabbie's question punctured my fantasy, letting all the colors run out of my lovely delusions. Fear. \n",
            "gen_text 0 Did you see the game last night?\n",
            "\n",
            "\n",
            "Generating audio in 1 batches...\n"
          ]
        },
        {
          "output_type": "stream",
          "name": "stderr",
          "text": [
            "\n",
            "  0%|          | 0/1 [00:00<?, ?it/s]\u001b[A\n",
            "\n",
            "  0%|          | 0/1 [00:00<?, ?it/s]\u001b[A\u001b[A"
          ]
        },
        {
          "output_type": "stream",
          "name": "stdout",
          "text": [
            "Converting audio...\n",
            "Using cached preprocessed reference audio...\n",
            "Using custom reference text...\n",
            "\n",
            "ref_text    I bring further grave news, Your Grace. It concerns your uncle and his company. And his foul responsibility in the passing of your father. \n",
            "gen_text 0 Switch to Netflix\n",
            "\n",
            "\n",
            "Generating audio in 1 batches...\n"
          ]
        },
        {
          "output_type": "stream",
          "name": "stderr",
          "text": [
            "\n",
            "\n",
            "\n",
            "100%|██████████| 1/1 [00:08<00:00,  8.43s/it]\n",
            "\n",
            "100%|██████████| 1/1 [00:08<00:00,  8.42s/it]\u001b[A\n",
            "\n",
            "\n",
            "100%|██████████| 1/1 [00:08<00:00,  8.40s/it]\u001b[A\u001b[A\u001b[A\n",
            "\n",
            "100%|██████████| 1/1 [00:08<00:00,  8.43s/it]\n",
            "100%|██████████| 1/1 [00:08<00:00,  8.43s/it]\n",
            "100%|██████████| 1/1 [00:08<00:00,  8.41s/it]\n"
          ]
        },
        {
          "output_type": "stream",
          "name": "stdout",
          "text": [
            "Converting audio...\n",
            "Using cached preprocessed reference audio...\n",
            "Using custom reference text...\n",
            "\n",
            "ref_text    Okay, maybe we'll watch a Grombe. Where are you Grombe? Let's see. 21 hours ago, Fortnite memes that make you switch to controller. I gotta see this. \n",
            "gen_text 0 Did you catch the latest episode of The Disney Channel? I heard it was really good!\n",
            "\n",
            "\n",
            "Generating audio in 1 batches...\n"
          ]
        },
        {
          "output_type": "stream",
          "name": "stderr",
          "text": [
            "\r  0%|          | 0/1 [00:00<?, ?it/s]"
          ]
        },
        {
          "output_type": "stream",
          "name": "stdout",
          "text": [
            "Converting audio...\n",
            "Converting audio...\n",
            "Using cached preprocessed reference audio...\n",
            "Using custom reference text...\n",
            "\n",
            "ref_text    Oh yea? Why don't you try saying, my daughter?. \n",
            "gen_text 0 I honestly think she needs some space.\n",
            "\n",
            "\n",
            "Generating audio in 1 batches...\n",
            "Using cached preprocessed reference audio...\n",
            "Using custom reference text...\n",
            "\n",
            "ref_text    I bring further grave news, Your Grace. It concerns your uncle and his company. And his foul responsibility in the passing of your father. \n",
            "gen_text 0 have you seen my keys anywhere?\n",
            "\n",
            "\n",
            "Generating audio in 1 batches...\n",
            "Converting audio...\n"
          ]
        },
        {
          "output_type": "stream",
          "name": "stderr",
          "text": [
            "\n",
            "  0%|          | 0/1 [00:00<?, ?it/s]\u001b[A"
          ]
        },
        {
          "output_type": "stream",
          "name": "stdout",
          "text": [
            "Using cached preprocessed reference audio...\n",
            "Using custom reference text...\n",
            "\n",
            "ref_text    I asked him to read the Declaration of Independence and the Constitution. \n",
            "gen_text 0 I really enjoyed watching the latest episode on HBO with all those plot twists.\n",
            "\n",
            "\n",
            "Generating audio in 1 batches...\n"
          ]
        },
        {
          "output_type": "stream",
          "name": "stderr",
          "text": [
            "\n",
            "\n",
            "  0%|          | 0/1 [00:00<?, ?it/s]\u001b[A\u001b[A\n",
            "\n",
            "\n",
            "  0%|          | 0/1 [00:00<?, ?it/s]\u001b[A\u001b[A\u001b[A\n",
            "100%|██████████| 1/1 [00:17<00:00, 17.14s/it]\n",
            "100%|██████████| 1/1 [00:17<00:00, 17.10s/it]\n",
            "\n",
            "\n",
            "\n",
            "100%|██████████| 1/1 [00:17<00:00, 17.09s/it]\n",
            "\n",
            "\n",
            "100%|██████████| 1/1 [00:17<00:00, 17.10s/it]\n"
          ]
        },
        {
          "output_type": "stream",
          "name": "stdout",
          "text": [
            "Converting audio...\n",
            "Converting audio...\n",
            "Using cached preprocessed reference audio...\n",
            "Using custom reference text...\n",
            "\n",
            "ref_text    So involved was I in my escapist daydreams, I lost all track of the seconds racing by. Hey, what was the number? The cabbie's question punctured my fantasy, letting all the colors run out of my lovely delusions. Fear. \n",
            "Using cached preprocessed reference audio...\n",
            "Using custom reference text...\n",
            "\n",
            "ref_text    There he is. The wolf that kept our daughter out all night. \n",
            "gen_text 0 I really enjoyed watching The Elephant Man; it was so powerful.\n",
            "\n",
            "\n",
            "Generating audio in 1 batches...\n",
            "gen_text 0 go to channel 123\n",
            "\n",
            "\n",
            "Generating audio in 1 batches...\n",
            "Converting audio...\n",
            "Converting audio...\n"
          ]
        },
        {
          "output_type": "stream",
          "name": "stderr",
          "text": [
            "  0%|          | 0/1 [00:00<?, ?it/s]\n",
            "  0%|          | 0/1 [00:00<?, ?it/s]\u001b[A"
          ]
        },
        {
          "output_type": "stream",
          "name": "stdout",
          "text": [
            "Using cached preprocessed reference audio...Using cached preprocessed reference audio...\n",
            "Using custom reference text...\n",
            "\n",
            "ref_text    I like the video introduction. It's a great way to get started on the topic. \n",
            "\n",
            "Using custom reference text...\n",
            "\n",
            "ref_text    Same here my brother. Thank you, man. Appreciate you, bro. Thank you. \n",
            "gen_text 0 I just love how unique the shows on Disney Channel can be.\n",
            "\n",
            "\n",
            "Generating audio in 1 batches...\n",
            "gen_text 0 next channel\n",
            "\n",
            "\n",
            "Generating audio in 1 batches...\n"
          ]
        },
        {
          "output_type": "stream",
          "name": "stderr",
          "text": [
            "\n",
            "\n",
            "  0%|          | 0/1 [00:00<?, ?it/s]\u001b[A\u001b[A\n",
            "\n",
            "\n",
            "  0%|          | 0/1 [00:00<?, ?it/s]\u001b[A\u001b[A\u001b[A\n",
            "\n",
            "100%|██████████| 1/1 [00:13<00:00, 13.13s/it]\u001b[A\u001b[A\n",
            "100%|██████████| 1/1 [00:13<00:00, 13.17s/it]\n",
            "\n",
            "\n",
            "100%|██████████| 1/1 [00:13<00:00, 13.14s/it]\n",
            "100%|██████████| 1/1 [00:13<00:00, 13.13s/it]\n",
            "100%|██████████| 1/1 [00:13<00:00, 13.18s/it]\n",
            "100%|██████████| 1/1 [00:13<00:00, 13.15s/it]\n"
          ]
        },
        {
          "output_type": "stream",
          "name": "stdout",
          "text": [
            "Converting audio...\n",
            "Using cached preprocessed reference audio...\n",
            "Using custom reference text...\n",
            "\n",
            "ref_text    Keep shining like a light. Remember, loyalty is a lifestyle, not just a word. Beware those who wit you only when you rising to the top of when you winning. \n",
            "gen_text 0 Set brightness to 50, I can't believe how fast time flies these days!\n",
            "\n",
            "\n",
            "Generating audio in 1 batches...\n",
            "Converting audio...\n",
            "Converting audio...\n",
            "Using cached preprocessed reference audio...\n",
            "Using custom reference text...\n",
            "\n",
            "ref_text    When Buck earned sixteen hundred dollars in five minutes for John Thornton. \n",
            "gen_text 0 increase the volume\n",
            "\n",
            "\n",
            "Generating audio in 1 batches...\n"
          ]
        },
        {
          "output_type": "stream",
          "name": "stderr",
          "text": [
            "\r  0%|          | 0/1 [00:00<?, ?it/s]"
          ]
        },
        {
          "output_type": "stream",
          "name": "stdout",
          "text": [
            "Using cached preprocessed reference audio...\n",
            "Using custom reference text...\n",
            "\n",
            "ref_text    You know where the hats come from is because of this hair. Right. \n",
            "Converting audio...\n",
            "gen_text 0 turn off the TV\n",
            "\n",
            "\n",
            "Generating audio in 1 batches...\n",
            "Using cached preprocessed reference audio...\n",
            "Using custom reference text...\n",
            "\n",
            "ref_text    Okay guys, I just said that, you know we talked about variables and how they can store. \n",
            "gen_text 0 I can't believe you forgot my birthday, please show me Tubi TV.\n",
            "\n",
            "\n",
            "Generating audio in 1 batches...\n"
          ]
        },
        {
          "output_type": "stream",
          "name": "stderr",
          "text": [
            "\n",
            "  0%|          | 0/1 [00:00<?, ?it/s]\u001b[A\n",
            "\n",
            "\n",
            "  0%|          | 0/1 [00:00<?, ?it/s]\u001b[A\u001b[A\u001b[A\n",
            "\n",
            "  0%|          | 0/1 [00:00<?, ?it/s]\u001b[A\u001b[A\n",
            "100%|██████████| 1/1 [00:06<00:00,  6.57s/it]\n",
            "\n",
            "\n",
            "100%|██████████| 1/1 [00:06<00:00,  6.56s/it]\u001b[A\u001b[A\n",
            "\n",
            "\n",
            "100%|██████████| 1/1 [00:06<00:00,  6.60s/it]\n",
            "100%|██████████| 1/1 [00:06<00:00,  6.58s/it]\n",
            "100%|██████████| 1/1 [00:06<00:00,  6.57s/it]\n"
          ]
        },
        {
          "output_type": "stream",
          "name": "stdout",
          "text": [
            "Converting audio...\n",
            "Using cached preprocessed reference audio...\n",
            "Using custom reference text...\n",
            "\n",
            "ref_text    She's recently named the world's least gay-friendly place. While the world's least lesbian-friendly place is Sephora. \n",
            "gen_text 0 set the volume to maximum, could you believe they actually won the game?\n",
            "\n",
            "\n",
            "Generating audio in 1 batches...\n",
            "Converting audio...\n",
            "Converting audio...\n",
            "Converting audio...\n",
            "Using cached preprocessed reference audio...\n",
            "Using custom reference text...\n",
            "\n",
            "ref_text    Keep shining like a light. Remember, loyalty is a lifestyle, not just a word. Beware those who wit you only when you rising to the top of when you winning. \n"
          ]
        },
        {
          "output_type": "stream",
          "name": "stderr",
          "text": [
            "\r  0%|          | 0/1 [00:00<?, ?it/s]"
          ]
        },
        {
          "output_type": "stream",
          "name": "stdout",
          "text": [
            "Using cached preprocessed reference audio...Using cached preprocessed reference audio...\n",
            "Using custom reference text...\n",
            "\n",
            "ref_text    I asked him to read the Declaration of Independence and the Constitution. \n",
            "\n",
            "Using custom reference text...\n",
            "\n",
            "ref_text    Okay guys, I just said that, you know we talked about variables and how they can store. \n",
            "gen_text 0 set the volume to minimum while I was telling you about my trip to Paris.\n",
            "\n",
            "\n",
            "Generating audio in 1 batches...\n",
            "gen_text 0 Set brightness to 50\n",
            "\n",
            "\n",
            "Generating audio in 1 batches...\n",
            "gen_text 0 I can't believe you forgot my birthday,\n",
            "\n",
            "\n",
            "Generating audio in 1 batches...\n"
          ]
        },
        {
          "output_type": "stream",
          "name": "stderr",
          "text": [
            "\n",
            "  0%|          | 0/1 [00:00<?, ?it/s]\u001b[A\n",
            "\n",
            "  0%|          | 0/1 [00:00<?, ?it/s]\u001b[A\u001b[A\n",
            "\n",
            "\n",
            "  0%|          | 0/1 [00:00<?, ?it/s]\u001b[A\u001b[A\u001b[A\n",
            "\n",
            "100%|██████████| 1/1 [00:13<00:00, 13.91s/it]\n",
            "100%|██████████| 1/1 [00:13<00:00, 13.93s/it]\n",
            "100%|██████████| 1/1 [00:13<00:00, 13.93s/it]\n",
            "\n",
            "\n",
            "\n",
            "100%|██████████| 1/1 [00:13<00:00, 13.92s/it]\n",
            "100%|██████████| 1/1 [00:13<00:00, 13.93s/it]\n"
          ]
        },
        {
          "output_type": "stream",
          "name": "stdout",
          "text": [
            "Converting audio...\n",
            "Using cached preprocessed reference audio...\n",
            "Using custom reference text...\n",
            "\n",
            "ref_text    Keep shining like a light. Remember, loyalty is a lifestyle, not just a word. Beware those who wit you only when you rising to the top of when you winning. \n",
            "gen_text 0 , I can't believe how fast time flies these days!\n",
            "\n",
            "\n",
            "Generating audio in 1 batches...\n",
            "Converting audio...\n",
            "Converting audio...\n",
            "Using cached preprocessed reference audio...\n",
            "Using custom reference text...\n",
            "\n",
            "ref_text    She's recently named the world's least gay-friendly place. While the world's least lesbian-friendly place is Sephora. \n"
          ]
        },
        {
          "output_type": "stream",
          "name": "stderr",
          "text": [
            "\r  0%|          | 0/1 [00:00<?, ?it/s]"
          ]
        },
        {
          "output_type": "stream",
          "name": "stdout",
          "text": [
            "gen_text 0 set the volume to maximum\n",
            "\n",
            "\n",
            "Generating audio in 1 batches...\n",
            "Converting audio...\n",
            "Using cached preprocessed reference audio...\n",
            "Using custom reference text...\n",
            "\n",
            "ref_text    Okay guys, I just said that, you know we talked about variables and how they can store. \n",
            "gen_text 0 please show me Tubi TV.\n",
            "\n",
            "\n",
            "Generating audio in 1 batches...\n",
            "Using cached preprocessed reference audio...\n",
            "Using custom reference text...\n",
            "\n",
            "ref_text    I asked him to read the Declaration of Independence and the Constitution. \n",
            "gen_text 0 set the volume to minimum\n",
            "\n",
            "\n",
            "Generating audio in 1 batches...\n"
          ]
        },
        {
          "output_type": "stream",
          "name": "stderr",
          "text": [
            "\n",
            "\n",
            "  0%|          | 0/1 [00:00<?, ?it/s]\u001b[A\u001b[A\n",
            "  0%|          | 0/1 [00:00<?, ?it/s]\u001b[A\n",
            "\n",
            "\n",
            "  0%|          | 0/1 [00:00<?, ?it/s]\u001b[A\u001b[A\u001b[A\n",
            "100%|██████████| 1/1 [00:10<00:00, 10.04s/it]\n",
            "100%|██████████| 1/1 [00:10<00:00, 10.07s/it]\n",
            "\n",
            "\n",
            "100%|██████████| 1/1 [00:10<00:00, 10.03s/it]\u001b[A\u001b[A\u001b[A\n",
            "\n",
            "100%|██████████| 1/1 [00:10<00:00, 10.04s/it]\n",
            "100%|██████████| 1/1 [00:10<00:00, 10.08s/it]\n",
            "100%|██████████| 1/1 [00:10<00:00, 10.05s/it]\n"
          ]
        },
        {
          "output_type": "stream",
          "name": "stdout",
          "text": [
            "Converting audio...\n",
            "Using cached preprocessed reference audio...\n",
            "Using custom reference text...\n",
            "\n",
            "ref_text    She's recently named the world's least gay-friendly place. While the world's least lesbian-friendly place is Sephora. \n",
            "gen_text 0 , could you believe they actually won the game?\n",
            "\n",
            "\n",
            "Generating audio in 1 batches...\n",
            "Converting audio...\n",
            "Converting audio...\n",
            "Using cached preprocessed reference audio...\n",
            "Using custom reference text...\n",
            "\n",
            "ref_text    Hello everyone. My name is Luis Ahoyas. I'm the executive director of the Oceanic Preservation Society and director of a film called The Cove. And I'm here today with producer Craig Foster and co-director James Reed of My Octopus Teacher. It's my great pleasure to meet you both. Congratulations. \n"
          ]
        },
        {
          "output_type": "stream",
          "name": "stderr",
          "text": [
            "\r  0%|          | 0/1 [00:00<?, ?it/s]"
          ]
        },
        {
          "output_type": "stream",
          "name": "stdout",
          "text": [
            "gen_text 0 add this to my watchlist, change audio language to Spanish\n",
            "\n",
            "\n",
            "Generating audio in 1 batches...\n",
            "Using cached preprocessed reference audio...\n",
            "Using custom reference text...\n",
            "\n",
            "ref_text    I asked him to read the Declaration of Independence and the Constitution. \n",
            "gen_text 0 while I was telling you about my trip to Paris.\n",
            "\n",
            "\n",
            "Generating audio in 1 batches...\n",
            "Converting audio...\n"
          ]
        },
        {
          "output_type": "stream",
          "name": "stderr",
          "text": [
            "\n",
            "\n",
            "  0%|          | 0/1 [00:00<?, ?it/s]"
          ]
        },
        {
          "output_type": "stream",
          "name": "stdout",
          "text": [
            "Using cached preprocessed reference audio...\n",
            "Using custom reference text...\n",
            "\n",
            "ref_text    Looking at you it would be too easy to write songs about you. I need a challenge to bring out my best work. \n"
          ]
        },
        {
          "output_type": "stream",
          "name": "stderr",
          "text": [
            "\u001b[A\u001b[A\n",
            "  0%|          | 0/1 [00:00<?, ?it/s]\u001b[A"
          ]
        },
        {
          "output_type": "stream",
          "name": "stdout",
          "text": [
            "gen_text 0 change input to Tubi TV, resume\n",
            "\n",
            "\n",
            "Generating audio in 1 batches...\n"
          ]
        },
        {
          "output_type": "stream",
          "name": "stderr",
          "text": [
            "\n",
            "\n",
            "\n",
            "  0%|          | 0/1 [00:00<?, ?it/s]\u001b[A\u001b[A\u001b[A\n",
            "\n",
            "\n",
            "100%|██████████| 1/1 [00:12<00:00, 12.60s/it]\n",
            "\n",
            "\n",
            "100%|██████████| 1/1 [00:12<00:00, 12.62s/it]\n",
            "\n",
            "100%|██████████| 1/1 [00:12<00:00, 12.62s/it]\n",
            "100%|██████████| 1/1 [00:12<00:00, 12.64s/it]\n"
          ]
        },
        {
          "output_type": "stream",
          "name": "stdout",
          "text": [
            "Converting audio...\n",
            "Using cached preprocessed reference audio...\n",
            "Using custom reference text...\n",
            "\n",
            "ref_text    So involved was I in my escapist daydreams, I lost all track of the seconds racing by. Hey, what was the number? The cabbie's question punctured my fantasy, letting all the colors run out of my lovely delusions. Fear. \n",
            "gen_text 0 Rewind 30 seconds, and did you see how he managed to win that game? Open Peacock to check it out.\n",
            "\n",
            "\n",
            "Generating audio in 1 batches...\n",
            "Converting audio...\n"
          ]
        },
        {
          "output_type": "stream",
          "name": "stderr",
          "text": [
            "\r  0%|          | 0/1 [00:00<?, ?it/s]"
          ]
        },
        {
          "output_type": "stream",
          "name": "stdout",
          "text": [
            "Using cached preprocessed reference audio...\n",
            "Using custom reference text...\n",
            "\n",
            "ref_text    The D.A. is using George Sasbo as a surprise witness to place you at the scene of the crime. Do you know anything about him? I don't think I ever saw him before. \n",
            "Converting audio...\n",
            "gen_text 0 Change input to Peacock, and did you see the latest episode of that show? Set the volume to minimum before I forget.\n",
            "\n",
            "\n",
            "Generating audio in 1 batches...\n",
            "Using cached preprocessed reference audio...\n",
            "Using custom reference text...\n",
            "\n",
            "ref_text    What matters most to Jay? Uh, his family. He is a big family man. What matters most to me? My family. My safety. Your safety. \n",
            "gen_text 0 mute the TV, turn on subtitles\n",
            "\n",
            "\n",
            "Generating audio in 1 batches...\n"
          ]
        },
        {
          "output_type": "stream",
          "name": "stderr",
          "text": [
            "\n",
            "  0%|          | 0/1 [00:00<?, ?it/s]\u001b[A"
          ]
        },
        {
          "output_type": "stream",
          "name": "stdout",
          "text": [
            "Converting audio...\n",
            "Using cached preprocessed reference audio...\n",
            "Using custom reference text...\n",
            "\n",
            "ref_text    As Drumwell and Startup had each a boat, I resolved to set up mine and to cut them both out. \n",
            "gen_text 0 open settings, mute the TV\n",
            "\n",
            "\n",
            "Generating audio in 1 batches...\n"
          ]
        },
        {
          "output_type": "stream",
          "name": "stderr",
          "text": [
            "\n",
            "\n",
            "  0%|          | 0/1 [00:00<?, ?it/s]\u001b[A\u001b[A\n",
            "\n",
            "\n",
            "100%|██████████| 1/1 [00:14<00:00, 14.67s/it]\n",
            "\n",
            "\n",
            "100%|██████████| 1/1 [00:14<00:00, 14.64s/it]\u001b[A\u001b[A\n",
            "\n",
            "\n",
            "100%|██████████| 1/1 [00:14<00:00, 14.63s/it]\u001b[A\u001b[A\u001b[A\n",
            "100%|██████████| 1/1 [00:14<00:00, 14.64s/it]\n",
            "100%|██████████| 1/1 [00:14<00:00, 14.67s/it]\n",
            "100%|██████████| 1/1 [00:14<00:00, 14.65s/it]\n"
          ]
        },
        {
          "output_type": "stream",
          "name": "stdout",
          "text": [
            "Converting audio...\n",
            "Using cached preprocessed reference audio...\n",
            "Using custom reference text...\n",
            "\n",
            "ref_text    So involved was I in my escapist daydreams, I lost all track of the seconds racing by. Hey, what was the number? The cabbie's question punctured my fantasy, letting all the colors run out of my lovely delusions. Fear. \n",
            "gen_text 0 Rewind 30 seconds, and\n",
            "\n",
            "\n",
            "Generating audio in 1 batches...\n",
            "Converting audio...\n"
          ]
        },
        {
          "output_type": "stream",
          "name": "stderr",
          "text": [
            "\r  0%|          | 0/1 [00:00<?, ?it/s]"
          ]
        },
        {
          "output_type": "stream",
          "name": "stdout",
          "text": [
            "Using cached preprocessed reference audio...\n",
            "Using custom reference text...\n",
            "\n",
            "ref_text    What medicinal plant do you know, Daniel? Coca. Coca. What does it help with?. \n",
            "gen_text 0 Before we start dinner, go back to the previous episode,\n",
            "gen_text 1 and could you also mute the TV?\n",
            "\n",
            "\n",
            "Generating audio in 2 batches...\n",
            "Converting audio...\n",
            "Converting audio...\n"
          ]
        },
        {
          "output_type": "stream",
          "name": "stderr",
          "text": [
            "\n",
            "  0%|          | 0/2 [00:00<?, ?it/s]\u001b[A"
          ]
        },
        {
          "output_type": "stream",
          "name": "stdout",
          "text": [
            "Using cached preprocessed reference audio...\n",
            "Using custom reference text...\n",
            "\n",
            "ref_text    What matters most to Jay? Uh, his family. He is a big family man. What matters most to me? My family. My safety. Your safety. \n",
            "Using cached preprocessed reference audio...\n",
            "Using custom reference text...\n",
            "\n",
            "ref_text    The D.A. is using George Sasbo as a surprise witness to place you at the scene of the crime. Do you know anything about him? I don't think I ever saw him before. \n",
            "gen_text 0 Decrease the volume, and while we're at it, can you remind me what time dinner is tonight?\n",
            "\n",
            "\n",
            "Generating audio in 1 batches...\n",
            "gen_text 0 Change input to Peacock\n",
            "\n",
            "\n",
            "Generating audio in 1 batches...\n"
          ]
        },
        {
          "output_type": "stream",
          "name": "stderr",
          "text": [
            "\n",
            "\n",
            "  0%|          | 0/1 [00:00<?, ?it/s]\u001b[A\u001b[A\n",
            "\n",
            "\n",
            "  0%|          | 0/1 [00:00<?, ?it/s]\u001b[A\u001b[A\u001b[A\n",
            " 50%|█████     | 1/2 [00:17<00:17, 17.73s/it]\u001b[A\n",
            "\n",
            "100%|██████████| 1/1 [00:17<00:00, 17.78s/it]\n",
            "\n",
            "\n",
            "100%|██████████| 1/1 [00:17<00:00, 17.78s/it]\n",
            "100%|██████████| 1/1 [00:17<00:00, 17.72s/it]\n",
            "100%|██████████| 1/1 [00:17<00:00, 17.73s/it]\n"
          ]
        },
        {
          "output_type": "stream",
          "name": "stdout",
          "text": [
            "Converting audio...\n",
            "Using cached preprocessed reference audio...\n",
            "Using custom reference text...\n",
            "\n",
            "ref_text    So involved was I in my escapist daydreams, I lost all track of the seconds racing by. Hey, what was the number? The cabbie's question punctured my fantasy, letting all the colors run out of my lovely delusions. Fear. \n",
            "gen_text 0 did you see how he managed to win that game? Open Peacock to check it out.\n",
            "\n",
            "\n",
            "Generating audio in 1 batches...\n",
            "Converting audio...\n",
            "Converting audio...\n"
          ]
        },
        {
          "output_type": "stream",
          "name": "stderr",
          "text": [
            "\r  0%|          | 0/1 [00:00<?, ?it/s]"
          ]
        },
        {
          "output_type": "stream",
          "name": "stdout",
          "text": [
            "Using cached preprocessed reference audio...\n",
            "Using custom reference text...\n",
            "\n",
            "ref_text    What matters most to Jay? Uh, his family. He is a big family man. What matters most to me? My family. My safety. Your safety. \n",
            "Using cached preprocessed reference audio...\n",
            "Using custom reference text...\n",
            "\n",
            "ref_text    The D.A. is using George Sasbo as a surprise witness to place you at the scene of the crime. Do you know anything about him? I don't think I ever saw him before. \n",
            "gen_text 0 Decrease the volume\n",
            "\n",
            "\n",
            "Generating audio in 1 batches...\n",
            "gen_text 0 did you see the latest episode of that show?\n",
            "\n",
            "\n",
            "Generating audio in 1 batches...\n"
          ]
        },
        {
          "output_type": "stream",
          "name": "stderr",
          "text": [
            "\n",
            "\n",
            "  0%|          | 0/1 [00:00<?, ?it/s]\u001b[A\u001b[A\n",
            "\n",
            "\n",
            "  0%|          | 0/1 [00:00<?, ?it/s]\u001b[A\u001b[A\u001b[A\n",
            "\n",
            "\n",
            "100%|██████████| 1/1 [00:15<00:00, 15.99s/it]\u001b[A\u001b[A\u001b[A\n",
            "100%|██████████| 1/1 [00:15<00:00, 15.99s/it]\n",
            "\n",
            "\n",
            "100%|██████████| 2/2 [00:33<00:00, 16.90s/it]\n",
            "100%|██████████| 1/1 [00:16<00:00, 16.00s/it]\n",
            "100%|██████████| 1/1 [00:16<00:00, 16.04s/it]\n"
          ]
        },
        {
          "output_type": "stream",
          "name": "stdout",
          "text": [
            "Converting audio...\n",
            "Using cached preprocessed reference audio...\n",
            "Using custom reference text...\n",
            "\n",
            "ref_text    What matters most to Jay? Uh, his family. He is a big family man. What matters most to me? My family. My safety. Your safety. \n",
            "gen_text 0 , and while we're at it, can you remind me what time dinner is tonight?\n",
            "\n",
            "\n",
            "Generating audio in 1 batches...\n",
            "Converting audio...\n",
            "Using cached preprocessed reference audio...\n",
            "Using custom reference text...\n",
            "\n",
            "ref_text    The D.A. is using George Sasbo as a surprise witness to place you at the scene of the crime. Do you know anything about him? I don't think I ever saw him before. \n",
            "gen_text 0 Set the volume to minimum before I forget.\n",
            "\n",
            "\n",
            "Generating audio in 1 batches...\n"
          ]
        },
        {
          "output_type": "stream",
          "name": "stderr",
          "text": [
            "\r  0%|          | 0/1 [00:00<?, ?it/s]"
          ]
        },
        {
          "output_type": "stream",
          "name": "stdout",
          "text": [
            "Converting audio...\n",
            "Converting audio...\n",
            "Using cached preprocessed reference audio...\n",
            "Using custom reference text...\n",
            "\n",
            "ref_text    What medicinal plant do you know, Daniel? Coca. Coca. What does it help with?. \n"
          ]
        },
        {
          "output_type": "stream",
          "name": "stderr",
          "text": [
            "\n",
            "  0%|          | 0/1 [00:00<?, ?it/s]\u001b[A"
          ]
        },
        {
          "output_type": "stream",
          "name": "stdout",
          "text": [
            "gen_text 0 go back to the previous episode\n",
            "\n",
            "\n",
            "Generating audio in 1 batches...\n",
            "Using cached preprocessed reference audio...\n",
            "Using custom reference text...\n",
            "\n",
            "ref_text    So, for the last 12 years, uhm, I have been regularly in touch with, uhm, my friends at Birnagar in West Bengal, India, which is Bhaktivinoda Thakur's birthplace. \n",
            "gen_text 0 I heard that the new Disney Channel show has been getting a lot of attention lately.\n",
            "\n",
            "\n",
            "Generating audio in 1 batches...\n"
          ]
        },
        {
          "output_type": "stream",
          "name": "stderr",
          "text": [
            "\n",
            "\n",
            "  0%|          | 0/1 [00:00<?, ?it/s]\u001b[A\u001b[A\n",
            "\n",
            "\n",
            "  0%|          | 0/1 [00:00<?, ?it/s]\u001b[A\u001b[A\u001b[A\n",
            "\n",
            "100%|██████████| 1/1 [00:15<00:00, 15.74s/it]\n",
            "\n",
            "\n",
            "\n",
            "100%|██████████| 1/1 [00:15<00:00, 15.74s/it]\n",
            "100%|██████████| 1/1 [00:15<00:00, 15.79s/it]\n",
            "\n",
            "100%|██████████| 1/1 [00:15<00:00, 15.80s/it]"
          ]
        },
        {
          "output_type": "stream",
          "name": "stdout",
          "text": [
            "Converting audio...\n",
            "Using cached preprocessed reference audio...\n",
            "Using custom reference text...\n",
            "\n",
            "ref_text    What medicinal plant do you know, Daniel? Coca. Coca. What does it help with?. \n",
            "gen_text 0 Before we start dinner,\n",
            "\n",
            "\n",
            "Generating audio in 1 batches...\n",
            "Converting audio...\n",
            "Using cached preprocessed reference audio...\n",
            "Using custom reference text...\n",
            "\n",
            "ref_text    And although my guardians seem to follow rather than originate subjects,. \n",
            "gen_text 0 enable sleep timer for 30 minutes,\n",
            "gen_text 1 did you see the latest episode of the ABC channel?\n",
            "\n",
            "\n",
            "Generating audio in 2 batches...\n"
          ]
        },
        {
          "output_type": "stream",
          "name": "stderr",
          "text": [
            "\n",
            "\r  0%|          | 0/1 [00:00<?, ?it/s]"
          ]
        },
        {
          "output_type": "stream",
          "name": "stdout",
          "text": [
            "Converting audio...\n"
          ]
        },
        {
          "output_type": "stream",
          "name": "stderr",
          "text": [
            "\n",
            "  0%|          | 0/2 [00:00<?, ?it/s]\u001b[A"
          ]
        },
        {
          "output_type": "stream",
          "name": "stdout",
          "text": [
            "Using cached preprocessed reference audio...\n",
            "Using custom reference text...\n",
            "\n",
            "ref_text    He may not be the only honest man in town but he's the only one I know. \n",
            "gen_text 0 Have you ever watched the movie 'Suburra'? It's such an intriguing story.\n",
            "\n",
            "\n",
            "Generating audio in 1 batches...\n",
            "Converting audio...\n"
          ]
        },
        {
          "output_type": "stream",
          "name": "stderr",
          "text": [
            "\n",
            "\n",
            "  0%|          | 0/1 [00:00<?, ?it/s]\u001b[A\u001b[A"
          ]
        },
        {
          "output_type": "stream",
          "name": "stdout",
          "text": [
            "Using cached preprocessed reference audio...\n",
            "Using custom reference text...\n",
            "\n",
            "ref_text    Ha! You look bored. Hello. \n",
            "gen_text 0 I was thinking about watching something fun on Disney Junior later.\n",
            "\n",
            "\n",
            "Generating audio in 1 batches...\n"
          ]
        },
        {
          "output_type": "stream",
          "name": "stderr",
          "text": [
            "\n",
            "\n",
            "\n",
            "  0%|          | 0/1 [00:00<?, ?it/s]\u001b[A\u001b[A\u001b[A\n",
            "\n",
            "\n",
            "100%|██████████| 1/1 [00:25<00:00, 25.69s/it]\u001b[A\u001b[A\u001b[A\n",
            "\n",
            "100%|██████████| 1/1 [00:25<00:00, 25.69s/it]\n",
            "100%|██████████| 1/1 [00:25<00:00, 25.70s/it]\n",
            "\n",
            "100%|██████████| 1/1 [00:25<00:00, 25.75s/it]\n"
          ]
        },
        {
          "output_type": "stream",
          "name": "stdout",
          "text": [
            "Converting audio...\n",
            "Using cached preprocessed reference audio...\n",
            "Using custom reference text...\n",
            "\n",
            "ref_text    Yeah. No, because I mean, let's be honest. Paul Ryan's never really standing up to Trump, right? Paul Ryan stands up to Trump the same way you stand up to a waiter at a sh-t restaurant. You're all confident when he's not there, like, this food is horrible! What's that? Oh, no, everything's great. Thank you. Thank you. Yeah, yeah. Could I just have all the salt, please? All the salt. Thank you. \n",
            "gen_text 0 Can you please mute the TV while I tell you about my day at the park?\n",
            "\n",
            "\n",
            "Generating audio in 1 batches...\n",
            "Converting audio...\n",
            "Converting audio...\n"
          ]
        },
        {
          "output_type": "stream",
          "name": "stderr",
          "text": [
            "\r  0%|          | 0/1 [00:00<?, ?it/s]"
          ]
        },
        {
          "output_type": "stream",
          "name": "stdout",
          "text": [
            "Using cached preprocessed reference audio...\n",
            "Using custom reference text...\n",
            "\n",
            "ref_text    What medicinal plant do you know, Daniel? Coca. Coca. What does it help with?. \n",
            "Using cached preprocessed reference audio...\n",
            "Using custom reference text...\n",
            "\n",
            "ref_text    Then I have to find Mr. Mitchell wherever he is, dead or alive, drunk or sober, and let him know. \n",
            "gen_text 0 and could you also\n",
            "\n",
            "\n",
            "Generating audio in 1 batches...\n",
            "gen_text 0 pause app: Tubi TV\n",
            "\n",
            "\n",
            "Generating audio in 1 batches...\n"
          ]
        },
        {
          "output_type": "stream",
          "name": "stderr",
          "text": [
            "\n",
            "\n",
            "  0%|          | 0/1 [00:00<?, ?it/s]\u001b[A\u001b[A\n",
            "\n",
            "\n",
            "  0%|          | 0/1 [00:00<?, ?it/s]\u001b[A\u001b[A\u001b[A\n",
            "\n",
            "\n",
            "100%|██████████| 1/1 [00:14<00:00, 14.55s/it]\n",
            "\n",
            "100%|██████████| 1/1 [00:14<00:00, 14.60s/it]\n",
            "\n",
            "100%|██████████| 2/2 [00:40<00:00, 20.18s/it]\n",
            "100%|██████████| 1/1 [00:14<00:00, 14.57s/it]\n",
            "100%|██████████| 1/1 [00:14<00:00, 14.60s/it]\n"
          ]
        },
        {
          "output_type": "stream",
          "name": "stdout",
          "text": [
            "Converting audio...\n",
            "Using cached preprocessed reference audio...\n",
            "Using custom reference text...\n",
            "\n",
            "ref_text    Yeah. No, because I mean, let's be honest. Paul Ryan's never really standing up to Trump, right? Paul Ryan stands up to Trump the same way you stand up to a waiter at a sh-t restaurant. You're all confident when he's not there, like, this food is horrible! What's that? Oh, no, everything's great. Thank you. Thank you. Yeah, yeah. Could I just have all the salt, please? All the salt. Thank you. \n",
            "gen_text 0 turn off the TV, I can't believe we forgot to bring snacks!\n",
            "\n",
            "\n",
            "Generating audio in 1 batches...\n",
            "Converting audio...\n",
            "Converting audio...\n",
            "Using cached preprocessed reference audio...\n",
            "Using custom reference text...\n",
            "\n",
            "ref_text    Yeah. No, because I mean, let's be honest. Paul Ryan's never really standing up to Trump, right? Paul Ryan stands up to Trump the same way you stand up to a waiter at a sh-t restaurant. You're all confident when he's not there, like, this food is horrible! What's that? Oh, no, everything's great. Thank you. Thank you. Yeah, yeah. Could I just have all the salt, please? All the salt. Thank you. \n",
            "gen_text 0 Can you please\n",
            "\n",
            "\n",
            "Generating audio in 1 batches...\n",
            "Using cached preprocessed reference audio...\n",
            "Using custom reference text...\n",
            "\n",
            "ref_text    What medicinal plant do you know, Daniel? Coca. Coca. What does it help with?. \n",
            "gen_text 0 mute the TV?\n",
            "\n",
            "\n",
            "Generating audio in 1 batches...\n"
          ]
        },
        {
          "output_type": "stream",
          "name": "stderr",
          "text": [
            "\r  0%|          | 0/1 [00:00<?, ?it/s]"
          ]
        },
        {
          "output_type": "stream",
          "name": "stdout",
          "text": [
            "Converting audio...\n"
          ]
        },
        {
          "output_type": "stream",
          "name": "stderr",
          "text": [
            "\n",
            "  0%|          | 0/1 [00:00<?, ?it/s]"
          ]
        },
        {
          "output_type": "stream",
          "name": "stdout",
          "text": [
            "Using cached preprocessed reference audio...\n",
            "Using custom reference text...\n",
            "\n",
            "ref_text    And although my guardians seem to follow rather than originate subjects,. \n",
            "gen_text 0 enable sleep timer for 30 minutes\n",
            "\n",
            "\n",
            "Generating audio in 1 batches...\n"
          ]
        },
        {
          "output_type": "stream",
          "name": "stderr",
          "text": [
            "\u001b[A\n",
            "\n",
            "  0%|          | 0/1 [00:00<?, ?it/s]\u001b[A\u001b[A\n",
            "\n",
            "\n",
            "100%|██████████| 1/1 [00:12<00:00, 12.84s/it]\n",
            "\n",
            "100%|██████████| 1/1 [00:12<00:00, 12.81s/it]\u001b[A\u001b[A\n",
            "100%|██████████| 1/1 [00:12<00:00, 12.82s/it]\n",
            "\n",
            "\n",
            "\n",
            "100%|██████████| 1/1 [00:12<00:00, 12.82s/it]\n",
            "100%|██████████| 1/1 [00:12<00:00, 12.83s/it]\n",
            "100%|██████████| 1/1 [00:12<00:00, 12.85s/it]\n"
          ]
        },
        {
          "output_type": "stream",
          "name": "stdout",
          "text": [
            "Converting audio...\n",
            "Using cached preprocessed reference audio...\n",
            "Using custom reference text...\n",
            "\n",
            "ref_text    Jefferson and I have been living under such a strain since all this began. I'm afraid I was terribly rude to you. Please forgive me. \n",
            "gen_text 0 I was just thinking about how fun it would be to watch something on Disney Channel later.\n",
            "\n",
            "\n",
            "Generating audio in 1 batches...\n",
            "Converting audio...\n",
            "Converting audio...\n",
            "Converting audio...\n",
            "Using cached preprocessed reference audio...\n",
            "Using custom reference text...\n",
            "\n",
            "ref_text    Yeah. No, because I mean, let's be honest. Paul Ryan's never really standing up to Trump, right? Paul Ryan stands up to Trump the same way you stand up to a waiter at a sh-t restaurant. You're all confident when he's not there, like, this food is horrible! What's that? Oh, no, everything's great. Thank you. Thank you. Yeah, yeah. Could I just have all the salt, please? All the salt. Thank you. \n",
            "gen_text 0 mute the TV\n",
            "\n",
            "\n",
            "Generating audio in 1 batches...\n",
            "Using cached preprocessed reference audio...\n",
            "Using custom reference text...\n",
            "\n",
            "ref_text    Yeah. No, because I mean, let's be honest. Paul Ryan's never really standing up to Trump, right? Paul Ryan stands up to Trump the same way you stand up to a waiter at a sh-t restaurant. You're all confident when he's not there, like, this food is horrible! What's that? Oh, no, everything's great. Thank you. Thank you. Yeah, yeah. Could I just have all the salt, please? All the salt. Thank you. \n",
            "gen_text 0 turn off the TV,\n",
            "\n",
            "\n",
            "Generating audio in 1 batches...\n"
          ]
        },
        {
          "output_type": "stream",
          "name": "stderr",
          "text": [
            "\r  0%|          | 0/1 [00:00<?, ?it/s]"
          ]
        },
        {
          "output_type": "stream",
          "name": "stdout",
          "text": [
            "Using cached preprocessed reference audio...\n",
            "Using custom reference text...\n",
            "\n",
            "ref_text    And although my guardians seem to follow rather than originate subjects,. \n",
            "gen_text 0 did you see the latest episode of the ABC channel?\n",
            "\n",
            "\n",
            "Generating audio in 1 batches...\n"
          ]
        },
        {
          "output_type": "stream",
          "name": "stderr",
          "text": [
            "\n",
            "  0%|          | 0/1 [00:00<?, ?it/s]\u001b[A\n",
            "\n",
            "  0%|          | 0/1 [00:00<?, ?it/s]\u001b[A\u001b[A\n",
            "\n",
            "\n",
            "  0%|          | 0/1 [00:00<?, ?it/s]\u001b[A\u001b[A\u001b[A\n",
            "\n",
            "100%|██████████| 1/1 [00:12<00:00, 12.66s/it]\u001b[A\u001b[A\n",
            "\n",
            "\n",
            "100%|██████████| 1/1 [00:12<00:00, 12.67s/it]\n",
            "100%|██████████| 1/1 [00:12<00:00, 12.66s/it]\n",
            "100%|██████████| 1/1 [00:12<00:00, 12.68s/it]\n",
            "\n",
            "100%|██████████| 1/1 [00:12<00:00, 12.68s/it]\n"
          ]
        },
        {
          "output_type": "stream",
          "name": "stdout",
          "text": [
            "Converting audio...\n",
            "Using cached preprocessed reference audio...\n",
            "Using custom reference text...\n",
            "\n",
            "ref_text    Yeah. No, because I mean, let's be honest. Paul Ryan's never really standing up to Trump, right? Paul Ryan stands up to Trump the same way you stand up to a waiter at a sh-t restaurant. You're all confident when he's not there, like, this food is horrible! What's that? Oh, no, everything's great. Thank you. Thank you. Yeah, yeah. Could I just have all the salt, please? All the salt. Thank you. \n",
            "gen_text 0 I can't believe we forgot to bring snacks!\n",
            "\n",
            "\n",
            "Generating audio in 1 batches...\n",
            "Converting audio...\n",
            "Converting audio...\n",
            "Using cached preprocessed reference audio...\n",
            "Using custom reference text...\n",
            "\n",
            "ref_text    Yeah. No, because I mean, let's be honest. Paul Ryan's never really standing up to Trump, right? Paul Ryan stands up to Trump the same way you stand up to a waiter at a sh-t restaurant. You're all confident when he's not there, like, this food is horrible! What's that? Oh, no, everything's great. Thank you. Thank you. Yeah, yeah. Could I just have all the salt, please? All the salt. Thank you. \n",
            "Converting audio...\n",
            "gen_text 0 while I tell you about my day at the park?\n",
            "\n",
            "\n",
            "Generating audio in 1 batches...\n"
          ]
        },
        {
          "output_type": "stream",
          "name": "stderr",
          "text": [
            "\r  0%|          | 0/1 [00:00<?, ?it/s]"
          ]
        },
        {
          "output_type": "stream",
          "name": "stdout",
          "text": [
            "Using cached preprocessed reference audio...Using cached preprocessed reference audio...\n",
            "Using custom reference text...\n",
            "\n",
            "ref_text    I don't think anyone in his life ever, ever would have thought that he could do this horrific thing. He, despite everything he did to me in our marriage, as far as the way that he ended it,. \n",
            "\n",
            "Using custom reference text...\n",
            "\n",
            "ref_text    Wonderful, Bert. We're gonna pay a psychiatrist $50 an hour. We'll play 20 questions. \n",
            "gen_text 0 Can you scroll down because I think we need to buy more groceries this week?\n",
            "\n",
            "\n",
            "Generating audio in 1 batches...\n"
          ]
        },
        {
          "output_type": "stream",
          "name": "stderr",
          "text": [
            "\n",
            "  0%|          | 0/1 [00:00<?, ?it/s]\u001b[A"
          ]
        },
        {
          "output_type": "stream",
          "name": "stdout",
          "text": [
            "gen_text 0 enable night mode, switch to channel ABC, change the channel\n",
            "\n",
            "\n",
            "Generating audio in 1 batches...\n"
          ]
        },
        {
          "output_type": "stream",
          "name": "stderr",
          "text": [
            "\n",
            "\n",
            "\n",
            "  0%|          | 0/1 [00:00<?, ?it/s]\u001b[A\u001b[A\u001b[A\n",
            "\n",
            "100%|██████████| 1/1 [00:13<00:00, 13.92s/it]\n",
            "\n",
            "\n",
            "100%|██████████| 1/1 [00:13<00:00, 13.87s/it]\u001b[A\u001b[A\n",
            "\n",
            "\n",
            "100%|██████████| 1/1 [00:13<00:00, 13.88s/it]\n",
            "\n",
            "100%|██████████| 1/1 [00:13<00:00, 13.89s/it]\n",
            "100%|██████████| 1/1 [00:13<00:00, 13.91s/it]\n"
          ]
        },
        {
          "output_type": "stream",
          "name": "stdout",
          "text": [
            "Converting audio...\n",
            "Using cached preprocessed reference audio...\n",
            "Using custom reference text...\n",
            "\n",
            "ref_text    So, that will become a movie now and be quite fascinating. \n",
            "gen_text 0 launch Tubi TV, show me recommendations,\n",
            "gen_text 1 turn off subtitles\n",
            "\n",
            "\n",
            "Generating audio in 2 batches...\n"
          ]
        },
        {
          "output_type": "stream",
          "name": "stderr",
          "text": [
            "\r  0%|          | 0/2 [00:00<?, ?it/s]"
          ]
        },
        {
          "output_type": "stream",
          "name": "stdout",
          "text": [
            "Converting audio...Converting audio...\n",
            "\n",
            "Converting audio...\n",
            "Using cached preprocessed reference audio...\n",
            "Using custom reference text...\n",
            "\n",
            "ref_text    And although my guardians seem to follow rather than originate subjects,. \n",
            "gen_text 0 show me recommendations, decrease the volume\n",
            "\n",
            "\n",
            "Generating audio in 1 batches...\n",
            "Using cached preprocessed reference audio...\n",
            "Using custom reference text...\n",
            "\n",
            "ref_text    The fucking, like, port-a-body scene at festivals, I would so much rather not deal with, first of all, like, the line for the girls going into that, like, disgusting place, but like, you do it, you deal with it, right? But I discovered, being at Bonereel this past summer, that the amount I had to fucking go, I was just like, this isn't worth the line. \n",
            "gen_text 0 Can you believe the new season starts next week? Switch to Tubi TV and set the volume to minimum.\n",
            "\n",
            "\n",
            "Generating audio in 1 batches...\n",
            "Using cached preprocessed reference audio...\n",
            "Using custom reference text...\n",
            "\n",
            "ref_text    I don't think anyone in his life ever, ever would have thought that he could do this horrific thing. He, despite everything he did to me in our marriage, as far as the way that he ended it,. \n",
            "gen_text 0 Can you\n",
            "\n",
            "\n",
            "Generating audio in 1 batches...\n"
          ]
        },
        {
          "output_type": "stream",
          "name": "stderr",
          "text": [
            "\n",
            "  0%|          | 0/1 [00:00<?, ?it/s]\u001b[A\n",
            "\n",
            "  0%|          | 0/1 [00:00<?, ?it/s]\u001b[A\u001b[A\n",
            "\n",
            "\n",
            "  0%|          | 0/1 [00:00<?, ?it/s]\u001b[A\u001b[A\u001b[A\n",
            "\n",
            "\n",
            " 50%|█████     | 1/2 [00:12<00:12, 12.50s/it]\n",
            "\n",
            "100%|██████████| 1/1 [00:12<00:00, 12.46s/it]\u001b[A\u001b[A\n",
            "100%|██████████| 1/1 [00:12<00:00, 12.46s/it]\n",
            "100%|██████████| 1/1 [00:12<00:00, 12.46s/it]\n",
            "100%|██████████| 1/1 [00:12<00:00, 12.47s/it]\n"
          ]
        },
        {
          "output_type": "stream",
          "name": "stdout",
          "text": [
            "Converting audio...\n",
            "Using cached preprocessed reference audio...\n",
            "Using custom reference text...\n",
            "\n",
            "ref_text    I don't think anyone in his life ever, ever would have thought that he could do this horrific thing. He, despite everything he did to me in our marriage, as far as the way that he ended it,. \n",
            "gen_text 0 scroll down\n",
            "\n",
            "\n",
            "Generating audio in 1 batches...\n",
            "Converting audio...\n",
            "Converting audio...\n",
            "Using cached preprocessed reference audio...\n",
            "Using custom reference text...\n",
            "\n",
            "ref_text    She gave me to understand on the stairs that it was a blow to dear Mrs. Pocket that dear Mr. Pocket should be under the necessity of receiving gentlemen to read with him. \n",
            "Using cached preprocessed reference audio...\n",
            "Using custom reference text...\n",
            "\n",
            "ref_text    The fucking, like, port-a-body scene at festivals, I would so much rather not deal with, first of all, like, the line for the girls going into that, like, disgusting place, but like, you do it, you deal with it, right? But I discovered, being at Bonereel this past summer, that the amount I had to fucking go, I was just like, this isn't worth the line. \n",
            "gen_text 0 Turn on the TV, did you see the latest episode of that show? Set contrast to high, I really loved the twist at the end!\n",
            "\n",
            "\n",
            "Generating audio in 1 batches...\n",
            "gen_text 0 Switch to Tubi TV\n",
            "\n",
            "\n",
            "Generating audio in 1 batches...\n"
          ]
        },
        {
          "output_type": "stream",
          "name": "stderr",
          "text": [
            "\n",
            "  0%|          | 0/1 [00:00<?, ?it/s]\u001b[A\n",
            "\n",
            "  0%|          | 0/1 [00:00<?, ?it/s]\u001b[A\u001b[A\n",
            "\n",
            "\n",
            "100%|██████████| 2/2 [00:23<00:00, 11.61s/it]\n",
            "\n",
            "\n",
            "100%|██████████| 1/1 [00:10<00:00, 10.65s/it]\u001b[A\u001b[A\n",
            "100%|██████████| 1/1 [00:10<00:00, 10.65s/it]\n",
            "\n",
            "\n",
            "\n",
            "100%|██████████| 1/1 [00:10<00:00, 10.66s/it]\n",
            "100%|██████████| 1/1 [00:10<00:00, 10.65s/it]\n"
          ]
        },
        {
          "output_type": "stream",
          "name": "stdout",
          "text": [
            "Converting audio...\n",
            "Using cached preprocessed reference audio...\n",
            "Using custom reference text...\n",
            "\n",
            "ref_text    What matters most to Jay? Uh, his family. He is a big family man. What matters most to me? My family. My safety. Your safety. \n",
            "Converting audio...\n",
            "gen_text 0 Can you believe they changed the show? Switch to AV mode, then change subtitle language to Spanish.\n",
            "\n",
            "\n",
            "Generating audio in 1 batches...\n",
            "Converting audio...\n",
            "Converting audio...\n",
            "Using cached preprocessed reference audio...\n",
            "Using custom reference text...\n",
            "\n",
            "ref_text    She gave me to understand on the stairs that it was a blow to dear Mrs. Pocket that dear Mr. Pocket should be under the necessity of receiving gentlemen to read with him. \n",
            "gen_text 0 Turn on the TV,\n",
            "\n",
            "\n",
            "Generating audio in 1 batches...\n",
            "Using cached preprocessed reference audio...\n",
            "Using custom reference text...\n",
            "\n",
            "ref_text    The fucking, like, port-a-body scene at festivals, I would so much rather not deal with, first of all, like, the line for the girls going into that, like, disgusting place, but like, you do it, you deal with it, right? But I discovered, being at Bonereel this past summer, that the amount I had to fucking go, I was just like, this isn't worth the line. \n",
            "Using cached preprocessed reference audio...\n",
            "Using custom reference text...\n",
            "\n",
            "ref_text    I don't think anyone in his life ever, ever would have thought that he could do this horrific thing. He, despite everything he did to me in our marriage, as far as the way that he ended it,. \n",
            "gen_text 0 Can you believe the new season starts next week?\n",
            "\n",
            "\n",
            "Generating audio in 1 batches...\n",
            "gen_text 0 because\n",
            "\n",
            "\n",
            "Generating audio in 1 batches...\n"
          ]
        },
        {
          "output_type": "stream",
          "name": "stderr",
          "text": [
            "  0%|          | 0/1 [00:00<?, ?it/s]\n",
            "  0%|          | 0/1 [00:00<?, ?it/s]\u001b[A\n",
            "\n",
            "  0%|          | 0/1 [00:00<?, ?it/s]\u001b[A\u001b[A\n",
            "\n",
            "\n",
            "  0%|          | 0/1 [00:00<?, ?it/s]\u001b[A\u001b[A\u001b[A\n",
            "\n",
            "\n",
            "100%|██████████| 1/1 [00:08<00:00,  8.55s/it]\u001b[A\u001b[A\u001b[A\n",
            "100%|██████████| 1/1 [00:08<00:00,  8.57s/it]\u001b[A\n",
            "\n",
            "100%|██████████| 1/1 [00:08<00:00,  8.58s/it]\n",
            "100%|██████████| 1/1 [00:08<00:00,  8.57s/it]\n",
            "100%|██████████| 1/1 [00:08<00:00,  8.58s/it]\n",
            "100%|██████████| 1/1 [00:08<00:00,  8.57s/it]\n"
          ]
        },
        {
          "output_type": "stream",
          "name": "stdout",
          "text": [
            "Converting audio...\n",
            "Using cached preprocessed reference audio...\n",
            "Using custom reference text...\n",
            "\n",
            "ref_text    The fucking, like, port-a-body scene at festivals, I would so much rather not deal with, first of all, like, the line for the girls going into that, like, disgusting place, but like, you do it, you deal with it, right? But I discovered, being at Bonereel this past summer, that the amount I had to fucking go, I was just like, this isn't worth the line. \n",
            "gen_text 0 and set the volume to minimum.\n",
            "\n",
            "\n",
            "Generating audio in 1 batches...\n",
            "Converting audio...\n",
            "Converting audio...\n",
            "Converting audio...\n",
            "Using cached preprocessed reference audio...\n",
            "Using custom reference text...\n",
            "\n",
            "ref_text    I don't think anyone in his life ever, ever would have thought that he could do this horrific thing. He, despite everything he did to me in our marriage, as far as the way that he ended it,. \n",
            "Using cached preprocessed reference audio...\n",
            "Using custom reference text...\n",
            "\n",
            "ref_text    She gave me to understand on the stairs that it was a blow to dear Mrs. Pocket that dear Mr. Pocket should be under the necessity of receiving gentlemen to read with him. \n",
            "Using cached preprocessed reference audio...\n",
            "Using custom reference text...\n",
            "\n",
            "ref_text    What matters most to Jay? Uh, his family. He is a big family man. What matters most to me? My family. My safety. Your safety. \n",
            "gen_text 0 did you see the latest episode of that show?\n",
            "\n",
            "\n",
            "Generating audio in 1 batches...\n",
            "gen_text 0 Switch to AV mode, then change subtitle language to Spanish.\n",
            "\n",
            "\n",
            "Generating audio in 1 batches...\n",
            "gen_text 0 I think we need to buy more groceries this week?\n",
            "\n",
            "\n",
            "Generating audio in 1 batches...\n"
          ]
        },
        {
          "output_type": "stream",
          "name": "stderr",
          "text": [
            "  0%|          | 0/1 [00:00<?, ?it/s]\n",
            "  0%|          | 0/1 [00:00<?, ?it/s]\u001b[A\n",
            "\n",
            "  0%|          | 0/1 [00:00<?, ?it/s]\u001b[A\u001b[A\n",
            "\n",
            "\n",
            "  0%|          | 0/1 [00:00<?, ?it/s]\u001b[A\u001b[A\u001b[A\n",
            "100%|██████████| 1/1 [00:08<00:00,  8.37s/it]\u001b[A\n",
            "\n",
            "\n",
            "100%|██████████| 1/1 [00:08<00:00,  8.37s/it]\n",
            "\n",
            "\n",
            "100%|██████████| 1/1 [00:08<00:00,  8.38s/it]\n",
            "100%|██████████| 1/1 [00:08<00:00,  8.39s/it]\n",
            "100%|██████████| 1/1 [00:08<00:00,  8.38s/it]\n"
          ]
        },
        {
          "output_type": "stream",
          "name": "stdout",
          "text": [
            "Converting audio...\n",
            "Using cached preprocessed reference audio...\n",
            "Using custom reference text...\n",
            "\n",
            "ref_text    Same here my brother. Thank you, man. Appreciate you, bro. Thank you. \n",
            "gen_text 0 switch to HBO, open Tubi TV, set picture mode to cinema.\n",
            "\n",
            "\n",
            "Generating audio in 1 batches...\n",
            "Converting audio...\n",
            "Converting audio...\n",
            "Converting audio...\n",
            "Using cached preprocessed reference audio...\n",
            "Using custom reference text...\n",
            "\n",
            "ref_text    She gave me to understand on the stairs that it was a blow to dear Mrs. Pocket that dear Mr. Pocket should be under the necessity of receiving gentlemen to read with him. \n",
            "gen_text 0 Set contrast to high,\n",
            "\n",
            "\n",
            "Generating audio in 1 batches...\n",
            "Using cached preprocessed reference audio...\n",
            "Using custom reference text...\n",
            "\n",
            "ref_text    What matters most to Jay? Uh, his family. He is a big family man. What matters most to me? My family. My safety. Your safety. \n"
          ]
        },
        {
          "output_type": "stream",
          "name": "stderr",
          "text": [
            "\r  0%|          | 0/1 [00:00<?, ?it/s]"
          ]
        },
        {
          "output_type": "stream",
          "name": "stdout",
          "text": [
            "gen_text 0 Can you believe they changed the show?\n",
            "\n",
            "\n",
            "Generating audio in 1 batches...\n"
          ]
        },
        {
          "output_type": "stream",
          "name": "stderr",
          "text": [
            "\n",
            "  0%|          | 0/1 [00:00<?, ?it/s]\u001b[A"
          ]
        },
        {
          "output_type": "stream",
          "name": "stdout",
          "text": [
            "Using cached preprocessed reference audio...\n",
            "Using custom reference text...\n",
            "\n",
            "ref_text    So, for the last 12 years, uhm, I have been regularly in touch with, uhm, my friends at Birnagar in West Bengal, India, which is Bhaktivinoda Thakur's birthplace. \n",
            "gen_text 0 I just heard that the new season of The Disney Channel shows is coming out soon.\n",
            "\n",
            "\n",
            "Generating audio in 1 batches...\n"
          ]
        },
        {
          "output_type": "stream",
          "name": "stderr",
          "text": [
            "\n",
            "\n",
            "  0%|          | 0/1 [00:00<?, ?it/s]\u001b[A\u001b[A\n",
            "\n",
            "\n",
            "100%|██████████| 1/1 [00:10<00:00, 10.81s/it]\n",
            "\n",
            "100%|██████████| 1/1 [00:10<00:00, 10.79s/it]\u001b[A\n",
            "\n",
            "100%|██████████| 1/1 [00:10<00:00, 10.80s/it]\n",
            "\n",
            "\n",
            "\n",
            "100%|██████████| 1/1 [00:10<00:00, 10.79s/it]\n",
            "100%|██████████| 1/1 [00:10<00:00, 10.79s/it]\n"
          ]
        },
        {
          "output_type": "stream",
          "name": "stdout",
          "text": [
            "Converting audio...\n",
            "Converting audio...\n",
            "Using cached preprocessed reference audio...\n",
            "Using custom reference text...\n",
            "\n",
            "ref_text    She gave me to understand on the stairs that it was a blow to dear Mrs. Pocket that dear Mr. Pocket should be under the necessity of receiving gentlemen to read with him. \n",
            "Using cached preprocessed reference audio...\n",
            "Using custom reference text...\n",
            "\n",
            "ref_text    Ha! You look bored. Hello. \n",
            "gen_text 0 I really loved the twist at the end!\n",
            "\n",
            "\n",
            "Generating audio in 1 batches...\n",
            "gen_text 0 Switch to AV mode while I just wanted to know if you saw that new movie last night,\n",
            "gen_text 1 and turn on subtitles for this scene.\n",
            "\n",
            "\n",
            "Generating audio in 2 batches...\n"
          ]
        },
        {
          "output_type": "stream",
          "name": "stderr",
          "text": [
            "  0%|          | 0/1 [00:00<?, ?it/s]\n",
            "  0%|          | 0/2 [00:00<?, ?it/s]\u001b[A"
          ]
        },
        {
          "output_type": "stream",
          "name": "stdout",
          "text": [
            "Converting audio...\n",
            "Using cached preprocessed reference audio...\n",
            "Using custom reference text...\n",
            "\n",
            "ref_text    Welcome to our broadcast from the beginning on Elizabeth Fried in Little Italy. Martin Scorsese wanted to make movies. He started before high school by drawing his stories scene by scene. Ten years after making films at NYU, he had Mean Streets, Alice Doesn't Lear Free Anymore, and Taxi Driver on his list of directing credits. \n",
            "Converting audio...\n",
            "gen_text 0 Did you see that new movie, 'Cruising'? I heard it was really interesting.\n",
            "\n",
            "\n",
            "Generating audio in 1 batches...\n",
            "Using cached preprocessed reference audio...\n",
            "Using custom reference text...\n",
            "\n",
            "ref_text    You see like all these mailings of offering, you know. \n",
            "gen_text 0 rate this show 5 stars\n",
            "\n",
            "\n",
            "Generating audio in 1 batches...\n"
          ]
        },
        {
          "output_type": "stream",
          "name": "stderr",
          "text": [
            "\n",
            "\n",
            "  0%|          | 0/1 [00:00<?, ?it/s]\u001b[A\u001b[A\n",
            "\n",
            "\n",
            "100%|██████████| 1/1 [00:19<00:00, 19.20s/it]\n",
            "\n",
            " 50%|█████     | 1/2 [00:19<00:19, 19.20s/it]\u001b[A\n",
            "\n",
            "100%|██████████| 1/1 [00:19<00:00, 19.16s/it]\u001b[A\u001b[A\n",
            "\n",
            "\n",
            "100%|██████████| 1/1 [00:19<00:00, 19.17s/it]\n",
            "100%|██████████| 1/1 [00:19<00:00, 19.17s/it]\n"
          ]
        },
        {
          "output_type": "stream",
          "name": "stdout",
          "text": [
            "Converting audio...\n",
            "Using cached preprocessed reference audio...\n",
            "Using custom reference text...\n",
            "\n",
            "ref_text    Miss Sally, I had to see you. I just heard about it. Tell me it ain't true. Mr. Jim ain't dead. \n",
            "gen_text 0 I was thinking about watching something on Tubi TV later.\n",
            "\n",
            "\n",
            "Generating audio in 1 batches...\n",
            "Converting audio...\n",
            "Using cached preprocessed reference audio...\n",
            "Using custom reference text...\n",
            "\n",
            "ref_text    That economic globalisation has progressed with tremendous speed, but politics and the media have remained primary national. \n",
            "gen_text 0 I can't believe she said that about her favorite show, change subtitle language to Spanish.\n",
            "\n",
            "\n",
            "Generating audio in 1 batches...\n"
          ]
        },
        {
          "output_type": "stream",
          "name": "stderr",
          "text": [
            "\r  0%|          | 0/1 [00:00<?, ?it/s]"
          ]
        },
        {
          "output_type": "stream",
          "name": "stdout",
          "text": [
            "Converting audio...\n"
          ]
        },
        {
          "output_type": "stream",
          "name": "stderr",
          "text": [
            "\n",
            "\n",
            "  0%|          | 0/1 [00:00<?, ?it/s]\u001b[A\u001b[A"
          ]
        },
        {
          "output_type": "stream",
          "name": "stdout",
          "text": [
            "Using cached preprocessed reference audio...\n",
            "Using custom reference text...\n",
            "\n",
            "ref_text    When you say Colburn, what do you say?. \n",
            "gen_text 0 I can't believe he said that during dinner, switch to Tubi TV.\n",
            "\n",
            "\n",
            "Generating audio in 1 batches...\n"
          ]
        },
        {
          "output_type": "stream",
          "name": "stderr",
          "text": [
            "\n",
            "\n",
            "\n",
            "  0%|          | 0/1 [00:00<?, ?it/s]\u001b[A\u001b[A\u001b[A\n",
            "\n",
            "100%|██████████| 1/1 [00:15<00:00, 15.11s/it]\n",
            "100%|██████████| 1/1 [00:15<00:00, 15.13s/it]\n",
            "\n",
            "100%|██████████| 2/2 [00:34<00:00, 16.83s/it]\u001b[A\n",
            "\n",
            "\n",
            "100%|██████████| 2/2 [00:34<00:00, 17.19s/it]\n",
            "100%|██████████| 1/1 [00:15<00:00, 15.11s/it]\n"
          ]
        },
        {
          "output_type": "stream",
          "name": "stdout",
          "text": [
            "Converting audio...\n",
            "Using cached preprocessed reference audio...\n",
            "Using custom reference text...\n",
            "\n",
            "ref_text    There he is. The wolf that kept our daughter out all night. \n",
            "gen_text 0 set volume to 15\n",
            "\n",
            "\n",
            "Generating audio in 1 batches...\n",
            "Converting audio...\n",
            "Converting audio...\n",
            "Using cached preprocessed reference audio...\n",
            "Using custom reference text...\n",
            "\n",
            "ref_text    When you say Colburn, what do you say?. \n",
            "gen_text 0 I can't believe he said that during dinner,\n",
            "\n",
            "\n",
            "Generating audio in 1 batches...\n",
            "Using cached preprocessed reference audio...\n",
            "Using custom reference text...\n",
            "\n",
            "ref_text    That economic globalisation has progressed with tremendous speed, but politics and the media have remained primary national. \n",
            "gen_text 0 I can't believe she said that about her favorite show,\n",
            "\n",
            "\n",
            "Generating audio in 1 batches...\n"
          ]
        },
        {
          "output_type": "stream",
          "name": "stderr",
          "text": [
            "\r  0%|          | 0/1 [00:00<?, ?it/s]"
          ]
        },
        {
          "output_type": "stream",
          "name": "stdout",
          "text": [
            "Converting audio...\n"
          ]
        },
        {
          "output_type": "stream",
          "name": "stderr",
          "text": [
            "\n",
            "  0%|          | 0/1 [00:00<?, ?it/s]"
          ]
        },
        {
          "output_type": "stream",
          "name": "stdout",
          "text": [
            "Using cached preprocessed reference audio...\n",
            "Using custom reference text...\n",
            "\n",
            "ref_text    Ha! You look bored. Hello. \n"
          ]
        },
        {
          "output_type": "stream",
          "name": "stderr",
          "text": [
            "\u001b[A\n",
            "\n",
            "  0%|          | 0/1 [00:00<?, ?it/s]\u001b[A\u001b[A"
          ]
        },
        {
          "output_type": "stream",
          "name": "stdout",
          "text": [
            "gen_text 0 Switch to AV mode\n",
            "\n",
            "\n",
            "Generating audio in 1 batches...\n"
          ]
        },
        {
          "output_type": "stream",
          "name": "stderr",
          "text": [
            "\n",
            "\n",
            "\n",
            "  0%|          | 0/1 [00:00<?, ?it/s]\u001b[A\u001b[A\u001b[A\n",
            "\n",
            "100%|██████████| 1/1 [00:11<00:00, 11.45s/it]\u001b[A\u001b[A\n",
            "100%|██████████| 1/1 [00:11<00:00, 11.48s/it]\n",
            "\n",
            "\n",
            "100%|██████████| 1/1 [00:11<00:00, 11.46s/it]\n",
            "100%|██████████| 1/1 [00:11<00:00, 11.49s/it]\n",
            "100%|██████████| 1/1 [00:11<00:00, 11.47s/it]\n",
            "100%|██████████| 1/1 [00:11<00:00, 11.46s/it]\n"
          ]
        },
        {
          "output_type": "stream",
          "name": "stdout",
          "text": [
            "Converting audio...\n",
            "Using cached preprocessed reference audio...\n",
            "Using custom reference text...\n",
            "\n",
            "ref_text    When you say Colburn, what do you say?. \n",
            "gen_text 0 switch to Tubi TV.\n",
            "\n",
            "\n",
            "Generating audio in 1 batches...\n",
            "Converting audio...\n",
            "Converting audio...\n"
          ]
        },
        {
          "output_type": "stream",
          "name": "stderr",
          "text": [
            "\r  0%|          | 0/1 [00:00<?, ?it/s]"
          ]
        },
        {
          "output_type": "stream",
          "name": "stdout",
          "text": [
            "Using cached preprocessed reference audio...\n",
            "Using custom reference text...\n",
            "\n",
            "ref_text    That economic globalisation has progressed with tremendous speed, but politics and the media have remained primary national. \n",
            "gen_text 0 change subtitle language to Spanish.\n",
            "\n",
            "\n",
            "Generating audio in 1 batches...\n",
            "Using cached preprocessed reference audio...\n",
            "Using custom reference text...\n",
            "\n",
            "ref_text    Ha! You look bored. Hello. \n",
            "gen_text 0 while I just wanted to know if you saw that new movie last night\n",
            "\n",
            "\n",
            "Generating audio in 1 batches...\n",
            "Converting audio...\n"
          ]
        },
        {
          "output_type": "stream",
          "name": "stderr",
          "text": [
            "\n",
            "  0%|          | 0/1 [00:00<?, ?it/s]\u001b[A"
          ]
        },
        {
          "output_type": "stream",
          "name": "stdout",
          "text": [
            "Using cached preprocessed reference audio...\n",
            "Using custom reference text...\n",
            "\n",
            "ref_text    The medicine that they are proposing for the disease actually is even killing the patient more. \n",
            "gen_text 0 change the channel, can you believe how quickly time flies? It's already October!\n",
            "\n",
            "\n",
            "Generating audio in 1 batches...\n"
          ]
        },
        {
          "output_type": "stream",
          "name": "stderr",
          "text": [
            "\n",
            "\n",
            "  0%|          | 0/1 [00:00<?, ?it/s]\u001b[A\u001b[A\n",
            "\n",
            "\n",
            "  0%|          | 0/1 [00:00<?, ?it/s]\u001b[A\u001b[A\u001b[A\n",
            "\n",
            "100%|██████████| 1/1 [00:16<00:00, 16.27s/it]\n",
            "\n",
            "100%|██████████| 1/1 [00:16<00:00, 16.28s/it]\u001b[A\n",
            "\n",
            "\n",
            "100%|██████████| 1/1 [00:16<00:00, 16.31s/it]\n",
            "100%|██████████| 1/1 [00:16<00:00, 16.28s/it]\n",
            "100%|██████████| 1/1 [00:16<00:00, 16.27s/it]\n"
          ]
        },
        {
          "output_type": "stream",
          "name": "stdout",
          "text": [
            "Converting audio...\n",
            "Converting audio...\n",
            "Using cached preprocessed reference audio...\n",
            "Using custom reference text...\n",
            "\n",
            "ref_text    Ha! You look bored. Hello. \n",
            "gen_text 0 turn on subtitles\n",
            "\n",
            "\n",
            "Generating audio in 1 batches...\n",
            "Using cached preprocessed reference audio...\n",
            "Using custom reference text...\n",
            "\n",
            "ref_text    He led me back to the room that he'd pointed out as Carlisle's office. He paused outside the door for an instant. Come in, Carlisle's voice invited. \n",
            "gen_text 0 open settings, enable game mode, set the volume to maximum\n",
            "\n",
            "\n",
            "Generating audio in 1 batches...\n",
            "Converting audio...\n",
            "Converting audio...\n",
            "Using cached preprocessed reference audio...\n",
            "Using custom reference text...\n",
            "\n",
            "ref_text    Is it a problem that I don't understand most of what you're trying to explain? You don't? I don't. \n",
            "Using cached preprocessed reference audio...\n",
            "Using custom reference text...\n",
            "\n",
            "ref_text    The medicine that they are proposing for the disease actually is even killing the patient more. \n",
            "gen_text 0 change the channel,\n",
            "\n",
            "\n",
            "Generating audio in 1 batches...\n"
          ]
        },
        {
          "output_type": "stream",
          "name": "stderr",
          "text": [
            "\r  0%|          | 0/1 [00:00<?, ?it/s]"
          ]
        },
        {
          "output_type": "stream",
          "name": "stdout",
          "text": [
            "gen_text 0 turn on the TV, show me ABC, set volume to 15\n",
            "\n",
            "\n",
            "Generating audio in 1 batches...\n"
          ]
        },
        {
          "output_type": "stream",
          "name": "stderr",
          "text": [
            "\n",
            "  0%|          | 0/1 [00:00<?, ?it/s]\u001b[A\n",
            "\n",
            "  0%|          | 0/1 [00:00<?, ?it/s]\u001b[A\u001b[A\n",
            "\n",
            "\n",
            "  0%|          | 0/1 [00:00<?, ?it/s]\u001b[A\u001b[A\u001b[A\n",
            "100%|██████████| 1/1 [00:11<00:00, 11.39s/it]\u001b[A\n",
            "\n",
            "\n",
            "100%|██████████| 1/1 [00:11<00:00, 11.38s/it]\u001b[A\u001b[A\u001b[A\n",
            "\n",
            "100%|██████████| 1/1 [00:11<00:00, 11.39s/it]\n",
            "100%|██████████| 1/1 [00:11<00:00, 11.39s/it]\n",
            "100%|██████████| 1/1 [00:11<00:00, 11.41s/it]\n",
            "100%|██████████| 1/1 [00:11<00:00, 11.40s/it]\n"
          ]
        },
        {
          "output_type": "stream",
          "name": "stdout",
          "text": [
            "Converting audio...\n",
            "Converting audio...\n",
            "Using cached preprocessed reference audio...\n",
            "Using custom reference text...\n",
            "\n",
            "ref_text    The medicine that they are proposing for the disease actually is even killing the patient more. \n",
            "gen_text 0 can you believe how quickly time flies? It's already October!\n",
            "\n",
            "\n",
            "Generating audio in 1 batches...\n",
            "Using cached preprocessed reference audio...\n",
            "Using custom reference text...\n",
            "\n",
            "ref_text    I asked him to read the Declaration of Independence and the Constitution. \n",
            "gen_text 0 Change audio language to Spanish,\n",
            "gen_text 1 I really enjoyed that restaurant we went to last week;\n",
            "gen_text 2 turn off subtitles.\n",
            "\n",
            "\n",
            "Generating audio in 3 batches...\n",
            "Converting audio...\n",
            "Converting audio...\n",
            "Using cached preprocessed reference audio...\n",
            "Using custom reference text...\n",
            "\n",
            "ref_text    I'd had no doubt that he'd be staying with me while I spent a few interim hours in the real world. And then I saw the black car, a weathered Ford parked in Charlie's driveway. \n",
            "gen_text 0 mute the TV, enable game mode, have you seen the latest episode of that show?\n",
            "\n",
            "\n",
            "Generating audio in 1 batches...\n",
            "Using cached preprocessed reference audio...\n",
            "Using custom reference text...\n",
            "\n",
            "ref_text    Ha! You look bored. Hello. \n",
            "gen_text 0 for this scene\n",
            "\n",
            "\n",
            "Generating audio in 1 batches...\n"
          ]
        },
        {
          "output_type": "stream",
          "name": "stderr",
          "text": [
            "  0%|          | 0/3 [00:00<?, ?it/s]\n",
            "  0%|          | 0/1 [00:00<?, ?it/s]\u001b[A\n",
            "\n",
            "  0%|          | 0/1 [00:00<?, ?it/s]\u001b[A\u001b[A\n",
            "\n",
            "\n",
            " 33%|███▎      | 1/3 [00:11<00:23, 11.81s/it]\n",
            "\n",
            "\n",
            "100%|██████████| 1/1 [00:11<00:00, 11.80s/it]\u001b[A\u001b[A\u001b[A\n",
            "\n",
            "100%|██████████| 1/1 [00:11<00:00, 11.81s/it]\n",
            "\n",
            "100%|██████████| 1/1 [00:11<00:00, 11.81s/it]\n",
            "100%|██████████| 1/1 [00:11<00:00, 11.82s/it]\n"
          ]
        },
        {
          "output_type": "stream",
          "name": "stdout",
          "text": [
            "Converting audio...\n",
            "Using cached preprocessed reference audio...\n",
            "Using custom reference text...\n",
            "\n",
            "ref_text    I don't think anyone in his life ever, ever would have thought that he could do this horrific thing. He, despite everything he did to me in our marriage, as far as the way that he ended it,. \n",
            "gen_text 0 Have you seen anything interesting on Disney Channel lately?\n",
            "\n",
            "\n",
            "Generating audio in 1 batches...\n",
            "Converting audio...\n",
            "Converting audio...\n",
            "Using cached preprocessed reference audio...\n",
            "Using custom reference text...\n",
            "\n",
            "ref_text    I'd had no doubt that he'd be staying with me while I spent a few interim hours in the real world. And then I saw the black car, a weathered Ford parked in Charlie's driveway. \n",
            "gen_text 0 mute the TV\n",
            "\n",
            "\n",
            "Generating audio in 1 batches...\n"
          ]
        },
        {
          "output_type": "stream",
          "name": "stderr",
          "text": [
            "\n",
            "  0%|          | 0/1 [00:00<?, ?it/s]\u001b[A"
          ]
        },
        {
          "output_type": "stream",
          "name": "stdout",
          "text": [
            "Using cached preprocessed reference audio...\n",
            "Using custom reference text...\n",
            "\n",
            "ref_text    Jefferson and I have been living under such a strain since all this began. I'm afraid I was terribly rude to you. Please forgive me. \n",
            "gen_text 0 turn off the TV, switch to AV mode, set volume to 10\n",
            "\n",
            "\n",
            "Generating audio in 1 batches...\n"
          ]
        },
        {
          "output_type": "stream",
          "name": "stderr",
          "text": [
            "\n",
            "\n",
            "  0%|          | 0/1 [00:00<?, ?it/s]\u001b[A\u001b[A\n",
            "\n",
            "\n",
            "  0%|          | 0/1 [00:00<?, ?it/s]\u001b[A\u001b[A\u001b[A\n",
            "100%|██████████| 1/1 [00:10<00:00, 10.36s/it]\n",
            "\n",
            "\n",
            "\n",
            "100%|██████████| 1/1 [00:10<00:00, 10.35s/it]\n",
            " 67%|██████▋   | 2/3 [00:22<00:10, 11.00s/it]\n",
            "\n",
            "100%|██████████| 1/1 [00:10<00:00, 10.37s/it]\n"
          ]
        },
        {
          "output_type": "stream",
          "name": "stdout",
          "text": [
            "Converting audio...\n",
            "Converting audio...\n",
            "Using cached preprocessed reference audio...\n",
            "Using custom reference text...\n",
            "\n",
            "ref_text    The awareness that our time is limited, that our life will eventually end, has driven humans to search for a way out. \n",
            "gen_text 0 Next channel, did you see that new restaurant downtown? Restart the TV.\n",
            "\n",
            "\n",
            "Generating audio in 1 batches...\n",
            "Using cached preprocessed reference audio...\n",
            "Using custom reference text...\n",
            "\n",
            "ref_text    I like the video introduction. It's a great way to get started on the topic. \n",
            "gen_text 0 open settings, did you remember to invite Sarah to the party?\n",
            "\n",
            "\n",
            "Generating audio in 1 batches...\n",
            "Converting audio...\n",
            "Using cached preprocessed reference audio...\n",
            "Using custom reference text...\n",
            "\n",
            "ref_text    I'd had no doubt that he'd be staying with me while I spent a few interim hours in the real world. And then I saw the black car, a weathered Ford parked in Charlie's driveway. \n",
            "gen_text 0 enable game mode\n",
            "\n",
            "\n",
            "Generating audio in 1 batches...\n"
          ]
        },
        {
          "output_type": "stream",
          "name": "stderr",
          "text": [
            "\n",
            "  0%|          | 0/1 [00:00<?, ?it/s]\u001b[A\n",
            "\n",
            "\n",
            "  0%|          | 0/1 [00:00<?, ?it/s]\u001b[A\u001b[A\u001b[A\n",
            "\n",
            "100%|██████████| 3/3 [00:36<00:00, 12.16s/it]\n",
            "\n",
            "\n",
            "\n",
            "100%|██████████| 1/1 [00:14<00:00, 14.17s/it]\u001b[A\u001b[A\u001b[A\n",
            "\n",
            "100%|██████████| 1/1 [00:14<00:00, 14.17s/it]\u001b[A\u001b[A\n",
            "100%|██████████| 1/1 [00:14<00:00, 14.18s/it]\n",
            "100%|██████████| 1/1 [00:14<00:00, 14.18s/it]\n",
            "100%|██████████| 1/1 [00:14<00:00, 14.19s/it]\n"
          ]
        },
        {
          "output_type": "stream",
          "name": "stdout",
          "text": [
            "Converting audio...\n",
            "Using cached preprocessed reference audio...\n",
            "Using custom reference text...\n",
            "\n",
            "ref_text    I'd had no doubt that he'd be staying with me while I spent a few interim hours in the real world. And then I saw the black car, a weathered Ford parked in Charlie's driveway. \n",
            "gen_text 0 have you seen the latest episode of that show?\n",
            "\n",
            "\n",
            "Generating audio in 1 batches...\n",
            "Converting audio...\n",
            "Converting audio...\n",
            "Converting audio...\n",
            "Using cached preprocessed reference audio...\n",
            "Using custom reference text...\n",
            "\n",
            "ref_text    The awareness that our time is limited, that our life will eventually end, has driven humans to search for a way out. \n",
            "gen_text 0 Next channel\n",
            "\n",
            "\n",
            "Generating audio in 1 batches...\n",
            "Using cached preprocessed reference audio...\n",
            "Using custom reference text...\n",
            "\n",
            "ref_text    I like the video introduction. It's a great way to get started on the topic. \n",
            "Using cached preprocessed reference audio...\n",
            "Using custom reference text...\n",
            "\n",
            "ref_text    I asked him to read the Declaration of Independence and the Constitution. \n",
            "gen_text 0 Change audio language to Spanish\n",
            "\n",
            "\n",
            "Generating audio in 1 batches...\n"
          ]
        },
        {
          "output_type": "stream",
          "name": "stderr",
          "text": [
            "\r  0%|          | 0/1 [00:00<?, ?it/s]"
          ]
        },
        {
          "output_type": "stream",
          "name": "stdout",
          "text": [
            "gen_text 0 open settings\n",
            "\n",
            "\n",
            "Generating audio in 1 batches...\n"
          ]
        },
        {
          "output_type": "stream",
          "name": "stderr",
          "text": [
            "\n",
            "  0%|          | 0/1 [00:00<?, ?it/s]\u001b[A\n",
            "\n",
            "  0%|          | 0/1 [00:00<?, ?it/s]\u001b[A\u001b[A\n",
            "\n",
            "\n",
            "100%|██████████| 1/1 [00:11<00:00, 11.60s/it]\n",
            "\n",
            "\n",
            "100%|██████████| 1/1 [00:11<00:00, 11.58s/it]\u001b[A\u001b[A\n",
            "100%|██████████| 1/1 [00:11<00:00, 11.59s/it]\n",
            "\n",
            "\n",
            "\n",
            "100%|██████████| 1/1 [00:11<00:00, 11.60s/it]\n",
            "100%|██████████| 1/1 [00:11<00:00, 11.59s/it]\n"
          ]
        },
        {
          "output_type": "stream",
          "name": "stdout",
          "text": [
            "Converting audio...\n",
            "Converting audio...\n",
            "Using cached preprocessed reference audio...\n",
            "Using custom reference text...\n",
            "\n",
            "ref_text    Okay, maybe we'll watch a Grombe. Where are you Grombe? Let's see. 21 hours ago, Fortnite memes that make you switch to controller. I gotta see this. \n",
            "gen_text 0 I was thinking about watching something fun on Disney Channel later.\n",
            "\n",
            "\n",
            "Generating audio in 1 batches...\n",
            "Using cached preprocessed reference audio...\n",
            "Using custom reference text...\n",
            "\n",
            "ref_text    The awareness that our time is limited, that our life will eventually end, has driven humans to search for a way out. \n",
            "gen_text 0 did you see that new restaurant downtown?\n",
            "\n",
            "\n",
            "Generating audio in 1 batches...\n",
            "Converting audio...\n",
            "Converting audio...\n",
            "Using cached preprocessed reference audio...\n",
            "Using custom reference text...\n",
            "\n",
            "ref_text    I asked him to read the Declaration of Independence and the Constitution. \n",
            "Using cached preprocessed reference audio...\n",
            "Using custom reference text...\n",
            "\n",
            "ref_text    I like the video introduction. It's a great way to get started on the topic. \n",
            "gen_text 0 I really enjoyed that restaurant we went to last week\n",
            "\n",
            "\n",
            "Generating audio in 1 batches...\n",
            "gen_text 0 , did you remember to invite Sarah to the party?\n",
            "\n",
            "\n",
            "Generating audio in 1 batches...\n"
          ]
        },
        {
          "output_type": "stream",
          "name": "stderr",
          "text": [
            "  0%|          | 0/1 [00:00<?, ?it/s]\n",
            "  0%|          | 0/1 [00:00<?, ?it/s]\u001b[A\n",
            "\n",
            "  0%|          | 0/1 [00:00<?, ?it/s]\u001b[A\u001b[A\n",
            "\n",
            "\n",
            "  0%|          | 0/1 [00:00<?, ?it/s]\u001b[A\u001b[A\u001b[A\n",
            "\n",
            "100%|██████████| 1/1 [00:14<00:00, 14.83s/it]\u001b[A\u001b[A\n",
            "\n",
            "\n",
            "100%|██████████| 1/1 [00:14<00:00, 14.83s/it]\u001b[A\u001b[A\u001b[A\n",
            "100%|██████████| 1/1 [00:14<00:00, 14.84s/it]\n",
            "100%|██████████| 1/1 [00:14<00:00, 14.83s/it]\n",
            "100%|██████████| 1/1 [00:14<00:00, 14.85s/it]\n",
            "100%|██████████| 1/1 [00:14<00:00, 14.84s/it]\n"
          ]
        },
        {
          "output_type": "stream",
          "name": "stdout",
          "text": [
            "Converting audio...\n",
            "Using cached preprocessed reference audio...\n",
            "Using custom reference text...\n",
            "\n",
            "ref_text    The awareness that our time is limited, that our life will eventually end, has driven humans to search for a way out. \n",
            "gen_text 0 Restart the TV\n",
            "\n",
            "\n",
            "Generating audio in 1 batches...\n",
            "Converting audio...\n",
            "Converting audio...\n",
            "Using cached preprocessed reference audio...\n",
            "Using custom reference text...\n",
            "\n",
            "ref_text    I asked him to read the Declaration of Independence and the Constitution. \n"
          ]
        },
        {
          "output_type": "stream",
          "name": "stderr",
          "text": [
            "\r  0%|          | 0/1 [00:00<?, ?it/s]"
          ]
        },
        {
          "output_type": "stream",
          "name": "stdout",
          "text": [
            "Converting audio...\n",
            "gen_text 0 turn off subtitles\n",
            "\n",
            "\n",
            "Generating audio in 1 batches...\n",
            "Using cached preprocessed reference audio...\n",
            "Using custom reference text...\n",
            "\n",
            "ref_text    Miss Sally, I had to see you. I just heard about it. Tell me it ain't true. Mr. Jim ain't dead. \n",
            "Using cached preprocessed reference audio...\n",
            "Using custom reference text...\n",
            "\n",
            "ref_text    Hey guys, what's up? LDShadowLady here, and welcome to a mod review on a mod called Revenge of the Blocks. As you can see behind me, some of your favourite Minecraft authors have come alive, and they want revenge. For all that mining you did. \n",
            "gen_text 0 mute the TV while I can't believe she said that during dinner.\n",
            "\n",
            "\n",
            "Generating audio in 1 batches...\n",
            "gen_text 0 show me ABC, increase the volume, change audio language to Spanish\n",
            "\n",
            "\n",
            "Generating audio in 1 batches...\n"
          ]
        },
        {
          "output_type": "stream",
          "name": "stderr",
          "text": [
            "\n",
            "  0%|          | 0/1 [00:00<?, ?it/s]\u001b[A\n",
            "\n",
            "  0%|          | 0/1 [00:00<?, ?it/s]\u001b[A\u001b[A\n",
            "\n",
            "\n",
            "  0%|          | 0/1 [00:00<?, ?it/s]\u001b[A\u001b[A\u001b[A\n",
            "100%|██████████| 1/1 [00:11<00:00, 11.34s/it]\n",
            "100%|██████████| 1/1 [00:11<00:00, 11.37s/it]\n",
            "\n",
            "\n",
            "100%|██████████| 1/1 [00:11<00:00, 11.34s/it]\u001b[A\u001b[A\n",
            "\n",
            "\n",
            "100%|██████████| 1/1 [00:11<00:00, 11.34s/it]\n",
            "100%|██████████| 1/1 [00:11<00:00, 11.34s/it]\n"
          ]
        },
        {
          "output_type": "stream",
          "name": "stdout",
          "text": [
            "Converting audio...\n",
            "Converting audio...\n",
            "Using cached preprocessed reference audio...\n",
            "Using custom reference text...\n",
            "\n",
            "ref_text    My guardian then took me into his own room, and while he lunched, standing from a sandwich box and a pocket flask of sherry, he seemed to bully his very sandwich as he ate it, informed me what arrangements he had made for me. \n",
            "Using cached preprocessed reference audio...\n",
            "Using custom reference text...\n",
            "\n",
            "ref_text    Charlie was pounding on my door. Bella, are you okay? What's going on? His voice was frightened. \n",
            "gen_text 0 Have you seen The Lizzie McGuire Movie? It's such a classic!\n",
            "\n",
            "\n",
            "Generating audio in 1 batches...\n",
            "gen_text 0 I heard the new series on Disney+ is really good, have you watched any episodes yet?\n",
            "\n",
            "\n",
            "Generating audio in 1 batches...\n",
            "Converting audio...\n",
            "Using cached preprocessed reference audio...\n",
            "Using custom reference text...\n",
            "\n",
            "ref_text    Miss Sally, I had to see you. I just heard about it. Tell me it ain't true. Mr. Jim ain't dead. \n",
            "gen_text 0 mute the TV\n",
            "\n",
            "\n",
            "Generating audio in 1 batches...\n"
          ]
        },
        {
          "output_type": "stream",
          "name": "stderr",
          "text": [
            "\r  0%|          | 0/1 [00:00<?, ?it/s]"
          ]
        },
        {
          "output_type": "stream",
          "name": "stdout",
          "text": [
            "Converting audio...\n"
          ]
        },
        {
          "output_type": "stream",
          "name": "stderr",
          "text": [
            "\n",
            "  0%|          | 0/1 [00:00<?, ?it/s]\u001b[A"
          ]
        },
        {
          "output_type": "stream",
          "name": "stdout",
          "text": [
            "Using cached preprocessed reference audio...\n",
            "Using custom reference text...\n",
            "\n",
            "ref_text    She gave me to understand on the stairs that it was a blow to dear Mrs. Pocket that dear Mr. Pocket should be under the necessity of receiving gentlemen to read with him. \n",
            "gen_text 0 Go back to home screen, did you see the latest episode on Tubi TV? Switch to AV mode.\n",
            "\n",
            "\n",
            "Generating audio in 1 batches...\n"
          ]
        },
        {
          "output_type": "stream",
          "name": "stderr",
          "text": [
            "\n",
            "\n",
            "  0%|          | 0/1 [00:00<?, ?it/s]\u001b[A\u001b[A\n",
            "\n",
            "\n",
            "  0%|          | 0/1 [00:00<?, ?it/s]\u001b[A\u001b[A\u001b[A\n",
            "\n",
            "100%|██████████| 1/1 [00:11<00:00, 11.01s/it]\n",
            "\n",
            "100%|██████████| 1/1 [00:11<00:00, 11.04s/it]\n",
            "\n",
            "\n",
            "100%|██████████| 1/1 [00:11<00:00, 11.02s/it]\n",
            "100%|██████████| 1/1 [00:11<00:00, 11.01s/it]\n",
            "100%|██████████| 1/1 [00:11<00:00, 11.05s/it]\n"
          ]
        },
        {
          "output_type": "stream",
          "name": "stdout",
          "text": [
            "Converting audio...\n",
            "Using cached preprocessed reference audio...\n",
            "Using custom reference text...\n",
            "\n",
            "ref_text    Miss Sally, I had to see you. I just heard about it. Tell me it ain't true. Mr. Jim ain't dead. \n",
            "gen_text 0 while\n",
            "\n",
            "\n",
            "Generating audio in 1 batches...\n",
            "Converting audio...\n",
            "Using cached preprocessed reference audio...\n",
            "Using custom reference text...\n",
            "\n",
            "ref_text    And the United States first, second, and third generation Mexicans are just beyond reproach. \n",
            "gen_text 0 Change input to Apple TV+ while I'm really looking forward to the weekend plans.\n",
            "\n",
            "\n",
            "Generating audio in 1 batches...\n"
          ]
        },
        {
          "output_type": "stream",
          "name": "stderr",
          "text": [
            "\r  0%|          | 0/1 [00:00<?, ?it/s]"
          ]
        },
        {
          "output_type": "stream",
          "name": "stdout",
          "text": [
            "Converting audio...\n",
            "Converting audio...\n",
            "Using cached preprocessed reference audio...\n",
            "Using custom reference text...\n",
            "\n",
            "ref_text    I just like the whole concept of YouTube, like if you work at McDonald's, you work eight hours and you get paid a certain amount of money, but if we put eight hours into our YouTube, depending on what we do, you can make, you can like, sky's the limit on what you can do with it. \n",
            "gen_text 0 Could you please unmute the TV? I think it's going to rain later.\n",
            "\n",
            "\n",
            "Generating audio in 1 batches...\n",
            "Using cached preprocessed reference audio...\n",
            "Using custom reference text...\n",
            "\n",
            "ref_text    She gave me to understand on the stairs that it was a blow to dear Mrs. Pocket that dear Mr. Pocket should be under the necessity of receiving gentlemen to read with him. \n",
            "gen_text 0 Go back to home screen\n",
            "\n",
            "\n",
            "Generating audio in 1 batches...\n"
          ]
        },
        {
          "output_type": "stream",
          "name": "stderr",
          "text": [
            "\n",
            "  0%|          | 0/1 [00:00<?, ?it/s]\u001b[A\n",
            "\n",
            "  0%|          | 0/1 [00:00<?, ?it/s]\u001b[A\u001b[A\n",
            "\n",
            "\n",
            "  0%|          | 0/1 [00:00<?, ?it/s]\u001b[A\u001b[A\u001b[A\n",
            "\n",
            "100%|██████████| 1/1 [00:09<00:00,  9.08s/it]\n",
            "\n",
            "\n",
            "\n",
            "100%|██████████| 1/1 [00:09<00:00,  9.08s/it]\n",
            "\n",
            "100%|██████████| 1/1 [00:09<00:00,  9.11s/it]\n",
            "100%|██████████| 1/1 [00:09<00:00,  9.14s/it]\n"
          ]
        },
        {
          "output_type": "stream",
          "name": "stdout",
          "text": [
            "Converting audio...\n",
            "Using cached preprocessed reference audio...\n",
            "Using custom reference text...\n",
            "\n",
            "ref_text    She gave me to understand on the stairs that it was a blow to dear Mrs. Pocket that dear Mr. Pocket should be under the necessity of receiving gentlemen to read with him. \n",
            "gen_text 0 did you see the latest episode on Tubi TV?\n",
            "\n",
            "\n",
            "Generating audio in 1 batches...\n",
            "Converting audio...\n"
          ]
        },
        {
          "output_type": "stream",
          "name": "stderr",
          "text": [
            "\r  0%|          | 0/1 [00:00<?, ?it/s]"
          ]
        },
        {
          "output_type": "stream",
          "name": "stdout",
          "text": [
            "Using cached preprocessed reference audio...\n",
            "Using custom reference text...\n",
            "\n",
            "ref_text    I just like the whole concept of YouTube, like if you work at McDonald's, you work eight hours and you get paid a certain amount of money, but if we put eight hours into our YouTube, depending on what we do, you can make, you can like, sky's the limit on what you can do with it. \n",
            "gen_text 0 Could\n",
            "\n",
            "\n",
            "Generating audio in 1 batches...\n"
          ]
        },
        {
          "output_type": "stream",
          "name": "stderr",
          "text": [
            "\n",
            "  0%|          | 0/1 [00:00<?, ?it/s]\u001b[A"
          ]
        },
        {
          "output_type": "stream",
          "name": "stdout",
          "text": [
            "Converting audio...\n",
            "Converting audio...\n",
            "Using cached preprocessed reference audio...\n",
            "Using custom reference text...\n",
            "\n",
            "ref_text    And the United States first, second, and third generation Mexicans are just beyond reproach. \n",
            "gen_text 0 Change input to Apple TV+\n",
            "\n",
            "\n",
            "Generating audio in 1 batches...\n",
            "Using cached preprocessed reference audio...\n",
            "Using custom reference text...\n",
            "\n",
            "ref_text    Miss Sally, I had to see you. I just heard about it. Tell me it ain't true. Mr. Jim ain't dead. \n",
            "gen_text 0 I\n",
            "\n",
            "\n",
            "Generating audio in 1 batches...\n"
          ]
        },
        {
          "output_type": "stream",
          "name": "stderr",
          "text": [
            "\n",
            "\n",
            "\n",
            "  0%|          | 0/1 [00:00<?, ?it/s]\u001b[A\u001b[A\u001b[A\n",
            "\n",
            "  0%|          | 0/1 [00:00<?, ?it/s]\u001b[A\u001b[A\n",
            "\n",
            "100%|██████████| 1/1 [00:08<00:00,  8.55s/it]\n",
            "\n",
            "100%|██████████| 1/1 [00:08<00:00,  8.60s/it]\n",
            "100%|██████████| 1/1 [00:08<00:00,  8.61s/it]\n",
            "\n",
            "\n",
            "100%|██████████| 1/1 [00:08<00:00,  8.62s/it]\n",
            "100%|██████████| 1/1 [00:08<00:00,  8.58s/it]\n"
          ]
        },
        {
          "output_type": "stream",
          "name": "stdout",
          "text": [
            "Converting audio...\n",
            "Using cached preprocessed reference audio...\n",
            "Using custom reference text...\n",
            "\n",
            "ref_text    And the United States first, second, and third generation Mexicans are just beyond reproach. \n",
            "gen_text 0 while I'm really looking forward to the weekend plans.\n",
            "\n",
            "\n",
            "Generating audio in 1 batches...\n",
            "Converting audio...\n",
            "Using cached preprocessed reference audio...\n",
            "Using custom reference text...\n",
            "\n",
            "ref_text    I just like the whole concept of YouTube, like if you work at McDonald's, you work eight hours and you get paid a certain amount of money, but if we put eight hours into our YouTube, depending on what we do, you can make, you can like, sky's the limit on what you can do with it. \n",
            "gen_text 0 you\n",
            "\n",
            "\n",
            "Generating audio in 1 batches...\n"
          ]
        },
        {
          "output_type": "stream",
          "name": "stderr",
          "text": [
            "\r  0%|          | 0/1 [00:00<?, ?it/s]"
          ]
        },
        {
          "output_type": "stream",
          "name": "stdout",
          "text": [
            "Converting audio...\n",
            "Converting audio...\n"
          ]
        },
        {
          "output_type": "stream",
          "name": "stderr",
          "text": [
            "\n",
            "  0%|          | 0/1 [00:00<?, ?it/s]\u001b[A"
          ]
        },
        {
          "output_type": "stream",
          "name": "stdout",
          "text": [
            "Using cached preprocessed reference audio...\n",
            "Using custom reference text...\n",
            "\n",
            "ref_text    She gave me to understand on the stairs that it was a blow to dear Mrs. Pocket that dear Mr. Pocket should be under the necessity of receiving gentlemen to read with him. \n",
            "Using cached preprocessed reference audio...\n",
            "Using custom reference text...\n",
            "\n",
            "ref_text    Miss Sally, I had to see you. I just heard about it. Tell me it ain't true. Mr. Jim ain't dead. \n",
            "gen_text 0 Switch to AV mode\n",
            "\n",
            "\n",
            "Generating audio in 1 batches...\n",
            "gen_text 0 can't believe\n",
            "\n",
            "\n",
            "Generating audio in 1 batches...\n"
          ]
        },
        {
          "output_type": "stream",
          "name": "stderr",
          "text": [
            "\n",
            "\n",
            "  0%|          | 0/1 [00:00<?, ?it/s]\u001b[A\u001b[A\n",
            "\n",
            "\n",
            "  0%|          | 0/1 [00:00<?, ?it/s]\u001b[A\u001b[A\u001b[A\n",
            "\n",
            "100%|██████████| 1/1 [00:08<00:00,  8.29s/it]\n",
            "100%|██████████| 1/1 [00:08<00:00,  8.33s/it]\n",
            "100%|██████████| 1/1 [00:08<00:00,  8.34s/it]\n",
            "100%|██████████| 1/1 [00:08<00:00,  8.30s/it]\n",
            "\n",
            "\n",
            "\n",
            "100%|██████████| 1/1 [00:08<00:00,  8.29s/it]\n"
          ]
        },
        {
          "output_type": "stream",
          "name": "stdout",
          "text": [
            "Converting audio...\n",
            "Converting audio...\n",
            "Using cached preprocessed reference audio...\n",
            "Using custom reference text...\n",
            "\n",
            "ref_text    Hello everyone. My name is Luis Ahoyas. I'm the executive director of the Oceanic Preservation Society and director of a film called The Cove. And I'm here today with producer Craig Foster and co-director James Reed of My Octopus Teacher. It's my great pleasure to meet you both. Congratulations. \n",
            "gen_text 0 Did you see the latest episode on Cartoon Network? I heard it was really good!\n",
            "\n",
            "\n",
            "Generating audio in 1 batches...\n",
            "Converting audio...\n",
            "Converting audio...\n",
            "Using cached preprocessed reference audio...\n",
            "Using custom reference text...\n",
            "\n",
            "ref_text    Adam, I was thinking about it last night, uhm, about, and no offense, but, oh actually this doesn't even involve you or your character, but for Kylo Ren to be such a bad guy, it means really that Han Solo and Princess Leia had to have been terrible parents, I mean like,. \n",
            "gen_text 0 unmute the TV, switch to channel ABC, scroll down.\n",
            "\n",
            "\n",
            "Generating audio in 1 batches...\n",
            "Using cached preprocessed reference audio...\n",
            "Using custom reference text...\n",
            "\n",
            "ref_text    Miss Sally, I had to see you. I just heard about it. Tell me it ain't true. Mr. Jim ain't dead. \n",
            "gen_text 0 she said that during dinner.\n",
            "\n",
            "\n",
            "Generating audio in 1 batches...\n",
            "Using cached preprocessed reference audio...\n",
            "Using custom reference text...\n",
            "\n",
            "ref_text    I just like the whole concept of YouTube, like if you work at McDonald's, you work eight hours and you get paid a certain amount of money, but if we put eight hours into our YouTube, depending on what we do, you can make, you can like, sky's the limit on what you can do with it. \n",
            "gen_text 0 please\n",
            "\n",
            "\n",
            "Generating audio in 1 batches...\n"
          ]
        },
        {
          "output_type": "stream",
          "name": "stderr",
          "text": [
            "  0%|          | 0/1 [00:00<?, ?it/s]\n",
            "  0%|          | 0/1 [00:00<?, ?it/s]\u001b[A\n",
            "\n",
            "  0%|          | 0/1 [00:00<?, ?it/s]\u001b[A\u001b[A\n",
            "\n",
            "\n",
            "100%|██████████| 1/1 [00:07<00:00,  7.03s/it]\n",
            "\n",
            "100%|██████████| 1/1 [00:07<00:00,  7.03s/it]\n",
            "100%|██████████| 1/1 [00:07<00:00,  7.02s/it]\n",
            "\n",
            "100%|██████████| 1/1 [00:07<00:00,  7.02s/it]\u001b[A\n",
            "\n",
            "\n",
            "100%|██████████| 1/1 [00:07<00:00,  7.04s/it]\n",
            "100%|██████████| 1/1 [00:07<00:00,  7.03s/it]\n"
          ]
        },
        {
          "output_type": "stream",
          "name": "stdout",
          "text": [
            "Converting audio...\n",
            "Using cached preprocessed reference audio...\n",
            "Using custom reference text...\n",
            "\n",
            "ref_text    I just like the whole concept of YouTube, like if you work at McDonald's, you work eight hours and you get paid a certain amount of money, but if we put eight hours into our YouTube, depending on what we do, you can make, you can like, sky's the limit on what you can do with it. \n",
            "gen_text 0 unmute\n",
            "\n",
            "\n",
            "Generating audio in 1 batches...\n",
            "Converting audio...\n"
          ]
        },
        {
          "output_type": "stream",
          "name": "stderr",
          "text": [
            "\r  0%|          | 0/1 [00:00<?, ?it/s]"
          ]
        },
        {
          "output_type": "stream",
          "name": "stdout",
          "text": [
            "Using cached preprocessed reference audio...\n",
            "Using custom reference text...\n",
            "\n",
            "ref_text    For more on this subject take a look at the playlist. You can also watch this recommended video. \n",
            "gen_text 0 Skip intro, I didn't realize how late it was!\n",
            "\n",
            "\n",
            "Generating audio in 1 batches...\n",
            "Converting audio...\n"
          ]
        },
        {
          "output_type": "stream",
          "name": "stderr",
          "text": [
            "\n",
            "  0%|          | 0/1 [00:00<?, ?it/s]\u001b[A"
          ]
        },
        {
          "output_type": "stream",
          "name": "stdout",
          "text": [
            "Using cached preprocessed reference audio...\n",
            "Using custom reference text...\n",
            "\n",
            "ref_text    Hello there everybody and welcome to the video. My name's Sven at Your Soul on the Axe and here we are with episode 2, season 1 by the way, of Soap. Now, in the last episode, I didn't expect to laugh track. \n",
            "gen_text 0 Decrease the volume, have you seen the latest episode? Remind me when Netflix starts the new series.\n",
            "\n",
            "\n",
            "Generating audio in 1 batches...\n",
            "Converting audio...\n",
            "Using cached preprocessed reference audio...\n",
            "Using custom reference text...\n",
            "\n",
            "ref_text    Ha! You look bored. Hello. \n",
            "gen_text 0 switch to AV mode, play, increase the volume\n",
            "\n",
            "\n",
            "Generating audio in 1 batches...\n"
          ]
        },
        {
          "output_type": "stream",
          "name": "stderr",
          "text": [
            "\n",
            "\n",
            "  0%|          | 0/1 [00:00<?, ?it/s]\u001b[A\u001b[A\n",
            "\n",
            "\n",
            "100%|██████████| 1/1 [00:12<00:00, 12.93s/it]\n",
            "\n",
            "\n",
            "100%|██████████| 1/1 [00:12<00:00, 12.89s/it]\u001b[A\u001b[A\n",
            "100%|██████████| 1/1 [00:12<00:00, 12.89s/it]\n",
            "\n",
            "\n",
            "\n",
            "100%|██████████| 1/1 [00:12<00:00, 12.91s/it]\n",
            "100%|██████████| 1/1 [00:12<00:00, 12.90s/it]\n"
          ]
        },
        {
          "output_type": "stream",
          "name": "stdout",
          "text": [
            "Converting audio...\n",
            "Using cached preprocessed reference audio...\n",
            "Using custom reference text...\n",
            "\n",
            "ref_text    I just like the whole concept of YouTube, like if you work at McDonald's, you work eight hours and you get paid a certain amount of money, but if we put eight hours into our YouTube, depending on what we do, you can make, you can like, sky's the limit on what you can do with it. \n",
            "gen_text 0 the\n",
            "\n",
            "\n",
            "Generating audio in 1 batches...\n"
          ]
        },
        {
          "output_type": "stream",
          "name": "stderr",
          "text": [
            "\r  0%|          | 0/1 [00:00<?, ?it/s]"
          ]
        },
        {
          "output_type": "stream",
          "name": "stdout",
          "text": [
            "Converting audio...\n",
            "Converting audio...\n",
            "Using cached preprocessed reference audio...\n",
            "Using custom reference text...\n",
            "\n",
            "ref_text    For more on this subject take a look at the playlist. You can also watch this recommended video. \n",
            "gen_text 0 Skip intro\n",
            "\n",
            "\n",
            "Generating audio in 1 batches...\n",
            "Using cached preprocessed reference audio...\n",
            "Using custom reference text...\n",
            "\n",
            "ref_text    Hello there everybody and welcome to the video. My name's Sven at Your Soul on the Axe and here we are with episode 2, season 1 by the way, of Soap. Now, in the last episode, I didn't expect to laugh track. \n",
            "gen_text 0 Decrease the volume\n",
            "\n",
            "\n",
            "Generating audio in 1 batches...\n",
            "Converting audio...\n",
            "Using cached preprocessed reference audio...\n",
            "Using custom reference text...\n",
            "\n",
            "ref_text    And I would, if there were lovely, beautiful things to look at. But there aren't, Mary. \n",
            "gen_text 0 Set volume to 20, and by the way, did you see the game last night? Increase the volume to 30.\n",
            "\n",
            "\n",
            "Generating audio in 1 batches...\n"
          ]
        },
        {
          "output_type": "stream",
          "name": "stderr",
          "text": [
            "\n",
            "  0%|          | 0/1 [00:00<?, ?it/s]\u001b[A\n",
            "\n",
            "  0%|          | 0/1 [00:00<?, ?it/s]\u001b[A\u001b[A\n",
            "\n",
            "\n",
            "100%|██████████| 1/1 [00:10<00:00, 10.85s/it]\n",
            "\n",
            "\n",
            "100%|██████████| 1/1 [00:10<00:00, 10.80s/it]\u001b[A\u001b[A\n",
            "\n",
            "\n",
            "100%|██████████| 1/1 [00:10<00:00, 10.81s/it]\n",
            "100%|██████████| 1/1 [00:10<00:00, 10.80s/it]\n",
            "\n",
            "100%|██████████| 1/1 [00:10<00:00, 10.83s/it]\n"
          ]
        },
        {
          "output_type": "stream",
          "name": "stdout",
          "text": [
            "Converting audio...\n",
            "Using cached preprocessed reference audio...\n",
            "Using custom reference text...\n",
            "\n",
            "ref_text    I just like the whole concept of YouTube, like if you work at McDonald's, you work eight hours and you get paid a certain amount of money, but if we put eight hours into our YouTube, depending on what we do, you can make, you can like, sky's the limit on what you can do with it. \n",
            "gen_text 0 TV?\n",
            "\n",
            "\n",
            "Generating audio in 1 batches...\n"
          ]
        },
        {
          "output_type": "stream",
          "name": "stderr",
          "text": [
            "\r  0%|          | 0/1 [00:00<?, ?it/s]"
          ]
        },
        {
          "output_type": "stream",
          "name": "stdout",
          "text": [
            "Converting audio...\n",
            "Converting audio...\n",
            "Converting audio...\n",
            "Using cached preprocessed reference audio...\n",
            "Using custom reference text...\n",
            "\n",
            "ref_text    For more on this subject take a look at the playlist. You can also watch this recommended video. \n",
            "gen_text 0 , I didn't realize how late it was!\n",
            "\n",
            "\n",
            "Generating audio in 1 batches...\n",
            "Using cached preprocessed reference audio...\n",
            "Using custom reference text...\n",
            "\n",
            "ref_text    Hello there everybody and welcome to the video. My name's Sven at Your Soul on the Axe and here we are with episode 2, season 1 by the way, of Soap. Now, in the last episode, I didn't expect to laugh track. \n",
            "gen_text 0 have you seen the latest episode?\n",
            "\n",
            "\n",
            "Generating audio in 1 batches...\n",
            "Using cached preprocessed reference audio...\n",
            "Using custom reference text...\n",
            "\n",
            "ref_text    And I would, if there were lovely, beautiful things to look at. But there aren't, Mary. \n",
            "gen_text 0 Set volume to 20\n",
            "\n",
            "\n",
            "Generating audio in 1 batches...\n"
          ]
        },
        {
          "output_type": "stream",
          "name": "stderr",
          "text": [
            "\n",
            "  0%|          | 0/1 [00:00<?, ?it/s]\u001b[A\n",
            "\n",
            "  0%|          | 0/1 [00:00<?, ?it/s]\u001b[A\u001b[A\n",
            "\n",
            "\n",
            "100%|██████████| 1/1 [00:09<00:00,  9.01s/it]\n",
            "\n",
            "\n",
            "100%|██████████| 1/1 [00:09<00:00,  9.01s/it]\n",
            "100%|██████████| 1/1 [00:08<00:00,  8.96s/it]\n",
            "\n",
            "\n",
            "100%|██████████| 1/1 [00:08<00:00,  8.97s/it]\u001b[A\u001b[A\n",
            "100%|██████████| 1/1 [00:08<00:00,  8.98s/it]\n",
            "100%|██████████| 1/1 [00:08<00:00,  8.97s/it]\n"
          ]
        },
        {
          "output_type": "stream",
          "name": "stdout",
          "text": [
            "Converting audio...\n",
            "Converting audio...\n",
            "Using cached preprocessed reference audio...\n",
            "Using custom reference text...\n",
            "\n",
            "ref_text    I just like the whole concept of YouTube, like if you work at McDonald's, you work eight hours and you get paid a certain amount of money, but if we put eight hours into our YouTube, depending on what we do, you can make, you can like, sky's the limit on what you can do with it. \n",
            "gen_text 0 I\n",
            "\n",
            "\n",
            "Generating audio in 1 batches...\n",
            "Using cached preprocessed reference audio...\n",
            "Using custom reference text...\n",
            "\n",
            "ref_text    And I would, if there were lovely, beautiful things to look at. But there aren't, Mary. \n",
            "gen_text 0 and by the way, did you see the game last night?\n",
            "\n",
            "\n",
            "Generating audio in 1 batches...\n",
            "Converting audio...\n"
          ]
        },
        {
          "output_type": "stream",
          "name": "stderr",
          "text": [
            "\r  0%|          | 0/1 [00:00<?, ?it/s]"
          ]
        },
        {
          "output_type": "stream",
          "name": "stdout",
          "text": [
            "Using cached preprocessed reference audio...\n",
            "Using custom reference text...\n",
            "\n",
            "ref_text    Hey, it's alright, we put him up on game, it ain't no problem. When I was born in LA, uhm... \n",
            "gen_text 0 play Tubi TV, enable night mode, set contrast to 50, next channel\n",
            "\n",
            "\n",
            "Generating audio in 1 batches...\n"
          ]
        },
        {
          "output_type": "stream",
          "name": "stderr",
          "text": [
            "\n",
            "  0%|          | 0/1 [00:00<?, ?it/s]\u001b[A"
          ]
        },
        {
          "output_type": "stream",
          "name": "stdout",
          "text": [
            "Converting audio...\n",
            "Using cached preprocessed reference audio...\n",
            "Using custom reference text...\n",
            "\n",
            "ref_text    Hello there everybody and welcome to the video. My name's Sven at Your Soul on the Axe and here we are with episode 2, season 1 by the way, of Soap. Now, in the last episode, I didn't expect to laugh track. \n",
            "gen_text 0 Remind me when Netflix starts the new series\n",
            "\n",
            "\n",
            "Generating audio in 1 batches...\n"
          ]
        },
        {
          "output_type": "stream",
          "name": "stderr",
          "text": [
            "\n",
            "\n",
            "  0%|          | 0/1 [00:00<?, ?it/s]\u001b[A\u001b[A\n",
            "\n",
            "\n",
            "100%|██████████| 1/1 [00:10<00:00, 10.43s/it]\n",
            "\n",
            "100%|██████████| 1/1 [00:10<00:00, 10.42s/it]\u001b[A\n",
            "\n",
            "100%|██████████| 1/1 [00:10<00:00, 10.43s/it]\n",
            "\n",
            "\n",
            "\n",
            "100%|██████████| 1/1 [00:10<00:00, 10.41s/it]\n",
            "100%|██████████| 1/1 [00:10<00:00, 10.42s/it]\n"
          ]
        },
        {
          "output_type": "stream",
          "name": "stdout",
          "text": [
            "Converting audio...\n",
            "Using cached preprocessed reference audio...\n",
            "Using custom reference text...\n",
            "\n",
            "ref_text    I just like the whole concept of YouTube, like if you work at McDonald's, you work eight hours and you get paid a certain amount of money, but if we put eight hours into our YouTube, depending on what we do, you can make, you can like, sky's the limit on what you can do with it. \n",
            "gen_text 0 think\n",
            "\n",
            "\n",
            "Generating audio in 1 batches...\n"
          ]
        },
        {
          "output_type": "stream",
          "name": "stderr",
          "text": [
            "\r  0%|          | 0/1 [00:00<?, ?it/s]"
          ]
        },
        {
          "output_type": "stream",
          "name": "stdout",
          "text": [
            "Converting audio...\n",
            "Converting audio...\n",
            "Using cached preprocessed reference audio...\n",
            "Using custom reference text...\n",
            "\n",
            "ref_text    And I would, if there were lovely, beautiful things to look at. But there aren't, Mary. \n",
            "gen_text 0 Increase the volume to 30\n",
            "\n",
            "\n",
            "Generating audio in 1 batches...\n",
            "Converting audio...\n",
            "Using cached preprocessed reference audio...\n",
            "Using custom reference text...\n",
            "\n",
            "ref_text    I just like the whole concept of YouTube, like if you work at McDonald's, you work eight hours and you get paid a certain amount of money, but if we put eight hours into our YouTube, depending on what we do, you can make, you can like, sky's the limit on what you can do with it. \n",
            "gen_text 0 I was thinking about watching something on Disney+, maybe one of those old cartoons.\n",
            "\n",
            "\n",
            "Generating audio in 1 batches...\n",
            "Using cached preprocessed reference audio...\n",
            "Using custom reference text...\n",
            "\n",
            "ref_text    Particularly among millennials, and I know millennials probably hate being called millennials, I'm sorry, whatever, but the fact. \n",
            "gen_text 0 Can you turn on the game mode now? Also, remember to launch Tubi TV later.\n",
            "\n",
            "\n",
            "Generating audio in 1 batches...\n"
          ]
        },
        {
          "output_type": "stream",
          "name": "stderr",
          "text": [
            "\n",
            "  0%|          | 0/1 [00:00<?, ?it/s]\u001b[A\n",
            "\n",
            "\n",
            "  0%|          | 0/1 [00:00<?, ?it/s]\u001b[A\u001b[A\u001b[A\n",
            "\n",
            "  0%|          | 0/1 [00:00<?, ?it/s]\u001b[A\u001b[A\n",
            "\n",
            "100%|██████████| 1/1 [00:10<00:00, 10.37s/it]\u001b[A\u001b[A\n",
            "100%|██████████| 1/1 [00:10<00:00, 10.44s/it]\n",
            "\n",
            "\n",
            "100%|██████████| 1/1 [00:10<00:00, 10.38s/it]\n",
            "100%|██████████| 1/1 [00:10<00:00, 10.44s/it]\n",
            "100%|██████████| 1/1 [00:10<00:00, 10.39s/it]\n",
            "100%|██████████| 1/1 [00:10<00:00, 10.39s/it]\n"
          ]
        },
        {
          "output_type": "stream",
          "name": "stdout",
          "text": [
            "Converting audio...\n",
            "Using cached preprocessed reference audio...\n",
            "Using custom reference text...\n",
            "\n",
            "ref_text    I just like the whole concept of YouTube, like if you work at McDonald's, you work eight hours and you get paid a certain amount of money, but if we put eight hours into our YouTube, depending on what we do, you can make, you can like, sky's the limit on what you can do with it. \n",
            "gen_text 0 it's\n",
            "\n",
            "\n",
            "Generating audio in 1 batches...\n",
            "Converting audio...\n",
            "Converting audio...\n",
            "Using cached preprocessed reference audio...\n",
            "Using custom reference text...\n",
            "\n",
            "ref_text    Particularly among millennials, and I know millennials probably hate being called millennials, I'm sorry, whatever, but the fact. \n",
            "gen_text 0 turn on the game mode\n",
            "\n",
            "\n",
            "Generating audio in 1 batches...\n"
          ]
        },
        {
          "output_type": "stream",
          "name": "stderr",
          "text": [
            "\r  0%|          | 0/1 [00:00<?, ?it/s]"
          ]
        },
        {
          "output_type": "stream",
          "name": "stdout",
          "text": [
            "Converting audio...\n",
            "Using cached preprocessed reference audio...\n",
            "Using custom reference text...\n",
            "\n",
            "ref_text    That has convinced you that your microphone is listening to your conversations. \n",
            "gen_text 0 turn off the TV\n",
            "\n",
            "\n",
            "Generating audio in 1 batches...\n"
          ]
        },
        {
          "output_type": "stream",
          "name": "stderr",
          "text": [
            "\n",
            "  0%|          | 0/1 [00:00<?, ?it/s]\u001b[A"
          ]
        },
        {
          "output_type": "stream",
          "name": "stdout",
          "text": [
            "Using cached preprocessed reference audio...\n",
            "Using custom reference text...\n",
            "\n",
            "ref_text    My guardian then took me into his own room, and while he lunched, standing from a sandwich box and a pocket flask of sherry, he seemed to bully his very sandwich as he ate it, informed me what arrangements he had made for me. \n",
            "gen_text 0 Have you seen 'Jumanji: Level One' yet? I've heard it's quite fun!\n",
            "\n",
            "\n",
            "Generating audio in 1 batches...\n"
          ]
        },
        {
          "output_type": "stream",
          "name": "stderr",
          "text": [
            "\n",
            "\n",
            "  0%|          | 0/1 [00:00<?, ?it/s]\u001b[A\u001b[A\n",
            "\n",
            "\n",
            "100%|██████████| 1/1 [00:09<00:00,  9.36s/it]\n",
            "\n",
            "100%|██████████| 1/1 [00:09<00:00,  9.33s/it]\u001b[A\n",
            "\n",
            "\n",
            "100%|██████████| 1/1 [00:09<00:00,  9.32s/it]\u001b[A\u001b[A\u001b[A\n",
            "\n",
            "100%|██████████| 1/1 [00:09<00:00,  9.33s/it]\n",
            "100%|██████████| 1/1 [00:09<00:00,  9.34s/it]\n",
            "100%|██████████| 1/1 [00:09<00:00,  9.34s/it]\n"
          ]
        },
        {
          "output_type": "stream",
          "name": "stdout",
          "text": [
            "Converting audio...\n",
            "Using cached preprocessed reference audio...\n",
            "Using custom reference text...\n",
            "\n",
            "ref_text    I just like the whole concept of YouTube, like if you work at McDonald's, you work eight hours and you get paid a certain amount of money, but if we put eight hours into our YouTube, depending on what we do, you can make, you can like, sky's the limit on what you can do with it. \n",
            "gen_text 0 going\n",
            "\n",
            "\n",
            "Generating audio in 1 batches...\n"
          ]
        },
        {
          "output_type": "stream",
          "name": "stderr",
          "text": [
            "\r  0%|          | 0/1 [00:00<?, ?it/s]"
          ]
        },
        {
          "output_type": "stream",
          "name": "stdout",
          "text": [
            "Converting audio...\n",
            "Using cached preprocessed reference audio...\n",
            "Using custom reference text...\n",
            "\n",
            "ref_text    Particularly among millennials, and I know millennials probably hate being called millennials, I'm sorry, whatever, but the fact. \n",
            "gen_text 0 Can you\n",
            "\n",
            "\n",
            "Generating audio in 1 batches...\n",
            "Converting audio...\n",
            "Converting audio...\n",
            "Using cached preprocessed reference audio...\n",
            "Using custom reference text...\n",
            "\n",
            "ref_text    There's more to see than can ever be seen. More to do than can ever be done. \n",
            "gen_text 0 go to channel ABC, I can't believe we forgot the dentist appointment!\n",
            "\n",
            "\n",
            "Generating audio in 1 batches...\n",
            "Using cached preprocessed reference audio...\n",
            "Using custom reference text...\n",
            "\n",
            "ref_text    The idea of transfer learning is to leverage the knowledge acquired by a model trained with lots of data on another task. \n",
            "gen_text 0 turn off subtitles\n",
            "\n",
            "\n",
            "Generating audio in 1 batches...\n"
          ]
        },
        {
          "output_type": "stream",
          "name": "stderr",
          "text": [
            "\n",
            "  0%|          | 0/1 [00:00<?, ?it/s]\u001b[A\n",
            "\n",
            "\n",
            "  0%|          | 0/1 [00:00<?, ?it/s]\u001b[A\u001b[A\u001b[A\n",
            "\n",
            "100%|██████████| 1/1 [00:09<00:00,  9.42s/it]\n",
            "\n",
            "\n",
            "\n",
            "100%|██████████| 1/1 [00:09<00:00,  9.37s/it]\u001b[A\u001b[A\u001b[A\n",
            "100%|██████████| 1/1 [00:09<00:00,  9.37s/it]\u001b[A\n",
            "\n",
            "100%|██████████| 1/1 [00:09<00:00,  9.38s/it]\n",
            "100%|██████████| 1/1 [00:09<00:00,  9.37s/it]\n",
            "100%|██████████| 1/1 [00:09<00:00,  9.38s/it]\n"
          ]
        },
        {
          "output_type": "stream",
          "name": "stdout",
          "text": [
            "Converting audio...\n",
            "Using cached preprocessed reference audio...\n",
            "Using custom reference text...\n",
            "\n",
            "ref_text    I just like the whole concept of YouTube, like if you work at McDonald's, you work eight hours and you get paid a certain amount of money, but if we put eight hours into our YouTube, depending on what we do, you can make, you can like, sky's the limit on what you can do with it. \n",
            "gen_text 0 to\n",
            "\n",
            "\n",
            "Generating audio in 1 batches...\n"
          ]
        },
        {
          "output_type": "stream",
          "name": "stderr",
          "text": [
            "\r  0%|          | 0/1 [00:00<?, ?it/s]"
          ]
        },
        {
          "output_type": "stream",
          "name": "stdout",
          "text": [
            "Converting audio...\n",
            "Using cached preprocessed reference audio...\n",
            "Using custom reference text...\n",
            "\n",
            "ref_text    Particularly among millennials, and I know millennials probably hate being called millennials, I'm sorry, whatever, but the fact. \n",
            "gen_text 0 remember to launch Tubi TV later\n",
            "\n",
            "\n",
            "Generating audio in 1 batches...\n",
            "Converting audio...\n",
            "Converting audio...\n"
          ]
        },
        {
          "output_type": "stream",
          "name": "stderr",
          "text": [
            "\n",
            "  0%|          | 0/1 [00:00<?, ?it/s]\u001b[A"
          ]
        },
        {
          "output_type": "stream",
          "name": "stdout",
          "text": [
            "Using cached preprocessed reference audio...\n",
            "Using custom reference text...\n",
            "\n",
            "ref_text    When you say Colburn, what do you say?. \n",
            "Using cached preprocessed reference audio...\n",
            "Using custom reference text...\n",
            "\n",
            "ref_text    There's more to see than can ever be seen. More to do than can ever be done. \n",
            "gen_text 0 Mute the TV,\n",
            "gen_text 1 I can't believe she said that during dinner!\n",
            "\n",
            "\n",
            "Generating audio in 2 batches...\n",
            "gen_text 0 go to channel ABC\n",
            "\n",
            "\n",
            "Generating audio in 1 batches...\n"
          ]
        },
        {
          "output_type": "stream",
          "name": "stderr",
          "text": [
            "\n",
            "\n",
            "  0%|          | 0/2 [00:00<?, ?it/s]\u001b[A\u001b[A\n",
            "\n",
            "\n",
            "  0%|          | 0/1 [00:00<?, ?it/s]\u001b[A\u001b[A\u001b[A\n",
            "\n",
            " 50%|█████     | 1/2 [00:09<00:09,  9.37s/it]\u001b[A\u001b[A\n",
            "100%|██████████| 1/1 [00:09<00:00,  9.39s/it]\n",
            "\n",
            "\n",
            "\n",
            "100%|██████████| 1/1 [00:09<00:00,  9.44s/it]\n",
            "100%|██████████| 1/1 [00:09<00:00,  9.38s/it]\n"
          ]
        },
        {
          "output_type": "stream",
          "name": "stdout",
          "text": [
            "Converting audio...\n",
            "Using cached preprocessed reference audio...\n",
            "Using custom reference text...\n",
            "\n",
            "ref_text    You know where the hats come from is because of this hair. Right. \n",
            "gen_text 0 Did you see that new movie 'Martyrs' everyone is talking about?\n",
            "\n",
            "\n",
            "Generating audio in 1 batches...\n",
            "Converting audio...\n",
            "Converting audio...\n",
            "Using cached preprocessed reference audio...\n",
            "Using custom reference text...\n",
            "\n",
            "ref_text    I just like the whole concept of YouTube, like if you work at McDonald's, you work eight hours and you get paid a certain amount of money, but if we put eight hours into our YouTube, depending on what we do, you can make, you can like, sky's the limit on what you can do with it. \n",
            "gen_text 0 rain\n",
            "\n",
            "\n",
            "Generating audio in 1 batches...\n"
          ]
        },
        {
          "output_type": "stream",
          "name": "stderr",
          "text": [
            "\r  0%|          | 0/1 [00:00<?, ?it/s]"
          ]
        },
        {
          "output_type": "stream",
          "name": "stdout",
          "text": [
            "Using cached preprocessed reference audio...\n",
            "Using custom reference text...\n",
            "\n",
            "ref_text    There's more to see than can ever be seen. More to do than can ever be done. \n",
            "gen_text 0 , I can't believe we forgot the dentist appointment!\n",
            "\n",
            "\n",
            "Generating audio in 1 batches...\n"
          ]
        },
        {
          "output_type": "stream",
          "name": "stderr",
          "text": [
            "\n",
            "  0%|          | 0/1 [00:00<?, ?it/s]\u001b[A\n",
            "\n",
            "\n",
            "  0%|          | 0/1 [00:00<?, ?it/s]\u001b[A\u001b[A\u001b[A\n",
            "100%|██████████| 1/1 [00:16<00:00, 16.13s/it]\n",
            "\n",
            "\n",
            "100%|██████████| 2/2 [00:25<00:00, 13.39s/it]\u001b[A\u001b[A\n",
            "\n",
            "\n",
            "100%|██████████| 2/2 [00:25<00:00, 12.79s/it]\n",
            "100%|██████████| 1/1 [00:16<00:00, 16.13s/it]\n",
            "100%|██████████| 1/1 [00:16<00:00, 16.15s/it]\n"
          ]
        },
        {
          "output_type": "stream",
          "name": "stdout",
          "text": [
            "Converting audio...\n",
            "Using cached preprocessed reference audio...\n",
            "Using custom reference text...\n",
            "\n",
            "ref_text    I just like the whole concept of YouTube, like if you work at McDonald's, you work eight hours and you get paid a certain amount of money, but if we put eight hours into our YouTube, depending on what we do, you can make, you can like, sky's the limit on what you can do with it. \n",
            "gen_text 0 later.\n",
            "\n",
            "\n",
            "Generating audio in 1 batches...\n"
          ]
        },
        {
          "output_type": "stream",
          "name": "stderr",
          "text": [
            "\r  0%|          | 0/1 [00:00<?, ?it/s]"
          ]
        },
        {
          "output_type": "stream",
          "name": "stdout",
          "text": [
            "Converting audio...\n",
            "Using cached preprocessed reference audio...\n",
            "Using custom reference text...\n",
            "\n",
            "ref_text    We got kicked out the old crib, so then we moved to some apartments down the street, and uh, I needed some weed, and I knew this nigga already from like a few, like weeks before that, when we came to get the weed with my nigga Matt. \n",
            "gen_text 0 switch to NBC, show me recommendations\n",
            "\n",
            "\n",
            "Generating audio in 1 batches...\n",
            "Converting audio...\n",
            "Converting audio...\n",
            "Using cached preprocessed reference audio...\n",
            "Using custom reference text...\n",
            "\n",
            "ref_text    Particularly among millennials, and I know millennials probably hate being called millennials, I'm sorry, whatever, but the fact. \n",
            "gen_text 0 turn off subtitles\n",
            "\n",
            "\n",
            "Generating audio in 1 batches...\n"
          ]
        },
        {
          "output_type": "stream",
          "name": "stderr",
          "text": [
            "\n",
            "  0%|          | 0/1 [00:00<?, ?it/s]\u001b[A"
          ]
        },
        {
          "output_type": "stream",
          "name": "stdout",
          "text": [
            "Using cached preprocessed reference audio...\n",
            "Using custom reference text...\n",
            "\n",
            "ref_text    When you say Colburn, what do you say?. \n",
            "gen_text 0 Mute the TV,\n",
            "\n",
            "\n",
            "Generating audio in 1 batches...\n"
          ]
        },
        {
          "output_type": "stream",
          "name": "stderr",
          "text": [
            "\n",
            "\n",
            "  0%|          | 0/1 [00:00<?, ?it/s]\u001b[A\u001b[A\n",
            "\n",
            "\n",
            "  0%|          | 0/1 [00:00<?, ?it/s]\u001b[A\u001b[A\u001b[A\n",
            "\n",
            "100%|██████████| 1/1 [00:10<00:00, 10.01s/it]\u001b[A\u001b[A\n",
            "\n",
            "\n",
            "100%|██████████| 1/1 [00:10<00:00, 10.02s/it]\n",
            "\n",
            "100%|██████████| 1/1 [00:10<00:00, 10.07s/it]\n",
            "100%|██████████| 1/1 [00:10<00:00, 10.01s/it]\n",
            "100%|██████████| 1/1 [00:10<00:00, 10.04s/it]\n"
          ]
        },
        {
          "output_type": "stream",
          "name": "stdout",
          "text": [
            "Converting audio...\n",
            "Using cached preprocessed reference audio...\n",
            "Using custom reference text...\n",
            "\n",
            "ref_text    Yes. One does still hear dreadful stories. \n",
            "gen_text 0 While we're discussing what to cook tonight, set brightness to 75.\n",
            "\n",
            "\n",
            "Generating audio in 1 batches...\n",
            "Converting audio...\n",
            "Converting audio...\n",
            "Converting audio...\n",
            "Using cached preprocessed reference audio...\n",
            "Using custom reference text...\n",
            "\n",
            "ref_text    When you say Colburn, what do you say?. \n",
            "Using cached preprocessed reference audio...\n",
            "Using custom reference text...\n",
            "\n",
            "ref_text    He led me back to the room that he'd pointed out as Carlisle's office. He paused outside the door for an instant. Come in, Carlisle's voice invited. \n",
            "gen_text 0 I can't believe she said that during dinner!\n",
            "\n",
            "\n",
            "Generating audio in 1 batches...\n",
            "gen_text 0 Mute the TV and do you remember when we went to that concert? Switch to channel Cartoon Network.\n",
            "\n",
            "\n",
            "Generating audio in 1 batches...\n",
            "Using cached preprocessed reference audio...\n",
            "Using custom reference text...\n",
            "\n",
            "ref_text    So, that will become a movie now and be quite fascinating. \n",
            "gen_text 0 restart the TV, open Tubi TV\n",
            "\n",
            "\n",
            "Generating audio in 1 batches...\n"
          ]
        },
        {
          "output_type": "stream",
          "name": "stderr",
          "text": [
            "  0%|          | 0/1 [00:00<?, ?it/s]\n",
            "  0%|          | 0/1 [00:00<?, ?it/s]\u001b[A\n",
            "\n",
            "  0%|          | 0/1 [00:00<?, ?it/s]\u001b[A\u001b[A\n",
            "\n",
            "\n",
            "  0%|          | 0/1 [00:00<?, ?it/s]\u001b[A\u001b[A\u001b[A\n",
            "100%|██████████| 1/1 [00:16<00:00, 16.97s/it]\u001b[A\n",
            "\n",
            "100%|██████████| 1/1 [00:16<00:00, 16.98s/it]\n",
            "100%|██████████| 1/1 [00:16<00:00, 16.98s/it]\n",
            "100%|██████████| 1/1 [00:16<00:00, 16.99s/it]\n",
            "\n",
            "\n",
            "\n",
            "100%|██████████| 1/1 [00:16<00:00, 16.98s/it]\n"
          ]
        },
        {
          "output_type": "stream",
          "name": "stdout",
          "text": [
            "Converting audio...\n",
            "Using cached preprocessed reference audio...\n",
            "Using custom reference text...\n",
            "\n",
            "ref_text    For more on this subject take a look at the playlist. You can also watch this recommended video. \n",
            "gen_text 0 turn on the TV, switch to AV mode\n",
            "\n",
            "\n",
            "Generating audio in 1 batches...\n",
            "Converting audio...\n",
            "Converting audio...\n",
            "Using cached preprocessed reference audio...\n",
            "Using custom reference text...\n",
            "\n",
            "ref_text    Yes. One does still hear dreadful stories. \n",
            "gen_text 0 While we're discussing what to cook tonight,\n",
            "\n",
            "\n",
            "Generating audio in 1 batches...\n"
          ]
        },
        {
          "output_type": "stream",
          "name": "stderr",
          "text": [
            "\r  0%|          | 0/1 [00:00<?, ?it/s]"
          ]
        },
        {
          "output_type": "stream",
          "name": "stdout",
          "text": [
            "Converting audio...\n",
            "Using cached preprocessed reference audio...\n",
            "Using custom reference text...\n",
            "\n",
            "ref_text    He led me back to the room that he'd pointed out as Carlisle's office. He paused outside the door for an instant. Come in, Carlisle's voice invited. \n",
            "gen_text 0 Mute the TV\n",
            "\n",
            "\n",
            "Generating audio in 1 batches...\n"
          ]
        },
        {
          "output_type": "stream",
          "name": "stderr",
          "text": [
            "\n",
            "  0%|          | 0/1 [00:00<?, ?it/s]\u001b[A"
          ]
        },
        {
          "output_type": "stream",
          "name": "stdout",
          "text": [
            "Using cached preprocessed reference audio...\n",
            "Using custom reference text...\n",
            "\n",
            "ref_text    Jefferson and I have been living under such a strain since all this began. I'm afraid I was terribly rude to you. Please forgive me. \n",
            "gen_text 0 launch Tubi TV, fast forward 30 seconds, did you see the game last night?\n",
            "\n",
            "\n",
            "Generating audio in 1 batches...\n"
          ]
        },
        {
          "output_type": "stream",
          "name": "stderr",
          "text": [
            "\n",
            "\n",
            "  0%|          | 0/1 [00:00<?, ?it/s]\u001b[A\u001b[A\n",
            "\n",
            "\n",
            "  0%|          | 0/1 [00:00<?, ?it/s]\u001b[A\u001b[A\u001b[A\n",
            "\n",
            "100%|██████████| 1/1 [00:10<00:00, 10.70s/it]\n",
            "100%|██████████| 1/1 [00:10<00:00, 10.75s/it]\n",
            "\n",
            "\n",
            "100%|██████████| 1/1 [00:10<00:00, 10.75s/it]\n",
            "100%|██████████| 1/1 [00:10<00:00, 10.70s/it]\n",
            "\n",
            "100%|██████████| 1/1 [00:10<00:00, 10.73s/it]\n"
          ]
        },
        {
          "output_type": "stream",
          "name": "stdout",
          "text": [
            "Converting audio...\n",
            "Using cached preprocessed reference audio...\n",
            "Using custom reference text...\n",
            "\n",
            "ref_text    He led me back to the room that he'd pointed out as Carlisle's office. He paused outside the door for an instant. Come in, Carlisle's voice invited. \n",
            "gen_text 0 and do you remember when we went to that concert?\n",
            "\n",
            "\n",
            "Generating audio in 1 batches...\n",
            "Converting audio...\n"
          ]
        },
        {
          "output_type": "stream",
          "name": "stderr",
          "text": [
            "\r  0%|          | 0/1 [00:00<?, ?it/s]"
          ]
        },
        {
          "output_type": "stream",
          "name": "stdout",
          "text": [
            "Using cached preprocessed reference audio...\n",
            "Using custom reference text...\n",
            "\n",
            "ref_text    My guardian then took me into his own room, and while he lunched, standing from a sandwich box and a pocket flask of sherry, he seemed to bully his very sandwich as he ate it, informed me what arrangements he had made for me. \n",
            "gen_text 0 Can you believe they canceled that show? Go to channel 5 and fast forward 30 seconds.\n",
            "\n",
            "\n",
            "Generating audio in 1 batches...\n",
            "Converting audio...\n",
            "Converting audio...\n",
            "Using cached preprocessed reference audio...\n",
            "Using custom reference text...\n",
            "\n",
            "ref_text    Yes. One does still hear dreadful stories. \n",
            "gen_text 0 set brightness to 75.\n",
            "\n",
            "\n",
            "Generating audio in 1 batches...\n",
            "Using cached preprocessed reference audio...\n",
            "Using custom reference text...\n",
            "\n",
            "ref_text    Jefferson and I have been living under such a strain since all this began. I'm afraid I was terribly rude to you. Please forgive me. \n"
          ]
        },
        {
          "output_type": "stream",
          "name": "stderr",
          "text": [
            "\n",
            "  0%|          | 0/1 [00:00<?, ?it/s]\u001b[A"
          ]
        },
        {
          "output_type": "stream",
          "name": "stdout",
          "text": [
            "gen_text 0 launch Tubi TV\n",
            "\n",
            "\n",
            "Generating audio in 1 batches...\n"
          ]
        },
        {
          "output_type": "stream",
          "name": "stderr",
          "text": [
            "\n",
            "\n",
            "  0%|          | 0/1 [00:00<?, ?it/s]\u001b[A\u001b[A\n",
            "\n",
            "\n",
            "  0%|          | 0/1 [00:00<?, ?it/s]\u001b[A\u001b[A\u001b[A\n",
            "\n",
            "\n",
            "100%|██████████| 1/1 [00:10<00:00, 10.08s/it]\n",
            "\n",
            "\n",
            "100%|██████████| 1/1 [00:10<00:00, 10.12s/it]\n",
            "100%|██████████| 1/1 [00:10<00:00, 10.09s/it]\n",
            "100%|██████████| 1/1 [00:10<00:00, 10.13s/it]\n",
            "100%|██████████| 1/1 [00:10<00:00, 10.10s/it]\n"
          ]
        },
        {
          "output_type": "stream",
          "name": "stdout",
          "text": [
            "Converting audio...\n",
            "Using cached preprocessed reference audio...\n",
            "Using custom reference text...\n",
            "\n",
            "ref_text    Jefferson and I have been living under such a strain since all this began. I'm afraid I was terribly rude to you. Please forgive me. \n",
            "gen_text 0 ,\n",
            "\n",
            "\n",
            "Generating audio in 1 batches...\n",
            "Converting audio...\n",
            "Using cached preprocessed reference audio...\n",
            "Using custom reference text...\n",
            "\n",
            "ref_text    Particularly among millennials, and I know millennials probably hate being called millennials, I'm sorry, whatever, but the fact. \n",
            "gen_text 0 restart the TV, switch to Tubi TV, set the volume to minimum\n",
            "\n",
            "\n",
            "Generating audio in 1 batches...\n",
            "Converting audio...\n",
            "Converting audio...\n",
            "Using cached preprocessed reference audio...\n",
            "Using custom reference text...\n",
            "\n",
            "ref_text    My guardian then took me into his own room, and while he lunched, standing from a sandwich box and a pocket flask of sherry, he seemed to bully his very sandwich as he ate it, informed me what arrangements he had made for me. \n",
            "Using cached preprocessed reference audio...\n",
            "Using custom reference text...\n",
            "\n",
            "ref_text    He led me back to the room that he'd pointed out as Carlisle's office. He paused outside the door for an instant. Come in, Carlisle's voice invited. \n",
            "gen_text 0 Go to channel 5\n",
            "\n",
            "\n",
            "Generating audio in 1 batches...\n",
            "gen_text 0 Switch to channel Cartoon Network\n",
            "\n",
            "\n",
            "Generating audio in 1 batches...\n"
          ]
        },
        {
          "output_type": "stream",
          "name": "stderr",
          "text": [
            "  0%|          | 0/1 [00:00<?, ?it/s]\n",
            "  0%|          | 0/1 [00:00<?, ?it/s]\u001b[A\n",
            "\n",
            "\n",
            "  0%|          | 0/1 [00:00<?, ?it/s]\u001b[A\u001b[A\u001b[A\n",
            "\n",
            "  0%|          | 0/1 [00:00<?, ?it/s]\u001b[A\u001b[A\n",
            "\n",
            "100%|██████████| 1/1 [00:09<00:00,  9.70s/it]\n",
            "\n",
            "100%|██████████| 1/1 [00:09<00:00,  9.71s/it]\u001b[A\n",
            "\n",
            "\n",
            "100%|██████████| 1/1 [00:09<00:00,  9.72s/it]\n",
            "100%|██████████| 1/1 [00:09<00:00,  9.71s/it]\n",
            "100%|██████████| 1/1 [00:09<00:00,  9.71s/it]\n"
          ]
        },
        {
          "output_type": "stream",
          "name": "stdout",
          "text": [
            "Converting audio...\n",
            "Using cached preprocessed reference audio...\n",
            "Using custom reference text...\n",
            "\n",
            "ref_text    My guardian then took me into his own room, and while he lunched, standing from a sandwich box and a pocket flask of sherry, he seemed to bully his very sandwich as he ate it, informed me what arrangements he had made for me. \n",
            "gen_text 0 and fast forward 30 seconds\n",
            "\n",
            "\n",
            "Generating audio in 1 batches...\n",
            "Converting audio...\n",
            "Using cached preprocessed reference audio...\n",
            "Using custom reference text...\n",
            "\n",
            "ref_text    Jefferson and I have been living under such a strain since all this began. I'm afraid I was terribly rude to you. Please forgive me. \n",
            "gen_text 0 fast forward 30 seconds\n",
            "\n",
            "\n",
            "Generating audio in 1 batches...\n",
            "Converting audio...\n"
          ]
        },
        {
          "output_type": "stream",
          "name": "stderr",
          "text": [
            "\r  0%|          | 0/1 [00:00<?, ?it/s]"
          ]
        },
        {
          "output_type": "stream",
          "name": "stdout",
          "text": [
            "Using cached preprocessed reference audio...\n",
            "Using custom reference text...\n",
            "\n",
            "ref_text    Well, I think you guys said it exactly right. You guys have hit on all the points. Um, you know, I know the NFL is pushing for a year suspension from what I'm hearing, but you know, I'm thinking it's going to be more six day games, um, you know, somewhere in that range. \n",
            "Converting audio...\n",
            "gen_text 0 Can you believe it? Set brightness to 75 and skip to the next episode.\n",
            "\n",
            "\n",
            "Generating audio in 1 batches...\n",
            "Using cached preprocessed reference audio...\n",
            "Using custom reference text...\n",
            "\n",
            "ref_text    That economic globalisation has progressed with tremendous speed, but politics and the media have remained primary national. \n"
          ]
        },
        {
          "output_type": "stream",
          "name": "stderr",
          "text": [
            "\n",
            "  0%|          | 0/1 [00:00<?, ?it/s]\u001b[A"
          ]
        },
        {
          "output_type": "stream",
          "name": "stdout",
          "text": [
            "gen_text 0 Did you catch the latest episode on PBS Kids last night?\n",
            "\n",
            "\n",
            "Generating audio in 1 batches...\n"
          ]
        },
        {
          "output_type": "stream",
          "name": "stderr",
          "text": [
            "\n",
            "\n",
            "  0%|          | 0/1 [00:00<?, ?it/s]\u001b[A\u001b[A\n",
            "\n",
            "\n",
            "  0%|          | 0/1 [00:00<?, ?it/s]\u001b[A\u001b[A\u001b[A\n",
            "100%|██████████| 1/1 [00:09<00:00,  9.62s/it]\n",
            "100%|██████████| 1/1 [00:09<00:00,  9.65s/it]\n",
            "\n",
            "\n",
            "\n",
            "100%|██████████| 1/1 [00:09<00:00,  9.60s/it]\u001b[A\u001b[A\u001b[A\n",
            "\n",
            "100%|██████████| 1/1 [00:09<00:00,  9.62s/it]\n",
            "100%|██████████| 1/1 [00:09<00:00,  9.61s/it]\n"
          ]
        },
        {
          "output_type": "stream",
          "name": "stdout",
          "text": [
            "Converting audio...\n",
            "Converting audio...\n",
            "Using cached preprocessed reference audio...\n",
            "Using custom reference text...\n",
            "\n",
            "ref_text    Jefferson and I have been living under such a strain since all this began. I'm afraid I was terribly rude to you. Please forgive me. \n",
            "Using cached preprocessed reference audio...\n",
            "Using custom reference text...\n",
            "\n",
            "ref_text    My guardian then took me into his own room, and while he lunched, standing from a sandwich box and a pocket flask of sherry, he seemed to bully his very sandwich as he ate it, informed me what arrangements he had made for me. \n",
            "gen_text 0 Can you believe they canceled that show?\n",
            "\n",
            "\n",
            "Generating audio in 1 batches...\n",
            "gen_text 0 ,\n",
            "\n",
            "\n",
            "Generating audio in 1 batches...\n",
            "Converting audio...\n",
            "Converting audio...\n",
            "Using cached preprocessed reference audio...\n",
            "Using custom reference text...\n",
            "\n",
            "ref_text    Well, I think you guys said it exactly right. You guys have hit on all the points. Um, you know, I know the NFL is pushing for a year suspension from what I'm hearing, but you know, I'm thinking it's going to be more six day games, um, you know, somewhere in that range. \n",
            "Using cached preprocessed reference audio...\n",
            "Using custom reference text...\n",
            "\n",
            "ref_text    Hare Krishna, Hanuman, Vishnu Maharaj, humble obeisances. Thank you so much for joining once again for the Monks Podcast. \n",
            "gen_text 0 search on Tubi TV for The Walking Dead\n",
            "\n",
            "\n",
            "Generating audio in 1 batches...\n",
            "gen_text 0 Set brightness to 75\n",
            "\n",
            "\n",
            "Generating audio in 1 batches...\n"
          ]
        },
        {
          "output_type": "stream",
          "name": "stderr",
          "text": [
            "  0%|          | 0/1 [00:00<?, ?it/s]\n",
            "  0%|          | 0/1 [00:00<?, ?it/s]\u001b[A\n",
            "\n",
            "\n",
            "  0%|          | 0/1 [00:00<?, ?it/s]\u001b[A\u001b[A\u001b[A\n",
            "\n",
            "  0%|          | 0/1 [00:00<?, ?it/s]\u001b[A\u001b[A\n",
            "\n",
            "\n",
            "100%|██████████| 1/1 [00:11<00:00, 11.37s/it]\n",
            "\n",
            "100%|██████████| 1/1 [00:11<00:00, 11.38s/it]\n",
            "100%|██████████| 1/1 [00:11<00:00, 11.36s/it]\n",
            "\n",
            "100%|██████████| 1/1 [00:11<00:00, 11.36s/it]\n",
            "100%|██████████| 1/1 [00:11<00:00, 11.38s/it]\n"
          ]
        },
        {
          "output_type": "stream",
          "name": "stdout",
          "text": [
            "Converting audio...\n",
            "Using cached preprocessed reference audio...\n",
            "Using custom reference text...\n",
            "\n",
            "ref_text    No idea where she is? Nope. I haven't seen her since she was here last night. She may be gone for good. But she can't be. All her stuff is there. Clothes and everything. \n",
            "gen_text 0 I just found out that the show on HBO is getting a new season next month.\n",
            "\n",
            "\n",
            "Generating audio in 1 batches...\n",
            "Converting audio...\n",
            "Converting audio...\n",
            "Converting audio...\n",
            "Using cached preprocessed reference audio...\n",
            "Using custom reference text...\n",
            "\n",
            "ref_text    Well, I think you guys said it exactly right. You guys have hit on all the points. Um, you know, I know the NFL is pushing for a year suspension from what I'm hearing, but you know, I'm thinking it's going to be more six day games, um, you know, somewhere in that range. \n",
            "Using cached preprocessed reference audio...\n",
            "Using custom reference text...\n",
            "\n",
            "ref_text    That economic globalisation has progressed with tremendous speed, but politics and the media have remained primary national. \n",
            "gen_text 0 Can you believe it?\n",
            "\n",
            "\n",
            "Generating audio in 1 batches...\n"
          ]
        },
        {
          "output_type": "stream",
          "name": "stderr",
          "text": [
            "\r  0%|          | 0/1 [00:00<?, ?it/s]"
          ]
        },
        {
          "output_type": "stream",
          "name": "stdout",
          "text": [
            "gen_text 0 I really enjoyed the concert last night; switch to channel PBS Kids.\n",
            "\n",
            "\n",
            "Generating audio in 1 batches...\n",
            "Using cached preprocessed reference audio...\n",
            "Using custom reference text...\n",
            "\n",
            "ref_text    Jefferson and I have been living under such a strain since all this began. I'm afraid I was terribly rude to you. Please forgive me. \n",
            "gen_text 0 did you see the game last night?\n",
            "\n",
            "\n",
            "Generating audio in 1 batches...\n"
          ]
        },
        {
          "output_type": "stream",
          "name": "stderr",
          "text": [
            "\n",
            "  0%|          | 0/1 [00:00<?, ?it/s]\u001b[A\n",
            "\n",
            "\n",
            "  0%|          | 0/1 [00:00<?, ?it/s]\u001b[A\u001b[A\u001b[A\n",
            "\n",
            "  0%|          | 0/1 [00:00<?, ?it/s]\u001b[A\u001b[A\n",
            "100%|██████████| 1/1 [00:11<00:00, 11.76s/it]\n",
            "\n",
            "100%|██████████| 1/1 [00:11<00:00, 11.76s/it]\n",
            "100%|██████████| 1/1 [00:11<00:00, 11.77s/it]\n",
            "\n",
            "\n",
            "\n",
            "100%|██████████| 1/1 [00:11<00:00, 11.75s/it]\n",
            "100%|██████████| 1/1 [00:11<00:00, 11.76s/it]\n"
          ]
        },
        {
          "output_type": "stream",
          "name": "stdout",
          "text": [
            "Converting audio...\n",
            "Using cached preprocessed reference audio...\n",
            "Using custom reference text...\n",
            "\n",
            "ref_text    Well, I think you guys said it exactly right. You guys have hit on all the points. Um, you know, I know the NFL is pushing for a year suspension from what I'm hearing, but you know, I'm thinking it's going to be more six day games, um, you know, somewhere in that range. \n",
            "gen_text 0 skip to the next episode.\n",
            "\n",
            "\n",
            "Generating audio in 1 batches...\n",
            "Converting audio...\n",
            "Converting audio...\n",
            "Converting audio...\n"
          ]
        },
        {
          "output_type": "stream",
          "name": "stderr",
          "text": [
            "\r  0%|          | 0/1 [00:00<?, ?it/s]"
          ]
        },
        {
          "output_type": "stream",
          "name": "stdout",
          "text": [
            "Using cached preprocessed reference audio...Using cached preprocessed reference audio...\n",
            "Using custom reference text...\n",
            "\n",
            "ref_text    It's not so much that Goldman Sachs is ruling the world, but it is like a greater parasite that is threatening to stop the world from rebalancing itself and recovering a sense of democratic control over its future. \n",
            "gen_text 0 I can't decide whether to watch a movie like 'Elevator to the Gallows' or catch an episode of 'The Disney Channel' later.\n",
            "\n",
            "\n",
            "Generating audio in 1 batches...\n",
            "Using cached preprocessed reference audio...\n",
            "Using custom reference text...\n",
            "\n",
            "ref_text    We got kicked out the old crib, so then we moved to some apartments down the street, and uh, I needed some weed, and I knew this nigga already from like a few, like weeks before that, when we came to get the weed with my nigga Matt. \n",
            "\n",
            "Using custom reference text...\n",
            "\n",
            "ref_text    That economic globalisation has progressed with tremendous speed, but politics and the media have remained primary national. \n",
            "gen_text 0 turn off the TV, did you see the game last night?\n",
            "\n",
            "\n",
            "Generating audio in 1 batches...\n",
            "gen_text 0 I really enjoyed the concert last night;\n",
            "\n",
            "\n",
            "Generating audio in 1 batches...\n"
          ]
        },
        {
          "output_type": "stream",
          "name": "stderr",
          "text": [
            "\n",
            "  0%|          | 0/1 [00:00<?, ?it/s]\u001b[A\n",
            "\n",
            "  0%|          | 0/1 [00:00<?, ?it/s]\u001b[A\u001b[A\n",
            "\n",
            "\n",
            "100%|██████████| 1/1 [00:10<00:00, 10.49s/it]\n",
            "\n",
            "\n",
            "100%|██████████| 1/1 [00:10<00:00, 10.47s/it]\u001b[A\u001b[A\n",
            "100%|██████████| 1/1 [00:10<00:00, 10.48s/it]\u001b[A\n",
            "\n",
            "\n",
            "100%|██████████| 1/1 [00:10<00:00, 10.48s/it]\n",
            "100%|██████████| 1/1 [00:10<00:00, 10.49s/it]\n",
            "100%|██████████| 1/1 [00:10<00:00, 10.48s/it]\n"
          ]
        },
        {
          "output_type": "stream",
          "name": "stdout",
          "text": [
            "Converting audio...\n",
            "Using cached preprocessed reference audio...\n",
            "Using custom reference text...\n",
            "\n",
            "ref_text    Looking at you it would be too easy to write songs about you. I need a challenge to bring out my best work. \n",
            "gen_text 0 Did you hear that the new series on Disney Channel has some incredible animation?\n",
            "\n",
            "\n",
            "Generating audio in 1 batches...\n"
          ]
        },
        {
          "output_type": "stream",
          "name": "stderr",
          "text": [
            "\r  0%|          | 0/1 [00:00<?, ?it/s]"
          ]
        },
        {
          "output_type": "stream",
          "name": "stdout",
          "text": [
            "Converting audio...\n",
            "Converting audio...\n",
            "Converting audio...\n",
            "Using cached preprocessed reference audio...\n",
            "Using custom reference text...\n",
            "\n",
            "ref_text    We got kicked out the old crib, so then we moved to some apartments down the street, and uh, I needed some weed, and I knew this nigga already from like a few, like weeks before that, when we came to get the weed with my nigga Matt. \n",
            "gen_text 0 turn off the TV\n",
            "\n",
            "\n",
            "Generating audio in 1 batches...\n",
            "Using cached preprocessed reference audio...\n",
            "Using custom reference text...\n",
            "\n",
            "ref_text    That economic globalisation has progressed with tremendous speed, but politics and the media have remained primary national. \n",
            "Using cached preprocessed reference audio...\n",
            "Using custom reference text...\n",
            "\n",
            "ref_text    The fucking, like, port-a-body scene at festivals, I would so much rather not deal with, first of all, like, the line for the girls going into that, like, disgusting place, but like, you do it, you deal with it, right? But I discovered, being at Bonereel this past summer, that the amount I had to fucking go, I was just like, this isn't worth the line. \n",
            "gen_text 0 I can't believe how quickly the season has changed; add this to my watchlist.\n",
            "\n",
            "\n",
            "Generating audio in 1 batches...\n",
            "gen_text 0 switch to channel PBS Kids.\n",
            "\n",
            "\n",
            "Generating audio in 1 batches...\n"
          ]
        },
        {
          "output_type": "stream",
          "name": "stderr",
          "text": [
            "\n",
            "  0%|          | 0/1 [00:00<?, ?it/s]\u001b[A\n",
            "\n",
            "  0%|          | 0/1 [00:00<?, ?it/s]\u001b[A\u001b[A\n",
            "\n",
            "\n",
            "  0%|          | 0/1 [00:00<?, ?it/s]\u001b[A\u001b[A\u001b[A\n",
            "100%|██████████| 1/1 [00:07<00:00,  7.85s/it]\n",
            "\n",
            "\n",
            "100%|██████████| 1/1 [00:07<00:00,  7.85s/it]\u001b[A\u001b[A\n",
            "\n",
            "\n",
            "100%|██████████| 1/1 [00:07<00:00,  7.85s/it]\n",
            "100%|██████████| 1/1 [00:07<00:00,  7.85s/it]\n",
            "100%|██████████| 1/1 [00:07<00:00,  7.91s/it]\n"
          ]
        },
        {
          "output_type": "stream",
          "name": "stdout",
          "text": [
            "Converting audio...\n",
            "Using cached preprocessed reference audio...\n",
            "Using custom reference text...\n",
            "\n",
            "ref_text    We got kicked out the old crib, so then we moved to some apartments down the street, and uh, I needed some weed, and I knew this nigga already from like a few, like weeks before that, when we came to get the weed with my nigga Matt. \n",
            "gen_text 0 , did you see the game last night?\n",
            "\n",
            "\n",
            "Generating audio in 1 batches...\n"
          ]
        },
        {
          "output_type": "stream",
          "name": "stderr",
          "text": [
            "\r  0%|          | 0/1 [00:00<?, ?it/s]"
          ]
        },
        {
          "output_type": "stream",
          "name": "stdout",
          "text": [
            "Converting audio...\n",
            "Using cached preprocessed reference audio...\n",
            "Using custom reference text...\n",
            "\n",
            "ref_text    The fucking, like, port-a-body scene at festivals, I would so much rather not deal with, first of all, like, the line for the girls going into that, like, disgusting place, but like, you do it, you deal with it, right? But I discovered, being at Bonereel this past summer, that the amount I had to fucking go, I was just like, this isn't worth the line. \n",
            "gen_text 0 I can't believe how quickly the season has changed;\n",
            "\n",
            "\n",
            "Generating audio in 1 batches...\n",
            "Converting audio...\n",
            "Converting audio...\n",
            "Using cached preprocessed reference audio...\n",
            "Using custom reference text...\n",
            "\n",
            "ref_text    All right, shout out to the fam, man, like I've been saying for some time now. Welcome, welcome, welcome. You're now rocking with the Sportscom with Big Q and the guys, but we have intense, entertaining, educating, and enlightening sports talk from your favorite sports fam. What's poppin fam?. \n",
            "Using cached preprocessed reference audio...\n",
            "Using custom reference text...\n",
            "\n",
            "ref_text    Once we were into the trees, Edward slung me over his back without breaking stride. I gripped as tightly as possible as he took off, the others close on his heels. I kept my head down, but my eyes, wide with fright, wouldn't close. They plunged through the now black forest like wraiths. \n",
            "gen_text 0 switch to channel ABC, unmute the TV, set brightness to 75\n",
            "\n",
            "\n",
            "Generating audio in 1 batches...\n",
            "gen_text 0 next channel\n",
            "\n",
            "\n",
            "Generating audio in 1 batches...\n"
          ]
        },
        {
          "output_type": "stream",
          "name": "stderr",
          "text": [
            "\n",
            "  0%|          | 0/1 [00:00<?, ?it/s]\u001b[A\n",
            "\n",
            "  0%|          | 0/1 [00:00<?, ?it/s]\u001b[A\u001b[A\n",
            "\n",
            "\n",
            "  0%|          | 0/1 [00:00<?, ?it/s]\u001b[A\u001b[A\u001b[A\n",
            "100%|██████████| 1/1 [00:08<00:00,  8.23s/it]\n",
            "\n",
            "\n",
            "\n",
            "100%|██████████| 1/1 [00:08<00:00,  8.21s/it]\u001b[A\u001b[A\u001b[A\n",
            "\n",
            "100%|██████████| 1/1 [00:08<00:00,  8.23s/it]\n",
            "100%|██████████| 1/1 [00:08<00:00,  8.22s/it]\n",
            "100%|██████████| 1/1 [00:08<00:00,  8.30s/it]"
          ]
        },
        {
          "output_type": "stream",
          "name": "stdout",
          "text": [
            "Converting audio...\n",
            "Using cached preprocessed reference audio...\n",
            "Using custom reference text...\n",
            "\n",
            "ref_text    The fucking, like, port-a-body scene at festivals, I would so much rather not deal with, first of all, like, the line for the girls going into that, like, disgusting place, but like, you do it, you deal with it, right? But I discovered, being at Bonereel this past summer, that the amount I had to fucking go, I was just like, this isn't worth the line. \n",
            "gen_text 0 add this to my watchlist.\n",
            "\n",
            "\n",
            "Generating audio in 1 batches...\n",
            "Converting audio...\n",
            "Converting audio...\n",
            "Using cached preprocessed reference audio...\n",
            "Using custom reference text...\n",
            "\n",
            "ref_text    Not knowing to communicate certain like constraints just because they were so obvious or like apparent to them and everyone in their domain. \n",
            "gen_text 0 Skip to next episode, it's been ages since I saw you last!\n",
            "\n",
            "\n",
            "Generating audio in 1 batches...\n"
          ]
        },
        {
          "output_type": "stream",
          "name": "stderr",
          "text": [
            "\n",
            "\r  0%|          | 0/1 [00:00<?, ?it/s]"
          ]
        },
        {
          "output_type": "stream",
          "name": "stdout",
          "text": [
            "Using cached preprocessed reference audio...\n",
            "Using custom reference text...\n",
            "\n",
            "ref_text    All right, shout out to the fam, man, like I've been saying for some time now. Welcome, welcome, welcome. You're now rocking with the Sportscom with Big Q and the guys, but we have intense, entertaining, educating, and enlightening sports talk from your favorite sports fam. What's poppin fam?. \n",
            "gen_text 0 I think I'm going to cook pasta tonight, and turn off subtitles.\n",
            "\n",
            "\n",
            "Generating audio in 1 batches...\n"
          ]
        },
        {
          "output_type": "stream",
          "name": "stderr",
          "text": [
            "\n",
            "\n",
            "  0%|          | 0/1 [00:00<?, ?it/s]\u001b[A\u001b[A\n",
            "  0%|          | 0/1 [00:00<?, ?it/s]\u001b[A"
          ]
        },
        {
          "output_type": "stream",
          "name": "stdout",
          "text": [
            "Converting audio...\n",
            "Using cached preprocessed reference audio...\n",
            "Using custom reference text...\n",
            "\n",
            "ref_text    Looking at you it would be too easy to write songs about you. I need a challenge to bring out my best work. \n",
            "gen_text 0 open settings, enable night mode, fast forward 30 seconds\n",
            "\n",
            "\n",
            "Generating audio in 1 batches...\n"
          ]
        },
        {
          "output_type": "stream",
          "name": "stderr",
          "text": [
            "\n",
            "\n",
            "\n",
            "100%|██████████| 1/1 [00:09<00:00,  9.78s/it]\n",
            "\n",
            "100%|██████████| 1/1 [00:09<00:00,  9.77s/it]\u001b[A\n",
            "\n",
            "\n",
            "100%|██████████| 1/1 [00:09<00:00,  9.75s/it]\u001b[A\u001b[A\u001b[A\n",
            "\n",
            "100%|██████████| 1/1 [00:09<00:00,  9.78s/it]\n",
            "100%|██████████| 1/1 [00:09<00:00,  9.77s/it]\n",
            "100%|██████████| 1/1 [00:09<00:00,  9.79s/it]\n"
          ]
        },
        {
          "output_type": "stream",
          "name": "stdout",
          "text": [
            "Converting audio...\n",
            "Using cached preprocessed reference audio...\n",
            "Using custom reference text...\n",
            "\n",
            "ref_text    Hey guys, what's up? LDShadowLady here, and welcome to a mod review on a mod called Revenge of the Blocks. As you can see behind me, some of your favourite Minecraft authors have come alive, and they want revenge. For all that mining you did. \n",
            "gen_text 0 go to channel ABC, skip intro, add this to my watchlist\n",
            "\n",
            "\n",
            "Generating audio in 1 batches...\n"
          ]
        },
        {
          "output_type": "stream",
          "name": "stderr",
          "text": [
            "\r  0%|          | 0/1 [00:00<?, ?it/s]"
          ]
        },
        {
          "output_type": "stream",
          "name": "stdout",
          "text": [
            "Converting audio...\n",
            "Using cached preprocessed reference audio...\n",
            "Using custom reference text...\n",
            "\n",
            "ref_text    Not knowing to communicate certain like constraints just because they were so obvious or like apparent to them and everyone in their domain. \n",
            "gen_text 0 Skip to next episode\n",
            "\n",
            "\n",
            "Generating audio in 1 batches...\n",
            "Converting audio...\n",
            "Converting audio...\n",
            "Using cached preprocessed reference audio...\n",
            "Using custom reference text...\n",
            "\n",
            "ref_text    We're for Tokyo number one colony part 13 and Fushiguro. \n",
            "Using cached preprocessed reference audio...\n",
            "Using custom reference text...\n",
            "\n",
            "ref_text    All right, shout out to the fam, man, like I've been saying for some time now. Welcome, welcome, welcome. You're now rocking with the Sportscom with Big Q and the guys, but we have intense, entertaining, educating, and enlightening sports talk from your favorite sports fam. What's poppin fam?. \n",
            "gen_text 0 Hey, did you catch that last episode? Close Tubi TV and skip to next episode.\n",
            "\n",
            "\n",
            "Generating audio in 1 batches...\n"
          ]
        },
        {
          "output_type": "stream",
          "name": "stderr",
          "text": [
            "\n",
            "  0%|          | 0/1 [00:00<?, ?it/s]\u001b[A"
          ]
        },
        {
          "output_type": "stream",
          "name": "stdout",
          "text": [
            "gen_text 0 I think I'm going to cook pasta tonight,\n",
            "\n",
            "\n",
            "Generating audio in 1 batches...\n"
          ]
        },
        {
          "output_type": "stream",
          "name": "stderr",
          "text": [
            "\n",
            "\n",
            "\n",
            "  0%|          | 0/1 [00:00<?, ?it/s]\u001b[A\u001b[A\u001b[A\n",
            "\n",
            "  0%|          | 0/1 [00:00<?, ?it/s]\u001b[A\u001b[A\n",
            "\n",
            "100%|██████████| 1/1 [00:10<00:00, 10.12s/it]\n",
            "\n",
            "\n",
            "\n",
            "100%|██████████| 1/1 [00:10<00:00, 10.18s/it]\n",
            "\n",
            "100%|██████████| 1/1 [00:10<00:00, 10.13s/it]\n",
            "100%|██████████| 1/1 [00:10<00:00, 10.14s/it]\n"
          ]
        },
        {
          "output_type": "stream",
          "name": "stdout",
          "text": [
            "Converting audio...\n",
            "Converting audio...\n",
            "Using cached preprocessed reference audio...\n",
            "Using custom reference text...\n",
            "\n",
            "ref_text    All right, shout out to the fam, man, like I've been saying for some time now. Welcome, welcome, welcome. You're now rocking with the Sportscom with Big Q and the guys, but we have intense, entertaining, educating, and enlightening sports talk from your favorite sports fam. What's poppin fam?. \n",
            "Using cached preprocessed reference audio...\n",
            "Using custom reference text...\n",
            "\n",
            "ref_text    I know that I just can't help it, love. So after all these years, you're finally gonna pop the question, huh?. \n",
            "gen_text 0 turn off subtitles.\n",
            "\n",
            "\n",
            "Generating audio in 1 batches...\n",
            "gen_text 0 Set the volume to minimum and what do you think about the new restaurant downtown? Go back to previous episode.\n",
            "\n",
            "\n",
            "Generating audio in 1 batches...\n",
            "Converting audio...\n",
            "Converting audio...\n",
            "Using cached preprocessed reference audio...\n",
            "Using custom reference text...\n",
            "\n",
            "ref_text    Not knowing to communicate certain like constraints just because they were so obvious or like apparent to them and everyone in their domain. \n",
            "Using cached preprocessed reference audio...\n",
            "Using custom reference text...\n",
            "\n",
            "ref_text    We're for Tokyo number one colony part 13 and Fushiguro. \n",
            "gen_text 0 , it's been ages since I saw you last!\n",
            "\n",
            "\n",
            "Generating audio in 1 batches...\n",
            "gen_text 0 Close Tubi TV\n",
            "\n",
            "\n",
            "Generating audio in 1 batches...\n"
          ]
        },
        {
          "output_type": "stream",
          "name": "stderr",
          "text": [
            "  0%|          | 0/1 [00:00<?, ?it/s]\n",
            "  0%|          | 0/1 [00:00<?, ?it/s]\u001b[A\n",
            "\n",
            "  0%|          | 0/1 [00:00<?, ?it/s]\u001b[A\u001b[A\n",
            "\n",
            "\n",
            "100%|██████████| 1/1 [00:08<00:00,  8.34s/it]\n",
            "\n",
            "100%|██████████| 1/1 [00:08<00:00,  8.33s/it]\u001b[A\n",
            "\n",
            "100%|██████████| 1/1 [00:08<00:00,  8.33s/it]\u001b[A\u001b[A\n",
            "\n",
            "\n",
            "100%|██████████| 1/1 [00:08<00:00,  8.34s/it]\n",
            "100%|██████████| 1/1 [00:08<00:00,  8.34s/it]\n",
            "100%|██████████| 1/1 [00:08<00:00,  8.33s/it]\n"
          ]
        },
        {
          "output_type": "stream",
          "name": "stdout",
          "text": [
            "Converting audio...\n",
            "Using cached preprocessed reference audio...\n",
            "Using custom reference text...\n",
            "\n",
            "ref_text    I know that I just can't help it, love. So after all these years, you're finally gonna pop the question, huh?. \n",
            "gen_text 0 Set the volume to minimum\n",
            "\n",
            "\n",
            "Generating audio in 1 batches...\n",
            "Converting audio...\n",
            "Using cached preprocessed reference audio...\n",
            "Using custom reference text...\n",
            "\n",
            "ref_text    We're for Tokyo number one colony part 13 and Fushiguro. \n",
            "gen_text 0 and\n",
            "\n",
            "\n",
            "Generating audio in 1 batches...\n",
            "Converting audio...\n"
          ]
        },
        {
          "output_type": "stream",
          "name": "stderr",
          "text": [
            "\r  0%|          | 0/1 [00:00<?, ?it/s]"
          ]
        },
        {
          "output_type": "stream",
          "name": "stdout",
          "text": [
            "Using cached preprocessed reference audio...\n",
            "Using custom reference text...\n",
            "\n",
            "ref_text    Hey, I'm Leandro and I'm a machine learning engineer in the open source team at Hugging Face. \n",
            "gen_text 0 turn on the TV, change the channel, set contrast to 75\n",
            "\n",
            "\n",
            "Generating audio in 1 batches...\n",
            "Converting audio...\n",
            "Using cached preprocessed reference audio...\n",
            "Using custom reference text...\n",
            "\n",
            "ref_text    So involved was I in my escapist daydreams, I lost all track of the seconds racing by. Hey, what was the number? The cabbie's question punctured my fantasy, letting all the colors run out of my lovely delusions. Fear. \n",
            "gen_text 0 Change input to Sling TV, I never expected that movie to end like that!\n",
            "\n",
            "\n",
            "Generating audio in 1 batches...\n"
          ]
        },
        {
          "output_type": "stream",
          "name": "stderr",
          "text": [
            "\n",
            "\n",
            "  0%|          | 0/1 [00:00<?, ?it/s]\u001b[A\u001b[A\n",
            "  0%|          | 0/1 [00:00<?, ?it/s]\u001b[A\n",
            "\n",
            "\n",
            "100%|██████████| 1/1 [00:07<00:00,  7.17s/it]\n",
            "\n",
            "\n",
            "\n",
            "100%|██████████| 1/1 [00:07<00:00,  7.13s/it]\u001b[A\u001b[A\u001b[A\n",
            "\n",
            "100%|██████████| 1/1 [00:07<00:00,  7.14s/it]\u001b[A\u001b[A\n",
            "100%|██████████| 1/1 [00:07<00:00,  7.15s/it]\n",
            "100%|██████████| 1/1 [00:07<00:00,  7.16s/it]\n",
            "100%|██████████| 1/1 [00:07<00:00,  7.15s/it]\n"
          ]
        },
        {
          "output_type": "stream",
          "name": "stdout",
          "text": [
            "Converting audio...\n",
            "Using cached preprocessed reference audio...\n",
            "Using custom reference text...\n",
            "\n",
            "ref_text    I know that I just can't help it, love. So after all these years, you're finally gonna pop the question, huh?. \n",
            "gen_text 0 and what do you think about the new restaurant downtown?\n",
            "\n",
            "\n",
            "Generating audio in 1 batches...\n"
          ]
        },
        {
          "output_type": "stream",
          "name": "stderr",
          "text": [
            "\r  0%|          | 0/1 [00:00<?, ?it/s]"
          ]
        },
        {
          "output_type": "stream",
          "name": "stdout",
          "text": [
            "Converting audio...\n",
            "Using cached preprocessed reference audio...\n",
            "Using custom reference text...\n",
            "\n",
            "ref_text    We're for Tokyo number one colony part 13 and Fushiguro. \n",
            "gen_text 0 skip to next episode\n",
            "\n",
            "\n",
            "Generating audio in 1 batches...\n",
            "Converting audio...\n",
            "Converting audio...\n"
          ]
        },
        {
          "output_type": "stream",
          "name": "stderr",
          "text": [
            "\n",
            "  0%|          | 0/1 [00:00<?, ?it/s]\u001b[A"
          ]
        },
        {
          "output_type": "stream",
          "name": "stdout",
          "text": [
            "Using cached preprocessed reference audio...\n",
            "Using custom reference text...\n",
            "\n",
            "ref_text    So involved was I in my escapist daydreams, I lost all track of the seconds racing by. Hey, what was the number? The cabbie's question punctured my fantasy, letting all the colors run out of my lovely delusions. Fear. \n",
            "gen_text 0 Change input to Sling TV\n",
            "\n",
            "\n",
            "Generating audio in 1 batches...\n",
            "Using cached preprocessed reference audio...\n",
            "Using custom reference text...\n",
            "\n",
            "ref_text    Jefferson and I have been living under such a strain since all this began. I'm afraid I was terribly rude to you. Please forgive me. \n",
            "gen_text 0 Set the volume to minimum while you tell me about your day, then show me HBO, and don't forget to unmute the TV.\n",
            "\n",
            "\n",
            "Generating audio in 1 batches...\n"
          ]
        },
        {
          "output_type": "stream",
          "name": "stderr",
          "text": [
            "\n",
            "\n",
            "  0%|          | 0/1 [00:00<?, ?it/s]\u001b[A\u001b[A\n",
            "\n",
            "\n",
            "  0%|          | 0/1 [00:00<?, ?it/s]\u001b[A\u001b[A\u001b[A\n",
            "\n",
            "100%|██████████| 1/1 [00:07<00:00,  7.58s/it]\n",
            "100%|██████████| 1/1 [00:07<00:00,  7.64s/it]\n",
            "\n",
            "\n",
            "100%|██████████| 1/1 [00:07<00:00,  7.64s/it]\n",
            "\n",
            "100%|██████████| 1/1 [00:07<00:00,  7.60s/it]\n",
            "100%|██████████| 1/1 [00:07<00:00,  7.59s/it]\n"
          ]
        },
        {
          "output_type": "stream",
          "name": "stdout",
          "text": [
            "Converting audio...\n",
            "Using cached preprocessed reference audio...\n",
            "Using custom reference text...\n",
            "\n",
            "ref_text    So involved was I in my escapist daydreams, I lost all track of the seconds racing by. Hey, what was the number? The cabbie's question punctured my fantasy, letting all the colors run out of my lovely delusions. Fear. \n",
            "gen_text 0 , I never expected that movie to end like that!\n",
            "\n",
            "\n",
            "Generating audio in 1 batches...\n",
            "Converting audio...\n"
          ]
        },
        {
          "output_type": "stream",
          "name": "stderr",
          "text": [
            "\r  0%|          | 0/1 [00:00<?, ?it/s]"
          ]
        },
        {
          "output_type": "stream",
          "name": "stdout",
          "text": [
            "Using cached preprocessed reference audio...\n",
            "Using custom reference text...\n",
            "\n",
            "ref_text    I know that I just can't help it, love. So after all these years, you're finally gonna pop the question, huh?. \n",
            "gen_text 0 Go back to previous episode\n",
            "\n",
            "\n",
            "Generating audio in 1 batches...\n",
            "Converting audio...\n"
          ]
        },
        {
          "output_type": "stream",
          "name": "stderr",
          "text": [
            "\n",
            "  0%|          | 0/1 [00:00<?, ?it/s]\u001b[A"
          ]
        },
        {
          "output_type": "stream",
          "name": "stdout",
          "text": [
            "Using cached preprocessed reference audio...\n",
            "Using custom reference text...\n",
            "\n",
            "ref_text    We're for Tokyo number one colony part 13 and Fushiguro. \n",
            "gen_text 0 Hey, did you catch that last episode?\n",
            "\n",
            "\n",
            "Generating audio in 1 batches...\n",
            "Converting audio...\n",
            "Using cached preprocessed reference audio...\n",
            "Using custom reference text...\n",
            "\n",
            "ref_text    Jefferson and I have been living under such a strain since all this began. I'm afraid I was terribly rude to you. Please forgive me. \n",
            "gen_text 0 Set the volume to minimum\n",
            "\n",
            "\n",
            "Generating audio in 1 batches...\n"
          ]
        },
        {
          "output_type": "stream",
          "name": "stderr",
          "text": [
            "\n",
            "\n",
            "  0%|          | 0/1 [00:00<?, ?it/s]\u001b[A\u001b[A\n",
            "\n",
            "\n",
            "  0%|          | 0/1 [00:00<?, ?it/s]\u001b[A\u001b[A\u001b[A\n",
            "100%|██████████| 1/1 [00:06<00:00,  6.79s/it]\u001b[A\n",
            "\n",
            "\n",
            "100%|██████████| 1/1 [00:06<00:00,  6.77s/it]\u001b[A\u001b[A\u001b[A\n",
            "\n",
            "100%|██████████| 1/1 [00:06<00:00,  6.80s/it]\n",
            "100%|██████████| 1/1 [00:06<00:00,  6.78s/it]\n",
            "100%|██████████| 1/1 [00:06<00:00,  6.83s/it]\n",
            "100%|██████████| 1/1 [00:06<00:00,  6.78s/it]\n"
          ]
        },
        {
          "output_type": "stream",
          "name": "stdout",
          "text": [
            "Converting audio...\n",
            "Using cached preprocessed reference audio...\n",
            "Using custom reference text...\n",
            "\n",
            "ref_text    They said it was a bad idea, Laurie. Respectfully, I don't think that's a good thumbnail, Pete told me, but I'm going to see no time to die tonight and I'm excited about the new James Bond film. So that is why we have. \n",
            "gen_text 0 Have you considered watching something on Netflix tonight?\n",
            "\n",
            "\n",
            "Generating audio in 1 batches...\n",
            "Converting audio...\n",
            "Converting audio...\n",
            "Converting audio...\n",
            "Using cached preprocessed reference audio...\n",
            "Using custom reference text...\n",
            "\n",
            "ref_text    Jefferson and I have been living under such a strain since all this began. I'm afraid I was terribly rude to you. Please forgive me. \n",
            "gen_text 0 while you tell me about your day\n",
            "\n",
            "\n",
            "Generating audio in 1 batches...\n",
            "Using cached preprocessed reference audio...\n",
            "Using custom reference text...\n",
            "\n",
            "ref_text    When Buck earned sixteen hundred dollars in five minutes for John Thornton. \n",
            "gen_text 0 Previous channel, did you hear about the new café opening downtown?\n",
            "\n",
            "\n",
            "Generating audio in 1 batches...\n",
            "Using cached preprocessed reference audio...\n",
            "Using custom reference text...\n",
            "\n",
            "ref_text    Hey guys, what's up? LDShadowLady here. Welcome back to my testing centre, where I'm going to be showing you another mod today. I'm showing you the Animals Plus mod, which features, among others, that turtle that's spinning around in the background like a crazy thing. \n"
          ]
        },
        {
          "output_type": "stream",
          "name": "stderr",
          "text": [
            "\r  0%|          | 0/1 [00:00<?, ?it/s]"
          ]
        },
        {
          "output_type": "stream",
          "name": "stdout",
          "text": [
            "gen_text 0 I heard that Disney Channel is bringing back some classic shows, did you see any announcements about that?\n",
            "\n",
            "\n",
            "Generating audio in 1 batches...\n"
          ]
        },
        {
          "output_type": "stream",
          "name": "stderr",
          "text": [
            "\n",
            "  0%|          | 0/1 [00:00<?, ?it/s]\u001b[A\n",
            "\n",
            "  0%|          | 0/1 [00:00<?, ?it/s]\u001b[A\u001b[A\n",
            "\n",
            "\n",
            "  0%|          | 0/1 [00:00<?, ?it/s]\u001b[A\u001b[A\u001b[A\n",
            "\n",
            "\n",
            "100%|██████████| 1/1 [00:14<00:00, 14.00s/it]\u001b[A\u001b[A\u001b[A\n",
            "100%|██████████| 1/1 [00:14<00:00, 14.01s/it]\u001b[A\n",
            "\n",
            "100%|██████████| 1/1 [00:14<00:00, 14.02s/it]\n",
            "100%|██████████| 1/1 [00:14<00:00, 14.02s/it]\n",
            "100%|██████████| 1/1 [00:14<00:00, 14.01s/it]\n",
            "100%|██████████| 1/1 [00:14<00:00, 14.03s/it]\n"
          ]
        },
        {
          "output_type": "stream",
          "name": "stdout",
          "text": [
            "Converting audio...\n",
            "Using cached preprocessed reference audio...\n",
            "Using custom reference text...\n",
            "\n",
            "ref_text    Jefferson and I have been living under such a strain since all this began. I'm afraid I was terribly rude to you. Please forgive me. \n",
            "gen_text 0 then show me HBO\n",
            "\n",
            "\n",
            "Generating audio in 1 batches...\n",
            "Converting audio...\n",
            "Converting audio...\n",
            "Using cached preprocessed reference audio...\n",
            "Using custom reference text...\n",
            "\n",
            "ref_text    When Buck earned sixteen hundred dollars in five minutes for John Thornton. \n",
            "gen_text 0 Previous channel\n",
            "\n",
            "\n",
            "Generating audio in 1 batches...\n"
          ]
        },
        {
          "output_type": "stream",
          "name": "stderr",
          "text": [
            "\r  0%|          | 0/1 [00:00<?, ?it/s]"
          ]
        },
        {
          "output_type": "stream",
          "name": "stdout",
          "text": [
            "Using cached preprocessed reference audio...\n",
            "Using custom reference text...\n",
            "\n",
            "ref_text    He's a tracker, Alice. Did you see that? He's a tracker. I felt Emmet stiffen next to me and I wondered at his reaction to the word. It meant something more to the three of them than it did to me. \n",
            "gen_text 0 decrease the volume, I can't believe she said that!\n",
            "\n",
            "\n",
            "Generating audio in 1 batches...\n",
            "Converting audio...\n"
          ]
        },
        {
          "output_type": "stream",
          "name": "stderr",
          "text": [
            "\n",
            "  0%|          | 0/1 [00:00<?, ?it/s]\u001b[A"
          ]
        },
        {
          "output_type": "stream",
          "name": "stdout",
          "text": [
            "Using cached preprocessed reference audio...\n",
            "Using custom reference text...\n",
            "\n",
            "ref_text    The medicine that they are proposing for the disease actually is even killing the patient more. \n",
            "gen_text 0 switch to AV mode, go to channel ABC\n",
            "\n",
            "\n",
            "Generating audio in 1 batches...\n"
          ]
        },
        {
          "output_type": "stream",
          "name": "stderr",
          "text": [
            "\n",
            "\n",
            "  0%|          | 0/1 [00:00<?, ?it/s]\u001b[A\u001b[A\n",
            "\n",
            "\n",
            "  0%|          | 0/1 [00:00<?, ?it/s]\u001b[A\u001b[A\u001b[A\n",
            "\n",
            "\n",
            "100%|██████████| 1/1 [00:07<00:00,  7.07s/it]\n",
            "\n",
            "100%|██████████| 1/1 [00:07<00:00,  7.04s/it]\n",
            "\n",
            "100%|██████████| 1/1 [00:07<00:00,  7.05s/it]\n",
            "100%|██████████| 1/1 [00:07<00:00,  7.05s/it]\n",
            "100%|██████████| 1/1 [00:07<00:00,  7.08s/it]\n"
          ]
        },
        {
          "output_type": "stream",
          "name": "stdout",
          "text": [
            "Converting audio...\n",
            "Using cached preprocessed reference audio...\n",
            "Using custom reference text...\n",
            "\n",
            "ref_text    I like the video introduction. It's a great way to get started on the topic. \n",
            "gen_text 0 Open settings, and did you hear about the new cafe downtown?\n",
            "gen_text 1 Go to channel 7 and grab a slice of their famous cheesecake.\n",
            "\n",
            "\n",
            "Generating audio in 2 batches...\n",
            "Converting audio...\n",
            "Converting audio...\n",
            "Converting audio...\n",
            "Using cached preprocessed reference audio...\n",
            "Using custom reference text...\n",
            "\n",
            "ref_text    He's a tracker, Alice. Did you see that? He's a tracker. I felt Emmet stiffen next to me and I wondered at his reaction to the word. It meant something more to the three of them than it did to me. \n"
          ]
        },
        {
          "output_type": "stream",
          "name": "stderr",
          "text": [
            "\r  0%|          | 0/2 [00:00<?, ?it/s]"
          ]
        },
        {
          "output_type": "stream",
          "name": "stdout",
          "text": [
            "gen_text 0Using cached preprocessed reference audio...\n",
            "Using custom reference text...\n",
            "\n",
            "ref_text    When Buck earned sixteen hundred dollars in five minutes for John Thornton. \n",
            "gen_text 0 , did you hear about the new café opening downtown?\n",
            "\n",
            "\n",
            "Generating audio in 1 batches...\n",
            "Using cached preprocessed reference audio...\n",
            "Using custom reference text...\n",
            "\n",
            "ref_text    Jefferson and I have been living under such a strain since all this began. I'm afraid I was terribly rude to you. Please forgive me. \n",
            " decrease the volume\n",
            "\n",
            "\n",
            "Generating audio in 1 batches...\n",
            "gen_text 0 and don't forget to unmute the TV\n",
            "\n",
            "\n",
            "Generating audio in 1 batches...\n"
          ]
        },
        {
          "output_type": "stream",
          "name": "stderr",
          "text": [
            "\n",
            "  0%|          | 0/1 [00:00<?, ?it/s]\u001b[A\n",
            "\n",
            "  0%|          | 0/1 [00:00<?, ?it/s]\u001b[A\u001b[A\n",
            "\n",
            "\n",
            "  0%|          | 0/1 [00:00<?, ?it/s]\u001b[A\u001b[A\u001b[A\n",
            "\n",
            "\n",
            "100%|██████████| 1/1 [00:12<00:00, 12.15s/it]\u001b[A\u001b[A\u001b[A\n",
            "100%|██████████| 1/1 [00:12<00:00, 12.17s/it]\u001b[A\n",
            "\n",
            "100%|██████████| 1/1 [00:12<00:00, 12.16s/it]\n",
            "100%|██████████| 1/1 [00:12<00:00, 12.18s/it]\n",
            "100%|██████████| 1/1 [00:12<00:00, 12.18s/it]\n"
          ]
        },
        {
          "output_type": "stream",
          "name": "stdout",
          "text": [
            "Converting audio...\n",
            "Using cached preprocessed reference audio...\n",
            "Using custom reference text...\n",
            "\n",
            "ref_text    He's a tracker, Alice. Did you see that? He's a tracker. I felt Emmet stiffen next to me and I wondered at his reaction to the word. It meant something more to the three of them than it did to me. \n",
            "gen_text 0 , I can't believe she said that!\n",
            "\n",
            "\n",
            "Generating audio in 1 batches...\n",
            "Converting audio...\n"
          ]
        },
        {
          "output_type": "stream",
          "name": "stderr",
          "text": [
            "\n",
            "  0%|          | 0/1 [00:00<?, ?it/s]\u001b[A"
          ]
        },
        {
          "output_type": "stream",
          "name": "stdout",
          "text": [
            "Using cached preprocessed reference audio...\n",
            "Using custom reference text...\n",
            "\n",
            "ref_text    It's funny, isn't it, how the people who do something that changes the world... \n",
            "gen_text 0 Switch to AV mode, and I think that would be a great idea for the weekend!\n",
            "\n",
            "\n",
            "Generating audio in 1 batches...\n"
          ]
        },
        {
          "output_type": "stream",
          "name": "stderr",
          "text": [
            "\n",
            "\n",
            "100%|██████████| 2/2 [00:20<00:00, 10.45s/it]\n",
            "\n",
            "\n",
            "100%|██████████| 1/1 [00:08<00:00,  8.66s/it]\n",
            "\n",
            "100%|██████████| 1/1 [00:08<00:00,  8.67s/it]\n"
          ]
        },
        {
          "output_type": "stream",
          "name": "stdout",
          "text": [
            "Converting audio...\n",
            "Converting audio...\n",
            "Using cached preprocessed reference audio...\n",
            "Using custom reference text...\n",
            "\n",
            "ref_text    It's funny, isn't it, how the people who do something that changes the world... \n",
            "gen_text 0 Switch to AV mode\n",
            "\n",
            "\n",
            "Generating audio in 1 batches...\n",
            "Using cached preprocessed reference audio...\n",
            "Using custom reference text...\n",
            "\n",
            "ref_text    And I would, if there were lovely, beautiful things to look at. But there aren't, Mary. \n",
            "gen_text 0 enable game mode, change subtitle language to Spanish, set the volume to maximum\n",
            "\n",
            "\n",
            "Generating audio in 1 batches...\n",
            "Converting audio...\n",
            "Using cached preprocessed reference audio...\n",
            "Using custom reference text...\n",
            "\n",
            "ref_text    I like the video introduction. It's a great way to get started on the topic. \n",
            "gen_text 0 Open settings\n",
            "\n",
            "\n",
            "Generating audio in 1 batches...\n"
          ]
        },
        {
          "output_type": "stream",
          "name": "stderr",
          "text": [
            "  0%|          | 0/1 [00:00<?, ?it/s]\n",
            "  0%|          | 0/1 [00:00<?, ?it/s]\u001b[A\n",
            "\n",
            "  0%|          | 0/1 [00:00<?, ?it/s]\u001b[A\u001b[A\n",
            "100%|██████████| 1/1 [00:08<00:00,  8.54s/it]\u001b[A\n",
            "\n",
            "100%|██████████| 1/1 [00:08<00:00,  8.54s/it]\n",
            "100%|██████████| 1/1 [00:08<00:00,  8.55s/it]\n",
            "100%|██████████| 1/1 [00:08<00:00,  8.55s/it]\n"
          ]
        },
        {
          "output_type": "stream",
          "name": "stdout",
          "text": [
            "Converting audio...\n",
            "Using cached preprocessed reference audio...\n",
            "Using custom reference text...\n",
            "\n",
            "ref_text    I like the video introduction. It's a great way to get started on the topic. \n",
            "gen_text 0 and did you hear about the new cafe downtown?\n",
            "\n",
            "\n",
            "Generating audio in 1 batches...\n",
            "Converting audio...\n",
            "Converting audio...\n",
            "Using cached preprocessed reference audio...\n",
            "Using custom reference text...\n",
            "\n",
            "ref_text    It's funny, isn't it, how the people who do something that changes the world... \n",
            "Using cached preprocessed reference audio...\n",
            "Using custom reference text...\n",
            "\n",
            "ref_text    You know where the hats come from is because of this hair. Right. \n",
            "gen_text 0 , and I think that would be a great idea for the weekend!\n",
            "\n",
            "\n",
            "Generating audio in 1 batches...\n",
            "gen_text 0 Turn on the TV, can you believe how nice the weather has been lately? Skip intro and open Peacock.\n",
            "\n",
            "\n",
            "Generating audio in 1 batches...\n"
          ]
        },
        {
          "output_type": "stream",
          "name": "stderr",
          "text": [
            "  0%|          | 0/1 [00:00<?, ?it/s]\n",
            "  0%|          | 0/1 [00:00<?, ?it/s]\u001b[A\n",
            "\n",
            "100%|██████████| 1/1 [00:09<00:00,  9.87s/it]\n",
            "\n",
            "100%|██████████| 1/1 [00:09<00:00,  9.86s/it]\u001b[A\n",
            "\n",
            "100%|██████████| 1/1 [00:09<00:00,  9.86s/it]\n",
            "100%|██████████| 1/1 [00:09<00:00,  9.87s/it]\n"
          ]
        },
        {
          "output_type": "stream",
          "name": "stdout",
          "text": [
            "Converting audio...\n",
            "Using cached preprocessed reference audio...\n",
            "Using custom reference text...\n",
            "\n",
            "ref_text    I like the video introduction. It's a great way to get started on the topic. \n",
            "gen_text 0 Go to channel 7\n",
            "\n",
            "\n",
            "Generating audio in 1 batches...\n"
          ]
        },
        {
          "output_type": "stream",
          "name": "stderr",
          "text": [
            "\r  0%|          | 0/1 [00:00<?, ?it/s]"
          ]
        },
        {
          "output_type": "stream",
          "name": "stdout",
          "text": [
            "Converting audio...\n",
            "Using cached preprocessed reference audio...\n",
            "Using custom reference text...\n",
            "\n",
            "ref_text    You know where the hats come from is because of this hair. Right. \n",
            "gen_text 0 Turn on the TV\n",
            "\n",
            "\n",
            "Generating audio in 1 batches...\n"
          ]
        },
        {
          "output_type": "stream",
          "name": "stderr",
          "text": [
            "\n",
            "  0%|          | 0/1 [00:00<?, ?it/s]\u001b[A\n",
            "100%|██████████| 1/1 [00:04<00:00,  4.86s/it]\n",
            "100%|██████████| 1/1 [00:04<00:00,  4.88s/it]\n"
          ]
        },
        {
          "output_type": "stream",
          "name": "stdout",
          "text": [
            "Converting audio...\n",
            "Using cached preprocessed reference audio...\n",
            "Using custom reference text...\n",
            "\n",
            "ref_text    You know where the hats come from is because of this hair. Right. \n",
            "gen_text 0 can you believe how nice the weather has been lately?\n",
            "\n",
            "\n",
            "Generating audio in 1 batches...\n",
            "Converting audio...\n",
            "Using cached preprocessed reference audio...\n",
            "Using custom reference text...\n",
            "\n",
            "ref_text    I like the video introduction. It's a great way to get started on the topic. \n",
            "gen_text 0 and grab a slice of their famous cheesecake.\n",
            "\n",
            "\n",
            "Generating audio in 1 batches...\n"
          ]
        },
        {
          "output_type": "stream",
          "name": "stderr",
          "text": [
            "  0%|          | 0/1 [00:00<?, ?it/s]\n",
            "100%|██████████| 1/1 [00:07<00:00,  7.09s/it]\n",
            "\n",
            "100%|██████████| 1/1 [00:07<00:00,  7.08s/it]\n"
          ]
        },
        {
          "output_type": "stream",
          "name": "stdout",
          "text": [
            "Converting audio...\n",
            "Using cached preprocessed reference audio...\n",
            "Using custom reference text...\n",
            "\n",
            "ref_text    You know where the hats come from is because of this hair. Right. \n",
            "gen_text 0 Skip intro\n",
            "\n",
            "\n",
            "Generating audio in 1 batches...\n",
            "Converting audio...\n",
            "Using cached preprocessed reference audio...\n",
            "Using custom reference text...\n",
            "\n",
            "ref_text    I'd had no doubt that he'd be staying with me while I spent a few interim hours in the real world. And then I saw the black car, a weathered Ford parked in Charlie's driveway. \n",
            "gen_text 0 Did you hear that The Disney Channel is bringing back some classic shows?\n",
            "\n",
            "\n",
            "Generating audio in 1 batches...\n"
          ]
        },
        {
          "output_type": "stream",
          "name": "stderr",
          "text": [
            "  0%|          | 0/1 [00:00<?, ?it/s]\n",
            "100%|██████████| 1/1 [00:03<00:00,  3.58s/it]\n",
            "\n",
            "100%|██████████| 1/1 [00:03<00:00,  3.58s/it]\n"
          ]
        },
        {
          "output_type": "stream",
          "name": "stdout",
          "text": [
            "Converting audio...\n",
            "Using cached preprocessed reference audio...\n",
            "Using custom reference text...\n",
            "\n",
            "ref_text    You know where the hats come from is because of this hair. Right. \n",
            "gen_text 0 and open Peacock.\n",
            "\n",
            "\n",
            "Generating audio in 1 batches...\n",
            "Converting audio...\n"
          ]
        },
        {
          "output_type": "stream",
          "name": "stderr",
          "text": [
            "\r  0%|          | 0/1 [00:00<?, ?it/s]"
          ]
        },
        {
          "output_type": "stream",
          "name": "stdout",
          "text": [
            "Using cached preprocessed reference audio...\n",
            "Using custom reference text...\n",
            "\n",
            "ref_text    Yea, yea, it's simple. Yea, it's Ryan Nielsen's defense. \n",
            "gen_text 0 pause\n",
            "\n",
            "\n",
            "Generating audio in 1 batches...\n"
          ]
        },
        {
          "output_type": "stream",
          "name": "stderr",
          "text": [
            "\n",
            "  0%|          | 0/1 [00:00<?, ?it/s]\u001b[A\n",
            "100%|██████████| 1/1 [00:02<00:00,  2.85s/it]\n",
            "100%|██████████| 1/1 [00:02<00:00,  2.86s/it]\n"
          ]
        },
        {
          "output_type": "stream",
          "name": "stdout",
          "text": [
            "Converting audio...\n",
            "Using cached preprocessed reference audio...\n",
            "Using custom reference text...\n",
            "\n",
            "ref_text    Well, I think you guys said it exactly right. You guys have hit on all the points. Um, you know, I know the NFL is pushing for a year suspension from what I'm hearing, but you know, I'm thinking it's going to be more six day games, um, you know, somewhere in that range. \n",
            "gen_text 0 I was just thinking about how much I enjoyed watching shows on Cartoon Network when I was a kid.\n",
            "\n",
            "\n",
            "Generating audio in 1 batches...\n"
          ]
        },
        {
          "output_type": "stream",
          "name": "stderr",
          "text": [
            "100%|██████████| 1/1 [00:02<00:00,  2.19s/it]\n"
          ]
        },
        {
          "output_type": "stream",
          "name": "stdout",
          "text": [
            "Converting audio...\n",
            "Using cached preprocessed reference audio...\n",
            "Using custom reference text...\n",
            "\n",
            "ref_text    And I would, if there were lovely, beautiful things to look at. But there aren't, Mary. \n",
            "gen_text 0 increase the volume\n",
            "\n",
            "\n",
            "Generating audio in 1 batches...\n"
          ]
        },
        {
          "output_type": "stream",
          "name": "stderr",
          "text": [
            "100%|██████████| 1/1 [00:02<00:00,  2.80s/it]\n"
          ]
        },
        {
          "output_type": "stream",
          "name": "stdout",
          "text": [
            "Converting audio...\n",
            "Using cached preprocessed reference audio...\n",
            "Using custom reference text...\n",
            "\n",
            "ref_text    We got hired to do a wedding and one of the guests was a Netflix executive. She mentioned they had a new show coming out and asked us if we were interested in auditioning. \n",
            "gen_text 0 Can you turn off subtitles while I tell you that I really enjoyed our dinner last night?\n",
            "\n",
            "\n",
            "Generating audio in 1 batches...\n"
          ]
        },
        {
          "output_type": "stream",
          "name": "stderr",
          "text": [
            "100%|██████████| 1/1 [00:04<00:00,  4.65s/it]\n"
          ]
        },
        {
          "output_type": "stream",
          "name": "stdout",
          "text": [
            "Converting audio...\n",
            "Using cached preprocessed reference audio...\n",
            "Using custom reference text...\n",
            "\n",
            "ref_text    We got hired to do a wedding and one of the guests was a Netflix executive. She mentioned they had a new show coming out and asked us if we were interested in auditioning. \n",
            "gen_text 0 Can you\n",
            "\n",
            "\n",
            "Generating audio in 1 batches...\n"
          ]
        },
        {
          "output_type": "stream",
          "name": "stderr",
          "text": [
            "100%|██████████| 1/1 [00:03<00:00,  3.28s/it]\n"
          ]
        },
        {
          "output_type": "stream",
          "name": "stdout",
          "text": [
            "Converting audio...\n",
            "Using cached preprocessed reference audio...\n",
            "Using custom reference text...\n",
            "\n",
            "ref_text    We got hired to do a wedding and one of the guests was a Netflix executive. She mentioned they had a new show coming out and asked us if we were interested in auditioning. \n",
            "gen_text 0 turn off subtitles\n",
            "\n",
            "\n",
            "Generating audio in 1 batches...\n"
          ]
        },
        {
          "output_type": "stream",
          "name": "stderr",
          "text": [
            "100%|██████████| 1/1 [00:03<00:00,  3.22s/it]\n"
          ]
        },
        {
          "output_type": "stream",
          "name": "stdout",
          "text": [
            "Converting audio...\n",
            "Using cached preprocessed reference audio...\n",
            "Using custom reference text...\n",
            "\n",
            "ref_text    We got hired to do a wedding and one of the guests was a Netflix executive. She mentioned they had a new show coming out and asked us if we were interested in auditioning. \n",
            "gen_text 0 while I tell you that\n",
            "\n",
            "\n",
            "Generating audio in 1 batches...\n"
          ]
        },
        {
          "output_type": "stream",
          "name": "stderr",
          "text": [
            "100%|██████████| 1/1 [00:03<00:00,  3.25s/it]\n"
          ]
        },
        {
          "output_type": "stream",
          "name": "stdout",
          "text": [
            "Converting audio...\n",
            "Using cached preprocessed reference audio...\n",
            "Using custom reference text...\n",
            "\n",
            "ref_text    We got hired to do a wedding and one of the guests was a Netflix executive. She mentioned they had a new show coming out and asked us if we were interested in auditioning. \n",
            "gen_text 0 I really enjoyed our dinner last night?\n",
            "\n",
            "\n",
            "Generating audio in 1 batches...\n"
          ]
        },
        {
          "output_type": "stream",
          "name": "stderr",
          "text": [
            "100%|██████████| 1/1 [00:03<00:00,  3.81s/it]\n"
          ]
        },
        {
          "output_type": "stream",
          "name": "stdout",
          "text": [
            "Converting audio...\n",
            "Using cached preprocessed reference audio...\n",
            "Using custom reference text...\n",
            "\n",
            "ref_text    No idea where she is? Nope. I haven't seen her since she was here last night. She may be gone for good. But she can't be. All her stuff is there. Clothes and everything. \n",
            "gen_text 0 turn on subtitles, resume, and decrease the volume\n",
            "\n",
            "\n",
            "Generating audio in 1 batches...\n"
          ]
        },
        {
          "output_type": "stream",
          "name": "stderr",
          "text": [
            "100%|██████████| 1/1 [00:02<00:00,  2.20s/it]"
          ]
        },
        {
          "output_type": "stream",
          "name": "stdout",
          "text": [
            "Worker 1 done (51 items)\n",
            "Worker 2 done (51 items)\n",
            "Worker 3 done (51 items)\n",
            "Worker 4 done (50 items)\n",
            "Pipeline finished in 1506.98s\n"
          ]
        },
        {
          "output_type": "stream",
          "name": "stderr",
          "text": [
            "\n"
          ]
        }
      ],
      "execution_count": null
    },
    {
      "cell_type": "code",
      "source": [
        "df_commands_synthesis.to_csv('sample-500-speech-2.csv')"
      ],
      "metadata": {
        "trusted": true,
        "execution": {
          "iopub.status.busy": "2025-08-14T09:58:42.707129Z",
          "iopub.status.idle": "2025-08-14T09:58:42.707425Z",
          "shell.execute_reply.started": "2025-08-14T09:58:42.707279Z",
          "shell.execute_reply": "2025-08-14T09:58:42.707295Z"
        },
        "id": "ixshF7v5LpFA"
      },
      "outputs": [],
      "execution_count": null
    },
    {
      "cell_type": "code",
      "source": [
        "!zip synthesis_command.zip -r synthesis_command"
      ],
      "metadata": {
        "trusted": true,
        "execution": {
          "iopub.status.busy": "2025-08-14T10:19:44.254769Z",
          "iopub.execute_input": "2025-08-14T10:19:44.25562Z",
          "iopub.status.idle": "2025-08-14T10:19:44.485101Z",
          "shell.execute_reply.started": "2025-08-14T10:19:44.255588Z",
          "shell.execute_reply": "2025-08-14T10:19:44.48425Z"
        },
        "id": "3Qjq9AmvLpFA",
        "outputId": "e72aa606-1c2e-48e4-f158-84f748c73217",
        "colab": {
          "base_uri": "https://localhost:8080/"
        }
      },
      "outputs": [
        {
          "output_type": "stream",
          "name": "stdout",
          "text": [
            "  adding: synthesis_command/ (stored 0%)\n",
            "  adding: synthesis_command/single_mix_97a2f003/ (stored 0%)\n",
            "  adding: synthesis_command/single_mix_97a2f003/single_mix_97a2f003_full.wav (deflated 17%)\n",
            "  adding: synthesis_command/single_mix_97a2f003/single_mix_97a2f003_seg_1.wav (deflated 22%)\n",
            "  adding: synthesis_command/single_mix_97a2f003/single_mix_97a2f003_seg_0.wav (deflated 55%)\n",
            "  adding: synthesis_command/single_mix_97a2f003/single_mix_97a2f003.json (deflated 48%)\n",
            "  adding: synthesis_command/single_mix_f15526ee/ (stored 0%)\n",
            "  adding: synthesis_command/single_mix_f15526ee/single_mix_f15526ee_seg_1.wav (deflated 92%)\n",
            "  adding: synthesis_command/single_mix_f15526ee/single_mix_f15526ee_full.wav (deflated 41%)\n",
            "  adding: synthesis_command/single_mix_f15526ee/single_mix_f15526ee_seg_0.wav (deflated 50%)\n",
            "  adding: synthesis_command/single_mix_f15526ee/single_mix_f15526ee.json (deflated 48%)\n",
            "  adding: synthesis_command/single_mix_392d1b1e/ (stored 0%)\n",
            "  adding: synthesis_command/single_mix_392d1b1e/single_mix_392d1b1e_seg_1.wav (deflated 14%)\n",
            "  adding: synthesis_command/single_mix_392d1b1e/single_mix_392d1b1e.json (deflated 48%)\n",
            "  adding: synthesis_command/single_mix_392d1b1e/single_mix_392d1b1e_full.wav (deflated 14%)\n",
            "  adding: synthesis_command/single_mix_392d1b1e/single_mix_392d1b1e_seg_0.wav (deflated 24%)\n",
            "  adding: synthesis_command/non_active_9216d825/ (stored 0%)\n",
            "  adding: synthesis_command/non_active_9216d825/non_active_9216d825.json (deflated 39%)\n",
            "  adding: synthesis_command/non_active_9216d825/non_active_9216d825_full.wav (deflated 24%)\n",
            "  adding: synthesis_command/chain_active_23c62e29/ (stored 0%)\n",
            "  adding: synthesis_command/chain_active_23c62e29/chain_active_23c62e29.json (deflated 37%)\n",
            "  adding: synthesis_command/chain_active_23c62e29/chain_active_23c62e29_full.wav (deflated 16%)\n",
            "  adding: synthesis_command/chain_mix_ae68a1a6/ (stored 0%)\n",
            "  adding: synthesis_command/chain_mix_ae68a1a6/chain_mix_ae68a1a6_seg_2.wav (deflated 21%)\n",
            "  adding: synthesis_command/chain_mix_ae68a1a6/chain_mix_ae68a1a6.json (deflated 50%)\n",
            "  adding: synthesis_command/chain_mix_ae68a1a6/chain_mix_ae68a1a6_seg_1.wav (deflated 26%)\n",
            "  adding: synthesis_command/chain_mix_ae68a1a6/chain_mix_ae68a1a6_seg_0.wav (deflated 44%)\n",
            "  adding: synthesis_command/chain_mix_ae68a1a6/chain_mix_ae68a1a6_full.wav (deflated 14%)\n",
            "  adding: synthesis_command/chain_mix_b44d5ac9/ (stored 0%)\n",
            "  adding: synthesis_command/chain_mix_b44d5ac9/chain_mix_b44d5ac9.json (deflated 49%)\n",
            "  adding: synthesis_command/chain_mix_b44d5ac9/chain_mix_b44d5ac9_seg_2.wav (deflated 27%)\n",
            "  adding: synthesis_command/chain_mix_b44d5ac9/chain_mix_b44d5ac9_full.wav (deflated 20%)\n",
            "  adding: synthesis_command/chain_mix_b44d5ac9/chain_mix_b44d5ac9_seg_1.wav (deflated 41%)\n",
            "  adding: synthesis_command/chain_mix_b44d5ac9/chain_mix_b44d5ac9_seg_0.wav (deflated 80%)\n",
            "  adding: synthesis_command/chain_active_00002ae2/ (stored 0%)\n",
            "  adding: synthesis_command/chain_active_00002ae2/chain_active_00002ae2.json (deflated 39%)\n",
            "  adding: synthesis_command/chain_active_00002ae2/chain_active_00002ae2_full.wav (deflated 34%)\n",
            "  adding: synthesis_command/non_active_d99d1554/ (stored 0%)\n",
            "  adding: synthesis_command/non_active_d99d1554/non_active_d99d1554.json (deflated 43%)\n",
            "  adding: synthesis_command/non_active_d99d1554/non_active_d99d1554_full.wav (deflated 34%)\n",
            "  adding: synthesis_command/chain_active_1af1ce89/ (stored 0%)\n",
            "  adding: synthesis_command/chain_active_1af1ce89/chain_active_1af1ce89.json (deflated 41%)\n",
            "  adding: synthesis_command/chain_active_1af1ce89/chain_active_1af1ce89_full.wav (deflated 15%)\n",
            "  adding: synthesis_command/chain_active_1d12f13f/ (stored 0%)\n",
            "  adding: synthesis_command/chain_active_1d12f13f/chain_active_1d12f13f_full.wav (deflated 32%)\n",
            "  adding: synthesis_command/chain_active_1d12f13f/chain_active_1d12f13f.json (deflated 38%)\n",
            "  adding: synthesis_command/single_mix_0a0f5358/ (stored 0%)\n",
            "  adding: synthesis_command/single_mix_0a0f5358/single_mix_0a0f5358_full.wav (deflated 15%)\n",
            "  adding: synthesis_command/single_mix_0a0f5358/single_mix_0a0f5358_seg_1.wav (deflated 33%)\n",
            "  adding: synthesis_command/single_mix_0a0f5358/single_mix_0a0f5358_seg_0.wav (deflated 30%)\n",
            "  adding: synthesis_command/single_mix_0a0f5358/single_mix_0a0f5358.json (deflated 48%)\n",
            "  adding: synthesis_command/single_active_20765238/ (stored 0%)\n",
            "  adding: synthesis_command/single_active_20765238/single_active_20765238_full.wav (deflated 91%)\n",
            "  adding: synthesis_command/single_active_20765238/single_active_20765238.json (deflated 41%)\n",
            "  adding: synthesis_command/chain_active_19a1f9b1/ (stored 0%)\n",
            "  adding: synthesis_command/chain_active_19a1f9b1/chain_active_19a1f9b1.json (deflated 38%)\n",
            "  adding: synthesis_command/chain_active_19a1f9b1/chain_active_19a1f9b1_full.wav (deflated 16%)\n",
            "  adding: synthesis_command/non_active_d24fc601/ (stored 0%)\n",
            "  adding: synthesis_command/non_active_d24fc601/non_active_d24fc601.json (deflated 41%)\n",
            "  adding: synthesis_command/non_active_d24fc601/non_active_d24fc601_full.wav (deflated 21%)\n",
            "  adding: synthesis_command/non_active_d92d2118/ (stored 0%)\n",
            "  adding: synthesis_command/non_active_d92d2118/non_active_d92d2118_full.wav (deflated 14%)\n",
            "  adding: synthesis_command/non_active_d92d2118/non_active_d92d2118.json (deflated 37%)\n",
            "  adding: synthesis_command/single_mix_56291130/ (stored 0%)\n",
            "  adding: synthesis_command/single_mix_56291130/single_mix_56291130_seg_1.wav (deflated 64%)\n",
            "  adding: synthesis_command/single_mix_56291130/single_mix_56291130_seg_0.wav (deflated 31%)\n",
            "  adding: synthesis_command/single_mix_56291130/single_mix_56291130.json (deflated 49%)\n",
            "  adding: synthesis_command/single_mix_56291130/single_mix_56291130_full.wav (deflated 27%)\n",
            "  adding: synthesis_command/chain_mix_40d5387e/ (stored 0%)\n",
            "  adding: synthesis_command/chain_mix_40d5387e/chain_mix_40d5387e.json (deflated 46%)\n",
            "  adding: synthesis_command/chain_mix_40d5387e/chain_mix_40d5387e_seg_0.wav (deflated 41%)\n",
            "  adding: synthesis_command/chain_mix_40d5387e/chain_mix_40d5387e_seg_1.wav (deflated 30%)\n",
            "  adding: synthesis_command/chain_mix_40d5387e/chain_mix_40d5387e_full.wav (deflated 31%)\n",
            "  adding: synthesis_command/non_active_939a79a6/ (stored 0%)\n",
            "  adding: synthesis_command/non_active_939a79a6/non_active_939a79a6.json (deflated 37%)\n",
            "  adding: synthesis_command/non_active_939a79a6/non_active_939a79a6_full.wav (deflated 17%)\n",
            "  adding: synthesis_command/chain_mix_24c31620/ (stored 0%)\n",
            "  adding: synthesis_command/chain_mix_24c31620/chain_mix_24c31620.json (deflated 46%)\n",
            "  adding: synthesis_command/chain_mix_24c31620/chain_mix_24c31620_seg_1.wav (deflated 15%)\n",
            "  adding: synthesis_command/chain_mix_24c31620/chain_mix_24c31620_seg_0.wav (deflated 38%)\n",
            "  adding: synthesis_command/chain_mix_24c31620/chain_mix_24c31620_full.wav (deflated 27%)\n",
            "  adding: synthesis_command/chain_active_3b335ed7/ (stored 0%)\n",
            "  adding: synthesis_command/chain_active_3b335ed7/chain_active_3b335ed7_full.wav (deflated 12%)\n",
            "  adding: synthesis_command/chain_active_3b335ed7/chain_active_3b335ed7.json (deflated 39%)\n",
            "  adding: synthesis_command/chain_active_87156bce/ (stored 0%)\n",
            "  adding: synthesis_command/chain_active_87156bce/chain_active_87156bce_full.wav (deflated 24%)\n",
            "  adding: synthesis_command/chain_active_87156bce/chain_active_87156bce.json (deflated 39%)\n",
            "  adding: synthesis_command/non_active_9a0ca92d/ (stored 0%)\n",
            "  adding: synthesis_command/non_active_9a0ca92d/non_active_9a0ca92d.json (deflated 39%)\n",
            "  adding: synthesis_command/non_active_9a0ca92d/non_active_9a0ca92d_full.wav (deflated 29%)\n",
            "  adding: synthesis_command/single_active_6d77c905/ (stored 0%)\n",
            "  adding: synthesis_command/single_active_6d77c905/single_active_6d77c905_full.wav (deflated 25%)\n",
            "  adding: synthesis_command/single_active_6d77c905/single_active_6d77c905.json (deflated 39%)\n",
            "  adding: synthesis_command/single_mix_b6d103f0/ (stored 0%)\n",
            "  adding: synthesis_command/single_mix_b6d103f0/single_mix_b6d103f0_full.wav (deflated 26%)\n",
            "  adding: synthesis_command/single_mix_b6d103f0/single_mix_b6d103f0_seg_1.wav (deflated 35%)\n",
            "  adding: synthesis_command/single_mix_b6d103f0/single_mix_b6d103f0.json (deflated 47%)\n",
            "  adding: synthesis_command/single_mix_b6d103f0/single_mix_b6d103f0_seg_0.wav (deflated 64%)\n",
            "  adding: synthesis_command/chain_mix_c366f7c4/ (stored 0%)\n",
            "  adding: synthesis_command/chain_mix_c366f7c4/chain_mix_c366f7c4_seg_2.wav (deflated 20%)\n",
            "  adding: synthesis_command/chain_mix_c366f7c4/chain_mix_c366f7c4.json (deflated 51%)\n",
            "  adding: synthesis_command/chain_mix_c366f7c4/chain_mix_c366f7c4_seg_1.wav (deflated 16%)\n",
            "  adding: synthesis_command/chain_mix_c366f7c4/chain_mix_c366f7c4_seg_0.wav (deflated 48%)\n",
            "  adding: synthesis_command/chain_mix_c366f7c4/chain_mix_c366f7c4_full.wav (deflated 14%)\n",
            "  adding: synthesis_command/single_mix_7c591c00/ (stored 0%)\n",
            "  adding: synthesis_command/single_mix_7c591c00/single_mix_7c591c00_seg_1.wav (deflated 24%)\n",
            "  adding: synthesis_command/single_mix_7c591c00/single_mix_7c591c00_full.wav (deflated 18%)\n",
            "  adding: synthesis_command/single_mix_7c591c00/single_mix_7c591c00.json (deflated 48%)\n",
            "  adding: synthesis_command/single_mix_7c591c00/single_mix_7c591c00_seg_0.wav (deflated 22%)\n",
            "  adding: synthesis_command/single_mix_7fdab434/ (stored 0%)\n",
            "  adding: synthesis_command/single_mix_7fdab434/single_mix_7fdab434.json (deflated 48%)\n",
            "  adding: synthesis_command/single_mix_7fdab434/single_mix_7fdab434_full.wav (deflated 31%)\n",
            "  adding: synthesis_command/single_mix_7fdab434/single_mix_7fdab434_seg_1.wav (deflated 50%)\n",
            "  adding: synthesis_command/single_mix_7fdab434/single_mix_7fdab434_seg_0.wav (deflated 33%)\n",
            "  adding: synthesis_command/chain_active_5776daec/ (stored 0%)\n",
            "  adding: synthesis_command/chain_active_5776daec/chain_active_5776daec.json (deflated 42%)\n",
            "  adding: synthesis_command/chain_active_5776daec/chain_active_5776daec_full.wav (deflated 22%)\n",
            "  adding: synthesis_command/chain_active_a7e46c51/ (stored 0%)\n",
            "  adding: synthesis_command/chain_active_a7e46c51/chain_active_a7e46c51.json (deflated 38%)\n",
            "  adding: synthesis_command/chain_active_a7e46c51/chain_active_a7e46c51_full.wav (deflated 35%)\n",
            "  adding: synthesis_command/chain_mix_863a8d64/ (stored 0%)\n",
            "  adding: synthesis_command/chain_mix_863a8d64/chain_mix_863a8d64_full.wav (deflated 33%)\n",
            "  adding: synthesis_command/chain_mix_863a8d64/chain_mix_863a8d64_seg_2.wav (deflated 46%)\n",
            "  adding: synthesis_command/chain_mix_863a8d64/chain_mix_863a8d64.json (deflated 49%)\n",
            "  adding: synthesis_command/chain_mix_863a8d64/chain_mix_863a8d64_seg_1.wav (deflated 92%)\n",
            "  adding: synthesis_command/chain_mix_863a8d64/chain_mix_863a8d64_seg_0.wav (deflated 93%)\n",
            "  adding: synthesis_command/single_active_585ef842/ (stored 0%)\n",
            "  adding: synthesis_command/single_active_585ef842/single_active_585ef842_full.wav (deflated 38%)\n",
            "  adding: synthesis_command/single_active_585ef842/single_active_585ef842.json (deflated 39%)\n",
            "  adding: synthesis_command/chain_active_a84d98ef/ (stored 0%)\n",
            "  adding: synthesis_command/chain_active_a84d98ef/chain_active_a84d98ef_full.wav (deflated 18%)\n",
            "  adding: synthesis_command/chain_active_a84d98ef/chain_active_a84d98ef.json (deflated 36%)\n",
            "  adding: synthesis_command/single_mix_4c5003b0/ (stored 0%)\n",
            "  adding: synthesis_command/single_mix_4c5003b0/single_mix_4c5003b0_seg_0.wav (deflated 61%)\n",
            "  adding: synthesis_command/single_mix_4c5003b0/single_mix_4c5003b0.json (deflated 48%)\n",
            "  adding: synthesis_command/single_mix_4c5003b0/single_mix_4c5003b0_full.wav (deflated 20%)\n",
            "  adding: synthesis_command/single_mix_4c5003b0/single_mix_4c5003b0_seg_1.wav (deflated 28%)\n",
            "  adding: synthesis_command/non_active_44b6cb77/ (stored 0%)\n",
            "  adding: synthesis_command/non_active_44b6cb77/non_active_44b6cb77.json (deflated 38%)\n",
            "  adding: synthesis_command/non_active_44b6cb77/non_active_44b6cb77_full.wav (deflated 43%)\n",
            "  adding: synthesis_command/chain_mix_cf565788/ (stored 0%)\n",
            "  adding: synthesis_command/chain_mix_cf565788/chain_mix_cf565788_seg_1.wav (deflated 15%)\n",
            "  adding: synthesis_command/chain_mix_cf565788/chain_mix_cf565788_seg_2.wav (deflated 42%)\n",
            "  adding: synthesis_command/chain_mix_cf565788/chain_mix_cf565788_full.wav (deflated 17%)\n",
            "  adding: synthesis_command/chain_mix_cf565788/chain_mix_cf565788.json (deflated 52%)\n",
            "  adding: synthesis_command/chain_mix_cf565788/chain_mix_cf565788_seg_0.wav (deflated 36%)\n",
            "  adding: synthesis_command/chain_active_01804624/ (stored 0%)\n",
            "  adding: synthesis_command/chain_active_01804624/chain_active_01804624_full.wav (deflated 27%)\n",
            "  adding: synthesis_command/chain_active_01804624/chain_active_01804624.json (deflated 38%)\n",
            "  adding: synthesis_command/single_mix_6061c9c8/ (stored 0%)\n",
            "  adding: synthesis_command/single_mix_6061c9c8/single_mix_6061c9c8_seg_0.wav (deflated 93%)\n",
            "  adding: synthesis_command/single_mix_6061c9c8/single_mix_6061c9c8.json (deflated 47%)\n",
            "  adding: synthesis_command/single_mix_6061c9c8/single_mix_6061c9c8_full.wav (deflated 40%)\n",
            "  adding: synthesis_command/single_mix_6061c9c8/single_mix_6061c9c8_seg_1.wav (deflated 56%)\n",
            "  adding: synthesis_command/chain_mix_e8e5b341/ (stored 0%)\n",
            "  adding: synthesis_command/chain_mix_e8e5b341/chain_mix_e8e5b341_seg_0.wav (deflated 25%)\n",
            "  adding: synthesis_command/chain_mix_e8e5b341/chain_mix_e8e5b341.json (deflated 50%)\n",
            "  adding: synthesis_command/chain_mix_e8e5b341/chain_mix_e8e5b341_seg_1.wav (deflated 18%)\n",
            "  adding: synthesis_command/chain_mix_e8e5b341/chain_mix_e8e5b341_full.wav (deflated 14%)\n",
            "  adding: synthesis_command/chain_mix_f43ebdd5/ (stored 0%)\n",
            "  adding: synthesis_command/chain_mix_f43ebdd5/chain_mix_f43ebdd5_seg_0.wav (deflated 22%)\n",
            "  adding: synthesis_command/chain_mix_f43ebdd5/chain_mix_f43ebdd5.json (deflated 50%)\n",
            "  adding: synthesis_command/chain_mix_f43ebdd5/chain_mix_f43ebdd5_seg_1.wav (deflated 14%)\n",
            "  adding: synthesis_command/chain_mix_f43ebdd5/chain_mix_f43ebdd5_seg_2.wav (deflated 23%)\n",
            "  adding: synthesis_command/chain_mix_f43ebdd5/chain_mix_f43ebdd5_full.wav (deflated 14%)\n",
            "  adding: synthesis_command/chain_active_966a251c/ (stored 0%)\n",
            "  adding: synthesis_command/chain_active_966a251c/chain_active_966a251c.json (deflated 39%)\n",
            "  adding: synthesis_command/chain_active_966a251c/chain_active_966a251c_full.wav (deflated 13%)\n",
            "  adding: synthesis_command/chain_mix_05b5c23a/ (stored 0%)\n",
            "  adding: synthesis_command/chain_mix_05b5c23a/chain_mix_05b5c23a_full.wav (deflated 11%)\n",
            "  adding: synthesis_command/chain_mix_05b5c23a/chain_mix_05b5c23a.json (deflated 50%)\n",
            "  adding: synthesis_command/chain_mix_05b5c23a/chain_mix_05b5c23a_seg_0.wav (deflated 29%)\n",
            "  adding: synthesis_command/chain_mix_05b5c23a/chain_mix_05b5c23a_seg_1.wav (deflated 14%)\n",
            "  adding: synthesis_command/chain_mix_05b5c23a/chain_mix_05b5c23a_seg_2.wav (deflated 22%)\n",
            "  adding: synthesis_command/single_mix_429c1fa0/ (stored 0%)\n",
            "  adding: synthesis_command/single_mix_429c1fa0/single_mix_429c1fa0_full.wav (deflated 35%)\n",
            "  adding: synthesis_command/single_mix_429c1fa0/single_mix_429c1fa0_seg_1.wav (deflated 47%)\n",
            "  adding: synthesis_command/single_mix_429c1fa0/single_mix_429c1fa0.json (deflated 49%)\n",
            "  adding: synthesis_command/single_mix_429c1fa0/single_mix_429c1fa0_seg_0.wav (deflated 37%)\n",
            "  adding: synthesis_command/chain_mix_f3fa4711/ (stored 0%)\n",
            "  adding: synthesis_command/chain_mix_f3fa4711/chain_mix_f3fa4711_seg_0.wav (deflated 33%)\n",
            "  adding: synthesis_command/chain_mix_f3fa4711/chain_mix_f3fa4711.json (deflated 52%)\n",
            "  adding: synthesis_command/chain_mix_f3fa4711/chain_mix_f3fa4711_seg_2.wav (deflated 20%)\n",
            "  adding: synthesis_command/chain_mix_f3fa4711/chain_mix_f3fa4711_seg_1.wav (deflated 23%)\n",
            "  adding: synthesis_command/chain_mix_f3fa4711/chain_mix_f3fa4711_full.wav (deflated 13%)\n",
            "  adding: synthesis_command/single_mix_6975c1dd/ (stored 0%)\n",
            "  adding: synthesis_command/single_mix_6975c1dd/single_mix_6975c1dd_seg_0.wav (deflated 63%)\n",
            "  adding: synthesis_command/single_mix_6975c1dd/single_mix_6975c1dd_seg_3.wav (deflated 34%)\n",
            "  adding: synthesis_command/single_mix_6975c1dd/single_mix_6975c1dd.json (deflated 51%)\n",
            "  adding: synthesis_command/single_mix_6975c1dd/single_mix_6975c1dd_seg_1.wav (deflated 94%)\n",
            "  adding: synthesis_command/single_mix_6975c1dd/single_mix_6975c1dd_full.wav (deflated 34%)\n",
            "  adding: synthesis_command/single_mix_6975c1dd/single_mix_6975c1dd_seg_2.wav (deflated 46%)\n",
            "  adding: synthesis_command/single_mix_a229baa4/ (stored 0%)\n",
            "  adding: synthesis_command/single_mix_a229baa4/single_mix_a229baa4.json (deflated 45%)\n",
            "  adding: synthesis_command/single_mix_a229baa4/single_mix_a229baa4_full.wav (deflated 20%)\n",
            "  adding: synthesis_command/single_mix_a229baa4/single_mix_a229baa4_seg_1.wav (deflated 25%)\n",
            "  adding: synthesis_command/single_mix_a229baa4/single_mix_a229baa4_seg_0.wav (deflated 94%)\n",
            "  adding: synthesis_command/chain_mix_585444d9/ (stored 0%)\n",
            "  adding: synthesis_command/chain_mix_585444d9/chain_mix_585444d9_seg_1.wav (deflated 32%)\n",
            "  adding: synthesis_command/chain_mix_585444d9/chain_mix_585444d9_seg_2.wav (deflated 37%)\n",
            "  adding: synthesis_command/chain_mix_585444d9/chain_mix_585444d9.json (deflated 53%)\n",
            "  adding: synthesis_command/chain_mix_585444d9/chain_mix_585444d9_full.wav (deflated 20%)\n",
            "  adding: synthesis_command/chain_mix_585444d9/chain_mix_585444d9_seg_3.wav (deflated 23%)\n",
            "  adding: synthesis_command/chain_mix_585444d9/chain_mix_585444d9_seg_0.wav (deflated 30%)\n",
            "  adding: synthesis_command/chain_mix_60d1546c/ (stored 0%)\n",
            "  adding: synthesis_command/chain_mix_60d1546c/chain_mix_60d1546c_seg_0.wav (deflated 30%)\n",
            "  adding: synthesis_command/chain_mix_60d1546c/chain_mix_60d1546c_seg_1.wav (deflated 17%)\n",
            "  adding: synthesis_command/chain_mix_60d1546c/chain_mix_60d1546c_full.wav (deflated 17%)\n",
            "  adding: synthesis_command/chain_mix_60d1546c/chain_mix_60d1546c.json (deflated 51%)\n",
            "  adding: synthesis_command/single_mix_1e1dc390/ (stored 0%)\n",
            "  adding: synthesis_command/single_mix_1e1dc390/single_mix_1e1dc390_seg_0.wav (deflated 16%)\n",
            "  adding: synthesis_command/single_mix_1e1dc390/single_mix_1e1dc390.json (deflated 49%)\n",
            "  adding: synthesis_command/single_mix_1e1dc390/single_mix_1e1dc390_seg_1.wav (deflated 13%)\n",
            "  adding: synthesis_command/single_mix_1e1dc390/single_mix_1e1dc390_full.wav (deflated 13%)\n",
            "  adding: synthesis_command/single_mix_7899ef4c/ (stored 0%)\n",
            "  adding: synthesis_command/single_mix_7899ef4c/single_mix_7899ef4c_seg_0.wav (deflated 50%)\n",
            "  adding: synthesis_command/single_mix_7899ef4c/single_mix_7899ef4c_full.wav (deflated 17%)\n",
            "  adding: synthesis_command/single_mix_7899ef4c/single_mix_7899ef4c.json (deflated 47%)\n",
            "  adding: synthesis_command/single_mix_7899ef4c/single_mix_7899ef4c_seg_1.wav (deflated 26%)\n",
            "  adding: synthesis_command/single_mix_5a0d4a79/ (stored 0%)\n",
            "  adding: synthesis_command/single_mix_5a0d4a79/single_mix_5a0d4a79_full.wav (deflated 16%)\n",
            "  adding: synthesis_command/single_mix_5a0d4a79/single_mix_5a0d4a79_seg_0.wav (deflated 24%)\n",
            "  adding: synthesis_command/single_mix_5a0d4a79/single_mix_5a0d4a79_seg_1.wav (deflated 34%)\n",
            "  adding: synthesis_command/single_mix_5a0d4a79/single_mix_5a0d4a79.json (deflated 48%)\n",
            "  adding: synthesis_command/chain_active_a44a94bb/ (stored 0%)\n",
            "  adding: synthesis_command/chain_active_a44a94bb/chain_active_a44a94bb_full.wav (deflated 18%)\n",
            "  adding: synthesis_command/chain_active_a44a94bb/chain_active_a44a94bb.json (deflated 39%)\n",
            "  adding: synthesis_command/chain_active_0cd28fed/ (stored 0%)\n",
            "  adding: synthesis_command/chain_active_0cd28fed/chain_active_0cd28fed_full.wav (deflated 34%)\n",
            "  adding: synthesis_command/chain_active_0cd28fed/chain_active_0cd28fed.json (deflated 42%)\n",
            "  adding: synthesis_command/chain_mix_257f3082/ (stored 0%)\n",
            "  adding: synthesis_command/chain_mix_257f3082/chain_mix_257f3082_seg_2.wav (deflated 37%)\n",
            "  adding: synthesis_command/chain_mix_257f3082/chain_mix_257f3082_full.wav (deflated 23%)\n",
            "  adding: synthesis_command/chain_mix_257f3082/chain_mix_257f3082_seg_3.wav (deflated 31%)\n",
            "  adding: synthesis_command/chain_mix_257f3082/chain_mix_257f3082_seg_1.wav (deflated 35%)\n",
            "  adding: synthesis_command/chain_mix_257f3082/chain_mix_257f3082_seg_0.wav (deflated 24%)\n",
            "  adding: synthesis_command/chain_mix_257f3082/chain_mix_257f3082.json (deflated 52%)\n",
            "  adding: synthesis_command/non_active_971ad23c/ (stored 0%)\n",
            "  adding: synthesis_command/non_active_971ad23c/non_active_971ad23c.json (deflated 38%)\n",
            "  adding: synthesis_command/non_active_971ad23c/non_active_971ad23c_full.wav (deflated 22%)\n",
            "  adding: synthesis_command/non_active_d5776894/ (stored 0%)\n",
            "  adding: synthesis_command/non_active_d5776894/non_active_d5776894_full.wav (deflated 13%)\n",
            "  adding: synthesis_command/non_active_d5776894/non_active_d5776894.json (deflated 38%)\n",
            "  adding: synthesis_command/single_active_6cb113ed/ (stored 0%)\n",
            "  adding: synthesis_command/single_active_6cb113ed/single_active_6cb113ed.json (deflated 39%)\n",
            "  adding: synthesis_command/single_active_6cb113ed/single_active_6cb113ed_full.wav (deflated 30%)\n",
            "  adding: synthesis_command/non_active_619c2b50/ (stored 0%)\n",
            "  adding: synthesis_command/non_active_619c2b50/non_active_619c2b50_full.wav (deflated 23%)\n",
            "  adding: synthesis_command/non_active_619c2b50/non_active_619c2b50.json (deflated 38%)\n",
            "  adding: synthesis_command/chain_mix_0851da38/ (stored 0%)\n",
            "  adding: synthesis_command/chain_mix_0851da38/chain_mix_0851da38_seg_3.wav (deflated 91%)\n",
            "  adding: synthesis_command/chain_mix_0851da38/chain_mix_0851da38_seg_4.wav (deflated 36%)\n",
            "  adding: synthesis_command/chain_mix_0851da38/chain_mix_0851da38_seg_0.wav (deflated 46%)\n",
            "  adding: synthesis_command/chain_mix_0851da38/chain_mix_0851da38.json (deflated 51%)\n",
            "  adding: synthesis_command/chain_mix_0851da38/chain_mix_0851da38_seg_2.wav (deflated 30%)\n",
            "  adding: synthesis_command/chain_mix_0851da38/chain_mix_0851da38_seg_1.wav (deflated 92%)\n",
            "  adding: synthesis_command/chain_mix_0851da38/chain_mix_0851da38_full.wav (deflated 26%)\n",
            "  adding: synthesis_command/single_active_d1448599/ (stored 0%)\n",
            "  adding: synthesis_command/single_active_d1448599/single_active_d1448599.json (deflated 38%)\n",
            "  adding: synthesis_command/single_active_d1448599/single_active_d1448599_full.wav (deflated 50%)\n",
            "  adding: synthesis_command/chain_active_ce81bb7f/ (stored 0%)\n",
            "  adding: synthesis_command/chain_active_ce81bb7f/chain_active_ce81bb7f_full.wav (deflated 21%)\n",
            "  adding: synthesis_command/chain_active_ce81bb7f/chain_active_ce81bb7f.json (deflated 41%)\n",
            "  adding: synthesis_command/non_active_8312d775/ (stored 0%)\n",
            "  adding: synthesis_command/non_active_8312d775/non_active_8312d775_full.wav (deflated 20%)\n",
            "  adding: synthesis_command/non_active_8312d775/non_active_8312d775.json (deflated 42%)\n",
            "  adding: synthesis_command/chain_mix_17057edb/ (stored 0%)\n",
            "  adding: synthesis_command/chain_mix_17057edb/chain_mix_17057edb_seg_1.wav (deflated 22%)\n",
            "  adding: synthesis_command/chain_mix_17057edb/chain_mix_17057edb.json (deflated 52%)\n",
            "  adding: synthesis_command/chain_mix_17057edb/chain_mix_17057edb_seg_0.wav (deflated 14%)\n",
            "  adding: synthesis_command/chain_mix_17057edb/chain_mix_17057edb_full.wav (deflated 12%)\n",
            "  adding: synthesis_command/chain_mix_17057edb/chain_mix_17057edb_seg_3.wav (deflated 26%)\n",
            "  adding: synthesis_command/chain_mix_17057edb/chain_mix_17057edb_seg_2.wav (deflated 19%)\n",
            "  adding: synthesis_command/non_active_eed06cff/ (stored 0%)\n",
            "  adding: synthesis_command/non_active_eed06cff/non_active_eed06cff.json (deflated 41%)\n",
            "  adding: synthesis_command/non_active_eed06cff/non_active_eed06cff_full.wav (deflated 13%)\n",
            "  adding: synthesis_command/chain_mix_824dd8f6/ (stored 0%)\n",
            "  adding: synthesis_command/chain_mix_824dd8f6/chain_mix_824dd8f6_seg_1.wav (deflated 29%)\n",
            "  adding: synthesis_command/chain_mix_824dd8f6/chain_mix_824dd8f6_seg_0.wav (deflated 51%)\n",
            "  adding: synthesis_command/chain_mix_824dd8f6/chain_mix_824dd8f6_full.wav (deflated 19%)\n",
            "  adding: synthesis_command/chain_mix_824dd8f6/chain_mix_824dd8f6.json (deflated 48%)\n",
            "  adding: synthesis_command/chain_mix_0efd06c6/ (stored 0%)\n",
            "  adding: synthesis_command/chain_mix_0efd06c6/chain_mix_0efd06c6_full.wav (deflated 12%)\n",
            "  adding: synthesis_command/chain_mix_0efd06c6/chain_mix_0efd06c6.json (deflated 50%)\n",
            "  adding: synthesis_command/chain_mix_0efd06c6/chain_mix_0efd06c6_seg_1.wav (deflated 16%)\n",
            "  adding: synthesis_command/chain_mix_0efd06c6/chain_mix_0efd06c6_seg_0.wav (deflated 24%)\n",
            "  adding: synthesis_command/chain_mix_0efd06c6/chain_mix_0efd06c6_seg_2.wav (deflated 23%)\n",
            "  adding: synthesis_command/chain_mix_e90f15e1/ (stored 0%)\n",
            "  adding: synthesis_command/chain_mix_e90f15e1/chain_mix_e90f15e1_full.wav (deflated 25%)\n",
            "  adding: synthesis_command/chain_mix_e90f15e1/chain_mix_e90f15e1_seg_1.wav (deflated 52%)\n",
            "  adding: synthesis_command/chain_mix_e90f15e1/chain_mix_e90f15e1_seg_2.wav (deflated 54%)\n",
            "  adding: synthesis_command/chain_mix_e90f15e1/chain_mix_e90f15e1_seg_0.wav (deflated 93%)\n",
            "  adding: synthesis_command/chain_mix_e90f15e1/chain_mix_e90f15e1.json (deflated 49%)\n",
            "  adding: synthesis_command/chain_mix_54f0fb8a/ (stored 0%)\n",
            "  adding: synthesis_command/chain_mix_54f0fb8a/chain_mix_54f0fb8a.json (deflated 52%)\n",
            "  adding: synthesis_command/chain_mix_54f0fb8a/chain_mix_54f0fb8a_full.wav (deflated 17%)\n",
            "  adding: synthesis_command/chain_mix_54f0fb8a/chain_mix_54f0fb8a_seg_0.wav (deflated 24%)\n",
            "  adding: synthesis_command/chain_mix_54f0fb8a/chain_mix_54f0fb8a_seg_1.wav (deflated 25%)\n",
            "  adding: synthesis_command/non_active_552cb3f4/ (stored 0%)\n",
            "  adding: synthesis_command/non_active_552cb3f4/non_active_552cb3f4.json (deflated 39%)\n",
            "  adding: synthesis_command/non_active_552cb3f4/non_active_552cb3f4_full.wav (deflated 29%)\n",
            "  adding: synthesis_command/chain_mix_98c0c26d/ (stored 0%)\n",
            "  adding: synthesis_command/chain_mix_98c0c26d/chain_mix_98c0c26d.json (deflated 49%)\n",
            "  adding: synthesis_command/chain_mix_98c0c26d/chain_mix_98c0c26d_full.wav (deflated 24%)\n",
            "  adding: synthesis_command/chain_mix_98c0c26d/chain_mix_98c0c26d_seg_0.wav (deflated 18%)\n",
            "  adding: synthesis_command/chain_mix_98c0c26d/chain_mix_98c0c26d_seg_1.wav (deflated 26%)\n",
            "  adding: synthesis_command/chain_mix_98c0c26d/chain_mix_98c0c26d_seg_2.wav (deflated 47%)\n",
            "  adding: synthesis_command/chain_mix_c0737147/ (stored 0%)\n",
            "  adding: synthesis_command/chain_mix_c0737147/chain_mix_c0737147_full.wav (deflated 19%)\n",
            "  adding: synthesis_command/chain_mix_c0737147/chain_mix_c0737147_seg_1.wav (deflated 23%)\n",
            "  adding: synthesis_command/chain_mix_c0737147/chain_mix_c0737147_seg_0.wav (deflated 39%)\n",
            "  adding: synthesis_command/chain_mix_c0737147/chain_mix_c0737147.json (deflated 46%)\n",
            "  adding: synthesis_command/chain_active_eacc6c23/ (stored 0%)\n",
            "  adding: synthesis_command/chain_active_eacc6c23/chain_active_eacc6c23_full.wav (deflated 11%)\n",
            "  adding: synthesis_command/chain_active_eacc6c23/chain_active_eacc6c23.json (deflated 38%)\n",
            "  adding: synthesis_command/non_active_16db843c/ (stored 0%)\n",
            "  adding: synthesis_command/non_active_16db843c/non_active_16db843c_full.wav (deflated 28%)\n",
            "  adding: synthesis_command/non_active_16db843c/non_active_16db843c.json (deflated 38%)\n",
            "  adding: synthesis_command/chain_active_72b7ccb8/ (stored 0%)\n",
            "  adding: synthesis_command/chain_active_72b7ccb8/chain_active_72b7ccb8_full.wav (deflated 28%)\n",
            "  adding: synthesis_command/chain_active_72b7ccb8/chain_active_72b7ccb8.json (deflated 39%)\n",
            "  adding: synthesis_command/chain_active_e3edd91d/ (stored 0%)\n",
            "  adding: synthesis_command/chain_active_e3edd91d/chain_active_e3edd91d_full.wav (deflated 13%)\n",
            "  adding: synthesis_command/chain_active_e3edd91d/chain_active_e3edd91d.json (deflated 39%)\n",
            "  adding: synthesis_command/single_mix_9011eee1/ (stored 0%)\n",
            "  adding: synthesis_command/single_mix_9011eee1/single_mix_9011eee1_seg_0.wav (deflated 26%)\n",
            "  adding: synthesis_command/single_mix_9011eee1/single_mix_9011eee1_seg_1.wav (deflated 14%)\n",
            "  adding: synthesis_command/single_mix_9011eee1/single_mix_9011eee1.json (deflated 49%)\n",
            "  adding: synthesis_command/single_mix_9011eee1/single_mix_9011eee1_full.wav (deflated 14%)\n",
            "  adding: synthesis_command/chain_active_2590ae99/ (stored 0%)\n",
            "  adding: synthesis_command/chain_active_2590ae99/chain_active_2590ae99.json (deflated 39%)\n",
            "  adding: synthesis_command/chain_active_2590ae99/chain_active_2590ae99_full.wav (deflated 17%)\n",
            "  adding: synthesis_command/single_mix_62ad2838/ (stored 0%)\n",
            "  adding: synthesis_command/single_mix_62ad2838/single_mix_62ad2838.json (deflated 48%)\n",
            "  adding: synthesis_command/single_mix_62ad2838/single_mix_62ad2838_seg_0.wav (deflated 22%)\n",
            "  adding: synthesis_command/single_mix_62ad2838/single_mix_62ad2838_seg_1.wav (deflated 16%)\n",
            "  adding: synthesis_command/single_mix_62ad2838/single_mix_62ad2838_full.wav (deflated 18%)\n",
            "  adding: synthesis_command/single_active_f4bea664/ (stored 0%)\n",
            "  adding: synthesis_command/single_active_f4bea664/single_active_f4bea664.json (deflated 40%)\n",
            "  adding: synthesis_command/single_active_f4bea664/single_active_f4bea664_full.wav (deflated 33%)\n",
            "  adding: synthesis_command/chain_mix_826b1478/ (stored 0%)\n",
            "  adding: synthesis_command/chain_mix_826b1478/chain_mix_826b1478.json (deflated 53%)\n",
            "  adding: synthesis_command/chain_mix_826b1478/chain_mix_826b1478_full.wav (deflated 17%)\n",
            "  adding: synthesis_command/chain_mix_826b1478/chain_mix_826b1478_seg_0.wav (deflated 28%)\n",
            "  adding: synthesis_command/chain_mix_826b1478/chain_mix_826b1478_seg_1.wav (deflated 19%)\n",
            "  adding: synthesis_command/chain_mix_826b1478/chain_mix_826b1478_seg_2.wav (deflated 21%)\n",
            "  adding: synthesis_command/chain_mix_826b1478/chain_mix_826b1478_seg_3.wav (deflated 16%)\n",
            "  adding: synthesis_command/chain_active_a5553f8e/ (stored 0%)\n",
            "  adding: synthesis_command/chain_active_a5553f8e/chain_active_a5553f8e_full.wav (deflated 12%)\n",
            "  adding: synthesis_command/chain_active_a5553f8e/chain_active_a5553f8e.json (deflated 39%)\n",
            "  adding: synthesis_command/chain_mix_900a25ca/ (stored 0%)\n",
            "  adding: synthesis_command/chain_mix_900a25ca/chain_mix_900a25ca_full.wav (deflated 20%)\n",
            "  adding: synthesis_command/chain_mix_900a25ca/chain_mix_900a25ca.json (deflated 50%)\n",
            "  adding: synthesis_command/chain_mix_900a25ca/chain_mix_900a25ca_seg_1.wav (deflated 21%)\n",
            "  adding: synthesis_command/chain_mix_900a25ca/chain_mix_900a25ca_seg_0.wav (deflated 27%)\n",
            "  adding: synthesis_command/single_active_f6ddea74/ (stored 0%)\n",
            "  adding: synthesis_command/single_active_f6ddea74/single_active_f6ddea74_full.wav (deflated 46%)\n",
            "  adding: synthesis_command/single_active_f6ddea74/single_active_f6ddea74.json (deflated 41%)\n",
            "  adding: synthesis_command/chain_active_e96c9474/ (stored 0%)\n",
            "  adding: synthesis_command/chain_active_e96c9474/chain_active_e96c9474_full.wav (deflated 21%)\n",
            "  adding: synthesis_command/chain_active_e96c9474/chain_active_e96c9474.json (deflated 39%)\n",
            "  adding: synthesis_command/chain_mix_01634b1e/ (stored 0%)\n",
            "  adding: synthesis_command/chain_mix_01634b1e/chain_mix_01634b1e_seg_0.wav (deflated 29%)\n",
            "  adding: synthesis_command/chain_mix_01634b1e/chain_mix_01634b1e_seg_1.wav (deflated 13%)\n",
            "  adding: synthesis_command/chain_mix_01634b1e/chain_mix_01634b1e_full.wav (deflated 13%)\n",
            "  adding: synthesis_command/chain_mix_01634b1e/chain_mix_01634b1e.json (deflated 48%)\n",
            "  adding: synthesis_command/single_mix_c2bea66b/ (stored 0%)\n",
            "  adding: synthesis_command/single_mix_c2bea66b/single_mix_c2bea66b_full.wav (deflated 26%)\n",
            "  adding: synthesis_command/single_mix_c2bea66b/single_mix_c2bea66b_seg_1.wav (deflated 32%)\n",
            "  adding: synthesis_command/single_mix_c2bea66b/single_mix_c2bea66b.json (deflated 49%)\n",
            "  adding: synthesis_command/single_mix_c2bea66b/single_mix_c2bea66b_seg_0.wav (deflated 32%)\n",
            "  adding: synthesis_command/non_active_01696ca3/ (stored 0%)\n",
            "  adding: synthesis_command/non_active_01696ca3/non_active_01696ca3_full.wav (deflated 16%)\n",
            "  adding: synthesis_command/non_active_01696ca3/non_active_01696ca3.json (deflated 39%)\n",
            "  adding: synthesis_command/non_active_7ba9bde5/ (stored 0%)\n",
            "  adding: synthesis_command/non_active_7ba9bde5/non_active_7ba9bde5.json (deflated 39%)\n",
            "  adding: synthesis_command/non_active_7ba9bde5/non_active_7ba9bde5_full.wav (deflated 27%)\n",
            "  adding: synthesis_command/chain_active_082a1385/ (stored 0%)\n",
            "  adding: synthesis_command/chain_active_082a1385/chain_active_082a1385_full.wav (deflated 42%)\n",
            "  adding: synthesis_command/chain_active_082a1385/chain_active_082a1385.json (deflated 39%)\n",
            "  adding: synthesis_command/non_active_66aaef89/ (stored 0%)\n",
            "  adding: synthesis_command/non_active_66aaef89/non_active_66aaef89_full.wav (deflated 20%)\n",
            "  adding: synthesis_command/non_active_66aaef89/non_active_66aaef89.json (deflated 38%)\n",
            "  adding: synthesis_command/non_active_e4e335c0/ (stored 0%)\n",
            "  adding: synthesis_command/non_active_e4e335c0/non_active_e4e335c0_full.wav (deflated 13%)\n",
            "  adding: synthesis_command/non_active_e4e335c0/non_active_e4e335c0.json (deflated 38%)\n",
            "  adding: synthesis_command/non_active_8b2835a0/ (stored 0%)\n",
            "  adding: synthesis_command/non_active_8b2835a0/non_active_8b2835a0_full.wav (deflated 21%)\n",
            "  adding: synthesis_command/non_active_8b2835a0/non_active_8b2835a0.json (deflated 39%)\n",
            "  adding: synthesis_command/chain_active_9f4dab7c/ (stored 0%)\n",
            "  adding: synthesis_command/chain_active_9f4dab7c/chain_active_9f4dab7c.json (deflated 42%)\n",
            "  adding: synthesis_command/chain_active_9f4dab7c/chain_active_9f4dab7c_full.wav (deflated 50%)\n",
            "  adding: synthesis_command/chain_mix_79e2e4de/ (stored 0%)\n",
            "  adding: synthesis_command/chain_mix_79e2e4de/chain_mix_79e2e4de_seg_2.wav (deflated 30%)\n",
            "  adding: synthesis_command/chain_mix_79e2e4de/chain_mix_79e2e4de_seg_1.wav (deflated 28%)\n",
            "  adding: synthesis_command/chain_mix_79e2e4de/chain_mix_79e2e4de_seg_0.wav (deflated 27%)\n",
            "  adding: synthesis_command/chain_mix_79e2e4de/chain_mix_79e2e4de_full.wav (deflated 16%)\n",
            "  adding: synthesis_command/chain_mix_79e2e4de/chain_mix_79e2e4de.json (deflated 50%)\n",
            "  adding: synthesis_command/chain_active_bc85e09c/ (stored 0%)\n",
            "  adding: synthesis_command/chain_active_bc85e09c/chain_active_bc85e09c_full.wav (deflated 55%)\n",
            "  adding: synthesis_command/chain_active_bc85e09c/chain_active_bc85e09c.json (deflated 41%)\n",
            "  adding: synthesis_command/non_active_820868d3/ (stored 0%)\n",
            "  adding: synthesis_command/non_active_820868d3/non_active_820868d3_full.wav (deflated 18%)\n",
            "  adding: synthesis_command/non_active_820868d3/non_active_820868d3.json (deflated 41%)\n",
            "  adding: synthesis_command/chain_active_f227716a/ (stored 0%)\n",
            "  adding: synthesis_command/chain_active_f227716a/chain_active_f227716a_full.wav (deflated 19%)\n",
            "  adding: synthesis_command/chain_active_f227716a/chain_active_f227716a.json (deflated 37%)\n",
            "  adding: synthesis_command/non_active_d0830663/ (stored 0%)\n",
            "  adding: synthesis_command/non_active_d0830663/non_active_d0830663.json (deflated 40%)\n",
            "  adding: synthesis_command/non_active_d0830663/non_active_d0830663_full.wav (deflated 23%)\n",
            "  adding: synthesis_command/chain_active_17157eae/ (stored 0%)\n",
            "  adding: synthesis_command/chain_active_17157eae/chain_active_17157eae.json (deflated 40%)\n",
            "  adding: synthesis_command/chain_active_17157eae/chain_active_17157eae_full.wav (deflated 20%)\n",
            "  adding: synthesis_command/non_active_51b92168/ (stored 0%)\n",
            "  adding: synthesis_command/non_active_51b92168/non_active_51b92168_full.wav (deflated 20%)\n",
            "  adding: synthesis_command/non_active_51b92168/non_active_51b92168.json (deflated 38%)\n",
            "  adding: synthesis_command/non_active_9dc71052/ (stored 0%)\n",
            "  adding: synthesis_command/non_active_9dc71052/non_active_9dc71052.json (deflated 38%)\n",
            "  adding: synthesis_command/non_active_9dc71052/non_active_9dc71052_full.wav (deflated 16%)\n",
            "  adding: synthesis_command/chain_mix_87c82344/ (stored 0%)\n",
            "  adding: synthesis_command/chain_mix_87c82344/chain_mix_87c82344_seg_1.wav (deflated 48%)\n",
            "  adding: synthesis_command/chain_mix_87c82344/chain_mix_87c82344.json (deflated 51%)\n",
            "  adding: synthesis_command/chain_mix_87c82344/chain_mix_87c82344_seg_0.wav (deflated 30%)\n",
            "  adding: synthesis_command/chain_mix_87c82344/chain_mix_87c82344_seg_3.wav (deflated 39%)\n",
            "  adding: synthesis_command/chain_mix_87c82344/chain_mix_87c82344_seg_2.wav (deflated 37%)\n",
            "  adding: synthesis_command/chain_mix_87c82344/chain_mix_87c82344_full.wav (deflated 18%)\n",
            "  adding: synthesis_command/single_mix_ad71f4d7/ (stored 0%)\n",
            "  adding: synthesis_command/single_mix_ad71f4d7/single_mix_ad71f4d7.json (deflated 47%)\n",
            "  adding: synthesis_command/single_mix_ad71f4d7/single_mix_ad71f4d7_full.wav (deflated 19%)\n",
            "  adding: synthesis_command/single_mix_ad71f4d7/single_mix_ad71f4d7_seg_0.wav (deflated 21%)\n",
            "  adding: synthesis_command/single_mix_ad71f4d7/single_mix_ad71f4d7_seg_1.wav (deflated 28%)\n",
            "  adding: synthesis_command/single_mix_a49086b6/ (stored 0%)\n",
            "  adding: synthesis_command/single_mix_a49086b6/single_mix_a49086b6_seg_2.wav (deflated 33%)\n",
            "  adding: synthesis_command/single_mix_a49086b6/single_mix_a49086b6_seg_1.wav (deflated 55%)\n",
            "  adding: synthesis_command/single_mix_a49086b6/single_mix_a49086b6_full.wav (deflated 22%)\n",
            "  adding: synthesis_command/single_mix_a49086b6/single_mix_a49086b6.json (deflated 48%)\n",
            "  adding: synthesis_command/single_mix_a49086b6/single_mix_a49086b6_seg_0.wav (deflated 24%)\n",
            "  adding: synthesis_command/chain_active_636f124f/ (stored 0%)\n",
            "  adding: synthesis_command/chain_active_636f124f/chain_active_636f124f.json (deflated 38%)\n",
            "  adding: synthesis_command/chain_active_636f124f/chain_active_636f124f_full.wav (deflated 25%)\n",
            "  adding: synthesis_command/non_active_7d7829eb/ (stored 0%)\n",
            "  adding: synthesis_command/non_active_7d7829eb/non_active_7d7829eb_full.wav (deflated 16%)\n",
            "  adding: synthesis_command/non_active_7d7829eb/non_active_7d7829eb.json (deflated 37%)\n",
            "  adding: synthesis_command/chain_active_7c5cba01/ (stored 0%)\n",
            "  adding: synthesis_command/chain_active_7c5cba01/chain_active_7c5cba01_full.wav (deflated 29%)\n",
            "  adding: synthesis_command/chain_active_7c5cba01/chain_active_7c5cba01.json (deflated 38%)\n",
            "  adding: synthesis_command/non_active_3163039f/ (stored 0%)\n",
            "  adding: synthesis_command/non_active_3163039f/non_active_3163039f_full.wav (deflated 26%)\n",
            "  adding: synthesis_command/non_active_3163039f/non_active_3163039f.json (deflated 40%)\n",
            "  adding: synthesis_command/single_mix_ff3e6b45/ (stored 0%)\n",
            "  adding: synthesis_command/single_mix_ff3e6b45/single_mix_ff3e6b45_seg_0.wav (deflated 40%)\n",
            "  adding: synthesis_command/single_mix_ff3e6b45/single_mix_ff3e6b45_seg_2.wav (deflated 24%)\n",
            "  adding: synthesis_command/single_mix_ff3e6b45/single_mix_ff3e6b45.json (deflated 49%)\n",
            "  adding: synthesis_command/single_mix_ff3e6b45/single_mix_ff3e6b45_full.wav (deflated 19%)\n",
            "  adding: synthesis_command/single_mix_ff3e6b45/single_mix_ff3e6b45_seg_1.wav (deflated 26%)\n",
            "  adding: synthesis_command/chain_mix_837dde3f/ (stored 0%)\n",
            "  adding: synthesis_command/chain_mix_837dde3f/chain_mix_837dde3f.json (deflated 50%)\n",
            "  adding: synthesis_command/chain_mix_837dde3f/chain_mix_837dde3f_seg_0.wav (deflated 20%)\n",
            "  adding: synthesis_command/chain_mix_837dde3f/chain_mix_837dde3f_seg_1.wav (deflated 21%)\n",
            "  adding: synthesis_command/chain_mix_837dde3f/chain_mix_837dde3f_full.wav (deflated 16%)\n",
            "  adding: synthesis_command/chain_active_6563b233/ (stored 0%)\n",
            "  adding: synthesis_command/chain_active_6563b233/chain_active_6563b233.json (deflated 37%)\n",
            "  adding: synthesis_command/chain_active_6563b233/chain_active_6563b233_full.wav (deflated 25%)\n",
            "  adding: synthesis_command/chain_active_0b145453/ (stored 0%)\n",
            "  adding: synthesis_command/chain_active_0b145453/chain_active_0b145453_full.wav (deflated 18%)\n",
            "  adding: synthesis_command/chain_active_0b145453/chain_active_0b145453.json (deflated 38%)\n",
            "  adding: synthesis_command/non_active_6b57e944/ (stored 0%)\n",
            "  adding: synthesis_command/non_active_6b57e944/non_active_6b57e944.json (deflated 41%)\n",
            "  adding: synthesis_command/non_active_6b57e944/non_active_6b57e944_full.wav (deflated 14%)\n",
            "  adding: synthesis_command/chain_active_a1f0f24b/ (stored 0%)\n",
            "  adding: synthesis_command/chain_active_a1f0f24b/chain_active_a1f0f24b_full.wav (deflated 45%)\n",
            "  adding: synthesis_command/chain_active_a1f0f24b/chain_active_a1f0f24b.json (deflated 40%)\n",
            "  adding: synthesis_command/single_active_663932b7/ (stored 0%)\n",
            "  adding: synthesis_command/single_active_663932b7/single_active_663932b7_full.wav (deflated 55%)\n",
            "  adding: synthesis_command/single_active_663932b7/single_active_663932b7.json (deflated 40%)\n",
            "  adding: synthesis_command/single_active_754b4e26/ (stored 0%)\n",
            "  adding: synthesis_command/single_active_754b4e26/single_active_754b4e26.json (deflated 38%)\n",
            "  adding: synthesis_command/single_active_754b4e26/single_active_754b4e26_full.wav (deflated 30%)\n",
            "  adding: synthesis_command/chain_mix_0c96e81e/ (stored 0%)\n",
            "  adding: synthesis_command/chain_mix_0c96e81e/chain_mix_0c96e81e.json (deflated 51%)\n",
            "  adding: synthesis_command/chain_mix_0c96e81e/chain_mix_0c96e81e_seg_2.wav (deflated 45%)\n",
            "  adding: synthesis_command/chain_mix_0c96e81e/chain_mix_0c96e81e_seg_0.wav (deflated 44%)\n",
            "  adding: synthesis_command/chain_mix_0c96e81e/chain_mix_0c96e81e_full.wav (deflated 18%)\n",
            "  adding: synthesis_command/chain_mix_0c96e81e/chain_mix_0c96e81e_seg_1.wav (deflated 25%)\n",
            "  adding: synthesis_command/single_mix_3b26607f/ (stored 0%)\n",
            "  adding: synthesis_command/single_mix_3b26607f/single_mix_3b26607f_seg_10.wav (deflated 91%)\n",
            "  adding: synthesis_command/single_mix_3b26607f/single_mix_3b26607f_seg_11.wav (deflated 92%)\n",
            "  adding: synthesis_command/single_mix_3b26607f/single_mix_3b26607f_seg_1.wav (deflated 91%)\n",
            "  adding: synthesis_command/single_mix_3b26607f/single_mix_3b26607f_seg_3.wav (deflated 93%)\n",
            "  adding: synthesis_command/single_mix_3b26607f/single_mix_3b26607f_full.wav (deflated 39%)\n",
            "  adding: synthesis_command/single_mix_3b26607f/single_mix_3b26607f_seg_6.wav (deflated 64%)\n",
            "  adding: synthesis_command/single_mix_3b26607f/single_mix_3b26607f_seg_4.wav (deflated 91%)\n",
            "  adding: synthesis_command/single_mix_3b26607f/single_mix_3b26607f_seg_9.wav (deflated 92%)\n",
            "  adding: synthesis_command/single_mix_3b26607f/single_mix_3b26607f_seg_0.wav (deflated 92%)\n",
            "  adding: synthesis_command/single_mix_3b26607f/single_mix_3b26607f_seg_5.wav (deflated 91%)\n",
            "  adding: synthesis_command/single_mix_3b26607f/single_mix_3b26607f.json (deflated 59%)\n",
            "  adding: synthesis_command/single_mix_3b26607f/single_mix_3b26607f_seg_7.wav (deflated 92%)\n",
            "  adding: synthesis_command/single_mix_3b26607f/single_mix_3b26607f_seg_8.wav (deflated 92%)\n",
            "  adding: synthesis_command/single_mix_3b26607f/single_mix_3b26607f_seg_2.wav (deflated 92%)\n",
            "  adding: synthesis_command/single_mix_3b26607f/single_mix_3b26607f_seg_12.wav (deflated 92%)\n",
            "  adding: synthesis_command/single_active_2a6a9ac5/ (stored 0%)\n",
            "  adding: synthesis_command/single_active_2a6a9ac5/single_active_2a6a9ac5.json (deflated 37%)\n",
            "  adding: synthesis_command/single_active_2a6a9ac5/single_active_2a6a9ac5_full.wav (deflated 22%)\n",
            "  adding: synthesis_command/chain_mix_6eccc75e/ (stored 0%)\n",
            "  adding: synthesis_command/chain_mix_6eccc75e/chain_mix_6eccc75e.json (deflated 47%)\n",
            "  adding: synthesis_command/chain_mix_6eccc75e/chain_mix_6eccc75e_seg_1.wav (deflated 14%)\n",
            "  adding: synthesis_command/chain_mix_6eccc75e/chain_mix_6eccc75e_seg_0.wav (deflated 39%)\n",
            "  adding: synthesis_command/chain_mix_6eccc75e/chain_mix_6eccc75e_full.wav (deflated 16%)\n",
            "  adding: synthesis_command/chain_mix_1b2354f7/ (stored 0%)\n",
            "  adding: synthesis_command/chain_mix_1b2354f7/chain_mix_1b2354f7.json (deflated 49%)\n",
            "  adding: synthesis_command/chain_mix_1b2354f7/chain_mix_1b2354f7_seg_1.wav (deflated 48%)\n",
            "  adding: synthesis_command/chain_mix_1b2354f7/chain_mix_1b2354f7_seg_0.wav (deflated 44%)\n",
            "  adding: synthesis_command/chain_mix_1b2354f7/chain_mix_1b2354f7_full.wav (deflated 30%)\n",
            "  adding: synthesis_command/non_active_df71469b/ (stored 0%)\n",
            "  adding: synthesis_command/non_active_df71469b/non_active_df71469b_full.wav (deflated 24%)\n",
            "  adding: synthesis_command/non_active_df71469b/non_active_df71469b.json (deflated 38%)\n",
            "  adding: synthesis_command/single_mix_10077441/ (stored 0%)\n",
            "  adding: synthesis_command/single_mix_10077441/single_mix_10077441_seg_0.wav (deflated 38%)\n",
            "  adding: synthesis_command/single_mix_10077441/single_mix_10077441.json (deflated 47%)\n",
            "  adding: synthesis_command/single_mix_10077441/single_mix_10077441_seg_1.wav (deflated 34%)\n",
            "  adding: synthesis_command/single_mix_10077441/single_mix_10077441_full.wav (deflated 28%)\n",
            "  adding: synthesis_command/chain_mix_a7055b56/ (stored 0%)\n",
            "  adding: synthesis_command/chain_mix_a7055b56/chain_mix_a7055b56_seg_0.wav (deflated 25%)\n",
            "  adding: synthesis_command/chain_mix_a7055b56/chain_mix_a7055b56.json (deflated 51%)\n",
            "  adding: synthesis_command/chain_mix_a7055b56/chain_mix_a7055b56_seg_2.wav (deflated 27%)\n",
            "  adding: synthesis_command/chain_mix_a7055b56/chain_mix_a7055b56_seg_1.wav (deflated 39%)\n",
            "  adding: synthesis_command/chain_mix_a7055b56/chain_mix_a7055b56_seg_3.wav (deflated 24%)\n",
            "  adding: synthesis_command/chain_mix_a7055b56/chain_mix_a7055b56_full.wav (deflated 28%)\n",
            "  adding: synthesis_command/single_active_75d49dcc/ (stored 0%)\n",
            "  adding: synthesis_command/single_active_75d49dcc/single_active_75d49dcc_full.wav (deflated 13%)\n",
            "  adding: synthesis_command/single_active_75d49dcc/single_active_75d49dcc.json (deflated 39%)\n",
            "  adding: synthesis_command/chain_mix_a11aeb16/ (stored 0%)\n",
            "  adding: synthesis_command/chain_mix_a11aeb16/chain_mix_a11aeb16_full.wav (deflated 30%)\n",
            "  adding: synthesis_command/chain_mix_a11aeb16/chain_mix_a11aeb16_seg_1.wav (deflated 26%)\n",
            "  adding: synthesis_command/chain_mix_a11aeb16/chain_mix_a11aeb16_seg_0.wav (deflated 36%)\n",
            "  adding: synthesis_command/chain_mix_a11aeb16/chain_mix_a11aeb16.json (deflated 51%)\n",
            "  adding: synthesis_command/chain_mix_a11aeb16/chain_mix_a11aeb16_seg_2.wav (deflated 40%)\n",
            "  adding: synthesis_command/single_mix_2d794fa7/ (stored 0%)\n",
            "  adding: synthesis_command/single_mix_2d794fa7/single_mix_2d794fa7_full.wav (deflated 22%)\n",
            "  adding: synthesis_command/single_mix_2d794fa7/single_mix_2d794fa7_seg_1.wav (deflated 21%)\n",
            "  adding: synthesis_command/single_mix_2d794fa7/single_mix_2d794fa7_seg_0.wav (deflated 53%)\n",
            "  adding: synthesis_command/single_mix_2d794fa7/single_mix_2d794fa7.json (deflated 50%)\n",
            "  adding: synthesis_command/non_active_59dfcb67/ (stored 0%)\n",
            "  adding: synthesis_command/non_active_59dfcb67/non_active_59dfcb67.json (deflated 37%)\n",
            "  adding: synthesis_command/non_active_59dfcb67/non_active_59dfcb67_full.wav (deflated 24%)\n",
            "  adding: synthesis_command/chain_mix_085cb366/ (stored 0%)\n",
            "  adding: synthesis_command/chain_mix_085cb366/chain_mix_085cb366_full.wav (deflated 23%)\n",
            "  adding: synthesis_command/chain_mix_085cb366/chain_mix_085cb366_seg_2.wav (deflated 32%)\n",
            "  adding: synthesis_command/chain_mix_085cb366/chain_mix_085cb366_seg_0.wav (deflated 92%)\n",
            "  adding: synthesis_command/chain_mix_085cb366/chain_mix_085cb366_seg_1.wav (deflated 93%)\n",
            "  adding: synthesis_command/chain_mix_085cb366/chain_mix_085cb366.json (deflated 48%)\n",
            "  adding: synthesis_command/single_mix_9280b27e/ (stored 0%)\n",
            "  adding: synthesis_command/single_mix_9280b27e/single_mix_9280b27e_full.wav (deflated 17%)\n",
            "  adding: synthesis_command/single_mix_9280b27e/single_mix_9280b27e.json (deflated 51%)\n",
            "  adding: synthesis_command/single_mix_9280b27e/single_mix_9280b27e_seg_0.wav (deflated 40%)\n",
            "  adding: synthesis_command/single_mix_9280b27e/single_mix_9280b27e_seg_1.wav (deflated 31%)\n",
            "  adding: synthesis_command/single_mix_2252d2b4/ (stored 0%)\n",
            "  adding: synthesis_command/single_mix_2252d2b4/single_mix_2252d2b4.json (deflated 49%)\n",
            "  adding: synthesis_command/single_mix_2252d2b4/single_mix_2252d2b4_seg_0.wav (deflated 44%)\n",
            "  adding: synthesis_command/single_mix_2252d2b4/single_mix_2252d2b4_seg_1.wav (deflated 34%)\n",
            "  adding: synthesis_command/single_mix_2252d2b4/single_mix_2252d2b4_full.wav (deflated 39%)\n",
            "  adding: synthesis_command/single_mix_5e733e75/ (stored 0%)\n",
            "  adding: synthesis_command/single_mix_5e733e75/single_mix_5e733e75_full.wav (deflated 40%)\n",
            "  adding: synthesis_command/single_mix_5e733e75/single_mix_5e733e75.json (deflated 47%)\n",
            "  adding: synthesis_command/single_mix_5e733e75/single_mix_5e733e75_seg_1.wav (deflated 60%)\n",
            "  adding: synthesis_command/single_mix_5e733e75/single_mix_5e733e75_seg_0.wav (deflated 93%)\n",
            "  adding: synthesis_command/chain_active_bb8acdaa/ (stored 0%)\n",
            "  adding: synthesis_command/chain_active_bb8acdaa/chain_active_bb8acdaa.json (deflated 37%)\n",
            "  adding: synthesis_command/chain_active_bb8acdaa/chain_active_bb8acdaa_full.wav (deflated 23%)\n",
            "  adding: synthesis_command/single_mix_043a81da/ (stored 0%)\n",
            "  adding: synthesis_command/single_mix_043a81da/single_mix_043a81da_full.wav (deflated 17%)\n",
            "  adding: synthesis_command/single_mix_043a81da/single_mix_043a81da_seg_1.wav (deflated 31%)\n",
            "  adding: synthesis_command/single_mix_043a81da/single_mix_043a81da.json (deflated 51%)\n",
            "  adding: synthesis_command/single_mix_043a81da/single_mix_043a81da_seg_0.wav (deflated 46%)\n",
            "  adding: synthesis_command/single_mix_a8ed3cd5/ (stored 0%)\n",
            "  adding: synthesis_command/single_mix_a8ed3cd5/single_mix_a8ed3cd5_seg_0.wav (deflated 91%)\n",
            "  adding: synthesis_command/single_mix_a8ed3cd5/single_mix_a8ed3cd5_seg_2.wav (deflated 93%)\n",
            "  adding: synthesis_command/single_mix_a8ed3cd5/single_mix_a8ed3cd5.json (deflated 49%)\n",
            "  adding: synthesis_command/single_mix_a8ed3cd5/single_mix_a8ed3cd5_seg_1.wav (deflated 91%)\n",
            "  adding: synthesis_command/single_mix_a8ed3cd5/single_mix_a8ed3cd5_full.wav (deflated 63%)\n",
            "  adding: synthesis_command/non_active_981a3d6c/ (stored 0%)\n",
            "  adding: synthesis_command/non_active_981a3d6c/non_active_981a3d6c.json (deflated 38%)\n",
            "  adding: synthesis_command/non_active_981a3d6c/non_active_981a3d6c_full.wav (deflated 25%)\n",
            "  adding: synthesis_command/chain_mix_b89f066b/ (stored 0%)\n",
            "  adding: synthesis_command/chain_mix_b89f066b/chain_mix_b89f066b_seg_0.wav (deflated 51%)\n",
            "  adding: synthesis_command/chain_mix_b89f066b/chain_mix_b89f066b_full.wav (deflated 13%)\n",
            "  adding: synthesis_command/chain_mix_b89f066b/chain_mix_b89f066b.json (deflated 51%)\n",
            "  adding: synthesis_command/chain_mix_b89f066b/chain_mix_b89f066b_seg_2.wav (deflated 38%)\n",
            "  adding: synthesis_command/chain_mix_b89f066b/chain_mix_b89f066b_seg_1.wav (deflated 35%)\n",
            "  adding: synthesis_command/single_mix_d64fe203/ (stored 0%)\n",
            "  adding: synthesis_command/single_mix_d64fe203/single_mix_d64fe203_seg_1.wav (deflated 75%)\n",
            "  adding: synthesis_command/single_mix_d64fe203/single_mix_d64fe203_full.wav (deflated 22%)\n",
            "  adding: synthesis_command/single_mix_d64fe203/single_mix_d64fe203_seg_0.wav (deflated 34%)\n",
            "  adding: synthesis_command/single_mix_d64fe203/single_mix_d64fe203.json (deflated 46%)\n",
            "  adding: synthesis_command/single_mix_10c095bd/ (stored 0%)\n",
            "  adding: synthesis_command/single_mix_10c095bd/single_mix_10c095bd_seg_2.wav (deflated 40%)\n",
            "  adding: synthesis_command/single_mix_10c095bd/single_mix_10c095bd_full.wav (deflated 28%)\n",
            "  adding: synthesis_command/single_mix_10c095bd/single_mix_10c095bd.json (deflated 51%)\n",
            "  adding: synthesis_command/single_mix_10c095bd/single_mix_10c095bd_seg_0.wav (deflated 35%)\n",
            "  adding: synthesis_command/single_mix_10c095bd/single_mix_10c095bd_seg_1.wav (deflated 36%)\n",
            "  adding: synthesis_command/non_active_0b9c565a/ (stored 0%)\n",
            "  adding: synthesis_command/non_active_0b9c565a/non_active_0b9c565a.json (deflated 39%)\n",
            "  adding: synthesis_command/non_active_0b9c565a/non_active_0b9c565a_full.wav (deflated 19%)\n",
            "  adding: synthesis_command/non_active_55d8730a/ (stored 0%)\n",
            "  adding: synthesis_command/non_active_55d8730a/non_active_55d8730a_full.wav (deflated 28%)\n",
            "  adding: synthesis_command/non_active_55d8730a/non_active_55d8730a.json (deflated 38%)\n",
            "  adding: synthesis_command/chain_mix_73cc6448/ (stored 0%)\n",
            "  adding: synthesis_command/chain_mix_73cc6448/chain_mix_73cc6448_seg_1.wav (deflated 38%)\n",
            "  adding: synthesis_command/chain_mix_73cc6448/chain_mix_73cc6448_full.wav (deflated 19%)\n",
            "  adding: synthesis_command/chain_mix_73cc6448/chain_mix_73cc6448_seg_0.wav (deflated 93%)\n",
            "  adding: synthesis_command/chain_mix_73cc6448/chain_mix_73cc6448.json (deflated 53%)\n",
            "  adding: synthesis_command/chain_mix_73cc6448/chain_mix_73cc6448_seg_2.wav (deflated 94%)\n",
            "  adding: synthesis_command/chain_mix_73cc6448/chain_mix_73cc6448_seg_3.wav (deflated 50%)\n",
            "  adding: synthesis_command/chain_active_2c0d218f/ (stored 0%)\n",
            "  adding: synthesis_command/chain_active_2c0d218f/chain_active_2c0d218f.json (deflated 40%)\n",
            "  adding: synthesis_command/chain_active_2c0d218f/chain_active_2c0d218f_full.wav (deflated 24%)\n",
            "  adding: synthesis_command/non_active_afbade47/ (stored 0%)\n",
            "  adding: synthesis_command/non_active_afbade47/non_active_afbade47_full.wav (deflated 18%)\n",
            "  adding: synthesis_command/non_active_afbade47/non_active_afbade47.json (deflated 38%)\n",
            "  adding: synthesis_command/non_active_678b58c0/ (stored 0%)\n",
            "  adding: synthesis_command/non_active_678b58c0/non_active_678b58c0_full.wav (deflated 18%)\n",
            "  adding: synthesis_command/non_active_678b58c0/non_active_678b58c0.json (deflated 38%)\n",
            "  adding: synthesis_command/single_active_f3c01edb/ (stored 0%)\n",
            "  adding: synthesis_command/single_active_f3c01edb/single_active_f3c01edb_full.wav (deflated 30%)\n",
            "  adding: synthesis_command/single_active_f3c01edb/single_active_f3c01edb.json (deflated 43%)\n",
            "  adding: synthesis_command/single_active_5830f21d/ (stored 0%)\n",
            "  adding: synthesis_command/single_active_5830f21d/single_active_5830f21d.json (deflated 38%)\n",
            "  adding: synthesis_command/single_active_5830f21d/single_active_5830f21d_full.wav (deflated 38%)\n",
            "  adding: synthesis_command/single_active_1c4c55bc/ (stored 0%)\n",
            "  adding: synthesis_command/single_active_1c4c55bc/single_active_1c4c55bc_full.wav (deflated 92%)\n",
            "  adding: synthesis_command/single_active_1c4c55bc/single_active_1c4c55bc.json (deflated 39%)\n",
            "  adding: synthesis_command/chain_active_d87ace7a/ (stored 0%)\n",
            "  adding: synthesis_command/chain_active_d87ace7a/chain_active_d87ace7a.json (deflated 39%)\n",
            "  adding: synthesis_command/chain_active_d87ace7a/chain_active_d87ace7a_full.wav (deflated 19%)\n",
            "  adding: synthesis_command/non_active_9fc269a7/ (stored 0%)\n",
            "  adding: synthesis_command/non_active_9fc269a7/non_active_9fc269a7_full.wav (deflated 15%)\n",
            "  adding: synthesis_command/non_active_9fc269a7/non_active_9fc269a7.json (deflated 38%)\n",
            "  adding: synthesis_command/single_mix_e1e02b3c/ (stored 0%)\n",
            "  adding: synthesis_command/single_mix_e1e02b3c/single_mix_e1e02b3c.json (deflated 48%)\n",
            "  adding: synthesis_command/single_mix_e1e02b3c/single_mix_e1e02b3c_seg_1.wav (deflated 14%)\n",
            "  adding: synthesis_command/single_mix_e1e02b3c/single_mix_e1e02b3c_seg_0.wav (deflated 23%)\n",
            "  adding: synthesis_command/single_mix_e1e02b3c/single_mix_e1e02b3c_full.wav (deflated 12%)\n",
            "  adding: synthesis_command/single_mix_ecfa2b06/ (stored 0%)\n",
            "  adding: synthesis_command/single_mix_ecfa2b06/single_mix_ecfa2b06_seg_0.wav (deflated 26%)\n",
            "  adding: synthesis_command/single_mix_ecfa2b06/single_mix_ecfa2b06_seg_1.wav (deflated 30%)\n",
            "  adding: synthesis_command/single_mix_ecfa2b06/single_mix_ecfa2b06.json (deflated 51%)\n",
            "  adding: synthesis_command/single_mix_ecfa2b06/single_mix_ecfa2b06_full.wav (deflated 16%)\n",
            "  adding: synthesis_command/single_mix_ecfa2b06/single_mix_ecfa2b06_seg_3.wav (deflated 23%)\n",
            "  adding: synthesis_command/single_mix_ecfa2b06/single_mix_ecfa2b06_seg_2.wav (deflated 27%)\n",
            "  adding: synthesis_command/chain_mix_fca341c6/ (stored 0%)\n",
            "  adding: synthesis_command/chain_mix_fca341c6/chain_mix_fca341c6.json (deflated 47%)\n",
            "  adding: synthesis_command/chain_mix_fca341c6/chain_mix_fca341c6_full.wav (deflated 27%)\n",
            "  adding: synthesis_command/chain_mix_fca341c6/chain_mix_fca341c6_seg_0.wav (deflated 30%)\n",
            "  adding: synthesis_command/chain_mix_fca341c6/chain_mix_fca341c6_seg_1.wav (deflated 30%)\n",
            "  adding: synthesis_command/chain_mix_0653b338/ (stored 0%)\n",
            "  adding: synthesis_command/chain_mix_0653b338/chain_mix_0653b338_full.wav (deflated 22%)\n",
            "  adding: synthesis_command/chain_mix_0653b338/chain_mix_0653b338_seg_2.wav (deflated 38%)\n",
            "  adding: synthesis_command/chain_mix_0653b338/chain_mix_0653b338.json (deflated 52%)\n",
            "  adding: synthesis_command/chain_mix_0653b338/chain_mix_0653b338_seg_1.wav (deflated 26%)\n",
            "  adding: synthesis_command/chain_mix_0653b338/chain_mix_0653b338_seg_0.wav (deflated 41%)\n",
            "  adding: synthesis_command/non_active_17f5a39e/ (stored 0%)\n",
            "  adding: synthesis_command/non_active_17f5a39e/non_active_17f5a39e_full.wav (deflated 18%)\n",
            "  adding: synthesis_command/non_active_17f5a39e/non_active_17f5a39e.json (deflated 38%)\n",
            "  adding: synthesis_command/chain_mix_64859414/ (stored 0%)\n",
            "  adding: synthesis_command/chain_mix_64859414/chain_mix_64859414_full.wav (deflated 19%)\n",
            "  adding: synthesis_command/chain_mix_64859414/chain_mix_64859414.json (deflated 54%)\n",
            "  adding: synthesis_command/chain_mix_64859414/chain_mix_64859414_seg_0.wav (deflated 18%)\n",
            "  adding: synthesis_command/chain_mix_64859414/chain_mix_64859414_seg_1.wav (deflated 18%)\n",
            "  adding: synthesis_command/chain_mix_64859414/chain_mix_64859414_seg_2.wav (deflated 19%)\n",
            "  adding: synthesis_command/chain_mix_2b97f9b1/ (stored 0%)\n",
            "  adding: synthesis_command/chain_mix_2b97f9b1/chain_mix_2b97f9b1.json (deflated 49%)\n",
            "  adding: synthesis_command/chain_mix_2b97f9b1/chain_mix_2b97f9b1_seg_0.wav (deflated 35%)\n",
            "  adding: synthesis_command/chain_mix_2b97f9b1/chain_mix_2b97f9b1_seg_2.wav (deflated 31%)\n",
            "  adding: synthesis_command/chain_mix_2b97f9b1/chain_mix_2b97f9b1_full.wav (deflated 27%)\n",
            "  adding: synthesis_command/chain_mix_2b97f9b1/chain_mix_2b97f9b1_seg_1.wav (deflated 57%)\n",
            "  adding: synthesis_command/non_active_3f20a0ce/ (stored 0%)\n",
            "  adding: synthesis_command/non_active_3f20a0ce/non_active_3f20a0ce.json (deflated 38%)\n",
            "  adding: synthesis_command/non_active_3f20a0ce/non_active_3f20a0ce_full.wav (deflated 17%)\n",
            "  adding: synthesis_command/chain_active_90bdd14b/ (stored 0%)\n",
            "  adding: synthesis_command/chain_active_90bdd14b/chain_active_90bdd14b_full.wav (deflated 15%)\n",
            "  adding: synthesis_command/chain_active_90bdd14b/chain_active_90bdd14b.json (deflated 42%)\n",
            "  adding: synthesis_command/chain_active_121d773c/ (stored 0%)\n",
            "  adding: synthesis_command/chain_active_121d773c/chain_active_121d773c_full.wav (deflated 22%)\n",
            "  adding: synthesis_command/chain_active_121d773c/chain_active_121d773c.json (deflated 38%)\n",
            "  adding: synthesis_command/single_mix_b3721623/ (stored 0%)\n",
            "  adding: synthesis_command/single_mix_b3721623/single_mix_b3721623_seg_1.wav (deflated 22%)\n",
            "  adding: synthesis_command/single_mix_b3721623/single_mix_b3721623.json (deflated 51%)\n",
            "  adding: synthesis_command/single_mix_b3721623/single_mix_b3721623_seg_0.wav (deflated 20%)\n",
            "  adding: synthesis_command/single_mix_b3721623/single_mix_b3721623_full.wav (deflated 12%)\n",
            "  adding: synthesis_command/single_mix_b6519970/ (stored 0%)\n",
            "  adding: synthesis_command/single_mix_b6519970/single_mix_b6519970_full.wav (deflated 24%)\n",
            "  adding: synthesis_command/single_mix_b6519970/single_mix_b6519970.json (deflated 47%)\n",
            "  adding: synthesis_command/single_mix_b6519970/single_mix_b6519970_seg_1.wav (deflated 31%)\n",
            "  adding: synthesis_command/single_mix_b6519970/single_mix_b6519970_seg_0.wav (deflated 45%)\n",
            "  adding: synthesis_command/single_mix_f23fae73/ (stored 0%)\n",
            "  adding: synthesis_command/single_mix_f23fae73/single_mix_f23fae73_seg_2.wav (deflated 92%)\n",
            "  adding: synthesis_command/single_mix_f23fae73/single_mix_f23fae73_seg_1.wav (deflated 37%)\n",
            "  adding: synthesis_command/single_mix_f23fae73/single_mix_f23fae73_seg_0.wav (deflated 40%)\n",
            "  adding: synthesis_command/single_mix_f23fae73/single_mix_f23fae73_seg_3.wav (deflated 45%)\n",
            "  adding: synthesis_command/single_mix_f23fae73/single_mix_f23fae73_full.wav (deflated 19%)\n",
            "  adding: synthesis_command/single_mix_f23fae73/single_mix_f23fae73.json (deflated 52%)\n",
            "  adding: synthesis_command/single_mix_f23fae73/single_mix_f23fae73_seg_4.wav (deflated 26%)\n",
            "  adding: synthesis_command/chain_mix_cad8c927/ (stored 0%)\n",
            "  adding: synthesis_command/chain_mix_cad8c927/chain_mix_cad8c927_seg_0.wav (deflated 93%)\n",
            "  adding: synthesis_command/chain_mix_cad8c927/chain_mix_cad8c927.json (deflated 51%)\n",
            "  adding: synthesis_command/chain_mix_cad8c927/chain_mix_cad8c927_seg_3.wav (deflated 36%)\n",
            "  adding: synthesis_command/chain_mix_cad8c927/chain_mix_cad8c927_seg_2.wav (deflated 93%)\n",
            "  adding: synthesis_command/chain_mix_cad8c927/chain_mix_cad8c927_full.wav (deflated 21%)\n",
            "  adding: synthesis_command/chain_mix_cad8c927/chain_mix_cad8c927_seg_1.wav (deflated 23%)\n",
            "  adding: synthesis_command/non_active_d0f67401/ (stored 0%)\n",
            "  adding: synthesis_command/non_active_d0f67401/non_active_d0f67401_full.wav (deflated 18%)\n",
            "  adding: synthesis_command/non_active_d0f67401/non_active_d0f67401.json (deflated 37%)\n",
            "  adding: synthesis_command/non_active_86cfdaa6/ (stored 0%)\n",
            "  adding: synthesis_command/non_active_86cfdaa6/non_active_86cfdaa6.json (deflated 38%)\n",
            "  adding: synthesis_command/non_active_86cfdaa6/non_active_86cfdaa6_full.wav (deflated 36%)\n",
            "  adding: synthesis_command/chain_active_1229dc9e/ (stored 0%)\n",
            "  adding: synthesis_command/chain_active_1229dc9e/chain_active_1229dc9e.json (deflated 41%)\n",
            "  adding: synthesis_command/chain_active_1229dc9e/chain_active_1229dc9e_full.wav (deflated 55%)\n",
            "  adding: synthesis_command/chain_mix_a8340e9c/ (stored 0%)\n",
            "  adding: synthesis_command/chain_mix_a8340e9c/chain_mix_a8340e9c_full.wav (deflated 13%)\n",
            "  adding: synthesis_command/chain_mix_a8340e9c/chain_mix_a8340e9c_seg_2.wav (deflated 20%)\n",
            "  adding: synthesis_command/chain_mix_a8340e9c/chain_mix_a8340e9c_seg_4.wav (deflated 18%)\n",
            "  adding: synthesis_command/chain_mix_a8340e9c/chain_mix_a8340e9c_seg_0.wav (deflated 36%)\n",
            "  adding: synthesis_command/chain_mix_a8340e9c/chain_mix_a8340e9c_seg_3.wav (deflated 92%)\n",
            "  adding: synthesis_command/chain_mix_a8340e9c/chain_mix_a8340e9c_seg_1.wav (deflated 93%)\n",
            "  adding: synthesis_command/chain_mix_a8340e9c/chain_mix_a8340e9c.json (deflated 52%)\n",
            "  adding: synthesis_command/non_active_bfad6cb4/ (stored 0%)\n",
            "  adding: synthesis_command/non_active_bfad6cb4/non_active_bfad6cb4.json (deflated 39%)\n",
            "  adding: synthesis_command/non_active_bfad6cb4/non_active_bfad6cb4_full.wav (deflated 25%)\n",
            "  adding: synthesis_command/chain_active_95749b66/ (stored 0%)\n",
            "  adding: synthesis_command/chain_active_95749b66/chain_active_95749b66.json (deflated 37%)\n",
            "  adding: synthesis_command/chain_active_95749b66/chain_active_95749b66_full.wav (deflated 24%)\n",
            "  adding: synthesis_command/single_mix_274f362f/ (stored 0%)\n",
            "  adding: synthesis_command/single_mix_274f362f/single_mix_274f362f_seg_2.wav (deflated 47%)\n",
            "  adding: synthesis_command/single_mix_274f362f/single_mix_274f362f_seg_3.wav (deflated 44%)\n",
            "  adding: synthesis_command/single_mix_274f362f/single_mix_274f362f_seg_1.wav (deflated 40%)\n",
            "  adding: synthesis_command/single_mix_274f362f/single_mix_274f362f_seg_12.wav (deflated 26%)\n",
            "  adding: synthesis_command/single_mix_274f362f/single_mix_274f362f_seg_7.wav (deflated 55%)\n",
            "  adding: synthesis_command/single_mix_274f362f/single_mix_274f362f_seg_10.wav (deflated 43%)\n",
            "  adding: synthesis_command/single_mix_274f362f/single_mix_274f362f_seg_11.wav (deflated 45%)\n",
            "  adding: synthesis_command/single_mix_274f362f/single_mix_274f362f_seg_8.wav (deflated 35%)\n",
            "  adding: synthesis_command/single_mix_274f362f/single_mix_274f362f_seg_9.wav (deflated 41%)\n",
            "  adding: synthesis_command/single_mix_274f362f/single_mix_274f362f_seg_5.wav (deflated 24%)\n",
            "  adding: synthesis_command/single_mix_274f362f/single_mix_274f362f_seg_0.wav (deflated 39%)\n",
            "  adding: synthesis_command/single_mix_274f362f/single_mix_274f362f_seg_6.wav (deflated 53%)\n",
            "  adding: synthesis_command/single_mix_274f362f/single_mix_274f362f_full.wav (deflated 12%)\n",
            "  adding: synthesis_command/single_mix_274f362f/single_mix_274f362f.json (deflated 62%)\n",
            "  adding: synthesis_command/single_mix_274f362f/single_mix_274f362f_seg_4.wav (deflated 92%)\n",
            "  adding: synthesis_command/chain_mix_235d32dd/ (stored 0%)\n",
            "  adding: synthesis_command/chain_mix_235d32dd/chain_mix_235d32dd_seg_2.wav (deflated 32%)\n",
            "  adding: synthesis_command/chain_mix_235d32dd/chain_mix_235d32dd_seg_3.wav (deflated 55%)\n",
            "  adding: synthesis_command/chain_mix_235d32dd/chain_mix_235d32dd_seg_1.wav (deflated 24%)\n",
            "  adding: synthesis_command/chain_mix_235d32dd/chain_mix_235d32dd_full.wav (deflated 26%)\n",
            "  adding: synthesis_command/chain_mix_235d32dd/chain_mix_235d32dd.json (deflated 53%)\n",
            "  adding: synthesis_command/chain_mix_235d32dd/chain_mix_235d32dd_seg_0.wav (deflated 35%)\n",
            "  adding: synthesis_command/chain_mix_385bf536/ (stored 0%)\n",
            "  adding: synthesis_command/chain_mix_385bf536/chain_mix_385bf536.json (deflated 46%)\n",
            "  adding: synthesis_command/chain_mix_385bf536/chain_mix_385bf536_full.wav (deflated 19%)\n",
            "  adding: synthesis_command/chain_mix_385bf536/chain_mix_385bf536_seg_1.wav (deflated 18%)\n",
            "  adding: synthesis_command/chain_mix_385bf536/chain_mix_385bf536_seg_0.wav (deflated 48%)\n",
            "  adding: synthesis_command/chain_active_c89f6592/ (stored 0%)\n",
            "  adding: synthesis_command/chain_active_c89f6592/chain_active_c89f6592_full.wav (deflated 15%)\n",
            "  adding: synthesis_command/chain_active_c89f6592/chain_active_c89f6592.json (deflated 37%)\n",
            "  adding: synthesis_command/chain_mix_a4d50509/ (stored 0%)\n",
            "  adding: synthesis_command/chain_mix_a4d50509/chain_mix_a4d50509.json (deflated 51%)\n",
            "  adding: synthesis_command/chain_mix_a4d50509/chain_mix_a4d50509_seg_1.wav (deflated 20%)\n",
            "  adding: synthesis_command/chain_mix_a4d50509/chain_mix_a4d50509_full.wav (deflated 18%)\n",
            "  adding: synthesis_command/chain_mix_a4d50509/chain_mix_a4d50509_seg_0.wav (deflated 25%)\n",
            "  adding: synthesis_command/single_mix_f2b0fc41/ (stored 0%)\n",
            "  adding: synthesis_command/single_mix_f2b0fc41/single_mix_f2b0fc41_seg_9.wav (deflated 58%)\n",
            "  adding: synthesis_command/single_mix_f2b0fc41/single_mix_f2b0fc41.json (deflated 60%)\n",
            "  adding: synthesis_command/single_mix_f2b0fc41/single_mix_f2b0fc41_seg_7.wav (deflated 38%)\n",
            "  adding: synthesis_command/single_mix_f2b0fc41/single_mix_f2b0fc41_seg_3.wav (deflated 30%)\n",
            "  adding: synthesis_command/single_mix_f2b0fc41/single_mix_f2b0fc41_seg_8.wav (deflated 58%)\n",
            "  adding: synthesis_command/single_mix_f2b0fc41/single_mix_f2b0fc41_full.wav (deflated 19%)\n",
            "  adding: synthesis_command/single_mix_f2b0fc41/single_mix_f2b0fc41_seg_6.wav (deflated 40%)\n",
            "  adding: synthesis_command/single_mix_f2b0fc41/single_mix_f2b0fc41_seg_2.wav (deflated 93%)\n",
            "  adding: synthesis_command/single_mix_f2b0fc41/single_mix_f2b0fc41_seg_4.wav (deflated 22%)\n",
            "  adding: synthesis_command/single_mix_f2b0fc41/single_mix_f2b0fc41_seg_10.wav (deflated 41%)\n",
            "  adding: synthesis_command/single_mix_f2b0fc41/single_mix_f2b0fc41_seg_0.wav (deflated 35%)\n",
            "  adding: synthesis_command/single_mix_f2b0fc41/single_mix_f2b0fc41_seg_5.wav (deflated 69%)\n",
            "  adding: synthesis_command/single_mix_f2b0fc41/single_mix_f2b0fc41_seg_1.wav (deflated 59%)\n",
            "  adding: synthesis_command/single_active_c61682ff/ (stored 0%)\n",
            "  adding: synthesis_command/single_active_c61682ff/single_active_c61682ff_full.wav (deflated 52%)\n",
            "  adding: synthesis_command/single_active_c61682ff/single_active_c61682ff.json (deflated 41%)\n",
            "  adding: synthesis_command/chain_mix_d0b41844/ (stored 0%)\n",
            "  adding: synthesis_command/chain_mix_d0b41844/chain_mix_d0b41844_seg_0.wav (deflated 20%)\n",
            "  adding: synthesis_command/chain_mix_d0b41844/chain_mix_d0b41844_seg_2.wav (deflated 33%)\n",
            "  adding: synthesis_command/chain_mix_d0b41844/chain_mix_d0b41844_full.wav (deflated 16%)\n",
            "  adding: synthesis_command/chain_mix_d0b41844/chain_mix_d0b41844.json (deflated 52%)\n",
            "  adding: synthesis_command/chain_mix_d0b41844/chain_mix_d0b41844_seg_1.wav (deflated 31%)\n",
            "  adding: synthesis_command/chain_active_479e5301/ (stored 0%)\n",
            "  adding: synthesis_command/chain_active_479e5301/chain_active_479e5301_full.wav (deflated 29%)\n",
            "  adding: synthesis_command/chain_active_479e5301/chain_active_479e5301.json (deflated 40%)\n",
            "  adding: synthesis_command/chain_active_ef1ba7c0/ (stored 0%)\n",
            "  adding: synthesis_command/chain_active_ef1ba7c0/chain_active_ef1ba7c0_full.wav (deflated 33%)\n",
            "  adding: synthesis_command/chain_active_ef1ba7c0/chain_active_ef1ba7c0.json (deflated 39%)\n",
            "  adding: synthesis_command/chain_active_00b5402a/ (stored 0%)\n",
            "  adding: synthesis_command/chain_active_00b5402a/chain_active_00b5402a_full.wav (deflated 40%)\n",
            "  adding: synthesis_command/chain_active_00b5402a/chain_active_00b5402a.json (deflated 39%)\n",
            "  adding: synthesis_command/chain_active_d0b97f2e/ (stored 0%)\n",
            "  adding: synthesis_command/chain_active_d0b97f2e/chain_active_d0b97f2e.json (deflated 38%)\n",
            "  adding: synthesis_command/chain_active_d0b97f2e/chain_active_d0b97f2e_full.wav (deflated 20%)\n",
            "  adding: synthesis_command/single_active_7c513d40/ (stored 0%)\n",
            "  adding: synthesis_command/single_active_7c513d40/single_active_7c513d40_full.wav (deflated 27%)\n",
            "  adding: synthesis_command/single_active_7c513d40/single_active_7c513d40.json (deflated 39%)\n",
            "  adding: synthesis_command/non_active_5cd06887/ (stored 0%)\n",
            "  adding: synthesis_command/non_active_5cd06887/non_active_5cd06887.json (deflated 38%)\n",
            "  adding: synthesis_command/non_active_5cd06887/non_active_5cd06887_full.wav (deflated 27%)\n",
            "  adding: synthesis_command/single_mix_0f535ec7/ (stored 0%)\n",
            "  adding: synthesis_command/single_mix_0f535ec7/single_mix_0f535ec7_seg_0.wav (deflated 30%)\n",
            "  adding: synthesis_command/single_mix_0f535ec7/single_mix_0f535ec7_seg_1.wav (deflated 20%)\n",
            "  adding: synthesis_command/single_mix_0f535ec7/single_mix_0f535ec7.json (deflated 48%)\n",
            "  adding: synthesis_command/single_mix_0f535ec7/single_mix_0f535ec7_full.wav (deflated 19%)\n",
            "  adding: synthesis_command/non_active_ddf847f4/ (stored 0%)\n",
            "  adding: synthesis_command/non_active_ddf847f4/non_active_ddf847f4_full.wav (deflated 14%)\n",
            "  adding: synthesis_command/non_active_ddf847f4/non_active_ddf847f4.json (deflated 41%)\n",
            "  adding: synthesis_command/single_mix_433472e3/ (stored 0%)\n",
            "  adding: synthesis_command/single_mix_433472e3/single_mix_433472e3_full.wav (deflated 22%)\n",
            "  adding: synthesis_command/single_mix_433472e3/single_mix_433472e3_seg_1.wav (deflated 32%)\n",
            "  adding: synthesis_command/single_mix_433472e3/single_mix_433472e3_seg_0.wav (deflated 54%)\n",
            "  adding: synthesis_command/single_mix_433472e3/single_mix_433472e3.json (deflated 48%)\n",
            "  adding: synthesis_command/chain_mix_1d5828f7/ (stored 0%)\n",
            "  adding: synthesis_command/chain_mix_1d5828f7/chain_mix_1d5828f7_seg_2.wav (deflated 43%)\n",
            "  adding: synthesis_command/chain_mix_1d5828f7/chain_mix_1d5828f7.json (deflated 48%)\n",
            "  adding: synthesis_command/chain_mix_1d5828f7/chain_mix_1d5828f7_seg_1.wav (deflated 45%)\n",
            "  adding: synthesis_command/chain_mix_1d5828f7/chain_mix_1d5828f7_full.wav (deflated 24%)\n",
            "  adding: synthesis_command/chain_mix_1d5828f7/chain_mix_1d5828f7_seg_0.wav (deflated 38%)\n",
            "  adding: synthesis_command/chain_mix_59314d18/ (stored 0%)\n",
            "  adding: synthesis_command/chain_mix_59314d18/chain_mix_59314d18_seg_3.wav (deflated 28%)\n",
            "  adding: synthesis_command/chain_mix_59314d18/chain_mix_59314d18.json (deflated 52%)\n",
            "  adding: synthesis_command/chain_mix_59314d18/chain_mix_59314d18_seg_2.wav (deflated 49%)\n",
            "  adding: synthesis_command/chain_mix_59314d18/chain_mix_59314d18_seg_1.wav (deflated 33%)\n",
            "  adding: synthesis_command/chain_mix_59314d18/chain_mix_59314d18_seg_0.wav (deflated 28%)\n",
            "  adding: synthesis_command/chain_mix_59314d18/chain_mix_59314d18_full.wav (deflated 13%)\n",
            "  adding: synthesis_command/non_active_5fcfa3e5/ (stored 0%)\n",
            "  adding: synthesis_command/non_active_5fcfa3e5/non_active_5fcfa3e5.json (deflated 38%)\n",
            "  adding: synthesis_command/non_active_5fcfa3e5/non_active_5fcfa3e5_full.wav (deflated 15%)\n",
            "  adding: synthesis_command/single_mix_674a621d/ (stored 0%)\n",
            "  adding: synthesis_command/single_mix_674a621d/single_mix_674a621d_full.wav (deflated 22%)\n",
            "  adding: synthesis_command/single_mix_674a621d/single_mix_674a621d.json (deflated 47%)\n",
            "  adding: synthesis_command/single_mix_674a621d/single_mix_674a621d_seg_1.wav (deflated 43%)\n",
            "  adding: synthesis_command/single_mix_674a621d/single_mix_674a621d_seg_0.wav (deflated 33%)\n",
            "  adding: synthesis_command/chain_mix_ba737e7d/ (stored 0%)\n",
            "  adding: synthesis_command/chain_mix_ba737e7d/chain_mix_ba737e7d_seg_0.wav (deflated 93%)\n",
            "  adding: synthesis_command/chain_mix_ba737e7d/chain_mix_ba737e7d.json (deflated 50%)\n",
            "  adding: synthesis_command/chain_mix_ba737e7d/chain_mix_ba737e7d_seg_2.wav (deflated 57%)\n",
            "  adding: synthesis_command/chain_mix_ba737e7d/chain_mix_ba737e7d_seg_1.wav (deflated 39%)\n",
            "  adding: synthesis_command/chain_mix_ba737e7d/chain_mix_ba737e7d_full.wav (deflated 19%)\n",
            "  adding: synthesis_command/single_mix_8fc618e6/ (stored 0%)\n",
            "  adding: synthesis_command/single_mix_8fc618e6/single_mix_8fc618e6.json (deflated 46%)\n",
            "  adding: synthesis_command/single_mix_8fc618e6/single_mix_8fc618e6_seg_0.wav (deflated 26%)\n",
            "  adding: synthesis_command/single_mix_8fc618e6/single_mix_8fc618e6_seg_1.wav (deflated 42%)\n",
            "  adding: synthesis_command/single_mix_8fc618e6/single_mix_8fc618e6_full.wav (deflated 21%)\n",
            "  adding: synthesis_command/single_active_bcedaadf/ (stored 0%)\n",
            "  adding: synthesis_command/single_active_bcedaadf/single_active_bcedaadf.json (deflated 38%)\n",
            "  adding: synthesis_command/single_active_bcedaadf/single_active_bcedaadf_full.wav (deflated 29%)\n",
            "  adding: synthesis_command/chain_mix_0043508f/ (stored 0%)\n",
            "  adding: synthesis_command/chain_mix_0043508f/chain_mix_0043508f_seg_0.wav (deflated 33%)\n",
            "  adding: synthesis_command/chain_mix_0043508f/chain_mix_0043508f_full.wav (deflated 22%)\n",
            "  adding: synthesis_command/chain_mix_0043508f/chain_mix_0043508f_seg_1.wav (deflated 42%)\n",
            "  adding: synthesis_command/chain_mix_0043508f/chain_mix_0043508f.json (deflated 47%)\n",
            "  adding: synthesis_command/chain_mix_fb6dbf88/ (stored 0%)\n",
            "  adding: synthesis_command/chain_mix_fb6dbf88/chain_mix_fb6dbf88.json (deflated 52%)\n",
            "  adding: synthesis_command/chain_mix_fb6dbf88/chain_mix_fb6dbf88_seg_1.wav (deflated 18%)\n",
            "  adding: synthesis_command/chain_mix_fb6dbf88/chain_mix_fb6dbf88_seg_0.wav (deflated 32%)\n",
            "  adding: synthesis_command/chain_mix_fb6dbf88/chain_mix_fb6dbf88_full.wav (deflated 16%)\n",
            "  adding: synthesis_command/chain_mix_fb6dbf88/chain_mix_fb6dbf88_seg_2.wav (deflated 32%)\n",
            "  adding: synthesis_command/single_mix_66fc5293/ (stored 0%)\n",
            "  adding: synthesis_command/single_mix_66fc5293/single_mix_66fc5293_full.wav (deflated 21%)\n",
            "  adding: synthesis_command/single_mix_66fc5293/single_mix_66fc5293_seg_1.wav (deflated 53%)\n",
            "  adding: synthesis_command/single_mix_66fc5293/single_mix_66fc5293.json (deflated 53%)\n",
            "  adding: synthesis_command/single_mix_66fc5293/single_mix_66fc5293_seg_4.wav (deflated 86%)\n",
            "  adding: synthesis_command/single_mix_66fc5293/single_mix_66fc5293_seg_2.wav (deflated 65%)\n",
            "  adding: synthesis_command/single_mix_66fc5293/single_mix_66fc5293_seg_5.wav (deflated 47%)\n",
            "  adding: synthesis_command/single_mix_66fc5293/single_mix_66fc5293_seg_0.wav (deflated 28%)\n",
            "  adding: synthesis_command/single_mix_66fc5293/single_mix_66fc5293_seg_3.wav (deflated 45%)\n",
            "  adding: synthesis_command/chain_active_e5c5bca2/ (stored 0%)\n",
            "  adding: synthesis_command/chain_active_e5c5bca2/chain_active_e5c5bca2_full.wav (deflated 19%)\n",
            "  adding: synthesis_command/chain_active_e5c5bca2/chain_active_e5c5bca2.json (deflated 38%)\n",
            "  adding: synthesis_command/chain_active_01d0fbbd/ (stored 0%)\n",
            "  adding: synthesis_command/chain_active_01d0fbbd/chain_active_01d0fbbd_full.wav (deflated 22%)\n",
            "  adding: synthesis_command/chain_active_01d0fbbd/chain_active_01d0fbbd.json (deflated 38%)\n",
            "  adding: synthesis_command/chain_mix_e424db6d/ (stored 0%)\n",
            "  adding: synthesis_command/chain_mix_e424db6d/chain_mix_e424db6d_seg_1.wav (deflated 32%)\n",
            "  adding: synthesis_command/chain_mix_e424db6d/chain_mix_e424db6d_seg_0.wav (deflated 61%)\n",
            "  adding: synthesis_command/chain_mix_e424db6d/chain_mix_e424db6d_full.wav (deflated 23%)\n",
            "  adding: synthesis_command/chain_mix_e424db6d/chain_mix_e424db6d.json (deflated 46%)\n",
            "  adding: synthesis_command/non_active_403dbda5/ (stored 0%)\n",
            "  adding: synthesis_command/non_active_403dbda5/non_active_403dbda5_full.wav (deflated 27%)\n",
            "  adding: synthesis_command/non_active_403dbda5/non_active_403dbda5.json (deflated 37%)\n",
            "  adding: synthesis_command/chain_active_f0ae1a15/ (stored 0%)\n",
            "  adding: synthesis_command/chain_active_f0ae1a15/chain_active_f0ae1a15.json (deflated 43%)\n",
            "  adding: synthesis_command/chain_active_f0ae1a15/chain_active_f0ae1a15_full.wav (deflated 15%)\n",
            "  adding: synthesis_command/chain_active_5986613d/ (stored 0%)\n",
            "  adding: synthesis_command/chain_active_5986613d/chain_active_5986613d_full.wav (deflated 16%)\n",
            "  adding: synthesis_command/chain_active_5986613d/chain_active_5986613d.json (deflated 40%)\n",
            "  adding: synthesis_command/single_mix_1b57e5cf/ (stored 0%)\n",
            "  adding: synthesis_command/single_mix_1b57e5cf/single_mix_1b57e5cf_seg_1.wav (deflated 29%)\n",
            "  adding: synthesis_command/single_mix_1b57e5cf/single_mix_1b57e5cf_full.wav (deflated 27%)\n",
            "  adding: synthesis_command/single_mix_1b57e5cf/single_mix_1b57e5cf.json (deflated 47%)\n",
            "  adding: synthesis_command/single_mix_1b57e5cf/single_mix_1b57e5cf_seg_0.wav (deflated 93%)\n",
            "  adding: synthesis_command/non_active_4196b707/ (stored 0%)\n",
            "  adding: synthesis_command/non_active_4196b707/non_active_4196b707_full.wav (deflated 21%)\n",
            "  adding: synthesis_command/non_active_4196b707/non_active_4196b707.json (deflated 38%)\n",
            "  adding: synthesis_command/single_active_2aa75a7e/ (stored 0%)\n",
            "  adding: synthesis_command/single_active_2aa75a7e/single_active_2aa75a7e_full.wav (deflated 93%)\n",
            "  adding: synthesis_command/single_active_2aa75a7e/single_active_2aa75a7e.json (deflated 40%)\n",
            "  adding: synthesis_command/single_active_db8a053a/ (stored 0%)\n",
            "  adding: synthesis_command/single_active_db8a053a/single_active_db8a053a_full.wav (deflated 31%)\n",
            "  adding: synthesis_command/single_active_db8a053a/single_active_db8a053a.json (deflated 38%)\n",
            "  adding: synthesis_command/single_mix_67f0753f/ (stored 0%)\n",
            "  adding: synthesis_command/single_mix_67f0753f/single_mix_67f0753f_seg_8.wav (deflated 47%)\n",
            "  adding: synthesis_command/single_mix_67f0753f/single_mix_67f0753f_seg_1.wav (deflated 46%)\n",
            "  adding: synthesis_command/single_mix_67f0753f/single_mix_67f0753f_full.wav (deflated 22%)\n",
            "  adding: synthesis_command/single_mix_67f0753f/single_mix_67f0753f_seg_5.wav (deflated 40%)\n",
            "  adding: synthesis_command/single_mix_67f0753f/single_mix_67f0753f_seg_10.wav (deflated 61%)\n",
            "  adding: synthesis_command/single_mix_67f0753f/single_mix_67f0753f_seg_7.wav (deflated 93%)\n",
            "  adding: synthesis_command/single_mix_67f0753f/single_mix_67f0753f_seg_3.wav (deflated 43%)\n",
            "  adding: synthesis_command/single_mix_67f0753f/single_mix_67f0753f_seg_9.wav (deflated 53%)\n",
            "  adding: synthesis_command/single_mix_67f0753f/single_mix_67f0753f_seg_6.wav (deflated 54%)\n",
            "  adding: synthesis_command/single_mix_67f0753f/single_mix_67f0753f_seg_2.wav (deflated 57%)\n",
            "  adding: synthesis_command/single_mix_67f0753f/single_mix_67f0753f_seg_4.wav (deflated 93%)\n",
            "  adding: synthesis_command/single_mix_67f0753f/single_mix_67f0753f_seg_0.wav (deflated 40%)\n",
            "  adding: synthesis_command/single_mix_67f0753f/single_mix_67f0753f.json (deflated 60%)\n",
            "  adding: synthesis_command/non_active_f96415a4/ (stored 0%)\n",
            "  adding: synthesis_command/non_active_f96415a4/non_active_f96415a4.json (deflated 38%)\n",
            "  adding: synthesis_command/non_active_f96415a4/non_active_f96415a4_full.wav (deflated 17%)\n",
            "  adding: synthesis_command/chain_mix_6cded8bd/ (stored 0%)\n",
            "  adding: synthesis_command/chain_mix_6cded8bd/chain_mix_6cded8bd_seg_0.wav (deflated 37%)\n",
            "  adding: synthesis_command/chain_mix_6cded8bd/chain_mix_6cded8bd_seg_1.wav (deflated 26%)\n",
            "  adding: synthesis_command/chain_mix_6cded8bd/chain_mix_6cded8bd.json (deflated 48%)\n",
            "  adding: synthesis_command/chain_mix_6cded8bd/chain_mix_6cded8bd_full.wav (deflated 18%)\n",
            "  adding: synthesis_command/chain_mix_86960d8f/ (stored 0%)\n",
            "  adding: synthesis_command/chain_mix_86960d8f/chain_mix_86960d8f_seg_0.wav (deflated 88%)\n",
            "  adding: synthesis_command/chain_mix_86960d8f/chain_mix_86960d8f.json (deflated 50%)\n",
            "  adding: synthesis_command/chain_mix_86960d8f/chain_mix_86960d8f_seg_2.wav (deflated 34%)\n",
            "  adding: synthesis_command/chain_mix_86960d8f/chain_mix_86960d8f_full.wav (deflated 15%)\n",
            "  adding: synthesis_command/chain_mix_86960d8f/chain_mix_86960d8f_seg_1.wav (deflated 32%)\n",
            "  adding: synthesis_command/non_active_e7923833/ (stored 0%)\n",
            "  adding: synthesis_command/non_active_e7923833/non_active_e7923833_full.wav (deflated 20%)\n",
            "  adding: synthesis_command/non_active_e7923833/non_active_e7923833.json (deflated 40%)\n",
            "  adding: synthesis_command/single_active_4022a2fd/ (stored 0%)\n",
            "  adding: synthesis_command/single_active_4022a2fd/single_active_4022a2fd.json (deflated 39%)\n",
            "  adding: synthesis_command/single_active_4022a2fd/single_active_4022a2fd_full.wav (deflated 51%)\n",
            "  adding: synthesis_command/non_active_00f535f2/ (stored 0%)\n",
            "  adding: synthesis_command/non_active_00f535f2/non_active_00f535f2.json (deflated 38%)\n",
            "  adding: synthesis_command/non_active_00f535f2/non_active_00f535f2_full.wav (deflated 13%)\n",
            "  adding: synthesis_command/chain_active_df3a3b7a/ (stored 0%)\n",
            "  adding: synthesis_command/chain_active_df3a3b7a/chain_active_df3a3b7a_full.wav (deflated 18%)\n",
            "  adding: synthesis_command/chain_active_df3a3b7a/chain_active_df3a3b7a.json (deflated 41%)\n"
          ]
        }
      ],
      "execution_count": null
    },
    {
      "cell_type": "code",
      "source": [],
      "metadata": {
        "trusted": true,
        "id": "OvQTwYlmLpFA"
      },
      "outputs": [],
      "execution_count": null
    }
  ]
}
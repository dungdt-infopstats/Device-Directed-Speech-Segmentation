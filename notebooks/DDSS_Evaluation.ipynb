{
  "metadata": {
    "kernelspec": {
      "language": "python",
      "display_name": "Python 3",
      "name": "python3"
    },
    "language_info": {
      "name": "python",
      "version": "3.11.13",
      "mimetype": "text/x-python",
      "codemirror_mode": {
        "name": "ipython",
        "version": 3
      },
      "pygments_lexer": "ipython3",
      "nbconvert_exporter": "python",
      "file_extension": ".py"
    },
    "kaggle": {
      "accelerator": "none",
      "dataSources": [
        {
          "sourceId": 12955687,
          "sourceType": "datasetVersion",
          "datasetId": 8199355
        },
        {
          "sourceId": 12982989,
          "sourceType": "datasetVersion",
          "datasetId": 8217460
        },
        {
          "sourceId": 12965293,
          "sourceType": "datasetVersion",
          "datasetId": 8205599
        }
      ],
      "dockerImageVersionId": 31089,
      "isInternetEnabled": true,
      "language": "python",
      "sourceType": "notebook",
      "isGpuEnabled": false
    },
    "colab": {
      "provenance": [],
      "toc_visible": true,
      "include_colab_link": true
    }
  },
  "nbformat_minor": 0,
  "nbformat": 4,
  "cells": [
    {
      "cell_type": "markdown",
      "metadata": {
        "id": "view-in-github",
        "colab_type": "text"
      },
      "source": [
        "<a href=\"https://colab.research.google.com/github/dungdt-infopstats/TV-command-synthesis/blob/main/notebooks/DDSS_Evaluation.ipynb\" target=\"_parent\"><img src=\"https://colab.research.google.com/assets/colab-badge.svg\" alt=\"Open In Colab\"/></a>"
      ]
    },
    {
      "source": [
        "# IMPORTANT: SOME KAGGLE DATA SOURCES ARE PRIVATE\n",
        "# RUN THIS CELL IN ORDER TO IMPORT YOUR KAGGLE DATA SOURCES.\n",
        "import kagglehub\n",
        "kagglehub.login()\n"
      ],
      "metadata": {
        "id": "yPs_M0YMxwot"
      },
      "cell_type": "code",
      "outputs": [],
      "execution_count": null
    },
    {
      "source": [
        "# IMPORTANT: RUN THIS CELL IN ORDER TO IMPORT YOUR KAGGLE DATA SOURCES,\n",
        "# THEN FEEL FREE TO DELETE THIS CELL.\n",
        "# NOTE: THIS NOTEBOOK ENVIRONMENT DIFFERS FROM KAGGLE'S PYTHON\n",
        "# ENVIRONMENT SO THERE MAY BE MISSING LIBRARIES USED BY YOUR\n",
        "# NOTEBOOK.\n",
        "\n",
        "tridungdo_whisper_text_raw_df_json_path = kagglehub.dataset_download('tridungdo/whisper-text-raw-df-json')\n",
        "tridungdo_wer_cut_res_path = kagglehub.dataset_download('tridungdo/wer-cut-res')\n",
        "tridungdo_wer_025_raw_path = kagglehub.dataset_download('tridungdo/wer-025-raw')\n",
        "\n",
        "print('Data source import complete.')\n"
      ],
      "metadata": {
        "id": "r4oa8WXVxwov"
      },
      "cell_type": "code",
      "outputs": [],
      "execution_count": null
    },
    {
      "cell_type": "markdown",
      "source": [
        "# old wer, clean needed"
      ],
      "metadata": {
        "id": "i-gNF6T9xwow"
      }
    },
    {
      "cell_type": "code",
      "source": [
        "import pandas as pd\n",
        "\n",
        "path = \"/kaggle/input/wer-cut-res/asr_evaluation_results.csv\"\n",
        "\n",
        "df = pd.read_csv(path)"
      ],
      "metadata": {
        "trusted": true,
        "execution": {
          "iopub.status.busy": "2025-09-07T14:45:24.173546Z",
          "iopub.execute_input": "2025-09-07T14:45:24.173939Z",
          "iopub.status.idle": "2025-09-07T14:45:30.718738Z",
          "shell.execute_reply.started": "2025-09-07T14:45:24.173915Z",
          "shell.execute_reply": "2025-09-07T14:45:30.717605Z"
        },
        "id": "z3yP57_Dxwox"
      },
      "outputs": [],
      "execution_count": null
    },
    {
      "cell_type": "code",
      "source": [
        "import pandas as pd\n",
        "\n",
        "import pandas as pd\n",
        "from tqdm import tqdm\n",
        "\n",
        "def get_transcribe(df, ref_col, reg_col, seg_col, id_col):\n",
        "    results = []\n",
        "\n",
        "    # group theo id_col, dùng tqdm để theo dõi tiến độ\n",
        "    for id_val, group in tqdm(df.groupby(id_col), desc=\"Processing IDs\"):\n",
        "        # sắp xếp theo seg_col để đảm bảo đúng thứ tự\n",
        "        group_sorted = group.sort_values(by=seg_col)\n",
        "\n",
        "        ref_value = group_sorted[ref_col].iloc[0]  # lấy 1 cái là đủ\n",
        "        reg_joined = \" \".join(group_sorted[reg_col].astype(str).tolist())\n",
        "\n",
        "        results.append({\n",
        "            id_col: id_val,\n",
        "            ref_col: ref_value,\n",
        "            reg_col: reg_joined\n",
        "        })\n",
        "\n",
        "    return pd.DataFrame(results)\n",
        "\n",
        "\n",
        "transcribed_df = get_transcribe(df = df,\n",
        "                               ref_col = 'reference_text',\n",
        "                               reg_col = 'recognized_text',\n",
        "                               seg_col = 'segment_index',\n",
        "                               id_col = 'id_x')"
      ],
      "metadata": {
        "trusted": true,
        "execution": {
          "iopub.status.busy": "2025-09-07T14:45:35.958684Z",
          "iopub.execute_input": "2025-09-07T14:45:35.959015Z",
          "iopub.status.idle": "2025-09-07T14:45:40.66176Z",
          "shell.execute_reply.started": "2025-09-07T14:45:35.958983Z",
          "shell.execute_reply": "2025-09-07T14:45:40.660471Z"
        },
        "id": "Hta0SPv1xwoy"
      },
      "outputs": [],
      "execution_count": null
    },
    {
      "cell_type": "code",
      "source": [
        "df_info = transcribed_df[['id_x', 'reference_text']] # true info with true length"
      ],
      "metadata": {
        "trusted": true,
        "execution": {
          "iopub.status.busy": "2025-09-07T14:42:41.716409Z",
          "iopub.execute_input": "2025-09-07T14:42:41.716745Z",
          "iopub.status.idle": "2025-09-07T14:42:41.725196Z",
          "shell.execute_reply.started": "2025-09-07T14:42:41.716719Z",
          "shell.execute_reply": "2025-09-07T14:42:41.723966Z"
        },
        "id": "KWB5nA7Wxwoz"
      },
      "outputs": [],
      "execution_count": null
    },
    {
      "cell_type": "markdown",
      "source": [
        "# raw transcribe only"
      ],
      "metadata": {
        "id": "a_53kR4hxwoz"
      }
    },
    {
      "cell_type": "code",
      "source": [
        "import json\n",
        "import pandas as pd\n",
        "\n",
        "raw_path = \"/kaggle/input/whisper-text-raw-df-json/whisper_text_raw_df.json\"\n",
        "\n",
        "with open(raw_path) as f:\n",
        "    raw_data = json.load(f)\n",
        "\n",
        "df_raw = pd.DataFrame(raw_data)\n",
        "df_raw_final = pd.merge(df_raw, df_info, left_on = 'id', right_on = 'id_x')\n",
        "df_raw_final = df_raw_final.rename(columns = {\n",
        "    \"full_text\": \"recognized_text\"\n",
        "})"
      ],
      "metadata": {
        "trusted": true,
        "execution": {
          "iopub.status.busy": "2025-09-07T14:42:44.02457Z",
          "iopub.execute_input": "2025-09-07T14:42:44.025512Z",
          "iopub.status.idle": "2025-09-07T14:42:44.195302Z",
          "shell.execute_reply.started": "2025-09-07T14:42:44.025483Z",
          "shell.execute_reply": "2025-09-07T14:42:44.194221Z"
        },
        "id": "PHVpd0pkxwoz"
      },
      "outputs": [],
      "execution_count": null
    },
    {
      "cell_type": "markdown",
      "source": [
        "# Preprocessing"
      ],
      "metadata": {
        "id": "Fm1W4OTCxwo0"
      }
    },
    {
      "cell_type": "code",
      "source": [
        "import pandas as pd\n",
        "import re\n",
        "\n",
        "\n",
        "def clean_text(text: str) -> str:\n",
        "        # bỏ dấu câu\n",
        "        text = re.sub(r\"[^\\w\\s]\", \"\", text)\n",
        "        # thay nhiều khoảng trắng thành 1 khoảng trắng\n",
        "        text = re.sub(r\"\\s+\", \" \", text)\n",
        "        return text.strip()\n",
        "\n",
        "def preprocessing(df: pd.DataFrame, ref_col: str, reg_col: str) -> pd.DataFrame:\n",
        "    # Fillna bằng chuỗi rỗng\n",
        "    df[ref_col] = df[ref_col].fillna(\"\")\n",
        "    df[reg_col] = df[reg_col].fillna(\"\")\n",
        "\n",
        "\n",
        "    df[ref_col] = df[ref_col].apply(clean_text)\n",
        "    df[reg_col] = df[reg_col].apply(clean_text)\n",
        "\n",
        "    return df"
      ],
      "metadata": {
        "trusted": true,
        "execution": {
          "iopub.status.busy": "2025-09-07T13:45:09.064128Z",
          "iopub.execute_input": "2025-09-07T13:45:09.06451Z",
          "iopub.status.idle": "2025-09-07T13:45:09.07216Z",
          "shell.execute_reply.started": "2025-09-07T13:45:09.064484Z",
          "shell.execute_reply": "2025-09-07T13:45:09.071059Z"
        },
        "id": "IjWyZK97xwo0"
      },
      "outputs": [],
      "execution_count": null
    },
    {
      "cell_type": "code",
      "source": [
        "################## COMPUTE_DF\n",
        "\n",
        "COMPUTE_DF = df"
      ],
      "metadata": {
        "trusted": true,
        "execution": {
          "iopub.status.busy": "2025-09-07T14:45:53.869711Z",
          "iopub.execute_input": "2025-09-07T14:45:53.870049Z",
          "iopub.status.idle": "2025-09-07T14:45:53.874228Z",
          "shell.execute_reply.started": "2025-09-07T14:45:53.87001Z",
          "shell.execute_reply": "2025-09-07T14:45:53.873336Z"
        },
        "id": "rsVf2zDcxwo0"
      },
      "outputs": [],
      "execution_count": null
    },
    {
      "cell_type": "code",
      "source": [
        "preprocessed_df = preprocessing(\n",
        "    df = COMPUTE_DF,\n",
        "    ref_col = \"reference_text\",\n",
        "    reg_col = \"recognized_text\"\n",
        ")"
      ],
      "metadata": {
        "trusted": true,
        "execution": {
          "iopub.status.busy": "2025-09-07T14:45:56.252761Z",
          "iopub.execute_input": "2025-09-07T14:45:56.253078Z",
          "iopub.status.idle": "2025-09-07T14:45:56.409514Z",
          "shell.execute_reply.started": "2025-09-07T14:45:56.25305Z",
          "shell.execute_reply": "2025-09-07T14:45:56.40855Z"
        },
        "id": "NNdgZR5Uxwo1"
      },
      "outputs": [],
      "execution_count": null
    },
    {
      "cell_type": "markdown",
      "source": [
        "# WER"
      ],
      "metadata": {
        "id": "-Gt8_TGfxwo1"
      }
    },
    {
      "cell_type": "code",
      "source": [
        "!pip install jiwer"
      ],
      "metadata": {
        "trusted": true,
        "execution": {
          "iopub.status.busy": "2025-09-07T13:46:55.864035Z",
          "iopub.execute_input": "2025-09-07T13:46:55.864576Z",
          "iopub.status.idle": "2025-09-07T13:47:04.051144Z",
          "shell.execute_reply.started": "2025-09-07T13:46:55.864547Z",
          "shell.execute_reply": "2025-09-07T13:47:04.049532Z"
        },
        "id": "GSZa8GmWxwo1"
      },
      "outputs": [],
      "execution_count": null
    },
    {
      "cell_type": "code",
      "source": [
        "import pandas as pd\n",
        "import jiwer\n",
        "from tqdm import tqdm\n",
        "\n",
        "def compute_wer(df: pd.DataFrame, ref_col: str, hyp_col: str) -> pd.DataFrame:\n",
        "    \"\"\"\n",
        "    Tính toán WER metrics cho từng hàng trong DataFrame.\n",
        "    - ref_col: cột chứa ground-truth text\n",
        "    - hyp_col: cột chứa predicted text\n",
        "    \"\"\"\n",
        "\n",
        "    for idx, row in tqdm(df.iterrows(), total=len(df), desc=\"Computing WER\"):\n",
        "        ref = str(row[ref_col]) if pd.notna(row[ref_col]) else \"\"\n",
        "        hyp = str(row[hyp_col]) if pd.notna(row[hyp_col]) else \"\"\n",
        "\n",
        "        output = jiwer.process_words(reference=ref, hypothesis=hyp).__dict__\n",
        "\n",
        "        # Đảm bảo các cột metrics đã tồn tại\n",
        "        for key, val in output.items():\n",
        "            if key not in df.columns:\n",
        "                df[key] = None\n",
        "            df.at[idx, key] = val\n",
        "\n",
        "        # Đếm số từ trong reference\n",
        "        words_count = len(ref.split()) if ref.strip() else 0\n",
        "        if \"words_count\" not in df.columns:\n",
        "            df[\"words_count\"] = None\n",
        "        df.at[idx, \"words_count\"] = words_count\n",
        "\n",
        "    return df\n"
      ],
      "metadata": {
        "trusted": true,
        "execution": {
          "iopub.status.busy": "2025-09-07T14:46:09.515129Z",
          "iopub.execute_input": "2025-09-07T14:46:09.515543Z",
          "iopub.status.idle": "2025-09-07T14:46:09.524591Z",
          "shell.execute_reply.started": "2025-09-07T14:46:09.515516Z",
          "shell.execute_reply": "2025-09-07T14:46:09.52326Z"
        },
        "id": "6yYjSqlaxwo1"
      },
      "outputs": [],
      "execution_count": null
    },
    {
      "cell_type": "code",
      "source": [
        "df_wer = compute_wer(\n",
        "    df = preprocessed_df,\n",
        "    ref_col = \"reference_text\",\n",
        "    hyp_col = \"recognized_text\"\n",
        ")"
      ],
      "metadata": {
        "trusted": true,
        "execution": {
          "iopub.status.busy": "2025-09-07T14:46:11.894928Z",
          "iopub.execute_input": "2025-09-07T14:46:11.895308Z",
          "iopub.status.idle": "2025-09-07T14:46:18.023559Z",
          "shell.execute_reply.started": "2025-09-07T14:46:11.895275Z",
          "shell.execute_reply": "2025-09-07T14:46:18.022479Z"
        },
        "id": "2o4qzLQwxwo1"
      },
      "outputs": [],
      "execution_count": null
    },
    {
      "cell_type": "code",
      "source": [
        "import numpy as np\n",
        "\n",
        "def statistics(df_wer):\n",
        "    res = {}\n",
        "    res[\"N\"] = np.nansum(df_wer['words_count'])\n",
        "\n",
        "    res[\"D\"] = np.nansum(df_wer['deletions'])\n",
        "    res[\"I\"] = np.nansum(df_wer['insertions'])\n",
        "    res[\"S\"] = np.nansum(df_wer['substitutions'])\n",
        "\n",
        "    res[\"D_rate\"] = res[\"D\"] / res[\"N\"]\n",
        "    res[\"I_rate\"] = res[\"I\"] / res[\"N\"]\n",
        "    res[\"S_rate\"] = res[\"S\"] / res[\"N\"]\n",
        "    res[\"WER\"] = (res[\"D\"] + res[\"I\"] + res[\"S\"]) / res[\"N\"]\n",
        "\n",
        "    return res"
      ],
      "metadata": {
        "trusted": true,
        "execution": {
          "iopub.status.busy": "2025-09-07T14:46:21.958752Z",
          "iopub.execute_input": "2025-09-07T14:46:21.959081Z",
          "iopub.status.idle": "2025-09-07T14:46:21.96542Z",
          "shell.execute_reply.started": "2025-09-07T14:46:21.959053Z",
          "shell.execute_reply": "2025-09-07T14:46:21.964455Z"
        },
        "id": "xbHLyG0-xwo1"
      },
      "outputs": [],
      "execution_count": null
    },
    {
      "cell_type": "code",
      "source": [
        "df_07 = statistics(df_wer)"
      ],
      "metadata": {
        "trusted": true,
        "execution": {
          "iopub.status.busy": "2025-09-07T14:46:23.343448Z",
          "iopub.execute_input": "2025-09-07T14:46:23.343789Z",
          "iopub.status.idle": "2025-09-07T14:46:23.353065Z",
          "shell.execute_reply.started": "2025-09-07T14:46:23.343764Z",
          "shell.execute_reply": "2025-09-07T14:46:23.351706Z"
        },
        "id": "VQd06CkRxwo2"
      },
      "outputs": [],
      "execution_count": null
    },
    {
      "cell_type": "code",
      "source": [
        "df_025"
      ],
      "metadata": {
        "trusted": true,
        "execution": {
          "iopub.status.busy": "2025-09-07T14:39:10.046971Z",
          "iopub.execute_input": "2025-09-07T14:39:10.04748Z",
          "iopub.status.idle": "2025-09-07T14:39:10.054205Z",
          "shell.execute_reply.started": "2025-09-07T14:39:10.047455Z",
          "shell.execute_reply": "2025-09-07T14:39:10.053232Z"
        },
        "id": "sHK9cuKSxwo2"
      },
      "outputs": [],
      "execution_count": null
    },
    {
      "cell_type": "code",
      "source": [
        "df_raw"
      ],
      "metadata": {
        "trusted": true,
        "execution": {
          "iopub.status.busy": "2025-09-07T14:43:44.881732Z",
          "iopub.execute_input": "2025-09-07T14:43:44.882081Z",
          "iopub.status.idle": "2025-09-07T14:43:44.89167Z",
          "shell.execute_reply.started": "2025-09-07T14:43:44.882055Z",
          "shell.execute_reply": "2025-09-07T14:43:44.88955Z"
        },
        "id": "7PF8rVMLxwo2"
      },
      "outputs": [],
      "execution_count": null
    },
    {
      "cell_type": "code",
      "source": [
        "df_07"
      ],
      "metadata": {
        "trusted": true,
        "execution": {
          "iopub.status.busy": "2025-09-07T14:46:29.889273Z",
          "iopub.execute_input": "2025-09-07T14:46:29.890412Z",
          "iopub.status.idle": "2025-09-07T14:46:29.897557Z",
          "shell.execute_reply.started": "2025-09-07T14:46:29.890361Z",
          "shell.execute_reply": "2025-09-07T14:46:29.896415Z"
        },
        "id": "lKB3bSd8xwo2"
      },
      "outputs": [],
      "execution_count": null
    },
    {
      "cell_type": "code",
      "source": [],
      "metadata": {
        "trusted": true,
        "id": "SX5UK6Kfxwo2"
      },
      "outputs": [],
      "execution_count": null
    }
  ]
}
{
  "metadata": {
    "kernelspec": {
      "language": "python",
      "display_name": "Python 3",
      "name": "python3"
    },
    "language_info": {
      "name": "python",
      "version": "3.11.13",
      "mimetype": "text/x-python",
      "codemirror_mode": {
        "name": "ipython",
        "version": 3
      },
      "pygments_lexer": "ipython3",
      "nbconvert_exporter": "python",
      "file_extension": ".py"
    },
    "kaggle": {
      "accelerator": "none",
      "dataSources": [
        {
          "sourceId": 12955687,
          "sourceType": "datasetVersion",
          "datasetId": 8199355
        },
        {
          "sourceId": 12965293,
          "sourceType": "datasetVersion",
          "datasetId": 8205599
        },
        {
          "sourceId": 12982989,
          "sourceType": "datasetVersion",
          "datasetId": 8217460
        },
        {
          "sourceId": 12990741,
          "sourceType": "datasetVersion",
          "datasetId": 8222569
        }
      ],
      "dockerImageVersionId": 31089,
      "isInternetEnabled": true,
      "language": "python",
      "sourceType": "notebook",
      "isGpuEnabled": false
    },
    "colab": {
      "provenance": [],
      "include_colab_link": true
    }
  },
  "nbformat_minor": 0,
  "nbformat": 4,
  "cells": [
    {
      "cell_type": "markdown",
      "metadata": {
        "id": "view-in-github",
        "colab_type": "text"
      },
      "source": [
        "<a href=\"https://colab.research.google.com/github/dungdt-infopstats/TV-command-synthesis/blob/main/notebooks/DDSS_Evaluation.ipynb\" target=\"_parent\"><img src=\"https://colab.research.google.com/assets/colab-badge.svg\" alt=\"Open In Colab\"/></a>"
      ]
    },
    {
      "source": [
        "# IMPORTANT: SOME KAGGLE DATA SOURCES ARE PRIVATE\n",
        "# RUN THIS CELL IN ORDER TO IMPORT YOUR KAGGLE DATA SOURCES.\n",
        "import kagglehub\n",
        "kagglehub.login()\n"
      ],
      "metadata": {
        "id": "a7unU8KDlU8Z"
      },
      "cell_type": "code",
      "outputs": [],
      "execution_count": null
    },
    {
      "source": [
        "# IMPORTANT: RUN THIS CELL IN ORDER TO IMPORT YOUR KAGGLE DATA SOURCES,\n",
        "# THEN FEEL FREE TO DELETE THIS CELL.\n",
        "# NOTE: THIS NOTEBOOK ENVIRONMENT DIFFERS FROM KAGGLE'S PYTHON\n",
        "# ENVIRONMENT SO THERE MAY BE MISSING LIBRARIES USED BY YOUR\n",
        "# NOTEBOOK.\n",
        "\n",
        "tridungdo_whisper_text_raw_df_json_path = kagglehub.dataset_download('tridungdo/whisper-text-raw-df-json')\n",
        "tridungdo_wer_cut_res_path = kagglehub.dataset_download('tridungdo/wer-cut-res')\n",
        "tridungdo_wer_025_raw_path = kagglehub.dataset_download('tridungdo/wer-025-raw')\n",
        "tridungdo_transcribe_05_path = kagglehub.dataset_download('tridungdo/transcribe-05')\n",
        "\n",
        "print('Data source import complete.')\n"
      ],
      "metadata": {
        "id": "yQhQzGBblU8b"
      },
      "cell_type": "code",
      "outputs": [],
      "execution_count": null
    },
    {
      "cell_type": "markdown",
      "source": [
        "# old wer, clean needed"
      ],
      "metadata": {
        "id": "b1H93N-MlU8c"
      }
    },
    {
      "cell_type": "code",
      "source": [
        "import pandas as pd\n",
        "\n",
        "path = \"/kaggle/input/wer-cut-res/asr_evaluation_results.csv\"\n",
        "\n",
        "df_07 = pd.read_csv(path)"
      ],
      "metadata": {
        "trusted": true,
        "execution": {
          "iopub.status.busy": "2025-09-08T04:18:45.719207Z",
          "iopub.execute_input": "2025-09-08T04:18:45.719565Z",
          "iopub.status.idle": "2025-09-08T04:18:49.817371Z",
          "shell.execute_reply.started": "2025-09-08T04:18:45.71954Z",
          "shell.execute_reply": "2025-09-08T04:18:49.816232Z"
        },
        "id": "uqshIWTWlU8d"
      },
      "outputs": [],
      "execution_count": null
    },
    {
      "cell_type": "code",
      "source": [
        "import pandas as pd\n",
        "path_05 = \"/kaggle/input/transcribe-05/asr_results.csv\"\n",
        "df_05 = pd.read_csv(path_05)\n",
        "df_05 = df_05.rename(\n",
        "    columns = {'text_active': 'reference_text'}\n",
        ")"
      ],
      "metadata": {
        "trusted": true,
        "execution": {
          "iopub.status.busy": "2025-09-08T04:18:49.819173Z",
          "iopub.execute_input": "2025-09-08T04:18:49.82026Z",
          "iopub.status.idle": "2025-09-08T04:18:52.240068Z",
          "shell.execute_reply.started": "2025-09-08T04:18:49.820231Z",
          "shell.execute_reply": "2025-09-08T04:18:52.239137Z"
        },
        "id": "0_4KnEXnlU8d"
      },
      "outputs": [],
      "execution_count": null
    },
    {
      "cell_type": "code",
      "source": [
        "df_new = df_07[~df_07['id_x'].isin(df_05['id_x'])]\n",
        "\n",
        "df_05 = pd.concat([df_05, df_new], ignore_index = True)"
      ],
      "metadata": {
        "trusted": true,
        "execution": {
          "iopub.status.busy": "2025-09-08T04:18:52.990536Z",
          "iopub.execute_input": "2025-09-08T04:18:52.990854Z",
          "iopub.status.idle": "2025-09-08T04:18:53.017984Z",
          "shell.execute_reply.started": "2025-09-08T04:18:52.990824Z",
          "shell.execute_reply": "2025-09-08T04:18:53.016829Z"
        },
        "id": "MAvM3WMplU8e"
      },
      "outputs": [],
      "execution_count": null
    },
    {
      "cell_type": "code",
      "source": [
        "import pandas as pd\n",
        "\n",
        "path_025 = \"/kaggle/input/wer-025-raw/asr_evaluation_results_025.csv\"\n",
        "\n",
        "df_025 = pd.read_csv(path_025)"
      ],
      "metadata": {
        "trusted": true,
        "execution": {
          "iopub.status.busy": "2025-09-08T04:23:42.73622Z",
          "iopub.execute_input": "2025-09-08T04:23:42.736579Z",
          "iopub.status.idle": "2025-09-08T04:23:49.402245Z",
          "shell.execute_reply.started": "2025-09-08T04:23:42.736555Z",
          "shell.execute_reply": "2025-09-08T04:23:49.401211Z"
        },
        "id": "YfAp356elU8e"
      },
      "outputs": [],
      "execution_count": null
    },
    {
      "cell_type": "code",
      "source": [
        "import pandas as pd\n",
        "\n",
        "import pandas as pd\n",
        "from tqdm import tqdm\n",
        "\n",
        "def get_transcribe(df, ref_col, reg_col, seg_col, id_col):\n",
        "    results = []\n",
        "\n",
        "    # group theo id_col, dùng tqdm để theo dõi tiến độ\n",
        "    for id_val, group in tqdm(df.groupby(id_col), desc=\"Processing IDs\"):\n",
        "        # sắp xếp theo seg_col để đảm bảo đúng thứ tự\n",
        "        group_sorted = group.sort_values(by=seg_col)\n",
        "\n",
        "        ref_value = group_sorted[ref_col].iloc[0]  # lấy 1 cái là đủ\n",
        "        reg_joined = \" \".join(group_sorted[reg_col].astype(str).tolist())\n",
        "\n",
        "        results.append({\n",
        "            id_col: id_val,\n",
        "            ref_col: ref_value,\n",
        "            reg_col: reg_joined\n",
        "        })\n",
        "\n",
        "    return pd.DataFrame(results)\n",
        "\n",
        "\n",
        "transcribed_df = get_transcribe(df = df_05,\n",
        "                               ref_col = 'reference_text',\n",
        "                               reg_col = 'recognized_text',\n",
        "                               seg_col = 'segment_index',\n",
        "                               id_col = 'id_x')"
      ],
      "metadata": {
        "trusted": true,
        "execution": {
          "iopub.status.busy": "2025-09-08T04:19:06.148658Z",
          "iopub.execute_input": "2025-09-08T04:19:06.149033Z",
          "iopub.status.idle": "2025-09-08T04:19:16.747178Z",
          "shell.execute_reply.started": "2025-09-08T04:19:06.149005Z",
          "shell.execute_reply": "2025-09-08T04:19:16.746062Z"
        },
        "id": "xLhBcg1LlU8e",
        "outputId": "a8f85232-e0ca-4b5e-86f8-19c7e3dac7d8"
      },
      "outputs": [
        {
          "name": "stderr",
          "text": "Processing IDs: 100%|██████████| 15834/15834 [00:09<00:00, 1599.73it/s]\n",
          "output_type": "stream"
        }
      ],
      "execution_count": null
    },
    {
      "cell_type": "code",
      "source": [
        "df_info = transcribed_df[['id_x', 'reference_text']] # true info with true length"
      ],
      "metadata": {
        "trusted": true,
        "execution": {
          "iopub.status.busy": "2025-09-08T04:19:17.463084Z",
          "iopub.execute_input": "2025-09-08T04:19:17.463398Z",
          "iopub.status.idle": "2025-09-08T04:19:17.470643Z",
          "shell.execute_reply.started": "2025-09-08T04:19:17.463376Z",
          "shell.execute_reply": "2025-09-08T04:19:17.469456Z"
        },
        "id": "AROYpxbHlU8f"
      },
      "outputs": [],
      "execution_count": null
    },
    {
      "cell_type": "markdown",
      "source": [
        "# raw transcribe only"
      ],
      "metadata": {
        "id": "az779MRglU8f"
      }
    },
    {
      "cell_type": "code",
      "source": [
        "import json\n",
        "import pandas as pd\n",
        "\n",
        "raw_path = \"/kaggle/input/whisper-text-raw-df-json/whisper_text_raw_df.json\"\n",
        "\n",
        "with open(raw_path) as f:\n",
        "    raw_data = json.load(f)\n",
        "\n",
        "df_raw = pd.DataFrame(raw_data)\n",
        "df_raw_final = pd.merge(df_raw, df_info, left_on = 'id', right_on = 'id_x')\n",
        "df_raw_final = df_raw_final.rename(columns = {\n",
        "    \"full_text\": \"recognized_text\"\n",
        "})"
      ],
      "metadata": {
        "trusted": true,
        "execution": {
          "iopub.status.busy": "2025-09-08T04:19:20.177091Z",
          "iopub.execute_input": "2025-09-08T04:19:20.177427Z",
          "iopub.status.idle": "2025-09-08T04:19:20.357235Z",
          "shell.execute_reply.started": "2025-09-08T04:19:20.177403Z",
          "shell.execute_reply": "2025-09-08T04:19:20.356238Z"
        },
        "id": "w6_LXLR9lU8f"
      },
      "outputs": [],
      "execution_count": null
    },
    {
      "cell_type": "markdown",
      "source": [
        "# Preprocessing"
      ],
      "metadata": {
        "id": "HG38Tc7glU8g"
      }
    },
    {
      "cell_type": "code",
      "source": [
        "import pandas as pd\n",
        "import re\n",
        "\n",
        "\n",
        "def clean_text(text: str) -> str:\n",
        "        # bỏ dấu câu\n",
        "        text = re.sub(r\"[^\\w\\s]\", \"\", text)\n",
        "        # thay nhiều khoảng trắng thành 1 khoảng trắng\n",
        "        text = re.sub(r\"\\s+\", \" \", text)\n",
        "        return text.strip()\n",
        "\n",
        "def preprocessing(df: pd.DataFrame, ref_col: str, reg_col: str) -> pd.DataFrame:\n",
        "    # Fillna bằng chuỗi rỗng\n",
        "    df[ref_col] = df[ref_col].fillna(\"\")\n",
        "    df[reg_col] = df[reg_col].fillna(\"\")\n",
        "\n",
        "\n",
        "    df[ref_col] = df[ref_col].apply(clean_text)\n",
        "    df[reg_col] = df[reg_col].apply(clean_text)\n",
        "\n",
        "    return df"
      ],
      "metadata": {
        "trusted": true,
        "execution": {
          "iopub.status.busy": "2025-09-08T02:04:14.151104Z",
          "iopub.execute_input": "2025-09-08T02:04:14.151454Z",
          "iopub.status.idle": "2025-09-08T02:04:14.158472Z",
          "shell.execute_reply.started": "2025-09-08T02:04:14.151428Z",
          "shell.execute_reply": "2025-09-08T02:04:14.157134Z"
        },
        "id": "Rxng1r3RlU8g"
      },
      "outputs": [],
      "execution_count": null
    },
    {
      "cell_type": "code",
      "source": [
        "################## COMPUTE_DF\n",
        "\n",
        "COMPUTE_DF = transcribed_df"
      ],
      "metadata": {
        "trusted": true,
        "execution": {
          "iopub.status.busy": "2025-09-08T02:04:15.68666Z",
          "iopub.execute_input": "2025-09-08T02:04:15.686937Z",
          "iopub.status.idle": "2025-09-08T02:04:15.692489Z",
          "shell.execute_reply.started": "2025-09-08T02:04:15.686919Z",
          "shell.execute_reply": "2025-09-08T02:04:15.691511Z"
        },
        "id": "2aBTn5nAlU8g"
      },
      "outputs": [],
      "execution_count": null
    },
    {
      "cell_type": "code",
      "source": [
        "preprocessed_df = preprocessing(\n",
        "    df = COMPUTE_DF,\n",
        "    ref_col = \"reference_text\",\n",
        "    reg_col = \"recognized_text\"\n",
        ")"
      ],
      "metadata": {
        "trusted": true,
        "execution": {
          "iopub.status.busy": "2025-09-08T02:04:16.659828Z",
          "iopub.execute_input": "2025-09-08T02:04:16.660151Z",
          "iopub.status.idle": "2025-09-08T02:04:16.802835Z",
          "shell.execute_reply.started": "2025-09-08T02:04:16.660128Z",
          "shell.execute_reply": "2025-09-08T02:04:16.801461Z"
        },
        "id": "FoRuDWoTlU8g"
      },
      "outputs": [],
      "execution_count": null
    },
    {
      "cell_type": "markdown",
      "source": [
        "# WER"
      ],
      "metadata": {
        "id": "ShMxpocQlU8g"
      }
    },
    {
      "cell_type": "code",
      "source": [
        "!pip install jiwer"
      ],
      "metadata": {
        "trusted": true,
        "execution": {
          "iopub.status.busy": "2025-09-08T02:04:30.944215Z",
          "iopub.execute_input": "2025-09-08T02:04:30.945094Z",
          "iopub.status.idle": "2025-09-08T02:04:38.963544Z",
          "shell.execute_reply.started": "2025-09-08T02:04:30.945065Z",
          "shell.execute_reply": "2025-09-08T02:04:38.962268Z"
        },
        "id": "A21s-irSlU8g",
        "outputId": "87dfb9ab-0c5b-4a5a-97b7-fa763996a748"
      },
      "outputs": [
        {
          "name": "stdout",
          "text": "Collecting jiwer\n  Downloading jiwer-4.0.0-py3-none-any.whl.metadata (3.3 kB)\nRequirement already satisfied: click>=8.1.8 in /usr/local/lib/python3.11/dist-packages (from jiwer) (8.2.1)\nCollecting rapidfuzz>=3.9.7 (from jiwer)\n  Downloading rapidfuzz-3.14.0-cp311-cp311-manylinux_2_27_x86_64.manylinux_2_28_x86_64.whl.metadata (12 kB)\nDownloading jiwer-4.0.0-py3-none-any.whl (23 kB)\nDownloading rapidfuzz-3.14.0-cp311-cp311-manylinux_2_27_x86_64.manylinux_2_28_x86_64.whl (3.3 MB)\n\u001b[2K   \u001b[90m━━━━━━━━━━━━━━━━━━━━━━━━━━━━━━━━━━━━━━━━\u001b[0m \u001b[32m3.3/3.3 MB\u001b[0m \u001b[31m31.2 MB/s\u001b[0m eta \u001b[36m0:00:00\u001b[0m00:01\u001b[0m00:01\u001b[0m\n\u001b[?25hInstalling collected packages: rapidfuzz, jiwer\nSuccessfully installed jiwer-4.0.0 rapidfuzz-3.14.0\n",
          "output_type": "stream"
        }
      ],
      "execution_count": null
    },
    {
      "cell_type": "code",
      "source": [
        "import pandas as pd\n",
        "import jiwer\n",
        "from tqdm import tqdm\n",
        "\n",
        "def compute_wer(df: pd.DataFrame, ref_col: str, hyp_col: str) -> pd.DataFrame:\n",
        "    \"\"\"\n",
        "    Tính toán WER metrics cho từng hàng trong DataFrame.\n",
        "    - ref_col: cột chứa ground-truth text\n",
        "    - hyp_col: cột chứa predicted text\n",
        "    \"\"\"\n",
        "\n",
        "    for idx, row in tqdm(df.iterrows(), total=len(df), desc=\"Computing WER\"):\n",
        "        ref = str(row[ref_col]) if pd.notna(row[ref_col]) else \"\"\n",
        "        hyp = str(row[hyp_col]) if pd.notna(row[hyp_col]) else \"\"\n",
        "\n",
        "        output = jiwer.process_words(reference=ref, hypothesis=hyp).__dict__\n",
        "\n",
        "        # Đảm bảo các cột metrics đã tồn tại\n",
        "        for key, val in output.items():\n",
        "            if key not in df.columns:\n",
        "                df[key] = None\n",
        "            df.at[idx, key] = val\n",
        "\n",
        "        # Đếm số từ trong reference\n",
        "        words_count = len(ref.split()) if ref.strip() else 0\n",
        "        if \"words_count\" not in df.columns:\n",
        "            df[\"words_count\"] = None\n",
        "        df.at[idx, \"words_count\"] = words_count\n",
        "\n",
        "    return df\n"
      ],
      "metadata": {
        "trusted": true,
        "execution": {
          "iopub.status.busy": "2025-09-08T02:05:20.663555Z",
          "iopub.execute_input": "2025-09-08T02:05:20.663902Z",
          "iopub.status.idle": "2025-09-08T02:05:20.705622Z",
          "shell.execute_reply.started": "2025-09-08T02:05:20.663874Z",
          "shell.execute_reply": "2025-09-08T02:05:20.704674Z"
        },
        "id": "5OrHp7EYlU8h"
      },
      "outputs": [],
      "execution_count": null
    },
    {
      "cell_type": "code",
      "source": [
        "df_wer = compute_wer(\n",
        "    df = preprocessed_df,\n",
        "    ref_col = \"reference_text\",\n",
        "    hyp_col = \"recognized_text\"\n",
        ")"
      ],
      "metadata": {
        "trusted": true,
        "execution": {
          "iopub.status.busy": "2025-09-08T02:05:22.758988Z",
          "iopub.execute_input": "2025-09-08T02:05:22.759345Z",
          "iopub.status.idle": "2025-09-08T02:05:27.489502Z",
          "shell.execute_reply.started": "2025-09-08T02:05:22.759324Z",
          "shell.execute_reply": "2025-09-08T02:05:27.488627Z"
        },
        "id": "Z-F8Xq99lU8h",
        "outputId": "7590a807-8e13-4a34-af0a-39d4ab7f7bc6"
      },
      "outputs": [
        {
          "name": "stderr",
          "text": "Computing WER: 100%|██████████| 15834/15834 [00:04<00:00, 3354.26it/s]\n",
          "output_type": "stream"
        }
      ],
      "execution_count": null
    },
    {
      "cell_type": "code",
      "source": [
        "import numpy as np\n",
        "\n",
        "def statistics(df_wer):\n",
        "    res = {}\n",
        "    res[\"N\"] = np.nansum(df_wer['words_count'])\n",
        "\n",
        "    res[\"D\"] = np.nansum(df_wer['deletions'])\n",
        "    res[\"I\"] = np.nansum(df_wer['insertions'])\n",
        "    res[\"S\"] = np.nansum(df_wer['substitutions'])\n",
        "\n",
        "    res[\"D_rate\"] = res[\"D\"] / res[\"N\"]\n",
        "    res[\"I_rate\"] = res[\"I\"] / res[\"N\"]\n",
        "    res[\"S_rate\"] = res[\"S\"] / res[\"N\"]\n",
        "    res[\"WER\"] = (res[\"D\"] + res[\"I\"] + res[\"S\"]) / res[\"N\"]\n",
        "\n",
        "    return res"
      ],
      "metadata": {
        "trusted": true,
        "execution": {
          "iopub.status.busy": "2025-09-08T02:05:32.078018Z",
          "iopub.execute_input": "2025-09-08T02:05:32.078332Z",
          "iopub.status.idle": "2025-09-08T02:05:32.086048Z",
          "shell.execute_reply.started": "2025-09-08T02:05:32.078308Z",
          "shell.execute_reply": "2025-09-08T02:05:32.084878Z"
        },
        "id": "Wlp0aZsAlU8h"
      },
      "outputs": [],
      "execution_count": null
    },
    {
      "cell_type": "code",
      "source": [
        "df_05 = statistics(df_wer)"
      ],
      "metadata": {
        "trusted": true,
        "execution": {
          "iopub.status.busy": "2025-09-08T02:05:35.764285Z",
          "iopub.execute_input": "2025-09-08T02:05:35.764655Z",
          "iopub.status.idle": "2025-09-08T02:05:35.774073Z",
          "shell.execute_reply.started": "2025-09-08T02:05:35.764632Z",
          "shell.execute_reply": "2025-09-08T02:05:35.773074Z"
        },
        "id": "mneOBZ9ilU8h"
      },
      "outputs": [],
      "execution_count": null
    },
    {
      "cell_type": "code",
      "source": [
        "def pipeline(df, ref_col, reg_col, seg_col, id_col):\n",
        "    try:\n",
        "        output = get_transcribe(df = df,\n",
        "                                   ref_col = ref_col,\n",
        "                                   reg_col = reg_col,\n",
        "                                   seg_col = seg_col,\n",
        "                                   id_col = id_col)\n",
        "    except:\n",
        "        print('NO TRANSCRIBE')\n",
        "        output = df\n",
        "\n",
        "    output = preprocessing(\n",
        "        df = output,\n",
        "        ref_col = ref_col,\n",
        "        reg_col = reg_col\n",
        "    )\n",
        "\n",
        "    df_res = compute_wer(\n",
        "        df = output,\n",
        "        ref_col = ref_col,\n",
        "        hyp_col = reg_col\n",
        "    )\n",
        "    stats = statistics(df_res)\n",
        "    return df_res, stats"
      ],
      "metadata": {
        "trusted": true,
        "execution": {
          "iopub.status.busy": "2025-09-08T03:34:08.799888Z",
          "iopub.execute_input": "2025-09-08T03:34:08.800209Z",
          "iopub.status.idle": "2025-09-08T03:34:08.808626Z",
          "shell.execute_reply.started": "2025-09-08T03:34:08.800187Z",
          "shell.execute_reply": "2025-09-08T03:34:08.807422Z"
        },
        "id": "f1vRt5T1lU8h"
      },
      "outputs": [],
      "execution_count": null
    },
    {
      "cell_type": "code",
      "source": [
        "list_df = {\n",
        "    '025': df_025,\n",
        "    '05': df_05,\n",
        "    '07': df_07,\n",
        "    'raw': df_raw_final\n",
        "}\n",
        "ref_col = 'reference_text'\n",
        "reg_col = 'recognized_text'\n",
        "seg_col = 'segment_index'\n",
        "id_col = 'id_x'\n",
        "\n",
        "list_out = {}\n",
        "for name in list_df:\n",
        "    res, stats = pipeline(\n",
        "        df = list_df[name],\n",
        "        ref_col = ref_col,\n",
        "        reg_col = reg_col,\n",
        "        seg_col = seg_col,\n",
        "        id_col = id_col,\n",
        "    )\n",
        "\n",
        "    list_out[name] = {\n",
        "        'res': res,\n",
        "        'stats': stats\n",
        "    }"
      ],
      "metadata": {
        "trusted": true,
        "execution": {
          "iopub.status.busy": "2025-09-08T04:24:01.886115Z",
          "iopub.execute_input": "2025-09-08T04:24:01.886404Z",
          "iopub.status.idle": "2025-09-08T04:24:41.819231Z",
          "shell.execute_reply.started": "2025-09-08T04:24:01.886382Z",
          "shell.execute_reply": "2025-09-08T04:24:41.81813Z"
        },
        "id": "119hSaLLlU8h",
        "outputId": "339e2e16-b289-4b15-8724-20b67e40c0d5"
      },
      "outputs": [
        {
          "name": "stderr",
          "text": "Processing IDs: 100%|██████████| 15834/15834 [00:04<00:00, 3196.51it/s]\nComputing WER: 100%|██████████| 15834/15834 [00:04<00:00, 3625.95it/s]\nProcessing IDs: 100%|██████████| 15834/15834 [00:10<00:00, 1502.74it/s]\nComputing WER: 100%|██████████| 15834/15834 [00:04<00:00, 3626.44it/s]\nProcessing IDs: 100%|██████████| 15834/15834 [00:04<00:00, 3559.72it/s]\nComputing WER: 100%|██████████| 15834/15834 [00:04<00:00, 3564.23it/s]\nProcessing IDs:   0%|          | 0/15834 [00:00<?, ?it/s]\n",
          "output_type": "stream"
        },
        {
          "name": "stdout",
          "text": "NO TRANSCRIBE\n",
          "output_type": "stream"
        },
        {
          "name": "stderr",
          "text": "Computing WER: 100%|██████████| 15834/15834 [00:04<00:00, 3407.97it/s]\n",
          "output_type": "stream"
        }
      ],
      "execution_count": null
    },
    {
      "cell_type": "code",
      "source": [
        "for i in list_out:\n",
        "    print(i)\n",
        "    print(list_out[i]['stats'])"
      ],
      "metadata": {
        "trusted": true,
        "execution": {
          "iopub.status.busy": "2025-09-08T04:24:41.820513Z",
          "iopub.execute_input": "2025-09-08T04:24:41.820734Z",
          "iopub.status.idle": "2025-09-08T04:24:41.826609Z",
          "shell.execute_reply.started": "2025-09-08T04:24:41.820716Z",
          "shell.execute_reply": "2025-09-08T04:24:41.82528Z"
        },
        "id": "f2UqY3INlU8h",
        "outputId": "9a52906e-46da-40bf-e60c-5c3326c03a03"
      },
      "outputs": [
        {
          "name": "stdout",
          "text": "025\n{'N': 77350, 'D': 8277, 'I': 42660, 'S': 22501, 'D_rate': 0.1070071105365223, 'I_rate': 0.551519069166128, 'S_rate': 0.29089851325145444, 'WER': 0.9494246929541047}\n05\n{'N': 77350, 'D': 9993, 'I': 30497, 'S': 21328, 'D_rate': 0.12919198448610214, 'I_rate': 0.39427278603749194, 'S_rate': 0.27573367808661925, 'WER': 0.7991984486102133}\n07\n{'N': 77350, 'D': 12708, 'I': 18991, 'S': 20604, 'D_rate': 0.16429217840982546, 'I_rate': 0.24552036199095023, 'S_rate': 0.2663736263736264, 'WER': 0.676186166774402}\nraw\n{'N': 77350, 'D': 4013, 'I': 181419, 'S': 23786, 'D_rate': 0.05188106011635423, 'I_rate': 2.3454298642533935, 'S_rate': 0.3075113122171946, 'WER': 2.7048222365869425}\n",
          "output_type": "stream"
        }
      ],
      "execution_count": null
    },
    {
      "cell_type": "code",
      "source": [],
      "metadata": {
        "trusted": true,
        "id": "gnSO0KZ6lU8h"
      },
      "outputs": [],
      "execution_count": null
    }
  ]
}
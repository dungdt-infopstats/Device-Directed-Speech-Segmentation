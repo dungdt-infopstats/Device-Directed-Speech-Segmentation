{
  "metadata": {
    "kernelspec": {
      "language": "python",
      "display_name": "Python 3",
      "name": "python3"
    },
    "language_info": {
      "name": "python",
      "version": "3.11.13",
      "mimetype": "text/x-python",
      "codemirror_mode": {
        "name": "ipython",
        "version": 3
      },
      "pygments_lexer": "ipython3",
      "nbconvert_exporter": "python",
      "file_extension": ".py"
    },
    "kaggle": {
      "accelerator": "nvidiaTeslaT4",
      "dataSources": [
        {
          "sourceId": 12932733,
          "sourceType": "datasetVersion",
          "datasetId": 8183808
        },
        {
          "sourceId": 539636,
          "sourceType": "modelInstanceVersion",
          "isSourceIdPinned": true,
          "modelInstanceId": 417650,
          "modelId": 435329
        }
      ],
      "dockerImageVersionId": 31090,
      "isInternetEnabled": true,
      "language": "python",
      "sourceType": "notebook",
      "isGpuEnabled": true
    },
    "colab": {
      "provenance": [],
      "include_colab_link": true
    }
  },
  "nbformat_minor": 0,
  "nbformat": 4,
  "cells": [
    {
      "cell_type": "markdown",
      "metadata": {
        "id": "view-in-github",
        "colab_type": "text"
      },
      "source": [
        "<a href=\"https://colab.research.google.com/github/dungdt-infopstats/TV-command-synthesis/blob/main/notebooks/DDSS_Test_Experiment.ipynb\" target=\"_parent\"><img src=\"https://colab.research.google.com/assets/colab-badge.svg\" alt=\"Open In Colab\"/></a>"
      ]
    },
    {
      "source": [
        "# IMPORTANT: SOME KAGGLE DATA SOURCES ARE PRIVATE\n",
        "# RUN THIS CELL IN ORDER TO IMPORT YOUR KAGGLE DATA SOURCES.\n",
        "import kagglehub\n",
        "kagglehub.login()\n"
      ],
      "metadata": {
        "id": "bzMxS29MxodJ"
      },
      "cell_type": "code",
      "outputs": [],
      "execution_count": null
    },
    {
      "source": [
        "# IMPORTANT: RUN THIS CELL IN ORDER TO IMPORT YOUR KAGGLE DATA SOURCES,\n",
        "# THEN FEEL FREE TO DELETE THIS CELL.\n",
        "# NOTE: THIS NOTEBOOK ENVIRONMENT DIFFERS FROM KAGGLE'S PYTHON\n",
        "# ENVIRONMENT SO THERE MAY BE MISSING LIBRARIES USED BY YOUR\n",
        "# NOTEBOOK.\n",
        "\n",
        "tridungdo_ddss_aug_ratio_test_path = kagglehub.dataset_download('tridungdo/ddss-aug-ratio-test')\n",
        "tridungdo_model_split_pytorch_default_1_path = kagglehub.model_download('tridungdo/model-split/PyTorch/default/1')\n",
        "\n",
        "print('Data source import complete.')\n"
      ],
      "metadata": {
        "id": "fPRjCWM5xodK"
      },
      "cell_type": "code",
      "outputs": [],
      "execution_count": null
    },
    {
      "cell_type": "markdown",
      "source": [
        "# Get Data"
      ],
      "metadata": {
        "id": "w3pwPvlvxodK"
      }
    },
    {
      "cell_type": "code",
      "source": [
        "!gdown 1Y0qQlfvzfiDCVCTVFu9pmUHWnAlgV8_V"
      ],
      "metadata": {
        "_uuid": "8f2839f25d086af736a60e9eeb907d3b93b6e0e5",
        "_cell_guid": "b1076dfc-b9ad-4769-8c92-a6c4dae69d19",
        "trusted": true,
        "execution": {
          "iopub.status.busy": "2025-08-29T07:07:40.172696Z",
          "iopub.execute_input": "2025-08-29T07:07:40.172868Z",
          "iopub.status.idle": "2025-08-29T07:08:03.076256Z",
          "shell.execute_reply.started": "2025-08-29T07:07:40.172853Z",
          "shell.execute_reply": "2025-08-29T07:08:03.075597Z"
        },
        "id": "eBUL17qExodL",
        "outputId": "f6e03deb-d8b0-4785-b367-8cdae991ce28"
      },
      "outputs": [
        {
          "name": "stdout",
          "text": "Downloading...\nFrom (original): https://drive.google.com/uc?id=1Y0qQlfvzfiDCVCTVFu9pmUHWnAlgV8_V\nFrom (redirected): https://drive.google.com/uc?id=1Y0qQlfvzfiDCVCTVFu9pmUHWnAlgV8_V&confirm=t&uuid=f4bcec05-7c3c-497e-b732-5200757046ba\nTo: /kaggle/working/test-extend.zip\n100%|███████████████████████████████████████| 2.16G/2.16G [00:21<00:00, 101MB/s]\n",
          "output_type": "stream"
        }
      ],
      "execution_count": null
    },
    {
      "cell_type": "code",
      "source": [
        "!unzip -q test-extend.zip -d data"
      ],
      "metadata": {
        "trusted": true,
        "execution": {
          "iopub.status.busy": "2025-08-29T07:08:03.077154Z",
          "iopub.execute_input": "2025-08-29T07:08:03.077433Z",
          "iopub.status.idle": "2025-08-29T07:08:30.635014Z",
          "shell.execute_reply.started": "2025-08-29T07:08:03.077397Z",
          "shell.execute_reply": "2025-08-29T07:08:30.634164Z"
        },
        "id": "wEG0tnlQxodL"
      },
      "outputs": [],
      "execution_count": null
    },
    {
      "cell_type": "code",
      "source": [
        "input_path = \"/kaggle/input/ddss-aug-ratio-test\""
      ],
      "metadata": {
        "trusted": true,
        "execution": {
          "iopub.status.busy": "2025-09-02T02:50:10.725455Z",
          "iopub.execute_input": "2025-09-02T02:50:10.725723Z",
          "iopub.status.idle": "2025-09-02T02:50:10.73201Z",
          "shell.execute_reply.started": "2025-09-02T02:50:10.725699Z",
          "shell.execute_reply": "2025-09-02T02:50:10.731323Z"
        },
        "id": "TA90Ar8MxodM"
      },
      "outputs": [],
      "execution_count": null
    },
    {
      "cell_type": "code",
      "source": [
        "import os\n",
        "import json\n",
        "import pandas as pd\n",
        "root_path = os.path.join(input_path, 'test')\n",
        "list_json = []\n",
        "for folder in os.listdir(root_path):\n",
        "    for file in os.listdir(os.path.join(root_path, folder)):\n",
        "        if file.endswith('.json'):\n",
        "            with open(os.path.join(root_path, folder, file), 'r') as f:\n",
        "                data = json.load(f)\n",
        "                data['id'] = file.split('.')[0]\n",
        "                list_json.append(data)\n",
        "\n",
        "df_info = pd.DataFrame(list_json)"
      ],
      "metadata": {
        "trusted": true,
        "execution": {
          "iopub.status.busy": "2025-09-02T02:50:18.855342Z",
          "iopub.execute_input": "2025-09-02T02:50:18.855983Z",
          "iopub.status.idle": "2025-09-02T02:51:43.545216Z",
          "shell.execute_reply.started": "2025-09-02T02:50:18.855955Z",
          "shell.execute_reply": "2025-09-02T02:51:43.54465Z"
        },
        "id": "Ql5kOLavxodM"
      },
      "outputs": [],
      "execution_count": null
    },
    {
      "cell_type": "code",
      "source": [
        "df_info.head()"
      ],
      "metadata": {
        "trusted": true,
        "execution": {
          "iopub.status.busy": "2025-09-02T02:51:45.885138Z",
          "iopub.execute_input": "2025-09-02T02:51:45.885921Z",
          "iopub.status.idle": "2025-09-02T02:51:45.913016Z",
          "shell.execute_reply.started": "2025-09-02T02:51:45.885896Z",
          "shell.execute_reply": "2025-09-02T02:51:45.912421Z"
        },
        "id": "xldU8hEExodM",
        "outputId": "e820f29e-66f0-4e98-aee2-a2c29e34b9d4"
      },
      "outputs": [
        {
          "execution_count": 3,
          "output_type": "execute_result",
          "data": {
            "text/plain": "                                          clean_path  \\\n0  /content/concat_speech/sample/single_active_bd...   \n1  /content/concat_speech/sample/single_active_bd...   \n2  /content/concat_speech/sample/single_active_bd...   \n3  /content/concat_speech/sample/single_active_bd...   \n4  /content/concat_speech/sample/single_active_bd...   \n\n                                          noise_path     mode     snr_db  \\\n0  /content/musan/speech/librivox/speech-librivox...  overlap  13.815666   \n1  /content/musan/speech/librivox/speech-librivox...  prepend   0.609248   \n2  /content/musan/speech/us-gov/speech-us-gov-004...  prepend  15.549012   \n3  /content/musan/speech/librivox/speech-librivox...   append  -2.075359   \n4  /content/musan/speech/us-gov/speech-us-gov-000...   append  12.808796   \n\n                                              labels  \\\n0  [{'label': 'active', 'start': 0.0, 'end': 1.348}]   \n1  [{'label': 'active', 'start': 1.78544425099277...   \n2  [{'label': 'active', 'start': 1.0, 'end': 2.34...   \n3  [{'label': 'active', 'start': 0.0, 'end': 1.34...   \n4  [{'label': 'active', 'start': 0.0, 'end': 1.34...   \n\n                              id  \n0  single_active_bd116cf7_aug0-3  \n1  single_active_bd116cf7_aug0-1  \n2  single_active_bd116cf7_aug3-4  \n3  single_active_bd116cf7_aug0-0  \n4  single_active_bd116cf7_aug1-3  ",
            "text/html": "<div>\n<style scoped>\n    .dataframe tbody tr th:only-of-type {\n        vertical-align: middle;\n    }\n\n    .dataframe tbody tr th {\n        vertical-align: top;\n    }\n\n    .dataframe thead th {\n        text-align: right;\n    }\n</style>\n<table border=\"1\" class=\"dataframe\">\n  <thead>\n    <tr style=\"text-align: right;\">\n      <th></th>\n      <th>clean_path</th>\n      <th>noise_path</th>\n      <th>mode</th>\n      <th>snr_db</th>\n      <th>labels</th>\n      <th>id</th>\n    </tr>\n  </thead>\n  <tbody>\n    <tr>\n      <th>0</th>\n      <td>/content/concat_speech/sample/single_active_bd...</td>\n      <td>/content/musan/speech/librivox/speech-librivox...</td>\n      <td>overlap</td>\n      <td>13.815666</td>\n      <td>[{'label': 'active', 'start': 0.0, 'end': 1.348}]</td>\n      <td>single_active_bd116cf7_aug0-3</td>\n    </tr>\n    <tr>\n      <th>1</th>\n      <td>/content/concat_speech/sample/single_active_bd...</td>\n      <td>/content/musan/speech/librivox/speech-librivox...</td>\n      <td>prepend</td>\n      <td>0.609248</td>\n      <td>[{'label': 'active', 'start': 1.78544425099277...</td>\n      <td>single_active_bd116cf7_aug0-1</td>\n    </tr>\n    <tr>\n      <th>2</th>\n      <td>/content/concat_speech/sample/single_active_bd...</td>\n      <td>/content/musan/speech/us-gov/speech-us-gov-004...</td>\n      <td>prepend</td>\n      <td>15.549012</td>\n      <td>[{'label': 'active', 'start': 1.0, 'end': 2.34...</td>\n      <td>single_active_bd116cf7_aug3-4</td>\n    </tr>\n    <tr>\n      <th>3</th>\n      <td>/content/concat_speech/sample/single_active_bd...</td>\n      <td>/content/musan/speech/librivox/speech-librivox...</td>\n      <td>append</td>\n      <td>-2.075359</td>\n      <td>[{'label': 'active', 'start': 0.0, 'end': 1.34...</td>\n      <td>single_active_bd116cf7_aug0-0</td>\n    </tr>\n    <tr>\n      <th>4</th>\n      <td>/content/concat_speech/sample/single_active_bd...</td>\n      <td>/content/musan/speech/us-gov/speech-us-gov-000...</td>\n      <td>append</td>\n      <td>12.808796</td>\n      <td>[{'label': 'active', 'start': 0.0, 'end': 1.34...</td>\n      <td>single_active_bd116cf7_aug1-3</td>\n    </tr>\n  </tbody>\n</table>\n</div>"
          },
          "metadata": {}
        }
      ],
      "execution_count": null
    },
    {
      "cell_type": "markdown",
      "source": [
        "# Model"
      ],
      "metadata": {
        "id": "GWr0OFsfxodM"
      }
    },
    {
      "cell_type": "code",
      "source": [
        "import torch\n",
        "import torch.nn as nn\n",
        "import torchaudio\n",
        "\n",
        "\n",
        "class DDSSModel(nn.Module):\n",
        "    def __init__(self, hidden_dim=256, num_layers=2, bidirectional=True, dropout=0.3):\n",
        "        super(DDSSModel, self).__init__()\n",
        "\n",
        "        # Base model: Wav2Vec2 (ASR Base)\n",
        "        bundle = torchaudio.pipelines.WAV2VEC2_ASR_BASE_960H\n",
        "        self.feature_extractor = bundle.get_model()\n",
        "\n",
        "        # Freeze Wav2Vec2\n",
        "        for param in self.feature_extractor.parameters():\n",
        "            param.requires_grad = False\n",
        "\n",
        "        # LSTM\n",
        "        self.lstm = nn.LSTM(\n",
        "            input_size=bundle._params['encoder_embed_dim'],\n",
        "            hidden_size=hidden_dim,\n",
        "            num_layers=num_layers,\n",
        "            batch_first=True,\n",
        "            dropout=dropout,\n",
        "            bidirectional=bidirectional\n",
        "        )\n",
        "\n",
        "        lstm_output_dim = hidden_dim * (2 if bidirectional else 1)\n",
        "\n",
        "        # Frame-level classifier (MLP thay vì 1 tầng)\n",
        "        self.classifier = nn.Sequential(\n",
        "            nn.Linear(lstm_output_dim, lstm_output_dim // 2),\n",
        "            nn.BatchNorm1d(lstm_output_dim // 2),\n",
        "            nn.ReLU(),\n",
        "            nn.Dropout(dropout),\n",
        "\n",
        "            nn.Linear(lstm_output_dim // 2, lstm_output_dim // 4),\n",
        "            nn.ReLU(),\n",
        "            nn.Dropout(dropout),\n",
        "\n",
        "            nn.Linear(lstm_output_dim // 4, 1)  # binary logit\n",
        "        )\n",
        "\n",
        "    def forward(self, waveforms):\n",
        "        \"\"\"\n",
        "        waveforms: Tensor [B, T_audio] (mono audio, 16kHz)\n",
        "        \"\"\"\n",
        "        with torch.no_grad():\n",
        "            features, _ = self.feature_extractor.extract_features(waveforms)\n",
        "            x = features[-1]  # [B, T_feat, F]\n",
        "\n",
        "        # LSTM\n",
        "        x, _ = self.lstm(x)  # [B, T_feat, H]\n",
        "\n",
        "        # Classifier cho từng frame\n",
        "        B, T, H = x.shape\n",
        "        x = x.reshape(-1, H)          # [B*T, H]\n",
        "        out = self.classifier(x)      # [B*T, 1]\n",
        "        out = out.view(B, T)          # [B, T]\n",
        "        return out"
      ],
      "metadata": {
        "trusted": true,
        "execution": {
          "iopub.status.busy": "2025-09-02T02:51:58.30939Z",
          "iopub.execute_input": "2025-09-02T02:51:58.310222Z",
          "iopub.status.idle": "2025-09-02T02:52:07.039756Z",
          "shell.execute_reply.started": "2025-09-02T02:51:58.310186Z",
          "shell.execute_reply": "2025-09-02T02:52:07.039152Z"
        },
        "id": "1TjHSLVNxodN"
      },
      "outputs": [],
      "execution_count": null
    },
    {
      "cell_type": "code",
      "source": [
        "model = DDSSModel()\n",
        "model.load_state_dict(torch.load(\"/kaggle/input/model-split/pytorch/default/1/DDSS_model.pt\"))"
      ],
      "metadata": {
        "trusted": true,
        "execution": {
          "iopub.status.busy": "2025-09-02T02:52:19.917128Z",
          "iopub.execute_input": "2025-09-02T02:52:19.917722Z",
          "iopub.status.idle": "2025-09-02T02:52:26.804267Z",
          "shell.execute_reply.started": "2025-09-02T02:52:19.917697Z",
          "shell.execute_reply": "2025-09-02T02:52:26.803662Z"
        },
        "id": "SRBVbxWIxodN",
        "outputId": "9a9bc541-46c1-4690-c73a-b01697d480ef"
      },
      "outputs": [
        {
          "name": "stderr",
          "text": "Downloading: \"https://download.pytorch.org/torchaudio/models/wav2vec2_fairseq_base_ls960_asr_ls960.pth\" to /root/.cache/torch/hub/checkpoints/wav2vec2_fairseq_base_ls960_asr_ls960.pth\n100%|██████████| 360M/360M [00:01<00:00, 330MB/s] \n",
          "output_type": "stream"
        },
        {
          "execution_count": 5,
          "output_type": "execute_result",
          "data": {
            "text/plain": "<All keys matched successfully>"
          },
          "metadata": {}
        }
      ],
      "execution_count": null
    },
    {
      "cell_type": "markdown",
      "source": [
        "# Dataset"
      ],
      "metadata": {
        "id": "P7M0szbUxodN"
      }
    },
    {
      "cell_type": "code",
      "source": [
        "import os\n",
        "import json\n",
        "import pandas as pd\n",
        "\n",
        "def collect_json_to_df(root_dir: str, flatten: bool = True) -> pd.DataFrame:\n",
        "    \"\"\"\n",
        "    Gom tất cả file JSON trong root_dir thành DataFrame.\n",
        "\n",
        "    Args:\n",
        "        root_dir (str): thư mục gốc chứa các thư mục con.\n",
        "        flatten (bool): nếu True, mỗi label trong json sẽ thành 1 dòng riêng.\n",
        "                        nếu False, labels sẽ giữ nguyên dạng list trong 1 cột.\n",
        "\n",
        "    Returns:\n",
        "        pd.DataFrame\n",
        "    \"\"\"\n",
        "    records = []\n",
        "\n",
        "    for dirpath, _, filenames in os.walk(root_dir):\n",
        "        for file in filenames:\n",
        "            if file.endswith(\".json\"):\n",
        "                json_path = os.path.join(dirpath, file)\n",
        "                folder_name = os.path.basename(dirpath)\n",
        "\n",
        "                # audio nằm cùng chỗ, tên trùng với folder\n",
        "                audio_path = os.path.join(dirpath, file.replace('.json','.wav'))\n",
        "\n",
        "                with open(json_path, \"r\", encoding=\"utf-8\") as f:\n",
        "                    data = json.load(f)\n",
        "\n",
        "                if flatten:\n",
        "                    for entry in data['labels']:\n",
        "                        records.append({\n",
        "                            \"id\": folder_name,\n",
        "                            \"id_detail\": file.split('.')[0],\n",
        "                            \"audio_path\": audio_path,\n",
        "                            \"label\": entry.get(\"label\"),\n",
        "                            \"start\": entry.get(\"start\"),\n",
        "                            \"end\": entry.get(\"end\")\n",
        "                        })\n",
        "                else:\n",
        "                    records.append({\n",
        "                        \"id\": folder_name,\n",
        "                        \"audio_path\": audio_path,\n",
        "                        \"labels\": data\n",
        "                    })\n",
        "\n",
        "    return pd.DataFrame(records)"
      ],
      "metadata": {
        "trusted": true,
        "execution": {
          "iopub.status.busy": "2025-09-02T02:52:47.818253Z",
          "iopub.execute_input": "2025-09-02T02:52:47.818505Z",
          "iopub.status.idle": "2025-09-02T02:52:47.82552Z",
          "shell.execute_reply.started": "2025-09-02T02:52:47.818488Z",
          "shell.execute_reply": "2025-09-02T02:52:47.824659Z"
        },
        "id": "agaYtuQvxodN"
      },
      "outputs": [],
      "execution_count": null
    },
    {
      "cell_type": "code",
      "source": [
        "import torch\n",
        "from torch.utils.data import Dataset\n",
        "import torchaudio\n",
        "\n",
        "def frame_wav(wav, frame_size, hop_size):\n",
        "    wav = wav.squeeze(0)  # (N,)\n",
        "    frames = wav.unfold(0, frame_size, hop_size)  # shape (num_frames, frame_size)\n",
        "    return frames\n",
        "\n",
        "def label_frames(num_frames, frame_size, hop_size, sr, annotations):\n",
        "    labels = torch.zeros(num_frames, dtype=torch.long)  # mặc định = 0\n",
        "\n",
        "    for _, row in annotations.iterrows():\n",
        "        start_sample = int(row['start'] * sr)\n",
        "        end_sample = int(row['end'] * sr)\n",
        "\n",
        "        # quy đổi sample về index frame\n",
        "        start_frame = max(0, (start_sample - frame_size) // hop_size + 1)\n",
        "        end_frame   = min(num_frames, end_sample // hop_size)\n",
        "\n",
        "        if row['label'] == 'active':\n",
        "            labels[start_frame:end_frame+1] = 1\n",
        "\n",
        "    return labels\n",
        "\n",
        "class DDSSDataset(Dataset):\n",
        "    def __init__(self, annotations_file, frame_size=400, hop_size=160, target_sr=16000, transform=None, key = None):\n",
        "        self.annotations_file = annotations_file\n",
        "        self.key = key\n",
        "        if self.key is not None:\n",
        "            self.list_id = self.annotations_file[self.key].unique()\n",
        "        else:\n",
        "            self.list_id = self.annotations_file['id'].unique()\n",
        "        self.frame_size = frame_size\n",
        "        self.hop_size = hop_size\n",
        "        self.target_sr = target_sr\n",
        "        self.transform = transform\n",
        "\n",
        "    def __len__(self):\n",
        "        return len(self.list_id)\n",
        "\n",
        "    def __getitem__(self, idx):\n",
        "        id_file = self.list_id[idx]\n",
        "        if self.key is not None:\n",
        "            df_file = self.annotations_file[self.annotations_file[self.key] == id_file]\n",
        "        else:\n",
        "            df_file = self.annotations_file[self.annotations_file['id'] == id_file]\n",
        "        audio_path = df_file['audio_path'].iloc[0]\n",
        "        wav, sr = torchaudio.load(audio_path)\n",
        "\n",
        "        # resample\n",
        "        if sr != self.target_sr:\n",
        "            resampler = torchaudio.transforms.Resample(sr, self.target_sr)\n",
        "            wav = resampler(wav)\n",
        "            sr = self.target_sr\n",
        "\n",
        "        # frame\n",
        "        frames = frame_wav(wav, self.frame_size, self.hop_size)\n",
        "\n",
        "        # label sequence\n",
        "        labels = label_frames(frames.shape[0], self.frame_size, self.hop_size, sr, df_file)\n",
        "\n",
        "        return wav, frames, labels, id_file"
      ],
      "metadata": {
        "trusted": true,
        "execution": {
          "iopub.status.busy": "2025-09-02T02:52:50.855479Z",
          "iopub.execute_input": "2025-09-02T02:52:50.855767Z",
          "iopub.status.idle": "2025-09-02T02:52:50.865009Z",
          "shell.execute_reply.started": "2025-09-02T02:52:50.855745Z",
          "shell.execute_reply": "2025-09-02T02:52:50.864295Z"
        },
        "id": "p_kVTxQNxodO"
      },
      "outputs": [],
      "execution_count": null
    },
    {
      "cell_type": "code",
      "source": [
        "import torch\n",
        "import torch.nn.functional as F\n",
        "\n",
        "def label_resampler(labels: torch.Tensor, target_len: int) -> torch.Tensor:\n",
        "    \"\"\"\n",
        "    labels: Tensor [num_frames], dtype long/int (0/1 hoặc nhiều class)\n",
        "    target_len: int, số bước thời gian output của model\n",
        "\n",
        "    Trả về Tensor [target_len], dtype long/int.\n",
        "    \"\"\"\n",
        "    num_frames = labels.shape[0]\n",
        "\n",
        "    if num_frames == target_len:\n",
        "        return labels.clone()\n",
        "\n",
        "    # Convert to float và reshape [1, 1, num_frames] để dùng interpolate\n",
        "    labels_f = labels.float().unsqueeze(0).unsqueeze(0)  # [1, 1, N]\n",
        "\n",
        "    # scale_factor hoặc size\n",
        "    labels_resampled = F.interpolate(\n",
        "        labels_f, size=target_len, mode=\"linear\", align_corners=False\n",
        "    )  # [1, 1, target_len]\n",
        "\n",
        "    # Convert về long (class index), với binary thì round về 0/1\n",
        "    labels_resampled = labels_resampled.squeeze().round().long()  # [target_len]\n",
        "\n",
        "    return labels_resampled"
      ],
      "metadata": {
        "trusted": true,
        "execution": {
          "iopub.status.busy": "2025-09-02T02:52:56.655927Z",
          "iopub.execute_input": "2025-09-02T02:52:56.656536Z",
          "iopub.status.idle": "2025-09-02T02:52:56.661372Z",
          "shell.execute_reply.started": "2025-09-02T02:52:56.65651Z",
          "shell.execute_reply": "2025-09-02T02:52:56.660667Z"
        },
        "id": "zvz-Nz9AxodO"
      },
      "outputs": [],
      "execution_count": null
    },
    {
      "cell_type": "code",
      "source": [
        "import torch\n",
        "import torch.nn as nn\n",
        "from torch.utils.data import DataLoader\n",
        "from torch.nn.utils import clip_grad_norm_\n",
        "\n",
        "# ====== 1) Collate: pad waveform theo batch, giữ độ dài gốc ======\n",
        "def collate_fn(batch):\n",
        "    \"\"\"\n",
        "    batch: list of (wav, frames, labels)\n",
        "      - wav: Tensor [1, N]\n",
        "      - frames: Tensor [num_frames, frame_size] (không dùng ở train)\n",
        "      - labels: Tensor [num_frames] (0/1)\n",
        "    \"\"\"\n",
        "    wavs, frames_list, labels_list = zip(*batch)\n",
        "    lengths = torch.tensor([w.shape[-1] for w in wavs], dtype=torch.long)  # số sample gốc mỗi wav\n",
        "\n",
        "    # pad wavs về cùng độ dài (theo max_len)\n",
        "    max_len = int(lengths.max().item())\n",
        "    padded = []\n",
        "    for w in wavs:\n",
        "        if w.shape[-1] < max_len:\n",
        "            pad = torch.zeros((1, max_len - w.shape[-1]), dtype=w.dtype)\n",
        "            w = torch.cat([w, pad], dim=-1)\n",
        "        padded.append(w)\n",
        "    batch_wav = torch.stack(padded, dim=0).squeeze(1)  # [B, max_len]\n",
        "\n",
        "    return batch_wav, lengths, labels_list  # trả labels dạng list để nội suy sau"
      ],
      "metadata": {
        "trusted": true,
        "execution": {
          "iopub.status.busy": "2025-09-02T02:52:58.5923Z",
          "iopub.execute_input": "2025-09-02T02:52:58.593066Z",
          "iopub.status.idle": "2025-09-02T02:52:58.598504Z",
          "shell.execute_reply.started": "2025-09-02T02:52:58.593039Z",
          "shell.execute_reply": "2025-09-02T02:52:58.597962Z"
        },
        "id": "IhrvZBhIxodO"
      },
      "outputs": [],
      "execution_count": null
    },
    {
      "cell_type": "code",
      "source": [
        "df_test = collect_json_to_df(f'{input_path}/test')"
      ],
      "metadata": {
        "trusted": true,
        "execution": {
          "iopub.status.busy": "2025-09-02T02:53:37.766445Z",
          "iopub.execute_input": "2025-09-02T02:53:37.766799Z",
          "iopub.status.idle": "2025-09-02T02:54:25.539522Z",
          "shell.execute_reply.started": "2025-09-02T02:53:37.766777Z",
          "shell.execute_reply": "2025-09-02T02:54:25.538993Z"
        },
        "id": "Mt4uuPmMxodO"
      },
      "outputs": [],
      "execution_count": null
    },
    {
      "cell_type": "code",
      "source": [
        "df_test[df_test['id'].str.startswith('chain_mix')].sample(1)"
      ],
      "metadata": {
        "trusted": true,
        "execution": {
          "iopub.status.busy": "2025-09-02T04:12:12.113536Z",
          "iopub.execute_input": "2025-09-02T04:12:12.11419Z",
          "iopub.status.idle": "2025-09-02T04:12:12.134804Z",
          "shell.execute_reply.started": "2025-09-02T04:12:12.114167Z",
          "shell.execute_reply": "2025-09-02T04:12:12.134175Z"
        },
        "id": "Ez2m3TXfxodO",
        "outputId": "f3854605-5821-4381-e616-e330886630dd"
      },
      "outputs": [
        {
          "execution_count": 88,
          "output_type": "execute_result",
          "data": {
            "text/plain": "                       id               id_detail  \\\n24455  chain_mix_c978d06d  chain_mix_c978d06d_aug   \n\n                                              audio_path       label  \\\n24455  /kaggle/input/ddss-aug-ratio-test/test/chain_m...  non_active   \n\n           start        end  \n24455  20.035667  22.803667  ",
            "text/html": "<div>\n<style scoped>\n    .dataframe tbody tr th:only-of-type {\n        vertical-align: middle;\n    }\n\n    .dataframe tbody tr th {\n        vertical-align: top;\n    }\n\n    .dataframe thead th {\n        text-align: right;\n    }\n</style>\n<table border=\"1\" class=\"dataframe\">\n  <thead>\n    <tr style=\"text-align: right;\">\n      <th></th>\n      <th>id</th>\n      <th>id_detail</th>\n      <th>audio_path</th>\n      <th>label</th>\n      <th>start</th>\n      <th>end</th>\n    </tr>\n  </thead>\n  <tbody>\n    <tr>\n      <th>24455</th>\n      <td>chain_mix_c978d06d</td>\n      <td>chain_mix_c978d06d_aug</td>\n      <td>/kaggle/input/ddss-aug-ratio-test/test/chain_m...</td>\n      <td>non_active</td>\n      <td>20.035667</td>\n      <td>22.803667</td>\n    </tr>\n  </tbody>\n</table>\n</div>"
          },
          "metadata": {}
        }
      ],
      "execution_count": null
    },
    {
      "cell_type": "code",
      "source": [
        "test_dataset = DDSSDataset(df_test, key = 'id_detail')"
      ],
      "metadata": {
        "trusted": true,
        "execution": {
          "iopub.status.busy": "2025-09-02T02:56:29.095579Z",
          "iopub.execute_input": "2025-09-02T02:56:29.096305Z",
          "iopub.status.idle": "2025-09-02T02:56:29.116452Z",
          "shell.execute_reply.started": "2025-09-02T02:56:29.09627Z",
          "shell.execute_reply": "2025-09-02T02:56:29.115761Z"
        },
        "id": "DYU2WyR4xodO"
      },
      "outputs": [],
      "execution_count": null
    },
    {
      "cell_type": "code",
      "source": [
        "import random\n",
        "\n",
        "# Lọc những sample có ID bắt đầu bằng \"chain_mix\"\n",
        "candidates = [sample for sample in test_dataset if sample[-1].startswith(\"chain_mix\")]"
      ],
      "metadata": {
        "trusted": true,
        "id": "c1A5oaqFxodP"
      },
      "outputs": [],
      "execution_count": null
    },
    {
      "cell_type": "code",
      "source": [
        "# Nếu có phần tử thì chọn ngẫu nhiên một cái\n",
        "if candidates:\n",
        "    random_sample = random.choice(candidates)\n",
        "    print(random_sample)\n",
        "else:\n",
        "    print(\"Không có sample nào bắt đầu bằng 'chain_mix'\")\n"
      ],
      "metadata": {
        "trusted": true,
        "execution": {
          "iopub.status.busy": "2025-09-02T04:21:05.296828Z",
          "iopub.execute_input": "2025-09-02T04:21:05.297342Z",
          "iopub.status.idle": "2025-09-02T04:24:56.422216Z",
          "shell.execute_reply.started": "2025-09-02T04:21:05.29731Z",
          "shell.execute_reply": "2025-09-02T04:24:56.421651Z"
        },
        "id": "8PkX8-NUxodP",
        "outputId": "d827b45b-85d3-4a06-84e6-ff082445112f"
      },
      "outputs": [
        {
          "name": "stdout",
          "text": "(tensor([[-3.0518e-05, -6.1035e-05, -3.0518e-05,  ...,  5.9082e-02,\n          6.0333e-02, -1.0101e-02]]), tensor([[-3.0518e-05, -6.1035e-05, -3.0518e-05,  ..., -3.0518e-05,\n         -6.1035e-05, -3.0518e-05],\n        [-3.0518e-05, -6.1035e-05, -3.0518e-05,  ..., -3.0518e-05,\n         -3.0518e-05, -3.0518e-05],\n        [-6.1035e-05, -6.1035e-05, -3.0518e-05,  ...,  0.0000e+00,\n         -3.0518e-05,  0.0000e+00],\n        ...,\n        [-1.7120e-02, -1.4923e-02, -1.3000e-02,  ..., -3.1128e-03,\n         -3.5400e-03, -3.4485e-03],\n        [-9.9182e-03, -1.0254e-02, -1.1353e-02,  ...,  4.1199e-03,\n          2.7161e-03,  9.4604e-04],\n        [ 1.4099e-02,  1.3672e-02,  1.2695e-02,  ..., -9.1553e-05,\n         -1.0071e-03, -1.6479e-03]]), tensor([1, 1, 1,  ..., 0, 0, 0]), 'chain_mix_aca84c67_aug0-0')\n",
          "output_type": "stream"
        }
      ],
      "execution_count": null
    },
    {
      "cell_type": "markdown",
      "source": [
        "# Infer"
      ],
      "metadata": {
        "id": "8URGZIxzxodP"
      }
    },
    {
      "cell_type": "code",
      "source": [
        "import pandas as pd\n",
        "import torch\n",
        "import numpy as np\n",
        "\n",
        "def get_pred_time(seq, frame_len=0.025, hop_len=0.01):\n",
        "    \"\"\"\n",
        "    seq: np.array hoặc torch.Tensor gồm 0/1 (binary sequence)\n",
        "    frame_len: độ dài frame (s)\n",
        "    hop_len: bước nhảy giữa các frame (s)\n",
        "    return: list dict [{start: float, end: float}, ...] theo giây\n",
        "    \"\"\"\n",
        "    seq = seq.cpu().numpy() if isinstance(seq, torch.Tensor) else seq\n",
        "    pred_times = []\n",
        "    in_event = False\n",
        "    start = None\n",
        "\n",
        "    for i, v in enumerate(seq):\n",
        "        if v == 1 and not in_event:\n",
        "            in_event = True\n",
        "            start = i\n",
        "        elif v == 0 and in_event:\n",
        "            in_event = False\n",
        "            # convert sang giây\n",
        "            start_time = start * hop_len\n",
        "            end_time = (i - 1) * hop_len + frame_len\n",
        "            pred_times.append({\"start\": round(start_time, 3), \"end\": round(end_time, 3)})\n",
        "\n",
        "    # kết thúc ở cuối\n",
        "    if in_event:\n",
        "        start_time = start * hop_len\n",
        "        end_time = (len(seq) - 1) * hop_len + frame_len\n",
        "        pred_times.append({\"start\": round(start_time, 3), \"end\": round(end_time, 3)})\n",
        "\n",
        "    return pred_times\n",
        "\n",
        "from tqdm import tqdm\n",
        "\n",
        "def infer_and_save(model, dataset, threshold=0.5, device=\"cuda\"):\n",
        "    model.eval()\n",
        "    model.to(device)\n",
        "    records = []\n",
        "    with torch.no_grad():\n",
        "        for wav, frames, labels, id_f in tqdm(dataset, desc=\"Inferencing\", unit=\"batch\"):\n",
        "            wav = wav.to(device)\n",
        "            outputs = model(wav)\n",
        "\n",
        "            outputs_resampled = label_resampler(outputs.squeeze(0), labels.shape[-1]).unsqueeze(0).to(device)\n",
        "            probs = torch.sigmoid(outputs_resampled).squeeze(0).cpu().numpy()\n",
        "            preds = (probs > threshold).astype(int)\n",
        "\n",
        "            pred_time = get_pred_time(preds)\n",
        "\n",
        "            records.append({\n",
        "                \"outputs\": probs,\n",
        "                \"preds\": preds,\n",
        "                \"labels\": labels.numpy(),\n",
        "                \"pred_time\": pred_time,\n",
        "                \"text\": None,   # tạm placeholder\n",
        "                \"id\": id_f\n",
        "            })\n",
        "\n",
        "    df = pd.DataFrame(records)\n",
        "    return df\n",
        "\n"
      ],
      "metadata": {
        "trusted": true,
        "execution": {
          "iopub.status.busy": "2025-09-02T02:57:36.465325Z",
          "iopub.execute_input": "2025-09-02T02:57:36.465825Z",
          "iopub.status.idle": "2025-09-02T02:57:36.474711Z",
          "shell.execute_reply.started": "2025-09-02T02:57:36.465797Z",
          "shell.execute_reply": "2025-09-02T02:57:36.474146Z"
        },
        "id": "_leSVLfaxodP"
      },
      "outputs": [],
      "execution_count": null
    },
    {
      "cell_type": "code",
      "source": [
        "df_res = infer_and_save(model, test_dataset,)"
      ],
      "metadata": {
        "trusted": true,
        "execution": {
          "iopub.status.busy": "2025-09-02T02:57:37.609407Z",
          "iopub.execute_input": "2025-09-02T02:57:37.609754Z",
          "iopub.status.idle": "2025-09-02T03:14:03.910215Z",
          "shell.execute_reply.started": "2025-09-02T02:57:37.609729Z",
          "shell.execute_reply": "2025-09-02T03:14:03.909579Z"
        },
        "id": "ANJHXt0yxodP",
        "outputId": "0fbc8065-16d2-4bd8-e98a-7b03b6f8c48b"
      },
      "outputs": [
        {
          "name": "stderr",
          "text": "Inferencing: 100%|██████████| 15834/15834 [16:26<00:00, 16.05batch/s]\n",
          "output_type": "stream"
        }
      ],
      "execution_count": null
    },
    {
      "cell_type": "code",
      "source": [
        "df_res.to_csv('test_infer.csv', index = False)"
      ],
      "metadata": {
        "trusted": true,
        "execution": {
          "iopub.status.busy": "2025-09-02T03:14:08.225953Z",
          "iopub.execute_input": "2025-09-02T03:14:08.226637Z",
          "iopub.status.idle": "2025-09-02T03:14:48.908112Z",
          "shell.execute_reply.started": "2025-09-02T03:14:08.226599Z",
          "shell.execute_reply": "2025-09-02T03:14:48.907509Z"
        },
        "id": "wORsMIA3xodP"
      },
      "outputs": [],
      "execution_count": null
    },
    {
      "cell_type": "code",
      "source": [
        "df_res.to_json(\"test_infer.json\", orient='records', force_ascii=False)"
      ],
      "metadata": {
        "trusted": true,
        "execution": {
          "iopub.status.busy": "2025-09-02T03:14:50.159173Z",
          "iopub.execute_input": "2025-09-02T03:14:50.159874Z",
          "iopub.status.idle": "2025-09-02T03:14:52.909107Z",
          "shell.execute_reply.started": "2025-09-02T03:14:50.15985Z",
          "shell.execute_reply": "2025-09-02T03:14:52.908483Z"
        },
        "id": "MGg0MFSSxodP"
      },
      "outputs": [],
      "execution_count": null
    },
    {
      "cell_type": "code",
      "source": [
        "import numpy as np\n",
        "import pandas as pd\n",
        "from sklearn.metrics import roc_curve\n",
        "\n",
        "def compute_eer(df: pd.DataFrame, preds_col='preds', labels_col='labels') -> float:\n",
        "    \"\"\"\n",
        "    Tính Equal Error Rate (EER) từ DataFrame có cột preds và labels,\n",
        "    mỗi dòng chứa 1 array (numpy array hoặc list).\n",
        "\n",
        "    Args:\n",
        "        df (pd.DataFrame): gồm 2 cột 'preds' và 'labels'\n",
        "\n",
        "    Returns:\n",
        "        float: EER\n",
        "    \"\"\"\n",
        "    # Ghép tất cả mảng thành 1D vector\n",
        "    all_preds = np.concatenate(df[preds_col].to_numpy())\n",
        "    all_labels = np.concatenate(df[labels_col].to_numpy())\n",
        "\n",
        "    # Trick: luôn thêm 1 giá trị 0 và 1 để tránh lỗi \"Only one class present\"\n",
        "    all_preds = np.append(all_preds, [0.5, 0.5])   # giá trị dự đoán trung tính\n",
        "    all_labels = np.append(all_labels, [0, 1])     # đảm bảo có cả 0 và 1\n",
        "\n",
        "    # ROC curve\n",
        "    fpr, tpr, thresholds = roc_curve(all_labels, all_preds)\n",
        "    fnr = 1 - tpr\n",
        "\n",
        "    # Chọn điểm EER\n",
        "    idx = np.nanargmin(np.abs(fnr - fpr))\n",
        "    eer = (fpr[idx] + fnr[idx]) / 2  # thường lấy trung bình\n",
        "    return eer\n"
      ],
      "metadata": {
        "trusted": true,
        "execution": {
          "iopub.status.busy": "2025-09-02T03:14:55.917023Z",
          "iopub.execute_input": "2025-09-02T03:14:55.917598Z",
          "iopub.status.idle": "2025-09-02T03:14:56.621043Z",
          "shell.execute_reply.started": "2025-09-02T03:14:55.917572Z",
          "shell.execute_reply": "2025-09-02T03:14:56.62045Z"
        },
        "id": "xL753jKUxodP"
      },
      "outputs": [],
      "execution_count": null
    },
    {
      "cell_type": "code",
      "source": [
        "compute_eer(df_res)"
      ],
      "metadata": {
        "trusted": true,
        "execution": {
          "iopub.status.busy": "2025-09-02T03:14:57.413045Z",
          "iopub.execute_input": "2025-09-02T03:14:57.413454Z",
          "iopub.status.idle": "2025-09-02T03:14:58.148443Z",
          "shell.execute_reply.started": "2025-09-02T03:14:57.413432Z",
          "shell.execute_reply": "2025-09-02T03:14:58.147717Z"
        },
        "id": "rnj5ECD7xodQ",
        "outputId": "16a9da7c-5161-4ad4-cc2d-7529eca250c2"
      },
      "outputs": [
        {
          "execution_count": 20,
          "output_type": "execute_result",
          "data": {
            "text/plain": "0.135679271123248"
          },
          "metadata": {}
        }
      ],
      "execution_count": null
    },
    {
      "cell_type": "code",
      "source": [
        "import numpy as np\n",
        "import pandas as pd\n",
        "from sklearn.metrics import precision_score, recall_score, f1_score\n",
        "\n",
        "def compute_prf(df: pd.DataFrame, threshold: float = 0.5, preds_col = 'preds', labels_col = 'labels'):\n",
        "    \"\"\"\n",
        "    Tính Precision, Recall, F1 theo 2 cách: micro (concat) và macro (trung bình trên từng dòng).\n",
        "\n",
        "    Args:\n",
        "        df (pd.DataFrame): gồm 2 cột 'preds' và 'labels', mỗi dòng là array\n",
        "        threshold (float): ngưỡng để binarize nếu preds là xác suất\n",
        "\n",
        "    Returns:\n",
        "        dict: {\n",
        "            \"micro\": {\"precision\": ..., \"recall\": ..., \"f1\": ...},\n",
        "            \"macro\": {\"precision\": ..., \"recall\": ..., \"f1\": ...}\n",
        "        }\n",
        "    \"\"\"\n",
        "    # ===== MICRO (concat tất cả) =====\n",
        "    all_preds = np.concatenate(df[preds_col].to_numpy())\n",
        "    all_labels = np.concatenate(df[labels_col].to_numpy())\n",
        "\n",
        "    # Nếu preds không phải nhị phân thì binarize\n",
        "    if np.any((all_preds != 0) & (all_preds != 1)):\n",
        "        bin_preds = (all_preds >= threshold).astype(int)\n",
        "    else:\n",
        "        bin_preds = all_preds.astype(int)\n",
        "\n",
        "    micro_results = {\n",
        "        \"precision\": precision_score(all_labels, bin_preds, zero_division=0),\n",
        "        \"recall\": recall_score(all_labels, bin_preds, zero_division=0),\n",
        "        \"f1\": f1_score(all_labels, bin_preds, zero_division=0),\n",
        "    }\n",
        "\n",
        "    # ===== MACRO (từng dòng rồi trung bình) =====\n",
        "    precisions, recalls, f1s = [], [], []\n",
        "    for p, l in zip(df[preds_col], df[labels_col]):\n",
        "        p = np.array(p)\n",
        "        l = np.array(l)\n",
        "        if np.any((p != 0) & (p != 1)):\n",
        "            p_bin = (p >= threshold).astype(int)\n",
        "        else:\n",
        "            p_bin = p.astype(int)\n",
        "\n",
        "        precisions.append(precision_score(l, p_bin, zero_division=0))\n",
        "        recalls.append(recall_score(l, p_bin, zero_division=0))\n",
        "        f1s.append(f1_score(l, p_bin, zero_division=0))\n",
        "\n",
        "    macro_results = {\n",
        "        \"precision\": float(np.mean(precisions)),\n",
        "        \"recall\": float(np.mean(recalls)),\n",
        "        \"f1\": float(np.mean(f1s)),\n",
        "    }\n",
        "\n",
        "    return {\"micro\": micro_results, \"macro\": macro_results}\n",
        "\n"
      ],
      "metadata": {
        "trusted": true,
        "execution": {
          "iopub.status.busy": "2025-09-02T03:15:05.266687Z",
          "iopub.execute_input": "2025-09-02T03:15:05.267138Z",
          "iopub.status.idle": "2025-09-02T03:15:05.274824Z",
          "shell.execute_reply.started": "2025-09-02T03:15:05.267115Z",
          "shell.execute_reply": "2025-09-02T03:15:05.274159Z"
        },
        "id": "y3mpJLCtxodQ"
      },
      "outputs": [],
      "execution_count": null
    },
    {
      "cell_type": "code",
      "source": [
        "res_prf = compute_prf(df_res)"
      ],
      "metadata": {
        "trusted": true,
        "execution": {
          "iopub.status.busy": "2025-09-02T03:15:07.596304Z",
          "iopub.execute_input": "2025-09-02T03:15:07.596951Z",
          "iopub.status.idle": "2025-09-02T03:16:00.912039Z",
          "shell.execute_reply.started": "2025-09-02T03:15:07.596925Z",
          "shell.execute_reply": "2025-09-02T03:16:00.911259Z"
        },
        "id": "S07ele00xodQ"
      },
      "outputs": [],
      "execution_count": null
    },
    {
      "cell_type": "code",
      "source": [
        "res_prf"
      ],
      "metadata": {
        "trusted": true,
        "execution": {
          "iopub.status.busy": "2025-09-02T03:16:36.776886Z",
          "iopub.execute_input": "2025-09-02T03:16:36.777454Z",
          "iopub.status.idle": "2025-09-02T03:16:36.78218Z",
          "shell.execute_reply.started": "2025-09-02T03:16:36.777428Z",
          "shell.execute_reply": "2025-09-02T03:16:36.781466Z"
        },
        "id": "JmLdlIzbxodQ",
        "outputId": "953eb380-01a6-46ec-a389-5b4258bf34ea"
      },
      "outputs": [
        {
          "execution_count": 23,
          "output_type": "execute_result",
          "data": {
            "text/plain": "{'micro': {'precision': 0.764844636390546,\n  'recall': 0.8184551219802985,\n  'f1': 0.7907422544131787},\n 'macro': {'precision': 0.5657718630485901,\n  'recall': 0.6209272191977883,\n  'f1': 0.5683571252593479}}"
          },
          "metadata": {}
        }
      ],
      "execution_count": null
    },
    {
      "cell_type": "code",
      "source": [
        "import numpy as np\n",
        "import pandas as pd\n",
        "from sklearn.metrics import precision_score, recall_score, f1_score\n",
        "\n",
        "def add_prf_per_row(df: pd.DataFrame, threshold: float = 0.5) -> pd.DataFrame:\n",
        "    \"\"\"\n",
        "    Thêm cột precision, recall, f1 cho từng dòng của DataFrame.\n",
        "\n",
        "    Args:\n",
        "        df (pd.DataFrame): gồm 2 cột 'preds' và 'labels', mỗi dòng là array\n",
        "        threshold (float): ngưỡng để binarize nếu preds là xác suất\n",
        "\n",
        "    Returns:\n",
        "        pd.DataFrame: DataFrame có thêm cột 'precision', 'recall', 'f1'\n",
        "    \"\"\"\n",
        "    precisions, recalls, f1s = [], [], []\n",
        "\n",
        "    for p, l in zip(df[\"preds\"], df[\"labels\"]):\n",
        "        p = np.array(p)\n",
        "        l = np.array(l)\n",
        "\n",
        "        # Nếu preds không phải nhị phân thì binarize\n",
        "        if np.any((p != 0) & (p != 1)):\n",
        "            p_bin = (p >= threshold).astype(int)\n",
        "        else:\n",
        "            p_bin = p.astype(int)\n",
        "\n",
        "        precisions.append(precision_score(l, p_bin, zero_division=0))\n",
        "        recalls.append(recall_score(l, p_bin, zero_division=0))\n",
        "        f1s.append(f1_score(l, p_bin, zero_division=0))\n",
        "\n",
        "    df = df.copy()\n",
        "    df[\"precision\"] = precisions\n",
        "    df[\"recall\"] = recalls\n",
        "    df[\"f1\"] = f1s\n",
        "\n",
        "    return df\n",
        "\n",
        "df_res_prf = add_prf_per_row(df_res)"
      ],
      "metadata": {
        "trusted": true,
        "execution": {
          "iopub.status.busy": "2025-09-02T03:17:23.329919Z",
          "iopub.execute_input": "2025-09-02T03:17:23.330198Z",
          "iopub.status.idle": "2025-09-02T03:18:10.569123Z",
          "shell.execute_reply.started": "2025-09-02T03:17:23.330176Z",
          "shell.execute_reply": "2025-09-02T03:18:10.568532Z"
        },
        "id": "aGPyP5xbxodQ"
      },
      "outputs": [],
      "execution_count": null
    },
    {
      "cell_type": "code",
      "source": [
        "df_res_prf.head()"
      ],
      "metadata": {
        "trusted": true,
        "execution": {
          "iopub.status.busy": "2025-09-02T03:18:10.570074Z",
          "iopub.execute_input": "2025-09-02T03:18:10.570279Z",
          "iopub.status.idle": "2025-09-02T03:18:10.590744Z",
          "shell.execute_reply.started": "2025-09-02T03:18:10.570262Z",
          "shell.execute_reply": "2025-09-02T03:18:10.590108Z"
        },
        "id": "-vmrIdAkxodQ",
        "outputId": "ca4997e0-c0be-4589-f7df-2006ff445ae8"
      },
      "outputs": [
        {
          "execution_count": 25,
          "output_type": "execute_result",
          "data": {
            "text/plain": "                                             outputs  \\\n0  [0.99966466, 0.9998766, 0.9998766, 0.9999546, ...   \n1  [0.047425874, 0.047425874, 0.047425874, 0.0474...   \n2  [0.9933072, 0.9933072, 0.9933072, 0.9933072, 0...   \n3  [0.99966466, 0.99966466, 0.9998766, 0.9998766,...   \n4  [0.99966466, 0.99966466, 0.9998766, 0.9998766,...   \n\n                                               preds  \\\n0  [1, 1, 1, 1, 1, 1, 1, 1, 1, 1, 1, 1, 1, 1, 1, ...   \n1  [0, 0, 0, 0, 0, 0, 0, 0, 0, 0, 0, 0, 0, 0, 0, ...   \n2  [1, 1, 1, 1, 1, 1, 1, 1, 1, 1, 1, 1, 1, 1, 1, ...   \n3  [1, 1, 1, 1, 1, 1, 1, 1, 1, 1, 1, 1, 1, 1, 1, ...   \n4  [1, 1, 1, 1, 1, 1, 1, 1, 1, 1, 1, 1, 1, 1, 1, ...   \n\n                                              labels  \\\n0  [1, 1, 1, 1, 1, 1, 1, 1, 1, 1, 1, 1, 1, 1, 1, ...   \n1  [0, 0, 0, 0, 0, 0, 0, 0, 0, 0, 0, 0, 0, 0, 0, ...   \n2  [0, 0, 0, 0, 0, 0, 0, 0, 0, 0, 0, 0, 0, 0, 0, ...   \n3  [1, 1, 1, 1, 1, 1, 1, 1, 1, 1, 1, 1, 1, 1, 1, ...   \n4  [1, 1, 1, 1, 1, 1, 1, 1, 1, 1, 1, 1, 1, 1, 1, ...   \n\n                         pred_time  text                             id  \\\n0   [{'start': 0.0, 'end': 1.345}]  None  single_active_bd116cf7_aug0-3   \n1  [{'start': 1.55, 'end': 3.125}]  None  single_active_bd116cf7_aug0-1   \n2   [{'start': 0.0, 'end': 2.345}]  None  single_active_bd116cf7_aug3-4   \n3   [{'start': 0.0, 'end': 2.255}]  None  single_active_bd116cf7_aug0-0   \n4   [{'start': 0.0, 'end': 2.805}]  None  single_active_bd116cf7_aug1-3   \n\n   precision  recall        f1  \n0   1.000000     1.0  1.000000  \n1   0.858974     1.0  0.924138  \n2   0.579399     1.0  0.733696  \n3   0.602679     1.0  0.752089  \n4   0.483871     1.0  0.652174  ",
            "text/html": "<div>\n<style scoped>\n    .dataframe tbody tr th:only-of-type {\n        vertical-align: middle;\n    }\n\n    .dataframe tbody tr th {\n        vertical-align: top;\n    }\n\n    .dataframe thead th {\n        text-align: right;\n    }\n</style>\n<table border=\"1\" class=\"dataframe\">\n  <thead>\n    <tr style=\"text-align: right;\">\n      <th></th>\n      <th>outputs</th>\n      <th>preds</th>\n      <th>labels</th>\n      <th>pred_time</th>\n      <th>text</th>\n      <th>id</th>\n      <th>precision</th>\n      <th>recall</th>\n      <th>f1</th>\n    </tr>\n  </thead>\n  <tbody>\n    <tr>\n      <th>0</th>\n      <td>[0.99966466, 0.9998766, 0.9998766, 0.9999546, ...</td>\n      <td>[1, 1, 1, 1, 1, 1, 1, 1, 1, 1, 1, 1, 1, 1, 1, ...</td>\n      <td>[1, 1, 1, 1, 1, 1, 1, 1, 1, 1, 1, 1, 1, 1, 1, ...</td>\n      <td>[{'start': 0.0, 'end': 1.345}]</td>\n      <td>None</td>\n      <td>single_active_bd116cf7_aug0-3</td>\n      <td>1.000000</td>\n      <td>1.0</td>\n      <td>1.000000</td>\n    </tr>\n    <tr>\n      <th>1</th>\n      <td>[0.047425874, 0.047425874, 0.047425874, 0.0474...</td>\n      <td>[0, 0, 0, 0, 0, 0, 0, 0, 0, 0, 0, 0, 0, 0, 0, ...</td>\n      <td>[0, 0, 0, 0, 0, 0, 0, 0, 0, 0, 0, 0, 0, 0, 0, ...</td>\n      <td>[{'start': 1.55, 'end': 3.125}]</td>\n      <td>None</td>\n      <td>single_active_bd116cf7_aug0-1</td>\n      <td>0.858974</td>\n      <td>1.0</td>\n      <td>0.924138</td>\n    </tr>\n    <tr>\n      <th>2</th>\n      <td>[0.9933072, 0.9933072, 0.9933072, 0.9933072, 0...</td>\n      <td>[1, 1, 1, 1, 1, 1, 1, 1, 1, 1, 1, 1, 1, 1, 1, ...</td>\n      <td>[0, 0, 0, 0, 0, 0, 0, 0, 0, 0, 0, 0, 0, 0, 0, ...</td>\n      <td>[{'start': 0.0, 'end': 2.345}]</td>\n      <td>None</td>\n      <td>single_active_bd116cf7_aug3-4</td>\n      <td>0.579399</td>\n      <td>1.0</td>\n      <td>0.733696</td>\n    </tr>\n    <tr>\n      <th>3</th>\n      <td>[0.99966466, 0.99966466, 0.9998766, 0.9998766,...</td>\n      <td>[1, 1, 1, 1, 1, 1, 1, 1, 1, 1, 1, 1, 1, 1, 1, ...</td>\n      <td>[1, 1, 1, 1, 1, 1, 1, 1, 1, 1, 1, 1, 1, 1, 1, ...</td>\n      <td>[{'start': 0.0, 'end': 2.255}]</td>\n      <td>None</td>\n      <td>single_active_bd116cf7_aug0-0</td>\n      <td>0.602679</td>\n      <td>1.0</td>\n      <td>0.752089</td>\n    </tr>\n    <tr>\n      <th>4</th>\n      <td>[0.99966466, 0.99966466, 0.9998766, 0.9998766,...</td>\n      <td>[1, 1, 1, 1, 1, 1, 1, 1, 1, 1, 1, 1, 1, 1, 1, ...</td>\n      <td>[1, 1, 1, 1, 1, 1, 1, 1, 1, 1, 1, 1, 1, 1, 1, ...</td>\n      <td>[{'start': 0.0, 'end': 2.805}]</td>\n      <td>None</td>\n      <td>single_active_bd116cf7_aug1-3</td>\n      <td>0.483871</td>\n      <td>1.0</td>\n      <td>0.652174</td>\n    </tr>\n  </tbody>\n</table>\n</div>"
          },
          "metadata": {}
        }
      ],
      "execution_count": null
    },
    {
      "cell_type": "code",
      "source": [
        "merge_ana = pd.merge(df_res_prf, df_info, on = 'id')"
      ],
      "metadata": {
        "trusted": true,
        "execution": {
          "iopub.status.busy": "2025-09-02T03:18:19.821498Z",
          "iopub.execute_input": "2025-09-02T03:18:19.822175Z",
          "iopub.status.idle": "2025-09-02T03:18:19.876331Z",
          "shell.execute_reply.started": "2025-09-02T03:18:19.82215Z",
          "shell.execute_reply": "2025-09-02T03:18:19.875647Z"
        },
        "id": "sZhJS8IzxodQ"
      },
      "outputs": [],
      "execution_count": null
    },
    {
      "cell_type": "code",
      "source": [
        "merge_ana.head()"
      ],
      "metadata": {
        "trusted": true,
        "execution": {
          "iopub.status.busy": "2025-09-02T03:18:21.154547Z",
          "iopub.execute_input": "2025-09-02T03:18:21.155192Z",
          "iopub.status.idle": "2025-09-02T03:18:21.180911Z",
          "shell.execute_reply.started": "2025-09-02T03:18:21.155168Z",
          "shell.execute_reply": "2025-09-02T03:18:21.18007Z"
        },
        "id": "wIQAraEkxodR",
        "outputId": "b56c3373-fa0b-40dd-b99f-7e327a29042d"
      },
      "outputs": [
        {
          "execution_count": 27,
          "output_type": "execute_result",
          "data": {
            "text/plain": "                                             outputs  \\\n0  [0.99966466, 0.9998766, 0.9998766, 0.9999546, ...   \n1  [0.047425874, 0.047425874, 0.047425874, 0.0474...   \n2  [0.9933072, 0.9933072, 0.9933072, 0.9933072, 0...   \n3  [0.99966466, 0.99966466, 0.9998766, 0.9998766,...   \n4  [0.99966466, 0.99966466, 0.9998766, 0.9998766,...   \n\n                                               preds  \\\n0  [1, 1, 1, 1, 1, 1, 1, 1, 1, 1, 1, 1, 1, 1, 1, ...   \n1  [0, 0, 0, 0, 0, 0, 0, 0, 0, 0, 0, 0, 0, 0, 0, ...   \n2  [1, 1, 1, 1, 1, 1, 1, 1, 1, 1, 1, 1, 1, 1, 1, ...   \n3  [1, 1, 1, 1, 1, 1, 1, 1, 1, 1, 1, 1, 1, 1, 1, ...   \n4  [1, 1, 1, 1, 1, 1, 1, 1, 1, 1, 1, 1, 1, 1, 1, ...   \n\n                                            labels_x  \\\n0  [1, 1, 1, 1, 1, 1, 1, 1, 1, 1, 1, 1, 1, 1, 1, ...   \n1  [0, 0, 0, 0, 0, 0, 0, 0, 0, 0, 0, 0, 0, 0, 0, ...   \n2  [0, 0, 0, 0, 0, 0, 0, 0, 0, 0, 0, 0, 0, 0, 0, ...   \n3  [1, 1, 1, 1, 1, 1, 1, 1, 1, 1, 1, 1, 1, 1, 1, ...   \n4  [1, 1, 1, 1, 1, 1, 1, 1, 1, 1, 1, 1, 1, 1, 1, ...   \n\n                         pred_time  text                             id  \\\n0   [{'start': 0.0, 'end': 1.345}]  None  single_active_bd116cf7_aug0-3   \n1  [{'start': 1.55, 'end': 3.125}]  None  single_active_bd116cf7_aug0-1   \n2   [{'start': 0.0, 'end': 2.345}]  None  single_active_bd116cf7_aug3-4   \n3   [{'start': 0.0, 'end': 2.255}]  None  single_active_bd116cf7_aug0-0   \n4   [{'start': 0.0, 'end': 2.805}]  None  single_active_bd116cf7_aug1-3   \n\n   precision  recall        f1  \\\n0   1.000000     1.0  1.000000   \n1   0.858974     1.0  0.924138   \n2   0.579399     1.0  0.733696   \n3   0.602679     1.0  0.752089   \n4   0.483871     1.0  0.652174   \n\n                                          clean_path  \\\n0  /content/concat_speech/sample/single_active_bd...   \n1  /content/concat_speech/sample/single_active_bd...   \n2  /content/concat_speech/sample/single_active_bd...   \n3  /content/concat_speech/sample/single_active_bd...   \n4  /content/concat_speech/sample/single_active_bd...   \n\n                                          noise_path     mode     snr_db  \\\n0  /content/musan/speech/librivox/speech-librivox...  overlap  13.815666   \n1  /content/musan/speech/librivox/speech-librivox...  prepend   0.609248   \n2  /content/musan/speech/us-gov/speech-us-gov-004...  prepend  15.549012   \n3  /content/musan/speech/librivox/speech-librivox...   append  -2.075359   \n4  /content/musan/speech/us-gov/speech-us-gov-000...   append  12.808796   \n\n                                            labels_y  \n0  [{'label': 'active', 'start': 0.0, 'end': 1.348}]  \n1  [{'label': 'active', 'start': 1.78544425099277...  \n2  [{'label': 'active', 'start': 1.0, 'end': 2.34...  \n3  [{'label': 'active', 'start': 0.0, 'end': 1.34...  \n4  [{'label': 'active', 'start': 0.0, 'end': 1.34...  ",
            "text/html": "<div>\n<style scoped>\n    .dataframe tbody tr th:only-of-type {\n        vertical-align: middle;\n    }\n\n    .dataframe tbody tr th {\n        vertical-align: top;\n    }\n\n    .dataframe thead th {\n        text-align: right;\n    }\n</style>\n<table border=\"1\" class=\"dataframe\">\n  <thead>\n    <tr style=\"text-align: right;\">\n      <th></th>\n      <th>outputs</th>\n      <th>preds</th>\n      <th>labels_x</th>\n      <th>pred_time</th>\n      <th>text</th>\n      <th>id</th>\n      <th>precision</th>\n      <th>recall</th>\n      <th>f1</th>\n      <th>clean_path</th>\n      <th>noise_path</th>\n      <th>mode</th>\n      <th>snr_db</th>\n      <th>labels_y</th>\n    </tr>\n  </thead>\n  <tbody>\n    <tr>\n      <th>0</th>\n      <td>[0.99966466, 0.9998766, 0.9998766, 0.9999546, ...</td>\n      <td>[1, 1, 1, 1, 1, 1, 1, 1, 1, 1, 1, 1, 1, 1, 1, ...</td>\n      <td>[1, 1, 1, 1, 1, 1, 1, 1, 1, 1, 1, 1, 1, 1, 1, ...</td>\n      <td>[{'start': 0.0, 'end': 1.345}]</td>\n      <td>None</td>\n      <td>single_active_bd116cf7_aug0-3</td>\n      <td>1.000000</td>\n      <td>1.0</td>\n      <td>1.000000</td>\n      <td>/content/concat_speech/sample/single_active_bd...</td>\n      <td>/content/musan/speech/librivox/speech-librivox...</td>\n      <td>overlap</td>\n      <td>13.815666</td>\n      <td>[{'label': 'active', 'start': 0.0, 'end': 1.348}]</td>\n    </tr>\n    <tr>\n      <th>1</th>\n      <td>[0.047425874, 0.047425874, 0.047425874, 0.0474...</td>\n      <td>[0, 0, 0, 0, 0, 0, 0, 0, 0, 0, 0, 0, 0, 0, 0, ...</td>\n      <td>[0, 0, 0, 0, 0, 0, 0, 0, 0, 0, 0, 0, 0, 0, 0, ...</td>\n      <td>[{'start': 1.55, 'end': 3.125}]</td>\n      <td>None</td>\n      <td>single_active_bd116cf7_aug0-1</td>\n      <td>0.858974</td>\n      <td>1.0</td>\n      <td>0.924138</td>\n      <td>/content/concat_speech/sample/single_active_bd...</td>\n      <td>/content/musan/speech/librivox/speech-librivox...</td>\n      <td>prepend</td>\n      <td>0.609248</td>\n      <td>[{'label': 'active', 'start': 1.78544425099277...</td>\n    </tr>\n    <tr>\n      <th>2</th>\n      <td>[0.9933072, 0.9933072, 0.9933072, 0.9933072, 0...</td>\n      <td>[1, 1, 1, 1, 1, 1, 1, 1, 1, 1, 1, 1, 1, 1, 1, ...</td>\n      <td>[0, 0, 0, 0, 0, 0, 0, 0, 0, 0, 0, 0, 0, 0, 0, ...</td>\n      <td>[{'start': 0.0, 'end': 2.345}]</td>\n      <td>None</td>\n      <td>single_active_bd116cf7_aug3-4</td>\n      <td>0.579399</td>\n      <td>1.0</td>\n      <td>0.733696</td>\n      <td>/content/concat_speech/sample/single_active_bd...</td>\n      <td>/content/musan/speech/us-gov/speech-us-gov-004...</td>\n      <td>prepend</td>\n      <td>15.549012</td>\n      <td>[{'label': 'active', 'start': 1.0, 'end': 2.34...</td>\n    </tr>\n    <tr>\n      <th>3</th>\n      <td>[0.99966466, 0.99966466, 0.9998766, 0.9998766,...</td>\n      <td>[1, 1, 1, 1, 1, 1, 1, 1, 1, 1, 1, 1, 1, 1, 1, ...</td>\n      <td>[1, 1, 1, 1, 1, 1, 1, 1, 1, 1, 1, 1, 1, 1, 1, ...</td>\n      <td>[{'start': 0.0, 'end': 2.255}]</td>\n      <td>None</td>\n      <td>single_active_bd116cf7_aug0-0</td>\n      <td>0.602679</td>\n      <td>1.0</td>\n      <td>0.752089</td>\n      <td>/content/concat_speech/sample/single_active_bd...</td>\n      <td>/content/musan/speech/librivox/speech-librivox...</td>\n      <td>append</td>\n      <td>-2.075359</td>\n      <td>[{'label': 'active', 'start': 0.0, 'end': 1.34...</td>\n    </tr>\n    <tr>\n      <th>4</th>\n      <td>[0.99966466, 0.99966466, 0.9998766, 0.9998766,...</td>\n      <td>[1, 1, 1, 1, 1, 1, 1, 1, 1, 1, 1, 1, 1, 1, 1, ...</td>\n      <td>[1, 1, 1, 1, 1, 1, 1, 1, 1, 1, 1, 1, 1, 1, 1, ...</td>\n      <td>[{'start': 0.0, 'end': 2.805}]</td>\n      <td>None</td>\n      <td>single_active_bd116cf7_aug1-3</td>\n      <td>0.483871</td>\n      <td>1.0</td>\n      <td>0.652174</td>\n      <td>/content/concat_speech/sample/single_active_bd...</td>\n      <td>/content/musan/speech/us-gov/speech-us-gov-000...</td>\n      <td>append</td>\n      <td>12.808796</td>\n      <td>[{'label': 'active', 'start': 0.0, 'end': 1.34...</td>\n    </tr>\n  </tbody>\n</table>\n</div>"
          },
          "metadata": {}
        }
      ],
      "execution_count": null
    },
    {
      "cell_type": "code",
      "source": [
        "# overlap\n",
        "compute_eer(merge_ana[merge_ana['mode'] == 'overlap'], labels_col = 'labels_x')"
      ],
      "metadata": {
        "trusted": true,
        "execution": {
          "iopub.status.busy": "2025-09-02T03:18:23.687551Z",
          "iopub.execute_input": "2025-09-02T03:18:23.687847Z",
          "iopub.status.idle": "2025-09-02T03:18:23.814047Z",
          "shell.execute_reply.started": "2025-09-02T03:18:23.687826Z",
          "shell.execute_reply": "2025-09-02T03:18:23.813411Z"
        },
        "id": "ayACjSZMxodR",
        "outputId": "2459b594-17b0-45a8-e670-447ce93644ec"
      },
      "outputs": [
        {
          "execution_count": 28,
          "output_type": "execute_result",
          "data": {
            "text/plain": "0.17907199411932762"
          },
          "metadata": {}
        }
      ],
      "execution_count": null
    },
    {
      "cell_type": "code",
      "source": [
        "# prepend\n",
        "compute_eer(merge_ana[merge_ana['mode'] == 'prepend'], labels_col = 'labels_x')"
      ],
      "metadata": {
        "trusted": true,
        "execution": {
          "iopub.status.busy": "2025-09-02T03:18:29.726991Z",
          "iopub.execute_input": "2025-09-02T03:18:29.727265Z",
          "iopub.status.idle": "2025-09-02T03:18:30.053826Z",
          "shell.execute_reply.started": "2025-09-02T03:18:29.727244Z",
          "shell.execute_reply": "2025-09-02T03:18:30.053218Z"
        },
        "id": "uVkKQ1UlxodR",
        "outputId": "d722f5c2-b3ce-4728-f694-50873737a39d"
      },
      "outputs": [
        {
          "execution_count": 29,
          "output_type": "execute_result",
          "data": {
            "text/plain": "0.12924584546322762"
          },
          "metadata": {}
        }
      ],
      "execution_count": null
    },
    {
      "cell_type": "code",
      "source": [
        "# append\n",
        "compute_eer(merge_ana[merge_ana['mode'] == 'append'], labels_col = 'labels_x')"
      ],
      "metadata": {
        "trusted": true,
        "execution": {
          "iopub.status.busy": "2025-09-02T03:18:32.33108Z",
          "iopub.execute_input": "2025-09-02T03:18:32.331363Z",
          "iopub.status.idle": "2025-09-02T03:18:32.960662Z",
          "shell.execute_reply.started": "2025-09-02T03:18:32.33134Z",
          "shell.execute_reply": "2025-09-02T03:18:32.960054Z"
        },
        "id": "4wtPoGpOxodR",
        "outputId": "0058e0b8-1f99-45f7-e58a-f8bb4dd3c8e3"
      },
      "outputs": [
        {
          "execution_count": 30,
          "output_type": "execute_result",
          "data": {
            "text/plain": "0.09820420307961622"
          },
          "metadata": {}
        }
      ],
      "execution_count": null
    },
    {
      "cell_type": "code",
      "source": [
        "# snr db (15, 20)\n",
        "# overlap\n",
        "compute_eer(merge_ana[merge_ana['snr_db'] > 15], labels_col = 'labels_x')"
      ],
      "metadata": {
        "trusted": true,
        "execution": {
          "iopub.status.busy": "2025-09-02T03:18:39.785801Z",
          "iopub.execute_input": "2025-09-02T03:18:39.786471Z",
          "iopub.status.idle": "2025-09-02T03:18:39.91177Z",
          "shell.execute_reply.started": "2025-09-02T03:18:39.786444Z",
          "shell.execute_reply": "2025-09-02T03:18:39.911051Z"
        },
        "id": "zRMvFBLYxodR",
        "outputId": "a30d14a3-f4dc-47d4-a5b6-8cb2a7bf2b2f"
      },
      "outputs": [
        {
          "execution_count": 31,
          "output_type": "execute_result",
          "data": {
            "text/plain": "0.10934261663058989"
          },
          "metadata": {}
        }
      ],
      "execution_count": null
    },
    {
      "cell_type": "code",
      "source": [
        "# snr db (10, 15)\n",
        "# overlap\n",
        "compute_eer(\n",
        "    merge_ana[(merge_ana['snr_db'] <= 15) & (merge_ana['snr_db'] > 10)],\n",
        "    labels_col='labels_x'\n",
        ")\n"
      ],
      "metadata": {
        "trusted": true,
        "execution": {
          "iopub.status.busy": "2025-09-02T03:18:44.610993Z",
          "iopub.execute_input": "2025-09-02T03:18:44.611706Z",
          "iopub.status.idle": "2025-09-02T03:18:44.872558Z",
          "shell.execute_reply.started": "2025-09-02T03:18:44.611683Z",
          "shell.execute_reply": "2025-09-02T03:18:44.872001Z"
        },
        "id": "W091c7sIxodV",
        "outputId": "400cdf23-bda1-425f-8bf4-4f5168c1a9af"
      },
      "outputs": [
        {
          "execution_count": 32,
          "output_type": "execute_result",
          "data": {
            "text/plain": "0.11469056022305985"
          },
          "metadata": {}
        }
      ],
      "execution_count": null
    },
    {
      "cell_type": "code",
      "source": [
        "# snr db (5, 10)\n",
        "# overlap\n",
        "compute_eer(\n",
        "    merge_ana[(merge_ana['snr_db'] <= 10) & (merge_ana['snr_db'] > 5)],\n",
        "    labels_col='labels_x'\n",
        ")\n"
      ],
      "metadata": {
        "trusted": true,
        "execution": {
          "iopub.status.busy": "2025-09-02T03:18:46.475719Z",
          "iopub.execute_input": "2025-09-02T03:18:46.476528Z",
          "iopub.status.idle": "2025-09-02T03:18:46.739522Z",
          "shell.execute_reply.started": "2025-09-02T03:18:46.476501Z",
          "shell.execute_reply": "2025-09-02T03:18:46.738941Z"
        },
        "id": "3r039gO0xodV",
        "outputId": "5c5703a9-523a-4c7a-9e7a-86c85e690d50"
      },
      "outputs": [
        {
          "execution_count": 33,
          "output_type": "execute_result",
          "data": {
            "text/plain": "0.12830544583012077"
          },
          "metadata": {}
        }
      ],
      "execution_count": null
    },
    {
      "cell_type": "code",
      "source": [
        "# snr db (0, 5)\n",
        "# overlap\n",
        "compute_eer(\n",
        "    merge_ana[(merge_ana['snr_db'] <= 5) & (merge_ana['snr_db'] > 0)],\n",
        "    labels_col='labels_x'\n",
        ")\n"
      ],
      "metadata": {
        "trusted": true,
        "execution": {
          "iopub.status.busy": "2025-09-02T03:18:48.505653Z",
          "iopub.execute_input": "2025-09-02T03:18:48.505925Z",
          "iopub.status.idle": "2025-09-02T03:18:48.781271Z",
          "shell.execute_reply.started": "2025-09-02T03:18:48.505905Z",
          "shell.execute_reply": "2025-09-02T03:18:48.780457Z"
        },
        "id": "6_7SHspoxodV",
        "outputId": "48458e16-d0e2-4ecc-9de7-f879ef3e5beb"
      },
      "outputs": [
        {
          "execution_count": 34,
          "output_type": "execute_result",
          "data": {
            "text/plain": "0.15151524447094394"
          },
          "metadata": {}
        }
      ],
      "execution_count": null
    },
    {
      "cell_type": "code",
      "source": [
        "# snr db (-5, 0)\n",
        "# overlap\n",
        "compute_eer(\n",
        "    merge_ana[(merge_ana['snr_db'] <= 0) & (merge_ana['snr_db'] > -5)],\n",
        "    labels_col='labels_x'\n",
        ")\n"
      ],
      "metadata": {
        "trusted": true,
        "execution": {
          "iopub.status.busy": "2025-09-02T03:18:50.209019Z",
          "iopub.execute_input": "2025-09-02T03:18:50.209295Z",
          "iopub.status.idle": "2025-09-02T03:18:50.471026Z",
          "shell.execute_reply.started": "2025-09-02T03:18:50.209273Z",
          "shell.execute_reply": "2025-09-02T03:18:50.470273Z"
        },
        "id": "cPMuBZhAxodV",
        "outputId": "166377ec-d8fe-43b2-abf1-0e3d335f2204"
      },
      "outputs": [
        {
          "execution_count": 35,
          "output_type": "execute_result",
          "data": {
            "text/plain": "0.17507771137225142"
          },
          "metadata": {}
        }
      ],
      "execution_count": null
    },
    {
      "cell_type": "markdown",
      "source": [
        "# Mode-SNR Analysis"
      ],
      "metadata": {
        "id": "9vjzSXbUxodW"
      }
    },
    {
      "cell_type": "code",
      "source": [
        "import pandas as pd\n",
        "\n",
        "# định nghĩa bins và labels\n",
        "bins = [-5, 0, 5, 10, 15, 20]\n",
        "labels = [\"-5→0\", \"0→5\", \"5→10\", \"10→15\", \"15→20\"]\n",
        "\n",
        "# thêm cột snr_range\n",
        "merge_ana['snr_range'] = pd.cut(\n",
        "    merge_ana['snr_db'],\n",
        "    bins=bins, labels=labels,\n",
        "    right=True, include_lowest=True\n",
        ")\n",
        "\n",
        "modes = merge_ana['mode'].unique()\n",
        "snr_ranges = merge_ana['snr_range'].cat.categories\n",
        "\n",
        "eer_matrix = pd.DataFrame(index=modes, columns=snr_ranges)\n",
        "\n",
        "# tính EER cho từng (mode, snr_range)\n",
        "for mode in modes:\n",
        "    for snr_range in snr_ranges:\n",
        "        df_sub = merge_ana[(merge_ana['mode'] == mode) & (merge_ana['snr_range'] == snr_range)]\n",
        "        if not df_sub.empty:\n",
        "            eer_matrix.loc[mode, snr_range] = compute_eer(df_sub, labels_col=\"labels_x\")\n",
        "        else:\n",
        "            eer_matrix.loc[mode, snr_range] = None\n",
        "\n",
        "# convert sang float để dễ tính toán\n",
        "eer_matrix = eer_matrix.astype(float)\n",
        "\n",
        "# thêm hàng tổng kết (mean theo snr_range)\n",
        "eer_matrix.loc['All modes'] = eer_matrix.mean(axis=0)\n",
        "\n",
        "# thêm cột tổng kết (mean theo mode)\n",
        "eer_matrix['All snr'] = eer_matrix.mean(axis=1)\n",
        "\n",
        "print(eer_matrix)\n"
      ],
      "metadata": {
        "trusted": true,
        "execution": {
          "iopub.status.busy": "2025-09-02T03:18:56.675536Z",
          "iopub.execute_input": "2025-09-02T03:18:56.67622Z",
          "iopub.status.idle": "2025-09-02T03:18:57.806767Z",
          "shell.execute_reply.started": "2025-09-02T03:18:56.676193Z",
          "shell.execute_reply": "2025-09-02T03:18:57.806045Z"
        },
        "id": "NZsRLCkqxodW",
        "outputId": "0f41d347-cce7-4c2d-98bf-6c662fc1f051"
      },
      "outputs": [
        {
          "name": "stdout",
          "text": "               -5→0       0→5      5→10     10→15     15→20   All snr\noverlap    0.291833  0.233378  0.159754  0.117109  0.094829  0.179381\nprepend    0.130707  0.133983  0.125821  0.123449  0.132041  0.129200\nappend     0.102441  0.096604  0.098581  0.098484  0.095093  0.098240\nAll modes  0.174993  0.154655  0.128052  0.113014  0.107321  0.135607\n",
          "output_type": "stream"
        }
      ],
      "execution_count": null
    },
    {
      "cell_type": "code",
      "source": [
        "import matplotlib.pyplot as plt\n",
        "import numpy as np\n",
        "\n",
        "# plot heatmap từ eer_matrix\n",
        "fig, ax = plt.subplots(figsize=(10, 6))\n",
        "\n",
        "# dữ liệu thành numpy array\n",
        "data = eer_matrix.values.astype(float)\n",
        "\n",
        "# heatmap\n",
        "im = ax.imshow(data, cmap=\"YlOrRd\", aspect=\"auto\")\n",
        "\n",
        "# ticks\n",
        "ax.set_xticks(np.arange(len(eer_matrix.columns)))\n",
        "ax.set_yticks(np.arange(len(eer_matrix.index)))\n",
        "ax.set_xticklabels(eer_matrix.columns, rotation=45, ha=\"right\")\n",
        "ax.set_yticklabels(eer_matrix.index)\n",
        "\n",
        "# annotation trong từng ô\n",
        "for i in range(data.shape[0]):\n",
        "    for j in range(data.shape[1]):\n",
        "        val = data[i, j]\n",
        "        if not np.isnan(val):\n",
        "            ax.text(j, i, f\"{val:.2f}\", ha=\"center\", va=\"center\", color=\"black\")\n",
        "\n",
        "# colorbar\n",
        "cbar = plt.colorbar(im, ax=ax)\n",
        "cbar.set_label(\"EER\")\n",
        "\n",
        "plt.title(\"EER Matrix by Mode & SNR Range\")\n",
        "plt.tight_layout()\n",
        "plt.show()\n"
      ],
      "metadata": {
        "trusted": true,
        "execution": {
          "iopub.status.busy": "2025-09-02T03:18:59.884995Z",
          "iopub.execute_input": "2025-09-02T03:18:59.885263Z",
          "iopub.status.idle": "2025-09-02T03:19:00.426543Z",
          "shell.execute_reply.started": "2025-09-02T03:18:59.885242Z",
          "shell.execute_reply": "2025-09-02T03:19:00.425791Z"
        },
        "id": "LbPpq9QjxodW",
        "outputId": "7f7f7677-5145-49ac-cd40-03fd643c4564"
      },
      "outputs": [
        {
          "output_type": "display_data",
          "data": {
            "text/plain": "<Figure size 1000x600 with 2 Axes>",
            "image/png": "[encoded data removed]"
          },
          "metadata": {}
        }
      ],
      "execution_count": null
    },
    {
      "cell_type": "code",
      "source": [
        "merge_ana.to_csv('res_analysis.csv', index = False)\n",
        "merge_ana.to_json(\"res_analysis.json\", orient='records', force_ascii=False)"
      ],
      "metadata": {
        "trusted": true,
        "execution": {
          "iopub.status.busy": "2025-09-02T03:19:18.062815Z",
          "iopub.execute_input": "2025-09-02T03:19:18.063529Z",
          "iopub.status.idle": "2025-09-02T03:20:03.588475Z",
          "shell.execute_reply.started": "2025-09-02T03:19:18.063504Z",
          "shell.execute_reply": "2025-09-02T03:20:03.587896Z"
        },
        "id": "mkC0wTxgxodW"
      },
      "outputs": [],
      "execution_count": null
    },
    {
      "cell_type": "markdown",
      "source": [
        "# Type-SNR Analysis"
      ],
      "metadata": {
        "id": "NFMIMkR3xodW"
      }
    },
    {
      "cell_type": "code",
      "source": [
        "merge_ana['type'] = merge_ana['id'].str.split('_').str[0:2].str.join('_')"
      ],
      "metadata": {
        "trusted": true,
        "execution": {
          "iopub.status.busy": "2025-09-02T03:20:33.187956Z",
          "iopub.execute_input": "2025-09-02T03:20:33.188492Z",
          "iopub.status.idle": "2025-09-02T03:20:33.212274Z",
          "shell.execute_reply.started": "2025-09-02T03:20:33.188464Z",
          "shell.execute_reply": "2025-09-02T03:20:33.211513Z"
        },
        "id": "jQwm4b0vxodW"
      },
      "outputs": [],
      "execution_count": null
    },
    {
      "cell_type": "code",
      "source": [
        "merge_ana['type'].unique()"
      ],
      "metadata": {
        "trusted": true,
        "execution": {
          "iopub.status.busy": "2025-09-02T03:20:34.522947Z",
          "iopub.execute_input": "2025-09-02T03:20:34.523218Z",
          "iopub.status.idle": "2025-09-02T03:20:34.52902Z",
          "shell.execute_reply.started": "2025-09-02T03:20:34.523198Z",
          "shell.execute_reply": "2025-09-02T03:20:34.528291Z"
        },
        "id": "Rh9-MIvfxodW",
        "outputId": "7c55335d-2545-4cd5-c98d-30c83e201e5f"
      },
      "outputs": [
        {
          "execution_count": 40,
          "output_type": "execute_result",
          "data": {
            "text/plain": "array(['single_active', 'single_mix', 'chain_active', 'chain_mix',\n       'non_active'], dtype=object)"
          },
          "metadata": {}
        }
      ],
      "execution_count": null
    },
    {
      "cell_type": "code",
      "source": [
        "import pandas as pd\n",
        "\n",
        "# định nghĩa bins và labels\n",
        "bins = [-5, 0, 5, 10, 15, 20]\n",
        "labels = [\"-5→0\", \"0→5\", \"5→10\", \"10→15\", \"15→20\"]\n",
        "\n",
        "# thêm cột snr_range\n",
        "merge_ana['snr_range'] = pd.cut(\n",
        "    merge_ana['snr_db'],\n",
        "    bins=bins, labels=labels,\n",
        "    right=True, include_lowest=True\n",
        ")\n",
        "\n",
        "modes = merge_ana['type'].unique()\n",
        "snr_ranges = merge_ana['snr_range'].cat.categories\n",
        "\n",
        "eer_matrix = pd.DataFrame(index=modes, columns=snr_ranges)\n",
        "\n",
        "# tính EER cho từng (mode, snr_range)\n",
        "for mode in modes:\n",
        "    for snr_range in snr_ranges:\n",
        "        df_sub = merge_ana[(merge_ana['type'] == mode) & (merge_ana['snr_range'] == snr_range)]\n",
        "        if not df_sub.empty:\n",
        "            eer_matrix.loc[mode, snr_range] = compute_eer(df_sub, labels_col=\"labels_x\")\n",
        "        else:\n",
        "            eer_matrix.loc[mode, snr_range] = None\n",
        "\n",
        "# convert sang float để dễ tính toán\n",
        "eer_matrix = eer_matrix.astype(float)\n",
        "\n",
        "# thêm hàng tổng kết (mean theo snr_range)\n",
        "eer_matrix.loc['All modes'] = eer_matrix.mean(axis=0)\n",
        "\n",
        "# thêm cột tổng kết (mean theo mode)\n",
        "eer_matrix['All snr'] = eer_matrix.mean(axis=1)\n",
        "\n",
        "print(eer_matrix)\n"
      ],
      "metadata": {
        "trusted": true,
        "execution": {
          "iopub.status.busy": "2025-09-02T03:20:35.687073Z",
          "iopub.execute_input": "2025-09-02T03:20:35.687806Z",
          "iopub.status.idle": "2025-09-02T03:20:36.600777Z",
          "shell.execute_reply.started": "2025-09-02T03:20:35.687781Z",
          "shell.execute_reply": "2025-09-02T03:20:36.599908Z"
        },
        "id": "4MkDW8NTxodW",
        "outputId": "842f048d-4c28-4665-c1d8-61556ebc9b2d"
      },
      "outputs": [
        {
          "name": "stdout",
          "text": "                   -5→0       0→5      5→10     10→15     15→20   All snr\nsingle_active  0.322033  0.278375  0.276737  0.251128  0.250419  0.275738\nsingle_mix     0.221699  0.214341  0.200232  0.187334  0.181202  0.200962\nchain_active   0.238294  0.206564  0.186274  0.168335  0.156109  0.191115\nchain_mix      0.175597  0.158269  0.123022  0.115583  0.109430  0.136380\nnon_active     0.013615  0.011730  0.009106  0.007719  0.007295  0.009893\nAll modes      0.194248  0.173856  0.159074  0.146020  0.140891  0.162818\n",
          "output_type": "stream"
        }
      ],
      "execution_count": null
    },
    {
      "cell_type": "code",
      "source": [
        "import matplotlib.pyplot as plt\n",
        "import numpy as np\n",
        "\n",
        "# plot heatmap từ eer_matrix\n",
        "fig, ax = plt.subplots(figsize=(10, 6))\n",
        "\n",
        "# dữ liệu thành numpy array\n",
        "data = eer_matrix.values.astype(float)\n",
        "\n",
        "# heatmap\n",
        "im = ax.imshow(data, cmap=\"YlOrRd\", aspect=\"auto\")\n",
        "\n",
        "# ticks\n",
        "ax.set_xticks(np.arange(len(eer_matrix.columns)))\n",
        "ax.set_yticks(np.arange(len(eer_matrix.index)))\n",
        "ax.set_xticklabels(eer_matrix.columns, rotation=45, ha=\"right\")\n",
        "ax.set_yticklabels(eer_matrix.index)\n",
        "\n",
        "# annotation trong từng ô\n",
        "for i in range(data.shape[0]):\n",
        "    for j in range(data.shape[1]):\n",
        "        val = data[i, j]\n",
        "        if not np.isnan(val):\n",
        "            ax.text(j, i, f\"{val:.2f}\", ha=\"center\", va=\"center\", color=\"black\")\n",
        "\n",
        "# colorbar\n",
        "cbar = plt.colorbar(im, ax=ax)\n",
        "cbar.set_label(\"EER\")\n",
        "\n",
        "plt.title(\"EER Matrix by Mode & SNR Range\")\n",
        "plt.tight_layout()\n",
        "plt.show()\n"
      ],
      "metadata": {
        "trusted": true,
        "execution": {
          "iopub.status.busy": "2025-09-02T03:22:09.670797Z",
          "iopub.execute_input": "2025-09-02T03:22:09.671093Z",
          "iopub.status.idle": "2025-09-02T03:22:09.949968Z",
          "shell.execute_reply.started": "2025-09-02T03:22:09.671059Z",
          "shell.execute_reply": "2025-09-02T03:22:09.949246Z"
        },
        "id": "-KCSIju_xodX",
        "outputId": "4172236e-95bd-42d1-af77-0faf84d0d960"
      },
      "outputs": [
        {
          "output_type": "display_data",
          "data": {
            "text/plain": "<Figure size 1000x600 with 2 Axes>",
            "image/png": "[encoded data removed]"
          },
          "metadata": {}
        }
      ],
      "execution_count": null
    },
    {
      "cell_type": "markdown",
      "source": [
        "# MODE-TYPE ANALYSIS"
      ],
      "metadata": {
        "id": "49F7bTg1xodX"
      }
    },
    {
      "cell_type": "code",
      "source": [
        "import pandas as pd\n",
        "\n",
        "# lấy unique values cho mode và type\n",
        "modes = merge_ana['mode'].unique()\n",
        "types = merge_ana['type'].unique()\n",
        "\n",
        "# tạo matrix với index = modes, columns = types\n",
        "eer_matrix = pd.DataFrame(index=modes, columns=types)\n",
        "\n",
        "# tính EER cho từng (mode, type)\n",
        "for mode in modes:\n",
        "    for t in types:\n",
        "        df_sub = merge_ana[(merge_ana['mode'] == mode) & (merge_ana['type'] == t)]\n",
        "        if not df_sub.empty:\n",
        "            eer_matrix.loc[mode, t] = compute_eer(df_sub, labels_col=\"labels_x\")\n",
        "        else:\n",
        "            eer_matrix.loc[mode, t] = None\n",
        "\n",
        "# convert sang float để dễ tính toán\n",
        "eer_matrix = eer_matrix.astype(float)\n",
        "\n",
        "# thêm hàng tổng kết (mean theo type)\n",
        "eer_matrix.loc['All modes'] = eer_matrix.mean(axis=0)\n",
        "\n",
        "# thêm cột tổng kết (mean theo mode)\n",
        "eer_matrix['All types'] = eer_matrix.mean(axis=1)\n",
        "\n",
        "print(eer_matrix)\n"
      ],
      "metadata": {
        "trusted": true,
        "execution": {
          "iopub.status.busy": "2025-09-02T03:28:28.181451Z",
          "iopub.execute_input": "2025-09-02T03:28:28.181749Z",
          "iopub.status.idle": "2025-09-02T03:28:29.165886Z",
          "shell.execute_reply.started": "2025-09-02T03:28:28.181727Z",
          "shell.execute_reply": "2025-09-02T03:28:29.165088Z"
        },
        "id": "9SQ7CkvdxodX",
        "outputId": "bf9b3090-e38e-4147-cbd5-005836af51e4"
      },
      "outputs": [
        {
          "name": "stdout",
          "text": "           single_active  single_mix  chain_active  chain_mix  non_active  \\\noverlap         0.114899    0.283673      0.102314   0.232294    0.014238   \nprepend         0.194352    0.191760      0.114503   0.140515    0.013112   \nappend          0.315732    0.152653      0.225795   0.072112    0.004499   \nAll modes       0.208328    0.209362      0.147537   0.148307    0.010617   \n\n           All types  \noverlap     0.149484  \nprepend     0.130848  \nappend      0.154158  \nAll modes   0.144830  \n",
          "output_type": "stream"
        }
      ],
      "execution_count": null
    },
    {
      "cell_type": "code",
      "source": [
        "import matplotlib.pyplot as plt\n",
        "import numpy as np\n",
        "\n",
        "# plot heatmap từ eer_matrix\n",
        "fig, ax = plt.subplots(figsize=(10, 6))\n",
        "\n",
        "# dữ liệu thành numpy array\n",
        "data = eer_matrix.values.astype(float)\n",
        "\n",
        "# heatmap\n",
        "im = ax.imshow(data, cmap=\"YlOrRd\", aspect=\"auto\")\n",
        "\n",
        "# ticks\n",
        "ax.set_xticks(np.arange(len(eer_matrix.columns)))\n",
        "ax.set_yticks(np.arange(len(eer_matrix.index)))\n",
        "ax.set_xticklabels(eer_matrix.columns, rotation=45, ha=\"right\")\n",
        "ax.set_yticklabels(eer_matrix.index)\n",
        "\n",
        "# annotation trong từng ô\n",
        "for i in range(data.shape[0]):\n",
        "    for j in range(data.shape[1]):\n",
        "        val = data[i, j]\n",
        "        if not np.isnan(val):\n",
        "            ax.text(j, i, f\"{val:.2f}\", ha=\"center\", va=\"center\", color=\"black\")\n",
        "\n",
        "# colorbar\n",
        "cbar = plt.colorbar(im, ax=ax)\n",
        "cbar.set_label(\"EER\")\n",
        "\n",
        "plt.title(\"EER Matrix by Mode & SNR Range\")\n",
        "plt.tight_layout()\n",
        "plt.show()\n"
      ],
      "metadata": {
        "trusted": true,
        "execution": {
          "iopub.status.busy": "2025-09-02T03:28:40.296739Z",
          "iopub.execute_input": "2025-09-02T03:28:40.296979Z",
          "iopub.status.idle": "2025-09-02T03:28:40.559933Z",
          "shell.execute_reply.started": "2025-09-02T03:28:40.296963Z",
          "shell.execute_reply": "2025-09-02T03:28:40.559252Z"
        },
        "id": "glVpU6MdxodX",
        "outputId": "9d300cca-6b2f-441d-8cc6-1da83d3aef80"
      },
      "outputs": [
        {
          "output_type": "display_data",
          "data": {
            "text/plain": "<Figure size 1000x600 with 2 Axes>",
            "image/png": "[encoded data removed]"
          },
          "metadata": {}
        }
      ],
      "execution_count": null
    },
    {
      "cell_type": "code",
      "source": [
        "id_samples = merge_ana[merge_ana['id'].str.startswith('chain_mix')].sample(40, random_state = 42)"
      ],
      "metadata": {
        "trusted": true,
        "execution": {
          "iopub.status.busy": "2025-09-02T04:29:37.704983Z",
          "iopub.execute_input": "2025-09-02T04:29:37.705269Z",
          "iopub.status.idle": "2025-09-02T04:29:37.719123Z",
          "shell.execute_reply.started": "2025-09-02T04:29:37.705245Z",
          "shell.execute_reply": "2025-09-02T04:29:37.71834Z"
        },
        "id": "O-P2Diy3xodX"
      },
      "outputs": [],
      "execution_count": null
    },
    {
      "cell_type": "code",
      "source": [
        "from IPython.display import Audio, display\n",
        "\n",
        "root_folder = root_path\n",
        "for idx, row in id_samples.iterrows():\n",
        "    id_sample = row['id']\n",
        "    for folder in os.listdir(root_folder):\n",
        "        check = False\n",
        "        if folder in id_sample:\n",
        "            for file in os.listdir(os.path.join(root_folder,folder)):\n",
        "                if file == f'{id_sample}.wav':\n",
        "                    print(row['preds'])\n",
        "                    print(row['labels_x'])\n",
        "                    print(row['f1'])\n",
        "                    print(row['snr_db'])\n",
        "                    # Tạo đối tượng audio\n",
        "                    sound = Audio(os.path.join(root_folder, folder, file))\n",
        "\n",
        "                    # Hiển thị đối tượng audio (có player)\n",
        "                    display(sound)\n",
        "                    check = True\n",
        "\n",
        "                    break\n",
        "        if check == True:\n",
        "            break"
      ],
      "metadata": {
        "trusted": true,
        "id": "QDGzqqbRxodY"
      },
      "outputs": [],
      "execution_count": null
    },
    {
      "cell_type": "markdown",
      "source": [
        "# WER"
      ],
      "metadata": {
        "id": "3Ni3Qf0XxodY"
      }
    },
    {
      "cell_type": "code",
      "source": [
        "!gdown 10uHbeqAO5uqOQV6eOXnTuS150MEUTDdk"
      ],
      "metadata": {
        "trusted": true,
        "execution": {
          "iopub.status.busy": "2025-09-02T04:50:03.514911Z",
          "iopub.execute_input": "2025-09-02T04:50:03.515444Z",
          "iopub.status.idle": "2025-09-02T04:50:17.802294Z",
          "shell.execute_reply.started": "2025-09-02T04:50:03.51542Z",
          "shell.execute_reply": "2025-09-02T04:50:17.801558Z"
        },
        "id": "h-BXQ85ixodY",
        "outputId": "50ae4a95-46a2-4542-f456-df2d76e246fe"
      },
      "outputs": [
        {
          "name": "stdout",
          "text": "Downloading...\nFrom (original): https://drive.google.com/uc?id=10uHbeqAO5uqOQV6eOXnTuS150MEUTDdk\nFrom (redirected): https://drive.google.com/uc?id=10uHbeqAO5uqOQV6eOXnTuS150MEUTDdk&confirm=t&uuid=b1cf9e89-d239-4d74-8e88-b361aee8a030\nTo: /kaggle/working/synthesis.zip\n100%|████████████████████████████████████████| 955M/955M [00:11<00:00, 82.9MB/s]\n",
          "output_type": "stream"
        }
      ],
      "execution_count": null
    },
    {
      "cell_type": "code",
      "source": [
        "!unzip -q synthesis.zip"
      ],
      "metadata": {
        "trusted": true,
        "execution": {
          "iopub.status.busy": "2025-09-02T04:50:39.400704Z",
          "iopub.execute_input": "2025-09-02T04:50:39.401663Z",
          "iopub.status.idle": "2025-09-02T04:50:45.6869Z",
          "shell.execute_reply.started": "2025-09-02T04:50:39.401615Z",
          "shell.execute_reply": "2025-09-02T04:50:45.686048Z"
        },
        "id": "Rc_39tbRxodY"
      },
      "outputs": [],
      "execution_count": null
    },
    {
      "cell_type": "code",
      "source": [
        "for file in os.listdir('synthesis'):\n",
        "    path = f\"synthesis/{file}\"\n",
        "    !unzip -q {path}"
      ],
      "metadata": {
        "trusted": true,
        "execution": {
          "iopub.status.busy": "2025-09-02T04:53:01.856265Z",
          "iopub.execute_input": "2025-09-02T04:53:01.856552Z",
          "iopub.status.idle": "2025-09-02T04:53:22.468512Z",
          "shell.execute_reply.started": "2025-09-02T04:53:01.856526Z",
          "shell.execute_reply": "2025-09-02T04:53:22.467687Z"
        },
        "id": "KifUgjJIxodY"
      },
      "outputs": [],
      "execution_count": null
    },
    {
      "cell_type": "code",
      "source": [],
      "metadata": {
        "trusted": true,
        "id": "O5aL01SExodY"
      },
      "outputs": [],
      "execution_count": null
    },
    {
      "cell_type": "code",
      "source": [
        "merge_ana.iloc[1]"
      ],
      "metadata": {
        "trusted": true,
        "execution": {
          "iopub.status.busy": "2025-09-02T04:46:23.18063Z",
          "iopub.execute_input": "2025-09-02T04:46:23.180945Z",
          "iopub.status.idle": "2025-09-02T04:46:23.187781Z",
          "shell.execute_reply.started": "2025-09-02T04:46:23.18092Z",
          "shell.execute_reply": "2025-09-02T04:46:23.187095Z"
        },
        "id": "s8WeoGJVxodZ",
        "outputId": "34f0b1a6-b729-4368-a084-4bc7cae8b9ac"
      },
      "outputs": [
        {
          "execution_count": 137,
          "output_type": "execute_result",
          "data": {
            "text/plain": "outputs       [0.047425874, 0.047425874, 0.047425874, 0.0474...\npreds         [0, 0, 0, 0, 0, 0, 0, 0, 0, 0, 0, 0, 0, 0, 0, ...\nlabels_x      [0, 0, 0, 0, 0, 0, 0, 0, 0, 0, 0, 0, 0, 0, 0, ...\npred_time                       [{'start': 1.55, 'end': 3.125}]\ntext                                                       None\nid                                single_active_bd116cf7_aug0-1\nprecision                                              0.858974\nrecall                                                      1.0\nf1                                                     0.924138\nclean_path    /content/concat_speech/sample/single_active_bd...\nnoise_path    /content/musan/speech/librivox/speech-librivox...\nmode                                                    prepend\nsnr_db                                                 0.609248\nlabels_y      [{'label': 'active', 'start': 1.78544425099277...\nsnr_range                                                   0→5\ntype                                              single_active\nName: 1, dtype: object"
          },
          "metadata": {}
        }
      ],
      "execution_count": null
    },
    {
      "cell_type": "code",
      "source": [],
      "metadata": {
        "trusted": true,
        "id": "SZH-asUuxodZ"
      },
      "outputs": [],
      "execution_count": null
    }
  ]
}
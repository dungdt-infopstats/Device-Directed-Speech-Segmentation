{
  "metadata": {
    "kernelspec": {
      "language": "python",
      "display_name": "Python 3",
      "name": "python3"
    },
    "language_info": {
      "name": "python",
      "version": "3.11.13",
      "mimetype": "text/x-python",
      "codemirror_mode": {
        "name": "ipython",
        "version": 3
      },
      "pygments_lexer": "ipython3",
      "nbconvert_exporter": "python",
      "file_extension": ".py"
    },
    "kaggle": {
      "accelerator": "none",
      "dataSources": [],
      "dockerImageVersionId": 31089,
      "isInternetEnabled": true,
      "language": "python",
      "sourceType": "notebook",
      "isGpuEnabled": false
    },
    "colab": {
      "name": "ResultAnalysis",
      "provenance": [],
      "include_colab_link": true
    }
  },
  "nbformat_minor": 0,
  "nbformat": 4,
  "cells": [
    {
      "cell_type": "markdown",
      "metadata": {
        "id": "view-in-github",
        "colab_type": "text"
      },
      "source": [
        "<a href=\"https://colab.research.google.com/github/10udCryp7/TV-command-synthesis/blob/main/notebooks/ResultAnalysis.ipynb\" target=\"_parent\"><img src=\"https://colab.research.google.com/assets/colab-badge.svg\" alt=\"Open In Colab\"/></a>"
      ]
    },
    {
      "cell_type": "code",
      "source": [
        "# res file\n",
        "!gdown 1iwHVUeXGHA8KFGu4ORjf_Yqx1d9SSo24"
      ],
      "metadata": {
        "trusted": true,
        "execution": {
          "iopub.status.busy": "2025-08-27T02:42:00.626806Z",
          "iopub.execute_input": "2025-08-27T02:42:00.627046Z",
          "iopub.status.idle": "2025-08-27T02:42:03.309012Z",
          "shell.execute_reply.started": "2025-08-27T02:42:00.627026Z",
          "shell.execute_reply": "2025-08-27T02:42:03.307966Z"
        },
        "id": "QpJAVIyenO7U",
        "outputId": "6244c692-6d51-469c-f616-613e4d375ac6"
      },
      "outputs": [
        {
          "name": "stdout",
          "text": "Downloading...\nFrom: https://drive.google.com/uc?id=1iwHVUeXGHA8KFGu4ORjf_Yqx1d9SSo24\nTo: /kaggle/working/df_res.csv\n100%|██████████████████████████████████████| 22.5k/22.5k [00:00<00:00, 33.0MB/s]\n",
          "output_type": "stream"
        }
      ],
      "execution_count": null
    },
    {
      "cell_type": "code",
      "source": [
        "# data\n",
        "!gdown 1uZEmyXo3OBza0rh5a5RVZexYFWcCjDu4"
      ],
      "metadata": {
        "trusted": true,
        "execution": {
          "iopub.status.busy": "2025-08-27T02:42:03.310322Z",
          "iopub.execute_input": "2025-08-27T02:42:03.310635Z",
          "iopub.status.idle": "2025-08-27T02:42:14.73642Z",
          "shell.execute_reply.started": "2025-08-27T02:42:03.3106Z",
          "shell.execute_reply": "2025-08-27T02:42:14.735271Z"
        },
        "id": "pPzlTF3znO7W",
        "outputId": "0a50e670-9116-4c1f-b80e-c9f14b0875c9"
      },
      "outputs": [
        {
          "name": "stdout",
          "text": "Downloading...\nFrom (original): https://drive.google.com/uc?id=1uZEmyXo3OBza0rh5a5RVZexYFWcCjDu4\nFrom (redirected): https://drive.google.com/uc?id=1uZEmyXo3OBza0rh5a5RVZexYFWcCjDu4&confirm=t&uuid=e58dc77c-a6c3-4800-b952-732da385714b\nTo: /kaggle/working/vctk_split.zip\n100%|████████████████████████████████████████| 407M/407M [00:08<00:00, 46.6MB/s]\n",
          "output_type": "stream"
        }
      ],
      "execution_count": null
    },
    {
      "cell_type": "code",
      "source": [
        "!unzip -q vctk_split.zip"
      ],
      "metadata": {
        "trusted": true,
        "execution": {
          "iopub.status.busy": "2025-08-27T02:42:14.738361Z",
          "iopub.execute_input": "2025-08-27T02:42:14.738632Z",
          "iopub.status.idle": "2025-08-27T02:42:21.388859Z",
          "shell.execute_reply.started": "2025-08-27T02:42:14.738607Z",
          "shell.execute_reply": "2025-08-27T02:42:21.387609Z"
        },
        "id": "GxQCn9r0nO7W"
      },
      "outputs": [],
      "execution_count": null
    },
    {
      "cell_type": "code",
      "source": [
        "import os\n",
        "import json\n",
        "import pandas as pd\n",
        "\n",
        "root_path = \"dataset_split/test/aug\"\n",
        "data_info = []\n",
        "for folder in os.listdir(root_path):\n",
        "    for file in os.listdir(os.path.join(root_path, folder)):\n",
        "        if file.endswith('.json'):\n",
        "            with open(os.path.join(root_path, folder, file), 'r') as f:\n",
        "                data = json.load(f)\n",
        "                data['id'] = folder\n",
        "                data_info.append(data)\n",
        "\n",
        "df_info = pd.DataFrame(data_info)"
      ],
      "metadata": {
        "trusted": true,
        "execution": {
          "iopub.status.busy": "2025-08-27T02:52:58.447432Z",
          "iopub.execute_input": "2025-08-27T02:52:58.447749Z",
          "iopub.status.idle": "2025-08-27T02:52:58.521923Z",
          "shell.execute_reply.started": "2025-08-27T02:52:58.447723Z",
          "shell.execute_reply": "2025-08-27T02:52:58.521215Z"
        },
        "id": "YknxgNzWnO7W"
      },
      "outputs": [],
      "execution_count": null
    },
    {
      "cell_type": "code",
      "source": [
        "df_info"
      ],
      "metadata": {
        "trusted": true,
        "execution": {
          "iopub.status.busy": "2025-08-27T02:52:59.527789Z",
          "iopub.execute_input": "2025-08-27T02:52:59.528066Z",
          "iopub.status.idle": "2025-08-27T02:52:59.546967Z",
          "shell.execute_reply.started": "2025-08-27T02:52:59.528046Z",
          "shell.execute_reply": "2025-08-27T02:52:59.545756Z"
        },
        "id": "aoRVGX3-nO7X",
        "outputId": "7f61a4ce-3844-4365-dfe4-6b972ae06aad"
      },
      "outputs": [
        {
          "execution_count": 19,
          "output_type": "execute_result",
          "data": {
            "text/plain": "                                            clean_path  \\\n0    /content/concat_speech/sample/chain_mix_5ede20...   \n1    /content/concat_speech/sample/chain_active_8d4...   \n2    /content/concat_speech/sample/non_active_6fc0f...   \n3    /content/concat_speech/sample/single_mix_3c0bf...   \n4    /content/concat_speech/sample/chain_active_f5f...   \n..                                                 ...   \n604  /content/concat_speech/sample/chain_active_f0c...   \n605  /content/concat_speech/sample/single_active_2c...   \n606  /content/concat_speech/sample/single_mix_ef5ac...   \n607  /content/concat_speech/sample/single_active_f4...   \n608  /content/concat_speech/sample/chain_active_838...   \n\n                                            noise_path     mode     snr_db  \\\n0    /content/musan/noise/free-sound/noise-free-sou...  overlap   1.733146   \n1    /content/musan/noise/free-sound/noise-free-sou...  overlap   8.878508   \n2    /content/musan/speech/librivox/speech-librivox...  overlap  19.349456   \n3    /content/musan/speech/us-gov/speech-us-gov-016...  prepend  14.619404   \n4    /content/musan/noise/free-sound/noise-free-sou...  overlap  10.795031   \n..                                                 ...      ...        ...   \n604  /content/musan/noise/free-sound/noise-free-sou...  overlap   0.874912   \n605  /content/musan/noise/free-sound/noise-free-sou...  overlap  18.288168   \n606  /content/musan/noise/free-sound/noise-free-sou...   append   2.553198   \n607  /content/musan/noise/free-sound/noise-free-sou...  overlap   1.769258   \n608  /content/musan/noise/free-sound/noise-free-sou...   append   5.833649   \n\n                                                labels                      id  \n0    [{'label': 'active', 'start': 0.0, 'end': 2.18...      chain_mix_5ede206a  \n1    [{'label': 'active', 'start': 0.0, 'end': 2.77...   chain_active_8d4ac324  \n2    [{'label': 'non_active', 'start': 0.0, 'end': ...     non_active_6fc0f539  \n3    [{'label': 'active', 'start': 3.60299391454343...     single_mix_3c0bf014  \n4     [{'label': 'active', 'start': 0.0, 'end': 4.96}]   chain_active_f5fac2ae  \n..                                                 ...                     ...  \n604  [{'label': 'active', 'start': 0.0, 'end': 1.35...   chain_active_f0cb82b4  \n605  [{'label': 'active', 'start': 0.0, 'end': 1.02...  single_active_2c8f7b1b  \n606  [{'label': 'active', 'start': 0.0, 'end': 1.17...     single_mix_ef5ac8df  \n607  [{'label': 'active', 'start': 0.0, 'end': 2.20...  single_active_f4e81ea3  \n608  [{'label': 'active', 'start': 0.0, 'end': 2.63...   chain_active_8382c2d6  \n\n[609 rows x 6 columns]",
            "text/html": "<div>\n<style scoped>\n    .dataframe tbody tr th:only-of-type {\n        vertical-align: middle;\n    }\n\n    .dataframe tbody tr th {\n        vertical-align: top;\n    }\n\n    .dataframe thead th {\n        text-align: right;\n    }\n</style>\n<table border=\"1\" class=\"dataframe\">\n  <thead>\n    <tr style=\"text-align: right;\">\n      <th></th>\n      <th>clean_path</th>\n      <th>noise_path</th>\n      <th>mode</th>\n      <th>snr_db</th>\n      <th>labels</th>\n      <th>id</th>\n    </tr>\n  </thead>\n  <tbody>\n    <tr>\n      <th>0</th>\n      <td>/content/concat_speech/sample/chain_mix_5ede20...</td>\n      <td>/content/musan/noise/free-sound/noise-free-sou...</td>\n      <td>overlap</td>\n      <td>1.733146</td>\n      <td>[{'label': 'active', 'start': 0.0, 'end': 2.18...</td>\n      <td>chain_mix_5ede206a</td>\n    </tr>\n    <tr>\n      <th>1</th>\n      <td>/content/concat_speech/sample/chain_active_8d4...</td>\n      <td>/content/musan/noise/free-sound/noise-free-sou...</td>\n      <td>overlap</td>\n      <td>8.878508</td>\n      <td>[{'label': 'active', 'start': 0.0, 'end': 2.77...</td>\n      <td>chain_active_8d4ac324</td>\n    </tr>\n    <tr>\n      <th>2</th>\n      <td>/content/concat_speech/sample/non_active_6fc0f...</td>\n      <td>/content/musan/speech/librivox/speech-librivox...</td>\n      <td>overlap</td>\n      <td>19.349456</td>\n      <td>[{'label': 'non_active', 'start': 0.0, 'end': ...</td>\n      <td>non_active_6fc0f539</td>\n    </tr>\n    <tr>\n      <th>3</th>\n      <td>/content/concat_speech/sample/single_mix_3c0bf...</td>\n      <td>/content/musan/speech/us-gov/speech-us-gov-016...</td>\n      <td>prepend</td>\n      <td>14.619404</td>\n      <td>[{'label': 'active', 'start': 3.60299391454343...</td>\n      <td>single_mix_3c0bf014</td>\n    </tr>\n    <tr>\n      <th>4</th>\n      <td>/content/concat_speech/sample/chain_active_f5f...</td>\n      <td>/content/musan/noise/free-sound/noise-free-sou...</td>\n      <td>overlap</td>\n      <td>10.795031</td>\n      <td>[{'label': 'active', 'start': 0.0, 'end': 4.96}]</td>\n      <td>chain_active_f5fac2ae</td>\n    </tr>\n    <tr>\n      <th>...</th>\n      <td>...</td>\n      <td>...</td>\n      <td>...</td>\n      <td>...</td>\n      <td>...</td>\n      <td>...</td>\n    </tr>\n    <tr>\n      <th>604</th>\n      <td>/content/concat_speech/sample/chain_active_f0c...</td>\n      <td>/content/musan/noise/free-sound/noise-free-sou...</td>\n      <td>overlap</td>\n      <td>0.874912</td>\n      <td>[{'label': 'active', 'start': 0.0, 'end': 1.35...</td>\n      <td>chain_active_f0cb82b4</td>\n    </tr>\n    <tr>\n      <th>605</th>\n      <td>/content/concat_speech/sample/single_active_2c...</td>\n      <td>/content/musan/noise/free-sound/noise-free-sou...</td>\n      <td>overlap</td>\n      <td>18.288168</td>\n      <td>[{'label': 'active', 'start': 0.0, 'end': 1.02...</td>\n      <td>single_active_2c8f7b1b</td>\n    </tr>\n    <tr>\n      <th>606</th>\n      <td>/content/concat_speech/sample/single_mix_ef5ac...</td>\n      <td>/content/musan/noise/free-sound/noise-free-sou...</td>\n      <td>append</td>\n      <td>2.553198</td>\n      <td>[{'label': 'active', 'start': 0.0, 'end': 1.17...</td>\n      <td>single_mix_ef5ac8df</td>\n    </tr>\n    <tr>\n      <th>607</th>\n      <td>/content/concat_speech/sample/single_active_f4...</td>\n      <td>/content/musan/noise/free-sound/noise-free-sou...</td>\n      <td>overlap</td>\n      <td>1.769258</td>\n      <td>[{'label': 'active', 'start': 0.0, 'end': 2.20...</td>\n      <td>single_active_f4e81ea3</td>\n    </tr>\n    <tr>\n      <th>608</th>\n      <td>/content/concat_speech/sample/chain_active_838...</td>\n      <td>/content/musan/noise/free-sound/noise-free-sou...</td>\n      <td>append</td>\n      <td>5.833649</td>\n      <td>[{'label': 'active', 'start': 0.0, 'end': 2.63...</td>\n      <td>chain_active_8382c2d6</td>\n    </tr>\n  </tbody>\n</table>\n<p>609 rows × 6 columns</p>\n</div>"
          },
          "metadata": {}
        }
      ],
      "execution_count": null
    },
    {
      "cell_type": "code",
      "source": [
        "NOISE_FOLDERS = [\n",
        "    \"/content/musan/speech/us-gov\",\n",
        "]"
      ],
      "metadata": {
        "trusted": true,
        "execution": {
          "iopub.status.busy": "2025-08-27T02:59:46.990331Z",
          "iopub.execute_input": "2025-08-27T02:59:46.991194Z",
          "iopub.status.idle": "2025-08-27T02:59:46.994846Z",
          "shell.execute_reply.started": "2025-08-27T02:59:46.991165Z",
          "shell.execute_reply": "2025-08-27T02:59:46.993877Z"
        },
        "id": "L9PBGzwgnO7X"
      },
      "outputs": [],
      "execution_count": null
    },
    {
      "cell_type": "code",
      "source": [
        "df_noise_speaker = df_info[\n",
        "    df_info['noise_path'].str.contains(NOISE_FOLDERS[0])\n",
        "]"
      ],
      "metadata": {
        "trusted": true,
        "execution": {
          "iopub.status.busy": "2025-08-27T02:59:55.116103Z",
          "iopub.execute_input": "2025-08-27T02:59:55.116864Z",
          "iopub.status.idle": "2025-08-27T02:59:55.122218Z",
          "shell.execute_reply.started": "2025-08-27T02:59:55.116837Z",
          "shell.execute_reply": "2025-08-27T02:59:55.121112Z"
        },
        "id": "ocSJvEOMnO7X"
      },
      "outputs": [],
      "execution_count": null
    },
    {
      "cell_type": "code",
      "source": [
        "df_noise_speaker"
      ],
      "metadata": {
        "trusted": true,
        "execution": {
          "iopub.status.busy": "2025-08-27T02:59:57.151556Z",
          "iopub.execute_input": "2025-08-27T02:59:57.151848Z",
          "iopub.status.idle": "2025-08-27T02:59:57.170192Z",
          "shell.execute_reply.started": "2025-08-27T02:59:57.151826Z",
          "shell.execute_reply": "2025-08-27T02:59:57.169488Z"
        },
        "id": "-25LnhYcnO7Y",
        "outputId": "b323b1b2-b093-4d4b-c833-2c8e9062ac79"
      },
      "outputs": [
        {
          "execution_count": 52,
          "output_type": "execute_result",
          "data": {
            "text/plain": "                                            clean_path  \\\n3    /content/concat_speech/sample/single_mix_3c0bf...   \n7    /content/concat_speech/sample/single_active_58...   \n10   /content/concat_speech/sample/single_mix_6597e...   \n11   /content/concat_speech/sample/non_active_7c3a5...   \n15   /content/concat_speech/sample/chain_active_93e...   \n..                                                 ...   \n571  /content/concat_speech/sample/non_active_f28a7...   \n575  /content/concat_speech/sample/single_active_bd...   \n585  /content/concat_speech/sample/single_active_6f...   \n597  /content/concat_speech/sample/single_active_89...   \n600  /content/concat_speech/sample/single_active_e8...   \n\n                                            noise_path     mode     snr_db  \\\n3    /content/musan/speech/us-gov/speech-us-gov-016...  prepend  14.619404   \n7    /content/musan/speech/us-gov/speech-us-gov-019...  overlap   7.463685   \n10   /content/musan/speech/us-gov/speech-us-gov-017...  overlap   4.328444   \n11   /content/musan/speech/us-gov/speech-us-gov-006...   append  14.369668   \n15   /content/musan/speech/us-gov/speech-us-gov-004...  overlap   0.376952   \n..                                                 ...      ...        ...   \n571  /content/musan/speech/us-gov/speech-us-gov-004...  overlap   5.115147   \n575  /content/musan/speech/us-gov/speech-us-gov-006...  overlap  16.675511   \n585  /content/musan/speech/us-gov/speech-us-gov-010...   append  12.397169   \n597  /content/musan/speech/us-gov/speech-us-gov-019...  overlap  17.348720   \n600  /content/musan/speech/us-gov/speech-us-gov-013...  prepend  10.234286   \n\n                                                labels                      id  \n3    [{'label': 'active', 'start': 3.60299391454343...     single_mix_3c0bf014  \n7    [{'label': 'active', 'start': 0.0, 'end': 1.98...  single_active_58494cb2  \n10   [{'label': 'active', 'start': 0.0, 'end': 1.05...     single_mix_6597e041  \n11   [{'label': 'non_active', 'start': 0.0, 'end': ...     non_active_7c3a5654  \n15   [{'label': 'active', 'start': 0.0, 'end': 2.45...   chain_active_93e317b6  \n..                                                 ...                     ...  \n571  [{'label': 'non_active', 'start': 0.0, 'end': ...     non_active_f28a7da4  \n575  [{'label': 'active', 'start': 0.0, 'end': 1.34...  single_active_bd116cf7  \n585  [{'label': 'active', 'start': 0.0, 'end': 0.91...  single_active_6f2bf00b  \n597  [{'label': 'active', 'start': 0.0, 'end': 1.56...  single_active_894ff365  \n600  [{'label': 'active', 'start': 2.88681641866963...  single_active_e8445c49  \n\n[105 rows x 6 columns]",
            "text/html": "<div>\n<style scoped>\n    .dataframe tbody tr th:only-of-type {\n        vertical-align: middle;\n    }\n\n    .dataframe tbody tr th {\n        vertical-align: top;\n    }\n\n    .dataframe thead th {\n        text-align: right;\n    }\n</style>\n<table border=\"1\" class=\"dataframe\">\n  <thead>\n    <tr style=\"text-align: right;\">\n      <th></th>\n      <th>clean_path</th>\n      <th>noise_path</th>\n      <th>mode</th>\n      <th>snr_db</th>\n      <th>labels</th>\n      <th>id</th>\n    </tr>\n  </thead>\n  <tbody>\n    <tr>\n      <th>3</th>\n      <td>/content/concat_speech/sample/single_mix_3c0bf...</td>\n      <td>/content/musan/speech/us-gov/speech-us-gov-016...</td>\n      <td>prepend</td>\n      <td>14.619404</td>\n      <td>[{'label': 'active', 'start': 3.60299391454343...</td>\n      <td>single_mix_3c0bf014</td>\n    </tr>\n    <tr>\n      <th>7</th>\n      <td>/content/concat_speech/sample/single_active_58...</td>\n      <td>/content/musan/speech/us-gov/speech-us-gov-019...</td>\n      <td>overlap</td>\n      <td>7.463685</td>\n      <td>[{'label': 'active', 'start': 0.0, 'end': 1.98...</td>\n      <td>single_active_58494cb2</td>\n    </tr>\n    <tr>\n      <th>10</th>\n      <td>/content/concat_speech/sample/single_mix_6597e...</td>\n      <td>/content/musan/speech/us-gov/speech-us-gov-017...</td>\n      <td>overlap</td>\n      <td>4.328444</td>\n      <td>[{'label': 'active', 'start': 0.0, 'end': 1.05...</td>\n      <td>single_mix_6597e041</td>\n    </tr>\n    <tr>\n      <th>11</th>\n      <td>/content/concat_speech/sample/non_active_7c3a5...</td>\n      <td>/content/musan/speech/us-gov/speech-us-gov-006...</td>\n      <td>append</td>\n      <td>14.369668</td>\n      <td>[{'label': 'non_active', 'start': 0.0, 'end': ...</td>\n      <td>non_active_7c3a5654</td>\n    </tr>\n    <tr>\n      <th>15</th>\n      <td>/content/concat_speech/sample/chain_active_93e...</td>\n      <td>/content/musan/speech/us-gov/speech-us-gov-004...</td>\n      <td>overlap</td>\n      <td>0.376952</td>\n      <td>[{'label': 'active', 'start': 0.0, 'end': 2.45...</td>\n      <td>chain_active_93e317b6</td>\n    </tr>\n    <tr>\n      <th>...</th>\n      <td>...</td>\n      <td>...</td>\n      <td>...</td>\n      <td>...</td>\n      <td>...</td>\n      <td>...</td>\n    </tr>\n    <tr>\n      <th>571</th>\n      <td>/content/concat_speech/sample/non_active_f28a7...</td>\n      <td>/content/musan/speech/us-gov/speech-us-gov-004...</td>\n      <td>overlap</td>\n      <td>5.115147</td>\n      <td>[{'label': 'non_active', 'start': 0.0, 'end': ...</td>\n      <td>non_active_f28a7da4</td>\n    </tr>\n    <tr>\n      <th>575</th>\n      <td>/content/concat_speech/sample/single_active_bd...</td>\n      <td>/content/musan/speech/us-gov/speech-us-gov-006...</td>\n      <td>overlap</td>\n      <td>16.675511</td>\n      <td>[{'label': 'active', 'start': 0.0, 'end': 1.34...</td>\n      <td>single_active_bd116cf7</td>\n    </tr>\n    <tr>\n      <th>585</th>\n      <td>/content/concat_speech/sample/single_active_6f...</td>\n      <td>/content/musan/speech/us-gov/speech-us-gov-010...</td>\n      <td>append</td>\n      <td>12.397169</td>\n      <td>[{'label': 'active', 'start': 0.0, 'end': 0.91...</td>\n      <td>single_active_6f2bf00b</td>\n    </tr>\n    <tr>\n      <th>597</th>\n      <td>/content/concat_speech/sample/single_active_89...</td>\n      <td>/content/musan/speech/us-gov/speech-us-gov-019...</td>\n      <td>overlap</td>\n      <td>17.348720</td>\n      <td>[{'label': 'active', 'start': 0.0, 'end': 1.56...</td>\n      <td>single_active_894ff365</td>\n    </tr>\n    <tr>\n      <th>600</th>\n      <td>/content/concat_speech/sample/single_active_e8...</td>\n      <td>/content/musan/speech/us-gov/speech-us-gov-013...</td>\n      <td>prepend</td>\n      <td>10.234286</td>\n      <td>[{'label': 'active', 'start': 2.88681641866963...</td>\n      <td>single_active_e8445c49</td>\n    </tr>\n  </tbody>\n</table>\n<p>105 rows × 6 columns</p>\n</div>"
          },
          "metadata": {}
        }
      ],
      "execution_count": null
    },
    {
      "cell_type": "code",
      "source": [
        "df_res = pd.read_csv('df_res.csv', index_col = 0)"
      ],
      "metadata": {
        "trusted": true,
        "execution": {
          "iopub.status.busy": "2025-08-27T03:00:00.80277Z",
          "iopub.execute_input": "2025-08-27T03:00:00.803087Z",
          "iopub.status.idle": "2025-08-27T03:00:00.811019Z",
          "shell.execute_reply.started": "2025-08-27T03:00:00.803063Z",
          "shell.execute_reply": "2025-08-27T03:00:00.810063Z"
        },
        "id": "aSjp143BnO7Y"
      },
      "outputs": [],
      "execution_count": null
    },
    {
      "cell_type": "code",
      "source": [
        "merge = pd.merge(df_noise_speaker, df_res, on = 'id')"
      ],
      "metadata": {
        "trusted": true,
        "execution": {
          "iopub.status.busy": "2025-08-27T03:00:01.506876Z",
          "iopub.execute_input": "2025-08-27T03:00:01.50719Z",
          "iopub.status.idle": "2025-08-27T03:00:01.515047Z",
          "shell.execute_reply.started": "2025-08-27T03:00:01.507168Z",
          "shell.execute_reply": "2025-08-27T03:00:01.514211Z"
        },
        "id": "3OX2P7GanO7Y"
      },
      "outputs": [],
      "execution_count": null
    },
    {
      "cell_type": "code",
      "source": [
        "merge"
      ],
      "metadata": {
        "trusted": true,
        "execution": {
          "iopub.status.busy": "2025-08-27T03:00:02.600391Z",
          "iopub.execute_input": "2025-08-27T03:00:02.600707Z",
          "iopub.status.idle": "2025-08-27T03:00:02.620168Z",
          "shell.execute_reply.started": "2025-08-27T03:00:02.600674Z",
          "shell.execute_reply": "2025-08-27T03:00:02.619192Z"
        },
        "id": "0kXObCZbnO7Y",
        "outputId": "b143d8fb-c757-490f-ef60-0ce95a24466d"
      },
      "outputs": [
        {
          "execution_count": 55,
          "output_type": "execute_result",
          "data": {
            "text/plain": "                                            clean_path  \\\n0    /content/concat_speech/sample/single_mix_3c0bf...   \n1    /content/concat_speech/sample/single_active_58...   \n2    /content/concat_speech/sample/single_mix_6597e...   \n3    /content/concat_speech/sample/non_active_7c3a5...   \n4    /content/concat_speech/sample/chain_active_93e...   \n..                                                 ...   \n100  /content/concat_speech/sample/non_active_f28a7...   \n101  /content/concat_speech/sample/single_active_bd...   \n102  /content/concat_speech/sample/single_active_6f...   \n103  /content/concat_speech/sample/single_active_89...   \n104  /content/concat_speech/sample/single_active_e8...   \n\n                                            noise_path     mode     snr_db  \\\n0    /content/musan/speech/us-gov/speech-us-gov-016...  prepend  14.619404   \n1    /content/musan/speech/us-gov/speech-us-gov-019...  overlap   7.463685   \n2    /content/musan/speech/us-gov/speech-us-gov-017...  overlap   4.328444   \n3    /content/musan/speech/us-gov/speech-us-gov-006...   append  14.369668   \n4    /content/musan/speech/us-gov/speech-us-gov-004...  overlap   0.376952   \n..                                                 ...      ...        ...   \n100  /content/musan/speech/us-gov/speech-us-gov-004...  overlap   5.115147   \n101  /content/musan/speech/us-gov/speech-us-gov-006...  overlap  16.675511   \n102  /content/musan/speech/us-gov/speech-us-gov-010...   append  12.397169   \n103  /content/musan/speech/us-gov/speech-us-gov-019...  overlap  17.348720   \n104  /content/musan/speech/us-gov/speech-us-gov-013...  prepend  10.234286   \n\n                                                labels  \\\n0    [{'label': 'active', 'start': 3.60299391454343...   \n1    [{'label': 'active', 'start': 0.0, 'end': 1.98...   \n2    [{'label': 'active', 'start': 0.0, 'end': 1.05...   \n3    [{'label': 'non_active', 'start': 0.0, 'end': ...   \n4    [{'label': 'active', 'start': 0.0, 'end': 2.45...   \n..                                                 ...   \n100  [{'label': 'non_active', 'start': 0.0, 'end': ...   \n101  [{'label': 'active', 'start': 0.0, 'end': 1.34...   \n102  [{'label': 'active', 'start': 0.0, 'end': 0.91...   \n103  [{'label': 'active', 'start': 0.0, 'end': 1.56...   \n104  [{'label': 'active', 'start': 2.88681641866963...   \n\n                         id       acc  \n0       single_mix_3c0bf014  0.822064  \n1    single_active_58494cb2  1.000000  \n2       single_mix_6597e041  0.449275  \n3       non_active_7c3a5654  1.000000  \n4     chain_active_93e317b6  0.000000  \n..                      ...       ...  \n100     non_active_f28a7da4  1.000000  \n101  single_active_bd116cf7  1.000000  \n102  single_active_6f2bf00b  0.840517  \n103  single_active_894ff365  1.000000  \n104  single_active_e8445c49  0.759259  \n\n[105 rows x 7 columns]",
            "text/html": "<div>\n<style scoped>\n    .dataframe tbody tr th:only-of-type {\n        vertical-align: middle;\n    }\n\n    .dataframe tbody tr th {\n        vertical-align: top;\n    }\n\n    .dataframe thead th {\n        text-align: right;\n    }\n</style>\n<table border=\"1\" class=\"dataframe\">\n  <thead>\n    <tr style=\"text-align: right;\">\n      <th></th>\n      <th>clean_path</th>\n      <th>noise_path</th>\n      <th>mode</th>\n      <th>snr_db</th>\n      <th>labels</th>\n      <th>id</th>\n      <th>acc</th>\n    </tr>\n  </thead>\n  <tbody>\n    <tr>\n      <th>0</th>\n      <td>/content/concat_speech/sample/single_mix_3c0bf...</td>\n      <td>/content/musan/speech/us-gov/speech-us-gov-016...</td>\n      <td>prepend</td>\n      <td>14.619404</td>\n      <td>[{'label': 'active', 'start': 3.60299391454343...</td>\n      <td>single_mix_3c0bf014</td>\n      <td>0.822064</td>\n    </tr>\n    <tr>\n      <th>1</th>\n      <td>/content/concat_speech/sample/single_active_58...</td>\n      <td>/content/musan/speech/us-gov/speech-us-gov-019...</td>\n      <td>overlap</td>\n      <td>7.463685</td>\n      <td>[{'label': 'active', 'start': 0.0, 'end': 1.98...</td>\n      <td>single_active_58494cb2</td>\n      <td>1.000000</td>\n    </tr>\n    <tr>\n      <th>2</th>\n      <td>/content/concat_speech/sample/single_mix_6597e...</td>\n      <td>/content/musan/speech/us-gov/speech-us-gov-017...</td>\n      <td>overlap</td>\n      <td>4.328444</td>\n      <td>[{'label': 'active', 'start': 0.0, 'end': 1.05...</td>\n      <td>single_mix_6597e041</td>\n      <td>0.449275</td>\n    </tr>\n    <tr>\n      <th>3</th>\n      <td>/content/concat_speech/sample/non_active_7c3a5...</td>\n      <td>/content/musan/speech/us-gov/speech-us-gov-006...</td>\n      <td>append</td>\n      <td>14.369668</td>\n      <td>[{'label': 'non_active', 'start': 0.0, 'end': ...</td>\n      <td>non_active_7c3a5654</td>\n      <td>1.000000</td>\n    </tr>\n    <tr>\n      <th>4</th>\n      <td>/content/concat_speech/sample/chain_active_93e...</td>\n      <td>/content/musan/speech/us-gov/speech-us-gov-004...</td>\n      <td>overlap</td>\n      <td>0.376952</td>\n      <td>[{'label': 'active', 'start': 0.0, 'end': 2.45...</td>\n      <td>chain_active_93e317b6</td>\n      <td>0.000000</td>\n    </tr>\n    <tr>\n      <th>...</th>\n      <td>...</td>\n      <td>...</td>\n      <td>...</td>\n      <td>...</td>\n      <td>...</td>\n      <td>...</td>\n      <td>...</td>\n    </tr>\n    <tr>\n      <th>100</th>\n      <td>/content/concat_speech/sample/non_active_f28a7...</td>\n      <td>/content/musan/speech/us-gov/speech-us-gov-004...</td>\n      <td>overlap</td>\n      <td>5.115147</td>\n      <td>[{'label': 'non_active', 'start': 0.0, 'end': ...</td>\n      <td>non_active_f28a7da4</td>\n      <td>1.000000</td>\n    </tr>\n    <tr>\n      <th>101</th>\n      <td>/content/concat_speech/sample/single_active_bd...</td>\n      <td>/content/musan/speech/us-gov/speech-us-gov-006...</td>\n      <td>overlap</td>\n      <td>16.675511</td>\n      <td>[{'label': 'active', 'start': 0.0, 'end': 1.34...</td>\n      <td>single_active_bd116cf7</td>\n      <td>1.000000</td>\n    </tr>\n    <tr>\n      <th>102</th>\n      <td>/content/concat_speech/sample/single_active_6f...</td>\n      <td>/content/musan/speech/us-gov/speech-us-gov-010...</td>\n      <td>append</td>\n      <td>12.397169</td>\n      <td>[{'label': 'active', 'start': 0.0, 'end': 0.91...</td>\n      <td>single_active_6f2bf00b</td>\n      <td>0.840517</td>\n    </tr>\n    <tr>\n      <th>103</th>\n      <td>/content/concat_speech/sample/single_active_89...</td>\n      <td>/content/musan/speech/us-gov/speech-us-gov-019...</td>\n      <td>overlap</td>\n      <td>17.348720</td>\n      <td>[{'label': 'active', 'start': 0.0, 'end': 1.56...</td>\n      <td>single_active_894ff365</td>\n      <td>1.000000</td>\n    </tr>\n    <tr>\n      <th>104</th>\n      <td>/content/concat_speech/sample/single_active_e8...</td>\n      <td>/content/musan/speech/us-gov/speech-us-gov-013...</td>\n      <td>prepend</td>\n      <td>10.234286</td>\n      <td>[{'label': 'active', 'start': 2.88681641866963...</td>\n      <td>single_active_e8445c49</td>\n      <td>0.759259</td>\n    </tr>\n  </tbody>\n</table>\n<p>105 rows × 7 columns</p>\n</div>"
          },
          "metadata": {}
        }
      ],
      "execution_count": null
    },
    {
      "cell_type": "code",
      "source": [
        "merge[merge['id'].str.contains('chain_mix')]['acc'].mean()"
      ],
      "metadata": {
        "trusted": true,
        "execution": {
          "iopub.status.busy": "2025-08-27T03:06:49.677282Z",
          "iopub.execute_input": "2025-08-27T03:06:49.677597Z",
          "iopub.status.idle": "2025-08-27T03:06:49.685358Z",
          "shell.execute_reply.started": "2025-08-27T03:06:49.677575Z",
          "shell.execute_reply": "2025-08-27T03:06:49.684409Z"
        },
        "id": "zUalspbknO7Z",
        "outputId": "41254417-7fcc-4195-8a59-131c09c6e470"
      },
      "outputs": [
        {
          "execution_count": 82,
          "output_type": "execute_result",
          "data": {
            "text/plain": "0.8166903141472075"
          },
          "metadata": {}
        }
      ],
      "execution_count": null
    },
    {
      "cell_type": "code",
      "source": [
        "merge[merge['id'].str.contains('chain_mix')]['acc'].mean()"
      ],
      "metadata": {
        "trusted": true,
        "id": "dcuinGIrnO7Z"
      },
      "outputs": [],
      "execution_count": null
    },
    {
      "cell_type": "code",
      "source": [
        "df_res['acc'].mean()"
      ],
      "metadata": {
        "trusted": true,
        "execution": {
          "iopub.status.busy": "2025-08-27T02:57:40.718114Z",
          "iopub.execute_input": "2025-08-27T02:57:40.718738Z",
          "iopub.status.idle": "2025-08-27T02:57:40.724587Z",
          "shell.execute_reply.started": "2025-08-27T02:57:40.718712Z",
          "shell.execute_reply": "2025-08-27T02:57:40.723711Z"
        },
        "id": "R7vrFTcunO7Z",
        "outputId": "0b19c50d-b79e-4bb3-da7f-581bdd85485b"
      },
      "outputs": [
        {
          "execution_count": 34,
          "output_type": "execute_result",
          "data": {
            "text/plain": "0.8868148686694615"
          },
          "metadata": {}
        }
      ],
      "execution_count": null
    },
    {
      "cell_type": "code",
      "source": [
        "merge[(merge['mode'] == 'prepend') & (merge['snr_db'] < 10)]['acc'].mean()"
      ],
      "metadata": {
        "trusted": true,
        "execution": {
          "iopub.status.busy": "2025-08-27T03:14:26.537639Z",
          "iopub.execute_input": "2025-08-27T03:14:26.537966Z",
          "iopub.status.idle": "2025-08-27T03:14:26.545761Z",
          "shell.execute_reply.started": "2025-08-27T03:14:26.537944Z",
          "shell.execute_reply": "2025-08-27T03:14:26.544828Z"
        },
        "id": "VSyPiXjrnO7Z",
        "outputId": "2a780361-2c51-44ad-e89d-7f489c0e7377"
      },
      "outputs": [
        {
          "execution_count": 95,
          "output_type": "execute_result",
          "data": {
            "text/plain": "0.9011928493326361"
          },
          "metadata": {}
        }
      ],
      "execution_count": null
    },
    {
      "cell_type": "code",
      "source": [
        "merge[(merge['mode'] == 'overlap') & (merge['snr_db'] < 2)]['acc'].mean()"
      ],
      "metadata": {
        "trusted": true,
        "execution": {
          "iopub.status.busy": "2025-08-27T03:13:20.888123Z",
          "iopub.execute_input": "2025-08-27T03:13:20.888798Z",
          "iopub.status.idle": "2025-08-27T03:13:20.895546Z",
          "shell.execute_reply.started": "2025-08-27T03:13:20.888768Z",
          "shell.execute_reply": "2025-08-27T03:13:20.894616Z"
        },
        "id": "pn5e-jnjnO7Z",
        "outputId": "74f9dd12-8f58-4363-84f3-f15a1b255caf"
      },
      "outputs": [
        {
          "execution_count": 89,
          "output_type": "execute_result",
          "data": {
            "text/plain": "0.5339877963066101"
          },
          "metadata": {}
        }
      ],
      "execution_count": null
    },
    {
      "cell_type": "code",
      "source": [
        "merge[(merge['mode'] == 'append') & (merge['snr_db'] < 2)]['acc'].mean()"
      ],
      "metadata": {
        "trusted": true,
        "execution": {
          "iopub.status.busy": "2025-08-27T03:13:27.747147Z",
          "iopub.execute_input": "2025-08-27T03:13:27.747517Z",
          "iopub.status.idle": "2025-08-27T03:13:27.755855Z",
          "shell.execute_reply.started": "2025-08-27T03:13:27.74749Z",
          "shell.execute_reply": "2025-08-27T03:13:27.754716Z"
        },
        "id": "Y8g-8xKdnO7Z",
        "outputId": "956a7b82-f82f-4a40-bdd9-a74619fc6a53"
      },
      "outputs": [
        {
          "execution_count": 90,
          "output_type": "execute_result",
          "data": {
            "text/plain": "0.6057326296965281"
          },
          "metadata": {}
        }
      ],
      "execution_count": null
    },
    {
      "cell_type": "code",
      "source": [],
      "metadata": {
        "trusted": true,
        "id": "XPk5hb4lnO7Z"
      },
      "outputs": [],
      "execution_count": null
    }
  ]
}